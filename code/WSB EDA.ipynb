{
 "cells": [
  {
   "cell_type": "code",
   "execution_count": 230,
   "metadata": {},
   "outputs": [
    {
     "data": {
      "text/html": [
       "        <script type=\"text/javascript\">\n",
       "        window.PlotlyConfig = {MathJaxConfig: 'local'};\n",
       "        if (window.MathJax) {MathJax.Hub.Config({SVG: {font: \"STIX-Web\"}});}\n",
       "        if (typeof require !== 'undefined') {\n",
       "        require.undef(\"plotly\");\n",
       "        requirejs.config({\n",
       "            paths: {\n",
       "                'plotly': ['https://cdn.plot.ly/plotly-latest.min']\n",
       "            }\n",
       "        });\n",
       "        require(['plotly'], function(Plotly) {\n",
       "            window._Plotly = Plotly;\n",
       "        });\n",
       "        }\n",
       "        </script>\n",
       "        "
      ]
     },
     "metadata": {},
     "output_type": "display_data"
    }
   ],
   "source": [
    "import pandas as pd\n",
    "import numpy as np\n",
    "import matplotlib.pyplot as plt\n",
    "plt.style.use('ggplot')\n",
    "%matplotlib inline\n",
    "from datetime import datetime\n",
    "import re\n",
    "import nltk\n",
    "from nltk.corpus import stopwords\n",
    "from scipy import stats\n",
    "import plotly as py\n",
    "import plotly.graph_objs as go\n",
    "import ipywidgets as widgets\n",
    "import plotly.express as px\n",
    "import plotly.io as pio\n",
    "\n",
    "from plotly.subplots import make_subplots\n",
    "py.offline.init_notebook_mode(connected=True)\n",
    "stopwords = set(stopwords.words('english'))\n",
    "from wordcloud import WordCloud\n",
    "\n"
   ]
  },
  {
   "cell_type": "code",
   "execution_count": 40,
   "metadata": {
    "scrolled": false
   },
   "outputs": [
    {
     "data": {
      "text/html": [
       "<div>\n",
       "<style scoped>\n",
       "    .dataframe tbody tr th:only-of-type {\n",
       "        vertical-align: middle;\n",
       "    }\n",
       "\n",
       "    .dataframe tbody tr th {\n",
       "        vertical-align: top;\n",
       "    }\n",
       "\n",
       "    .dataframe thead th {\n",
       "        text-align: right;\n",
       "    }\n",
       "</style>\n",
       "<table border=\"1\" class=\"dataframe\">\n",
       "  <thead>\n",
       "    <tr style=\"text-align: right;\">\n",
       "      <th></th>\n",
       "      <th>Unnamed: 0</th>\n",
       "      <th>title</th>\n",
       "      <th>author</th>\n",
       "      <th>scores</th>\n",
       "      <th>comments</th>\n",
       "      <th>timestamp</th>\n",
       "      <th>date</th>\n",
       "      <th>date_hour</th>\n",
       "    </tr>\n",
       "  </thead>\n",
       "  <tbody>\n",
       "    <tr>\n",
       "      <th>0</th>\n",
       "      <td>0</td>\n",
       "      <td>[whats, going, on, with, pltr]</td>\n",
       "      <td>Zaccko98</td>\n",
       "      <td>1</td>\n",
       "      <td>2</td>\n",
       "      <td>2021-02-16 04:53:12</td>\n",
       "      <td>2021-02-16</td>\n",
       "      <td>2021-02-16 04:00:00</td>\n",
       "    </tr>\n",
       "    <tr>\n",
       "      <th>1</th>\n",
       "      <td>1</td>\n",
       "      <td>[need, explanations, on, level, , data, for, g...</td>\n",
       "      <td>toutoucnc</td>\n",
       "      <td>1</td>\n",
       "      <td>2</td>\n",
       "      <td>2021-02-16 04:53:09</td>\n",
       "      <td>2021-02-16</td>\n",
       "      <td>2021-02-16 04:00:00</td>\n",
       "    </tr>\n",
       "    <tr>\n",
       "      <th>2</th>\n",
       "      <td>2</td>\n",
       "      <td>[xrt, is, being, used, as, a, laundry, short, ...</td>\n",
       "      <td>thabat</td>\n",
       "      <td>1</td>\n",
       "      <td>2</td>\n",
       "      <td>2021-02-16 04:52:46</td>\n",
       "      <td>2021-02-16</td>\n",
       "      <td>2021-02-16 04:00:00</td>\n",
       "    </tr>\n",
       "    <tr>\n",
       "      <th>3</th>\n",
       "      <td>3</td>\n",
       "      <td>[airlines]</td>\n",
       "      <td>AsianTwink_</td>\n",
       "      <td>1</td>\n",
       "      <td>2</td>\n",
       "      <td>2021-02-16 04:52:45</td>\n",
       "      <td>2021-02-16</td>\n",
       "      <td>2021-02-16 04:00:00</td>\n",
       "    </tr>\n",
       "    <tr>\n",
       "      <th>4</th>\n",
       "      <td>4</td>\n",
       "      <td>[buy, trxc, ]</td>\n",
       "      <td>Oneverystreet8</td>\n",
       "      <td>1</td>\n",
       "      <td>2</td>\n",
       "      <td>2021-02-16 04:52:44</td>\n",
       "      <td>2021-02-16</td>\n",
       "      <td>2021-02-16 04:00:00</td>\n",
       "    </tr>\n",
       "    <tr>\n",
       "      <th>...</th>\n",
       "      <td>...</td>\n",
       "      <td>...</td>\n",
       "      <td>...</td>\n",
       "      <td>...</td>\n",
       "      <td>...</td>\n",
       "      <td>...</td>\n",
       "      <td>...</td>\n",
       "      <td>...</td>\n",
       "    </tr>\n",
       "    <tr>\n",
       "      <th>572902</th>\n",
       "      <td>579469</td>\n",
       "      <td>[buying, calls, is, not, the, way, do, you, ne...</td>\n",
       "      <td>cheaptissueburlap</td>\n",
       "      <td>1</td>\n",
       "      <td>5</td>\n",
       "      <td>2020-12-31 16:24:38</td>\n",
       "      <td>2020-12-31</td>\n",
       "      <td>2020-12-31 16:00:00</td>\n",
       "    </tr>\n",
       "    <tr>\n",
       "      <th>572903</th>\n",
       "      <td>579470</td>\n",
       "      <td>[options, are, not, the, way, do, you, need, t...</td>\n",
       "      <td>cheaptissueburlap</td>\n",
       "      <td>1</td>\n",
       "      <td>0</td>\n",
       "      <td>2020-12-31 16:23:28</td>\n",
       "      <td>2020-12-31</td>\n",
       "      <td>2020-12-31 16:00:00</td>\n",
       "    </tr>\n",
       "    <tr>\n",
       "      <th>572904</th>\n",
       "      <td>579471</td>\n",
       "      <td>[thank, you, degenerates, for, a, huge, , cant...</td>\n",
       "      <td>kds0321</td>\n",
       "      <td>1</td>\n",
       "      <td>0</td>\n",
       "      <td>2020-12-31 16:22:31</td>\n",
       "      <td>2020-12-31</td>\n",
       "      <td>2020-12-31 16:00:00</td>\n",
       "    </tr>\n",
       "    <tr>\n",
       "      <th>572905</th>\n",
       "      <td>579472</td>\n",
       "      <td>[you, might, need, to, hear, this, f]</td>\n",
       "      <td>cheaptissueburlap</td>\n",
       "      <td>1</td>\n",
       "      <td>0</td>\n",
       "      <td>2020-12-31 16:21:52</td>\n",
       "      <td>2020-12-31</td>\n",
       "      <td>2020-12-31 16:00:00</td>\n",
       "    </tr>\n",
       "    <tr>\n",
       "      <th>572906</th>\n",
       "      <td>579473</td>\n",
       "      <td>[this, is, what, ive, been, waiting, for, all,...</td>\n",
       "      <td>1A9D6</td>\n",
       "      <td>1</td>\n",
       "      <td>6</td>\n",
       "      <td>2020-12-31 16:21:36</td>\n",
       "      <td>2020-12-31</td>\n",
       "      <td>2020-12-31 16:00:00</td>\n",
       "    </tr>\n",
       "  </tbody>\n",
       "</table>\n",
       "<p>572907 rows × 8 columns</p>\n",
       "</div>"
      ],
      "text/plain": [
       "        Unnamed: 0                                              title  \\\n",
       "0                0                     [whats, going, on, with, pltr]   \n",
       "1                1  [need, explanations, on, level, , data, for, g...   \n",
       "2                2  [xrt, is, being, used, as, a, laundry, short, ...   \n",
       "3                3                                         [airlines]   \n",
       "4                4                                      [buy, trxc, ]   \n",
       "...            ...                                                ...   \n",
       "572902      579469  [buying, calls, is, not, the, way, do, you, ne...   \n",
       "572903      579470  [options, are, not, the, way, do, you, need, t...   \n",
       "572904      579471  [thank, you, degenerates, for, a, huge, , cant...   \n",
       "572905      579472              [you, might, need, to, hear, this, f]   \n",
       "572906      579473  [this, is, what, ive, been, waiting, for, all,...   \n",
       "\n",
       "                   author  scores  comments           timestamp        date  \\\n",
       "0                Zaccko98       1         2 2021-02-16 04:53:12  2021-02-16   \n",
       "1               toutoucnc       1         2 2021-02-16 04:53:09  2021-02-16   \n",
       "2                  thabat       1         2 2021-02-16 04:52:46  2021-02-16   \n",
       "3             AsianTwink_       1         2 2021-02-16 04:52:45  2021-02-16   \n",
       "4          Oneverystreet8       1         2 2021-02-16 04:52:44  2021-02-16   \n",
       "...                   ...     ...       ...                 ...         ...   \n",
       "572902  cheaptissueburlap       1         5 2020-12-31 16:24:38  2020-12-31   \n",
       "572903  cheaptissueburlap       1         0 2020-12-31 16:23:28  2020-12-31   \n",
       "572904            kds0321       1         0 2020-12-31 16:22:31  2020-12-31   \n",
       "572905  cheaptissueburlap       1         0 2020-12-31 16:21:52  2020-12-31   \n",
       "572906              1A9D6       1         6 2020-12-31 16:21:36  2020-12-31   \n",
       "\n",
       "                 date_hour  \n",
       "0      2021-02-16 04:00:00  \n",
       "1      2021-02-16 04:00:00  \n",
       "2      2021-02-16 04:00:00  \n",
       "3      2021-02-16 04:00:00  \n",
       "4      2021-02-16 04:00:00  \n",
       "...                    ...  \n",
       "572902 2020-12-31 16:00:00  \n",
       "572903 2020-12-31 16:00:00  \n",
       "572904 2020-12-31 16:00:00  \n",
       "572905 2020-12-31 16:00:00  \n",
       "572906 2020-12-31 16:00:00  \n",
       "\n",
       "[572907 rows x 8 columns]"
      ]
     },
     "execution_count": 40,
     "metadata": {},
     "output_type": "execute_result"
    }
   ],
   "source": [
    "wsb_df = pd.read_csv('../data/Clean_WSB.csv')\n",
    "\n",
    "\n",
    "\n",
    "\n",
    "### Convert timestamp to datetime ### \n",
    "wsb_df['timestamp'] = wsb_df['timestamp'].map(lambda x: datetime.strptime(x, \"%Y-%m-%d %H:%M:%S\"))\n",
    "wsb_df['title'] = wsb_df['title'].astype(str)\n",
    "wsb_df['date'] = wsb_df['timestamp'].apply(lambda x: x.date())\n",
    "wsb_df['date_hour'] = wsb_df['timestamp'].apply(lambda x: f\"{x.date()} {x.hour}:00:00\")\n",
    "wsb_df['date_hour'] = wsb_df['date_hour'].apply(lambda x: datetime.strptime(x, \"%Y-%m-%d %H:%M:%S\"))\n",
    "\n",
    "\n",
    "\n",
    "\n",
    "### apply RE to remove emojis, punc., stopwords; explode title for easy groupby counting ###\n",
    "wsb_df['title'] = wsb_df['title'].map(lambda x: re.sub(r\"[^A-Za-z ]\", '', x))\n",
    "wsb_df['title'] = wsb_df['title'].map(lambda x: x.lower().split(' '))\n",
    "wsb_df_explode = wsb_df.explode('title')\n",
    "wsb_df_explode =  wsb_df_explode[ ~wsb_df_explode['title'].isin(stopwords)]\n",
    "\n",
    "\n",
    "### narrow specific securities ###\n",
    "wsb_full = wsb_df_explode.replace({'gamestop': 'gme', 'nokia': 'nok', 'dogecoin': 'doge', \n",
    "                                         'bitcoin': 'btc', 'amazon': 'amzn', 'microsft': 'msft',\n",
    "                                         'tesla': 'tsla', 'indexsp': 'sp500', '500': 'sp500', 'sp': 'sp500'})\n",
    "\n",
    "wsb_df"
   ]
  },
  {
   "cell_type": "code",
   "execution_count": 41,
   "metadata": {
    "scrolled": false
   },
   "outputs": [],
   "source": [
    "### find and sort count of used words ###\n",
    "wsb_df_groupby = wsb_full.groupby(['title']).count().reset_index()\n",
    "wallstreetbets = wsb_df_groupby.sort_values('author', ascending = False)\n",
    "wallstreetbets = wallstreetbets.drop(0)\n",
    "wallstreetbets = wallstreetbets.drop(['Unnamed: 0','author', 'scores',\n",
    "                                     'comments', 'timestamp', 'date'], axis =1)\n",
    "wallstreetbets = wallstreetbets.rename(columns = {'title':'title','date_hour': 'count'})\n",
    "text = wallstreetbets.title.head(30)\n",
    "\n",
    "\n",
    "words = []\n",
    "for word in text:\n",
    "    words.append(word)\n",
    "    \n",
    "words = ' '.join(words)"
   ]
  },
  {
   "cell_type": "code",
   "execution_count": 129,
   "metadata": {},
   "outputs": [
    {
     "data": {
      "image/png": "[encoded data removed]",
      "text/plain": [
       "<Figure size 432x288 with 1 Axes>"
      ]
     },
     "metadata": {
      "needs_background": "light"
     },
     "output_type": "display_data"
    }
   ],
   "source": [
    "# Create and generate a word cloud image:\n",
    "wordcloud = WordCloud(width=480, height=480, max_words = 30, background_color=\"rgb(73, 157, 222)\",colormap=\"magma\").generate(words)\n",
    "\n",
    "# Display the generated image:\n",
    "plt.imshow(wordcloud, interpolation='bilinear')\n",
    "plt.axis(\"off\")\n",
    "plt.show()"
   ]
  },
  {
   "cell_type": "code",
   "execution_count": 43,
   "metadata": {},
   "outputs": [],
   "source": [
    "### Big movers: GME, NOK, AMC, Dogecoin ### \n",
    "### Other popular stocks: bitcoin, AMZN, MSFT, TSLA ###\n",
    "### Also SMP 500 and stock indexes. ###\n",
    "\n",
    "stonks = wallstreetbets[(wallstreetbets['title'] == 'gme') | (wallstreetbets['title'] == 'nok') | \n",
    "                       (wallstreetbets['title'] == 'amc') | (wallstreetbets['title'] == 'doge') | \n",
    "                       (wallstreetbets['title'] == 'btc') | (wallstreetbets['title'] == 'amzn') |\n",
    "                       (wallstreetbets['title'] == 'msft')| (wallstreetbets['title'] == 'tsla') |\n",
    "                       (wallstreetbets['title'] == 'sp500')].sort_values('count', ascending = True)"
   ]
  },
  {
   "cell_type": "code",
   "execution_count": 239,
   "metadata": {},
   "outputs": [
    {
     "data": {
      "application/vnd.plotly.v1+json": {
       "config": {
        "plotlyServerURL": "https://plot.ly"
       },
       "data": [
        {
         "alignmentgroup": "True",
         "hovertemplate": "Number of Mentions=%{x}<br>Securities=%{y}<extra></extra>",
         "legendgroup": "",
         "marker": {
          "color": "rgb(73, 157, 222)",
          "line": {
           "width": 1.5
          }
         },
         "name": "",
         "offsetgroup": "",
         "orientation": "h",
         "showlegend": false,
         "textposition": "auto",
         "type": "bar",
         "x": [
          30,
          44,
          619,
          1578,
          2717,
          15703,
          20994,
          45965,
          102785
         ],
         "xaxis": "x",
         "y": [
          "sp500",
          "msft",
          "amzn",
          "btc",
          "tsla",
          "doge",
          "nok",
          "amc",
          "gme"
         ],
         "yaxis": "y"
        }
       ],
       "layout": {
        "barmode": "relative",
        "legend": {
         "tracegroupgap": 0
        },
        "plot_bgcolor": "rgb(84, 85, 87)",
        "template": {
         "data": {
          "bar": [
           {
            "error_x": {
             "color": "#2a3f5f"
            },
            "error_y": {
             "color": "#2a3f5f"
            },
            "marker": {
             "line": {
              "color": "#E5ECF6",
              "width": 0.5
             }
            },
            "type": "bar"
           }
          ],
          "barpolar": [
           {
            "marker": {
             "line": {
              "color": "#E5ECF6",
              "width": 0.5
             }
            },
            "type": "barpolar"
           }
          ],
          "carpet": [
           {
            "aaxis": {
             "endlinecolor": "#2a3f5f",
             "gridcolor": "white",
             "linecolor": "white",
             "minorgridcolor": "white",
             "startlinecolor": "#2a3f5f"
            },
            "baxis": {
             "endlinecolor": "#2a3f5f",
             "gridcolor": "white",
             "linecolor": "white",
             "minorgridcolor": "white",
             "startlinecolor": "#2a3f5f"
            },
            "type": "carpet"
           }
          ],
          "choropleth": [
           {
            "colorbar": {
             "outlinewidth": 0,
             "ticks": ""
            },
            "type": "choropleth"
           }
          ],
          "contour": [
           {
            "colorbar": {
             "outlinewidth": 0,
             "ticks": ""
            },
            "colorscale": [
             [
              0,
              "#0d0887"
             ],
             [
              0.1111111111111111,
              "#46039f"
             ],
             [
              0.2222222222222222,
              "#7201a8"
             ],
             [
              0.3333333333333333,
              "#9c179e"
             ],
             [
              0.4444444444444444,
              "#bd3786"
             ],
             [
              0.5555555555555556,
              "#d8576b"
             ],
             [
              0.6666666666666666,
              "#ed7953"
             ],
             [
              0.7777777777777778,
              "#fb9f3a"
             ],
             [
              0.8888888888888888,
              "#fdca26"
             ],
             [
              1,
              "#f0f921"
             ]
            ],
            "type": "contour"
           }
          ],
          "contourcarpet": [
           {
            "colorbar": {
             "outlinewidth": 0,
             "ticks": ""
            },
            "type": "contourcarpet"
           }
          ],
          "heatmap": [
           {
            "colorbar": {
             "outlinewidth": 0,
             "ticks": ""
            },
            "colorscale": [
             [
              0,
              "#0d0887"
             ],
             [
              0.1111111111111111,
              "#46039f"
             ],
             [
              0.2222222222222222,
              "#7201a8"
             ],
             [
              0.3333333333333333,
              "#9c179e"
             ],
             [
              0.4444444444444444,
              "#bd3786"
             ],
             [
              0.5555555555555556,
              "#d8576b"
             ],
             [
              0.6666666666666666,
              "#ed7953"
             ],
             [
              0.7777777777777778,
              "#fb9f3a"
             ],
             [
              0.8888888888888888,
              "#fdca26"
             ],
             [
              1,
              "#f0f921"
             ]
            ],
            "type": "heatmap"
           }
          ],
          "heatmapgl": [
           {
            "colorbar": {
             "outlinewidth": 0,
             "ticks": ""
            },
            "colorscale": [
             [
              0,
              "#0d0887"
             ],
             [
              0.1111111111111111,
              "#46039f"
             ],
             [
              0.2222222222222222,
              "#7201a8"
             ],
             [
              0.3333333333333333,
              "#9c179e"
             ],
             [
              0.4444444444444444,
              "#bd3786"
             ],
             [
              0.5555555555555556,
              "#d8576b"
             ],
             [
              0.6666666666666666,
              "#ed7953"
             ],
             [
              0.7777777777777778,
              "#fb9f3a"
             ],
             [
              0.8888888888888888,
              "#fdca26"
             ],
             [
              1,
              "#f0f921"
             ]
            ],
            "type": "heatmapgl"
           }
          ],
          "histogram": [
           {
            "marker": {
             "colorbar": {
              "outlinewidth": 0,
              "ticks": ""
             }
            },
            "type": "histogram"
           }
          ],
          "histogram2d": [
           {
            "colorbar": {
             "outlinewidth": 0,
             "ticks": ""
            },
            "colorscale": [
             [
              0,
              "#0d0887"
             ],
             [
              0.1111111111111111,
              "#46039f"
             ],
             [
              0.2222222222222222,
              "#7201a8"
             ],
             [
              0.3333333333333333,
              "#9c179e"
             ],
             [
              0.4444444444444444,
              "#bd3786"
             ],
             [
              0.5555555555555556,
              "#d8576b"
             ],
             [
              0.6666666666666666,
              "#ed7953"
             ],
             [
              0.7777777777777778,
              "#fb9f3a"
             ],
             [
              0.8888888888888888,
              "#fdca26"
             ],
             [
              1,
              "#f0f921"
             ]
            ],
            "type": "histogram2d"
           }
          ],
          "histogram2dcontour": [
           {
            "colorbar": {
             "outlinewidth": 0,
             "ticks": ""
            },
            "colorscale": [
             [
              0,
              "#0d0887"
             ],
             [
              0.1111111111111111,
              "#46039f"
             ],
             [
              0.2222222222222222,
              "#7201a8"
             ],
             [
              0.3333333333333333,
              "#9c179e"
             ],
             [
              0.4444444444444444,
              "#bd3786"
             ],
             [
              0.5555555555555556,
              "#d8576b"
             ],
             [
              0.6666666666666666,
              "#ed7953"
             ],
             [
              0.7777777777777778,
              "#fb9f3a"
             ],
             [
              0.8888888888888888,
              "#fdca26"
             ],
             [
              1,
              "#f0f921"
             ]
            ],
            "type": "histogram2dcontour"
           }
          ],
          "mesh3d": [
           {
            "colorbar": {
             "outlinewidth": 0,
             "ticks": ""
            },
            "type": "mesh3d"
           }
          ],
          "parcoords": [
           {
            "line": {
             "colorbar": {
              "outlinewidth": 0,
              "ticks": ""
             }
            },
            "type": "parcoords"
           }
          ],
          "pie": [
           {
            "automargin": true,
            "type": "pie"
           }
          ],
          "scatter": [
           {
            "marker": {
             "colorbar": {
              "outlinewidth": 0,
              "ticks": ""
             }
            },
            "type": "scatter"
           }
          ],
          "scatter3d": [
           {
            "line": {
             "colorbar": {
              "outlinewidth": 0,
              "ticks": ""
             }
            },
            "marker": {
             "colorbar": {
              "outlinewidth": 0,
              "ticks": ""
             }
            },
            "type": "scatter3d"
           }
          ],
          "scattercarpet": [
           {
            "marker": {
             "colorbar": {
              "outlinewidth": 0,
              "ticks": ""
             }
            },
            "type": "scattercarpet"
           }
          ],
          "scattergeo": [
           {
            "marker": {
             "colorbar": {
              "outlinewidth": 0,
              "ticks": ""
             }
            },
            "type": "scattergeo"
           }
          ],
          "scattergl": [
           {
            "marker": {
             "colorbar": {
              "outlinewidth": 0,
              "ticks": ""
             }
            },
            "type": "scattergl"
           }
          ],
          "scattermapbox": [
           {
            "marker": {
             "colorbar": {
              "outlinewidth": 0,
              "ticks": ""
             }
            },
            "type": "scattermapbox"
           }
          ],
          "scatterpolar": [
           {
            "marker": {
             "colorbar": {
              "outlinewidth": 0,
              "ticks": ""
             }
            },
            "type": "scatterpolar"
           }
          ],
          "scatterpolargl": [
           {
            "marker": {
             "colorbar": {
              "outlinewidth": 0,
              "ticks": ""
             }
            },
            "type": "scatterpolargl"
           }
          ],
          "scatterternary": [
           {
            "marker": {
             "colorbar": {
              "outlinewidth": 0,
              "ticks": ""
             }
            },
            "type": "scatterternary"
           }
          ],
          "surface": [
           {
            "colorbar": {
             "outlinewidth": 0,
             "ticks": ""
            },
            "colorscale": [
             [
              0,
              "#0d0887"
             ],
             [
              0.1111111111111111,
              "#46039f"
             ],
             [
              0.2222222222222222,
              "#7201a8"
             ],
             [
              0.3333333333333333,
              "#9c179e"
             ],
             [
              0.4444444444444444,
              "#bd3786"
             ],
             [
              0.5555555555555556,
              "#d8576b"
             ],
             [
              0.6666666666666666,
              "#ed7953"
             ],
             [
              0.7777777777777778,
              "#fb9f3a"
             ],
             [
              0.8888888888888888,
              "#fdca26"
             ],
             [
              1,
              "#f0f921"
             ]
            ],
            "type": "surface"
           }
          ],
          "table": [
           {
            "cells": {
             "fill": {
              "color": "#EBF0F8"
             },
             "line": {
              "color": "white"
             }
            },
            "header": {
             "fill": {
              "color": "#C8D4E3"
             },
             "line": {
              "color": "white"
             }
            },
            "type": "table"
           }
          ]
         },
         "layout": {
          "annotationdefaults": {
           "arrowcolor": "#2a3f5f",
           "arrowhead": 0,
           "arrowwidth": 1
          },
          "autotypenumbers": "strict",
          "coloraxis": {
           "colorbar": {
            "outlinewidth": 0,
            "ticks": ""
           }
          },
          "colorscale": {
           "diverging": [
            [
             0,
             "#8e0152"
            ],
            [
             0.1,
             "#c51b7d"
            ],
            [
             0.2,
             "#de77ae"
            ],
            [
             0.3,
             "#f1b6da"
            ],
            [
             0.4,
             "#fde0ef"
            ],
            [
             0.5,
             "#f7f7f7"
            ],
            [
             0.6,
             "#e6f5d0"
            ],
            [
             0.7,
             "#b8e186"
            ],
            [
             0.8,
             "#7fbc41"
            ],
            [
             0.9,
             "#4d9221"
            ],
            [
             1,
             "#276419"
            ]
           ],
           "sequential": [
            [
             0,
             "#0d0887"
            ],
            [
             0.1111111111111111,
             "#46039f"
            ],
            [
             0.2222222222222222,
             "#7201a8"
            ],
            [
             0.3333333333333333,
             "#9c179e"
            ],
            [
             0.4444444444444444,
             "#bd3786"
            ],
            [
             0.5555555555555556,
             "#d8576b"
            ],
            [
             0.6666666666666666,
             "#ed7953"
            ],
            [
             0.7777777777777778,
             "#fb9f3a"
            ],
            [
             0.8888888888888888,
             "#fdca26"
            ],
            [
             1,
             "#f0f921"
            ]
           ],
           "sequentialminus": [
            [
             0,
             "#0d0887"
            ],
            [
             0.1111111111111111,
             "#46039f"
            ],
            [
             0.2222222222222222,
             "#7201a8"
            ],
            [
             0.3333333333333333,
             "#9c179e"
            ],
            [
             0.4444444444444444,
             "#bd3786"
            ],
            [
             0.5555555555555556,
             "#d8576b"
            ],
            [
             0.6666666666666666,
             "#ed7953"
            ],
            [
             0.7777777777777778,
             "#fb9f3a"
            ],
            [
             0.8888888888888888,
             "#fdca26"
            ],
            [
             1,
             "#f0f921"
            ]
           ]
          },
          "colorway": [
           "#636efa",
           "#EF553B",
           "#00cc96",
           "#ab63fa",
           "#FFA15A",
           "#19d3f3",
           "#FF6692",
           "#B6E880",
           "#FF97FF",
           "#FECB52"
          ],
          "font": {
           "color": "#2a3f5f"
          },
          "geo": {
           "bgcolor": "white",
           "lakecolor": "white",
           "landcolor": "#E5ECF6",
           "showlakes": true,
           "showland": true,
           "subunitcolor": "white"
          },
          "hoverlabel": {
           "align": "left"
          },
          "hovermode": "closest",
          "mapbox": {
           "style": "light"
          },
          "paper_bgcolor": "white",
          "plot_bgcolor": "#E5ECF6",
          "polar": {
           "angularaxis": {
            "gridcolor": "white",
            "linecolor": "white",
            "ticks": ""
           },
           "bgcolor": "#E5ECF6",
           "radialaxis": {
            "gridcolor": "white",
            "linecolor": "white",
            "ticks": ""
           }
          },
          "scene": {
           "xaxis": {
            "backgroundcolor": "#E5ECF6",
            "gridcolor": "white",
            "gridwidth": 2,
            "linecolor": "white",
            "showbackground": true,
            "ticks": "",
            "zerolinecolor": "white"
           },
           "yaxis": {
            "backgroundcolor": "#E5ECF6",
            "gridcolor": "white",
            "gridwidth": 2,
            "linecolor": "white",
            "showbackground": true,
            "ticks": "",
            "zerolinecolor": "white"
           },
           "zaxis": {
            "backgroundcolor": "#E5ECF6",
            "gridcolor": "white",
            "gridwidth": 2,
            "linecolor": "white",
            "showbackground": true,
            "ticks": "",
            "zerolinecolor": "white"
           }
          },
          "shapedefaults": {
           "line": {
            "color": "#2a3f5f"
           }
          },
          "ternary": {
           "aaxis": {
            "gridcolor": "white",
            "linecolor": "white",
            "ticks": ""
           },
           "baxis": {
            "gridcolor": "white",
            "linecolor": "white",
            "ticks": ""
           },
           "bgcolor": "#E5ECF6",
           "caxis": {
            "gridcolor": "white",
            "linecolor": "white",
            "ticks": ""
           }
          },
          "title": {
           "x": 0.05
          },
          "xaxis": {
           "automargin": true,
           "gridcolor": "white",
           "linecolor": "white",
           "ticks": "",
           "title": {
            "standoff": 15
           },
           "zerolinecolor": "white",
           "zerolinewidth": 2
          },
          "yaxis": {
           "automargin": true,
           "gridcolor": "white",
           "linecolor": "white",
           "ticks": "",
           "title": {
            "standoff": 15
           },
           "zerolinecolor": "white",
           "zerolinewidth": 2
          }
         }
        },
        "title": {
         "text": "Mentions in WSB"
        },
        "xaxis": {
         "anchor": "y",
         "domain": [
          0,
          1
         ],
         "gridcolor": "rgb(144, 145, 142)",
         "title": {
          "text": "Number of Mentions"
         }
        },
        "yaxis": {
         "anchor": "x",
         "domain": [
          0,
          1
         ],
         "title": {
          "text": "Securities"
         }
        }
       }
      },
      "text/html": [
       "<div>                            <div id=\"f4cdbaff-e08d-4788-a0b3-1d1ef93e690a\" class=\"plotly-graph-div\" style=\"height:525px; width:100%;\"></div>            <script type=\"text/javascript\">                require([\"plotly\"], function(Plotly) {                    window.PLOTLYENV=window.PLOTLYENV || {};                                    if (document.getElementById(\"f4cdbaff-e08d-4788-a0b3-1d1ef93e690a\")) {                    Plotly.newPlot(                        \"f4cdbaff-e08d-4788-a0b3-1d1ef93e690a\",                        [{\"alignmentgroup\": \"True\", \"hovertemplate\": \"Number of Mentions=%{x}<br>Securities=%{y}<extra></extra>\", \"legendgroup\": \"\", \"marker\": {\"color\": \"rgb(73, 157, 222)\", \"line\": {\"width\": 1.5}}, \"name\": \"\", \"offsetgroup\": \"\", \"orientation\": \"h\", \"showlegend\": false, \"textposition\": \"auto\", \"type\": \"bar\", \"x\": [30, 44, 619, 1578, 2717, 15703, 20994, 45965, 102785], \"xaxis\": \"x\", \"y\": [\"sp500\", \"msft\", \"amzn\", \"btc\", \"tsla\", \"doge\", \"nok\", \"amc\", \"gme\"], \"yaxis\": \"y\"}],                        {\"barmode\": \"relative\", \"legend\": {\"tracegroupgap\": 0}, \"plot_bgcolor\": \"rgb(84, 85, 87)\", \"template\": {\"data\": {\"bar\": [{\"error_x\": {\"color\": \"#2a3f5f\"}, \"error_y\": {\"color\": \"#2a3f5f\"}, \"marker\": {\"line\": {\"color\": \"#E5ECF6\", \"width\": 0.5}}, \"type\": \"bar\"}], \"barpolar\": [{\"marker\": {\"line\": {\"color\": \"#E5ECF6\", \"width\": 0.5}}, \"type\": \"barpolar\"}], \"carpet\": [{\"aaxis\": {\"endlinecolor\": \"#2a3f5f\", \"gridcolor\": \"white\", \"linecolor\": \"white\", \"minorgridcolor\": \"white\", \"startlinecolor\": \"#2a3f5f\"}, \"baxis\": {\"endlinecolor\": \"#2a3f5f\", \"gridcolor\": \"white\", \"linecolor\": \"white\", \"minorgridcolor\": \"white\", \"startlinecolor\": \"#2a3f5f\"}, \"type\": \"carpet\"}], \"choropleth\": [{\"colorbar\": {\"outlinewidth\": 0, \"ticks\": \"\"}, \"type\": \"choropleth\"}], \"contour\": [{\"colorbar\": {\"outlinewidth\": 0, \"ticks\": \"\"}, \"colorscale\": [[0.0, \"#0d0887\"], [0.1111111111111111, \"#46039f\"], [0.2222222222222222, \"#7201a8\"], [0.3333333333333333, \"#9c179e\"], [0.4444444444444444, \"#bd3786\"], [0.5555555555555556, \"#d8576b\"], [0.6666666666666666, \"#ed7953\"], [0.7777777777777778, \"#fb9f3a\"], [0.8888888888888888, \"#fdca26\"], [1.0, \"#f0f921\"]], \"type\": \"contour\"}], \"contourcarpet\": [{\"colorbar\": {\"outlinewidth\": 0, \"ticks\": \"\"}, \"type\": \"contourcarpet\"}], \"heatmap\": [{\"colorbar\": {\"outlinewidth\": 0, \"ticks\": \"\"}, \"colorscale\": [[0.0, \"#0d0887\"], [0.1111111111111111, \"#46039f\"], [0.2222222222222222, \"#7201a8\"], [0.3333333333333333, \"#9c179e\"], [0.4444444444444444, \"#bd3786\"], [0.5555555555555556, \"#d8576b\"], [0.6666666666666666, \"#ed7953\"], [0.7777777777777778, \"#fb9f3a\"], [0.8888888888888888, \"#fdca26\"], [1.0, \"#f0f921\"]], \"type\": \"heatmap\"}], \"heatmapgl\": [{\"colorbar\": {\"outlinewidth\": 0, \"ticks\": \"\"}, \"colorscale\": [[0.0, \"#0d0887\"], [0.1111111111111111, \"#46039f\"], [0.2222222222222222, \"#7201a8\"], [0.3333333333333333, \"#9c179e\"], [0.4444444444444444, \"#bd3786\"], [0.5555555555555556, \"#d8576b\"], [0.6666666666666666, \"#ed7953\"], [0.7777777777777778, \"#fb9f3a\"], [0.8888888888888888, \"#fdca26\"], [1.0, \"#f0f921\"]], \"type\": \"heatmapgl\"}], \"histogram\": [{\"marker\": {\"colorbar\": {\"outlinewidth\": 0, \"ticks\": \"\"}}, \"type\": \"histogram\"}], \"histogram2d\": [{\"colorbar\": {\"outlinewidth\": 0, \"ticks\": \"\"}, \"colorscale\": [[0.0, \"#0d0887\"], [0.1111111111111111, \"#46039f\"], [0.2222222222222222, \"#7201a8\"], [0.3333333333333333, \"#9c179e\"], [0.4444444444444444, \"#bd3786\"], [0.5555555555555556, \"#d8576b\"], [0.6666666666666666, \"#ed7953\"], [0.7777777777777778, \"#fb9f3a\"], [0.8888888888888888, \"#fdca26\"], [1.0, \"#f0f921\"]], \"type\": \"histogram2d\"}], \"histogram2dcontour\": [{\"colorbar\": {\"outlinewidth\": 0, \"ticks\": \"\"}, \"colorscale\": [[0.0, \"#0d0887\"], [0.1111111111111111, \"#46039f\"], [0.2222222222222222, \"#7201a8\"], [0.3333333333333333, \"#9c179e\"], [0.4444444444444444, \"#bd3786\"], [0.5555555555555556, \"#d8576b\"], [0.6666666666666666, \"#ed7953\"], [0.7777777777777778, \"#fb9f3a\"], [0.8888888888888888, \"#fdca26\"], [1.0, \"#f0f921\"]], \"type\": \"histogram2dcontour\"}], \"mesh3d\": [{\"colorbar\": {\"outlinewidth\": 0, \"ticks\": \"\"}, \"type\": \"mesh3d\"}], \"parcoords\": [{\"line\": {\"colorbar\": {\"outlinewidth\": 0, \"ticks\": \"\"}}, \"type\": \"parcoords\"}], \"pie\": [{\"automargin\": true, \"type\": \"pie\"}], \"scatter\": [{\"marker\": {\"colorbar\": {\"outlinewidth\": 0, \"ticks\": \"\"}}, \"type\": \"scatter\"}], \"scatter3d\": [{\"line\": {\"colorbar\": {\"outlinewidth\": 0, \"ticks\": \"\"}}, \"marker\": {\"colorbar\": {\"outlinewidth\": 0, \"ticks\": \"\"}}, \"type\": \"scatter3d\"}], \"scattercarpet\": [{\"marker\": {\"colorbar\": {\"outlinewidth\": 0, \"ticks\": \"\"}}, \"type\": \"scattercarpet\"}], \"scattergeo\": [{\"marker\": {\"colorbar\": {\"outlinewidth\": 0, \"ticks\": \"\"}}, \"type\": \"scattergeo\"}], \"scattergl\": [{\"marker\": {\"colorbar\": {\"outlinewidth\": 0, \"ticks\": \"\"}}, \"type\": \"scattergl\"}], \"scattermapbox\": [{\"marker\": {\"colorbar\": {\"outlinewidth\": 0, \"ticks\": \"\"}}, \"type\": \"scattermapbox\"}], \"scatterpolar\": [{\"marker\": {\"colorbar\": {\"outlinewidth\": 0, \"ticks\": \"\"}}, \"type\": \"scatterpolar\"}], \"scatterpolargl\": [{\"marker\": {\"colorbar\": {\"outlinewidth\": 0, \"ticks\": \"\"}}, \"type\": \"scatterpolargl\"}], \"scatterternary\": [{\"marker\": {\"colorbar\": {\"outlinewidth\": 0, \"ticks\": \"\"}}, \"type\": \"scatterternary\"}], \"surface\": [{\"colorbar\": {\"outlinewidth\": 0, \"ticks\": \"\"}, \"colorscale\": [[0.0, \"#0d0887\"], [0.1111111111111111, \"#46039f\"], [0.2222222222222222, \"#7201a8\"], [0.3333333333333333, \"#9c179e\"], [0.4444444444444444, \"#bd3786\"], [0.5555555555555556, \"#d8576b\"], [0.6666666666666666, \"#ed7953\"], [0.7777777777777778, \"#fb9f3a\"], [0.8888888888888888, \"#fdca26\"], [1.0, \"#f0f921\"]], \"type\": \"surface\"}], \"table\": [{\"cells\": {\"fill\": {\"color\": \"#EBF0F8\"}, \"line\": {\"color\": \"white\"}}, \"header\": {\"fill\": {\"color\": \"#C8D4E3\"}, \"line\": {\"color\": \"white\"}}, \"type\": \"table\"}]}, \"layout\": {\"annotationdefaults\": {\"arrowcolor\": \"#2a3f5f\", \"arrowhead\": 0, \"arrowwidth\": 1}, \"autotypenumbers\": \"strict\", \"coloraxis\": {\"colorbar\": {\"outlinewidth\": 0, \"ticks\": \"\"}}, \"colorscale\": {\"diverging\": [[0, \"#8e0152\"], [0.1, \"#c51b7d\"], [0.2, \"#de77ae\"], [0.3, \"#f1b6da\"], [0.4, \"#fde0ef\"], [0.5, \"#f7f7f7\"], [0.6, \"#e6f5d0\"], [0.7, \"#b8e186\"], [0.8, \"#7fbc41\"], [0.9, \"#4d9221\"], [1, \"#276419\"]], \"sequential\": [[0.0, \"#0d0887\"], [0.1111111111111111, \"#46039f\"], [0.2222222222222222, \"#7201a8\"], [0.3333333333333333, \"#9c179e\"], [0.4444444444444444, \"#bd3786\"], [0.5555555555555556, \"#d8576b\"], [0.6666666666666666, \"#ed7953\"], [0.7777777777777778, \"#fb9f3a\"], [0.8888888888888888, \"#fdca26\"], [1.0, \"#f0f921\"]], \"sequentialminus\": [[0.0, \"#0d0887\"], [0.1111111111111111, \"#46039f\"], [0.2222222222222222, \"#7201a8\"], [0.3333333333333333, \"#9c179e\"], [0.4444444444444444, \"#bd3786\"], [0.5555555555555556, \"#d8576b\"], [0.6666666666666666, \"#ed7953\"], [0.7777777777777778, \"#fb9f3a\"], [0.8888888888888888, \"#fdca26\"], [1.0, \"#f0f921\"]]}, \"colorway\": [\"#636efa\", \"#EF553B\", \"#00cc96\", \"#ab63fa\", \"#FFA15A\", \"#19d3f3\", \"#FF6692\", \"#B6E880\", \"#FF97FF\", \"#FECB52\"], \"font\": {\"color\": \"#2a3f5f\"}, \"geo\": {\"bgcolor\": \"white\", \"lakecolor\": \"white\", \"landcolor\": \"#E5ECF6\", \"showlakes\": true, \"showland\": true, \"subunitcolor\": \"white\"}, \"hoverlabel\": {\"align\": \"left\"}, \"hovermode\": \"closest\", \"mapbox\": {\"style\": \"light\"}, \"paper_bgcolor\": \"white\", \"plot_bgcolor\": \"#E5ECF6\", \"polar\": {\"angularaxis\": {\"gridcolor\": \"white\", \"linecolor\": \"white\", \"ticks\": \"\"}, \"bgcolor\": \"#E5ECF6\", \"radialaxis\": {\"gridcolor\": \"white\", \"linecolor\": \"white\", \"ticks\": \"\"}}, \"scene\": {\"xaxis\": {\"backgroundcolor\": \"#E5ECF6\", \"gridcolor\": \"white\", \"gridwidth\": 2, \"linecolor\": \"white\", \"showbackground\": true, \"ticks\": \"\", \"zerolinecolor\": \"white\"}, \"yaxis\": {\"backgroundcolor\": \"#E5ECF6\", \"gridcolor\": \"white\", \"gridwidth\": 2, \"linecolor\": \"white\", \"showbackground\": true, \"ticks\": \"\", \"zerolinecolor\": \"white\"}, \"zaxis\": {\"backgroundcolor\": \"#E5ECF6\", \"gridcolor\": \"white\", \"gridwidth\": 2, \"linecolor\": \"white\", \"showbackground\": true, \"ticks\": \"\", \"zerolinecolor\": \"white\"}}, \"shapedefaults\": {\"line\": {\"color\": \"#2a3f5f\"}}, \"ternary\": {\"aaxis\": {\"gridcolor\": \"white\", \"linecolor\": \"white\", \"ticks\": \"\"}, \"baxis\": {\"gridcolor\": \"white\", \"linecolor\": \"white\", \"ticks\": \"\"}, \"bgcolor\": \"#E5ECF6\", \"caxis\": {\"gridcolor\": \"white\", \"linecolor\": \"white\", \"ticks\": \"\"}}, \"title\": {\"x\": 0.05}, \"xaxis\": {\"automargin\": true, \"gridcolor\": \"white\", \"linecolor\": \"white\", \"ticks\": \"\", \"title\": {\"standoff\": 15}, \"zerolinecolor\": \"white\", \"zerolinewidth\": 2}, \"yaxis\": {\"automargin\": true, \"gridcolor\": \"white\", \"linecolor\": \"white\", \"ticks\": \"\", \"title\": {\"standoff\": 15}, \"zerolinecolor\": \"white\", \"zerolinewidth\": 2}}}, \"title\": {\"text\": \"Mentions in WSB\"}, \"xaxis\": {\"anchor\": \"y\", \"domain\": [0.0, 1.0], \"gridcolor\": \"rgb(144, 145, 142)\", \"title\": {\"text\": \"Number of Mentions\"}}, \"yaxis\": {\"anchor\": \"x\", \"domain\": [0.0, 1.0], \"title\": {\"text\": \"Securities\"}}},                        {\"responsive\": true}                    ).then(function(){\n",
       "                            \n",
       "var gd = document.getElementById('f4cdbaff-e08d-4788-a0b3-1d1ef93e690a');\n",
       "var x = new MutationObserver(function (mutations, observer) {{\n",
       "        var display = window.getComputedStyle(gd).display;\n",
       "        if (!display || display === 'none') {{\n",
       "            console.log([gd, 'removed!']);\n",
       "            Plotly.purge(gd);\n",
       "            observer.disconnect();\n",
       "        }}\n",
       "}});\n",
       "\n",
       "// Listen for the removal of the full notebook cells\n",
       "var notebookContainer = gd.closest('#notebook-container');\n",
       "if (notebookContainer) {{\n",
       "    x.observe(notebookContainer, {childList: true});\n",
       "}}\n",
       "\n",
       "// Listen for the clearing of the current output cell\n",
       "var outputEl = gd.closest('.output');\n",
       "if (outputEl) {{\n",
       "    x.observe(outputEl, {childList: true});\n",
       "}}\n",
       "\n",
       "                        })                };                });            </script>        </div>"
      ]
     },
     "metadata": {},
     "output_type": "display_data"
    },
    {
     "data": {
      "text/html": [
       "<div>\n",
       "<style scoped>\n",
       "    .dataframe tbody tr th:only-of-type {\n",
       "        vertical-align: middle;\n",
       "    }\n",
       "\n",
       "    .dataframe tbody tr th {\n",
       "        vertical-align: top;\n",
       "    }\n",
       "\n",
       "    .dataframe thead th {\n",
       "        text-align: right;\n",
       "    }\n",
       "</style>\n",
       "<table border=\"1\" class=\"dataframe\">\n",
       "  <thead>\n",
       "    <tr style=\"text-align: right;\">\n",
       "      <th></th>\n",
       "      <th>title</th>\n",
       "      <th>count</th>\n",
       "    </tr>\n",
       "  </thead>\n",
       "  <tbody>\n",
       "    <tr>\n",
       "      <th>64721</th>\n",
       "      <td>sp500</td>\n",
       "      <td>30</td>\n",
       "    </tr>\n",
       "    <tr>\n",
       "      <th>45554</th>\n",
       "      <td>msft</td>\n",
       "      <td>44</td>\n",
       "    </tr>\n",
       "    <tr>\n",
       "      <th>2552</th>\n",
       "      <td>amzn</td>\n",
       "      <td>619</td>\n",
       "    </tr>\n",
       "    <tr>\n",
       "      <th>9386</th>\n",
       "      <td>btc</td>\n",
       "      <td>1578</td>\n",
       "    </tr>\n",
       "    <tr>\n",
       "      <th>72136</th>\n",
       "      <td>tsla</td>\n",
       "      <td>2717</td>\n",
       "    </tr>\n",
       "    <tr>\n",
       "      <th>18968</th>\n",
       "      <td>doge</td>\n",
       "      <td>15703</td>\n",
       "    </tr>\n",
       "    <tr>\n",
       "      <th>47379</th>\n",
       "      <td>nok</td>\n",
       "      <td>20994</td>\n",
       "    </tr>\n",
       "    <tr>\n",
       "      <th>2081</th>\n",
       "      <td>amc</td>\n",
       "      <td>45965</td>\n",
       "    </tr>\n",
       "    <tr>\n",
       "      <th>27920</th>\n",
       "      <td>gme</td>\n",
       "      <td>102785</td>\n",
       "    </tr>\n",
       "  </tbody>\n",
       "</table>\n",
       "</div>"
      ],
      "text/plain": [
       "       title   count\n",
       "64721  sp500      30\n",
       "45554   msft      44\n",
       "2552    amzn     619\n",
       "9386     btc    1578\n",
       "72136   tsla    2717\n",
       "18968   doge   15703\n",
       "47379    nok   20994\n",
       "2081     amc   45965\n",
       "27920    gme  102785"
      ]
     },
     "execution_count": 239,
     "metadata": {},
     "output_type": "execute_result"
    }
   ],
   "source": [
    "fig = px.bar(stonks, x='count', y='title', title='Mentions in WSB', \n",
    "             orientation = 'h', labels = {\n",
    "                 'title': 'Securities',\n",
    "                 'count': 'Number of Mentions'})\n",
    "\n",
    "fig.update_traces(marker_color='rgb(73, 157, 222)',\n",
    "                  marker_line_width=1.5)\n",
    "\n",
    "fig.layout.plot_bgcolor='rgb(84, 85, 87)'\n",
    "\n",
    "fig.layout.xaxis.gridcolor='rgb(144, 145, 142)'\n",
    "fig.show()\n",
    "fig.write_html('Mentions in WSB.html')\n",
    "fig.write_image(\"Mentions in WSB.png\")\n",
    "stonks"
   ]
  },
  {
   "cell_type": "code",
   "execution_count": 173,
   "metadata": {
    "scrolled": false
   },
   "outputs": [],
   "source": [
    "### Organize by gme and date to graph ###\n",
    "gme_date = wsb_full.groupby(['title','date']).count().reset_index()\n",
    "gme_date = gme_date[gme_date['title'] == 'gme']\n",
    "\n",
    "gme_date = gme_date.drop(['Unnamed: 0','author', 'scores',\n",
    "                                     'comments', 'timestamp'], axis =1)\n",
    "gme_date = gme_date.rename(columns = {'title':'title','date' : 'date', 'date_hour': 'count'})"
   ]
  },
  {
   "cell_type": "code",
   "execution_count": 232,
   "metadata": {},
   "outputs": [
    {
     "data": {
      "application/vnd.plotly.v1+json": {
       "config": {
        "plotlyServerURL": "https://plot.ly"
       },
       "data": [
        {
         "hovertemplate": "date=%{x}<br>count=%{y}<extra></extra>",
         "legendgroup": "",
         "line": {
          "color": "rgb(73, 157, 222)",
          "dash": "solid",
          "width": 3
         },
         "mode": "lines",
         "name": "",
         "orientation": "v",
         "showlegend": false,
         "type": "scatter",
         "x": [
          "2020-12-31",
          "2021-01-01",
          "2021-01-02",
          "2021-01-03",
          "2021-01-04",
          "2021-01-05",
          "2021-01-06",
          "2021-01-07",
          "2021-01-08",
          "2021-01-09",
          "2021-01-10",
          "2021-01-11",
          "2021-01-12",
          "2021-01-13",
          "2021-01-14",
          "2021-01-15",
          "2021-01-16",
          "2021-01-17",
          "2021-01-18",
          "2021-01-19",
          "2021-01-20",
          "2021-01-21",
          "2021-01-22",
          "2021-01-23",
          "2021-01-24",
          "2021-01-25",
          "2021-01-26",
          "2021-01-27",
          "2021-01-28",
          "2021-01-29",
          "2021-01-30",
          "2021-01-31",
          "2021-02-01",
          "2021-02-02",
          "2021-02-03",
          "2021-02-04",
          "2021-02-07",
          "2021-02-08",
          "2021-02-09",
          "2021-02-10",
          "2021-02-11",
          "2021-02-12",
          "2021-02-13",
          "2021-02-14",
          "2021-02-15",
          "2021-02-16"
         ],
         "xaxis": "x",
         "y": [
          30,
          33,
          44,
          35,
          67,
          63,
          51,
          23,
          53,
          44,
          30,
          114,
          52,
          629,
          633,
          680,
          222,
          204,
          387,
          594,
          453,
          610,
          1447,
          688,
          702,
          3107,
          1022,
          11122,
          21796,
          11674,
          6852,
          6324,
          10706,
          10726,
          4320,
          3117,
          137,
          683,
          589,
          804,
          661,
          524,
          273,
          202,
          229,
          29
         ],
         "yaxis": "y"
        }
       ],
       "layout": {
        "legend": {
         "tracegroupgap": 0
        },
        "plot_bgcolor": "rgb(84, 85, 87)",
        "template": {
         "data": {
          "bar": [
           {
            "error_x": {
             "color": "#2a3f5f"
            },
            "error_y": {
             "color": "#2a3f5f"
            },
            "marker": {
             "line": {
              "color": "#E5ECF6",
              "width": 0.5
             }
            },
            "type": "bar"
           }
          ],
          "barpolar": [
           {
            "marker": {
             "line": {
              "color": "#E5ECF6",
              "width": 0.5
             }
            },
            "type": "barpolar"
           }
          ],
          "carpet": [
           {
            "aaxis": {
             "endlinecolor": "#2a3f5f",
             "gridcolor": "white",
             "linecolor": "white",
             "minorgridcolor": "white",
             "startlinecolor": "#2a3f5f"
            },
            "baxis": {
             "endlinecolor": "#2a3f5f",
             "gridcolor": "white",
             "linecolor": "white",
             "minorgridcolor": "white",
             "startlinecolor": "#2a3f5f"
            },
            "type": "carpet"
           }
          ],
          "choropleth": [
           {
            "colorbar": {
             "outlinewidth": 0,
             "ticks": ""
            },
            "type": "choropleth"
           }
          ],
          "contour": [
           {
            "colorbar": {
             "outlinewidth": 0,
             "ticks": ""
            },
            "colorscale": [
             [
              0,
              "#0d0887"
             ],
             [
              0.1111111111111111,
              "#46039f"
             ],
             [
              0.2222222222222222,
              "#7201a8"
             ],
             [
              0.3333333333333333,
              "#9c179e"
             ],
             [
              0.4444444444444444,
              "#bd3786"
             ],
             [
              0.5555555555555556,
              "#d8576b"
             ],
             [
              0.6666666666666666,
              "#ed7953"
             ],
             [
              0.7777777777777778,
              "#fb9f3a"
             ],
             [
              0.8888888888888888,
              "#fdca26"
             ],
             [
              1,
              "#f0f921"
             ]
            ],
            "type": "contour"
           }
          ],
          "contourcarpet": [
           {
            "colorbar": {
             "outlinewidth": 0,
             "ticks": ""
            },
            "type": "contourcarpet"
           }
          ],
          "heatmap": [
           {
            "colorbar": {
             "outlinewidth": 0,
             "ticks": ""
            },
            "colorscale": [
             [
              0,
              "#0d0887"
             ],
             [
              0.1111111111111111,
              "#46039f"
             ],
             [
              0.2222222222222222,
              "#7201a8"
             ],
             [
              0.3333333333333333,
              "#9c179e"
             ],
             [
              0.4444444444444444,
              "#bd3786"
             ],
             [
              0.5555555555555556,
              "#d8576b"
             ],
             [
              0.6666666666666666,
              "#ed7953"
             ],
             [
              0.7777777777777778,
              "#fb9f3a"
             ],
             [
              0.8888888888888888,
              "#fdca26"
             ],
             [
              1,
              "#f0f921"
             ]
            ],
            "type": "heatmap"
           }
          ],
          "heatmapgl": [
           {
            "colorbar": {
             "outlinewidth": 0,
             "ticks": ""
            },
            "colorscale": [
             [
              0,
              "#0d0887"
             ],
             [
              0.1111111111111111,
              "#46039f"
             ],
             [
              0.2222222222222222,
              "#7201a8"
             ],
             [
              0.3333333333333333,
              "#9c179e"
             ],
             [
              0.4444444444444444,
              "#bd3786"
             ],
             [
              0.5555555555555556,
              "#d8576b"
             ],
             [
              0.6666666666666666,
              "#ed7953"
             ],
             [
              0.7777777777777778,
              "#fb9f3a"
             ],
             [
              0.8888888888888888,
              "#fdca26"
             ],
             [
              1,
              "#f0f921"
             ]
            ],
            "type": "heatmapgl"
           }
          ],
          "histogram": [
           {
            "marker": {
             "colorbar": {
              "outlinewidth": 0,
              "ticks": ""
             }
            },
            "type": "histogram"
           }
          ],
          "histogram2d": [
           {
            "colorbar": {
             "outlinewidth": 0,
             "ticks": ""
            },
            "colorscale": [
             [
              0,
              "#0d0887"
             ],
             [
              0.1111111111111111,
              "#46039f"
             ],
             [
              0.2222222222222222,
              "#7201a8"
             ],
             [
              0.3333333333333333,
              "#9c179e"
             ],
             [
              0.4444444444444444,
              "#bd3786"
             ],
             [
              0.5555555555555556,
              "#d8576b"
             ],
             [
              0.6666666666666666,
              "#ed7953"
             ],
             [
              0.7777777777777778,
              "#fb9f3a"
             ],
             [
              0.8888888888888888,
              "#fdca26"
             ],
             [
              1,
              "#f0f921"
             ]
            ],
            "type": "histogram2d"
           }
          ],
          "histogram2dcontour": [
           {
            "colorbar": {
             "outlinewidth": 0,
             "ticks": ""
            },
            "colorscale": [
             [
              0,
              "#0d0887"
             ],
             [
              0.1111111111111111,
              "#46039f"
             ],
             [
              0.2222222222222222,
              "#7201a8"
             ],
             [
              0.3333333333333333,
              "#9c179e"
             ],
             [
              0.4444444444444444,
              "#bd3786"
             ],
             [
              0.5555555555555556,
              "#d8576b"
             ],
             [
              0.6666666666666666,
              "#ed7953"
             ],
             [
              0.7777777777777778,
              "#fb9f3a"
             ],
             [
              0.8888888888888888,
              "#fdca26"
             ],
             [
              1,
              "#f0f921"
             ]
            ],
            "type": "histogram2dcontour"
           }
          ],
          "mesh3d": [
           {
            "colorbar": {
             "outlinewidth": 0,
             "ticks": ""
            },
            "type": "mesh3d"
           }
          ],
          "parcoords": [
           {
            "line": {
             "colorbar": {
              "outlinewidth": 0,
              "ticks": ""
             }
            },
            "type": "parcoords"
           }
          ],
          "pie": [
           {
            "automargin": true,
            "type": "pie"
           }
          ],
          "scatter": [
           {
            "marker": {
             "colorbar": {
              "outlinewidth": 0,
              "ticks": ""
             }
            },
            "type": "scatter"
           }
          ],
          "scatter3d": [
           {
            "line": {
             "colorbar": {
              "outlinewidth": 0,
              "ticks": ""
             }
            },
            "marker": {
             "colorbar": {
              "outlinewidth": 0,
              "ticks": ""
             }
            },
            "type": "scatter3d"
           }
          ],
          "scattercarpet": [
           {
            "marker": {
             "colorbar": {
              "outlinewidth": 0,
              "ticks": ""
             }
            },
            "type": "scattercarpet"
           }
          ],
          "scattergeo": [
           {
            "marker": {
             "colorbar": {
              "outlinewidth": 0,
              "ticks": ""
             }
            },
            "type": "scattergeo"
           }
          ],
          "scattergl": [
           {
            "marker": {
             "colorbar": {
              "outlinewidth": 0,
              "ticks": ""
             }
            },
            "type": "scattergl"
           }
          ],
          "scattermapbox": [
           {
            "marker": {
             "colorbar": {
              "outlinewidth": 0,
              "ticks": ""
             }
            },
            "type": "scattermapbox"
           }
          ],
          "scatterpolar": [
           {
            "marker": {
             "colorbar": {
              "outlinewidth": 0,
              "ticks": ""
             }
            },
            "type": "scatterpolar"
           }
          ],
          "scatterpolargl": [
           {
            "marker": {
             "colorbar": {
              "outlinewidth": 0,
              "ticks": ""
             }
            },
            "type": "scatterpolargl"
           }
          ],
          "scatterternary": [
           {
            "marker": {
             "colorbar": {
              "outlinewidth": 0,
              "ticks": ""
             }
            },
            "type": "scatterternary"
           }
          ],
          "surface": [
           {
            "colorbar": {
             "outlinewidth": 0,
             "ticks": ""
            },
            "colorscale": [
             [
              0,
              "#0d0887"
             ],
             [
              0.1111111111111111,
              "#46039f"
             ],
             [
              0.2222222222222222,
              "#7201a8"
             ],
             [
              0.3333333333333333,
              "#9c179e"
             ],
             [
              0.4444444444444444,
              "#bd3786"
             ],
             [
              0.5555555555555556,
              "#d8576b"
             ],
             [
              0.6666666666666666,
              "#ed7953"
             ],
             [
              0.7777777777777778,
              "#fb9f3a"
             ],
             [
              0.8888888888888888,
              "#fdca26"
             ],
             [
              1,
              "#f0f921"
             ]
            ],
            "type": "surface"
           }
          ],
          "table": [
           {
            "cells": {
             "fill": {
              "color": "#EBF0F8"
             },
             "line": {
              "color": "white"
             }
            },
            "header": {
             "fill": {
              "color": "#C8D4E3"
             },
             "line": {
              "color": "white"
             }
            },
            "type": "table"
           }
          ]
         },
         "layout": {
          "annotationdefaults": {
           "arrowcolor": "#2a3f5f",
           "arrowhead": 0,
           "arrowwidth": 1
          },
          "autotypenumbers": "strict",
          "coloraxis": {
           "colorbar": {
            "outlinewidth": 0,
            "ticks": ""
           }
          },
          "colorscale": {
           "diverging": [
            [
             0,
             "#8e0152"
            ],
            [
             0.1,
             "#c51b7d"
            ],
            [
             0.2,
             "#de77ae"
            ],
            [
             0.3,
             "#f1b6da"
            ],
            [
             0.4,
             "#fde0ef"
            ],
            [
             0.5,
             "#f7f7f7"
            ],
            [
             0.6,
             "#e6f5d0"
            ],
            [
             0.7,
             "#b8e186"
            ],
            [
             0.8,
             "#7fbc41"
            ],
            [
             0.9,
             "#4d9221"
            ],
            [
             1,
             "#276419"
            ]
           ],
           "sequential": [
            [
             0,
             "#0d0887"
            ],
            [
             0.1111111111111111,
             "#46039f"
            ],
            [
             0.2222222222222222,
             "#7201a8"
            ],
            [
             0.3333333333333333,
             "#9c179e"
            ],
            [
             0.4444444444444444,
             "#bd3786"
            ],
            [
             0.5555555555555556,
             "#d8576b"
            ],
            [
             0.6666666666666666,
             "#ed7953"
            ],
            [
             0.7777777777777778,
             "#fb9f3a"
            ],
            [
             0.8888888888888888,
             "#fdca26"
            ],
            [
             1,
             "#f0f921"
            ]
           ],
           "sequentialminus": [
            [
             0,
             "#0d0887"
            ],
            [
             0.1111111111111111,
             "#46039f"
            ],
            [
             0.2222222222222222,
             "#7201a8"
            ],
            [
             0.3333333333333333,
             "#9c179e"
            ],
            [
             0.4444444444444444,
             "#bd3786"
            ],
            [
             0.5555555555555556,
             "#d8576b"
            ],
            [
             0.6666666666666666,
             "#ed7953"
            ],
            [
             0.7777777777777778,
             "#fb9f3a"
            ],
            [
             0.8888888888888888,
             "#fdca26"
            ],
            [
             1,
             "#f0f921"
            ]
           ]
          },
          "colorway": [
           "#636efa",
           "#EF553B",
           "#00cc96",
           "#ab63fa",
           "#FFA15A",
           "#19d3f3",
           "#FF6692",
           "#B6E880",
           "#FF97FF",
           "#FECB52"
          ],
          "font": {
           "color": "#2a3f5f"
          },
          "geo": {
           "bgcolor": "white",
           "lakecolor": "white",
           "landcolor": "#E5ECF6",
           "showlakes": true,
           "showland": true,
           "subunitcolor": "white"
          },
          "hoverlabel": {
           "align": "left"
          },
          "hovermode": "closest",
          "mapbox": {
           "style": "light"
          },
          "paper_bgcolor": "white",
          "plot_bgcolor": "#E5ECF6",
          "polar": {
           "angularaxis": {
            "gridcolor": "white",
            "linecolor": "white",
            "ticks": ""
           },
           "bgcolor": "#E5ECF6",
           "radialaxis": {
            "gridcolor": "white",
            "linecolor": "white",
            "ticks": ""
           }
          },
          "scene": {
           "xaxis": {
            "backgroundcolor": "#E5ECF6",
            "gridcolor": "white",
            "gridwidth": 2,
            "linecolor": "white",
            "showbackground": true,
            "ticks": "",
            "zerolinecolor": "white"
           },
           "yaxis": {
            "backgroundcolor": "#E5ECF6",
            "gridcolor": "white",
            "gridwidth": 2,
            "linecolor": "white",
            "showbackground": true,
            "ticks": "",
            "zerolinecolor": "white"
           },
           "zaxis": {
            "backgroundcolor": "#E5ECF6",
            "gridcolor": "white",
            "gridwidth": 2,
            "linecolor": "white",
            "showbackground": true,
            "ticks": "",
            "zerolinecolor": "white"
           }
          },
          "shapedefaults": {
           "line": {
            "color": "#2a3f5f"
           }
          },
          "ternary": {
           "aaxis": {
            "gridcolor": "white",
            "linecolor": "white",
            "ticks": ""
           },
           "baxis": {
            "gridcolor": "white",
            "linecolor": "white",
            "ticks": ""
           },
           "bgcolor": "#E5ECF6",
           "caxis": {
            "gridcolor": "white",
            "linecolor": "white",
            "ticks": ""
           }
          },
          "title": {
           "x": 0.05
          },
          "xaxis": {
           "automargin": true,
           "gridcolor": "white",
           "linecolor": "white",
           "ticks": "",
           "title": {
            "standoff": 15
           },
           "zerolinecolor": "white",
           "zerolinewidth": 2
          },
          "yaxis": {
           "automargin": true,
           "gridcolor": "white",
           "linecolor": "white",
           "ticks": "",
           "title": {
            "standoff": 15
           },
           "zerolinecolor": "white",
           "zerolinewidth": 2
          }
         }
        },
        "title": {
         "text": "Daily GME Mentions"
        },
        "xaxis": {
         "anchor": "y",
         "domain": [
          0,
          1
         ],
         "gridcolor": "rgb(144, 145, 142)",
         "title": {
          "text": "date"
         }
        },
        "yaxis": {
         "anchor": "x",
         "domain": [
          0,
          1
         ],
         "gridcolor": "rgb(144, 145, 142)",
         "title": {
          "text": "count"
         }
        }
       }
      },
      "text/html": [
       "<div>                            <div id=\"29322892-38d3-4f3a-8b5e-0c9e856d4ef3\" class=\"plotly-graph-div\" style=\"height:525px; width:100%;\"></div>            <script type=\"text/javascript\">                require([\"plotly\"], function(Plotly) {                    window.PLOTLYENV=window.PLOTLYENV || {};                                    if (document.getElementById(\"29322892-38d3-4f3a-8b5e-0c9e856d4ef3\")) {                    Plotly.newPlot(                        \"29322892-38d3-4f3a-8b5e-0c9e856d4ef3\",                        [{\"hovertemplate\": \"date=%{x}<br>count=%{y}<extra></extra>\", \"legendgroup\": \"\", \"line\": {\"color\": \"rgb(73, 157, 222)\", \"dash\": \"solid\", \"width\": 3}, \"mode\": \"lines\", \"name\": \"\", \"orientation\": \"v\", \"showlegend\": false, \"type\": \"scatter\", \"x\": [\"2020-12-31\", \"2021-01-01\", \"2021-01-02\", \"2021-01-03\", \"2021-01-04\", \"2021-01-05\", \"2021-01-06\", \"2021-01-07\", \"2021-01-08\", \"2021-01-09\", \"2021-01-10\", \"2021-01-11\", \"2021-01-12\", \"2021-01-13\", \"2021-01-14\", \"2021-01-15\", \"2021-01-16\", \"2021-01-17\", \"2021-01-18\", \"2021-01-19\", \"2021-01-20\", \"2021-01-21\", \"2021-01-22\", \"2021-01-23\", \"2021-01-24\", \"2021-01-25\", \"2021-01-26\", \"2021-01-27\", \"2021-01-28\", \"2021-01-29\", \"2021-01-30\", \"2021-01-31\", \"2021-02-01\", \"2021-02-02\", \"2021-02-03\", \"2021-02-04\", \"2021-02-07\", \"2021-02-08\", \"2021-02-09\", \"2021-02-10\", \"2021-02-11\", \"2021-02-12\", \"2021-02-13\", \"2021-02-14\", \"2021-02-15\", \"2021-02-16\"], \"xaxis\": \"x\", \"y\": [30, 33, 44, 35, 67, 63, 51, 23, 53, 44, 30, 114, 52, 629, 633, 680, 222, 204, 387, 594, 453, 610, 1447, 688, 702, 3107, 1022, 11122, 21796, 11674, 6852, 6324, 10706, 10726, 4320, 3117, 137, 683, 589, 804, 661, 524, 273, 202, 229, 29], \"yaxis\": \"y\"}],                        {\"legend\": {\"tracegroupgap\": 0}, \"plot_bgcolor\": \"rgb(84, 85, 87)\", \"template\": {\"data\": {\"bar\": [{\"error_x\": {\"color\": \"#2a3f5f\"}, \"error_y\": {\"color\": \"#2a3f5f\"}, \"marker\": {\"line\": {\"color\": \"#E5ECF6\", \"width\": 0.5}}, \"type\": \"bar\"}], \"barpolar\": [{\"marker\": {\"line\": {\"color\": \"#E5ECF6\", \"width\": 0.5}}, \"type\": \"barpolar\"}], \"carpet\": [{\"aaxis\": {\"endlinecolor\": \"#2a3f5f\", \"gridcolor\": \"white\", \"linecolor\": \"white\", \"minorgridcolor\": \"white\", \"startlinecolor\": \"#2a3f5f\"}, \"baxis\": {\"endlinecolor\": \"#2a3f5f\", \"gridcolor\": \"white\", \"linecolor\": \"white\", \"minorgridcolor\": \"white\", \"startlinecolor\": \"#2a3f5f\"}, \"type\": \"carpet\"}], \"choropleth\": [{\"colorbar\": {\"outlinewidth\": 0, \"ticks\": \"\"}, \"type\": \"choropleth\"}], \"contour\": [{\"colorbar\": {\"outlinewidth\": 0, \"ticks\": \"\"}, \"colorscale\": [[0.0, \"#0d0887\"], [0.1111111111111111, \"#46039f\"], [0.2222222222222222, \"#7201a8\"], [0.3333333333333333, \"#9c179e\"], [0.4444444444444444, \"#bd3786\"], [0.5555555555555556, \"#d8576b\"], [0.6666666666666666, \"#ed7953\"], [0.7777777777777778, \"#fb9f3a\"], [0.8888888888888888, \"#fdca26\"], [1.0, \"#f0f921\"]], \"type\": \"contour\"}], \"contourcarpet\": [{\"colorbar\": {\"outlinewidth\": 0, \"ticks\": \"\"}, \"type\": \"contourcarpet\"}], \"heatmap\": [{\"colorbar\": {\"outlinewidth\": 0, \"ticks\": \"\"}, \"colorscale\": [[0.0, \"#0d0887\"], [0.1111111111111111, \"#46039f\"], [0.2222222222222222, \"#7201a8\"], [0.3333333333333333, \"#9c179e\"], [0.4444444444444444, \"#bd3786\"], [0.5555555555555556, \"#d8576b\"], [0.6666666666666666, \"#ed7953\"], [0.7777777777777778, \"#fb9f3a\"], [0.8888888888888888, \"#fdca26\"], [1.0, \"#f0f921\"]], \"type\": \"heatmap\"}], \"heatmapgl\": [{\"colorbar\": {\"outlinewidth\": 0, \"ticks\": \"\"}, \"colorscale\": [[0.0, \"#0d0887\"], [0.1111111111111111, \"#46039f\"], [0.2222222222222222, \"#7201a8\"], [0.3333333333333333, \"#9c179e\"], [0.4444444444444444, \"#bd3786\"], [0.5555555555555556, \"#d8576b\"], [0.6666666666666666, \"#ed7953\"], [0.7777777777777778, \"#fb9f3a\"], [0.8888888888888888, \"#fdca26\"], [1.0, \"#f0f921\"]], \"type\": \"heatmapgl\"}], \"histogram\": [{\"marker\": {\"colorbar\": {\"outlinewidth\": 0, \"ticks\": \"\"}}, \"type\": \"histogram\"}], \"histogram2d\": [{\"colorbar\": {\"outlinewidth\": 0, \"ticks\": \"\"}, \"colorscale\": [[0.0, \"#0d0887\"], [0.1111111111111111, \"#46039f\"], [0.2222222222222222, \"#7201a8\"], [0.3333333333333333, \"#9c179e\"], [0.4444444444444444, \"#bd3786\"], [0.5555555555555556, \"#d8576b\"], [0.6666666666666666, \"#ed7953\"], [0.7777777777777778, \"#fb9f3a\"], [0.8888888888888888, \"#fdca26\"], [1.0, \"#f0f921\"]], \"type\": \"histogram2d\"}], \"histogram2dcontour\": [{\"colorbar\": {\"outlinewidth\": 0, \"ticks\": \"\"}, \"colorscale\": [[0.0, \"#0d0887\"], [0.1111111111111111, \"#46039f\"], [0.2222222222222222, \"#7201a8\"], [0.3333333333333333, \"#9c179e\"], [0.4444444444444444, \"#bd3786\"], [0.5555555555555556, \"#d8576b\"], [0.6666666666666666, \"#ed7953\"], [0.7777777777777778, \"#fb9f3a\"], [0.8888888888888888, \"#fdca26\"], [1.0, \"#f0f921\"]], \"type\": \"histogram2dcontour\"}], \"mesh3d\": [{\"colorbar\": {\"outlinewidth\": 0, \"ticks\": \"\"}, \"type\": \"mesh3d\"}], \"parcoords\": [{\"line\": {\"colorbar\": {\"outlinewidth\": 0, \"ticks\": \"\"}}, \"type\": \"parcoords\"}], \"pie\": [{\"automargin\": true, \"type\": \"pie\"}], \"scatter\": [{\"marker\": {\"colorbar\": {\"outlinewidth\": 0, \"ticks\": \"\"}}, \"type\": \"scatter\"}], \"scatter3d\": [{\"line\": {\"colorbar\": {\"outlinewidth\": 0, \"ticks\": \"\"}}, \"marker\": {\"colorbar\": {\"outlinewidth\": 0, \"ticks\": \"\"}}, \"type\": \"scatter3d\"}], \"scattercarpet\": [{\"marker\": {\"colorbar\": {\"outlinewidth\": 0, \"ticks\": \"\"}}, \"type\": \"scattercarpet\"}], \"scattergeo\": [{\"marker\": {\"colorbar\": {\"outlinewidth\": 0, \"ticks\": \"\"}}, \"type\": \"scattergeo\"}], \"scattergl\": [{\"marker\": {\"colorbar\": {\"outlinewidth\": 0, \"ticks\": \"\"}}, \"type\": \"scattergl\"}], \"scattermapbox\": [{\"marker\": {\"colorbar\": {\"outlinewidth\": 0, \"ticks\": \"\"}}, \"type\": \"scattermapbox\"}], \"scatterpolar\": [{\"marker\": {\"colorbar\": {\"outlinewidth\": 0, \"ticks\": \"\"}}, \"type\": \"scatterpolar\"}], \"scatterpolargl\": [{\"marker\": {\"colorbar\": {\"outlinewidth\": 0, \"ticks\": \"\"}}, \"type\": \"scatterpolargl\"}], \"scatterternary\": [{\"marker\": {\"colorbar\": {\"outlinewidth\": 0, \"ticks\": \"\"}}, \"type\": \"scatterternary\"}], \"surface\": [{\"colorbar\": {\"outlinewidth\": 0, \"ticks\": \"\"}, \"colorscale\": [[0.0, \"#0d0887\"], [0.1111111111111111, \"#46039f\"], [0.2222222222222222, \"#7201a8\"], [0.3333333333333333, \"#9c179e\"], [0.4444444444444444, \"#bd3786\"], [0.5555555555555556, \"#d8576b\"], [0.6666666666666666, \"#ed7953\"], [0.7777777777777778, \"#fb9f3a\"], [0.8888888888888888, \"#fdca26\"], [1.0, \"#f0f921\"]], \"type\": \"surface\"}], \"table\": [{\"cells\": {\"fill\": {\"color\": \"#EBF0F8\"}, \"line\": {\"color\": \"white\"}}, \"header\": {\"fill\": {\"color\": \"#C8D4E3\"}, \"line\": {\"color\": \"white\"}}, \"type\": \"table\"}]}, \"layout\": {\"annotationdefaults\": {\"arrowcolor\": \"#2a3f5f\", \"arrowhead\": 0, \"arrowwidth\": 1}, \"autotypenumbers\": \"strict\", \"coloraxis\": {\"colorbar\": {\"outlinewidth\": 0, \"ticks\": \"\"}}, \"colorscale\": {\"diverging\": [[0, \"#8e0152\"], [0.1, \"#c51b7d\"], [0.2, \"#de77ae\"], [0.3, \"#f1b6da\"], [0.4, \"#fde0ef\"], [0.5, \"#f7f7f7\"], [0.6, \"#e6f5d0\"], [0.7, \"#b8e186\"], [0.8, \"#7fbc41\"], [0.9, \"#4d9221\"], [1, \"#276419\"]], \"sequential\": [[0.0, \"#0d0887\"], [0.1111111111111111, \"#46039f\"], [0.2222222222222222, \"#7201a8\"], [0.3333333333333333, \"#9c179e\"], [0.4444444444444444, \"#bd3786\"], [0.5555555555555556, \"#d8576b\"], [0.6666666666666666, \"#ed7953\"], [0.7777777777777778, \"#fb9f3a\"], [0.8888888888888888, \"#fdca26\"], [1.0, \"#f0f921\"]], \"sequentialminus\": [[0.0, \"#0d0887\"], [0.1111111111111111, \"#46039f\"], [0.2222222222222222, \"#7201a8\"], [0.3333333333333333, \"#9c179e\"], [0.4444444444444444, \"#bd3786\"], [0.5555555555555556, \"#d8576b\"], [0.6666666666666666, \"#ed7953\"], [0.7777777777777778, \"#fb9f3a\"], [0.8888888888888888, \"#fdca26\"], [1.0, \"#f0f921\"]]}, \"colorway\": [\"#636efa\", \"#EF553B\", \"#00cc96\", \"#ab63fa\", \"#FFA15A\", \"#19d3f3\", \"#FF6692\", \"#B6E880\", \"#FF97FF\", \"#FECB52\"], \"font\": {\"color\": \"#2a3f5f\"}, \"geo\": {\"bgcolor\": \"white\", \"lakecolor\": \"white\", \"landcolor\": \"#E5ECF6\", \"showlakes\": true, \"showland\": true, \"subunitcolor\": \"white\"}, \"hoverlabel\": {\"align\": \"left\"}, \"hovermode\": \"closest\", \"mapbox\": {\"style\": \"light\"}, \"paper_bgcolor\": \"white\", \"plot_bgcolor\": \"#E5ECF6\", \"polar\": {\"angularaxis\": {\"gridcolor\": \"white\", \"linecolor\": \"white\", \"ticks\": \"\"}, \"bgcolor\": \"#E5ECF6\", \"radialaxis\": {\"gridcolor\": \"white\", \"linecolor\": \"white\", \"ticks\": \"\"}}, \"scene\": {\"xaxis\": {\"backgroundcolor\": \"#E5ECF6\", \"gridcolor\": \"white\", \"gridwidth\": 2, \"linecolor\": \"white\", \"showbackground\": true, \"ticks\": \"\", \"zerolinecolor\": \"white\"}, \"yaxis\": {\"backgroundcolor\": \"#E5ECF6\", \"gridcolor\": \"white\", \"gridwidth\": 2, \"linecolor\": \"white\", \"showbackground\": true, \"ticks\": \"\", \"zerolinecolor\": \"white\"}, \"zaxis\": {\"backgroundcolor\": \"#E5ECF6\", \"gridcolor\": \"white\", \"gridwidth\": 2, \"linecolor\": \"white\", \"showbackground\": true, \"ticks\": \"\", \"zerolinecolor\": \"white\"}}, \"shapedefaults\": {\"line\": {\"color\": \"#2a3f5f\"}}, \"ternary\": {\"aaxis\": {\"gridcolor\": \"white\", \"linecolor\": \"white\", \"ticks\": \"\"}, \"baxis\": {\"gridcolor\": \"white\", \"linecolor\": \"white\", \"ticks\": \"\"}, \"bgcolor\": \"#E5ECF6\", \"caxis\": {\"gridcolor\": \"white\", \"linecolor\": \"white\", \"ticks\": \"\"}}, \"title\": {\"x\": 0.05}, \"xaxis\": {\"automargin\": true, \"gridcolor\": \"white\", \"linecolor\": \"white\", \"ticks\": \"\", \"title\": {\"standoff\": 15}, \"zerolinecolor\": \"white\", \"zerolinewidth\": 2}, \"yaxis\": {\"automargin\": true, \"gridcolor\": \"white\", \"linecolor\": \"white\", \"ticks\": \"\", \"title\": {\"standoff\": 15}, \"zerolinecolor\": \"white\", \"zerolinewidth\": 2}}}, \"title\": {\"text\": \"Daily GME Mentions\"}, \"xaxis\": {\"anchor\": \"y\", \"domain\": [0.0, 1.0], \"gridcolor\": \"rgb(144, 145, 142)\", \"title\": {\"text\": \"date\"}}, \"yaxis\": {\"anchor\": \"x\", \"domain\": [0.0, 1.0], \"gridcolor\": \"rgb(144, 145, 142)\", \"title\": {\"text\": \"count\"}}},                        {\"responsive\": true}                    ).then(function(){\n",
       "                            \n",
       "var gd = document.getElementById('29322892-38d3-4f3a-8b5e-0c9e856d4ef3');\n",
       "var x = new MutationObserver(function (mutations, observer) {{\n",
       "        var display = window.getComputedStyle(gd).display;\n",
       "        if (!display || display === 'none') {{\n",
       "            console.log([gd, 'removed!']);\n",
       "            Plotly.purge(gd);\n",
       "            observer.disconnect();\n",
       "        }}\n",
       "}});\n",
       "\n",
       "// Listen for the removal of the full notebook cells\n",
       "var notebookContainer = gd.closest('#notebook-container');\n",
       "if (notebookContainer) {{\n",
       "    x.observe(notebookContainer, {childList: true});\n",
       "}}\n",
       "\n",
       "// Listen for the clearing of the current output cell\n",
       "var outputEl = gd.closest('.output');\n",
       "if (outputEl) {{\n",
       "    x.observe(outputEl, {childList: true});\n",
       "}}\n",
       "\n",
       "                        })                };                });            </script>        </div>"
      ]
     },
     "metadata": {},
     "output_type": "display_data"
    }
   ],
   "source": [
    "fig = px.line(gme_date, x='date', y='count', title='Daily GME Mentions')\n",
    "fig.update_traces(line_color='rgb(73, 157, 222)', line = {'width':3})\n",
    "fig.layout.plot_bgcolor='rgb(84, 85, 87)'\n",
    "fig.layout.yaxis.gridcolor='rgb(144, 145, 142)'\n",
    "fig.layout.xaxis.gridcolor='rgb(144, 145, 142)'\n",
    "fig.show()\n",
    "\n",
    "fig.write_html('Daily GME Mentions.html')\n",
    "fig.write_image(\"Daily GME Mentions.png\")"
   ]
  },
  {
   "cell_type": "code",
   "execution_count": 48,
   "metadata": {
    "scrolled": true
   },
   "outputs": [],
   "source": [
    "### Group by gme and hour for graphing, reduce to Jan25-29th for easier graphing ###\n",
    "jan_25 = datetime.strptime('2021-01-25 00:00:00', \"%Y-%m-%d %H:%M:%S\")\n",
    "jan_29 = datetime.strptime('2021-01-29 23:00:00', \"%Y-%m-%d %H:%M:%S\")\n",
    "gme_hour = wsb_full.groupby(['title','date_hour']).count().reset_index()\n",
    "gme_hour = gme_hour[(gme_hour['title'] == 'gme') & (gme_hour['date_hour'] > jan_25)&\n",
    "                    (gme_hour['date_hour'] <= jan_29)]\n",
    "gme_hour = gme_hour.drop(['Unnamed: 0','author', 'scores',\n",
    "                                     'comments', 'timestamp'], axis =1)\n",
    "gme_hour = gme_hour.rename(columns = {'title':'title','date_hour' : 'date', 'date': 'count'})"
   ]
  },
  {
   "cell_type": "code",
   "execution_count": 222,
   "metadata": {},
   "outputs": [
    {
     "data": {
      "application/vnd.plotly.v1+json": {
       "config": {
        "plotlyServerURL": "https://plot.ly"
       },
       "data": [
        {
         "hovertemplate": "Hours=%{x}<br>Mentions=%{y}<extra></extra>",
         "legendgroup": "",
         "line": {
          "color": "rgb(73, 157, 222)",
          "dash": "solid",
          "width": 3
         },
         "mode": "lines",
         "name": "",
         "orientation": "v",
         "showlegend": false,
         "type": "scatter",
         "x": [
          "2021-01-25T01:00:00",
          "2021-01-25T02:00:00",
          "2021-01-25T03:00:00",
          "2021-01-25T04:00:00",
          "2021-01-25T05:00:00",
          "2021-01-25T06:00:00",
          "2021-01-25T07:00:00",
          "2021-01-25T08:00:00",
          "2021-01-25T09:00:00",
          "2021-01-25T10:00:00",
          "2021-01-25T11:00:00",
          "2021-01-25T12:00:00",
          "2021-01-25T13:00:00",
          "2021-01-25T14:00:00",
          "2021-01-25T15:00:00",
          "2021-01-25T16:00:00",
          "2021-01-25T17:00:00",
          "2021-01-25T18:00:00",
          "2021-01-25T19:00:00",
          "2021-01-25T20:00:00",
          "2021-01-25T21:00:00",
          "2021-01-25T22:00:00",
          "2021-01-25T23:00:00",
          "2021-01-26T00:00:00",
          "2021-01-26T01:00:00",
          "2021-01-26T02:00:00",
          "2021-01-26T03:00:00",
          "2021-01-26T04:00:00",
          "2021-01-26T05:00:00",
          "2021-01-26T06:00:00",
          "2021-01-26T07:00:00",
          "2021-01-26T08:00:00",
          "2021-01-26T09:00:00",
          "2021-01-26T10:00:00",
          "2021-01-26T11:00:00",
          "2021-01-27T09:00:00",
          "2021-01-27T10:00:00",
          "2021-01-27T11:00:00",
          "2021-01-27T12:00:00",
          "2021-01-27T13:00:00",
          "2021-01-27T14:00:00",
          "2021-01-27T15:00:00",
          "2021-01-27T16:00:00",
          "2021-01-27T17:00:00",
          "2021-01-27T18:00:00",
          "2021-01-27T19:00:00",
          "2021-01-27T20:00:00",
          "2021-01-27T21:00:00",
          "2021-01-27T22:00:00",
          "2021-01-27T23:00:00",
          "2021-01-28T00:00:00",
          "2021-01-28T01:00:00",
          "2021-01-28T02:00:00",
          "2021-01-28T03:00:00",
          "2021-01-28T04:00:00",
          "2021-01-28T05:00:00",
          "2021-01-28T06:00:00",
          "2021-01-28T07:00:00",
          "2021-01-28T08:00:00",
          "2021-01-28T09:00:00",
          "2021-01-28T10:00:00",
          "2021-01-28T11:00:00",
          "2021-01-28T12:00:00",
          "2021-01-28T13:00:00",
          "2021-01-28T14:00:00",
          "2021-01-28T15:00:00",
          "2021-01-28T16:00:00",
          "2021-01-28T17:00:00",
          "2021-01-28T18:00:00",
          "2021-01-28T19:00:00",
          "2021-01-28T20:00:00",
          "2021-01-28T21:00:00",
          "2021-01-28T22:00:00",
          "2021-01-28T23:00:00",
          "2021-01-29T00:00:00",
          "2021-01-29T01:00:00",
          "2021-01-29T02:00:00",
          "2021-01-29T03:00:00",
          "2021-01-29T04:00:00",
          "2021-01-29T05:00:00",
          "2021-01-29T06:00:00",
          "2021-01-29T07:00:00",
          "2021-01-29T08:00:00",
          "2021-01-29T09:00:00",
          "2021-01-29T10:00:00",
          "2021-01-29T11:00:00",
          "2021-01-29T12:00:00",
          "2021-01-29T13:00:00",
          "2021-01-29T14:00:00",
          "2021-01-29T15:00:00",
          "2021-01-29T16:00:00",
          "2021-01-29T17:00:00",
          "2021-01-29T18:00:00",
          "2021-01-29T19:00:00",
          "2021-01-29T20:00:00",
          "2021-01-29T21:00:00",
          "2021-01-29T22:00:00",
          "2021-01-29T23:00:00"
         ],
         "xaxis": "x",
         "y": [
          19,
          26,
          20,
          116,
          97,
          48,
          59,
          98,
          148,
          294,
          392,
          373,
          220,
          159,
          160,
          143,
          130,
          90,
          100,
          113,
          103,
          103,
          63,
          83,
          65,
          49,
          51,
          46,
          48,
          61,
          80,
          76,
          155,
          229,
          79,
          44,
          1050,
          1176,
          1299,
          898,
          1112,
          1259,
          504,
          308,
          382,
          403,
          906,
          705,
          614,
          462,
          365,
          318,
          291,
          317,
          276,
          426,
          623,
          638,
          1821,
          2058,
          2054,
          2080,
          1572,
          967,
          1386,
          1267,
          997,
          770,
          737,
          680,
          606,
          531,
          560,
          456,
          426,
          330,
          322,
          273,
          333,
          316,
          315,
          400,
          475,
          881,
          1006,
          726,
          677,
          705,
          795,
          635,
          525,
          425,
          374,
          335,
          370,
          410,
          309,
          311
         ],
         "yaxis": "y"
        }
       ],
       "layout": {
        "legend": {
         "tracegroupgap": 0
        },
        "plot_bgcolor": "rgb(84, 85, 87)",
        "template": {
         "data": {
          "bar": [
           {
            "error_x": {
             "color": "#2a3f5f"
            },
            "error_y": {
             "color": "#2a3f5f"
            },
            "marker": {
             "line": {
              "color": "#E5ECF6",
              "width": 0.5
             }
            },
            "type": "bar"
           }
          ],
          "barpolar": [
           {
            "marker": {
             "line": {
              "color": "#E5ECF6",
              "width": 0.5
             }
            },
            "type": "barpolar"
           }
          ],
          "carpet": [
           {
            "aaxis": {
             "endlinecolor": "#2a3f5f",
             "gridcolor": "white",
             "linecolor": "white",
             "minorgridcolor": "white",
             "startlinecolor": "#2a3f5f"
            },
            "baxis": {
             "endlinecolor": "#2a3f5f",
             "gridcolor": "white",
             "linecolor": "white",
             "minorgridcolor": "white",
             "startlinecolor": "#2a3f5f"
            },
            "type": "carpet"
           }
          ],
          "choropleth": [
           {
            "colorbar": {
             "outlinewidth": 0,
             "ticks": ""
            },
            "type": "choropleth"
           }
          ],
          "contour": [
           {
            "colorbar": {
             "outlinewidth": 0,
             "ticks": ""
            },
            "colorscale": [
             [
              0,
              "#0d0887"
             ],
             [
              0.1111111111111111,
              "#46039f"
             ],
             [
              0.2222222222222222,
              "#7201a8"
             ],
             [
              0.3333333333333333,
              "#9c179e"
             ],
             [
              0.4444444444444444,
              "#bd3786"
             ],
             [
              0.5555555555555556,
              "#d8576b"
             ],
             [
              0.6666666666666666,
              "#ed7953"
             ],
             [
              0.7777777777777778,
              "#fb9f3a"
             ],
             [
              0.8888888888888888,
              "#fdca26"
             ],
             [
              1,
              "#f0f921"
             ]
            ],
            "type": "contour"
           }
          ],
          "contourcarpet": [
           {
            "colorbar": {
             "outlinewidth": 0,
             "ticks": ""
            },
            "type": "contourcarpet"
           }
          ],
          "heatmap": [
           {
            "colorbar": {
             "outlinewidth": 0,
             "ticks": ""
            },
            "colorscale": [
             [
              0,
              "#0d0887"
             ],
             [
              0.1111111111111111,
              "#46039f"
             ],
             [
              0.2222222222222222,
              "#7201a8"
             ],
             [
              0.3333333333333333,
              "#9c179e"
             ],
             [
              0.4444444444444444,
              "#bd3786"
             ],
             [
              0.5555555555555556,
              "#d8576b"
             ],
             [
              0.6666666666666666,
              "#ed7953"
             ],
             [
              0.7777777777777778,
              "#fb9f3a"
             ],
             [
              0.8888888888888888,
              "#fdca26"
             ],
             [
              1,
              "#f0f921"
             ]
            ],
            "type": "heatmap"
           }
          ],
          "heatmapgl": [
           {
            "colorbar": {
             "outlinewidth": 0,
             "ticks": ""
            },
            "colorscale": [
             [
              0,
              "#0d0887"
             ],
             [
              0.1111111111111111,
              "#46039f"
             ],
             [
              0.2222222222222222,
              "#7201a8"
             ],
             [
              0.3333333333333333,
              "#9c179e"
             ],
             [
              0.4444444444444444,
              "#bd3786"
             ],
             [
              0.5555555555555556,
              "#d8576b"
             ],
             [
              0.6666666666666666,
              "#ed7953"
             ],
             [
              0.7777777777777778,
              "#fb9f3a"
             ],
             [
              0.8888888888888888,
              "#fdca26"
             ],
             [
              1,
              "#f0f921"
             ]
            ],
            "type": "heatmapgl"
           }
          ],
          "histogram": [
           {
            "marker": {
             "colorbar": {
              "outlinewidth": 0,
              "ticks": ""
             }
            },
            "type": "histogram"
           }
          ],
          "histogram2d": [
           {
            "colorbar": {
             "outlinewidth": 0,
             "ticks": ""
            },
            "colorscale": [
             [
              0,
              "#0d0887"
             ],
             [
              0.1111111111111111,
              "#46039f"
             ],
             [
              0.2222222222222222,
              "#7201a8"
             ],
             [
              0.3333333333333333,
              "#9c179e"
             ],
             [
              0.4444444444444444,
              "#bd3786"
             ],
             [
              0.5555555555555556,
              "#d8576b"
             ],
             [
              0.6666666666666666,
              "#ed7953"
             ],
             [
              0.7777777777777778,
              "#fb9f3a"
             ],
             [
              0.8888888888888888,
              "#fdca26"
             ],
             [
              1,
              "#f0f921"
             ]
            ],
            "type": "histogram2d"
           }
          ],
          "histogram2dcontour": [
           {
            "colorbar": {
             "outlinewidth": 0,
             "ticks": ""
            },
            "colorscale": [
             [
              0,
              "#0d0887"
             ],
             [
              0.1111111111111111,
              "#46039f"
             ],
             [
              0.2222222222222222,
              "#7201a8"
             ],
             [
              0.3333333333333333,
              "#9c179e"
             ],
             [
              0.4444444444444444,
              "#bd3786"
             ],
             [
              0.5555555555555556,
              "#d8576b"
             ],
             [
              0.6666666666666666,
              "#ed7953"
             ],
             [
              0.7777777777777778,
              "#fb9f3a"
             ],
             [
              0.8888888888888888,
              "#fdca26"
             ],
             [
              1,
              "#f0f921"
             ]
            ],
            "type": "histogram2dcontour"
           }
          ],
          "mesh3d": [
           {
            "colorbar": {
             "outlinewidth": 0,
             "ticks": ""
            },
            "type": "mesh3d"
           }
          ],
          "parcoords": [
           {
            "line": {
             "colorbar": {
              "outlinewidth": 0,
              "ticks": ""
             }
            },
            "type": "parcoords"
           }
          ],
          "pie": [
           {
            "automargin": true,
            "type": "pie"
           }
          ],
          "scatter": [
           {
            "marker": {
             "colorbar": {
              "outlinewidth": 0,
              "ticks": ""
             }
            },
            "type": "scatter"
           }
          ],
          "scatter3d": [
           {
            "line": {
             "colorbar": {
              "outlinewidth": 0,
              "ticks": ""
             }
            },
            "marker": {
             "colorbar": {
              "outlinewidth": 0,
              "ticks": ""
             }
            },
            "type": "scatter3d"
           }
          ],
          "scattercarpet": [
           {
            "marker": {
             "colorbar": {
              "outlinewidth": 0,
              "ticks": ""
             }
            },
            "type": "scattercarpet"
           }
          ],
          "scattergeo": [
           {
            "marker": {
             "colorbar": {
              "outlinewidth": 0,
              "ticks": ""
             }
            },
            "type": "scattergeo"
           }
          ],
          "scattergl": [
           {
            "marker": {
             "colorbar": {
              "outlinewidth": 0,
              "ticks": ""
             }
            },
            "type": "scattergl"
           }
          ],
          "scattermapbox": [
           {
            "marker": {
             "colorbar": {
              "outlinewidth": 0,
              "ticks": ""
             }
            },
            "type": "scattermapbox"
           }
          ],
          "scatterpolar": [
           {
            "marker": {
             "colorbar": {
              "outlinewidth": 0,
              "ticks": ""
             }
            },
            "type": "scatterpolar"
           }
          ],
          "scatterpolargl": [
           {
            "marker": {
             "colorbar": {
              "outlinewidth": 0,
              "ticks": ""
             }
            },
            "type": "scatterpolargl"
           }
          ],
          "scatterternary": [
           {
            "marker": {
             "colorbar": {
              "outlinewidth": 0,
              "ticks": ""
             }
            },
            "type": "scatterternary"
           }
          ],
          "surface": [
           {
            "colorbar": {
             "outlinewidth": 0,
             "ticks": ""
            },
            "colorscale": [
             [
              0,
              "#0d0887"
             ],
             [
              0.1111111111111111,
              "#46039f"
             ],
             [
              0.2222222222222222,
              "#7201a8"
             ],
             [
              0.3333333333333333,
              "#9c179e"
             ],
             [
              0.4444444444444444,
              "#bd3786"
             ],
             [
              0.5555555555555556,
              "#d8576b"
             ],
             [
              0.6666666666666666,
              "#ed7953"
             ],
             [
              0.7777777777777778,
              "#fb9f3a"
             ],
             [
              0.8888888888888888,
              "#fdca26"
             ],
             [
              1,
              "#f0f921"
             ]
            ],
            "type": "surface"
           }
          ],
          "table": [
           {
            "cells": {
             "fill": {
              "color": "#EBF0F8"
             },
             "line": {
              "color": "white"
             }
            },
            "header": {
             "fill": {
              "color": "#C8D4E3"
             },
             "line": {
              "color": "white"
             }
            },
            "type": "table"
           }
          ]
         },
         "layout": {
          "annotationdefaults": {
           "arrowcolor": "#2a3f5f",
           "arrowhead": 0,
           "arrowwidth": 1
          },
          "autotypenumbers": "strict",
          "coloraxis": {
           "colorbar": {
            "outlinewidth": 0,
            "ticks": ""
           }
          },
          "colorscale": {
           "diverging": [
            [
             0,
             "#8e0152"
            ],
            [
             0.1,
             "#c51b7d"
            ],
            [
             0.2,
             "#de77ae"
            ],
            [
             0.3,
             "#f1b6da"
            ],
            [
             0.4,
             "#fde0ef"
            ],
            [
             0.5,
             "#f7f7f7"
            ],
            [
             0.6,
             "#e6f5d0"
            ],
            [
             0.7,
             "#b8e186"
            ],
            [
             0.8,
             "#7fbc41"
            ],
            [
             0.9,
             "#4d9221"
            ],
            [
             1,
             "#276419"
            ]
           ],
           "sequential": [
            [
             0,
             "#0d0887"
            ],
            [
             0.1111111111111111,
             "#46039f"
            ],
            [
             0.2222222222222222,
             "#7201a8"
            ],
            [
             0.3333333333333333,
             "#9c179e"
            ],
            [
             0.4444444444444444,
             "#bd3786"
            ],
            [
             0.5555555555555556,
             "#d8576b"
            ],
            [
             0.6666666666666666,
             "#ed7953"
            ],
            [
             0.7777777777777778,
             "#fb9f3a"
            ],
            [
             0.8888888888888888,
             "#fdca26"
            ],
            [
             1,
             "#f0f921"
            ]
           ],
           "sequentialminus": [
            [
             0,
             "#0d0887"
            ],
            [
             0.1111111111111111,
             "#46039f"
            ],
            [
             0.2222222222222222,
             "#7201a8"
            ],
            [
             0.3333333333333333,
             "#9c179e"
            ],
            [
             0.4444444444444444,
             "#bd3786"
            ],
            [
             0.5555555555555556,
             "#d8576b"
            ],
            [
             0.6666666666666666,
             "#ed7953"
            ],
            [
             0.7777777777777778,
             "#fb9f3a"
            ],
            [
             0.8888888888888888,
             "#fdca26"
            ],
            [
             1,
             "#f0f921"
            ]
           ]
          },
          "colorway": [
           "#636efa",
           "#EF553B",
           "#00cc96",
           "#ab63fa",
           "#FFA15A",
           "#19d3f3",
           "#FF6692",
           "#B6E880",
           "#FF97FF",
           "#FECB52"
          ],
          "font": {
           "color": "#2a3f5f"
          },
          "geo": {
           "bgcolor": "white",
           "lakecolor": "white",
           "landcolor": "#E5ECF6",
           "showlakes": true,
           "showland": true,
           "subunitcolor": "white"
          },
          "hoverlabel": {
           "align": "left"
          },
          "hovermode": "closest",
          "mapbox": {
           "style": "light"
          },
          "paper_bgcolor": "white",
          "plot_bgcolor": "#E5ECF6",
          "polar": {
           "angularaxis": {
            "gridcolor": "white",
            "linecolor": "white",
            "ticks": ""
           },
           "bgcolor": "#E5ECF6",
           "radialaxis": {
            "gridcolor": "white",
            "linecolor": "white",
            "ticks": ""
           }
          },
          "scene": {
           "xaxis": {
            "backgroundcolor": "#E5ECF6",
            "gridcolor": "white",
            "gridwidth": 2,
            "linecolor": "white",
            "showbackground": true,
            "ticks": "",
            "zerolinecolor": "white"
           },
           "yaxis": {
            "backgroundcolor": "#E5ECF6",
            "gridcolor": "white",
            "gridwidth": 2,
            "linecolor": "white",
            "showbackground": true,
            "ticks": "",
            "zerolinecolor": "white"
           },
           "zaxis": {
            "backgroundcolor": "#E5ECF6",
            "gridcolor": "white",
            "gridwidth": 2,
            "linecolor": "white",
            "showbackground": true,
            "ticks": "",
            "zerolinecolor": "white"
           }
          },
          "shapedefaults": {
           "line": {
            "color": "#2a3f5f"
           }
          },
          "ternary": {
           "aaxis": {
            "gridcolor": "white",
            "linecolor": "white",
            "ticks": ""
           },
           "baxis": {
            "gridcolor": "white",
            "linecolor": "white",
            "ticks": ""
           },
           "bgcolor": "#E5ECF6",
           "caxis": {
            "gridcolor": "white",
            "linecolor": "white",
            "ticks": ""
           }
          },
          "title": {
           "x": 0.05
          },
          "xaxis": {
           "automargin": true,
           "gridcolor": "white",
           "linecolor": "white",
           "ticks": "",
           "title": {
            "standoff": 15
           },
           "zerolinecolor": "white",
           "zerolinewidth": 2
          },
          "yaxis": {
           "automargin": true,
           "gridcolor": "white",
           "linecolor": "white",
           "ticks": "",
           "title": {
            "standoff": 15
           },
           "zerolinecolor": "white",
           "zerolinewidth": 2
          }
         }
        },
        "title": {
         "text": "Hourly GME Mentions - Jan 25th to Jan 29th"
        },
        "xaxis": {
         "anchor": "y",
         "domain": [
          0,
          1
         ],
         "gridcolor": "rgb(144, 145, 142)",
         "title": {
          "text": "Hours"
         }
        },
        "yaxis": {
         "anchor": "x",
         "domain": [
          0,
          1
         ],
         "gridcolor": "rgb(144, 145, 142)",
         "title": {
          "text": "Mentions"
         }
        }
       }
      },
      "text/html": [
       "<div>                            <div id=\"a082a22a-e9a4-40ce-9561-c56e17211178\" class=\"plotly-graph-div\" style=\"height:525px; width:100%;\"></div>            <script type=\"text/javascript\">                require([\"plotly\"], function(Plotly) {                    window.PLOTLYENV=window.PLOTLYENV || {};                                    if (document.getElementById(\"a082a22a-e9a4-40ce-9561-c56e17211178\")) {                    Plotly.newPlot(                        \"a082a22a-e9a4-40ce-9561-c56e17211178\",                        [{\"hovertemplate\": \"Hours=%{x}<br>Mentions=%{y}<extra></extra>\", \"legendgroup\": \"\", \"line\": {\"color\": \"rgb(73, 157, 222)\", \"dash\": \"solid\", \"width\": 3}, \"mode\": \"lines\", \"name\": \"\", \"orientation\": \"v\", \"showlegend\": false, \"type\": \"scatter\", \"x\": [\"2021-01-25T01:00:00\", \"2021-01-25T02:00:00\", \"2021-01-25T03:00:00\", \"2021-01-25T04:00:00\", \"2021-01-25T05:00:00\", \"2021-01-25T06:00:00\", \"2021-01-25T07:00:00\", \"2021-01-25T08:00:00\", \"2021-01-25T09:00:00\", \"2021-01-25T10:00:00\", \"2021-01-25T11:00:00\", \"2021-01-25T12:00:00\", \"2021-01-25T13:00:00\", \"2021-01-25T14:00:00\", \"2021-01-25T15:00:00\", \"2021-01-25T16:00:00\", \"2021-01-25T17:00:00\", \"2021-01-25T18:00:00\", \"2021-01-25T19:00:00\", \"2021-01-25T20:00:00\", \"2021-01-25T21:00:00\", \"2021-01-25T22:00:00\", \"2021-01-25T23:00:00\", \"2021-01-26T00:00:00\", \"2021-01-26T01:00:00\", \"2021-01-26T02:00:00\", \"2021-01-26T03:00:00\", \"2021-01-26T04:00:00\", \"2021-01-26T05:00:00\", \"2021-01-26T06:00:00\", \"2021-01-26T07:00:00\", \"2021-01-26T08:00:00\", \"2021-01-26T09:00:00\", \"2021-01-26T10:00:00\", \"2021-01-26T11:00:00\", \"2021-01-27T09:00:00\", \"2021-01-27T10:00:00\", \"2021-01-27T11:00:00\", \"2021-01-27T12:00:00\", \"2021-01-27T13:00:00\", \"2021-01-27T14:00:00\", \"2021-01-27T15:00:00\", \"2021-01-27T16:00:00\", \"2021-01-27T17:00:00\", \"2021-01-27T18:00:00\", \"2021-01-27T19:00:00\", \"2021-01-27T20:00:00\", \"2021-01-27T21:00:00\", \"2021-01-27T22:00:00\", \"2021-01-27T23:00:00\", \"2021-01-28T00:00:00\", \"2021-01-28T01:00:00\", \"2021-01-28T02:00:00\", \"2021-01-28T03:00:00\", \"2021-01-28T04:00:00\", \"2021-01-28T05:00:00\", \"2021-01-28T06:00:00\", \"2021-01-28T07:00:00\", \"2021-01-28T08:00:00\", \"2021-01-28T09:00:00\", \"2021-01-28T10:00:00\", \"2021-01-28T11:00:00\", \"2021-01-28T12:00:00\", \"2021-01-28T13:00:00\", \"2021-01-28T14:00:00\", \"2021-01-28T15:00:00\", \"2021-01-28T16:00:00\", \"2021-01-28T17:00:00\", \"2021-01-28T18:00:00\", \"2021-01-28T19:00:00\", \"2021-01-28T20:00:00\", \"2021-01-28T21:00:00\", \"2021-01-28T22:00:00\", \"2021-01-28T23:00:00\", \"2021-01-29T00:00:00\", \"2021-01-29T01:00:00\", \"2021-01-29T02:00:00\", \"2021-01-29T03:00:00\", \"2021-01-29T04:00:00\", \"2021-01-29T05:00:00\", \"2021-01-29T06:00:00\", \"2021-01-29T07:00:00\", \"2021-01-29T08:00:00\", \"2021-01-29T09:00:00\", \"2021-01-29T10:00:00\", \"2021-01-29T11:00:00\", \"2021-01-29T12:00:00\", \"2021-01-29T13:00:00\", \"2021-01-29T14:00:00\", \"2021-01-29T15:00:00\", \"2021-01-29T16:00:00\", \"2021-01-29T17:00:00\", \"2021-01-29T18:00:00\", \"2021-01-29T19:00:00\", \"2021-01-29T20:00:00\", \"2021-01-29T21:00:00\", \"2021-01-29T22:00:00\", \"2021-01-29T23:00:00\"], \"xaxis\": \"x\", \"y\": [19, 26, 20, 116, 97, 48, 59, 98, 148, 294, 392, 373, 220, 159, 160, 143, 130, 90, 100, 113, 103, 103, 63, 83, 65, 49, 51, 46, 48, 61, 80, 76, 155, 229, 79, 44, 1050, 1176, 1299, 898, 1112, 1259, 504, 308, 382, 403, 906, 705, 614, 462, 365, 318, 291, 317, 276, 426, 623, 638, 1821, 2058, 2054, 2080, 1572, 967, 1386, 1267, 997, 770, 737, 680, 606, 531, 560, 456, 426, 330, 322, 273, 333, 316, 315, 400, 475, 881, 1006, 726, 677, 705, 795, 635, 525, 425, 374, 335, 370, 410, 309, 311], \"yaxis\": \"y\"}],                        {\"legend\": {\"tracegroupgap\": 0}, \"plot_bgcolor\": \"rgb(84, 85, 87)\", \"template\": {\"data\": {\"bar\": [{\"error_x\": {\"color\": \"#2a3f5f\"}, \"error_y\": {\"color\": \"#2a3f5f\"}, \"marker\": {\"line\": {\"color\": \"#E5ECF6\", \"width\": 0.5}}, \"type\": \"bar\"}], \"barpolar\": [{\"marker\": {\"line\": {\"color\": \"#E5ECF6\", \"width\": 0.5}}, \"type\": \"barpolar\"}], \"carpet\": [{\"aaxis\": {\"endlinecolor\": \"#2a3f5f\", \"gridcolor\": \"white\", \"linecolor\": \"white\", \"minorgridcolor\": \"white\", \"startlinecolor\": \"#2a3f5f\"}, \"baxis\": {\"endlinecolor\": \"#2a3f5f\", \"gridcolor\": \"white\", \"linecolor\": \"white\", \"minorgridcolor\": \"white\", \"startlinecolor\": \"#2a3f5f\"}, \"type\": \"carpet\"}], \"choropleth\": [{\"colorbar\": {\"outlinewidth\": 0, \"ticks\": \"\"}, \"type\": \"choropleth\"}], \"contour\": [{\"colorbar\": {\"outlinewidth\": 0, \"ticks\": \"\"}, \"colorscale\": [[0.0, \"#0d0887\"], [0.1111111111111111, \"#46039f\"], [0.2222222222222222, \"#7201a8\"], [0.3333333333333333, \"#9c179e\"], [0.4444444444444444, \"#bd3786\"], [0.5555555555555556, \"#d8576b\"], [0.6666666666666666, \"#ed7953\"], [0.7777777777777778, \"#fb9f3a\"], [0.8888888888888888, \"#fdca26\"], [1.0, \"#f0f921\"]], \"type\": \"contour\"}], \"contourcarpet\": [{\"colorbar\": {\"outlinewidth\": 0, \"ticks\": \"\"}, \"type\": \"contourcarpet\"}], \"heatmap\": [{\"colorbar\": {\"outlinewidth\": 0, \"ticks\": \"\"}, \"colorscale\": [[0.0, \"#0d0887\"], [0.1111111111111111, \"#46039f\"], [0.2222222222222222, \"#7201a8\"], [0.3333333333333333, \"#9c179e\"], [0.4444444444444444, \"#bd3786\"], [0.5555555555555556, \"#d8576b\"], [0.6666666666666666, \"#ed7953\"], [0.7777777777777778, \"#fb9f3a\"], [0.8888888888888888, \"#fdca26\"], [1.0, \"#f0f921\"]], \"type\": \"heatmap\"}], \"heatmapgl\": [{\"colorbar\": {\"outlinewidth\": 0, \"ticks\": \"\"}, \"colorscale\": [[0.0, \"#0d0887\"], [0.1111111111111111, \"#46039f\"], [0.2222222222222222, \"#7201a8\"], [0.3333333333333333, \"#9c179e\"], [0.4444444444444444, \"#bd3786\"], [0.5555555555555556, \"#d8576b\"], [0.6666666666666666, \"#ed7953\"], [0.7777777777777778, \"#fb9f3a\"], [0.8888888888888888, \"#fdca26\"], [1.0, \"#f0f921\"]], \"type\": \"heatmapgl\"}], \"histogram\": [{\"marker\": {\"colorbar\": {\"outlinewidth\": 0, \"ticks\": \"\"}}, \"type\": \"histogram\"}], \"histogram2d\": [{\"colorbar\": {\"outlinewidth\": 0, \"ticks\": \"\"}, \"colorscale\": [[0.0, \"#0d0887\"], [0.1111111111111111, \"#46039f\"], [0.2222222222222222, \"#7201a8\"], [0.3333333333333333, \"#9c179e\"], [0.4444444444444444, \"#bd3786\"], [0.5555555555555556, \"#d8576b\"], [0.6666666666666666, \"#ed7953\"], [0.7777777777777778, \"#fb9f3a\"], [0.8888888888888888, \"#fdca26\"], [1.0, \"#f0f921\"]], \"type\": \"histogram2d\"}], \"histogram2dcontour\": [{\"colorbar\": {\"outlinewidth\": 0, \"ticks\": \"\"}, \"colorscale\": [[0.0, \"#0d0887\"], [0.1111111111111111, \"#46039f\"], [0.2222222222222222, \"#7201a8\"], [0.3333333333333333, \"#9c179e\"], [0.4444444444444444, \"#bd3786\"], [0.5555555555555556, \"#d8576b\"], [0.6666666666666666, \"#ed7953\"], [0.7777777777777778, \"#fb9f3a\"], [0.8888888888888888, \"#fdca26\"], [1.0, \"#f0f921\"]], \"type\": \"histogram2dcontour\"}], \"mesh3d\": [{\"colorbar\": {\"outlinewidth\": 0, \"ticks\": \"\"}, \"type\": \"mesh3d\"}], \"parcoords\": [{\"line\": {\"colorbar\": {\"outlinewidth\": 0, \"ticks\": \"\"}}, \"type\": \"parcoords\"}], \"pie\": [{\"automargin\": true, \"type\": \"pie\"}], \"scatter\": [{\"marker\": {\"colorbar\": {\"outlinewidth\": 0, \"ticks\": \"\"}}, \"type\": \"scatter\"}], \"scatter3d\": [{\"line\": {\"colorbar\": {\"outlinewidth\": 0, \"ticks\": \"\"}}, \"marker\": {\"colorbar\": {\"outlinewidth\": 0, \"ticks\": \"\"}}, \"type\": \"scatter3d\"}], \"scattercarpet\": [{\"marker\": {\"colorbar\": {\"outlinewidth\": 0, \"ticks\": \"\"}}, \"type\": \"scattercarpet\"}], \"scattergeo\": [{\"marker\": {\"colorbar\": {\"outlinewidth\": 0, \"ticks\": \"\"}}, \"type\": \"scattergeo\"}], \"scattergl\": [{\"marker\": {\"colorbar\": {\"outlinewidth\": 0, \"ticks\": \"\"}}, \"type\": \"scattergl\"}], \"scattermapbox\": [{\"marker\": {\"colorbar\": {\"outlinewidth\": 0, \"ticks\": \"\"}}, \"type\": \"scattermapbox\"}], \"scatterpolar\": [{\"marker\": {\"colorbar\": {\"outlinewidth\": 0, \"ticks\": \"\"}}, \"type\": \"scatterpolar\"}], \"scatterpolargl\": [{\"marker\": {\"colorbar\": {\"outlinewidth\": 0, \"ticks\": \"\"}}, \"type\": \"scatterpolargl\"}], \"scatterternary\": [{\"marker\": {\"colorbar\": {\"outlinewidth\": 0, \"ticks\": \"\"}}, \"type\": \"scatterternary\"}], \"surface\": [{\"colorbar\": {\"outlinewidth\": 0, \"ticks\": \"\"}, \"colorscale\": [[0.0, \"#0d0887\"], [0.1111111111111111, \"#46039f\"], [0.2222222222222222, \"#7201a8\"], [0.3333333333333333, \"#9c179e\"], [0.4444444444444444, \"#bd3786\"], [0.5555555555555556, \"#d8576b\"], [0.6666666666666666, \"#ed7953\"], [0.7777777777777778, \"#fb9f3a\"], [0.8888888888888888, \"#fdca26\"], [1.0, \"#f0f921\"]], \"type\": \"surface\"}], \"table\": [{\"cells\": {\"fill\": {\"color\": \"#EBF0F8\"}, \"line\": {\"color\": \"white\"}}, \"header\": {\"fill\": {\"color\": \"#C8D4E3\"}, \"line\": {\"color\": \"white\"}}, \"type\": \"table\"}]}, \"layout\": {\"annotationdefaults\": {\"arrowcolor\": \"#2a3f5f\", \"arrowhead\": 0, \"arrowwidth\": 1}, \"autotypenumbers\": \"strict\", \"coloraxis\": {\"colorbar\": {\"outlinewidth\": 0, \"ticks\": \"\"}}, \"colorscale\": {\"diverging\": [[0, \"#8e0152\"], [0.1, \"#c51b7d\"], [0.2, \"#de77ae\"], [0.3, \"#f1b6da\"], [0.4, \"#fde0ef\"], [0.5, \"#f7f7f7\"], [0.6, \"#e6f5d0\"], [0.7, \"#b8e186\"], [0.8, \"#7fbc41\"], [0.9, \"#4d9221\"], [1, \"#276419\"]], \"sequential\": [[0.0, \"#0d0887\"], [0.1111111111111111, \"#46039f\"], [0.2222222222222222, \"#7201a8\"], [0.3333333333333333, \"#9c179e\"], [0.4444444444444444, \"#bd3786\"], [0.5555555555555556, \"#d8576b\"], [0.6666666666666666, \"#ed7953\"], [0.7777777777777778, \"#fb9f3a\"], [0.8888888888888888, \"#fdca26\"], [1.0, \"#f0f921\"]], \"sequentialminus\": [[0.0, \"#0d0887\"], [0.1111111111111111, \"#46039f\"], [0.2222222222222222, \"#7201a8\"], [0.3333333333333333, \"#9c179e\"], [0.4444444444444444, \"#bd3786\"], [0.5555555555555556, \"#d8576b\"], [0.6666666666666666, \"#ed7953\"], [0.7777777777777778, \"#fb9f3a\"], [0.8888888888888888, \"#fdca26\"], [1.0, \"#f0f921\"]]}, \"colorway\": [\"#636efa\", \"#EF553B\", \"#00cc96\", \"#ab63fa\", \"#FFA15A\", \"#19d3f3\", \"#FF6692\", \"#B6E880\", \"#FF97FF\", \"#FECB52\"], \"font\": {\"color\": \"#2a3f5f\"}, \"geo\": {\"bgcolor\": \"white\", \"lakecolor\": \"white\", \"landcolor\": \"#E5ECF6\", \"showlakes\": true, \"showland\": true, \"subunitcolor\": \"white\"}, \"hoverlabel\": {\"align\": \"left\"}, \"hovermode\": \"closest\", \"mapbox\": {\"style\": \"light\"}, \"paper_bgcolor\": \"white\", \"plot_bgcolor\": \"#E5ECF6\", \"polar\": {\"angularaxis\": {\"gridcolor\": \"white\", \"linecolor\": \"white\", \"ticks\": \"\"}, \"bgcolor\": \"#E5ECF6\", \"radialaxis\": {\"gridcolor\": \"white\", \"linecolor\": \"white\", \"ticks\": \"\"}}, \"scene\": {\"xaxis\": {\"backgroundcolor\": \"#E5ECF6\", \"gridcolor\": \"white\", \"gridwidth\": 2, \"linecolor\": \"white\", \"showbackground\": true, \"ticks\": \"\", \"zerolinecolor\": \"white\"}, \"yaxis\": {\"backgroundcolor\": \"#E5ECF6\", \"gridcolor\": \"white\", \"gridwidth\": 2, \"linecolor\": \"white\", \"showbackground\": true, \"ticks\": \"\", \"zerolinecolor\": \"white\"}, \"zaxis\": {\"backgroundcolor\": \"#E5ECF6\", \"gridcolor\": \"white\", \"gridwidth\": 2, \"linecolor\": \"white\", \"showbackground\": true, \"ticks\": \"\", \"zerolinecolor\": \"white\"}}, \"shapedefaults\": {\"line\": {\"color\": \"#2a3f5f\"}}, \"ternary\": {\"aaxis\": {\"gridcolor\": \"white\", \"linecolor\": \"white\", \"ticks\": \"\"}, \"baxis\": {\"gridcolor\": \"white\", \"linecolor\": \"white\", \"ticks\": \"\"}, \"bgcolor\": \"#E5ECF6\", \"caxis\": {\"gridcolor\": \"white\", \"linecolor\": \"white\", \"ticks\": \"\"}}, \"title\": {\"x\": 0.05}, \"xaxis\": {\"automargin\": true, \"gridcolor\": \"white\", \"linecolor\": \"white\", \"ticks\": \"\", \"title\": {\"standoff\": 15}, \"zerolinecolor\": \"white\", \"zerolinewidth\": 2}, \"yaxis\": {\"automargin\": true, \"gridcolor\": \"white\", \"linecolor\": \"white\", \"ticks\": \"\", \"title\": {\"standoff\": 15}, \"zerolinecolor\": \"white\", \"zerolinewidth\": 2}}}, \"title\": {\"text\": \"Hourly GME Mentions - Jan 25th to Jan 29th\"}, \"xaxis\": {\"anchor\": \"y\", \"domain\": [0.0, 1.0], \"gridcolor\": \"rgb(144, 145, 142)\", \"title\": {\"text\": \"Hours\"}}, \"yaxis\": {\"anchor\": \"x\", \"domain\": [0.0, 1.0], \"gridcolor\": \"rgb(144, 145, 142)\", \"title\": {\"text\": \"Mentions\"}}},                        {\"responsive\": true}                    ).then(function(){\n",
       "                            \n",
       "var gd = document.getElementById('a082a22a-e9a4-40ce-9561-c56e17211178');\n",
       "var x = new MutationObserver(function (mutations, observer) {{\n",
       "        var display = window.getComputedStyle(gd).display;\n",
       "        if (!display || display === 'none') {{\n",
       "            console.log([gd, 'removed!']);\n",
       "            Plotly.purge(gd);\n",
       "            observer.disconnect();\n",
       "        }}\n",
       "}});\n",
       "\n",
       "// Listen for the removal of the full notebook cells\n",
       "var notebookContainer = gd.closest('#notebook-container');\n",
       "if (notebookContainer) {{\n",
       "    x.observe(notebookContainer, {childList: true});\n",
       "}}\n",
       "\n",
       "// Listen for the clearing of the current output cell\n",
       "var outputEl = gd.closest('.output');\n",
       "if (outputEl) {{\n",
       "    x.observe(outputEl, {childList: true});\n",
       "}}\n",
       "\n",
       "                        })                };                });            </script>        </div>"
      ]
     },
     "metadata": {},
     "output_type": "display_data"
    }
   ],
   "source": [
    "fig = px.line(gme_hour, x='date', y='count', title='Hourly GME Mentions - Jan 25th to Jan 29th',\n",
    "             labels = {\n",
    "                 'date':'Hours',\n",
    "                 'count':'Mentions'\n",
    "             })\n",
    "fig.update_traces(line_color='rgb(73, 157, 222)', line = {'width':3})\n",
    "fig.layout.plot_bgcolor='rgb(84, 85, 87)'\n",
    "fig.layout.yaxis.gridcolor='rgb(144, 145, 142)'\n",
    "fig.layout.xaxis.gridcolor='rgb(144, 145, 142)'\n",
    "fig.show()\n",
    "fig.write_html('Hourly GME Mentions.html')"
   ]
  },
  {
   "cell_type": "code",
   "execution_count": 175,
   "metadata": {},
   "outputs": [],
   "source": [
    "### Use alpha vantage to gather daily and hourly stock data ###\n",
    "\n",
    "from alpha_vantage.timeseries import TimeSeries\n",
    "\n",
    "API_key = 'OZHBQ2Q48QC0NFRZ'\n",
    "\n",
    "### daily chart, include percent change ###\n",
    "ts = TimeSeries(key = API_key,output_format='pandas')\n",
    "data = ts.get_daily_adjusted('GME')\n",
    "gme = data[0].reset_index()\n",
    "gme_daily = gme[(gme['date'] >= '2020-12-31') & (gme['date'] <= '2021-02-16')]\n",
    "gme_daily.to_csv('gme_daily_prices')\n",
    "gme_daily=gme_daily.sort_values('date', ascending=True)\n",
    "gme_daily['percent change'] = gme_daily['4. close'].pct_change()\n",
    "\n",
    "\n",
    "### hourly chart, include percent change ###\n",
    "data = ts.get_intraday('GME', interval = '60min', outputsize='full')\n",
    "gme = data[0].reset_index()\n",
    "gme_hourly_full = gme[(gme['date'] >= '2020-12-31') & (gme['date'] <= '2021-02-16')]\n",
    "gme_hourly_full = gme_hourly_full.sort_values('date', ascending=True)\n",
    "gme_hourly = gme[(gme['date'] >= '2021-01-25') & (gme['date'] <= '2021-01-29')]\n",
    "gme_hourly = gme_hourly.sort_values('date', ascending=True)\n",
    "gme_hourly['percent change'] = gme_hourly['4. close'].pct_change()"
   ]
  },
  {
   "cell_type": "code",
   "execution_count": 233,
   "metadata": {},
   "outputs": [
    {
     "data": {
      "application/vnd.plotly.v1+json": {
       "config": {
        "plotlyServerURL": "https://plot.ly"
       },
       "data": [
        {
         "close": [
          19.8,
          19.8,
          19.55,
          19.3,
          19.36,
          19.46,
          19.05,
          19.37,
          19.72,
          19.46,
          18.99,
          18.81,
          18.8,
          19.1,
          18.87,
          18.88,
          19.4,
          19.35,
          19,
          18.96,
          17.425,
          17.52,
          17.585,
          17.67,
          17.5711,
          17.405,
          17.24,
          17.37,
          17.4,
          17.47,
          17.37,
          17.25,
          17.5,
          17.3,
          17.1001,
          17.7,
          17.55,
          17.555,
          17.64,
          17.4897,
          17.267,
          17.36,
          17.48,
          17.49,
          17.49,
          17.58,
          17.3,
          17.27,
          17.57,
          17.55,
          17.605,
          18.4,
          18.68,
          18.7844,
          18.815,
          18.23,
          18.39,
          18.3,
          18.8,
          18.51,
          18.6999,
          19.03,
          19,
          19,
          19,
          19.4001,
          18.85,
          18.56,
          18.575,
          18.39,
          18.275,
          18.12,
          18.2502,
          18.25,
          18.26,
          18.4,
          18.09,
          18.34,
          18.33,
          17.595,
          17.57,
          17.55,
          17.875,
          17.6,
          17.88,
          17.6899,
          17.9,
          17.9,
          17.97,
          17.7,
          17.13,
          17.12,
          17.2,
          21.51,
          19.2,
          20.5,
          19.32,
          19.365,
          19.605,
          20.37,
          19.8425,
          19.93,
          19.93,
          19.95,
          20.06,
          20.1,
          20,
          20,
          20.23,
          20,
          19.9701,
          19.61,
          20.195,
          20.0399,
          20.1272,
          19.865,
          19.7926,
          19.94,
          20,
          20.03,
          20.0999,
          20.15,
          20.15,
          20.36,
          20.32,
          20.39,
          22.91,
          28.646,
          31.75,
          34.31,
          33.52,
          33.025,
          31.44,
          31.25,
          32.02,
          32.44,
          32.8,
          37.51,
          36,
          36,
          36.7,
          36.55,
          35.14,
          35.2236,
          36.88,
          37.9999,
          38.91,
          39.275,
          39.9184,
          39.63,
          42.34,
          41.94,
          42,
          41.8,
          40.2,
          40.74,
          38.49,
          38.3,
          37.3947,
          36.62,
          34.21,
          35.8156,
          35.9672,
          37.89,
          35.49,
          35.3498,
          35.25,
          35.9,
          36,
          40.9,
          41.25,
          40.34,
          38.38,
          40.88,
          40.7378,
          37.76,
          39.6201,
          42.12,
          40.94,
          40.276,
          39.51,
          38.8398,
          38.89,
          38.75,
          38.6,
          37.83,
          37.7,
          37.9,
          38.42,
          37.87,
          37.9175,
          36.86,
          39.35,
          38.67,
          39.2744,
          39.59,
          39.12,
          38.8,
          38.71,
          38.9,
          39.05,
          39.2,
          38.9,
          38.56,
          39,
          38.5,
          39.8675,
          42.2501,
          39.7,
          42.218,
          40.56,
          43.02,
          42.98,
          43.5,
          45.39,
          45.35,
          45.1,
          44.34,
          44.4,
          45.25,
          44.39,
          45.98,
          47.6795,
          52.2,
          70.3,
          55.1097,
          59.18,
          64.85,
          67.6,
          63.8,
          63.7,
          61,
          105.39,
          96.77,
          94.43,
          91.65,
          98.05,
          89.76,
          117.07,
          99.56,
          69.42,
          76.7499,
          77.0001,
          76.765,
          78.5,
          81.71,
          82.8801,
          88.87,
          94,
          88.55,
          88.5,
          91.51,
          89.25,
          87.57,
          87.6101,
          87.7999,
          105.5556,
          114.5499,
          131.845,
          145.965,
          224.45,
          208.14,
          225,
          209.51,
          299.19,
          351,
          197.89,
          230,
          231.5,
          310.69,
          371.82,
          312.61,
          342.172,
          326.59,
          319.6006,
          345,
          327.26,
          319.85,
          248.8,
          292,
          335,
          456,
          445,
          459,
          341,
          468.49,
          264.01,
          255.7614,
          239.6656,
          241.5301,
          247.17,
          197.44,
          257,
          281.85,
          347.01,
          311.99,
          425.94,
          389.05,
          395.01,
          346.49,
          362.79,
          317.37,
          334.62,
          340.1656,
          329.3264,
          276.1098,
          283.5608,
          328.24,
          322.02,
          306,
          315.72,
          312.01,
          348,
          337,
          328.18,
          323.35,
          317.8,
          269.9999,
          237.39,
          259.2,
          248,
          250,
          240.1828,
          227,
          207.55,
          178,
          187.75,
          189.52,
          171,
          174.5,
          158.49,
          138.7,
          127.5,
          115,
          91.5,
          114.85,
          117.95,
          104.3724,
          99.9,
          90.47,
          88.78,
          92,
          90,
          85.2,
          87.2,
          96,
          91.44,
          89.86,
          93.35,
          92.89,
          99.43,
          93.55,
          99.97,
          107.4999,
          97.94,
          92.0431,
          90.6,
          92,
          89.6,
          88.88,
          93.57,
          96.75,
          95.13,
          94.5,
          94.93,
          83.39,
          71.4,
          68.5801,
          64.31,
          60.0001,
          58.23,
          53.378,
          53.15,
          50.25,
          50.2,
          49.17,
          60.87,
          59.33,
          58.75,
          59.09,
          57.16,
          82.77,
          70.8185,
          64.39,
          63.55,
          61,
          60.8201,
          63.7601,
          64.87,
          69.51,
          67.2,
          66.46,
          69,
          71,
          71.45,
          69.48,
          69.55,
          64.65,
          60.75,
          59.65,
          60.15,
          59.6623,
          58.8001,
          59.9599,
          59.59,
          59.6,
          59.78,
          59.5,
          57,
          57,
          56.8,
          55.5,
          56.7,
          53.63,
          49.05,
          48.5379,
          48.7399,
          48.8699,
          50.8807,
          50.32,
          52,
          51.45,
          50.25,
          49.99,
          50.35,
          48.5,
          48.7,
          51.15,
          50.99,
          50.49,
          49.77,
          52.53,
          55.8101,
          56.345,
          53.2817,
          51.19,
          49.47,
          50.2,
          49.99,
          49.9,
          49.67,
          51,
          50.39,
          50.2,
          50.26,
          52.215,
          50.185,
          49.1105,
          48.88,
          48.61,
          48.7263,
          50.9,
          50.13,
          49.5,
          50.25,
          50.28,
          51,
          50.09,
          50.12,
          51.27,
          50.9,
          50.725,
          53.68,
          52.2185,
          52.2968,
          51.36,
          51.328,
          52.33,
          51.9,
          51.75,
          52.6,
          52.9
         ],
         "high": [
          19.8,
          19.8,
          19.56,
          19.55,
          19.4993,
          19.63,
          19.49,
          19.4599,
          19.8,
          19.7499,
          19.47,
          19.04,
          18.9598,
          19.1,
          18.95,
          18.95,
          19.4,
          19.42,
          19.25,
          19.1499,
          19.1,
          18.11,
          17.72,
          17.82,
          17.69,
          17.62,
          17.55,
          17.53,
          17.49,
          17.5,
          17.51,
          17.25,
          17.5,
          17.7,
          17.55,
          18.0765,
          17.84,
          17.7,
          17.66,
          17.66,
          17.5699,
          17.54,
          17.52,
          17.49,
          17.5,
          17.7,
          17.51,
          17.27,
          17.57,
          17.65,
          17.95,
          18.48,
          18.73,
          18.98,
          18.88,
          18.98,
          18.43,
          18.36,
          18.8,
          18.8,
          18.72,
          19.03,
          19.08,
          19,
          19.11,
          19.45,
          19.44,
          18.9032,
          18.82,
          18.655,
          18.47,
          18.42,
          18.33,
          18.46,
          18.4,
          18.43,
          18.09,
          18.4,
          18.4,
          18.33,
          17.86,
          17.63,
          17.98,
          17.88,
          17.927,
          17.9489,
          17.9,
          17.9,
          18,
          17.97,
          17.5,
          17.12,
          17.2,
          21.82,
          21.8,
          20.65,
          20.53,
          19.62,
          19.75,
          20.49,
          20.374,
          19.93,
          20.12,
          19.95,
          20.06,
          20.15,
          20.1,
          20.28,
          20.25,
          20.23,
          20.24,
          20.4,
          20.25,
          20.2078,
          20.1289,
          20.16,
          19.969,
          20.04,
          20.14,
          20.15,
          20.0999,
          20.15,
          20.15,
          20.36,
          20.47,
          20.61,
          23.4,
          29.1,
          38.65,
          34.6841,
          34.93,
          34.38,
          33.24,
          31.98,
          33,
          32.95,
          32.9,
          38.2,
          37.85,
          36.34,
          39.75,
          39.74,
          38.77,
          37.11,
          37.24,
          43.06,
          41.5,
          40.41,
          40.03,
          40.1,
          43.57,
          43.06,
          42.5,
          42.5,
          41.93,
          40.99,
          41.55,
          41.5,
          41.4899,
          38.38,
          37.01,
          36.67,
          36.3,
          38.49,
          38.02,
          35.6,
          36,
          36.07,
          36.25,
          42.61,
          41.5,
          41.1,
          40.99,
          41.24,
          45.52,
          40.76,
          39.69,
          42.3,
          42.1978,
          40.99,
          40.53,
          39.71,
          38.96,
          38.96,
          38.8,
          38.58,
          38.05,
          38,
          38.5,
          39,
          39.3933,
          38.19,
          41.1899,
          40.05,
          39.55,
          39.97,
          40.14,
          39.2,
          39.12,
          39,
          39.1,
          39.2,
          39,
          39.02,
          39.38,
          39.79,
          40.53,
          44.75,
          42.8,
          42.59,
          42.55,
          43.19,
          44.1,
          43.9,
          45.45,
          47.47,
          45.5,
          45.1,
          45.2,
          46.94,
          46.94,
          46.29,
          47.73,
          53.95,
          76.7573,
          71.99,
          61.49,
          68,
          68.46,
          67.89,
          64.88,
          63.6,
          136.63,
          109,
          101.7,
          97,
          104.53,
          103,
          159.18,
          120,
          103,
          81.5,
          96.1192,
          132.45,
          79.75,
          83.5,
          158.09,
          90,
          100,
          94.25,
          91,
          94.39,
          94.39,
          101.62,
          94,
          90.68,
          114.24,
          124.5799,
          143.89,
          150,
          244,
          248.9,
          231.5,
          227.19,
          299.33,
          365.42,
          353,
          277,
          273.4,
          385,
          380,
          380,
          350,
          347.16,
          337.89,
          353,
          373.02,
          347.51,
          319.9,
          303,
          360,
          457.89,
          513.12,
          508.83,
          489.12,
          509,
          483,
          282.55,
          324,
          267,
          265,
          261.9899,
          282.92,
          509,
          348.86,
          355.9,
          470,
          420,
          400,
          399.98,
          392.01,
          413.98,
          347,
          344.99,
          377,
          336,
          306.95,
          335,
          330.9,
          350,
          320,
          321.1,
          384.89,
          356.36,
          345,
          331.9,
          333,
          322,
          284,
          280,
          262.5999,
          253.8899,
          251,
          240.1096,
          231,
          208.79,
          190,
          198.99,
          178.31,
          176.39,
          175.21,
          162.65,
          161,
          162,
          125,
          154.3999,
          127.98,
          118.75,
          110.5499,
          101.9599,
          93.89,
          96,
          94,
          90.5,
          88.75,
          106,
          99.9,
          94.5,
          96.8,
          121.36,
          104.35,
          99.8799,
          102.71,
          109.5983,
          107.7599,
          100.3745,
          93.36,
          92.03,
          91.9,
          89.5,
          100.01,
          97,
          97,
          95.53,
          95.6,
          95.6,
          86,
          76.01,
          71.3,
          64.4999,
          61.98,
          58.4999,
          54.39,
          53.17,
          51.24,
          50.94,
          64.8,
          62.6,
          59.52,
          59.2,
          59.99,
          82.77,
          95,
          74.45,
          65.8899,
          64.5,
          62.78,
          66.47,
          66.49,
          70.47,
          72,
          68,
          72.3,
          72.4,
          75.8,
          72.99,
          73,
          73.5,
          70.6,
          61.41,
          60.75,
          70.89,
          59.76,
          60.5,
          60,
          59.7,
          59.8,
          59.8,
          61,
          57.09,
          56.8,
          57.5,
          57.51,
          58.05,
          53.68,
          49.55,
          50.755,
          49.3899,
          51.5,
          50.9499,
          56.2,
          52.55,
          51.69,
          50.83,
          53,
          50.3,
          48.7,
          53.49,
          53.5,
          52.29,
          57.8,
          54.4199,
          56.8,
          62.83,
          56.87,
          53.4499,
          51.78,
          51.2,
          50.25,
          50.18,
          50.47,
          51.5,
          51.2,
          51,
          50.98,
          55.32,
          52.2999,
          50.2683,
          49.3,
          49.74,
          49.14,
          52.25,
          51.1,
          51.1,
          50.25,
          50.5,
          51,
          50.3,
          50.15,
          51.55,
          51.55,
          54,
          54.14,
          53.8,
          55.24,
          53.26,
          51.63,
          52.45,
          52.4,
          52.2,
          52.6,
          52.9
         ],
         "low": [
          19.8,
          19.8,
          19.52,
          19.27,
          19.3,
          18.96,
          18.96,
          19.03,
          19.34,
          19.33,
          18.905,
          18.8,
          18.29,
          18.65,
          18.8,
          18.88,
          19.1,
          19.35,
          19,
          18.9,
          17.3501,
          17.15,
          17.26,
          17.44,
          17.48,
          17.36,
          17.22,
          17.2202,
          17.4,
          17.47,
          17.37,
          17.25,
          17.5,
          17.29,
          17.06,
          17.08,
          17.51,
          17.45,
          17.525,
          17.39,
          17.23,
          17.24,
          17.37,
          17.37,
          17.4,
          17.53,
          17.3,
          17.27,
          17.48,
          17.4,
          17.33,
          17.54,
          18.3,
          18.52,
          18.7201,
          17.62,
          18.08,
          17.98,
          18.29,
          18.46,
          18.46,
          18.98,
          19,
          18.83,
          18.8,
          18.45,
          18.78,
          18.43,
          18.545,
          18.36,
          18.15,
          18.02,
          18.01,
          18.08,
          18.25,
          18.34,
          18.09,
          18.15,
          18.1,
          17.45,
          17.08,
          17.35,
          17.5,
          17.44,
          17.6185,
          17.56,
          17.69,
          17.8,
          17.85,
          17.7,
          17.1,
          17.12,
          17.2,
          17.05,
          17.1,
          18.8,
          19.05,
          19.01,
          19.18,
          19.58,
          19.74,
          19.65,
          19.8,
          19.85,
          19.94,
          20,
          20,
          20,
          20.09,
          20,
          19.95,
          19.3168,
          19.45,
          19.83,
          19.78,
          19.845,
          19.751,
          19.71,
          19.91,
          20,
          19.95,
          19.96,
          20.15,
          20.36,
          20.08,
          20.17,
          20.03,
          22.78,
          28.53,
          30.1,
          31.555,
          32.15,
          30.7,
          30.52,
          31.26,
          32.12,
          32.2,
          33.2,
          35.65,
          35,
          35.5,
          35.2,
          33.05,
          33.56,
          35.12,
          36.55,
          37.77,
          38.21,
          37.6,
          38.57,
          39.54,
          41.45,
          41.76,
          40.57,
          40.2,
          40.15,
          38.01,
          36.52,
          37.05,
          35.17,
          34.1,
          34.01,
          35.16,
          35.8601,
          35.33,
          34.5,
          35.15,
          35.69,
          35.8,
          38.31,
          40.42,
          40.31,
          37.1,
          37.2002,
          39.25,
          36.64,
          37.7301,
          39.4,
          40.29,
          39.6,
          38.61,
          38.5101,
          38.65,
          38.7,
          38.56,
          37.4,
          37.65,
          37.5,
          37.54,
          37.1,
          36.63,
          36.4,
          36.06,
          38.275,
          37.85,
          38.83,
          38.71,
          38.69,
          38.71,
          38.81,
          38.8,
          39.2,
          38.9,
          38.54,
          38.54,
          37.52,
          37.86,
          39.38,
          37,
          39.38,
          40.02,
          40.52,
          42.2602,
          42.5,
          43.38,
          45.23,
          44.14,
          44.02,
          44.3,
          44.05,
          43.3,
          42.32,
          43.77,
          46.78,
          52.0544,
          54.46,
          54.6,
          57.2,
          62.4,
          63.01,
          62.35,
          61,
          72.2,
          86.25,
          90.35,
          86.72,
          86.9999,
          86.32,
          85,
          85.39,
          61.13,
          65.37,
          74.16,
          71.1001,
          72,
          78.3,
          81.65,
          82.9,
          90,
          86.03,
          87.5,
          86.39,
          86.15,
          81.05,
          80.2,
          81,
          87.68,
          96.99,
          112,
          127,
          138,
          203,
          205.11,
          207.95,
          219.07,
          293.01,
          182.55,
          195,
          197.53,
          197.53,
          249,
          312.61,
          280,
          303.77,
          290.01,
          315.4054,
          305,
          293,
          220,
          217,
          301,
          333,
          410,
          421.7,
          338,
          249.73,
          264.01,
          112.25,
          230.01,
          205.4201,
          215,
          197.44,
          193.6,
          255,
          280.33,
          305.99,
          355.98,
          380,
          360,
          311,
          312.0098,
          291.57,
          291,
          312.04,
          312.44,
          265.4801,
          250,
          283.81,
          293.0001,
          301.21,
          303.0201,
          312,
          321.75,
          326.05,
          326.06,
          288.07,
          288.0501,
          252,
          212,
          232.9001,
          241,
          230,
          235.51,
          214.66,
          206,
          173,
          177,
          186.65,
          160,
          170,
          153.6,
          137.01,
          126,
          101.3,
          74.2201,
          90,
          105.17,
          101.01,
          91,
          88,
          85.33,
          86.01,
          88,
          85,
          73.31,
          85,
          90.01,
          85.25,
          85.26,
          90.49,
          85.25,
          90.5,
          92.5,
          97.46,
          93.55,
          90.59,
          88.1,
          88.95,
          89.5,
          87.37,
          92.3,
          93.6,
          95,
          92,
          92,
          81.05,
          70.5,
          62.05,
          63.5,
          57.2,
          58,
          53.33,
          51.45,
          49,
          49.4,
          49,
          53.5,
          59,
          57.11,
          54.56,
          54.56,
          51.09,
          65.372,
          61.54,
          58.86,
          57.26,
          58.85,
          59,
          62,
          64.53,
          66.5,
          66.46,
          65.16,
          69.2,
          70.3,
          68.62,
          67,
          63.3512,
          58.27,
          58.02,
          58.68,
          59.25,
          58.3,
          58.22,
          58.56,
          59.35,
          59.35,
          58.9,
          56.2,
          56.5,
          55,
          55.5,
          55.13,
          52.06,
          48.12,
          46.52,
          48.4578,
          48,
          48.6001,
          48.73,
          49.36,
          51.2,
          50,
          49.9,
          50,
          48,
          48.25,
          48.45,
          48.6,
          46.55,
          48.16,
          49.57,
          51.12,
          55.56,
          52.35,
          50.48,
          49.4,
          49.45,
          49.65,
          49.75,
          49.35,
          49.56,
          50.39,
          49.62,
          49.6,
          49.7,
          49.27,
          48.65,
          48.23,
          48.38,
          48.2201,
          48.51,
          49.84,
          48.93,
          49.2,
          50,
          49.21,
          50.09,
          50.12,
          50.42,
          50.325,
          48.05,
          49.3,
          51.1,
          51.7,
          50.6,
          49.82,
          51.17,
          51.25,
          51.75,
          51.6201,
          52
         ],
         "open": [
          19.8,
          19.8,
          19.52,
          19.52,
          19.4,
          19.35,
          19.44,
          19.04,
          19.3701,
          19.73,
          19.46,
          18.98,
          18.8302,
          18.8,
          18.8,
          18.95,
          19.1,
          19.42,
          19.25,
          19.074,
          18.97,
          17.425,
          17.5375,
          17.585,
          17.665,
          17.58,
          17.41,
          17.25,
          17.47,
          17.47,
          17.5,
          17.25,
          17.5,
          17.7,
          17.2801,
          17.11,
          17.76,
          17.56,
          17.56,
          17.66,
          17.49,
          17.255,
          17.37,
          17.48,
          17.4,
          17.53,
          17.51,
          17.27,
          17.48,
          17.4119,
          17.54,
          17.605,
          18.4,
          18.68,
          18.775,
          18.83,
          18.22,
          18.32,
          18.3,
          18.8,
          18.47,
          18.98,
          19.08,
          18.84,
          18.85,
          18.98,
          19.4,
          18.88,
          18.57,
          18.5863,
          18.3736,
          18.28,
          18.08,
          18.2501,
          18.26,
          18.38,
          18.09,
          18.15,
          18.1,
          18.32,
          17.5712,
          17.55,
          17.56,
          17.87,
          17.6185,
          17.89,
          17.69,
          17.9,
          17.86,
          17.85,
          17.5,
          17.12,
          17.2,
          17.5,
          21.51,
          19.02,
          20.48,
          19.32,
          19.36,
          19.6,
          20.37,
          19.84,
          19.94,
          19.92,
          19.95,
          20.06,
          20.1,
          20.28,
          20.25,
          20.1,
          20.2399,
          20.01,
          19.6,
          20.2,
          20.036,
          20.12,
          19.86,
          19.79,
          19.95,
          20.13,
          20,
          20,
          20.15,
          20.36,
          20.1,
          20.2499,
          20.36,
          22.93,
          28.6301,
          31.7501,
          34.29,
          33.465,
          33.03,
          31.3998,
          31.38,
          32.12,
          32.49,
          33.48,
          37.57,
          35.99,
          36,
          35.9974,
          36.5501,
          35.16,
          35.21,
          36.885,
          37.96,
          38.985,
          39.2941,
          40,
          39.55,
          42.4,
          41.9,
          42.2,
          41.85,
          40.5,
          40.82,
          38.5,
          38.277,
          37.384,
          36.615,
          34.2765,
          35.8021,
          35.99,
          37.88,
          35.6,
          35.2,
          35.8,
          35.9,
          39,
          40.77,
          41.1,
          40.5,
          38.38,
          40.85,
          40.75,
          37.79,
          39.63,
          42.0295,
          40.9444,
          40.2607,
          39.36,
          38.84,
          38.9,
          38.7,
          38.5,
          38.05,
          37.7,
          37.92,
          37.65,
          37.95,
          37.97,
          36.86,
          39.28,
          38.635,
          39.275,
          39.6,
          39.01,
          38.84,
          38.83,
          38.89,
          39.2,
          38.95,
          38.75,
          38.5501,
          39.05,
          38.51,
          39.8289,
          42.3,
          39.61,
          42.2413,
          40.53,
          43.03,
          42.81,
          43.9,
          45.31,
          44.66,
          45.1,
          44.76,
          44.81,
          44.7672,
          44.19,
          45.99,
          47.687,
          52.2,
          70.385,
          54.9955,
          59.185,
          65,
          67.5,
          64,
          63.6,
          72.5,
          106.77,
          96.93,
          94.48,
          91.71,
          98.265,
          89.685,
          117.07,
          99.99,
          69.3,
          76.6241,
          77.19,
          76.7698,
          78.39,
          81.71,
          82.9,
          90,
          94.25,
          89,
          88.89,
          91.62,
          89,
          87.575,
          87.62,
          87.685,
          105.3137,
          114.2538,
          131.6913,
          146.2,
          224.6,
          208.1,
          225,
          246.66,
          299.5,
          351.89,
          199.5,
          230,
          231.15,
          310.32,
          371.182,
          312.61,
          341.0407,
          326.07,
          318.01,
          347.51,
          327.36,
          319,
          248.99,
          311.3,
          333.11,
          456.4,
          447.01,
          459,
          340.73,
          469,
          265,
          255.99,
          240.9471,
          242.4305,
          246.1359,
          197.44,
          257,
          280.33,
          347,
          360,
          420,
          385,
          395,
          347.07,
          363.01,
          317.7093,
          335.5999,
          339.8802,
          328.1182,
          275.95,
          284.79,
          327.67,
          322.3,
          306.11,
          316,
          356.1,
          347,
          338,
          327.42,
          327,
          317.7,
          270,
          236.775,
          259,
          248.4599,
          250,
          240.1096,
          225.46,
          207.96,
          178,
          186.65,
          175.3,
          171.7,
          174.01,
          158.24,
          139,
          127.5,
          114.8882,
          91.0701,
          110.05,
          118.2996,
          103.6001,
          99.8561,
          90.76,
          88.82,
          92,
          90,
          78.33,
          87.35,
          96.3,
          91.11,
          89.82,
          93.4,
          93.2799,
          99.0501,
          94,
          99.7,
          107.01,
          98.01,
          92.27,
          91.47,
          91.9,
          89.3,
          92.3,
          93.6,
          96.93,
          95.53,
          95,
          95,
          83.28,
          71.2901,
          68.7738,
          64.4999,
          60.17,
          58.2301,
          53.47,
          53.17,
          50.11,
          50.2,
          53.5,
          60.87,
          59.52,
          58,
          59.09,
          57.2,
          82.77,
          70.8226,
          64.293,
          63.7383,
          61,
          60.83,
          64.2,
          64.68,
          69.56,
          67.2,
          68.1,
          69.2,
          70.94,
          70.5,
          69.39,
          69.66,
          64.61,
          60.745,
          59.6273,
          60.15,
          59.68,
          58.88,
          60,
          59.5,
          59.59,
          59.79,
          59.8,
          56.55,
          56.77,
          56.8,
          56.67,
          56.7,
          53.6,
          49.19,
          48.54,
          48.6101,
          48.8749,
          50.9499,
          49.36,
          52,
          51.54,
          50.25,
          50,
          50.3,
          48.7,
          48.81,
          49.5,
          51,
          50.4999,
          49.5974,
          52.645,
          55.9,
          56.35,
          53.11,
          51.23,
          49.47,
          50.2,
          49.9499,
          49.49,
          50,
          50.66,
          50.32,
          50.0001,
          50.17,
          52.13,
          50.1811,
          49.09,
          49.0275,
          48.71,
          48.69,
          50.6,
          50.16,
          49.2,
          50.27,
          50.6,
          50.29,
          50.15,
          50.57,
          50.7,
          50.559,
          50.6672,
          53.56,
          52.1013,
          52.225,
          51.35,
          51.34,
          52.4,
          51.94,
          51.71,
          52.07
         ],
         "type": "candlestick",
         "x": [
          "2020-12-31T05:00:00",
          "2020-12-31T06:00:00",
          "2020-12-31T07:00:00",
          "2020-12-31T08:00:00",
          "2020-12-31T09:00:00",
          "2020-12-31T10:00:00",
          "2020-12-31T11:00:00",
          "2020-12-31T12:00:00",
          "2020-12-31T13:00:00",
          "2020-12-31T14:00:00",
          "2020-12-31T15:00:00",
          "2020-12-31T16:00:00",
          "2020-12-31T17:00:00",
          "2020-12-31T18:00:00",
          "2020-12-31T19:00:00",
          "2020-12-31T20:00:00",
          "2021-01-04T05:00:00",
          "2021-01-04T07:00:00",
          "2021-01-04T08:00:00",
          "2021-01-04T09:00:00",
          "2021-01-04T10:00:00",
          "2021-01-04T11:00:00",
          "2021-01-04T12:00:00",
          "2021-01-04T13:00:00",
          "2021-01-04T14:00:00",
          "2021-01-04T15:00:00",
          "2021-01-04T16:00:00",
          "2021-01-04T17:00:00",
          "2021-01-04T18:00:00",
          "2021-01-04T19:00:00",
          "2021-01-04T20:00:00",
          "2021-01-05T05:00:00",
          "2021-01-05T07:00:00",
          "2021-01-05T08:00:00",
          "2021-01-05T09:00:00",
          "2021-01-05T10:00:00",
          "2021-01-05T11:00:00",
          "2021-01-05T12:00:00",
          "2021-01-05T13:00:00",
          "2021-01-05T14:00:00",
          "2021-01-05T15:00:00",
          "2021-01-05T16:00:00",
          "2021-01-05T17:00:00",
          "2021-01-05T18:00:00",
          "2021-01-05T19:00:00",
          "2021-01-05T20:00:00",
          "2021-01-06T05:00:00",
          "2021-01-06T06:00:00",
          "2021-01-06T08:00:00",
          "2021-01-06T09:00:00",
          "2021-01-06T10:00:00",
          "2021-01-06T11:00:00",
          "2021-01-06T12:00:00",
          "2021-01-06T13:00:00",
          "2021-01-06T14:00:00",
          "2021-01-06T15:00:00",
          "2021-01-06T16:00:00",
          "2021-01-06T17:00:00",
          "2021-01-06T18:00:00",
          "2021-01-06T19:00:00",
          "2021-01-06T20:00:00",
          "2021-01-07T06:00:00",
          "2021-01-07T07:00:00",
          "2021-01-07T08:00:00",
          "2021-01-07T09:00:00",
          "2021-01-07T10:00:00",
          "2021-01-07T11:00:00",
          "2021-01-07T12:00:00",
          "2021-01-07T13:00:00",
          "2021-01-07T14:00:00",
          "2021-01-07T15:00:00",
          "2021-01-07T16:00:00",
          "2021-01-07T17:00:00",
          "2021-01-07T18:00:00",
          "2021-01-07T19:00:00",
          "2021-01-07T20:00:00",
          "2021-01-08T06:00:00",
          "2021-01-08T08:00:00",
          "2021-01-08T09:00:00",
          "2021-01-08T10:00:00",
          "2021-01-08T11:00:00",
          "2021-01-08T12:00:00",
          "2021-01-08T13:00:00",
          "2021-01-08T14:00:00",
          "2021-01-08T15:00:00",
          "2021-01-08T16:00:00",
          "2021-01-08T17:00:00",
          "2021-01-08T18:00:00",
          "2021-01-08T19:00:00",
          "2021-01-08T20:00:00",
          "2021-01-11T05:00:00",
          "2021-01-11T06:00:00",
          "2021-01-11T07:00:00",
          "2021-01-11T08:00:00",
          "2021-01-11T09:00:00",
          "2021-01-11T10:00:00",
          "2021-01-11T11:00:00",
          "2021-01-11T12:00:00",
          "2021-01-11T13:00:00",
          "2021-01-11T14:00:00",
          "2021-01-11T15:00:00",
          "2021-01-11T16:00:00",
          "2021-01-11T17:00:00",
          "2021-01-11T18:00:00",
          "2021-01-11T19:00:00",
          "2021-01-11T20:00:00",
          "2021-01-12T05:00:00",
          "2021-01-12T06:00:00",
          "2021-01-12T07:00:00",
          "2021-01-12T08:00:00",
          "2021-01-12T09:00:00",
          "2021-01-12T10:00:00",
          "2021-01-12T11:00:00",
          "2021-01-12T12:00:00",
          "2021-01-12T13:00:00",
          "2021-01-12T14:00:00",
          "2021-01-12T15:00:00",
          "2021-01-12T16:00:00",
          "2021-01-12T17:00:00",
          "2021-01-12T18:00:00",
          "2021-01-12T19:00:00",
          "2021-01-12T20:00:00",
          "2021-01-13T05:00:00",
          "2021-01-13T07:00:00",
          "2021-01-13T08:00:00",
          "2021-01-13T09:00:00",
          "2021-01-13T10:00:00",
          "2021-01-13T11:00:00",
          "2021-01-13T12:00:00",
          "2021-01-13T13:00:00",
          "2021-01-13T14:00:00",
          "2021-01-13T15:00:00",
          "2021-01-13T16:00:00",
          "2021-01-13T17:00:00",
          "2021-01-13T18:00:00",
          "2021-01-13T19:00:00",
          "2021-01-13T20:00:00",
          "2021-01-14T05:00:00",
          "2021-01-14T06:00:00",
          "2021-01-14T07:00:00",
          "2021-01-14T08:00:00",
          "2021-01-14T09:00:00",
          "2021-01-14T10:00:00",
          "2021-01-14T11:00:00",
          "2021-01-14T12:00:00",
          "2021-01-14T13:00:00",
          "2021-01-14T14:00:00",
          "2021-01-14T15:00:00",
          "2021-01-14T16:00:00",
          "2021-01-14T17:00:00",
          "2021-01-14T18:00:00",
          "2021-01-14T19:00:00",
          "2021-01-14T20:00:00",
          "2021-01-15T05:00:00",
          "2021-01-15T06:00:00",
          "2021-01-15T07:00:00",
          "2021-01-15T08:00:00",
          "2021-01-15T09:00:00",
          "2021-01-15T10:00:00",
          "2021-01-15T11:00:00",
          "2021-01-15T12:00:00",
          "2021-01-15T13:00:00",
          "2021-01-15T14:00:00",
          "2021-01-15T15:00:00",
          "2021-01-15T16:00:00",
          "2021-01-15T17:00:00",
          "2021-01-15T18:00:00",
          "2021-01-15T19:00:00",
          "2021-01-15T20:00:00",
          "2021-01-19T05:00:00",
          "2021-01-19T06:00:00",
          "2021-01-19T07:00:00",
          "2021-01-19T08:00:00",
          "2021-01-19T09:00:00",
          "2021-01-19T10:00:00",
          "2021-01-19T11:00:00",
          "2021-01-19T12:00:00",
          "2021-01-19T13:00:00",
          "2021-01-19T14:00:00",
          "2021-01-19T15:00:00",
          "2021-01-19T16:00:00",
          "2021-01-19T17:00:00",
          "2021-01-19T18:00:00",
          "2021-01-19T19:00:00",
          "2021-01-19T20:00:00",
          "2021-01-20T05:00:00",
          "2021-01-20T06:00:00",
          "2021-01-20T07:00:00",
          "2021-01-20T08:00:00",
          "2021-01-20T09:00:00",
          "2021-01-20T10:00:00",
          "2021-01-20T11:00:00",
          "2021-01-20T12:00:00",
          "2021-01-20T13:00:00",
          "2021-01-20T14:00:00",
          "2021-01-20T15:00:00",
          "2021-01-20T16:00:00",
          "2021-01-20T17:00:00",
          "2021-01-20T18:00:00",
          "2021-01-20T19:00:00",
          "2021-01-20T20:00:00",
          "2021-01-21T05:00:00",
          "2021-01-21T07:00:00",
          "2021-01-21T08:00:00",
          "2021-01-21T09:00:00",
          "2021-01-21T10:00:00",
          "2021-01-21T11:00:00",
          "2021-01-21T12:00:00",
          "2021-01-21T13:00:00",
          "2021-01-21T14:00:00",
          "2021-01-21T15:00:00",
          "2021-01-21T16:00:00",
          "2021-01-21T17:00:00",
          "2021-01-21T18:00:00",
          "2021-01-21T19:00:00",
          "2021-01-21T20:00:00",
          "2021-01-22T05:00:00",
          "2021-01-22T06:00:00",
          "2021-01-22T07:00:00",
          "2021-01-22T08:00:00",
          "2021-01-22T09:00:00",
          "2021-01-22T10:00:00",
          "2021-01-22T11:00:00",
          "2021-01-22T12:00:00",
          "2021-01-22T13:00:00",
          "2021-01-22T14:00:00",
          "2021-01-22T15:00:00",
          "2021-01-22T16:00:00",
          "2021-01-22T17:00:00",
          "2021-01-22T18:00:00",
          "2021-01-22T19:00:00",
          "2021-01-22T20:00:00",
          "2021-01-25T05:00:00",
          "2021-01-25T06:00:00",
          "2021-01-25T07:00:00",
          "2021-01-25T08:00:00",
          "2021-01-25T09:00:00",
          "2021-01-25T10:00:00",
          "2021-01-25T11:00:00",
          "2021-01-25T12:00:00",
          "2021-01-25T13:00:00",
          "2021-01-25T14:00:00",
          "2021-01-25T15:00:00",
          "2021-01-25T16:00:00",
          "2021-01-25T17:00:00",
          "2021-01-25T18:00:00",
          "2021-01-25T19:00:00",
          "2021-01-25T20:00:00",
          "2021-01-26T05:00:00",
          "2021-01-26T06:00:00",
          "2021-01-26T07:00:00",
          "2021-01-26T08:00:00",
          "2021-01-26T09:00:00",
          "2021-01-26T10:00:00",
          "2021-01-26T11:00:00",
          "2021-01-26T12:00:00",
          "2021-01-26T13:00:00",
          "2021-01-26T14:00:00",
          "2021-01-26T15:00:00",
          "2021-01-26T16:00:00",
          "2021-01-26T17:00:00",
          "2021-01-26T18:00:00",
          "2021-01-26T19:00:00",
          "2021-01-26T20:00:00",
          "2021-01-27T05:00:00",
          "2021-01-27T06:00:00",
          "2021-01-27T07:00:00",
          "2021-01-27T08:00:00",
          "2021-01-27T09:00:00",
          "2021-01-27T10:00:00",
          "2021-01-27T11:00:00",
          "2021-01-27T12:00:00",
          "2021-01-27T13:00:00",
          "2021-01-27T14:00:00",
          "2021-01-27T15:00:00",
          "2021-01-27T16:00:00",
          "2021-01-27T17:00:00",
          "2021-01-27T18:00:00",
          "2021-01-27T19:00:00",
          "2021-01-27T20:00:00",
          "2021-01-28T05:00:00",
          "2021-01-28T06:00:00",
          "2021-01-28T07:00:00",
          "2021-01-28T08:00:00",
          "2021-01-28T09:00:00",
          "2021-01-28T10:00:00",
          "2021-01-28T11:00:00",
          "2021-01-28T12:00:00",
          "2021-01-28T13:00:00",
          "2021-01-28T14:00:00",
          "2021-01-28T15:00:00",
          "2021-01-28T16:00:00",
          "2021-01-28T17:00:00",
          "2021-01-28T18:00:00",
          "2021-01-28T19:00:00",
          "2021-01-28T20:00:00",
          "2021-01-29T05:00:00",
          "2021-01-29T06:00:00",
          "2021-01-29T07:00:00",
          "2021-01-29T08:00:00",
          "2021-01-29T09:00:00",
          "2021-01-29T10:00:00",
          "2021-01-29T11:00:00",
          "2021-01-29T12:00:00",
          "2021-01-29T13:00:00",
          "2021-01-29T14:00:00",
          "2021-01-29T15:00:00",
          "2021-01-29T16:00:00",
          "2021-01-29T17:00:00",
          "2021-01-29T18:00:00",
          "2021-01-29T19:00:00",
          "2021-01-29T20:00:00",
          "2021-02-01T05:00:00",
          "2021-02-01T06:00:00",
          "2021-02-01T07:00:00",
          "2021-02-01T08:00:00",
          "2021-02-01T09:00:00",
          "2021-02-01T10:00:00",
          "2021-02-01T11:00:00",
          "2021-02-01T12:00:00",
          "2021-02-01T13:00:00",
          "2021-02-01T14:00:00",
          "2021-02-01T15:00:00",
          "2021-02-01T16:00:00",
          "2021-02-01T17:00:00",
          "2021-02-01T18:00:00",
          "2021-02-01T19:00:00",
          "2021-02-01T20:00:00",
          "2021-02-02T05:00:00",
          "2021-02-02T06:00:00",
          "2021-02-02T07:00:00",
          "2021-02-02T08:00:00",
          "2021-02-02T09:00:00",
          "2021-02-02T10:00:00",
          "2021-02-02T11:00:00",
          "2021-02-02T12:00:00",
          "2021-02-02T13:00:00",
          "2021-02-02T14:00:00",
          "2021-02-02T15:00:00",
          "2021-02-02T16:00:00",
          "2021-02-02T17:00:00",
          "2021-02-02T18:00:00",
          "2021-02-02T19:00:00",
          "2021-02-02T20:00:00",
          "2021-02-03T05:00:00",
          "2021-02-03T06:00:00",
          "2021-02-03T07:00:00",
          "2021-02-03T08:00:00",
          "2021-02-03T09:00:00",
          "2021-02-03T10:00:00",
          "2021-02-03T11:00:00",
          "2021-02-03T12:00:00",
          "2021-02-03T13:00:00",
          "2021-02-03T14:00:00",
          "2021-02-03T15:00:00",
          "2021-02-03T16:00:00",
          "2021-02-03T17:00:00",
          "2021-02-03T18:00:00",
          "2021-02-03T19:00:00",
          "2021-02-03T20:00:00",
          "2021-02-04T05:00:00",
          "2021-02-04T06:00:00",
          "2021-02-04T07:00:00",
          "2021-02-04T08:00:00",
          "2021-02-04T09:00:00",
          "2021-02-04T10:00:00",
          "2021-02-04T11:00:00",
          "2021-02-04T12:00:00",
          "2021-02-04T13:00:00",
          "2021-02-04T14:00:00",
          "2021-02-04T15:00:00",
          "2021-02-04T16:00:00",
          "2021-02-04T17:00:00",
          "2021-02-04T18:00:00",
          "2021-02-04T19:00:00",
          "2021-02-04T20:00:00",
          "2021-02-05T05:00:00",
          "2021-02-05T06:00:00",
          "2021-02-05T07:00:00",
          "2021-02-05T08:00:00",
          "2021-02-05T09:00:00",
          "2021-02-05T10:00:00",
          "2021-02-05T11:00:00",
          "2021-02-05T12:00:00",
          "2021-02-05T13:00:00",
          "2021-02-05T14:00:00",
          "2021-02-05T15:00:00",
          "2021-02-05T16:00:00",
          "2021-02-05T17:00:00",
          "2021-02-05T18:00:00",
          "2021-02-05T19:00:00",
          "2021-02-05T20:00:00",
          "2021-02-08T05:00:00",
          "2021-02-08T06:00:00",
          "2021-02-08T07:00:00",
          "2021-02-08T08:00:00",
          "2021-02-08T09:00:00",
          "2021-02-08T10:00:00",
          "2021-02-08T11:00:00",
          "2021-02-08T12:00:00",
          "2021-02-08T13:00:00",
          "2021-02-08T14:00:00",
          "2021-02-08T15:00:00",
          "2021-02-08T16:00:00",
          "2021-02-08T17:00:00",
          "2021-02-08T18:00:00",
          "2021-02-08T19:00:00",
          "2021-02-08T20:00:00",
          "2021-02-09T05:00:00",
          "2021-02-09T06:00:00",
          "2021-02-09T07:00:00",
          "2021-02-09T08:00:00",
          "2021-02-09T09:00:00",
          "2021-02-09T10:00:00",
          "2021-02-09T11:00:00",
          "2021-02-09T12:00:00",
          "2021-02-09T13:00:00",
          "2021-02-09T14:00:00",
          "2021-02-09T15:00:00",
          "2021-02-09T16:00:00",
          "2021-02-09T17:00:00",
          "2021-02-09T18:00:00",
          "2021-02-09T19:00:00",
          "2021-02-09T20:00:00",
          "2021-02-10T05:00:00",
          "2021-02-10T06:00:00",
          "2021-02-10T07:00:00",
          "2021-02-10T08:00:00",
          "2021-02-10T09:00:00",
          "2021-02-10T10:00:00",
          "2021-02-10T11:00:00",
          "2021-02-10T12:00:00",
          "2021-02-10T13:00:00",
          "2021-02-10T14:00:00",
          "2021-02-10T15:00:00",
          "2021-02-10T16:00:00",
          "2021-02-10T17:00:00",
          "2021-02-10T18:00:00",
          "2021-02-10T19:00:00",
          "2021-02-10T20:00:00",
          "2021-02-11T05:00:00",
          "2021-02-11T06:00:00",
          "2021-02-11T07:00:00",
          "2021-02-11T08:00:00",
          "2021-02-11T09:00:00",
          "2021-02-11T10:00:00",
          "2021-02-11T11:00:00",
          "2021-02-11T12:00:00",
          "2021-02-11T13:00:00",
          "2021-02-11T14:00:00",
          "2021-02-11T15:00:00",
          "2021-02-11T16:00:00",
          "2021-02-11T17:00:00",
          "2021-02-11T18:00:00",
          "2021-02-11T19:00:00",
          "2021-02-11T20:00:00",
          "2021-02-12T05:00:00",
          "2021-02-12T06:00:00",
          "2021-02-12T07:00:00",
          "2021-02-12T08:00:00",
          "2021-02-12T09:00:00",
          "2021-02-12T10:00:00",
          "2021-02-12T11:00:00",
          "2021-02-12T12:00:00",
          "2021-02-12T13:00:00",
          "2021-02-12T14:00:00",
          "2021-02-12T15:00:00",
          "2021-02-12T16:00:00",
          "2021-02-12T17:00:00",
          "2021-02-12T18:00:00",
          "2021-02-12T19:00:00",
          "2021-02-12T20:00:00"
         ]
        }
       ],
       "layout": {
        "plot_bgcolor": "rgb(84, 85, 87)",
        "template": {
         "data": {
          "bar": [
           {
            "error_x": {
             "color": "#2a3f5f"
            },
            "error_y": {
             "color": "#2a3f5f"
            },
            "marker": {
             "line": {
              "color": "#E5ECF6",
              "width": 0.5
             }
            },
            "type": "bar"
           }
          ],
          "barpolar": [
           {
            "marker": {
             "line": {
              "color": "#E5ECF6",
              "width": 0.5
             }
            },
            "type": "barpolar"
           }
          ],
          "carpet": [
           {
            "aaxis": {
             "endlinecolor": "#2a3f5f",
             "gridcolor": "white",
             "linecolor": "white",
             "minorgridcolor": "white",
             "startlinecolor": "#2a3f5f"
            },
            "baxis": {
             "endlinecolor": "#2a3f5f",
             "gridcolor": "white",
             "linecolor": "white",
             "minorgridcolor": "white",
             "startlinecolor": "#2a3f5f"
            },
            "type": "carpet"
           }
          ],
          "choropleth": [
           {
            "colorbar": {
             "outlinewidth": 0,
             "ticks": ""
            },
            "type": "choropleth"
           }
          ],
          "contour": [
           {
            "colorbar": {
             "outlinewidth": 0,
             "ticks": ""
            },
            "colorscale": [
             [
              0,
              "#0d0887"
             ],
             [
              0.1111111111111111,
              "#46039f"
             ],
             [
              0.2222222222222222,
              "#7201a8"
             ],
             [
              0.3333333333333333,
              "#9c179e"
             ],
             [
              0.4444444444444444,
              "#bd3786"
             ],
             [
              0.5555555555555556,
              "#d8576b"
             ],
             [
              0.6666666666666666,
              "#ed7953"
             ],
             [
              0.7777777777777778,
              "#fb9f3a"
             ],
             [
              0.8888888888888888,
              "#fdca26"
             ],
             [
              1,
              "#f0f921"
             ]
            ],
            "type": "contour"
           }
          ],
          "contourcarpet": [
           {
            "colorbar": {
             "outlinewidth": 0,
             "ticks": ""
            },
            "type": "contourcarpet"
           }
          ],
          "heatmap": [
           {
            "colorbar": {
             "outlinewidth": 0,
             "ticks": ""
            },
            "colorscale": [
             [
              0,
              "#0d0887"
             ],
             [
              0.1111111111111111,
              "#46039f"
             ],
             [
              0.2222222222222222,
              "#7201a8"
             ],
             [
              0.3333333333333333,
              "#9c179e"
             ],
             [
              0.4444444444444444,
              "#bd3786"
             ],
             [
              0.5555555555555556,
              "#d8576b"
             ],
             [
              0.6666666666666666,
              "#ed7953"
             ],
             [
              0.7777777777777778,
              "#fb9f3a"
             ],
             [
              0.8888888888888888,
              "#fdca26"
             ],
             [
              1,
              "#f0f921"
             ]
            ],
            "type": "heatmap"
           }
          ],
          "heatmapgl": [
           {
            "colorbar": {
             "outlinewidth": 0,
             "ticks": ""
            },
            "colorscale": [
             [
              0,
              "#0d0887"
             ],
             [
              0.1111111111111111,
              "#46039f"
             ],
             [
              0.2222222222222222,
              "#7201a8"
             ],
             [
              0.3333333333333333,
              "#9c179e"
             ],
             [
              0.4444444444444444,
              "#bd3786"
             ],
             [
              0.5555555555555556,
              "#d8576b"
             ],
             [
              0.6666666666666666,
              "#ed7953"
             ],
             [
              0.7777777777777778,
              "#fb9f3a"
             ],
             [
              0.8888888888888888,
              "#fdca26"
             ],
             [
              1,
              "#f0f921"
             ]
            ],
            "type": "heatmapgl"
           }
          ],
          "histogram": [
           {
            "marker": {
             "colorbar": {
              "outlinewidth": 0,
              "ticks": ""
             }
            },
            "type": "histogram"
           }
          ],
          "histogram2d": [
           {
            "colorbar": {
             "outlinewidth": 0,
             "ticks": ""
            },
            "colorscale": [
             [
              0,
              "#0d0887"
             ],
             [
              0.1111111111111111,
              "#46039f"
             ],
             [
              0.2222222222222222,
              "#7201a8"
             ],
             [
              0.3333333333333333,
              "#9c179e"
             ],
             [
              0.4444444444444444,
              "#bd3786"
             ],
             [
              0.5555555555555556,
              "#d8576b"
             ],
             [
              0.6666666666666666,
              "#ed7953"
             ],
             [
              0.7777777777777778,
              "#fb9f3a"
             ],
             [
              0.8888888888888888,
              "#fdca26"
             ],
             [
              1,
              "#f0f921"
             ]
            ],
            "type": "histogram2d"
           }
          ],
          "histogram2dcontour": [
           {
            "colorbar": {
             "outlinewidth": 0,
             "ticks": ""
            },
            "colorscale": [
             [
              0,
              "#0d0887"
             ],
             [
              0.1111111111111111,
              "#46039f"
             ],
             [
              0.2222222222222222,
              "#7201a8"
             ],
             [
              0.3333333333333333,
              "#9c179e"
             ],
             [
              0.4444444444444444,
              "#bd3786"
             ],
             [
              0.5555555555555556,
              "#d8576b"
             ],
             [
              0.6666666666666666,
              "#ed7953"
             ],
             [
              0.7777777777777778,
              "#fb9f3a"
             ],
             [
              0.8888888888888888,
              "#fdca26"
             ],
             [
              1,
              "#f0f921"
             ]
            ],
            "type": "histogram2dcontour"
           }
          ],
          "mesh3d": [
           {
            "colorbar": {
             "outlinewidth": 0,
             "ticks": ""
            },
            "type": "mesh3d"
           }
          ],
          "parcoords": [
           {
            "line": {
             "colorbar": {
              "outlinewidth": 0,
              "ticks": ""
             }
            },
            "type": "parcoords"
           }
          ],
          "pie": [
           {
            "automargin": true,
            "type": "pie"
           }
          ],
          "scatter": [
           {
            "marker": {
             "colorbar": {
              "outlinewidth": 0,
              "ticks": ""
             }
            },
            "type": "scatter"
           }
          ],
          "scatter3d": [
           {
            "line": {
             "colorbar": {
              "outlinewidth": 0,
              "ticks": ""
             }
            },
            "marker": {
             "colorbar": {
              "outlinewidth": 0,
              "ticks": ""
             }
            },
            "type": "scatter3d"
           }
          ],
          "scattercarpet": [
           {
            "marker": {
             "colorbar": {
              "outlinewidth": 0,
              "ticks": ""
             }
            },
            "type": "scattercarpet"
           }
          ],
          "scattergeo": [
           {
            "marker": {
             "colorbar": {
              "outlinewidth": 0,
              "ticks": ""
             }
            },
            "type": "scattergeo"
           }
          ],
          "scattergl": [
           {
            "marker": {
             "colorbar": {
              "outlinewidth": 0,
              "ticks": ""
             }
            },
            "type": "scattergl"
           }
          ],
          "scattermapbox": [
           {
            "marker": {
             "colorbar": {
              "outlinewidth": 0,
              "ticks": ""
             }
            },
            "type": "scattermapbox"
           }
          ],
          "scatterpolar": [
           {
            "marker": {
             "colorbar": {
              "outlinewidth": 0,
              "ticks": ""
             }
            },
            "type": "scatterpolar"
           }
          ],
          "scatterpolargl": [
           {
            "marker": {
             "colorbar": {
              "outlinewidth": 0,
              "ticks": ""
             }
            },
            "type": "scatterpolargl"
           }
          ],
          "scatterternary": [
           {
            "marker": {
             "colorbar": {
              "outlinewidth": 0,
              "ticks": ""
             }
            },
            "type": "scatterternary"
           }
          ],
          "surface": [
           {
            "colorbar": {
             "outlinewidth": 0,
             "ticks": ""
            },
            "colorscale": [
             [
              0,
              "#0d0887"
             ],
             [
              0.1111111111111111,
              "#46039f"
             ],
             [
              0.2222222222222222,
              "#7201a8"
             ],
             [
              0.3333333333333333,
              "#9c179e"
             ],
             [
              0.4444444444444444,
              "#bd3786"
             ],
             [
              0.5555555555555556,
              "#d8576b"
             ],
             [
              0.6666666666666666,
              "#ed7953"
             ],
             [
              0.7777777777777778,
              "#fb9f3a"
             ],
             [
              0.8888888888888888,
              "#fdca26"
             ],
             [
              1,
              "#f0f921"
             ]
            ],
            "type": "surface"
           }
          ],
          "table": [
           {
            "cells": {
             "fill": {
              "color": "#EBF0F8"
             },
             "line": {
              "color": "white"
             }
            },
            "header": {
             "fill": {
              "color": "#C8D4E3"
             },
             "line": {
              "color": "white"
             }
            },
            "type": "table"
           }
          ]
         },
         "layout": {
          "annotationdefaults": {
           "arrowcolor": "#2a3f5f",
           "arrowhead": 0,
           "arrowwidth": 1
          },
          "autotypenumbers": "strict",
          "coloraxis": {
           "colorbar": {
            "outlinewidth": 0,
            "ticks": ""
           }
          },
          "colorscale": {
           "diverging": [
            [
             0,
             "#8e0152"
            ],
            [
             0.1,
             "#c51b7d"
            ],
            [
             0.2,
             "#de77ae"
            ],
            [
             0.3,
             "#f1b6da"
            ],
            [
             0.4,
             "#fde0ef"
            ],
            [
             0.5,
             "#f7f7f7"
            ],
            [
             0.6,
             "#e6f5d0"
            ],
            [
             0.7,
             "#b8e186"
            ],
            [
             0.8,
             "#7fbc41"
            ],
            [
             0.9,
             "#4d9221"
            ],
            [
             1,
             "#276419"
            ]
           ],
           "sequential": [
            [
             0,
             "#0d0887"
            ],
            [
             0.1111111111111111,
             "#46039f"
            ],
            [
             0.2222222222222222,
             "#7201a8"
            ],
            [
             0.3333333333333333,
             "#9c179e"
            ],
            [
             0.4444444444444444,
             "#bd3786"
            ],
            [
             0.5555555555555556,
             "#d8576b"
            ],
            [
             0.6666666666666666,
             "#ed7953"
            ],
            [
             0.7777777777777778,
             "#fb9f3a"
            ],
            [
             0.8888888888888888,
             "#fdca26"
            ],
            [
             1,
             "#f0f921"
            ]
           ],
           "sequentialminus": [
            [
             0,
             "#0d0887"
            ],
            [
             0.1111111111111111,
             "#46039f"
            ],
            [
             0.2222222222222222,
             "#7201a8"
            ],
            [
             0.3333333333333333,
             "#9c179e"
            ],
            [
             0.4444444444444444,
             "#bd3786"
            ],
            [
             0.5555555555555556,
             "#d8576b"
            ],
            [
             0.6666666666666666,
             "#ed7953"
            ],
            [
             0.7777777777777778,
             "#fb9f3a"
            ],
            [
             0.8888888888888888,
             "#fdca26"
            ],
            [
             1,
             "#f0f921"
            ]
           ]
          },
          "colorway": [
           "#636efa",
           "#EF553B",
           "#00cc96",
           "#ab63fa",
           "#FFA15A",
           "#19d3f3",
           "#FF6692",
           "#B6E880",
           "#FF97FF",
           "#FECB52"
          ],
          "font": {
           "color": "#2a3f5f"
          },
          "geo": {
           "bgcolor": "white",
           "lakecolor": "white",
           "landcolor": "#E5ECF6",
           "showlakes": true,
           "showland": true,
           "subunitcolor": "white"
          },
          "hoverlabel": {
           "align": "left"
          },
          "hovermode": "closest",
          "mapbox": {
           "style": "light"
          },
          "paper_bgcolor": "white",
          "plot_bgcolor": "#E5ECF6",
          "polar": {
           "angularaxis": {
            "gridcolor": "white",
            "linecolor": "white",
            "ticks": ""
           },
           "bgcolor": "#E5ECF6",
           "radialaxis": {
            "gridcolor": "white",
            "linecolor": "white",
            "ticks": ""
           }
          },
          "scene": {
           "xaxis": {
            "backgroundcolor": "#E5ECF6",
            "gridcolor": "white",
            "gridwidth": 2,
            "linecolor": "white",
            "showbackground": true,
            "ticks": "",
            "zerolinecolor": "white"
           },
           "yaxis": {
            "backgroundcolor": "#E5ECF6",
            "gridcolor": "white",
            "gridwidth": 2,
            "linecolor": "white",
            "showbackground": true,
            "ticks": "",
            "zerolinecolor": "white"
           },
           "zaxis": {
            "backgroundcolor": "#E5ECF6",
            "gridcolor": "white",
            "gridwidth": 2,
            "linecolor": "white",
            "showbackground": true,
            "ticks": "",
            "zerolinecolor": "white"
           }
          },
          "shapedefaults": {
           "line": {
            "color": "#2a3f5f"
           }
          },
          "ternary": {
           "aaxis": {
            "gridcolor": "white",
            "linecolor": "white",
            "ticks": ""
           },
           "baxis": {
            "gridcolor": "white",
            "linecolor": "white",
            "ticks": ""
           },
           "bgcolor": "#E5ECF6",
           "caxis": {
            "gridcolor": "white",
            "linecolor": "white",
            "ticks": ""
           }
          },
          "title": {
           "x": 0.05
          },
          "xaxis": {
           "automargin": true,
           "gridcolor": "white",
           "linecolor": "white",
           "ticks": "",
           "title": {
            "standoff": 15
           },
           "zerolinecolor": "white",
           "zerolinewidth": 2
          },
          "yaxis": {
           "automargin": true,
           "gridcolor": "white",
           "linecolor": "white",
           "ticks": "",
           "title": {
            "standoff": 15
           },
           "zerolinecolor": "white",
           "zerolinewidth": 2
          }
         }
        },
        "title": {
         "text": "Hourly Candlestick"
        },
        "xaxis": {
         "gridcolor": "rgb(144, 145, 142)",
         "rangeslider": {
          "visible": false
         },
         "title": {
          "text": "Date"
         }
        },
        "yaxis": {
         "gridcolor": "rgb(144, 145, 142)",
         "title": {
          "text": "Price"
         }
        }
       }
      },
      "text/html": [
       "<div>                            <div id=\"b5e23748-c8bc-4a78-ae17-7778d31c4fd8\" class=\"plotly-graph-div\" style=\"height:525px; width:100%;\"></div>            <script type=\"text/javascript\">                require([\"plotly\"], function(Plotly) {                    window.PLOTLYENV=window.PLOTLYENV || {};                                    if (document.getElementById(\"b5e23748-c8bc-4a78-ae17-7778d31c4fd8\")) {                    Plotly.newPlot(                        \"b5e23748-c8bc-4a78-ae17-7778d31c4fd8\",                        [{\"close\": [19.8, 19.8, 19.55, 19.3, 19.36, 19.46, 19.05, 19.37, 19.72, 19.46, 18.99, 18.81, 18.8, 19.1, 18.87, 18.88, 19.4, 19.35, 19.0, 18.96, 17.425, 17.52, 17.585, 17.67, 17.5711, 17.405, 17.24, 17.37, 17.4, 17.47, 17.37, 17.25, 17.5, 17.3, 17.1001, 17.7, 17.55, 17.555, 17.64, 17.4897, 17.267, 17.36, 17.48, 17.49, 17.49, 17.58, 17.3, 17.27, 17.57, 17.55, 17.605, 18.4, 18.68, 18.7844, 18.815, 18.23, 18.39, 18.3, 18.8, 18.51, 18.6999, 19.03, 19.0, 19.0, 19.0, 19.4001, 18.85, 18.56, 18.575, 18.39, 18.275, 18.12, 18.2502, 18.25, 18.26, 18.4, 18.09, 18.34, 18.33, 17.595, 17.57, 17.55, 17.875, 17.6, 17.88, 17.6899, 17.9, 17.9, 17.97, 17.7, 17.13, 17.12, 17.2, 21.51, 19.2, 20.5, 19.32, 19.365, 19.605, 20.37, 19.8425, 19.93, 19.93, 19.95, 20.06, 20.1, 20.0, 20.0, 20.23, 20.0, 19.9701, 19.61, 20.195, 20.0399, 20.1272, 19.865, 19.7926, 19.94, 20.0, 20.03, 20.0999, 20.15, 20.15, 20.36, 20.32, 20.39, 22.91, 28.646, 31.75, 34.31, 33.52, 33.025, 31.44, 31.25, 32.02, 32.44, 32.8, 37.51, 36.0, 36.0, 36.7, 36.55, 35.14, 35.2236, 36.88, 37.9999, 38.91, 39.275, 39.9184, 39.63, 42.34, 41.94, 42.0, 41.8, 40.2, 40.74, 38.49, 38.3, 37.3947, 36.62, 34.21, 35.8156, 35.9672, 37.89, 35.49, 35.3498, 35.25, 35.9, 36.0, 40.9, 41.25, 40.34, 38.38, 40.88, 40.7378, 37.76, 39.6201, 42.12, 40.94, 40.276, 39.51, 38.8398, 38.89, 38.75, 38.6, 37.83, 37.7, 37.9, 38.42, 37.87, 37.9175, 36.86, 39.35, 38.67, 39.2744, 39.59, 39.12, 38.8, 38.71, 38.9, 39.05, 39.2, 38.9, 38.56, 39.0, 38.5, 39.8675, 42.2501, 39.7, 42.218, 40.56, 43.02, 42.98, 43.5, 45.39, 45.35, 45.1, 44.34, 44.4, 45.25, 44.39, 45.98, 47.6795, 52.2, 70.3, 55.1097, 59.18, 64.85, 67.6, 63.8, 63.7, 61.0, 105.39, 96.77, 94.43, 91.65, 98.05, 89.76, 117.07, 99.56, 69.42, 76.7499, 77.0001, 76.765, 78.5, 81.71, 82.8801, 88.87, 94.0, 88.55, 88.5, 91.51, 89.25, 87.57, 87.6101, 87.7999, 105.5556, 114.5499, 131.845, 145.965, 224.45, 208.14, 225.0, 209.51, 299.19, 351.0, 197.89, 230.0, 231.5, 310.69, 371.82, 312.61, 342.172, 326.59, 319.6006, 345.0, 327.26, 319.85, 248.8, 292.0, 335.0, 456.0, 445.0, 459.0, 341.0, 468.49, 264.01, 255.7614, 239.6656, 241.5301, 247.17, 197.44, 257.0, 281.85, 347.01, 311.99, 425.94, 389.05, 395.01, 346.49, 362.79, 317.37, 334.62, 340.1656, 329.3264, 276.1098, 283.5608, 328.24, 322.02, 306.0, 315.72, 312.01, 348.0, 337.0, 328.18, 323.35, 317.8, 269.9999, 237.39, 259.2, 248.0, 250.0, 240.1828, 227.0, 207.55, 178.0, 187.75, 189.52, 171.0, 174.5, 158.49, 138.7, 127.5, 115.0, 91.5, 114.85, 117.95, 104.3724, 99.9, 90.47, 88.78, 92.0, 90.0, 85.2, 87.2, 96.0, 91.44, 89.86, 93.35, 92.89, 99.43, 93.55, 99.97, 107.4999, 97.94, 92.0431, 90.6, 92.0, 89.6, 88.88, 93.57, 96.75, 95.13, 94.5, 94.93, 83.39, 71.4, 68.5801, 64.31, 60.0001, 58.23, 53.378, 53.15, 50.25, 50.2, 49.17, 60.87, 59.33, 58.75, 59.09, 57.16, 82.77, 70.8185, 64.39, 63.55, 61.0, 60.8201, 63.7601, 64.87, 69.51, 67.2, 66.46, 69.0, 71.0, 71.45, 69.48, 69.55, 64.65, 60.75, 59.65, 60.15, 59.6623, 58.8001, 59.9599, 59.59, 59.6, 59.78, 59.5, 57.0, 57.0, 56.8, 55.5, 56.7, 53.63, 49.05, 48.5379, 48.7399, 48.8699, 50.8807, 50.32, 52.0, 51.45, 50.25, 49.99, 50.35, 48.5, 48.7, 51.15, 50.99, 50.49, 49.77, 52.53, 55.8101, 56.345, 53.2817, 51.19, 49.47, 50.2, 49.99, 49.9, 49.67, 51.0, 50.39, 50.2, 50.26, 52.215, 50.185, 49.1105, 48.88, 48.61, 48.7263, 50.9, 50.13, 49.5, 50.25, 50.28, 51.0, 50.09, 50.12, 51.27, 50.9, 50.725, 53.68, 52.2185, 52.2968, 51.36, 51.328, 52.33, 51.9, 51.75, 52.6, 52.9], \"high\": [19.8, 19.8, 19.56, 19.55, 19.4993, 19.63, 19.49, 19.4599, 19.8, 19.7499, 19.47, 19.04, 18.9598, 19.1, 18.95, 18.95, 19.4, 19.42, 19.25, 19.1499, 19.1, 18.11, 17.72, 17.82, 17.69, 17.62, 17.55, 17.53, 17.49, 17.5, 17.51, 17.25, 17.5, 17.7, 17.55, 18.0765, 17.84, 17.7, 17.66, 17.66, 17.5699, 17.54, 17.52, 17.49, 17.5, 17.7, 17.51, 17.27, 17.57, 17.65, 17.95, 18.48, 18.73, 18.98, 18.88, 18.98, 18.43, 18.36, 18.8, 18.8, 18.72, 19.03, 19.08, 19.0, 19.11, 19.45, 19.44, 18.9032, 18.82, 18.655, 18.47, 18.42, 18.33, 18.46, 18.4, 18.43, 18.09, 18.4, 18.4, 18.33, 17.86, 17.63, 17.98, 17.88, 17.927, 17.9489, 17.9, 17.9, 18.0, 17.97, 17.5, 17.12, 17.2, 21.82, 21.8, 20.65, 20.53, 19.62, 19.75, 20.49, 20.374, 19.93, 20.12, 19.95, 20.06, 20.15, 20.1, 20.28, 20.25, 20.23, 20.24, 20.4, 20.25, 20.2078, 20.1289, 20.16, 19.969, 20.04, 20.14, 20.15, 20.0999, 20.15, 20.15, 20.36, 20.47, 20.61, 23.4, 29.1, 38.65, 34.6841, 34.93, 34.38, 33.24, 31.98, 33.0, 32.95, 32.9, 38.2, 37.85, 36.34, 39.75, 39.74, 38.77, 37.11, 37.24, 43.06, 41.5, 40.41, 40.03, 40.1, 43.57, 43.06, 42.5, 42.5, 41.93, 40.99, 41.55, 41.5, 41.4899, 38.38, 37.01, 36.67, 36.3, 38.49, 38.02, 35.6, 36.0, 36.07, 36.25, 42.61, 41.5, 41.1, 40.99, 41.24, 45.52, 40.76, 39.69, 42.3, 42.1978, 40.99, 40.53, 39.71, 38.96, 38.96, 38.8, 38.58, 38.05, 38.0, 38.5, 39.0, 39.3933, 38.19, 41.1899, 40.05, 39.55, 39.97, 40.14, 39.2, 39.12, 39.0, 39.1, 39.2, 39.0, 39.02, 39.38, 39.79, 40.53, 44.75, 42.8, 42.59, 42.55, 43.19, 44.1, 43.9, 45.45, 47.47, 45.5, 45.1, 45.2, 46.94, 46.94, 46.29, 47.73, 53.95, 76.7573, 71.99, 61.49, 68.0, 68.46, 67.89, 64.88, 63.6, 136.63, 109.0, 101.7, 97.0, 104.53, 103.0, 159.18, 120.0, 103.0, 81.5, 96.1192, 132.45, 79.75, 83.5, 158.09, 90.0, 100.0, 94.25, 91.0, 94.39, 94.39, 101.62, 94.0, 90.68, 114.24, 124.5799, 143.89, 150.0, 244.0, 248.9, 231.5, 227.19, 299.33, 365.42, 353.0, 277.0, 273.4, 385.0, 380.0, 380.0, 350.0, 347.16, 337.89, 353.0, 373.02, 347.51, 319.9, 303.0, 360.0, 457.89, 513.12, 508.83, 489.12, 509.0, 483.0, 282.55, 324.0, 267.0, 265.0, 261.9899, 282.92, 509.0, 348.86, 355.9, 470.0, 420.0, 400.0, 399.98, 392.01, 413.98, 347.0, 344.99, 377.0, 336.0, 306.95, 335.0, 330.9, 350.0, 320.0, 321.1, 384.89, 356.36, 345.0, 331.9, 333.0, 322.0, 284.0, 280.0, 262.5999, 253.8899, 251.0, 240.1096, 231.0, 208.79, 190.0, 198.99, 178.31, 176.39, 175.21, 162.65, 161.0, 162.0, 125.0, 154.3999, 127.98, 118.75, 110.5499, 101.9599, 93.89, 96.0, 94.0, 90.5, 88.75, 106.0, 99.9, 94.5, 96.8, 121.36, 104.35, 99.8799, 102.71, 109.5983, 107.7599, 100.3745, 93.36, 92.03, 91.9, 89.5, 100.01, 97.0, 97.0, 95.53, 95.6, 95.6, 86.0, 76.01, 71.3, 64.4999, 61.98, 58.4999, 54.39, 53.17, 51.24, 50.94, 64.8, 62.6, 59.52, 59.2, 59.99, 82.77, 95.0, 74.45, 65.8899, 64.5, 62.78, 66.47, 66.49, 70.47, 72.0, 68.0, 72.3, 72.4, 75.8, 72.99, 73.0, 73.5, 70.6, 61.41, 60.75, 70.89, 59.76, 60.5, 60.0, 59.7, 59.8, 59.8, 61.0, 57.09, 56.8, 57.5, 57.51, 58.05, 53.68, 49.55, 50.755, 49.3899, 51.5, 50.9499, 56.2, 52.55, 51.69, 50.83, 53.0, 50.3, 48.7, 53.49, 53.5, 52.29, 57.8, 54.4199, 56.8, 62.83, 56.87, 53.4499, 51.78, 51.2, 50.25, 50.18, 50.47, 51.5, 51.2, 51.0, 50.98, 55.32, 52.2999, 50.2683, 49.3, 49.74, 49.14, 52.25, 51.1, 51.1, 50.25, 50.5, 51.0, 50.3, 50.15, 51.55, 51.55, 54.0, 54.14, 53.8, 55.24, 53.26, 51.63, 52.45, 52.4, 52.2, 52.6, 52.9], \"low\": [19.8, 19.8, 19.52, 19.27, 19.3, 18.96, 18.96, 19.03, 19.34, 19.33, 18.905, 18.8, 18.29, 18.65, 18.8, 18.88, 19.1, 19.35, 19.0, 18.9, 17.3501, 17.15, 17.26, 17.44, 17.48, 17.36, 17.22, 17.2202, 17.4, 17.47, 17.37, 17.25, 17.5, 17.29, 17.06, 17.08, 17.51, 17.45, 17.525, 17.39, 17.23, 17.24, 17.37, 17.37, 17.4, 17.53, 17.3, 17.27, 17.48, 17.4, 17.33, 17.54, 18.3, 18.52, 18.7201, 17.62, 18.08, 17.98, 18.29, 18.46, 18.46, 18.98, 19.0, 18.83, 18.8, 18.45, 18.78, 18.43, 18.545, 18.36, 18.15, 18.02, 18.01, 18.08, 18.25, 18.34, 18.09, 18.15, 18.1, 17.45, 17.08, 17.35, 17.5, 17.44, 17.6185, 17.56, 17.69, 17.8, 17.85, 17.7, 17.1, 17.12, 17.2, 17.05, 17.1, 18.8, 19.05, 19.01, 19.18, 19.58, 19.74, 19.65, 19.8, 19.85, 19.94, 20.0, 20.0, 20.0, 20.09, 20.0, 19.95, 19.3168, 19.45, 19.83, 19.78, 19.845, 19.751, 19.71, 19.91, 20.0, 19.95, 19.96, 20.15, 20.36, 20.08, 20.17, 20.03, 22.78, 28.53, 30.1, 31.555, 32.15, 30.7, 30.52, 31.26, 32.12, 32.2, 33.2, 35.65, 35.0, 35.5, 35.2, 33.05, 33.56, 35.12, 36.55, 37.77, 38.21, 37.6, 38.57, 39.54, 41.45, 41.76, 40.57, 40.2, 40.15, 38.01, 36.52, 37.05, 35.17, 34.1, 34.01, 35.16, 35.8601, 35.33, 34.5, 35.15, 35.69, 35.8, 38.31, 40.42, 40.31, 37.1, 37.2002, 39.25, 36.64, 37.7301, 39.4, 40.29, 39.6, 38.61, 38.5101, 38.65, 38.7, 38.56, 37.4, 37.65, 37.5, 37.54, 37.1, 36.63, 36.4, 36.06, 38.275, 37.85, 38.83, 38.71, 38.69, 38.71, 38.81, 38.8, 39.2, 38.9, 38.54, 38.54, 37.52, 37.86, 39.38, 37.0, 39.38, 40.02, 40.52, 42.2602, 42.5, 43.38, 45.23, 44.14, 44.02, 44.3, 44.05, 43.3, 42.32, 43.77, 46.78, 52.0544, 54.46, 54.6, 57.2, 62.4, 63.01, 62.35, 61.0, 72.2, 86.25, 90.35, 86.72, 86.9999, 86.32, 85.0, 85.39, 61.13, 65.37, 74.16, 71.1001, 72.0, 78.3, 81.65, 82.9, 90.0, 86.03, 87.5, 86.39, 86.15, 81.05, 80.2, 81.0, 87.68, 96.99, 112.0, 127.0, 138.0, 203.0, 205.11, 207.95, 219.07, 293.01, 182.55, 195.0, 197.53, 197.53, 249.0, 312.61, 280.0, 303.77, 290.01, 315.4054, 305.0, 293.0, 220.0, 217.0, 301.0, 333.0, 410.0, 421.7, 338.0, 249.73, 264.01, 112.25, 230.01, 205.4201, 215.0, 197.44, 193.6, 255.0, 280.33, 305.99, 355.98, 380.0, 360.0, 311.0, 312.0098, 291.57, 291.0, 312.04, 312.44, 265.4801, 250.0, 283.81, 293.0001, 301.21, 303.0201, 312.0, 321.75, 326.05, 326.06, 288.07, 288.0501, 252.0, 212.0, 232.9001, 241.0, 230.0, 235.51, 214.66, 206.0, 173.0, 177.0, 186.65, 160.0, 170.0, 153.6, 137.01, 126.0, 101.3, 74.2201, 90.0, 105.17, 101.01, 91.0, 88.0, 85.33, 86.01, 88.0, 85.0, 73.31, 85.0, 90.01, 85.25, 85.26, 90.49, 85.25, 90.5, 92.5, 97.46, 93.55, 90.59, 88.1, 88.95, 89.5, 87.37, 92.3, 93.6, 95.0, 92.0, 92.0, 81.05, 70.5, 62.05, 63.5, 57.2, 58.0, 53.33, 51.45, 49.0, 49.4, 49.0, 53.5, 59.0, 57.11, 54.56, 54.56, 51.09, 65.372, 61.54, 58.86, 57.26, 58.85, 59.0, 62.0, 64.53, 66.5, 66.46, 65.16, 69.2, 70.3, 68.62, 67.0, 63.3512, 58.27, 58.02, 58.68, 59.25, 58.3, 58.22, 58.56, 59.35, 59.35, 58.9, 56.2, 56.5, 55.0, 55.5, 55.13, 52.06, 48.12, 46.52, 48.4578, 48.0, 48.6001, 48.73, 49.36, 51.2, 50.0, 49.9, 50.0, 48.0, 48.25, 48.45, 48.6, 46.55, 48.16, 49.57, 51.12, 55.56, 52.35, 50.48, 49.4, 49.45, 49.65, 49.75, 49.35, 49.56, 50.39, 49.62, 49.6, 49.7, 49.27, 48.65, 48.23, 48.38, 48.2201, 48.51, 49.84, 48.93, 49.2, 50.0, 49.21, 50.09, 50.12, 50.42, 50.325, 48.05, 49.3, 51.1, 51.7, 50.6, 49.82, 51.17, 51.25, 51.75, 51.6201, 52.0], \"open\": [19.8, 19.8, 19.52, 19.52, 19.4, 19.35, 19.44, 19.04, 19.3701, 19.73, 19.46, 18.98, 18.8302, 18.8, 18.8, 18.95, 19.1, 19.42, 19.25, 19.074, 18.97, 17.425, 17.5375, 17.585, 17.665, 17.58, 17.41, 17.25, 17.47, 17.47, 17.5, 17.25, 17.5, 17.7, 17.2801, 17.11, 17.76, 17.56, 17.56, 17.66, 17.49, 17.255, 17.37, 17.48, 17.4, 17.53, 17.51, 17.27, 17.48, 17.4119, 17.54, 17.605, 18.4, 18.68, 18.775, 18.83, 18.22, 18.32, 18.3, 18.8, 18.47, 18.98, 19.08, 18.84, 18.85, 18.98, 19.4, 18.88, 18.57, 18.5863, 18.3736, 18.28, 18.08, 18.2501, 18.26, 18.38, 18.09, 18.15, 18.1, 18.32, 17.5712, 17.55, 17.56, 17.87, 17.6185, 17.89, 17.69, 17.9, 17.86, 17.85, 17.5, 17.12, 17.2, 17.5, 21.51, 19.02, 20.48, 19.32, 19.36, 19.6, 20.37, 19.84, 19.94, 19.92, 19.95, 20.06, 20.1, 20.28, 20.25, 20.1, 20.2399, 20.01, 19.6, 20.2, 20.036, 20.12, 19.86, 19.79, 19.95, 20.13, 20.0, 20.0, 20.15, 20.36, 20.1, 20.2499, 20.36, 22.93, 28.6301, 31.7501, 34.29, 33.465, 33.03, 31.3998, 31.38, 32.12, 32.49, 33.48, 37.57, 35.99, 36.0, 35.9974, 36.5501, 35.16, 35.21, 36.885, 37.96, 38.985, 39.2941, 40.0, 39.55, 42.4, 41.9, 42.2, 41.85, 40.5, 40.82, 38.5, 38.277, 37.384, 36.615, 34.2765, 35.8021, 35.99, 37.88, 35.6, 35.2, 35.8, 35.9, 39.0, 40.77, 41.1, 40.5, 38.38, 40.85, 40.75, 37.79, 39.63, 42.0295, 40.9444, 40.2607, 39.36, 38.84, 38.9, 38.7, 38.5, 38.05, 37.7, 37.92, 37.65, 37.95, 37.97, 36.86, 39.28, 38.635, 39.275, 39.6, 39.01, 38.84, 38.83, 38.89, 39.2, 38.95, 38.75, 38.5501, 39.05, 38.51, 39.8289, 42.3, 39.61, 42.2413, 40.53, 43.03, 42.81, 43.9, 45.31, 44.66, 45.1, 44.76, 44.81, 44.7672, 44.19, 45.99, 47.687, 52.2, 70.385, 54.9955, 59.185, 65.0, 67.5, 64.0, 63.6, 72.5, 106.77, 96.93, 94.48, 91.71, 98.265, 89.685, 117.07, 99.99, 69.3, 76.6241, 77.19, 76.7698, 78.39, 81.71, 82.9, 90.0, 94.25, 89.0, 88.89, 91.62, 89.0, 87.575, 87.62, 87.685, 105.3137, 114.2538, 131.6913, 146.2, 224.6, 208.1, 225.0, 246.66, 299.5, 351.89, 199.5, 230.0, 231.15, 310.32, 371.182, 312.61, 341.0407, 326.07, 318.01, 347.51, 327.36, 319.0, 248.99, 311.3, 333.11, 456.4, 447.01, 459.0, 340.73, 469.0, 265.0, 255.99, 240.9471, 242.4305, 246.1359, 197.44, 257.0, 280.33, 347.0, 360.0, 420.0, 385.0, 395.0, 347.07, 363.01, 317.7093, 335.5999, 339.8802, 328.1182, 275.95, 284.79, 327.67, 322.3, 306.11, 316.0, 356.1, 347.0, 338.0, 327.42, 327.0, 317.7, 270.0, 236.775, 259.0, 248.4599, 250.0, 240.1096, 225.46, 207.96, 178.0, 186.65, 175.3, 171.7, 174.01, 158.24, 139.0, 127.5, 114.8882, 91.0701, 110.05, 118.2996, 103.6001, 99.8561, 90.76, 88.82, 92.0, 90.0, 78.33, 87.35, 96.3, 91.11, 89.82, 93.4, 93.2799, 99.0501, 94.0, 99.7, 107.01, 98.01, 92.27, 91.47, 91.9, 89.3, 92.3, 93.6, 96.93, 95.53, 95.0, 95.0, 83.28, 71.2901, 68.7738, 64.4999, 60.17, 58.2301, 53.47, 53.17, 50.11, 50.2, 53.5, 60.87, 59.52, 58.0, 59.09, 57.2, 82.77, 70.8226, 64.293, 63.7383, 61.0, 60.83, 64.2, 64.68, 69.56, 67.2, 68.1, 69.2, 70.94, 70.5, 69.39, 69.66, 64.61, 60.745, 59.6273, 60.15, 59.68, 58.88, 60.0, 59.5, 59.59, 59.79, 59.8, 56.55, 56.77, 56.8, 56.67, 56.7, 53.6, 49.19, 48.54, 48.6101, 48.8749, 50.9499, 49.36, 52.0, 51.54, 50.25, 50.0, 50.3, 48.7, 48.81, 49.5, 51.0, 50.4999, 49.5974, 52.645, 55.9, 56.35, 53.11, 51.23, 49.47, 50.2, 49.9499, 49.49, 50.0, 50.66, 50.32, 50.0001, 50.17, 52.13, 50.1811, 49.09, 49.0275, 48.71, 48.69, 50.6, 50.16, 49.2, 50.27, 50.6, 50.29, 50.15, 50.57, 50.7, 50.559, 50.6672, 53.56, 52.1013, 52.225, 51.35, 51.34, 52.4, 51.94, 51.71, 52.07], \"type\": \"candlestick\", \"x\": [\"2020-12-31T05:00:00\", \"2020-12-31T06:00:00\", \"2020-12-31T07:00:00\", \"2020-12-31T08:00:00\", \"2020-12-31T09:00:00\", \"2020-12-31T10:00:00\", \"2020-12-31T11:00:00\", \"2020-12-31T12:00:00\", \"2020-12-31T13:00:00\", \"2020-12-31T14:00:00\", \"2020-12-31T15:00:00\", \"2020-12-31T16:00:00\", \"2020-12-31T17:00:00\", \"2020-12-31T18:00:00\", \"2020-12-31T19:00:00\", \"2020-12-31T20:00:00\", \"2021-01-04T05:00:00\", \"2021-01-04T07:00:00\", \"2021-01-04T08:00:00\", \"2021-01-04T09:00:00\", \"2021-01-04T10:00:00\", \"2021-01-04T11:00:00\", \"2021-01-04T12:00:00\", \"2021-01-04T13:00:00\", \"2021-01-04T14:00:00\", \"2021-01-04T15:00:00\", \"2021-01-04T16:00:00\", \"2021-01-04T17:00:00\", \"2021-01-04T18:00:00\", \"2021-01-04T19:00:00\", \"2021-01-04T20:00:00\", \"2021-01-05T05:00:00\", \"2021-01-05T07:00:00\", \"2021-01-05T08:00:00\", \"2021-01-05T09:00:00\", \"2021-01-05T10:00:00\", \"2021-01-05T11:00:00\", \"2021-01-05T12:00:00\", \"2021-01-05T13:00:00\", \"2021-01-05T14:00:00\", \"2021-01-05T15:00:00\", \"2021-01-05T16:00:00\", \"2021-01-05T17:00:00\", \"2021-01-05T18:00:00\", \"2021-01-05T19:00:00\", \"2021-01-05T20:00:00\", \"2021-01-06T05:00:00\", \"2021-01-06T06:00:00\", \"2021-01-06T08:00:00\", \"2021-01-06T09:00:00\", \"2021-01-06T10:00:00\", \"2021-01-06T11:00:00\", \"2021-01-06T12:00:00\", \"2021-01-06T13:00:00\", \"2021-01-06T14:00:00\", \"2021-01-06T15:00:00\", \"2021-01-06T16:00:00\", \"2021-01-06T17:00:00\", \"2021-01-06T18:00:00\", \"2021-01-06T19:00:00\", \"2021-01-06T20:00:00\", \"2021-01-07T06:00:00\", \"2021-01-07T07:00:00\", \"2021-01-07T08:00:00\", \"2021-01-07T09:00:00\", \"2021-01-07T10:00:00\", \"2021-01-07T11:00:00\", \"2021-01-07T12:00:00\", \"2021-01-07T13:00:00\", \"2021-01-07T14:00:00\", \"2021-01-07T15:00:00\", \"2021-01-07T16:00:00\", \"2021-01-07T17:00:00\", \"2021-01-07T18:00:00\", \"2021-01-07T19:00:00\", \"2021-01-07T20:00:00\", \"2021-01-08T06:00:00\", \"2021-01-08T08:00:00\", \"2021-01-08T09:00:00\", \"2021-01-08T10:00:00\", \"2021-01-08T11:00:00\", \"2021-01-08T12:00:00\", \"2021-01-08T13:00:00\", \"2021-01-08T14:00:00\", \"2021-01-08T15:00:00\", \"2021-01-08T16:00:00\", \"2021-01-08T17:00:00\", \"2021-01-08T18:00:00\", \"2021-01-08T19:00:00\", \"2021-01-08T20:00:00\", \"2021-01-11T05:00:00\", \"2021-01-11T06:00:00\", \"2021-01-11T07:00:00\", \"2021-01-11T08:00:00\", \"2021-01-11T09:00:00\", \"2021-01-11T10:00:00\", \"2021-01-11T11:00:00\", \"2021-01-11T12:00:00\", \"2021-01-11T13:00:00\", \"2021-01-11T14:00:00\", \"2021-01-11T15:00:00\", \"2021-01-11T16:00:00\", \"2021-01-11T17:00:00\", \"2021-01-11T18:00:00\", \"2021-01-11T19:00:00\", \"2021-01-11T20:00:00\", \"2021-01-12T05:00:00\", \"2021-01-12T06:00:00\", \"2021-01-12T07:00:00\", \"2021-01-12T08:00:00\", \"2021-01-12T09:00:00\", \"2021-01-12T10:00:00\", \"2021-01-12T11:00:00\", \"2021-01-12T12:00:00\", \"2021-01-12T13:00:00\", \"2021-01-12T14:00:00\", \"2021-01-12T15:00:00\", \"2021-01-12T16:00:00\", \"2021-01-12T17:00:00\", \"2021-01-12T18:00:00\", \"2021-01-12T19:00:00\", \"2021-01-12T20:00:00\", \"2021-01-13T05:00:00\", \"2021-01-13T07:00:00\", \"2021-01-13T08:00:00\", \"2021-01-13T09:00:00\", \"2021-01-13T10:00:00\", \"2021-01-13T11:00:00\", \"2021-01-13T12:00:00\", \"2021-01-13T13:00:00\", \"2021-01-13T14:00:00\", \"2021-01-13T15:00:00\", \"2021-01-13T16:00:00\", \"2021-01-13T17:00:00\", \"2021-01-13T18:00:00\", \"2021-01-13T19:00:00\", \"2021-01-13T20:00:00\", \"2021-01-14T05:00:00\", \"2021-01-14T06:00:00\", \"2021-01-14T07:00:00\", \"2021-01-14T08:00:00\", \"2021-01-14T09:00:00\", \"2021-01-14T10:00:00\", \"2021-01-14T11:00:00\", \"2021-01-14T12:00:00\", \"2021-01-14T13:00:00\", \"2021-01-14T14:00:00\", \"2021-01-14T15:00:00\", \"2021-01-14T16:00:00\", \"2021-01-14T17:00:00\", \"2021-01-14T18:00:00\", \"2021-01-14T19:00:00\", \"2021-01-14T20:00:00\", \"2021-01-15T05:00:00\", \"2021-01-15T06:00:00\", \"2021-01-15T07:00:00\", \"2021-01-15T08:00:00\", \"2021-01-15T09:00:00\", \"2021-01-15T10:00:00\", \"2021-01-15T11:00:00\", \"2021-01-15T12:00:00\", \"2021-01-15T13:00:00\", \"2021-01-15T14:00:00\", \"2021-01-15T15:00:00\", \"2021-01-15T16:00:00\", \"2021-01-15T17:00:00\", \"2021-01-15T18:00:00\", \"2021-01-15T19:00:00\", \"2021-01-15T20:00:00\", \"2021-01-19T05:00:00\", \"2021-01-19T06:00:00\", \"2021-01-19T07:00:00\", \"2021-01-19T08:00:00\", \"2021-01-19T09:00:00\", \"2021-01-19T10:00:00\", \"2021-01-19T11:00:00\", \"2021-01-19T12:00:00\", \"2021-01-19T13:00:00\", \"2021-01-19T14:00:00\", \"2021-01-19T15:00:00\", \"2021-01-19T16:00:00\", \"2021-01-19T17:00:00\", \"2021-01-19T18:00:00\", \"2021-01-19T19:00:00\", \"2021-01-19T20:00:00\", \"2021-01-20T05:00:00\", \"2021-01-20T06:00:00\", \"2021-01-20T07:00:00\", \"2021-01-20T08:00:00\", \"2021-01-20T09:00:00\", \"2021-01-20T10:00:00\", \"2021-01-20T11:00:00\", \"2021-01-20T12:00:00\", \"2021-01-20T13:00:00\", \"2021-01-20T14:00:00\", \"2021-01-20T15:00:00\", \"2021-01-20T16:00:00\", \"2021-01-20T17:00:00\", \"2021-01-20T18:00:00\", \"2021-01-20T19:00:00\", \"2021-01-20T20:00:00\", \"2021-01-21T05:00:00\", \"2021-01-21T07:00:00\", \"2021-01-21T08:00:00\", \"2021-01-21T09:00:00\", \"2021-01-21T10:00:00\", \"2021-01-21T11:00:00\", \"2021-01-21T12:00:00\", \"2021-01-21T13:00:00\", \"2021-01-21T14:00:00\", \"2021-01-21T15:00:00\", \"2021-01-21T16:00:00\", \"2021-01-21T17:00:00\", \"2021-01-21T18:00:00\", \"2021-01-21T19:00:00\", \"2021-01-21T20:00:00\", \"2021-01-22T05:00:00\", \"2021-01-22T06:00:00\", \"2021-01-22T07:00:00\", \"2021-01-22T08:00:00\", \"2021-01-22T09:00:00\", \"2021-01-22T10:00:00\", \"2021-01-22T11:00:00\", \"2021-01-22T12:00:00\", \"2021-01-22T13:00:00\", \"2021-01-22T14:00:00\", \"2021-01-22T15:00:00\", \"2021-01-22T16:00:00\", \"2021-01-22T17:00:00\", \"2021-01-22T18:00:00\", \"2021-01-22T19:00:00\", \"2021-01-22T20:00:00\", \"2021-01-25T05:00:00\", \"2021-01-25T06:00:00\", \"2021-01-25T07:00:00\", \"2021-01-25T08:00:00\", \"2021-01-25T09:00:00\", \"2021-01-25T10:00:00\", \"2021-01-25T11:00:00\", \"2021-01-25T12:00:00\", \"2021-01-25T13:00:00\", \"2021-01-25T14:00:00\", \"2021-01-25T15:00:00\", \"2021-01-25T16:00:00\", \"2021-01-25T17:00:00\", \"2021-01-25T18:00:00\", \"2021-01-25T19:00:00\", \"2021-01-25T20:00:00\", \"2021-01-26T05:00:00\", \"2021-01-26T06:00:00\", \"2021-01-26T07:00:00\", \"2021-01-26T08:00:00\", \"2021-01-26T09:00:00\", \"2021-01-26T10:00:00\", \"2021-01-26T11:00:00\", \"2021-01-26T12:00:00\", \"2021-01-26T13:00:00\", \"2021-01-26T14:00:00\", \"2021-01-26T15:00:00\", \"2021-01-26T16:00:00\", \"2021-01-26T17:00:00\", \"2021-01-26T18:00:00\", \"2021-01-26T19:00:00\", \"2021-01-26T20:00:00\", \"2021-01-27T05:00:00\", \"2021-01-27T06:00:00\", \"2021-01-27T07:00:00\", \"2021-01-27T08:00:00\", \"2021-01-27T09:00:00\", \"2021-01-27T10:00:00\", \"2021-01-27T11:00:00\", \"2021-01-27T12:00:00\", \"2021-01-27T13:00:00\", \"2021-01-27T14:00:00\", \"2021-01-27T15:00:00\", \"2021-01-27T16:00:00\", \"2021-01-27T17:00:00\", \"2021-01-27T18:00:00\", \"2021-01-27T19:00:00\", \"2021-01-27T20:00:00\", \"2021-01-28T05:00:00\", \"2021-01-28T06:00:00\", \"2021-01-28T07:00:00\", \"2021-01-28T08:00:00\", \"2021-01-28T09:00:00\", \"2021-01-28T10:00:00\", \"2021-01-28T11:00:00\", \"2021-01-28T12:00:00\", \"2021-01-28T13:00:00\", \"2021-01-28T14:00:00\", \"2021-01-28T15:00:00\", \"2021-01-28T16:00:00\", \"2021-01-28T17:00:00\", \"2021-01-28T18:00:00\", \"2021-01-28T19:00:00\", \"2021-01-28T20:00:00\", \"2021-01-29T05:00:00\", \"2021-01-29T06:00:00\", \"2021-01-29T07:00:00\", \"2021-01-29T08:00:00\", \"2021-01-29T09:00:00\", \"2021-01-29T10:00:00\", \"2021-01-29T11:00:00\", \"2021-01-29T12:00:00\", \"2021-01-29T13:00:00\", \"2021-01-29T14:00:00\", \"2021-01-29T15:00:00\", \"2021-01-29T16:00:00\", \"2021-01-29T17:00:00\", \"2021-01-29T18:00:00\", \"2021-01-29T19:00:00\", \"2021-01-29T20:00:00\", \"2021-02-01T05:00:00\", \"2021-02-01T06:00:00\", \"2021-02-01T07:00:00\", \"2021-02-01T08:00:00\", \"2021-02-01T09:00:00\", \"2021-02-01T10:00:00\", \"2021-02-01T11:00:00\", \"2021-02-01T12:00:00\", \"2021-02-01T13:00:00\", \"2021-02-01T14:00:00\", \"2021-02-01T15:00:00\", \"2021-02-01T16:00:00\", \"2021-02-01T17:00:00\", \"2021-02-01T18:00:00\", \"2021-02-01T19:00:00\", \"2021-02-01T20:00:00\", \"2021-02-02T05:00:00\", \"2021-02-02T06:00:00\", \"2021-02-02T07:00:00\", \"2021-02-02T08:00:00\", \"2021-02-02T09:00:00\", \"2021-02-02T10:00:00\", \"2021-02-02T11:00:00\", \"2021-02-02T12:00:00\", \"2021-02-02T13:00:00\", \"2021-02-02T14:00:00\", \"2021-02-02T15:00:00\", \"2021-02-02T16:00:00\", \"2021-02-02T17:00:00\", \"2021-02-02T18:00:00\", \"2021-02-02T19:00:00\", \"2021-02-02T20:00:00\", \"2021-02-03T05:00:00\", \"2021-02-03T06:00:00\", \"2021-02-03T07:00:00\", \"2021-02-03T08:00:00\", \"2021-02-03T09:00:00\", \"2021-02-03T10:00:00\", \"2021-02-03T11:00:00\", \"2021-02-03T12:00:00\", \"2021-02-03T13:00:00\", \"2021-02-03T14:00:00\", \"2021-02-03T15:00:00\", \"2021-02-03T16:00:00\", \"2021-02-03T17:00:00\", \"2021-02-03T18:00:00\", \"2021-02-03T19:00:00\", \"2021-02-03T20:00:00\", \"2021-02-04T05:00:00\", \"2021-02-04T06:00:00\", \"2021-02-04T07:00:00\", \"2021-02-04T08:00:00\", \"2021-02-04T09:00:00\", \"2021-02-04T10:00:00\", \"2021-02-04T11:00:00\", \"2021-02-04T12:00:00\", \"2021-02-04T13:00:00\", \"2021-02-04T14:00:00\", \"2021-02-04T15:00:00\", \"2021-02-04T16:00:00\", \"2021-02-04T17:00:00\", \"2021-02-04T18:00:00\", \"2021-02-04T19:00:00\", \"2021-02-04T20:00:00\", \"2021-02-05T05:00:00\", \"2021-02-05T06:00:00\", \"2021-02-05T07:00:00\", \"2021-02-05T08:00:00\", \"2021-02-05T09:00:00\", \"2021-02-05T10:00:00\", \"2021-02-05T11:00:00\", \"2021-02-05T12:00:00\", \"2021-02-05T13:00:00\", \"2021-02-05T14:00:00\", \"2021-02-05T15:00:00\", \"2021-02-05T16:00:00\", \"2021-02-05T17:00:00\", \"2021-02-05T18:00:00\", \"2021-02-05T19:00:00\", \"2021-02-05T20:00:00\", \"2021-02-08T05:00:00\", \"2021-02-08T06:00:00\", \"2021-02-08T07:00:00\", \"2021-02-08T08:00:00\", \"2021-02-08T09:00:00\", \"2021-02-08T10:00:00\", \"2021-02-08T11:00:00\", \"2021-02-08T12:00:00\", \"2021-02-08T13:00:00\", \"2021-02-08T14:00:00\", \"2021-02-08T15:00:00\", \"2021-02-08T16:00:00\", \"2021-02-08T17:00:00\", \"2021-02-08T18:00:00\", \"2021-02-08T19:00:00\", \"2021-02-08T20:00:00\", \"2021-02-09T05:00:00\", \"2021-02-09T06:00:00\", \"2021-02-09T07:00:00\", \"2021-02-09T08:00:00\", \"2021-02-09T09:00:00\", \"2021-02-09T10:00:00\", \"2021-02-09T11:00:00\", \"2021-02-09T12:00:00\", \"2021-02-09T13:00:00\", \"2021-02-09T14:00:00\", \"2021-02-09T15:00:00\", \"2021-02-09T16:00:00\", \"2021-02-09T17:00:00\", \"2021-02-09T18:00:00\", \"2021-02-09T19:00:00\", \"2021-02-09T20:00:00\", \"2021-02-10T05:00:00\", \"2021-02-10T06:00:00\", \"2021-02-10T07:00:00\", \"2021-02-10T08:00:00\", \"2021-02-10T09:00:00\", \"2021-02-10T10:00:00\", \"2021-02-10T11:00:00\", \"2021-02-10T12:00:00\", \"2021-02-10T13:00:00\", \"2021-02-10T14:00:00\", \"2021-02-10T15:00:00\", \"2021-02-10T16:00:00\", \"2021-02-10T17:00:00\", \"2021-02-10T18:00:00\", \"2021-02-10T19:00:00\", \"2021-02-10T20:00:00\", \"2021-02-11T05:00:00\", \"2021-02-11T06:00:00\", \"2021-02-11T07:00:00\", \"2021-02-11T08:00:00\", \"2021-02-11T09:00:00\", \"2021-02-11T10:00:00\", \"2021-02-11T11:00:00\", \"2021-02-11T12:00:00\", \"2021-02-11T13:00:00\", \"2021-02-11T14:00:00\", \"2021-02-11T15:00:00\", \"2021-02-11T16:00:00\", \"2021-02-11T17:00:00\", \"2021-02-11T18:00:00\", \"2021-02-11T19:00:00\", \"2021-02-11T20:00:00\", \"2021-02-12T05:00:00\", \"2021-02-12T06:00:00\", \"2021-02-12T07:00:00\", \"2021-02-12T08:00:00\", \"2021-02-12T09:00:00\", \"2021-02-12T10:00:00\", \"2021-02-12T11:00:00\", \"2021-02-12T12:00:00\", \"2021-02-12T13:00:00\", \"2021-02-12T14:00:00\", \"2021-02-12T15:00:00\", \"2021-02-12T16:00:00\", \"2021-02-12T17:00:00\", \"2021-02-12T18:00:00\", \"2021-02-12T19:00:00\", \"2021-02-12T20:00:00\"]}],                        {\"plot_bgcolor\": \"rgb(84, 85, 87)\", \"template\": {\"data\": {\"bar\": [{\"error_x\": {\"color\": \"#2a3f5f\"}, \"error_y\": {\"color\": \"#2a3f5f\"}, \"marker\": {\"line\": {\"color\": \"#E5ECF6\", \"width\": 0.5}}, \"type\": \"bar\"}], \"barpolar\": [{\"marker\": {\"line\": {\"color\": \"#E5ECF6\", \"width\": 0.5}}, \"type\": \"barpolar\"}], \"carpet\": [{\"aaxis\": {\"endlinecolor\": \"#2a3f5f\", \"gridcolor\": \"white\", \"linecolor\": \"white\", \"minorgridcolor\": \"white\", \"startlinecolor\": \"#2a3f5f\"}, \"baxis\": {\"endlinecolor\": \"#2a3f5f\", \"gridcolor\": \"white\", \"linecolor\": \"white\", \"minorgridcolor\": \"white\", \"startlinecolor\": \"#2a3f5f\"}, \"type\": \"carpet\"}], \"choropleth\": [{\"colorbar\": {\"outlinewidth\": 0, \"ticks\": \"\"}, \"type\": \"choropleth\"}], \"contour\": [{\"colorbar\": {\"outlinewidth\": 0, \"ticks\": \"\"}, \"colorscale\": [[0.0, \"#0d0887\"], [0.1111111111111111, \"#46039f\"], [0.2222222222222222, \"#7201a8\"], [0.3333333333333333, \"#9c179e\"], [0.4444444444444444, \"#bd3786\"], [0.5555555555555556, \"#d8576b\"], [0.6666666666666666, \"#ed7953\"], [0.7777777777777778, \"#fb9f3a\"], [0.8888888888888888, \"#fdca26\"], [1.0, \"#f0f921\"]], \"type\": \"contour\"}], \"contourcarpet\": [{\"colorbar\": {\"outlinewidth\": 0, \"ticks\": \"\"}, \"type\": \"contourcarpet\"}], \"heatmap\": [{\"colorbar\": {\"outlinewidth\": 0, \"ticks\": \"\"}, \"colorscale\": [[0.0, \"#0d0887\"], [0.1111111111111111, \"#46039f\"], [0.2222222222222222, \"#7201a8\"], [0.3333333333333333, \"#9c179e\"], [0.4444444444444444, \"#bd3786\"], [0.5555555555555556, \"#d8576b\"], [0.6666666666666666, \"#ed7953\"], [0.7777777777777778, \"#fb9f3a\"], [0.8888888888888888, \"#fdca26\"], [1.0, \"#f0f921\"]], \"type\": \"heatmap\"}], \"heatmapgl\": [{\"colorbar\": {\"outlinewidth\": 0, \"ticks\": \"\"}, \"colorscale\": [[0.0, \"#0d0887\"], [0.1111111111111111, \"#46039f\"], [0.2222222222222222, \"#7201a8\"], [0.3333333333333333, \"#9c179e\"], [0.4444444444444444, \"#bd3786\"], [0.5555555555555556, \"#d8576b\"], [0.6666666666666666, \"#ed7953\"], [0.7777777777777778, \"#fb9f3a\"], [0.8888888888888888, \"#fdca26\"], [1.0, \"#f0f921\"]], \"type\": \"heatmapgl\"}], \"histogram\": [{\"marker\": {\"colorbar\": {\"outlinewidth\": 0, \"ticks\": \"\"}}, \"type\": \"histogram\"}], \"histogram2d\": [{\"colorbar\": {\"outlinewidth\": 0, \"ticks\": \"\"}, \"colorscale\": [[0.0, \"#0d0887\"], [0.1111111111111111, \"#46039f\"], [0.2222222222222222, \"#7201a8\"], [0.3333333333333333, \"#9c179e\"], [0.4444444444444444, \"#bd3786\"], [0.5555555555555556, \"#d8576b\"], [0.6666666666666666, \"#ed7953\"], [0.7777777777777778, \"#fb9f3a\"], [0.8888888888888888, \"#fdca26\"], [1.0, \"#f0f921\"]], \"type\": \"histogram2d\"}], \"histogram2dcontour\": [{\"colorbar\": {\"outlinewidth\": 0, \"ticks\": \"\"}, \"colorscale\": [[0.0, \"#0d0887\"], [0.1111111111111111, \"#46039f\"], [0.2222222222222222, \"#7201a8\"], [0.3333333333333333, \"#9c179e\"], [0.4444444444444444, \"#bd3786\"], [0.5555555555555556, \"#d8576b\"], [0.6666666666666666, \"#ed7953\"], [0.7777777777777778, \"#fb9f3a\"], [0.8888888888888888, \"#fdca26\"], [1.0, \"#f0f921\"]], \"type\": \"histogram2dcontour\"}], \"mesh3d\": [{\"colorbar\": {\"outlinewidth\": 0, \"ticks\": \"\"}, \"type\": \"mesh3d\"}], \"parcoords\": [{\"line\": {\"colorbar\": {\"outlinewidth\": 0, \"ticks\": \"\"}}, \"type\": \"parcoords\"}], \"pie\": [{\"automargin\": true, \"type\": \"pie\"}], \"scatter\": [{\"marker\": {\"colorbar\": {\"outlinewidth\": 0, \"ticks\": \"\"}}, \"type\": \"scatter\"}], \"scatter3d\": [{\"line\": {\"colorbar\": {\"outlinewidth\": 0, \"ticks\": \"\"}}, \"marker\": {\"colorbar\": {\"outlinewidth\": 0, \"ticks\": \"\"}}, \"type\": \"scatter3d\"}], \"scattercarpet\": [{\"marker\": {\"colorbar\": {\"outlinewidth\": 0, \"ticks\": \"\"}}, \"type\": \"scattercarpet\"}], \"scattergeo\": [{\"marker\": {\"colorbar\": {\"outlinewidth\": 0, \"ticks\": \"\"}}, \"type\": \"scattergeo\"}], \"scattergl\": [{\"marker\": {\"colorbar\": {\"outlinewidth\": 0, \"ticks\": \"\"}}, \"type\": \"scattergl\"}], \"scattermapbox\": [{\"marker\": {\"colorbar\": {\"outlinewidth\": 0, \"ticks\": \"\"}}, \"type\": \"scattermapbox\"}], \"scatterpolar\": [{\"marker\": {\"colorbar\": {\"outlinewidth\": 0, \"ticks\": \"\"}}, \"type\": \"scatterpolar\"}], \"scatterpolargl\": [{\"marker\": {\"colorbar\": {\"outlinewidth\": 0, \"ticks\": \"\"}}, \"type\": \"scatterpolargl\"}], \"scatterternary\": [{\"marker\": {\"colorbar\": {\"outlinewidth\": 0, \"ticks\": \"\"}}, \"type\": \"scatterternary\"}], \"surface\": [{\"colorbar\": {\"outlinewidth\": 0, \"ticks\": \"\"}, \"colorscale\": [[0.0, \"#0d0887\"], [0.1111111111111111, \"#46039f\"], [0.2222222222222222, \"#7201a8\"], [0.3333333333333333, \"#9c179e\"], [0.4444444444444444, \"#bd3786\"], [0.5555555555555556, \"#d8576b\"], [0.6666666666666666, \"#ed7953\"], [0.7777777777777778, \"#fb9f3a\"], [0.8888888888888888, \"#fdca26\"], [1.0, \"#f0f921\"]], \"type\": \"surface\"}], \"table\": [{\"cells\": {\"fill\": {\"color\": \"#EBF0F8\"}, \"line\": {\"color\": \"white\"}}, \"header\": {\"fill\": {\"color\": \"#C8D4E3\"}, \"line\": {\"color\": \"white\"}}, \"type\": \"table\"}]}, \"layout\": {\"annotationdefaults\": {\"arrowcolor\": \"#2a3f5f\", \"arrowhead\": 0, \"arrowwidth\": 1}, \"autotypenumbers\": \"strict\", \"coloraxis\": {\"colorbar\": {\"outlinewidth\": 0, \"ticks\": \"\"}}, \"colorscale\": {\"diverging\": [[0, \"#8e0152\"], [0.1, \"#c51b7d\"], [0.2, \"#de77ae\"], [0.3, \"#f1b6da\"], [0.4, \"#fde0ef\"], [0.5, \"#f7f7f7\"], [0.6, \"#e6f5d0\"], [0.7, \"#b8e186\"], [0.8, \"#7fbc41\"], [0.9, \"#4d9221\"], [1, \"#276419\"]], \"sequential\": [[0.0, \"#0d0887\"], [0.1111111111111111, \"#46039f\"], [0.2222222222222222, \"#7201a8\"], [0.3333333333333333, \"#9c179e\"], [0.4444444444444444, \"#bd3786\"], [0.5555555555555556, \"#d8576b\"], [0.6666666666666666, \"#ed7953\"], [0.7777777777777778, \"#fb9f3a\"], [0.8888888888888888, \"#fdca26\"], [1.0, \"#f0f921\"]], \"sequentialminus\": [[0.0, \"#0d0887\"], [0.1111111111111111, \"#46039f\"], [0.2222222222222222, \"#7201a8\"], [0.3333333333333333, \"#9c179e\"], [0.4444444444444444, \"#bd3786\"], [0.5555555555555556, \"#d8576b\"], [0.6666666666666666, \"#ed7953\"], [0.7777777777777778, \"#fb9f3a\"], [0.8888888888888888, \"#fdca26\"], [1.0, \"#f0f921\"]]}, \"colorway\": [\"#636efa\", \"#EF553B\", \"#00cc96\", \"#ab63fa\", \"#FFA15A\", \"#19d3f3\", \"#FF6692\", \"#B6E880\", \"#FF97FF\", \"#FECB52\"], \"font\": {\"color\": \"#2a3f5f\"}, \"geo\": {\"bgcolor\": \"white\", \"lakecolor\": \"white\", \"landcolor\": \"#E5ECF6\", \"showlakes\": true, \"showland\": true, \"subunitcolor\": \"white\"}, \"hoverlabel\": {\"align\": \"left\"}, \"hovermode\": \"closest\", \"mapbox\": {\"style\": \"light\"}, \"paper_bgcolor\": \"white\", \"plot_bgcolor\": \"#E5ECF6\", \"polar\": {\"angularaxis\": {\"gridcolor\": \"white\", \"linecolor\": \"white\", \"ticks\": \"\"}, \"bgcolor\": \"#E5ECF6\", \"radialaxis\": {\"gridcolor\": \"white\", \"linecolor\": \"white\", \"ticks\": \"\"}}, \"scene\": {\"xaxis\": {\"backgroundcolor\": \"#E5ECF6\", \"gridcolor\": \"white\", \"gridwidth\": 2, \"linecolor\": \"white\", \"showbackground\": true, \"ticks\": \"\", \"zerolinecolor\": \"white\"}, \"yaxis\": {\"backgroundcolor\": \"#E5ECF6\", \"gridcolor\": \"white\", \"gridwidth\": 2, \"linecolor\": \"white\", \"showbackground\": true, \"ticks\": \"\", \"zerolinecolor\": \"white\"}, \"zaxis\": {\"backgroundcolor\": \"#E5ECF6\", \"gridcolor\": \"white\", \"gridwidth\": 2, \"linecolor\": \"white\", \"showbackground\": true, \"ticks\": \"\", \"zerolinecolor\": \"white\"}}, \"shapedefaults\": {\"line\": {\"color\": \"#2a3f5f\"}}, \"ternary\": {\"aaxis\": {\"gridcolor\": \"white\", \"linecolor\": \"white\", \"ticks\": \"\"}, \"baxis\": {\"gridcolor\": \"white\", \"linecolor\": \"white\", \"ticks\": \"\"}, \"bgcolor\": \"#E5ECF6\", \"caxis\": {\"gridcolor\": \"white\", \"linecolor\": \"white\", \"ticks\": \"\"}}, \"title\": {\"x\": 0.05}, \"xaxis\": {\"automargin\": true, \"gridcolor\": \"white\", \"linecolor\": \"white\", \"ticks\": \"\", \"title\": {\"standoff\": 15}, \"zerolinecolor\": \"white\", \"zerolinewidth\": 2}, \"yaxis\": {\"automargin\": true, \"gridcolor\": \"white\", \"linecolor\": \"white\", \"ticks\": \"\", \"title\": {\"standoff\": 15}, \"zerolinecolor\": \"white\", \"zerolinewidth\": 2}}}, \"title\": {\"text\": \"Hourly Candlestick\"}, \"xaxis\": {\"gridcolor\": \"rgb(144, 145, 142)\", \"rangeslider\": {\"visible\": false}, \"title\": {\"text\": \"Date\"}}, \"yaxis\": {\"gridcolor\": \"rgb(144, 145, 142)\", \"title\": {\"text\": \"Price\"}}},                        {\"responsive\": true}                    ).then(function(){\n",
       "                            \n",
       "var gd = document.getElementById('b5e23748-c8bc-4a78-ae17-7778d31c4fd8');\n",
       "var x = new MutationObserver(function (mutations, observer) {{\n",
       "        var display = window.getComputedStyle(gd).display;\n",
       "        if (!display || display === 'none') {{\n",
       "            console.log([gd, 'removed!']);\n",
       "            Plotly.purge(gd);\n",
       "            observer.disconnect();\n",
       "        }}\n",
       "}});\n",
       "\n",
       "// Listen for the removal of the full notebook cells\n",
       "var notebookContainer = gd.closest('#notebook-container');\n",
       "if (notebookContainer) {{\n",
       "    x.observe(notebookContainer, {childList: true});\n",
       "}}\n",
       "\n",
       "// Listen for the clearing of the current output cell\n",
       "var outputEl = gd.closest('.output');\n",
       "if (outputEl) {{\n",
       "    x.observe(outputEl, {childList: true});\n",
       "}}\n",
       "\n",
       "                        })                };                });            </script>        </div>"
      ]
     },
     "metadata": {},
     "output_type": "display_data"
    }
   ],
   "source": [
    "### Hourly candlestick graph ### \n",
    "fig = go.Figure(data=[go.Candlestick(x=gme_hourly_full['date'],\n",
    "                open=gme_hourly_full['1. open'],\n",
    "                high=gme_hourly_full['2. high'],\n",
    "                low=gme_hourly_full['3. low'],\n",
    "                close=gme_hourly_full['4. close'])])\n",
    "fig.update_layout(\n",
    "    title_text=\"Hourly Candlestick\")\n",
    "\n",
    "fig.update_yaxes(title_text=\"Price\")\n",
    "fig.update_xaxes(title_text=\"Date\")\n",
    "\n",
    "fig.layout.plot_bgcolor='rgb(84, 85, 87)'\n",
    "fig.update_layout(xaxis_rangeslider_visible=False)\n",
    "fig.layout.yaxis.gridcolor='rgb(144, 145, 142)'\n",
    "fig.layout.xaxis.gridcolor='rgb(144, 145, 142)'\n",
    "fig.show()\n",
    "fig.write_html('Hourly Candlestick.html')\n",
    "fig.write_image(\"Hourly Candlestick.png\")"
   ]
  },
  {
   "cell_type": "code",
   "execution_count": 234,
   "metadata": {},
   "outputs": [
    {
     "data": {
      "application/vnd.plotly.v1+json": {
       "config": {
        "plotlyServerURL": "https://plot.ly"
       },
       "data": [
        {
         "close": [
          18.84,
          17.25,
          17.37,
          18.36,
          18.08,
          17.69,
          19.94,
          19.95,
          31.4,
          39.91,
          35.5,
          39.36,
          39.12,
          43.03,
          65.01,
          76.79,
          147.98,
          347.51,
          193.6,
          325,
          225,
          90,
          92.41,
          53.5,
          63.77,
          60,
          50.31,
          51.2,
          51.1,
          52.4,
          49.51
         ],
         "high": [
          19.8,
          19.1,
          18.0765,
          18.98,
          19.45,
          18.3,
          20.65,
          20.4,
          38.65,
          43.06,
          40.75,
          45.52,
          41.1899,
          44.75,
          76.7573,
          159.18,
          150,
          380,
          483,
          413.98,
          322,
          158,
          113.3999,
          91.5,
          95,
          72.66,
          57,
          62.83,
          55.32,
          55.24,
          53.5
         ],
         "low": [
          18.8,
          17.15,
          17.23,
          17.33,
          18.02,
          17.08,
          19.01,
          19.3168,
          20.03,
          33.05,
          34.01,
          36.64,
          36.06,
          37,
          42.32,
          61.13,
          80.2,
          249,
          112.25,
          250,
          212,
          74.2201,
          85.25,
          53.33,
          51.09,
          58.02,
          46.52,
          46.55,
          48.2201,
          48.05,
          49.04
         ],
         "open": [
          19.25,
          19,
          17.35,
          17.34,
          18.47,
          18.18,
          19.41,
          19.96,
          20.42,
          38.09,
          38.49,
          41.55,
          37.37,
          39.23,
          42.59,
          96.73,
          88.56,
          354.83,
          265,
          379.71,
          316.56,
          140.76,
          112.01,
          91.19,
          54.04,
          72.41,
          56.61,
          50.77,
          50.01,
          50.75,
          52.66
         ],
         "type": "candlestick",
         "x": [
          "2020-12-31T00:00:00",
          "2021-01-04T00:00:00",
          "2021-01-05T00:00:00",
          "2021-01-06T00:00:00",
          "2021-01-07T00:00:00",
          "2021-01-08T00:00:00",
          "2021-01-11T00:00:00",
          "2021-01-12T00:00:00",
          "2021-01-13T00:00:00",
          "2021-01-14T00:00:00",
          "2021-01-15T00:00:00",
          "2021-01-19T00:00:00",
          "2021-01-20T00:00:00",
          "2021-01-21T00:00:00",
          "2021-01-22T00:00:00",
          "2021-01-25T00:00:00",
          "2021-01-26T00:00:00",
          "2021-01-27T00:00:00",
          "2021-01-28T00:00:00",
          "2021-01-29T00:00:00",
          "2021-02-01T00:00:00",
          "2021-02-02T00:00:00",
          "2021-02-03T00:00:00",
          "2021-02-04T00:00:00",
          "2021-02-05T00:00:00",
          "2021-02-08T00:00:00",
          "2021-02-09T00:00:00",
          "2021-02-10T00:00:00",
          "2021-02-11T00:00:00",
          "2021-02-12T00:00:00",
          "2021-02-16T00:00:00"
         ]
        }
       ],
       "layout": {
        "plot_bgcolor": "rgb(84, 85, 87)",
        "template": {
         "data": {
          "bar": [
           {
            "error_x": {
             "color": "#2a3f5f"
            },
            "error_y": {
             "color": "#2a3f5f"
            },
            "marker": {
             "line": {
              "color": "#E5ECF6",
              "width": 0.5
             }
            },
            "type": "bar"
           }
          ],
          "barpolar": [
           {
            "marker": {
             "line": {
              "color": "#E5ECF6",
              "width": 0.5
             }
            },
            "type": "barpolar"
           }
          ],
          "carpet": [
           {
            "aaxis": {
             "endlinecolor": "#2a3f5f",
             "gridcolor": "white",
             "linecolor": "white",
             "minorgridcolor": "white",
             "startlinecolor": "#2a3f5f"
            },
            "baxis": {
             "endlinecolor": "#2a3f5f",
             "gridcolor": "white",
             "linecolor": "white",
             "minorgridcolor": "white",
             "startlinecolor": "#2a3f5f"
            },
            "type": "carpet"
           }
          ],
          "choropleth": [
           {
            "colorbar": {
             "outlinewidth": 0,
             "ticks": ""
            },
            "type": "choropleth"
           }
          ],
          "contour": [
           {
            "colorbar": {
             "outlinewidth": 0,
             "ticks": ""
            },
            "colorscale": [
             [
              0,
              "#0d0887"
             ],
             [
              0.1111111111111111,
              "#46039f"
             ],
             [
              0.2222222222222222,
              "#7201a8"
             ],
             [
              0.3333333333333333,
              "#9c179e"
             ],
             [
              0.4444444444444444,
              "#bd3786"
             ],
             [
              0.5555555555555556,
              "#d8576b"
             ],
             [
              0.6666666666666666,
              "#ed7953"
             ],
             [
              0.7777777777777778,
              "#fb9f3a"
             ],
             [
              0.8888888888888888,
              "#fdca26"
             ],
             [
              1,
              "#f0f921"
             ]
            ],
            "type": "contour"
           }
          ],
          "contourcarpet": [
           {
            "colorbar": {
             "outlinewidth": 0,
             "ticks": ""
            },
            "type": "contourcarpet"
           }
          ],
          "heatmap": [
           {
            "colorbar": {
             "outlinewidth": 0,
             "ticks": ""
            },
            "colorscale": [
             [
              0,
              "#0d0887"
             ],
             [
              0.1111111111111111,
              "#46039f"
             ],
             [
              0.2222222222222222,
              "#7201a8"
             ],
             [
              0.3333333333333333,
              "#9c179e"
             ],
             [
              0.4444444444444444,
              "#bd3786"
             ],
             [
              0.5555555555555556,
              "#d8576b"
             ],
             [
              0.6666666666666666,
              "#ed7953"
             ],
             [
              0.7777777777777778,
              "#fb9f3a"
             ],
             [
              0.8888888888888888,
              "#fdca26"
             ],
             [
              1,
              "#f0f921"
             ]
            ],
            "type": "heatmap"
           }
          ],
          "heatmapgl": [
           {
            "colorbar": {
             "outlinewidth": 0,
             "ticks": ""
            },
            "colorscale": [
             [
              0,
              "#0d0887"
             ],
             [
              0.1111111111111111,
              "#46039f"
             ],
             [
              0.2222222222222222,
              "#7201a8"
             ],
             [
              0.3333333333333333,
              "#9c179e"
             ],
             [
              0.4444444444444444,
              "#bd3786"
             ],
             [
              0.5555555555555556,
              "#d8576b"
             ],
             [
              0.6666666666666666,
              "#ed7953"
             ],
             [
              0.7777777777777778,
              "#fb9f3a"
             ],
             [
              0.8888888888888888,
              "#fdca26"
             ],
             [
              1,
              "#f0f921"
             ]
            ],
            "type": "heatmapgl"
           }
          ],
          "histogram": [
           {
            "marker": {
             "colorbar": {
              "outlinewidth": 0,
              "ticks": ""
             }
            },
            "type": "histogram"
           }
          ],
          "histogram2d": [
           {
            "colorbar": {
             "outlinewidth": 0,
             "ticks": ""
            },
            "colorscale": [
             [
              0,
              "#0d0887"
             ],
             [
              0.1111111111111111,
              "#46039f"
             ],
             [
              0.2222222222222222,
              "#7201a8"
             ],
             [
              0.3333333333333333,
              "#9c179e"
             ],
             [
              0.4444444444444444,
              "#bd3786"
             ],
             [
              0.5555555555555556,
              "#d8576b"
             ],
             [
              0.6666666666666666,
              "#ed7953"
             ],
             [
              0.7777777777777778,
              "#fb9f3a"
             ],
             [
              0.8888888888888888,
              "#fdca26"
             ],
             [
              1,
              "#f0f921"
             ]
            ],
            "type": "histogram2d"
           }
          ],
          "histogram2dcontour": [
           {
            "colorbar": {
             "outlinewidth": 0,
             "ticks": ""
            },
            "colorscale": [
             [
              0,
              "#0d0887"
             ],
             [
              0.1111111111111111,
              "#46039f"
             ],
             [
              0.2222222222222222,
              "#7201a8"
             ],
             [
              0.3333333333333333,
              "#9c179e"
             ],
             [
              0.4444444444444444,
              "#bd3786"
             ],
             [
              0.5555555555555556,
              "#d8576b"
             ],
             [
              0.6666666666666666,
              "#ed7953"
             ],
             [
              0.7777777777777778,
              "#fb9f3a"
             ],
             [
              0.8888888888888888,
              "#fdca26"
             ],
             [
              1,
              "#f0f921"
             ]
            ],
            "type": "histogram2dcontour"
           }
          ],
          "mesh3d": [
           {
            "colorbar": {
             "outlinewidth": 0,
             "ticks": ""
            },
            "type": "mesh3d"
           }
          ],
          "parcoords": [
           {
            "line": {
             "colorbar": {
              "outlinewidth": 0,
              "ticks": ""
             }
            },
            "type": "parcoords"
           }
          ],
          "pie": [
           {
            "automargin": true,
            "type": "pie"
           }
          ],
          "scatter": [
           {
            "marker": {
             "colorbar": {
              "outlinewidth": 0,
              "ticks": ""
             }
            },
            "type": "scatter"
           }
          ],
          "scatter3d": [
           {
            "line": {
             "colorbar": {
              "outlinewidth": 0,
              "ticks": ""
             }
            },
            "marker": {
             "colorbar": {
              "outlinewidth": 0,
              "ticks": ""
             }
            },
            "type": "scatter3d"
           }
          ],
          "scattercarpet": [
           {
            "marker": {
             "colorbar": {
              "outlinewidth": 0,
              "ticks": ""
             }
            },
            "type": "scattercarpet"
           }
          ],
          "scattergeo": [
           {
            "marker": {
             "colorbar": {
              "outlinewidth": 0,
              "ticks": ""
             }
            },
            "type": "scattergeo"
           }
          ],
          "scattergl": [
           {
            "marker": {
             "colorbar": {
              "outlinewidth": 0,
              "ticks": ""
             }
            },
            "type": "scattergl"
           }
          ],
          "scattermapbox": [
           {
            "marker": {
             "colorbar": {
              "outlinewidth": 0,
              "ticks": ""
             }
            },
            "type": "scattermapbox"
           }
          ],
          "scatterpolar": [
           {
            "marker": {
             "colorbar": {
              "outlinewidth": 0,
              "ticks": ""
             }
            },
            "type": "scatterpolar"
           }
          ],
          "scatterpolargl": [
           {
            "marker": {
             "colorbar": {
              "outlinewidth": 0,
              "ticks": ""
             }
            },
            "type": "scatterpolargl"
           }
          ],
          "scatterternary": [
           {
            "marker": {
             "colorbar": {
              "outlinewidth": 0,
              "ticks": ""
             }
            },
            "type": "scatterternary"
           }
          ],
          "surface": [
           {
            "colorbar": {
             "outlinewidth": 0,
             "ticks": ""
            },
            "colorscale": [
             [
              0,
              "#0d0887"
             ],
             [
              0.1111111111111111,
              "#46039f"
             ],
             [
              0.2222222222222222,
              "#7201a8"
             ],
             [
              0.3333333333333333,
              "#9c179e"
             ],
             [
              0.4444444444444444,
              "#bd3786"
             ],
             [
              0.5555555555555556,
              "#d8576b"
             ],
             [
              0.6666666666666666,
              "#ed7953"
             ],
             [
              0.7777777777777778,
              "#fb9f3a"
             ],
             [
              0.8888888888888888,
              "#fdca26"
             ],
             [
              1,
              "#f0f921"
             ]
            ],
            "type": "surface"
           }
          ],
          "table": [
           {
            "cells": {
             "fill": {
              "color": "#EBF0F8"
             },
             "line": {
              "color": "white"
             }
            },
            "header": {
             "fill": {
              "color": "#C8D4E3"
             },
             "line": {
              "color": "white"
             }
            },
            "type": "table"
           }
          ]
         },
         "layout": {
          "annotationdefaults": {
           "arrowcolor": "#2a3f5f",
           "arrowhead": 0,
           "arrowwidth": 1
          },
          "autotypenumbers": "strict",
          "coloraxis": {
           "colorbar": {
            "outlinewidth": 0,
            "ticks": ""
           }
          },
          "colorscale": {
           "diverging": [
            [
             0,
             "#8e0152"
            ],
            [
             0.1,
             "#c51b7d"
            ],
            [
             0.2,
             "#de77ae"
            ],
            [
             0.3,
             "#f1b6da"
            ],
            [
             0.4,
             "#fde0ef"
            ],
            [
             0.5,
             "#f7f7f7"
            ],
            [
             0.6,
             "#e6f5d0"
            ],
            [
             0.7,
             "#b8e186"
            ],
            [
             0.8,
             "#7fbc41"
            ],
            [
             0.9,
             "#4d9221"
            ],
            [
             1,
             "#276419"
            ]
           ],
           "sequential": [
            [
             0,
             "#0d0887"
            ],
            [
             0.1111111111111111,
             "#46039f"
            ],
            [
             0.2222222222222222,
             "#7201a8"
            ],
            [
             0.3333333333333333,
             "#9c179e"
            ],
            [
             0.4444444444444444,
             "#bd3786"
            ],
            [
             0.5555555555555556,
             "#d8576b"
            ],
            [
             0.6666666666666666,
             "#ed7953"
            ],
            [
             0.7777777777777778,
             "#fb9f3a"
            ],
            [
             0.8888888888888888,
             "#fdca26"
            ],
            [
             1,
             "#f0f921"
            ]
           ],
           "sequentialminus": [
            [
             0,
             "#0d0887"
            ],
            [
             0.1111111111111111,
             "#46039f"
            ],
            [
             0.2222222222222222,
             "#7201a8"
            ],
            [
             0.3333333333333333,
             "#9c179e"
            ],
            [
             0.4444444444444444,
             "#bd3786"
            ],
            [
             0.5555555555555556,
             "#d8576b"
            ],
            [
             0.6666666666666666,
             "#ed7953"
            ],
            [
             0.7777777777777778,
             "#fb9f3a"
            ],
            [
             0.8888888888888888,
             "#fdca26"
            ],
            [
             1,
             "#f0f921"
            ]
           ]
          },
          "colorway": [
           "#636efa",
           "#EF553B",
           "#00cc96",
           "#ab63fa",
           "#FFA15A",
           "#19d3f3",
           "#FF6692",
           "#B6E880",
           "#FF97FF",
           "#FECB52"
          ],
          "font": {
           "color": "#2a3f5f"
          },
          "geo": {
           "bgcolor": "white",
           "lakecolor": "white",
           "landcolor": "#E5ECF6",
           "showlakes": true,
           "showland": true,
           "subunitcolor": "white"
          },
          "hoverlabel": {
           "align": "left"
          },
          "hovermode": "closest",
          "mapbox": {
           "style": "light"
          },
          "paper_bgcolor": "white",
          "plot_bgcolor": "#E5ECF6",
          "polar": {
           "angularaxis": {
            "gridcolor": "white",
            "linecolor": "white",
            "ticks": ""
           },
           "bgcolor": "#E5ECF6",
           "radialaxis": {
            "gridcolor": "white",
            "linecolor": "white",
            "ticks": ""
           }
          },
          "scene": {
           "xaxis": {
            "backgroundcolor": "#E5ECF6",
            "gridcolor": "white",
            "gridwidth": 2,
            "linecolor": "white",
            "showbackground": true,
            "ticks": "",
            "zerolinecolor": "white"
           },
           "yaxis": {
            "backgroundcolor": "#E5ECF6",
            "gridcolor": "white",
            "gridwidth": 2,
            "linecolor": "white",
            "showbackground": true,
            "ticks": "",
            "zerolinecolor": "white"
           },
           "zaxis": {
            "backgroundcolor": "#E5ECF6",
            "gridcolor": "white",
            "gridwidth": 2,
            "linecolor": "white",
            "showbackground": true,
            "ticks": "",
            "zerolinecolor": "white"
           }
          },
          "shapedefaults": {
           "line": {
            "color": "#2a3f5f"
           }
          },
          "ternary": {
           "aaxis": {
            "gridcolor": "white",
            "linecolor": "white",
            "ticks": ""
           },
           "baxis": {
            "gridcolor": "white",
            "linecolor": "white",
            "ticks": ""
           },
           "bgcolor": "#E5ECF6",
           "caxis": {
            "gridcolor": "white",
            "linecolor": "white",
            "ticks": ""
           }
          },
          "title": {
           "x": 0.05
          },
          "xaxis": {
           "automargin": true,
           "gridcolor": "white",
           "linecolor": "white",
           "ticks": "",
           "title": {
            "standoff": 15
           },
           "zerolinecolor": "white",
           "zerolinewidth": 2
          },
          "yaxis": {
           "automargin": true,
           "gridcolor": "white",
           "linecolor": "white",
           "ticks": "",
           "title": {
            "standoff": 15
           },
           "zerolinecolor": "white",
           "zerolinewidth": 2
          }
         }
        },
        "title": {
         "text": "Daily Candlestick"
        },
        "xaxis": {
         "gridcolor": "rgb(144, 145, 142)",
         "rangeslider": {
          "visible": false
         },
         "title": {
          "text": "Date"
         }
        },
        "yaxis": {
         "gridcolor": "rgb(144, 145, 142)",
         "title": {
          "text": "Price"
         }
        }
       }
      },
      "text/html": [
       "<div>                            <div id=\"d9633707-a4c3-4124-ad84-16c74c40991f\" class=\"plotly-graph-div\" style=\"height:525px; width:100%;\"></div>            <script type=\"text/javascript\">                require([\"plotly\"], function(Plotly) {                    window.PLOTLYENV=window.PLOTLYENV || {};                                    if (document.getElementById(\"d9633707-a4c3-4124-ad84-16c74c40991f\")) {                    Plotly.newPlot(                        \"d9633707-a4c3-4124-ad84-16c74c40991f\",                        [{\"close\": [18.84, 17.25, 17.37, 18.36, 18.08, 17.69, 19.94, 19.95, 31.4, 39.91, 35.5, 39.36, 39.12, 43.03, 65.01, 76.79, 147.98, 347.51, 193.6, 325.0, 225.0, 90.0, 92.41, 53.5, 63.77, 60.0, 50.31, 51.2, 51.1, 52.4, 49.51], \"high\": [19.8, 19.1, 18.0765, 18.98, 19.45, 18.3, 20.65, 20.4, 38.65, 43.06, 40.75, 45.52, 41.1899, 44.75, 76.7573, 159.18, 150.0, 380.0, 483.0, 413.98, 322.0, 158.0, 113.3999, 91.5, 95.0, 72.66, 57.0, 62.83, 55.32, 55.24, 53.5], \"low\": [18.8, 17.15, 17.23, 17.33, 18.02, 17.08, 19.01, 19.3168, 20.03, 33.05, 34.01, 36.64, 36.06, 37.0, 42.32, 61.13, 80.2, 249.0, 112.25, 250.0, 212.0, 74.2201, 85.25, 53.33, 51.09, 58.02, 46.52, 46.55, 48.2201, 48.05, 49.04], \"open\": [19.25, 19.0, 17.35, 17.34, 18.47, 18.18, 19.41, 19.96, 20.42, 38.09, 38.49, 41.55, 37.37, 39.23, 42.59, 96.73, 88.56, 354.83, 265.0, 379.71, 316.56, 140.76, 112.01, 91.19, 54.04, 72.41, 56.61, 50.77, 50.01, 50.75, 52.66], \"type\": \"candlestick\", \"x\": [\"2020-12-31T00:00:00\", \"2021-01-04T00:00:00\", \"2021-01-05T00:00:00\", \"2021-01-06T00:00:00\", \"2021-01-07T00:00:00\", \"2021-01-08T00:00:00\", \"2021-01-11T00:00:00\", \"2021-01-12T00:00:00\", \"2021-01-13T00:00:00\", \"2021-01-14T00:00:00\", \"2021-01-15T00:00:00\", \"2021-01-19T00:00:00\", \"2021-01-20T00:00:00\", \"2021-01-21T00:00:00\", \"2021-01-22T00:00:00\", \"2021-01-25T00:00:00\", \"2021-01-26T00:00:00\", \"2021-01-27T00:00:00\", \"2021-01-28T00:00:00\", \"2021-01-29T00:00:00\", \"2021-02-01T00:00:00\", \"2021-02-02T00:00:00\", \"2021-02-03T00:00:00\", \"2021-02-04T00:00:00\", \"2021-02-05T00:00:00\", \"2021-02-08T00:00:00\", \"2021-02-09T00:00:00\", \"2021-02-10T00:00:00\", \"2021-02-11T00:00:00\", \"2021-02-12T00:00:00\", \"2021-02-16T00:00:00\"]}],                        {\"plot_bgcolor\": \"rgb(84, 85, 87)\", \"template\": {\"data\": {\"bar\": [{\"error_x\": {\"color\": \"#2a3f5f\"}, \"error_y\": {\"color\": \"#2a3f5f\"}, \"marker\": {\"line\": {\"color\": \"#E5ECF6\", \"width\": 0.5}}, \"type\": \"bar\"}], \"barpolar\": [{\"marker\": {\"line\": {\"color\": \"#E5ECF6\", \"width\": 0.5}}, \"type\": \"barpolar\"}], \"carpet\": [{\"aaxis\": {\"endlinecolor\": \"#2a3f5f\", \"gridcolor\": \"white\", \"linecolor\": \"white\", \"minorgridcolor\": \"white\", \"startlinecolor\": \"#2a3f5f\"}, \"baxis\": {\"endlinecolor\": \"#2a3f5f\", \"gridcolor\": \"white\", \"linecolor\": \"white\", \"minorgridcolor\": \"white\", \"startlinecolor\": \"#2a3f5f\"}, \"type\": \"carpet\"}], \"choropleth\": [{\"colorbar\": {\"outlinewidth\": 0, \"ticks\": \"\"}, \"type\": \"choropleth\"}], \"contour\": [{\"colorbar\": {\"outlinewidth\": 0, \"ticks\": \"\"}, \"colorscale\": [[0.0, \"#0d0887\"], [0.1111111111111111, \"#46039f\"], [0.2222222222222222, \"#7201a8\"], [0.3333333333333333, \"#9c179e\"], [0.4444444444444444, \"#bd3786\"], [0.5555555555555556, \"#d8576b\"], [0.6666666666666666, \"#ed7953\"], [0.7777777777777778, \"#fb9f3a\"], [0.8888888888888888, \"#fdca26\"], [1.0, \"#f0f921\"]], \"type\": \"contour\"}], \"contourcarpet\": [{\"colorbar\": {\"outlinewidth\": 0, \"ticks\": \"\"}, \"type\": \"contourcarpet\"}], \"heatmap\": [{\"colorbar\": {\"outlinewidth\": 0, \"ticks\": \"\"}, \"colorscale\": [[0.0, \"#0d0887\"], [0.1111111111111111, \"#46039f\"], [0.2222222222222222, \"#7201a8\"], [0.3333333333333333, \"#9c179e\"], [0.4444444444444444, \"#bd3786\"], [0.5555555555555556, \"#d8576b\"], [0.6666666666666666, \"#ed7953\"], [0.7777777777777778, \"#fb9f3a\"], [0.8888888888888888, \"#fdca26\"], [1.0, \"#f0f921\"]], \"type\": \"heatmap\"}], \"heatmapgl\": [{\"colorbar\": {\"outlinewidth\": 0, \"ticks\": \"\"}, \"colorscale\": [[0.0, \"#0d0887\"], [0.1111111111111111, \"#46039f\"], [0.2222222222222222, \"#7201a8\"], [0.3333333333333333, \"#9c179e\"], [0.4444444444444444, \"#bd3786\"], [0.5555555555555556, \"#d8576b\"], [0.6666666666666666, \"#ed7953\"], [0.7777777777777778, \"#fb9f3a\"], [0.8888888888888888, \"#fdca26\"], [1.0, \"#f0f921\"]], \"type\": \"heatmapgl\"}], \"histogram\": [{\"marker\": {\"colorbar\": {\"outlinewidth\": 0, \"ticks\": \"\"}}, \"type\": \"histogram\"}], \"histogram2d\": [{\"colorbar\": {\"outlinewidth\": 0, \"ticks\": \"\"}, \"colorscale\": [[0.0, \"#0d0887\"], [0.1111111111111111, \"#46039f\"], [0.2222222222222222, \"#7201a8\"], [0.3333333333333333, \"#9c179e\"], [0.4444444444444444, \"#bd3786\"], [0.5555555555555556, \"#d8576b\"], [0.6666666666666666, \"#ed7953\"], [0.7777777777777778, \"#fb9f3a\"], [0.8888888888888888, \"#fdca26\"], [1.0, \"#f0f921\"]], \"type\": \"histogram2d\"}], \"histogram2dcontour\": [{\"colorbar\": {\"outlinewidth\": 0, \"ticks\": \"\"}, \"colorscale\": [[0.0, \"#0d0887\"], [0.1111111111111111, \"#46039f\"], [0.2222222222222222, \"#7201a8\"], [0.3333333333333333, \"#9c179e\"], [0.4444444444444444, \"#bd3786\"], [0.5555555555555556, \"#d8576b\"], [0.6666666666666666, \"#ed7953\"], [0.7777777777777778, \"#fb9f3a\"], [0.8888888888888888, \"#fdca26\"], [1.0, \"#f0f921\"]], \"type\": \"histogram2dcontour\"}], \"mesh3d\": [{\"colorbar\": {\"outlinewidth\": 0, \"ticks\": \"\"}, \"type\": \"mesh3d\"}], \"parcoords\": [{\"line\": {\"colorbar\": {\"outlinewidth\": 0, \"ticks\": \"\"}}, \"type\": \"parcoords\"}], \"pie\": [{\"automargin\": true, \"type\": \"pie\"}], \"scatter\": [{\"marker\": {\"colorbar\": {\"outlinewidth\": 0, \"ticks\": \"\"}}, \"type\": \"scatter\"}], \"scatter3d\": [{\"line\": {\"colorbar\": {\"outlinewidth\": 0, \"ticks\": \"\"}}, \"marker\": {\"colorbar\": {\"outlinewidth\": 0, \"ticks\": \"\"}}, \"type\": \"scatter3d\"}], \"scattercarpet\": [{\"marker\": {\"colorbar\": {\"outlinewidth\": 0, \"ticks\": \"\"}}, \"type\": \"scattercarpet\"}], \"scattergeo\": [{\"marker\": {\"colorbar\": {\"outlinewidth\": 0, \"ticks\": \"\"}}, \"type\": \"scattergeo\"}], \"scattergl\": [{\"marker\": {\"colorbar\": {\"outlinewidth\": 0, \"ticks\": \"\"}}, \"type\": \"scattergl\"}], \"scattermapbox\": [{\"marker\": {\"colorbar\": {\"outlinewidth\": 0, \"ticks\": \"\"}}, \"type\": \"scattermapbox\"}], \"scatterpolar\": [{\"marker\": {\"colorbar\": {\"outlinewidth\": 0, \"ticks\": \"\"}}, \"type\": \"scatterpolar\"}], \"scatterpolargl\": [{\"marker\": {\"colorbar\": {\"outlinewidth\": 0, \"ticks\": \"\"}}, \"type\": \"scatterpolargl\"}], \"scatterternary\": [{\"marker\": {\"colorbar\": {\"outlinewidth\": 0, \"ticks\": \"\"}}, \"type\": \"scatterternary\"}], \"surface\": [{\"colorbar\": {\"outlinewidth\": 0, \"ticks\": \"\"}, \"colorscale\": [[0.0, \"#0d0887\"], [0.1111111111111111, \"#46039f\"], [0.2222222222222222, \"#7201a8\"], [0.3333333333333333, \"#9c179e\"], [0.4444444444444444, \"#bd3786\"], [0.5555555555555556, \"#d8576b\"], [0.6666666666666666, \"#ed7953\"], [0.7777777777777778, \"#fb9f3a\"], [0.8888888888888888, \"#fdca26\"], [1.0, \"#f0f921\"]], \"type\": \"surface\"}], \"table\": [{\"cells\": {\"fill\": {\"color\": \"#EBF0F8\"}, \"line\": {\"color\": \"white\"}}, \"header\": {\"fill\": {\"color\": \"#C8D4E3\"}, \"line\": {\"color\": \"white\"}}, \"type\": \"table\"}]}, \"layout\": {\"annotationdefaults\": {\"arrowcolor\": \"#2a3f5f\", \"arrowhead\": 0, \"arrowwidth\": 1}, \"autotypenumbers\": \"strict\", \"coloraxis\": {\"colorbar\": {\"outlinewidth\": 0, \"ticks\": \"\"}}, \"colorscale\": {\"diverging\": [[0, \"#8e0152\"], [0.1, \"#c51b7d\"], [0.2, \"#de77ae\"], [0.3, \"#f1b6da\"], [0.4, \"#fde0ef\"], [0.5, \"#f7f7f7\"], [0.6, \"#e6f5d0\"], [0.7, \"#b8e186\"], [0.8, \"#7fbc41\"], [0.9, \"#4d9221\"], [1, \"#276419\"]], \"sequential\": [[0.0, \"#0d0887\"], [0.1111111111111111, \"#46039f\"], [0.2222222222222222, \"#7201a8\"], [0.3333333333333333, \"#9c179e\"], [0.4444444444444444, \"#bd3786\"], [0.5555555555555556, \"#d8576b\"], [0.6666666666666666, \"#ed7953\"], [0.7777777777777778, \"#fb9f3a\"], [0.8888888888888888, \"#fdca26\"], [1.0, \"#f0f921\"]], \"sequentialminus\": [[0.0, \"#0d0887\"], [0.1111111111111111, \"#46039f\"], [0.2222222222222222, \"#7201a8\"], [0.3333333333333333, \"#9c179e\"], [0.4444444444444444, \"#bd3786\"], [0.5555555555555556, \"#d8576b\"], [0.6666666666666666, \"#ed7953\"], [0.7777777777777778, \"#fb9f3a\"], [0.8888888888888888, \"#fdca26\"], [1.0, \"#f0f921\"]]}, \"colorway\": [\"#636efa\", \"#EF553B\", \"#00cc96\", \"#ab63fa\", \"#FFA15A\", \"#19d3f3\", \"#FF6692\", \"#B6E880\", \"#FF97FF\", \"#FECB52\"], \"font\": {\"color\": \"#2a3f5f\"}, \"geo\": {\"bgcolor\": \"white\", \"lakecolor\": \"white\", \"landcolor\": \"#E5ECF6\", \"showlakes\": true, \"showland\": true, \"subunitcolor\": \"white\"}, \"hoverlabel\": {\"align\": \"left\"}, \"hovermode\": \"closest\", \"mapbox\": {\"style\": \"light\"}, \"paper_bgcolor\": \"white\", \"plot_bgcolor\": \"#E5ECF6\", \"polar\": {\"angularaxis\": {\"gridcolor\": \"white\", \"linecolor\": \"white\", \"ticks\": \"\"}, \"bgcolor\": \"#E5ECF6\", \"radialaxis\": {\"gridcolor\": \"white\", \"linecolor\": \"white\", \"ticks\": \"\"}}, \"scene\": {\"xaxis\": {\"backgroundcolor\": \"#E5ECF6\", \"gridcolor\": \"white\", \"gridwidth\": 2, \"linecolor\": \"white\", \"showbackground\": true, \"ticks\": \"\", \"zerolinecolor\": \"white\"}, \"yaxis\": {\"backgroundcolor\": \"#E5ECF6\", \"gridcolor\": \"white\", \"gridwidth\": 2, \"linecolor\": \"white\", \"showbackground\": true, \"ticks\": \"\", \"zerolinecolor\": \"white\"}, \"zaxis\": {\"backgroundcolor\": \"#E5ECF6\", \"gridcolor\": \"white\", \"gridwidth\": 2, \"linecolor\": \"white\", \"showbackground\": true, \"ticks\": \"\", \"zerolinecolor\": \"white\"}}, \"shapedefaults\": {\"line\": {\"color\": \"#2a3f5f\"}}, \"ternary\": {\"aaxis\": {\"gridcolor\": \"white\", \"linecolor\": \"white\", \"ticks\": \"\"}, \"baxis\": {\"gridcolor\": \"white\", \"linecolor\": \"white\", \"ticks\": \"\"}, \"bgcolor\": \"#E5ECF6\", \"caxis\": {\"gridcolor\": \"white\", \"linecolor\": \"white\", \"ticks\": \"\"}}, \"title\": {\"x\": 0.05}, \"xaxis\": {\"automargin\": true, \"gridcolor\": \"white\", \"linecolor\": \"white\", \"ticks\": \"\", \"title\": {\"standoff\": 15}, \"zerolinecolor\": \"white\", \"zerolinewidth\": 2}, \"yaxis\": {\"automargin\": true, \"gridcolor\": \"white\", \"linecolor\": \"white\", \"ticks\": \"\", \"title\": {\"standoff\": 15}, \"zerolinecolor\": \"white\", \"zerolinewidth\": 2}}}, \"title\": {\"text\": \"Daily Candlestick\"}, \"xaxis\": {\"gridcolor\": \"rgb(144, 145, 142)\", \"rangeslider\": {\"visible\": false}, \"title\": {\"text\": \"Date\"}}, \"yaxis\": {\"gridcolor\": \"rgb(144, 145, 142)\", \"title\": {\"text\": \"Price\"}}},                        {\"responsive\": true}                    ).then(function(){\n",
       "                            \n",
       "var gd = document.getElementById('d9633707-a4c3-4124-ad84-16c74c40991f');\n",
       "var x = new MutationObserver(function (mutations, observer) {{\n",
       "        var display = window.getComputedStyle(gd).display;\n",
       "        if (!display || display === 'none') {{\n",
       "            console.log([gd, 'removed!']);\n",
       "            Plotly.purge(gd);\n",
       "            observer.disconnect();\n",
       "        }}\n",
       "}});\n",
       "\n",
       "// Listen for the removal of the full notebook cells\n",
       "var notebookContainer = gd.closest('#notebook-container');\n",
       "if (notebookContainer) {{\n",
       "    x.observe(notebookContainer, {childList: true});\n",
       "}}\n",
       "\n",
       "// Listen for the clearing of the current output cell\n",
       "var outputEl = gd.closest('.output');\n",
       "if (outputEl) {{\n",
       "    x.observe(outputEl, {childList: true});\n",
       "}}\n",
       "\n",
       "                        })                };                });            </script>        </div>"
      ]
     },
     "metadata": {},
     "output_type": "display_data"
    }
   ],
   "source": [
    "### Daily candlestick graph ### \n",
    "fig = go.Figure(data=[go.Candlestick(x=gme_daily['date'],\n",
    "                open=gme_daily['1. open'],\n",
    "                high=gme_daily['2. high'],\n",
    "                low=gme_daily['3. low'],\n",
    "                close=gme_daily['4. close'])])\n",
    "\n",
    "fig.update_layout(\n",
    "    title_text=\"Daily Candlestick\")\n",
    "\n",
    "fig.update_yaxes(title_text=\"Price\")\n",
    "fig.update_xaxes(title_text=\"Date\")\n",
    "fig.layout.plot_bgcolor='rgb(84, 85, 87)'\n",
    "fig.update_layout(xaxis_rangeslider_visible=False)\n",
    "fig.layout.yaxis.gridcolor='rgb(144, 145, 142)'\n",
    "fig.layout.xaxis.gridcolor='rgb(144, 145, 142)'\n",
    "fig.show()\n",
    "fig.write_html('Daily Candlestick.html')\n",
    "fig.write_image(\"Daily Candlestick.png\")"
   ]
  },
  {
   "cell_type": "code",
   "execution_count": 235,
   "metadata": {},
   "outputs": [
    {
     "data": {
      "application/vnd.plotly.v1+json": {
       "config": {
        "plotlyServerURL": "https://plot.ly"
       },
       "data": [
        {
         "line": {
          "color": "rgb(255, 196, 0)",
          "width": 3
         },
         "name": "Price",
         "type": "scatter",
         "x": [
          "2020-12-31T00:00:00",
          "2021-01-04T00:00:00",
          "2021-01-05T00:00:00",
          "2021-01-06T00:00:00",
          "2021-01-07T00:00:00",
          "2021-01-08T00:00:00",
          "2021-01-11T00:00:00",
          "2021-01-12T00:00:00",
          "2021-01-13T00:00:00",
          "2021-01-14T00:00:00",
          "2021-01-15T00:00:00",
          "2021-01-19T00:00:00",
          "2021-01-20T00:00:00",
          "2021-01-21T00:00:00",
          "2021-01-22T00:00:00",
          "2021-01-25T00:00:00",
          "2021-01-26T00:00:00",
          "2021-01-27T00:00:00",
          "2021-01-28T00:00:00",
          "2021-01-29T00:00:00",
          "2021-02-01T00:00:00",
          "2021-02-02T00:00:00",
          "2021-02-03T00:00:00",
          "2021-02-04T00:00:00",
          "2021-02-05T00:00:00",
          "2021-02-08T00:00:00",
          "2021-02-09T00:00:00",
          "2021-02-10T00:00:00",
          "2021-02-11T00:00:00",
          "2021-02-12T00:00:00",
          "2021-02-16T00:00:00"
         ],
         "xaxis": "x",
         "y": [
          18.84,
          17.25,
          17.37,
          18.36,
          18.08,
          17.69,
          19.94,
          19.95,
          31.4,
          39.91,
          35.5,
          39.36,
          39.12,
          43.03,
          65.01,
          76.79,
          147.98,
          347.51,
          193.6,
          325,
          225,
          90,
          92.41,
          53.5,
          63.77,
          60,
          50.31,
          51.2,
          51.1,
          52.4,
          49.51
         ],
         "yaxis": "y"
        },
        {
         "line": {
          "color": "rgb(73, 157, 222)",
          "width": 3
         },
         "name": "Mentions",
         "type": "scatter",
         "x": [
          "2020-12-31",
          "2021-01-01",
          "2021-01-02",
          "2021-01-03",
          "2021-01-04",
          "2021-01-05",
          "2021-01-06",
          "2021-01-07",
          "2021-01-08",
          "2021-01-09",
          "2021-01-10",
          "2021-01-11",
          "2021-01-12",
          "2021-01-13",
          "2021-01-14",
          "2021-01-15",
          "2021-01-16",
          "2021-01-17",
          "2021-01-18",
          "2021-01-19",
          "2021-01-20",
          "2021-01-21",
          "2021-01-22",
          "2021-01-23",
          "2021-01-24",
          "2021-01-25",
          "2021-01-26",
          "2021-01-27",
          "2021-01-28",
          "2021-01-29",
          "2021-01-30",
          "2021-01-31",
          "2021-02-01",
          "2021-02-02",
          "2021-02-03",
          "2021-02-04",
          "2021-02-07",
          "2021-02-08",
          "2021-02-09",
          "2021-02-10",
          "2021-02-11",
          "2021-02-12",
          "2021-02-13",
          "2021-02-14",
          "2021-02-15",
          "2021-02-16"
         ],
         "xaxis": "x",
         "y": [
          30,
          33,
          44,
          35,
          67,
          63,
          51,
          23,
          53,
          44,
          30,
          114,
          52,
          629,
          633,
          680,
          222,
          204,
          387,
          594,
          453,
          610,
          1447,
          688,
          702,
          3107,
          1022,
          11122,
          21796,
          11674,
          6852,
          6324,
          10706,
          10726,
          4320,
          3117,
          137,
          683,
          589,
          804,
          661,
          524,
          273,
          202,
          229,
          29
         ],
         "yaxis": "y2"
        }
       ],
       "layout": {
        "plot_bgcolor": "rgb(84, 85, 87)",
        "template": {
         "data": {
          "bar": [
           {
            "error_x": {
             "color": "#2a3f5f"
            },
            "error_y": {
             "color": "#2a3f5f"
            },
            "marker": {
             "line": {
              "color": "#E5ECF6",
              "width": 0.5
             }
            },
            "type": "bar"
           }
          ],
          "barpolar": [
           {
            "marker": {
             "line": {
              "color": "#E5ECF6",
              "width": 0.5
             }
            },
            "type": "barpolar"
           }
          ],
          "carpet": [
           {
            "aaxis": {
             "endlinecolor": "#2a3f5f",
             "gridcolor": "white",
             "linecolor": "white",
             "minorgridcolor": "white",
             "startlinecolor": "#2a3f5f"
            },
            "baxis": {
             "endlinecolor": "#2a3f5f",
             "gridcolor": "white",
             "linecolor": "white",
             "minorgridcolor": "white",
             "startlinecolor": "#2a3f5f"
            },
            "type": "carpet"
           }
          ],
          "choropleth": [
           {
            "colorbar": {
             "outlinewidth": 0,
             "ticks": ""
            },
            "type": "choropleth"
           }
          ],
          "contour": [
           {
            "colorbar": {
             "outlinewidth": 0,
             "ticks": ""
            },
            "colorscale": [
             [
              0,
              "#0d0887"
             ],
             [
              0.1111111111111111,
              "#46039f"
             ],
             [
              0.2222222222222222,
              "#7201a8"
             ],
             [
              0.3333333333333333,
              "#9c179e"
             ],
             [
              0.4444444444444444,
              "#bd3786"
             ],
             [
              0.5555555555555556,
              "#d8576b"
             ],
             [
              0.6666666666666666,
              "#ed7953"
             ],
             [
              0.7777777777777778,
              "#fb9f3a"
             ],
             [
              0.8888888888888888,
              "#fdca26"
             ],
             [
              1,
              "#f0f921"
             ]
            ],
            "type": "contour"
           }
          ],
          "contourcarpet": [
           {
            "colorbar": {
             "outlinewidth": 0,
             "ticks": ""
            },
            "type": "contourcarpet"
           }
          ],
          "heatmap": [
           {
            "colorbar": {
             "outlinewidth": 0,
             "ticks": ""
            },
            "colorscale": [
             [
              0,
              "#0d0887"
             ],
             [
              0.1111111111111111,
              "#46039f"
             ],
             [
              0.2222222222222222,
              "#7201a8"
             ],
             [
              0.3333333333333333,
              "#9c179e"
             ],
             [
              0.4444444444444444,
              "#bd3786"
             ],
             [
              0.5555555555555556,
              "#d8576b"
             ],
             [
              0.6666666666666666,
              "#ed7953"
             ],
             [
              0.7777777777777778,
              "#fb9f3a"
             ],
             [
              0.8888888888888888,
              "#fdca26"
             ],
             [
              1,
              "#f0f921"
             ]
            ],
            "type": "heatmap"
           }
          ],
          "heatmapgl": [
           {
            "colorbar": {
             "outlinewidth": 0,
             "ticks": ""
            },
            "colorscale": [
             [
              0,
              "#0d0887"
             ],
             [
              0.1111111111111111,
              "#46039f"
             ],
             [
              0.2222222222222222,
              "#7201a8"
             ],
             [
              0.3333333333333333,
              "#9c179e"
             ],
             [
              0.4444444444444444,
              "#bd3786"
             ],
             [
              0.5555555555555556,
              "#d8576b"
             ],
             [
              0.6666666666666666,
              "#ed7953"
             ],
             [
              0.7777777777777778,
              "#fb9f3a"
             ],
             [
              0.8888888888888888,
              "#fdca26"
             ],
             [
              1,
              "#f0f921"
             ]
            ],
            "type": "heatmapgl"
           }
          ],
          "histogram": [
           {
            "marker": {
             "colorbar": {
              "outlinewidth": 0,
              "ticks": ""
             }
            },
            "type": "histogram"
           }
          ],
          "histogram2d": [
           {
            "colorbar": {
             "outlinewidth": 0,
             "ticks": ""
            },
            "colorscale": [
             [
              0,
              "#0d0887"
             ],
             [
              0.1111111111111111,
              "#46039f"
             ],
             [
              0.2222222222222222,
              "#7201a8"
             ],
             [
              0.3333333333333333,
              "#9c179e"
             ],
             [
              0.4444444444444444,
              "#bd3786"
             ],
             [
              0.5555555555555556,
              "#d8576b"
             ],
             [
              0.6666666666666666,
              "#ed7953"
             ],
             [
              0.7777777777777778,
              "#fb9f3a"
             ],
             [
              0.8888888888888888,
              "#fdca26"
             ],
             [
              1,
              "#f0f921"
             ]
            ],
            "type": "histogram2d"
           }
          ],
          "histogram2dcontour": [
           {
            "colorbar": {
             "outlinewidth": 0,
             "ticks": ""
            },
            "colorscale": [
             [
              0,
              "#0d0887"
             ],
             [
              0.1111111111111111,
              "#46039f"
             ],
             [
              0.2222222222222222,
              "#7201a8"
             ],
             [
              0.3333333333333333,
              "#9c179e"
             ],
             [
              0.4444444444444444,
              "#bd3786"
             ],
             [
              0.5555555555555556,
              "#d8576b"
             ],
             [
              0.6666666666666666,
              "#ed7953"
             ],
             [
              0.7777777777777778,
              "#fb9f3a"
             ],
             [
              0.8888888888888888,
              "#fdca26"
             ],
             [
              1,
              "#f0f921"
             ]
            ],
            "type": "histogram2dcontour"
           }
          ],
          "mesh3d": [
           {
            "colorbar": {
             "outlinewidth": 0,
             "ticks": ""
            },
            "type": "mesh3d"
           }
          ],
          "parcoords": [
           {
            "line": {
             "colorbar": {
              "outlinewidth": 0,
              "ticks": ""
             }
            },
            "type": "parcoords"
           }
          ],
          "pie": [
           {
            "automargin": true,
            "type": "pie"
           }
          ],
          "scatter": [
           {
            "marker": {
             "colorbar": {
              "outlinewidth": 0,
              "ticks": ""
             }
            },
            "type": "scatter"
           }
          ],
          "scatter3d": [
           {
            "line": {
             "colorbar": {
              "outlinewidth": 0,
              "ticks": ""
             }
            },
            "marker": {
             "colorbar": {
              "outlinewidth": 0,
              "ticks": ""
             }
            },
            "type": "scatter3d"
           }
          ],
          "scattercarpet": [
           {
            "marker": {
             "colorbar": {
              "outlinewidth": 0,
              "ticks": ""
             }
            },
            "type": "scattercarpet"
           }
          ],
          "scattergeo": [
           {
            "marker": {
             "colorbar": {
              "outlinewidth": 0,
              "ticks": ""
             }
            },
            "type": "scattergeo"
           }
          ],
          "scattergl": [
           {
            "marker": {
             "colorbar": {
              "outlinewidth": 0,
              "ticks": ""
             }
            },
            "type": "scattergl"
           }
          ],
          "scattermapbox": [
           {
            "marker": {
             "colorbar": {
              "outlinewidth": 0,
              "ticks": ""
             }
            },
            "type": "scattermapbox"
           }
          ],
          "scatterpolar": [
           {
            "marker": {
             "colorbar": {
              "outlinewidth": 0,
              "ticks": ""
             }
            },
            "type": "scatterpolar"
           }
          ],
          "scatterpolargl": [
           {
            "marker": {
             "colorbar": {
              "outlinewidth": 0,
              "ticks": ""
             }
            },
            "type": "scatterpolargl"
           }
          ],
          "scatterternary": [
           {
            "marker": {
             "colorbar": {
              "outlinewidth": 0,
              "ticks": ""
             }
            },
            "type": "scatterternary"
           }
          ],
          "surface": [
           {
            "colorbar": {
             "outlinewidth": 0,
             "ticks": ""
            },
            "colorscale": [
             [
              0,
              "#0d0887"
             ],
             [
              0.1111111111111111,
              "#46039f"
             ],
             [
              0.2222222222222222,
              "#7201a8"
             ],
             [
              0.3333333333333333,
              "#9c179e"
             ],
             [
              0.4444444444444444,
              "#bd3786"
             ],
             [
              0.5555555555555556,
              "#d8576b"
             ],
             [
              0.6666666666666666,
              "#ed7953"
             ],
             [
              0.7777777777777778,
              "#fb9f3a"
             ],
             [
              0.8888888888888888,
              "#fdca26"
             ],
             [
              1,
              "#f0f921"
             ]
            ],
            "type": "surface"
           }
          ],
          "table": [
           {
            "cells": {
             "fill": {
              "color": "#EBF0F8"
             },
             "line": {
              "color": "white"
             }
            },
            "header": {
             "fill": {
              "color": "#C8D4E3"
             },
             "line": {
              "color": "white"
             }
            },
            "type": "table"
           }
          ]
         },
         "layout": {
          "annotationdefaults": {
           "arrowcolor": "#2a3f5f",
           "arrowhead": 0,
           "arrowwidth": 1
          },
          "autotypenumbers": "strict",
          "coloraxis": {
           "colorbar": {
            "outlinewidth": 0,
            "ticks": ""
           }
          },
          "colorscale": {
           "diverging": [
            [
             0,
             "#8e0152"
            ],
            [
             0.1,
             "#c51b7d"
            ],
            [
             0.2,
             "#de77ae"
            ],
            [
             0.3,
             "#f1b6da"
            ],
            [
             0.4,
             "#fde0ef"
            ],
            [
             0.5,
             "#f7f7f7"
            ],
            [
             0.6,
             "#e6f5d0"
            ],
            [
             0.7,
             "#b8e186"
            ],
            [
             0.8,
             "#7fbc41"
            ],
            [
             0.9,
             "#4d9221"
            ],
            [
             1,
             "#276419"
            ]
           ],
           "sequential": [
            [
             0,
             "#0d0887"
            ],
            [
             0.1111111111111111,
             "#46039f"
            ],
            [
             0.2222222222222222,
             "#7201a8"
            ],
            [
             0.3333333333333333,
             "#9c179e"
            ],
            [
             0.4444444444444444,
             "#bd3786"
            ],
            [
             0.5555555555555556,
             "#d8576b"
            ],
            [
             0.6666666666666666,
             "#ed7953"
            ],
            [
             0.7777777777777778,
             "#fb9f3a"
            ],
            [
             0.8888888888888888,
             "#fdca26"
            ],
            [
             1,
             "#f0f921"
            ]
           ],
           "sequentialminus": [
            [
             0,
             "#0d0887"
            ],
            [
             0.1111111111111111,
             "#46039f"
            ],
            [
             0.2222222222222222,
             "#7201a8"
            ],
            [
             0.3333333333333333,
             "#9c179e"
            ],
            [
             0.4444444444444444,
             "#bd3786"
            ],
            [
             0.5555555555555556,
             "#d8576b"
            ],
            [
             0.6666666666666666,
             "#ed7953"
            ],
            [
             0.7777777777777778,
             "#fb9f3a"
            ],
            [
             0.8888888888888888,
             "#fdca26"
            ],
            [
             1,
             "#f0f921"
            ]
           ]
          },
          "colorway": [
           "#636efa",
           "#EF553B",
           "#00cc96",
           "#ab63fa",
           "#FFA15A",
           "#19d3f3",
           "#FF6692",
           "#B6E880",
           "#FF97FF",
           "#FECB52"
          ],
          "font": {
           "color": "#2a3f5f"
          },
          "geo": {
           "bgcolor": "white",
           "lakecolor": "white",
           "landcolor": "#E5ECF6",
           "showlakes": true,
           "showland": true,
           "subunitcolor": "white"
          },
          "hoverlabel": {
           "align": "left"
          },
          "hovermode": "closest",
          "mapbox": {
           "style": "light"
          },
          "paper_bgcolor": "white",
          "plot_bgcolor": "#E5ECF6",
          "polar": {
           "angularaxis": {
            "gridcolor": "white",
            "linecolor": "white",
            "ticks": ""
           },
           "bgcolor": "#E5ECF6",
           "radialaxis": {
            "gridcolor": "white",
            "linecolor": "white",
            "ticks": ""
           }
          },
          "scene": {
           "xaxis": {
            "backgroundcolor": "#E5ECF6",
            "gridcolor": "white",
            "gridwidth": 2,
            "linecolor": "white",
            "showbackground": true,
            "ticks": "",
            "zerolinecolor": "white"
           },
           "yaxis": {
            "backgroundcolor": "#E5ECF6",
            "gridcolor": "white",
            "gridwidth": 2,
            "linecolor": "white",
            "showbackground": true,
            "ticks": "",
            "zerolinecolor": "white"
           },
           "zaxis": {
            "backgroundcolor": "#E5ECF6",
            "gridcolor": "white",
            "gridwidth": 2,
            "linecolor": "white",
            "showbackground": true,
            "ticks": "",
            "zerolinecolor": "white"
           }
          },
          "shapedefaults": {
           "line": {
            "color": "#2a3f5f"
           }
          },
          "ternary": {
           "aaxis": {
            "gridcolor": "white",
            "linecolor": "white",
            "ticks": ""
           },
           "baxis": {
            "gridcolor": "white",
            "linecolor": "white",
            "ticks": ""
           },
           "bgcolor": "#E5ECF6",
           "caxis": {
            "gridcolor": "white",
            "linecolor": "white",
            "ticks": ""
           }
          },
          "title": {
           "x": 0.05
          },
          "xaxis": {
           "automargin": true,
           "gridcolor": "white",
           "linecolor": "white",
           "ticks": "",
           "title": {
            "standoff": 15
           },
           "zerolinecolor": "white",
           "zerolinewidth": 2
          },
          "yaxis": {
           "automargin": true,
           "gridcolor": "white",
           "linecolor": "white",
           "ticks": "",
           "title": {
            "standoff": 15
           },
           "zerolinecolor": "white",
           "zerolinewidth": 2
          }
         }
        },
        "title": {
         "text": "GME Price vs. Mentions"
        },
        "xaxis": {
         "anchor": "y",
         "domain": [
          0,
          0.94
         ],
         "gridcolor": "rgb(144, 145, 142)",
         "title": {
          "text": "Date"
         }
        },
        "yaxis": {
         "anchor": "x",
         "domain": [
          0,
          1
         ],
         "gridcolor": "rgb(144, 145, 142)",
         "title": {
          "text": "Price"
         }
        },
        "yaxis2": {
         "anchor": "x",
         "overlaying": "y",
         "side": "right",
         "title": {
          "text": "Mentions"
         }
        }
       }
      },
      "text/html": [
       "<div>                            <div id=\"7e902911-aabb-413f-8e61-69d9296e70ae\" class=\"plotly-graph-div\" style=\"height:525px; width:100%;\"></div>            <script type=\"text/javascript\">                require([\"plotly\"], function(Plotly) {                    window.PLOTLYENV=window.PLOTLYENV || {};                                    if (document.getElementById(\"7e902911-aabb-413f-8e61-69d9296e70ae\")) {                    Plotly.newPlot(                        \"7e902911-aabb-413f-8e61-69d9296e70ae\",                        [{\"line\": {\"color\": \"rgb(255, 196, 0)\", \"width\": 3}, \"name\": \"Price\", \"type\": \"scatter\", \"x\": [\"2020-12-31T00:00:00\", \"2021-01-04T00:00:00\", \"2021-01-05T00:00:00\", \"2021-01-06T00:00:00\", \"2021-01-07T00:00:00\", \"2021-01-08T00:00:00\", \"2021-01-11T00:00:00\", \"2021-01-12T00:00:00\", \"2021-01-13T00:00:00\", \"2021-01-14T00:00:00\", \"2021-01-15T00:00:00\", \"2021-01-19T00:00:00\", \"2021-01-20T00:00:00\", \"2021-01-21T00:00:00\", \"2021-01-22T00:00:00\", \"2021-01-25T00:00:00\", \"2021-01-26T00:00:00\", \"2021-01-27T00:00:00\", \"2021-01-28T00:00:00\", \"2021-01-29T00:00:00\", \"2021-02-01T00:00:00\", \"2021-02-02T00:00:00\", \"2021-02-03T00:00:00\", \"2021-02-04T00:00:00\", \"2021-02-05T00:00:00\", \"2021-02-08T00:00:00\", \"2021-02-09T00:00:00\", \"2021-02-10T00:00:00\", \"2021-02-11T00:00:00\", \"2021-02-12T00:00:00\", \"2021-02-16T00:00:00\"], \"xaxis\": \"x\", \"y\": [18.84, 17.25, 17.37, 18.36, 18.08, 17.69, 19.94, 19.95, 31.4, 39.91, 35.5, 39.36, 39.12, 43.03, 65.01, 76.79, 147.98, 347.51, 193.6, 325.0, 225.0, 90.0, 92.41, 53.5, 63.77, 60.0, 50.31, 51.2, 51.1, 52.4, 49.51], \"yaxis\": \"y\"}, {\"line\": {\"color\": \"rgb(73, 157, 222)\", \"width\": 3}, \"name\": \"Mentions\", \"type\": \"scatter\", \"x\": [\"2020-12-31\", \"2021-01-01\", \"2021-01-02\", \"2021-01-03\", \"2021-01-04\", \"2021-01-05\", \"2021-01-06\", \"2021-01-07\", \"2021-01-08\", \"2021-01-09\", \"2021-01-10\", \"2021-01-11\", \"2021-01-12\", \"2021-01-13\", \"2021-01-14\", \"2021-01-15\", \"2021-01-16\", \"2021-01-17\", \"2021-01-18\", \"2021-01-19\", \"2021-01-20\", \"2021-01-21\", \"2021-01-22\", \"2021-01-23\", \"2021-01-24\", \"2021-01-25\", \"2021-01-26\", \"2021-01-27\", \"2021-01-28\", \"2021-01-29\", \"2021-01-30\", \"2021-01-31\", \"2021-02-01\", \"2021-02-02\", \"2021-02-03\", \"2021-02-04\", \"2021-02-07\", \"2021-02-08\", \"2021-02-09\", \"2021-02-10\", \"2021-02-11\", \"2021-02-12\", \"2021-02-13\", \"2021-02-14\", \"2021-02-15\", \"2021-02-16\"], \"xaxis\": \"x\", \"y\": [30, 33, 44, 35, 67, 63, 51, 23, 53, 44, 30, 114, 52, 629, 633, 680, 222, 204, 387, 594, 453, 610, 1447, 688, 702, 3107, 1022, 11122, 21796, 11674, 6852, 6324, 10706, 10726, 4320, 3117, 137, 683, 589, 804, 661, 524, 273, 202, 229, 29], \"yaxis\": \"y2\"}],                        {\"plot_bgcolor\": \"rgb(84, 85, 87)\", \"template\": {\"data\": {\"bar\": [{\"error_x\": {\"color\": \"#2a3f5f\"}, \"error_y\": {\"color\": \"#2a3f5f\"}, \"marker\": {\"line\": {\"color\": \"#E5ECF6\", \"width\": 0.5}}, \"type\": \"bar\"}], \"barpolar\": [{\"marker\": {\"line\": {\"color\": \"#E5ECF6\", \"width\": 0.5}}, \"type\": \"barpolar\"}], \"carpet\": [{\"aaxis\": {\"endlinecolor\": \"#2a3f5f\", \"gridcolor\": \"white\", \"linecolor\": \"white\", \"minorgridcolor\": \"white\", \"startlinecolor\": \"#2a3f5f\"}, \"baxis\": {\"endlinecolor\": \"#2a3f5f\", \"gridcolor\": \"white\", \"linecolor\": \"white\", \"minorgridcolor\": \"white\", \"startlinecolor\": \"#2a3f5f\"}, \"type\": \"carpet\"}], \"choropleth\": [{\"colorbar\": {\"outlinewidth\": 0, \"ticks\": \"\"}, \"type\": \"choropleth\"}], \"contour\": [{\"colorbar\": {\"outlinewidth\": 0, \"ticks\": \"\"}, \"colorscale\": [[0.0, \"#0d0887\"], [0.1111111111111111, \"#46039f\"], [0.2222222222222222, \"#7201a8\"], [0.3333333333333333, \"#9c179e\"], [0.4444444444444444, \"#bd3786\"], [0.5555555555555556, \"#d8576b\"], [0.6666666666666666, \"#ed7953\"], [0.7777777777777778, \"#fb9f3a\"], [0.8888888888888888, \"#fdca26\"], [1.0, \"#f0f921\"]], \"type\": \"contour\"}], \"contourcarpet\": [{\"colorbar\": {\"outlinewidth\": 0, \"ticks\": \"\"}, \"type\": \"contourcarpet\"}], \"heatmap\": [{\"colorbar\": {\"outlinewidth\": 0, \"ticks\": \"\"}, \"colorscale\": [[0.0, \"#0d0887\"], [0.1111111111111111, \"#46039f\"], [0.2222222222222222, \"#7201a8\"], [0.3333333333333333, \"#9c179e\"], [0.4444444444444444, \"#bd3786\"], [0.5555555555555556, \"#d8576b\"], [0.6666666666666666, \"#ed7953\"], [0.7777777777777778, \"#fb9f3a\"], [0.8888888888888888, \"#fdca26\"], [1.0, \"#f0f921\"]], \"type\": \"heatmap\"}], \"heatmapgl\": [{\"colorbar\": {\"outlinewidth\": 0, \"ticks\": \"\"}, \"colorscale\": [[0.0, \"#0d0887\"], [0.1111111111111111, \"#46039f\"], [0.2222222222222222, \"#7201a8\"], [0.3333333333333333, \"#9c179e\"], [0.4444444444444444, \"#bd3786\"], [0.5555555555555556, \"#d8576b\"], [0.6666666666666666, \"#ed7953\"], [0.7777777777777778, \"#fb9f3a\"], [0.8888888888888888, \"#fdca26\"], [1.0, \"#f0f921\"]], \"type\": \"heatmapgl\"}], \"histogram\": [{\"marker\": {\"colorbar\": {\"outlinewidth\": 0, \"ticks\": \"\"}}, \"type\": \"histogram\"}], \"histogram2d\": [{\"colorbar\": {\"outlinewidth\": 0, \"ticks\": \"\"}, \"colorscale\": [[0.0, \"#0d0887\"], [0.1111111111111111, \"#46039f\"], [0.2222222222222222, \"#7201a8\"], [0.3333333333333333, \"#9c179e\"], [0.4444444444444444, \"#bd3786\"], [0.5555555555555556, \"#d8576b\"], [0.6666666666666666, \"#ed7953\"], [0.7777777777777778, \"#fb9f3a\"], [0.8888888888888888, \"#fdca26\"], [1.0, \"#f0f921\"]], \"type\": \"histogram2d\"}], \"histogram2dcontour\": [{\"colorbar\": {\"outlinewidth\": 0, \"ticks\": \"\"}, \"colorscale\": [[0.0, \"#0d0887\"], [0.1111111111111111, \"#46039f\"], [0.2222222222222222, \"#7201a8\"], [0.3333333333333333, \"#9c179e\"], [0.4444444444444444, \"#bd3786\"], [0.5555555555555556, \"#d8576b\"], [0.6666666666666666, \"#ed7953\"], [0.7777777777777778, \"#fb9f3a\"], [0.8888888888888888, \"#fdca26\"], [1.0, \"#f0f921\"]], \"type\": \"histogram2dcontour\"}], \"mesh3d\": [{\"colorbar\": {\"outlinewidth\": 0, \"ticks\": \"\"}, \"type\": \"mesh3d\"}], \"parcoords\": [{\"line\": {\"colorbar\": {\"outlinewidth\": 0, \"ticks\": \"\"}}, \"type\": \"parcoords\"}], \"pie\": [{\"automargin\": true, \"type\": \"pie\"}], \"scatter\": [{\"marker\": {\"colorbar\": {\"outlinewidth\": 0, \"ticks\": \"\"}}, \"type\": \"scatter\"}], \"scatter3d\": [{\"line\": {\"colorbar\": {\"outlinewidth\": 0, \"ticks\": \"\"}}, \"marker\": {\"colorbar\": {\"outlinewidth\": 0, \"ticks\": \"\"}}, \"type\": \"scatter3d\"}], \"scattercarpet\": [{\"marker\": {\"colorbar\": {\"outlinewidth\": 0, \"ticks\": \"\"}}, \"type\": \"scattercarpet\"}], \"scattergeo\": [{\"marker\": {\"colorbar\": {\"outlinewidth\": 0, \"ticks\": \"\"}}, \"type\": \"scattergeo\"}], \"scattergl\": [{\"marker\": {\"colorbar\": {\"outlinewidth\": 0, \"ticks\": \"\"}}, \"type\": \"scattergl\"}], \"scattermapbox\": [{\"marker\": {\"colorbar\": {\"outlinewidth\": 0, \"ticks\": \"\"}}, \"type\": \"scattermapbox\"}], \"scatterpolar\": [{\"marker\": {\"colorbar\": {\"outlinewidth\": 0, \"ticks\": \"\"}}, \"type\": \"scatterpolar\"}], \"scatterpolargl\": [{\"marker\": {\"colorbar\": {\"outlinewidth\": 0, \"ticks\": \"\"}}, \"type\": \"scatterpolargl\"}], \"scatterternary\": [{\"marker\": {\"colorbar\": {\"outlinewidth\": 0, \"ticks\": \"\"}}, \"type\": \"scatterternary\"}], \"surface\": [{\"colorbar\": {\"outlinewidth\": 0, \"ticks\": \"\"}, \"colorscale\": [[0.0, \"#0d0887\"], [0.1111111111111111, \"#46039f\"], [0.2222222222222222, \"#7201a8\"], [0.3333333333333333, \"#9c179e\"], [0.4444444444444444, \"#bd3786\"], [0.5555555555555556, \"#d8576b\"], [0.6666666666666666, \"#ed7953\"], [0.7777777777777778, \"#fb9f3a\"], [0.8888888888888888, \"#fdca26\"], [1.0, \"#f0f921\"]], \"type\": \"surface\"}], \"table\": [{\"cells\": {\"fill\": {\"color\": \"#EBF0F8\"}, \"line\": {\"color\": \"white\"}}, \"header\": {\"fill\": {\"color\": \"#C8D4E3\"}, \"line\": {\"color\": \"white\"}}, \"type\": \"table\"}]}, \"layout\": {\"annotationdefaults\": {\"arrowcolor\": \"#2a3f5f\", \"arrowhead\": 0, \"arrowwidth\": 1}, \"autotypenumbers\": \"strict\", \"coloraxis\": {\"colorbar\": {\"outlinewidth\": 0, \"ticks\": \"\"}}, \"colorscale\": {\"diverging\": [[0, \"#8e0152\"], [0.1, \"#c51b7d\"], [0.2, \"#de77ae\"], [0.3, \"#f1b6da\"], [0.4, \"#fde0ef\"], [0.5, \"#f7f7f7\"], [0.6, \"#e6f5d0\"], [0.7, \"#b8e186\"], [0.8, \"#7fbc41\"], [0.9, \"#4d9221\"], [1, \"#276419\"]], \"sequential\": [[0.0, \"#0d0887\"], [0.1111111111111111, \"#46039f\"], [0.2222222222222222, \"#7201a8\"], [0.3333333333333333, \"#9c179e\"], [0.4444444444444444, \"#bd3786\"], [0.5555555555555556, \"#d8576b\"], [0.6666666666666666, \"#ed7953\"], [0.7777777777777778, \"#fb9f3a\"], [0.8888888888888888, \"#fdca26\"], [1.0, \"#f0f921\"]], \"sequentialminus\": [[0.0, \"#0d0887\"], [0.1111111111111111, \"#46039f\"], [0.2222222222222222, \"#7201a8\"], [0.3333333333333333, \"#9c179e\"], [0.4444444444444444, \"#bd3786\"], [0.5555555555555556, \"#d8576b\"], [0.6666666666666666, \"#ed7953\"], [0.7777777777777778, \"#fb9f3a\"], [0.8888888888888888, \"#fdca26\"], [1.0, \"#f0f921\"]]}, \"colorway\": [\"#636efa\", \"#EF553B\", \"#00cc96\", \"#ab63fa\", \"#FFA15A\", \"#19d3f3\", \"#FF6692\", \"#B6E880\", \"#FF97FF\", \"#FECB52\"], \"font\": {\"color\": \"#2a3f5f\"}, \"geo\": {\"bgcolor\": \"white\", \"lakecolor\": \"white\", \"landcolor\": \"#E5ECF6\", \"showlakes\": true, \"showland\": true, \"subunitcolor\": \"white\"}, \"hoverlabel\": {\"align\": \"left\"}, \"hovermode\": \"closest\", \"mapbox\": {\"style\": \"light\"}, \"paper_bgcolor\": \"white\", \"plot_bgcolor\": \"#E5ECF6\", \"polar\": {\"angularaxis\": {\"gridcolor\": \"white\", \"linecolor\": \"white\", \"ticks\": \"\"}, \"bgcolor\": \"#E5ECF6\", \"radialaxis\": {\"gridcolor\": \"white\", \"linecolor\": \"white\", \"ticks\": \"\"}}, \"scene\": {\"xaxis\": {\"backgroundcolor\": \"#E5ECF6\", \"gridcolor\": \"white\", \"gridwidth\": 2, \"linecolor\": \"white\", \"showbackground\": true, \"ticks\": \"\", \"zerolinecolor\": \"white\"}, \"yaxis\": {\"backgroundcolor\": \"#E5ECF6\", \"gridcolor\": \"white\", \"gridwidth\": 2, \"linecolor\": \"white\", \"showbackground\": true, \"ticks\": \"\", \"zerolinecolor\": \"white\"}, \"zaxis\": {\"backgroundcolor\": \"#E5ECF6\", \"gridcolor\": \"white\", \"gridwidth\": 2, \"linecolor\": \"white\", \"showbackground\": true, \"ticks\": \"\", \"zerolinecolor\": \"white\"}}, \"shapedefaults\": {\"line\": {\"color\": \"#2a3f5f\"}}, \"ternary\": {\"aaxis\": {\"gridcolor\": \"white\", \"linecolor\": \"white\", \"ticks\": \"\"}, \"baxis\": {\"gridcolor\": \"white\", \"linecolor\": \"white\", \"ticks\": \"\"}, \"bgcolor\": \"#E5ECF6\", \"caxis\": {\"gridcolor\": \"white\", \"linecolor\": \"white\", \"ticks\": \"\"}}, \"title\": {\"x\": 0.05}, \"xaxis\": {\"automargin\": true, \"gridcolor\": \"white\", \"linecolor\": \"white\", \"ticks\": \"\", \"title\": {\"standoff\": 15}, \"zerolinecolor\": \"white\", \"zerolinewidth\": 2}, \"yaxis\": {\"automargin\": true, \"gridcolor\": \"white\", \"linecolor\": \"white\", \"ticks\": \"\", \"title\": {\"standoff\": 15}, \"zerolinecolor\": \"white\", \"zerolinewidth\": 2}}}, \"title\": {\"text\": \"GME Price vs. Mentions\"}, \"xaxis\": {\"anchor\": \"y\", \"domain\": [0.0, 0.94], \"gridcolor\": \"rgb(144, 145, 142)\", \"title\": {\"text\": \"Date\"}}, \"yaxis\": {\"anchor\": \"x\", \"domain\": [0.0, 1.0], \"gridcolor\": \"rgb(144, 145, 142)\", \"title\": {\"text\": \"Price\"}}, \"yaxis2\": {\"anchor\": \"x\", \"overlaying\": \"y\", \"side\": \"right\", \"title\": {\"text\": \"Mentions\"}}},                        {\"responsive\": true}                    ).then(function(){\n",
       "                            \n",
       "var gd = document.getElementById('7e902911-aabb-413f-8e61-69d9296e70ae');\n",
       "var x = new MutationObserver(function (mutations, observer) {{\n",
       "        var display = window.getComputedStyle(gd).display;\n",
       "        if (!display || display === 'none') {{\n",
       "            console.log([gd, 'removed!']);\n",
       "            Plotly.purge(gd);\n",
       "            observer.disconnect();\n",
       "        }}\n",
       "}});\n",
       "\n",
       "// Listen for the removal of the full notebook cells\n",
       "var notebookContainer = gd.closest('#notebook-container');\n",
       "if (notebookContainer) {{\n",
       "    x.observe(notebookContainer, {childList: true});\n",
       "}}\n",
       "\n",
       "// Listen for the clearing of the current output cell\n",
       "var outputEl = gd.closest('.output');\n",
       "if (outputEl) {{\n",
       "    x.observe(outputEl, {childList: true});\n",
       "}}\n",
       "\n",
       "                        })                };                });            </script>        </div>"
      ]
     },
     "metadata": {},
     "output_type": "display_data"
    }
   ],
   "source": [
    "fig = make_subplots(specs=[[{\"secondary_y\": True}]])\n",
    "\n",
    "fig.add_trace(\n",
    "    go.Scatter(x=gme_daily['date'], y=gme_daily['5. adjusted close'],\n",
    "               name=\"Price\"),\n",
    "    secondary_y=False,\n",
    ")\n",
    "\n",
    "fig.add_trace(\n",
    "    go.Scatter( x=gme_date['date'], y=gme_date['count'], name= 'Mentions'),\n",
    "    secondary_y=True,\n",
    ")\n",
    "fig.update_layout(\n",
    "    title_text=\"GME Price vs. Mentions\"\n",
    ")\n",
    "\n",
    "fig.update_xaxes(title_text=\"Date\")\n",
    "\n",
    "fig.update_yaxes(title_text=\"Price\", secondary_y=False)\n",
    "fig.update_yaxes(title_text=\"Mentions\", secondary_y=True)\n",
    "fig.update_traces(line_color='rgb(255, 196, 0)', line = {'width':3}, secondary_y=False)\n",
    "fig.update_traces(line_color='rgb(73, 157, 222)', line = {'width':3}, secondary_y=True)\n",
    "fig.layout.plot_bgcolor='rgb(84, 85, 87)'\n",
    "fig.layout.yaxis.gridcolor='rgb(144, 145, 142)'\n",
    "fig.layout.yaxis.gridcolor='rgb(144, 145, 142)'\n",
    "fig.layout.xaxis.gridcolor='rgb(144, 145, 142)'\n",
    "fig.show()\n",
    "fig.write_html('GME Price vs Mentions.html')\n",
    "fig.write_image(\"GME Price vs Mentions.png\")"
   ]
  },
  {
   "cell_type": "code",
   "execution_count": 236,
   "metadata": {
    "scrolled": true
   },
   "outputs": [
    {
     "data": {
      "application/vnd.plotly.v1+json": {
       "config": {
        "plotlyServerURL": "https://plot.ly"
       },
       "data": [
        {
         "line": {
          "color": "rgb(255, 196, 0)",
          "width": 3
         },
         "name": "Price",
         "type": "scatter",
         "x": [
          "2021-01-25T05:00:00",
          "2021-01-25T06:00:00",
          "2021-01-25T07:00:00",
          "2021-01-25T08:00:00",
          "2021-01-25T09:00:00",
          "2021-01-25T10:00:00",
          "2021-01-25T11:00:00",
          "2021-01-25T12:00:00",
          "2021-01-25T13:00:00",
          "2021-01-25T14:00:00",
          "2021-01-25T15:00:00",
          "2021-01-25T16:00:00",
          "2021-01-25T17:00:00",
          "2021-01-25T18:00:00",
          "2021-01-25T19:00:00",
          "2021-01-25T20:00:00",
          "2021-01-26T05:00:00",
          "2021-01-26T06:00:00",
          "2021-01-26T07:00:00",
          "2021-01-26T08:00:00",
          "2021-01-26T09:00:00",
          "2021-01-26T10:00:00",
          "2021-01-26T11:00:00",
          "2021-01-26T12:00:00",
          "2021-01-26T13:00:00",
          "2021-01-26T14:00:00",
          "2021-01-26T15:00:00",
          "2021-01-26T16:00:00",
          "2021-01-26T17:00:00",
          "2021-01-26T18:00:00",
          "2021-01-26T19:00:00",
          "2021-01-26T20:00:00",
          "2021-01-27T05:00:00",
          "2021-01-27T06:00:00",
          "2021-01-27T07:00:00",
          "2021-01-27T08:00:00",
          "2021-01-27T09:00:00",
          "2021-01-27T10:00:00",
          "2021-01-27T11:00:00",
          "2021-01-27T12:00:00",
          "2021-01-27T13:00:00",
          "2021-01-27T14:00:00",
          "2021-01-27T15:00:00",
          "2021-01-27T16:00:00",
          "2021-01-27T17:00:00",
          "2021-01-27T18:00:00",
          "2021-01-27T19:00:00",
          "2021-01-27T20:00:00",
          "2021-01-28T05:00:00",
          "2021-01-28T06:00:00",
          "2021-01-28T07:00:00",
          "2021-01-28T08:00:00",
          "2021-01-28T09:00:00",
          "2021-01-28T10:00:00",
          "2021-01-28T11:00:00",
          "2021-01-28T12:00:00",
          "2021-01-28T13:00:00",
          "2021-01-28T14:00:00",
          "2021-01-28T15:00:00",
          "2021-01-28T16:00:00",
          "2021-01-28T17:00:00",
          "2021-01-28T18:00:00",
          "2021-01-28T19:00:00",
          "2021-01-28T20:00:00"
         ],
         "xaxis": "x",
         "y": [
          105.39,
          96.77,
          94.43,
          91.65,
          98.05,
          89.76,
          117.07,
          99.56,
          69.42,
          76.7499,
          77.0001,
          76.765,
          78.5,
          81.71,
          82.8801,
          88.87,
          94,
          88.55,
          88.5,
          91.51,
          89.25,
          87.57,
          87.6101,
          87.7999,
          105.5556,
          114.5499,
          131.845,
          145.965,
          224.45,
          208.14,
          225,
          209.51,
          299.19,
          351,
          197.89,
          230,
          231.5,
          310.69,
          371.82,
          312.61,
          342.172,
          326.59,
          319.6006,
          345,
          327.26,
          319.85,
          248.8,
          292,
          335,
          456,
          445,
          459,
          341,
          468.49,
          264.01,
          255.7614,
          239.6656,
          241.5301,
          247.17,
          197.44,
          257,
          281.85,
          347.01,
          311.99
         ],
         "yaxis": "y"
        },
        {
         "line": {
          "color": "rgb(73, 157, 222)",
          "width": 3
         },
         "name": "Mentions",
         "type": "scatter",
         "x": [
          "2021-01-25T01:00:00",
          "2021-01-25T02:00:00",
          "2021-01-25T03:00:00",
          "2021-01-25T04:00:00",
          "2021-01-25T05:00:00",
          "2021-01-25T06:00:00",
          "2021-01-25T07:00:00",
          "2021-01-25T08:00:00",
          "2021-01-25T09:00:00",
          "2021-01-25T10:00:00",
          "2021-01-25T11:00:00",
          "2021-01-25T12:00:00",
          "2021-01-25T13:00:00",
          "2021-01-25T14:00:00",
          "2021-01-25T15:00:00",
          "2021-01-25T16:00:00",
          "2021-01-25T17:00:00",
          "2021-01-25T18:00:00",
          "2021-01-25T19:00:00",
          "2021-01-25T20:00:00",
          "2021-01-25T21:00:00",
          "2021-01-25T22:00:00",
          "2021-01-25T23:00:00",
          "2021-01-26T00:00:00",
          "2021-01-26T01:00:00",
          "2021-01-26T02:00:00",
          "2021-01-26T03:00:00",
          "2021-01-26T04:00:00",
          "2021-01-26T05:00:00",
          "2021-01-26T06:00:00",
          "2021-01-26T07:00:00",
          "2021-01-26T08:00:00",
          "2021-01-26T09:00:00",
          "2021-01-26T10:00:00",
          "2021-01-26T11:00:00",
          "2021-01-27T09:00:00",
          "2021-01-27T10:00:00",
          "2021-01-27T11:00:00",
          "2021-01-27T12:00:00",
          "2021-01-27T13:00:00",
          "2021-01-27T14:00:00",
          "2021-01-27T15:00:00",
          "2021-01-27T16:00:00",
          "2021-01-27T17:00:00",
          "2021-01-27T18:00:00",
          "2021-01-27T19:00:00",
          "2021-01-27T20:00:00",
          "2021-01-27T21:00:00",
          "2021-01-27T22:00:00",
          "2021-01-27T23:00:00",
          "2021-01-28T00:00:00",
          "2021-01-28T01:00:00",
          "2021-01-28T02:00:00",
          "2021-01-28T03:00:00",
          "2021-01-28T04:00:00",
          "2021-01-28T05:00:00",
          "2021-01-28T06:00:00",
          "2021-01-28T07:00:00",
          "2021-01-28T08:00:00",
          "2021-01-28T09:00:00",
          "2021-01-28T10:00:00",
          "2021-01-28T11:00:00",
          "2021-01-28T12:00:00",
          "2021-01-28T13:00:00",
          "2021-01-28T14:00:00",
          "2021-01-28T15:00:00",
          "2021-01-28T16:00:00",
          "2021-01-28T17:00:00",
          "2021-01-28T18:00:00",
          "2021-01-28T19:00:00",
          "2021-01-28T20:00:00",
          "2021-01-28T21:00:00",
          "2021-01-28T22:00:00",
          "2021-01-28T23:00:00",
          "2021-01-29T00:00:00",
          "2021-01-29T01:00:00",
          "2021-01-29T02:00:00",
          "2021-01-29T03:00:00",
          "2021-01-29T04:00:00",
          "2021-01-29T05:00:00",
          "2021-01-29T06:00:00",
          "2021-01-29T07:00:00",
          "2021-01-29T08:00:00",
          "2021-01-29T09:00:00",
          "2021-01-29T10:00:00",
          "2021-01-29T11:00:00",
          "2021-01-29T12:00:00",
          "2021-01-29T13:00:00",
          "2021-01-29T14:00:00",
          "2021-01-29T15:00:00",
          "2021-01-29T16:00:00",
          "2021-01-29T17:00:00",
          "2021-01-29T18:00:00",
          "2021-01-29T19:00:00",
          "2021-01-29T20:00:00",
          "2021-01-29T21:00:00",
          "2021-01-29T22:00:00",
          "2021-01-29T23:00:00"
         ],
         "xaxis": "x",
         "y": [
          19,
          26,
          20,
          116,
          97,
          48,
          59,
          98,
          148,
          294,
          392,
          373,
          220,
          159,
          160,
          143,
          130,
          90,
          100,
          113,
          103,
          103,
          63,
          83,
          65,
          49,
          51,
          46,
          48,
          61,
          80,
          76,
          155,
          229,
          79,
          44,
          1050,
          1176,
          1299,
          898,
          1112,
          1259,
          504,
          308,
          382,
          403,
          906,
          705,
          614,
          462,
          365,
          318,
          291,
          317,
          276,
          426,
          623,
          638,
          1821,
          2058,
          2054,
          2080,
          1572,
          967,
          1386,
          1267,
          997,
          770,
          737,
          680,
          606,
          531,
          560,
          456,
          426,
          330,
          322,
          273,
          333,
          316,
          315,
          400,
          475,
          881,
          1006,
          726,
          677,
          705,
          795,
          635,
          525,
          425,
          374,
          335,
          370,
          410,
          309,
          311
         ],
         "yaxis": "y2"
        }
       ],
       "layout": {
        "plot_bgcolor": "rgb(84, 85, 87)",
        "template": {
         "data": {
          "bar": [
           {
            "error_x": {
             "color": "#2a3f5f"
            },
            "error_y": {
             "color": "#2a3f5f"
            },
            "marker": {
             "line": {
              "color": "#E5ECF6",
              "width": 0.5
             }
            },
            "type": "bar"
           }
          ],
          "barpolar": [
           {
            "marker": {
             "line": {
              "color": "#E5ECF6",
              "width": 0.5
             }
            },
            "type": "barpolar"
           }
          ],
          "carpet": [
           {
            "aaxis": {
             "endlinecolor": "#2a3f5f",
             "gridcolor": "white",
             "linecolor": "white",
             "minorgridcolor": "white",
             "startlinecolor": "#2a3f5f"
            },
            "baxis": {
             "endlinecolor": "#2a3f5f",
             "gridcolor": "white",
             "linecolor": "white",
             "minorgridcolor": "white",
             "startlinecolor": "#2a3f5f"
            },
            "type": "carpet"
           }
          ],
          "choropleth": [
           {
            "colorbar": {
             "outlinewidth": 0,
             "ticks": ""
            },
            "type": "choropleth"
           }
          ],
          "contour": [
           {
            "colorbar": {
             "outlinewidth": 0,
             "ticks": ""
            },
            "colorscale": [
             [
              0,
              "#0d0887"
             ],
             [
              0.1111111111111111,
              "#46039f"
             ],
             [
              0.2222222222222222,
              "#7201a8"
             ],
             [
              0.3333333333333333,
              "#9c179e"
             ],
             [
              0.4444444444444444,
              "#bd3786"
             ],
             [
              0.5555555555555556,
              "#d8576b"
             ],
             [
              0.6666666666666666,
              "#ed7953"
             ],
             [
              0.7777777777777778,
              "#fb9f3a"
             ],
             [
              0.8888888888888888,
              "#fdca26"
             ],
             [
              1,
              "#f0f921"
             ]
            ],
            "type": "contour"
           }
          ],
          "contourcarpet": [
           {
            "colorbar": {
             "outlinewidth": 0,
             "ticks": ""
            },
            "type": "contourcarpet"
           }
          ],
          "heatmap": [
           {
            "colorbar": {
             "outlinewidth": 0,
             "ticks": ""
            },
            "colorscale": [
             [
              0,
              "#0d0887"
             ],
             [
              0.1111111111111111,
              "#46039f"
             ],
             [
              0.2222222222222222,
              "#7201a8"
             ],
             [
              0.3333333333333333,
              "#9c179e"
             ],
             [
              0.4444444444444444,
              "#bd3786"
             ],
             [
              0.5555555555555556,
              "#d8576b"
             ],
             [
              0.6666666666666666,
              "#ed7953"
             ],
             [
              0.7777777777777778,
              "#fb9f3a"
             ],
             [
              0.8888888888888888,
              "#fdca26"
             ],
             [
              1,
              "#f0f921"
             ]
            ],
            "type": "heatmap"
           }
          ],
          "heatmapgl": [
           {
            "colorbar": {
             "outlinewidth": 0,
             "ticks": ""
            },
            "colorscale": [
             [
              0,
              "#0d0887"
             ],
             [
              0.1111111111111111,
              "#46039f"
             ],
             [
              0.2222222222222222,
              "#7201a8"
             ],
             [
              0.3333333333333333,
              "#9c179e"
             ],
             [
              0.4444444444444444,
              "#bd3786"
             ],
             [
              0.5555555555555556,
              "#d8576b"
             ],
             [
              0.6666666666666666,
              "#ed7953"
             ],
             [
              0.7777777777777778,
              "#fb9f3a"
             ],
             [
              0.8888888888888888,
              "#fdca26"
             ],
             [
              1,
              "#f0f921"
             ]
            ],
            "type": "heatmapgl"
           }
          ],
          "histogram": [
           {
            "marker": {
             "colorbar": {
              "outlinewidth": 0,
              "ticks": ""
             }
            },
            "type": "histogram"
           }
          ],
          "histogram2d": [
           {
            "colorbar": {
             "outlinewidth": 0,
             "ticks": ""
            },
            "colorscale": [
             [
              0,
              "#0d0887"
             ],
             [
              0.1111111111111111,
              "#46039f"
             ],
             [
              0.2222222222222222,
              "#7201a8"
             ],
             [
              0.3333333333333333,
              "#9c179e"
             ],
             [
              0.4444444444444444,
              "#bd3786"
             ],
             [
              0.5555555555555556,
              "#d8576b"
             ],
             [
              0.6666666666666666,
              "#ed7953"
             ],
             [
              0.7777777777777778,
              "#fb9f3a"
             ],
             [
              0.8888888888888888,
              "#fdca26"
             ],
             [
              1,
              "#f0f921"
             ]
            ],
            "type": "histogram2d"
           }
          ],
          "histogram2dcontour": [
           {
            "colorbar": {
             "outlinewidth": 0,
             "ticks": ""
            },
            "colorscale": [
             [
              0,
              "#0d0887"
             ],
             [
              0.1111111111111111,
              "#46039f"
             ],
             [
              0.2222222222222222,
              "#7201a8"
             ],
             [
              0.3333333333333333,
              "#9c179e"
             ],
             [
              0.4444444444444444,
              "#bd3786"
             ],
             [
              0.5555555555555556,
              "#d8576b"
             ],
             [
              0.6666666666666666,
              "#ed7953"
             ],
             [
              0.7777777777777778,
              "#fb9f3a"
             ],
             [
              0.8888888888888888,
              "#fdca26"
             ],
             [
              1,
              "#f0f921"
             ]
            ],
            "type": "histogram2dcontour"
           }
          ],
          "mesh3d": [
           {
            "colorbar": {
             "outlinewidth": 0,
             "ticks": ""
            },
            "type": "mesh3d"
           }
          ],
          "parcoords": [
           {
            "line": {
             "colorbar": {
              "outlinewidth": 0,
              "ticks": ""
             }
            },
            "type": "parcoords"
           }
          ],
          "pie": [
           {
            "automargin": true,
            "type": "pie"
           }
          ],
          "scatter": [
           {
            "marker": {
             "colorbar": {
              "outlinewidth": 0,
              "ticks": ""
             }
            },
            "type": "scatter"
           }
          ],
          "scatter3d": [
           {
            "line": {
             "colorbar": {
              "outlinewidth": 0,
              "ticks": ""
             }
            },
            "marker": {
             "colorbar": {
              "outlinewidth": 0,
              "ticks": ""
             }
            },
            "type": "scatter3d"
           }
          ],
          "scattercarpet": [
           {
            "marker": {
             "colorbar": {
              "outlinewidth": 0,
              "ticks": ""
             }
            },
            "type": "scattercarpet"
           }
          ],
          "scattergeo": [
           {
            "marker": {
             "colorbar": {
              "outlinewidth": 0,
              "ticks": ""
             }
            },
            "type": "scattergeo"
           }
          ],
          "scattergl": [
           {
            "marker": {
             "colorbar": {
              "outlinewidth": 0,
              "ticks": ""
             }
            },
            "type": "scattergl"
           }
          ],
          "scattermapbox": [
           {
            "marker": {
             "colorbar": {
              "outlinewidth": 0,
              "ticks": ""
             }
            },
            "type": "scattermapbox"
           }
          ],
          "scatterpolar": [
           {
            "marker": {
             "colorbar": {
              "outlinewidth": 0,
              "ticks": ""
             }
            },
            "type": "scatterpolar"
           }
          ],
          "scatterpolargl": [
           {
            "marker": {
             "colorbar": {
              "outlinewidth": 0,
              "ticks": ""
             }
            },
            "type": "scatterpolargl"
           }
          ],
          "scatterternary": [
           {
            "marker": {
             "colorbar": {
              "outlinewidth": 0,
              "ticks": ""
             }
            },
            "type": "scatterternary"
           }
          ],
          "surface": [
           {
            "colorbar": {
             "outlinewidth": 0,
             "ticks": ""
            },
            "colorscale": [
             [
              0,
              "#0d0887"
             ],
             [
              0.1111111111111111,
              "#46039f"
             ],
             [
              0.2222222222222222,
              "#7201a8"
             ],
             [
              0.3333333333333333,
              "#9c179e"
             ],
             [
              0.4444444444444444,
              "#bd3786"
             ],
             [
              0.5555555555555556,
              "#d8576b"
             ],
             [
              0.6666666666666666,
              "#ed7953"
             ],
             [
              0.7777777777777778,
              "#fb9f3a"
             ],
             [
              0.8888888888888888,
              "#fdca26"
             ],
             [
              1,
              "#f0f921"
             ]
            ],
            "type": "surface"
           }
          ],
          "table": [
           {
            "cells": {
             "fill": {
              "color": "#EBF0F8"
             },
             "line": {
              "color": "white"
             }
            },
            "header": {
             "fill": {
              "color": "#C8D4E3"
             },
             "line": {
              "color": "white"
             }
            },
            "type": "table"
           }
          ]
         },
         "layout": {
          "annotationdefaults": {
           "arrowcolor": "#2a3f5f",
           "arrowhead": 0,
           "arrowwidth": 1
          },
          "autotypenumbers": "strict",
          "coloraxis": {
           "colorbar": {
            "outlinewidth": 0,
            "ticks": ""
           }
          },
          "colorscale": {
           "diverging": [
            [
             0,
             "#8e0152"
            ],
            [
             0.1,
             "#c51b7d"
            ],
            [
             0.2,
             "#de77ae"
            ],
            [
             0.3,
             "#f1b6da"
            ],
            [
             0.4,
             "#fde0ef"
            ],
            [
             0.5,
             "#f7f7f7"
            ],
            [
             0.6,
             "#e6f5d0"
            ],
            [
             0.7,
             "#b8e186"
            ],
            [
             0.8,
             "#7fbc41"
            ],
            [
             0.9,
             "#4d9221"
            ],
            [
             1,
             "#276419"
            ]
           ],
           "sequential": [
            [
             0,
             "#0d0887"
            ],
            [
             0.1111111111111111,
             "#46039f"
            ],
            [
             0.2222222222222222,
             "#7201a8"
            ],
            [
             0.3333333333333333,
             "#9c179e"
            ],
            [
             0.4444444444444444,
             "#bd3786"
            ],
            [
             0.5555555555555556,
             "#d8576b"
            ],
            [
             0.6666666666666666,
             "#ed7953"
            ],
            [
             0.7777777777777778,
             "#fb9f3a"
            ],
            [
             0.8888888888888888,
             "#fdca26"
            ],
            [
             1,
             "#f0f921"
            ]
           ],
           "sequentialminus": [
            [
             0,
             "#0d0887"
            ],
            [
             0.1111111111111111,
             "#46039f"
            ],
            [
             0.2222222222222222,
             "#7201a8"
            ],
            [
             0.3333333333333333,
             "#9c179e"
            ],
            [
             0.4444444444444444,
             "#bd3786"
            ],
            [
             0.5555555555555556,
             "#d8576b"
            ],
            [
             0.6666666666666666,
             "#ed7953"
            ],
            [
             0.7777777777777778,
             "#fb9f3a"
            ],
            [
             0.8888888888888888,
             "#fdca26"
            ],
            [
             1,
             "#f0f921"
            ]
           ]
          },
          "colorway": [
           "#636efa",
           "#EF553B",
           "#00cc96",
           "#ab63fa",
           "#FFA15A",
           "#19d3f3",
           "#FF6692",
           "#B6E880",
           "#FF97FF",
           "#FECB52"
          ],
          "font": {
           "color": "#2a3f5f"
          },
          "geo": {
           "bgcolor": "white",
           "lakecolor": "white",
           "landcolor": "#E5ECF6",
           "showlakes": true,
           "showland": true,
           "subunitcolor": "white"
          },
          "hoverlabel": {
           "align": "left"
          },
          "hovermode": "closest",
          "mapbox": {
           "style": "light"
          },
          "paper_bgcolor": "white",
          "plot_bgcolor": "#E5ECF6",
          "polar": {
           "angularaxis": {
            "gridcolor": "white",
            "linecolor": "white",
            "ticks": ""
           },
           "bgcolor": "#E5ECF6",
           "radialaxis": {
            "gridcolor": "white",
            "linecolor": "white",
            "ticks": ""
           }
          },
          "scene": {
           "xaxis": {
            "backgroundcolor": "#E5ECF6",
            "gridcolor": "white",
            "gridwidth": 2,
            "linecolor": "white",
            "showbackground": true,
            "ticks": "",
            "zerolinecolor": "white"
           },
           "yaxis": {
            "backgroundcolor": "#E5ECF6",
            "gridcolor": "white",
            "gridwidth": 2,
            "linecolor": "white",
            "showbackground": true,
            "ticks": "",
            "zerolinecolor": "white"
           },
           "zaxis": {
            "backgroundcolor": "#E5ECF6",
            "gridcolor": "white",
            "gridwidth": 2,
            "linecolor": "white",
            "showbackground": true,
            "ticks": "",
            "zerolinecolor": "white"
           }
          },
          "shapedefaults": {
           "line": {
            "color": "#2a3f5f"
           }
          },
          "ternary": {
           "aaxis": {
            "gridcolor": "white",
            "linecolor": "white",
            "ticks": ""
           },
           "baxis": {
            "gridcolor": "white",
            "linecolor": "white",
            "ticks": ""
           },
           "bgcolor": "#E5ECF6",
           "caxis": {
            "gridcolor": "white",
            "linecolor": "white",
            "ticks": ""
           }
          },
          "title": {
           "x": 0.05
          },
          "xaxis": {
           "automargin": true,
           "gridcolor": "white",
           "linecolor": "white",
           "ticks": "",
           "title": {
            "standoff": 15
           },
           "zerolinecolor": "white",
           "zerolinewidth": 2
          },
          "yaxis": {
           "automargin": true,
           "gridcolor": "white",
           "linecolor": "white",
           "ticks": "",
           "title": {
            "standoff": 15
           },
           "zerolinecolor": "white",
           "zerolinewidth": 2
          }
         }
        },
        "title": {
         "text": "GME Hourly Price vs. Mentions"
        },
        "xaxis": {
         "anchor": "y",
         "domain": [
          0,
          0.94
         ],
         "gridcolor": "rgb(144, 145, 142)",
         "title": {
          "text": "Hour"
         }
        },
        "yaxis": {
         "anchor": "x",
         "domain": [
          0,
          1
         ],
         "gridcolor": "rgb(144, 145, 142)",
         "title": {
          "text": "Price"
         }
        },
        "yaxis2": {
         "anchor": "x",
         "overlaying": "y",
         "side": "right",
         "title": {
          "text": "Mentions"
         }
        }
       }
      },
      "text/html": [
       "<div>                            <div id=\"4c30b5d9-cb8f-40b8-b6c4-707cd5ab0e95\" class=\"plotly-graph-div\" style=\"height:525px; width:100%;\"></div>            <script type=\"text/javascript\">                require([\"plotly\"], function(Plotly) {                    window.PLOTLYENV=window.PLOTLYENV || {};                                    if (document.getElementById(\"4c30b5d9-cb8f-40b8-b6c4-707cd5ab0e95\")) {                    Plotly.newPlot(                        \"4c30b5d9-cb8f-40b8-b6c4-707cd5ab0e95\",                        [{\"line\": {\"color\": \"rgb(255, 196, 0)\", \"width\": 3}, \"name\": \"Price\", \"type\": \"scatter\", \"x\": [\"2021-01-25T05:00:00\", \"2021-01-25T06:00:00\", \"2021-01-25T07:00:00\", \"2021-01-25T08:00:00\", \"2021-01-25T09:00:00\", \"2021-01-25T10:00:00\", \"2021-01-25T11:00:00\", \"2021-01-25T12:00:00\", \"2021-01-25T13:00:00\", \"2021-01-25T14:00:00\", \"2021-01-25T15:00:00\", \"2021-01-25T16:00:00\", \"2021-01-25T17:00:00\", \"2021-01-25T18:00:00\", \"2021-01-25T19:00:00\", \"2021-01-25T20:00:00\", \"2021-01-26T05:00:00\", \"2021-01-26T06:00:00\", \"2021-01-26T07:00:00\", \"2021-01-26T08:00:00\", \"2021-01-26T09:00:00\", \"2021-01-26T10:00:00\", \"2021-01-26T11:00:00\", \"2021-01-26T12:00:00\", \"2021-01-26T13:00:00\", \"2021-01-26T14:00:00\", \"2021-01-26T15:00:00\", \"2021-01-26T16:00:00\", \"2021-01-26T17:00:00\", \"2021-01-26T18:00:00\", \"2021-01-26T19:00:00\", \"2021-01-26T20:00:00\", \"2021-01-27T05:00:00\", \"2021-01-27T06:00:00\", \"2021-01-27T07:00:00\", \"2021-01-27T08:00:00\", \"2021-01-27T09:00:00\", \"2021-01-27T10:00:00\", \"2021-01-27T11:00:00\", \"2021-01-27T12:00:00\", \"2021-01-27T13:00:00\", \"2021-01-27T14:00:00\", \"2021-01-27T15:00:00\", \"2021-01-27T16:00:00\", \"2021-01-27T17:00:00\", \"2021-01-27T18:00:00\", \"2021-01-27T19:00:00\", \"2021-01-27T20:00:00\", \"2021-01-28T05:00:00\", \"2021-01-28T06:00:00\", \"2021-01-28T07:00:00\", \"2021-01-28T08:00:00\", \"2021-01-28T09:00:00\", \"2021-01-28T10:00:00\", \"2021-01-28T11:00:00\", \"2021-01-28T12:00:00\", \"2021-01-28T13:00:00\", \"2021-01-28T14:00:00\", \"2021-01-28T15:00:00\", \"2021-01-28T16:00:00\", \"2021-01-28T17:00:00\", \"2021-01-28T18:00:00\", \"2021-01-28T19:00:00\", \"2021-01-28T20:00:00\"], \"xaxis\": \"x\", \"y\": [105.39, 96.77, 94.43, 91.65, 98.05, 89.76, 117.07, 99.56, 69.42, 76.7499, 77.0001, 76.765, 78.5, 81.71, 82.8801, 88.87, 94.0, 88.55, 88.5, 91.51, 89.25, 87.57, 87.6101, 87.7999, 105.5556, 114.5499, 131.845, 145.965, 224.45, 208.14, 225.0, 209.51, 299.19, 351.0, 197.89, 230.0, 231.5, 310.69, 371.82, 312.61, 342.172, 326.59, 319.6006, 345.0, 327.26, 319.85, 248.8, 292.0, 335.0, 456.0, 445.0, 459.0, 341.0, 468.49, 264.01, 255.7614, 239.6656, 241.5301, 247.17, 197.44, 257.0, 281.85, 347.01, 311.99], \"yaxis\": \"y\"}, {\"line\": {\"color\": \"rgb(73, 157, 222)\", \"width\": 3}, \"name\": \"Mentions\", \"type\": \"scatter\", \"x\": [\"2021-01-25T01:00:00\", \"2021-01-25T02:00:00\", \"2021-01-25T03:00:00\", \"2021-01-25T04:00:00\", \"2021-01-25T05:00:00\", \"2021-01-25T06:00:00\", \"2021-01-25T07:00:00\", \"2021-01-25T08:00:00\", \"2021-01-25T09:00:00\", \"2021-01-25T10:00:00\", \"2021-01-25T11:00:00\", \"2021-01-25T12:00:00\", \"2021-01-25T13:00:00\", \"2021-01-25T14:00:00\", \"2021-01-25T15:00:00\", \"2021-01-25T16:00:00\", \"2021-01-25T17:00:00\", \"2021-01-25T18:00:00\", \"2021-01-25T19:00:00\", \"2021-01-25T20:00:00\", \"2021-01-25T21:00:00\", \"2021-01-25T22:00:00\", \"2021-01-25T23:00:00\", \"2021-01-26T00:00:00\", \"2021-01-26T01:00:00\", \"2021-01-26T02:00:00\", \"2021-01-26T03:00:00\", \"2021-01-26T04:00:00\", \"2021-01-26T05:00:00\", \"2021-01-26T06:00:00\", \"2021-01-26T07:00:00\", \"2021-01-26T08:00:00\", \"2021-01-26T09:00:00\", \"2021-01-26T10:00:00\", \"2021-01-26T11:00:00\", \"2021-01-27T09:00:00\", \"2021-01-27T10:00:00\", \"2021-01-27T11:00:00\", \"2021-01-27T12:00:00\", \"2021-01-27T13:00:00\", \"2021-01-27T14:00:00\", \"2021-01-27T15:00:00\", \"2021-01-27T16:00:00\", \"2021-01-27T17:00:00\", \"2021-01-27T18:00:00\", \"2021-01-27T19:00:00\", \"2021-01-27T20:00:00\", \"2021-01-27T21:00:00\", \"2021-01-27T22:00:00\", \"2021-01-27T23:00:00\", \"2021-01-28T00:00:00\", \"2021-01-28T01:00:00\", \"2021-01-28T02:00:00\", \"2021-01-28T03:00:00\", \"2021-01-28T04:00:00\", \"2021-01-28T05:00:00\", \"2021-01-28T06:00:00\", \"2021-01-28T07:00:00\", \"2021-01-28T08:00:00\", \"2021-01-28T09:00:00\", \"2021-01-28T10:00:00\", \"2021-01-28T11:00:00\", \"2021-01-28T12:00:00\", \"2021-01-28T13:00:00\", \"2021-01-28T14:00:00\", \"2021-01-28T15:00:00\", \"2021-01-28T16:00:00\", \"2021-01-28T17:00:00\", \"2021-01-28T18:00:00\", \"2021-01-28T19:00:00\", \"2021-01-28T20:00:00\", \"2021-01-28T21:00:00\", \"2021-01-28T22:00:00\", \"2021-01-28T23:00:00\", \"2021-01-29T00:00:00\", \"2021-01-29T01:00:00\", \"2021-01-29T02:00:00\", \"2021-01-29T03:00:00\", \"2021-01-29T04:00:00\", \"2021-01-29T05:00:00\", \"2021-01-29T06:00:00\", \"2021-01-29T07:00:00\", \"2021-01-29T08:00:00\", \"2021-01-29T09:00:00\", \"2021-01-29T10:00:00\", \"2021-01-29T11:00:00\", \"2021-01-29T12:00:00\", \"2021-01-29T13:00:00\", \"2021-01-29T14:00:00\", \"2021-01-29T15:00:00\", \"2021-01-29T16:00:00\", \"2021-01-29T17:00:00\", \"2021-01-29T18:00:00\", \"2021-01-29T19:00:00\", \"2021-01-29T20:00:00\", \"2021-01-29T21:00:00\", \"2021-01-29T22:00:00\", \"2021-01-29T23:00:00\"], \"xaxis\": \"x\", \"y\": [19, 26, 20, 116, 97, 48, 59, 98, 148, 294, 392, 373, 220, 159, 160, 143, 130, 90, 100, 113, 103, 103, 63, 83, 65, 49, 51, 46, 48, 61, 80, 76, 155, 229, 79, 44, 1050, 1176, 1299, 898, 1112, 1259, 504, 308, 382, 403, 906, 705, 614, 462, 365, 318, 291, 317, 276, 426, 623, 638, 1821, 2058, 2054, 2080, 1572, 967, 1386, 1267, 997, 770, 737, 680, 606, 531, 560, 456, 426, 330, 322, 273, 333, 316, 315, 400, 475, 881, 1006, 726, 677, 705, 795, 635, 525, 425, 374, 335, 370, 410, 309, 311], \"yaxis\": \"y2\"}],                        {\"plot_bgcolor\": \"rgb(84, 85, 87)\", \"template\": {\"data\": {\"bar\": [{\"error_x\": {\"color\": \"#2a3f5f\"}, \"error_y\": {\"color\": \"#2a3f5f\"}, \"marker\": {\"line\": {\"color\": \"#E5ECF6\", \"width\": 0.5}}, \"type\": \"bar\"}], \"barpolar\": [{\"marker\": {\"line\": {\"color\": \"#E5ECF6\", \"width\": 0.5}}, \"type\": \"barpolar\"}], \"carpet\": [{\"aaxis\": {\"endlinecolor\": \"#2a3f5f\", \"gridcolor\": \"white\", \"linecolor\": \"white\", \"minorgridcolor\": \"white\", \"startlinecolor\": \"#2a3f5f\"}, \"baxis\": {\"endlinecolor\": \"#2a3f5f\", \"gridcolor\": \"white\", \"linecolor\": \"white\", \"minorgridcolor\": \"white\", \"startlinecolor\": \"#2a3f5f\"}, \"type\": \"carpet\"}], \"choropleth\": [{\"colorbar\": {\"outlinewidth\": 0, \"ticks\": \"\"}, \"type\": \"choropleth\"}], \"contour\": [{\"colorbar\": {\"outlinewidth\": 0, \"ticks\": \"\"}, \"colorscale\": [[0.0, \"#0d0887\"], [0.1111111111111111, \"#46039f\"], [0.2222222222222222, \"#7201a8\"], [0.3333333333333333, \"#9c179e\"], [0.4444444444444444, \"#bd3786\"], [0.5555555555555556, \"#d8576b\"], [0.6666666666666666, \"#ed7953\"], [0.7777777777777778, \"#fb9f3a\"], [0.8888888888888888, \"#fdca26\"], [1.0, \"#f0f921\"]], \"type\": \"contour\"}], \"contourcarpet\": [{\"colorbar\": {\"outlinewidth\": 0, \"ticks\": \"\"}, \"type\": \"contourcarpet\"}], \"heatmap\": [{\"colorbar\": {\"outlinewidth\": 0, \"ticks\": \"\"}, \"colorscale\": [[0.0, \"#0d0887\"], [0.1111111111111111, \"#46039f\"], [0.2222222222222222, \"#7201a8\"], [0.3333333333333333, \"#9c179e\"], [0.4444444444444444, \"#bd3786\"], [0.5555555555555556, \"#d8576b\"], [0.6666666666666666, \"#ed7953\"], [0.7777777777777778, \"#fb9f3a\"], [0.8888888888888888, \"#fdca26\"], [1.0, \"#f0f921\"]], \"type\": \"heatmap\"}], \"heatmapgl\": [{\"colorbar\": {\"outlinewidth\": 0, \"ticks\": \"\"}, \"colorscale\": [[0.0, \"#0d0887\"], [0.1111111111111111, \"#46039f\"], [0.2222222222222222, \"#7201a8\"], [0.3333333333333333, \"#9c179e\"], [0.4444444444444444, \"#bd3786\"], [0.5555555555555556, \"#d8576b\"], [0.6666666666666666, \"#ed7953\"], [0.7777777777777778, \"#fb9f3a\"], [0.8888888888888888, \"#fdca26\"], [1.0, \"#f0f921\"]], \"type\": \"heatmapgl\"}], \"histogram\": [{\"marker\": {\"colorbar\": {\"outlinewidth\": 0, \"ticks\": \"\"}}, \"type\": \"histogram\"}], \"histogram2d\": [{\"colorbar\": {\"outlinewidth\": 0, \"ticks\": \"\"}, \"colorscale\": [[0.0, \"#0d0887\"], [0.1111111111111111, \"#46039f\"], [0.2222222222222222, \"#7201a8\"], [0.3333333333333333, \"#9c179e\"], [0.4444444444444444, \"#bd3786\"], [0.5555555555555556, \"#d8576b\"], [0.6666666666666666, \"#ed7953\"], [0.7777777777777778, \"#fb9f3a\"], [0.8888888888888888, \"#fdca26\"], [1.0, \"#f0f921\"]], \"type\": \"histogram2d\"}], \"histogram2dcontour\": [{\"colorbar\": {\"outlinewidth\": 0, \"ticks\": \"\"}, \"colorscale\": [[0.0, \"#0d0887\"], [0.1111111111111111, \"#46039f\"], [0.2222222222222222, \"#7201a8\"], [0.3333333333333333, \"#9c179e\"], [0.4444444444444444, \"#bd3786\"], [0.5555555555555556, \"#d8576b\"], [0.6666666666666666, \"#ed7953\"], [0.7777777777777778, \"#fb9f3a\"], [0.8888888888888888, \"#fdca26\"], [1.0, \"#f0f921\"]], \"type\": \"histogram2dcontour\"}], \"mesh3d\": [{\"colorbar\": {\"outlinewidth\": 0, \"ticks\": \"\"}, \"type\": \"mesh3d\"}], \"parcoords\": [{\"line\": {\"colorbar\": {\"outlinewidth\": 0, \"ticks\": \"\"}}, \"type\": \"parcoords\"}], \"pie\": [{\"automargin\": true, \"type\": \"pie\"}], \"scatter\": [{\"marker\": {\"colorbar\": {\"outlinewidth\": 0, \"ticks\": \"\"}}, \"type\": \"scatter\"}], \"scatter3d\": [{\"line\": {\"colorbar\": {\"outlinewidth\": 0, \"ticks\": \"\"}}, \"marker\": {\"colorbar\": {\"outlinewidth\": 0, \"ticks\": \"\"}}, \"type\": \"scatter3d\"}], \"scattercarpet\": [{\"marker\": {\"colorbar\": {\"outlinewidth\": 0, \"ticks\": \"\"}}, \"type\": \"scattercarpet\"}], \"scattergeo\": [{\"marker\": {\"colorbar\": {\"outlinewidth\": 0, \"ticks\": \"\"}}, \"type\": \"scattergeo\"}], \"scattergl\": [{\"marker\": {\"colorbar\": {\"outlinewidth\": 0, \"ticks\": \"\"}}, \"type\": \"scattergl\"}], \"scattermapbox\": [{\"marker\": {\"colorbar\": {\"outlinewidth\": 0, \"ticks\": \"\"}}, \"type\": \"scattermapbox\"}], \"scatterpolar\": [{\"marker\": {\"colorbar\": {\"outlinewidth\": 0, \"ticks\": \"\"}}, \"type\": \"scatterpolar\"}], \"scatterpolargl\": [{\"marker\": {\"colorbar\": {\"outlinewidth\": 0, \"ticks\": \"\"}}, \"type\": \"scatterpolargl\"}], \"scatterternary\": [{\"marker\": {\"colorbar\": {\"outlinewidth\": 0, \"ticks\": \"\"}}, \"type\": \"scatterternary\"}], \"surface\": [{\"colorbar\": {\"outlinewidth\": 0, \"ticks\": \"\"}, \"colorscale\": [[0.0, \"#0d0887\"], [0.1111111111111111, \"#46039f\"], [0.2222222222222222, \"#7201a8\"], [0.3333333333333333, \"#9c179e\"], [0.4444444444444444, \"#bd3786\"], [0.5555555555555556, \"#d8576b\"], [0.6666666666666666, \"#ed7953\"], [0.7777777777777778, \"#fb9f3a\"], [0.8888888888888888, \"#fdca26\"], [1.0, \"#f0f921\"]], \"type\": \"surface\"}], \"table\": [{\"cells\": {\"fill\": {\"color\": \"#EBF0F8\"}, \"line\": {\"color\": \"white\"}}, \"header\": {\"fill\": {\"color\": \"#C8D4E3\"}, \"line\": {\"color\": \"white\"}}, \"type\": \"table\"}]}, \"layout\": {\"annotationdefaults\": {\"arrowcolor\": \"#2a3f5f\", \"arrowhead\": 0, \"arrowwidth\": 1}, \"autotypenumbers\": \"strict\", \"coloraxis\": {\"colorbar\": {\"outlinewidth\": 0, \"ticks\": \"\"}}, \"colorscale\": {\"diverging\": [[0, \"#8e0152\"], [0.1, \"#c51b7d\"], [0.2, \"#de77ae\"], [0.3, \"#f1b6da\"], [0.4, \"#fde0ef\"], [0.5, \"#f7f7f7\"], [0.6, \"#e6f5d0\"], [0.7, \"#b8e186\"], [0.8, \"#7fbc41\"], [0.9, \"#4d9221\"], [1, \"#276419\"]], \"sequential\": [[0.0, \"#0d0887\"], [0.1111111111111111, \"#46039f\"], [0.2222222222222222, \"#7201a8\"], [0.3333333333333333, \"#9c179e\"], [0.4444444444444444, \"#bd3786\"], [0.5555555555555556, \"#d8576b\"], [0.6666666666666666, \"#ed7953\"], [0.7777777777777778, \"#fb9f3a\"], [0.8888888888888888, \"#fdca26\"], [1.0, \"#f0f921\"]], \"sequentialminus\": [[0.0, \"#0d0887\"], [0.1111111111111111, \"#46039f\"], [0.2222222222222222, \"#7201a8\"], [0.3333333333333333, \"#9c179e\"], [0.4444444444444444, \"#bd3786\"], [0.5555555555555556, \"#d8576b\"], [0.6666666666666666, \"#ed7953\"], [0.7777777777777778, \"#fb9f3a\"], [0.8888888888888888, \"#fdca26\"], [1.0, \"#f0f921\"]]}, \"colorway\": [\"#636efa\", \"#EF553B\", \"#00cc96\", \"#ab63fa\", \"#FFA15A\", \"#19d3f3\", \"#FF6692\", \"#B6E880\", \"#FF97FF\", \"#FECB52\"], \"font\": {\"color\": \"#2a3f5f\"}, \"geo\": {\"bgcolor\": \"white\", \"lakecolor\": \"white\", \"landcolor\": \"#E5ECF6\", \"showlakes\": true, \"showland\": true, \"subunitcolor\": \"white\"}, \"hoverlabel\": {\"align\": \"left\"}, \"hovermode\": \"closest\", \"mapbox\": {\"style\": \"light\"}, \"paper_bgcolor\": \"white\", \"plot_bgcolor\": \"#E5ECF6\", \"polar\": {\"angularaxis\": {\"gridcolor\": \"white\", \"linecolor\": \"white\", \"ticks\": \"\"}, \"bgcolor\": \"#E5ECF6\", \"radialaxis\": {\"gridcolor\": \"white\", \"linecolor\": \"white\", \"ticks\": \"\"}}, \"scene\": {\"xaxis\": {\"backgroundcolor\": \"#E5ECF6\", \"gridcolor\": \"white\", \"gridwidth\": 2, \"linecolor\": \"white\", \"showbackground\": true, \"ticks\": \"\", \"zerolinecolor\": \"white\"}, \"yaxis\": {\"backgroundcolor\": \"#E5ECF6\", \"gridcolor\": \"white\", \"gridwidth\": 2, \"linecolor\": \"white\", \"showbackground\": true, \"ticks\": \"\", \"zerolinecolor\": \"white\"}, \"zaxis\": {\"backgroundcolor\": \"#E5ECF6\", \"gridcolor\": \"white\", \"gridwidth\": 2, \"linecolor\": \"white\", \"showbackground\": true, \"ticks\": \"\", \"zerolinecolor\": \"white\"}}, \"shapedefaults\": {\"line\": {\"color\": \"#2a3f5f\"}}, \"ternary\": {\"aaxis\": {\"gridcolor\": \"white\", \"linecolor\": \"white\", \"ticks\": \"\"}, \"baxis\": {\"gridcolor\": \"white\", \"linecolor\": \"white\", \"ticks\": \"\"}, \"bgcolor\": \"#E5ECF6\", \"caxis\": {\"gridcolor\": \"white\", \"linecolor\": \"white\", \"ticks\": \"\"}}, \"title\": {\"x\": 0.05}, \"xaxis\": {\"automargin\": true, \"gridcolor\": \"white\", \"linecolor\": \"white\", \"ticks\": \"\", \"title\": {\"standoff\": 15}, \"zerolinecolor\": \"white\", \"zerolinewidth\": 2}, \"yaxis\": {\"automargin\": true, \"gridcolor\": \"white\", \"linecolor\": \"white\", \"ticks\": \"\", \"title\": {\"standoff\": 15}, \"zerolinecolor\": \"white\", \"zerolinewidth\": 2}}}, \"title\": {\"text\": \"GME Hourly Price vs. Mentions\"}, \"xaxis\": {\"anchor\": \"y\", \"domain\": [0.0, 0.94], \"gridcolor\": \"rgb(144, 145, 142)\", \"title\": {\"text\": \"Hour\"}}, \"yaxis\": {\"anchor\": \"x\", \"domain\": [0.0, 1.0], \"gridcolor\": \"rgb(144, 145, 142)\", \"title\": {\"text\": \"Price\"}}, \"yaxis2\": {\"anchor\": \"x\", \"overlaying\": \"y\", \"side\": \"right\", \"title\": {\"text\": \"Mentions\"}}},                        {\"responsive\": true}                    ).then(function(){\n",
       "                            \n",
       "var gd = document.getElementById('4c30b5d9-cb8f-40b8-b6c4-707cd5ab0e95');\n",
       "var x = new MutationObserver(function (mutations, observer) {{\n",
       "        var display = window.getComputedStyle(gd).display;\n",
       "        if (!display || display === 'none') {{\n",
       "            console.log([gd, 'removed!']);\n",
       "            Plotly.purge(gd);\n",
       "            observer.disconnect();\n",
       "        }}\n",
       "}});\n",
       "\n",
       "// Listen for the removal of the full notebook cells\n",
       "var notebookContainer = gd.closest('#notebook-container');\n",
       "if (notebookContainer) {{\n",
       "    x.observe(notebookContainer, {childList: true});\n",
       "}}\n",
       "\n",
       "// Listen for the clearing of the current output cell\n",
       "var outputEl = gd.closest('.output');\n",
       "if (outputEl) {{\n",
       "    x.observe(outputEl, {childList: true});\n",
       "}}\n",
       "\n",
       "                        })                };                });            </script>        </div>"
      ]
     },
     "metadata": {},
     "output_type": "display_data"
    }
   ],
   "source": [
    "fig = make_subplots(specs=[[{\"secondary_y\": True}]])\n",
    "\n",
    "fig.add_trace(\n",
    "    go.Scatter(x=gme_hourly['date'], y=gme_hourly['4. close'],\n",
    "               name=\"Price\"),\n",
    "    secondary_y=False,)\n",
    "\n",
    "fig.add_trace(\n",
    "    go.Scatter( x=gme_hour['date'], y=gme_hour['count'], name= 'Mentions'),\n",
    "    secondary_y=True,)\n",
    "fig.update_layout(\n",
    "    title_text=\"GME Hourly Price vs. Mentions\")\n",
    "fig.update_xaxes(title_text=\"Hour\")\n",
    "fig.update_yaxes(title_text=\"Price\", secondary_y=False)\n",
    "fig.update_yaxes(title_text=\"Mentions\", secondary_y=True)\n",
    "\n",
    "fig.update_traces(line_color='rgb(255, 196, 0)', line = {'width':3}, secondary_y=False)\n",
    "fig.update_traces(line_color='rgb(73, 157, 222)', line = {'width':3}, secondary_y=True)\n",
    "fig.layout.plot_bgcolor='rgb(84, 85, 87)'\n",
    "fig.layout.yaxis.gridcolor='rgb(144, 145, 142)'\n",
    "fig.layout.yaxis.gridcolor='rgb(144, 145, 142)'\n",
    "fig.layout.xaxis.gridcolor='rgb(144, 145, 142)'\n",
    "fig.show()\n",
    "fig.write_html('GME Hourly Prive vs Mentions.html')\n",
    "fig.write_image(\"GME Hourly Prive vs Mentions.png\")"
   ]
  },
  {
   "cell_type": "code",
   "execution_count": 58,
   "metadata": {
    "scrolled": false
   },
   "outputs": [],
   "source": [
    "### Run hypothesis test. ###\n",
    "### H0: The number of mentions of a stock on WSB in the first 1-1/2 hours of trading DOES NOT influence the stock growth ###\n",
    "### H1: The number of mentions of a stock on WSB in the first 1-1/2 hours of trading DOES influence the stock growth ###\n",
    "### Stock growth == open-close/open   of a trading day. ###\n",
    "gme_hour_full = wsb_full.groupby(['title','date_hour']).count().reset_index()\n",
    "gme_hour_full = gme_hour_full[(gme_hour_full['title'] == 'gme') & (gme_hour_full['date_hour'] > '2020-12-31 01:00:00')&\n",
    "                    (gme_hour_full['date_hour'] <= '2021-02-16 23:00:00')]\n",
    "gme_hour_full = gme_hour_full.drop(['Unnamed: 0','author', 'scores',\n",
    "                                     'comments', 'timestamp'], axis =1)\n",
    "gme_hour_full = gme_hour_full.rename(columns = {'title':'title','date_hour' : 'date', 'date': 'count'})\n",
    "\n",
    "\n",
    "left = gme_hourly_full.set_index('date')\n",
    "right = gme_hour_full.set_index('date')\n",
    "gmefull=left.join(right).reset_index()\n",
    "gmefull['count'] = gmefull['count'].fillna(0)\n",
    "gmefull['percent change'] = (gmefull['4. close'] - gmefull['1. open'])/gmefull['1. open']\n",
    "gmefull['time'] = gmefull['date'].apply(lambda x: datetime.time(x)).astype(str)\n",
    "gmefull['day'] = gmefull['date'].apply(lambda x: datetime.date(x)).astype(str)\n",
    "\n",
    "first_hours = gmefull[(gmefull['time'] == '08:00:00') | ((gmefull['time'] == '09:00:00'))]\n",
    "\n",
    "first_hours = first_hours.groupby('day').sum()\n",
    "first_hours = first_hours[['count']]\n",
    "\n",
    "\n",
    "growth = gmefull.groupby('day').sum()[['percent change']]\n",
    "\n",
    "growth_vs_hr = first_hours.join(growth)\n",
    "sorted_corr = growth_vs_hr.sort_values('count')"
   ]
  },
  {
   "cell_type": "code",
   "execution_count": 237,
   "metadata": {
    "scrolled": false
   },
   "outputs": [
    {
     "data": {
      "application/vnd.plotly.v1+json": {
       "config": {
        "plotlyServerURL": "https://plot.ly"
       },
       "data": [
        {
         "alignmentgroup": "True",
         "hovertemplate": "Date=%{x}<br>percent change=%{y}<extra></extra>",
         "legendgroup": "",
         "marker": {
          "color": "rgb(73, 157, 222)",
          "line": {
           "width": 0
          }
         },
         "name": "",
         "offsetgroup": "",
         "orientation": "v",
         "showlegend": false,
         "textposition": "auto",
         "type": "bar",
         "x": [
          "2020-12-31T05:00:00",
          "2020-12-31T06:00:00",
          "2020-12-31T07:00:00",
          "2020-12-31T08:00:00",
          "2020-12-31T09:00:00",
          "2020-12-31T10:00:00",
          "2020-12-31T11:00:00",
          "2020-12-31T12:00:00",
          "2020-12-31T13:00:00",
          "2020-12-31T14:00:00",
          "2020-12-31T15:00:00",
          "2020-12-31T16:00:00",
          "2020-12-31T17:00:00",
          "2020-12-31T18:00:00",
          "2020-12-31T19:00:00",
          "2020-12-31T20:00:00",
          "2021-01-04T05:00:00",
          "2021-01-04T07:00:00",
          "2021-01-04T08:00:00",
          "2021-01-04T09:00:00",
          "2021-01-04T10:00:00",
          "2021-01-04T11:00:00",
          "2021-01-04T12:00:00",
          "2021-01-04T13:00:00",
          "2021-01-04T14:00:00",
          "2021-01-04T15:00:00",
          "2021-01-04T16:00:00",
          "2021-01-04T17:00:00",
          "2021-01-04T18:00:00",
          "2021-01-04T19:00:00",
          "2021-01-04T20:00:00",
          "2021-01-05T05:00:00",
          "2021-01-05T07:00:00",
          "2021-01-05T08:00:00",
          "2021-01-05T09:00:00",
          "2021-01-05T10:00:00",
          "2021-01-05T11:00:00",
          "2021-01-05T12:00:00",
          "2021-01-05T13:00:00",
          "2021-01-05T14:00:00",
          "2021-01-05T15:00:00",
          "2021-01-05T16:00:00",
          "2021-01-05T17:00:00",
          "2021-01-05T18:00:00",
          "2021-01-05T19:00:00",
          "2021-01-05T20:00:00",
          "2021-01-06T05:00:00",
          "2021-01-06T06:00:00",
          "2021-01-06T08:00:00",
          "2021-01-06T09:00:00",
          "2021-01-06T10:00:00",
          "2021-01-06T11:00:00",
          "2021-01-06T12:00:00",
          "2021-01-06T13:00:00",
          "2021-01-06T14:00:00",
          "2021-01-06T15:00:00",
          "2021-01-06T16:00:00",
          "2021-01-06T17:00:00",
          "2021-01-06T18:00:00",
          "2021-01-06T19:00:00",
          "2021-01-06T20:00:00",
          "2021-01-07T06:00:00",
          "2021-01-07T07:00:00",
          "2021-01-07T08:00:00",
          "2021-01-07T09:00:00",
          "2021-01-07T10:00:00",
          "2021-01-07T11:00:00",
          "2021-01-07T12:00:00",
          "2021-01-07T13:00:00",
          "2021-01-07T14:00:00",
          "2021-01-07T15:00:00",
          "2021-01-07T16:00:00",
          "2021-01-07T17:00:00",
          "2021-01-07T18:00:00",
          "2021-01-07T19:00:00",
          "2021-01-07T20:00:00",
          "2021-01-08T06:00:00",
          "2021-01-08T08:00:00",
          "2021-01-08T09:00:00",
          "2021-01-08T10:00:00",
          "2021-01-08T11:00:00",
          "2021-01-08T12:00:00",
          "2021-01-08T13:00:00",
          "2021-01-08T14:00:00",
          "2021-01-08T15:00:00",
          "2021-01-08T16:00:00",
          "2021-01-08T17:00:00",
          "2021-01-08T18:00:00",
          "2021-01-08T19:00:00",
          "2021-01-08T20:00:00",
          "2021-01-11T05:00:00",
          "2021-01-11T06:00:00",
          "2021-01-11T07:00:00",
          "2021-01-11T08:00:00",
          "2021-01-11T09:00:00",
          "2021-01-11T10:00:00",
          "2021-01-11T11:00:00",
          "2021-01-11T12:00:00",
          "2021-01-11T13:00:00",
          "2021-01-11T14:00:00",
          "2021-01-11T15:00:00",
          "2021-01-11T16:00:00",
          "2021-01-11T17:00:00",
          "2021-01-11T18:00:00",
          "2021-01-11T19:00:00",
          "2021-01-11T20:00:00",
          "2021-01-12T05:00:00",
          "2021-01-12T06:00:00",
          "2021-01-12T07:00:00",
          "2021-01-12T08:00:00",
          "2021-01-12T09:00:00",
          "2021-01-12T10:00:00",
          "2021-01-12T11:00:00",
          "2021-01-12T12:00:00",
          "2021-01-12T13:00:00",
          "2021-01-12T14:00:00",
          "2021-01-12T15:00:00",
          "2021-01-12T16:00:00",
          "2021-01-12T17:00:00",
          "2021-01-12T18:00:00",
          "2021-01-12T19:00:00",
          "2021-01-12T20:00:00",
          "2021-01-13T05:00:00",
          "2021-01-13T07:00:00",
          "2021-01-13T08:00:00",
          "2021-01-13T09:00:00",
          "2021-01-13T10:00:00",
          "2021-01-13T11:00:00",
          "2021-01-13T12:00:00",
          "2021-01-13T13:00:00",
          "2021-01-13T14:00:00",
          "2021-01-13T15:00:00",
          "2021-01-13T16:00:00",
          "2021-01-13T17:00:00",
          "2021-01-13T18:00:00",
          "2021-01-13T19:00:00",
          "2021-01-13T20:00:00",
          "2021-01-14T05:00:00",
          "2021-01-14T06:00:00",
          "2021-01-14T07:00:00",
          "2021-01-14T08:00:00",
          "2021-01-14T09:00:00",
          "2021-01-14T10:00:00",
          "2021-01-14T11:00:00",
          "2021-01-14T12:00:00",
          "2021-01-14T13:00:00",
          "2021-01-14T14:00:00",
          "2021-01-14T15:00:00",
          "2021-01-14T16:00:00",
          "2021-01-14T17:00:00",
          "2021-01-14T18:00:00",
          "2021-01-14T19:00:00",
          "2021-01-14T20:00:00",
          "2021-01-15T05:00:00",
          "2021-01-15T06:00:00",
          "2021-01-15T07:00:00",
          "2021-01-15T08:00:00",
          "2021-01-15T09:00:00",
          "2021-01-15T10:00:00",
          "2021-01-15T11:00:00",
          "2021-01-15T12:00:00",
          "2021-01-15T13:00:00",
          "2021-01-15T14:00:00",
          "2021-01-15T15:00:00",
          "2021-01-15T16:00:00",
          "2021-01-15T17:00:00",
          "2021-01-15T18:00:00",
          "2021-01-15T19:00:00",
          "2021-01-15T20:00:00",
          "2021-01-19T05:00:00",
          "2021-01-19T06:00:00",
          "2021-01-19T07:00:00",
          "2021-01-19T08:00:00",
          "2021-01-19T09:00:00",
          "2021-01-19T10:00:00",
          "2021-01-19T11:00:00",
          "2021-01-19T12:00:00",
          "2021-01-19T13:00:00",
          "2021-01-19T14:00:00",
          "2021-01-19T15:00:00",
          "2021-01-19T16:00:00",
          "2021-01-19T17:00:00",
          "2021-01-19T18:00:00",
          "2021-01-19T19:00:00",
          "2021-01-19T20:00:00",
          "2021-01-20T05:00:00",
          "2021-01-20T06:00:00",
          "2021-01-20T07:00:00",
          "2021-01-20T08:00:00",
          "2021-01-20T09:00:00",
          "2021-01-20T10:00:00",
          "2021-01-20T11:00:00",
          "2021-01-20T12:00:00",
          "2021-01-20T13:00:00",
          "2021-01-20T14:00:00",
          "2021-01-20T15:00:00",
          "2021-01-20T16:00:00",
          "2021-01-20T17:00:00",
          "2021-01-20T18:00:00",
          "2021-01-20T19:00:00",
          "2021-01-20T20:00:00",
          "2021-01-21T05:00:00",
          "2021-01-21T07:00:00",
          "2021-01-21T08:00:00",
          "2021-01-21T09:00:00",
          "2021-01-21T10:00:00",
          "2021-01-21T11:00:00",
          "2021-01-21T12:00:00",
          "2021-01-21T13:00:00",
          "2021-01-21T14:00:00",
          "2021-01-21T15:00:00",
          "2021-01-21T16:00:00",
          "2021-01-21T17:00:00",
          "2021-01-21T18:00:00",
          "2021-01-21T19:00:00",
          "2021-01-21T20:00:00",
          "2021-01-22T05:00:00",
          "2021-01-22T06:00:00",
          "2021-01-22T07:00:00",
          "2021-01-22T08:00:00",
          "2021-01-22T09:00:00",
          "2021-01-22T10:00:00",
          "2021-01-22T11:00:00",
          "2021-01-22T12:00:00",
          "2021-01-22T13:00:00",
          "2021-01-22T14:00:00",
          "2021-01-22T15:00:00",
          "2021-01-22T16:00:00",
          "2021-01-22T17:00:00",
          "2021-01-22T18:00:00",
          "2021-01-22T19:00:00",
          "2021-01-22T20:00:00",
          "2021-01-25T05:00:00",
          "2021-01-25T06:00:00",
          "2021-01-25T07:00:00",
          "2021-01-25T08:00:00",
          "2021-01-25T09:00:00",
          "2021-01-25T10:00:00",
          "2021-01-25T11:00:00",
          "2021-01-25T12:00:00",
          "2021-01-25T13:00:00",
          "2021-01-25T14:00:00",
          "2021-01-25T15:00:00",
          "2021-01-25T16:00:00",
          "2021-01-25T17:00:00",
          "2021-01-25T18:00:00",
          "2021-01-25T19:00:00",
          "2021-01-25T20:00:00",
          "2021-01-26T05:00:00",
          "2021-01-26T06:00:00",
          "2021-01-26T07:00:00",
          "2021-01-26T08:00:00",
          "2021-01-26T09:00:00",
          "2021-01-26T10:00:00",
          "2021-01-26T11:00:00",
          "2021-01-26T12:00:00",
          "2021-01-26T13:00:00",
          "2021-01-26T14:00:00",
          "2021-01-26T15:00:00",
          "2021-01-26T16:00:00",
          "2021-01-26T17:00:00",
          "2021-01-26T18:00:00",
          "2021-01-26T19:00:00",
          "2021-01-26T20:00:00",
          "2021-01-27T05:00:00",
          "2021-01-27T06:00:00",
          "2021-01-27T07:00:00",
          "2021-01-27T08:00:00",
          "2021-01-27T09:00:00",
          "2021-01-27T10:00:00",
          "2021-01-27T11:00:00",
          "2021-01-27T12:00:00",
          "2021-01-27T13:00:00",
          "2021-01-27T14:00:00",
          "2021-01-27T15:00:00",
          "2021-01-27T16:00:00",
          "2021-01-27T17:00:00",
          "2021-01-27T18:00:00",
          "2021-01-27T19:00:00",
          "2021-01-27T20:00:00",
          "2021-01-28T05:00:00",
          "2021-01-28T06:00:00",
          "2021-01-28T07:00:00",
          "2021-01-28T08:00:00",
          "2021-01-28T09:00:00",
          "2021-01-28T10:00:00",
          "2021-01-28T11:00:00",
          "2021-01-28T12:00:00",
          "2021-01-28T13:00:00",
          "2021-01-28T14:00:00",
          "2021-01-28T15:00:00",
          "2021-01-28T16:00:00",
          "2021-01-28T17:00:00",
          "2021-01-28T18:00:00",
          "2021-01-28T19:00:00",
          "2021-01-28T20:00:00",
          "2021-01-29T05:00:00",
          "2021-01-29T06:00:00",
          "2021-01-29T07:00:00",
          "2021-01-29T08:00:00",
          "2021-01-29T09:00:00",
          "2021-01-29T10:00:00",
          "2021-01-29T11:00:00",
          "2021-01-29T12:00:00",
          "2021-01-29T13:00:00",
          "2021-01-29T14:00:00",
          "2021-01-29T15:00:00",
          "2021-01-29T16:00:00",
          "2021-01-29T17:00:00",
          "2021-01-29T18:00:00",
          "2021-01-29T19:00:00",
          "2021-01-29T20:00:00",
          "2021-02-01T05:00:00",
          "2021-02-01T06:00:00",
          "2021-02-01T07:00:00",
          "2021-02-01T08:00:00",
          "2021-02-01T09:00:00",
          "2021-02-01T10:00:00",
          "2021-02-01T11:00:00",
          "2021-02-01T12:00:00",
          "2021-02-01T13:00:00",
          "2021-02-01T14:00:00",
          "2021-02-01T15:00:00",
          "2021-02-01T16:00:00",
          "2021-02-01T17:00:00",
          "2021-02-01T18:00:00",
          "2021-02-01T19:00:00",
          "2021-02-01T20:00:00",
          "2021-02-02T05:00:00",
          "2021-02-02T06:00:00",
          "2021-02-02T07:00:00",
          "2021-02-02T08:00:00",
          "2021-02-02T09:00:00",
          "2021-02-02T10:00:00",
          "2021-02-02T11:00:00",
          "2021-02-02T12:00:00",
          "2021-02-02T13:00:00",
          "2021-02-02T14:00:00",
          "2021-02-02T15:00:00",
          "2021-02-02T16:00:00",
          "2021-02-02T17:00:00",
          "2021-02-02T18:00:00",
          "2021-02-02T19:00:00",
          "2021-02-02T20:00:00",
          "2021-02-03T05:00:00",
          "2021-02-03T06:00:00",
          "2021-02-03T07:00:00",
          "2021-02-03T08:00:00",
          "2021-02-03T09:00:00",
          "2021-02-03T10:00:00",
          "2021-02-03T11:00:00",
          "2021-02-03T12:00:00",
          "2021-02-03T13:00:00",
          "2021-02-03T14:00:00",
          "2021-02-03T15:00:00",
          "2021-02-03T16:00:00",
          "2021-02-03T17:00:00",
          "2021-02-03T18:00:00",
          "2021-02-03T19:00:00",
          "2021-02-03T20:00:00",
          "2021-02-04T05:00:00",
          "2021-02-04T06:00:00",
          "2021-02-04T07:00:00",
          "2021-02-04T08:00:00",
          "2021-02-04T09:00:00",
          "2021-02-04T10:00:00",
          "2021-02-04T11:00:00",
          "2021-02-04T12:00:00",
          "2021-02-04T13:00:00",
          "2021-02-04T14:00:00",
          "2021-02-04T15:00:00",
          "2021-02-04T16:00:00",
          "2021-02-04T17:00:00",
          "2021-02-04T18:00:00",
          "2021-02-04T19:00:00",
          "2021-02-04T20:00:00",
          "2021-02-05T05:00:00",
          "2021-02-05T06:00:00",
          "2021-02-05T07:00:00",
          "2021-02-05T08:00:00",
          "2021-02-05T09:00:00",
          "2021-02-05T10:00:00",
          "2021-02-05T11:00:00",
          "2021-02-05T12:00:00",
          "2021-02-05T13:00:00",
          "2021-02-05T14:00:00",
          "2021-02-05T15:00:00",
          "2021-02-05T16:00:00",
          "2021-02-05T17:00:00",
          "2021-02-05T18:00:00",
          "2021-02-05T19:00:00",
          "2021-02-05T20:00:00",
          "2021-02-08T05:00:00",
          "2021-02-08T06:00:00",
          "2021-02-08T07:00:00",
          "2021-02-08T08:00:00",
          "2021-02-08T09:00:00",
          "2021-02-08T10:00:00",
          "2021-02-08T11:00:00",
          "2021-02-08T12:00:00",
          "2021-02-08T13:00:00",
          "2021-02-08T14:00:00",
          "2021-02-08T15:00:00",
          "2021-02-08T16:00:00",
          "2021-02-08T17:00:00",
          "2021-02-08T18:00:00",
          "2021-02-08T19:00:00",
          "2021-02-08T20:00:00",
          "2021-02-09T05:00:00",
          "2021-02-09T06:00:00",
          "2021-02-09T07:00:00",
          "2021-02-09T08:00:00",
          "2021-02-09T09:00:00",
          "2021-02-09T10:00:00",
          "2021-02-09T11:00:00",
          "2021-02-09T12:00:00",
          "2021-02-09T13:00:00",
          "2021-02-09T14:00:00",
          "2021-02-09T15:00:00",
          "2021-02-09T16:00:00",
          "2021-02-09T17:00:00",
          "2021-02-09T18:00:00",
          "2021-02-09T19:00:00",
          "2021-02-09T20:00:00",
          "2021-02-10T05:00:00",
          "2021-02-10T06:00:00",
          "2021-02-10T07:00:00",
          "2021-02-10T08:00:00",
          "2021-02-10T09:00:00",
          "2021-02-10T10:00:00",
          "2021-02-10T11:00:00",
          "2021-02-10T12:00:00",
          "2021-02-10T13:00:00",
          "2021-02-10T14:00:00",
          "2021-02-10T15:00:00",
          "2021-02-10T16:00:00",
          "2021-02-10T17:00:00",
          "2021-02-10T18:00:00",
          "2021-02-10T19:00:00",
          "2021-02-10T20:00:00",
          "2021-02-11T05:00:00",
          "2021-02-11T06:00:00",
          "2021-02-11T07:00:00",
          "2021-02-11T08:00:00",
          "2021-02-11T09:00:00",
          "2021-02-11T10:00:00",
          "2021-02-11T11:00:00",
          "2021-02-11T12:00:00",
          "2021-02-11T13:00:00",
          "2021-02-11T14:00:00",
          "2021-02-11T15:00:00",
          "2021-02-11T16:00:00",
          "2021-02-11T17:00:00",
          "2021-02-11T18:00:00",
          "2021-02-11T19:00:00",
          "2021-02-11T20:00:00",
          "2021-02-12T05:00:00",
          "2021-02-12T06:00:00",
          "2021-02-12T07:00:00",
          "2021-02-12T08:00:00",
          "2021-02-12T09:00:00",
          "2021-02-12T10:00:00",
          "2021-02-12T11:00:00",
          "2021-02-12T12:00:00",
          "2021-02-12T13:00:00",
          "2021-02-12T14:00:00",
          "2021-02-12T15:00:00",
          "2021-02-12T16:00:00",
          "2021-02-12T17:00:00",
          "2021-02-12T18:00:00",
          "2021-02-12T19:00:00",
          "2021-02-12T20:00:00"
         ],
         "xaxis": "x",
         "y": [
          0,
          0,
          0.0015368852459016976,
          -0.01127049180327863,
          -0.002061855670103049,
          0.005684754521963794,
          -0.020061728395061755,
          0.01733193277310934,
          0.018063923263173555,
          -0.013684744044602107,
          -0.02415210688591996,
          -0.008956796628029595,
          -0.001603806651018081,
          0.015957446808510675,
          0.003723404255319164,
          -0.0036939313984169016,
          0.015706806282722363,
          -0.0036045314109165952,
          -0.012987012987012988,
          -0.005976722239698058,
          -0.08144438587243007,
          0.005451936872309834,
          0.0027084818246614073,
          0.00483366505544503,
          -0.005315595810925439,
          -0.009954493742889486,
          -0.00976450315910406,
          0.006956521739130492,
          -0.004006868918145409,
          0,
          -0.007428571428571372,
          0,
          0,
          -0.022598870056497095,
          -0.010416606385379697,
          0.03448275862068965,
          -0.011824324324324372,
          -0.0002847380410022213,
          0.004555808656036552,
          -0.009643261608154078,
          -0.012750142938822127,
          0.006085192697768788,
          0.0063327576280943826,
          0.0005720823798625864,
          0.00517241379310344,
          0.00285225328009111,
          -0.011993146773272463,
          0,
          0.005148741418764294,
          0.007931357290129247,
          0.0037058152793615325,
          0.04515762567452418,
          0.01521739130434789,
          0.00558886509635984,
          0.0021304926764315686,
          -0.0318640467339351,
          0.009330406147091203,
          -0.0010917030567685357,
          0.0273224043715847,
          -0.015425531914893572,
          0.012447211694639993,
          0.00263435194942048,
          -0.00419287211740033,
          0.008492569002123149,
          0.007957559681697536,
          0.022133825079030448,
          -0.02835051546391738,
          -0.0169491525423729,
          0.0002692514808830913,
          -0.010561542641623173,
          -0.005366395262768381,
          -0.008752735229759306,
          0.009413716814159362,
          -5.479422030551446e-06,
          0,
          0.0010881392818280508,
          0,
          0.01046831955922872,
          0.012707182320441815,
          -0.03957423580786034,
          -6.829357129853146e-05,
          0,
          0.017938496583143584,
          -0.015109121432568526,
          0.014842353208275282,
          -0.011185019564002183,
          0.011871113623515957,
          0,
          0.006159014557670741,
          -0.008403361344537934,
          -0.0211428571428572,
          0,
          0,
          0.22914285714285723,
          -0.10739191073919117,
          0.07781282860147216,
          -0.05664062500000001,
          0.002329192546583755,
          0.012654958677686002,
          0.039285714285714264,
          -0.025895925380461454,
          0.004536290322580638,
          -0.0005015045135407003,
          0.0015060240963854208,
          0.005513784461152854,
          0.00199401794616165,
          -0.004975124378109523,
          -0.013806706114398477,
          -0.0009876543209876333,
          -0.004975124378109523,
          -0.013330105385896178,
          -0.019990004997501355,
          0.030357142857142798,
          -0.007925742574257422,
          0.004551806747853716,
          -0.012673956262425574,
          -0.0033937562940583705,
          0.0075795856493179456,
          0.002506265664160437,
          -0.004967709885742567,
          0.004995000000000083,
          0.007499999999999929,
          0,
          0,
          0.010945273631840738,
          0.006918552684210802,
          0.12524557956777999,
          0.24928041866550377,
          0.10897272451021832,
          0.08062651771175532,
          -0.02245552639253415,
          -0.013148065142686531,
          -0.04813805631244323,
          -0.0047707310237644525,
          0.020395156150414408,
          0.009962640099626411,
          0.009541397353031552,
          0.12037037037037042,
          -0.041788661165823804,
          0.0002778549597109755,
          0.019444444444444525,
          0.015351108691183203,
          -0.03857992180595949,
          0.001808873720136547,
          0.04742970746946895,
          0.030226379286972988,
          0.025026343519494093,
          0.007438758496857744,
          0.01588788138677303,
          -0.009249999999999935,
          0.07054361567635921,
          -0.010849056603773605,
          0.002386634844868769,
          -0.009478672985782125,
          -0.039426523297491,
          0.005925925925925975,
          -0.057079862812346845,
          -0.0051948051948052685,
          -0.023050395799043832,
          -0.020436550395891366,
          -0.0656834630615868,
          0.04490248420929806,
          0.004611461338859881,
          0.052792442345095815,
          -0.06309398099260825,
          -0.007028089887640436,
          0.0014204545454544646,
          0.002793296089385515,
          0.0027855153203343017,
          0.048717948717948684,
          0.011773362766740172,
          -0.018491484184914794,
          -0.05234567901234562,
          0.06513809275664408,
          -0.002746634026927819,
          -0.0733742331288344,
          0.04842815559671875,
          0.06283118849356535,
          -0.0259222688825706,
          -0.016324576743095474,
          -0.018645974858857446,
          -0.013216463414634214,
          0.0012873326467558485,
          -0.003856041131105362,
          -0.002583979328165411,
          -0.017402597402597447,
          -0.009198423127463714,
          0.005305039787798295,
          0.013185654008438817,
          0.005843293492695853,
          -0.0008563899868249266,
          -0.02923360547800894,
          0.06755290287574613,
          -0.01552953156822809,
          0.01654976057978522,
          0.008020369191597833,
          -0.012121212121212222,
          -0.005383235067931322,
          -0.003347064881565462,
          0.0018027298480556345,
          0.004114168166623723,
          0,
          -0.0012836970474969002,
          -0.004903225806451555,
          0.011670527443508565,
          -0.014084507042253449,
          0.03525058426382762,
          0.06079002935054712,
          -0.06146572104018899,
          0.06584195910123716,
          -0.03980227881244185,
          0.06143597335307185,
          -0.0011619800139438593,
          0.016117729502452643,
          0.03394077448747157,
          0.0008828073273007978,
          0.009852216748768582,
          -0.0168514412416851,
          -0.008042895442359237,
          0.00981923677750497,
          -0.00842581175503498,
          0.04050690201403031,
          0.03673624701021951,
          0.09463795164300555,
          0.34674329501915696,
          -0.21702493428997666,
          0.07608804356720095,
          0.09571682014023809,
          0.03999999999999991,
          -0.05481481481481486,
          -0.004687499999999956,
          -0.04088050314465411,
          0.4536551724137931,
          -0.09365926758452749,
          -0.025791808521613533,
          -0.02995342929720574,
          0.0691309562752154,
          -0.08655167150053422,
          0.30534649049450846,
          -0.14956863415050817,
          -0.30573057305730567,
          0.1075021645021645,
          0.004907072317978349,
          -0.0055058945459256015,
          0.022537508238916818,
          0.04235234085980346,
          0.014320156651572697,
          0.07201447527141132,
          0.044444444444444446,
          -0.06047745358090189,
          -0.0056179775280898875,
          0.02947463156710546,
          -0.025867714472822576,
          -0.016067415730337157,
          0.00040079931487296496,
          0.0020531842045193936,
          0.20380452757027992,
          0.08770178998553842,
          0.1539659950041049,
          0.10838757002170979,
          0.5352257181942545,
          -0.07328584149599292,
          0.08121095627102358,
          -0.06884444444444449,
          0.21296521527608855,
          0.17195325542570952,
          -0.437636761487965,
          0.15288220551378445,
          0.006521739130434782,
          0.3441055591607181,
          0.19818252126836813,
          -0.15779860014763647,
          0.0945651130801958,
          -0.042372362008405565,
          -0.01984052504063547,
          0.0848715449199711,
          -0.058271704411383844,
          -0.022941104594330373,
          -0.22006269592476485,
          0.17273786095827137,
          0.07613234821715383,
          0.3689171745069196,
          -0.024978089395267262,
          0.026822666159593767,
          -0.2570806100217865,
          0.3749596454670853,
          -0.43707889125799576,
          -0.034862641509433925,
          -0.06376967850306652,
          0.0024196182481548787,
          0.01954993286735783,
          -0.19784151763314492,
          0.3016612641815235,
          0.09669260700389114,
          0.2378625191738309,
          -0.10089337175792505,
          0.18316666666666667,
          -0.07369047619047617,
          0.025999999999999978,
          -0.12281012658227845,
          0.04529345665139605,
          -0.12572656400650117,
          0.05322695936190732,
          0.013604592849997847,
          -0.03105152933298269,
          -0.15850507530517963,
          0.027580358760644984,
          0.15256855928930083,
          -0.017242957853938517,
          -0.050573999379460166,
          0.03139394335369643,
          -0.012626582278481041,
          -0.022746419545071672,
          -0.02881844380403458,
          -0.029053254437869803,
          -0.012430517378290859,
          -0.028134556574923513,
          -0.1501419578218444,
          -0.12077777777777783,
          0.09471016788089952,
          -0.04247104247104247,
          0.006198585767763713,
          -0.039268800000000055,
          -0.054598400063970785,
          -0.07943759425175195,
          -0.14406616657049437,
          0.054775280898876406,
          0.01537637289043667,
          -0.024529378208785004,
          0.01630751310425167,
          -0.08919027642089525,
          -0.12348331648129436,
          -0.08273381294964029,
          -0.09803921568627451,
          -0.20357356107937977,
          0.2611164366789978,
          0.07178555202180832,
          -0.11772820871752736,
          -0.03571521649110369,
          -0.09399626061903078,
          -0.021815777875716216,
          0.03580274712902507,
          -0.021739130434782608,
          -0.0533333333333333,
          0.11323886122813742,
          0.0990269032627362,
          -0.05046728971962616,
          -0.013719679508286687,
          0.03930082386996216,
          -0.005460385438972217,
          0.06593167445505418,
          -0.05552846488797087,
          0.06351063829787233,
          0.07823370110330986,
          -0.08475843379123453,
          -0.06088052239567401,
          -0.01809905711498864,
          0.005794249480704068,
          -0.025027203482045825,
          -0.004703247480403155,
          0.013759479956663013,
          0.033653846153846215,
          -0.018570102135561862,
          -0.010781953313095375,
          -0.000736842105263086,
          -0.12221052631578946,
          -0.14265129682997113,
          -0.038013693345920314,
          -0.06490553088530795,
          -0.06976444924720804,
          -0.03224198105368132,
          -0.08332632092337125,
          -0.005984664297737054,
          -0.05491818694752683,
          0.0017960486928757415,
          -0.020517928286852612,
          0.13775700934579435,
          -0.02529981928700508,
          -0.0129368279569893,
          0.018793103448275922,
          -0.032662040954476335,
          0.4470279720279719,
          -0.1443941041440135,
          -0.09082693942329136,
          -0.01155646804473285,
          -0.042961610209246284,
          -0.00294918032786891,
          0.04816866677626176,
          0.010436137071651117,
          0.07467532467532464,
          -0.033927544565842425,
          -0.011011904761904896,
          0.01321585903083709,
          0.026011560693641578,
          0.007189173949816819,
          -0.014468085106382922,
          0.002305807753278521,
          -0.07192075796726947,
          -0.05974307382758086,
          -0.018026174993826635,
          0.008766118875079039,
          -0.008108063175394791,
          -0.014743632707774786,
          0.01834069293478252,
          -0.006833333333333276,
          0.001680672268907587,
          0.003188454438664167,
          -0.004850309416290335,
          -0.04682274247491634,
          0.007957559681697663,
          0.0005284481240090546,
          -0.022887323943661924,
          0.0005293806246691572,
          -0.05414462081128748,
          -0.08488805970149262,
          -0.013256759503964165,
          0.004118252987227019,
          0.005344568309877957,
          0.041039470157483715,
          -0.012363125344701348,
          0.053484602917341986,
          -0.010576923076923022,
          -0.02502910360884748,
          -0.005174129353233792,
          0.007000000000000029,
          -0.03578528827037768,
          0,
          0.04794099569760287,
          0.030101010101010142,
          -0.00999999999999996,
          -0.01445349396731466,
          0.05912809945682638,
          0.06012156899990493,
          0.00796064400715564,
          -0.054450754214729384,
          -0.036151383920165724,
          -0.03435487019324611,
          0.014756418031130059,
          -0.004183266932270933,
          -0.0009990009990010179,
          0.003637098403717917,
          0.02,
          -0.005329648637978603,
          -0.002384737678855275,
          0.005197989604020685,
          0.040761411201913525,
          -0.037310569729522354,
          -0.02133472562379061,
          -0.00427785699735182,
          -0.0085156289837337,
          0.0003346335454732312,
          0.04538919696036149,
          -0.009288537549407092,
          -0.013157894736842039,
          0.02134146341463409,
          0.00019892580067630813,
          0.00790513833992092,
          -0.003976933784052411,
          -0.0005982053838484773,
          0.013842198932173281,
          0.003944773175542322,
          0.003283292786645383,
          0.05946253197334762,
          -0.025046676624346592,
          0.0037523056046585316,
          -0.016562948779320286,
          -0.0004284323271664745,
          0.019283209972730714,
          -0.009541984732824428,
          -0.003658067000385016,
          0.01721137110810289,
          0.015940080660649093
         ],
         "yaxis": "y"
        }
       ],
       "layout": {
        "barmode": "relative",
        "legend": {
         "tracegroupgap": 0
        },
        "plot_bgcolor": "rgb(84, 85, 87)",
        "template": {
         "data": {
          "bar": [
           {
            "error_x": {
             "color": "#2a3f5f"
            },
            "error_y": {
             "color": "#2a3f5f"
            },
            "marker": {
             "line": {
              "color": "#E5ECF6",
              "width": 0.5
             }
            },
            "type": "bar"
           }
          ],
          "barpolar": [
           {
            "marker": {
             "line": {
              "color": "#E5ECF6",
              "width": 0.5
             }
            },
            "type": "barpolar"
           }
          ],
          "carpet": [
           {
            "aaxis": {
             "endlinecolor": "#2a3f5f",
             "gridcolor": "white",
             "linecolor": "white",
             "minorgridcolor": "white",
             "startlinecolor": "#2a3f5f"
            },
            "baxis": {
             "endlinecolor": "#2a3f5f",
             "gridcolor": "white",
             "linecolor": "white",
             "minorgridcolor": "white",
             "startlinecolor": "#2a3f5f"
            },
            "type": "carpet"
           }
          ],
          "choropleth": [
           {
            "colorbar": {
             "outlinewidth": 0,
             "ticks": ""
            },
            "type": "choropleth"
           }
          ],
          "contour": [
           {
            "colorbar": {
             "outlinewidth": 0,
             "ticks": ""
            },
            "colorscale": [
             [
              0,
              "#0d0887"
             ],
             [
              0.1111111111111111,
              "#46039f"
             ],
             [
              0.2222222222222222,
              "#7201a8"
             ],
             [
              0.3333333333333333,
              "#9c179e"
             ],
             [
              0.4444444444444444,
              "#bd3786"
             ],
             [
              0.5555555555555556,
              "#d8576b"
             ],
             [
              0.6666666666666666,
              "#ed7953"
             ],
             [
              0.7777777777777778,
              "#fb9f3a"
             ],
             [
              0.8888888888888888,
              "#fdca26"
             ],
             [
              1,
              "#f0f921"
             ]
            ],
            "type": "contour"
           }
          ],
          "contourcarpet": [
           {
            "colorbar": {
             "outlinewidth": 0,
             "ticks": ""
            },
            "type": "contourcarpet"
           }
          ],
          "heatmap": [
           {
            "colorbar": {
             "outlinewidth": 0,
             "ticks": ""
            },
            "colorscale": [
             [
              0,
              "#0d0887"
             ],
             [
              0.1111111111111111,
              "#46039f"
             ],
             [
              0.2222222222222222,
              "#7201a8"
             ],
             [
              0.3333333333333333,
              "#9c179e"
             ],
             [
              0.4444444444444444,
              "#bd3786"
             ],
             [
              0.5555555555555556,
              "#d8576b"
             ],
             [
              0.6666666666666666,
              "#ed7953"
             ],
             [
              0.7777777777777778,
              "#fb9f3a"
             ],
             [
              0.8888888888888888,
              "#fdca26"
             ],
             [
              1,
              "#f0f921"
             ]
            ],
            "type": "heatmap"
           }
          ],
          "heatmapgl": [
           {
            "colorbar": {
             "outlinewidth": 0,
             "ticks": ""
            },
            "colorscale": [
             [
              0,
              "#0d0887"
             ],
             [
              0.1111111111111111,
              "#46039f"
             ],
             [
              0.2222222222222222,
              "#7201a8"
             ],
             [
              0.3333333333333333,
              "#9c179e"
             ],
             [
              0.4444444444444444,
              "#bd3786"
             ],
             [
              0.5555555555555556,
              "#d8576b"
             ],
             [
              0.6666666666666666,
              "#ed7953"
             ],
             [
              0.7777777777777778,
              "#fb9f3a"
             ],
             [
              0.8888888888888888,
              "#fdca26"
             ],
             [
              1,
              "#f0f921"
             ]
            ],
            "type": "heatmapgl"
           }
          ],
          "histogram": [
           {
            "marker": {
             "colorbar": {
              "outlinewidth": 0,
              "ticks": ""
             }
            },
            "type": "histogram"
           }
          ],
          "histogram2d": [
           {
            "colorbar": {
             "outlinewidth": 0,
             "ticks": ""
            },
            "colorscale": [
             [
              0,
              "#0d0887"
             ],
             [
              0.1111111111111111,
              "#46039f"
             ],
             [
              0.2222222222222222,
              "#7201a8"
             ],
             [
              0.3333333333333333,
              "#9c179e"
             ],
             [
              0.4444444444444444,
              "#bd3786"
             ],
             [
              0.5555555555555556,
              "#d8576b"
             ],
             [
              0.6666666666666666,
              "#ed7953"
             ],
             [
              0.7777777777777778,
              "#fb9f3a"
             ],
             [
              0.8888888888888888,
              "#fdca26"
             ],
             [
              1,
              "#f0f921"
             ]
            ],
            "type": "histogram2d"
           }
          ],
          "histogram2dcontour": [
           {
            "colorbar": {
             "outlinewidth": 0,
             "ticks": ""
            },
            "colorscale": [
             [
              0,
              "#0d0887"
             ],
             [
              0.1111111111111111,
              "#46039f"
             ],
             [
              0.2222222222222222,
              "#7201a8"
             ],
             [
              0.3333333333333333,
              "#9c179e"
             ],
             [
              0.4444444444444444,
              "#bd3786"
             ],
             [
              0.5555555555555556,
              "#d8576b"
             ],
             [
              0.6666666666666666,
              "#ed7953"
             ],
             [
              0.7777777777777778,
              "#fb9f3a"
             ],
             [
              0.8888888888888888,
              "#fdca26"
             ],
             [
              1,
              "#f0f921"
             ]
            ],
            "type": "histogram2dcontour"
           }
          ],
          "mesh3d": [
           {
            "colorbar": {
             "outlinewidth": 0,
             "ticks": ""
            },
            "type": "mesh3d"
           }
          ],
          "parcoords": [
           {
            "line": {
             "colorbar": {
              "outlinewidth": 0,
              "ticks": ""
             }
            },
            "type": "parcoords"
           }
          ],
          "pie": [
           {
            "automargin": true,
            "type": "pie"
           }
          ],
          "scatter": [
           {
            "marker": {
             "colorbar": {
              "outlinewidth": 0,
              "ticks": ""
             }
            },
            "type": "scatter"
           }
          ],
          "scatter3d": [
           {
            "line": {
             "colorbar": {
              "outlinewidth": 0,
              "ticks": ""
             }
            },
            "marker": {
             "colorbar": {
              "outlinewidth": 0,
              "ticks": ""
             }
            },
            "type": "scatter3d"
           }
          ],
          "scattercarpet": [
           {
            "marker": {
             "colorbar": {
              "outlinewidth": 0,
              "ticks": ""
             }
            },
            "type": "scattercarpet"
           }
          ],
          "scattergeo": [
           {
            "marker": {
             "colorbar": {
              "outlinewidth": 0,
              "ticks": ""
             }
            },
            "type": "scattergeo"
           }
          ],
          "scattergl": [
           {
            "marker": {
             "colorbar": {
              "outlinewidth": 0,
              "ticks": ""
             }
            },
            "type": "scattergl"
           }
          ],
          "scattermapbox": [
           {
            "marker": {
             "colorbar": {
              "outlinewidth": 0,
              "ticks": ""
             }
            },
            "type": "scattermapbox"
           }
          ],
          "scatterpolar": [
           {
            "marker": {
             "colorbar": {
              "outlinewidth": 0,
              "ticks": ""
             }
            },
            "type": "scatterpolar"
           }
          ],
          "scatterpolargl": [
           {
            "marker": {
             "colorbar": {
              "outlinewidth": 0,
              "ticks": ""
             }
            },
            "type": "scatterpolargl"
           }
          ],
          "scatterternary": [
           {
            "marker": {
             "colorbar": {
              "outlinewidth": 0,
              "ticks": ""
             }
            },
            "type": "scatterternary"
           }
          ],
          "surface": [
           {
            "colorbar": {
             "outlinewidth": 0,
             "ticks": ""
            },
            "colorscale": [
             [
              0,
              "#0d0887"
             ],
             [
              0.1111111111111111,
              "#46039f"
             ],
             [
              0.2222222222222222,
              "#7201a8"
             ],
             [
              0.3333333333333333,
              "#9c179e"
             ],
             [
              0.4444444444444444,
              "#bd3786"
             ],
             [
              0.5555555555555556,
              "#d8576b"
             ],
             [
              0.6666666666666666,
              "#ed7953"
             ],
             [
              0.7777777777777778,
              "#fb9f3a"
             ],
             [
              0.8888888888888888,
              "#fdca26"
             ],
             [
              1,
              "#f0f921"
             ]
            ],
            "type": "surface"
           }
          ],
          "table": [
           {
            "cells": {
             "fill": {
              "color": "#EBF0F8"
             },
             "line": {
              "color": "white"
             }
            },
            "header": {
             "fill": {
              "color": "#C8D4E3"
             },
             "line": {
              "color": "white"
             }
            },
            "type": "table"
           }
          ]
         },
         "layout": {
          "annotationdefaults": {
           "arrowcolor": "#2a3f5f",
           "arrowhead": 0,
           "arrowwidth": 1
          },
          "autotypenumbers": "strict",
          "coloraxis": {
           "colorbar": {
            "outlinewidth": 0,
            "ticks": ""
           }
          },
          "colorscale": {
           "diverging": [
            [
             0,
             "#8e0152"
            ],
            [
             0.1,
             "#c51b7d"
            ],
            [
             0.2,
             "#de77ae"
            ],
            [
             0.3,
             "#f1b6da"
            ],
            [
             0.4,
             "#fde0ef"
            ],
            [
             0.5,
             "#f7f7f7"
            ],
            [
             0.6,
             "#e6f5d0"
            ],
            [
             0.7,
             "#b8e186"
            ],
            [
             0.8,
             "#7fbc41"
            ],
            [
             0.9,
             "#4d9221"
            ],
            [
             1,
             "#276419"
            ]
           ],
           "sequential": [
            [
             0,
             "#0d0887"
            ],
            [
             0.1111111111111111,
             "#46039f"
            ],
            [
             0.2222222222222222,
             "#7201a8"
            ],
            [
             0.3333333333333333,
             "#9c179e"
            ],
            [
             0.4444444444444444,
             "#bd3786"
            ],
            [
             0.5555555555555556,
             "#d8576b"
            ],
            [
             0.6666666666666666,
             "#ed7953"
            ],
            [
             0.7777777777777778,
             "#fb9f3a"
            ],
            [
             0.8888888888888888,
             "#fdca26"
            ],
            [
             1,
             "#f0f921"
            ]
           ],
           "sequentialminus": [
            [
             0,
             "#0d0887"
            ],
            [
             0.1111111111111111,
             "#46039f"
            ],
            [
             0.2222222222222222,
             "#7201a8"
            ],
            [
             0.3333333333333333,
             "#9c179e"
            ],
            [
             0.4444444444444444,
             "#bd3786"
            ],
            [
             0.5555555555555556,
             "#d8576b"
            ],
            [
             0.6666666666666666,
             "#ed7953"
            ],
            [
             0.7777777777777778,
             "#fb9f3a"
            ],
            [
             0.8888888888888888,
             "#fdca26"
            ],
            [
             1,
             "#f0f921"
            ]
           ]
          },
          "colorway": [
           "#636efa",
           "#EF553B",
           "#00cc96",
           "#ab63fa",
           "#FFA15A",
           "#19d3f3",
           "#FF6692",
           "#B6E880",
           "#FF97FF",
           "#FECB52"
          ],
          "font": {
           "color": "#2a3f5f"
          },
          "geo": {
           "bgcolor": "white",
           "lakecolor": "white",
           "landcolor": "#E5ECF6",
           "showlakes": true,
           "showland": true,
           "subunitcolor": "white"
          },
          "hoverlabel": {
           "align": "left"
          },
          "hovermode": "closest",
          "mapbox": {
           "style": "light"
          },
          "paper_bgcolor": "white",
          "plot_bgcolor": "#E5ECF6",
          "polar": {
           "angularaxis": {
            "gridcolor": "white",
            "linecolor": "white",
            "ticks": ""
           },
           "bgcolor": "#E5ECF6",
           "radialaxis": {
            "gridcolor": "white",
            "linecolor": "white",
            "ticks": ""
           }
          },
          "scene": {
           "xaxis": {
            "backgroundcolor": "#E5ECF6",
            "gridcolor": "white",
            "gridwidth": 2,
            "linecolor": "white",
            "showbackground": true,
            "ticks": "",
            "zerolinecolor": "white"
           },
           "yaxis": {
            "backgroundcolor": "#E5ECF6",
            "gridcolor": "white",
            "gridwidth": 2,
            "linecolor": "white",
            "showbackground": true,
            "ticks": "",
            "zerolinecolor": "white"
           },
           "zaxis": {
            "backgroundcolor": "#E5ECF6",
            "gridcolor": "white",
            "gridwidth": 2,
            "linecolor": "white",
            "showbackground": true,
            "ticks": "",
            "zerolinecolor": "white"
           }
          },
          "shapedefaults": {
           "line": {
            "color": "#2a3f5f"
           }
          },
          "ternary": {
           "aaxis": {
            "gridcolor": "white",
            "linecolor": "white",
            "ticks": ""
           },
           "baxis": {
            "gridcolor": "white",
            "linecolor": "white",
            "ticks": ""
           },
           "bgcolor": "#E5ECF6",
           "caxis": {
            "gridcolor": "white",
            "linecolor": "white",
            "ticks": ""
           }
          },
          "title": {
           "x": 0.05
          },
          "xaxis": {
           "automargin": true,
           "gridcolor": "white",
           "linecolor": "white",
           "ticks": "",
           "title": {
            "standoff": 15
           },
           "zerolinecolor": "white",
           "zerolinewidth": 2
          },
          "yaxis": {
           "automargin": true,
           "gridcolor": "white",
           "linecolor": "white",
           "ticks": "",
           "title": {
            "standoff": 15
           },
           "zerolinecolor": "white",
           "zerolinewidth": 2
          }
         }
        },
        "title": {
         "text": "Percent GME Change"
        },
        "xaxis": {
         "anchor": "y",
         "domain": [
          0,
          1
         ],
         "gridcolor": "rgb(144, 145, 142)",
         "title": {
          "text": "Date"
         }
        },
        "yaxis": {
         "anchor": "x",
         "domain": [
          0,
          1
         ],
         "gridcolor": "rgb(144, 145, 142)",
         "title": {
          "text": "percent change"
         }
        }
       }
      },
      "text/html": [
       "<div>                            <div id=\"c1629258-9d55-4abf-aad2-30a7e73d7451\" class=\"plotly-graph-div\" style=\"height:525px; width:100%;\"></div>            <script type=\"text/javascript\">                require([\"plotly\"], function(Plotly) {                    window.PLOTLYENV=window.PLOTLYENV || {};                                    if (document.getElementById(\"c1629258-9d55-4abf-aad2-30a7e73d7451\")) {                    Plotly.newPlot(                        \"c1629258-9d55-4abf-aad2-30a7e73d7451\",                        [{\"alignmentgroup\": \"True\", \"hovertemplate\": \"Date=%{x}<br>percent change=%{y}<extra></extra>\", \"legendgroup\": \"\", \"marker\": {\"color\": \"rgb(73, 157, 222)\", \"line\": {\"width\": 0}}, \"name\": \"\", \"offsetgroup\": \"\", \"orientation\": \"v\", \"showlegend\": false, \"textposition\": \"auto\", \"type\": \"bar\", \"x\": [\"2020-12-31T05:00:00\", \"2020-12-31T06:00:00\", \"2020-12-31T07:00:00\", \"2020-12-31T08:00:00\", \"2020-12-31T09:00:00\", \"2020-12-31T10:00:00\", \"2020-12-31T11:00:00\", \"2020-12-31T12:00:00\", \"2020-12-31T13:00:00\", \"2020-12-31T14:00:00\", \"2020-12-31T15:00:00\", \"2020-12-31T16:00:00\", \"2020-12-31T17:00:00\", \"2020-12-31T18:00:00\", \"2020-12-31T19:00:00\", \"2020-12-31T20:00:00\", \"2021-01-04T05:00:00\", \"2021-01-04T07:00:00\", \"2021-01-04T08:00:00\", \"2021-01-04T09:00:00\", \"2021-01-04T10:00:00\", \"2021-01-04T11:00:00\", \"2021-01-04T12:00:00\", \"2021-01-04T13:00:00\", \"2021-01-04T14:00:00\", \"2021-01-04T15:00:00\", \"2021-01-04T16:00:00\", \"2021-01-04T17:00:00\", \"2021-01-04T18:00:00\", \"2021-01-04T19:00:00\", \"2021-01-04T20:00:00\", \"2021-01-05T05:00:00\", \"2021-01-05T07:00:00\", \"2021-01-05T08:00:00\", \"2021-01-05T09:00:00\", \"2021-01-05T10:00:00\", \"2021-01-05T11:00:00\", \"2021-01-05T12:00:00\", \"2021-01-05T13:00:00\", \"2021-01-05T14:00:00\", \"2021-01-05T15:00:00\", \"2021-01-05T16:00:00\", \"2021-01-05T17:00:00\", \"2021-01-05T18:00:00\", \"2021-01-05T19:00:00\", \"2021-01-05T20:00:00\", \"2021-01-06T05:00:00\", \"2021-01-06T06:00:00\", \"2021-01-06T08:00:00\", \"2021-01-06T09:00:00\", \"2021-01-06T10:00:00\", \"2021-01-06T11:00:00\", \"2021-01-06T12:00:00\", \"2021-01-06T13:00:00\", \"2021-01-06T14:00:00\", \"2021-01-06T15:00:00\", \"2021-01-06T16:00:00\", \"2021-01-06T17:00:00\", \"2021-01-06T18:00:00\", \"2021-01-06T19:00:00\", \"2021-01-06T20:00:00\", \"2021-01-07T06:00:00\", \"2021-01-07T07:00:00\", \"2021-01-07T08:00:00\", \"2021-01-07T09:00:00\", \"2021-01-07T10:00:00\", \"2021-01-07T11:00:00\", \"2021-01-07T12:00:00\", \"2021-01-07T13:00:00\", \"2021-01-07T14:00:00\", \"2021-01-07T15:00:00\", \"2021-01-07T16:00:00\", \"2021-01-07T17:00:00\", \"2021-01-07T18:00:00\", \"2021-01-07T19:00:00\", \"2021-01-07T20:00:00\", \"2021-01-08T06:00:00\", \"2021-01-08T08:00:00\", \"2021-01-08T09:00:00\", \"2021-01-08T10:00:00\", \"2021-01-08T11:00:00\", \"2021-01-08T12:00:00\", \"2021-01-08T13:00:00\", \"2021-01-08T14:00:00\", \"2021-01-08T15:00:00\", \"2021-01-08T16:00:00\", \"2021-01-08T17:00:00\", \"2021-01-08T18:00:00\", \"2021-01-08T19:00:00\", \"2021-01-08T20:00:00\", \"2021-01-11T05:00:00\", \"2021-01-11T06:00:00\", \"2021-01-11T07:00:00\", \"2021-01-11T08:00:00\", \"2021-01-11T09:00:00\", \"2021-01-11T10:00:00\", \"2021-01-11T11:00:00\", \"2021-01-11T12:00:00\", \"2021-01-11T13:00:00\", \"2021-01-11T14:00:00\", \"2021-01-11T15:00:00\", \"2021-01-11T16:00:00\", \"2021-01-11T17:00:00\", \"2021-01-11T18:00:00\", \"2021-01-11T19:00:00\", \"2021-01-11T20:00:00\", \"2021-01-12T05:00:00\", \"2021-01-12T06:00:00\", \"2021-01-12T07:00:00\", \"2021-01-12T08:00:00\", \"2021-01-12T09:00:00\", \"2021-01-12T10:00:00\", \"2021-01-12T11:00:00\", \"2021-01-12T12:00:00\", \"2021-01-12T13:00:00\", \"2021-01-12T14:00:00\", \"2021-01-12T15:00:00\", \"2021-01-12T16:00:00\", \"2021-01-12T17:00:00\", \"2021-01-12T18:00:00\", \"2021-01-12T19:00:00\", \"2021-01-12T20:00:00\", \"2021-01-13T05:00:00\", \"2021-01-13T07:00:00\", \"2021-01-13T08:00:00\", \"2021-01-13T09:00:00\", \"2021-01-13T10:00:00\", \"2021-01-13T11:00:00\", \"2021-01-13T12:00:00\", \"2021-01-13T13:00:00\", \"2021-01-13T14:00:00\", \"2021-01-13T15:00:00\", \"2021-01-13T16:00:00\", \"2021-01-13T17:00:00\", \"2021-01-13T18:00:00\", \"2021-01-13T19:00:00\", \"2021-01-13T20:00:00\", \"2021-01-14T05:00:00\", \"2021-01-14T06:00:00\", \"2021-01-14T07:00:00\", \"2021-01-14T08:00:00\", \"2021-01-14T09:00:00\", \"2021-01-14T10:00:00\", \"2021-01-14T11:00:00\", \"2021-01-14T12:00:00\", \"2021-01-14T13:00:00\", \"2021-01-14T14:00:00\", \"2021-01-14T15:00:00\", \"2021-01-14T16:00:00\", \"2021-01-14T17:00:00\", \"2021-01-14T18:00:00\", \"2021-01-14T19:00:00\", \"2021-01-14T20:00:00\", \"2021-01-15T05:00:00\", \"2021-01-15T06:00:00\", \"2021-01-15T07:00:00\", \"2021-01-15T08:00:00\", \"2021-01-15T09:00:00\", \"2021-01-15T10:00:00\", \"2021-01-15T11:00:00\", \"2021-01-15T12:00:00\", \"2021-01-15T13:00:00\", \"2021-01-15T14:00:00\", \"2021-01-15T15:00:00\", \"2021-01-15T16:00:00\", \"2021-01-15T17:00:00\", \"2021-01-15T18:00:00\", \"2021-01-15T19:00:00\", \"2021-01-15T20:00:00\", \"2021-01-19T05:00:00\", \"2021-01-19T06:00:00\", \"2021-01-19T07:00:00\", \"2021-01-19T08:00:00\", \"2021-01-19T09:00:00\", \"2021-01-19T10:00:00\", \"2021-01-19T11:00:00\", \"2021-01-19T12:00:00\", \"2021-01-19T13:00:00\", \"2021-01-19T14:00:00\", \"2021-01-19T15:00:00\", \"2021-01-19T16:00:00\", \"2021-01-19T17:00:00\", \"2021-01-19T18:00:00\", \"2021-01-19T19:00:00\", \"2021-01-19T20:00:00\", \"2021-01-20T05:00:00\", \"2021-01-20T06:00:00\", \"2021-01-20T07:00:00\", \"2021-01-20T08:00:00\", \"2021-01-20T09:00:00\", \"2021-01-20T10:00:00\", \"2021-01-20T11:00:00\", \"2021-01-20T12:00:00\", \"2021-01-20T13:00:00\", \"2021-01-20T14:00:00\", \"2021-01-20T15:00:00\", \"2021-01-20T16:00:00\", \"2021-01-20T17:00:00\", \"2021-01-20T18:00:00\", \"2021-01-20T19:00:00\", \"2021-01-20T20:00:00\", \"2021-01-21T05:00:00\", \"2021-01-21T07:00:00\", \"2021-01-21T08:00:00\", \"2021-01-21T09:00:00\", \"2021-01-21T10:00:00\", \"2021-01-21T11:00:00\", \"2021-01-21T12:00:00\", \"2021-01-21T13:00:00\", \"2021-01-21T14:00:00\", \"2021-01-21T15:00:00\", \"2021-01-21T16:00:00\", \"2021-01-21T17:00:00\", \"2021-01-21T18:00:00\", \"2021-01-21T19:00:00\", \"2021-01-21T20:00:00\", \"2021-01-22T05:00:00\", \"2021-01-22T06:00:00\", \"2021-01-22T07:00:00\", \"2021-01-22T08:00:00\", \"2021-01-22T09:00:00\", \"2021-01-22T10:00:00\", \"2021-01-22T11:00:00\", \"2021-01-22T12:00:00\", \"2021-01-22T13:00:00\", \"2021-01-22T14:00:00\", \"2021-01-22T15:00:00\", \"2021-01-22T16:00:00\", \"2021-01-22T17:00:00\", \"2021-01-22T18:00:00\", \"2021-01-22T19:00:00\", \"2021-01-22T20:00:00\", \"2021-01-25T05:00:00\", \"2021-01-25T06:00:00\", \"2021-01-25T07:00:00\", \"2021-01-25T08:00:00\", \"2021-01-25T09:00:00\", \"2021-01-25T10:00:00\", \"2021-01-25T11:00:00\", \"2021-01-25T12:00:00\", \"2021-01-25T13:00:00\", \"2021-01-25T14:00:00\", \"2021-01-25T15:00:00\", \"2021-01-25T16:00:00\", \"2021-01-25T17:00:00\", \"2021-01-25T18:00:00\", \"2021-01-25T19:00:00\", \"2021-01-25T20:00:00\", \"2021-01-26T05:00:00\", \"2021-01-26T06:00:00\", \"2021-01-26T07:00:00\", \"2021-01-26T08:00:00\", \"2021-01-26T09:00:00\", \"2021-01-26T10:00:00\", \"2021-01-26T11:00:00\", \"2021-01-26T12:00:00\", \"2021-01-26T13:00:00\", \"2021-01-26T14:00:00\", \"2021-01-26T15:00:00\", \"2021-01-26T16:00:00\", \"2021-01-26T17:00:00\", \"2021-01-26T18:00:00\", \"2021-01-26T19:00:00\", \"2021-01-26T20:00:00\", \"2021-01-27T05:00:00\", \"2021-01-27T06:00:00\", \"2021-01-27T07:00:00\", \"2021-01-27T08:00:00\", \"2021-01-27T09:00:00\", \"2021-01-27T10:00:00\", \"2021-01-27T11:00:00\", \"2021-01-27T12:00:00\", \"2021-01-27T13:00:00\", \"2021-01-27T14:00:00\", \"2021-01-27T15:00:00\", \"2021-01-27T16:00:00\", \"2021-01-27T17:00:00\", \"2021-01-27T18:00:00\", \"2021-01-27T19:00:00\", \"2021-01-27T20:00:00\", \"2021-01-28T05:00:00\", \"2021-01-28T06:00:00\", \"2021-01-28T07:00:00\", \"2021-01-28T08:00:00\", \"2021-01-28T09:00:00\", \"2021-01-28T10:00:00\", \"2021-01-28T11:00:00\", \"2021-01-28T12:00:00\", \"2021-01-28T13:00:00\", \"2021-01-28T14:00:00\", \"2021-01-28T15:00:00\", \"2021-01-28T16:00:00\", \"2021-01-28T17:00:00\", \"2021-01-28T18:00:00\", \"2021-01-28T19:00:00\", \"2021-01-28T20:00:00\", \"2021-01-29T05:00:00\", \"2021-01-29T06:00:00\", \"2021-01-29T07:00:00\", \"2021-01-29T08:00:00\", \"2021-01-29T09:00:00\", \"2021-01-29T10:00:00\", \"2021-01-29T11:00:00\", \"2021-01-29T12:00:00\", \"2021-01-29T13:00:00\", \"2021-01-29T14:00:00\", \"2021-01-29T15:00:00\", \"2021-01-29T16:00:00\", \"2021-01-29T17:00:00\", \"2021-01-29T18:00:00\", \"2021-01-29T19:00:00\", \"2021-01-29T20:00:00\", \"2021-02-01T05:00:00\", \"2021-02-01T06:00:00\", \"2021-02-01T07:00:00\", \"2021-02-01T08:00:00\", \"2021-02-01T09:00:00\", \"2021-02-01T10:00:00\", \"2021-02-01T11:00:00\", \"2021-02-01T12:00:00\", \"2021-02-01T13:00:00\", \"2021-02-01T14:00:00\", \"2021-02-01T15:00:00\", \"2021-02-01T16:00:00\", \"2021-02-01T17:00:00\", \"2021-02-01T18:00:00\", \"2021-02-01T19:00:00\", \"2021-02-01T20:00:00\", \"2021-02-02T05:00:00\", \"2021-02-02T06:00:00\", \"2021-02-02T07:00:00\", \"2021-02-02T08:00:00\", \"2021-02-02T09:00:00\", \"2021-02-02T10:00:00\", \"2021-02-02T11:00:00\", \"2021-02-02T12:00:00\", \"2021-02-02T13:00:00\", \"2021-02-02T14:00:00\", \"2021-02-02T15:00:00\", \"2021-02-02T16:00:00\", \"2021-02-02T17:00:00\", \"2021-02-02T18:00:00\", \"2021-02-02T19:00:00\", \"2021-02-02T20:00:00\", \"2021-02-03T05:00:00\", \"2021-02-03T06:00:00\", \"2021-02-03T07:00:00\", \"2021-02-03T08:00:00\", \"2021-02-03T09:00:00\", \"2021-02-03T10:00:00\", \"2021-02-03T11:00:00\", \"2021-02-03T12:00:00\", \"2021-02-03T13:00:00\", \"2021-02-03T14:00:00\", \"2021-02-03T15:00:00\", \"2021-02-03T16:00:00\", \"2021-02-03T17:00:00\", \"2021-02-03T18:00:00\", \"2021-02-03T19:00:00\", \"2021-02-03T20:00:00\", \"2021-02-04T05:00:00\", \"2021-02-04T06:00:00\", \"2021-02-04T07:00:00\", \"2021-02-04T08:00:00\", \"2021-02-04T09:00:00\", \"2021-02-04T10:00:00\", \"2021-02-04T11:00:00\", \"2021-02-04T12:00:00\", \"2021-02-04T13:00:00\", \"2021-02-04T14:00:00\", \"2021-02-04T15:00:00\", \"2021-02-04T16:00:00\", \"2021-02-04T17:00:00\", \"2021-02-04T18:00:00\", \"2021-02-04T19:00:00\", \"2021-02-04T20:00:00\", \"2021-02-05T05:00:00\", \"2021-02-05T06:00:00\", \"2021-02-05T07:00:00\", \"2021-02-05T08:00:00\", \"2021-02-05T09:00:00\", \"2021-02-05T10:00:00\", \"2021-02-05T11:00:00\", \"2021-02-05T12:00:00\", \"2021-02-05T13:00:00\", \"2021-02-05T14:00:00\", \"2021-02-05T15:00:00\", \"2021-02-05T16:00:00\", \"2021-02-05T17:00:00\", \"2021-02-05T18:00:00\", \"2021-02-05T19:00:00\", \"2021-02-05T20:00:00\", \"2021-02-08T05:00:00\", \"2021-02-08T06:00:00\", \"2021-02-08T07:00:00\", \"2021-02-08T08:00:00\", \"2021-02-08T09:00:00\", \"2021-02-08T10:00:00\", \"2021-02-08T11:00:00\", \"2021-02-08T12:00:00\", \"2021-02-08T13:00:00\", \"2021-02-08T14:00:00\", \"2021-02-08T15:00:00\", \"2021-02-08T16:00:00\", \"2021-02-08T17:00:00\", \"2021-02-08T18:00:00\", \"2021-02-08T19:00:00\", \"2021-02-08T20:00:00\", \"2021-02-09T05:00:00\", \"2021-02-09T06:00:00\", \"2021-02-09T07:00:00\", \"2021-02-09T08:00:00\", \"2021-02-09T09:00:00\", \"2021-02-09T10:00:00\", \"2021-02-09T11:00:00\", \"2021-02-09T12:00:00\", \"2021-02-09T13:00:00\", \"2021-02-09T14:00:00\", \"2021-02-09T15:00:00\", \"2021-02-09T16:00:00\", \"2021-02-09T17:00:00\", \"2021-02-09T18:00:00\", \"2021-02-09T19:00:00\", \"2021-02-09T20:00:00\", \"2021-02-10T05:00:00\", \"2021-02-10T06:00:00\", \"2021-02-10T07:00:00\", \"2021-02-10T08:00:00\", \"2021-02-10T09:00:00\", \"2021-02-10T10:00:00\", \"2021-02-10T11:00:00\", \"2021-02-10T12:00:00\", \"2021-02-10T13:00:00\", \"2021-02-10T14:00:00\", \"2021-02-10T15:00:00\", \"2021-02-10T16:00:00\", \"2021-02-10T17:00:00\", \"2021-02-10T18:00:00\", \"2021-02-10T19:00:00\", \"2021-02-10T20:00:00\", \"2021-02-11T05:00:00\", \"2021-02-11T06:00:00\", \"2021-02-11T07:00:00\", \"2021-02-11T08:00:00\", \"2021-02-11T09:00:00\", \"2021-02-11T10:00:00\", \"2021-02-11T11:00:00\", \"2021-02-11T12:00:00\", \"2021-02-11T13:00:00\", \"2021-02-11T14:00:00\", \"2021-02-11T15:00:00\", \"2021-02-11T16:00:00\", \"2021-02-11T17:00:00\", \"2021-02-11T18:00:00\", \"2021-02-11T19:00:00\", \"2021-02-11T20:00:00\", \"2021-02-12T05:00:00\", \"2021-02-12T06:00:00\", \"2021-02-12T07:00:00\", \"2021-02-12T08:00:00\", \"2021-02-12T09:00:00\", \"2021-02-12T10:00:00\", \"2021-02-12T11:00:00\", \"2021-02-12T12:00:00\", \"2021-02-12T13:00:00\", \"2021-02-12T14:00:00\", \"2021-02-12T15:00:00\", \"2021-02-12T16:00:00\", \"2021-02-12T17:00:00\", \"2021-02-12T18:00:00\", \"2021-02-12T19:00:00\", \"2021-02-12T20:00:00\"], \"xaxis\": \"x\", \"y\": [0.0, 0.0, 0.0015368852459016976, -0.01127049180327863, -0.002061855670103049, 0.005684754521963794, -0.020061728395061755, 0.01733193277310934, 0.018063923263173555, -0.013684744044602107, -0.02415210688591996, -0.008956796628029595, -0.001603806651018081, 0.015957446808510675, 0.003723404255319164, -0.0036939313984169016, 0.015706806282722363, -0.0036045314109165952, -0.012987012987012988, -0.005976722239698058, -0.08144438587243007, 0.005451936872309834, 0.0027084818246614073, 0.00483366505544503, -0.005315595810925439, -0.009954493742889486, -0.00976450315910406, 0.006956521739130492, -0.004006868918145409, 0.0, -0.007428571428571372, 0.0, 0.0, -0.022598870056497095, -0.010416606385379697, 0.03448275862068965, -0.011824324324324372, -0.0002847380410022213, 0.004555808656036552, -0.009643261608154078, -0.012750142938822127, 0.006085192697768788, 0.0063327576280943826, 0.0005720823798625864, 0.00517241379310344, 0.00285225328009111, -0.011993146773272463, 0.0, 0.005148741418764294, 0.007931357290129247, 0.0037058152793615325, 0.04515762567452418, 0.01521739130434789, 0.00558886509635984, 0.0021304926764315686, -0.0318640467339351, 0.009330406147091203, -0.0010917030567685357, 0.0273224043715847, -0.015425531914893572, 0.012447211694639993, 0.00263435194942048, -0.00419287211740033, 0.008492569002123149, 0.007957559681697536, 0.022133825079030448, -0.02835051546391738, -0.0169491525423729, 0.0002692514808830913, -0.010561542641623173, -0.005366395262768381, -0.008752735229759306, 0.009413716814159362, -5.479422030551446e-06, 0.0, 0.0010881392818280508, 0.0, 0.01046831955922872, 0.012707182320441815, -0.03957423580786034, -6.829357129853146e-05, 0.0, 0.017938496583143584, -0.015109121432568526, 0.014842353208275282, -0.011185019564002183, 0.011871113623515957, 0.0, 0.006159014557670741, -0.008403361344537934, -0.0211428571428572, 0.0, 0.0, 0.22914285714285723, -0.10739191073919117, 0.07781282860147216, -0.05664062500000001, 0.002329192546583755, 0.012654958677686002, 0.039285714285714264, -0.025895925380461454, 0.004536290322580638, -0.0005015045135407003, 0.0015060240963854208, 0.005513784461152854, 0.00199401794616165, -0.004975124378109523, -0.013806706114398477, -0.0009876543209876333, -0.004975124378109523, -0.013330105385896178, -0.019990004997501355, 0.030357142857142798, -0.007925742574257422, 0.004551806747853716, -0.012673956262425574, -0.0033937562940583705, 0.0075795856493179456, 0.002506265664160437, -0.004967709885742567, 0.004995000000000083, 0.007499999999999929, 0.0, 0.0, 0.010945273631840738, 0.006918552684210802, 0.12524557956777999, 0.24928041866550377, 0.10897272451021832, 0.08062651771175532, -0.02245552639253415, -0.013148065142686531, -0.04813805631244323, -0.0047707310237644525, 0.020395156150414408, 0.009962640099626411, 0.009541397353031552, 0.12037037037037042, -0.041788661165823804, 0.0002778549597109755, 0.019444444444444525, 0.015351108691183203, -0.03857992180595949, 0.001808873720136547, 0.04742970746946895, 0.030226379286972988, 0.025026343519494093, 0.007438758496857744, 0.01588788138677303, -0.009249999999999935, 0.07054361567635921, -0.010849056603773605, 0.002386634844868769, -0.009478672985782125, -0.039426523297491, 0.005925925925925975, -0.057079862812346845, -0.0051948051948052685, -0.023050395799043832, -0.020436550395891366, -0.0656834630615868, 0.04490248420929806, 0.004611461338859881, 0.052792442345095815, -0.06309398099260825, -0.007028089887640436, 0.0014204545454544646, 0.002793296089385515, 0.0027855153203343017, 0.048717948717948684, 0.011773362766740172, -0.018491484184914794, -0.05234567901234562, 0.06513809275664408, -0.002746634026927819, -0.0733742331288344, 0.04842815559671875, 0.06283118849356535, -0.0259222688825706, -0.016324576743095474, -0.018645974858857446, -0.013216463414634214, 0.0012873326467558485, -0.003856041131105362, -0.002583979328165411, -0.017402597402597447, -0.009198423127463714, 0.005305039787798295, 0.013185654008438817, 0.005843293492695853, -0.0008563899868249266, -0.02923360547800894, 0.06755290287574613, -0.01552953156822809, 0.01654976057978522, 0.008020369191597833, -0.012121212121212222, -0.005383235067931322, -0.003347064881565462, 0.0018027298480556345, 0.004114168166623723, 0.0, -0.0012836970474969002, -0.004903225806451555, 0.011670527443508565, -0.014084507042253449, 0.03525058426382762, 0.06079002935054712, -0.06146572104018899, 0.06584195910123716, -0.03980227881244185, 0.06143597335307185, -0.0011619800139438593, 0.016117729502452643, 0.03394077448747157, 0.0008828073273007978, 0.009852216748768582, -0.0168514412416851, -0.008042895442359237, 0.00981923677750497, -0.00842581175503498, 0.04050690201403031, 0.03673624701021951, 0.09463795164300555, 0.34674329501915696, -0.21702493428997666, 0.07608804356720095, 0.09571682014023809, 0.03999999999999991, -0.05481481481481486, -0.004687499999999956, -0.04088050314465411, 0.4536551724137931, -0.09365926758452749, -0.025791808521613533, -0.02995342929720574, 0.0691309562752154, -0.08655167150053422, 0.30534649049450846, -0.14956863415050817, -0.30573057305730567, 0.1075021645021645, 0.004907072317978349, -0.0055058945459256015, 0.022537508238916818, 0.04235234085980346, 0.014320156651572697, 0.07201447527141132, 0.044444444444444446, -0.06047745358090189, -0.0056179775280898875, 0.02947463156710546, -0.025867714472822576, -0.016067415730337157, 0.00040079931487296496, 0.0020531842045193936, 0.20380452757027992, 0.08770178998553842, 0.1539659950041049, 0.10838757002170979, 0.5352257181942545, -0.07328584149599292, 0.08121095627102358, -0.06884444444444449, 0.21296521527608855, 0.17195325542570952, -0.437636761487965, 0.15288220551378445, 0.006521739130434782, 0.3441055591607181, 0.19818252126836813, -0.15779860014763647, 0.0945651130801958, -0.042372362008405565, -0.01984052504063547, 0.0848715449199711, -0.058271704411383844, -0.022941104594330373, -0.22006269592476485, 0.17273786095827137, 0.07613234821715383, 0.3689171745069196, -0.024978089395267262, 0.026822666159593767, -0.2570806100217865, 0.3749596454670853, -0.43707889125799576, -0.034862641509433925, -0.06376967850306652, 0.0024196182481548787, 0.01954993286735783, -0.19784151763314492, 0.3016612641815235, 0.09669260700389114, 0.2378625191738309, -0.10089337175792505, 0.18316666666666667, -0.07369047619047617, 0.025999999999999978, -0.12281012658227845, 0.04529345665139605, -0.12572656400650117, 0.05322695936190732, 0.013604592849997847, -0.03105152933298269, -0.15850507530517963, 0.027580358760644984, 0.15256855928930083, -0.017242957853938517, -0.050573999379460166, 0.03139394335369643, -0.012626582278481041, -0.022746419545071672, -0.02881844380403458, -0.029053254437869803, -0.012430517378290859, -0.028134556574923513, -0.1501419578218444, -0.12077777777777783, 0.09471016788089952, -0.04247104247104247, 0.006198585767763713, -0.039268800000000055, -0.054598400063970785, -0.07943759425175195, -0.14406616657049437, 0.054775280898876406, 0.01537637289043667, -0.024529378208785004, 0.01630751310425167, -0.08919027642089525, -0.12348331648129436, -0.08273381294964029, -0.09803921568627451, -0.20357356107937977, 0.2611164366789978, 0.07178555202180832, -0.11772820871752736, -0.03571521649110369, -0.09399626061903078, -0.021815777875716216, 0.03580274712902507, -0.021739130434782608, -0.0533333333333333, 0.11323886122813742, 0.0990269032627362, -0.05046728971962616, -0.013719679508286687, 0.03930082386996216, -0.005460385438972217, 0.06593167445505418, -0.05552846488797087, 0.06351063829787233, 0.07823370110330986, -0.08475843379123453, -0.06088052239567401, -0.01809905711498864, 0.005794249480704068, -0.025027203482045825, -0.004703247480403155, 0.013759479956663013, 0.033653846153846215, -0.018570102135561862, -0.010781953313095375, -0.000736842105263086, -0.12221052631578946, -0.14265129682997113, -0.038013693345920314, -0.06490553088530795, -0.06976444924720804, -0.03224198105368132, -0.08332632092337125, -0.005984664297737054, -0.05491818694752683, 0.0017960486928757415, -0.020517928286852612, 0.13775700934579435, -0.02529981928700508, -0.0129368279569893, 0.018793103448275922, -0.032662040954476335, 0.4470279720279719, -0.1443941041440135, -0.09082693942329136, -0.01155646804473285, -0.042961610209246284, -0.00294918032786891, 0.04816866677626176, 0.010436137071651117, 0.07467532467532464, -0.033927544565842425, -0.011011904761904896, 0.01321585903083709, 0.026011560693641578, 0.007189173949816819, -0.014468085106382922, 0.002305807753278521, -0.07192075796726947, -0.05974307382758086, -0.018026174993826635, 0.008766118875079039, -0.008108063175394791, -0.014743632707774786, 0.01834069293478252, -0.006833333333333276, 0.001680672268907587, 0.003188454438664167, -0.004850309416290335, -0.04682274247491634, 0.007957559681697663, 0.0005284481240090546, -0.022887323943661924, 0.0005293806246691572, -0.05414462081128748, -0.08488805970149262, -0.013256759503964165, 0.004118252987227019, 0.005344568309877957, 0.041039470157483715, -0.012363125344701348, 0.053484602917341986, -0.010576923076923022, -0.02502910360884748, -0.005174129353233792, 0.007000000000000029, -0.03578528827037768, 0.0, 0.04794099569760287, 0.030101010101010142, -0.00999999999999996, -0.01445349396731466, 0.05912809945682638, 0.06012156899990493, 0.00796064400715564, -0.054450754214729384, -0.036151383920165724, -0.03435487019324611, 0.014756418031130059, -0.004183266932270933, -0.0009990009990010179, 0.003637098403717917, 0.02, -0.005329648637978603, -0.002384737678855275, 0.005197989604020685, 0.040761411201913525, -0.037310569729522354, -0.02133472562379061, -0.00427785699735182, -0.0085156289837337, 0.0003346335454732312, 0.04538919696036149, -0.009288537549407092, -0.013157894736842039, 0.02134146341463409, 0.00019892580067630813, 0.00790513833992092, -0.003976933784052411, -0.0005982053838484773, 0.013842198932173281, 0.003944773175542322, 0.003283292786645383, 0.05946253197334762, -0.025046676624346592, 0.0037523056046585316, -0.016562948779320286, -0.0004284323271664745, 0.019283209972730714, -0.009541984732824428, -0.003658067000385016, 0.01721137110810289, 0.015940080660649093], \"yaxis\": \"y\"}],                        {\"barmode\": \"relative\", \"legend\": {\"tracegroupgap\": 0}, \"plot_bgcolor\": \"rgb(84, 85, 87)\", \"template\": {\"data\": {\"bar\": [{\"error_x\": {\"color\": \"#2a3f5f\"}, \"error_y\": {\"color\": \"#2a3f5f\"}, \"marker\": {\"line\": {\"color\": \"#E5ECF6\", \"width\": 0.5}}, \"type\": \"bar\"}], \"barpolar\": [{\"marker\": {\"line\": {\"color\": \"#E5ECF6\", \"width\": 0.5}}, \"type\": \"barpolar\"}], \"carpet\": [{\"aaxis\": {\"endlinecolor\": \"#2a3f5f\", \"gridcolor\": \"white\", \"linecolor\": \"white\", \"minorgridcolor\": \"white\", \"startlinecolor\": \"#2a3f5f\"}, \"baxis\": {\"endlinecolor\": \"#2a3f5f\", \"gridcolor\": \"white\", \"linecolor\": \"white\", \"minorgridcolor\": \"white\", \"startlinecolor\": \"#2a3f5f\"}, \"type\": \"carpet\"}], \"choropleth\": [{\"colorbar\": {\"outlinewidth\": 0, \"ticks\": \"\"}, \"type\": \"choropleth\"}], \"contour\": [{\"colorbar\": {\"outlinewidth\": 0, \"ticks\": \"\"}, \"colorscale\": [[0.0, \"#0d0887\"], [0.1111111111111111, \"#46039f\"], [0.2222222222222222, \"#7201a8\"], [0.3333333333333333, \"#9c179e\"], [0.4444444444444444, \"#bd3786\"], [0.5555555555555556, \"#d8576b\"], [0.6666666666666666, \"#ed7953\"], [0.7777777777777778, \"#fb9f3a\"], [0.8888888888888888, \"#fdca26\"], [1.0, \"#f0f921\"]], \"type\": \"contour\"}], \"contourcarpet\": [{\"colorbar\": {\"outlinewidth\": 0, \"ticks\": \"\"}, \"type\": \"contourcarpet\"}], \"heatmap\": [{\"colorbar\": {\"outlinewidth\": 0, \"ticks\": \"\"}, \"colorscale\": [[0.0, \"#0d0887\"], [0.1111111111111111, \"#46039f\"], [0.2222222222222222, \"#7201a8\"], [0.3333333333333333, \"#9c179e\"], [0.4444444444444444, \"#bd3786\"], [0.5555555555555556, \"#d8576b\"], [0.6666666666666666, \"#ed7953\"], [0.7777777777777778, \"#fb9f3a\"], [0.8888888888888888, \"#fdca26\"], [1.0, \"#f0f921\"]], \"type\": \"heatmap\"}], \"heatmapgl\": [{\"colorbar\": {\"outlinewidth\": 0, \"ticks\": \"\"}, \"colorscale\": [[0.0, \"#0d0887\"], [0.1111111111111111, \"#46039f\"], [0.2222222222222222, \"#7201a8\"], [0.3333333333333333, \"#9c179e\"], [0.4444444444444444, \"#bd3786\"], [0.5555555555555556, \"#d8576b\"], [0.6666666666666666, \"#ed7953\"], [0.7777777777777778, \"#fb9f3a\"], [0.8888888888888888, \"#fdca26\"], [1.0, \"#f0f921\"]], \"type\": \"heatmapgl\"}], \"histogram\": [{\"marker\": {\"colorbar\": {\"outlinewidth\": 0, \"ticks\": \"\"}}, \"type\": \"histogram\"}], \"histogram2d\": [{\"colorbar\": {\"outlinewidth\": 0, \"ticks\": \"\"}, \"colorscale\": [[0.0, \"#0d0887\"], [0.1111111111111111, \"#46039f\"], [0.2222222222222222, \"#7201a8\"], [0.3333333333333333, \"#9c179e\"], [0.4444444444444444, \"#bd3786\"], [0.5555555555555556, \"#d8576b\"], [0.6666666666666666, \"#ed7953\"], [0.7777777777777778, \"#fb9f3a\"], [0.8888888888888888, \"#fdca26\"], [1.0, \"#f0f921\"]], \"type\": \"histogram2d\"}], \"histogram2dcontour\": [{\"colorbar\": {\"outlinewidth\": 0, \"ticks\": \"\"}, \"colorscale\": [[0.0, \"#0d0887\"], [0.1111111111111111, \"#46039f\"], [0.2222222222222222, \"#7201a8\"], [0.3333333333333333, \"#9c179e\"], [0.4444444444444444, \"#bd3786\"], [0.5555555555555556, \"#d8576b\"], [0.6666666666666666, \"#ed7953\"], [0.7777777777777778, \"#fb9f3a\"], [0.8888888888888888, \"#fdca26\"], [1.0, \"#f0f921\"]], \"type\": \"histogram2dcontour\"}], \"mesh3d\": [{\"colorbar\": {\"outlinewidth\": 0, \"ticks\": \"\"}, \"type\": \"mesh3d\"}], \"parcoords\": [{\"line\": {\"colorbar\": {\"outlinewidth\": 0, \"ticks\": \"\"}}, \"type\": \"parcoords\"}], \"pie\": [{\"automargin\": true, \"type\": \"pie\"}], \"scatter\": [{\"marker\": {\"colorbar\": {\"outlinewidth\": 0, \"ticks\": \"\"}}, \"type\": \"scatter\"}], \"scatter3d\": [{\"line\": {\"colorbar\": {\"outlinewidth\": 0, \"ticks\": \"\"}}, \"marker\": {\"colorbar\": {\"outlinewidth\": 0, \"ticks\": \"\"}}, \"type\": \"scatter3d\"}], \"scattercarpet\": [{\"marker\": {\"colorbar\": {\"outlinewidth\": 0, \"ticks\": \"\"}}, \"type\": \"scattercarpet\"}], \"scattergeo\": [{\"marker\": {\"colorbar\": {\"outlinewidth\": 0, \"ticks\": \"\"}}, \"type\": \"scattergeo\"}], \"scattergl\": [{\"marker\": {\"colorbar\": {\"outlinewidth\": 0, \"ticks\": \"\"}}, \"type\": \"scattergl\"}], \"scattermapbox\": [{\"marker\": {\"colorbar\": {\"outlinewidth\": 0, \"ticks\": \"\"}}, \"type\": \"scattermapbox\"}], \"scatterpolar\": [{\"marker\": {\"colorbar\": {\"outlinewidth\": 0, \"ticks\": \"\"}}, \"type\": \"scatterpolar\"}], \"scatterpolargl\": [{\"marker\": {\"colorbar\": {\"outlinewidth\": 0, \"ticks\": \"\"}}, \"type\": \"scatterpolargl\"}], \"scatterternary\": [{\"marker\": {\"colorbar\": {\"outlinewidth\": 0, \"ticks\": \"\"}}, \"type\": \"scatterternary\"}], \"surface\": [{\"colorbar\": {\"outlinewidth\": 0, \"ticks\": \"\"}, \"colorscale\": [[0.0, \"#0d0887\"], [0.1111111111111111, \"#46039f\"], [0.2222222222222222, \"#7201a8\"], [0.3333333333333333, \"#9c179e\"], [0.4444444444444444, \"#bd3786\"], [0.5555555555555556, \"#d8576b\"], [0.6666666666666666, \"#ed7953\"], [0.7777777777777778, \"#fb9f3a\"], [0.8888888888888888, \"#fdca26\"], [1.0, \"#f0f921\"]], \"type\": \"surface\"}], \"table\": [{\"cells\": {\"fill\": {\"color\": \"#EBF0F8\"}, \"line\": {\"color\": \"white\"}}, \"header\": {\"fill\": {\"color\": \"#C8D4E3\"}, \"line\": {\"color\": \"white\"}}, \"type\": \"table\"}]}, \"layout\": {\"annotationdefaults\": {\"arrowcolor\": \"#2a3f5f\", \"arrowhead\": 0, \"arrowwidth\": 1}, \"autotypenumbers\": \"strict\", \"coloraxis\": {\"colorbar\": {\"outlinewidth\": 0, \"ticks\": \"\"}}, \"colorscale\": {\"diverging\": [[0, \"#8e0152\"], [0.1, \"#c51b7d\"], [0.2, \"#de77ae\"], [0.3, \"#f1b6da\"], [0.4, \"#fde0ef\"], [0.5, \"#f7f7f7\"], [0.6, \"#e6f5d0\"], [0.7, \"#b8e186\"], [0.8, \"#7fbc41\"], [0.9, \"#4d9221\"], [1, \"#276419\"]], \"sequential\": [[0.0, \"#0d0887\"], [0.1111111111111111, \"#46039f\"], [0.2222222222222222, \"#7201a8\"], [0.3333333333333333, \"#9c179e\"], [0.4444444444444444, \"#bd3786\"], [0.5555555555555556, \"#d8576b\"], [0.6666666666666666, \"#ed7953\"], [0.7777777777777778, \"#fb9f3a\"], [0.8888888888888888, \"#fdca26\"], [1.0, \"#f0f921\"]], \"sequentialminus\": [[0.0, \"#0d0887\"], [0.1111111111111111, \"#46039f\"], [0.2222222222222222, \"#7201a8\"], [0.3333333333333333, \"#9c179e\"], [0.4444444444444444, \"#bd3786\"], [0.5555555555555556, \"#d8576b\"], [0.6666666666666666, \"#ed7953\"], [0.7777777777777778, \"#fb9f3a\"], [0.8888888888888888, \"#fdca26\"], [1.0, \"#f0f921\"]]}, \"colorway\": [\"#636efa\", \"#EF553B\", \"#00cc96\", \"#ab63fa\", \"#FFA15A\", \"#19d3f3\", \"#FF6692\", \"#B6E880\", \"#FF97FF\", \"#FECB52\"], \"font\": {\"color\": \"#2a3f5f\"}, \"geo\": {\"bgcolor\": \"white\", \"lakecolor\": \"white\", \"landcolor\": \"#E5ECF6\", \"showlakes\": true, \"showland\": true, \"subunitcolor\": \"white\"}, \"hoverlabel\": {\"align\": \"left\"}, \"hovermode\": \"closest\", \"mapbox\": {\"style\": \"light\"}, \"paper_bgcolor\": \"white\", \"plot_bgcolor\": \"#E5ECF6\", \"polar\": {\"angularaxis\": {\"gridcolor\": \"white\", \"linecolor\": \"white\", \"ticks\": \"\"}, \"bgcolor\": \"#E5ECF6\", \"radialaxis\": {\"gridcolor\": \"white\", \"linecolor\": \"white\", \"ticks\": \"\"}}, \"scene\": {\"xaxis\": {\"backgroundcolor\": \"#E5ECF6\", \"gridcolor\": \"white\", \"gridwidth\": 2, \"linecolor\": \"white\", \"showbackground\": true, \"ticks\": \"\", \"zerolinecolor\": \"white\"}, \"yaxis\": {\"backgroundcolor\": \"#E5ECF6\", \"gridcolor\": \"white\", \"gridwidth\": 2, \"linecolor\": \"white\", \"showbackground\": true, \"ticks\": \"\", \"zerolinecolor\": \"white\"}, \"zaxis\": {\"backgroundcolor\": \"#E5ECF6\", \"gridcolor\": \"white\", \"gridwidth\": 2, \"linecolor\": \"white\", \"showbackground\": true, \"ticks\": \"\", \"zerolinecolor\": \"white\"}}, \"shapedefaults\": {\"line\": {\"color\": \"#2a3f5f\"}}, \"ternary\": {\"aaxis\": {\"gridcolor\": \"white\", \"linecolor\": \"white\", \"ticks\": \"\"}, \"baxis\": {\"gridcolor\": \"white\", \"linecolor\": \"white\", \"ticks\": \"\"}, \"bgcolor\": \"#E5ECF6\", \"caxis\": {\"gridcolor\": \"white\", \"linecolor\": \"white\", \"ticks\": \"\"}}, \"title\": {\"x\": 0.05}, \"xaxis\": {\"automargin\": true, \"gridcolor\": \"white\", \"linecolor\": \"white\", \"ticks\": \"\", \"title\": {\"standoff\": 15}, \"zerolinecolor\": \"white\", \"zerolinewidth\": 2}, \"yaxis\": {\"automargin\": true, \"gridcolor\": \"white\", \"linecolor\": \"white\", \"ticks\": \"\", \"title\": {\"standoff\": 15}, \"zerolinecolor\": \"white\", \"zerolinewidth\": 2}}}, \"title\": {\"text\": \"Percent GME Change\"}, \"xaxis\": {\"anchor\": \"y\", \"domain\": [0.0, 1.0], \"gridcolor\": \"rgb(144, 145, 142)\", \"title\": {\"text\": \"Date\"}}, \"yaxis\": {\"anchor\": \"x\", \"domain\": [0.0, 1.0], \"gridcolor\": \"rgb(144, 145, 142)\", \"title\": {\"text\": \"percent change\"}}},                        {\"responsive\": true}                    ).then(function(){\n",
       "                            \n",
       "var gd = document.getElementById('c1629258-9d55-4abf-aad2-30a7e73d7451');\n",
       "var x = new MutationObserver(function (mutations, observer) {{\n",
       "        var display = window.getComputedStyle(gd).display;\n",
       "        if (!display || display === 'none') {{\n",
       "            console.log([gd, 'removed!']);\n",
       "            Plotly.purge(gd);\n",
       "            observer.disconnect();\n",
       "        }}\n",
       "}});\n",
       "\n",
       "// Listen for the removal of the full notebook cells\n",
       "var notebookContainer = gd.closest('#notebook-container');\n",
       "if (notebookContainer) {{\n",
       "    x.observe(notebookContainer, {childList: true});\n",
       "}}\n",
       "\n",
       "// Listen for the clearing of the current output cell\n",
       "var outputEl = gd.closest('.output');\n",
       "if (outputEl) {{\n",
       "    x.observe(outputEl, {childList: true});\n",
       "}}\n",
       "\n",
       "                        })                };                });            </script>        </div>"
      ]
     },
     "metadata": {},
     "output_type": "display_data"
    }
   ],
   "source": [
    "fig = px.bar(gmefull, x='date', y=\"percent change\", \n",
    "             title='Percent GME Change',\n",
    "             labels = {\n",
    "                 'date':'Date',\n",
    "                 'count':'Percent Change'})\n",
    "fig.update_traces(marker_color='rgb(73, 157, 222)',\n",
    "                  marker_line_width=0)\n",
    "\n",
    "fig.layout.plot_bgcolor='rgb(84, 85, 87)'\n",
    "fig.layout.yaxis.gridcolor='rgb(144, 145, 142)'\n",
    "fig.layout.xaxis.gridcolor='rgb(144, 145, 142)'\n",
    "fig.show()\n",
    "fig.write_html('Percentage GME Change.html')\n",
    "fig.write_image(\"Percentage GME Change.png\")"
   ]
  },
  {
   "cell_type": "code",
   "execution_count": 61,
   "metadata": {},
   "outputs": [
    {
     "data": {
      "text/plain": [
       "SpearmanrResult(correlation=-0.0877017386768316, pvalue=0.6449129625582433)"
      ]
     },
     "execution_count": 61,
     "metadata": {},
     "output_type": "execute_result"
    }
   ],
   "source": [
    "s_corr = stats.spearmanr(growth_vs_hr['count'], growth_vs_hr['percent change'])\n",
    "s_corr"
   ]
  },
  {
   "cell_type": "code",
   "execution_count": 238,
   "metadata": {},
   "outputs": [
    {
     "data": {
      "application/vnd.plotly.v1+json": {
       "config": {
        "plotlyServerURL": "https://plot.ly"
       },
       "data": [
        {
         "marker": {
          "color": "rgb(73, 157, 222)"
         },
         "mode": "markers",
         "type": "scatter",
         "x": [
          0,
          5,
          5,
          6,
          4,
          4,
          30,
          3,
          18,
          64,
          102,
          47,
          49,
          39,
          35,
          246,
          231,
          44,
          3879,
          1356,
          990,
          1718,
          628,
          306,
          0,
          18,
          99,
          76,
          72,
          47
         ],
         "y": [
          -0.02318711460845185,
          -0.10482527379542433,
          -0.007464676298533086,
          0.07360588247436478,
          -0.022189279390729896,
          -0.0003535518679914154,
          0.16320284530454346,
          -0.029536083673011714,
          0.5333758815029529,
          0.2557243332910836,
          -0.1752407646528419,
          0.01066874626692175,
          0.02930185831690938,
          0.16322897506664075,
          0.3993728122315999,
          0.3950050583677437,
          0.9965087693252643,
          0.47986126111842015,
          0.3885129757468908,
          -0.059392773995687737,
          -0.5808845232590959,
          -0.5808652393636803,
          0.14639256787857413,
          -0.6154141008839012,
          0.32833177366990884,
          -0.11799509058284577,
          -0.16214050501672164,
          0.0366306777965246,
          0.03526111899331575,
          0.08481165392182707
         ]
        }
       ],
       "layout": {
        "plot_bgcolor": "rgb(84, 85, 87)",
        "template": {
         "data": {
          "bar": [
           {
            "error_x": {
             "color": "#2a3f5f"
            },
            "error_y": {
             "color": "#2a3f5f"
            },
            "marker": {
             "line": {
              "color": "#E5ECF6",
              "width": 0.5
             }
            },
            "type": "bar"
           }
          ],
          "barpolar": [
           {
            "marker": {
             "line": {
              "color": "#E5ECF6",
              "width": 0.5
             }
            },
            "type": "barpolar"
           }
          ],
          "carpet": [
           {
            "aaxis": {
             "endlinecolor": "#2a3f5f",
             "gridcolor": "white",
             "linecolor": "white",
             "minorgridcolor": "white",
             "startlinecolor": "#2a3f5f"
            },
            "baxis": {
             "endlinecolor": "#2a3f5f",
             "gridcolor": "white",
             "linecolor": "white",
             "minorgridcolor": "white",
             "startlinecolor": "#2a3f5f"
            },
            "type": "carpet"
           }
          ],
          "choropleth": [
           {
            "colorbar": {
             "outlinewidth": 0,
             "ticks": ""
            },
            "type": "choropleth"
           }
          ],
          "contour": [
           {
            "colorbar": {
             "outlinewidth": 0,
             "ticks": ""
            },
            "colorscale": [
             [
              0,
              "#0d0887"
             ],
             [
              0.1111111111111111,
              "#46039f"
             ],
             [
              0.2222222222222222,
              "#7201a8"
             ],
             [
              0.3333333333333333,
              "#9c179e"
             ],
             [
              0.4444444444444444,
              "#bd3786"
             ],
             [
              0.5555555555555556,
              "#d8576b"
             ],
             [
              0.6666666666666666,
              "#ed7953"
             ],
             [
              0.7777777777777778,
              "#fb9f3a"
             ],
             [
              0.8888888888888888,
              "#fdca26"
             ],
             [
              1,
              "#f0f921"
             ]
            ],
            "type": "contour"
           }
          ],
          "contourcarpet": [
           {
            "colorbar": {
             "outlinewidth": 0,
             "ticks": ""
            },
            "type": "contourcarpet"
           }
          ],
          "heatmap": [
           {
            "colorbar": {
             "outlinewidth": 0,
             "ticks": ""
            },
            "colorscale": [
             [
              0,
              "#0d0887"
             ],
             [
              0.1111111111111111,
              "#46039f"
             ],
             [
              0.2222222222222222,
              "#7201a8"
             ],
             [
              0.3333333333333333,
              "#9c179e"
             ],
             [
              0.4444444444444444,
              "#bd3786"
             ],
             [
              0.5555555555555556,
              "#d8576b"
             ],
             [
              0.6666666666666666,
              "#ed7953"
             ],
             [
              0.7777777777777778,
              "#fb9f3a"
             ],
             [
              0.8888888888888888,
              "#fdca26"
             ],
             [
              1,
              "#f0f921"
             ]
            ],
            "type": "heatmap"
           }
          ],
          "heatmapgl": [
           {
            "colorbar": {
             "outlinewidth": 0,
             "ticks": ""
            },
            "colorscale": [
             [
              0,
              "#0d0887"
             ],
             [
              0.1111111111111111,
              "#46039f"
             ],
             [
              0.2222222222222222,
              "#7201a8"
             ],
             [
              0.3333333333333333,
              "#9c179e"
             ],
             [
              0.4444444444444444,
              "#bd3786"
             ],
             [
              0.5555555555555556,
              "#d8576b"
             ],
             [
              0.6666666666666666,
              "#ed7953"
             ],
             [
              0.7777777777777778,
              "#fb9f3a"
             ],
             [
              0.8888888888888888,
              "#fdca26"
             ],
             [
              1,
              "#f0f921"
             ]
            ],
            "type": "heatmapgl"
           }
          ],
          "histogram": [
           {
            "marker": {
             "colorbar": {
              "outlinewidth": 0,
              "ticks": ""
             }
            },
            "type": "histogram"
           }
          ],
          "histogram2d": [
           {
            "colorbar": {
             "outlinewidth": 0,
             "ticks": ""
            },
            "colorscale": [
             [
              0,
              "#0d0887"
             ],
             [
              0.1111111111111111,
              "#46039f"
             ],
             [
              0.2222222222222222,
              "#7201a8"
             ],
             [
              0.3333333333333333,
              "#9c179e"
             ],
             [
              0.4444444444444444,
              "#bd3786"
             ],
             [
              0.5555555555555556,
              "#d8576b"
             ],
             [
              0.6666666666666666,
              "#ed7953"
             ],
             [
              0.7777777777777778,
              "#fb9f3a"
             ],
             [
              0.8888888888888888,
              "#fdca26"
             ],
             [
              1,
              "#f0f921"
             ]
            ],
            "type": "histogram2d"
           }
          ],
          "histogram2dcontour": [
           {
            "colorbar": {
             "outlinewidth": 0,
             "ticks": ""
            },
            "colorscale": [
             [
              0,
              "#0d0887"
             ],
             [
              0.1111111111111111,
              "#46039f"
             ],
             [
              0.2222222222222222,
              "#7201a8"
             ],
             [
              0.3333333333333333,
              "#9c179e"
             ],
             [
              0.4444444444444444,
              "#bd3786"
             ],
             [
              0.5555555555555556,
              "#d8576b"
             ],
             [
              0.6666666666666666,
              "#ed7953"
             ],
             [
              0.7777777777777778,
              "#fb9f3a"
             ],
             [
              0.8888888888888888,
              "#fdca26"
             ],
             [
              1,
              "#f0f921"
             ]
            ],
            "type": "histogram2dcontour"
           }
          ],
          "mesh3d": [
           {
            "colorbar": {
             "outlinewidth": 0,
             "ticks": ""
            },
            "type": "mesh3d"
           }
          ],
          "parcoords": [
           {
            "line": {
             "colorbar": {
              "outlinewidth": 0,
              "ticks": ""
             }
            },
            "type": "parcoords"
           }
          ],
          "pie": [
           {
            "automargin": true,
            "type": "pie"
           }
          ],
          "scatter": [
           {
            "marker": {
             "colorbar": {
              "outlinewidth": 0,
              "ticks": ""
             }
            },
            "type": "scatter"
           }
          ],
          "scatter3d": [
           {
            "line": {
             "colorbar": {
              "outlinewidth": 0,
              "ticks": ""
             }
            },
            "marker": {
             "colorbar": {
              "outlinewidth": 0,
              "ticks": ""
             }
            },
            "type": "scatter3d"
           }
          ],
          "scattercarpet": [
           {
            "marker": {
             "colorbar": {
              "outlinewidth": 0,
              "ticks": ""
             }
            },
            "type": "scattercarpet"
           }
          ],
          "scattergeo": [
           {
            "marker": {
             "colorbar": {
              "outlinewidth": 0,
              "ticks": ""
             }
            },
            "type": "scattergeo"
           }
          ],
          "scattergl": [
           {
            "marker": {
             "colorbar": {
              "outlinewidth": 0,
              "ticks": ""
             }
            },
            "type": "scattergl"
           }
          ],
          "scattermapbox": [
           {
            "marker": {
             "colorbar": {
              "outlinewidth": 0,
              "ticks": ""
             }
            },
            "type": "scattermapbox"
           }
          ],
          "scatterpolar": [
           {
            "marker": {
             "colorbar": {
              "outlinewidth": 0,
              "ticks": ""
             }
            },
            "type": "scatterpolar"
           }
          ],
          "scatterpolargl": [
           {
            "marker": {
             "colorbar": {
              "outlinewidth": 0,
              "ticks": ""
             }
            },
            "type": "scatterpolargl"
           }
          ],
          "scatterternary": [
           {
            "marker": {
             "colorbar": {
              "outlinewidth": 0,
              "ticks": ""
             }
            },
            "type": "scatterternary"
           }
          ],
          "surface": [
           {
            "colorbar": {
             "outlinewidth": 0,
             "ticks": ""
            },
            "colorscale": [
             [
              0,
              "#0d0887"
             ],
             [
              0.1111111111111111,
              "#46039f"
             ],
             [
              0.2222222222222222,
              "#7201a8"
             ],
             [
              0.3333333333333333,
              "#9c179e"
             ],
             [
              0.4444444444444444,
              "#bd3786"
             ],
             [
              0.5555555555555556,
              "#d8576b"
             ],
             [
              0.6666666666666666,
              "#ed7953"
             ],
             [
              0.7777777777777778,
              "#fb9f3a"
             ],
             [
              0.8888888888888888,
              "#fdca26"
             ],
             [
              1,
              "#f0f921"
             ]
            ],
            "type": "surface"
           }
          ],
          "table": [
           {
            "cells": {
             "fill": {
              "color": "#EBF0F8"
             },
             "line": {
              "color": "white"
             }
            },
            "header": {
             "fill": {
              "color": "#C8D4E3"
             },
             "line": {
              "color": "white"
             }
            },
            "type": "table"
           }
          ]
         },
         "layout": {
          "annotationdefaults": {
           "arrowcolor": "#2a3f5f",
           "arrowhead": 0,
           "arrowwidth": 1
          },
          "autotypenumbers": "strict",
          "coloraxis": {
           "colorbar": {
            "outlinewidth": 0,
            "ticks": ""
           }
          },
          "colorscale": {
           "diverging": [
            [
             0,
             "#8e0152"
            ],
            [
             0.1,
             "#c51b7d"
            ],
            [
             0.2,
             "#de77ae"
            ],
            [
             0.3,
             "#f1b6da"
            ],
            [
             0.4,
             "#fde0ef"
            ],
            [
             0.5,
             "#f7f7f7"
            ],
            [
             0.6,
             "#e6f5d0"
            ],
            [
             0.7,
             "#b8e186"
            ],
            [
             0.8,
             "#7fbc41"
            ],
            [
             0.9,
             "#4d9221"
            ],
            [
             1,
             "#276419"
            ]
           ],
           "sequential": [
            [
             0,
             "#0d0887"
            ],
            [
             0.1111111111111111,
             "#46039f"
            ],
            [
             0.2222222222222222,
             "#7201a8"
            ],
            [
             0.3333333333333333,
             "#9c179e"
            ],
            [
             0.4444444444444444,
             "#bd3786"
            ],
            [
             0.5555555555555556,
             "#d8576b"
            ],
            [
             0.6666666666666666,
             "#ed7953"
            ],
            [
             0.7777777777777778,
             "#fb9f3a"
            ],
            [
             0.8888888888888888,
             "#fdca26"
            ],
            [
             1,
             "#f0f921"
            ]
           ],
           "sequentialminus": [
            [
             0,
             "#0d0887"
            ],
            [
             0.1111111111111111,
             "#46039f"
            ],
            [
             0.2222222222222222,
             "#7201a8"
            ],
            [
             0.3333333333333333,
             "#9c179e"
            ],
            [
             0.4444444444444444,
             "#bd3786"
            ],
            [
             0.5555555555555556,
             "#d8576b"
            ],
            [
             0.6666666666666666,
             "#ed7953"
            ],
            [
             0.7777777777777778,
             "#fb9f3a"
            ],
            [
             0.8888888888888888,
             "#fdca26"
            ],
            [
             1,
             "#f0f921"
            ]
           ]
          },
          "colorway": [
           "#636efa",
           "#EF553B",
           "#00cc96",
           "#ab63fa",
           "#FFA15A",
           "#19d3f3",
           "#FF6692",
           "#B6E880",
           "#FF97FF",
           "#FECB52"
          ],
          "font": {
           "color": "#2a3f5f"
          },
          "geo": {
           "bgcolor": "white",
           "lakecolor": "white",
           "landcolor": "#E5ECF6",
           "showlakes": true,
           "showland": true,
           "subunitcolor": "white"
          },
          "hoverlabel": {
           "align": "left"
          },
          "hovermode": "closest",
          "mapbox": {
           "style": "light"
          },
          "paper_bgcolor": "white",
          "plot_bgcolor": "#E5ECF6",
          "polar": {
           "angularaxis": {
            "gridcolor": "white",
            "linecolor": "white",
            "ticks": ""
           },
           "bgcolor": "#E5ECF6",
           "radialaxis": {
            "gridcolor": "white",
            "linecolor": "white",
            "ticks": ""
           }
          },
          "scene": {
           "xaxis": {
            "backgroundcolor": "#E5ECF6",
            "gridcolor": "white",
            "gridwidth": 2,
            "linecolor": "white",
            "showbackground": true,
            "ticks": "",
            "zerolinecolor": "white"
           },
           "yaxis": {
            "backgroundcolor": "#E5ECF6",
            "gridcolor": "white",
            "gridwidth": 2,
            "linecolor": "white",
            "showbackground": true,
            "ticks": "",
            "zerolinecolor": "white"
           },
           "zaxis": {
            "backgroundcolor": "#E5ECF6",
            "gridcolor": "white",
            "gridwidth": 2,
            "linecolor": "white",
            "showbackground": true,
            "ticks": "",
            "zerolinecolor": "white"
           }
          },
          "shapedefaults": {
           "line": {
            "color": "#2a3f5f"
           }
          },
          "ternary": {
           "aaxis": {
            "gridcolor": "white",
            "linecolor": "white",
            "ticks": ""
           },
           "baxis": {
            "gridcolor": "white",
            "linecolor": "white",
            "ticks": ""
           },
           "bgcolor": "#E5ECF6",
           "caxis": {
            "gridcolor": "white",
            "linecolor": "white",
            "ticks": ""
           }
          },
          "title": {
           "x": 0.05
          },
          "xaxis": {
           "automargin": true,
           "gridcolor": "white",
           "linecolor": "white",
           "ticks": "",
           "title": {
            "standoff": 15
           },
           "zerolinecolor": "white",
           "zerolinewidth": 2
          },
          "yaxis": {
           "automargin": true,
           "gridcolor": "white",
           "linecolor": "white",
           "ticks": "",
           "title": {
            "standoff": 15
           },
           "zerolinecolor": "white",
           "zerolinewidth": 2
          }
         }
        },
        "title": {
         "text": "Early Mentions vs. Daily Stock Change"
        },
        "xaxis": {
         "gridcolor": "rgb(144, 145, 142)",
         "title": {
          "text": "Mentions"
         }
        },
        "yaxis": {
         "gridcolor": "rgb(144, 145, 142)",
         "title": {
          "text": "Growth"
         }
        }
       }
      },
      "text/html": [
       "<div>                            <div id=\"a49afb0f-32a9-41a8-a61a-e77be2518455\" class=\"plotly-graph-div\" style=\"height:525px; width:100%;\"></div>            <script type=\"text/javascript\">                require([\"plotly\"], function(Plotly) {                    window.PLOTLYENV=window.PLOTLYENV || {};                                    if (document.getElementById(\"a49afb0f-32a9-41a8-a61a-e77be2518455\")) {                    Plotly.newPlot(                        \"a49afb0f-32a9-41a8-a61a-e77be2518455\",                        [{\"marker\": {\"color\": \"rgb(73, 157, 222)\"}, \"mode\": \"markers\", \"type\": \"scatter\", \"x\": [0.0, 5.0, 5.0, 6.0, 4.0, 4.0, 30.0, 3.0, 18.0, 64.0, 102.0, 47.0, 49.0, 39.0, 35.0, 246.0, 231.0, 44.0, 3879.0, 1356.0, 990.0, 1718.0, 628.0, 306.0, 0.0, 18.0, 99.0, 76.0, 72.0, 47.0], \"y\": [-0.02318711460845185, -0.10482527379542433, -0.007464676298533086, 0.07360588247436478, -0.022189279390729896, -0.0003535518679914154, 0.16320284530454346, -0.029536083673011714, 0.5333758815029529, 0.2557243332910836, -0.1752407646528419, 0.01066874626692175, 0.02930185831690938, 0.16322897506664075, 0.3993728122315999, 0.3950050583677437, 0.9965087693252643, 0.47986126111842015, 0.3885129757468908, -0.059392773995687737, -0.5808845232590959, -0.5808652393636803, 0.14639256787857413, -0.6154141008839012, 0.32833177366990884, -0.11799509058284577, -0.16214050501672164, 0.0366306777965246, 0.03526111899331575, 0.08481165392182707]}],                        {\"plot_bgcolor\": \"rgb(84, 85, 87)\", \"template\": {\"data\": {\"bar\": [{\"error_x\": {\"color\": \"#2a3f5f\"}, \"error_y\": {\"color\": \"#2a3f5f\"}, \"marker\": {\"line\": {\"color\": \"#E5ECF6\", \"width\": 0.5}}, \"type\": \"bar\"}], \"barpolar\": [{\"marker\": {\"line\": {\"color\": \"#E5ECF6\", \"width\": 0.5}}, \"type\": \"barpolar\"}], \"carpet\": [{\"aaxis\": {\"endlinecolor\": \"#2a3f5f\", \"gridcolor\": \"white\", \"linecolor\": \"white\", \"minorgridcolor\": \"white\", \"startlinecolor\": \"#2a3f5f\"}, \"baxis\": {\"endlinecolor\": \"#2a3f5f\", \"gridcolor\": \"white\", \"linecolor\": \"white\", \"minorgridcolor\": \"white\", \"startlinecolor\": \"#2a3f5f\"}, \"type\": \"carpet\"}], \"choropleth\": [{\"colorbar\": {\"outlinewidth\": 0, \"ticks\": \"\"}, \"type\": \"choropleth\"}], \"contour\": [{\"colorbar\": {\"outlinewidth\": 0, \"ticks\": \"\"}, \"colorscale\": [[0.0, \"#0d0887\"], [0.1111111111111111, \"#46039f\"], [0.2222222222222222, \"#7201a8\"], [0.3333333333333333, \"#9c179e\"], [0.4444444444444444, \"#bd3786\"], [0.5555555555555556, \"#d8576b\"], [0.6666666666666666, \"#ed7953\"], [0.7777777777777778, \"#fb9f3a\"], [0.8888888888888888, \"#fdca26\"], [1.0, \"#f0f921\"]], \"type\": \"contour\"}], \"contourcarpet\": [{\"colorbar\": {\"outlinewidth\": 0, \"ticks\": \"\"}, \"type\": \"contourcarpet\"}], \"heatmap\": [{\"colorbar\": {\"outlinewidth\": 0, \"ticks\": \"\"}, \"colorscale\": [[0.0, \"#0d0887\"], [0.1111111111111111, \"#46039f\"], [0.2222222222222222, \"#7201a8\"], [0.3333333333333333, \"#9c179e\"], [0.4444444444444444, \"#bd3786\"], [0.5555555555555556, \"#d8576b\"], [0.6666666666666666, \"#ed7953\"], [0.7777777777777778, \"#fb9f3a\"], [0.8888888888888888, \"#fdca26\"], [1.0, \"#f0f921\"]], \"type\": \"heatmap\"}], \"heatmapgl\": [{\"colorbar\": {\"outlinewidth\": 0, \"ticks\": \"\"}, \"colorscale\": [[0.0, \"#0d0887\"], [0.1111111111111111, \"#46039f\"], [0.2222222222222222, \"#7201a8\"], [0.3333333333333333, \"#9c179e\"], [0.4444444444444444, \"#bd3786\"], [0.5555555555555556, \"#d8576b\"], [0.6666666666666666, \"#ed7953\"], [0.7777777777777778, \"#fb9f3a\"], [0.8888888888888888, \"#fdca26\"], [1.0, \"#f0f921\"]], \"type\": \"heatmapgl\"}], \"histogram\": [{\"marker\": {\"colorbar\": {\"outlinewidth\": 0, \"ticks\": \"\"}}, \"type\": \"histogram\"}], \"histogram2d\": [{\"colorbar\": {\"outlinewidth\": 0, \"ticks\": \"\"}, \"colorscale\": [[0.0, \"#0d0887\"], [0.1111111111111111, \"#46039f\"], [0.2222222222222222, \"#7201a8\"], [0.3333333333333333, \"#9c179e\"], [0.4444444444444444, \"#bd3786\"], [0.5555555555555556, \"#d8576b\"], [0.6666666666666666, \"#ed7953\"], [0.7777777777777778, \"#fb9f3a\"], [0.8888888888888888, \"#fdca26\"], [1.0, \"#f0f921\"]], \"type\": \"histogram2d\"}], \"histogram2dcontour\": [{\"colorbar\": {\"outlinewidth\": 0, \"ticks\": \"\"}, \"colorscale\": [[0.0, \"#0d0887\"], [0.1111111111111111, \"#46039f\"], [0.2222222222222222, \"#7201a8\"], [0.3333333333333333, \"#9c179e\"], [0.4444444444444444, \"#bd3786\"], [0.5555555555555556, \"#d8576b\"], [0.6666666666666666, \"#ed7953\"], [0.7777777777777778, \"#fb9f3a\"], [0.8888888888888888, \"#fdca26\"], [1.0, \"#f0f921\"]], \"type\": \"histogram2dcontour\"}], \"mesh3d\": [{\"colorbar\": {\"outlinewidth\": 0, \"ticks\": \"\"}, \"type\": \"mesh3d\"}], \"parcoords\": [{\"line\": {\"colorbar\": {\"outlinewidth\": 0, \"ticks\": \"\"}}, \"type\": \"parcoords\"}], \"pie\": [{\"automargin\": true, \"type\": \"pie\"}], \"scatter\": [{\"marker\": {\"colorbar\": {\"outlinewidth\": 0, \"ticks\": \"\"}}, \"type\": \"scatter\"}], \"scatter3d\": [{\"line\": {\"colorbar\": {\"outlinewidth\": 0, \"ticks\": \"\"}}, \"marker\": {\"colorbar\": {\"outlinewidth\": 0, \"ticks\": \"\"}}, \"type\": \"scatter3d\"}], \"scattercarpet\": [{\"marker\": {\"colorbar\": {\"outlinewidth\": 0, \"ticks\": \"\"}}, \"type\": \"scattercarpet\"}], \"scattergeo\": [{\"marker\": {\"colorbar\": {\"outlinewidth\": 0, \"ticks\": \"\"}}, \"type\": \"scattergeo\"}], \"scattergl\": [{\"marker\": {\"colorbar\": {\"outlinewidth\": 0, \"ticks\": \"\"}}, \"type\": \"scattergl\"}], \"scattermapbox\": [{\"marker\": {\"colorbar\": {\"outlinewidth\": 0, \"ticks\": \"\"}}, \"type\": \"scattermapbox\"}], \"scatterpolar\": [{\"marker\": {\"colorbar\": {\"outlinewidth\": 0, \"ticks\": \"\"}}, \"type\": \"scatterpolar\"}], \"scatterpolargl\": [{\"marker\": {\"colorbar\": {\"outlinewidth\": 0, \"ticks\": \"\"}}, \"type\": \"scatterpolargl\"}], \"scatterternary\": [{\"marker\": {\"colorbar\": {\"outlinewidth\": 0, \"ticks\": \"\"}}, \"type\": \"scatterternary\"}], \"surface\": [{\"colorbar\": {\"outlinewidth\": 0, \"ticks\": \"\"}, \"colorscale\": [[0.0, \"#0d0887\"], [0.1111111111111111, \"#46039f\"], [0.2222222222222222, \"#7201a8\"], [0.3333333333333333, \"#9c179e\"], [0.4444444444444444, \"#bd3786\"], [0.5555555555555556, \"#d8576b\"], [0.6666666666666666, \"#ed7953\"], [0.7777777777777778, \"#fb9f3a\"], [0.8888888888888888, \"#fdca26\"], [1.0, \"#f0f921\"]], \"type\": \"surface\"}], \"table\": [{\"cells\": {\"fill\": {\"color\": \"#EBF0F8\"}, \"line\": {\"color\": \"white\"}}, \"header\": {\"fill\": {\"color\": \"#C8D4E3\"}, \"line\": {\"color\": \"white\"}}, \"type\": \"table\"}]}, \"layout\": {\"annotationdefaults\": {\"arrowcolor\": \"#2a3f5f\", \"arrowhead\": 0, \"arrowwidth\": 1}, \"autotypenumbers\": \"strict\", \"coloraxis\": {\"colorbar\": {\"outlinewidth\": 0, \"ticks\": \"\"}}, \"colorscale\": {\"diverging\": [[0, \"#8e0152\"], [0.1, \"#c51b7d\"], [0.2, \"#de77ae\"], [0.3, \"#f1b6da\"], [0.4, \"#fde0ef\"], [0.5, \"#f7f7f7\"], [0.6, \"#e6f5d0\"], [0.7, \"#b8e186\"], [0.8, \"#7fbc41\"], [0.9, \"#4d9221\"], [1, \"#276419\"]], \"sequential\": [[0.0, \"#0d0887\"], [0.1111111111111111, \"#46039f\"], [0.2222222222222222, \"#7201a8\"], [0.3333333333333333, \"#9c179e\"], [0.4444444444444444, \"#bd3786\"], [0.5555555555555556, \"#d8576b\"], [0.6666666666666666, \"#ed7953\"], [0.7777777777777778, \"#fb9f3a\"], [0.8888888888888888, \"#fdca26\"], [1.0, \"#f0f921\"]], \"sequentialminus\": [[0.0, \"#0d0887\"], [0.1111111111111111, \"#46039f\"], [0.2222222222222222, \"#7201a8\"], [0.3333333333333333, \"#9c179e\"], [0.4444444444444444, \"#bd3786\"], [0.5555555555555556, \"#d8576b\"], [0.6666666666666666, \"#ed7953\"], [0.7777777777777778, \"#fb9f3a\"], [0.8888888888888888, \"#fdca26\"], [1.0, \"#f0f921\"]]}, \"colorway\": [\"#636efa\", \"#EF553B\", \"#00cc96\", \"#ab63fa\", \"#FFA15A\", \"#19d3f3\", \"#FF6692\", \"#B6E880\", \"#FF97FF\", \"#FECB52\"], \"font\": {\"color\": \"#2a3f5f\"}, \"geo\": {\"bgcolor\": \"white\", \"lakecolor\": \"white\", \"landcolor\": \"#E5ECF6\", \"showlakes\": true, \"showland\": true, \"subunitcolor\": \"white\"}, \"hoverlabel\": {\"align\": \"left\"}, \"hovermode\": \"closest\", \"mapbox\": {\"style\": \"light\"}, \"paper_bgcolor\": \"white\", \"plot_bgcolor\": \"#E5ECF6\", \"polar\": {\"angularaxis\": {\"gridcolor\": \"white\", \"linecolor\": \"white\", \"ticks\": \"\"}, \"bgcolor\": \"#E5ECF6\", \"radialaxis\": {\"gridcolor\": \"white\", \"linecolor\": \"white\", \"ticks\": \"\"}}, \"scene\": {\"xaxis\": {\"backgroundcolor\": \"#E5ECF6\", \"gridcolor\": \"white\", \"gridwidth\": 2, \"linecolor\": \"white\", \"showbackground\": true, \"ticks\": \"\", \"zerolinecolor\": \"white\"}, \"yaxis\": {\"backgroundcolor\": \"#E5ECF6\", \"gridcolor\": \"white\", \"gridwidth\": 2, \"linecolor\": \"white\", \"showbackground\": true, \"ticks\": \"\", \"zerolinecolor\": \"white\"}, \"zaxis\": {\"backgroundcolor\": \"#E5ECF6\", \"gridcolor\": \"white\", \"gridwidth\": 2, \"linecolor\": \"white\", \"showbackground\": true, \"ticks\": \"\", \"zerolinecolor\": \"white\"}}, \"shapedefaults\": {\"line\": {\"color\": \"#2a3f5f\"}}, \"ternary\": {\"aaxis\": {\"gridcolor\": \"white\", \"linecolor\": \"white\", \"ticks\": \"\"}, \"baxis\": {\"gridcolor\": \"white\", \"linecolor\": \"white\", \"ticks\": \"\"}, \"bgcolor\": \"#E5ECF6\", \"caxis\": {\"gridcolor\": \"white\", \"linecolor\": \"white\", \"ticks\": \"\"}}, \"title\": {\"x\": 0.05}, \"xaxis\": {\"automargin\": true, \"gridcolor\": \"white\", \"linecolor\": \"white\", \"ticks\": \"\", \"title\": {\"standoff\": 15}, \"zerolinecolor\": \"white\", \"zerolinewidth\": 2}, \"yaxis\": {\"automargin\": true, \"gridcolor\": \"white\", \"linecolor\": \"white\", \"ticks\": \"\", \"title\": {\"standoff\": 15}, \"zerolinecolor\": \"white\", \"zerolinewidth\": 2}}}, \"title\": {\"text\": \"Early Mentions vs. Daily Stock Change\"}, \"xaxis\": {\"gridcolor\": \"rgb(144, 145, 142)\", \"title\": {\"text\": \"Mentions\"}}, \"yaxis\": {\"gridcolor\": \"rgb(144, 145, 142)\", \"title\": {\"text\": \"Growth\"}}},                        {\"responsive\": true}                    ).then(function(){\n",
       "                            \n",
       "var gd = document.getElementById('a49afb0f-32a9-41a8-a61a-e77be2518455');\n",
       "var x = new MutationObserver(function (mutations, observer) {{\n",
       "        var display = window.getComputedStyle(gd).display;\n",
       "        if (!display || display === 'none') {{\n",
       "            console.log([gd, 'removed!']);\n",
       "            Plotly.purge(gd);\n",
       "            observer.disconnect();\n",
       "        }}\n",
       "}});\n",
       "\n",
       "// Listen for the removal of the full notebook cells\n",
       "var notebookContainer = gd.closest('#notebook-container');\n",
       "if (notebookContainer) {{\n",
       "    x.observe(notebookContainer, {childList: true});\n",
       "}}\n",
       "\n",
       "// Listen for the clearing of the current output cell\n",
       "var outputEl = gd.closest('.output');\n",
       "if (outputEl) {{\n",
       "    x.observe(outputEl, {childList: true});\n",
       "}}\n",
       "\n",
       "                        })                };                });            </script>        </div>"
      ]
     },
     "metadata": {},
     "output_type": "display_data"
    }
   ],
   "source": [
    "fig = go.Figure(data=go.Scatter(\n",
    "    x=growth_vs_hr['count'],\n",
    "    y=growth_vs_hr['percent change'],\n",
    "    mode='markers',\n",
    "    marker=dict(color='rgb(73, 157, 222)',\n",
    "               )\n",
    "))\n",
    "fig.update_layout(\n",
    "    title_text=\"Early Mentions vs. Daily Stock Change\")\n",
    "fig.update_xaxes(title_text=\"Mentions\")\n",
    "fig.update_yaxes(title_text=\"Growth\")\n",
    "fig.layout.plot_bgcolor='rgb(84, 85, 87)'\n",
    "fig.layout.yaxis.gridcolor='rgb(144, 145, 142)'\n",
    "fig.layout.xaxis.gridcolor='rgb(144, 145, 142)'\n",
    "fig.show()\n",
    "fig.write_html('Early Mentions vs Daily Stock Change.html')\n",
    "fig.write_image(\"Early Mentions vs Daily Stock Change.png\")"
   ]
  },
  {
   "cell_type": "code",
   "execution_count": 63,
   "metadata": {
    "scrolled": true
   },
   "outputs": [
    {
     "name": "stderr",
     "output_type": "stream",
     "text": [
      "/home/daniel/anaconda3/lib/python3.7/site-packages/ipykernel_launcher.py:13: SettingWithCopyWarning:\n",
      "\n",
      "\n",
      "A value is trying to be set on a copy of a slice from a DataFrame.\n",
      "Try using .loc[row_indexer,col_indexer] = value instead\n",
      "\n",
      "See the caveats in the documentation: https://pandas.pydata.org/pandas-docs/stable/user_guide/indexing.html#returning-a-view-versus-a-copy\n",
      "\n",
      "/home/daniel/anaconda3/lib/python3.7/site-packages/ipykernel_launcher.py:14: SettingWithCopyWarning:\n",
      "\n",
      "\n",
      "A value is trying to be set on a copy of a slice from a DataFrame.\n",
      "Try using .loc[row_indexer,col_indexer] = value instead\n",
      "\n",
      "See the caveats in the documentation: https://pandas.pydata.org/pandas-docs/stable/user_guide/indexing.html#returning-a-view-versus-a-copy\n",
      "\n"
     ]
    }
   ],
   "source": [
    "### I cannot reject the null hypothesis. ###\n",
    "### The amount of mentions in the morning does not gave a positive or negative impact on the closing price of a stock###\n",
    "### HO: The number of mentions in the last two hours of trading has no influence of opening prices. ###\n",
    "### H1: The number of mentions in the last two hours of trading influences the opening price next day ###\n",
    "\n",
    "\n",
    "last_hours = gmefull[(gmefull['time'] == '14:00:00') | ((gmefull['time'] == '16:00:00'))]\n",
    "last_hours = last_hours.groupby('day').sum()\n",
    "last_hours = last_hours[['count']]\n",
    "\n",
    "\n",
    "gme_daily_shifted = gme_daily[['date' , '1. open', '4. close' ]]\n",
    "gme_daily_shifted['4. close'] = gme_daily_shifted['4. close'].shift(periods = 1)\n",
    "gme_daily_shifted['percent change'] = (gme_daily_shifted['1. open'] - gme_daily_shifted['4. close']) / gme_daily_shifted['4. close']\n",
    "gme_daily_shifted = gme_daily_shifted.rename(columns = {'date':'day'}).astype(str).set_index('day')\n",
    "gme_daily_joined = last_hours.join(gme_daily_shifted, how='left')\n"
   ]
  },
  {
   "cell_type": "code",
   "execution_count": 64,
   "metadata": {
    "scrolled": true
   },
   "outputs": [
    {
     "data": {
      "text/plain": [
       "SpearmanrResult(correlation=-0.0035603027138667903, pvalue=0.9851027762191317)"
      ]
     },
     "execution_count": 64,
     "metadata": {},
     "output_type": "execute_result"
    }
   ],
   "source": [
    "s_corr2 = stats.spearmanr(gme_daily_joined['count'], gme_daily_joined['percent change'])\n",
    "s_corr2\n",
    "\n",
    "### THe p-value HEAVILY states that we cannot reject the null-hypothesis ### "
   ]
  }
 ],
 "metadata": {
  "kernelspec": {
   "display_name": "Python 3",
   "language": "python",
   "name": "python3"
  },
  "language_info": {
   "codemirror_mode": {
    "name": "ipython",
    "version": 3
   },
   "file_extension": ".py",
   "mimetype": "text/x-python",
   "name": "python",
   "nbconvert_exporter": "python",
   "pygments_lexer": "ipython3",
   "version": "3.7.7"
  }
 },
 "nbformat": 4,
 "nbformat_minor": 4
}
