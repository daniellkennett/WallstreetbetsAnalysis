{
 "cells": [
  {
   "cell_type": "code",
   "execution_count": 3,
   "metadata": {},
   "outputs": [
    {
     "data": {
      "text/html": [
       "        <script type=\"text/javascript\">\n",
       "        window.PlotlyConfig = {MathJaxConfig: 'local'};\n",
       "        if (window.MathJax) {MathJax.Hub.Config({SVG: {font: \"STIX-Web\"}});}\n",
       "        if (typeof require !== 'undefined') {\n",
       "        require.undef(\"plotly\");\n",
       "        requirejs.config({\n",
       "            paths: {\n",
       "                'plotly': ['https://cdn.plot.ly/plotly-latest.min']\n",
       "            }\n",
       "        });\n",
       "        require(['plotly'], function(Plotly) {\n",
       "            window._Plotly = Plotly;\n",
       "        });\n",
       "        }\n",
       "        </script>\n",
       "        "
      ]
     },
     "metadata": {},
     "output_type": "display_data"
    }
   ],
   "source": [
    "import pandas as pd\n",
    "import numpy as np\n",
    "import matplotlib.pyplot as plt\n",
    "plt.style.use('ggplot')\n",
    "%matplotlib inline\n",
    "from datetime import datetime\n",
    "import re\n",
    "import nltk\n",
    "from nltk.corpus import stopwords\n",
    "from scipy import stats\n",
    "import plotly as py\n",
    "import plotly.graph_objs as go\n",
    "import ipywidgets as widgets\n",
    "import plotly.express as px\n",
    "import plotly.io as pio\n",
    "\n",
    "from plotly.subplots import make_subplots\n",
    "py.offline.init_notebook_mode(connected=True)\n",
    "stopwords = set(stopwords.words('english'))\n",
    "from wordcloud import WordCloud\n",
    "\n"
   ]
  },
  {
   "cell_type": "code",
   "execution_count": 4,
   "metadata": {
    "scrolled": false
   },
   "outputs": [
    {
     "data": {
      "text/html": [
       "<div>\n",
       "<style scoped>\n",
       "    .dataframe tbody tr th:only-of-type {\n",
       "        vertical-align: middle;\n",
       "    }\n",
       "\n",
       "    .dataframe tbody tr th {\n",
       "        vertical-align: top;\n",
       "    }\n",
       "\n",
       "    .dataframe thead th {\n",
       "        text-align: right;\n",
       "    }\n",
       "</style>\n",
       "<table border=\"1\" class=\"dataframe\">\n",
       "  <thead>\n",
       "    <tr style=\"text-align: right;\">\n",
       "      <th></th>\n",
       "      <th>Unnamed: 0</th>\n",
       "      <th>title</th>\n",
       "      <th>author</th>\n",
       "      <th>scores</th>\n",
       "      <th>comments</th>\n",
       "      <th>timestamp</th>\n",
       "      <th>date</th>\n",
       "      <th>date_hour</th>\n",
       "    </tr>\n",
       "  </thead>\n",
       "  <tbody>\n",
       "    <tr>\n",
       "      <th>0</th>\n",
       "      <td>0</td>\n",
       "      <td>[whats, going, on, with, pltr]</td>\n",
       "      <td>Zaccko98</td>\n",
       "      <td>1</td>\n",
       "      <td>2</td>\n",
       "      <td>2021-02-16 04:53:12</td>\n",
       "      <td>2021-02-16</td>\n",
       "      <td>2021-02-16 04:00:00</td>\n",
       "    </tr>\n",
       "    <tr>\n",
       "      <th>1</th>\n",
       "      <td>1</td>\n",
       "      <td>[need, explanations, on, level, , data, for, g...</td>\n",
       "      <td>toutoucnc</td>\n",
       "      <td>1</td>\n",
       "      <td>2</td>\n",
       "      <td>2021-02-16 04:53:09</td>\n",
       "      <td>2021-02-16</td>\n",
       "      <td>2021-02-16 04:00:00</td>\n",
       "    </tr>\n",
       "    <tr>\n",
       "      <th>2</th>\n",
       "      <td>2</td>\n",
       "      <td>[xrt, is, being, used, as, a, laundry, short, ...</td>\n",
       "      <td>thabat</td>\n",
       "      <td>1</td>\n",
       "      <td>2</td>\n",
       "      <td>2021-02-16 04:52:46</td>\n",
       "      <td>2021-02-16</td>\n",
       "      <td>2021-02-16 04:00:00</td>\n",
       "    </tr>\n",
       "    <tr>\n",
       "      <th>3</th>\n",
       "      <td>3</td>\n",
       "      <td>[airlines]</td>\n",
       "      <td>AsianTwink_</td>\n",
       "      <td>1</td>\n",
       "      <td>2</td>\n",
       "      <td>2021-02-16 04:52:45</td>\n",
       "      <td>2021-02-16</td>\n",
       "      <td>2021-02-16 04:00:00</td>\n",
       "    </tr>\n",
       "    <tr>\n",
       "      <th>4</th>\n",
       "      <td>4</td>\n",
       "      <td>[buy, trxc, ]</td>\n",
       "      <td>Oneverystreet8</td>\n",
       "      <td>1</td>\n",
       "      <td>2</td>\n",
       "      <td>2021-02-16 04:52:44</td>\n",
       "      <td>2021-02-16</td>\n",
       "      <td>2021-02-16 04:00:00</td>\n",
       "    </tr>\n",
       "    <tr>\n",
       "      <th>...</th>\n",
       "      <td>...</td>\n",
       "      <td>...</td>\n",
       "      <td>...</td>\n",
       "      <td>...</td>\n",
       "      <td>...</td>\n",
       "      <td>...</td>\n",
       "      <td>...</td>\n",
       "      <td>...</td>\n",
       "    </tr>\n",
       "    <tr>\n",
       "      <th>572902</th>\n",
       "      <td>579469</td>\n",
       "      <td>[buying, calls, is, not, the, way, do, you, ne...</td>\n",
       "      <td>cheaptissueburlap</td>\n",
       "      <td>1</td>\n",
       "      <td>5</td>\n",
       "      <td>2020-12-31 16:24:38</td>\n",
       "      <td>2020-12-31</td>\n",
       "      <td>2020-12-31 16:00:00</td>\n",
       "    </tr>\n",
       "    <tr>\n",
       "      <th>572903</th>\n",
       "      <td>579470</td>\n",
       "      <td>[options, are, not, the, way, do, you, need, t...</td>\n",
       "      <td>cheaptissueburlap</td>\n",
       "      <td>1</td>\n",
       "      <td>0</td>\n",
       "      <td>2020-12-31 16:23:28</td>\n",
       "      <td>2020-12-31</td>\n",
       "      <td>2020-12-31 16:00:00</td>\n",
       "    </tr>\n",
       "    <tr>\n",
       "      <th>572904</th>\n",
       "      <td>579471</td>\n",
       "      <td>[thank, you, degenerates, for, a, huge, , cant...</td>\n",
       "      <td>kds0321</td>\n",
       "      <td>1</td>\n",
       "      <td>0</td>\n",
       "      <td>2020-12-31 16:22:31</td>\n",
       "      <td>2020-12-31</td>\n",
       "      <td>2020-12-31 16:00:00</td>\n",
       "    </tr>\n",
       "    <tr>\n",
       "      <th>572905</th>\n",
       "      <td>579472</td>\n",
       "      <td>[you, might, need, to, hear, this, f]</td>\n",
       "      <td>cheaptissueburlap</td>\n",
       "      <td>1</td>\n",
       "      <td>0</td>\n",
       "      <td>2020-12-31 16:21:52</td>\n",
       "      <td>2020-12-31</td>\n",
       "      <td>2020-12-31 16:00:00</td>\n",
       "    </tr>\n",
       "    <tr>\n",
       "      <th>572906</th>\n",
       "      <td>579473</td>\n",
       "      <td>[this, is, what, ive, been, waiting, for, all,...</td>\n",
       "      <td>1A9D6</td>\n",
       "      <td>1</td>\n",
       "      <td>6</td>\n",
       "      <td>2020-12-31 16:21:36</td>\n",
       "      <td>2020-12-31</td>\n",
       "      <td>2020-12-31 16:00:00</td>\n",
       "    </tr>\n",
       "  </tbody>\n",
       "</table>\n",
       "<p>572907 rows × 8 columns</p>\n",
       "</div>"
      ],
      "text/plain": [
       "        Unnamed: 0                                              title  \\\n",
       "0                0                     [whats, going, on, with, pltr]   \n",
       "1                1  [need, explanations, on, level, , data, for, g...   \n",
       "2                2  [xrt, is, being, used, as, a, laundry, short, ...   \n",
       "3                3                                         [airlines]   \n",
       "4                4                                      [buy, trxc, ]   \n",
       "...            ...                                                ...   \n",
       "572902      579469  [buying, calls, is, not, the, way, do, you, ne...   \n",
       "572903      579470  [options, are, not, the, way, do, you, need, t...   \n",
       "572904      579471  [thank, you, degenerates, for, a, huge, , cant...   \n",
       "572905      579472              [you, might, need, to, hear, this, f]   \n",
       "572906      579473  [this, is, what, ive, been, waiting, for, all,...   \n",
       "\n",
       "                   author  scores  comments           timestamp        date  \\\n",
       "0                Zaccko98       1         2 2021-02-16 04:53:12  2021-02-16   \n",
       "1               toutoucnc       1         2 2021-02-16 04:53:09  2021-02-16   \n",
       "2                  thabat       1         2 2021-02-16 04:52:46  2021-02-16   \n",
       "3             AsianTwink_       1         2 2021-02-16 04:52:45  2021-02-16   \n",
       "4          Oneverystreet8       1         2 2021-02-16 04:52:44  2021-02-16   \n",
       "...                   ...     ...       ...                 ...         ...   \n",
       "572902  cheaptissueburlap       1         5 2020-12-31 16:24:38  2020-12-31   \n",
       "572903  cheaptissueburlap       1         0 2020-12-31 16:23:28  2020-12-31   \n",
       "572904            kds0321       1         0 2020-12-31 16:22:31  2020-12-31   \n",
       "572905  cheaptissueburlap       1         0 2020-12-31 16:21:52  2020-12-31   \n",
       "572906              1A9D6       1         6 2020-12-31 16:21:36  2020-12-31   \n",
       "\n",
       "                 date_hour  \n",
       "0      2021-02-16 04:00:00  \n",
       "1      2021-02-16 04:00:00  \n",
       "2      2021-02-16 04:00:00  \n",
       "3      2021-02-16 04:00:00  \n",
       "4      2021-02-16 04:00:00  \n",
       "...                    ...  \n",
       "572902 2020-12-31 16:00:00  \n",
       "572903 2020-12-31 16:00:00  \n",
       "572904 2020-12-31 16:00:00  \n",
       "572905 2020-12-31 16:00:00  \n",
       "572906 2020-12-31 16:00:00  \n",
       "\n",
       "[572907 rows x 8 columns]"
      ]
     },
     "execution_count": 4,
     "metadata": {},
     "output_type": "execute_result"
    }
   ],
   "source": [
    "wsb_df = pd.read_csv('../data/Clean_WSB.csv')\n",
    "\n",
    "\n",
    "\n",
    "\n",
    "### Convert timestamp to datetime ### \n",
    "wsb_df['timestamp'] = wsb_df['timestamp'].map(lambda x: datetime.strptime(x, \"%Y-%m-%d %H:%M:%S\"))\n",
    "wsb_df['title'] = wsb_df['title'].astype(str)\n",
    "wsb_df['date'] = wsb_df['timestamp'].apply(lambda x: x.date())\n",
    "wsb_df['date_hour'] = wsb_df['timestamp'].apply(lambda x: f\"{x.date()} {x.hour}:00:00\")\n",
    "wsb_df['date_hour'] = wsb_df['date_hour'].apply(lambda x: datetime.strptime(x, \"%Y-%m-%d %H:%M:%S\"))\n",
    "\n",
    "\n",
    "\n",
    "\n",
    "### apply RE to remove emojis, punc., stopwords; explode title for easy groupby counting ###\n",
    "wsb_df['title'] = wsb_df['title'].map(lambda x: re.sub(r\"[^A-Za-z ]\", '', x))\n",
    "wsb_df['title'] = wsb_df['title'].map(lambda x: x.lower().split(' '))\n",
    "wsb_df_explode = wsb_df.explode('title')\n",
    "wsb_df_explode =  wsb_df_explode[ ~wsb_df_explode['title'].isin(stopwords)]\n",
    "\n",
    "\n",
    "### narrow specific securities ###\n",
    "wsb_full = wsb_df_explode.replace({'gamestop': 'gme', 'nokia': 'nok', 'dogecoin': 'doge', \n",
    "                                         'bitcoin': 'btc', 'amazon': 'amzn', 'microsft': 'msft',\n",
    "                                         'tesla': 'tsla', 'indexsp': 'sp500', '500': 'sp500', 'sp': 'sp500'})\n",
    "\n",
    "wsb_df"
   ]
  },
  {
   "cell_type": "code",
   "execution_count": 5,
   "metadata": {
    "scrolled": false
   },
   "outputs": [],
   "source": [
    "### find and sort count of used words ###\n",
    "wsb_df_groupby = wsb_full.groupby(['title']).count().reset_index()\n",
    "wallstreetbets = wsb_df_groupby.sort_values('author', ascending = False)\n",
    "wallstreetbets = wallstreetbets.drop(0)\n",
    "wallstreetbets = wallstreetbets.drop(['Unnamed: 0','author', 'scores',\n",
    "                                     'comments', 'timestamp', 'date'], axis =1)\n",
    "wallstreetbets = wallstreetbets.rename(columns = {'title':'title','date_hour': 'count'})\n",
    "text = wallstreetbets.title.head(30)\n",
    "\n",
    "\n",
    "words = []\n",
    "for word in text:\n",
    "    words.append(word)\n",
    "    \n",
    "words = ' '.join(words)"
   ]
  },
  {
   "cell_type": "code",
   "execution_count": 6,
   "metadata": {},
   "outputs": [
    {
     "data": {
      "image/png": "[encoded data removed]",
      "text/plain": [
       "<Figure size 432x288 with 1 Axes>"
      ]
     },
     "metadata": {
      "needs_background": "light"
     },
     "output_type": "display_data"
    }
   ],
   "source": [
    "# Create and generate a word cloud image:\n",
    "wordcloud = WordCloud(width=480, height=480, max_words = 30, background_color=\"rgb(73, 157, 222)\",colormap=\"magma\").generate(words)\n",
    "\n",
    "# Display the generated image:\n",
    "plt.imshow(wordcloud, interpolation='bilinear')\n",
    "plt.axis(\"off\")\n",
    "plt.show()"
   ]
  },
  {
   "cell_type": "code",
   "execution_count": 7,
   "metadata": {},
   "outputs": [],
   "source": [
    "### Big movers: GME, NOK, AMC, Dogecoin ### \n",
    "### Other popular stocks: bitcoin, AMZN, MSFT, TSLA ###\n",
    "### Also SMP 500 and stock indexes. ###\n",
    "\n",
    "stonks = wallstreetbets[(wallstreetbets['title'] == 'gme') | (wallstreetbets['title'] == 'nok') | \n",
    "                       (wallstreetbets['title'] == 'amc') | (wallstreetbets['title'] == 'doge') | \n",
    "                       (wallstreetbets['title'] == 'btc') | (wallstreetbets['title'] == 'amzn') |\n",
    "                       (wallstreetbets['title'] == 'msft')| (wallstreetbets['title'] == 'tsla') |\n",
    "                       (wallstreetbets['title'] == 'sp500')].sort_values('count', ascending = True)"
   ]
  },
  {
   "cell_type": "code",
   "execution_count": 8,
   "metadata": {},
   "outputs": [
    {
     "data": {
      "application/vnd.plotly.v1+json": {
       "config": {
        "plotlyServerURL": "https://plot.ly"
       },
       "data": [
        {
         "alignmentgroup": "True",
         "hovertemplate": "Number of Mentions=%{x}<br>Securities=%{y}<extra></extra>",
         "legendgroup": "",
         "marker": {
          "color": "rgb(73, 157, 222)",
          "line": {
           "width": 1.5
          }
         },
         "name": "",
         "offsetgroup": "",
         "orientation": "h",
         "showlegend": false,
         "textposition": "auto",
         "type": "bar",
         "x": [
          30,
          44,
          619,
          1578,
          2717,
          15703,
          20994,
          45965,
          102785
         ],
         "xaxis": "x",
         "y": [
          "sp500",
          "msft",
          "amzn",
          "btc",
          "tsla",
          "doge",
          "nok",
          "amc",
          "gme"
         ],
         "yaxis": "y"
        }
       ],
       "layout": {
        "barmode": "relative",
        "legend": {
         "tracegroupgap": 0
        },
        "plot_bgcolor": "rgb(84, 85, 87)",
        "template": {
         "data": {
          "bar": [
           {
            "error_x": {
             "color": "#2a3f5f"
            },
            "error_y": {
             "color": "#2a3f5f"
            },
            "marker": {
             "line": {
              "color": "#E5ECF6",
              "width": 0.5
             }
            },
            "type": "bar"
           }
          ],
          "barpolar": [
           {
            "marker": {
             "line": {
              "color": "#E5ECF6",
              "width": 0.5
             }
            },
            "type": "barpolar"
           }
          ],
          "carpet": [
           {
            "aaxis": {
             "endlinecolor": "#2a3f5f",
             "gridcolor": "white",
             "linecolor": "white",
             "minorgridcolor": "white",
             "startlinecolor": "#2a3f5f"
            },
            "baxis": {
             "endlinecolor": "#2a3f5f",
             "gridcolor": "white",
             "linecolor": "white",
             "minorgridcolor": "white",
             "startlinecolor": "#2a3f5f"
            },
            "type": "carpet"
           }
          ],
          "choropleth": [
           {
            "colorbar": {
             "outlinewidth": 0,
             "ticks": ""
            },
            "type": "choropleth"
           }
          ],
          "contour": [
           {
            "colorbar": {
             "outlinewidth": 0,
             "ticks": ""
            },
            "colorscale": [
             [
              0,
              "#0d0887"
             ],
             [
              0.1111111111111111,
              "#46039f"
             ],
             [
              0.2222222222222222,
              "#7201a8"
             ],
             [
              0.3333333333333333,
              "#9c179e"
             ],
             [
              0.4444444444444444,
              "#bd3786"
             ],
             [
              0.5555555555555556,
              "#d8576b"
             ],
             [
              0.6666666666666666,
              "#ed7953"
             ],
             [
              0.7777777777777778,
              "#fb9f3a"
             ],
             [
              0.8888888888888888,
              "#fdca26"
             ],
             [
              1,
              "#f0f921"
             ]
            ],
            "type": "contour"
           }
          ],
          "contourcarpet": [
           {
            "colorbar": {
             "outlinewidth": 0,
             "ticks": ""
            },
            "type": "contourcarpet"
           }
          ],
          "heatmap": [
           {
            "colorbar": {
             "outlinewidth": 0,
             "ticks": ""
            },
            "colorscale": [
             [
              0,
              "#0d0887"
             ],
             [
              0.1111111111111111,
              "#46039f"
             ],
             [
              0.2222222222222222,
              "#7201a8"
             ],
             [
              0.3333333333333333,
              "#9c179e"
             ],
             [
              0.4444444444444444,
              "#bd3786"
             ],
             [
              0.5555555555555556,
              "#d8576b"
             ],
             [
              0.6666666666666666,
              "#ed7953"
             ],
             [
              0.7777777777777778,
              "#fb9f3a"
             ],
             [
              0.8888888888888888,
              "#fdca26"
             ],
             [
              1,
              "#f0f921"
             ]
            ],
            "type": "heatmap"
           }
          ],
          "heatmapgl": [
           {
            "colorbar": {
             "outlinewidth": 0,
             "ticks": ""
            },
            "colorscale": [
             [
              0,
              "#0d0887"
             ],
             [
              0.1111111111111111,
              "#46039f"
             ],
             [
              0.2222222222222222,
              "#7201a8"
             ],
             [
              0.3333333333333333,
              "#9c179e"
             ],
             [
              0.4444444444444444,
              "#bd3786"
             ],
             [
              0.5555555555555556,
              "#d8576b"
             ],
             [
              0.6666666666666666,
              "#ed7953"
             ],
             [
              0.7777777777777778,
              "#fb9f3a"
             ],
             [
              0.8888888888888888,
              "#fdca26"
             ],
             [
              1,
              "#f0f921"
             ]
            ],
            "type": "heatmapgl"
           }
          ],
          "histogram": [
           {
            "marker": {
             "colorbar": {
              "outlinewidth": 0,
              "ticks": ""
             }
            },
            "type": "histogram"
           }
          ],
          "histogram2d": [
           {
            "colorbar": {
             "outlinewidth": 0,
             "ticks": ""
            },
            "colorscale": [
             [
              0,
              "#0d0887"
             ],
             [
              0.1111111111111111,
              "#46039f"
             ],
             [
              0.2222222222222222,
              "#7201a8"
             ],
             [
              0.3333333333333333,
              "#9c179e"
             ],
             [
              0.4444444444444444,
              "#bd3786"
             ],
             [
              0.5555555555555556,
              "#d8576b"
             ],
             [
              0.6666666666666666,
              "#ed7953"
             ],
             [
              0.7777777777777778,
              "#fb9f3a"
             ],
             [
              0.8888888888888888,
              "#fdca26"
             ],
             [
              1,
              "#f0f921"
             ]
            ],
            "type": "histogram2d"
           }
          ],
          "histogram2dcontour": [
           {
            "colorbar": {
             "outlinewidth": 0,
             "ticks": ""
            },
            "colorscale": [
             [
              0,
              "#0d0887"
             ],
             [
              0.1111111111111111,
              "#46039f"
             ],
             [
              0.2222222222222222,
              "#7201a8"
             ],
             [
              0.3333333333333333,
              "#9c179e"
             ],
             [
              0.4444444444444444,
              "#bd3786"
             ],
             [
              0.5555555555555556,
              "#d8576b"
             ],
             [
              0.6666666666666666,
              "#ed7953"
             ],
             [
              0.7777777777777778,
              "#fb9f3a"
             ],
             [
              0.8888888888888888,
              "#fdca26"
             ],
             [
              1,
              "#f0f921"
             ]
            ],
            "type": "histogram2dcontour"
           }
          ],
          "mesh3d": [
           {
            "colorbar": {
             "outlinewidth": 0,
             "ticks": ""
            },
            "type": "mesh3d"
           }
          ],
          "parcoords": [
           {
            "line": {
             "colorbar": {
              "outlinewidth": 0,
              "ticks": ""
             }
            },
            "type": "parcoords"
           }
          ],
          "pie": [
           {
            "automargin": true,
            "type": "pie"
           }
          ],
          "scatter": [
           {
            "marker": {
             "colorbar": {
              "outlinewidth": 0,
              "ticks": ""
             }
            },
            "type": "scatter"
           }
          ],
          "scatter3d": [
           {
            "line": {
             "colorbar": {
              "outlinewidth": 0,
              "ticks": ""
             }
            },
            "marker": {
             "colorbar": {
              "outlinewidth": 0,
              "ticks": ""
             }
            },
            "type": "scatter3d"
           }
          ],
          "scattercarpet": [
           {
            "marker": {
             "colorbar": {
              "outlinewidth": 0,
              "ticks": ""
             }
            },
            "type": "scattercarpet"
           }
          ],
          "scattergeo": [
           {
            "marker": {
             "colorbar": {
              "outlinewidth": 0,
              "ticks": ""
             }
            },
            "type": "scattergeo"
           }
          ],
          "scattergl": [
           {
            "marker": {
             "colorbar": {
              "outlinewidth": 0,
              "ticks": ""
             }
            },
            "type": "scattergl"
           }
          ],
          "scattermapbox": [
           {
            "marker": {
             "colorbar": {
              "outlinewidth": 0,
              "ticks": ""
             }
            },
            "type": "scattermapbox"
           }
          ],
          "scatterpolar": [
           {
            "marker": {
             "colorbar": {
              "outlinewidth": 0,
              "ticks": ""
             }
            },
            "type": "scatterpolar"
           }
          ],
          "scatterpolargl": [
           {
            "marker": {
             "colorbar": {
              "outlinewidth": 0,
              "ticks": ""
             }
            },
            "type": "scatterpolargl"
           }
          ],
          "scatterternary": [
           {
            "marker": {
             "colorbar": {
              "outlinewidth": 0,
              "ticks": ""
             }
            },
            "type": "scatterternary"
           }
          ],
          "surface": [
           {
            "colorbar": {
             "outlinewidth": 0,
             "ticks": ""
            },
            "colorscale": [
             [
              0,
              "#0d0887"
             ],
             [
              0.1111111111111111,
              "#46039f"
             ],
             [
              0.2222222222222222,
              "#7201a8"
             ],
             [
              0.3333333333333333,
              "#9c179e"
             ],
             [
              0.4444444444444444,
              "#bd3786"
             ],
             [
              0.5555555555555556,
              "#d8576b"
             ],
             [
              0.6666666666666666,
              "#ed7953"
             ],
             [
              0.7777777777777778,
              "#fb9f3a"
             ],
             [
              0.8888888888888888,
              "#fdca26"
             ],
             [
              1,
              "#f0f921"
             ]
            ],
            "type": "surface"
           }
          ],
          "table": [
           {
            "cells": {
             "fill": {
              "color": "#EBF0F8"
             },
             "line": {
              "color": "white"
             }
            },
            "header": {
             "fill": {
              "color": "#C8D4E3"
             },
             "line": {
              "color": "white"
             }
            },
            "type": "table"
           }
          ]
         },
         "layout": {
          "annotationdefaults": {
           "arrowcolor": "#2a3f5f",
           "arrowhead": 0,
           "arrowwidth": 1
          },
          "autotypenumbers": "strict",
          "coloraxis": {
           "colorbar": {
            "outlinewidth": 0,
            "ticks": ""
           }
          },
          "colorscale": {
           "diverging": [
            [
             0,
             "#8e0152"
            ],
            [
             0.1,
             "#c51b7d"
            ],
            [
             0.2,
             "#de77ae"
            ],
            [
             0.3,
             "#f1b6da"
            ],
            [
             0.4,
             "#fde0ef"
            ],
            [
             0.5,
             "#f7f7f7"
            ],
            [
             0.6,
             "#e6f5d0"
            ],
            [
             0.7,
             "#b8e186"
            ],
            [
             0.8,
             "#7fbc41"
            ],
            [
             0.9,
             "#4d9221"
            ],
            [
             1,
             "#276419"
            ]
           ],
           "sequential": [
            [
             0,
             "#0d0887"
            ],
            [
             0.1111111111111111,
             "#46039f"
            ],
            [
             0.2222222222222222,
             "#7201a8"
            ],
            [
             0.3333333333333333,
             "#9c179e"
            ],
            [
             0.4444444444444444,
             "#bd3786"
            ],
            [
             0.5555555555555556,
             "#d8576b"
            ],
            [
             0.6666666666666666,
             "#ed7953"
            ],
            [
             0.7777777777777778,
             "#fb9f3a"
            ],
            [
             0.8888888888888888,
             "#fdca26"
            ],
            [
             1,
             "#f0f921"
            ]
           ],
           "sequentialminus": [
            [
             0,
             "#0d0887"
            ],
            [
             0.1111111111111111,
             "#46039f"
            ],
            [
             0.2222222222222222,
             "#7201a8"
            ],
            [
             0.3333333333333333,
             "#9c179e"
            ],
            [
             0.4444444444444444,
             "#bd3786"
            ],
            [
             0.5555555555555556,
             "#d8576b"
            ],
            [
             0.6666666666666666,
             "#ed7953"
            ],
            [
             0.7777777777777778,
             "#fb9f3a"
            ],
            [
             0.8888888888888888,
             "#fdca26"
            ],
            [
             1,
             "#f0f921"
            ]
           ]
          },
          "colorway": [
           "#636efa",
           "#EF553B",
           "#00cc96",
           "#ab63fa",
           "#FFA15A",
           "#19d3f3",
           "#FF6692",
           "#B6E880",
           "#FF97FF",
           "#FECB52"
          ],
          "font": {
           "color": "#2a3f5f"
          },
          "geo": {
           "bgcolor": "white",
           "lakecolor": "white",
           "landcolor": "#E5ECF6",
           "showlakes": true,
           "showland": true,
           "subunitcolor": "white"
          },
          "hoverlabel": {
           "align": "left"
          },
          "hovermode": "closest",
          "mapbox": {
           "style": "light"
          },
          "paper_bgcolor": "white",
          "plot_bgcolor": "#E5ECF6",
          "polar": {
           "angularaxis": {
            "gridcolor": "white",
            "linecolor": "white",
            "ticks": ""
           },
           "bgcolor": "#E5ECF6",
           "radialaxis": {
            "gridcolor": "white",
            "linecolor": "white",
            "ticks": ""
           }
          },
          "scene": {
           "xaxis": {
            "backgroundcolor": "#E5ECF6",
            "gridcolor": "white",
            "gridwidth": 2,
            "linecolor": "white",
            "showbackground": true,
            "ticks": "",
            "zerolinecolor": "white"
           },
           "yaxis": {
            "backgroundcolor": "#E5ECF6",
            "gridcolor": "white",
            "gridwidth": 2,
            "linecolor": "white",
            "showbackground": true,
            "ticks": "",
            "zerolinecolor": "white"
           },
           "zaxis": {
            "backgroundcolor": "#E5ECF6",
            "gridcolor": "white",
            "gridwidth": 2,
            "linecolor": "white",
            "showbackground": true,
            "ticks": "",
            "zerolinecolor": "white"
           }
          },
          "shapedefaults": {
           "line": {
            "color": "#2a3f5f"
           }
          },
          "ternary": {
           "aaxis": {
            "gridcolor": "white",
            "linecolor": "white",
            "ticks": ""
           },
           "baxis": {
            "gridcolor": "white",
            "linecolor": "white",
            "ticks": ""
           },
           "bgcolor": "#E5ECF6",
           "caxis": {
            "gridcolor": "white",
            "linecolor": "white",
            "ticks": ""
           }
          },
          "title": {
           "x": 0.05
          },
          "xaxis": {
           "automargin": true,
           "gridcolor": "white",
           "linecolor": "white",
           "ticks": "",
           "title": {
            "standoff": 15
           },
           "zerolinecolor": "white",
           "zerolinewidth": 2
          },
          "yaxis": {
           "automargin": true,
           "gridcolor": "white",
           "linecolor": "white",
           "ticks": "",
           "title": {
            "standoff": 15
           },
           "zerolinecolor": "white",
           "zerolinewidth": 2
          }
         }
        },
        "title": {
         "text": "Mentions in WSB"
        },
        "xaxis": {
         "anchor": "y",
         "domain": [
          0,
          1
         ],
         "gridcolor": "rgb(144, 145, 142)",
         "title": {
          "text": "Number of Mentions"
         }
        },
        "yaxis": {
         "anchor": "x",
         "domain": [
          0,
          1
         ],
         "title": {
          "text": "Securities"
         }
        }
       }
      },
      "text/html": [
       "<div>                            <div id=\"673b8dc4-e1a7-4703-8d19-57f3d77bf71a\" class=\"plotly-graph-div\" style=\"height:525px; width:100%;\"></div>            <script type=\"text/javascript\">                require([\"plotly\"], function(Plotly) {                    window.PLOTLYENV=window.PLOTLYENV || {};                                    if (document.getElementById(\"673b8dc4-e1a7-4703-8d19-57f3d77bf71a\")) {                    Plotly.newPlot(                        \"673b8dc4-e1a7-4703-8d19-57f3d77bf71a\",                        [{\"alignmentgroup\": \"True\", \"hovertemplate\": \"Number of Mentions=%{x}<br>Securities=%{y}<extra></extra>\", \"legendgroup\": \"\", \"marker\": {\"color\": \"rgb(73, 157, 222)\", \"line\": {\"width\": 1.5}}, \"name\": \"\", \"offsetgroup\": \"\", \"orientation\": \"h\", \"showlegend\": false, \"textposition\": \"auto\", \"type\": \"bar\", \"x\": [30, 44, 619, 1578, 2717, 15703, 20994, 45965, 102785], \"xaxis\": \"x\", \"y\": [\"sp500\", \"msft\", \"amzn\", \"btc\", \"tsla\", \"doge\", \"nok\", \"amc\", \"gme\"], \"yaxis\": \"y\"}],                        {\"barmode\": \"relative\", \"legend\": {\"tracegroupgap\": 0}, \"plot_bgcolor\": \"rgb(84, 85, 87)\", \"template\": {\"data\": {\"bar\": [{\"error_x\": {\"color\": \"#2a3f5f\"}, \"error_y\": {\"color\": \"#2a3f5f\"}, \"marker\": {\"line\": {\"color\": \"#E5ECF6\", \"width\": 0.5}}, \"type\": \"bar\"}], \"barpolar\": [{\"marker\": {\"line\": {\"color\": \"#E5ECF6\", \"width\": 0.5}}, \"type\": \"barpolar\"}], \"carpet\": [{\"aaxis\": {\"endlinecolor\": \"#2a3f5f\", \"gridcolor\": \"white\", \"linecolor\": \"white\", \"minorgridcolor\": \"white\", \"startlinecolor\": \"#2a3f5f\"}, \"baxis\": {\"endlinecolor\": \"#2a3f5f\", \"gridcolor\": \"white\", \"linecolor\": \"white\", \"minorgridcolor\": \"white\", \"startlinecolor\": \"#2a3f5f\"}, \"type\": \"carpet\"}], \"choropleth\": [{\"colorbar\": {\"outlinewidth\": 0, \"ticks\": \"\"}, \"type\": \"choropleth\"}], \"contour\": [{\"colorbar\": {\"outlinewidth\": 0, \"ticks\": \"\"}, \"colorscale\": [[0.0, \"#0d0887\"], [0.1111111111111111, \"#46039f\"], [0.2222222222222222, \"#7201a8\"], [0.3333333333333333, \"#9c179e\"], [0.4444444444444444, \"#bd3786\"], [0.5555555555555556, \"#d8576b\"], [0.6666666666666666, \"#ed7953\"], [0.7777777777777778, \"#fb9f3a\"], [0.8888888888888888, \"#fdca26\"], [1.0, \"#f0f921\"]], \"type\": \"contour\"}], \"contourcarpet\": [{\"colorbar\": {\"outlinewidth\": 0, \"ticks\": \"\"}, \"type\": \"contourcarpet\"}], \"heatmap\": [{\"colorbar\": {\"outlinewidth\": 0, \"ticks\": \"\"}, \"colorscale\": [[0.0, \"#0d0887\"], [0.1111111111111111, \"#46039f\"], [0.2222222222222222, \"#7201a8\"], [0.3333333333333333, \"#9c179e\"], [0.4444444444444444, \"#bd3786\"], [0.5555555555555556, \"#d8576b\"], [0.6666666666666666, \"#ed7953\"], [0.7777777777777778, \"#fb9f3a\"], [0.8888888888888888, \"#fdca26\"], [1.0, \"#f0f921\"]], \"type\": \"heatmap\"}], \"heatmapgl\": [{\"colorbar\": {\"outlinewidth\": 0, \"ticks\": \"\"}, \"colorscale\": [[0.0, \"#0d0887\"], [0.1111111111111111, \"#46039f\"], [0.2222222222222222, \"#7201a8\"], [0.3333333333333333, \"#9c179e\"], [0.4444444444444444, \"#bd3786\"], [0.5555555555555556, \"#d8576b\"], [0.6666666666666666, \"#ed7953\"], [0.7777777777777778, \"#fb9f3a\"], [0.8888888888888888, \"#fdca26\"], [1.0, \"#f0f921\"]], \"type\": \"heatmapgl\"}], \"histogram\": [{\"marker\": {\"colorbar\": {\"outlinewidth\": 0, \"ticks\": \"\"}}, \"type\": \"histogram\"}], \"histogram2d\": [{\"colorbar\": {\"outlinewidth\": 0, \"ticks\": \"\"}, \"colorscale\": [[0.0, \"#0d0887\"], [0.1111111111111111, \"#46039f\"], [0.2222222222222222, \"#7201a8\"], [0.3333333333333333, \"#9c179e\"], [0.4444444444444444, \"#bd3786\"], [0.5555555555555556, \"#d8576b\"], [0.6666666666666666, \"#ed7953\"], [0.7777777777777778, \"#fb9f3a\"], [0.8888888888888888, \"#fdca26\"], [1.0, \"#f0f921\"]], \"type\": \"histogram2d\"}], \"histogram2dcontour\": [{\"colorbar\": {\"outlinewidth\": 0, \"ticks\": \"\"}, \"colorscale\": [[0.0, \"#0d0887\"], [0.1111111111111111, \"#46039f\"], [0.2222222222222222, \"#7201a8\"], [0.3333333333333333, \"#9c179e\"], [0.4444444444444444, \"#bd3786\"], [0.5555555555555556, \"#d8576b\"], [0.6666666666666666, \"#ed7953\"], [0.7777777777777778, \"#fb9f3a\"], [0.8888888888888888, \"#fdca26\"], [1.0, \"#f0f921\"]], \"type\": \"histogram2dcontour\"}], \"mesh3d\": [{\"colorbar\": {\"outlinewidth\": 0, \"ticks\": \"\"}, \"type\": \"mesh3d\"}], \"parcoords\": [{\"line\": {\"colorbar\": {\"outlinewidth\": 0, \"ticks\": \"\"}}, \"type\": \"parcoords\"}], \"pie\": [{\"automargin\": true, \"type\": \"pie\"}], \"scatter\": [{\"marker\": {\"colorbar\": {\"outlinewidth\": 0, \"ticks\": \"\"}}, \"type\": \"scatter\"}], \"scatter3d\": [{\"line\": {\"colorbar\": {\"outlinewidth\": 0, \"ticks\": \"\"}}, \"marker\": {\"colorbar\": {\"outlinewidth\": 0, \"ticks\": \"\"}}, \"type\": \"scatter3d\"}], \"scattercarpet\": [{\"marker\": {\"colorbar\": {\"outlinewidth\": 0, \"ticks\": \"\"}}, \"type\": \"scattercarpet\"}], \"scattergeo\": [{\"marker\": {\"colorbar\": {\"outlinewidth\": 0, \"ticks\": \"\"}}, \"type\": \"scattergeo\"}], \"scattergl\": [{\"marker\": {\"colorbar\": {\"outlinewidth\": 0, \"ticks\": \"\"}}, \"type\": \"scattergl\"}], \"scattermapbox\": [{\"marker\": {\"colorbar\": {\"outlinewidth\": 0, \"ticks\": \"\"}}, \"type\": \"scattermapbox\"}], \"scatterpolar\": [{\"marker\": {\"colorbar\": {\"outlinewidth\": 0, \"ticks\": \"\"}}, \"type\": \"scatterpolar\"}], \"scatterpolargl\": [{\"marker\": {\"colorbar\": {\"outlinewidth\": 0, \"ticks\": \"\"}}, \"type\": \"scatterpolargl\"}], \"scatterternary\": [{\"marker\": {\"colorbar\": {\"outlinewidth\": 0, \"ticks\": \"\"}}, \"type\": \"scatterternary\"}], \"surface\": [{\"colorbar\": {\"outlinewidth\": 0, \"ticks\": \"\"}, \"colorscale\": [[0.0, \"#0d0887\"], [0.1111111111111111, \"#46039f\"], [0.2222222222222222, \"#7201a8\"], [0.3333333333333333, \"#9c179e\"], [0.4444444444444444, \"#bd3786\"], [0.5555555555555556, \"#d8576b\"], [0.6666666666666666, \"#ed7953\"], [0.7777777777777778, \"#fb9f3a\"], [0.8888888888888888, \"#fdca26\"], [1.0, \"#f0f921\"]], \"type\": \"surface\"}], \"table\": [{\"cells\": {\"fill\": {\"color\": \"#EBF0F8\"}, \"line\": {\"color\": \"white\"}}, \"header\": {\"fill\": {\"color\": \"#C8D4E3\"}, \"line\": {\"color\": \"white\"}}, \"type\": \"table\"}]}, \"layout\": {\"annotationdefaults\": {\"arrowcolor\": \"#2a3f5f\", \"arrowhead\": 0, \"arrowwidth\": 1}, \"autotypenumbers\": \"strict\", \"coloraxis\": {\"colorbar\": {\"outlinewidth\": 0, \"ticks\": \"\"}}, \"colorscale\": {\"diverging\": [[0, \"#8e0152\"], [0.1, \"#c51b7d\"], [0.2, \"#de77ae\"], [0.3, \"#f1b6da\"], [0.4, \"#fde0ef\"], [0.5, \"#f7f7f7\"], [0.6, \"#e6f5d0\"], [0.7, \"#b8e186\"], [0.8, \"#7fbc41\"], [0.9, \"#4d9221\"], [1, \"#276419\"]], \"sequential\": [[0.0, \"#0d0887\"], [0.1111111111111111, \"#46039f\"], [0.2222222222222222, \"#7201a8\"], [0.3333333333333333, \"#9c179e\"], [0.4444444444444444, \"#bd3786\"], [0.5555555555555556, \"#d8576b\"], [0.6666666666666666, \"#ed7953\"], [0.7777777777777778, \"#fb9f3a\"], [0.8888888888888888, \"#fdca26\"], [1.0, \"#f0f921\"]], \"sequentialminus\": [[0.0, \"#0d0887\"], [0.1111111111111111, \"#46039f\"], [0.2222222222222222, \"#7201a8\"], [0.3333333333333333, \"#9c179e\"], [0.4444444444444444, \"#bd3786\"], [0.5555555555555556, \"#d8576b\"], [0.6666666666666666, \"#ed7953\"], [0.7777777777777778, \"#fb9f3a\"], [0.8888888888888888, \"#fdca26\"], [1.0, \"#f0f921\"]]}, \"colorway\": [\"#636efa\", \"#EF553B\", \"#00cc96\", \"#ab63fa\", \"#FFA15A\", \"#19d3f3\", \"#FF6692\", \"#B6E880\", \"#FF97FF\", \"#FECB52\"], \"font\": {\"color\": \"#2a3f5f\"}, \"geo\": {\"bgcolor\": \"white\", \"lakecolor\": \"white\", \"landcolor\": \"#E5ECF6\", \"showlakes\": true, \"showland\": true, \"subunitcolor\": \"white\"}, \"hoverlabel\": {\"align\": \"left\"}, \"hovermode\": \"closest\", \"mapbox\": {\"style\": \"light\"}, \"paper_bgcolor\": \"white\", \"plot_bgcolor\": \"#E5ECF6\", \"polar\": {\"angularaxis\": {\"gridcolor\": \"white\", \"linecolor\": \"white\", \"ticks\": \"\"}, \"bgcolor\": \"#E5ECF6\", \"radialaxis\": {\"gridcolor\": \"white\", \"linecolor\": \"white\", \"ticks\": \"\"}}, \"scene\": {\"xaxis\": {\"backgroundcolor\": \"#E5ECF6\", \"gridcolor\": \"white\", \"gridwidth\": 2, \"linecolor\": \"white\", \"showbackground\": true, \"ticks\": \"\", \"zerolinecolor\": \"white\"}, \"yaxis\": {\"backgroundcolor\": \"#E5ECF6\", \"gridcolor\": \"white\", \"gridwidth\": 2, \"linecolor\": \"white\", \"showbackground\": true, \"ticks\": \"\", \"zerolinecolor\": \"white\"}, \"zaxis\": {\"backgroundcolor\": \"#E5ECF6\", \"gridcolor\": \"white\", \"gridwidth\": 2, \"linecolor\": \"white\", \"showbackground\": true, \"ticks\": \"\", \"zerolinecolor\": \"white\"}}, \"shapedefaults\": {\"line\": {\"color\": \"#2a3f5f\"}}, \"ternary\": {\"aaxis\": {\"gridcolor\": \"white\", \"linecolor\": \"white\", \"ticks\": \"\"}, \"baxis\": {\"gridcolor\": \"white\", \"linecolor\": \"white\", \"ticks\": \"\"}, \"bgcolor\": \"#E5ECF6\", \"caxis\": {\"gridcolor\": \"white\", \"linecolor\": \"white\", \"ticks\": \"\"}}, \"title\": {\"x\": 0.05}, \"xaxis\": {\"automargin\": true, \"gridcolor\": \"white\", \"linecolor\": \"white\", \"ticks\": \"\", \"title\": {\"standoff\": 15}, \"zerolinecolor\": \"white\", \"zerolinewidth\": 2}, \"yaxis\": {\"automargin\": true, \"gridcolor\": \"white\", \"linecolor\": \"white\", \"ticks\": \"\", \"title\": {\"standoff\": 15}, \"zerolinecolor\": \"white\", \"zerolinewidth\": 2}}}, \"title\": {\"text\": \"Mentions in WSB\"}, \"xaxis\": {\"anchor\": \"y\", \"domain\": [0.0, 1.0], \"gridcolor\": \"rgb(144, 145, 142)\", \"title\": {\"text\": \"Number of Mentions\"}}, \"yaxis\": {\"anchor\": \"x\", \"domain\": [0.0, 1.0], \"title\": {\"text\": \"Securities\"}}},                        {\"responsive\": true}                    ).then(function(){\n",
       "                            \n",
       "var gd = document.getElementById('673b8dc4-e1a7-4703-8d19-57f3d77bf71a');\n",
       "var x = new MutationObserver(function (mutations, observer) {{\n",
       "        var display = window.getComputedStyle(gd).display;\n",
       "        if (!display || display === 'none') {{\n",
       "            console.log([gd, 'removed!']);\n",
       "            Plotly.purge(gd);\n",
       "            observer.disconnect();\n",
       "        }}\n",
       "}});\n",
       "\n",
       "// Listen for the removal of the full notebook cells\n",
       "var notebookContainer = gd.closest('#notebook-container');\n",
       "if (notebookContainer) {{\n",
       "    x.observe(notebookContainer, {childList: true});\n",
       "}}\n",
       "\n",
       "// Listen for the clearing of the current output cell\n",
       "var outputEl = gd.closest('.output');\n",
       "if (outputEl) {{\n",
       "    x.observe(outputEl, {childList: true});\n",
       "}}\n",
       "\n",
       "                        })                };                });            </script>        </div>"
      ]
     },
     "metadata": {},
     "output_type": "display_data"
    }
   ],
   "source": [
    "fig = px.bar(stonks, x='count', y='title', title='Mentions in WSB', \n",
    "             orientation = 'h', labels = {\n",
    "                 'title': 'Securities',\n",
    "                 'count': 'Number of Mentions'})\n",
    "\n",
    "fig.update_traces(marker_color='rgb(73, 157, 222)',\n",
    "                  marker_line_width=1.5)\n",
    "\n",
    "fig.layout.plot_bgcolor='rgb(84, 85, 87)'\n",
    "\n",
    "fig.layout.xaxis.gridcolor='rgb(144, 145, 142)'\n",
    "fig.show()"
   ]
  },
  {
   "cell_type": "code",
   "execution_count": 9,
   "metadata": {
    "scrolled": false
   },
   "outputs": [],
   "source": [
    "### Organize by gme and date to graph ###\n",
    "gme_date = wsb_full.groupby(['title','date']).count().reset_index()\n",
    "gme_date = gme_date[gme_date['title'] == 'gme']\n",
    "\n",
    "gme_date = gme_date.drop(['Unnamed: 0','author', 'scores',\n",
    "                                     'comments', 'timestamp'], axis =1)\n",
    "gme_date = gme_date.rename(columns = {'title':'title','date' : 'date', 'date_hour': 'count'})"
   ]
  },
  {
   "cell_type": "code",
   "execution_count": 63,
   "metadata": {},
   "outputs": [
    {
     "data": {
      "application/vnd.plotly.v1+json": {
       "config": {
        "plotlyServerURL": "https://plot.ly"
       },
       "data": [
        {
         "alignmentgroup": "True",
         "bingroup": "x",
         "histfunc": "sum",
         "hovertemplate": "date=%{x}<br>sum of count=%{y}<extra></extra>",
         "legendgroup": "",
         "marker": {
          "color": "rgb(73, 157, 222)",
          "line": {
           "width": 1.5
          }
         },
         "name": "",
         "nbinsx": 46,
         "offsetgroup": "",
         "orientation": "v",
         "showlegend": false,
         "type": "histogram",
         "x": [
          "2020-12-31",
          "2021-01-01",
          "2021-01-02",
          "2021-01-03",
          "2021-01-04",
          "2021-01-05",
          "2021-01-06",
          "2021-01-07",
          "2021-01-08",
          "2021-01-09",
          "2021-01-10",
          "2021-01-11",
          "2021-01-12",
          "2021-01-13",
          "2021-01-14",
          "2021-01-15",
          "2021-01-16",
          "2021-01-17",
          "2021-01-18",
          "2021-01-19",
          "2021-01-20",
          "2021-01-21",
          "2021-01-22",
          "2021-01-23",
          "2021-01-24",
          "2021-01-25",
          "2021-01-26",
          "2021-01-27",
          "2021-01-28",
          "2021-01-29",
          "2021-01-30",
          "2021-01-31",
          "2021-02-01",
          "2021-02-02",
          "2021-02-03",
          "2021-02-04",
          "2021-02-07",
          "2021-02-08",
          "2021-02-09",
          "2021-02-10",
          "2021-02-11",
          "2021-02-12",
          "2021-02-13",
          "2021-02-14",
          "2021-02-15",
          "2021-02-16"
         ],
         "xaxis": "x",
         "y": [
          30,
          33,
          44,
          35,
          67,
          63,
          51,
          23,
          53,
          44,
          30,
          114,
          52,
          629,
          633,
          680,
          222,
          204,
          387,
          594,
          453,
          610,
          1447,
          688,
          702,
          3107,
          1022,
          11122,
          21796,
          11674,
          6852,
          6324,
          10706,
          10726,
          4320,
          3117,
          137,
          683,
          589,
          804,
          661,
          524,
          273,
          202,
          229,
          29
         ],
         "yaxis": "y"
        }
       ],
       "layout": {
        "barmode": "relative",
        "legend": {
         "tracegroupgap": 0
        },
        "plot_bgcolor": "rgb(84, 85, 87)",
        "template": {
         "data": {
          "bar": [
           {
            "error_x": {
             "color": "#2a3f5f"
            },
            "error_y": {
             "color": "#2a3f5f"
            },
            "marker": {
             "line": {
              "color": "#E5ECF6",
              "width": 0.5
             }
            },
            "type": "bar"
           }
          ],
          "barpolar": [
           {
            "marker": {
             "line": {
              "color": "#E5ECF6",
              "width": 0.5
             }
            },
            "type": "barpolar"
           }
          ],
          "carpet": [
           {
            "aaxis": {
             "endlinecolor": "#2a3f5f",
             "gridcolor": "white",
             "linecolor": "white",
             "minorgridcolor": "white",
             "startlinecolor": "#2a3f5f"
            },
            "baxis": {
             "endlinecolor": "#2a3f5f",
             "gridcolor": "white",
             "linecolor": "white",
             "minorgridcolor": "white",
             "startlinecolor": "#2a3f5f"
            },
            "type": "carpet"
           }
          ],
          "choropleth": [
           {
            "colorbar": {
             "outlinewidth": 0,
             "ticks": ""
            },
            "type": "choropleth"
           }
          ],
          "contour": [
           {
            "colorbar": {
             "outlinewidth": 0,
             "ticks": ""
            },
            "colorscale": [
             [
              0,
              "#0d0887"
             ],
             [
              0.1111111111111111,
              "#46039f"
             ],
             [
              0.2222222222222222,
              "#7201a8"
             ],
             [
              0.3333333333333333,
              "#9c179e"
             ],
             [
              0.4444444444444444,
              "#bd3786"
             ],
             [
              0.5555555555555556,
              "#d8576b"
             ],
             [
              0.6666666666666666,
              "#ed7953"
             ],
             [
              0.7777777777777778,
              "#fb9f3a"
             ],
             [
              0.8888888888888888,
              "#fdca26"
             ],
             [
              1,
              "#f0f921"
             ]
            ],
            "type": "contour"
           }
          ],
          "contourcarpet": [
           {
            "colorbar": {
             "outlinewidth": 0,
             "ticks": ""
            },
            "type": "contourcarpet"
           }
          ],
          "heatmap": [
           {
            "colorbar": {
             "outlinewidth": 0,
             "ticks": ""
            },
            "colorscale": [
             [
              0,
              "#0d0887"
             ],
             [
              0.1111111111111111,
              "#46039f"
             ],
             [
              0.2222222222222222,
              "#7201a8"
             ],
             [
              0.3333333333333333,
              "#9c179e"
             ],
             [
              0.4444444444444444,
              "#bd3786"
             ],
             [
              0.5555555555555556,
              "#d8576b"
             ],
             [
              0.6666666666666666,
              "#ed7953"
             ],
             [
              0.7777777777777778,
              "#fb9f3a"
             ],
             [
              0.8888888888888888,
              "#fdca26"
             ],
             [
              1,
              "#f0f921"
             ]
            ],
            "type": "heatmap"
           }
          ],
          "heatmapgl": [
           {
            "colorbar": {
             "outlinewidth": 0,
             "ticks": ""
            },
            "colorscale": [
             [
              0,
              "#0d0887"
             ],
             [
              0.1111111111111111,
              "#46039f"
             ],
             [
              0.2222222222222222,
              "#7201a8"
             ],
             [
              0.3333333333333333,
              "#9c179e"
             ],
             [
              0.4444444444444444,
              "#bd3786"
             ],
             [
              0.5555555555555556,
              "#d8576b"
             ],
             [
              0.6666666666666666,
              "#ed7953"
             ],
             [
              0.7777777777777778,
              "#fb9f3a"
             ],
             [
              0.8888888888888888,
              "#fdca26"
             ],
             [
              1,
              "#f0f921"
             ]
            ],
            "type": "heatmapgl"
           }
          ],
          "histogram": [
           {
            "marker": {
             "colorbar": {
              "outlinewidth": 0,
              "ticks": ""
             }
            },
            "type": "histogram"
           }
          ],
          "histogram2d": [
           {
            "colorbar": {
             "outlinewidth": 0,
             "ticks": ""
            },
            "colorscale": [
             [
              0,
              "#0d0887"
             ],
             [
              0.1111111111111111,
              "#46039f"
             ],
             [
              0.2222222222222222,
              "#7201a8"
             ],
             [
              0.3333333333333333,
              "#9c179e"
             ],
             [
              0.4444444444444444,
              "#bd3786"
             ],
             [
              0.5555555555555556,
              "#d8576b"
             ],
             [
              0.6666666666666666,
              "#ed7953"
             ],
             [
              0.7777777777777778,
              "#fb9f3a"
             ],
             [
              0.8888888888888888,
              "#fdca26"
             ],
             [
              1,
              "#f0f921"
             ]
            ],
            "type": "histogram2d"
           }
          ],
          "histogram2dcontour": [
           {
            "colorbar": {
             "outlinewidth": 0,
             "ticks": ""
            },
            "colorscale": [
             [
              0,
              "#0d0887"
             ],
             [
              0.1111111111111111,
              "#46039f"
             ],
             [
              0.2222222222222222,
              "#7201a8"
             ],
             [
              0.3333333333333333,
              "#9c179e"
             ],
             [
              0.4444444444444444,
              "#bd3786"
             ],
             [
              0.5555555555555556,
              "#d8576b"
             ],
             [
              0.6666666666666666,
              "#ed7953"
             ],
             [
              0.7777777777777778,
              "#fb9f3a"
             ],
             [
              0.8888888888888888,
              "#fdca26"
             ],
             [
              1,
              "#f0f921"
             ]
            ],
            "type": "histogram2dcontour"
           }
          ],
          "mesh3d": [
           {
            "colorbar": {
             "outlinewidth": 0,
             "ticks": ""
            },
            "type": "mesh3d"
           }
          ],
          "parcoords": [
           {
            "line": {
             "colorbar": {
              "outlinewidth": 0,
              "ticks": ""
             }
            },
            "type": "parcoords"
           }
          ],
          "pie": [
           {
            "automargin": true,
            "type": "pie"
           }
          ],
          "scatter": [
           {
            "marker": {
             "colorbar": {
              "outlinewidth": 0,
              "ticks": ""
             }
            },
            "type": "scatter"
           }
          ],
          "scatter3d": [
           {
            "line": {
             "colorbar": {
              "outlinewidth": 0,
              "ticks": ""
             }
            },
            "marker": {
             "colorbar": {
              "outlinewidth": 0,
              "ticks": ""
             }
            },
            "type": "scatter3d"
           }
          ],
          "scattercarpet": [
           {
            "marker": {
             "colorbar": {
              "outlinewidth": 0,
              "ticks": ""
             }
            },
            "type": "scattercarpet"
           }
          ],
          "scattergeo": [
           {
            "marker": {
             "colorbar": {
              "outlinewidth": 0,
              "ticks": ""
             }
            },
            "type": "scattergeo"
           }
          ],
          "scattergl": [
           {
            "marker": {
             "colorbar": {
              "outlinewidth": 0,
              "ticks": ""
             }
            },
            "type": "scattergl"
           }
          ],
          "scattermapbox": [
           {
            "marker": {
             "colorbar": {
              "outlinewidth": 0,
              "ticks": ""
             }
            },
            "type": "scattermapbox"
           }
          ],
          "scatterpolar": [
           {
            "marker": {
             "colorbar": {
              "outlinewidth": 0,
              "ticks": ""
             }
            },
            "type": "scatterpolar"
           }
          ],
          "scatterpolargl": [
           {
            "marker": {
             "colorbar": {
              "outlinewidth": 0,
              "ticks": ""
             }
            },
            "type": "scatterpolargl"
           }
          ],
          "scatterternary": [
           {
            "marker": {
             "colorbar": {
              "outlinewidth": 0,
              "ticks": ""
             }
            },
            "type": "scatterternary"
           }
          ],
          "surface": [
           {
            "colorbar": {
             "outlinewidth": 0,
             "ticks": ""
            },
            "colorscale": [
             [
              0,
              "#0d0887"
             ],
             [
              0.1111111111111111,
              "#46039f"
             ],
             [
              0.2222222222222222,
              "#7201a8"
             ],
             [
              0.3333333333333333,
              "#9c179e"
             ],
             [
              0.4444444444444444,
              "#bd3786"
             ],
             [
              0.5555555555555556,
              "#d8576b"
             ],
             [
              0.6666666666666666,
              "#ed7953"
             ],
             [
              0.7777777777777778,
              "#fb9f3a"
             ],
             [
              0.8888888888888888,
              "#fdca26"
             ],
             [
              1,
              "#f0f921"
             ]
            ],
            "type": "surface"
           }
          ],
          "table": [
           {
            "cells": {
             "fill": {
              "color": "#EBF0F8"
             },
             "line": {
              "color": "white"
             }
            },
            "header": {
             "fill": {
              "color": "#C8D4E3"
             },
             "line": {
              "color": "white"
             }
            },
            "type": "table"
           }
          ]
         },
         "layout": {
          "annotationdefaults": {
           "arrowcolor": "#2a3f5f",
           "arrowhead": 0,
           "arrowwidth": 1
          },
          "autotypenumbers": "strict",
          "coloraxis": {
           "colorbar": {
            "outlinewidth": 0,
            "ticks": ""
           }
          },
          "colorscale": {
           "diverging": [
            [
             0,
             "#8e0152"
            ],
            [
             0.1,
             "#c51b7d"
            ],
            [
             0.2,
             "#de77ae"
            ],
            [
             0.3,
             "#f1b6da"
            ],
            [
             0.4,
             "#fde0ef"
            ],
            [
             0.5,
             "#f7f7f7"
            ],
            [
             0.6,
             "#e6f5d0"
            ],
            [
             0.7,
             "#b8e186"
            ],
            [
             0.8,
             "#7fbc41"
            ],
            [
             0.9,
             "#4d9221"
            ],
            [
             1,
             "#276419"
            ]
           ],
           "sequential": [
            [
             0,
             "#0d0887"
            ],
            [
             0.1111111111111111,
             "#46039f"
            ],
            [
             0.2222222222222222,
             "#7201a8"
            ],
            [
             0.3333333333333333,
             "#9c179e"
            ],
            [
             0.4444444444444444,
             "#bd3786"
            ],
            [
             0.5555555555555556,
             "#d8576b"
            ],
            [
             0.6666666666666666,
             "#ed7953"
            ],
            [
             0.7777777777777778,
             "#fb9f3a"
            ],
            [
             0.8888888888888888,
             "#fdca26"
            ],
            [
             1,
             "#f0f921"
            ]
           ],
           "sequentialminus": [
            [
             0,
             "#0d0887"
            ],
            [
             0.1111111111111111,
             "#46039f"
            ],
            [
             0.2222222222222222,
             "#7201a8"
            ],
            [
             0.3333333333333333,
             "#9c179e"
            ],
            [
             0.4444444444444444,
             "#bd3786"
            ],
            [
             0.5555555555555556,
             "#d8576b"
            ],
            [
             0.6666666666666666,
             "#ed7953"
            ],
            [
             0.7777777777777778,
             "#fb9f3a"
            ],
            [
             0.8888888888888888,
             "#fdca26"
            ],
            [
             1,
             "#f0f921"
            ]
           ]
          },
          "colorway": [
           "#636efa",
           "#EF553B",
           "#00cc96",
           "#ab63fa",
           "#FFA15A",
           "#19d3f3",
           "#FF6692",
           "#B6E880",
           "#FF97FF",
           "#FECB52"
          ],
          "font": {
           "color": "#2a3f5f"
          },
          "geo": {
           "bgcolor": "white",
           "lakecolor": "white",
           "landcolor": "#E5ECF6",
           "showlakes": true,
           "showland": true,
           "subunitcolor": "white"
          },
          "hoverlabel": {
           "align": "left"
          },
          "hovermode": "closest",
          "mapbox": {
           "style": "light"
          },
          "paper_bgcolor": "white",
          "plot_bgcolor": "#E5ECF6",
          "polar": {
           "angularaxis": {
            "gridcolor": "white",
            "linecolor": "white",
            "ticks": ""
           },
           "bgcolor": "#E5ECF6",
           "radialaxis": {
            "gridcolor": "white",
            "linecolor": "white",
            "ticks": ""
           }
          },
          "scene": {
           "xaxis": {
            "backgroundcolor": "#E5ECF6",
            "gridcolor": "white",
            "gridwidth": 2,
            "linecolor": "white",
            "showbackground": true,
            "ticks": "",
            "zerolinecolor": "white"
           },
           "yaxis": {
            "backgroundcolor": "#E5ECF6",
            "gridcolor": "white",
            "gridwidth": 2,
            "linecolor": "white",
            "showbackground": true,
            "ticks": "",
            "zerolinecolor": "white"
           },
           "zaxis": {
            "backgroundcolor": "#E5ECF6",
            "gridcolor": "white",
            "gridwidth": 2,
            "linecolor": "white",
            "showbackground": true,
            "ticks": "",
            "zerolinecolor": "white"
           }
          },
          "shapedefaults": {
           "line": {
            "color": "#2a3f5f"
           }
          },
          "ternary": {
           "aaxis": {
            "gridcolor": "white",
            "linecolor": "white",
            "ticks": ""
           },
           "baxis": {
            "gridcolor": "white",
            "linecolor": "white",
            "ticks": ""
           },
           "bgcolor": "#E5ECF6",
           "caxis": {
            "gridcolor": "white",
            "linecolor": "white",
            "ticks": ""
           }
          },
          "title": {
           "x": 0.05
          },
          "xaxis": {
           "automargin": true,
           "gridcolor": "white",
           "linecolor": "white",
           "ticks": "",
           "title": {
            "standoff": 15
           },
           "zerolinecolor": "white",
           "zerolinewidth": 2
          },
          "yaxis": {
           "automargin": true,
           "gridcolor": "white",
           "linecolor": "white",
           "ticks": "",
           "title": {
            "standoff": 15
           },
           "zerolinecolor": "white",
           "zerolinewidth": 2
          }
         }
        },
        "title": {
         "text": "Daily GME Mentions"
        },
        "xaxis": {
         "anchor": "y",
         "domain": [
          0,
          1
         ],
         "gridcolor": "rgb(144, 145, 142)",
         "title": {
          "text": "date"
         }
        },
        "yaxis": {
         "anchor": "x",
         "domain": [
          0,
          1
         ],
         "gridcolor": "rgb(144, 145, 142)",
         "title": {
          "text": "sum of count"
         }
        }
       }
      },
      "text/html": [
       "<div>                            <div id=\"5d2ac67a-af76-44eb-8c80-e8e3133fdbad\" class=\"plotly-graph-div\" style=\"height:525px; width:100%;\"></div>            <script type=\"text/javascript\">                require([\"plotly\"], function(Plotly) {                    window.PLOTLYENV=window.PLOTLYENV || {};                                    if (document.getElementById(\"5d2ac67a-af76-44eb-8c80-e8e3133fdbad\")) {                    Plotly.newPlot(                        \"5d2ac67a-af76-44eb-8c80-e8e3133fdbad\",                        [{\"alignmentgroup\": \"True\", \"bingroup\": \"x\", \"histfunc\": \"sum\", \"hovertemplate\": \"date=%{x}<br>sum of count=%{y}<extra></extra>\", \"legendgroup\": \"\", \"marker\": {\"color\": \"rgb(73, 157, 222)\", \"line\": {\"width\": 1.5}}, \"name\": \"\", \"nbinsx\": 46, \"offsetgroup\": \"\", \"orientation\": \"v\", \"showlegend\": false, \"type\": \"histogram\", \"x\": [\"2020-12-31\", \"2021-01-01\", \"2021-01-02\", \"2021-01-03\", \"2021-01-04\", \"2021-01-05\", \"2021-01-06\", \"2021-01-07\", \"2021-01-08\", \"2021-01-09\", \"2021-01-10\", \"2021-01-11\", \"2021-01-12\", \"2021-01-13\", \"2021-01-14\", \"2021-01-15\", \"2021-01-16\", \"2021-01-17\", \"2021-01-18\", \"2021-01-19\", \"2021-01-20\", \"2021-01-21\", \"2021-01-22\", \"2021-01-23\", \"2021-01-24\", \"2021-01-25\", \"2021-01-26\", \"2021-01-27\", \"2021-01-28\", \"2021-01-29\", \"2021-01-30\", \"2021-01-31\", \"2021-02-01\", \"2021-02-02\", \"2021-02-03\", \"2021-02-04\", \"2021-02-07\", \"2021-02-08\", \"2021-02-09\", \"2021-02-10\", \"2021-02-11\", \"2021-02-12\", \"2021-02-13\", \"2021-02-14\", \"2021-02-15\", \"2021-02-16\"], \"xaxis\": \"x\", \"y\": [30, 33, 44, 35, 67, 63, 51, 23, 53, 44, 30, 114, 52, 629, 633, 680, 222, 204, 387, 594, 453, 610, 1447, 688, 702, 3107, 1022, 11122, 21796, 11674, 6852, 6324, 10706, 10726, 4320, 3117, 137, 683, 589, 804, 661, 524, 273, 202, 229, 29], \"yaxis\": \"y\"}],                        {\"barmode\": \"relative\", \"legend\": {\"tracegroupgap\": 0}, \"plot_bgcolor\": \"rgb(84, 85, 87)\", \"template\": {\"data\": {\"bar\": [{\"error_x\": {\"color\": \"#2a3f5f\"}, \"error_y\": {\"color\": \"#2a3f5f\"}, \"marker\": {\"line\": {\"color\": \"#E5ECF6\", \"width\": 0.5}}, \"type\": \"bar\"}], \"barpolar\": [{\"marker\": {\"line\": {\"color\": \"#E5ECF6\", \"width\": 0.5}}, \"type\": \"barpolar\"}], \"carpet\": [{\"aaxis\": {\"endlinecolor\": \"#2a3f5f\", \"gridcolor\": \"white\", \"linecolor\": \"white\", \"minorgridcolor\": \"white\", \"startlinecolor\": \"#2a3f5f\"}, \"baxis\": {\"endlinecolor\": \"#2a3f5f\", \"gridcolor\": \"white\", \"linecolor\": \"white\", \"minorgridcolor\": \"white\", \"startlinecolor\": \"#2a3f5f\"}, \"type\": \"carpet\"}], \"choropleth\": [{\"colorbar\": {\"outlinewidth\": 0, \"ticks\": \"\"}, \"type\": \"choropleth\"}], \"contour\": [{\"colorbar\": {\"outlinewidth\": 0, \"ticks\": \"\"}, \"colorscale\": [[0.0, \"#0d0887\"], [0.1111111111111111, \"#46039f\"], [0.2222222222222222, \"#7201a8\"], [0.3333333333333333, \"#9c179e\"], [0.4444444444444444, \"#bd3786\"], [0.5555555555555556, \"#d8576b\"], [0.6666666666666666, \"#ed7953\"], [0.7777777777777778, \"#fb9f3a\"], [0.8888888888888888, \"#fdca26\"], [1.0, \"#f0f921\"]], \"type\": \"contour\"}], \"contourcarpet\": [{\"colorbar\": {\"outlinewidth\": 0, \"ticks\": \"\"}, \"type\": \"contourcarpet\"}], \"heatmap\": [{\"colorbar\": {\"outlinewidth\": 0, \"ticks\": \"\"}, \"colorscale\": [[0.0, \"#0d0887\"], [0.1111111111111111, \"#46039f\"], [0.2222222222222222, \"#7201a8\"], [0.3333333333333333, \"#9c179e\"], [0.4444444444444444, \"#bd3786\"], [0.5555555555555556, \"#d8576b\"], [0.6666666666666666, \"#ed7953\"], [0.7777777777777778, \"#fb9f3a\"], [0.8888888888888888, \"#fdca26\"], [1.0, \"#f0f921\"]], \"type\": \"heatmap\"}], \"heatmapgl\": [{\"colorbar\": {\"outlinewidth\": 0, \"ticks\": \"\"}, \"colorscale\": [[0.0, \"#0d0887\"], [0.1111111111111111, \"#46039f\"], [0.2222222222222222, \"#7201a8\"], [0.3333333333333333, \"#9c179e\"], [0.4444444444444444, \"#bd3786\"], [0.5555555555555556, \"#d8576b\"], [0.6666666666666666, \"#ed7953\"], [0.7777777777777778, \"#fb9f3a\"], [0.8888888888888888, \"#fdca26\"], [1.0, \"#f0f921\"]], \"type\": \"heatmapgl\"}], \"histogram\": [{\"marker\": {\"colorbar\": {\"outlinewidth\": 0, \"ticks\": \"\"}}, \"type\": \"histogram\"}], \"histogram2d\": [{\"colorbar\": {\"outlinewidth\": 0, \"ticks\": \"\"}, \"colorscale\": [[0.0, \"#0d0887\"], [0.1111111111111111, \"#46039f\"], [0.2222222222222222, \"#7201a8\"], [0.3333333333333333, \"#9c179e\"], [0.4444444444444444, \"#bd3786\"], [0.5555555555555556, \"#d8576b\"], [0.6666666666666666, \"#ed7953\"], [0.7777777777777778, \"#fb9f3a\"], [0.8888888888888888, \"#fdca26\"], [1.0, \"#f0f921\"]], \"type\": \"histogram2d\"}], \"histogram2dcontour\": [{\"colorbar\": {\"outlinewidth\": 0, \"ticks\": \"\"}, \"colorscale\": [[0.0, \"#0d0887\"], [0.1111111111111111, \"#46039f\"], [0.2222222222222222, \"#7201a8\"], [0.3333333333333333, \"#9c179e\"], [0.4444444444444444, \"#bd3786\"], [0.5555555555555556, \"#d8576b\"], [0.6666666666666666, \"#ed7953\"], [0.7777777777777778, \"#fb9f3a\"], [0.8888888888888888, \"#fdca26\"], [1.0, \"#f0f921\"]], \"type\": \"histogram2dcontour\"}], \"mesh3d\": [{\"colorbar\": {\"outlinewidth\": 0, \"ticks\": \"\"}, \"type\": \"mesh3d\"}], \"parcoords\": [{\"line\": {\"colorbar\": {\"outlinewidth\": 0, \"ticks\": \"\"}}, \"type\": \"parcoords\"}], \"pie\": [{\"automargin\": true, \"type\": \"pie\"}], \"scatter\": [{\"marker\": {\"colorbar\": {\"outlinewidth\": 0, \"ticks\": \"\"}}, \"type\": \"scatter\"}], \"scatter3d\": [{\"line\": {\"colorbar\": {\"outlinewidth\": 0, \"ticks\": \"\"}}, \"marker\": {\"colorbar\": {\"outlinewidth\": 0, \"ticks\": \"\"}}, \"type\": \"scatter3d\"}], \"scattercarpet\": [{\"marker\": {\"colorbar\": {\"outlinewidth\": 0, \"ticks\": \"\"}}, \"type\": \"scattercarpet\"}], \"scattergeo\": [{\"marker\": {\"colorbar\": {\"outlinewidth\": 0, \"ticks\": \"\"}}, \"type\": \"scattergeo\"}], \"scattergl\": [{\"marker\": {\"colorbar\": {\"outlinewidth\": 0, \"ticks\": \"\"}}, \"type\": \"scattergl\"}], \"scattermapbox\": [{\"marker\": {\"colorbar\": {\"outlinewidth\": 0, \"ticks\": \"\"}}, \"type\": \"scattermapbox\"}], \"scatterpolar\": [{\"marker\": {\"colorbar\": {\"outlinewidth\": 0, \"ticks\": \"\"}}, \"type\": \"scatterpolar\"}], \"scatterpolargl\": [{\"marker\": {\"colorbar\": {\"outlinewidth\": 0, \"ticks\": \"\"}}, \"type\": \"scatterpolargl\"}], \"scatterternary\": [{\"marker\": {\"colorbar\": {\"outlinewidth\": 0, \"ticks\": \"\"}}, \"type\": \"scatterternary\"}], \"surface\": [{\"colorbar\": {\"outlinewidth\": 0, \"ticks\": \"\"}, \"colorscale\": [[0.0, \"#0d0887\"], [0.1111111111111111, \"#46039f\"], [0.2222222222222222, \"#7201a8\"], [0.3333333333333333, \"#9c179e\"], [0.4444444444444444, \"#bd3786\"], [0.5555555555555556, \"#d8576b\"], [0.6666666666666666, \"#ed7953\"], [0.7777777777777778, \"#fb9f3a\"], [0.8888888888888888, \"#fdca26\"], [1.0, \"#f0f921\"]], \"type\": \"surface\"}], \"table\": [{\"cells\": {\"fill\": {\"color\": \"#EBF0F8\"}, \"line\": {\"color\": \"white\"}}, \"header\": {\"fill\": {\"color\": \"#C8D4E3\"}, \"line\": {\"color\": \"white\"}}, \"type\": \"table\"}]}, \"layout\": {\"annotationdefaults\": {\"arrowcolor\": \"#2a3f5f\", \"arrowhead\": 0, \"arrowwidth\": 1}, \"autotypenumbers\": \"strict\", \"coloraxis\": {\"colorbar\": {\"outlinewidth\": 0, \"ticks\": \"\"}}, \"colorscale\": {\"diverging\": [[0, \"#8e0152\"], [0.1, \"#c51b7d\"], [0.2, \"#de77ae\"], [0.3, \"#f1b6da\"], [0.4, \"#fde0ef\"], [0.5, \"#f7f7f7\"], [0.6, \"#e6f5d0\"], [0.7, \"#b8e186\"], [0.8, \"#7fbc41\"], [0.9, \"#4d9221\"], [1, \"#276419\"]], \"sequential\": [[0.0, \"#0d0887\"], [0.1111111111111111, \"#46039f\"], [0.2222222222222222, \"#7201a8\"], [0.3333333333333333, \"#9c179e\"], [0.4444444444444444, \"#bd3786\"], [0.5555555555555556, \"#d8576b\"], [0.6666666666666666, \"#ed7953\"], [0.7777777777777778, \"#fb9f3a\"], [0.8888888888888888, \"#fdca26\"], [1.0, \"#f0f921\"]], \"sequentialminus\": [[0.0, \"#0d0887\"], [0.1111111111111111, \"#46039f\"], [0.2222222222222222, \"#7201a8\"], [0.3333333333333333, \"#9c179e\"], [0.4444444444444444, \"#bd3786\"], [0.5555555555555556, \"#d8576b\"], [0.6666666666666666, \"#ed7953\"], [0.7777777777777778, \"#fb9f3a\"], [0.8888888888888888, \"#fdca26\"], [1.0, \"#f0f921\"]]}, \"colorway\": [\"#636efa\", \"#EF553B\", \"#00cc96\", \"#ab63fa\", \"#FFA15A\", \"#19d3f3\", \"#FF6692\", \"#B6E880\", \"#FF97FF\", \"#FECB52\"], \"font\": {\"color\": \"#2a3f5f\"}, \"geo\": {\"bgcolor\": \"white\", \"lakecolor\": \"white\", \"landcolor\": \"#E5ECF6\", \"showlakes\": true, \"showland\": true, \"subunitcolor\": \"white\"}, \"hoverlabel\": {\"align\": \"left\"}, \"hovermode\": \"closest\", \"mapbox\": {\"style\": \"light\"}, \"paper_bgcolor\": \"white\", \"plot_bgcolor\": \"#E5ECF6\", \"polar\": {\"angularaxis\": {\"gridcolor\": \"white\", \"linecolor\": \"white\", \"ticks\": \"\"}, \"bgcolor\": \"#E5ECF6\", \"radialaxis\": {\"gridcolor\": \"white\", \"linecolor\": \"white\", \"ticks\": \"\"}}, \"scene\": {\"xaxis\": {\"backgroundcolor\": \"#E5ECF6\", \"gridcolor\": \"white\", \"gridwidth\": 2, \"linecolor\": \"white\", \"showbackground\": true, \"ticks\": \"\", \"zerolinecolor\": \"white\"}, \"yaxis\": {\"backgroundcolor\": \"#E5ECF6\", \"gridcolor\": \"white\", \"gridwidth\": 2, \"linecolor\": \"white\", \"showbackground\": true, \"ticks\": \"\", \"zerolinecolor\": \"white\"}, \"zaxis\": {\"backgroundcolor\": \"#E5ECF6\", \"gridcolor\": \"white\", \"gridwidth\": 2, \"linecolor\": \"white\", \"showbackground\": true, \"ticks\": \"\", \"zerolinecolor\": \"white\"}}, \"shapedefaults\": {\"line\": {\"color\": \"#2a3f5f\"}}, \"ternary\": {\"aaxis\": {\"gridcolor\": \"white\", \"linecolor\": \"white\", \"ticks\": \"\"}, \"baxis\": {\"gridcolor\": \"white\", \"linecolor\": \"white\", \"ticks\": \"\"}, \"bgcolor\": \"#E5ECF6\", \"caxis\": {\"gridcolor\": \"white\", \"linecolor\": \"white\", \"ticks\": \"\"}}, \"title\": {\"x\": 0.05}, \"xaxis\": {\"automargin\": true, \"gridcolor\": \"white\", \"linecolor\": \"white\", \"ticks\": \"\", \"title\": {\"standoff\": 15}, \"zerolinecolor\": \"white\", \"zerolinewidth\": 2}, \"yaxis\": {\"automargin\": true, \"gridcolor\": \"white\", \"linecolor\": \"white\", \"ticks\": \"\", \"title\": {\"standoff\": 15}, \"zerolinecolor\": \"white\", \"zerolinewidth\": 2}}}, \"title\": {\"text\": \"Daily GME Mentions\"}, \"xaxis\": {\"anchor\": \"y\", \"domain\": [0.0, 1.0], \"gridcolor\": \"rgb(144, 145, 142)\", \"title\": {\"text\": \"date\"}}, \"yaxis\": {\"anchor\": \"x\", \"domain\": [0.0, 1.0], \"gridcolor\": \"rgb(144, 145, 142)\", \"title\": {\"text\": \"sum of count\"}}},                        {\"responsive\": true}                    ).then(function(){\n",
       "                            \n",
       "var gd = document.getElementById('5d2ac67a-af76-44eb-8c80-e8e3133fdbad');\n",
       "var x = new MutationObserver(function (mutations, observer) {{\n",
       "        var display = window.getComputedStyle(gd).display;\n",
       "        if (!display || display === 'none') {{\n",
       "            console.log([gd, 'removed!']);\n",
       "            Plotly.purge(gd);\n",
       "            observer.disconnect();\n",
       "        }}\n",
       "}});\n",
       "\n",
       "// Listen for the removal of the full notebook cells\n",
       "var notebookContainer = gd.closest('#notebook-container');\n",
       "if (notebookContainer) {{\n",
       "    x.observe(notebookContainer, {childList: true});\n",
       "}}\n",
       "\n",
       "// Listen for the clearing of the current output cell\n",
       "var outputEl = gd.closest('.output');\n",
       "if (outputEl) {{\n",
       "    x.observe(outputEl, {childList: true});\n",
       "}}\n",
       "\n",
       "                        })                };                });            </script>        </div>"
      ]
     },
     "metadata": {},
     "output_type": "display_data"
    }
   ],
   "source": [
    "fig = px.histogram(gme_date, x='date', y='count', title='Daily GME Mentions', nbins= len(gme_date['date']))\n",
    "\n",
    "fig.layout.plot_bgcolor='rgb(84, 85, 87)'\n",
    "fig.layout.yaxis.gridcolor='rgb(144, 145, 142)'\n",
    "fig.layout.xaxis.gridcolor='rgb(144, 145, 142)'\n",
    "fig.update_traces(marker_color='rgb(73, 157, 222)',\n",
    "                  marker_line_width=1.5)\n",
    "fig.show()\n",
    "fig."
   ]
  },
  {
   "cell_type": "code",
   "execution_count": 11,
   "metadata": {
    "scrolled": true
   },
   "outputs": [],
   "source": [
    "### Group by gme and hour for graphing, reduce to Jan25-29th for easier graphing ###\n",
    "jan_25 = datetime.strptime('2021-01-25 00:00:00', \"%Y-%m-%d %H:%M:%S\")\n",
    "jan_29 = datetime.strptime('2021-01-29 23:00:00', \"%Y-%m-%d %H:%M:%S\")\n",
    "gme_hour = wsb_full.groupby(['title','date_hour']).count().reset_index()\n",
    "gme_hour = gme_hour[(gme_hour['title'] == 'gme') & (gme_hour['date_hour'] > jan_25)&\n",
    "                    (gme_hour['date_hour'] <= jan_29)]\n",
    "gme_hour = gme_hour.drop(['Unnamed: 0','author', 'scores',\n",
    "                                     'comments', 'timestamp'], axis =1)\n",
    "gme_hour = gme_hour.rename(columns = {'title':'title','date_hour' : 'date', 'date': 'count'})"
   ]
  },
  {
   "cell_type": "code",
   "execution_count": 12,
   "metadata": {},
   "outputs": [
    {
     "data": {
      "application/vnd.plotly.v1+json": {
       "config": {
        "plotlyServerURL": "https://plot.ly"
       },
       "data": [
        {
         "hovertemplate": "Hours=%{x}<br>Mentions=%{y}<extra></extra>",
         "legendgroup": "",
         "line": {
          "color": "rgb(73, 157, 222)",
          "dash": "solid",
          "width": 3
         },
         "mode": "lines",
         "name": "",
         "orientation": "v",
         "showlegend": false,
         "type": "scatter",
         "x": [
          "2021-01-25T01:00:00",
          "2021-01-25T02:00:00",
          "2021-01-25T03:00:00",
          "2021-01-25T04:00:00",
          "2021-01-25T05:00:00",
          "2021-01-25T06:00:00",
          "2021-01-25T07:00:00",
          "2021-01-25T08:00:00",
          "2021-01-25T09:00:00",
          "2021-01-25T10:00:00",
          "2021-01-25T11:00:00",
          "2021-01-25T12:00:00",
          "2021-01-25T13:00:00",
          "2021-01-25T14:00:00",
          "2021-01-25T15:00:00",
          "2021-01-25T16:00:00",
          "2021-01-25T17:00:00",
          "2021-01-25T18:00:00",
          "2021-01-25T19:00:00",
          "2021-01-25T20:00:00",
          "2021-01-25T21:00:00",
          "2021-01-25T22:00:00",
          "2021-01-25T23:00:00",
          "2021-01-26T00:00:00",
          "2021-01-26T01:00:00",
          "2021-01-26T02:00:00",
          "2021-01-26T03:00:00",
          "2021-01-26T04:00:00",
          "2021-01-26T05:00:00",
          "2021-01-26T06:00:00",
          "2021-01-26T07:00:00",
          "2021-01-26T08:00:00",
          "2021-01-26T09:00:00",
          "2021-01-26T10:00:00",
          "2021-01-26T11:00:00",
          "2021-01-27T09:00:00",
          "2021-01-27T10:00:00",
          "2021-01-27T11:00:00",
          "2021-01-27T12:00:00",
          "2021-01-27T13:00:00",
          "2021-01-27T14:00:00",
          "2021-01-27T15:00:00",
          "2021-01-27T16:00:00",
          "2021-01-27T17:00:00",
          "2021-01-27T18:00:00",
          "2021-01-27T19:00:00",
          "2021-01-27T20:00:00",
          "2021-01-27T21:00:00",
          "2021-01-27T22:00:00",
          "2021-01-27T23:00:00",
          "2021-01-28T00:00:00",
          "2021-01-28T01:00:00",
          "2021-01-28T02:00:00",
          "2021-01-28T03:00:00",
          "2021-01-28T04:00:00",
          "2021-01-28T05:00:00",
          "2021-01-28T06:00:00",
          "2021-01-28T07:00:00",
          "2021-01-28T08:00:00",
          "2021-01-28T09:00:00",
          "2021-01-28T10:00:00",
          "2021-01-28T11:00:00",
          "2021-01-28T12:00:00",
          "2021-01-28T13:00:00",
          "2021-01-28T14:00:00",
          "2021-01-28T15:00:00",
          "2021-01-28T16:00:00",
          "2021-01-28T17:00:00",
          "2021-01-28T18:00:00",
          "2021-01-28T19:00:00",
          "2021-01-28T20:00:00",
          "2021-01-28T21:00:00",
          "2021-01-28T22:00:00",
          "2021-01-28T23:00:00",
          "2021-01-29T00:00:00",
          "2021-01-29T01:00:00",
          "2021-01-29T02:00:00",
          "2021-01-29T03:00:00",
          "2021-01-29T04:00:00",
          "2021-01-29T05:00:00",
          "2021-01-29T06:00:00",
          "2021-01-29T07:00:00",
          "2021-01-29T08:00:00",
          "2021-01-29T09:00:00",
          "2021-01-29T10:00:00",
          "2021-01-29T11:00:00",
          "2021-01-29T12:00:00",
          "2021-01-29T13:00:00",
          "2021-01-29T14:00:00",
          "2021-01-29T15:00:00",
          "2021-01-29T16:00:00",
          "2021-01-29T17:00:00",
          "2021-01-29T18:00:00",
          "2021-01-29T19:00:00",
          "2021-01-29T20:00:00",
          "2021-01-29T21:00:00",
          "2021-01-29T22:00:00",
          "2021-01-29T23:00:00"
         ],
         "xaxis": "x",
         "y": [
          19,
          26,
          20,
          116,
          97,
          48,
          59,
          98,
          148,
          294,
          392,
          373,
          220,
          159,
          160,
          143,
          130,
          90,
          100,
          113,
          103,
          103,
          63,
          83,
          65,
          49,
          51,
          46,
          48,
          61,
          80,
          76,
          155,
          229,
          79,
          44,
          1050,
          1176,
          1299,
          898,
          1112,
          1259,
          504,
          308,
          382,
          403,
          906,
          705,
          614,
          462,
          365,
          318,
          291,
          317,
          276,
          426,
          623,
          638,
          1821,
          2058,
          2054,
          2080,
          1572,
          967,
          1386,
          1267,
          997,
          770,
          737,
          680,
          606,
          531,
          560,
          456,
          426,
          330,
          322,
          273,
          333,
          316,
          315,
          400,
          475,
          881,
          1006,
          726,
          677,
          705,
          795,
          635,
          525,
          425,
          374,
          335,
          370,
          410,
          309,
          311
         ],
         "yaxis": "y"
        }
       ],
       "layout": {
        "legend": {
         "tracegroupgap": 0
        },
        "plot_bgcolor": "rgb(84, 85, 87)",
        "template": {
         "data": {
          "bar": [
           {
            "error_x": {
             "color": "#2a3f5f"
            },
            "error_y": {
             "color": "#2a3f5f"
            },
            "marker": {
             "line": {
              "color": "#E5ECF6",
              "width": 0.5
             }
            },
            "type": "bar"
           }
          ],
          "barpolar": [
           {
            "marker": {
             "line": {
              "color": "#E5ECF6",
              "width": 0.5
             }
            },
            "type": "barpolar"
           }
          ],
          "carpet": [
           {
            "aaxis": {
             "endlinecolor": "#2a3f5f",
             "gridcolor": "white",
             "linecolor": "white",
             "minorgridcolor": "white",
             "startlinecolor": "#2a3f5f"
            },
            "baxis": {
             "endlinecolor": "#2a3f5f",
             "gridcolor": "white",
             "linecolor": "white",
             "minorgridcolor": "white",
             "startlinecolor": "#2a3f5f"
            },
            "type": "carpet"
           }
          ],
          "choropleth": [
           {
            "colorbar": {
             "outlinewidth": 0,
             "ticks": ""
            },
            "type": "choropleth"
           }
          ],
          "contour": [
           {
            "colorbar": {
             "outlinewidth": 0,
             "ticks": ""
            },
            "colorscale": [
             [
              0,
              "#0d0887"
             ],
             [
              0.1111111111111111,
              "#46039f"
             ],
             [
              0.2222222222222222,
              "#7201a8"
             ],
             [
              0.3333333333333333,
              "#9c179e"
             ],
             [
              0.4444444444444444,
              "#bd3786"
             ],
             [
              0.5555555555555556,
              "#d8576b"
             ],
             [
              0.6666666666666666,
              "#ed7953"
             ],
             [
              0.7777777777777778,
              "#fb9f3a"
             ],
             [
              0.8888888888888888,
              "#fdca26"
             ],
             [
              1,
              "#f0f921"
             ]
            ],
            "type": "contour"
           }
          ],
          "contourcarpet": [
           {
            "colorbar": {
             "outlinewidth": 0,
             "ticks": ""
            },
            "type": "contourcarpet"
           }
          ],
          "heatmap": [
           {
            "colorbar": {
             "outlinewidth": 0,
             "ticks": ""
            },
            "colorscale": [
             [
              0,
              "#0d0887"
             ],
             [
              0.1111111111111111,
              "#46039f"
             ],
             [
              0.2222222222222222,
              "#7201a8"
             ],
             [
              0.3333333333333333,
              "#9c179e"
             ],
             [
              0.4444444444444444,
              "#bd3786"
             ],
             [
              0.5555555555555556,
              "#d8576b"
             ],
             [
              0.6666666666666666,
              "#ed7953"
             ],
             [
              0.7777777777777778,
              "#fb9f3a"
             ],
             [
              0.8888888888888888,
              "#fdca26"
             ],
             [
              1,
              "#f0f921"
             ]
            ],
            "type": "heatmap"
           }
          ],
          "heatmapgl": [
           {
            "colorbar": {
             "outlinewidth": 0,
             "ticks": ""
            },
            "colorscale": [
             [
              0,
              "#0d0887"
             ],
             [
              0.1111111111111111,
              "#46039f"
             ],
             [
              0.2222222222222222,
              "#7201a8"
             ],
             [
              0.3333333333333333,
              "#9c179e"
             ],
             [
              0.4444444444444444,
              "#bd3786"
             ],
             [
              0.5555555555555556,
              "#d8576b"
             ],
             [
              0.6666666666666666,
              "#ed7953"
             ],
             [
              0.7777777777777778,
              "#fb9f3a"
             ],
             [
              0.8888888888888888,
              "#fdca26"
             ],
             [
              1,
              "#f0f921"
             ]
            ],
            "type": "heatmapgl"
           }
          ],
          "histogram": [
           {
            "marker": {
             "colorbar": {
              "outlinewidth": 0,
              "ticks": ""
             }
            },
            "type": "histogram"
           }
          ],
          "histogram2d": [
           {
            "colorbar": {
             "outlinewidth": 0,
             "ticks": ""
            },
            "colorscale": [
             [
              0,
              "#0d0887"
             ],
             [
              0.1111111111111111,
              "#46039f"
             ],
             [
              0.2222222222222222,
              "#7201a8"
             ],
             [
              0.3333333333333333,
              "#9c179e"
             ],
             [
              0.4444444444444444,
              "#bd3786"
             ],
             [
              0.5555555555555556,
              "#d8576b"
             ],
             [
              0.6666666666666666,
              "#ed7953"
             ],
             [
              0.7777777777777778,
              "#fb9f3a"
             ],
             [
              0.8888888888888888,
              "#fdca26"
             ],
             [
              1,
              "#f0f921"
             ]
            ],
            "type": "histogram2d"
           }
          ],
          "histogram2dcontour": [
           {
            "colorbar": {
             "outlinewidth": 0,
             "ticks": ""
            },
            "colorscale": [
             [
              0,
              "#0d0887"
             ],
             [
              0.1111111111111111,
              "#46039f"
             ],
             [
              0.2222222222222222,
              "#7201a8"
             ],
             [
              0.3333333333333333,
              "#9c179e"
             ],
             [
              0.4444444444444444,
              "#bd3786"
             ],
             [
              0.5555555555555556,
              "#d8576b"
             ],
             [
              0.6666666666666666,
              "#ed7953"
             ],
             [
              0.7777777777777778,
              "#fb9f3a"
             ],
             [
              0.8888888888888888,
              "#fdca26"
             ],
             [
              1,
              "#f0f921"
             ]
            ],
            "type": "histogram2dcontour"
           }
          ],
          "mesh3d": [
           {
            "colorbar": {
             "outlinewidth": 0,
             "ticks": ""
            },
            "type": "mesh3d"
           }
          ],
          "parcoords": [
           {
            "line": {
             "colorbar": {
              "outlinewidth": 0,
              "ticks": ""
             }
            },
            "type": "parcoords"
           }
          ],
          "pie": [
           {
            "automargin": true,
            "type": "pie"
           }
          ],
          "scatter": [
           {
            "marker": {
             "colorbar": {
              "outlinewidth": 0,
              "ticks": ""
             }
            },
            "type": "scatter"
           }
          ],
          "scatter3d": [
           {
            "line": {
             "colorbar": {
              "outlinewidth": 0,
              "ticks": ""
             }
            },
            "marker": {
             "colorbar": {
              "outlinewidth": 0,
              "ticks": ""
             }
            },
            "type": "scatter3d"
           }
          ],
          "scattercarpet": [
           {
            "marker": {
             "colorbar": {
              "outlinewidth": 0,
              "ticks": ""
             }
            },
            "type": "scattercarpet"
           }
          ],
          "scattergeo": [
           {
            "marker": {
             "colorbar": {
              "outlinewidth": 0,
              "ticks": ""
             }
            },
            "type": "scattergeo"
           }
          ],
          "scattergl": [
           {
            "marker": {
             "colorbar": {
              "outlinewidth": 0,
              "ticks": ""
             }
            },
            "type": "scattergl"
           }
          ],
          "scattermapbox": [
           {
            "marker": {
             "colorbar": {
              "outlinewidth": 0,
              "ticks": ""
             }
            },
            "type": "scattermapbox"
           }
          ],
          "scatterpolar": [
           {
            "marker": {
             "colorbar": {
              "outlinewidth": 0,
              "ticks": ""
             }
            },
            "type": "scatterpolar"
           }
          ],
          "scatterpolargl": [
           {
            "marker": {
             "colorbar": {
              "outlinewidth": 0,
              "ticks": ""
             }
            },
            "type": "scatterpolargl"
           }
          ],
          "scatterternary": [
           {
            "marker": {
             "colorbar": {
              "outlinewidth": 0,
              "ticks": ""
             }
            },
            "type": "scatterternary"
           }
          ],
          "surface": [
           {
            "colorbar": {
             "outlinewidth": 0,
             "ticks": ""
            },
            "colorscale": [
             [
              0,
              "#0d0887"
             ],
             [
              0.1111111111111111,
              "#46039f"
             ],
             [
              0.2222222222222222,
              "#7201a8"
             ],
             [
              0.3333333333333333,
              "#9c179e"
             ],
             [
              0.4444444444444444,
              "#bd3786"
             ],
             [
              0.5555555555555556,
              "#d8576b"
             ],
             [
              0.6666666666666666,
              "#ed7953"
             ],
             [
              0.7777777777777778,
              "#fb9f3a"
             ],
             [
              0.8888888888888888,
              "#fdca26"
             ],
             [
              1,
              "#f0f921"
             ]
            ],
            "type": "surface"
           }
          ],
          "table": [
           {
            "cells": {
             "fill": {
              "color": "#EBF0F8"
             },
             "line": {
              "color": "white"
             }
            },
            "header": {
             "fill": {
              "color": "#C8D4E3"
             },
             "line": {
              "color": "white"
             }
            },
            "type": "table"
           }
          ]
         },
         "layout": {
          "annotationdefaults": {
           "arrowcolor": "#2a3f5f",
           "arrowhead": 0,
           "arrowwidth": 1
          },
          "autotypenumbers": "strict",
          "coloraxis": {
           "colorbar": {
            "outlinewidth": 0,
            "ticks": ""
           }
          },
          "colorscale": {
           "diverging": [
            [
             0,
             "#8e0152"
            ],
            [
             0.1,
             "#c51b7d"
            ],
            [
             0.2,
             "#de77ae"
            ],
            [
             0.3,
             "#f1b6da"
            ],
            [
             0.4,
             "#fde0ef"
            ],
            [
             0.5,
             "#f7f7f7"
            ],
            [
             0.6,
             "#e6f5d0"
            ],
            [
             0.7,
             "#b8e186"
            ],
            [
             0.8,
             "#7fbc41"
            ],
            [
             0.9,
             "#4d9221"
            ],
            [
             1,
             "#276419"
            ]
           ],
           "sequential": [
            [
             0,
             "#0d0887"
            ],
            [
             0.1111111111111111,
             "#46039f"
            ],
            [
             0.2222222222222222,
             "#7201a8"
            ],
            [
             0.3333333333333333,
             "#9c179e"
            ],
            [
             0.4444444444444444,
             "#bd3786"
            ],
            [
             0.5555555555555556,
             "#d8576b"
            ],
            [
             0.6666666666666666,
             "#ed7953"
            ],
            [
             0.7777777777777778,
             "#fb9f3a"
            ],
            [
             0.8888888888888888,
             "#fdca26"
            ],
            [
             1,
             "#f0f921"
            ]
           ],
           "sequentialminus": [
            [
             0,
             "#0d0887"
            ],
            [
             0.1111111111111111,
             "#46039f"
            ],
            [
             0.2222222222222222,
             "#7201a8"
            ],
            [
             0.3333333333333333,
             "#9c179e"
            ],
            [
             0.4444444444444444,
             "#bd3786"
            ],
            [
             0.5555555555555556,
             "#d8576b"
            ],
            [
             0.6666666666666666,
             "#ed7953"
            ],
            [
             0.7777777777777778,
             "#fb9f3a"
            ],
            [
             0.8888888888888888,
             "#fdca26"
            ],
            [
             1,
             "#f0f921"
            ]
           ]
          },
          "colorway": [
           "#636efa",
           "#EF553B",
           "#00cc96",
           "#ab63fa",
           "#FFA15A",
           "#19d3f3",
           "#FF6692",
           "#B6E880",
           "#FF97FF",
           "#FECB52"
          ],
          "font": {
           "color": "#2a3f5f"
          },
          "geo": {
           "bgcolor": "white",
           "lakecolor": "white",
           "landcolor": "#E5ECF6",
           "showlakes": true,
           "showland": true,
           "subunitcolor": "white"
          },
          "hoverlabel": {
           "align": "left"
          },
          "hovermode": "closest",
          "mapbox": {
           "style": "light"
          },
          "paper_bgcolor": "white",
          "plot_bgcolor": "#E5ECF6",
          "polar": {
           "angularaxis": {
            "gridcolor": "white",
            "linecolor": "white",
            "ticks": ""
           },
           "bgcolor": "#E5ECF6",
           "radialaxis": {
            "gridcolor": "white",
            "linecolor": "white",
            "ticks": ""
           }
          },
          "scene": {
           "xaxis": {
            "backgroundcolor": "#E5ECF6",
            "gridcolor": "white",
            "gridwidth": 2,
            "linecolor": "white",
            "showbackground": true,
            "ticks": "",
            "zerolinecolor": "white"
           },
           "yaxis": {
            "backgroundcolor": "#E5ECF6",
            "gridcolor": "white",
            "gridwidth": 2,
            "linecolor": "white",
            "showbackground": true,
            "ticks": "",
            "zerolinecolor": "white"
           },
           "zaxis": {
            "backgroundcolor": "#E5ECF6",
            "gridcolor": "white",
            "gridwidth": 2,
            "linecolor": "white",
            "showbackground": true,
            "ticks": "",
            "zerolinecolor": "white"
           }
          },
          "shapedefaults": {
           "line": {
            "color": "#2a3f5f"
           }
          },
          "ternary": {
           "aaxis": {
            "gridcolor": "white",
            "linecolor": "white",
            "ticks": ""
           },
           "baxis": {
            "gridcolor": "white",
            "linecolor": "white",
            "ticks": ""
           },
           "bgcolor": "#E5ECF6",
           "caxis": {
            "gridcolor": "white",
            "linecolor": "white",
            "ticks": ""
           }
          },
          "title": {
           "x": 0.05
          },
          "xaxis": {
           "automargin": true,
           "gridcolor": "white",
           "linecolor": "white",
           "ticks": "",
           "title": {
            "standoff": 15
           },
           "zerolinecolor": "white",
           "zerolinewidth": 2
          },
          "yaxis": {
           "automargin": true,
           "gridcolor": "white",
           "linecolor": "white",
           "ticks": "",
           "title": {
            "standoff": 15
           },
           "zerolinecolor": "white",
           "zerolinewidth": 2
          }
         }
        },
        "title": {
         "text": "Hourly GME Mentions - Jan 25th to Jan 29th"
        },
        "xaxis": {
         "anchor": "y",
         "domain": [
          0,
          1
         ],
         "gridcolor": "rgb(144, 145, 142)",
         "title": {
          "text": "Hours"
         }
        },
        "yaxis": {
         "anchor": "x",
         "domain": [
          0,
          1
         ],
         "gridcolor": "rgb(144, 145, 142)",
         "title": {
          "text": "Mentions"
         }
        }
       }
      },
      "text/html": [
       "<div>                            <div id=\"45e69318-88b9-4b0f-a3fe-c69cdefb2994\" class=\"plotly-graph-div\" style=\"height:525px; width:100%;\"></div>            <script type=\"text/javascript\">                require([\"plotly\"], function(Plotly) {                    window.PLOTLYENV=window.PLOTLYENV || {};                                    if (document.getElementById(\"45e69318-88b9-4b0f-a3fe-c69cdefb2994\")) {                    Plotly.newPlot(                        \"45e69318-88b9-4b0f-a3fe-c69cdefb2994\",                        [{\"hovertemplate\": \"Hours=%{x}<br>Mentions=%{y}<extra></extra>\", \"legendgroup\": \"\", \"line\": {\"color\": \"rgb(73, 157, 222)\", \"dash\": \"solid\", \"width\": 3}, \"mode\": \"lines\", \"name\": \"\", \"orientation\": \"v\", \"showlegend\": false, \"type\": \"scatter\", \"x\": [\"2021-01-25T01:00:00\", \"2021-01-25T02:00:00\", \"2021-01-25T03:00:00\", \"2021-01-25T04:00:00\", \"2021-01-25T05:00:00\", \"2021-01-25T06:00:00\", \"2021-01-25T07:00:00\", \"2021-01-25T08:00:00\", \"2021-01-25T09:00:00\", \"2021-01-25T10:00:00\", \"2021-01-25T11:00:00\", \"2021-01-25T12:00:00\", \"2021-01-25T13:00:00\", \"2021-01-25T14:00:00\", \"2021-01-25T15:00:00\", \"2021-01-25T16:00:00\", \"2021-01-25T17:00:00\", \"2021-01-25T18:00:00\", \"2021-01-25T19:00:00\", \"2021-01-25T20:00:00\", \"2021-01-25T21:00:00\", \"2021-01-25T22:00:00\", \"2021-01-25T23:00:00\", \"2021-01-26T00:00:00\", \"2021-01-26T01:00:00\", \"2021-01-26T02:00:00\", \"2021-01-26T03:00:00\", \"2021-01-26T04:00:00\", \"2021-01-26T05:00:00\", \"2021-01-26T06:00:00\", \"2021-01-26T07:00:00\", \"2021-01-26T08:00:00\", \"2021-01-26T09:00:00\", \"2021-01-26T10:00:00\", \"2021-01-26T11:00:00\", \"2021-01-27T09:00:00\", \"2021-01-27T10:00:00\", \"2021-01-27T11:00:00\", \"2021-01-27T12:00:00\", \"2021-01-27T13:00:00\", \"2021-01-27T14:00:00\", \"2021-01-27T15:00:00\", \"2021-01-27T16:00:00\", \"2021-01-27T17:00:00\", \"2021-01-27T18:00:00\", \"2021-01-27T19:00:00\", \"2021-01-27T20:00:00\", \"2021-01-27T21:00:00\", \"2021-01-27T22:00:00\", \"2021-01-27T23:00:00\", \"2021-01-28T00:00:00\", \"2021-01-28T01:00:00\", \"2021-01-28T02:00:00\", \"2021-01-28T03:00:00\", \"2021-01-28T04:00:00\", \"2021-01-28T05:00:00\", \"2021-01-28T06:00:00\", \"2021-01-28T07:00:00\", \"2021-01-28T08:00:00\", \"2021-01-28T09:00:00\", \"2021-01-28T10:00:00\", \"2021-01-28T11:00:00\", \"2021-01-28T12:00:00\", \"2021-01-28T13:00:00\", \"2021-01-28T14:00:00\", \"2021-01-28T15:00:00\", \"2021-01-28T16:00:00\", \"2021-01-28T17:00:00\", \"2021-01-28T18:00:00\", \"2021-01-28T19:00:00\", \"2021-01-28T20:00:00\", \"2021-01-28T21:00:00\", \"2021-01-28T22:00:00\", \"2021-01-28T23:00:00\", \"2021-01-29T00:00:00\", \"2021-01-29T01:00:00\", \"2021-01-29T02:00:00\", \"2021-01-29T03:00:00\", \"2021-01-29T04:00:00\", \"2021-01-29T05:00:00\", \"2021-01-29T06:00:00\", \"2021-01-29T07:00:00\", \"2021-01-29T08:00:00\", \"2021-01-29T09:00:00\", \"2021-01-29T10:00:00\", \"2021-01-29T11:00:00\", \"2021-01-29T12:00:00\", \"2021-01-29T13:00:00\", \"2021-01-29T14:00:00\", \"2021-01-29T15:00:00\", \"2021-01-29T16:00:00\", \"2021-01-29T17:00:00\", \"2021-01-29T18:00:00\", \"2021-01-29T19:00:00\", \"2021-01-29T20:00:00\", \"2021-01-29T21:00:00\", \"2021-01-29T22:00:00\", \"2021-01-29T23:00:00\"], \"xaxis\": \"x\", \"y\": [19, 26, 20, 116, 97, 48, 59, 98, 148, 294, 392, 373, 220, 159, 160, 143, 130, 90, 100, 113, 103, 103, 63, 83, 65, 49, 51, 46, 48, 61, 80, 76, 155, 229, 79, 44, 1050, 1176, 1299, 898, 1112, 1259, 504, 308, 382, 403, 906, 705, 614, 462, 365, 318, 291, 317, 276, 426, 623, 638, 1821, 2058, 2054, 2080, 1572, 967, 1386, 1267, 997, 770, 737, 680, 606, 531, 560, 456, 426, 330, 322, 273, 333, 316, 315, 400, 475, 881, 1006, 726, 677, 705, 795, 635, 525, 425, 374, 335, 370, 410, 309, 311], \"yaxis\": \"y\"}],                        {\"legend\": {\"tracegroupgap\": 0}, \"plot_bgcolor\": \"rgb(84, 85, 87)\", \"template\": {\"data\": {\"bar\": [{\"error_x\": {\"color\": \"#2a3f5f\"}, \"error_y\": {\"color\": \"#2a3f5f\"}, \"marker\": {\"line\": {\"color\": \"#E5ECF6\", \"width\": 0.5}}, \"type\": \"bar\"}], \"barpolar\": [{\"marker\": {\"line\": {\"color\": \"#E5ECF6\", \"width\": 0.5}}, \"type\": \"barpolar\"}], \"carpet\": [{\"aaxis\": {\"endlinecolor\": \"#2a3f5f\", \"gridcolor\": \"white\", \"linecolor\": \"white\", \"minorgridcolor\": \"white\", \"startlinecolor\": \"#2a3f5f\"}, \"baxis\": {\"endlinecolor\": \"#2a3f5f\", \"gridcolor\": \"white\", \"linecolor\": \"white\", \"minorgridcolor\": \"white\", \"startlinecolor\": \"#2a3f5f\"}, \"type\": \"carpet\"}], \"choropleth\": [{\"colorbar\": {\"outlinewidth\": 0, \"ticks\": \"\"}, \"type\": \"choropleth\"}], \"contour\": [{\"colorbar\": {\"outlinewidth\": 0, \"ticks\": \"\"}, \"colorscale\": [[0.0, \"#0d0887\"], [0.1111111111111111, \"#46039f\"], [0.2222222222222222, \"#7201a8\"], [0.3333333333333333, \"#9c179e\"], [0.4444444444444444, \"#bd3786\"], [0.5555555555555556, \"#d8576b\"], [0.6666666666666666, \"#ed7953\"], [0.7777777777777778, \"#fb9f3a\"], [0.8888888888888888, \"#fdca26\"], [1.0, \"#f0f921\"]], \"type\": \"contour\"}], \"contourcarpet\": [{\"colorbar\": {\"outlinewidth\": 0, \"ticks\": \"\"}, \"type\": \"contourcarpet\"}], \"heatmap\": [{\"colorbar\": {\"outlinewidth\": 0, \"ticks\": \"\"}, \"colorscale\": [[0.0, \"#0d0887\"], [0.1111111111111111, \"#46039f\"], [0.2222222222222222, \"#7201a8\"], [0.3333333333333333, \"#9c179e\"], [0.4444444444444444, \"#bd3786\"], [0.5555555555555556, \"#d8576b\"], [0.6666666666666666, \"#ed7953\"], [0.7777777777777778, \"#fb9f3a\"], [0.8888888888888888, \"#fdca26\"], [1.0, \"#f0f921\"]], \"type\": \"heatmap\"}], \"heatmapgl\": [{\"colorbar\": {\"outlinewidth\": 0, \"ticks\": \"\"}, \"colorscale\": [[0.0, \"#0d0887\"], [0.1111111111111111, \"#46039f\"], [0.2222222222222222, \"#7201a8\"], [0.3333333333333333, \"#9c179e\"], [0.4444444444444444, \"#bd3786\"], [0.5555555555555556, \"#d8576b\"], [0.6666666666666666, \"#ed7953\"], [0.7777777777777778, \"#fb9f3a\"], [0.8888888888888888, \"#fdca26\"], [1.0, \"#f0f921\"]], \"type\": \"heatmapgl\"}], \"histogram\": [{\"marker\": {\"colorbar\": {\"outlinewidth\": 0, \"ticks\": \"\"}}, \"type\": \"histogram\"}], \"histogram2d\": [{\"colorbar\": {\"outlinewidth\": 0, \"ticks\": \"\"}, \"colorscale\": [[0.0, \"#0d0887\"], [0.1111111111111111, \"#46039f\"], [0.2222222222222222, \"#7201a8\"], [0.3333333333333333, \"#9c179e\"], [0.4444444444444444, \"#bd3786\"], [0.5555555555555556, \"#d8576b\"], [0.6666666666666666, \"#ed7953\"], [0.7777777777777778, \"#fb9f3a\"], [0.8888888888888888, \"#fdca26\"], [1.0, \"#f0f921\"]], \"type\": \"histogram2d\"}], \"histogram2dcontour\": [{\"colorbar\": {\"outlinewidth\": 0, \"ticks\": \"\"}, \"colorscale\": [[0.0, \"#0d0887\"], [0.1111111111111111, \"#46039f\"], [0.2222222222222222, \"#7201a8\"], [0.3333333333333333, \"#9c179e\"], [0.4444444444444444, \"#bd3786\"], [0.5555555555555556, \"#d8576b\"], [0.6666666666666666, \"#ed7953\"], [0.7777777777777778, \"#fb9f3a\"], [0.8888888888888888, \"#fdca26\"], [1.0, \"#f0f921\"]], \"type\": \"histogram2dcontour\"}], \"mesh3d\": [{\"colorbar\": {\"outlinewidth\": 0, \"ticks\": \"\"}, \"type\": \"mesh3d\"}], \"parcoords\": [{\"line\": {\"colorbar\": {\"outlinewidth\": 0, \"ticks\": \"\"}}, \"type\": \"parcoords\"}], \"pie\": [{\"automargin\": true, \"type\": \"pie\"}], \"scatter\": [{\"marker\": {\"colorbar\": {\"outlinewidth\": 0, \"ticks\": \"\"}}, \"type\": \"scatter\"}], \"scatter3d\": [{\"line\": {\"colorbar\": {\"outlinewidth\": 0, \"ticks\": \"\"}}, \"marker\": {\"colorbar\": {\"outlinewidth\": 0, \"ticks\": \"\"}}, \"type\": \"scatter3d\"}], \"scattercarpet\": [{\"marker\": {\"colorbar\": {\"outlinewidth\": 0, \"ticks\": \"\"}}, \"type\": \"scattercarpet\"}], \"scattergeo\": [{\"marker\": {\"colorbar\": {\"outlinewidth\": 0, \"ticks\": \"\"}}, \"type\": \"scattergeo\"}], \"scattergl\": [{\"marker\": {\"colorbar\": {\"outlinewidth\": 0, \"ticks\": \"\"}}, \"type\": \"scattergl\"}], \"scattermapbox\": [{\"marker\": {\"colorbar\": {\"outlinewidth\": 0, \"ticks\": \"\"}}, \"type\": \"scattermapbox\"}], \"scatterpolar\": [{\"marker\": {\"colorbar\": {\"outlinewidth\": 0, \"ticks\": \"\"}}, \"type\": \"scatterpolar\"}], \"scatterpolargl\": [{\"marker\": {\"colorbar\": {\"outlinewidth\": 0, \"ticks\": \"\"}}, \"type\": \"scatterpolargl\"}], \"scatterternary\": [{\"marker\": {\"colorbar\": {\"outlinewidth\": 0, \"ticks\": \"\"}}, \"type\": \"scatterternary\"}], \"surface\": [{\"colorbar\": {\"outlinewidth\": 0, \"ticks\": \"\"}, \"colorscale\": [[0.0, \"#0d0887\"], [0.1111111111111111, \"#46039f\"], [0.2222222222222222, \"#7201a8\"], [0.3333333333333333, \"#9c179e\"], [0.4444444444444444, \"#bd3786\"], [0.5555555555555556, \"#d8576b\"], [0.6666666666666666, \"#ed7953\"], [0.7777777777777778, \"#fb9f3a\"], [0.8888888888888888, \"#fdca26\"], [1.0, \"#f0f921\"]], \"type\": \"surface\"}], \"table\": [{\"cells\": {\"fill\": {\"color\": \"#EBF0F8\"}, \"line\": {\"color\": \"white\"}}, \"header\": {\"fill\": {\"color\": \"#C8D4E3\"}, \"line\": {\"color\": \"white\"}}, \"type\": \"table\"}]}, \"layout\": {\"annotationdefaults\": {\"arrowcolor\": \"#2a3f5f\", \"arrowhead\": 0, \"arrowwidth\": 1}, \"autotypenumbers\": \"strict\", \"coloraxis\": {\"colorbar\": {\"outlinewidth\": 0, \"ticks\": \"\"}}, \"colorscale\": {\"diverging\": [[0, \"#8e0152\"], [0.1, \"#c51b7d\"], [0.2, \"#de77ae\"], [0.3, \"#f1b6da\"], [0.4, \"#fde0ef\"], [0.5, \"#f7f7f7\"], [0.6, \"#e6f5d0\"], [0.7, \"#b8e186\"], [0.8, \"#7fbc41\"], [0.9, \"#4d9221\"], [1, \"#276419\"]], \"sequential\": [[0.0, \"#0d0887\"], [0.1111111111111111, \"#46039f\"], [0.2222222222222222, \"#7201a8\"], [0.3333333333333333, \"#9c179e\"], [0.4444444444444444, \"#bd3786\"], [0.5555555555555556, \"#d8576b\"], [0.6666666666666666, \"#ed7953\"], [0.7777777777777778, \"#fb9f3a\"], [0.8888888888888888, \"#fdca26\"], [1.0, \"#f0f921\"]], \"sequentialminus\": [[0.0, \"#0d0887\"], [0.1111111111111111, \"#46039f\"], [0.2222222222222222, \"#7201a8\"], [0.3333333333333333, \"#9c179e\"], [0.4444444444444444, \"#bd3786\"], [0.5555555555555556, \"#d8576b\"], [0.6666666666666666, \"#ed7953\"], [0.7777777777777778, \"#fb9f3a\"], [0.8888888888888888, \"#fdca26\"], [1.0, \"#f0f921\"]]}, \"colorway\": [\"#636efa\", \"#EF553B\", \"#00cc96\", \"#ab63fa\", \"#FFA15A\", \"#19d3f3\", \"#FF6692\", \"#B6E880\", \"#FF97FF\", \"#FECB52\"], \"font\": {\"color\": \"#2a3f5f\"}, \"geo\": {\"bgcolor\": \"white\", \"lakecolor\": \"white\", \"landcolor\": \"#E5ECF6\", \"showlakes\": true, \"showland\": true, \"subunitcolor\": \"white\"}, \"hoverlabel\": {\"align\": \"left\"}, \"hovermode\": \"closest\", \"mapbox\": {\"style\": \"light\"}, \"paper_bgcolor\": \"white\", \"plot_bgcolor\": \"#E5ECF6\", \"polar\": {\"angularaxis\": {\"gridcolor\": \"white\", \"linecolor\": \"white\", \"ticks\": \"\"}, \"bgcolor\": \"#E5ECF6\", \"radialaxis\": {\"gridcolor\": \"white\", \"linecolor\": \"white\", \"ticks\": \"\"}}, \"scene\": {\"xaxis\": {\"backgroundcolor\": \"#E5ECF6\", \"gridcolor\": \"white\", \"gridwidth\": 2, \"linecolor\": \"white\", \"showbackground\": true, \"ticks\": \"\", \"zerolinecolor\": \"white\"}, \"yaxis\": {\"backgroundcolor\": \"#E5ECF6\", \"gridcolor\": \"white\", \"gridwidth\": 2, \"linecolor\": \"white\", \"showbackground\": true, \"ticks\": \"\", \"zerolinecolor\": \"white\"}, \"zaxis\": {\"backgroundcolor\": \"#E5ECF6\", \"gridcolor\": \"white\", \"gridwidth\": 2, \"linecolor\": \"white\", \"showbackground\": true, \"ticks\": \"\", \"zerolinecolor\": \"white\"}}, \"shapedefaults\": {\"line\": {\"color\": \"#2a3f5f\"}}, \"ternary\": {\"aaxis\": {\"gridcolor\": \"white\", \"linecolor\": \"white\", \"ticks\": \"\"}, \"baxis\": {\"gridcolor\": \"white\", \"linecolor\": \"white\", \"ticks\": \"\"}, \"bgcolor\": \"#E5ECF6\", \"caxis\": {\"gridcolor\": \"white\", \"linecolor\": \"white\", \"ticks\": \"\"}}, \"title\": {\"x\": 0.05}, \"xaxis\": {\"automargin\": true, \"gridcolor\": \"white\", \"linecolor\": \"white\", \"ticks\": \"\", \"title\": {\"standoff\": 15}, \"zerolinecolor\": \"white\", \"zerolinewidth\": 2}, \"yaxis\": {\"automargin\": true, \"gridcolor\": \"white\", \"linecolor\": \"white\", \"ticks\": \"\", \"title\": {\"standoff\": 15}, \"zerolinecolor\": \"white\", \"zerolinewidth\": 2}}}, \"title\": {\"text\": \"Hourly GME Mentions - Jan 25th to Jan 29th\"}, \"xaxis\": {\"anchor\": \"y\", \"domain\": [0.0, 1.0], \"gridcolor\": \"rgb(144, 145, 142)\", \"title\": {\"text\": \"Hours\"}}, \"yaxis\": {\"anchor\": \"x\", \"domain\": [0.0, 1.0], \"gridcolor\": \"rgb(144, 145, 142)\", \"title\": {\"text\": \"Mentions\"}}},                        {\"responsive\": true}                    ).then(function(){\n",
       "                            \n",
       "var gd = document.getElementById('45e69318-88b9-4b0f-a3fe-c69cdefb2994');\n",
       "var x = new MutationObserver(function (mutations, observer) {{\n",
       "        var display = window.getComputedStyle(gd).display;\n",
       "        if (!display || display === 'none') {{\n",
       "            console.log([gd, 'removed!']);\n",
       "            Plotly.purge(gd);\n",
       "            observer.disconnect();\n",
       "        }}\n",
       "}});\n",
       "\n",
       "// Listen for the removal of the full notebook cells\n",
       "var notebookContainer = gd.closest('#notebook-container');\n",
       "if (notebookContainer) {{\n",
       "    x.observe(notebookContainer, {childList: true});\n",
       "}}\n",
       "\n",
       "// Listen for the clearing of the current output cell\n",
       "var outputEl = gd.closest('.output');\n",
       "if (outputEl) {{\n",
       "    x.observe(outputEl, {childList: true});\n",
       "}}\n",
       "\n",
       "                        })                };                });            </script>        </div>"
      ]
     },
     "metadata": {},
     "output_type": "display_data"
    }
   ],
   "source": [
    "fig = px.line(gme_hour, x='date', y='count', title='Hourly GME Mentions - Jan 25th to Jan 29th',\n",
    "             labels = {\n",
    "                 'date':'Hours',\n",
    "                 'count':'Mentions'\n",
    "             })\n",
    "fig.update_traces(line_color='rgb(73, 157, 222)', line = {'width':3})\n",
    "fig.layout.plot_bgcolor='rgb(84, 85, 87)'\n",
    "fig.layout.yaxis.gridcolor='rgb(144, 145, 142)'\n",
    "fig.layout.xaxis.gridcolor='rgb(144, 145, 142)'\n",
    "fig.show()"
   ]
  },
  {
   "cell_type": "code",
   "execution_count": 13,
   "metadata": {},
   "outputs": [
    {
     "data": {
      "text/html": [
       "<div>\n",
       "<style scoped>\n",
       "    .dataframe tbody tr th:only-of-type {\n",
       "        vertical-align: middle;\n",
       "    }\n",
       "\n",
       "    .dataframe tbody tr th {\n",
       "        vertical-align: top;\n",
       "    }\n",
       "\n",
       "    .dataframe thead th {\n",
       "        text-align: right;\n",
       "    }\n",
       "</style>\n",
       "<table border=\"1\" class=\"dataframe\">\n",
       "  <thead>\n",
       "    <tr style=\"text-align: right;\">\n",
       "      <th></th>\n",
       "      <th>date</th>\n",
       "      <th>1. open</th>\n",
       "      <th>2. high</th>\n",
       "      <th>3. low</th>\n",
       "      <th>4. close</th>\n",
       "      <th>5. volume</th>\n",
       "      <th>percent change</th>\n",
       "    </tr>\n",
       "  </thead>\n",
       "  <tbody>\n",
       "    <tr>\n",
       "      <th>351</th>\n",
       "      <td>2021-01-25 05:00:00</td>\n",
       "      <td>72.5000</td>\n",
       "      <td>136.6300</td>\n",
       "      <td>72.2000</td>\n",
       "      <td>105.39</td>\n",
       "      <td>1194735.0</td>\n",
       "      <td>NaN</td>\n",
       "    </tr>\n",
       "    <tr>\n",
       "      <th>350</th>\n",
       "      <td>2021-01-25 06:00:00</td>\n",
       "      <td>106.7700</td>\n",
       "      <td>109.0000</td>\n",
       "      <td>86.2500</td>\n",
       "      <td>96.77</td>\n",
       "      <td>885972.0</td>\n",
       "      <td>-0.081791</td>\n",
       "    </tr>\n",
       "    <tr>\n",
       "      <th>349</th>\n",
       "      <td>2021-01-25 07:00:00</td>\n",
       "      <td>96.9300</td>\n",
       "      <td>101.7000</td>\n",
       "      <td>90.3500</td>\n",
       "      <td>94.43</td>\n",
       "      <td>784325.0</td>\n",
       "      <td>-0.024181</td>\n",
       "    </tr>\n",
       "    <tr>\n",
       "      <th>348</th>\n",
       "      <td>2021-01-25 08:00:00</td>\n",
       "      <td>94.4800</td>\n",
       "      <td>97.0000</td>\n",
       "      <td>86.7200</td>\n",
       "      <td>91.65</td>\n",
       "      <td>2187519.0</td>\n",
       "      <td>-0.029440</td>\n",
       "    </tr>\n",
       "    <tr>\n",
       "      <th>347</th>\n",
       "      <td>2021-01-25 09:00:00</td>\n",
       "      <td>91.7100</td>\n",
       "      <td>104.5300</td>\n",
       "      <td>86.9999</td>\n",
       "      <td>98.05</td>\n",
       "      <td>4674120.0</td>\n",
       "      <td>0.069831</td>\n",
       "    </tr>\n",
       "    <tr>\n",
       "      <th>...</th>\n",
       "      <td>...</td>\n",
       "      <td>...</td>\n",
       "      <td>...</td>\n",
       "      <td>...</td>\n",
       "      <td>...</td>\n",
       "      <td>...</td>\n",
       "      <td>...</td>\n",
       "    </tr>\n",
       "    <tr>\n",
       "      <th>292</th>\n",
       "      <td>2021-01-28 16:00:00</td>\n",
       "      <td>246.1359</td>\n",
       "      <td>261.9899</td>\n",
       "      <td>197.4400</td>\n",
       "      <td>197.44</td>\n",
       "      <td>5687714.0</td>\n",
       "      <td>-0.201198</td>\n",
       "    </tr>\n",
       "    <tr>\n",
       "      <th>291</th>\n",
       "      <td>2021-01-28 17:00:00</td>\n",
       "      <td>197.4400</td>\n",
       "      <td>282.9200</td>\n",
       "      <td>193.6000</td>\n",
       "      <td>257.00</td>\n",
       "      <td>1543357.0</td>\n",
       "      <td>0.301661</td>\n",
       "    </tr>\n",
       "    <tr>\n",
       "      <th>290</th>\n",
       "      <td>2021-01-28 18:00:00</td>\n",
       "      <td>257.0000</td>\n",
       "      <td>509.0000</td>\n",
       "      <td>255.0000</td>\n",
       "      <td>281.85</td>\n",
       "      <td>418746.0</td>\n",
       "      <td>0.096693</td>\n",
       "    </tr>\n",
       "    <tr>\n",
       "      <th>289</th>\n",
       "      <td>2021-01-28 19:00:00</td>\n",
       "      <td>280.3300</td>\n",
       "      <td>348.8600</td>\n",
       "      <td>280.3300</td>\n",
       "      <td>347.01</td>\n",
       "      <td>1106541.0</td>\n",
       "      <td>0.231187</td>\n",
       "    </tr>\n",
       "    <tr>\n",
       "      <th>288</th>\n",
       "      <td>2021-01-28 20:00:00</td>\n",
       "      <td>347.0000</td>\n",
       "      <td>355.9000</td>\n",
       "      <td>305.9900</td>\n",
       "      <td>311.99</td>\n",
       "      <td>894387.0</td>\n",
       "      <td>-0.100919</td>\n",
       "    </tr>\n",
       "  </tbody>\n",
       "</table>\n",
       "<p>64 rows × 7 columns</p>\n",
       "</div>"
      ],
      "text/plain": [
       "                   date   1. open   2. high    3. low  4. close  5. volume  \\\n",
       "351 2021-01-25 05:00:00   72.5000  136.6300   72.2000    105.39  1194735.0   \n",
       "350 2021-01-25 06:00:00  106.7700  109.0000   86.2500     96.77   885972.0   \n",
       "349 2021-01-25 07:00:00   96.9300  101.7000   90.3500     94.43   784325.0   \n",
       "348 2021-01-25 08:00:00   94.4800   97.0000   86.7200     91.65  2187519.0   \n",
       "347 2021-01-25 09:00:00   91.7100  104.5300   86.9999     98.05  4674120.0   \n",
       "..                  ...       ...       ...       ...       ...        ...   \n",
       "292 2021-01-28 16:00:00  246.1359  261.9899  197.4400    197.44  5687714.0   \n",
       "291 2021-01-28 17:00:00  197.4400  282.9200  193.6000    257.00  1543357.0   \n",
       "290 2021-01-28 18:00:00  257.0000  509.0000  255.0000    281.85   418746.0   \n",
       "289 2021-01-28 19:00:00  280.3300  348.8600  280.3300    347.01  1106541.0   \n",
       "288 2021-01-28 20:00:00  347.0000  355.9000  305.9900    311.99   894387.0   \n",
       "\n",
       "     percent change  \n",
       "351             NaN  \n",
       "350       -0.081791  \n",
       "349       -0.024181  \n",
       "348       -0.029440  \n",
       "347        0.069831  \n",
       "..              ...  \n",
       "292       -0.201198  \n",
       "291        0.301661  \n",
       "290        0.096693  \n",
       "289        0.231187  \n",
       "288       -0.100919  \n",
       "\n",
       "[64 rows x 7 columns]"
      ]
     },
     "execution_count": 13,
     "metadata": {},
     "output_type": "execute_result"
    }
   ],
   "source": [
    "### Use alpha vantage to gather daily and hourly stock data ###\n",
    "\n",
    "from alpha_vantage.timeseries import TimeSeries\n",
    "\n",
    "API_key = 'OZHBQ2Q48QC0NFRZ'\n",
    "\n",
    "### daily chart, include percent change ###\n",
    "ts = TimeSeries(key = API_key,output_format='pandas')\n",
    "data = ts.get_daily_adjusted('GME')\n",
    "gme = data[0].reset_index()\n",
    "gme_daily = gme[(gme['date'] >= '2020-12-31') & (gme['date'] <= '2021-02-16')]\n",
    "gme_daily.to_csv('gme_daily_prices')\n",
    "gme_daily=gme_daily.sort_values('date', ascending=True)\n",
    "gme_daily['percent change'] = gme_daily['4. close'].pct_change()\n",
    "\n",
    "\n",
    "### hourly chart, include percent change ###\n",
    "data = ts.get_intraday('GME', interval = '60min', outputsize='full')\n",
    "gme = data[0].reset_index()\n",
    "gme_hourly_full = gme[(gme['date'] >= '2020-12-31') & (gme['date'] <= '2021-02-16')]\n",
    "gme_hourly_full = gme_hourly_full.sort_values('date', ascending=True)\n",
    "gme_hourly = gme[(gme['date'] >= '2021-01-25') & (gme['date'] <= '2021-01-29')]\n",
    "gme_hourly = gme_hourly.sort_values('date', ascending=True)\n",
    "gme_hourly['percent change'] = gme_hourly['4. close'].pct_change()\n",
    "gme_hourly"
   ]
  },
  {
   "cell_type": "code",
   "execution_count": 14,
   "metadata": {},
   "outputs": [
    {
     "data": {
      "application/vnd.plotly.v1+json": {
       "config": {
        "plotlyServerURL": "https://plot.ly"
       },
       "data": [
        {
         "close": [
          19.8,
          19.8,
          19.55,
          19.3,
          19.36,
          19.46,
          19.05,
          19.37,
          19.72,
          19.46,
          18.99,
          18.81,
          18.8,
          19.1,
          18.87,
          18.88,
          19.4,
          19.35,
          19,
          18.96,
          17.425,
          17.52,
          17.585,
          17.67,
          17.5711,
          17.405,
          17.24,
          17.37,
          17.4,
          17.47,
          17.37,
          17.25,
          17.5,
          17.3,
          17.1001,
          17.7,
          17.55,
          17.555,
          17.64,
          17.4897,
          17.267,
          17.36,
          17.48,
          17.49,
          17.49,
          17.58,
          17.3,
          17.27,
          17.57,
          17.55,
          17.605,
          18.4,
          18.68,
          18.7844,
          18.815,
          18.23,
          18.39,
          18.3,
          18.8,
          18.51,
          18.6999,
          19.03,
          19,
          19,
          19,
          19.4001,
          18.85,
          18.56,
          18.575,
          18.39,
          18.275,
          18.12,
          18.2502,
          18.25,
          18.26,
          18.4,
          18.09,
          18.34,
          18.33,
          17.595,
          17.57,
          17.55,
          17.875,
          17.6,
          17.88,
          17.6899,
          17.9,
          17.9,
          17.97,
          17.7,
          17.13,
          17.12,
          17.2,
          21.51,
          19.2,
          20.5,
          19.32,
          19.365,
          19.605,
          20.37,
          19.8425,
          19.93,
          19.93,
          19.95,
          20.06,
          20.1,
          20,
          20,
          20.23,
          20,
          19.9701,
          19.61,
          20.195,
          20.0399,
          20.1272,
          19.865,
          19.7926,
          19.94,
          20,
          20.03,
          20.0999,
          20.15,
          20.15,
          20.36,
          20.32,
          20.39,
          22.91,
          28.646,
          31.75,
          34.31,
          33.52,
          33.025,
          31.44,
          31.25,
          32.02,
          32.44,
          32.8,
          37.51,
          36,
          36,
          36.7,
          36.55,
          35.14,
          35.2236,
          36.88,
          37.9999,
          38.91,
          39.275,
          39.9184,
          39.63,
          42.34,
          41.94,
          42,
          41.8,
          40.2,
          40.74,
          38.49,
          38.3,
          37.3947,
          36.62,
          34.21,
          35.8156,
          35.9672,
          37.89,
          35.49,
          35.3498,
          35.25,
          35.9,
          36,
          40.9,
          41.25,
          40.34,
          38.38,
          40.88,
          40.7378,
          37.76,
          39.6201,
          42.12,
          40.94,
          40.276,
          39.51,
          38.8398,
          38.89,
          38.75,
          38.6,
          37.83,
          37.7,
          37.9,
          38.42,
          37.87,
          37.9175,
          36.86,
          39.35,
          38.67,
          39.2744,
          39.59,
          39.12,
          38.8,
          38.71,
          38.9,
          39.05,
          39.2,
          38.9,
          38.56,
          39,
          38.5,
          39.8675,
          42.2501,
          39.7,
          42.218,
          40.56,
          43.02,
          42.98,
          43.5,
          45.39,
          45.35,
          45.1,
          44.34,
          44.4,
          45.25,
          44.39,
          45.98,
          47.6795,
          52.2,
          70.3,
          55.1097,
          59.18,
          64.85,
          67.6,
          63.8,
          63.7,
          61,
          105.39,
          96.77,
          94.43,
          91.65,
          98.05,
          89.76,
          117.07,
          99.56,
          69.42,
          76.7499,
          77.0001,
          76.765,
          78.5,
          81.71,
          82.8801,
          88.87,
          94,
          88.55,
          88.5,
          91.51,
          89.25,
          87.57,
          87.6101,
          87.7999,
          105.5556,
          114.5499,
          131.845,
          145.965,
          224.45,
          208.14,
          225,
          209.51,
          299.19,
          351,
          197.89,
          230,
          231.5,
          310.69,
          371.82,
          312.61,
          342.172,
          326.59,
          319.6006,
          345,
          327.26,
          319.85,
          248.8,
          292,
          335,
          456,
          445,
          459,
          341,
          468.49,
          264.01,
          255.7614,
          239.6656,
          241.5301,
          247.17,
          197.44,
          257,
          281.85,
          347.01,
          311.99,
          425.94,
          389.05,
          395.01,
          346.49,
          362.79,
          317.37,
          334.62,
          340.1656,
          329.3264,
          276.1098,
          283.5608,
          328.24,
          322.02,
          306,
          315.72,
          312.01,
          348,
          337,
          328.18,
          323.35,
          317.8,
          269.9999,
          237.39,
          259.2,
          248,
          250,
          240.1828,
          227,
          207.55,
          178,
          187.75,
          189.52,
          171,
          174.5,
          158.49,
          138.7,
          127.5,
          115,
          91.5,
          114.85,
          117.95,
          104.3724,
          99.9,
          90.47,
          88.78,
          92,
          90,
          85.2,
          87.2,
          96,
          91.44,
          89.86,
          93.35,
          92.89,
          99.43,
          93.55,
          99.97,
          107.4999,
          97.94,
          92.0431,
          90.6,
          92,
          89.6,
          88.88,
          93.57,
          96.75,
          95.13,
          94.5,
          94.93,
          83.39,
          71.4,
          68.5801,
          64.31,
          60.0001,
          58.23,
          53.378,
          53.15,
          50.25,
          50.2,
          49.17,
          60.87,
          59.33,
          58.75,
          59.09,
          57.16,
          82.77,
          70.8185,
          64.39,
          63.55,
          61,
          60.8201,
          63.7601,
          64.87,
          69.51,
          67.2,
          66.46,
          69,
          71,
          71.45,
          69.48,
          69.55,
          64.65,
          60.75,
          59.65,
          60.15,
          59.6623,
          58.8001,
          59.9599,
          59.59,
          59.6,
          59.78,
          59.5,
          57,
          57,
          56.8,
          55.5,
          56.7,
          53.63,
          49.05,
          48.5379,
          48.7399,
          48.8699,
          50.8807,
          50.32,
          52,
          51.45,
          50.25,
          49.99,
          50.35,
          48.5,
          48.7,
          51.15,
          50.99,
          50.49,
          49.77,
          52.53,
          55.8101,
          56.345,
          53.2817,
          51.19,
          49.47,
          50.2,
          49.99,
          49.9,
          49.67,
          51,
          50.39,
          50.2,
          50.26,
          52.215,
          50.185,
          49.1105,
          48.88,
          48.61,
          48.7263,
          50.9,
          50.13,
          49.5,
          50.25,
          50.28,
          51,
          50.09,
          50.12,
          51.27,
          50.9,
          50.725,
          53.68,
          52.2185,
          52.2968,
          51.36,
          51.328,
          52.33,
          51.9,
          51.75,
          52.6,
          52.9
         ],
         "high": [
          19.8,
          19.8,
          19.56,
          19.55,
          19.4993,
          19.63,
          19.49,
          19.4599,
          19.8,
          19.7499,
          19.47,
          19.04,
          18.9598,
          19.1,
          18.95,
          18.95,
          19.4,
          19.42,
          19.25,
          19.1499,
          19.1,
          18.11,
          17.72,
          17.82,
          17.69,
          17.62,
          17.55,
          17.53,
          17.49,
          17.5,
          17.51,
          17.25,
          17.5,
          17.7,
          17.55,
          18.0765,
          17.84,
          17.7,
          17.66,
          17.66,
          17.5699,
          17.54,
          17.52,
          17.49,
          17.5,
          17.7,
          17.51,
          17.27,
          17.57,
          17.65,
          17.95,
          18.48,
          18.73,
          18.98,
          18.88,
          18.98,
          18.43,
          18.36,
          18.8,
          18.8,
          18.72,
          19.03,
          19.08,
          19,
          19.11,
          19.45,
          19.44,
          18.9032,
          18.82,
          18.655,
          18.47,
          18.42,
          18.33,
          18.46,
          18.4,
          18.43,
          18.09,
          18.4,
          18.4,
          18.33,
          17.86,
          17.63,
          17.98,
          17.88,
          17.927,
          17.9489,
          17.9,
          17.9,
          18,
          17.97,
          17.5,
          17.12,
          17.2,
          21.82,
          21.8,
          20.65,
          20.53,
          19.62,
          19.75,
          20.49,
          20.374,
          19.93,
          20.12,
          19.95,
          20.06,
          20.15,
          20.1,
          20.28,
          20.25,
          20.23,
          20.24,
          20.4,
          20.25,
          20.2078,
          20.1289,
          20.16,
          19.969,
          20.04,
          20.14,
          20.15,
          20.0999,
          20.15,
          20.15,
          20.36,
          20.47,
          20.61,
          23.4,
          29.1,
          38.65,
          34.6841,
          34.93,
          34.38,
          33.24,
          31.98,
          33,
          32.95,
          32.9,
          38.2,
          37.85,
          36.34,
          39.75,
          39.74,
          38.77,
          37.11,
          37.24,
          43.06,
          41.5,
          40.41,
          40.03,
          40.1,
          43.57,
          43.06,
          42.5,
          42.5,
          41.93,
          40.99,
          41.55,
          41.5,
          41.4899,
          38.38,
          37.01,
          36.67,
          36.3,
          38.49,
          38.02,
          35.6,
          36,
          36.07,
          36.25,
          42.61,
          41.5,
          41.1,
          40.99,
          41.24,
          45.52,
          40.76,
          39.69,
          42.3,
          42.1978,
          40.99,
          40.53,
          39.71,
          38.96,
          38.96,
          38.8,
          38.58,
          38.05,
          38,
          38.5,
          39,
          39.3933,
          38.19,
          41.1899,
          40.05,
          39.55,
          39.97,
          40.14,
          39.2,
          39.12,
          39,
          39.1,
          39.2,
          39,
          39.02,
          39.38,
          39.79,
          40.53,
          44.75,
          42.8,
          42.59,
          42.55,
          43.19,
          44.1,
          43.9,
          45.45,
          47.47,
          45.5,
          45.1,
          45.2,
          46.94,
          46.94,
          46.29,
          47.73,
          53.95,
          76.7573,
          71.99,
          61.49,
          68,
          68.46,
          67.89,
          64.88,
          63.6,
          136.63,
          109,
          101.7,
          97,
          104.53,
          103,
          159.18,
          120,
          103,
          81.5,
          96.1192,
          132.45,
          79.75,
          83.5,
          158.09,
          90,
          100,
          94.25,
          91,
          94.39,
          94.39,
          101.62,
          94,
          90.68,
          114.24,
          124.5799,
          143.89,
          150,
          244,
          248.9,
          231.5,
          227.19,
          299.33,
          365.42,
          353,
          277,
          273.4,
          385,
          380,
          380,
          350,
          347.16,
          337.89,
          353,
          373.02,
          347.51,
          319.9,
          303,
          360,
          457.89,
          513.12,
          508.83,
          489.12,
          509,
          483,
          282.55,
          324,
          267,
          265,
          261.9899,
          282.92,
          509,
          348.86,
          355.9,
          470,
          420,
          400,
          399.98,
          392.01,
          413.98,
          347,
          344.99,
          377,
          336,
          306.95,
          335,
          330.9,
          350,
          320,
          321.1,
          384.89,
          356.36,
          345,
          331.9,
          333,
          322,
          284,
          280,
          262.5999,
          253.8899,
          251,
          240.1096,
          231,
          208.79,
          190,
          198.99,
          178.31,
          176.39,
          175.21,
          162.65,
          161,
          162,
          125,
          154.3999,
          127.98,
          118.75,
          110.5499,
          101.9599,
          93.89,
          96,
          94,
          90.5,
          88.75,
          106,
          99.9,
          94.5,
          96.8,
          121.36,
          104.35,
          99.8799,
          102.71,
          109.5983,
          107.7599,
          100.3745,
          93.36,
          92.03,
          91.9,
          89.5,
          100.01,
          97,
          97,
          95.53,
          95.6,
          95.6,
          86,
          76.01,
          71.3,
          64.4999,
          61.98,
          58.4999,
          54.39,
          53.17,
          51.24,
          50.94,
          64.8,
          62.6,
          59.52,
          59.2,
          59.99,
          82.77,
          95,
          74.45,
          65.8899,
          64.5,
          62.78,
          66.47,
          66.49,
          70.47,
          72,
          68,
          72.3,
          72.4,
          75.8,
          72.99,
          73,
          73.5,
          70.6,
          61.41,
          60.75,
          70.89,
          59.76,
          60.5,
          60,
          59.7,
          59.8,
          59.8,
          61,
          57.09,
          56.8,
          57.5,
          57.51,
          58.05,
          53.68,
          49.55,
          50.755,
          49.3899,
          51.5,
          50.9499,
          56.2,
          52.55,
          51.69,
          50.83,
          53,
          50.3,
          48.7,
          53.49,
          53.5,
          52.29,
          57.8,
          54.4199,
          56.8,
          62.83,
          56.87,
          53.4499,
          51.78,
          51.2,
          50.25,
          50.18,
          50.47,
          51.5,
          51.2,
          51,
          50.98,
          55.32,
          52.2999,
          50.2683,
          49.3,
          49.74,
          49.14,
          52.25,
          51.1,
          51.1,
          50.25,
          50.5,
          51,
          50.3,
          50.15,
          51.55,
          51.55,
          54,
          54.14,
          53.8,
          55.24,
          53.26,
          51.63,
          52.45,
          52.4,
          52.2,
          52.6,
          52.9
         ],
         "low": [
          19.8,
          19.8,
          19.52,
          19.27,
          19.3,
          18.96,
          18.96,
          19.03,
          19.34,
          19.33,
          18.905,
          18.8,
          18.29,
          18.65,
          18.8,
          18.88,
          19.1,
          19.35,
          19,
          18.9,
          17.3501,
          17.15,
          17.26,
          17.44,
          17.48,
          17.36,
          17.22,
          17.2202,
          17.4,
          17.47,
          17.37,
          17.25,
          17.5,
          17.29,
          17.06,
          17.08,
          17.51,
          17.45,
          17.525,
          17.39,
          17.23,
          17.24,
          17.37,
          17.37,
          17.4,
          17.53,
          17.3,
          17.27,
          17.48,
          17.4,
          17.33,
          17.54,
          18.3,
          18.52,
          18.7201,
          17.62,
          18.08,
          17.98,
          18.29,
          18.46,
          18.46,
          18.98,
          19,
          18.83,
          18.8,
          18.45,
          18.78,
          18.43,
          18.545,
          18.36,
          18.15,
          18.02,
          18.01,
          18.08,
          18.25,
          18.34,
          18.09,
          18.15,
          18.1,
          17.45,
          17.08,
          17.35,
          17.5,
          17.44,
          17.6185,
          17.56,
          17.69,
          17.8,
          17.85,
          17.7,
          17.1,
          17.12,
          17.2,
          17.05,
          17.1,
          18.8,
          19.05,
          19.01,
          19.18,
          19.58,
          19.74,
          19.65,
          19.8,
          19.85,
          19.94,
          20,
          20,
          20,
          20.09,
          20,
          19.95,
          19.3168,
          19.45,
          19.83,
          19.78,
          19.845,
          19.751,
          19.71,
          19.91,
          20,
          19.95,
          19.96,
          20.15,
          20.36,
          20.08,
          20.17,
          20.03,
          22.78,
          28.53,
          30.1,
          31.555,
          32.15,
          30.7,
          30.52,
          31.26,
          32.12,
          32.2,
          33.2,
          35.65,
          35,
          35.5,
          35.2,
          33.05,
          33.56,
          35.12,
          36.55,
          37.77,
          38.21,
          37.6,
          38.57,
          39.54,
          41.45,
          41.76,
          40.57,
          40.2,
          40.15,
          38.01,
          36.52,
          37.05,
          35.17,
          34.1,
          34.01,
          35.16,
          35.8601,
          35.33,
          34.5,
          35.15,
          35.69,
          35.8,
          38.31,
          40.42,
          40.31,
          37.1,
          37.2002,
          39.25,
          36.64,
          37.7301,
          39.4,
          40.29,
          39.6,
          38.61,
          38.5101,
          38.65,
          38.7,
          38.56,
          37.4,
          37.65,
          37.5,
          37.54,
          37.1,
          36.63,
          36.4,
          36.06,
          38.275,
          37.85,
          38.83,
          38.71,
          38.69,
          38.71,
          38.81,
          38.8,
          39.2,
          38.9,
          38.54,
          38.54,
          37.52,
          37.86,
          39.38,
          37,
          39.38,
          40.02,
          40.52,
          42.2602,
          42.5,
          43.38,
          45.23,
          44.14,
          44.02,
          44.3,
          44.05,
          43.3,
          42.32,
          43.77,
          46.78,
          52.0544,
          54.46,
          54.6,
          57.2,
          62.4,
          63.01,
          62.35,
          61,
          72.2,
          86.25,
          90.35,
          86.72,
          86.9999,
          86.32,
          85,
          85.39,
          61.13,
          65.37,
          74.16,
          71.1001,
          72,
          78.3,
          81.65,
          82.9,
          90,
          86.03,
          87.5,
          86.39,
          86.15,
          81.05,
          80.2,
          81,
          87.68,
          96.99,
          112,
          127,
          138,
          203,
          205.11,
          207.95,
          219.07,
          293.01,
          182.55,
          195,
          197.53,
          197.53,
          249,
          312.61,
          280,
          303.77,
          290.01,
          315.4054,
          305,
          293,
          220,
          217,
          301,
          333,
          410,
          421.7,
          338,
          249.73,
          264.01,
          112.25,
          230.01,
          205.4201,
          215,
          197.44,
          193.6,
          255,
          280.33,
          305.99,
          355.98,
          380,
          360,
          311,
          312.0098,
          291.57,
          291,
          312.04,
          312.44,
          265.4801,
          250,
          283.81,
          293.0001,
          301.21,
          303.0201,
          312,
          321.75,
          326.05,
          326.06,
          288.07,
          288.0501,
          252,
          212,
          232.9001,
          241,
          230,
          235.51,
          214.66,
          206,
          173,
          177,
          186.65,
          160,
          170,
          153.6,
          137.01,
          126,
          101.3,
          74.2201,
          90,
          105.17,
          101.01,
          91,
          88,
          85.33,
          86.01,
          88,
          85,
          73.31,
          85,
          90.01,
          85.25,
          85.26,
          90.49,
          85.25,
          90.5,
          92.5,
          97.46,
          93.55,
          90.59,
          88.1,
          88.95,
          89.5,
          87.37,
          92.3,
          93.6,
          95,
          92,
          92,
          81.05,
          70.5,
          62.05,
          63.5,
          57.2,
          58,
          53.33,
          51.45,
          49,
          49.4,
          49,
          53.5,
          59,
          57.11,
          54.56,
          54.56,
          51.09,
          65.372,
          61.54,
          58.86,
          57.26,
          58.85,
          59,
          62,
          64.53,
          66.5,
          66.46,
          65.16,
          69.2,
          70.3,
          68.62,
          67,
          63.3512,
          58.27,
          58.02,
          58.68,
          59.25,
          58.3,
          58.22,
          58.56,
          59.35,
          59.35,
          58.9,
          56.2,
          56.5,
          55,
          55.5,
          55.13,
          52.06,
          48.12,
          46.52,
          48.4578,
          48,
          48.6001,
          48.73,
          49.36,
          51.2,
          50,
          49.9,
          50,
          48,
          48.25,
          48.45,
          48.6,
          46.55,
          48.16,
          49.57,
          51.12,
          55.56,
          52.35,
          50.48,
          49.4,
          49.45,
          49.65,
          49.75,
          49.35,
          49.56,
          50.39,
          49.62,
          49.6,
          49.7,
          49.27,
          48.65,
          48.23,
          48.38,
          48.2201,
          48.51,
          49.84,
          48.93,
          49.2,
          50,
          49.21,
          50.09,
          50.12,
          50.42,
          50.325,
          48.05,
          49.3,
          51.1,
          51.7,
          50.6,
          49.82,
          51.17,
          51.25,
          51.75,
          51.6201,
          52
         ],
         "open": [
          19.8,
          19.8,
          19.52,
          19.52,
          19.4,
          19.35,
          19.44,
          19.04,
          19.3701,
          19.73,
          19.46,
          18.98,
          18.8302,
          18.8,
          18.8,
          18.95,
          19.1,
          19.42,
          19.25,
          19.074,
          18.97,
          17.425,
          17.5375,
          17.585,
          17.665,
          17.58,
          17.41,
          17.25,
          17.47,
          17.47,
          17.5,
          17.25,
          17.5,
          17.7,
          17.2801,
          17.11,
          17.76,
          17.56,
          17.56,
          17.66,
          17.49,
          17.255,
          17.37,
          17.48,
          17.4,
          17.53,
          17.51,
          17.27,
          17.48,
          17.4119,
          17.54,
          17.605,
          18.4,
          18.68,
          18.775,
          18.83,
          18.22,
          18.32,
          18.3,
          18.8,
          18.47,
          18.98,
          19.08,
          18.84,
          18.85,
          18.98,
          19.4,
          18.88,
          18.57,
          18.5863,
          18.3736,
          18.28,
          18.08,
          18.2501,
          18.26,
          18.38,
          18.09,
          18.15,
          18.1,
          18.32,
          17.5712,
          17.55,
          17.56,
          17.87,
          17.6185,
          17.89,
          17.69,
          17.9,
          17.86,
          17.85,
          17.5,
          17.12,
          17.2,
          17.5,
          21.51,
          19.02,
          20.48,
          19.32,
          19.36,
          19.6,
          20.37,
          19.84,
          19.94,
          19.92,
          19.95,
          20.06,
          20.1,
          20.28,
          20.25,
          20.1,
          20.2399,
          20.01,
          19.6,
          20.2,
          20.036,
          20.12,
          19.86,
          19.79,
          19.95,
          20.13,
          20,
          20,
          20.15,
          20.36,
          20.1,
          20.2499,
          20.36,
          22.93,
          28.6301,
          31.7501,
          34.29,
          33.465,
          33.03,
          31.3998,
          31.38,
          32.12,
          32.49,
          33.48,
          37.57,
          35.99,
          36,
          35.9974,
          36.5501,
          35.16,
          35.21,
          36.885,
          37.96,
          38.985,
          39.2941,
          40,
          39.55,
          42.4,
          41.9,
          42.2,
          41.85,
          40.5,
          40.82,
          38.5,
          38.277,
          37.384,
          36.615,
          34.2765,
          35.8021,
          35.99,
          37.88,
          35.6,
          35.2,
          35.8,
          35.9,
          39,
          40.77,
          41.1,
          40.5,
          38.38,
          40.85,
          40.75,
          37.79,
          39.63,
          42.0295,
          40.9444,
          40.2607,
          39.36,
          38.84,
          38.9,
          38.7,
          38.5,
          38.05,
          37.7,
          37.92,
          37.65,
          37.95,
          37.97,
          36.86,
          39.28,
          38.635,
          39.275,
          39.6,
          39.01,
          38.84,
          38.83,
          38.89,
          39.2,
          38.95,
          38.75,
          38.5501,
          39.05,
          38.51,
          39.8289,
          42.3,
          39.61,
          42.2413,
          40.53,
          43.03,
          42.81,
          43.9,
          45.31,
          44.66,
          45.1,
          44.76,
          44.81,
          44.7672,
          44.19,
          45.99,
          47.687,
          52.2,
          70.385,
          54.9955,
          59.185,
          65,
          67.5,
          64,
          63.6,
          72.5,
          106.77,
          96.93,
          94.48,
          91.71,
          98.265,
          89.685,
          117.07,
          99.99,
          69.3,
          76.6241,
          77.19,
          76.7698,
          78.39,
          81.71,
          82.9,
          90,
          94.25,
          89,
          88.89,
          91.62,
          89,
          87.575,
          87.62,
          87.685,
          105.3137,
          114.2538,
          131.6913,
          146.2,
          224.6,
          208.1,
          225,
          246.66,
          299.5,
          351.89,
          199.5,
          230,
          231.15,
          310.32,
          371.182,
          312.61,
          341.0407,
          326.07,
          318.01,
          347.51,
          327.36,
          319,
          248.99,
          311.3,
          333.11,
          456.4,
          447.01,
          459,
          340.73,
          469,
          265,
          255.99,
          240.9471,
          242.4305,
          246.1359,
          197.44,
          257,
          280.33,
          347,
          360,
          420,
          385,
          395,
          347.07,
          363.01,
          317.7093,
          335.5999,
          339.8802,
          328.1182,
          275.95,
          284.79,
          327.67,
          322.3,
          306.11,
          316,
          356.1,
          347,
          338,
          327.42,
          327,
          317.7,
          270,
          236.775,
          259,
          248.4599,
          250,
          240.1096,
          225.46,
          207.96,
          178,
          186.65,
          175.3,
          171.7,
          174.01,
          158.24,
          139,
          127.5,
          114.8882,
          91.0701,
          110.05,
          118.2996,
          103.6001,
          99.8561,
          90.76,
          88.82,
          92,
          90,
          78.33,
          87.35,
          96.3,
          91.11,
          89.82,
          93.4,
          93.2799,
          99.0501,
          94,
          99.7,
          107.01,
          98.01,
          92.27,
          91.47,
          91.9,
          89.3,
          92.3,
          93.6,
          96.93,
          95.53,
          95,
          95,
          83.28,
          71.2901,
          68.7738,
          64.4999,
          60.17,
          58.2301,
          53.47,
          53.17,
          50.11,
          50.2,
          53.5,
          60.87,
          59.52,
          58,
          59.09,
          57.2,
          82.77,
          70.8226,
          64.293,
          63.7383,
          61,
          60.83,
          64.2,
          64.68,
          69.56,
          67.2,
          68.1,
          69.2,
          70.94,
          70.5,
          69.39,
          69.66,
          64.61,
          60.745,
          59.6273,
          60.15,
          59.68,
          58.88,
          60,
          59.5,
          59.59,
          59.79,
          59.8,
          56.55,
          56.77,
          56.8,
          56.67,
          56.7,
          53.6,
          49.19,
          48.54,
          48.6101,
          48.8749,
          50.9499,
          49.36,
          52,
          51.54,
          50.25,
          50,
          50.3,
          48.7,
          48.81,
          49.5,
          51,
          50.4999,
          49.5974,
          52.645,
          55.9,
          56.35,
          53.11,
          51.23,
          49.47,
          50.2,
          49.9499,
          49.49,
          50,
          50.66,
          50.32,
          50.0001,
          50.17,
          52.13,
          50.1811,
          49.09,
          49.0275,
          48.71,
          48.69,
          50.6,
          50.16,
          49.2,
          50.27,
          50.6,
          50.29,
          50.15,
          50.57,
          50.7,
          50.559,
          50.6672,
          53.56,
          52.1013,
          52.225,
          51.35,
          51.34,
          52.4,
          51.94,
          51.71,
          52.07
         ],
         "type": "candlestick",
         "x": [
          "2020-12-31T05:00:00",
          "2020-12-31T06:00:00",
          "2020-12-31T07:00:00",
          "2020-12-31T08:00:00",
          "2020-12-31T09:00:00",
          "2020-12-31T10:00:00",
          "2020-12-31T11:00:00",
          "2020-12-31T12:00:00",
          "2020-12-31T13:00:00",
          "2020-12-31T14:00:00",
          "2020-12-31T15:00:00",
          "2020-12-31T16:00:00",
          "2020-12-31T17:00:00",
          "2020-12-31T18:00:00",
          "2020-12-31T19:00:00",
          "2020-12-31T20:00:00",
          "2021-01-04T05:00:00",
          "2021-01-04T07:00:00",
          "2021-01-04T08:00:00",
          "2021-01-04T09:00:00",
          "2021-01-04T10:00:00",
          "2021-01-04T11:00:00",
          "2021-01-04T12:00:00",
          "2021-01-04T13:00:00",
          "2021-01-04T14:00:00",
          "2021-01-04T15:00:00",
          "2021-01-04T16:00:00",
          "2021-01-04T17:00:00",
          "2021-01-04T18:00:00",
          "2021-01-04T19:00:00",
          "2021-01-04T20:00:00",
          "2021-01-05T05:00:00",
          "2021-01-05T07:00:00",
          "2021-01-05T08:00:00",
          "2021-01-05T09:00:00",
          "2021-01-05T10:00:00",
          "2021-01-05T11:00:00",
          "2021-01-05T12:00:00",
          "2021-01-05T13:00:00",
          "2021-01-05T14:00:00",
          "2021-01-05T15:00:00",
          "2021-01-05T16:00:00",
          "2021-01-05T17:00:00",
          "2021-01-05T18:00:00",
          "2021-01-05T19:00:00",
          "2021-01-05T20:00:00",
          "2021-01-06T05:00:00",
          "2021-01-06T06:00:00",
          "2021-01-06T08:00:00",
          "2021-01-06T09:00:00",
          "2021-01-06T10:00:00",
          "2021-01-06T11:00:00",
          "2021-01-06T12:00:00",
          "2021-01-06T13:00:00",
          "2021-01-06T14:00:00",
          "2021-01-06T15:00:00",
          "2021-01-06T16:00:00",
          "2021-01-06T17:00:00",
          "2021-01-06T18:00:00",
          "2021-01-06T19:00:00",
          "2021-01-06T20:00:00",
          "2021-01-07T06:00:00",
          "2021-01-07T07:00:00",
          "2021-01-07T08:00:00",
          "2021-01-07T09:00:00",
          "2021-01-07T10:00:00",
          "2021-01-07T11:00:00",
          "2021-01-07T12:00:00",
          "2021-01-07T13:00:00",
          "2021-01-07T14:00:00",
          "2021-01-07T15:00:00",
          "2021-01-07T16:00:00",
          "2021-01-07T17:00:00",
          "2021-01-07T18:00:00",
          "2021-01-07T19:00:00",
          "2021-01-07T20:00:00",
          "2021-01-08T06:00:00",
          "2021-01-08T08:00:00",
          "2021-01-08T09:00:00",
          "2021-01-08T10:00:00",
          "2021-01-08T11:00:00",
          "2021-01-08T12:00:00",
          "2021-01-08T13:00:00",
          "2021-01-08T14:00:00",
          "2021-01-08T15:00:00",
          "2021-01-08T16:00:00",
          "2021-01-08T17:00:00",
          "2021-01-08T18:00:00",
          "2021-01-08T19:00:00",
          "2021-01-08T20:00:00",
          "2021-01-11T05:00:00",
          "2021-01-11T06:00:00",
          "2021-01-11T07:00:00",
          "2021-01-11T08:00:00",
          "2021-01-11T09:00:00",
          "2021-01-11T10:00:00",
          "2021-01-11T11:00:00",
          "2021-01-11T12:00:00",
          "2021-01-11T13:00:00",
          "2021-01-11T14:00:00",
          "2021-01-11T15:00:00",
          "2021-01-11T16:00:00",
          "2021-01-11T17:00:00",
          "2021-01-11T18:00:00",
          "2021-01-11T19:00:00",
          "2021-01-11T20:00:00",
          "2021-01-12T05:00:00",
          "2021-01-12T06:00:00",
          "2021-01-12T07:00:00",
          "2021-01-12T08:00:00",
          "2021-01-12T09:00:00",
          "2021-01-12T10:00:00",
          "2021-01-12T11:00:00",
          "2021-01-12T12:00:00",
          "2021-01-12T13:00:00",
          "2021-01-12T14:00:00",
          "2021-01-12T15:00:00",
          "2021-01-12T16:00:00",
          "2021-01-12T17:00:00",
          "2021-01-12T18:00:00",
          "2021-01-12T19:00:00",
          "2021-01-12T20:00:00",
          "2021-01-13T05:00:00",
          "2021-01-13T07:00:00",
          "2021-01-13T08:00:00",
          "2021-01-13T09:00:00",
          "2021-01-13T10:00:00",
          "2021-01-13T11:00:00",
          "2021-01-13T12:00:00",
          "2021-01-13T13:00:00",
          "2021-01-13T14:00:00",
          "2021-01-13T15:00:00",
          "2021-01-13T16:00:00",
          "2021-01-13T17:00:00",
          "2021-01-13T18:00:00",
          "2021-01-13T19:00:00",
          "2021-01-13T20:00:00",
          "2021-01-14T05:00:00",
          "2021-01-14T06:00:00",
          "2021-01-14T07:00:00",
          "2021-01-14T08:00:00",
          "2021-01-14T09:00:00",
          "2021-01-14T10:00:00",
          "2021-01-14T11:00:00",
          "2021-01-14T12:00:00",
          "2021-01-14T13:00:00",
          "2021-01-14T14:00:00",
          "2021-01-14T15:00:00",
          "2021-01-14T16:00:00",
          "2021-01-14T17:00:00",
          "2021-01-14T18:00:00",
          "2021-01-14T19:00:00",
          "2021-01-14T20:00:00",
          "2021-01-15T05:00:00",
          "2021-01-15T06:00:00",
          "2021-01-15T07:00:00",
          "2021-01-15T08:00:00",
          "2021-01-15T09:00:00",
          "2021-01-15T10:00:00",
          "2021-01-15T11:00:00",
          "2021-01-15T12:00:00",
          "2021-01-15T13:00:00",
          "2021-01-15T14:00:00",
          "2021-01-15T15:00:00",
          "2021-01-15T16:00:00",
          "2021-01-15T17:00:00",
          "2021-01-15T18:00:00",
          "2021-01-15T19:00:00",
          "2021-01-15T20:00:00",
          "2021-01-19T05:00:00",
          "2021-01-19T06:00:00",
          "2021-01-19T07:00:00",
          "2021-01-19T08:00:00",
          "2021-01-19T09:00:00",
          "2021-01-19T10:00:00",
          "2021-01-19T11:00:00",
          "2021-01-19T12:00:00",
          "2021-01-19T13:00:00",
          "2021-01-19T14:00:00",
          "2021-01-19T15:00:00",
          "2021-01-19T16:00:00",
          "2021-01-19T17:00:00",
          "2021-01-19T18:00:00",
          "2021-01-19T19:00:00",
          "2021-01-19T20:00:00",
          "2021-01-20T05:00:00",
          "2021-01-20T06:00:00",
          "2021-01-20T07:00:00",
          "2021-01-20T08:00:00",
          "2021-01-20T09:00:00",
          "2021-01-20T10:00:00",
          "2021-01-20T11:00:00",
          "2021-01-20T12:00:00",
          "2021-01-20T13:00:00",
          "2021-01-20T14:00:00",
          "2021-01-20T15:00:00",
          "2021-01-20T16:00:00",
          "2021-01-20T17:00:00",
          "2021-01-20T18:00:00",
          "2021-01-20T19:00:00",
          "2021-01-20T20:00:00",
          "2021-01-21T05:00:00",
          "2021-01-21T07:00:00",
          "2021-01-21T08:00:00",
          "2021-01-21T09:00:00",
          "2021-01-21T10:00:00",
          "2021-01-21T11:00:00",
          "2021-01-21T12:00:00",
          "2021-01-21T13:00:00",
          "2021-01-21T14:00:00",
          "2021-01-21T15:00:00",
          "2021-01-21T16:00:00",
          "2021-01-21T17:00:00",
          "2021-01-21T18:00:00",
          "2021-01-21T19:00:00",
          "2021-01-21T20:00:00",
          "2021-01-22T05:00:00",
          "2021-01-22T06:00:00",
          "2021-01-22T07:00:00",
          "2021-01-22T08:00:00",
          "2021-01-22T09:00:00",
          "2021-01-22T10:00:00",
          "2021-01-22T11:00:00",
          "2021-01-22T12:00:00",
          "2021-01-22T13:00:00",
          "2021-01-22T14:00:00",
          "2021-01-22T15:00:00",
          "2021-01-22T16:00:00",
          "2021-01-22T17:00:00",
          "2021-01-22T18:00:00",
          "2021-01-22T19:00:00",
          "2021-01-22T20:00:00",
          "2021-01-25T05:00:00",
          "2021-01-25T06:00:00",
          "2021-01-25T07:00:00",
          "2021-01-25T08:00:00",
          "2021-01-25T09:00:00",
          "2021-01-25T10:00:00",
          "2021-01-25T11:00:00",
          "2021-01-25T12:00:00",
          "2021-01-25T13:00:00",
          "2021-01-25T14:00:00",
          "2021-01-25T15:00:00",
          "2021-01-25T16:00:00",
          "2021-01-25T17:00:00",
          "2021-01-25T18:00:00",
          "2021-01-25T19:00:00",
          "2021-01-25T20:00:00",
          "2021-01-26T05:00:00",
          "2021-01-26T06:00:00",
          "2021-01-26T07:00:00",
          "2021-01-26T08:00:00",
          "2021-01-26T09:00:00",
          "2021-01-26T10:00:00",
          "2021-01-26T11:00:00",
          "2021-01-26T12:00:00",
          "2021-01-26T13:00:00",
          "2021-01-26T14:00:00",
          "2021-01-26T15:00:00",
          "2021-01-26T16:00:00",
          "2021-01-26T17:00:00",
          "2021-01-26T18:00:00",
          "2021-01-26T19:00:00",
          "2021-01-26T20:00:00",
          "2021-01-27T05:00:00",
          "2021-01-27T06:00:00",
          "2021-01-27T07:00:00",
          "2021-01-27T08:00:00",
          "2021-01-27T09:00:00",
          "2021-01-27T10:00:00",
          "2021-01-27T11:00:00",
          "2021-01-27T12:00:00",
          "2021-01-27T13:00:00",
          "2021-01-27T14:00:00",
          "2021-01-27T15:00:00",
          "2021-01-27T16:00:00",
          "2021-01-27T17:00:00",
          "2021-01-27T18:00:00",
          "2021-01-27T19:00:00",
          "2021-01-27T20:00:00",
          "2021-01-28T05:00:00",
          "2021-01-28T06:00:00",
          "2021-01-28T07:00:00",
          "2021-01-28T08:00:00",
          "2021-01-28T09:00:00",
          "2021-01-28T10:00:00",
          "2021-01-28T11:00:00",
          "2021-01-28T12:00:00",
          "2021-01-28T13:00:00",
          "2021-01-28T14:00:00",
          "2021-01-28T15:00:00",
          "2021-01-28T16:00:00",
          "2021-01-28T17:00:00",
          "2021-01-28T18:00:00",
          "2021-01-28T19:00:00",
          "2021-01-28T20:00:00",
          "2021-01-29T05:00:00",
          "2021-01-29T06:00:00",
          "2021-01-29T07:00:00",
          "2021-01-29T08:00:00",
          "2021-01-29T09:00:00",
          "2021-01-29T10:00:00",
          "2021-01-29T11:00:00",
          "2021-01-29T12:00:00",
          "2021-01-29T13:00:00",
          "2021-01-29T14:00:00",
          "2021-01-29T15:00:00",
          "2021-01-29T16:00:00",
          "2021-01-29T17:00:00",
          "2021-01-29T18:00:00",
          "2021-01-29T19:00:00",
          "2021-01-29T20:00:00",
          "2021-02-01T05:00:00",
          "2021-02-01T06:00:00",
          "2021-02-01T07:00:00",
          "2021-02-01T08:00:00",
          "2021-02-01T09:00:00",
          "2021-02-01T10:00:00",
          "2021-02-01T11:00:00",
          "2021-02-01T12:00:00",
          "2021-02-01T13:00:00",
          "2021-02-01T14:00:00",
          "2021-02-01T15:00:00",
          "2021-02-01T16:00:00",
          "2021-02-01T17:00:00",
          "2021-02-01T18:00:00",
          "2021-02-01T19:00:00",
          "2021-02-01T20:00:00",
          "2021-02-02T05:00:00",
          "2021-02-02T06:00:00",
          "2021-02-02T07:00:00",
          "2021-02-02T08:00:00",
          "2021-02-02T09:00:00",
          "2021-02-02T10:00:00",
          "2021-02-02T11:00:00",
          "2021-02-02T12:00:00",
          "2021-02-02T13:00:00",
          "2021-02-02T14:00:00",
          "2021-02-02T15:00:00",
          "2021-02-02T16:00:00",
          "2021-02-02T17:00:00",
          "2021-02-02T18:00:00",
          "2021-02-02T19:00:00",
          "2021-02-02T20:00:00",
          "2021-02-03T05:00:00",
          "2021-02-03T06:00:00",
          "2021-02-03T07:00:00",
          "2021-02-03T08:00:00",
          "2021-02-03T09:00:00",
          "2021-02-03T10:00:00",
          "2021-02-03T11:00:00",
          "2021-02-03T12:00:00",
          "2021-02-03T13:00:00",
          "2021-02-03T14:00:00",
          "2021-02-03T15:00:00",
          "2021-02-03T16:00:00",
          "2021-02-03T17:00:00",
          "2021-02-03T18:00:00",
          "2021-02-03T19:00:00",
          "2021-02-03T20:00:00",
          "2021-02-04T05:00:00",
          "2021-02-04T06:00:00",
          "2021-02-04T07:00:00",
          "2021-02-04T08:00:00",
          "2021-02-04T09:00:00",
          "2021-02-04T10:00:00",
          "2021-02-04T11:00:00",
          "2021-02-04T12:00:00",
          "2021-02-04T13:00:00",
          "2021-02-04T14:00:00",
          "2021-02-04T15:00:00",
          "2021-02-04T16:00:00",
          "2021-02-04T17:00:00",
          "2021-02-04T18:00:00",
          "2021-02-04T19:00:00",
          "2021-02-04T20:00:00",
          "2021-02-05T05:00:00",
          "2021-02-05T06:00:00",
          "2021-02-05T07:00:00",
          "2021-02-05T08:00:00",
          "2021-02-05T09:00:00",
          "2021-02-05T10:00:00",
          "2021-02-05T11:00:00",
          "2021-02-05T12:00:00",
          "2021-02-05T13:00:00",
          "2021-02-05T14:00:00",
          "2021-02-05T15:00:00",
          "2021-02-05T16:00:00",
          "2021-02-05T17:00:00",
          "2021-02-05T18:00:00",
          "2021-02-05T19:00:00",
          "2021-02-05T20:00:00",
          "2021-02-08T05:00:00",
          "2021-02-08T06:00:00",
          "2021-02-08T07:00:00",
          "2021-02-08T08:00:00",
          "2021-02-08T09:00:00",
          "2021-02-08T10:00:00",
          "2021-02-08T11:00:00",
          "2021-02-08T12:00:00",
          "2021-02-08T13:00:00",
          "2021-02-08T14:00:00",
          "2021-02-08T15:00:00",
          "2021-02-08T16:00:00",
          "2021-02-08T17:00:00",
          "2021-02-08T18:00:00",
          "2021-02-08T19:00:00",
          "2021-02-08T20:00:00",
          "2021-02-09T05:00:00",
          "2021-02-09T06:00:00",
          "2021-02-09T07:00:00",
          "2021-02-09T08:00:00",
          "2021-02-09T09:00:00",
          "2021-02-09T10:00:00",
          "2021-02-09T11:00:00",
          "2021-02-09T12:00:00",
          "2021-02-09T13:00:00",
          "2021-02-09T14:00:00",
          "2021-02-09T15:00:00",
          "2021-02-09T16:00:00",
          "2021-02-09T17:00:00",
          "2021-02-09T18:00:00",
          "2021-02-09T19:00:00",
          "2021-02-09T20:00:00",
          "2021-02-10T05:00:00",
          "2021-02-10T06:00:00",
          "2021-02-10T07:00:00",
          "2021-02-10T08:00:00",
          "2021-02-10T09:00:00",
          "2021-02-10T10:00:00",
          "2021-02-10T11:00:00",
          "2021-02-10T12:00:00",
          "2021-02-10T13:00:00",
          "2021-02-10T14:00:00",
          "2021-02-10T15:00:00",
          "2021-02-10T16:00:00",
          "2021-02-10T17:00:00",
          "2021-02-10T18:00:00",
          "2021-02-10T19:00:00",
          "2021-02-10T20:00:00",
          "2021-02-11T05:00:00",
          "2021-02-11T06:00:00",
          "2021-02-11T07:00:00",
          "2021-02-11T08:00:00",
          "2021-02-11T09:00:00",
          "2021-02-11T10:00:00",
          "2021-02-11T11:00:00",
          "2021-02-11T12:00:00",
          "2021-02-11T13:00:00",
          "2021-02-11T14:00:00",
          "2021-02-11T15:00:00",
          "2021-02-11T16:00:00",
          "2021-02-11T17:00:00",
          "2021-02-11T18:00:00",
          "2021-02-11T19:00:00",
          "2021-02-11T20:00:00",
          "2021-02-12T05:00:00",
          "2021-02-12T06:00:00",
          "2021-02-12T07:00:00",
          "2021-02-12T08:00:00",
          "2021-02-12T09:00:00",
          "2021-02-12T10:00:00",
          "2021-02-12T11:00:00",
          "2021-02-12T12:00:00",
          "2021-02-12T13:00:00",
          "2021-02-12T14:00:00",
          "2021-02-12T15:00:00",
          "2021-02-12T16:00:00",
          "2021-02-12T17:00:00",
          "2021-02-12T18:00:00",
          "2021-02-12T19:00:00",
          "2021-02-12T20:00:00"
         ]
        }
       ],
       "layout": {
        "plot_bgcolor": "rgb(84, 85, 87)",
        "template": {
         "data": {
          "bar": [
           {
            "error_x": {
             "color": "#2a3f5f"
            },
            "error_y": {
             "color": "#2a3f5f"
            },
            "marker": {
             "line": {
              "color": "#E5ECF6",
              "width": 0.5
             }
            },
            "type": "bar"
           }
          ],
          "barpolar": [
           {
            "marker": {
             "line": {
              "color": "#E5ECF6",
              "width": 0.5
             }
            },
            "type": "barpolar"
           }
          ],
          "carpet": [
           {
            "aaxis": {
             "endlinecolor": "#2a3f5f",
             "gridcolor": "white",
             "linecolor": "white",
             "minorgridcolor": "white",
             "startlinecolor": "#2a3f5f"
            },
            "baxis": {
             "endlinecolor": "#2a3f5f",
             "gridcolor": "white",
             "linecolor": "white",
             "minorgridcolor": "white",
             "startlinecolor": "#2a3f5f"
            },
            "type": "carpet"
           }
          ],
          "choropleth": [
           {
            "colorbar": {
             "outlinewidth": 0,
             "ticks": ""
            },
            "type": "choropleth"
           }
          ],
          "contour": [
           {
            "colorbar": {
             "outlinewidth": 0,
             "ticks": ""
            },
            "colorscale": [
             [
              0,
              "#0d0887"
             ],
             [
              0.1111111111111111,
              "#46039f"
             ],
             [
              0.2222222222222222,
              "#7201a8"
             ],
             [
              0.3333333333333333,
              "#9c179e"
             ],
             [
              0.4444444444444444,
              "#bd3786"
             ],
             [
              0.5555555555555556,
              "#d8576b"
             ],
             [
              0.6666666666666666,
              "#ed7953"
             ],
             [
              0.7777777777777778,
              "#fb9f3a"
             ],
             [
              0.8888888888888888,
              "#fdca26"
             ],
             [
              1,
              "#f0f921"
             ]
            ],
            "type": "contour"
           }
          ],
          "contourcarpet": [
           {
            "colorbar": {
             "outlinewidth": 0,
             "ticks": ""
            },
            "type": "contourcarpet"
           }
          ],
          "heatmap": [
           {
            "colorbar": {
             "outlinewidth": 0,
             "ticks": ""
            },
            "colorscale": [
             [
              0,
              "#0d0887"
             ],
             [
              0.1111111111111111,
              "#46039f"
             ],
             [
              0.2222222222222222,
              "#7201a8"
             ],
             [
              0.3333333333333333,
              "#9c179e"
             ],
             [
              0.4444444444444444,
              "#bd3786"
             ],
             [
              0.5555555555555556,
              "#d8576b"
             ],
             [
              0.6666666666666666,
              "#ed7953"
             ],
             [
              0.7777777777777778,
              "#fb9f3a"
             ],
             [
              0.8888888888888888,
              "#fdca26"
             ],
             [
              1,
              "#f0f921"
             ]
            ],
            "type": "heatmap"
           }
          ],
          "heatmapgl": [
           {
            "colorbar": {
             "outlinewidth": 0,
             "ticks": ""
            },
            "colorscale": [
             [
              0,
              "#0d0887"
             ],
             [
              0.1111111111111111,
              "#46039f"
             ],
             [
              0.2222222222222222,
              "#7201a8"
             ],
             [
              0.3333333333333333,
              "#9c179e"
             ],
             [
              0.4444444444444444,
              "#bd3786"
             ],
             [
              0.5555555555555556,
              "#d8576b"
             ],
             [
              0.6666666666666666,
              "#ed7953"
             ],
             [
              0.7777777777777778,
              "#fb9f3a"
             ],
             [
              0.8888888888888888,
              "#fdca26"
             ],
             [
              1,
              "#f0f921"
             ]
            ],
            "type": "heatmapgl"
           }
          ],
          "histogram": [
           {
            "marker": {
             "colorbar": {
              "outlinewidth": 0,
              "ticks": ""
             }
            },
            "type": "histogram"
           }
          ],
          "histogram2d": [
           {
            "colorbar": {
             "outlinewidth": 0,
             "ticks": ""
            },
            "colorscale": [
             [
              0,
              "#0d0887"
             ],
             [
              0.1111111111111111,
              "#46039f"
             ],
             [
              0.2222222222222222,
              "#7201a8"
             ],
             [
              0.3333333333333333,
              "#9c179e"
             ],
             [
              0.4444444444444444,
              "#bd3786"
             ],
             [
              0.5555555555555556,
              "#d8576b"
             ],
             [
              0.6666666666666666,
              "#ed7953"
             ],
             [
              0.7777777777777778,
              "#fb9f3a"
             ],
             [
              0.8888888888888888,
              "#fdca26"
             ],
             [
              1,
              "#f0f921"
             ]
            ],
            "type": "histogram2d"
           }
          ],
          "histogram2dcontour": [
           {
            "colorbar": {
             "outlinewidth": 0,
             "ticks": ""
            },
            "colorscale": [
             [
              0,
              "#0d0887"
             ],
             [
              0.1111111111111111,
              "#46039f"
             ],
             [
              0.2222222222222222,
              "#7201a8"
             ],
             [
              0.3333333333333333,
              "#9c179e"
             ],
             [
              0.4444444444444444,
              "#bd3786"
             ],
             [
              0.5555555555555556,
              "#d8576b"
             ],
             [
              0.6666666666666666,
              "#ed7953"
             ],
             [
              0.7777777777777778,
              "#fb9f3a"
             ],
             [
              0.8888888888888888,
              "#fdca26"
             ],
             [
              1,
              "#f0f921"
             ]
            ],
            "type": "histogram2dcontour"
           }
          ],
          "mesh3d": [
           {
            "colorbar": {
             "outlinewidth": 0,
             "ticks": ""
            },
            "type": "mesh3d"
           }
          ],
          "parcoords": [
           {
            "line": {
             "colorbar": {
              "outlinewidth": 0,
              "ticks": ""
             }
            },
            "type": "parcoords"
           }
          ],
          "pie": [
           {
            "automargin": true,
            "type": "pie"
           }
          ],
          "scatter": [
           {
            "marker": {
             "colorbar": {
              "outlinewidth": 0,
              "ticks": ""
             }
            },
            "type": "scatter"
           }
          ],
          "scatter3d": [
           {
            "line": {
             "colorbar": {
              "outlinewidth": 0,
              "ticks": ""
             }
            },
            "marker": {
             "colorbar": {
              "outlinewidth": 0,
              "ticks": ""
             }
            },
            "type": "scatter3d"
           }
          ],
          "scattercarpet": [
           {
            "marker": {
             "colorbar": {
              "outlinewidth": 0,
              "ticks": ""
             }
            },
            "type": "scattercarpet"
           }
          ],
          "scattergeo": [
           {
            "marker": {
             "colorbar": {
              "outlinewidth": 0,
              "ticks": ""
             }
            },
            "type": "scattergeo"
           }
          ],
          "scattergl": [
           {
            "marker": {
             "colorbar": {
              "outlinewidth": 0,
              "ticks": ""
             }
            },
            "type": "scattergl"
           }
          ],
          "scattermapbox": [
           {
            "marker": {
             "colorbar": {
              "outlinewidth": 0,
              "ticks": ""
             }
            },
            "type": "scattermapbox"
           }
          ],
          "scatterpolar": [
           {
            "marker": {
             "colorbar": {
              "outlinewidth": 0,
              "ticks": ""
             }
            },
            "type": "scatterpolar"
           }
          ],
          "scatterpolargl": [
           {
            "marker": {
             "colorbar": {
              "outlinewidth": 0,
              "ticks": ""
             }
            },
            "type": "scatterpolargl"
           }
          ],
          "scatterternary": [
           {
            "marker": {
             "colorbar": {
              "outlinewidth": 0,
              "ticks": ""
             }
            },
            "type": "scatterternary"
           }
          ],
          "surface": [
           {
            "colorbar": {
             "outlinewidth": 0,
             "ticks": ""
            },
            "colorscale": [
             [
              0,
              "#0d0887"
             ],
             [
              0.1111111111111111,
              "#46039f"
             ],
             [
              0.2222222222222222,
              "#7201a8"
             ],
             [
              0.3333333333333333,
              "#9c179e"
             ],
             [
              0.4444444444444444,
              "#bd3786"
             ],
             [
              0.5555555555555556,
              "#d8576b"
             ],
             [
              0.6666666666666666,
              "#ed7953"
             ],
             [
              0.7777777777777778,
              "#fb9f3a"
             ],
             [
              0.8888888888888888,
              "#fdca26"
             ],
             [
              1,
              "#f0f921"
             ]
            ],
            "type": "surface"
           }
          ],
          "table": [
           {
            "cells": {
             "fill": {
              "color": "#EBF0F8"
             },
             "line": {
              "color": "white"
             }
            },
            "header": {
             "fill": {
              "color": "#C8D4E3"
             },
             "line": {
              "color": "white"
             }
            },
            "type": "table"
           }
          ]
         },
         "layout": {
          "annotationdefaults": {
           "arrowcolor": "#2a3f5f",
           "arrowhead": 0,
           "arrowwidth": 1
          },
          "autotypenumbers": "strict",
          "coloraxis": {
           "colorbar": {
            "outlinewidth": 0,
            "ticks": ""
           }
          },
          "colorscale": {
           "diverging": [
            [
             0,
             "#8e0152"
            ],
            [
             0.1,
             "#c51b7d"
            ],
            [
             0.2,
             "#de77ae"
            ],
            [
             0.3,
             "#f1b6da"
            ],
            [
             0.4,
             "#fde0ef"
            ],
            [
             0.5,
             "#f7f7f7"
            ],
            [
             0.6,
             "#e6f5d0"
            ],
            [
             0.7,
             "#b8e186"
            ],
            [
             0.8,
             "#7fbc41"
            ],
            [
             0.9,
             "#4d9221"
            ],
            [
             1,
             "#276419"
            ]
           ],
           "sequential": [
            [
             0,
             "#0d0887"
            ],
            [
             0.1111111111111111,
             "#46039f"
            ],
            [
             0.2222222222222222,
             "#7201a8"
            ],
            [
             0.3333333333333333,
             "#9c179e"
            ],
            [
             0.4444444444444444,
             "#bd3786"
            ],
            [
             0.5555555555555556,
             "#d8576b"
            ],
            [
             0.6666666666666666,
             "#ed7953"
            ],
            [
             0.7777777777777778,
             "#fb9f3a"
            ],
            [
             0.8888888888888888,
             "#fdca26"
            ],
            [
             1,
             "#f0f921"
            ]
           ],
           "sequentialminus": [
            [
             0,
             "#0d0887"
            ],
            [
             0.1111111111111111,
             "#46039f"
            ],
            [
             0.2222222222222222,
             "#7201a8"
            ],
            [
             0.3333333333333333,
             "#9c179e"
            ],
            [
             0.4444444444444444,
             "#bd3786"
            ],
            [
             0.5555555555555556,
             "#d8576b"
            ],
            [
             0.6666666666666666,
             "#ed7953"
            ],
            [
             0.7777777777777778,
             "#fb9f3a"
            ],
            [
             0.8888888888888888,
             "#fdca26"
            ],
            [
             1,
             "#f0f921"
            ]
           ]
          },
          "colorway": [
           "#636efa",
           "#EF553B",
           "#00cc96",
           "#ab63fa",
           "#FFA15A",
           "#19d3f3",
           "#FF6692",
           "#B6E880",
           "#FF97FF",
           "#FECB52"
          ],
          "font": {
           "color": "#2a3f5f"
          },
          "geo": {
           "bgcolor": "white",
           "lakecolor": "white",
           "landcolor": "#E5ECF6",
           "showlakes": true,
           "showland": true,
           "subunitcolor": "white"
          },
          "hoverlabel": {
           "align": "left"
          },
          "hovermode": "closest",
          "mapbox": {
           "style": "light"
          },
          "paper_bgcolor": "white",
          "plot_bgcolor": "#E5ECF6",
          "polar": {
           "angularaxis": {
            "gridcolor": "white",
            "linecolor": "white",
            "ticks": ""
           },
           "bgcolor": "#E5ECF6",
           "radialaxis": {
            "gridcolor": "white",
            "linecolor": "white",
            "ticks": ""
           }
          },
          "scene": {
           "xaxis": {
            "backgroundcolor": "#E5ECF6",
            "gridcolor": "white",
            "gridwidth": 2,
            "linecolor": "white",
            "showbackground": true,
            "ticks": "",
            "zerolinecolor": "white"
           },
           "yaxis": {
            "backgroundcolor": "#E5ECF6",
            "gridcolor": "white",
            "gridwidth": 2,
            "linecolor": "white",
            "showbackground": true,
            "ticks": "",
            "zerolinecolor": "white"
           },
           "zaxis": {
            "backgroundcolor": "#E5ECF6",
            "gridcolor": "white",
            "gridwidth": 2,
            "linecolor": "white",
            "showbackground": true,
            "ticks": "",
            "zerolinecolor": "white"
           }
          },
          "shapedefaults": {
           "line": {
            "color": "#2a3f5f"
           }
          },
          "ternary": {
           "aaxis": {
            "gridcolor": "white",
            "linecolor": "white",
            "ticks": ""
           },
           "baxis": {
            "gridcolor": "white",
            "linecolor": "white",
            "ticks": ""
           },
           "bgcolor": "#E5ECF6",
           "caxis": {
            "gridcolor": "white",
            "linecolor": "white",
            "ticks": ""
           }
          },
          "title": {
           "x": 0.05
          },
          "xaxis": {
           "automargin": true,
           "gridcolor": "white",
           "linecolor": "white",
           "ticks": "",
           "title": {
            "standoff": 15
           },
           "zerolinecolor": "white",
           "zerolinewidth": 2
          },
          "yaxis": {
           "automargin": true,
           "gridcolor": "white",
           "linecolor": "white",
           "ticks": "",
           "title": {
            "standoff": 15
           },
           "zerolinecolor": "white",
           "zerolinewidth": 2
          }
         }
        },
        "title": {
         "text": "Hourly Candlestick"
        },
        "xaxis": {
         "gridcolor": "rgb(144, 145, 142)",
         "rangeslider": {
          "visible": false
         },
         "title": {
          "text": "Date"
         }
        },
        "yaxis": {
         "gridcolor": "rgb(144, 145, 142)",
         "title": {
          "text": "Price"
         }
        }
       }
      },
      "text/html": [
       "<div>                            <div id=\"f531c120-24a9-4939-8940-b09c1147a53b\" class=\"plotly-graph-div\" style=\"height:525px; width:100%;\"></div>            <script type=\"text/javascript\">                require([\"plotly\"], function(Plotly) {                    window.PLOTLYENV=window.PLOTLYENV || {};                                    if (document.getElementById(\"f531c120-24a9-4939-8940-b09c1147a53b\")) {                    Plotly.newPlot(                        \"f531c120-24a9-4939-8940-b09c1147a53b\",                        [{\"close\": [19.8, 19.8, 19.55, 19.3, 19.36, 19.46, 19.05, 19.37, 19.72, 19.46, 18.99, 18.81, 18.8, 19.1, 18.87, 18.88, 19.4, 19.35, 19.0, 18.96, 17.425, 17.52, 17.585, 17.67, 17.5711, 17.405, 17.24, 17.37, 17.4, 17.47, 17.37, 17.25, 17.5, 17.3, 17.1001, 17.7, 17.55, 17.555, 17.64, 17.4897, 17.267, 17.36, 17.48, 17.49, 17.49, 17.58, 17.3, 17.27, 17.57, 17.55, 17.605, 18.4, 18.68, 18.7844, 18.815, 18.23, 18.39, 18.3, 18.8, 18.51, 18.6999, 19.03, 19.0, 19.0, 19.0, 19.4001, 18.85, 18.56, 18.575, 18.39, 18.275, 18.12, 18.2502, 18.25, 18.26, 18.4, 18.09, 18.34, 18.33, 17.595, 17.57, 17.55, 17.875, 17.6, 17.88, 17.6899, 17.9, 17.9, 17.97, 17.7, 17.13, 17.12, 17.2, 21.51, 19.2, 20.5, 19.32, 19.365, 19.605, 20.37, 19.8425, 19.93, 19.93, 19.95, 20.06, 20.1, 20.0, 20.0, 20.23, 20.0, 19.9701, 19.61, 20.195, 20.0399, 20.1272, 19.865, 19.7926, 19.94, 20.0, 20.03, 20.0999, 20.15, 20.15, 20.36, 20.32, 20.39, 22.91, 28.646, 31.75, 34.31, 33.52, 33.025, 31.44, 31.25, 32.02, 32.44, 32.8, 37.51, 36.0, 36.0, 36.7, 36.55, 35.14, 35.2236, 36.88, 37.9999, 38.91, 39.275, 39.9184, 39.63, 42.34, 41.94, 42.0, 41.8, 40.2, 40.74, 38.49, 38.3, 37.3947, 36.62, 34.21, 35.8156, 35.9672, 37.89, 35.49, 35.3498, 35.25, 35.9, 36.0, 40.9, 41.25, 40.34, 38.38, 40.88, 40.7378, 37.76, 39.6201, 42.12, 40.94, 40.276, 39.51, 38.8398, 38.89, 38.75, 38.6, 37.83, 37.7, 37.9, 38.42, 37.87, 37.9175, 36.86, 39.35, 38.67, 39.2744, 39.59, 39.12, 38.8, 38.71, 38.9, 39.05, 39.2, 38.9, 38.56, 39.0, 38.5, 39.8675, 42.2501, 39.7, 42.218, 40.56, 43.02, 42.98, 43.5, 45.39, 45.35, 45.1, 44.34, 44.4, 45.25, 44.39, 45.98, 47.6795, 52.2, 70.3, 55.1097, 59.18, 64.85, 67.6, 63.8, 63.7, 61.0, 105.39, 96.77, 94.43, 91.65, 98.05, 89.76, 117.07, 99.56, 69.42, 76.7499, 77.0001, 76.765, 78.5, 81.71, 82.8801, 88.87, 94.0, 88.55, 88.5, 91.51, 89.25, 87.57, 87.6101, 87.7999, 105.5556, 114.5499, 131.845, 145.965, 224.45, 208.14, 225.0, 209.51, 299.19, 351.0, 197.89, 230.0, 231.5, 310.69, 371.82, 312.61, 342.172, 326.59, 319.6006, 345.0, 327.26, 319.85, 248.8, 292.0, 335.0, 456.0, 445.0, 459.0, 341.0, 468.49, 264.01, 255.7614, 239.6656, 241.5301, 247.17, 197.44, 257.0, 281.85, 347.01, 311.99, 425.94, 389.05, 395.01, 346.49, 362.79, 317.37, 334.62, 340.1656, 329.3264, 276.1098, 283.5608, 328.24, 322.02, 306.0, 315.72, 312.01, 348.0, 337.0, 328.18, 323.35, 317.8, 269.9999, 237.39, 259.2, 248.0, 250.0, 240.1828, 227.0, 207.55, 178.0, 187.75, 189.52, 171.0, 174.5, 158.49, 138.7, 127.5, 115.0, 91.5, 114.85, 117.95, 104.3724, 99.9, 90.47, 88.78, 92.0, 90.0, 85.2, 87.2, 96.0, 91.44, 89.86, 93.35, 92.89, 99.43, 93.55, 99.97, 107.4999, 97.94, 92.0431, 90.6, 92.0, 89.6, 88.88, 93.57, 96.75, 95.13, 94.5, 94.93, 83.39, 71.4, 68.5801, 64.31, 60.0001, 58.23, 53.378, 53.15, 50.25, 50.2, 49.17, 60.87, 59.33, 58.75, 59.09, 57.16, 82.77, 70.8185, 64.39, 63.55, 61.0, 60.8201, 63.7601, 64.87, 69.51, 67.2, 66.46, 69.0, 71.0, 71.45, 69.48, 69.55, 64.65, 60.75, 59.65, 60.15, 59.6623, 58.8001, 59.9599, 59.59, 59.6, 59.78, 59.5, 57.0, 57.0, 56.8, 55.5, 56.7, 53.63, 49.05, 48.5379, 48.7399, 48.8699, 50.8807, 50.32, 52.0, 51.45, 50.25, 49.99, 50.35, 48.5, 48.7, 51.15, 50.99, 50.49, 49.77, 52.53, 55.8101, 56.345, 53.2817, 51.19, 49.47, 50.2, 49.99, 49.9, 49.67, 51.0, 50.39, 50.2, 50.26, 52.215, 50.185, 49.1105, 48.88, 48.61, 48.7263, 50.9, 50.13, 49.5, 50.25, 50.28, 51.0, 50.09, 50.12, 51.27, 50.9, 50.725, 53.68, 52.2185, 52.2968, 51.36, 51.328, 52.33, 51.9, 51.75, 52.6, 52.9], \"high\": [19.8, 19.8, 19.56, 19.55, 19.4993, 19.63, 19.49, 19.4599, 19.8, 19.7499, 19.47, 19.04, 18.9598, 19.1, 18.95, 18.95, 19.4, 19.42, 19.25, 19.1499, 19.1, 18.11, 17.72, 17.82, 17.69, 17.62, 17.55, 17.53, 17.49, 17.5, 17.51, 17.25, 17.5, 17.7, 17.55, 18.0765, 17.84, 17.7, 17.66, 17.66, 17.5699, 17.54, 17.52, 17.49, 17.5, 17.7, 17.51, 17.27, 17.57, 17.65, 17.95, 18.48, 18.73, 18.98, 18.88, 18.98, 18.43, 18.36, 18.8, 18.8, 18.72, 19.03, 19.08, 19.0, 19.11, 19.45, 19.44, 18.9032, 18.82, 18.655, 18.47, 18.42, 18.33, 18.46, 18.4, 18.43, 18.09, 18.4, 18.4, 18.33, 17.86, 17.63, 17.98, 17.88, 17.927, 17.9489, 17.9, 17.9, 18.0, 17.97, 17.5, 17.12, 17.2, 21.82, 21.8, 20.65, 20.53, 19.62, 19.75, 20.49, 20.374, 19.93, 20.12, 19.95, 20.06, 20.15, 20.1, 20.28, 20.25, 20.23, 20.24, 20.4, 20.25, 20.2078, 20.1289, 20.16, 19.969, 20.04, 20.14, 20.15, 20.0999, 20.15, 20.15, 20.36, 20.47, 20.61, 23.4, 29.1, 38.65, 34.6841, 34.93, 34.38, 33.24, 31.98, 33.0, 32.95, 32.9, 38.2, 37.85, 36.34, 39.75, 39.74, 38.77, 37.11, 37.24, 43.06, 41.5, 40.41, 40.03, 40.1, 43.57, 43.06, 42.5, 42.5, 41.93, 40.99, 41.55, 41.5, 41.4899, 38.38, 37.01, 36.67, 36.3, 38.49, 38.02, 35.6, 36.0, 36.07, 36.25, 42.61, 41.5, 41.1, 40.99, 41.24, 45.52, 40.76, 39.69, 42.3, 42.1978, 40.99, 40.53, 39.71, 38.96, 38.96, 38.8, 38.58, 38.05, 38.0, 38.5, 39.0, 39.3933, 38.19, 41.1899, 40.05, 39.55, 39.97, 40.14, 39.2, 39.12, 39.0, 39.1, 39.2, 39.0, 39.02, 39.38, 39.79, 40.53, 44.75, 42.8, 42.59, 42.55, 43.19, 44.1, 43.9, 45.45, 47.47, 45.5, 45.1, 45.2, 46.94, 46.94, 46.29, 47.73, 53.95, 76.7573, 71.99, 61.49, 68.0, 68.46, 67.89, 64.88, 63.6, 136.63, 109.0, 101.7, 97.0, 104.53, 103.0, 159.18, 120.0, 103.0, 81.5, 96.1192, 132.45, 79.75, 83.5, 158.09, 90.0, 100.0, 94.25, 91.0, 94.39, 94.39, 101.62, 94.0, 90.68, 114.24, 124.5799, 143.89, 150.0, 244.0, 248.9, 231.5, 227.19, 299.33, 365.42, 353.0, 277.0, 273.4, 385.0, 380.0, 380.0, 350.0, 347.16, 337.89, 353.0, 373.02, 347.51, 319.9, 303.0, 360.0, 457.89, 513.12, 508.83, 489.12, 509.0, 483.0, 282.55, 324.0, 267.0, 265.0, 261.9899, 282.92, 509.0, 348.86, 355.9, 470.0, 420.0, 400.0, 399.98, 392.01, 413.98, 347.0, 344.99, 377.0, 336.0, 306.95, 335.0, 330.9, 350.0, 320.0, 321.1, 384.89, 356.36, 345.0, 331.9, 333.0, 322.0, 284.0, 280.0, 262.5999, 253.8899, 251.0, 240.1096, 231.0, 208.79, 190.0, 198.99, 178.31, 176.39, 175.21, 162.65, 161.0, 162.0, 125.0, 154.3999, 127.98, 118.75, 110.5499, 101.9599, 93.89, 96.0, 94.0, 90.5, 88.75, 106.0, 99.9, 94.5, 96.8, 121.36, 104.35, 99.8799, 102.71, 109.5983, 107.7599, 100.3745, 93.36, 92.03, 91.9, 89.5, 100.01, 97.0, 97.0, 95.53, 95.6, 95.6, 86.0, 76.01, 71.3, 64.4999, 61.98, 58.4999, 54.39, 53.17, 51.24, 50.94, 64.8, 62.6, 59.52, 59.2, 59.99, 82.77, 95.0, 74.45, 65.8899, 64.5, 62.78, 66.47, 66.49, 70.47, 72.0, 68.0, 72.3, 72.4, 75.8, 72.99, 73.0, 73.5, 70.6, 61.41, 60.75, 70.89, 59.76, 60.5, 60.0, 59.7, 59.8, 59.8, 61.0, 57.09, 56.8, 57.5, 57.51, 58.05, 53.68, 49.55, 50.755, 49.3899, 51.5, 50.9499, 56.2, 52.55, 51.69, 50.83, 53.0, 50.3, 48.7, 53.49, 53.5, 52.29, 57.8, 54.4199, 56.8, 62.83, 56.87, 53.4499, 51.78, 51.2, 50.25, 50.18, 50.47, 51.5, 51.2, 51.0, 50.98, 55.32, 52.2999, 50.2683, 49.3, 49.74, 49.14, 52.25, 51.1, 51.1, 50.25, 50.5, 51.0, 50.3, 50.15, 51.55, 51.55, 54.0, 54.14, 53.8, 55.24, 53.26, 51.63, 52.45, 52.4, 52.2, 52.6, 52.9], \"low\": [19.8, 19.8, 19.52, 19.27, 19.3, 18.96, 18.96, 19.03, 19.34, 19.33, 18.905, 18.8, 18.29, 18.65, 18.8, 18.88, 19.1, 19.35, 19.0, 18.9, 17.3501, 17.15, 17.26, 17.44, 17.48, 17.36, 17.22, 17.2202, 17.4, 17.47, 17.37, 17.25, 17.5, 17.29, 17.06, 17.08, 17.51, 17.45, 17.525, 17.39, 17.23, 17.24, 17.37, 17.37, 17.4, 17.53, 17.3, 17.27, 17.48, 17.4, 17.33, 17.54, 18.3, 18.52, 18.7201, 17.62, 18.08, 17.98, 18.29, 18.46, 18.46, 18.98, 19.0, 18.83, 18.8, 18.45, 18.78, 18.43, 18.545, 18.36, 18.15, 18.02, 18.01, 18.08, 18.25, 18.34, 18.09, 18.15, 18.1, 17.45, 17.08, 17.35, 17.5, 17.44, 17.6185, 17.56, 17.69, 17.8, 17.85, 17.7, 17.1, 17.12, 17.2, 17.05, 17.1, 18.8, 19.05, 19.01, 19.18, 19.58, 19.74, 19.65, 19.8, 19.85, 19.94, 20.0, 20.0, 20.0, 20.09, 20.0, 19.95, 19.3168, 19.45, 19.83, 19.78, 19.845, 19.751, 19.71, 19.91, 20.0, 19.95, 19.96, 20.15, 20.36, 20.08, 20.17, 20.03, 22.78, 28.53, 30.1, 31.555, 32.15, 30.7, 30.52, 31.26, 32.12, 32.2, 33.2, 35.65, 35.0, 35.5, 35.2, 33.05, 33.56, 35.12, 36.55, 37.77, 38.21, 37.6, 38.57, 39.54, 41.45, 41.76, 40.57, 40.2, 40.15, 38.01, 36.52, 37.05, 35.17, 34.1, 34.01, 35.16, 35.8601, 35.33, 34.5, 35.15, 35.69, 35.8, 38.31, 40.42, 40.31, 37.1, 37.2002, 39.25, 36.64, 37.7301, 39.4, 40.29, 39.6, 38.61, 38.5101, 38.65, 38.7, 38.56, 37.4, 37.65, 37.5, 37.54, 37.1, 36.63, 36.4, 36.06, 38.275, 37.85, 38.83, 38.71, 38.69, 38.71, 38.81, 38.8, 39.2, 38.9, 38.54, 38.54, 37.52, 37.86, 39.38, 37.0, 39.38, 40.02, 40.52, 42.2602, 42.5, 43.38, 45.23, 44.14, 44.02, 44.3, 44.05, 43.3, 42.32, 43.77, 46.78, 52.0544, 54.46, 54.6, 57.2, 62.4, 63.01, 62.35, 61.0, 72.2, 86.25, 90.35, 86.72, 86.9999, 86.32, 85.0, 85.39, 61.13, 65.37, 74.16, 71.1001, 72.0, 78.3, 81.65, 82.9, 90.0, 86.03, 87.5, 86.39, 86.15, 81.05, 80.2, 81.0, 87.68, 96.99, 112.0, 127.0, 138.0, 203.0, 205.11, 207.95, 219.07, 293.01, 182.55, 195.0, 197.53, 197.53, 249.0, 312.61, 280.0, 303.77, 290.01, 315.4054, 305.0, 293.0, 220.0, 217.0, 301.0, 333.0, 410.0, 421.7, 338.0, 249.73, 264.01, 112.25, 230.01, 205.4201, 215.0, 197.44, 193.6, 255.0, 280.33, 305.99, 355.98, 380.0, 360.0, 311.0, 312.0098, 291.57, 291.0, 312.04, 312.44, 265.4801, 250.0, 283.81, 293.0001, 301.21, 303.0201, 312.0, 321.75, 326.05, 326.06, 288.07, 288.0501, 252.0, 212.0, 232.9001, 241.0, 230.0, 235.51, 214.66, 206.0, 173.0, 177.0, 186.65, 160.0, 170.0, 153.6, 137.01, 126.0, 101.3, 74.2201, 90.0, 105.17, 101.01, 91.0, 88.0, 85.33, 86.01, 88.0, 85.0, 73.31, 85.0, 90.01, 85.25, 85.26, 90.49, 85.25, 90.5, 92.5, 97.46, 93.55, 90.59, 88.1, 88.95, 89.5, 87.37, 92.3, 93.6, 95.0, 92.0, 92.0, 81.05, 70.5, 62.05, 63.5, 57.2, 58.0, 53.33, 51.45, 49.0, 49.4, 49.0, 53.5, 59.0, 57.11, 54.56, 54.56, 51.09, 65.372, 61.54, 58.86, 57.26, 58.85, 59.0, 62.0, 64.53, 66.5, 66.46, 65.16, 69.2, 70.3, 68.62, 67.0, 63.3512, 58.27, 58.02, 58.68, 59.25, 58.3, 58.22, 58.56, 59.35, 59.35, 58.9, 56.2, 56.5, 55.0, 55.5, 55.13, 52.06, 48.12, 46.52, 48.4578, 48.0, 48.6001, 48.73, 49.36, 51.2, 50.0, 49.9, 50.0, 48.0, 48.25, 48.45, 48.6, 46.55, 48.16, 49.57, 51.12, 55.56, 52.35, 50.48, 49.4, 49.45, 49.65, 49.75, 49.35, 49.56, 50.39, 49.62, 49.6, 49.7, 49.27, 48.65, 48.23, 48.38, 48.2201, 48.51, 49.84, 48.93, 49.2, 50.0, 49.21, 50.09, 50.12, 50.42, 50.325, 48.05, 49.3, 51.1, 51.7, 50.6, 49.82, 51.17, 51.25, 51.75, 51.6201, 52.0], \"open\": [19.8, 19.8, 19.52, 19.52, 19.4, 19.35, 19.44, 19.04, 19.3701, 19.73, 19.46, 18.98, 18.8302, 18.8, 18.8, 18.95, 19.1, 19.42, 19.25, 19.074, 18.97, 17.425, 17.5375, 17.585, 17.665, 17.58, 17.41, 17.25, 17.47, 17.47, 17.5, 17.25, 17.5, 17.7, 17.2801, 17.11, 17.76, 17.56, 17.56, 17.66, 17.49, 17.255, 17.37, 17.48, 17.4, 17.53, 17.51, 17.27, 17.48, 17.4119, 17.54, 17.605, 18.4, 18.68, 18.775, 18.83, 18.22, 18.32, 18.3, 18.8, 18.47, 18.98, 19.08, 18.84, 18.85, 18.98, 19.4, 18.88, 18.57, 18.5863, 18.3736, 18.28, 18.08, 18.2501, 18.26, 18.38, 18.09, 18.15, 18.1, 18.32, 17.5712, 17.55, 17.56, 17.87, 17.6185, 17.89, 17.69, 17.9, 17.86, 17.85, 17.5, 17.12, 17.2, 17.5, 21.51, 19.02, 20.48, 19.32, 19.36, 19.6, 20.37, 19.84, 19.94, 19.92, 19.95, 20.06, 20.1, 20.28, 20.25, 20.1, 20.2399, 20.01, 19.6, 20.2, 20.036, 20.12, 19.86, 19.79, 19.95, 20.13, 20.0, 20.0, 20.15, 20.36, 20.1, 20.2499, 20.36, 22.93, 28.6301, 31.7501, 34.29, 33.465, 33.03, 31.3998, 31.38, 32.12, 32.49, 33.48, 37.57, 35.99, 36.0, 35.9974, 36.5501, 35.16, 35.21, 36.885, 37.96, 38.985, 39.2941, 40.0, 39.55, 42.4, 41.9, 42.2, 41.85, 40.5, 40.82, 38.5, 38.277, 37.384, 36.615, 34.2765, 35.8021, 35.99, 37.88, 35.6, 35.2, 35.8, 35.9, 39.0, 40.77, 41.1, 40.5, 38.38, 40.85, 40.75, 37.79, 39.63, 42.0295, 40.9444, 40.2607, 39.36, 38.84, 38.9, 38.7, 38.5, 38.05, 37.7, 37.92, 37.65, 37.95, 37.97, 36.86, 39.28, 38.635, 39.275, 39.6, 39.01, 38.84, 38.83, 38.89, 39.2, 38.95, 38.75, 38.5501, 39.05, 38.51, 39.8289, 42.3, 39.61, 42.2413, 40.53, 43.03, 42.81, 43.9, 45.31, 44.66, 45.1, 44.76, 44.81, 44.7672, 44.19, 45.99, 47.687, 52.2, 70.385, 54.9955, 59.185, 65.0, 67.5, 64.0, 63.6, 72.5, 106.77, 96.93, 94.48, 91.71, 98.265, 89.685, 117.07, 99.99, 69.3, 76.6241, 77.19, 76.7698, 78.39, 81.71, 82.9, 90.0, 94.25, 89.0, 88.89, 91.62, 89.0, 87.575, 87.62, 87.685, 105.3137, 114.2538, 131.6913, 146.2, 224.6, 208.1, 225.0, 246.66, 299.5, 351.89, 199.5, 230.0, 231.15, 310.32, 371.182, 312.61, 341.0407, 326.07, 318.01, 347.51, 327.36, 319.0, 248.99, 311.3, 333.11, 456.4, 447.01, 459.0, 340.73, 469.0, 265.0, 255.99, 240.9471, 242.4305, 246.1359, 197.44, 257.0, 280.33, 347.0, 360.0, 420.0, 385.0, 395.0, 347.07, 363.01, 317.7093, 335.5999, 339.8802, 328.1182, 275.95, 284.79, 327.67, 322.3, 306.11, 316.0, 356.1, 347.0, 338.0, 327.42, 327.0, 317.7, 270.0, 236.775, 259.0, 248.4599, 250.0, 240.1096, 225.46, 207.96, 178.0, 186.65, 175.3, 171.7, 174.01, 158.24, 139.0, 127.5, 114.8882, 91.0701, 110.05, 118.2996, 103.6001, 99.8561, 90.76, 88.82, 92.0, 90.0, 78.33, 87.35, 96.3, 91.11, 89.82, 93.4, 93.2799, 99.0501, 94.0, 99.7, 107.01, 98.01, 92.27, 91.47, 91.9, 89.3, 92.3, 93.6, 96.93, 95.53, 95.0, 95.0, 83.28, 71.2901, 68.7738, 64.4999, 60.17, 58.2301, 53.47, 53.17, 50.11, 50.2, 53.5, 60.87, 59.52, 58.0, 59.09, 57.2, 82.77, 70.8226, 64.293, 63.7383, 61.0, 60.83, 64.2, 64.68, 69.56, 67.2, 68.1, 69.2, 70.94, 70.5, 69.39, 69.66, 64.61, 60.745, 59.6273, 60.15, 59.68, 58.88, 60.0, 59.5, 59.59, 59.79, 59.8, 56.55, 56.77, 56.8, 56.67, 56.7, 53.6, 49.19, 48.54, 48.6101, 48.8749, 50.9499, 49.36, 52.0, 51.54, 50.25, 50.0, 50.3, 48.7, 48.81, 49.5, 51.0, 50.4999, 49.5974, 52.645, 55.9, 56.35, 53.11, 51.23, 49.47, 50.2, 49.9499, 49.49, 50.0, 50.66, 50.32, 50.0001, 50.17, 52.13, 50.1811, 49.09, 49.0275, 48.71, 48.69, 50.6, 50.16, 49.2, 50.27, 50.6, 50.29, 50.15, 50.57, 50.7, 50.559, 50.6672, 53.56, 52.1013, 52.225, 51.35, 51.34, 52.4, 51.94, 51.71, 52.07], \"type\": \"candlestick\", \"x\": [\"2020-12-31T05:00:00\", \"2020-12-31T06:00:00\", \"2020-12-31T07:00:00\", \"2020-12-31T08:00:00\", \"2020-12-31T09:00:00\", \"2020-12-31T10:00:00\", \"2020-12-31T11:00:00\", \"2020-12-31T12:00:00\", \"2020-12-31T13:00:00\", \"2020-12-31T14:00:00\", \"2020-12-31T15:00:00\", \"2020-12-31T16:00:00\", \"2020-12-31T17:00:00\", \"2020-12-31T18:00:00\", \"2020-12-31T19:00:00\", \"2020-12-31T20:00:00\", \"2021-01-04T05:00:00\", \"2021-01-04T07:00:00\", \"2021-01-04T08:00:00\", \"2021-01-04T09:00:00\", \"2021-01-04T10:00:00\", \"2021-01-04T11:00:00\", \"2021-01-04T12:00:00\", \"2021-01-04T13:00:00\", \"2021-01-04T14:00:00\", \"2021-01-04T15:00:00\", \"2021-01-04T16:00:00\", \"2021-01-04T17:00:00\", \"2021-01-04T18:00:00\", \"2021-01-04T19:00:00\", \"2021-01-04T20:00:00\", \"2021-01-05T05:00:00\", \"2021-01-05T07:00:00\", \"2021-01-05T08:00:00\", \"2021-01-05T09:00:00\", \"2021-01-05T10:00:00\", \"2021-01-05T11:00:00\", \"2021-01-05T12:00:00\", \"2021-01-05T13:00:00\", \"2021-01-05T14:00:00\", \"2021-01-05T15:00:00\", \"2021-01-05T16:00:00\", \"2021-01-05T17:00:00\", \"2021-01-05T18:00:00\", \"2021-01-05T19:00:00\", \"2021-01-05T20:00:00\", \"2021-01-06T05:00:00\", \"2021-01-06T06:00:00\", \"2021-01-06T08:00:00\", \"2021-01-06T09:00:00\", \"2021-01-06T10:00:00\", \"2021-01-06T11:00:00\", \"2021-01-06T12:00:00\", \"2021-01-06T13:00:00\", \"2021-01-06T14:00:00\", \"2021-01-06T15:00:00\", \"2021-01-06T16:00:00\", \"2021-01-06T17:00:00\", \"2021-01-06T18:00:00\", \"2021-01-06T19:00:00\", \"2021-01-06T20:00:00\", \"2021-01-07T06:00:00\", \"2021-01-07T07:00:00\", \"2021-01-07T08:00:00\", \"2021-01-07T09:00:00\", \"2021-01-07T10:00:00\", \"2021-01-07T11:00:00\", \"2021-01-07T12:00:00\", \"2021-01-07T13:00:00\", \"2021-01-07T14:00:00\", \"2021-01-07T15:00:00\", \"2021-01-07T16:00:00\", \"2021-01-07T17:00:00\", \"2021-01-07T18:00:00\", \"2021-01-07T19:00:00\", \"2021-01-07T20:00:00\", \"2021-01-08T06:00:00\", \"2021-01-08T08:00:00\", \"2021-01-08T09:00:00\", \"2021-01-08T10:00:00\", \"2021-01-08T11:00:00\", \"2021-01-08T12:00:00\", \"2021-01-08T13:00:00\", \"2021-01-08T14:00:00\", \"2021-01-08T15:00:00\", \"2021-01-08T16:00:00\", \"2021-01-08T17:00:00\", \"2021-01-08T18:00:00\", \"2021-01-08T19:00:00\", \"2021-01-08T20:00:00\", \"2021-01-11T05:00:00\", \"2021-01-11T06:00:00\", \"2021-01-11T07:00:00\", \"2021-01-11T08:00:00\", \"2021-01-11T09:00:00\", \"2021-01-11T10:00:00\", \"2021-01-11T11:00:00\", \"2021-01-11T12:00:00\", \"2021-01-11T13:00:00\", \"2021-01-11T14:00:00\", \"2021-01-11T15:00:00\", \"2021-01-11T16:00:00\", \"2021-01-11T17:00:00\", \"2021-01-11T18:00:00\", \"2021-01-11T19:00:00\", \"2021-01-11T20:00:00\", \"2021-01-12T05:00:00\", \"2021-01-12T06:00:00\", \"2021-01-12T07:00:00\", \"2021-01-12T08:00:00\", \"2021-01-12T09:00:00\", \"2021-01-12T10:00:00\", \"2021-01-12T11:00:00\", \"2021-01-12T12:00:00\", \"2021-01-12T13:00:00\", \"2021-01-12T14:00:00\", \"2021-01-12T15:00:00\", \"2021-01-12T16:00:00\", \"2021-01-12T17:00:00\", \"2021-01-12T18:00:00\", \"2021-01-12T19:00:00\", \"2021-01-12T20:00:00\", \"2021-01-13T05:00:00\", \"2021-01-13T07:00:00\", \"2021-01-13T08:00:00\", \"2021-01-13T09:00:00\", \"2021-01-13T10:00:00\", \"2021-01-13T11:00:00\", \"2021-01-13T12:00:00\", \"2021-01-13T13:00:00\", \"2021-01-13T14:00:00\", \"2021-01-13T15:00:00\", \"2021-01-13T16:00:00\", \"2021-01-13T17:00:00\", \"2021-01-13T18:00:00\", \"2021-01-13T19:00:00\", \"2021-01-13T20:00:00\", \"2021-01-14T05:00:00\", \"2021-01-14T06:00:00\", \"2021-01-14T07:00:00\", \"2021-01-14T08:00:00\", \"2021-01-14T09:00:00\", \"2021-01-14T10:00:00\", \"2021-01-14T11:00:00\", \"2021-01-14T12:00:00\", \"2021-01-14T13:00:00\", \"2021-01-14T14:00:00\", \"2021-01-14T15:00:00\", \"2021-01-14T16:00:00\", \"2021-01-14T17:00:00\", \"2021-01-14T18:00:00\", \"2021-01-14T19:00:00\", \"2021-01-14T20:00:00\", \"2021-01-15T05:00:00\", \"2021-01-15T06:00:00\", \"2021-01-15T07:00:00\", \"2021-01-15T08:00:00\", \"2021-01-15T09:00:00\", \"2021-01-15T10:00:00\", \"2021-01-15T11:00:00\", \"2021-01-15T12:00:00\", \"2021-01-15T13:00:00\", \"2021-01-15T14:00:00\", \"2021-01-15T15:00:00\", \"2021-01-15T16:00:00\", \"2021-01-15T17:00:00\", \"2021-01-15T18:00:00\", \"2021-01-15T19:00:00\", \"2021-01-15T20:00:00\", \"2021-01-19T05:00:00\", \"2021-01-19T06:00:00\", \"2021-01-19T07:00:00\", \"2021-01-19T08:00:00\", \"2021-01-19T09:00:00\", \"2021-01-19T10:00:00\", \"2021-01-19T11:00:00\", \"2021-01-19T12:00:00\", \"2021-01-19T13:00:00\", \"2021-01-19T14:00:00\", \"2021-01-19T15:00:00\", \"2021-01-19T16:00:00\", \"2021-01-19T17:00:00\", \"2021-01-19T18:00:00\", \"2021-01-19T19:00:00\", \"2021-01-19T20:00:00\", \"2021-01-20T05:00:00\", \"2021-01-20T06:00:00\", \"2021-01-20T07:00:00\", \"2021-01-20T08:00:00\", \"2021-01-20T09:00:00\", \"2021-01-20T10:00:00\", \"2021-01-20T11:00:00\", \"2021-01-20T12:00:00\", \"2021-01-20T13:00:00\", \"2021-01-20T14:00:00\", \"2021-01-20T15:00:00\", \"2021-01-20T16:00:00\", \"2021-01-20T17:00:00\", \"2021-01-20T18:00:00\", \"2021-01-20T19:00:00\", \"2021-01-20T20:00:00\", \"2021-01-21T05:00:00\", \"2021-01-21T07:00:00\", \"2021-01-21T08:00:00\", \"2021-01-21T09:00:00\", \"2021-01-21T10:00:00\", \"2021-01-21T11:00:00\", \"2021-01-21T12:00:00\", \"2021-01-21T13:00:00\", \"2021-01-21T14:00:00\", \"2021-01-21T15:00:00\", \"2021-01-21T16:00:00\", \"2021-01-21T17:00:00\", \"2021-01-21T18:00:00\", \"2021-01-21T19:00:00\", \"2021-01-21T20:00:00\", \"2021-01-22T05:00:00\", \"2021-01-22T06:00:00\", \"2021-01-22T07:00:00\", \"2021-01-22T08:00:00\", \"2021-01-22T09:00:00\", \"2021-01-22T10:00:00\", \"2021-01-22T11:00:00\", \"2021-01-22T12:00:00\", \"2021-01-22T13:00:00\", \"2021-01-22T14:00:00\", \"2021-01-22T15:00:00\", \"2021-01-22T16:00:00\", \"2021-01-22T17:00:00\", \"2021-01-22T18:00:00\", \"2021-01-22T19:00:00\", \"2021-01-22T20:00:00\", \"2021-01-25T05:00:00\", \"2021-01-25T06:00:00\", \"2021-01-25T07:00:00\", \"2021-01-25T08:00:00\", \"2021-01-25T09:00:00\", \"2021-01-25T10:00:00\", \"2021-01-25T11:00:00\", \"2021-01-25T12:00:00\", \"2021-01-25T13:00:00\", \"2021-01-25T14:00:00\", \"2021-01-25T15:00:00\", \"2021-01-25T16:00:00\", \"2021-01-25T17:00:00\", \"2021-01-25T18:00:00\", \"2021-01-25T19:00:00\", \"2021-01-25T20:00:00\", \"2021-01-26T05:00:00\", \"2021-01-26T06:00:00\", \"2021-01-26T07:00:00\", \"2021-01-26T08:00:00\", \"2021-01-26T09:00:00\", \"2021-01-26T10:00:00\", \"2021-01-26T11:00:00\", \"2021-01-26T12:00:00\", \"2021-01-26T13:00:00\", \"2021-01-26T14:00:00\", \"2021-01-26T15:00:00\", \"2021-01-26T16:00:00\", \"2021-01-26T17:00:00\", \"2021-01-26T18:00:00\", \"2021-01-26T19:00:00\", \"2021-01-26T20:00:00\", \"2021-01-27T05:00:00\", \"2021-01-27T06:00:00\", \"2021-01-27T07:00:00\", \"2021-01-27T08:00:00\", \"2021-01-27T09:00:00\", \"2021-01-27T10:00:00\", \"2021-01-27T11:00:00\", \"2021-01-27T12:00:00\", \"2021-01-27T13:00:00\", \"2021-01-27T14:00:00\", \"2021-01-27T15:00:00\", \"2021-01-27T16:00:00\", \"2021-01-27T17:00:00\", \"2021-01-27T18:00:00\", \"2021-01-27T19:00:00\", \"2021-01-27T20:00:00\", \"2021-01-28T05:00:00\", \"2021-01-28T06:00:00\", \"2021-01-28T07:00:00\", \"2021-01-28T08:00:00\", \"2021-01-28T09:00:00\", \"2021-01-28T10:00:00\", \"2021-01-28T11:00:00\", \"2021-01-28T12:00:00\", \"2021-01-28T13:00:00\", \"2021-01-28T14:00:00\", \"2021-01-28T15:00:00\", \"2021-01-28T16:00:00\", \"2021-01-28T17:00:00\", \"2021-01-28T18:00:00\", \"2021-01-28T19:00:00\", \"2021-01-28T20:00:00\", \"2021-01-29T05:00:00\", \"2021-01-29T06:00:00\", \"2021-01-29T07:00:00\", \"2021-01-29T08:00:00\", \"2021-01-29T09:00:00\", \"2021-01-29T10:00:00\", \"2021-01-29T11:00:00\", \"2021-01-29T12:00:00\", \"2021-01-29T13:00:00\", \"2021-01-29T14:00:00\", \"2021-01-29T15:00:00\", \"2021-01-29T16:00:00\", \"2021-01-29T17:00:00\", \"2021-01-29T18:00:00\", \"2021-01-29T19:00:00\", \"2021-01-29T20:00:00\", \"2021-02-01T05:00:00\", \"2021-02-01T06:00:00\", \"2021-02-01T07:00:00\", \"2021-02-01T08:00:00\", \"2021-02-01T09:00:00\", \"2021-02-01T10:00:00\", \"2021-02-01T11:00:00\", \"2021-02-01T12:00:00\", \"2021-02-01T13:00:00\", \"2021-02-01T14:00:00\", \"2021-02-01T15:00:00\", \"2021-02-01T16:00:00\", \"2021-02-01T17:00:00\", \"2021-02-01T18:00:00\", \"2021-02-01T19:00:00\", \"2021-02-01T20:00:00\", \"2021-02-02T05:00:00\", \"2021-02-02T06:00:00\", \"2021-02-02T07:00:00\", \"2021-02-02T08:00:00\", \"2021-02-02T09:00:00\", \"2021-02-02T10:00:00\", \"2021-02-02T11:00:00\", \"2021-02-02T12:00:00\", \"2021-02-02T13:00:00\", \"2021-02-02T14:00:00\", \"2021-02-02T15:00:00\", \"2021-02-02T16:00:00\", \"2021-02-02T17:00:00\", \"2021-02-02T18:00:00\", \"2021-02-02T19:00:00\", \"2021-02-02T20:00:00\", \"2021-02-03T05:00:00\", \"2021-02-03T06:00:00\", \"2021-02-03T07:00:00\", \"2021-02-03T08:00:00\", \"2021-02-03T09:00:00\", \"2021-02-03T10:00:00\", \"2021-02-03T11:00:00\", \"2021-02-03T12:00:00\", \"2021-02-03T13:00:00\", \"2021-02-03T14:00:00\", \"2021-02-03T15:00:00\", \"2021-02-03T16:00:00\", \"2021-02-03T17:00:00\", \"2021-02-03T18:00:00\", \"2021-02-03T19:00:00\", \"2021-02-03T20:00:00\", \"2021-02-04T05:00:00\", \"2021-02-04T06:00:00\", \"2021-02-04T07:00:00\", \"2021-02-04T08:00:00\", \"2021-02-04T09:00:00\", \"2021-02-04T10:00:00\", \"2021-02-04T11:00:00\", \"2021-02-04T12:00:00\", \"2021-02-04T13:00:00\", \"2021-02-04T14:00:00\", \"2021-02-04T15:00:00\", \"2021-02-04T16:00:00\", \"2021-02-04T17:00:00\", \"2021-02-04T18:00:00\", \"2021-02-04T19:00:00\", \"2021-02-04T20:00:00\", \"2021-02-05T05:00:00\", \"2021-02-05T06:00:00\", \"2021-02-05T07:00:00\", \"2021-02-05T08:00:00\", \"2021-02-05T09:00:00\", \"2021-02-05T10:00:00\", \"2021-02-05T11:00:00\", \"2021-02-05T12:00:00\", \"2021-02-05T13:00:00\", \"2021-02-05T14:00:00\", \"2021-02-05T15:00:00\", \"2021-02-05T16:00:00\", \"2021-02-05T17:00:00\", \"2021-02-05T18:00:00\", \"2021-02-05T19:00:00\", \"2021-02-05T20:00:00\", \"2021-02-08T05:00:00\", \"2021-02-08T06:00:00\", \"2021-02-08T07:00:00\", \"2021-02-08T08:00:00\", \"2021-02-08T09:00:00\", \"2021-02-08T10:00:00\", \"2021-02-08T11:00:00\", \"2021-02-08T12:00:00\", \"2021-02-08T13:00:00\", \"2021-02-08T14:00:00\", \"2021-02-08T15:00:00\", \"2021-02-08T16:00:00\", \"2021-02-08T17:00:00\", \"2021-02-08T18:00:00\", \"2021-02-08T19:00:00\", \"2021-02-08T20:00:00\", \"2021-02-09T05:00:00\", \"2021-02-09T06:00:00\", \"2021-02-09T07:00:00\", \"2021-02-09T08:00:00\", \"2021-02-09T09:00:00\", \"2021-02-09T10:00:00\", \"2021-02-09T11:00:00\", \"2021-02-09T12:00:00\", \"2021-02-09T13:00:00\", \"2021-02-09T14:00:00\", \"2021-02-09T15:00:00\", \"2021-02-09T16:00:00\", \"2021-02-09T17:00:00\", \"2021-02-09T18:00:00\", \"2021-02-09T19:00:00\", \"2021-02-09T20:00:00\", \"2021-02-10T05:00:00\", \"2021-02-10T06:00:00\", \"2021-02-10T07:00:00\", \"2021-02-10T08:00:00\", \"2021-02-10T09:00:00\", \"2021-02-10T10:00:00\", \"2021-02-10T11:00:00\", \"2021-02-10T12:00:00\", \"2021-02-10T13:00:00\", \"2021-02-10T14:00:00\", \"2021-02-10T15:00:00\", \"2021-02-10T16:00:00\", \"2021-02-10T17:00:00\", \"2021-02-10T18:00:00\", \"2021-02-10T19:00:00\", \"2021-02-10T20:00:00\", \"2021-02-11T05:00:00\", \"2021-02-11T06:00:00\", \"2021-02-11T07:00:00\", \"2021-02-11T08:00:00\", \"2021-02-11T09:00:00\", \"2021-02-11T10:00:00\", \"2021-02-11T11:00:00\", \"2021-02-11T12:00:00\", \"2021-02-11T13:00:00\", \"2021-02-11T14:00:00\", \"2021-02-11T15:00:00\", \"2021-02-11T16:00:00\", \"2021-02-11T17:00:00\", \"2021-02-11T18:00:00\", \"2021-02-11T19:00:00\", \"2021-02-11T20:00:00\", \"2021-02-12T05:00:00\", \"2021-02-12T06:00:00\", \"2021-02-12T07:00:00\", \"2021-02-12T08:00:00\", \"2021-02-12T09:00:00\", \"2021-02-12T10:00:00\", \"2021-02-12T11:00:00\", \"2021-02-12T12:00:00\", \"2021-02-12T13:00:00\", \"2021-02-12T14:00:00\", \"2021-02-12T15:00:00\", \"2021-02-12T16:00:00\", \"2021-02-12T17:00:00\", \"2021-02-12T18:00:00\", \"2021-02-12T19:00:00\", \"2021-02-12T20:00:00\"]}],                        {\"plot_bgcolor\": \"rgb(84, 85, 87)\", \"template\": {\"data\": {\"bar\": [{\"error_x\": {\"color\": \"#2a3f5f\"}, \"error_y\": {\"color\": \"#2a3f5f\"}, \"marker\": {\"line\": {\"color\": \"#E5ECF6\", \"width\": 0.5}}, \"type\": \"bar\"}], \"barpolar\": [{\"marker\": {\"line\": {\"color\": \"#E5ECF6\", \"width\": 0.5}}, \"type\": \"barpolar\"}], \"carpet\": [{\"aaxis\": {\"endlinecolor\": \"#2a3f5f\", \"gridcolor\": \"white\", \"linecolor\": \"white\", \"minorgridcolor\": \"white\", \"startlinecolor\": \"#2a3f5f\"}, \"baxis\": {\"endlinecolor\": \"#2a3f5f\", \"gridcolor\": \"white\", \"linecolor\": \"white\", \"minorgridcolor\": \"white\", \"startlinecolor\": \"#2a3f5f\"}, \"type\": \"carpet\"}], \"choropleth\": [{\"colorbar\": {\"outlinewidth\": 0, \"ticks\": \"\"}, \"type\": \"choropleth\"}], \"contour\": [{\"colorbar\": {\"outlinewidth\": 0, \"ticks\": \"\"}, \"colorscale\": [[0.0, \"#0d0887\"], [0.1111111111111111, \"#46039f\"], [0.2222222222222222, \"#7201a8\"], [0.3333333333333333, \"#9c179e\"], [0.4444444444444444, \"#bd3786\"], [0.5555555555555556, \"#d8576b\"], [0.6666666666666666, \"#ed7953\"], [0.7777777777777778, \"#fb9f3a\"], [0.8888888888888888, \"#fdca26\"], [1.0, \"#f0f921\"]], \"type\": \"contour\"}], \"contourcarpet\": [{\"colorbar\": {\"outlinewidth\": 0, \"ticks\": \"\"}, \"type\": \"contourcarpet\"}], \"heatmap\": [{\"colorbar\": {\"outlinewidth\": 0, \"ticks\": \"\"}, \"colorscale\": [[0.0, \"#0d0887\"], [0.1111111111111111, \"#46039f\"], [0.2222222222222222, \"#7201a8\"], [0.3333333333333333, \"#9c179e\"], [0.4444444444444444, \"#bd3786\"], [0.5555555555555556, \"#d8576b\"], [0.6666666666666666, \"#ed7953\"], [0.7777777777777778, \"#fb9f3a\"], [0.8888888888888888, \"#fdca26\"], [1.0, \"#f0f921\"]], \"type\": \"heatmap\"}], \"heatmapgl\": [{\"colorbar\": {\"outlinewidth\": 0, \"ticks\": \"\"}, \"colorscale\": [[0.0, \"#0d0887\"], [0.1111111111111111, \"#46039f\"], [0.2222222222222222, \"#7201a8\"], [0.3333333333333333, \"#9c179e\"], [0.4444444444444444, \"#bd3786\"], [0.5555555555555556, \"#d8576b\"], [0.6666666666666666, \"#ed7953\"], [0.7777777777777778, \"#fb9f3a\"], [0.8888888888888888, \"#fdca26\"], [1.0, \"#f0f921\"]], \"type\": \"heatmapgl\"}], \"histogram\": [{\"marker\": {\"colorbar\": {\"outlinewidth\": 0, \"ticks\": \"\"}}, \"type\": \"histogram\"}], \"histogram2d\": [{\"colorbar\": {\"outlinewidth\": 0, \"ticks\": \"\"}, \"colorscale\": [[0.0, \"#0d0887\"], [0.1111111111111111, \"#46039f\"], [0.2222222222222222, \"#7201a8\"], [0.3333333333333333, \"#9c179e\"], [0.4444444444444444, \"#bd3786\"], [0.5555555555555556, \"#d8576b\"], [0.6666666666666666, \"#ed7953\"], [0.7777777777777778, \"#fb9f3a\"], [0.8888888888888888, \"#fdca26\"], [1.0, \"#f0f921\"]], \"type\": \"histogram2d\"}], \"histogram2dcontour\": [{\"colorbar\": {\"outlinewidth\": 0, \"ticks\": \"\"}, \"colorscale\": [[0.0, \"#0d0887\"], [0.1111111111111111, \"#46039f\"], [0.2222222222222222, \"#7201a8\"], [0.3333333333333333, \"#9c179e\"], [0.4444444444444444, \"#bd3786\"], [0.5555555555555556, \"#d8576b\"], [0.6666666666666666, \"#ed7953\"], [0.7777777777777778, \"#fb9f3a\"], [0.8888888888888888, \"#fdca26\"], [1.0, \"#f0f921\"]], \"type\": \"histogram2dcontour\"}], \"mesh3d\": [{\"colorbar\": {\"outlinewidth\": 0, \"ticks\": \"\"}, \"type\": \"mesh3d\"}], \"parcoords\": [{\"line\": {\"colorbar\": {\"outlinewidth\": 0, \"ticks\": \"\"}}, \"type\": \"parcoords\"}], \"pie\": [{\"automargin\": true, \"type\": \"pie\"}], \"scatter\": [{\"marker\": {\"colorbar\": {\"outlinewidth\": 0, \"ticks\": \"\"}}, \"type\": \"scatter\"}], \"scatter3d\": [{\"line\": {\"colorbar\": {\"outlinewidth\": 0, \"ticks\": \"\"}}, \"marker\": {\"colorbar\": {\"outlinewidth\": 0, \"ticks\": \"\"}}, \"type\": \"scatter3d\"}], \"scattercarpet\": [{\"marker\": {\"colorbar\": {\"outlinewidth\": 0, \"ticks\": \"\"}}, \"type\": \"scattercarpet\"}], \"scattergeo\": [{\"marker\": {\"colorbar\": {\"outlinewidth\": 0, \"ticks\": \"\"}}, \"type\": \"scattergeo\"}], \"scattergl\": [{\"marker\": {\"colorbar\": {\"outlinewidth\": 0, \"ticks\": \"\"}}, \"type\": \"scattergl\"}], \"scattermapbox\": [{\"marker\": {\"colorbar\": {\"outlinewidth\": 0, \"ticks\": \"\"}}, \"type\": \"scattermapbox\"}], \"scatterpolar\": [{\"marker\": {\"colorbar\": {\"outlinewidth\": 0, \"ticks\": \"\"}}, \"type\": \"scatterpolar\"}], \"scatterpolargl\": [{\"marker\": {\"colorbar\": {\"outlinewidth\": 0, \"ticks\": \"\"}}, \"type\": \"scatterpolargl\"}], \"scatterternary\": [{\"marker\": {\"colorbar\": {\"outlinewidth\": 0, \"ticks\": \"\"}}, \"type\": \"scatterternary\"}], \"surface\": [{\"colorbar\": {\"outlinewidth\": 0, \"ticks\": \"\"}, \"colorscale\": [[0.0, \"#0d0887\"], [0.1111111111111111, \"#46039f\"], [0.2222222222222222, \"#7201a8\"], [0.3333333333333333, \"#9c179e\"], [0.4444444444444444, \"#bd3786\"], [0.5555555555555556, \"#d8576b\"], [0.6666666666666666, \"#ed7953\"], [0.7777777777777778, \"#fb9f3a\"], [0.8888888888888888, \"#fdca26\"], [1.0, \"#f0f921\"]], \"type\": \"surface\"}], \"table\": [{\"cells\": {\"fill\": {\"color\": \"#EBF0F8\"}, \"line\": {\"color\": \"white\"}}, \"header\": {\"fill\": {\"color\": \"#C8D4E3\"}, \"line\": {\"color\": \"white\"}}, \"type\": \"table\"}]}, \"layout\": {\"annotationdefaults\": {\"arrowcolor\": \"#2a3f5f\", \"arrowhead\": 0, \"arrowwidth\": 1}, \"autotypenumbers\": \"strict\", \"coloraxis\": {\"colorbar\": {\"outlinewidth\": 0, \"ticks\": \"\"}}, \"colorscale\": {\"diverging\": [[0, \"#8e0152\"], [0.1, \"#c51b7d\"], [0.2, \"#de77ae\"], [0.3, \"#f1b6da\"], [0.4, \"#fde0ef\"], [0.5, \"#f7f7f7\"], [0.6, \"#e6f5d0\"], [0.7, \"#b8e186\"], [0.8, \"#7fbc41\"], [0.9, \"#4d9221\"], [1, \"#276419\"]], \"sequential\": [[0.0, \"#0d0887\"], [0.1111111111111111, \"#46039f\"], [0.2222222222222222, \"#7201a8\"], [0.3333333333333333, \"#9c179e\"], [0.4444444444444444, \"#bd3786\"], [0.5555555555555556, \"#d8576b\"], [0.6666666666666666, \"#ed7953\"], [0.7777777777777778, \"#fb9f3a\"], [0.8888888888888888, \"#fdca26\"], [1.0, \"#f0f921\"]], \"sequentialminus\": [[0.0, \"#0d0887\"], [0.1111111111111111, \"#46039f\"], [0.2222222222222222, \"#7201a8\"], [0.3333333333333333, \"#9c179e\"], [0.4444444444444444, \"#bd3786\"], [0.5555555555555556, \"#d8576b\"], [0.6666666666666666, \"#ed7953\"], [0.7777777777777778, \"#fb9f3a\"], [0.8888888888888888, \"#fdca26\"], [1.0, \"#f0f921\"]]}, \"colorway\": [\"#636efa\", \"#EF553B\", \"#00cc96\", \"#ab63fa\", \"#FFA15A\", \"#19d3f3\", \"#FF6692\", \"#B6E880\", \"#FF97FF\", \"#FECB52\"], \"font\": {\"color\": \"#2a3f5f\"}, \"geo\": {\"bgcolor\": \"white\", \"lakecolor\": \"white\", \"landcolor\": \"#E5ECF6\", \"showlakes\": true, \"showland\": true, \"subunitcolor\": \"white\"}, \"hoverlabel\": {\"align\": \"left\"}, \"hovermode\": \"closest\", \"mapbox\": {\"style\": \"light\"}, \"paper_bgcolor\": \"white\", \"plot_bgcolor\": \"#E5ECF6\", \"polar\": {\"angularaxis\": {\"gridcolor\": \"white\", \"linecolor\": \"white\", \"ticks\": \"\"}, \"bgcolor\": \"#E5ECF6\", \"radialaxis\": {\"gridcolor\": \"white\", \"linecolor\": \"white\", \"ticks\": \"\"}}, \"scene\": {\"xaxis\": {\"backgroundcolor\": \"#E5ECF6\", \"gridcolor\": \"white\", \"gridwidth\": 2, \"linecolor\": \"white\", \"showbackground\": true, \"ticks\": \"\", \"zerolinecolor\": \"white\"}, \"yaxis\": {\"backgroundcolor\": \"#E5ECF6\", \"gridcolor\": \"white\", \"gridwidth\": 2, \"linecolor\": \"white\", \"showbackground\": true, \"ticks\": \"\", \"zerolinecolor\": \"white\"}, \"zaxis\": {\"backgroundcolor\": \"#E5ECF6\", \"gridcolor\": \"white\", \"gridwidth\": 2, \"linecolor\": \"white\", \"showbackground\": true, \"ticks\": \"\", \"zerolinecolor\": \"white\"}}, \"shapedefaults\": {\"line\": {\"color\": \"#2a3f5f\"}}, \"ternary\": {\"aaxis\": {\"gridcolor\": \"white\", \"linecolor\": \"white\", \"ticks\": \"\"}, \"baxis\": {\"gridcolor\": \"white\", \"linecolor\": \"white\", \"ticks\": \"\"}, \"bgcolor\": \"#E5ECF6\", \"caxis\": {\"gridcolor\": \"white\", \"linecolor\": \"white\", \"ticks\": \"\"}}, \"title\": {\"x\": 0.05}, \"xaxis\": {\"automargin\": true, \"gridcolor\": \"white\", \"linecolor\": \"white\", \"ticks\": \"\", \"title\": {\"standoff\": 15}, \"zerolinecolor\": \"white\", \"zerolinewidth\": 2}, \"yaxis\": {\"automargin\": true, \"gridcolor\": \"white\", \"linecolor\": \"white\", \"ticks\": \"\", \"title\": {\"standoff\": 15}, \"zerolinecolor\": \"white\", \"zerolinewidth\": 2}}}, \"title\": {\"text\": \"Hourly Candlestick\"}, \"xaxis\": {\"gridcolor\": \"rgb(144, 145, 142)\", \"rangeslider\": {\"visible\": false}, \"title\": {\"text\": \"Date\"}}, \"yaxis\": {\"gridcolor\": \"rgb(144, 145, 142)\", \"title\": {\"text\": \"Price\"}}},                        {\"responsive\": true}                    ).then(function(){\n",
       "                            \n",
       "var gd = document.getElementById('f531c120-24a9-4939-8940-b09c1147a53b');\n",
       "var x = new MutationObserver(function (mutations, observer) {{\n",
       "        var display = window.getComputedStyle(gd).display;\n",
       "        if (!display || display === 'none') {{\n",
       "            console.log([gd, 'removed!']);\n",
       "            Plotly.purge(gd);\n",
       "            observer.disconnect();\n",
       "        }}\n",
       "}});\n",
       "\n",
       "// Listen for the removal of the full notebook cells\n",
       "var notebookContainer = gd.closest('#notebook-container');\n",
       "if (notebookContainer) {{\n",
       "    x.observe(notebookContainer, {childList: true});\n",
       "}}\n",
       "\n",
       "// Listen for the clearing of the current output cell\n",
       "var outputEl = gd.closest('.output');\n",
       "if (outputEl) {{\n",
       "    x.observe(outputEl, {childList: true});\n",
       "}}\n",
       "\n",
       "                        })                };                });            </script>        </div>"
      ]
     },
     "metadata": {},
     "output_type": "display_data"
    }
   ],
   "source": [
    "### Hourly candlestick graph ### \n",
    "fig = go.Figure(data=[go.Candlestick(x=gme_hourly_full['date'],\n",
    "                open=gme_hourly_full['1. open'],\n",
    "                high=gme_hourly_full['2. high'],\n",
    "                low=gme_hourly_full['3. low'],\n",
    "                close=gme_hourly_full['4. close'])])\n",
    "fig.update_layout(\n",
    "    title_text=\"Hourly Candlestick\")\n",
    "\n",
    "fig.update_yaxes(title_text=\"Price\")\n",
    "fig.update_xaxes(title_text=\"Date\")\n",
    "\n",
    "fig.layout.plot_bgcolor='rgb(84, 85, 87)'\n",
    "fig.update_layout(xaxis_rangeslider_visible=False)\n",
    "fig.layout.yaxis.gridcolor='rgb(144, 145, 142)'\n",
    "fig.layout.xaxis.gridcolor='rgb(144, 145, 142)'\n",
    "fig.show()"
   ]
  },
  {
   "cell_type": "code",
   "execution_count": 15,
   "metadata": {},
   "outputs": [
    {
     "data": {
      "application/vnd.plotly.v1+json": {
       "config": {
        "plotlyServerURL": "https://plot.ly"
       },
       "data": [
        {
         "close": [
          18.84,
          17.25,
          17.37,
          18.36,
          18.08,
          17.69,
          19.94,
          19.95,
          31.4,
          39.91,
          35.5,
          39.36,
          39.12,
          43.03,
          65.01,
          76.79,
          147.98,
          347.51,
          193.6,
          325,
          225,
          90,
          92.41,
          53.5,
          63.77,
          60,
          50.31,
          51.2,
          51.1,
          52.4,
          49.51
         ],
         "high": [
          19.8,
          19.1,
          18.0765,
          18.98,
          19.45,
          18.3,
          20.65,
          20.4,
          38.65,
          43.06,
          40.75,
          45.52,
          41.1899,
          44.75,
          76.7573,
          159.18,
          150,
          380,
          483,
          413.98,
          322,
          158,
          113.3999,
          91.5,
          95,
          72.66,
          57,
          62.83,
          55.32,
          55.24,
          53.5
         ],
         "low": [
          18.8,
          17.15,
          17.23,
          17.33,
          18.02,
          17.08,
          19.01,
          19.3168,
          20.03,
          33.05,
          34.01,
          36.64,
          36.06,
          37,
          42.32,
          61.13,
          80.2,
          249,
          112.25,
          250,
          212,
          74.2201,
          85.25,
          53.33,
          51.09,
          58.02,
          46.52,
          46.55,
          48.2201,
          48.05,
          49.04
         ],
         "open": [
          19.25,
          19,
          17.35,
          17.34,
          18.47,
          18.18,
          19.41,
          19.96,
          20.42,
          38.09,
          38.49,
          41.55,
          37.37,
          39.23,
          42.59,
          96.73,
          88.56,
          354.83,
          265,
          379.71,
          316.56,
          140.76,
          112.01,
          91.19,
          54.04,
          72.41,
          56.61,
          50.77,
          50.01,
          50.75,
          52.66
         ],
         "type": "candlestick",
         "x": [
          "2020-12-31T00:00:00",
          "2021-01-04T00:00:00",
          "2021-01-05T00:00:00",
          "2021-01-06T00:00:00",
          "2021-01-07T00:00:00",
          "2021-01-08T00:00:00",
          "2021-01-11T00:00:00",
          "2021-01-12T00:00:00",
          "2021-01-13T00:00:00",
          "2021-01-14T00:00:00",
          "2021-01-15T00:00:00",
          "2021-01-19T00:00:00",
          "2021-01-20T00:00:00",
          "2021-01-21T00:00:00",
          "2021-01-22T00:00:00",
          "2021-01-25T00:00:00",
          "2021-01-26T00:00:00",
          "2021-01-27T00:00:00",
          "2021-01-28T00:00:00",
          "2021-01-29T00:00:00",
          "2021-02-01T00:00:00",
          "2021-02-02T00:00:00",
          "2021-02-03T00:00:00",
          "2021-02-04T00:00:00",
          "2021-02-05T00:00:00",
          "2021-02-08T00:00:00",
          "2021-02-09T00:00:00",
          "2021-02-10T00:00:00",
          "2021-02-11T00:00:00",
          "2021-02-12T00:00:00",
          "2021-02-16T00:00:00"
         ]
        }
       ],
       "layout": {
        "plot_bgcolor": "rgb(84, 85, 87)",
        "template": {
         "data": {
          "bar": [
           {
            "error_x": {
             "color": "#2a3f5f"
            },
            "error_y": {
             "color": "#2a3f5f"
            },
            "marker": {
             "line": {
              "color": "#E5ECF6",
              "width": 0.5
             }
            },
            "type": "bar"
           }
          ],
          "barpolar": [
           {
            "marker": {
             "line": {
              "color": "#E5ECF6",
              "width": 0.5
             }
            },
            "type": "barpolar"
           }
          ],
          "carpet": [
           {
            "aaxis": {
             "endlinecolor": "#2a3f5f",
             "gridcolor": "white",
             "linecolor": "white",
             "minorgridcolor": "white",
             "startlinecolor": "#2a3f5f"
            },
            "baxis": {
             "endlinecolor": "#2a3f5f",
             "gridcolor": "white",
             "linecolor": "white",
             "minorgridcolor": "white",
             "startlinecolor": "#2a3f5f"
            },
            "type": "carpet"
           }
          ],
          "choropleth": [
           {
            "colorbar": {
             "outlinewidth": 0,
             "ticks": ""
            },
            "type": "choropleth"
           }
          ],
          "contour": [
           {
            "colorbar": {
             "outlinewidth": 0,
             "ticks": ""
            },
            "colorscale": [
             [
              0,
              "#0d0887"
             ],
             [
              0.1111111111111111,
              "#46039f"
             ],
             [
              0.2222222222222222,
              "#7201a8"
             ],
             [
              0.3333333333333333,
              "#9c179e"
             ],
             [
              0.4444444444444444,
              "#bd3786"
             ],
             [
              0.5555555555555556,
              "#d8576b"
             ],
             [
              0.6666666666666666,
              "#ed7953"
             ],
             [
              0.7777777777777778,
              "#fb9f3a"
             ],
             [
              0.8888888888888888,
              "#fdca26"
             ],
             [
              1,
              "#f0f921"
             ]
            ],
            "type": "contour"
           }
          ],
          "contourcarpet": [
           {
            "colorbar": {
             "outlinewidth": 0,
             "ticks": ""
            },
            "type": "contourcarpet"
           }
          ],
          "heatmap": [
           {
            "colorbar": {
             "outlinewidth": 0,
             "ticks": ""
            },
            "colorscale": [
             [
              0,
              "#0d0887"
             ],
             [
              0.1111111111111111,
              "#46039f"
             ],
             [
              0.2222222222222222,
              "#7201a8"
             ],
             [
              0.3333333333333333,
              "#9c179e"
             ],
             [
              0.4444444444444444,
              "#bd3786"
             ],
             [
              0.5555555555555556,
              "#d8576b"
             ],
             [
              0.6666666666666666,
              "#ed7953"
             ],
             [
              0.7777777777777778,
              "#fb9f3a"
             ],
             [
              0.8888888888888888,
              "#fdca26"
             ],
             [
              1,
              "#f0f921"
             ]
            ],
            "type": "heatmap"
           }
          ],
          "heatmapgl": [
           {
            "colorbar": {
             "outlinewidth": 0,
             "ticks": ""
            },
            "colorscale": [
             [
              0,
              "#0d0887"
             ],
             [
              0.1111111111111111,
              "#46039f"
             ],
             [
              0.2222222222222222,
              "#7201a8"
             ],
             [
              0.3333333333333333,
              "#9c179e"
             ],
             [
              0.4444444444444444,
              "#bd3786"
             ],
             [
              0.5555555555555556,
              "#d8576b"
             ],
             [
              0.6666666666666666,
              "#ed7953"
             ],
             [
              0.7777777777777778,
              "#fb9f3a"
             ],
             [
              0.8888888888888888,
              "#fdca26"
             ],
             [
              1,
              "#f0f921"
             ]
            ],
            "type": "heatmapgl"
           }
          ],
          "histogram": [
           {
            "marker": {
             "colorbar": {
              "outlinewidth": 0,
              "ticks": ""
             }
            },
            "type": "histogram"
           }
          ],
          "histogram2d": [
           {
            "colorbar": {
             "outlinewidth": 0,
             "ticks": ""
            },
            "colorscale": [
             [
              0,
              "#0d0887"
             ],
             [
              0.1111111111111111,
              "#46039f"
             ],
             [
              0.2222222222222222,
              "#7201a8"
             ],
             [
              0.3333333333333333,
              "#9c179e"
             ],
             [
              0.4444444444444444,
              "#bd3786"
             ],
             [
              0.5555555555555556,
              "#d8576b"
             ],
             [
              0.6666666666666666,
              "#ed7953"
             ],
             [
              0.7777777777777778,
              "#fb9f3a"
             ],
             [
              0.8888888888888888,
              "#fdca26"
             ],
             [
              1,
              "#f0f921"
             ]
            ],
            "type": "histogram2d"
           }
          ],
          "histogram2dcontour": [
           {
            "colorbar": {
             "outlinewidth": 0,
             "ticks": ""
            },
            "colorscale": [
             [
              0,
              "#0d0887"
             ],
             [
              0.1111111111111111,
              "#46039f"
             ],
             [
              0.2222222222222222,
              "#7201a8"
             ],
             [
              0.3333333333333333,
              "#9c179e"
             ],
             [
              0.4444444444444444,
              "#bd3786"
             ],
             [
              0.5555555555555556,
              "#d8576b"
             ],
             [
              0.6666666666666666,
              "#ed7953"
             ],
             [
              0.7777777777777778,
              "#fb9f3a"
             ],
             [
              0.8888888888888888,
              "#fdca26"
             ],
             [
              1,
              "#f0f921"
             ]
            ],
            "type": "histogram2dcontour"
           }
          ],
          "mesh3d": [
           {
            "colorbar": {
             "outlinewidth": 0,
             "ticks": ""
            },
            "type": "mesh3d"
           }
          ],
          "parcoords": [
           {
            "line": {
             "colorbar": {
              "outlinewidth": 0,
              "ticks": ""
             }
            },
            "type": "parcoords"
           }
          ],
          "pie": [
           {
            "automargin": true,
            "type": "pie"
           }
          ],
          "scatter": [
           {
            "marker": {
             "colorbar": {
              "outlinewidth": 0,
              "ticks": ""
             }
            },
            "type": "scatter"
           }
          ],
          "scatter3d": [
           {
            "line": {
             "colorbar": {
              "outlinewidth": 0,
              "ticks": ""
             }
            },
            "marker": {
             "colorbar": {
              "outlinewidth": 0,
              "ticks": ""
             }
            },
            "type": "scatter3d"
           }
          ],
          "scattercarpet": [
           {
            "marker": {
             "colorbar": {
              "outlinewidth": 0,
              "ticks": ""
             }
            },
            "type": "scattercarpet"
           }
          ],
          "scattergeo": [
           {
            "marker": {
             "colorbar": {
              "outlinewidth": 0,
              "ticks": ""
             }
            },
            "type": "scattergeo"
           }
          ],
          "scattergl": [
           {
            "marker": {
             "colorbar": {
              "outlinewidth": 0,
              "ticks": ""
             }
            },
            "type": "scattergl"
           }
          ],
          "scattermapbox": [
           {
            "marker": {
             "colorbar": {
              "outlinewidth": 0,
              "ticks": ""
             }
            },
            "type": "scattermapbox"
           }
          ],
          "scatterpolar": [
           {
            "marker": {
             "colorbar": {
              "outlinewidth": 0,
              "ticks": ""
             }
            },
            "type": "scatterpolar"
           }
          ],
          "scatterpolargl": [
           {
            "marker": {
             "colorbar": {
              "outlinewidth": 0,
              "ticks": ""
             }
            },
            "type": "scatterpolargl"
           }
          ],
          "scatterternary": [
           {
            "marker": {
             "colorbar": {
              "outlinewidth": 0,
              "ticks": ""
             }
            },
            "type": "scatterternary"
           }
          ],
          "surface": [
           {
            "colorbar": {
             "outlinewidth": 0,
             "ticks": ""
            },
            "colorscale": [
             [
              0,
              "#0d0887"
             ],
             [
              0.1111111111111111,
              "#46039f"
             ],
             [
              0.2222222222222222,
              "#7201a8"
             ],
             [
              0.3333333333333333,
              "#9c179e"
             ],
             [
              0.4444444444444444,
              "#bd3786"
             ],
             [
              0.5555555555555556,
              "#d8576b"
             ],
             [
              0.6666666666666666,
              "#ed7953"
             ],
             [
              0.7777777777777778,
              "#fb9f3a"
             ],
             [
              0.8888888888888888,
              "#fdca26"
             ],
             [
              1,
              "#f0f921"
             ]
            ],
            "type": "surface"
           }
          ],
          "table": [
           {
            "cells": {
             "fill": {
              "color": "#EBF0F8"
             },
             "line": {
              "color": "white"
             }
            },
            "header": {
             "fill": {
              "color": "#C8D4E3"
             },
             "line": {
              "color": "white"
             }
            },
            "type": "table"
           }
          ]
         },
         "layout": {
          "annotationdefaults": {
           "arrowcolor": "#2a3f5f",
           "arrowhead": 0,
           "arrowwidth": 1
          },
          "autotypenumbers": "strict",
          "coloraxis": {
           "colorbar": {
            "outlinewidth": 0,
            "ticks": ""
           }
          },
          "colorscale": {
           "diverging": [
            [
             0,
             "#8e0152"
            ],
            [
             0.1,
             "#c51b7d"
            ],
            [
             0.2,
             "#de77ae"
            ],
            [
             0.3,
             "#f1b6da"
            ],
            [
             0.4,
             "#fde0ef"
            ],
            [
             0.5,
             "#f7f7f7"
            ],
            [
             0.6,
             "#e6f5d0"
            ],
            [
             0.7,
             "#b8e186"
            ],
            [
             0.8,
             "#7fbc41"
            ],
            [
             0.9,
             "#4d9221"
            ],
            [
             1,
             "#276419"
            ]
           ],
           "sequential": [
            [
             0,
             "#0d0887"
            ],
            [
             0.1111111111111111,
             "#46039f"
            ],
            [
             0.2222222222222222,
             "#7201a8"
            ],
            [
             0.3333333333333333,
             "#9c179e"
            ],
            [
             0.4444444444444444,
             "#bd3786"
            ],
            [
             0.5555555555555556,
             "#d8576b"
            ],
            [
             0.6666666666666666,
             "#ed7953"
            ],
            [
             0.7777777777777778,
             "#fb9f3a"
            ],
            [
             0.8888888888888888,
             "#fdca26"
            ],
            [
             1,
             "#f0f921"
            ]
           ],
           "sequentialminus": [
            [
             0,
             "#0d0887"
            ],
            [
             0.1111111111111111,
             "#46039f"
            ],
            [
             0.2222222222222222,
             "#7201a8"
            ],
            [
             0.3333333333333333,
             "#9c179e"
            ],
            [
             0.4444444444444444,
             "#bd3786"
            ],
            [
             0.5555555555555556,
             "#d8576b"
            ],
            [
             0.6666666666666666,
             "#ed7953"
            ],
            [
             0.7777777777777778,
             "#fb9f3a"
            ],
            [
             0.8888888888888888,
             "#fdca26"
            ],
            [
             1,
             "#f0f921"
            ]
           ]
          },
          "colorway": [
           "#636efa",
           "#EF553B",
           "#00cc96",
           "#ab63fa",
           "#FFA15A",
           "#19d3f3",
           "#FF6692",
           "#B6E880",
           "#FF97FF",
           "#FECB52"
          ],
          "font": {
           "color": "#2a3f5f"
          },
          "geo": {
           "bgcolor": "white",
           "lakecolor": "white",
           "landcolor": "#E5ECF6",
           "showlakes": true,
           "showland": true,
           "subunitcolor": "white"
          },
          "hoverlabel": {
           "align": "left"
          },
          "hovermode": "closest",
          "mapbox": {
           "style": "light"
          },
          "paper_bgcolor": "white",
          "plot_bgcolor": "#E5ECF6",
          "polar": {
           "angularaxis": {
            "gridcolor": "white",
            "linecolor": "white",
            "ticks": ""
           },
           "bgcolor": "#E5ECF6",
           "radialaxis": {
            "gridcolor": "white",
            "linecolor": "white",
            "ticks": ""
           }
          },
          "scene": {
           "xaxis": {
            "backgroundcolor": "#E5ECF6",
            "gridcolor": "white",
            "gridwidth": 2,
            "linecolor": "white",
            "showbackground": true,
            "ticks": "",
            "zerolinecolor": "white"
           },
           "yaxis": {
            "backgroundcolor": "#E5ECF6",
            "gridcolor": "white",
            "gridwidth": 2,
            "linecolor": "white",
            "showbackground": true,
            "ticks": "",
            "zerolinecolor": "white"
           },
           "zaxis": {
            "backgroundcolor": "#E5ECF6",
            "gridcolor": "white",
            "gridwidth": 2,
            "linecolor": "white",
            "showbackground": true,
            "ticks": "",
            "zerolinecolor": "white"
           }
          },
          "shapedefaults": {
           "line": {
            "color": "#2a3f5f"
           }
          },
          "ternary": {
           "aaxis": {
            "gridcolor": "white",
            "linecolor": "white",
            "ticks": ""
           },
           "baxis": {
            "gridcolor": "white",
            "linecolor": "white",
            "ticks": ""
           },
           "bgcolor": "#E5ECF6",
           "caxis": {
            "gridcolor": "white",
            "linecolor": "white",
            "ticks": ""
           }
          },
          "title": {
           "x": 0.05
          },
          "xaxis": {
           "automargin": true,
           "gridcolor": "white",
           "linecolor": "white",
           "ticks": "",
           "title": {
            "standoff": 15
           },
           "zerolinecolor": "white",
           "zerolinewidth": 2
          },
          "yaxis": {
           "automargin": true,
           "gridcolor": "white",
           "linecolor": "white",
           "ticks": "",
           "title": {
            "standoff": 15
           },
           "zerolinecolor": "white",
           "zerolinewidth": 2
          }
         }
        },
        "title": {
         "text": "Daily Candlestick"
        },
        "xaxis": {
         "gridcolor": "rgb(144, 145, 142)",
         "rangeslider": {
          "visible": false
         },
         "title": {
          "text": "Date"
         }
        },
        "yaxis": {
         "gridcolor": "rgb(144, 145, 142)",
         "title": {
          "text": "Price"
         }
        }
       }
      },
      "text/html": [
       "<div>                            <div id=\"96eec91f-6221-48f9-9d38-f089107ef640\" class=\"plotly-graph-div\" style=\"height:525px; width:100%;\"></div>            <script type=\"text/javascript\">                require([\"plotly\"], function(Plotly) {                    window.PLOTLYENV=window.PLOTLYENV || {};                                    if (document.getElementById(\"96eec91f-6221-48f9-9d38-f089107ef640\")) {                    Plotly.newPlot(                        \"96eec91f-6221-48f9-9d38-f089107ef640\",                        [{\"close\": [18.84, 17.25, 17.37, 18.36, 18.08, 17.69, 19.94, 19.95, 31.4, 39.91, 35.5, 39.36, 39.12, 43.03, 65.01, 76.79, 147.98, 347.51, 193.6, 325.0, 225.0, 90.0, 92.41, 53.5, 63.77, 60.0, 50.31, 51.2, 51.1, 52.4, 49.51], \"high\": [19.8, 19.1, 18.0765, 18.98, 19.45, 18.3, 20.65, 20.4, 38.65, 43.06, 40.75, 45.52, 41.1899, 44.75, 76.7573, 159.18, 150.0, 380.0, 483.0, 413.98, 322.0, 158.0, 113.3999, 91.5, 95.0, 72.66, 57.0, 62.83, 55.32, 55.24, 53.5], \"low\": [18.8, 17.15, 17.23, 17.33, 18.02, 17.08, 19.01, 19.3168, 20.03, 33.05, 34.01, 36.64, 36.06, 37.0, 42.32, 61.13, 80.2, 249.0, 112.25, 250.0, 212.0, 74.2201, 85.25, 53.33, 51.09, 58.02, 46.52, 46.55, 48.2201, 48.05, 49.04], \"open\": [19.25, 19.0, 17.35, 17.34, 18.47, 18.18, 19.41, 19.96, 20.42, 38.09, 38.49, 41.55, 37.37, 39.23, 42.59, 96.73, 88.56, 354.83, 265.0, 379.71, 316.56, 140.76, 112.01, 91.19, 54.04, 72.41, 56.61, 50.77, 50.01, 50.75, 52.66], \"type\": \"candlestick\", \"x\": [\"2020-12-31T00:00:00\", \"2021-01-04T00:00:00\", \"2021-01-05T00:00:00\", \"2021-01-06T00:00:00\", \"2021-01-07T00:00:00\", \"2021-01-08T00:00:00\", \"2021-01-11T00:00:00\", \"2021-01-12T00:00:00\", \"2021-01-13T00:00:00\", \"2021-01-14T00:00:00\", \"2021-01-15T00:00:00\", \"2021-01-19T00:00:00\", \"2021-01-20T00:00:00\", \"2021-01-21T00:00:00\", \"2021-01-22T00:00:00\", \"2021-01-25T00:00:00\", \"2021-01-26T00:00:00\", \"2021-01-27T00:00:00\", \"2021-01-28T00:00:00\", \"2021-01-29T00:00:00\", \"2021-02-01T00:00:00\", \"2021-02-02T00:00:00\", \"2021-02-03T00:00:00\", \"2021-02-04T00:00:00\", \"2021-02-05T00:00:00\", \"2021-02-08T00:00:00\", \"2021-02-09T00:00:00\", \"2021-02-10T00:00:00\", \"2021-02-11T00:00:00\", \"2021-02-12T00:00:00\", \"2021-02-16T00:00:00\"]}],                        {\"plot_bgcolor\": \"rgb(84, 85, 87)\", \"template\": {\"data\": {\"bar\": [{\"error_x\": {\"color\": \"#2a3f5f\"}, \"error_y\": {\"color\": \"#2a3f5f\"}, \"marker\": {\"line\": {\"color\": \"#E5ECF6\", \"width\": 0.5}}, \"type\": \"bar\"}], \"barpolar\": [{\"marker\": {\"line\": {\"color\": \"#E5ECF6\", \"width\": 0.5}}, \"type\": \"barpolar\"}], \"carpet\": [{\"aaxis\": {\"endlinecolor\": \"#2a3f5f\", \"gridcolor\": \"white\", \"linecolor\": \"white\", \"minorgridcolor\": \"white\", \"startlinecolor\": \"#2a3f5f\"}, \"baxis\": {\"endlinecolor\": \"#2a3f5f\", \"gridcolor\": \"white\", \"linecolor\": \"white\", \"minorgridcolor\": \"white\", \"startlinecolor\": \"#2a3f5f\"}, \"type\": \"carpet\"}], \"choropleth\": [{\"colorbar\": {\"outlinewidth\": 0, \"ticks\": \"\"}, \"type\": \"choropleth\"}], \"contour\": [{\"colorbar\": {\"outlinewidth\": 0, \"ticks\": \"\"}, \"colorscale\": [[0.0, \"#0d0887\"], [0.1111111111111111, \"#46039f\"], [0.2222222222222222, \"#7201a8\"], [0.3333333333333333, \"#9c179e\"], [0.4444444444444444, \"#bd3786\"], [0.5555555555555556, \"#d8576b\"], [0.6666666666666666, \"#ed7953\"], [0.7777777777777778, \"#fb9f3a\"], [0.8888888888888888, \"#fdca26\"], [1.0, \"#f0f921\"]], \"type\": \"contour\"}], \"contourcarpet\": [{\"colorbar\": {\"outlinewidth\": 0, \"ticks\": \"\"}, \"type\": \"contourcarpet\"}], \"heatmap\": [{\"colorbar\": {\"outlinewidth\": 0, \"ticks\": \"\"}, \"colorscale\": [[0.0, \"#0d0887\"], [0.1111111111111111, \"#46039f\"], [0.2222222222222222, \"#7201a8\"], [0.3333333333333333, \"#9c179e\"], [0.4444444444444444, \"#bd3786\"], [0.5555555555555556, \"#d8576b\"], [0.6666666666666666, \"#ed7953\"], [0.7777777777777778, \"#fb9f3a\"], [0.8888888888888888, \"#fdca26\"], [1.0, \"#f0f921\"]], \"type\": \"heatmap\"}], \"heatmapgl\": [{\"colorbar\": {\"outlinewidth\": 0, \"ticks\": \"\"}, \"colorscale\": [[0.0, \"#0d0887\"], [0.1111111111111111, \"#46039f\"], [0.2222222222222222, \"#7201a8\"], [0.3333333333333333, \"#9c179e\"], [0.4444444444444444, \"#bd3786\"], [0.5555555555555556, \"#d8576b\"], [0.6666666666666666, \"#ed7953\"], [0.7777777777777778, \"#fb9f3a\"], [0.8888888888888888, \"#fdca26\"], [1.0, \"#f0f921\"]], \"type\": \"heatmapgl\"}], \"histogram\": [{\"marker\": {\"colorbar\": {\"outlinewidth\": 0, \"ticks\": \"\"}}, \"type\": \"histogram\"}], \"histogram2d\": [{\"colorbar\": {\"outlinewidth\": 0, \"ticks\": \"\"}, \"colorscale\": [[0.0, \"#0d0887\"], [0.1111111111111111, \"#46039f\"], [0.2222222222222222, \"#7201a8\"], [0.3333333333333333, \"#9c179e\"], [0.4444444444444444, \"#bd3786\"], [0.5555555555555556, \"#d8576b\"], [0.6666666666666666, \"#ed7953\"], [0.7777777777777778, \"#fb9f3a\"], [0.8888888888888888, \"#fdca26\"], [1.0, \"#f0f921\"]], \"type\": \"histogram2d\"}], \"histogram2dcontour\": [{\"colorbar\": {\"outlinewidth\": 0, \"ticks\": \"\"}, \"colorscale\": [[0.0, \"#0d0887\"], [0.1111111111111111, \"#46039f\"], [0.2222222222222222, \"#7201a8\"], [0.3333333333333333, \"#9c179e\"], [0.4444444444444444, \"#bd3786\"], [0.5555555555555556, \"#d8576b\"], [0.6666666666666666, \"#ed7953\"], [0.7777777777777778, \"#fb9f3a\"], [0.8888888888888888, \"#fdca26\"], [1.0, \"#f0f921\"]], \"type\": \"histogram2dcontour\"}], \"mesh3d\": [{\"colorbar\": {\"outlinewidth\": 0, \"ticks\": \"\"}, \"type\": \"mesh3d\"}], \"parcoords\": [{\"line\": {\"colorbar\": {\"outlinewidth\": 0, \"ticks\": \"\"}}, \"type\": \"parcoords\"}], \"pie\": [{\"automargin\": true, \"type\": \"pie\"}], \"scatter\": [{\"marker\": {\"colorbar\": {\"outlinewidth\": 0, \"ticks\": \"\"}}, \"type\": \"scatter\"}], \"scatter3d\": [{\"line\": {\"colorbar\": {\"outlinewidth\": 0, \"ticks\": \"\"}}, \"marker\": {\"colorbar\": {\"outlinewidth\": 0, \"ticks\": \"\"}}, \"type\": \"scatter3d\"}], \"scattercarpet\": [{\"marker\": {\"colorbar\": {\"outlinewidth\": 0, \"ticks\": \"\"}}, \"type\": \"scattercarpet\"}], \"scattergeo\": [{\"marker\": {\"colorbar\": {\"outlinewidth\": 0, \"ticks\": \"\"}}, \"type\": \"scattergeo\"}], \"scattergl\": [{\"marker\": {\"colorbar\": {\"outlinewidth\": 0, \"ticks\": \"\"}}, \"type\": \"scattergl\"}], \"scattermapbox\": [{\"marker\": {\"colorbar\": {\"outlinewidth\": 0, \"ticks\": \"\"}}, \"type\": \"scattermapbox\"}], \"scatterpolar\": [{\"marker\": {\"colorbar\": {\"outlinewidth\": 0, \"ticks\": \"\"}}, \"type\": \"scatterpolar\"}], \"scatterpolargl\": [{\"marker\": {\"colorbar\": {\"outlinewidth\": 0, \"ticks\": \"\"}}, \"type\": \"scatterpolargl\"}], \"scatterternary\": [{\"marker\": {\"colorbar\": {\"outlinewidth\": 0, \"ticks\": \"\"}}, \"type\": \"scatterternary\"}], \"surface\": [{\"colorbar\": {\"outlinewidth\": 0, \"ticks\": \"\"}, \"colorscale\": [[0.0, \"#0d0887\"], [0.1111111111111111, \"#46039f\"], [0.2222222222222222, \"#7201a8\"], [0.3333333333333333, \"#9c179e\"], [0.4444444444444444, \"#bd3786\"], [0.5555555555555556, \"#d8576b\"], [0.6666666666666666, \"#ed7953\"], [0.7777777777777778, \"#fb9f3a\"], [0.8888888888888888, \"#fdca26\"], [1.0, \"#f0f921\"]], \"type\": \"surface\"}], \"table\": [{\"cells\": {\"fill\": {\"color\": \"#EBF0F8\"}, \"line\": {\"color\": \"white\"}}, \"header\": {\"fill\": {\"color\": \"#C8D4E3\"}, \"line\": {\"color\": \"white\"}}, \"type\": \"table\"}]}, \"layout\": {\"annotationdefaults\": {\"arrowcolor\": \"#2a3f5f\", \"arrowhead\": 0, \"arrowwidth\": 1}, \"autotypenumbers\": \"strict\", \"coloraxis\": {\"colorbar\": {\"outlinewidth\": 0, \"ticks\": \"\"}}, \"colorscale\": {\"diverging\": [[0, \"#8e0152\"], [0.1, \"#c51b7d\"], [0.2, \"#de77ae\"], [0.3, \"#f1b6da\"], [0.4, \"#fde0ef\"], [0.5, \"#f7f7f7\"], [0.6, \"#e6f5d0\"], [0.7, \"#b8e186\"], [0.8, \"#7fbc41\"], [0.9, \"#4d9221\"], [1, \"#276419\"]], \"sequential\": [[0.0, \"#0d0887\"], [0.1111111111111111, \"#46039f\"], [0.2222222222222222, \"#7201a8\"], [0.3333333333333333, \"#9c179e\"], [0.4444444444444444, \"#bd3786\"], [0.5555555555555556, \"#d8576b\"], [0.6666666666666666, \"#ed7953\"], [0.7777777777777778, \"#fb9f3a\"], [0.8888888888888888, \"#fdca26\"], [1.0, \"#f0f921\"]], \"sequentialminus\": [[0.0, \"#0d0887\"], [0.1111111111111111, \"#46039f\"], [0.2222222222222222, \"#7201a8\"], [0.3333333333333333, \"#9c179e\"], [0.4444444444444444, \"#bd3786\"], [0.5555555555555556, \"#d8576b\"], [0.6666666666666666, \"#ed7953\"], [0.7777777777777778, \"#fb9f3a\"], [0.8888888888888888, \"#fdca26\"], [1.0, \"#f0f921\"]]}, \"colorway\": [\"#636efa\", \"#EF553B\", \"#00cc96\", \"#ab63fa\", \"#FFA15A\", \"#19d3f3\", \"#FF6692\", \"#B6E880\", \"#FF97FF\", \"#FECB52\"], \"font\": {\"color\": \"#2a3f5f\"}, \"geo\": {\"bgcolor\": \"white\", \"lakecolor\": \"white\", \"landcolor\": \"#E5ECF6\", \"showlakes\": true, \"showland\": true, \"subunitcolor\": \"white\"}, \"hoverlabel\": {\"align\": \"left\"}, \"hovermode\": \"closest\", \"mapbox\": {\"style\": \"light\"}, \"paper_bgcolor\": \"white\", \"plot_bgcolor\": \"#E5ECF6\", \"polar\": {\"angularaxis\": {\"gridcolor\": \"white\", \"linecolor\": \"white\", \"ticks\": \"\"}, \"bgcolor\": \"#E5ECF6\", \"radialaxis\": {\"gridcolor\": \"white\", \"linecolor\": \"white\", \"ticks\": \"\"}}, \"scene\": {\"xaxis\": {\"backgroundcolor\": \"#E5ECF6\", \"gridcolor\": \"white\", \"gridwidth\": 2, \"linecolor\": \"white\", \"showbackground\": true, \"ticks\": \"\", \"zerolinecolor\": \"white\"}, \"yaxis\": {\"backgroundcolor\": \"#E5ECF6\", \"gridcolor\": \"white\", \"gridwidth\": 2, \"linecolor\": \"white\", \"showbackground\": true, \"ticks\": \"\", \"zerolinecolor\": \"white\"}, \"zaxis\": {\"backgroundcolor\": \"#E5ECF6\", \"gridcolor\": \"white\", \"gridwidth\": 2, \"linecolor\": \"white\", \"showbackground\": true, \"ticks\": \"\", \"zerolinecolor\": \"white\"}}, \"shapedefaults\": {\"line\": {\"color\": \"#2a3f5f\"}}, \"ternary\": {\"aaxis\": {\"gridcolor\": \"white\", \"linecolor\": \"white\", \"ticks\": \"\"}, \"baxis\": {\"gridcolor\": \"white\", \"linecolor\": \"white\", \"ticks\": \"\"}, \"bgcolor\": \"#E5ECF6\", \"caxis\": {\"gridcolor\": \"white\", \"linecolor\": \"white\", \"ticks\": \"\"}}, \"title\": {\"x\": 0.05}, \"xaxis\": {\"automargin\": true, \"gridcolor\": \"white\", \"linecolor\": \"white\", \"ticks\": \"\", \"title\": {\"standoff\": 15}, \"zerolinecolor\": \"white\", \"zerolinewidth\": 2}, \"yaxis\": {\"automargin\": true, \"gridcolor\": \"white\", \"linecolor\": \"white\", \"ticks\": \"\", \"title\": {\"standoff\": 15}, \"zerolinecolor\": \"white\", \"zerolinewidth\": 2}}}, \"title\": {\"text\": \"Daily Candlestick\"}, \"xaxis\": {\"gridcolor\": \"rgb(144, 145, 142)\", \"rangeslider\": {\"visible\": false}, \"title\": {\"text\": \"Date\"}}, \"yaxis\": {\"gridcolor\": \"rgb(144, 145, 142)\", \"title\": {\"text\": \"Price\"}}},                        {\"responsive\": true}                    ).then(function(){\n",
       "                            \n",
       "var gd = document.getElementById('96eec91f-6221-48f9-9d38-f089107ef640');\n",
       "var x = new MutationObserver(function (mutations, observer) {{\n",
       "        var display = window.getComputedStyle(gd).display;\n",
       "        if (!display || display === 'none') {{\n",
       "            console.log([gd, 'removed!']);\n",
       "            Plotly.purge(gd);\n",
       "            observer.disconnect();\n",
       "        }}\n",
       "}});\n",
       "\n",
       "// Listen for the removal of the full notebook cells\n",
       "var notebookContainer = gd.closest('#notebook-container');\n",
       "if (notebookContainer) {{\n",
       "    x.observe(notebookContainer, {childList: true});\n",
       "}}\n",
       "\n",
       "// Listen for the clearing of the current output cell\n",
       "var outputEl = gd.closest('.output');\n",
       "if (outputEl) {{\n",
       "    x.observe(outputEl, {childList: true});\n",
       "}}\n",
       "\n",
       "                        })                };                });            </script>        </div>"
      ]
     },
     "metadata": {},
     "output_type": "display_data"
    }
   ],
   "source": [
    "### Daily candlestick graph ### \n",
    "fig = go.Figure(data=[go.Candlestick(x=gme_daily['date'],\n",
    "                open=gme_daily['1. open'],\n",
    "                high=gme_daily['2. high'],\n",
    "                low=gme_daily['3. low'],\n",
    "                close=gme_daily['4. close'])])\n",
    "\n",
    "fig.update_layout(\n",
    "    title_text=\"Daily Candlestick\")\n",
    "\n",
    "fig.update_yaxes(title_text=\"Price\")\n",
    "fig.update_xaxes(title_text=\"Date\")\n",
    "fig.layout.plot_bgcolor='rgb(84, 85, 87)'\n",
    "fig.update_layout(xaxis_rangeslider_visible=False)\n",
    "fig.layout.yaxis.gridcolor='rgb(144, 145, 142)'\n",
    "fig.layout.xaxis.gridcolor='rgb(144, 145, 142)'\n",
    "fig.show()"
   ]
  },
  {
   "cell_type": "code",
   "execution_count": 16,
   "metadata": {},
   "outputs": [
    {
     "data": {
      "application/vnd.plotly.v1+json": {
       "config": {
        "plotlyServerURL": "https://plot.ly"
       },
       "data": [
        {
         "line": {
          "color": "rgb(255, 196, 0)",
          "width": 3
         },
         "name": "Price",
         "type": "scatter",
         "x": [
          "2020-12-31T00:00:00",
          "2021-01-04T00:00:00",
          "2021-01-05T00:00:00",
          "2021-01-06T00:00:00",
          "2021-01-07T00:00:00",
          "2021-01-08T00:00:00",
          "2021-01-11T00:00:00",
          "2021-01-12T00:00:00",
          "2021-01-13T00:00:00",
          "2021-01-14T00:00:00",
          "2021-01-15T00:00:00",
          "2021-01-19T00:00:00",
          "2021-01-20T00:00:00",
          "2021-01-21T00:00:00",
          "2021-01-22T00:00:00",
          "2021-01-25T00:00:00",
          "2021-01-26T00:00:00",
          "2021-01-27T00:00:00",
          "2021-01-28T00:00:00",
          "2021-01-29T00:00:00",
          "2021-02-01T00:00:00",
          "2021-02-02T00:00:00",
          "2021-02-03T00:00:00",
          "2021-02-04T00:00:00",
          "2021-02-05T00:00:00",
          "2021-02-08T00:00:00",
          "2021-02-09T00:00:00",
          "2021-02-10T00:00:00",
          "2021-02-11T00:00:00",
          "2021-02-12T00:00:00",
          "2021-02-16T00:00:00"
         ],
         "xaxis": "x",
         "y": [
          18.84,
          17.25,
          17.37,
          18.36,
          18.08,
          17.69,
          19.94,
          19.95,
          31.4,
          39.91,
          35.5,
          39.36,
          39.12,
          43.03,
          65.01,
          76.79,
          147.98,
          347.51,
          193.6,
          325,
          225,
          90,
          92.41,
          53.5,
          63.77,
          60,
          50.31,
          51.2,
          51.1,
          52.4,
          49.51
         ],
         "yaxis": "y"
        },
        {
         "line": {
          "color": "rgb(73, 157, 222)",
          "width": 3
         },
         "name": "Mentions",
         "type": "scatter",
         "x": [
          "2020-12-31",
          "2021-01-01",
          "2021-01-02",
          "2021-01-03",
          "2021-01-04",
          "2021-01-05",
          "2021-01-06",
          "2021-01-07",
          "2021-01-08",
          "2021-01-09",
          "2021-01-10",
          "2021-01-11",
          "2021-01-12",
          "2021-01-13",
          "2021-01-14",
          "2021-01-15",
          "2021-01-16",
          "2021-01-17",
          "2021-01-18",
          "2021-01-19",
          "2021-01-20",
          "2021-01-21",
          "2021-01-22",
          "2021-01-23",
          "2021-01-24",
          "2021-01-25",
          "2021-01-26",
          "2021-01-27",
          "2021-01-28",
          "2021-01-29",
          "2021-01-30",
          "2021-01-31",
          "2021-02-01",
          "2021-02-02",
          "2021-02-03",
          "2021-02-04",
          "2021-02-07",
          "2021-02-08",
          "2021-02-09",
          "2021-02-10",
          "2021-02-11",
          "2021-02-12",
          "2021-02-13",
          "2021-02-14",
          "2021-02-15",
          "2021-02-16"
         ],
         "xaxis": "x",
         "y": [
          30,
          33,
          44,
          35,
          67,
          63,
          51,
          23,
          53,
          44,
          30,
          114,
          52,
          629,
          633,
          680,
          222,
          204,
          387,
          594,
          453,
          610,
          1447,
          688,
          702,
          3107,
          1022,
          11122,
          21796,
          11674,
          6852,
          6324,
          10706,
          10726,
          4320,
          3117,
          137,
          683,
          589,
          804,
          661,
          524,
          273,
          202,
          229,
          29
         ],
         "yaxis": "y2"
        }
       ],
       "layout": {
        "plot_bgcolor": "rgb(84, 85, 87)",
        "template": {
         "data": {
          "bar": [
           {
            "error_x": {
             "color": "#2a3f5f"
            },
            "error_y": {
             "color": "#2a3f5f"
            },
            "marker": {
             "line": {
              "color": "#E5ECF6",
              "width": 0.5
             }
            },
            "type": "bar"
           }
          ],
          "barpolar": [
           {
            "marker": {
             "line": {
              "color": "#E5ECF6",
              "width": 0.5
             }
            },
            "type": "barpolar"
           }
          ],
          "carpet": [
           {
            "aaxis": {
             "endlinecolor": "#2a3f5f",
             "gridcolor": "white",
             "linecolor": "white",
             "minorgridcolor": "white",
             "startlinecolor": "#2a3f5f"
            },
            "baxis": {
             "endlinecolor": "#2a3f5f",
             "gridcolor": "white",
             "linecolor": "white",
             "minorgridcolor": "white",
             "startlinecolor": "#2a3f5f"
            },
            "type": "carpet"
           }
          ],
          "choropleth": [
           {
            "colorbar": {
             "outlinewidth": 0,
             "ticks": ""
            },
            "type": "choropleth"
           }
          ],
          "contour": [
           {
            "colorbar": {
             "outlinewidth": 0,
             "ticks": ""
            },
            "colorscale": [
             [
              0,
              "#0d0887"
             ],
             [
              0.1111111111111111,
              "#46039f"
             ],
             [
              0.2222222222222222,
              "#7201a8"
             ],
             [
              0.3333333333333333,
              "#9c179e"
             ],
             [
              0.4444444444444444,
              "#bd3786"
             ],
             [
              0.5555555555555556,
              "#d8576b"
             ],
             [
              0.6666666666666666,
              "#ed7953"
             ],
             [
              0.7777777777777778,
              "#fb9f3a"
             ],
             [
              0.8888888888888888,
              "#fdca26"
             ],
             [
              1,
              "#f0f921"
             ]
            ],
            "type": "contour"
           }
          ],
          "contourcarpet": [
           {
            "colorbar": {
             "outlinewidth": 0,
             "ticks": ""
            },
            "type": "contourcarpet"
           }
          ],
          "heatmap": [
           {
            "colorbar": {
             "outlinewidth": 0,
             "ticks": ""
            },
            "colorscale": [
             [
              0,
              "#0d0887"
             ],
             [
              0.1111111111111111,
              "#46039f"
             ],
             [
              0.2222222222222222,
              "#7201a8"
             ],
             [
              0.3333333333333333,
              "#9c179e"
             ],
             [
              0.4444444444444444,
              "#bd3786"
             ],
             [
              0.5555555555555556,
              "#d8576b"
             ],
             [
              0.6666666666666666,
              "#ed7953"
             ],
             [
              0.7777777777777778,
              "#fb9f3a"
             ],
             [
              0.8888888888888888,
              "#fdca26"
             ],
             [
              1,
              "#f0f921"
             ]
            ],
            "type": "heatmap"
           }
          ],
          "heatmapgl": [
           {
            "colorbar": {
             "outlinewidth": 0,
             "ticks": ""
            },
            "colorscale": [
             [
              0,
              "#0d0887"
             ],
             [
              0.1111111111111111,
              "#46039f"
             ],
             [
              0.2222222222222222,
              "#7201a8"
             ],
             [
              0.3333333333333333,
              "#9c179e"
             ],
             [
              0.4444444444444444,
              "#bd3786"
             ],
             [
              0.5555555555555556,
              "#d8576b"
             ],
             [
              0.6666666666666666,
              "#ed7953"
             ],
             [
              0.7777777777777778,
              "#fb9f3a"
             ],
             [
              0.8888888888888888,
              "#fdca26"
             ],
             [
              1,
              "#f0f921"
             ]
            ],
            "type": "heatmapgl"
           }
          ],
          "histogram": [
           {
            "marker": {
             "colorbar": {
              "outlinewidth": 0,
              "ticks": ""
             }
            },
            "type": "histogram"
           }
          ],
          "histogram2d": [
           {
            "colorbar": {
             "outlinewidth": 0,
             "ticks": ""
            },
            "colorscale": [
             [
              0,
              "#0d0887"
             ],
             [
              0.1111111111111111,
              "#46039f"
             ],
             [
              0.2222222222222222,
              "#7201a8"
             ],
             [
              0.3333333333333333,
              "#9c179e"
             ],
             [
              0.4444444444444444,
              "#bd3786"
             ],
             [
              0.5555555555555556,
              "#d8576b"
             ],
             [
              0.6666666666666666,
              "#ed7953"
             ],
             [
              0.7777777777777778,
              "#fb9f3a"
             ],
             [
              0.8888888888888888,
              "#fdca26"
             ],
             [
              1,
              "#f0f921"
             ]
            ],
            "type": "histogram2d"
           }
          ],
          "histogram2dcontour": [
           {
            "colorbar": {
             "outlinewidth": 0,
             "ticks": ""
            },
            "colorscale": [
             [
              0,
              "#0d0887"
             ],
             [
              0.1111111111111111,
              "#46039f"
             ],
             [
              0.2222222222222222,
              "#7201a8"
             ],
             [
              0.3333333333333333,
              "#9c179e"
             ],
             [
              0.4444444444444444,
              "#bd3786"
             ],
             [
              0.5555555555555556,
              "#d8576b"
             ],
             [
              0.6666666666666666,
              "#ed7953"
             ],
             [
              0.7777777777777778,
              "#fb9f3a"
             ],
             [
              0.8888888888888888,
              "#fdca26"
             ],
             [
              1,
              "#f0f921"
             ]
            ],
            "type": "histogram2dcontour"
           }
          ],
          "mesh3d": [
           {
            "colorbar": {
             "outlinewidth": 0,
             "ticks": ""
            },
            "type": "mesh3d"
           }
          ],
          "parcoords": [
           {
            "line": {
             "colorbar": {
              "outlinewidth": 0,
              "ticks": ""
             }
            },
            "type": "parcoords"
           }
          ],
          "pie": [
           {
            "automargin": true,
            "type": "pie"
           }
          ],
          "scatter": [
           {
            "marker": {
             "colorbar": {
              "outlinewidth": 0,
              "ticks": ""
             }
            },
            "type": "scatter"
           }
          ],
          "scatter3d": [
           {
            "line": {
             "colorbar": {
              "outlinewidth": 0,
              "ticks": ""
             }
            },
            "marker": {
             "colorbar": {
              "outlinewidth": 0,
              "ticks": ""
             }
            },
            "type": "scatter3d"
           }
          ],
          "scattercarpet": [
           {
            "marker": {
             "colorbar": {
              "outlinewidth": 0,
              "ticks": ""
             }
            },
            "type": "scattercarpet"
           }
          ],
          "scattergeo": [
           {
            "marker": {
             "colorbar": {
              "outlinewidth": 0,
              "ticks": ""
             }
            },
            "type": "scattergeo"
           }
          ],
          "scattergl": [
           {
            "marker": {
             "colorbar": {
              "outlinewidth": 0,
              "ticks": ""
             }
            },
            "type": "scattergl"
           }
          ],
          "scattermapbox": [
           {
            "marker": {
             "colorbar": {
              "outlinewidth": 0,
              "ticks": ""
             }
            },
            "type": "scattermapbox"
           }
          ],
          "scatterpolar": [
           {
            "marker": {
             "colorbar": {
              "outlinewidth": 0,
              "ticks": ""
             }
            },
            "type": "scatterpolar"
           }
          ],
          "scatterpolargl": [
           {
            "marker": {
             "colorbar": {
              "outlinewidth": 0,
              "ticks": ""
             }
            },
            "type": "scatterpolargl"
           }
          ],
          "scatterternary": [
           {
            "marker": {
             "colorbar": {
              "outlinewidth": 0,
              "ticks": ""
             }
            },
            "type": "scatterternary"
           }
          ],
          "surface": [
           {
            "colorbar": {
             "outlinewidth": 0,
             "ticks": ""
            },
            "colorscale": [
             [
              0,
              "#0d0887"
             ],
             [
              0.1111111111111111,
              "#46039f"
             ],
             [
              0.2222222222222222,
              "#7201a8"
             ],
             [
              0.3333333333333333,
              "#9c179e"
             ],
             [
              0.4444444444444444,
              "#bd3786"
             ],
             [
              0.5555555555555556,
              "#d8576b"
             ],
             [
              0.6666666666666666,
              "#ed7953"
             ],
             [
              0.7777777777777778,
              "#fb9f3a"
             ],
             [
              0.8888888888888888,
              "#fdca26"
             ],
             [
              1,
              "#f0f921"
             ]
            ],
            "type": "surface"
           }
          ],
          "table": [
           {
            "cells": {
             "fill": {
              "color": "#EBF0F8"
             },
             "line": {
              "color": "white"
             }
            },
            "header": {
             "fill": {
              "color": "#C8D4E3"
             },
             "line": {
              "color": "white"
             }
            },
            "type": "table"
           }
          ]
         },
         "layout": {
          "annotationdefaults": {
           "arrowcolor": "#2a3f5f",
           "arrowhead": 0,
           "arrowwidth": 1
          },
          "autotypenumbers": "strict",
          "coloraxis": {
           "colorbar": {
            "outlinewidth": 0,
            "ticks": ""
           }
          },
          "colorscale": {
           "diverging": [
            [
             0,
             "#8e0152"
            ],
            [
             0.1,
             "#c51b7d"
            ],
            [
             0.2,
             "#de77ae"
            ],
            [
             0.3,
             "#f1b6da"
            ],
            [
             0.4,
             "#fde0ef"
            ],
            [
             0.5,
             "#f7f7f7"
            ],
            [
             0.6,
             "#e6f5d0"
            ],
            [
             0.7,
             "#b8e186"
            ],
            [
             0.8,
             "#7fbc41"
            ],
            [
             0.9,
             "#4d9221"
            ],
            [
             1,
             "#276419"
            ]
           ],
           "sequential": [
            [
             0,
             "#0d0887"
            ],
            [
             0.1111111111111111,
             "#46039f"
            ],
            [
             0.2222222222222222,
             "#7201a8"
            ],
            [
             0.3333333333333333,
             "#9c179e"
            ],
            [
             0.4444444444444444,
             "#bd3786"
            ],
            [
             0.5555555555555556,
             "#d8576b"
            ],
            [
             0.6666666666666666,
             "#ed7953"
            ],
            [
             0.7777777777777778,
             "#fb9f3a"
            ],
            [
             0.8888888888888888,
             "#fdca26"
            ],
            [
             1,
             "#f0f921"
            ]
           ],
           "sequentialminus": [
            [
             0,
             "#0d0887"
            ],
            [
             0.1111111111111111,
             "#46039f"
            ],
            [
             0.2222222222222222,
             "#7201a8"
            ],
            [
             0.3333333333333333,
             "#9c179e"
            ],
            [
             0.4444444444444444,
             "#bd3786"
            ],
            [
             0.5555555555555556,
             "#d8576b"
            ],
            [
             0.6666666666666666,
             "#ed7953"
            ],
            [
             0.7777777777777778,
             "#fb9f3a"
            ],
            [
             0.8888888888888888,
             "#fdca26"
            ],
            [
             1,
             "#f0f921"
            ]
           ]
          },
          "colorway": [
           "#636efa",
           "#EF553B",
           "#00cc96",
           "#ab63fa",
           "#FFA15A",
           "#19d3f3",
           "#FF6692",
           "#B6E880",
           "#FF97FF",
           "#FECB52"
          ],
          "font": {
           "color": "#2a3f5f"
          },
          "geo": {
           "bgcolor": "white",
           "lakecolor": "white",
           "landcolor": "#E5ECF6",
           "showlakes": true,
           "showland": true,
           "subunitcolor": "white"
          },
          "hoverlabel": {
           "align": "left"
          },
          "hovermode": "closest",
          "mapbox": {
           "style": "light"
          },
          "paper_bgcolor": "white",
          "plot_bgcolor": "#E5ECF6",
          "polar": {
           "angularaxis": {
            "gridcolor": "white",
            "linecolor": "white",
            "ticks": ""
           },
           "bgcolor": "#E5ECF6",
           "radialaxis": {
            "gridcolor": "white",
            "linecolor": "white",
            "ticks": ""
           }
          },
          "scene": {
           "xaxis": {
            "backgroundcolor": "#E5ECF6",
            "gridcolor": "white",
            "gridwidth": 2,
            "linecolor": "white",
            "showbackground": true,
            "ticks": "",
            "zerolinecolor": "white"
           },
           "yaxis": {
            "backgroundcolor": "#E5ECF6",
            "gridcolor": "white",
            "gridwidth": 2,
            "linecolor": "white",
            "showbackground": true,
            "ticks": "",
            "zerolinecolor": "white"
           },
           "zaxis": {
            "backgroundcolor": "#E5ECF6",
            "gridcolor": "white",
            "gridwidth": 2,
            "linecolor": "white",
            "showbackground": true,
            "ticks": "",
            "zerolinecolor": "white"
           }
          },
          "shapedefaults": {
           "line": {
            "color": "#2a3f5f"
           }
          },
          "ternary": {
           "aaxis": {
            "gridcolor": "white",
            "linecolor": "white",
            "ticks": ""
           },
           "baxis": {
            "gridcolor": "white",
            "linecolor": "white",
            "ticks": ""
           },
           "bgcolor": "#E5ECF6",
           "caxis": {
            "gridcolor": "white",
            "linecolor": "white",
            "ticks": ""
           }
          },
          "title": {
           "x": 0.05
          },
          "xaxis": {
           "automargin": true,
           "gridcolor": "white",
           "linecolor": "white",
           "ticks": "",
           "title": {
            "standoff": 15
           },
           "zerolinecolor": "white",
           "zerolinewidth": 2
          },
          "yaxis": {
           "automargin": true,
           "gridcolor": "white",
           "linecolor": "white",
           "ticks": "",
           "title": {
            "standoff": 15
           },
           "zerolinecolor": "white",
           "zerolinewidth": 2
          }
         }
        },
        "title": {
         "text": "GME Price vs. Mentions"
        },
        "xaxis": {
         "anchor": "y",
         "domain": [
          0,
          0.94
         ],
         "gridcolor": "rgb(144, 145, 142)",
         "title": {
          "text": "Date"
         }
        },
        "yaxis": {
         "anchor": "x",
         "domain": [
          0,
          1
         ],
         "gridcolor": "rgb(144, 145, 142)",
         "title": {
          "text": "Price"
         }
        },
        "yaxis2": {
         "anchor": "x",
         "overlaying": "y",
         "side": "right",
         "title": {
          "text": "Mentions"
         }
        }
       }
      },
      "text/html": [
       "<div>                            <div id=\"35b1e500-5a0e-489d-b2a7-3813adb674c1\" class=\"plotly-graph-div\" style=\"height:525px; width:100%;\"></div>            <script type=\"text/javascript\">                require([\"plotly\"], function(Plotly) {                    window.PLOTLYENV=window.PLOTLYENV || {};                                    if (document.getElementById(\"35b1e500-5a0e-489d-b2a7-3813adb674c1\")) {                    Plotly.newPlot(                        \"35b1e500-5a0e-489d-b2a7-3813adb674c1\",                        [{\"line\": {\"color\": \"rgb(255, 196, 0)\", \"width\": 3}, \"name\": \"Price\", \"type\": \"scatter\", \"x\": [\"2020-12-31T00:00:00\", \"2021-01-04T00:00:00\", \"2021-01-05T00:00:00\", \"2021-01-06T00:00:00\", \"2021-01-07T00:00:00\", \"2021-01-08T00:00:00\", \"2021-01-11T00:00:00\", \"2021-01-12T00:00:00\", \"2021-01-13T00:00:00\", \"2021-01-14T00:00:00\", \"2021-01-15T00:00:00\", \"2021-01-19T00:00:00\", \"2021-01-20T00:00:00\", \"2021-01-21T00:00:00\", \"2021-01-22T00:00:00\", \"2021-01-25T00:00:00\", \"2021-01-26T00:00:00\", \"2021-01-27T00:00:00\", \"2021-01-28T00:00:00\", \"2021-01-29T00:00:00\", \"2021-02-01T00:00:00\", \"2021-02-02T00:00:00\", \"2021-02-03T00:00:00\", \"2021-02-04T00:00:00\", \"2021-02-05T00:00:00\", \"2021-02-08T00:00:00\", \"2021-02-09T00:00:00\", \"2021-02-10T00:00:00\", \"2021-02-11T00:00:00\", \"2021-02-12T00:00:00\", \"2021-02-16T00:00:00\"], \"xaxis\": \"x\", \"y\": [18.84, 17.25, 17.37, 18.36, 18.08, 17.69, 19.94, 19.95, 31.4, 39.91, 35.5, 39.36, 39.12, 43.03, 65.01, 76.79, 147.98, 347.51, 193.6, 325.0, 225.0, 90.0, 92.41, 53.5, 63.77, 60.0, 50.31, 51.2, 51.1, 52.4, 49.51], \"yaxis\": \"y\"}, {\"line\": {\"color\": \"rgb(73, 157, 222)\", \"width\": 3}, \"name\": \"Mentions\", \"type\": \"scatter\", \"x\": [\"2020-12-31\", \"2021-01-01\", \"2021-01-02\", \"2021-01-03\", \"2021-01-04\", \"2021-01-05\", \"2021-01-06\", \"2021-01-07\", \"2021-01-08\", \"2021-01-09\", \"2021-01-10\", \"2021-01-11\", \"2021-01-12\", \"2021-01-13\", \"2021-01-14\", \"2021-01-15\", \"2021-01-16\", \"2021-01-17\", \"2021-01-18\", \"2021-01-19\", \"2021-01-20\", \"2021-01-21\", \"2021-01-22\", \"2021-01-23\", \"2021-01-24\", \"2021-01-25\", \"2021-01-26\", \"2021-01-27\", \"2021-01-28\", \"2021-01-29\", \"2021-01-30\", \"2021-01-31\", \"2021-02-01\", \"2021-02-02\", \"2021-02-03\", \"2021-02-04\", \"2021-02-07\", \"2021-02-08\", \"2021-02-09\", \"2021-02-10\", \"2021-02-11\", \"2021-02-12\", \"2021-02-13\", \"2021-02-14\", \"2021-02-15\", \"2021-02-16\"], \"xaxis\": \"x\", \"y\": [30, 33, 44, 35, 67, 63, 51, 23, 53, 44, 30, 114, 52, 629, 633, 680, 222, 204, 387, 594, 453, 610, 1447, 688, 702, 3107, 1022, 11122, 21796, 11674, 6852, 6324, 10706, 10726, 4320, 3117, 137, 683, 589, 804, 661, 524, 273, 202, 229, 29], \"yaxis\": \"y2\"}],                        {\"plot_bgcolor\": \"rgb(84, 85, 87)\", \"template\": {\"data\": {\"bar\": [{\"error_x\": {\"color\": \"#2a3f5f\"}, \"error_y\": {\"color\": \"#2a3f5f\"}, \"marker\": {\"line\": {\"color\": \"#E5ECF6\", \"width\": 0.5}}, \"type\": \"bar\"}], \"barpolar\": [{\"marker\": {\"line\": {\"color\": \"#E5ECF6\", \"width\": 0.5}}, \"type\": \"barpolar\"}], \"carpet\": [{\"aaxis\": {\"endlinecolor\": \"#2a3f5f\", \"gridcolor\": \"white\", \"linecolor\": \"white\", \"minorgridcolor\": \"white\", \"startlinecolor\": \"#2a3f5f\"}, \"baxis\": {\"endlinecolor\": \"#2a3f5f\", \"gridcolor\": \"white\", \"linecolor\": \"white\", \"minorgridcolor\": \"white\", \"startlinecolor\": \"#2a3f5f\"}, \"type\": \"carpet\"}], \"choropleth\": [{\"colorbar\": {\"outlinewidth\": 0, \"ticks\": \"\"}, \"type\": \"choropleth\"}], \"contour\": [{\"colorbar\": {\"outlinewidth\": 0, \"ticks\": \"\"}, \"colorscale\": [[0.0, \"#0d0887\"], [0.1111111111111111, \"#46039f\"], [0.2222222222222222, \"#7201a8\"], [0.3333333333333333, \"#9c179e\"], [0.4444444444444444, \"#bd3786\"], [0.5555555555555556, \"#d8576b\"], [0.6666666666666666, \"#ed7953\"], [0.7777777777777778, \"#fb9f3a\"], [0.8888888888888888, \"#fdca26\"], [1.0, \"#f0f921\"]], \"type\": \"contour\"}], \"contourcarpet\": [{\"colorbar\": {\"outlinewidth\": 0, \"ticks\": \"\"}, \"type\": \"contourcarpet\"}], \"heatmap\": [{\"colorbar\": {\"outlinewidth\": 0, \"ticks\": \"\"}, \"colorscale\": [[0.0, \"#0d0887\"], [0.1111111111111111, \"#46039f\"], [0.2222222222222222, \"#7201a8\"], [0.3333333333333333, \"#9c179e\"], [0.4444444444444444, \"#bd3786\"], [0.5555555555555556, \"#d8576b\"], [0.6666666666666666, \"#ed7953\"], [0.7777777777777778, \"#fb9f3a\"], [0.8888888888888888, \"#fdca26\"], [1.0, \"#f0f921\"]], \"type\": \"heatmap\"}], \"heatmapgl\": [{\"colorbar\": {\"outlinewidth\": 0, \"ticks\": \"\"}, \"colorscale\": [[0.0, \"#0d0887\"], [0.1111111111111111, \"#46039f\"], [0.2222222222222222, \"#7201a8\"], [0.3333333333333333, \"#9c179e\"], [0.4444444444444444, \"#bd3786\"], [0.5555555555555556, \"#d8576b\"], [0.6666666666666666, \"#ed7953\"], [0.7777777777777778, \"#fb9f3a\"], [0.8888888888888888, \"#fdca26\"], [1.0, \"#f0f921\"]], \"type\": \"heatmapgl\"}], \"histogram\": [{\"marker\": {\"colorbar\": {\"outlinewidth\": 0, \"ticks\": \"\"}}, \"type\": \"histogram\"}], \"histogram2d\": [{\"colorbar\": {\"outlinewidth\": 0, \"ticks\": \"\"}, \"colorscale\": [[0.0, \"#0d0887\"], [0.1111111111111111, \"#46039f\"], [0.2222222222222222, \"#7201a8\"], [0.3333333333333333, \"#9c179e\"], [0.4444444444444444, \"#bd3786\"], [0.5555555555555556, \"#d8576b\"], [0.6666666666666666, \"#ed7953\"], [0.7777777777777778, \"#fb9f3a\"], [0.8888888888888888, \"#fdca26\"], [1.0, \"#f0f921\"]], \"type\": \"histogram2d\"}], \"histogram2dcontour\": [{\"colorbar\": {\"outlinewidth\": 0, \"ticks\": \"\"}, \"colorscale\": [[0.0, \"#0d0887\"], [0.1111111111111111, \"#46039f\"], [0.2222222222222222, \"#7201a8\"], [0.3333333333333333, \"#9c179e\"], [0.4444444444444444, \"#bd3786\"], [0.5555555555555556, \"#d8576b\"], [0.6666666666666666, \"#ed7953\"], [0.7777777777777778, \"#fb9f3a\"], [0.8888888888888888, \"#fdca26\"], [1.0, \"#f0f921\"]], \"type\": \"histogram2dcontour\"}], \"mesh3d\": [{\"colorbar\": {\"outlinewidth\": 0, \"ticks\": \"\"}, \"type\": \"mesh3d\"}], \"parcoords\": [{\"line\": {\"colorbar\": {\"outlinewidth\": 0, \"ticks\": \"\"}}, \"type\": \"parcoords\"}], \"pie\": [{\"automargin\": true, \"type\": \"pie\"}], \"scatter\": [{\"marker\": {\"colorbar\": {\"outlinewidth\": 0, \"ticks\": \"\"}}, \"type\": \"scatter\"}], \"scatter3d\": [{\"line\": {\"colorbar\": {\"outlinewidth\": 0, \"ticks\": \"\"}}, \"marker\": {\"colorbar\": {\"outlinewidth\": 0, \"ticks\": \"\"}}, \"type\": \"scatter3d\"}], \"scattercarpet\": [{\"marker\": {\"colorbar\": {\"outlinewidth\": 0, \"ticks\": \"\"}}, \"type\": \"scattercarpet\"}], \"scattergeo\": [{\"marker\": {\"colorbar\": {\"outlinewidth\": 0, \"ticks\": \"\"}}, \"type\": \"scattergeo\"}], \"scattergl\": [{\"marker\": {\"colorbar\": {\"outlinewidth\": 0, \"ticks\": \"\"}}, \"type\": \"scattergl\"}], \"scattermapbox\": [{\"marker\": {\"colorbar\": {\"outlinewidth\": 0, \"ticks\": \"\"}}, \"type\": \"scattermapbox\"}], \"scatterpolar\": [{\"marker\": {\"colorbar\": {\"outlinewidth\": 0, \"ticks\": \"\"}}, \"type\": \"scatterpolar\"}], \"scatterpolargl\": [{\"marker\": {\"colorbar\": {\"outlinewidth\": 0, \"ticks\": \"\"}}, \"type\": \"scatterpolargl\"}], \"scatterternary\": [{\"marker\": {\"colorbar\": {\"outlinewidth\": 0, \"ticks\": \"\"}}, \"type\": \"scatterternary\"}], \"surface\": [{\"colorbar\": {\"outlinewidth\": 0, \"ticks\": \"\"}, \"colorscale\": [[0.0, \"#0d0887\"], [0.1111111111111111, \"#46039f\"], [0.2222222222222222, \"#7201a8\"], [0.3333333333333333, \"#9c179e\"], [0.4444444444444444, \"#bd3786\"], [0.5555555555555556, \"#d8576b\"], [0.6666666666666666, \"#ed7953\"], [0.7777777777777778, \"#fb9f3a\"], [0.8888888888888888, \"#fdca26\"], [1.0, \"#f0f921\"]], \"type\": \"surface\"}], \"table\": [{\"cells\": {\"fill\": {\"color\": \"#EBF0F8\"}, \"line\": {\"color\": \"white\"}}, \"header\": {\"fill\": {\"color\": \"#C8D4E3\"}, \"line\": {\"color\": \"white\"}}, \"type\": \"table\"}]}, \"layout\": {\"annotationdefaults\": {\"arrowcolor\": \"#2a3f5f\", \"arrowhead\": 0, \"arrowwidth\": 1}, \"autotypenumbers\": \"strict\", \"coloraxis\": {\"colorbar\": {\"outlinewidth\": 0, \"ticks\": \"\"}}, \"colorscale\": {\"diverging\": [[0, \"#8e0152\"], [0.1, \"#c51b7d\"], [0.2, \"#de77ae\"], [0.3, \"#f1b6da\"], [0.4, \"#fde0ef\"], [0.5, \"#f7f7f7\"], [0.6, \"#e6f5d0\"], [0.7, \"#b8e186\"], [0.8, \"#7fbc41\"], [0.9, \"#4d9221\"], [1, \"#276419\"]], \"sequential\": [[0.0, \"#0d0887\"], [0.1111111111111111, \"#46039f\"], [0.2222222222222222, \"#7201a8\"], [0.3333333333333333, \"#9c179e\"], [0.4444444444444444, \"#bd3786\"], [0.5555555555555556, \"#d8576b\"], [0.6666666666666666, \"#ed7953\"], [0.7777777777777778, \"#fb9f3a\"], [0.8888888888888888, \"#fdca26\"], [1.0, \"#f0f921\"]], \"sequentialminus\": [[0.0, \"#0d0887\"], [0.1111111111111111, \"#46039f\"], [0.2222222222222222, \"#7201a8\"], [0.3333333333333333, \"#9c179e\"], [0.4444444444444444, \"#bd3786\"], [0.5555555555555556, \"#d8576b\"], [0.6666666666666666, \"#ed7953\"], [0.7777777777777778, \"#fb9f3a\"], [0.8888888888888888, \"#fdca26\"], [1.0, \"#f0f921\"]]}, \"colorway\": [\"#636efa\", \"#EF553B\", \"#00cc96\", \"#ab63fa\", \"#FFA15A\", \"#19d3f3\", \"#FF6692\", \"#B6E880\", \"#FF97FF\", \"#FECB52\"], \"font\": {\"color\": \"#2a3f5f\"}, \"geo\": {\"bgcolor\": \"white\", \"lakecolor\": \"white\", \"landcolor\": \"#E5ECF6\", \"showlakes\": true, \"showland\": true, \"subunitcolor\": \"white\"}, \"hoverlabel\": {\"align\": \"left\"}, \"hovermode\": \"closest\", \"mapbox\": {\"style\": \"light\"}, \"paper_bgcolor\": \"white\", \"plot_bgcolor\": \"#E5ECF6\", \"polar\": {\"angularaxis\": {\"gridcolor\": \"white\", \"linecolor\": \"white\", \"ticks\": \"\"}, \"bgcolor\": \"#E5ECF6\", \"radialaxis\": {\"gridcolor\": \"white\", \"linecolor\": \"white\", \"ticks\": \"\"}}, \"scene\": {\"xaxis\": {\"backgroundcolor\": \"#E5ECF6\", \"gridcolor\": \"white\", \"gridwidth\": 2, \"linecolor\": \"white\", \"showbackground\": true, \"ticks\": \"\", \"zerolinecolor\": \"white\"}, \"yaxis\": {\"backgroundcolor\": \"#E5ECF6\", \"gridcolor\": \"white\", \"gridwidth\": 2, \"linecolor\": \"white\", \"showbackground\": true, \"ticks\": \"\", \"zerolinecolor\": \"white\"}, \"zaxis\": {\"backgroundcolor\": \"#E5ECF6\", \"gridcolor\": \"white\", \"gridwidth\": 2, \"linecolor\": \"white\", \"showbackground\": true, \"ticks\": \"\", \"zerolinecolor\": \"white\"}}, \"shapedefaults\": {\"line\": {\"color\": \"#2a3f5f\"}}, \"ternary\": {\"aaxis\": {\"gridcolor\": \"white\", \"linecolor\": \"white\", \"ticks\": \"\"}, \"baxis\": {\"gridcolor\": \"white\", \"linecolor\": \"white\", \"ticks\": \"\"}, \"bgcolor\": \"#E5ECF6\", \"caxis\": {\"gridcolor\": \"white\", \"linecolor\": \"white\", \"ticks\": \"\"}}, \"title\": {\"x\": 0.05}, \"xaxis\": {\"automargin\": true, \"gridcolor\": \"white\", \"linecolor\": \"white\", \"ticks\": \"\", \"title\": {\"standoff\": 15}, \"zerolinecolor\": \"white\", \"zerolinewidth\": 2}, \"yaxis\": {\"automargin\": true, \"gridcolor\": \"white\", \"linecolor\": \"white\", \"ticks\": \"\", \"title\": {\"standoff\": 15}, \"zerolinecolor\": \"white\", \"zerolinewidth\": 2}}}, \"title\": {\"text\": \"GME Price vs. Mentions\"}, \"xaxis\": {\"anchor\": \"y\", \"domain\": [0.0, 0.94], \"gridcolor\": \"rgb(144, 145, 142)\", \"title\": {\"text\": \"Date\"}}, \"yaxis\": {\"anchor\": \"x\", \"domain\": [0.0, 1.0], \"gridcolor\": \"rgb(144, 145, 142)\", \"title\": {\"text\": \"Price\"}}, \"yaxis2\": {\"anchor\": \"x\", \"overlaying\": \"y\", \"side\": \"right\", \"title\": {\"text\": \"Mentions\"}}},                        {\"responsive\": true}                    ).then(function(){\n",
       "                            \n",
       "var gd = document.getElementById('35b1e500-5a0e-489d-b2a7-3813adb674c1');\n",
       "var x = new MutationObserver(function (mutations, observer) {{\n",
       "        var display = window.getComputedStyle(gd).display;\n",
       "        if (!display || display === 'none') {{\n",
       "            console.log([gd, 'removed!']);\n",
       "            Plotly.purge(gd);\n",
       "            observer.disconnect();\n",
       "        }}\n",
       "}});\n",
       "\n",
       "// Listen for the removal of the full notebook cells\n",
       "var notebookContainer = gd.closest('#notebook-container');\n",
       "if (notebookContainer) {{\n",
       "    x.observe(notebookContainer, {childList: true});\n",
       "}}\n",
       "\n",
       "// Listen for the clearing of the current output cell\n",
       "var outputEl = gd.closest('.output');\n",
       "if (outputEl) {{\n",
       "    x.observe(outputEl, {childList: true});\n",
       "}}\n",
       "\n",
       "                        })                };                });            </script>        </div>"
      ]
     },
     "metadata": {},
     "output_type": "display_data"
    }
   ],
   "source": [
    "fig = make_subplots(specs=[[{\"secondary_y\": True}]])\n",
    "\n",
    "fig.add_trace(\n",
    "    go.Scatter(x=gme_daily['date'], y=gme_daily['5. adjusted close'],\n",
    "               name=\"Price\"),\n",
    "    secondary_y=False,\n",
    ")\n",
    "\n",
    "fig.add_trace(\n",
    "    go.Scatter( x=gme_date['date'], y=gme_date['count'], name= 'Mentions'),\n",
    "    secondary_y=True,\n",
    ")\n",
    "fig.update_layout(\n",
    "    title_text=\"GME Price vs. Mentions\"\n",
    ")\n",
    "\n",
    "fig.update_xaxes(title_text=\"Date\")\n",
    "\n",
    "fig.update_yaxes(title_text=\"Price\", secondary_y=False)\n",
    "fig.update_yaxes(title_text=\"Mentions\", secondary_y=True)\n",
    "fig.update_traces(line_color='rgb(255, 196, 0)', line = {'width':3}, secondary_y=False)\n",
    "fig.update_traces(line_color='rgb(73, 157, 222)', line = {'width':3}, secondary_y=True)\n",
    "fig.layout.plot_bgcolor='rgb(84, 85, 87)'\n",
    "fig.layout.yaxis.gridcolor='rgb(144, 145, 142)'\n",
    "fig.layout.yaxis.gridcolor='rgb(144, 145, 142)'\n",
    "fig.layout.xaxis.gridcolor='rgb(144, 145, 142)'\n",
    "fig.show()"
   ]
  },
  {
   "cell_type": "code",
   "execution_count": 46,
   "metadata": {
    "scrolled": true
   },
   "outputs": [
    {
     "data": {
      "application/vnd.plotly.v1+json": {
       "config": {
        "plotlyServerURL": "https://plot.ly"
       },
       "data": [
        {
         "line": {
          "color": "rgb(255, 196, 0)",
          "width": 3
         },
         "name": "Price",
         "type": "scatter",
         "x": [
          "2021-01-25T05:00:00",
          "2021-01-25T06:00:00",
          "2021-01-25T07:00:00",
          "2021-01-25T08:00:00",
          "2021-01-25T09:00:00",
          "2021-01-25T10:00:00",
          "2021-01-25T11:00:00",
          "2021-01-25T12:00:00",
          "2021-01-25T13:00:00",
          "2021-01-25T14:00:00",
          "2021-01-25T15:00:00",
          "2021-01-25T16:00:00",
          "2021-01-25T17:00:00",
          "2021-01-25T18:00:00",
          "2021-01-25T19:00:00",
          "2021-01-25T20:00:00",
          "2021-01-26T05:00:00",
          "2021-01-26T06:00:00",
          "2021-01-26T07:00:00",
          "2021-01-26T08:00:00",
          "2021-01-26T09:00:00",
          "2021-01-26T10:00:00",
          "2021-01-26T11:00:00",
          "2021-01-26T12:00:00",
          "2021-01-26T13:00:00",
          "2021-01-26T14:00:00",
          "2021-01-26T15:00:00",
          "2021-01-26T16:00:00",
          "2021-01-26T17:00:00",
          "2021-01-26T18:00:00",
          "2021-01-26T19:00:00",
          "2021-01-26T20:00:00",
          "2021-01-27T05:00:00",
          "2021-01-27T06:00:00",
          "2021-01-27T07:00:00",
          "2021-01-27T08:00:00",
          "2021-01-27T09:00:00",
          "2021-01-27T10:00:00",
          "2021-01-27T11:00:00",
          "2021-01-27T12:00:00",
          "2021-01-27T13:00:00",
          "2021-01-27T14:00:00",
          "2021-01-27T15:00:00",
          "2021-01-27T16:00:00",
          "2021-01-27T17:00:00",
          "2021-01-27T18:00:00",
          "2021-01-27T19:00:00",
          "2021-01-27T20:00:00",
          "2021-01-28T05:00:00",
          "2021-01-28T06:00:00",
          "2021-01-28T07:00:00",
          "2021-01-28T08:00:00",
          "2021-01-28T09:00:00",
          "2021-01-28T10:00:00",
          "2021-01-28T11:00:00",
          "2021-01-28T12:00:00",
          "2021-01-28T13:00:00",
          "2021-01-28T14:00:00",
          "2021-01-28T15:00:00",
          "2021-01-28T16:00:00",
          "2021-01-28T17:00:00",
          "2021-01-28T18:00:00",
          "2021-01-28T19:00:00",
          "2021-01-28T20:00:00"
         ],
         "xaxis": "x",
         "y": [
          105.39,
          96.77,
          94.43,
          91.65,
          98.05,
          89.76,
          117.07,
          99.56,
          69.42,
          76.7499,
          77.0001,
          76.765,
          78.5,
          81.71,
          82.8801,
          88.87,
          94,
          88.55,
          88.5,
          91.51,
          89.25,
          87.57,
          87.6101,
          87.7999,
          105.5556,
          114.5499,
          131.845,
          145.965,
          224.45,
          208.14,
          225,
          209.51,
          299.19,
          351,
          197.89,
          230,
          231.5,
          310.69,
          371.82,
          312.61,
          342.172,
          326.59,
          319.6006,
          345,
          327.26,
          319.85,
          248.8,
          292,
          335,
          456,
          445,
          459,
          341,
          468.49,
          264.01,
          255.7614,
          239.6656,
          241.5301,
          247.17,
          197.44,
          257,
          281.85,
          347.01,
          311.99
         ],
         "yaxis": "y"
        },
        {
         "line": {
          "color": "rgb(73, 157, 222)",
          "width": 3
         },
         "name": "Mentions",
         "type": "scatter",
         "x": [
          "2021-01-25T01:00:00",
          "2021-01-25T02:00:00",
          "2021-01-25T03:00:00",
          "2021-01-25T04:00:00",
          "2021-01-25T05:00:00",
          "2021-01-25T06:00:00",
          "2021-01-25T07:00:00",
          "2021-01-25T08:00:00",
          "2021-01-25T09:00:00",
          "2021-01-25T10:00:00",
          "2021-01-25T11:00:00",
          "2021-01-25T12:00:00",
          "2021-01-25T13:00:00",
          "2021-01-25T14:00:00",
          "2021-01-25T15:00:00",
          "2021-01-25T16:00:00",
          "2021-01-25T17:00:00",
          "2021-01-25T18:00:00",
          "2021-01-25T19:00:00",
          "2021-01-25T20:00:00",
          "2021-01-25T21:00:00",
          "2021-01-25T22:00:00",
          "2021-01-25T23:00:00",
          "2021-01-26T00:00:00",
          "2021-01-26T01:00:00",
          "2021-01-26T02:00:00",
          "2021-01-26T03:00:00",
          "2021-01-26T04:00:00",
          "2021-01-26T05:00:00",
          "2021-01-26T06:00:00",
          "2021-01-26T07:00:00",
          "2021-01-26T08:00:00",
          "2021-01-26T09:00:00",
          "2021-01-26T10:00:00",
          "2021-01-26T11:00:00",
          "2021-01-27T09:00:00",
          "2021-01-27T10:00:00",
          "2021-01-27T11:00:00",
          "2021-01-27T12:00:00",
          "2021-01-27T13:00:00",
          "2021-01-27T14:00:00",
          "2021-01-27T15:00:00",
          "2021-01-27T16:00:00",
          "2021-01-27T17:00:00",
          "2021-01-27T18:00:00",
          "2021-01-27T19:00:00",
          "2021-01-27T20:00:00",
          "2021-01-27T21:00:00",
          "2021-01-27T22:00:00",
          "2021-01-27T23:00:00",
          "2021-01-28T00:00:00",
          "2021-01-28T01:00:00",
          "2021-01-28T02:00:00",
          "2021-01-28T03:00:00",
          "2021-01-28T04:00:00",
          "2021-01-28T05:00:00",
          "2021-01-28T06:00:00",
          "2021-01-28T07:00:00",
          "2021-01-28T08:00:00",
          "2021-01-28T09:00:00",
          "2021-01-28T10:00:00",
          "2021-01-28T11:00:00",
          "2021-01-28T12:00:00",
          "2021-01-28T13:00:00",
          "2021-01-28T14:00:00",
          "2021-01-28T15:00:00",
          "2021-01-28T16:00:00",
          "2021-01-28T17:00:00",
          "2021-01-28T18:00:00",
          "2021-01-28T19:00:00",
          "2021-01-28T20:00:00",
          "2021-01-28T21:00:00",
          "2021-01-28T22:00:00",
          "2021-01-28T23:00:00",
          "2021-01-29T00:00:00",
          "2021-01-29T01:00:00",
          "2021-01-29T02:00:00",
          "2021-01-29T03:00:00",
          "2021-01-29T04:00:00",
          "2021-01-29T05:00:00",
          "2021-01-29T06:00:00",
          "2021-01-29T07:00:00",
          "2021-01-29T08:00:00",
          "2021-01-29T09:00:00",
          "2021-01-29T10:00:00",
          "2021-01-29T11:00:00",
          "2021-01-29T12:00:00",
          "2021-01-29T13:00:00",
          "2021-01-29T14:00:00",
          "2021-01-29T15:00:00",
          "2021-01-29T16:00:00",
          "2021-01-29T17:00:00",
          "2021-01-29T18:00:00",
          "2021-01-29T19:00:00",
          "2021-01-29T20:00:00",
          "2021-01-29T21:00:00",
          "2021-01-29T22:00:00",
          "2021-01-29T23:00:00"
         ],
         "xaxis": "x",
         "y": [
          19,
          26,
          20,
          116,
          97,
          48,
          59,
          98,
          148,
          294,
          392,
          373,
          220,
          159,
          160,
          143,
          130,
          90,
          100,
          113,
          103,
          103,
          63,
          83,
          65,
          49,
          51,
          46,
          48,
          61,
          80,
          76,
          155,
          229,
          79,
          44,
          1050,
          1176,
          1299,
          898,
          1112,
          1259,
          504,
          308,
          382,
          403,
          906,
          705,
          614,
          462,
          365,
          318,
          291,
          317,
          276,
          426,
          623,
          638,
          1821,
          2058,
          2054,
          2080,
          1572,
          967,
          1386,
          1267,
          997,
          770,
          737,
          680,
          606,
          531,
          560,
          456,
          426,
          330,
          322,
          273,
          333,
          316,
          315,
          400,
          475,
          881,
          1006,
          726,
          677,
          705,
          795,
          635,
          525,
          425,
          374,
          335,
          370,
          410,
          309,
          311
         ],
         "yaxis": "y2"
        }
       ],
       "layout": {
        "plot_bgcolor": "rgb(84, 85, 87)",
        "shapes": [
         {
          "line": {
           "color": "red"
          },
          "type": "circle",
          "x0": "2021-01-26 09:00:00",
          "x1": "2021-01-26 11:00:00",
          "xref": "x",
          "y0": 115,
          "y1": 105,
          "yref": "y"
         },
         {
          "line": {
           "color": "red"
          },
          "type": "circle",
          "x0": "2021-01-27 19:00:00",
          "x1": "2021-01-27 21:00:00",
          "xref": "x",
          "y0": 250,
          "y1": 230,
          "yref": "y"
         },
         {
          "line": {
           "color": "red"
          },
          "type": "circle",
          "x0": "2021-01-29 09:00:00",
          "x1": "2021-01-29 11:00:00",
          "xref": "x",
          "y0": 250,
          "y1": 270,
          "yref": "y"
         }
        ],
        "template": {
         "data": {
          "bar": [
           {
            "error_x": {
             "color": "#2a3f5f"
            },
            "error_y": {
             "color": "#2a3f5f"
            },
            "marker": {
             "line": {
              "color": "#E5ECF6",
              "width": 0.5
             }
            },
            "type": "bar"
           }
          ],
          "barpolar": [
           {
            "marker": {
             "line": {
              "color": "#E5ECF6",
              "width": 0.5
             }
            },
            "type": "barpolar"
           }
          ],
          "carpet": [
           {
            "aaxis": {
             "endlinecolor": "#2a3f5f",
             "gridcolor": "white",
             "linecolor": "white",
             "minorgridcolor": "white",
             "startlinecolor": "#2a3f5f"
            },
            "baxis": {
             "endlinecolor": "#2a3f5f",
             "gridcolor": "white",
             "linecolor": "white",
             "minorgridcolor": "white",
             "startlinecolor": "#2a3f5f"
            },
            "type": "carpet"
           }
          ],
          "choropleth": [
           {
            "colorbar": {
             "outlinewidth": 0,
             "ticks": ""
            },
            "type": "choropleth"
           }
          ],
          "contour": [
           {
            "colorbar": {
             "outlinewidth": 0,
             "ticks": ""
            },
            "colorscale": [
             [
              0,
              "#0d0887"
             ],
             [
              0.1111111111111111,
              "#46039f"
             ],
             [
              0.2222222222222222,
              "#7201a8"
             ],
             [
              0.3333333333333333,
              "#9c179e"
             ],
             [
              0.4444444444444444,
              "#bd3786"
             ],
             [
              0.5555555555555556,
              "#d8576b"
             ],
             [
              0.6666666666666666,
              "#ed7953"
             ],
             [
              0.7777777777777778,
              "#fb9f3a"
             ],
             [
              0.8888888888888888,
              "#fdca26"
             ],
             [
              1,
              "#f0f921"
             ]
            ],
            "type": "contour"
           }
          ],
          "contourcarpet": [
           {
            "colorbar": {
             "outlinewidth": 0,
             "ticks": ""
            },
            "type": "contourcarpet"
           }
          ],
          "heatmap": [
           {
            "colorbar": {
             "outlinewidth": 0,
             "ticks": ""
            },
            "colorscale": [
             [
              0,
              "#0d0887"
             ],
             [
              0.1111111111111111,
              "#46039f"
             ],
             [
              0.2222222222222222,
              "#7201a8"
             ],
             [
              0.3333333333333333,
              "#9c179e"
             ],
             [
              0.4444444444444444,
              "#bd3786"
             ],
             [
              0.5555555555555556,
              "#d8576b"
             ],
             [
              0.6666666666666666,
              "#ed7953"
             ],
             [
              0.7777777777777778,
              "#fb9f3a"
             ],
             [
              0.8888888888888888,
              "#fdca26"
             ],
             [
              1,
              "#f0f921"
             ]
            ],
            "type": "heatmap"
           }
          ],
          "heatmapgl": [
           {
            "colorbar": {
             "outlinewidth": 0,
             "ticks": ""
            },
            "colorscale": [
             [
              0,
              "#0d0887"
             ],
             [
              0.1111111111111111,
              "#46039f"
             ],
             [
              0.2222222222222222,
              "#7201a8"
             ],
             [
              0.3333333333333333,
              "#9c179e"
             ],
             [
              0.4444444444444444,
              "#bd3786"
             ],
             [
              0.5555555555555556,
              "#d8576b"
             ],
             [
              0.6666666666666666,
              "#ed7953"
             ],
             [
              0.7777777777777778,
              "#fb9f3a"
             ],
             [
              0.8888888888888888,
              "#fdca26"
             ],
             [
              1,
              "#f0f921"
             ]
            ],
            "type": "heatmapgl"
           }
          ],
          "histogram": [
           {
            "marker": {
             "colorbar": {
              "outlinewidth": 0,
              "ticks": ""
             }
            },
            "type": "histogram"
           }
          ],
          "histogram2d": [
           {
            "colorbar": {
             "outlinewidth": 0,
             "ticks": ""
            },
            "colorscale": [
             [
              0,
              "#0d0887"
             ],
             [
              0.1111111111111111,
              "#46039f"
             ],
             [
              0.2222222222222222,
              "#7201a8"
             ],
             [
              0.3333333333333333,
              "#9c179e"
             ],
             [
              0.4444444444444444,
              "#bd3786"
             ],
             [
              0.5555555555555556,
              "#d8576b"
             ],
             [
              0.6666666666666666,
              "#ed7953"
             ],
             [
              0.7777777777777778,
              "#fb9f3a"
             ],
             [
              0.8888888888888888,
              "#fdca26"
             ],
             [
              1,
              "#f0f921"
             ]
            ],
            "type": "histogram2d"
           }
          ],
          "histogram2dcontour": [
           {
            "colorbar": {
             "outlinewidth": 0,
             "ticks": ""
            },
            "colorscale": [
             [
              0,
              "#0d0887"
             ],
             [
              0.1111111111111111,
              "#46039f"
             ],
             [
              0.2222222222222222,
              "#7201a8"
             ],
             [
              0.3333333333333333,
              "#9c179e"
             ],
             [
              0.4444444444444444,
              "#bd3786"
             ],
             [
              0.5555555555555556,
              "#d8576b"
             ],
             [
              0.6666666666666666,
              "#ed7953"
             ],
             [
              0.7777777777777778,
              "#fb9f3a"
             ],
             [
              0.8888888888888888,
              "#fdca26"
             ],
             [
              1,
              "#f0f921"
             ]
            ],
            "type": "histogram2dcontour"
           }
          ],
          "mesh3d": [
           {
            "colorbar": {
             "outlinewidth": 0,
             "ticks": ""
            },
            "type": "mesh3d"
           }
          ],
          "parcoords": [
           {
            "line": {
             "colorbar": {
              "outlinewidth": 0,
              "ticks": ""
             }
            },
            "type": "parcoords"
           }
          ],
          "pie": [
           {
            "automargin": true,
            "type": "pie"
           }
          ],
          "scatter": [
           {
            "marker": {
             "colorbar": {
              "outlinewidth": 0,
              "ticks": ""
             }
            },
            "type": "scatter"
           }
          ],
          "scatter3d": [
           {
            "line": {
             "colorbar": {
              "outlinewidth": 0,
              "ticks": ""
             }
            },
            "marker": {
             "colorbar": {
              "outlinewidth": 0,
              "ticks": ""
             }
            },
            "type": "scatter3d"
           }
          ],
          "scattercarpet": [
           {
            "marker": {
             "colorbar": {
              "outlinewidth": 0,
              "ticks": ""
             }
            },
            "type": "scattercarpet"
           }
          ],
          "scattergeo": [
           {
            "marker": {
             "colorbar": {
              "outlinewidth": 0,
              "ticks": ""
             }
            },
            "type": "scattergeo"
           }
          ],
          "scattergl": [
           {
            "marker": {
             "colorbar": {
              "outlinewidth": 0,
              "ticks": ""
             }
            },
            "type": "scattergl"
           }
          ],
          "scattermapbox": [
           {
            "marker": {
             "colorbar": {
              "outlinewidth": 0,
              "ticks": ""
             }
            },
            "type": "scattermapbox"
           }
          ],
          "scatterpolar": [
           {
            "marker": {
             "colorbar": {
              "outlinewidth": 0,
              "ticks": ""
             }
            },
            "type": "scatterpolar"
           }
          ],
          "scatterpolargl": [
           {
            "marker": {
             "colorbar": {
              "outlinewidth": 0,
              "ticks": ""
             }
            },
            "type": "scatterpolargl"
           }
          ],
          "scatterternary": [
           {
            "marker": {
             "colorbar": {
              "outlinewidth": 0,
              "ticks": ""
             }
            },
            "type": "scatterternary"
           }
          ],
          "surface": [
           {
            "colorbar": {
             "outlinewidth": 0,
             "ticks": ""
            },
            "colorscale": [
             [
              0,
              "#0d0887"
             ],
             [
              0.1111111111111111,
              "#46039f"
             ],
             [
              0.2222222222222222,
              "#7201a8"
             ],
             [
              0.3333333333333333,
              "#9c179e"
             ],
             [
              0.4444444444444444,
              "#bd3786"
             ],
             [
              0.5555555555555556,
              "#d8576b"
             ],
             [
              0.6666666666666666,
              "#ed7953"
             ],
             [
              0.7777777777777778,
              "#fb9f3a"
             ],
             [
              0.8888888888888888,
              "#fdca26"
             ],
             [
              1,
              "#f0f921"
             ]
            ],
            "type": "surface"
           }
          ],
          "table": [
           {
            "cells": {
             "fill": {
              "color": "#EBF0F8"
             },
             "line": {
              "color": "white"
             }
            },
            "header": {
             "fill": {
              "color": "#C8D4E3"
             },
             "line": {
              "color": "white"
             }
            },
            "type": "table"
           }
          ]
         },
         "layout": {
          "annotationdefaults": {
           "arrowcolor": "#2a3f5f",
           "arrowhead": 0,
           "arrowwidth": 1
          },
          "autotypenumbers": "strict",
          "coloraxis": {
           "colorbar": {
            "outlinewidth": 0,
            "ticks": ""
           }
          },
          "colorscale": {
           "diverging": [
            [
             0,
             "#8e0152"
            ],
            [
             0.1,
             "#c51b7d"
            ],
            [
             0.2,
             "#de77ae"
            ],
            [
             0.3,
             "#f1b6da"
            ],
            [
             0.4,
             "#fde0ef"
            ],
            [
             0.5,
             "#f7f7f7"
            ],
            [
             0.6,
             "#e6f5d0"
            ],
            [
             0.7,
             "#b8e186"
            ],
            [
             0.8,
             "#7fbc41"
            ],
            [
             0.9,
             "#4d9221"
            ],
            [
             1,
             "#276419"
            ]
           ],
           "sequential": [
            [
             0,
             "#0d0887"
            ],
            [
             0.1111111111111111,
             "#46039f"
            ],
            [
             0.2222222222222222,
             "#7201a8"
            ],
            [
             0.3333333333333333,
             "#9c179e"
            ],
            [
             0.4444444444444444,
             "#bd3786"
            ],
            [
             0.5555555555555556,
             "#d8576b"
            ],
            [
             0.6666666666666666,
             "#ed7953"
            ],
            [
             0.7777777777777778,
             "#fb9f3a"
            ],
            [
             0.8888888888888888,
             "#fdca26"
            ],
            [
             1,
             "#f0f921"
            ]
           ],
           "sequentialminus": [
            [
             0,
             "#0d0887"
            ],
            [
             0.1111111111111111,
             "#46039f"
            ],
            [
             0.2222222222222222,
             "#7201a8"
            ],
            [
             0.3333333333333333,
             "#9c179e"
            ],
            [
             0.4444444444444444,
             "#bd3786"
            ],
            [
             0.5555555555555556,
             "#d8576b"
            ],
            [
             0.6666666666666666,
             "#ed7953"
            ],
            [
             0.7777777777777778,
             "#fb9f3a"
            ],
            [
             0.8888888888888888,
             "#fdca26"
            ],
            [
             1,
             "#f0f921"
            ]
           ]
          },
          "colorway": [
           "#636efa",
           "#EF553B",
           "#00cc96",
           "#ab63fa",
           "#FFA15A",
           "#19d3f3",
           "#FF6692",
           "#B6E880",
           "#FF97FF",
           "#FECB52"
          ],
          "font": {
           "color": "#2a3f5f"
          },
          "geo": {
           "bgcolor": "white",
           "lakecolor": "white",
           "landcolor": "#E5ECF6",
           "showlakes": true,
           "showland": true,
           "subunitcolor": "white"
          },
          "hoverlabel": {
           "align": "left"
          },
          "hovermode": "closest",
          "mapbox": {
           "style": "light"
          },
          "paper_bgcolor": "white",
          "plot_bgcolor": "#E5ECF6",
          "polar": {
           "angularaxis": {
            "gridcolor": "white",
            "linecolor": "white",
            "ticks": ""
           },
           "bgcolor": "#E5ECF6",
           "radialaxis": {
            "gridcolor": "white",
            "linecolor": "white",
            "ticks": ""
           }
          },
          "scene": {
           "xaxis": {
            "backgroundcolor": "#E5ECF6",
            "gridcolor": "white",
            "gridwidth": 2,
            "linecolor": "white",
            "showbackground": true,
            "ticks": "",
            "zerolinecolor": "white"
           },
           "yaxis": {
            "backgroundcolor": "#E5ECF6",
            "gridcolor": "white",
            "gridwidth": 2,
            "linecolor": "white",
            "showbackground": true,
            "ticks": "",
            "zerolinecolor": "white"
           },
           "zaxis": {
            "backgroundcolor": "#E5ECF6",
            "gridcolor": "white",
            "gridwidth": 2,
            "linecolor": "white",
            "showbackground": true,
            "ticks": "",
            "zerolinecolor": "white"
           }
          },
          "shapedefaults": {
           "line": {
            "color": "#2a3f5f"
           }
          },
          "ternary": {
           "aaxis": {
            "gridcolor": "white",
            "linecolor": "white",
            "ticks": ""
           },
           "baxis": {
            "gridcolor": "white",
            "linecolor": "white",
            "ticks": ""
           },
           "bgcolor": "#E5ECF6",
           "caxis": {
            "gridcolor": "white",
            "linecolor": "white",
            "ticks": ""
           }
          },
          "title": {
           "x": 0.05
          },
          "xaxis": {
           "automargin": true,
           "gridcolor": "white",
           "linecolor": "white",
           "ticks": "",
           "title": {
            "standoff": 15
           },
           "zerolinecolor": "white",
           "zerolinewidth": 2
          },
          "yaxis": {
           "automargin": true,
           "gridcolor": "white",
           "linecolor": "white",
           "ticks": "",
           "title": {
            "standoff": 15
           },
           "zerolinecolor": "white",
           "zerolinewidth": 2
          }
         }
        },
        "title": {
         "text": "GME Hourly Price vs. Mentions"
        },
        "xaxis": {
         "anchor": "y",
         "domain": [
          0,
          0.94
         ],
         "gridcolor": "rgb(144, 145, 142)",
         "title": {
          "text": "Hour"
         }
        },
        "yaxis": {
         "anchor": "x",
         "domain": [
          0,
          1
         ],
         "gridcolor": "rgb(144, 145, 142)",
         "title": {
          "text": "Price"
         }
        },
        "yaxis2": {
         "anchor": "x",
         "overlaying": "y",
         "side": "right",
         "title": {
          "text": "Mentions"
         }
        }
       }
      },
      "text/html": [
       "<div>                            <div id=\"e3a7a031-dc2f-457d-b06d-e05f357ec9dc\" class=\"plotly-graph-div\" style=\"height:525px; width:100%;\"></div>            <script type=\"text/javascript\">                require([\"plotly\"], function(Plotly) {                    window.PLOTLYENV=window.PLOTLYENV || {};                                    if (document.getElementById(\"e3a7a031-dc2f-457d-b06d-e05f357ec9dc\")) {                    Plotly.newPlot(                        \"e3a7a031-dc2f-457d-b06d-e05f357ec9dc\",                        [{\"line\": {\"color\": \"rgb(255, 196, 0)\", \"width\": 3}, \"name\": \"Price\", \"type\": \"scatter\", \"x\": [\"2021-01-25T05:00:00\", \"2021-01-25T06:00:00\", \"2021-01-25T07:00:00\", \"2021-01-25T08:00:00\", \"2021-01-25T09:00:00\", \"2021-01-25T10:00:00\", \"2021-01-25T11:00:00\", \"2021-01-25T12:00:00\", \"2021-01-25T13:00:00\", \"2021-01-25T14:00:00\", \"2021-01-25T15:00:00\", \"2021-01-25T16:00:00\", \"2021-01-25T17:00:00\", \"2021-01-25T18:00:00\", \"2021-01-25T19:00:00\", \"2021-01-25T20:00:00\", \"2021-01-26T05:00:00\", \"2021-01-26T06:00:00\", \"2021-01-26T07:00:00\", \"2021-01-26T08:00:00\", \"2021-01-26T09:00:00\", \"2021-01-26T10:00:00\", \"2021-01-26T11:00:00\", \"2021-01-26T12:00:00\", \"2021-01-26T13:00:00\", \"2021-01-26T14:00:00\", \"2021-01-26T15:00:00\", \"2021-01-26T16:00:00\", \"2021-01-26T17:00:00\", \"2021-01-26T18:00:00\", \"2021-01-26T19:00:00\", \"2021-01-26T20:00:00\", \"2021-01-27T05:00:00\", \"2021-01-27T06:00:00\", \"2021-01-27T07:00:00\", \"2021-01-27T08:00:00\", \"2021-01-27T09:00:00\", \"2021-01-27T10:00:00\", \"2021-01-27T11:00:00\", \"2021-01-27T12:00:00\", \"2021-01-27T13:00:00\", \"2021-01-27T14:00:00\", \"2021-01-27T15:00:00\", \"2021-01-27T16:00:00\", \"2021-01-27T17:00:00\", \"2021-01-27T18:00:00\", \"2021-01-27T19:00:00\", \"2021-01-27T20:00:00\", \"2021-01-28T05:00:00\", \"2021-01-28T06:00:00\", \"2021-01-28T07:00:00\", \"2021-01-28T08:00:00\", \"2021-01-28T09:00:00\", \"2021-01-28T10:00:00\", \"2021-01-28T11:00:00\", \"2021-01-28T12:00:00\", \"2021-01-28T13:00:00\", \"2021-01-28T14:00:00\", \"2021-01-28T15:00:00\", \"2021-01-28T16:00:00\", \"2021-01-28T17:00:00\", \"2021-01-28T18:00:00\", \"2021-01-28T19:00:00\", \"2021-01-28T20:00:00\"], \"xaxis\": \"x\", \"y\": [105.39, 96.77, 94.43, 91.65, 98.05, 89.76, 117.07, 99.56, 69.42, 76.7499, 77.0001, 76.765, 78.5, 81.71, 82.8801, 88.87, 94.0, 88.55, 88.5, 91.51, 89.25, 87.57, 87.6101, 87.7999, 105.5556, 114.5499, 131.845, 145.965, 224.45, 208.14, 225.0, 209.51, 299.19, 351.0, 197.89, 230.0, 231.5, 310.69, 371.82, 312.61, 342.172, 326.59, 319.6006, 345.0, 327.26, 319.85, 248.8, 292.0, 335.0, 456.0, 445.0, 459.0, 341.0, 468.49, 264.01, 255.7614, 239.6656, 241.5301, 247.17, 197.44, 257.0, 281.85, 347.01, 311.99], \"yaxis\": \"y\"}, {\"line\": {\"color\": \"rgb(73, 157, 222)\", \"width\": 3}, \"name\": \"Mentions\", \"type\": \"scatter\", \"x\": [\"2021-01-25T01:00:00\", \"2021-01-25T02:00:00\", \"2021-01-25T03:00:00\", \"2021-01-25T04:00:00\", \"2021-01-25T05:00:00\", \"2021-01-25T06:00:00\", \"2021-01-25T07:00:00\", \"2021-01-25T08:00:00\", \"2021-01-25T09:00:00\", \"2021-01-25T10:00:00\", \"2021-01-25T11:00:00\", \"2021-01-25T12:00:00\", \"2021-01-25T13:00:00\", \"2021-01-25T14:00:00\", \"2021-01-25T15:00:00\", \"2021-01-25T16:00:00\", \"2021-01-25T17:00:00\", \"2021-01-25T18:00:00\", \"2021-01-25T19:00:00\", \"2021-01-25T20:00:00\", \"2021-01-25T21:00:00\", \"2021-01-25T22:00:00\", \"2021-01-25T23:00:00\", \"2021-01-26T00:00:00\", \"2021-01-26T01:00:00\", \"2021-01-26T02:00:00\", \"2021-01-26T03:00:00\", \"2021-01-26T04:00:00\", \"2021-01-26T05:00:00\", \"2021-01-26T06:00:00\", \"2021-01-26T07:00:00\", \"2021-01-26T08:00:00\", \"2021-01-26T09:00:00\", \"2021-01-26T10:00:00\", \"2021-01-26T11:00:00\", \"2021-01-27T09:00:00\", \"2021-01-27T10:00:00\", \"2021-01-27T11:00:00\", \"2021-01-27T12:00:00\", \"2021-01-27T13:00:00\", \"2021-01-27T14:00:00\", \"2021-01-27T15:00:00\", \"2021-01-27T16:00:00\", \"2021-01-27T17:00:00\", \"2021-01-27T18:00:00\", \"2021-01-27T19:00:00\", \"2021-01-27T20:00:00\", \"2021-01-27T21:00:00\", \"2021-01-27T22:00:00\", \"2021-01-27T23:00:00\", \"2021-01-28T00:00:00\", \"2021-01-28T01:00:00\", \"2021-01-28T02:00:00\", \"2021-01-28T03:00:00\", \"2021-01-28T04:00:00\", \"2021-01-28T05:00:00\", \"2021-01-28T06:00:00\", \"2021-01-28T07:00:00\", \"2021-01-28T08:00:00\", \"2021-01-28T09:00:00\", \"2021-01-28T10:00:00\", \"2021-01-28T11:00:00\", \"2021-01-28T12:00:00\", \"2021-01-28T13:00:00\", \"2021-01-28T14:00:00\", \"2021-01-28T15:00:00\", \"2021-01-28T16:00:00\", \"2021-01-28T17:00:00\", \"2021-01-28T18:00:00\", \"2021-01-28T19:00:00\", \"2021-01-28T20:00:00\", \"2021-01-28T21:00:00\", \"2021-01-28T22:00:00\", \"2021-01-28T23:00:00\", \"2021-01-29T00:00:00\", \"2021-01-29T01:00:00\", \"2021-01-29T02:00:00\", \"2021-01-29T03:00:00\", \"2021-01-29T04:00:00\", \"2021-01-29T05:00:00\", \"2021-01-29T06:00:00\", \"2021-01-29T07:00:00\", \"2021-01-29T08:00:00\", \"2021-01-29T09:00:00\", \"2021-01-29T10:00:00\", \"2021-01-29T11:00:00\", \"2021-01-29T12:00:00\", \"2021-01-29T13:00:00\", \"2021-01-29T14:00:00\", \"2021-01-29T15:00:00\", \"2021-01-29T16:00:00\", \"2021-01-29T17:00:00\", \"2021-01-29T18:00:00\", \"2021-01-29T19:00:00\", \"2021-01-29T20:00:00\", \"2021-01-29T21:00:00\", \"2021-01-29T22:00:00\", \"2021-01-29T23:00:00\"], \"xaxis\": \"x\", \"y\": [19, 26, 20, 116, 97, 48, 59, 98, 148, 294, 392, 373, 220, 159, 160, 143, 130, 90, 100, 113, 103, 103, 63, 83, 65, 49, 51, 46, 48, 61, 80, 76, 155, 229, 79, 44, 1050, 1176, 1299, 898, 1112, 1259, 504, 308, 382, 403, 906, 705, 614, 462, 365, 318, 291, 317, 276, 426, 623, 638, 1821, 2058, 2054, 2080, 1572, 967, 1386, 1267, 997, 770, 737, 680, 606, 531, 560, 456, 426, 330, 322, 273, 333, 316, 315, 400, 475, 881, 1006, 726, 677, 705, 795, 635, 525, 425, 374, 335, 370, 410, 309, 311], \"yaxis\": \"y2\"}],                        {\"plot_bgcolor\": \"rgb(84, 85, 87)\", \"shapes\": [{\"line\": {\"color\": \"red\"}, \"type\": \"circle\", \"x0\": \"2021-01-26 09:00:00\", \"x1\": \"2021-01-26 11:00:00\", \"xref\": \"x\", \"y0\": 115, \"y1\": 105, \"yref\": \"y\"}, {\"line\": {\"color\": \"red\"}, \"type\": \"circle\", \"x0\": \"2021-01-27 19:00:00\", \"x1\": \"2021-01-27 21:00:00\", \"xref\": \"x\", \"y0\": 250, \"y1\": 230, \"yref\": \"y\"}, {\"line\": {\"color\": \"red\"}, \"type\": \"circle\", \"x0\": \"2021-01-29 09:00:00\", \"x1\": \"2021-01-29 11:00:00\", \"xref\": \"x\", \"y0\": 250, \"y1\": 270, \"yref\": \"y\"}], \"template\": {\"data\": {\"bar\": [{\"error_x\": {\"color\": \"#2a3f5f\"}, \"error_y\": {\"color\": \"#2a3f5f\"}, \"marker\": {\"line\": {\"color\": \"#E5ECF6\", \"width\": 0.5}}, \"type\": \"bar\"}], \"barpolar\": [{\"marker\": {\"line\": {\"color\": \"#E5ECF6\", \"width\": 0.5}}, \"type\": \"barpolar\"}], \"carpet\": [{\"aaxis\": {\"endlinecolor\": \"#2a3f5f\", \"gridcolor\": \"white\", \"linecolor\": \"white\", \"minorgridcolor\": \"white\", \"startlinecolor\": \"#2a3f5f\"}, \"baxis\": {\"endlinecolor\": \"#2a3f5f\", \"gridcolor\": \"white\", \"linecolor\": \"white\", \"minorgridcolor\": \"white\", \"startlinecolor\": \"#2a3f5f\"}, \"type\": \"carpet\"}], \"choropleth\": [{\"colorbar\": {\"outlinewidth\": 0, \"ticks\": \"\"}, \"type\": \"choropleth\"}], \"contour\": [{\"colorbar\": {\"outlinewidth\": 0, \"ticks\": \"\"}, \"colorscale\": [[0.0, \"#0d0887\"], [0.1111111111111111, \"#46039f\"], [0.2222222222222222, \"#7201a8\"], [0.3333333333333333, \"#9c179e\"], [0.4444444444444444, \"#bd3786\"], [0.5555555555555556, \"#d8576b\"], [0.6666666666666666, \"#ed7953\"], [0.7777777777777778, \"#fb9f3a\"], [0.8888888888888888, \"#fdca26\"], [1.0, \"#f0f921\"]], \"type\": \"contour\"}], \"contourcarpet\": [{\"colorbar\": {\"outlinewidth\": 0, \"ticks\": \"\"}, \"type\": \"contourcarpet\"}], \"heatmap\": [{\"colorbar\": {\"outlinewidth\": 0, \"ticks\": \"\"}, \"colorscale\": [[0.0, \"#0d0887\"], [0.1111111111111111, \"#46039f\"], [0.2222222222222222, \"#7201a8\"], [0.3333333333333333, \"#9c179e\"], [0.4444444444444444, \"#bd3786\"], [0.5555555555555556, \"#d8576b\"], [0.6666666666666666, \"#ed7953\"], [0.7777777777777778, \"#fb9f3a\"], [0.8888888888888888, \"#fdca26\"], [1.0, \"#f0f921\"]], \"type\": \"heatmap\"}], \"heatmapgl\": [{\"colorbar\": {\"outlinewidth\": 0, \"ticks\": \"\"}, \"colorscale\": [[0.0, \"#0d0887\"], [0.1111111111111111, \"#46039f\"], [0.2222222222222222, \"#7201a8\"], [0.3333333333333333, \"#9c179e\"], [0.4444444444444444, \"#bd3786\"], [0.5555555555555556, \"#d8576b\"], [0.6666666666666666, \"#ed7953\"], [0.7777777777777778, \"#fb9f3a\"], [0.8888888888888888, \"#fdca26\"], [1.0, \"#f0f921\"]], \"type\": \"heatmapgl\"}], \"histogram\": [{\"marker\": {\"colorbar\": {\"outlinewidth\": 0, \"ticks\": \"\"}}, \"type\": \"histogram\"}], \"histogram2d\": [{\"colorbar\": {\"outlinewidth\": 0, \"ticks\": \"\"}, \"colorscale\": [[0.0, \"#0d0887\"], [0.1111111111111111, \"#46039f\"], [0.2222222222222222, \"#7201a8\"], [0.3333333333333333, \"#9c179e\"], [0.4444444444444444, \"#bd3786\"], [0.5555555555555556, \"#d8576b\"], [0.6666666666666666, \"#ed7953\"], [0.7777777777777778, \"#fb9f3a\"], [0.8888888888888888, \"#fdca26\"], [1.0, \"#f0f921\"]], \"type\": \"histogram2d\"}], \"histogram2dcontour\": [{\"colorbar\": {\"outlinewidth\": 0, \"ticks\": \"\"}, \"colorscale\": [[0.0, \"#0d0887\"], [0.1111111111111111, \"#46039f\"], [0.2222222222222222, \"#7201a8\"], [0.3333333333333333, \"#9c179e\"], [0.4444444444444444, \"#bd3786\"], [0.5555555555555556, \"#d8576b\"], [0.6666666666666666, \"#ed7953\"], [0.7777777777777778, \"#fb9f3a\"], [0.8888888888888888, \"#fdca26\"], [1.0, \"#f0f921\"]], \"type\": \"histogram2dcontour\"}], \"mesh3d\": [{\"colorbar\": {\"outlinewidth\": 0, \"ticks\": \"\"}, \"type\": \"mesh3d\"}], \"parcoords\": [{\"line\": {\"colorbar\": {\"outlinewidth\": 0, \"ticks\": \"\"}}, \"type\": \"parcoords\"}], \"pie\": [{\"automargin\": true, \"type\": \"pie\"}], \"scatter\": [{\"marker\": {\"colorbar\": {\"outlinewidth\": 0, \"ticks\": \"\"}}, \"type\": \"scatter\"}], \"scatter3d\": [{\"line\": {\"colorbar\": {\"outlinewidth\": 0, \"ticks\": \"\"}}, \"marker\": {\"colorbar\": {\"outlinewidth\": 0, \"ticks\": \"\"}}, \"type\": \"scatter3d\"}], \"scattercarpet\": [{\"marker\": {\"colorbar\": {\"outlinewidth\": 0, \"ticks\": \"\"}}, \"type\": \"scattercarpet\"}], \"scattergeo\": [{\"marker\": {\"colorbar\": {\"outlinewidth\": 0, \"ticks\": \"\"}}, \"type\": \"scattergeo\"}], \"scattergl\": [{\"marker\": {\"colorbar\": {\"outlinewidth\": 0, \"ticks\": \"\"}}, \"type\": \"scattergl\"}], \"scattermapbox\": [{\"marker\": {\"colorbar\": {\"outlinewidth\": 0, \"ticks\": \"\"}}, \"type\": \"scattermapbox\"}], \"scatterpolar\": [{\"marker\": {\"colorbar\": {\"outlinewidth\": 0, \"ticks\": \"\"}}, \"type\": \"scatterpolar\"}], \"scatterpolargl\": [{\"marker\": {\"colorbar\": {\"outlinewidth\": 0, \"ticks\": \"\"}}, \"type\": \"scatterpolargl\"}], \"scatterternary\": [{\"marker\": {\"colorbar\": {\"outlinewidth\": 0, \"ticks\": \"\"}}, \"type\": \"scatterternary\"}], \"surface\": [{\"colorbar\": {\"outlinewidth\": 0, \"ticks\": \"\"}, \"colorscale\": [[0.0, \"#0d0887\"], [0.1111111111111111, \"#46039f\"], [0.2222222222222222, \"#7201a8\"], [0.3333333333333333, \"#9c179e\"], [0.4444444444444444, \"#bd3786\"], [0.5555555555555556, \"#d8576b\"], [0.6666666666666666, \"#ed7953\"], [0.7777777777777778, \"#fb9f3a\"], [0.8888888888888888, \"#fdca26\"], [1.0, \"#f0f921\"]], \"type\": \"surface\"}], \"table\": [{\"cells\": {\"fill\": {\"color\": \"#EBF0F8\"}, \"line\": {\"color\": \"white\"}}, \"header\": {\"fill\": {\"color\": \"#C8D4E3\"}, \"line\": {\"color\": \"white\"}}, \"type\": \"table\"}]}, \"layout\": {\"annotationdefaults\": {\"arrowcolor\": \"#2a3f5f\", \"arrowhead\": 0, \"arrowwidth\": 1}, \"autotypenumbers\": \"strict\", \"coloraxis\": {\"colorbar\": {\"outlinewidth\": 0, \"ticks\": \"\"}}, \"colorscale\": {\"diverging\": [[0, \"#8e0152\"], [0.1, \"#c51b7d\"], [0.2, \"#de77ae\"], [0.3, \"#f1b6da\"], [0.4, \"#fde0ef\"], [0.5, \"#f7f7f7\"], [0.6, \"#e6f5d0\"], [0.7, \"#b8e186\"], [0.8, \"#7fbc41\"], [0.9, \"#4d9221\"], [1, \"#276419\"]], \"sequential\": [[0.0, \"#0d0887\"], [0.1111111111111111, \"#46039f\"], [0.2222222222222222, \"#7201a8\"], [0.3333333333333333, \"#9c179e\"], [0.4444444444444444, \"#bd3786\"], [0.5555555555555556, \"#d8576b\"], [0.6666666666666666, \"#ed7953\"], [0.7777777777777778, \"#fb9f3a\"], [0.8888888888888888, \"#fdca26\"], [1.0, \"#f0f921\"]], \"sequentialminus\": [[0.0, \"#0d0887\"], [0.1111111111111111, \"#46039f\"], [0.2222222222222222, \"#7201a8\"], [0.3333333333333333, \"#9c179e\"], [0.4444444444444444, \"#bd3786\"], [0.5555555555555556, \"#d8576b\"], [0.6666666666666666, \"#ed7953\"], [0.7777777777777778, \"#fb9f3a\"], [0.8888888888888888, \"#fdca26\"], [1.0, \"#f0f921\"]]}, \"colorway\": [\"#636efa\", \"#EF553B\", \"#00cc96\", \"#ab63fa\", \"#FFA15A\", \"#19d3f3\", \"#FF6692\", \"#B6E880\", \"#FF97FF\", \"#FECB52\"], \"font\": {\"color\": \"#2a3f5f\"}, \"geo\": {\"bgcolor\": \"white\", \"lakecolor\": \"white\", \"landcolor\": \"#E5ECF6\", \"showlakes\": true, \"showland\": true, \"subunitcolor\": \"white\"}, \"hoverlabel\": {\"align\": \"left\"}, \"hovermode\": \"closest\", \"mapbox\": {\"style\": \"light\"}, \"paper_bgcolor\": \"white\", \"plot_bgcolor\": \"#E5ECF6\", \"polar\": {\"angularaxis\": {\"gridcolor\": \"white\", \"linecolor\": \"white\", \"ticks\": \"\"}, \"bgcolor\": \"#E5ECF6\", \"radialaxis\": {\"gridcolor\": \"white\", \"linecolor\": \"white\", \"ticks\": \"\"}}, \"scene\": {\"xaxis\": {\"backgroundcolor\": \"#E5ECF6\", \"gridcolor\": \"white\", \"gridwidth\": 2, \"linecolor\": \"white\", \"showbackground\": true, \"ticks\": \"\", \"zerolinecolor\": \"white\"}, \"yaxis\": {\"backgroundcolor\": \"#E5ECF6\", \"gridcolor\": \"white\", \"gridwidth\": 2, \"linecolor\": \"white\", \"showbackground\": true, \"ticks\": \"\", \"zerolinecolor\": \"white\"}, \"zaxis\": {\"backgroundcolor\": \"#E5ECF6\", \"gridcolor\": \"white\", \"gridwidth\": 2, \"linecolor\": \"white\", \"showbackground\": true, \"ticks\": \"\", \"zerolinecolor\": \"white\"}}, \"shapedefaults\": {\"line\": {\"color\": \"#2a3f5f\"}}, \"ternary\": {\"aaxis\": {\"gridcolor\": \"white\", \"linecolor\": \"white\", \"ticks\": \"\"}, \"baxis\": {\"gridcolor\": \"white\", \"linecolor\": \"white\", \"ticks\": \"\"}, \"bgcolor\": \"#E5ECF6\", \"caxis\": {\"gridcolor\": \"white\", \"linecolor\": \"white\", \"ticks\": \"\"}}, \"title\": {\"x\": 0.05}, \"xaxis\": {\"automargin\": true, \"gridcolor\": \"white\", \"linecolor\": \"white\", \"ticks\": \"\", \"title\": {\"standoff\": 15}, \"zerolinecolor\": \"white\", \"zerolinewidth\": 2}, \"yaxis\": {\"automargin\": true, \"gridcolor\": \"white\", \"linecolor\": \"white\", \"ticks\": \"\", \"title\": {\"standoff\": 15}, \"zerolinecolor\": \"white\", \"zerolinewidth\": 2}}}, \"title\": {\"text\": \"GME Hourly Price vs. Mentions\"}, \"xaxis\": {\"anchor\": \"y\", \"domain\": [0.0, 0.94], \"gridcolor\": \"rgb(144, 145, 142)\", \"title\": {\"text\": \"Hour\"}}, \"yaxis\": {\"anchor\": \"x\", \"domain\": [0.0, 1.0], \"gridcolor\": \"rgb(144, 145, 142)\", \"title\": {\"text\": \"Price\"}}, \"yaxis2\": {\"anchor\": \"x\", \"overlaying\": \"y\", \"side\": \"right\", \"title\": {\"text\": \"Mentions\"}}},                        {\"responsive\": true}                    ).then(function(){\n",
       "                            \n",
       "var gd = document.getElementById('e3a7a031-dc2f-457d-b06d-e05f357ec9dc');\n",
       "var x = new MutationObserver(function (mutations, observer) {{\n",
       "        var display = window.getComputedStyle(gd).display;\n",
       "        if (!display || display === 'none') {{\n",
       "            console.log([gd, 'removed!']);\n",
       "            Plotly.purge(gd);\n",
       "            observer.disconnect();\n",
       "        }}\n",
       "}});\n",
       "\n",
       "// Listen for the removal of the full notebook cells\n",
       "var notebookContainer = gd.closest('#notebook-container');\n",
       "if (notebookContainer) {{\n",
       "    x.observe(notebookContainer, {childList: true});\n",
       "}}\n",
       "\n",
       "// Listen for the clearing of the current output cell\n",
       "var outputEl = gd.closest('.output');\n",
       "if (outputEl) {{\n",
       "    x.observe(outputEl, {childList: true});\n",
       "}}\n",
       "\n",
       "                        })                };                });            </script>        </div>"
      ]
     },
     "metadata": {},
     "output_type": "display_data"
    }
   ],
   "source": [
    "fig = make_subplots(specs=[[{\"secondary_y\": True}]])\n",
    "\n",
    "fig.add_trace(\n",
    "    go.Scatter(x=gme_hourly['date'], y=gme_hourly['4. close'],\n",
    "               name=\"Price\"),\n",
    "    secondary_y=False,)\n",
    "\n",
    "fig.add_trace(\n",
    "    go.Scatter( x=gme_hour['date'], y=gme_hour['count'], name= 'Mentions'),\n",
    "    secondary_y=True,)\n",
    "fig.update_layout(\n",
    "    title_text=\"GME Hourly Price vs. Mentions\")\n",
    "fig.update_xaxes(title_text=\"Hour\")\n",
    "fig.update_yaxes(title_text=\"Price\", secondary_y=False)\n",
    "fig.update_yaxes(title_text=\"Mentions\", secondary_y=True)\n",
    "\n",
    "fig.update_traces(line_color='rgb(255, 196, 0)', line = {'width':3}, secondary_y=False)\n",
    "fig.update_traces(line_color='rgb(73, 157, 222)', line = {'width':3}, secondary_y=True)\n",
    "fig.layout.plot_bgcolor='rgb(84, 85, 87)'\n",
    "fig.layout.yaxis.gridcolor='rgb(144, 145, 142)'\n",
    "fig.layout.yaxis.gridcolor='rgb(144, 145, 142)'\n",
    "fig.layout.xaxis.gridcolor='rgb(144, 145, 142)'\n",
    "\n",
    "fig.add_shape(type=\"circle\",\n",
    "    xref=\"x\", yref=\"y\",\n",
    "    x0='2021-01-26 09:00:00', y0=115, x1='2021-01-26 11:00:00', y1=105,\n",
    "    line_color=\"red\",\n",
    ")\n",
    "\n",
    "fig.add_shape(type=\"circle\",\n",
    "    xref=\"x\", yref=\"y\",\n",
    "    x0='2021-01-27 19:00:00', y0=250, x1='2021-01-27 21:00:00', y1=230,\n",
    "    line_color=\"red\",\n",
    ")\n",
    "\n",
    "fig.add_shape(type=\"circle\",\n",
    "    xref=\"x\", yref=\"y\",\n",
    "    x0='2021-01-29 09:00:00', y0=250, x1='2021-01-29 11:00:00', y1=270,\n",
    "    line_color=\"red\",\n",
    ")\n",
    "fig.show()\n",
    "# fig.write_html('GME Hourly Prive vs Mentions.html')\n",
    "# fig.write_image(\"GME Hourly Prive vs Mentions.png\")"
   ]
  },
  {
   "cell_type": "code",
   "execution_count": 18,
   "metadata": {
    "scrolled": false
   },
   "outputs": [],
   "source": [
    "### Run hypothesis test. ###\n",
    "### H0: The number of mentions of a stock on WSB in the first 1-1/2 hours of trading DOES NOT influence the stock growth ###\n",
    "### H1: The number of mentions of a stock on WSB in the first 1-1/2 hours of trading DOES influence the stock growth ###\n",
    "### Stock growth == open-close/open   of a trading day. ###\n",
    "gme_hour_full = wsb_full.groupby(['title','date_hour']).count().reset_index()\n",
    "gme_hour_full = gme_hour_full[(gme_hour_full['title'] == 'gme') & (gme_hour_full['date_hour'] > '2020-12-31 01:00:00')&\n",
    "                    (gme_hour_full['date_hour'] <= '2021-02-16 23:00:00')]\n",
    "gme_hour_full = gme_hour_full.drop(['Unnamed: 0','author', 'scores',\n",
    "                                     'comments', 'timestamp'], axis =1)\n",
    "gme_hour_full = gme_hour_full.rename(columns = {'title':'title','date_hour' : 'date', 'date': 'count'})\n",
    "\n",
    "\n",
    "left = gme_hourly_full.set_index('date')\n",
    "right = gme_hour_full.set_index('date')\n",
    "gmefull=left.join(right).reset_index()\n",
    "gmefull['count'] = gmefull['count'].fillna(0)\n",
    "gmefull['percent change'] = (gmefull['4. close'] - gmefull['1. open'])/gmefull['1. open']\n",
    "gmefull['time'] = gmefull['date'].apply(lambda x: datetime.time(x)).astype(str)\n",
    "gmefull['day'] = gmefull['date'].apply(lambda x: datetime.date(x)).astype(str)\n",
    "\n",
    "first_hours = gmefull[(gmefull['time'] == '08:00:00') | ((gmefull['time'] == '09:00:00'))]\n",
    "\n",
    "first_hours = first_hours.groupby('day').sum()\n",
    "first_hours = first_hours[['count']]\n",
    "\n",
    "\n",
    "growth = gmefull.groupby('day').sum()[['percent change']]\n",
    "\n",
    "growth_vs_hr = first_hours.join(growth)\n",
    "sorted_corr = growth_vs_hr.sort_values('count')"
   ]
  },
  {
   "cell_type": "code",
   "execution_count": 52,
   "metadata": {
    "scrolled": true
   },
   "outputs": [
    {
     "data": {
      "text/plain": [
       "count    472.000000\n",
       "mean       0.004323\n",
       "std        0.086254\n",
       "min       -0.437637\n",
       "25%       -0.018945\n",
       "50%        0.000000\n",
       "75%        0.015459\n",
       "max        0.535226\n",
       "Name: percent change, dtype: float64"
      ]
     },
     "execution_count": 52,
     "metadata": {},
     "output_type": "execute_result"
    }
   ],
   "source": [
    "### Details on Change of stock ###\n",
    "gmefull['percent change'].describe()"
   ]
  },
  {
   "cell_type": "code",
   "execution_count": 53,
   "metadata": {},
   "outputs": [
    {
     "data": {
      "text/plain": [
       "count    30.000000\n",
       "mean      0.068010\n",
       "std       0.334279\n",
       "min      -0.615414\n",
       "25%      -0.051929\n",
       "50%       0.032281\n",
       "75%       0.232600\n",
       "max       0.996509\n",
       "Name: percent change, dtype: float64"
      ]
     },
     "execution_count": 53,
     "metadata": {},
     "output_type": "execute_result"
    }
   ],
   "source": [
    "### Details on Change of the stock ###\n",
    "gmefull.groupby('day').sum().describe()['percent change']"
   ]
  },
  {
   "cell_type": "code",
   "execution_count": 54,
   "metadata": {
    "scrolled": true
   },
   "outputs": [
    {
     "data": {
      "application/vnd.plotly.v1+json": {
       "config": {
        "plotlyServerURL": "https://plot.ly"
       },
       "data": [
        {
         "alignmentgroup": "True",
         "hovertemplate": "Date=%{x}<br>percent change=%{y}<extra></extra>",
         "legendgroup": "",
         "marker": {
          "color": "rgb(73, 157, 222)",
          "line": {
           "width": 0
          }
         },
         "name": "",
         "offsetgroup": "",
         "orientation": "v",
         "showlegend": false,
         "textposition": "auto",
         "type": "bar",
         "x": [
          "2020-12-31T05:00:00",
          "2020-12-31T06:00:00",
          "2020-12-31T07:00:00",
          "2020-12-31T08:00:00",
          "2020-12-31T09:00:00",
          "2020-12-31T10:00:00",
          "2020-12-31T11:00:00",
          "2020-12-31T12:00:00",
          "2020-12-31T13:00:00",
          "2020-12-31T14:00:00",
          "2020-12-31T15:00:00",
          "2020-12-31T16:00:00",
          "2020-12-31T17:00:00",
          "2020-12-31T18:00:00",
          "2020-12-31T19:00:00",
          "2020-12-31T20:00:00",
          "2021-01-04T05:00:00",
          "2021-01-04T07:00:00",
          "2021-01-04T08:00:00",
          "2021-01-04T09:00:00",
          "2021-01-04T10:00:00",
          "2021-01-04T11:00:00",
          "2021-01-04T12:00:00",
          "2021-01-04T13:00:00",
          "2021-01-04T14:00:00",
          "2021-01-04T15:00:00",
          "2021-01-04T16:00:00",
          "2021-01-04T17:00:00",
          "2021-01-04T18:00:00",
          "2021-01-04T19:00:00",
          "2021-01-04T20:00:00",
          "2021-01-05T05:00:00",
          "2021-01-05T07:00:00",
          "2021-01-05T08:00:00",
          "2021-01-05T09:00:00",
          "2021-01-05T10:00:00",
          "2021-01-05T11:00:00",
          "2021-01-05T12:00:00",
          "2021-01-05T13:00:00",
          "2021-01-05T14:00:00",
          "2021-01-05T15:00:00",
          "2021-01-05T16:00:00",
          "2021-01-05T17:00:00",
          "2021-01-05T18:00:00",
          "2021-01-05T19:00:00",
          "2021-01-05T20:00:00",
          "2021-01-06T05:00:00",
          "2021-01-06T06:00:00",
          "2021-01-06T08:00:00",
          "2021-01-06T09:00:00",
          "2021-01-06T10:00:00",
          "2021-01-06T11:00:00",
          "2021-01-06T12:00:00",
          "2021-01-06T13:00:00",
          "2021-01-06T14:00:00",
          "2021-01-06T15:00:00",
          "2021-01-06T16:00:00",
          "2021-01-06T17:00:00",
          "2021-01-06T18:00:00",
          "2021-01-06T19:00:00",
          "2021-01-06T20:00:00",
          "2021-01-07T06:00:00",
          "2021-01-07T07:00:00",
          "2021-01-07T08:00:00",
          "2021-01-07T09:00:00",
          "2021-01-07T10:00:00",
          "2021-01-07T11:00:00",
          "2021-01-07T12:00:00",
          "2021-01-07T13:00:00",
          "2021-01-07T14:00:00",
          "2021-01-07T15:00:00",
          "2021-01-07T16:00:00",
          "2021-01-07T17:00:00",
          "2021-01-07T18:00:00",
          "2021-01-07T19:00:00",
          "2021-01-07T20:00:00",
          "2021-01-08T06:00:00",
          "2021-01-08T08:00:00",
          "2021-01-08T09:00:00",
          "2021-01-08T10:00:00",
          "2021-01-08T11:00:00",
          "2021-01-08T12:00:00",
          "2021-01-08T13:00:00",
          "2021-01-08T14:00:00",
          "2021-01-08T15:00:00",
          "2021-01-08T16:00:00",
          "2021-01-08T17:00:00",
          "2021-01-08T18:00:00",
          "2021-01-08T19:00:00",
          "2021-01-08T20:00:00",
          "2021-01-11T05:00:00",
          "2021-01-11T06:00:00",
          "2021-01-11T07:00:00",
          "2021-01-11T08:00:00",
          "2021-01-11T09:00:00",
          "2021-01-11T10:00:00",
          "2021-01-11T11:00:00",
          "2021-01-11T12:00:00",
          "2021-01-11T13:00:00",
          "2021-01-11T14:00:00",
          "2021-01-11T15:00:00",
          "2021-01-11T16:00:00",
          "2021-01-11T17:00:00",
          "2021-01-11T18:00:00",
          "2021-01-11T19:00:00",
          "2021-01-11T20:00:00",
          "2021-01-12T05:00:00",
          "2021-01-12T06:00:00",
          "2021-01-12T07:00:00",
          "2021-01-12T08:00:00",
          "2021-01-12T09:00:00",
          "2021-01-12T10:00:00",
          "2021-01-12T11:00:00",
          "2021-01-12T12:00:00",
          "2021-01-12T13:00:00",
          "2021-01-12T14:00:00",
          "2021-01-12T15:00:00",
          "2021-01-12T16:00:00",
          "2021-01-12T17:00:00",
          "2021-01-12T18:00:00",
          "2021-01-12T19:00:00",
          "2021-01-12T20:00:00",
          "2021-01-13T05:00:00",
          "2021-01-13T07:00:00",
          "2021-01-13T08:00:00",
          "2021-01-13T09:00:00",
          "2021-01-13T10:00:00",
          "2021-01-13T11:00:00",
          "2021-01-13T12:00:00",
          "2021-01-13T13:00:00",
          "2021-01-13T14:00:00",
          "2021-01-13T15:00:00",
          "2021-01-13T16:00:00",
          "2021-01-13T17:00:00",
          "2021-01-13T18:00:00",
          "2021-01-13T19:00:00",
          "2021-01-13T20:00:00",
          "2021-01-14T05:00:00",
          "2021-01-14T06:00:00",
          "2021-01-14T07:00:00",
          "2021-01-14T08:00:00",
          "2021-01-14T09:00:00",
          "2021-01-14T10:00:00",
          "2021-01-14T11:00:00",
          "2021-01-14T12:00:00",
          "2021-01-14T13:00:00",
          "2021-01-14T14:00:00",
          "2021-01-14T15:00:00",
          "2021-01-14T16:00:00",
          "2021-01-14T17:00:00",
          "2021-01-14T18:00:00",
          "2021-01-14T19:00:00",
          "2021-01-14T20:00:00",
          "2021-01-15T05:00:00",
          "2021-01-15T06:00:00",
          "2021-01-15T07:00:00",
          "2021-01-15T08:00:00",
          "2021-01-15T09:00:00",
          "2021-01-15T10:00:00",
          "2021-01-15T11:00:00",
          "2021-01-15T12:00:00",
          "2021-01-15T13:00:00",
          "2021-01-15T14:00:00",
          "2021-01-15T15:00:00",
          "2021-01-15T16:00:00",
          "2021-01-15T17:00:00",
          "2021-01-15T18:00:00",
          "2021-01-15T19:00:00",
          "2021-01-15T20:00:00",
          "2021-01-19T05:00:00",
          "2021-01-19T06:00:00",
          "2021-01-19T07:00:00",
          "2021-01-19T08:00:00",
          "2021-01-19T09:00:00",
          "2021-01-19T10:00:00",
          "2021-01-19T11:00:00",
          "2021-01-19T12:00:00",
          "2021-01-19T13:00:00",
          "2021-01-19T14:00:00",
          "2021-01-19T15:00:00",
          "2021-01-19T16:00:00",
          "2021-01-19T17:00:00",
          "2021-01-19T18:00:00",
          "2021-01-19T19:00:00",
          "2021-01-19T20:00:00",
          "2021-01-20T05:00:00",
          "2021-01-20T06:00:00",
          "2021-01-20T07:00:00",
          "2021-01-20T08:00:00",
          "2021-01-20T09:00:00",
          "2021-01-20T10:00:00",
          "2021-01-20T11:00:00",
          "2021-01-20T12:00:00",
          "2021-01-20T13:00:00",
          "2021-01-20T14:00:00",
          "2021-01-20T15:00:00",
          "2021-01-20T16:00:00",
          "2021-01-20T17:00:00",
          "2021-01-20T18:00:00",
          "2021-01-20T19:00:00",
          "2021-01-20T20:00:00",
          "2021-01-21T05:00:00",
          "2021-01-21T07:00:00",
          "2021-01-21T08:00:00",
          "2021-01-21T09:00:00",
          "2021-01-21T10:00:00",
          "2021-01-21T11:00:00",
          "2021-01-21T12:00:00",
          "2021-01-21T13:00:00",
          "2021-01-21T14:00:00",
          "2021-01-21T15:00:00",
          "2021-01-21T16:00:00",
          "2021-01-21T17:00:00",
          "2021-01-21T18:00:00",
          "2021-01-21T19:00:00",
          "2021-01-21T20:00:00",
          "2021-01-22T05:00:00",
          "2021-01-22T06:00:00",
          "2021-01-22T07:00:00",
          "2021-01-22T08:00:00",
          "2021-01-22T09:00:00",
          "2021-01-22T10:00:00",
          "2021-01-22T11:00:00",
          "2021-01-22T12:00:00",
          "2021-01-22T13:00:00",
          "2021-01-22T14:00:00",
          "2021-01-22T15:00:00",
          "2021-01-22T16:00:00",
          "2021-01-22T17:00:00",
          "2021-01-22T18:00:00",
          "2021-01-22T19:00:00",
          "2021-01-22T20:00:00",
          "2021-01-25T05:00:00",
          "2021-01-25T06:00:00",
          "2021-01-25T07:00:00",
          "2021-01-25T08:00:00",
          "2021-01-25T09:00:00",
          "2021-01-25T10:00:00",
          "2021-01-25T11:00:00",
          "2021-01-25T12:00:00",
          "2021-01-25T13:00:00",
          "2021-01-25T14:00:00",
          "2021-01-25T15:00:00",
          "2021-01-25T16:00:00",
          "2021-01-25T17:00:00",
          "2021-01-25T18:00:00",
          "2021-01-25T19:00:00",
          "2021-01-25T20:00:00",
          "2021-01-26T05:00:00",
          "2021-01-26T06:00:00",
          "2021-01-26T07:00:00",
          "2021-01-26T08:00:00",
          "2021-01-26T09:00:00",
          "2021-01-26T10:00:00",
          "2021-01-26T11:00:00",
          "2021-01-26T12:00:00",
          "2021-01-26T13:00:00",
          "2021-01-26T14:00:00",
          "2021-01-26T15:00:00",
          "2021-01-26T16:00:00",
          "2021-01-26T17:00:00",
          "2021-01-26T18:00:00",
          "2021-01-26T19:00:00",
          "2021-01-26T20:00:00",
          "2021-01-27T05:00:00",
          "2021-01-27T06:00:00",
          "2021-01-27T07:00:00",
          "2021-01-27T08:00:00",
          "2021-01-27T09:00:00",
          "2021-01-27T10:00:00",
          "2021-01-27T11:00:00",
          "2021-01-27T12:00:00",
          "2021-01-27T13:00:00",
          "2021-01-27T14:00:00",
          "2021-01-27T15:00:00",
          "2021-01-27T16:00:00",
          "2021-01-27T17:00:00",
          "2021-01-27T18:00:00",
          "2021-01-27T19:00:00",
          "2021-01-27T20:00:00",
          "2021-01-28T05:00:00",
          "2021-01-28T06:00:00",
          "2021-01-28T07:00:00",
          "2021-01-28T08:00:00",
          "2021-01-28T09:00:00",
          "2021-01-28T10:00:00",
          "2021-01-28T11:00:00",
          "2021-01-28T12:00:00",
          "2021-01-28T13:00:00",
          "2021-01-28T14:00:00",
          "2021-01-28T15:00:00",
          "2021-01-28T16:00:00",
          "2021-01-28T17:00:00",
          "2021-01-28T18:00:00",
          "2021-01-28T19:00:00",
          "2021-01-28T20:00:00",
          "2021-01-29T05:00:00",
          "2021-01-29T06:00:00",
          "2021-01-29T07:00:00",
          "2021-01-29T08:00:00",
          "2021-01-29T09:00:00",
          "2021-01-29T10:00:00",
          "2021-01-29T11:00:00",
          "2021-01-29T12:00:00",
          "2021-01-29T13:00:00",
          "2021-01-29T14:00:00",
          "2021-01-29T15:00:00",
          "2021-01-29T16:00:00",
          "2021-01-29T17:00:00",
          "2021-01-29T18:00:00",
          "2021-01-29T19:00:00",
          "2021-01-29T20:00:00",
          "2021-02-01T05:00:00",
          "2021-02-01T06:00:00",
          "2021-02-01T07:00:00",
          "2021-02-01T08:00:00",
          "2021-02-01T09:00:00",
          "2021-02-01T10:00:00",
          "2021-02-01T11:00:00",
          "2021-02-01T12:00:00",
          "2021-02-01T13:00:00",
          "2021-02-01T14:00:00",
          "2021-02-01T15:00:00",
          "2021-02-01T16:00:00",
          "2021-02-01T17:00:00",
          "2021-02-01T18:00:00",
          "2021-02-01T19:00:00",
          "2021-02-01T20:00:00",
          "2021-02-02T05:00:00",
          "2021-02-02T06:00:00",
          "2021-02-02T07:00:00",
          "2021-02-02T08:00:00",
          "2021-02-02T09:00:00",
          "2021-02-02T10:00:00",
          "2021-02-02T11:00:00",
          "2021-02-02T12:00:00",
          "2021-02-02T13:00:00",
          "2021-02-02T14:00:00",
          "2021-02-02T15:00:00",
          "2021-02-02T16:00:00",
          "2021-02-02T17:00:00",
          "2021-02-02T18:00:00",
          "2021-02-02T19:00:00",
          "2021-02-02T20:00:00",
          "2021-02-03T05:00:00",
          "2021-02-03T06:00:00",
          "2021-02-03T07:00:00",
          "2021-02-03T08:00:00",
          "2021-02-03T09:00:00",
          "2021-02-03T10:00:00",
          "2021-02-03T11:00:00",
          "2021-02-03T12:00:00",
          "2021-02-03T13:00:00",
          "2021-02-03T14:00:00",
          "2021-02-03T15:00:00",
          "2021-02-03T16:00:00",
          "2021-02-03T17:00:00",
          "2021-02-03T18:00:00",
          "2021-02-03T19:00:00",
          "2021-02-03T20:00:00",
          "2021-02-04T05:00:00",
          "2021-02-04T06:00:00",
          "2021-02-04T07:00:00",
          "2021-02-04T08:00:00",
          "2021-02-04T09:00:00",
          "2021-02-04T10:00:00",
          "2021-02-04T11:00:00",
          "2021-02-04T12:00:00",
          "2021-02-04T13:00:00",
          "2021-02-04T14:00:00",
          "2021-02-04T15:00:00",
          "2021-02-04T16:00:00",
          "2021-02-04T17:00:00",
          "2021-02-04T18:00:00",
          "2021-02-04T19:00:00",
          "2021-02-04T20:00:00",
          "2021-02-05T05:00:00",
          "2021-02-05T06:00:00",
          "2021-02-05T07:00:00",
          "2021-02-05T08:00:00",
          "2021-02-05T09:00:00",
          "2021-02-05T10:00:00",
          "2021-02-05T11:00:00",
          "2021-02-05T12:00:00",
          "2021-02-05T13:00:00",
          "2021-02-05T14:00:00",
          "2021-02-05T15:00:00",
          "2021-02-05T16:00:00",
          "2021-02-05T17:00:00",
          "2021-02-05T18:00:00",
          "2021-02-05T19:00:00",
          "2021-02-05T20:00:00",
          "2021-02-08T05:00:00",
          "2021-02-08T06:00:00",
          "2021-02-08T07:00:00",
          "2021-02-08T08:00:00",
          "2021-02-08T09:00:00",
          "2021-02-08T10:00:00",
          "2021-02-08T11:00:00",
          "2021-02-08T12:00:00",
          "2021-02-08T13:00:00",
          "2021-02-08T14:00:00",
          "2021-02-08T15:00:00",
          "2021-02-08T16:00:00",
          "2021-02-08T17:00:00",
          "2021-02-08T18:00:00",
          "2021-02-08T19:00:00",
          "2021-02-08T20:00:00",
          "2021-02-09T05:00:00",
          "2021-02-09T06:00:00",
          "2021-02-09T07:00:00",
          "2021-02-09T08:00:00",
          "2021-02-09T09:00:00",
          "2021-02-09T10:00:00",
          "2021-02-09T11:00:00",
          "2021-02-09T12:00:00",
          "2021-02-09T13:00:00",
          "2021-02-09T14:00:00",
          "2021-02-09T15:00:00",
          "2021-02-09T16:00:00",
          "2021-02-09T17:00:00",
          "2021-02-09T18:00:00",
          "2021-02-09T19:00:00",
          "2021-02-09T20:00:00",
          "2021-02-10T05:00:00",
          "2021-02-10T06:00:00",
          "2021-02-10T07:00:00",
          "2021-02-10T08:00:00",
          "2021-02-10T09:00:00",
          "2021-02-10T10:00:00",
          "2021-02-10T11:00:00",
          "2021-02-10T12:00:00",
          "2021-02-10T13:00:00",
          "2021-02-10T14:00:00",
          "2021-02-10T15:00:00",
          "2021-02-10T16:00:00",
          "2021-02-10T17:00:00",
          "2021-02-10T18:00:00",
          "2021-02-10T19:00:00",
          "2021-02-10T20:00:00",
          "2021-02-11T05:00:00",
          "2021-02-11T06:00:00",
          "2021-02-11T07:00:00",
          "2021-02-11T08:00:00",
          "2021-02-11T09:00:00",
          "2021-02-11T10:00:00",
          "2021-02-11T11:00:00",
          "2021-02-11T12:00:00",
          "2021-02-11T13:00:00",
          "2021-02-11T14:00:00",
          "2021-02-11T15:00:00",
          "2021-02-11T16:00:00",
          "2021-02-11T17:00:00",
          "2021-02-11T18:00:00",
          "2021-02-11T19:00:00",
          "2021-02-11T20:00:00",
          "2021-02-12T05:00:00",
          "2021-02-12T06:00:00",
          "2021-02-12T07:00:00",
          "2021-02-12T08:00:00",
          "2021-02-12T09:00:00",
          "2021-02-12T10:00:00",
          "2021-02-12T11:00:00",
          "2021-02-12T12:00:00",
          "2021-02-12T13:00:00",
          "2021-02-12T14:00:00",
          "2021-02-12T15:00:00",
          "2021-02-12T16:00:00",
          "2021-02-12T17:00:00",
          "2021-02-12T18:00:00",
          "2021-02-12T19:00:00",
          "2021-02-12T20:00:00"
         ],
         "xaxis": "x",
         "y": [
          0,
          0,
          0.0015368852459016976,
          -0.01127049180327863,
          -0.002061855670103049,
          0.005684754521963794,
          -0.020061728395061755,
          0.01733193277310934,
          0.018063923263173555,
          -0.013684744044602107,
          -0.02415210688591996,
          -0.008956796628029595,
          -0.001603806651018081,
          0.015957446808510675,
          0.003723404255319164,
          -0.0036939313984169016,
          0.015706806282722363,
          -0.0036045314109165952,
          -0.012987012987012988,
          -0.005976722239698058,
          -0.08144438587243007,
          0.005451936872309834,
          0.0027084818246614073,
          0.00483366505544503,
          -0.005315595810925439,
          -0.009954493742889486,
          -0.00976450315910406,
          0.006956521739130492,
          -0.004006868918145409,
          0,
          -0.007428571428571372,
          0,
          0,
          -0.022598870056497095,
          -0.010416606385379697,
          0.03448275862068965,
          -0.011824324324324372,
          -0.0002847380410022213,
          0.004555808656036552,
          -0.009643261608154078,
          -0.012750142938822127,
          0.006085192697768788,
          0.0063327576280943826,
          0.0005720823798625864,
          0.00517241379310344,
          0.00285225328009111,
          -0.011993146773272463,
          0,
          0.005148741418764294,
          0.007931357290129247,
          0.0037058152793615325,
          0.04515762567452418,
          0.01521739130434789,
          0.00558886509635984,
          0.0021304926764315686,
          -0.0318640467339351,
          0.009330406147091203,
          -0.0010917030567685357,
          0.0273224043715847,
          -0.015425531914893572,
          0.012447211694639993,
          0.00263435194942048,
          -0.00419287211740033,
          0.008492569002123149,
          0.007957559681697536,
          0.022133825079030448,
          -0.02835051546391738,
          -0.0169491525423729,
          0.0002692514808830913,
          -0.010561542641623173,
          -0.005366395262768381,
          -0.008752735229759306,
          0.009413716814159362,
          -5.479422030551446e-06,
          0,
          0.0010881392818280508,
          0,
          0.01046831955922872,
          0.012707182320441815,
          -0.03957423580786034,
          -6.829357129853146e-05,
          0,
          0.017938496583143584,
          -0.015109121432568526,
          0.014842353208275282,
          -0.011185019564002183,
          0.011871113623515957,
          0,
          0.006159014557670741,
          -0.008403361344537934,
          -0.0211428571428572,
          0,
          0,
          0.22914285714285723,
          -0.10739191073919117,
          0.07781282860147216,
          -0.05664062500000001,
          0.002329192546583755,
          0.012654958677686002,
          0.039285714285714264,
          -0.025895925380461454,
          0.004536290322580638,
          -0.0005015045135407003,
          0.0015060240963854208,
          0.005513784461152854,
          0.00199401794616165,
          -0.004975124378109523,
          -0.013806706114398477,
          -0.0009876543209876333,
          -0.004975124378109523,
          -0.013330105385896178,
          -0.019990004997501355,
          0.030357142857142798,
          -0.007925742574257422,
          0.004551806747853716,
          -0.012673956262425574,
          -0.0033937562940583705,
          0.0075795856493179456,
          0.002506265664160437,
          -0.004967709885742567,
          0.004995000000000083,
          0.007499999999999929,
          0,
          0,
          0.010945273631840738,
          0.006918552684210802,
          0.12524557956777999,
          0.24928041866550377,
          0.10897272451021832,
          0.08062651771175532,
          -0.02245552639253415,
          -0.013148065142686531,
          -0.04813805631244323,
          -0.0047707310237644525,
          0.020395156150414408,
          0.009962640099626411,
          0.009541397353031552,
          0.12037037037037042,
          -0.041788661165823804,
          0.0002778549597109755,
          0.019444444444444525,
          0.015351108691183203,
          -0.03857992180595949,
          0.001808873720136547,
          0.04742970746946895,
          0.030226379286972988,
          0.025026343519494093,
          0.007438758496857744,
          0.01588788138677303,
          -0.009249999999999935,
          0.07054361567635921,
          -0.010849056603773605,
          0.002386634844868769,
          -0.009478672985782125,
          -0.039426523297491,
          0.005925925925925975,
          -0.057079862812346845,
          -0.0051948051948052685,
          -0.023050395799043832,
          -0.020436550395891366,
          -0.0656834630615868,
          0.04490248420929806,
          0.004611461338859881,
          0.052792442345095815,
          -0.06309398099260825,
          -0.007028089887640436,
          0.0014204545454544646,
          0.002793296089385515,
          0.0027855153203343017,
          0.048717948717948684,
          0.011773362766740172,
          -0.018491484184914794,
          -0.05234567901234562,
          0.06513809275664408,
          -0.002746634026927819,
          -0.0733742331288344,
          0.04842815559671875,
          0.06283118849356535,
          -0.0259222688825706,
          -0.016324576743095474,
          -0.018645974858857446,
          -0.013216463414634214,
          0.0012873326467558485,
          -0.003856041131105362,
          -0.002583979328165411,
          -0.017402597402597447,
          -0.009198423127463714,
          0.005305039787798295,
          0.013185654008438817,
          0.005843293492695853,
          -0.0008563899868249266,
          -0.02923360547800894,
          0.06755290287574613,
          -0.01552953156822809,
          0.01654976057978522,
          0.008020369191597833,
          -0.012121212121212222,
          -0.005383235067931322,
          -0.003347064881565462,
          0.0018027298480556345,
          0.004114168166623723,
          0,
          -0.0012836970474969002,
          -0.004903225806451555,
          0.011670527443508565,
          -0.014084507042253449,
          0.03525058426382762,
          0.06079002935054712,
          -0.06146572104018899,
          0.06584195910123716,
          -0.03980227881244185,
          0.06143597335307185,
          -0.0011619800139438593,
          0.016117729502452643,
          0.03394077448747157,
          0.0008828073273007978,
          0.009852216748768582,
          -0.0168514412416851,
          -0.008042895442359237,
          0.00981923677750497,
          -0.00842581175503498,
          0.04050690201403031,
          0.03673624701021951,
          0.09463795164300555,
          0.34674329501915696,
          -0.21702493428997666,
          0.07608804356720095,
          0.09571682014023809,
          0.03999999999999991,
          -0.05481481481481486,
          -0.004687499999999956,
          -0.04088050314465411,
          0.4536551724137931,
          -0.09365926758452749,
          -0.025791808521613533,
          -0.02995342929720574,
          0.0691309562752154,
          -0.08655167150053422,
          0.30534649049450846,
          -0.14956863415050817,
          -0.30573057305730567,
          0.1075021645021645,
          0.004907072317978349,
          -0.0055058945459256015,
          0.022537508238916818,
          0.04235234085980346,
          0.014320156651572697,
          0.07201447527141132,
          0.044444444444444446,
          -0.06047745358090189,
          -0.0056179775280898875,
          0.02947463156710546,
          -0.025867714472822576,
          -0.016067415730337157,
          0.00040079931487296496,
          0.0020531842045193936,
          0.20380452757027992,
          0.08770178998553842,
          0.1539659950041049,
          0.10838757002170979,
          0.5352257181942545,
          -0.07328584149599292,
          0.08121095627102358,
          -0.06884444444444449,
          0.21296521527608855,
          0.17195325542570952,
          -0.437636761487965,
          0.15288220551378445,
          0.006521739130434782,
          0.3441055591607181,
          0.19818252126836813,
          -0.15779860014763647,
          0.0945651130801958,
          -0.042372362008405565,
          -0.01984052504063547,
          0.0848715449199711,
          -0.058271704411383844,
          -0.022941104594330373,
          -0.22006269592476485,
          0.17273786095827137,
          0.07613234821715383,
          0.3689171745069196,
          -0.024978089395267262,
          0.026822666159593767,
          -0.2570806100217865,
          0.3749596454670853,
          -0.43707889125799576,
          -0.034862641509433925,
          -0.06376967850306652,
          0.0024196182481548787,
          0.01954993286735783,
          -0.19784151763314492,
          0.3016612641815235,
          0.09669260700389114,
          0.2378625191738309,
          -0.10089337175792505,
          0.18316666666666667,
          -0.07369047619047617,
          0.025999999999999978,
          -0.12281012658227845,
          0.04529345665139605,
          -0.12572656400650117,
          0.05322695936190732,
          0.013604592849997847,
          -0.03105152933298269,
          -0.15850507530517963,
          0.027580358760644984,
          0.15256855928930083,
          -0.017242957853938517,
          -0.050573999379460166,
          0.03139394335369643,
          -0.012626582278481041,
          -0.022746419545071672,
          -0.02881844380403458,
          -0.029053254437869803,
          -0.012430517378290859,
          -0.028134556574923513,
          -0.1501419578218444,
          -0.12077777777777783,
          0.09471016788089952,
          -0.04247104247104247,
          0.006198585767763713,
          -0.039268800000000055,
          -0.054598400063970785,
          -0.07943759425175195,
          -0.14406616657049437,
          0.054775280898876406,
          0.01537637289043667,
          -0.024529378208785004,
          0.01630751310425167,
          -0.08919027642089525,
          -0.12348331648129436,
          -0.08273381294964029,
          -0.09803921568627451,
          -0.20357356107937977,
          0.2611164366789978,
          0.07178555202180832,
          -0.11772820871752736,
          -0.03571521649110369,
          -0.09399626061903078,
          -0.021815777875716216,
          0.03580274712902507,
          -0.021739130434782608,
          -0.0533333333333333,
          0.11323886122813742,
          0.0990269032627362,
          -0.05046728971962616,
          -0.013719679508286687,
          0.03930082386996216,
          -0.005460385438972217,
          0.06593167445505418,
          -0.05552846488797087,
          0.06351063829787233,
          0.07823370110330986,
          -0.08475843379123453,
          -0.06088052239567401,
          -0.01809905711498864,
          0.005794249480704068,
          -0.025027203482045825,
          -0.004703247480403155,
          0.013759479956663013,
          0.033653846153846215,
          -0.018570102135561862,
          -0.010781953313095375,
          -0.000736842105263086,
          -0.12221052631578946,
          -0.14265129682997113,
          -0.038013693345920314,
          -0.06490553088530795,
          -0.06976444924720804,
          -0.03224198105368132,
          -0.08332632092337125,
          -0.005984664297737054,
          -0.05491818694752683,
          0.0017960486928757415,
          -0.020517928286852612,
          0.13775700934579435,
          -0.02529981928700508,
          -0.0129368279569893,
          0.018793103448275922,
          -0.032662040954476335,
          0.4470279720279719,
          -0.1443941041440135,
          -0.09082693942329136,
          -0.01155646804473285,
          -0.042961610209246284,
          -0.00294918032786891,
          0.04816866677626176,
          0.010436137071651117,
          0.07467532467532464,
          -0.033927544565842425,
          -0.011011904761904896,
          0.01321585903083709,
          0.026011560693641578,
          0.007189173949816819,
          -0.014468085106382922,
          0.002305807753278521,
          -0.07192075796726947,
          -0.05974307382758086,
          -0.018026174993826635,
          0.008766118875079039,
          -0.008108063175394791,
          -0.014743632707774786,
          0.01834069293478252,
          -0.006833333333333276,
          0.001680672268907587,
          0.003188454438664167,
          -0.004850309416290335,
          -0.04682274247491634,
          0.007957559681697663,
          0.0005284481240090546,
          -0.022887323943661924,
          0.0005293806246691572,
          -0.05414462081128748,
          -0.08488805970149262,
          -0.013256759503964165,
          0.004118252987227019,
          0.005344568309877957,
          0.041039470157483715,
          -0.012363125344701348,
          0.053484602917341986,
          -0.010576923076923022,
          -0.02502910360884748,
          -0.005174129353233792,
          0.007000000000000029,
          -0.03578528827037768,
          0,
          0.04794099569760287,
          0.030101010101010142,
          -0.00999999999999996,
          -0.01445349396731466,
          0.05912809945682638,
          0.06012156899990493,
          0.00796064400715564,
          -0.054450754214729384,
          -0.036151383920165724,
          -0.03435487019324611,
          0.014756418031130059,
          -0.004183266932270933,
          -0.0009990009990010179,
          0.003637098403717917,
          0.02,
          -0.005329648637978603,
          -0.002384737678855275,
          0.005197989604020685,
          0.040761411201913525,
          -0.037310569729522354,
          -0.02133472562379061,
          -0.00427785699735182,
          -0.0085156289837337,
          0.0003346335454732312,
          0.04538919696036149,
          -0.009288537549407092,
          -0.013157894736842039,
          0.02134146341463409,
          0.00019892580067630813,
          0.00790513833992092,
          -0.003976933784052411,
          -0.0005982053838484773,
          0.013842198932173281,
          0.003944773175542322,
          0.003283292786645383,
          0.05946253197334762,
          -0.025046676624346592,
          0.0037523056046585316,
          -0.016562948779320286,
          -0.0004284323271664745,
          0.019283209972730714,
          -0.009541984732824428,
          -0.003658067000385016,
          0.01721137110810289,
          0.015940080660649093
         ],
         "yaxis": "y"
        }
       ],
       "layout": {
        "barmode": "relative",
        "legend": {
         "tracegroupgap": 0
        },
        "plot_bgcolor": "rgb(84, 85, 87)",
        "template": {
         "data": {
          "bar": [
           {
            "error_x": {
             "color": "#2a3f5f"
            },
            "error_y": {
             "color": "#2a3f5f"
            },
            "marker": {
             "line": {
              "color": "#E5ECF6",
              "width": 0.5
             }
            },
            "type": "bar"
           }
          ],
          "barpolar": [
           {
            "marker": {
             "line": {
              "color": "#E5ECF6",
              "width": 0.5
             }
            },
            "type": "barpolar"
           }
          ],
          "carpet": [
           {
            "aaxis": {
             "endlinecolor": "#2a3f5f",
             "gridcolor": "white",
             "linecolor": "white",
             "minorgridcolor": "white",
             "startlinecolor": "#2a3f5f"
            },
            "baxis": {
             "endlinecolor": "#2a3f5f",
             "gridcolor": "white",
             "linecolor": "white",
             "minorgridcolor": "white",
             "startlinecolor": "#2a3f5f"
            },
            "type": "carpet"
           }
          ],
          "choropleth": [
           {
            "colorbar": {
             "outlinewidth": 0,
             "ticks": ""
            },
            "type": "choropleth"
           }
          ],
          "contour": [
           {
            "colorbar": {
             "outlinewidth": 0,
             "ticks": ""
            },
            "colorscale": [
             [
              0,
              "#0d0887"
             ],
             [
              0.1111111111111111,
              "#46039f"
             ],
             [
              0.2222222222222222,
              "#7201a8"
             ],
             [
              0.3333333333333333,
              "#9c179e"
             ],
             [
              0.4444444444444444,
              "#bd3786"
             ],
             [
              0.5555555555555556,
              "#d8576b"
             ],
             [
              0.6666666666666666,
              "#ed7953"
             ],
             [
              0.7777777777777778,
              "#fb9f3a"
             ],
             [
              0.8888888888888888,
              "#fdca26"
             ],
             [
              1,
              "#f0f921"
             ]
            ],
            "type": "contour"
           }
          ],
          "contourcarpet": [
           {
            "colorbar": {
             "outlinewidth": 0,
             "ticks": ""
            },
            "type": "contourcarpet"
           }
          ],
          "heatmap": [
           {
            "colorbar": {
             "outlinewidth": 0,
             "ticks": ""
            },
            "colorscale": [
             [
              0,
              "#0d0887"
             ],
             [
              0.1111111111111111,
              "#46039f"
             ],
             [
              0.2222222222222222,
              "#7201a8"
             ],
             [
              0.3333333333333333,
              "#9c179e"
             ],
             [
              0.4444444444444444,
              "#bd3786"
             ],
             [
              0.5555555555555556,
              "#d8576b"
             ],
             [
              0.6666666666666666,
              "#ed7953"
             ],
             [
              0.7777777777777778,
              "#fb9f3a"
             ],
             [
              0.8888888888888888,
              "#fdca26"
             ],
             [
              1,
              "#f0f921"
             ]
            ],
            "type": "heatmap"
           }
          ],
          "heatmapgl": [
           {
            "colorbar": {
             "outlinewidth": 0,
             "ticks": ""
            },
            "colorscale": [
             [
              0,
              "#0d0887"
             ],
             [
              0.1111111111111111,
              "#46039f"
             ],
             [
              0.2222222222222222,
              "#7201a8"
             ],
             [
              0.3333333333333333,
              "#9c179e"
             ],
             [
              0.4444444444444444,
              "#bd3786"
             ],
             [
              0.5555555555555556,
              "#d8576b"
             ],
             [
              0.6666666666666666,
              "#ed7953"
             ],
             [
              0.7777777777777778,
              "#fb9f3a"
             ],
             [
              0.8888888888888888,
              "#fdca26"
             ],
             [
              1,
              "#f0f921"
             ]
            ],
            "type": "heatmapgl"
           }
          ],
          "histogram": [
           {
            "marker": {
             "colorbar": {
              "outlinewidth": 0,
              "ticks": ""
             }
            },
            "type": "histogram"
           }
          ],
          "histogram2d": [
           {
            "colorbar": {
             "outlinewidth": 0,
             "ticks": ""
            },
            "colorscale": [
             [
              0,
              "#0d0887"
             ],
             [
              0.1111111111111111,
              "#46039f"
             ],
             [
              0.2222222222222222,
              "#7201a8"
             ],
             [
              0.3333333333333333,
              "#9c179e"
             ],
             [
              0.4444444444444444,
              "#bd3786"
             ],
             [
              0.5555555555555556,
              "#d8576b"
             ],
             [
              0.6666666666666666,
              "#ed7953"
             ],
             [
              0.7777777777777778,
              "#fb9f3a"
             ],
             [
              0.8888888888888888,
              "#fdca26"
             ],
             [
              1,
              "#f0f921"
             ]
            ],
            "type": "histogram2d"
           }
          ],
          "histogram2dcontour": [
           {
            "colorbar": {
             "outlinewidth": 0,
             "ticks": ""
            },
            "colorscale": [
             [
              0,
              "#0d0887"
             ],
             [
              0.1111111111111111,
              "#46039f"
             ],
             [
              0.2222222222222222,
              "#7201a8"
             ],
             [
              0.3333333333333333,
              "#9c179e"
             ],
             [
              0.4444444444444444,
              "#bd3786"
             ],
             [
              0.5555555555555556,
              "#d8576b"
             ],
             [
              0.6666666666666666,
              "#ed7953"
             ],
             [
              0.7777777777777778,
              "#fb9f3a"
             ],
             [
              0.8888888888888888,
              "#fdca26"
             ],
             [
              1,
              "#f0f921"
             ]
            ],
            "type": "histogram2dcontour"
           }
          ],
          "mesh3d": [
           {
            "colorbar": {
             "outlinewidth": 0,
             "ticks": ""
            },
            "type": "mesh3d"
           }
          ],
          "parcoords": [
           {
            "line": {
             "colorbar": {
              "outlinewidth": 0,
              "ticks": ""
             }
            },
            "type": "parcoords"
           }
          ],
          "pie": [
           {
            "automargin": true,
            "type": "pie"
           }
          ],
          "scatter": [
           {
            "marker": {
             "colorbar": {
              "outlinewidth": 0,
              "ticks": ""
             }
            },
            "type": "scatter"
           }
          ],
          "scatter3d": [
           {
            "line": {
             "colorbar": {
              "outlinewidth": 0,
              "ticks": ""
             }
            },
            "marker": {
             "colorbar": {
              "outlinewidth": 0,
              "ticks": ""
             }
            },
            "type": "scatter3d"
           }
          ],
          "scattercarpet": [
           {
            "marker": {
             "colorbar": {
              "outlinewidth": 0,
              "ticks": ""
             }
            },
            "type": "scattercarpet"
           }
          ],
          "scattergeo": [
           {
            "marker": {
             "colorbar": {
              "outlinewidth": 0,
              "ticks": ""
             }
            },
            "type": "scattergeo"
           }
          ],
          "scattergl": [
           {
            "marker": {
             "colorbar": {
              "outlinewidth": 0,
              "ticks": ""
             }
            },
            "type": "scattergl"
           }
          ],
          "scattermapbox": [
           {
            "marker": {
             "colorbar": {
              "outlinewidth": 0,
              "ticks": ""
             }
            },
            "type": "scattermapbox"
           }
          ],
          "scatterpolar": [
           {
            "marker": {
             "colorbar": {
              "outlinewidth": 0,
              "ticks": ""
             }
            },
            "type": "scatterpolar"
           }
          ],
          "scatterpolargl": [
           {
            "marker": {
             "colorbar": {
              "outlinewidth": 0,
              "ticks": ""
             }
            },
            "type": "scatterpolargl"
           }
          ],
          "scatterternary": [
           {
            "marker": {
             "colorbar": {
              "outlinewidth": 0,
              "ticks": ""
             }
            },
            "type": "scatterternary"
           }
          ],
          "surface": [
           {
            "colorbar": {
             "outlinewidth": 0,
             "ticks": ""
            },
            "colorscale": [
             [
              0,
              "#0d0887"
             ],
             [
              0.1111111111111111,
              "#46039f"
             ],
             [
              0.2222222222222222,
              "#7201a8"
             ],
             [
              0.3333333333333333,
              "#9c179e"
             ],
             [
              0.4444444444444444,
              "#bd3786"
             ],
             [
              0.5555555555555556,
              "#d8576b"
             ],
             [
              0.6666666666666666,
              "#ed7953"
             ],
             [
              0.7777777777777778,
              "#fb9f3a"
             ],
             [
              0.8888888888888888,
              "#fdca26"
             ],
             [
              1,
              "#f0f921"
             ]
            ],
            "type": "surface"
           }
          ],
          "table": [
           {
            "cells": {
             "fill": {
              "color": "#EBF0F8"
             },
             "line": {
              "color": "white"
             }
            },
            "header": {
             "fill": {
              "color": "#C8D4E3"
             },
             "line": {
              "color": "white"
             }
            },
            "type": "table"
           }
          ]
         },
         "layout": {
          "annotationdefaults": {
           "arrowcolor": "#2a3f5f",
           "arrowhead": 0,
           "arrowwidth": 1
          },
          "autotypenumbers": "strict",
          "coloraxis": {
           "colorbar": {
            "outlinewidth": 0,
            "ticks": ""
           }
          },
          "colorscale": {
           "diverging": [
            [
             0,
             "#8e0152"
            ],
            [
             0.1,
             "#c51b7d"
            ],
            [
             0.2,
             "#de77ae"
            ],
            [
             0.3,
             "#f1b6da"
            ],
            [
             0.4,
             "#fde0ef"
            ],
            [
             0.5,
             "#f7f7f7"
            ],
            [
             0.6,
             "#e6f5d0"
            ],
            [
             0.7,
             "#b8e186"
            ],
            [
             0.8,
             "#7fbc41"
            ],
            [
             0.9,
             "#4d9221"
            ],
            [
             1,
             "#276419"
            ]
           ],
           "sequential": [
            [
             0,
             "#0d0887"
            ],
            [
             0.1111111111111111,
             "#46039f"
            ],
            [
             0.2222222222222222,
             "#7201a8"
            ],
            [
             0.3333333333333333,
             "#9c179e"
            ],
            [
             0.4444444444444444,
             "#bd3786"
            ],
            [
             0.5555555555555556,
             "#d8576b"
            ],
            [
             0.6666666666666666,
             "#ed7953"
            ],
            [
             0.7777777777777778,
             "#fb9f3a"
            ],
            [
             0.8888888888888888,
             "#fdca26"
            ],
            [
             1,
             "#f0f921"
            ]
           ],
           "sequentialminus": [
            [
             0,
             "#0d0887"
            ],
            [
             0.1111111111111111,
             "#46039f"
            ],
            [
             0.2222222222222222,
             "#7201a8"
            ],
            [
             0.3333333333333333,
             "#9c179e"
            ],
            [
             0.4444444444444444,
             "#bd3786"
            ],
            [
             0.5555555555555556,
             "#d8576b"
            ],
            [
             0.6666666666666666,
             "#ed7953"
            ],
            [
             0.7777777777777778,
             "#fb9f3a"
            ],
            [
             0.8888888888888888,
             "#fdca26"
            ],
            [
             1,
             "#f0f921"
            ]
           ]
          },
          "colorway": [
           "#636efa",
           "#EF553B",
           "#00cc96",
           "#ab63fa",
           "#FFA15A",
           "#19d3f3",
           "#FF6692",
           "#B6E880",
           "#FF97FF",
           "#FECB52"
          ],
          "font": {
           "color": "#2a3f5f"
          },
          "geo": {
           "bgcolor": "white",
           "lakecolor": "white",
           "landcolor": "#E5ECF6",
           "showlakes": true,
           "showland": true,
           "subunitcolor": "white"
          },
          "hoverlabel": {
           "align": "left"
          },
          "hovermode": "closest",
          "mapbox": {
           "style": "light"
          },
          "paper_bgcolor": "white",
          "plot_bgcolor": "#E5ECF6",
          "polar": {
           "angularaxis": {
            "gridcolor": "white",
            "linecolor": "white",
            "ticks": ""
           },
           "bgcolor": "#E5ECF6",
           "radialaxis": {
            "gridcolor": "white",
            "linecolor": "white",
            "ticks": ""
           }
          },
          "scene": {
           "xaxis": {
            "backgroundcolor": "#E5ECF6",
            "gridcolor": "white",
            "gridwidth": 2,
            "linecolor": "white",
            "showbackground": true,
            "ticks": "",
            "zerolinecolor": "white"
           },
           "yaxis": {
            "backgroundcolor": "#E5ECF6",
            "gridcolor": "white",
            "gridwidth": 2,
            "linecolor": "white",
            "showbackground": true,
            "ticks": "",
            "zerolinecolor": "white"
           },
           "zaxis": {
            "backgroundcolor": "#E5ECF6",
            "gridcolor": "white",
            "gridwidth": 2,
            "linecolor": "white",
            "showbackground": true,
            "ticks": "",
            "zerolinecolor": "white"
           }
          },
          "shapedefaults": {
           "line": {
            "color": "#2a3f5f"
           }
          },
          "ternary": {
           "aaxis": {
            "gridcolor": "white",
            "linecolor": "white",
            "ticks": ""
           },
           "baxis": {
            "gridcolor": "white",
            "linecolor": "white",
            "ticks": ""
           },
           "bgcolor": "#E5ECF6",
           "caxis": {
            "gridcolor": "white",
            "linecolor": "white",
            "ticks": ""
           }
          },
          "title": {
           "x": 0.05
          },
          "xaxis": {
           "automargin": true,
           "gridcolor": "white",
           "linecolor": "white",
           "ticks": "",
           "title": {
            "standoff": 15
           },
           "zerolinecolor": "white",
           "zerolinewidth": 2
          },
          "yaxis": {
           "automargin": true,
           "gridcolor": "white",
           "linecolor": "white",
           "ticks": "",
           "title": {
            "standoff": 15
           },
           "zerolinecolor": "white",
           "zerolinewidth": 2
          }
         }
        },
        "title": {
         "text": "Percent GME Change"
        },
        "xaxis": {
         "anchor": "y",
         "domain": [
          0,
          1
         ],
         "gridcolor": "rgb(144, 145, 142)",
         "title": {
          "text": "Date"
         }
        },
        "yaxis": {
         "anchor": "x",
         "domain": [
          0,
          1
         ],
         "gridcolor": "rgb(144, 145, 142)",
         "title": {
          "text": "percent change"
         }
        }
       }
      },
      "text/html": [
       "<div>                            <div id=\"c6e684d8-6cee-497c-b26e-3e69a9d71034\" class=\"plotly-graph-div\" style=\"height:525px; width:100%;\"></div>            <script type=\"text/javascript\">                require([\"plotly\"], function(Plotly) {                    window.PLOTLYENV=window.PLOTLYENV || {};                                    if (document.getElementById(\"c6e684d8-6cee-497c-b26e-3e69a9d71034\")) {                    Plotly.newPlot(                        \"c6e684d8-6cee-497c-b26e-3e69a9d71034\",                        [{\"alignmentgroup\": \"True\", \"hovertemplate\": \"Date=%{x}<br>percent change=%{y}<extra></extra>\", \"legendgroup\": \"\", \"marker\": {\"color\": \"rgb(73, 157, 222)\", \"line\": {\"width\": 0}}, \"name\": \"\", \"offsetgroup\": \"\", \"orientation\": \"v\", \"showlegend\": false, \"textposition\": \"auto\", \"type\": \"bar\", \"x\": [\"2020-12-31T05:00:00\", \"2020-12-31T06:00:00\", \"2020-12-31T07:00:00\", \"2020-12-31T08:00:00\", \"2020-12-31T09:00:00\", \"2020-12-31T10:00:00\", \"2020-12-31T11:00:00\", \"2020-12-31T12:00:00\", \"2020-12-31T13:00:00\", \"2020-12-31T14:00:00\", \"2020-12-31T15:00:00\", \"2020-12-31T16:00:00\", \"2020-12-31T17:00:00\", \"2020-12-31T18:00:00\", \"2020-12-31T19:00:00\", \"2020-12-31T20:00:00\", \"2021-01-04T05:00:00\", \"2021-01-04T07:00:00\", \"2021-01-04T08:00:00\", \"2021-01-04T09:00:00\", \"2021-01-04T10:00:00\", \"2021-01-04T11:00:00\", \"2021-01-04T12:00:00\", \"2021-01-04T13:00:00\", \"2021-01-04T14:00:00\", \"2021-01-04T15:00:00\", \"2021-01-04T16:00:00\", \"2021-01-04T17:00:00\", \"2021-01-04T18:00:00\", \"2021-01-04T19:00:00\", \"2021-01-04T20:00:00\", \"2021-01-05T05:00:00\", \"2021-01-05T07:00:00\", \"2021-01-05T08:00:00\", \"2021-01-05T09:00:00\", \"2021-01-05T10:00:00\", \"2021-01-05T11:00:00\", \"2021-01-05T12:00:00\", \"2021-01-05T13:00:00\", \"2021-01-05T14:00:00\", \"2021-01-05T15:00:00\", \"2021-01-05T16:00:00\", \"2021-01-05T17:00:00\", \"2021-01-05T18:00:00\", \"2021-01-05T19:00:00\", \"2021-01-05T20:00:00\", \"2021-01-06T05:00:00\", \"2021-01-06T06:00:00\", \"2021-01-06T08:00:00\", \"2021-01-06T09:00:00\", \"2021-01-06T10:00:00\", \"2021-01-06T11:00:00\", \"2021-01-06T12:00:00\", \"2021-01-06T13:00:00\", \"2021-01-06T14:00:00\", \"2021-01-06T15:00:00\", \"2021-01-06T16:00:00\", \"2021-01-06T17:00:00\", \"2021-01-06T18:00:00\", \"2021-01-06T19:00:00\", \"2021-01-06T20:00:00\", \"2021-01-07T06:00:00\", \"2021-01-07T07:00:00\", \"2021-01-07T08:00:00\", \"2021-01-07T09:00:00\", \"2021-01-07T10:00:00\", \"2021-01-07T11:00:00\", \"2021-01-07T12:00:00\", \"2021-01-07T13:00:00\", \"2021-01-07T14:00:00\", \"2021-01-07T15:00:00\", \"2021-01-07T16:00:00\", \"2021-01-07T17:00:00\", \"2021-01-07T18:00:00\", \"2021-01-07T19:00:00\", \"2021-01-07T20:00:00\", \"2021-01-08T06:00:00\", \"2021-01-08T08:00:00\", \"2021-01-08T09:00:00\", \"2021-01-08T10:00:00\", \"2021-01-08T11:00:00\", \"2021-01-08T12:00:00\", \"2021-01-08T13:00:00\", \"2021-01-08T14:00:00\", \"2021-01-08T15:00:00\", \"2021-01-08T16:00:00\", \"2021-01-08T17:00:00\", \"2021-01-08T18:00:00\", \"2021-01-08T19:00:00\", \"2021-01-08T20:00:00\", \"2021-01-11T05:00:00\", \"2021-01-11T06:00:00\", \"2021-01-11T07:00:00\", \"2021-01-11T08:00:00\", \"2021-01-11T09:00:00\", \"2021-01-11T10:00:00\", \"2021-01-11T11:00:00\", \"2021-01-11T12:00:00\", \"2021-01-11T13:00:00\", \"2021-01-11T14:00:00\", \"2021-01-11T15:00:00\", \"2021-01-11T16:00:00\", \"2021-01-11T17:00:00\", \"2021-01-11T18:00:00\", \"2021-01-11T19:00:00\", \"2021-01-11T20:00:00\", \"2021-01-12T05:00:00\", \"2021-01-12T06:00:00\", \"2021-01-12T07:00:00\", \"2021-01-12T08:00:00\", \"2021-01-12T09:00:00\", \"2021-01-12T10:00:00\", \"2021-01-12T11:00:00\", \"2021-01-12T12:00:00\", \"2021-01-12T13:00:00\", \"2021-01-12T14:00:00\", \"2021-01-12T15:00:00\", \"2021-01-12T16:00:00\", \"2021-01-12T17:00:00\", \"2021-01-12T18:00:00\", \"2021-01-12T19:00:00\", \"2021-01-12T20:00:00\", \"2021-01-13T05:00:00\", \"2021-01-13T07:00:00\", \"2021-01-13T08:00:00\", \"2021-01-13T09:00:00\", \"2021-01-13T10:00:00\", \"2021-01-13T11:00:00\", \"2021-01-13T12:00:00\", \"2021-01-13T13:00:00\", \"2021-01-13T14:00:00\", \"2021-01-13T15:00:00\", \"2021-01-13T16:00:00\", \"2021-01-13T17:00:00\", \"2021-01-13T18:00:00\", \"2021-01-13T19:00:00\", \"2021-01-13T20:00:00\", \"2021-01-14T05:00:00\", \"2021-01-14T06:00:00\", \"2021-01-14T07:00:00\", \"2021-01-14T08:00:00\", \"2021-01-14T09:00:00\", \"2021-01-14T10:00:00\", \"2021-01-14T11:00:00\", \"2021-01-14T12:00:00\", \"2021-01-14T13:00:00\", \"2021-01-14T14:00:00\", \"2021-01-14T15:00:00\", \"2021-01-14T16:00:00\", \"2021-01-14T17:00:00\", \"2021-01-14T18:00:00\", \"2021-01-14T19:00:00\", \"2021-01-14T20:00:00\", \"2021-01-15T05:00:00\", \"2021-01-15T06:00:00\", \"2021-01-15T07:00:00\", \"2021-01-15T08:00:00\", \"2021-01-15T09:00:00\", \"2021-01-15T10:00:00\", \"2021-01-15T11:00:00\", \"2021-01-15T12:00:00\", \"2021-01-15T13:00:00\", \"2021-01-15T14:00:00\", \"2021-01-15T15:00:00\", \"2021-01-15T16:00:00\", \"2021-01-15T17:00:00\", \"2021-01-15T18:00:00\", \"2021-01-15T19:00:00\", \"2021-01-15T20:00:00\", \"2021-01-19T05:00:00\", \"2021-01-19T06:00:00\", \"2021-01-19T07:00:00\", \"2021-01-19T08:00:00\", \"2021-01-19T09:00:00\", \"2021-01-19T10:00:00\", \"2021-01-19T11:00:00\", \"2021-01-19T12:00:00\", \"2021-01-19T13:00:00\", \"2021-01-19T14:00:00\", \"2021-01-19T15:00:00\", \"2021-01-19T16:00:00\", \"2021-01-19T17:00:00\", \"2021-01-19T18:00:00\", \"2021-01-19T19:00:00\", \"2021-01-19T20:00:00\", \"2021-01-20T05:00:00\", \"2021-01-20T06:00:00\", \"2021-01-20T07:00:00\", \"2021-01-20T08:00:00\", \"2021-01-20T09:00:00\", \"2021-01-20T10:00:00\", \"2021-01-20T11:00:00\", \"2021-01-20T12:00:00\", \"2021-01-20T13:00:00\", \"2021-01-20T14:00:00\", \"2021-01-20T15:00:00\", \"2021-01-20T16:00:00\", \"2021-01-20T17:00:00\", \"2021-01-20T18:00:00\", \"2021-01-20T19:00:00\", \"2021-01-20T20:00:00\", \"2021-01-21T05:00:00\", \"2021-01-21T07:00:00\", \"2021-01-21T08:00:00\", \"2021-01-21T09:00:00\", \"2021-01-21T10:00:00\", \"2021-01-21T11:00:00\", \"2021-01-21T12:00:00\", \"2021-01-21T13:00:00\", \"2021-01-21T14:00:00\", \"2021-01-21T15:00:00\", \"2021-01-21T16:00:00\", \"2021-01-21T17:00:00\", \"2021-01-21T18:00:00\", \"2021-01-21T19:00:00\", \"2021-01-21T20:00:00\", \"2021-01-22T05:00:00\", \"2021-01-22T06:00:00\", \"2021-01-22T07:00:00\", \"2021-01-22T08:00:00\", \"2021-01-22T09:00:00\", \"2021-01-22T10:00:00\", \"2021-01-22T11:00:00\", \"2021-01-22T12:00:00\", \"2021-01-22T13:00:00\", \"2021-01-22T14:00:00\", \"2021-01-22T15:00:00\", \"2021-01-22T16:00:00\", \"2021-01-22T17:00:00\", \"2021-01-22T18:00:00\", \"2021-01-22T19:00:00\", \"2021-01-22T20:00:00\", \"2021-01-25T05:00:00\", \"2021-01-25T06:00:00\", \"2021-01-25T07:00:00\", \"2021-01-25T08:00:00\", \"2021-01-25T09:00:00\", \"2021-01-25T10:00:00\", \"2021-01-25T11:00:00\", \"2021-01-25T12:00:00\", \"2021-01-25T13:00:00\", \"2021-01-25T14:00:00\", \"2021-01-25T15:00:00\", \"2021-01-25T16:00:00\", \"2021-01-25T17:00:00\", \"2021-01-25T18:00:00\", \"2021-01-25T19:00:00\", \"2021-01-25T20:00:00\", \"2021-01-26T05:00:00\", \"2021-01-26T06:00:00\", \"2021-01-26T07:00:00\", \"2021-01-26T08:00:00\", \"2021-01-26T09:00:00\", \"2021-01-26T10:00:00\", \"2021-01-26T11:00:00\", \"2021-01-26T12:00:00\", \"2021-01-26T13:00:00\", \"2021-01-26T14:00:00\", \"2021-01-26T15:00:00\", \"2021-01-26T16:00:00\", \"2021-01-26T17:00:00\", \"2021-01-26T18:00:00\", \"2021-01-26T19:00:00\", \"2021-01-26T20:00:00\", \"2021-01-27T05:00:00\", \"2021-01-27T06:00:00\", \"2021-01-27T07:00:00\", \"2021-01-27T08:00:00\", \"2021-01-27T09:00:00\", \"2021-01-27T10:00:00\", \"2021-01-27T11:00:00\", \"2021-01-27T12:00:00\", \"2021-01-27T13:00:00\", \"2021-01-27T14:00:00\", \"2021-01-27T15:00:00\", \"2021-01-27T16:00:00\", \"2021-01-27T17:00:00\", \"2021-01-27T18:00:00\", \"2021-01-27T19:00:00\", \"2021-01-27T20:00:00\", \"2021-01-28T05:00:00\", \"2021-01-28T06:00:00\", \"2021-01-28T07:00:00\", \"2021-01-28T08:00:00\", \"2021-01-28T09:00:00\", \"2021-01-28T10:00:00\", \"2021-01-28T11:00:00\", \"2021-01-28T12:00:00\", \"2021-01-28T13:00:00\", \"2021-01-28T14:00:00\", \"2021-01-28T15:00:00\", \"2021-01-28T16:00:00\", \"2021-01-28T17:00:00\", \"2021-01-28T18:00:00\", \"2021-01-28T19:00:00\", \"2021-01-28T20:00:00\", \"2021-01-29T05:00:00\", \"2021-01-29T06:00:00\", \"2021-01-29T07:00:00\", \"2021-01-29T08:00:00\", \"2021-01-29T09:00:00\", \"2021-01-29T10:00:00\", \"2021-01-29T11:00:00\", \"2021-01-29T12:00:00\", \"2021-01-29T13:00:00\", \"2021-01-29T14:00:00\", \"2021-01-29T15:00:00\", \"2021-01-29T16:00:00\", \"2021-01-29T17:00:00\", \"2021-01-29T18:00:00\", \"2021-01-29T19:00:00\", \"2021-01-29T20:00:00\", \"2021-02-01T05:00:00\", \"2021-02-01T06:00:00\", \"2021-02-01T07:00:00\", \"2021-02-01T08:00:00\", \"2021-02-01T09:00:00\", \"2021-02-01T10:00:00\", \"2021-02-01T11:00:00\", \"2021-02-01T12:00:00\", \"2021-02-01T13:00:00\", \"2021-02-01T14:00:00\", \"2021-02-01T15:00:00\", \"2021-02-01T16:00:00\", \"2021-02-01T17:00:00\", \"2021-02-01T18:00:00\", \"2021-02-01T19:00:00\", \"2021-02-01T20:00:00\", \"2021-02-02T05:00:00\", \"2021-02-02T06:00:00\", \"2021-02-02T07:00:00\", \"2021-02-02T08:00:00\", \"2021-02-02T09:00:00\", \"2021-02-02T10:00:00\", \"2021-02-02T11:00:00\", \"2021-02-02T12:00:00\", \"2021-02-02T13:00:00\", \"2021-02-02T14:00:00\", \"2021-02-02T15:00:00\", \"2021-02-02T16:00:00\", \"2021-02-02T17:00:00\", \"2021-02-02T18:00:00\", \"2021-02-02T19:00:00\", \"2021-02-02T20:00:00\", \"2021-02-03T05:00:00\", \"2021-02-03T06:00:00\", \"2021-02-03T07:00:00\", \"2021-02-03T08:00:00\", \"2021-02-03T09:00:00\", \"2021-02-03T10:00:00\", \"2021-02-03T11:00:00\", \"2021-02-03T12:00:00\", \"2021-02-03T13:00:00\", \"2021-02-03T14:00:00\", \"2021-02-03T15:00:00\", \"2021-02-03T16:00:00\", \"2021-02-03T17:00:00\", \"2021-02-03T18:00:00\", \"2021-02-03T19:00:00\", \"2021-02-03T20:00:00\", \"2021-02-04T05:00:00\", \"2021-02-04T06:00:00\", \"2021-02-04T07:00:00\", \"2021-02-04T08:00:00\", \"2021-02-04T09:00:00\", \"2021-02-04T10:00:00\", \"2021-02-04T11:00:00\", \"2021-02-04T12:00:00\", \"2021-02-04T13:00:00\", \"2021-02-04T14:00:00\", \"2021-02-04T15:00:00\", \"2021-02-04T16:00:00\", \"2021-02-04T17:00:00\", \"2021-02-04T18:00:00\", \"2021-02-04T19:00:00\", \"2021-02-04T20:00:00\", \"2021-02-05T05:00:00\", \"2021-02-05T06:00:00\", \"2021-02-05T07:00:00\", \"2021-02-05T08:00:00\", \"2021-02-05T09:00:00\", \"2021-02-05T10:00:00\", \"2021-02-05T11:00:00\", \"2021-02-05T12:00:00\", \"2021-02-05T13:00:00\", \"2021-02-05T14:00:00\", \"2021-02-05T15:00:00\", \"2021-02-05T16:00:00\", \"2021-02-05T17:00:00\", \"2021-02-05T18:00:00\", \"2021-02-05T19:00:00\", \"2021-02-05T20:00:00\", \"2021-02-08T05:00:00\", \"2021-02-08T06:00:00\", \"2021-02-08T07:00:00\", \"2021-02-08T08:00:00\", \"2021-02-08T09:00:00\", \"2021-02-08T10:00:00\", \"2021-02-08T11:00:00\", \"2021-02-08T12:00:00\", \"2021-02-08T13:00:00\", \"2021-02-08T14:00:00\", \"2021-02-08T15:00:00\", \"2021-02-08T16:00:00\", \"2021-02-08T17:00:00\", \"2021-02-08T18:00:00\", \"2021-02-08T19:00:00\", \"2021-02-08T20:00:00\", \"2021-02-09T05:00:00\", \"2021-02-09T06:00:00\", \"2021-02-09T07:00:00\", \"2021-02-09T08:00:00\", \"2021-02-09T09:00:00\", \"2021-02-09T10:00:00\", \"2021-02-09T11:00:00\", \"2021-02-09T12:00:00\", \"2021-02-09T13:00:00\", \"2021-02-09T14:00:00\", \"2021-02-09T15:00:00\", \"2021-02-09T16:00:00\", \"2021-02-09T17:00:00\", \"2021-02-09T18:00:00\", \"2021-02-09T19:00:00\", \"2021-02-09T20:00:00\", \"2021-02-10T05:00:00\", \"2021-02-10T06:00:00\", \"2021-02-10T07:00:00\", \"2021-02-10T08:00:00\", \"2021-02-10T09:00:00\", \"2021-02-10T10:00:00\", \"2021-02-10T11:00:00\", \"2021-02-10T12:00:00\", \"2021-02-10T13:00:00\", \"2021-02-10T14:00:00\", \"2021-02-10T15:00:00\", \"2021-02-10T16:00:00\", \"2021-02-10T17:00:00\", \"2021-02-10T18:00:00\", \"2021-02-10T19:00:00\", \"2021-02-10T20:00:00\", \"2021-02-11T05:00:00\", \"2021-02-11T06:00:00\", \"2021-02-11T07:00:00\", \"2021-02-11T08:00:00\", \"2021-02-11T09:00:00\", \"2021-02-11T10:00:00\", \"2021-02-11T11:00:00\", \"2021-02-11T12:00:00\", \"2021-02-11T13:00:00\", \"2021-02-11T14:00:00\", \"2021-02-11T15:00:00\", \"2021-02-11T16:00:00\", \"2021-02-11T17:00:00\", \"2021-02-11T18:00:00\", \"2021-02-11T19:00:00\", \"2021-02-11T20:00:00\", \"2021-02-12T05:00:00\", \"2021-02-12T06:00:00\", \"2021-02-12T07:00:00\", \"2021-02-12T08:00:00\", \"2021-02-12T09:00:00\", \"2021-02-12T10:00:00\", \"2021-02-12T11:00:00\", \"2021-02-12T12:00:00\", \"2021-02-12T13:00:00\", \"2021-02-12T14:00:00\", \"2021-02-12T15:00:00\", \"2021-02-12T16:00:00\", \"2021-02-12T17:00:00\", \"2021-02-12T18:00:00\", \"2021-02-12T19:00:00\", \"2021-02-12T20:00:00\"], \"xaxis\": \"x\", \"y\": [0.0, 0.0, 0.0015368852459016976, -0.01127049180327863, -0.002061855670103049, 0.005684754521963794, -0.020061728395061755, 0.01733193277310934, 0.018063923263173555, -0.013684744044602107, -0.02415210688591996, -0.008956796628029595, -0.001603806651018081, 0.015957446808510675, 0.003723404255319164, -0.0036939313984169016, 0.015706806282722363, -0.0036045314109165952, -0.012987012987012988, -0.005976722239698058, -0.08144438587243007, 0.005451936872309834, 0.0027084818246614073, 0.00483366505544503, -0.005315595810925439, -0.009954493742889486, -0.00976450315910406, 0.006956521739130492, -0.004006868918145409, 0.0, -0.007428571428571372, 0.0, 0.0, -0.022598870056497095, -0.010416606385379697, 0.03448275862068965, -0.011824324324324372, -0.0002847380410022213, 0.004555808656036552, -0.009643261608154078, -0.012750142938822127, 0.006085192697768788, 0.0063327576280943826, 0.0005720823798625864, 0.00517241379310344, 0.00285225328009111, -0.011993146773272463, 0.0, 0.005148741418764294, 0.007931357290129247, 0.0037058152793615325, 0.04515762567452418, 0.01521739130434789, 0.00558886509635984, 0.0021304926764315686, -0.0318640467339351, 0.009330406147091203, -0.0010917030567685357, 0.0273224043715847, -0.015425531914893572, 0.012447211694639993, 0.00263435194942048, -0.00419287211740033, 0.008492569002123149, 0.007957559681697536, 0.022133825079030448, -0.02835051546391738, -0.0169491525423729, 0.0002692514808830913, -0.010561542641623173, -0.005366395262768381, -0.008752735229759306, 0.009413716814159362, -5.479422030551446e-06, 0.0, 0.0010881392818280508, 0.0, 0.01046831955922872, 0.012707182320441815, -0.03957423580786034, -6.829357129853146e-05, 0.0, 0.017938496583143584, -0.015109121432568526, 0.014842353208275282, -0.011185019564002183, 0.011871113623515957, 0.0, 0.006159014557670741, -0.008403361344537934, -0.0211428571428572, 0.0, 0.0, 0.22914285714285723, -0.10739191073919117, 0.07781282860147216, -0.05664062500000001, 0.002329192546583755, 0.012654958677686002, 0.039285714285714264, -0.025895925380461454, 0.004536290322580638, -0.0005015045135407003, 0.0015060240963854208, 0.005513784461152854, 0.00199401794616165, -0.004975124378109523, -0.013806706114398477, -0.0009876543209876333, -0.004975124378109523, -0.013330105385896178, -0.019990004997501355, 0.030357142857142798, -0.007925742574257422, 0.004551806747853716, -0.012673956262425574, -0.0033937562940583705, 0.0075795856493179456, 0.002506265664160437, -0.004967709885742567, 0.004995000000000083, 0.007499999999999929, 0.0, 0.0, 0.010945273631840738, 0.006918552684210802, 0.12524557956777999, 0.24928041866550377, 0.10897272451021832, 0.08062651771175532, -0.02245552639253415, -0.013148065142686531, -0.04813805631244323, -0.0047707310237644525, 0.020395156150414408, 0.009962640099626411, 0.009541397353031552, 0.12037037037037042, -0.041788661165823804, 0.0002778549597109755, 0.019444444444444525, 0.015351108691183203, -0.03857992180595949, 0.001808873720136547, 0.04742970746946895, 0.030226379286972988, 0.025026343519494093, 0.007438758496857744, 0.01588788138677303, -0.009249999999999935, 0.07054361567635921, -0.010849056603773605, 0.002386634844868769, -0.009478672985782125, -0.039426523297491, 0.005925925925925975, -0.057079862812346845, -0.0051948051948052685, -0.023050395799043832, -0.020436550395891366, -0.0656834630615868, 0.04490248420929806, 0.004611461338859881, 0.052792442345095815, -0.06309398099260825, -0.007028089887640436, 0.0014204545454544646, 0.002793296089385515, 0.0027855153203343017, 0.048717948717948684, 0.011773362766740172, -0.018491484184914794, -0.05234567901234562, 0.06513809275664408, -0.002746634026927819, -0.0733742331288344, 0.04842815559671875, 0.06283118849356535, -0.0259222688825706, -0.016324576743095474, -0.018645974858857446, -0.013216463414634214, 0.0012873326467558485, -0.003856041131105362, -0.002583979328165411, -0.017402597402597447, -0.009198423127463714, 0.005305039787798295, 0.013185654008438817, 0.005843293492695853, -0.0008563899868249266, -0.02923360547800894, 0.06755290287574613, -0.01552953156822809, 0.01654976057978522, 0.008020369191597833, -0.012121212121212222, -0.005383235067931322, -0.003347064881565462, 0.0018027298480556345, 0.004114168166623723, 0.0, -0.0012836970474969002, -0.004903225806451555, 0.011670527443508565, -0.014084507042253449, 0.03525058426382762, 0.06079002935054712, -0.06146572104018899, 0.06584195910123716, -0.03980227881244185, 0.06143597335307185, -0.0011619800139438593, 0.016117729502452643, 0.03394077448747157, 0.0008828073273007978, 0.009852216748768582, -0.0168514412416851, -0.008042895442359237, 0.00981923677750497, -0.00842581175503498, 0.04050690201403031, 0.03673624701021951, 0.09463795164300555, 0.34674329501915696, -0.21702493428997666, 0.07608804356720095, 0.09571682014023809, 0.03999999999999991, -0.05481481481481486, -0.004687499999999956, -0.04088050314465411, 0.4536551724137931, -0.09365926758452749, -0.025791808521613533, -0.02995342929720574, 0.0691309562752154, -0.08655167150053422, 0.30534649049450846, -0.14956863415050817, -0.30573057305730567, 0.1075021645021645, 0.004907072317978349, -0.0055058945459256015, 0.022537508238916818, 0.04235234085980346, 0.014320156651572697, 0.07201447527141132, 0.044444444444444446, -0.06047745358090189, -0.0056179775280898875, 0.02947463156710546, -0.025867714472822576, -0.016067415730337157, 0.00040079931487296496, 0.0020531842045193936, 0.20380452757027992, 0.08770178998553842, 0.1539659950041049, 0.10838757002170979, 0.5352257181942545, -0.07328584149599292, 0.08121095627102358, -0.06884444444444449, 0.21296521527608855, 0.17195325542570952, -0.437636761487965, 0.15288220551378445, 0.006521739130434782, 0.3441055591607181, 0.19818252126836813, -0.15779860014763647, 0.0945651130801958, -0.042372362008405565, -0.01984052504063547, 0.0848715449199711, -0.058271704411383844, -0.022941104594330373, -0.22006269592476485, 0.17273786095827137, 0.07613234821715383, 0.3689171745069196, -0.024978089395267262, 0.026822666159593767, -0.2570806100217865, 0.3749596454670853, -0.43707889125799576, -0.034862641509433925, -0.06376967850306652, 0.0024196182481548787, 0.01954993286735783, -0.19784151763314492, 0.3016612641815235, 0.09669260700389114, 0.2378625191738309, -0.10089337175792505, 0.18316666666666667, -0.07369047619047617, 0.025999999999999978, -0.12281012658227845, 0.04529345665139605, -0.12572656400650117, 0.05322695936190732, 0.013604592849997847, -0.03105152933298269, -0.15850507530517963, 0.027580358760644984, 0.15256855928930083, -0.017242957853938517, -0.050573999379460166, 0.03139394335369643, -0.012626582278481041, -0.022746419545071672, -0.02881844380403458, -0.029053254437869803, -0.012430517378290859, -0.028134556574923513, -0.1501419578218444, -0.12077777777777783, 0.09471016788089952, -0.04247104247104247, 0.006198585767763713, -0.039268800000000055, -0.054598400063970785, -0.07943759425175195, -0.14406616657049437, 0.054775280898876406, 0.01537637289043667, -0.024529378208785004, 0.01630751310425167, -0.08919027642089525, -0.12348331648129436, -0.08273381294964029, -0.09803921568627451, -0.20357356107937977, 0.2611164366789978, 0.07178555202180832, -0.11772820871752736, -0.03571521649110369, -0.09399626061903078, -0.021815777875716216, 0.03580274712902507, -0.021739130434782608, -0.0533333333333333, 0.11323886122813742, 0.0990269032627362, -0.05046728971962616, -0.013719679508286687, 0.03930082386996216, -0.005460385438972217, 0.06593167445505418, -0.05552846488797087, 0.06351063829787233, 0.07823370110330986, -0.08475843379123453, -0.06088052239567401, -0.01809905711498864, 0.005794249480704068, -0.025027203482045825, -0.004703247480403155, 0.013759479956663013, 0.033653846153846215, -0.018570102135561862, -0.010781953313095375, -0.000736842105263086, -0.12221052631578946, -0.14265129682997113, -0.038013693345920314, -0.06490553088530795, -0.06976444924720804, -0.03224198105368132, -0.08332632092337125, -0.005984664297737054, -0.05491818694752683, 0.0017960486928757415, -0.020517928286852612, 0.13775700934579435, -0.02529981928700508, -0.0129368279569893, 0.018793103448275922, -0.032662040954476335, 0.4470279720279719, -0.1443941041440135, -0.09082693942329136, -0.01155646804473285, -0.042961610209246284, -0.00294918032786891, 0.04816866677626176, 0.010436137071651117, 0.07467532467532464, -0.033927544565842425, -0.011011904761904896, 0.01321585903083709, 0.026011560693641578, 0.007189173949816819, -0.014468085106382922, 0.002305807753278521, -0.07192075796726947, -0.05974307382758086, -0.018026174993826635, 0.008766118875079039, -0.008108063175394791, -0.014743632707774786, 0.01834069293478252, -0.006833333333333276, 0.001680672268907587, 0.003188454438664167, -0.004850309416290335, -0.04682274247491634, 0.007957559681697663, 0.0005284481240090546, -0.022887323943661924, 0.0005293806246691572, -0.05414462081128748, -0.08488805970149262, -0.013256759503964165, 0.004118252987227019, 0.005344568309877957, 0.041039470157483715, -0.012363125344701348, 0.053484602917341986, -0.010576923076923022, -0.02502910360884748, -0.005174129353233792, 0.007000000000000029, -0.03578528827037768, 0.0, 0.04794099569760287, 0.030101010101010142, -0.00999999999999996, -0.01445349396731466, 0.05912809945682638, 0.06012156899990493, 0.00796064400715564, -0.054450754214729384, -0.036151383920165724, -0.03435487019324611, 0.014756418031130059, -0.004183266932270933, -0.0009990009990010179, 0.003637098403717917, 0.02, -0.005329648637978603, -0.002384737678855275, 0.005197989604020685, 0.040761411201913525, -0.037310569729522354, -0.02133472562379061, -0.00427785699735182, -0.0085156289837337, 0.0003346335454732312, 0.04538919696036149, -0.009288537549407092, -0.013157894736842039, 0.02134146341463409, 0.00019892580067630813, 0.00790513833992092, -0.003976933784052411, -0.0005982053838484773, 0.013842198932173281, 0.003944773175542322, 0.003283292786645383, 0.05946253197334762, -0.025046676624346592, 0.0037523056046585316, -0.016562948779320286, -0.0004284323271664745, 0.019283209972730714, -0.009541984732824428, -0.003658067000385016, 0.01721137110810289, 0.015940080660649093], \"yaxis\": \"y\"}],                        {\"barmode\": \"relative\", \"legend\": {\"tracegroupgap\": 0}, \"plot_bgcolor\": \"rgb(84, 85, 87)\", \"template\": {\"data\": {\"bar\": [{\"error_x\": {\"color\": \"#2a3f5f\"}, \"error_y\": {\"color\": \"#2a3f5f\"}, \"marker\": {\"line\": {\"color\": \"#E5ECF6\", \"width\": 0.5}}, \"type\": \"bar\"}], \"barpolar\": [{\"marker\": {\"line\": {\"color\": \"#E5ECF6\", \"width\": 0.5}}, \"type\": \"barpolar\"}], \"carpet\": [{\"aaxis\": {\"endlinecolor\": \"#2a3f5f\", \"gridcolor\": \"white\", \"linecolor\": \"white\", \"minorgridcolor\": \"white\", \"startlinecolor\": \"#2a3f5f\"}, \"baxis\": {\"endlinecolor\": \"#2a3f5f\", \"gridcolor\": \"white\", \"linecolor\": \"white\", \"minorgridcolor\": \"white\", \"startlinecolor\": \"#2a3f5f\"}, \"type\": \"carpet\"}], \"choropleth\": [{\"colorbar\": {\"outlinewidth\": 0, \"ticks\": \"\"}, \"type\": \"choropleth\"}], \"contour\": [{\"colorbar\": {\"outlinewidth\": 0, \"ticks\": \"\"}, \"colorscale\": [[0.0, \"#0d0887\"], [0.1111111111111111, \"#46039f\"], [0.2222222222222222, \"#7201a8\"], [0.3333333333333333, \"#9c179e\"], [0.4444444444444444, \"#bd3786\"], [0.5555555555555556, \"#d8576b\"], [0.6666666666666666, \"#ed7953\"], [0.7777777777777778, \"#fb9f3a\"], [0.8888888888888888, \"#fdca26\"], [1.0, \"#f0f921\"]], \"type\": \"contour\"}], \"contourcarpet\": [{\"colorbar\": {\"outlinewidth\": 0, \"ticks\": \"\"}, \"type\": \"contourcarpet\"}], \"heatmap\": [{\"colorbar\": {\"outlinewidth\": 0, \"ticks\": \"\"}, \"colorscale\": [[0.0, \"#0d0887\"], [0.1111111111111111, \"#46039f\"], [0.2222222222222222, \"#7201a8\"], [0.3333333333333333, \"#9c179e\"], [0.4444444444444444, \"#bd3786\"], [0.5555555555555556, \"#d8576b\"], [0.6666666666666666, \"#ed7953\"], [0.7777777777777778, \"#fb9f3a\"], [0.8888888888888888, \"#fdca26\"], [1.0, \"#f0f921\"]], \"type\": \"heatmap\"}], \"heatmapgl\": [{\"colorbar\": {\"outlinewidth\": 0, \"ticks\": \"\"}, \"colorscale\": [[0.0, \"#0d0887\"], [0.1111111111111111, \"#46039f\"], [0.2222222222222222, \"#7201a8\"], [0.3333333333333333, \"#9c179e\"], [0.4444444444444444, \"#bd3786\"], [0.5555555555555556, \"#d8576b\"], [0.6666666666666666, \"#ed7953\"], [0.7777777777777778, \"#fb9f3a\"], [0.8888888888888888, \"#fdca26\"], [1.0, \"#f0f921\"]], \"type\": \"heatmapgl\"}], \"histogram\": [{\"marker\": {\"colorbar\": {\"outlinewidth\": 0, \"ticks\": \"\"}}, \"type\": \"histogram\"}], \"histogram2d\": [{\"colorbar\": {\"outlinewidth\": 0, \"ticks\": \"\"}, \"colorscale\": [[0.0, \"#0d0887\"], [0.1111111111111111, \"#46039f\"], [0.2222222222222222, \"#7201a8\"], [0.3333333333333333, \"#9c179e\"], [0.4444444444444444, \"#bd3786\"], [0.5555555555555556, \"#d8576b\"], [0.6666666666666666, \"#ed7953\"], [0.7777777777777778, \"#fb9f3a\"], [0.8888888888888888, \"#fdca26\"], [1.0, \"#f0f921\"]], \"type\": \"histogram2d\"}], \"histogram2dcontour\": [{\"colorbar\": {\"outlinewidth\": 0, \"ticks\": \"\"}, \"colorscale\": [[0.0, \"#0d0887\"], [0.1111111111111111, \"#46039f\"], [0.2222222222222222, \"#7201a8\"], [0.3333333333333333, \"#9c179e\"], [0.4444444444444444, \"#bd3786\"], [0.5555555555555556, \"#d8576b\"], [0.6666666666666666, \"#ed7953\"], [0.7777777777777778, \"#fb9f3a\"], [0.8888888888888888, \"#fdca26\"], [1.0, \"#f0f921\"]], \"type\": \"histogram2dcontour\"}], \"mesh3d\": [{\"colorbar\": {\"outlinewidth\": 0, \"ticks\": \"\"}, \"type\": \"mesh3d\"}], \"parcoords\": [{\"line\": {\"colorbar\": {\"outlinewidth\": 0, \"ticks\": \"\"}}, \"type\": \"parcoords\"}], \"pie\": [{\"automargin\": true, \"type\": \"pie\"}], \"scatter\": [{\"marker\": {\"colorbar\": {\"outlinewidth\": 0, \"ticks\": \"\"}}, \"type\": \"scatter\"}], \"scatter3d\": [{\"line\": {\"colorbar\": {\"outlinewidth\": 0, \"ticks\": \"\"}}, \"marker\": {\"colorbar\": {\"outlinewidth\": 0, \"ticks\": \"\"}}, \"type\": \"scatter3d\"}], \"scattercarpet\": [{\"marker\": {\"colorbar\": {\"outlinewidth\": 0, \"ticks\": \"\"}}, \"type\": \"scattercarpet\"}], \"scattergeo\": [{\"marker\": {\"colorbar\": {\"outlinewidth\": 0, \"ticks\": \"\"}}, \"type\": \"scattergeo\"}], \"scattergl\": [{\"marker\": {\"colorbar\": {\"outlinewidth\": 0, \"ticks\": \"\"}}, \"type\": \"scattergl\"}], \"scattermapbox\": [{\"marker\": {\"colorbar\": {\"outlinewidth\": 0, \"ticks\": \"\"}}, \"type\": \"scattermapbox\"}], \"scatterpolar\": [{\"marker\": {\"colorbar\": {\"outlinewidth\": 0, \"ticks\": \"\"}}, \"type\": \"scatterpolar\"}], \"scatterpolargl\": [{\"marker\": {\"colorbar\": {\"outlinewidth\": 0, \"ticks\": \"\"}}, \"type\": \"scatterpolargl\"}], \"scatterternary\": [{\"marker\": {\"colorbar\": {\"outlinewidth\": 0, \"ticks\": \"\"}}, \"type\": \"scatterternary\"}], \"surface\": [{\"colorbar\": {\"outlinewidth\": 0, \"ticks\": \"\"}, \"colorscale\": [[0.0, \"#0d0887\"], [0.1111111111111111, \"#46039f\"], [0.2222222222222222, \"#7201a8\"], [0.3333333333333333, \"#9c179e\"], [0.4444444444444444, \"#bd3786\"], [0.5555555555555556, \"#d8576b\"], [0.6666666666666666, \"#ed7953\"], [0.7777777777777778, \"#fb9f3a\"], [0.8888888888888888, \"#fdca26\"], [1.0, \"#f0f921\"]], \"type\": \"surface\"}], \"table\": [{\"cells\": {\"fill\": {\"color\": \"#EBF0F8\"}, \"line\": {\"color\": \"white\"}}, \"header\": {\"fill\": {\"color\": \"#C8D4E3\"}, \"line\": {\"color\": \"white\"}}, \"type\": \"table\"}]}, \"layout\": {\"annotationdefaults\": {\"arrowcolor\": \"#2a3f5f\", \"arrowhead\": 0, \"arrowwidth\": 1}, \"autotypenumbers\": \"strict\", \"coloraxis\": {\"colorbar\": {\"outlinewidth\": 0, \"ticks\": \"\"}}, \"colorscale\": {\"diverging\": [[0, \"#8e0152\"], [0.1, \"#c51b7d\"], [0.2, \"#de77ae\"], [0.3, \"#f1b6da\"], [0.4, \"#fde0ef\"], [0.5, \"#f7f7f7\"], [0.6, \"#e6f5d0\"], [0.7, \"#b8e186\"], [0.8, \"#7fbc41\"], [0.9, \"#4d9221\"], [1, \"#276419\"]], \"sequential\": [[0.0, \"#0d0887\"], [0.1111111111111111, \"#46039f\"], [0.2222222222222222, \"#7201a8\"], [0.3333333333333333, \"#9c179e\"], [0.4444444444444444, \"#bd3786\"], [0.5555555555555556, \"#d8576b\"], [0.6666666666666666, \"#ed7953\"], [0.7777777777777778, \"#fb9f3a\"], [0.8888888888888888, \"#fdca26\"], [1.0, \"#f0f921\"]], \"sequentialminus\": [[0.0, \"#0d0887\"], [0.1111111111111111, \"#46039f\"], [0.2222222222222222, \"#7201a8\"], [0.3333333333333333, \"#9c179e\"], [0.4444444444444444, \"#bd3786\"], [0.5555555555555556, \"#d8576b\"], [0.6666666666666666, \"#ed7953\"], [0.7777777777777778, \"#fb9f3a\"], [0.8888888888888888, \"#fdca26\"], [1.0, \"#f0f921\"]]}, \"colorway\": [\"#636efa\", \"#EF553B\", \"#00cc96\", \"#ab63fa\", \"#FFA15A\", \"#19d3f3\", \"#FF6692\", \"#B6E880\", \"#FF97FF\", \"#FECB52\"], \"font\": {\"color\": \"#2a3f5f\"}, \"geo\": {\"bgcolor\": \"white\", \"lakecolor\": \"white\", \"landcolor\": \"#E5ECF6\", \"showlakes\": true, \"showland\": true, \"subunitcolor\": \"white\"}, \"hoverlabel\": {\"align\": \"left\"}, \"hovermode\": \"closest\", \"mapbox\": {\"style\": \"light\"}, \"paper_bgcolor\": \"white\", \"plot_bgcolor\": \"#E5ECF6\", \"polar\": {\"angularaxis\": {\"gridcolor\": \"white\", \"linecolor\": \"white\", \"ticks\": \"\"}, \"bgcolor\": \"#E5ECF6\", \"radialaxis\": {\"gridcolor\": \"white\", \"linecolor\": \"white\", \"ticks\": \"\"}}, \"scene\": {\"xaxis\": {\"backgroundcolor\": \"#E5ECF6\", \"gridcolor\": \"white\", \"gridwidth\": 2, \"linecolor\": \"white\", \"showbackground\": true, \"ticks\": \"\", \"zerolinecolor\": \"white\"}, \"yaxis\": {\"backgroundcolor\": \"#E5ECF6\", \"gridcolor\": \"white\", \"gridwidth\": 2, \"linecolor\": \"white\", \"showbackground\": true, \"ticks\": \"\", \"zerolinecolor\": \"white\"}, \"zaxis\": {\"backgroundcolor\": \"#E5ECF6\", \"gridcolor\": \"white\", \"gridwidth\": 2, \"linecolor\": \"white\", \"showbackground\": true, \"ticks\": \"\", \"zerolinecolor\": \"white\"}}, \"shapedefaults\": {\"line\": {\"color\": \"#2a3f5f\"}}, \"ternary\": {\"aaxis\": {\"gridcolor\": \"white\", \"linecolor\": \"white\", \"ticks\": \"\"}, \"baxis\": {\"gridcolor\": \"white\", \"linecolor\": \"white\", \"ticks\": \"\"}, \"bgcolor\": \"#E5ECF6\", \"caxis\": {\"gridcolor\": \"white\", \"linecolor\": \"white\", \"ticks\": \"\"}}, \"title\": {\"x\": 0.05}, \"xaxis\": {\"automargin\": true, \"gridcolor\": \"white\", \"linecolor\": \"white\", \"ticks\": \"\", \"title\": {\"standoff\": 15}, \"zerolinecolor\": \"white\", \"zerolinewidth\": 2}, \"yaxis\": {\"automargin\": true, \"gridcolor\": \"white\", \"linecolor\": \"white\", \"ticks\": \"\", \"title\": {\"standoff\": 15}, \"zerolinecolor\": \"white\", \"zerolinewidth\": 2}}}, \"title\": {\"text\": \"Percent GME Change\"}, \"xaxis\": {\"anchor\": \"y\", \"domain\": [0.0, 1.0], \"gridcolor\": \"rgb(144, 145, 142)\", \"title\": {\"text\": \"Date\"}}, \"yaxis\": {\"anchor\": \"x\", \"domain\": [0.0, 1.0], \"gridcolor\": \"rgb(144, 145, 142)\", \"title\": {\"text\": \"percent change\"}}},                        {\"responsive\": true}                    ).then(function(){\n",
       "                            \n",
       "var gd = document.getElementById('c6e684d8-6cee-497c-b26e-3e69a9d71034');\n",
       "var x = new MutationObserver(function (mutations, observer) {{\n",
       "        var display = window.getComputedStyle(gd).display;\n",
       "        if (!display || display === 'none') {{\n",
       "            console.log([gd, 'removed!']);\n",
       "            Plotly.purge(gd);\n",
       "            observer.disconnect();\n",
       "        }}\n",
       "}});\n",
       "\n",
       "// Listen for the removal of the full notebook cells\n",
       "var notebookContainer = gd.closest('#notebook-container');\n",
       "if (notebookContainer) {{\n",
       "    x.observe(notebookContainer, {childList: true});\n",
       "}}\n",
       "\n",
       "// Listen for the clearing of the current output cell\n",
       "var outputEl = gd.closest('.output');\n",
       "if (outputEl) {{\n",
       "    x.observe(outputEl, {childList: true});\n",
       "}}\n",
       "\n",
       "                        })                };                });            </script>        </div>"
      ]
     },
     "metadata": {},
     "output_type": "display_data"
    }
   ],
   "source": [
    "fig = px.bar(gmefull, x='date', y=\"percent change\", \n",
    "             title='Percent GME Change',\n",
    "             labels = {\n",
    "                 'date':'Date',\n",
    "                 'count':'Percent Change'})\n",
    "fig.update_traces(marker_color='rgb(73, 157, 222)',\n",
    "                  marker_line_width=0)\n",
    "\n",
    "fig.layout.plot_bgcolor='rgb(84, 85, 87)'\n",
    "fig.layout.yaxis.gridcolor='rgb(144, 145, 142)'\n",
    "fig.layout.xaxis.gridcolor='rgb(144, 145, 142)'\n",
    "fig.show()"
   ]
  },
  {
   "cell_type": "code",
   "execution_count": 57,
   "metadata": {},
   "outputs": [
    {
     "data": {
      "text/plain": [
       "SpearmanrResult(correlation=-0.10321609558737457, pvalue=0.02493075330552498)"
      ]
     },
     "execution_count": 57,
     "metadata": {},
     "output_type": "execute_result"
    }
   ],
   "source": [
    "stats.spearmanr(gmefull['count'],gmefull['percent change'])"
   ]
  },
  {
   "cell_type": "code",
   "execution_count": null,
   "metadata": {},
   "outputs": [],
   "source": [
    "s_corr = stats.spearmanr(growth_vs_hr['count'], growth_vs_hr['percent change'])"
   ]
  },
  {
   "cell_type": "code",
   "execution_count": 22,
   "metadata": {},
   "outputs": [
    {
     "data": {
      "text/plain": [
       "SpearmanrResult(correlation=-0.0877017386768316, pvalue=0.6449129625582433)"
      ]
     },
     "execution_count": 22,
     "metadata": {},
     "output_type": "execute_result"
    }
   ],
   "source": [
    "s_corr = stats.spearmanr(growth_vs_hr['count'], growth_vs_hr['percent change'])\n",
    "s_corr"
   ]
  },
  {
   "cell_type": "code",
   "execution_count": 49,
   "metadata": {},
   "outputs": [
    {
     "data": {
      "application/vnd.plotly.v1+json": {
       "config": {
        "plotlyServerURL": "https://plot.ly"
       },
       "data": [
        {
         "alignmentgroup": "True",
         "bingroup": "x",
         "histnorm": "probability density",
         "hovertemplate": "x=%{x}<br>probability density=%{y}<extra></extra>",
         "legendgroup": "",
         "marker": {
          "color": "#636efa"
         },
         "name": "",
         "offsetgroup": "",
         "orientation": "v",
         "showlegend": false,
         "type": "histogram",
         "x": [
          -0.5305049625260166,
          0.03682765517553864,
          0.5268617297897674,
          -1.5373481150626953,
          2.0300882019952424,
          1.2232009544783167,
          0.6187090978712309,
          -0.18253029059868855,
          -0.20496179395894665,
          -0.0849343434186785,
          1.5970788974993957,
          -0.08965823684981689,
          1.4376839290127879,
          0.052946592600477425,
          2.984355589684764,
          -0.055286206936356046,
          0.11496142174496359,
          -0.5482810358256226,
          -0.39827062045478456,
          0.8994711640095442,
          -2.2539350076905276,
          0.36855150176697526,
          -0.793114557921915,
          -1.6879547312565852,
          0.4423945232496336,
          -0.19268103268749606,
          0.45454604284534394,
          -0.5234565054583198,
          -0.6252133544123541,
          -1.3990079777509496,
          -0.6746219094422696,
          0.6377163572932518,
          -1.1146875934800342,
          -1.0960059763310086,
          -1.815928642037205,
          0.9820529445146137,
          1.3910716320084,
          1.0151155578812388,
          -1.2904595359683508,
          0.23359425425447702,
          -1.8868848598192285,
          -0.17020068924794488,
          1.7050091845711164,
          -0.03260258861398201,
          0.25369530017766007,
          1.5394432194904055,
          1.3649583126410725,
          1.0526301108663056,
          0.04445066495170886,
          0.042241771835132086,
          -0.9267802086019126,
          1.0791882578490246,
          -0.8022751901999714,
          -0.3834295010655744,
          0.0912755160663496,
          -0.7639912960364946,
          0.8035378484043142,
          1.764245939370608,
          0.6966568136797492,
          -0.06599135209933714,
          1.2213383974316134,
          -1.330377038078689,
          -0.6526023686091746,
          0.4020276195198526,
          -0.6477782456952943,
          -0.3519539877226878,
          0.8432727171904566,
          0.0879674135391768,
          -0.16305760296286428,
          -0.3964854636742744,
          -0.8262609083346268,
          -1.8883698658556884,
          0.31426679217465914,
          0.6541305512685445,
          -1.019141166742679,
          -0.6684087504001927,
          0.5611293671629785,
          -0.1504865685333817,
          -1.4154298065800401,
          -1.1581859442300895,
          -1.8943112376488394,
          -0.5493553730660167,
          -0.19460373073926684,
          -0.42828197361512926,
          0.8988477876076644,
          0.5836755589349495,
          0.9996646456775403,
          0.08602888075814785,
          0.7504875236100951,
          -1.6784696852598133,
          1.7278377605969217,
          0.3124922517360362,
          0.3549220757607118,
          0.4112611702812046,
          1.4051202906113585,
          0.74960932899034,
          -1.7916132354055103,
          -0.5057376673798142,
          -0.48786829812774557,
          -0.41533107033331784,
          1.6071499491209889,
          1.0555588526174244,
          -1.3555247011985854,
          0.7141397644371084,
          -0.5513334314423971,
          0.7660457858638997,
          1.0936065422135686,
          1.246378800128005,
          0.2146705457376472,
          0.5774051096575455,
          -0.2950844236043644,
          0.7632166957243176,
          -0.2519307719070834,
          0.5036538644505035,
          0.7119574501234011,
          -0.1457718265615241,
          0.7706738626616871,
          1.9268203975471128,
          0.905774353463972,
          0.2168317382211045,
          -0.08060840839048751,
          0.9494197216690166,
          -0.08575209672226088,
          0.9970662785979382,
          -0.6099878277322888,
          -1.2049592717280013,
          -0.4836879807863869,
          -0.02131133321698281,
          1.0743748560345077,
          0.3317224203244066,
          -1.9123873228450907,
          -0.791013125211486,
          -2.393704306398312,
          0.8286210032032232,
          0.9213329078243213,
          1.2497616094668005,
          1.74092236211362,
          0.3047032592165796,
          0.6278323519542583,
          -1.9807934360055348,
          -0.07969880898148685,
          -1.0544683929197074,
          -0.18664215543852422,
          -2.027386404180575,
          0.1636554472788487,
          1.6126263612661478,
          -0.2225104403408024,
          1.295831059934621,
          -0.9735709557118182,
          0.5037670214751289,
          1.1789817122494852,
          1.425793766901399,
          -2.7572897830216028,
          0.2819083045645185,
          0.04237802618778308,
          -2.333043372261456,
          0.2894904287953104,
          0.9559939305834035,
          1.7203909313042363,
          0.24550077753143693,
          0.473607590998137,
          0.44112555587358876,
          0.6291918299173026,
          0.4813585898748283,
          0.7310244760570017,
          -0.1226703318804474,
          -0.32202235122424483,
          -0.6427391625474261,
          0.8711020077423745,
          -0.8673547230702214,
          1.079762783387017,
          0.3465065526765366,
          -0.43151287221334594,
          -0.338824815286927,
          0.8739092958084799,
          -1.0966182240007574,
          -0.5410474974008498,
          -0.8424213051689942,
          0.38904728451587656,
          -1.6520815139209084,
          -0.3872214469371265,
          -0.5365548961272967,
          2.074907560711953,
          0.854614207981753,
          0.6542958680984751,
          -0.6270090052978383,
          -1.9341157682132744,
          -0.10623165918033005,
          -0.33583150834986925,
          1.1732308263243436,
          0.5573183837344668,
          -1.090527882346017,
          0.7065930348518672,
          0.8975932587094458,
          -0.7940450468047763,
          1.2987595903488136,
          0.29656037367777804,
          1.010706360322825,
          -0.38827116862840294,
          -1.110649891786863,
          0.878488631095028,
          -0.690459772835103,
          -0.9095385828145568,
          0.868458081027893,
          -0.4723472239623122,
          0.14667268163329084,
          1.0100884941904016,
          0.42691588432402916,
          -0.6352380979728056,
          0.5035609094612945,
          -1.7010298738433376,
          0.8290824465243212,
          0.07422408250874715,
          -0.8164170786933995,
          1.3250977398895698,
          -0.40005935225565076,
          -1.800830905321427,
          0.9491450115476237,
          -1.4066015919781527,
          -0.23737028487243542,
          -0.026316830877246865,
          0.6250154720172025,
          2.410737619745837,
          -0.38750830360019584,
          0.1766275311472558,
          -0.20361495484399586,
          0.6543292199407111,
          0.002271547943480072,
          -0.5473973102196775,
          0.8562085780568879,
          -0.7574904956162422,
          0.15014316911674744,
          0.4468565945181818,
          -0.661882964223566,
          0.15146905163465194,
          -0.5808096003315517,
          -0.114223014958949,
          0.5693298205088201,
          0.06652771494466517,
          0.26005647401503534,
          1.5500482706022543,
          -0.7295222477617082,
          1.0198878376411786,
          -0.9690085817668542,
          1.1979730320795419,
          1.0917203792390702,
          1.1717342295304292,
          0.3886570623993388,
          1.1303849455127466,
          -1.1609029332413177,
          -0.8581337331993389,
          0.277207808628931,
          0.6075089791222608,
          -0.5227177515690373,
          0.040060972723030344,
          -0.28952868447136526,
          -0.09043313749391868,
          0.3736210029021025,
          -0.06410829868642924,
          -0.6243401545641066,
          -2.3101407985213913,
          -1.4903451872906752,
          -1.2105408652811,
          0.6205464437210327,
          0.41779945725414325,
          -1.189390014811986,
          1.936988714738737,
          0.26245967520510777,
          0.1048662864715264,
          1.1644398336899529,
          -0.3976497940486195,
          1.2113088488363988,
          -0.9059498554634399,
          0.18958389506999387,
          -1.4319894801254909,
          1.4226193578220456,
          -2.21284390729786,
          -0.4718989779094261,
          1.5860161911338582,
          -1.2129625728558853,
          -0.20766846455618546,
          0.627015484155611,
          -0.5266858799089416,
          2.012440114988283,
          1.320893926086377,
          0.7635267567092004,
          -0.29276659122823445,
          0.561224701278509,
          1.0626186673587104,
          0.8372880641351476,
          0.09176411766802103,
          -0.04053768646822535,
          0.9291647742771189,
          0.6526979149902828,
          1.340097797174367,
          0.9976071716054412,
          -2.5385051601821846,
          0.02266024244760579,
          -0.7443865082697781,
          -0.41149495617931475,
          -1.3751366303221821,
          0.9701034077494407,
          -1.1064957692216544,
          1.1114197083107644,
          1.6140566621045283,
          -0.18746487259928843,
          1.4448517941765713,
          1.003592020940048,
          0.3564874891844406,
          -1.205323171554188,
          -1.8999569015817606,
          0.3937152735568486,
          -0.8262438448962923,
          1.9857304237730313,
          -1.3090791156083728,
          0.02187762233364445,
          -1.686442063262721,
          -1.7849393487277128,
          -0.18334134807211597,
          1.6054598760597931,
          1.5786178388497456,
          -1.4931057201011173,
          -1.8368875159337104,
          0.6076701912305973,
          -0.34159995378428504,
          -0.35433706502813284,
          -0.7935479687336559,
          0.3472752417645066,
          1.1333326092101015,
          -0.677109972252806,
          -0.32929717026128824,
          -1.5632285338756968,
          0.6617269330371841,
          -0.5907304429800141,
          -0.7202643085937538,
          -0.7843884932625848,
          0.3500639397445141,
          -1.2582392035883692,
          0.7859747115280793,
          -1.2918429403192115,
          1.5490772399104416,
          0.9882508826407823,
          -0.044870276402905016,
          1.9287144645340613,
          -1.2106774965697804,
          -1.7866947399329336,
          0.07809229190626281,
          0.1325935975578515,
          0.4694473121933574,
          1.3205059733228628,
          0.5640610498045044,
          -0.49634572832813467,
          -0.4600498833003941,
          0.04034701412066147,
          1.0270828538761665,
          -0.6863060686501284,
          0.5839921815647107,
          0.5918669158700743,
          0.8791768596462519,
          -0.49337032000853187,
          -0.1867747144863655,
          -0.5313518673960126,
          -0.08942511134566411,
          0.28083774828740965,
          0.3856863864331588,
          0.2708764142506466,
          0.3853069881735179,
          0.42518880127096653,
          -0.6588534761916588,
          -0.7399061754501945,
          -0.631697436794863,
          1.0929090252755778,
          -0.8007549330617654,
          -1.5181725771858463,
          -0.7330782047362746,
          0.1326889342693101,
          -0.27866096287808984,
          1.5559526986006886,
          -1.7505252665651398,
          0.5418005925801889,
          -0.46745345952862305,
          -1.3888704013878965,
          -0.8340541124928088,
          0.5095924331371926,
          0.3111860364285458,
          0.5624327624068414,
          0.9380968321722709,
          1.1000992737763542,
          -0.28298953573677665,
          -2.630919045271584,
          -0.33723907878412956,
          -1.1513505186017516,
          0.2918079702035349,
          -0.05368831650530784,
          -0.9353582301457264,
          -0.23277179154014216,
          0.7725064008898704,
          0.302738305825358,
          1.4543009643349252,
          -0.5780587981155838,
          -0.07613724445336317,
          0.19372264699541902,
          -1.3905710024317597,
          1.0014064926538717,
          1.4101167087501028,
          0.03836184723341846,
          0.5628347613566009,
          -0.15589744428974114,
          0.8774286844364549,
          -0.148606163889838,
          1.935969059668375,
          0.13975956957078495,
          -0.610726701690505,
          -0.5128542902600756,
          -2.070593354993987,
          1.2421405590039196,
          -0.2867987480073697,
          1.8855423445136992,
          0.8713870370064705,
          -1.0949363872411026,
          -0.9169613746587331,
          0.092157574426209,
          -0.4519590269255154,
          0.009594317924257054,
          -0.045142341346376534,
          1.88784722573215,
          2.5067981335154634,
          0.8937913669957007,
          0.6027863213125679,
          0.3049361577502221,
          1.1796307626017772,
          1.9766820243728525,
          0.4277808292125539,
          0.025400772733227328,
          0.6317666177325978,
          -0.13633172192975465,
          -1.7280130409777372,
          0.3538090509376278,
          -0.16410454047388934,
          0.24038521894229276,
          -1.0638937803173163,
          -0.6441916302680625,
          -1.831448328699367,
          -0.7996416681720158,
          -2.0667819929185383,
          -0.420558273503616,
          -1.5036610051841832,
          0.16957995109120289,
          0.027138226686792753,
          0.1615585341691504,
          -1.0160009395405087,
          0.4069368065399354,
          -2.43263709439698,
          2.186381904094452,
          -0.8186804127740295,
          -0.40706801624623645,
          0.421928079163777,
          -1.4513821248202496,
          -0.43329653155260067,
          -1.7250114397626781,
          -0.7567332234417606,
          0.7951924113019525,
          0.1933162494429223,
          -0.09719493737803778,
          -0.0763662015625257,
          0.0697053142703435,
          -0.0035654930644735184,
          -1.345449117230287,
          1.2800838576049323,
          -0.8357193103740405,
          1.0490557996578194,
          -0.6026575674859775,
          0.9384635757800035,
          1.3034283584438011,
          -0.8673561406990014,
          -0.023271184966059098,
          0.28600055704483873,
          0.9368719702897915,
          -0.616364671407378,
          0.9338289682097365,
          1.2666573557954883,
          0.6543151009003041,
          -0.9173957490093017,
          -0.880136323894748,
          0.2299106421801901,
          -0.650573133623565,
          -0.10989621811994849,
          1.5523870893998661,
          -0.5917272550871077,
          1.206059078982438,
          -1.1417069806778473,
          -1.6654258540210145,
          0.02440481248418381,
          0.9196871919626868,
          1.0819936302624196,
          0.8154109271376199,
          0.29218097355685535,
          -0.5058747838458888,
          -0.27165322008060083,
          -0.038084337945297635,
          -0.21382993461154595,
          -0.45878257429887886,
          -0.5062778260353976,
          -0.1381710395798863,
          -1.2481413544826854,
          0.3612903068995286,
          0.06126117166449342,
          -1.820542784807895,
          -0.8933799261522251,
          0.958928711811041,
          -1.6982126930902088,
          0.27804702825341737,
          -2.407943643410092,
          1.4620787738627692,
          0.16048260236743556,
          0.9029830063832442,
          1.3716634962274565,
          1.7508401039835415,
          0.51275453361997,
          -0.5920283084866811,
          0.29622530337305997,
          0.6913468517391579,
          -1.4713165749518122,
          -0.8924385223251567,
          -1.4604955749970958,
          0.14510716102416593,
          1.3321449213997232,
          -0.5687341007524116,
          -1.7655248272619266,
          -0.07492705167215395,
          -0.3872348083142386,
          -1.3418703791218811,
          -0.7034535926493515,
          -0.04446532629223465,
          -0.9485118333196576,
          -0.20207394621397276,
          -0.03726506277971692,
          1.5731930703357664,
          -0.025671760410633633,
          -0.7693725496792142,
          -1.148658916571503,
          -0.10800851315480685,
          -0.25998954873692925,
          0.2064099433324682,
          -1.4382916110596529,
          -0.009335155123928896,
          0.2510173580937386,
          0.08404141758812335,
          -0.8994222963005659,
          0.36650365730685713,
          -0.2993152737758204,
          0.6199258717800764,
          -1.3515460978364304,
          -0.39583320549917156,
          -0.9500753721693092,
          1.317948342001145,
          -1.7071983335319358,
          -0.7635892716404916,
          0.025736025406837833,
          -0.6890867916473528,
          -1.533406885575707,
          1.5611961440233837,
          1.2668680195920043,
          -0.6063505230342863,
          -0.2762414652168523,
          -1.0701417285608446,
          -0.15290236190912482,
          -0.38568710612085,
          0.13204607733051524,
          0.3712253601104482,
          -0.9541806529017195,
          1.0120610451511876,
          -1.4427330889740668,
          -0.13768431614166374,
          0.6999895357883553,
          -1.268414679498342,
          -0.5574045768436884,
          -0.128139720142049,
          0.5760974231160995,
          -1.169716617860267,
          -2.0637890187128454,
          1.6746999045138986,
          -1.2882187777319383,
          -0.23678577340297377,
          -0.06193879653084026,
          -0.3424273495580077,
          0.2948428657506059,
          -0.35170027775777046,
          0.2205685651060384,
          0.011727919648655202,
          -0.441783493897073,
          1.4563125927378122,
          -0.45857482915468184,
          -1.8500244350161947,
          0.3724857025012724,
          1.070858608572578,
          -0.09580276527380993,
          -0.35876825267289675,
          1.0795439663546802,
          -0.07414819040621948,
          0.77919543046208,
          0.5064275609636832,
          -0.3932849419329274,
          -0.11677845412381613,
          -2.2726590202873487,
          0.28526009343634007,
          1.20678414465868,
          -0.8945462861387621,
          -0.5863551074961251,
          0.22772518209869988,
          -1.6733676195856177,
          -1.2906827911231564,
          1.2412565211732363,
          -0.7469935675416527,
          -0.11996532615439146,
          -0.06221597405425223,
          -1.1689592198303629,
          -0.2417302389943091,
          -1.2235857098592577,
          0.9716404784741417,
          0.32979648774636183,
          -0.7877580563352956,
          -0.4355893880724434,
          -0.08135608271389369,
          -1.8462515015757872,
          0.6527321640931684,
          0.5938149123102833,
          0.576824553689665,
          0.9592004038029016,
          -0.11179521058796105,
          -1.1653258881359885,
          -0.3706558105803789,
          0.2877412331212676,
          1.5550356152873686,
          -0.728974019823692,
          -0.24781132589556673,
          -1.1308822077419864,
          0.1565596778711918,
          1.4110291214754498,
          0.021401700268126704,
          -0.6736779610185982,
          0.7444845587128546,
          -1.0047202098167807,
          0.21853162068716356,
          0.13451805217104462,
          0.6009987166285716,
          1.3809541671774828,
          0.9017800863443765,
          0.5754433743719757,
          0.6080597724143721,
          -1.3301872017737981,
          -2.0343260226701383,
          2.272157375968798,
          -0.7905194653878361,
          -0.8693407466016461,
          0.6198467206811814,
          -0.22415356546674312,
          0.7168021663577934,
          0.2561426034983654,
          -0.35063921865092446,
          -0.9700409865241839,
          -0.40160488232342306,
          -0.33797025578200585,
          -1.277413571295494,
          1.006280319645406,
          -0.24801245385425305,
          1.5236987850781383,
          -0.253605293463864,
          -0.47959636809216954,
          0.43126973790852724,
          -0.261592598143018,
          0.7806975107446817,
          0.8910471349941393,
          1.4277110193222349,
          -0.02449089989180953,
          -0.8634848740901847,
          1.4555806560559525,
          -1.046612881751367,
          -1.9190382590055546,
          -1.1974988705803038,
          0.1599603668546044,
          -0.05219207367040406,
          -1.1515533721472149,
          -0.19285804554628577,
          0.6199173566919651,
          -0.681077321452935,
          0.7624680390664462,
          -3.024422676848291,
          1.3860253274432432,
          0.9843211443518143,
          -0.1622843672666621,
          -0.2673717613739001,
          0.6814319302667275,
          0.2580716595902914,
          -0.26154632511264886,
          0.3078437400801039,
          -0.42057294999664324,
          0.04277583713811376,
          0.5285277063460785,
          -0.6142626220269352,
          -0.09563892467089499,
          0.8424401667872632,
          -1.2531207371068556,
          0.5974667423220933,
          -0.2592115256649121,
          1.0434864843024105,
          0.5928435770145565,
          -0.07950344644460144,
          0.5984095048745262,
          -1.400082891374087,
          -1.7290936064529334,
          1.221499817362305,
          -0.0927178717710938,
          -0.18245652348013797,
          0.8722968910954766,
          -0.389206582297809,
          -0.3706510069379268,
          -0.7848787990074142,
          -2.4290684460401795,
          -1.1545495362920573,
          0.056681738041839416,
          -0.8098708089977017,
          -1.7848599431771905,
          -0.7209997864685506,
          2.3080496421919054,
          -1.0337889335894603,
          0.3756518749200589,
          0.5054802905041771,
          -1.1057685924265566,
          0.40239470128832644,
          -0.21992221004451368,
          -0.04839347505126753,
          0.9611313770618922,
          -1.1019322075670333,
          -0.27879042724374137,
          0.7177233090033657,
          -0.31056760672750267,
          -0.2958336861416885,
          -0.37987445481589405,
          -0.008949805773481218,
          0.8148534313680222,
          1.0437351492790348,
          -0.20986971840796748,
          1.0817937391972203,
          -1.6989900812958922,
          -0.33208236269584307,
          -0.18399373588103002,
          -0.526521850099448,
          -1.6939547161704858,
          2.6773873168131397,
          -0.31615818266585,
          0.733792250923921,
          1.6933404314885183,
          -2.492544027292575,
          -0.21502406806398297,
          -0.9325242333377307,
          -1.4356090761781837,
          1.882580987542455,
          0.20130945427045494,
          -1.0290944688204704,
          -0.4420453577962772,
          -0.12351162706678596,
          -0.6553731584662682,
          -1.988090521025979,
          -2.7710861110297285,
          0.1910607218065874,
          -0.4884814166396707,
          0.1946709921758268,
          -0.6503741356216113,
          -0.6386687788905977,
          -0.6851100118260581,
          1.1055952647510172,
          -0.7722201807477699,
          1.633135023803531,
          -0.2742781384869692,
          0.7085208140266992,
          0.14240371306588526,
          0.25759009505190344,
          0.01085949664929828,
          1.0929583849570448,
          0.36684370670884814,
          1.7371818902055551,
          -0.6704834898475261,
          0.268685283587257,
          1.2940819792483722,
          0.7979431974666341,
          -0.19652386454826395,
          0.2478559313449155,
          0.4232273969182435,
          -1.977474307585125,
          0.27025979257592375,
          0.5564949750563284,
          0.3528786668697089,
          0.6065089261837863,
          0.23599503089097995,
          0.21777510476947579,
          1.4884108407781036,
          1.017916264383999,
          -0.6170645727673884,
          -2.2235861518644215,
          0.8806110596529633,
          -0.9638407675906557,
          0.2751589492040279,
          0.37116021755632284,
          -1.1289090831972541,
          0.25181485527271097,
          1.4298234285530937,
          0.83792789836063,
          0.48935418679404746,
          -2.1907891510463755,
          0.4716259320660156,
          0.14729197117948953,
          1.2427255754291426,
          -0.7520546558700024,
          0.6568039063993517,
          0.20158549601828185,
          -0.7359927978298804,
          0.9811287845646184,
          1.202908115172107,
          -0.20802165528392005,
          -0.33259624808423904,
          -0.003998607636134991,
          -1.593990061051303,
          -0.6584821977316845,
          2.0614026883200594,
          1.0637249701417077,
          -0.9150146660634526,
          0.8215250722377544,
          1.1250610768061051,
          -0.2298015120554633,
          0.17008772952554638,
          0.5246936400415876,
          0.15233681194680676,
          2.0031059224389267,
          1.208314254418835,
          -0.006983601877966153,
          -0.3359230485146798,
          -0.5541268102803616,
          -0.1151211821173123,
          -0.1652749371318491,
          -1.1266610382318447,
          1.4595667185479508,
          -1.215751278012014,
          0.08824938308403832,
          -0.6239128998563471,
          0.6312303388788727,
          -1.209901581230988,
          0.9807857039097295,
          -0.1731701638606741,
          -2.4850532492941997,
          -1.4309507876276841,
          -0.5986616817739288,
          1.358270422674479,
          0.6429071296289238,
          -0.6618791043166042,
          1.4573523196643239,
          0.3099346185542316,
          -0.6727348900750816,
          0.22519378163581433,
          0.16499184718060111,
          0.29852809074655906,
          0.6195698193679444,
          0.8692441729021245,
          0.06369210860711536,
          -0.9241145160962878,
          0.3191936860707867,
          -0.7962350531341178,
          0.3416596610159187,
          -0.6129530840452634,
          0.5098963048897098,
          0.9938443275658476,
          1.406977014254655,
          -0.05293215538841307,
          1.403401221697883,
          -0.2507212747143044,
          0.7736554978832385,
          -0.5024664967931687,
          -0.022252184611980395,
          -2.2111802150515993,
          -0.27750134509078017,
          1.0778349077460592,
          -1.0791269375859893,
          0.11635785130117367,
          0.5948448420986335,
          -0.6810637296004277,
          0.7094573734493927,
          0.3961732022563382,
          0.813243689313137,
          -0.43960444632456,
          0.23858945640169896,
          -0.09863839696262959,
          1.508037334911276,
          -1.34480149355209,
          1.3661182141827626,
          1.6235739132729428,
          -0.7627258225783631,
          -0.5437305474969619,
          0.08442191501831761,
          -1.1242350581937206,
          0.8545661524315328,
          -0.7736482724210276,
          -0.13057599574242482,
          0.1316569371721082,
          -0.07048410089365893,
          -0.24992940092514296,
          -0.4186043594245944,
          -0.7256774458171324,
          -0.520950146441261,
          -0.46608982908209007,
          1.1893608899162216,
          -0.6246000682443273,
          -0.3307877216687729,
          -1.2185562037969295,
          0.23048478185845056,
          1.6864372411714073,
          -0.9562946490854272,
          0.018394068016398188,
          0.8189783144304775,
          -0.18417587883538553,
          -0.8948071634351217,
          0.3436780705779244,
          -0.1935284932010565,
          -0.5011931677056768,
          -0.8026559613901668,
          0.12255050272474644,
          -0.0007907175924338036,
          -0.3072299786483824,
          -1.252598105753461,
          0.4200834514664773,
          0.278209841091265,
          0.3150364051540114,
          -1.8230786511872206,
          0.024844910716844863,
          -0.04551063709256404,
          -0.24285226823670122,
          0.8038827461752164,
          0.9636677183308034,
          -0.060716474481053495,
          -0.9564626374269315,
          0.03442406977737516,
          -0.5452246453925356,
          -1.2168645687568849,
          0.4310076077455225,
          0.9901746681582625,
          0.12468950894945263,
          -0.12735004499181726,
          -0.1195306865827505,
          0.028124229534347834,
          0.25894713853867124,
          0.13756135009641152,
          -1.1487247456767382,
          0.4028146003734309,
          -0.8727657002447894,
          -1.2699539733511445,
          -0.5539037340452522,
          -0.4256836498078149,
          0.02266594311642818,
          0.6818199353711812,
          -0.25951347472922753,
          -0.7913139781821132,
          1.1928810050767467,
          0.19090145109920326,
          0.1184131739054405,
          1.6726198503640788,
          1.9448383911571991,
          -0.15692426522858438,
          -0.7255022110845623,
          0.26598088458641284,
          1.205791920699259,
          0.06693412582913849,
          -1.5998483951365337,
          0.7711269138124579,
          2.0594484914710556,
          -0.7300530709676194,
          -0.7396099410303909,
          1.7317372131671374,
          -0.5993112345470439,
          -0.09175530287417437,
          0.30964162114911176,
          -0.6262742979093651,
          -0.5054775667688759,
          1.4995580671944935,
          0.11947643697006222,
          0.9883991961036822,
          -0.9663477403426791,
          0.48968736354034487,
          -0.6502211986968812,
          0.03868947689432385,
          -0.2591791337963594,
          1.0453230029847589,
          -0.5279084235626474,
          0.3961396606532387,
          -1.0872244421902322,
          -1.4426237605056644,
          0.2771205895045699,
          -0.8169275215889992,
          -3.0269551189073955,
          0.509992323812445,
          1.0121465461845558,
          1.182311262363758
         ],
         "xaxis": "x",
         "yaxis": "y"
        }
       ],
       "layout": {
        "barmode": "relative",
        "legend": {
         "tracegroupgap": 0
        },
        "margin": {
         "t": 60
        },
        "template": {
         "data": {
          "bar": [
           {
            "error_x": {
             "color": "#2a3f5f"
            },
            "error_y": {
             "color": "#2a3f5f"
            },
            "marker": {
             "line": {
              "color": "#E5ECF6",
              "width": 0.5
             }
            },
            "type": "bar"
           }
          ],
          "barpolar": [
           {
            "marker": {
             "line": {
              "color": "#E5ECF6",
              "width": 0.5
             }
            },
            "type": "barpolar"
           }
          ],
          "carpet": [
           {
            "aaxis": {
             "endlinecolor": "#2a3f5f",
             "gridcolor": "white",
             "linecolor": "white",
             "minorgridcolor": "white",
             "startlinecolor": "#2a3f5f"
            },
            "baxis": {
             "endlinecolor": "#2a3f5f",
             "gridcolor": "white",
             "linecolor": "white",
             "minorgridcolor": "white",
             "startlinecolor": "#2a3f5f"
            },
            "type": "carpet"
           }
          ],
          "choropleth": [
           {
            "colorbar": {
             "outlinewidth": 0,
             "ticks": ""
            },
            "type": "choropleth"
           }
          ],
          "contour": [
           {
            "colorbar": {
             "outlinewidth": 0,
             "ticks": ""
            },
            "colorscale": [
             [
              0,
              "#0d0887"
             ],
             [
              0.1111111111111111,
              "#46039f"
             ],
             [
              0.2222222222222222,
              "#7201a8"
             ],
             [
              0.3333333333333333,
              "#9c179e"
             ],
             [
              0.4444444444444444,
              "#bd3786"
             ],
             [
              0.5555555555555556,
              "#d8576b"
             ],
             [
              0.6666666666666666,
              "#ed7953"
             ],
             [
              0.7777777777777778,
              "#fb9f3a"
             ],
             [
              0.8888888888888888,
              "#fdca26"
             ],
             [
              1,
              "#f0f921"
             ]
            ],
            "type": "contour"
           }
          ],
          "contourcarpet": [
           {
            "colorbar": {
             "outlinewidth": 0,
             "ticks": ""
            },
            "type": "contourcarpet"
           }
          ],
          "heatmap": [
           {
            "colorbar": {
             "outlinewidth": 0,
             "ticks": ""
            },
            "colorscale": [
             [
              0,
              "#0d0887"
             ],
             [
              0.1111111111111111,
              "#46039f"
             ],
             [
              0.2222222222222222,
              "#7201a8"
             ],
             [
              0.3333333333333333,
              "#9c179e"
             ],
             [
              0.4444444444444444,
              "#bd3786"
             ],
             [
              0.5555555555555556,
              "#d8576b"
             ],
             [
              0.6666666666666666,
              "#ed7953"
             ],
             [
              0.7777777777777778,
              "#fb9f3a"
             ],
             [
              0.8888888888888888,
              "#fdca26"
             ],
             [
              1,
              "#f0f921"
             ]
            ],
            "type": "heatmap"
           }
          ],
          "heatmapgl": [
           {
            "colorbar": {
             "outlinewidth": 0,
             "ticks": ""
            },
            "colorscale": [
             [
              0,
              "#0d0887"
             ],
             [
              0.1111111111111111,
              "#46039f"
             ],
             [
              0.2222222222222222,
              "#7201a8"
             ],
             [
              0.3333333333333333,
              "#9c179e"
             ],
             [
              0.4444444444444444,
              "#bd3786"
             ],
             [
              0.5555555555555556,
              "#d8576b"
             ],
             [
              0.6666666666666666,
              "#ed7953"
             ],
             [
              0.7777777777777778,
              "#fb9f3a"
             ],
             [
              0.8888888888888888,
              "#fdca26"
             ],
             [
              1,
              "#f0f921"
             ]
            ],
            "type": "heatmapgl"
           }
          ],
          "histogram": [
           {
            "marker": {
             "colorbar": {
              "outlinewidth": 0,
              "ticks": ""
             }
            },
            "type": "histogram"
           }
          ],
          "histogram2d": [
           {
            "colorbar": {
             "outlinewidth": 0,
             "ticks": ""
            },
            "colorscale": [
             [
              0,
              "#0d0887"
             ],
             [
              0.1111111111111111,
              "#46039f"
             ],
             [
              0.2222222222222222,
              "#7201a8"
             ],
             [
              0.3333333333333333,
              "#9c179e"
             ],
             [
              0.4444444444444444,
              "#bd3786"
             ],
             [
              0.5555555555555556,
              "#d8576b"
             ],
             [
              0.6666666666666666,
              "#ed7953"
             ],
             [
              0.7777777777777778,
              "#fb9f3a"
             ],
             [
              0.8888888888888888,
              "#fdca26"
             ],
             [
              1,
              "#f0f921"
             ]
            ],
            "type": "histogram2d"
           }
          ],
          "histogram2dcontour": [
           {
            "colorbar": {
             "outlinewidth": 0,
             "ticks": ""
            },
            "colorscale": [
             [
              0,
              "#0d0887"
             ],
             [
              0.1111111111111111,
              "#46039f"
             ],
             [
              0.2222222222222222,
              "#7201a8"
             ],
             [
              0.3333333333333333,
              "#9c179e"
             ],
             [
              0.4444444444444444,
              "#bd3786"
             ],
             [
              0.5555555555555556,
              "#d8576b"
             ],
             [
              0.6666666666666666,
              "#ed7953"
             ],
             [
              0.7777777777777778,
              "#fb9f3a"
             ],
             [
              0.8888888888888888,
              "#fdca26"
             ],
             [
              1,
              "#f0f921"
             ]
            ],
            "type": "histogram2dcontour"
           }
          ],
          "mesh3d": [
           {
            "colorbar": {
             "outlinewidth": 0,
             "ticks": ""
            },
            "type": "mesh3d"
           }
          ],
          "parcoords": [
           {
            "line": {
             "colorbar": {
              "outlinewidth": 0,
              "ticks": ""
             }
            },
            "type": "parcoords"
           }
          ],
          "pie": [
           {
            "automargin": true,
            "type": "pie"
           }
          ],
          "scatter": [
           {
            "marker": {
             "colorbar": {
              "outlinewidth": 0,
              "ticks": ""
             }
            },
            "type": "scatter"
           }
          ],
          "scatter3d": [
           {
            "line": {
             "colorbar": {
              "outlinewidth": 0,
              "ticks": ""
             }
            },
            "marker": {
             "colorbar": {
              "outlinewidth": 0,
              "ticks": ""
             }
            },
            "type": "scatter3d"
           }
          ],
          "scattercarpet": [
           {
            "marker": {
             "colorbar": {
              "outlinewidth": 0,
              "ticks": ""
             }
            },
            "type": "scattercarpet"
           }
          ],
          "scattergeo": [
           {
            "marker": {
             "colorbar": {
              "outlinewidth": 0,
              "ticks": ""
             }
            },
            "type": "scattergeo"
           }
          ],
          "scattergl": [
           {
            "marker": {
             "colorbar": {
              "outlinewidth": 0,
              "ticks": ""
             }
            },
            "type": "scattergl"
           }
          ],
          "scattermapbox": [
           {
            "marker": {
             "colorbar": {
              "outlinewidth": 0,
              "ticks": ""
             }
            },
            "type": "scattermapbox"
           }
          ],
          "scatterpolar": [
           {
            "marker": {
             "colorbar": {
              "outlinewidth": 0,
              "ticks": ""
             }
            },
            "type": "scatterpolar"
           }
          ],
          "scatterpolargl": [
           {
            "marker": {
             "colorbar": {
              "outlinewidth": 0,
              "ticks": ""
             }
            },
            "type": "scatterpolargl"
           }
          ],
          "scatterternary": [
           {
            "marker": {
             "colorbar": {
              "outlinewidth": 0,
              "ticks": ""
             }
            },
            "type": "scatterternary"
           }
          ],
          "surface": [
           {
            "colorbar": {
             "outlinewidth": 0,
             "ticks": ""
            },
            "colorscale": [
             [
              0,
              "#0d0887"
             ],
             [
              0.1111111111111111,
              "#46039f"
             ],
             [
              0.2222222222222222,
              "#7201a8"
             ],
             [
              0.3333333333333333,
              "#9c179e"
             ],
             [
              0.4444444444444444,
              "#bd3786"
             ],
             [
              0.5555555555555556,
              "#d8576b"
             ],
             [
              0.6666666666666666,
              "#ed7953"
             ],
             [
              0.7777777777777778,
              "#fb9f3a"
             ],
             [
              0.8888888888888888,
              "#fdca26"
             ],
             [
              1,
              "#f0f921"
             ]
            ],
            "type": "surface"
           }
          ],
          "table": [
           {
            "cells": {
             "fill": {
              "color": "#EBF0F8"
             },
             "line": {
              "color": "white"
             }
            },
            "header": {
             "fill": {
              "color": "#C8D4E3"
             },
             "line": {
              "color": "white"
             }
            },
            "type": "table"
           }
          ]
         },
         "layout": {
          "annotationdefaults": {
           "arrowcolor": "#2a3f5f",
           "arrowhead": 0,
           "arrowwidth": 1
          },
          "autotypenumbers": "strict",
          "coloraxis": {
           "colorbar": {
            "outlinewidth": 0,
            "ticks": ""
           }
          },
          "colorscale": {
           "diverging": [
            [
             0,
             "#8e0152"
            ],
            [
             0.1,
             "#c51b7d"
            ],
            [
             0.2,
             "#de77ae"
            ],
            [
             0.3,
             "#f1b6da"
            ],
            [
             0.4,
             "#fde0ef"
            ],
            [
             0.5,
             "#f7f7f7"
            ],
            [
             0.6,
             "#e6f5d0"
            ],
            [
             0.7,
             "#b8e186"
            ],
            [
             0.8,
             "#7fbc41"
            ],
            [
             0.9,
             "#4d9221"
            ],
            [
             1,
             "#276419"
            ]
           ],
           "sequential": [
            [
             0,
             "#0d0887"
            ],
            [
             0.1111111111111111,
             "#46039f"
            ],
            [
             0.2222222222222222,
             "#7201a8"
            ],
            [
             0.3333333333333333,
             "#9c179e"
            ],
            [
             0.4444444444444444,
             "#bd3786"
            ],
            [
             0.5555555555555556,
             "#d8576b"
            ],
            [
             0.6666666666666666,
             "#ed7953"
            ],
            [
             0.7777777777777778,
             "#fb9f3a"
            ],
            [
             0.8888888888888888,
             "#fdca26"
            ],
            [
             1,
             "#f0f921"
            ]
           ],
           "sequentialminus": [
            [
             0,
             "#0d0887"
            ],
            [
             0.1111111111111111,
             "#46039f"
            ],
            [
             0.2222222222222222,
             "#7201a8"
            ],
            [
             0.3333333333333333,
             "#9c179e"
            ],
            [
             0.4444444444444444,
             "#bd3786"
            ],
            [
             0.5555555555555556,
             "#d8576b"
            ],
            [
             0.6666666666666666,
             "#ed7953"
            ],
            [
             0.7777777777777778,
             "#fb9f3a"
            ],
            [
             0.8888888888888888,
             "#fdca26"
            ],
            [
             1,
             "#f0f921"
            ]
           ]
          },
          "colorway": [
           "#636efa",
           "#EF553B",
           "#00cc96",
           "#ab63fa",
           "#FFA15A",
           "#19d3f3",
           "#FF6692",
           "#B6E880",
           "#FF97FF",
           "#FECB52"
          ],
          "font": {
           "color": "#2a3f5f"
          },
          "geo": {
           "bgcolor": "white",
           "lakecolor": "white",
           "landcolor": "#E5ECF6",
           "showlakes": true,
           "showland": true,
           "subunitcolor": "white"
          },
          "hoverlabel": {
           "align": "left"
          },
          "hovermode": "closest",
          "mapbox": {
           "style": "light"
          },
          "paper_bgcolor": "white",
          "plot_bgcolor": "#E5ECF6",
          "polar": {
           "angularaxis": {
            "gridcolor": "white",
            "linecolor": "white",
            "ticks": ""
           },
           "bgcolor": "#E5ECF6",
           "radialaxis": {
            "gridcolor": "white",
            "linecolor": "white",
            "ticks": ""
           }
          },
          "scene": {
           "xaxis": {
            "backgroundcolor": "#E5ECF6",
            "gridcolor": "white",
            "gridwidth": 2,
            "linecolor": "white",
            "showbackground": true,
            "ticks": "",
            "zerolinecolor": "white"
           },
           "yaxis": {
            "backgroundcolor": "#E5ECF6",
            "gridcolor": "white",
            "gridwidth": 2,
            "linecolor": "white",
            "showbackground": true,
            "ticks": "",
            "zerolinecolor": "white"
           },
           "zaxis": {
            "backgroundcolor": "#E5ECF6",
            "gridcolor": "white",
            "gridwidth": 2,
            "linecolor": "white",
            "showbackground": true,
            "ticks": "",
            "zerolinecolor": "white"
           }
          },
          "shapedefaults": {
           "line": {
            "color": "#2a3f5f"
           }
          },
          "ternary": {
           "aaxis": {
            "gridcolor": "white",
            "linecolor": "white",
            "ticks": ""
           },
           "baxis": {
            "gridcolor": "white",
            "linecolor": "white",
            "ticks": ""
           },
           "bgcolor": "#E5ECF6",
           "caxis": {
            "gridcolor": "white",
            "linecolor": "white",
            "ticks": ""
           }
          },
          "title": {
           "x": 0.05
          },
          "xaxis": {
           "automargin": true,
           "gridcolor": "white",
           "linecolor": "white",
           "ticks": "",
           "title": {
            "standoff": 15
           },
           "zerolinecolor": "white",
           "zerolinewidth": 2
          },
          "yaxis": {
           "automargin": true,
           "gridcolor": "white",
           "linecolor": "white",
           "ticks": "",
           "title": {
            "standoff": 15
           },
           "zerolinecolor": "white",
           "zerolinewidth": 2
          }
         }
        },
        "xaxis": {
         "anchor": "y",
         "domain": [
          0,
          1
         ],
         "title": {
          "text": "x"
         }
        },
        "yaxis": {
         "anchor": "x",
         "domain": [
          0,
          1
         ],
         "title": {
          "text": "probability density"
         }
        }
       }
      },
      "text/html": [
       "<div>                            <div id=\"f6a297fe-de22-4aa7-b323-89a64d834261\" class=\"plotly-graph-div\" style=\"height:525px; width:100%;\"></div>            <script type=\"text/javascript\">                require([\"plotly\"], function(Plotly) {                    window.PLOTLYENV=window.PLOTLYENV || {};                                    if (document.getElementById(\"f6a297fe-de22-4aa7-b323-89a64d834261\")) {                    Plotly.newPlot(                        \"f6a297fe-de22-4aa7-b323-89a64d834261\",                        [{\"alignmentgroup\": \"True\", \"bingroup\": \"x\", \"histnorm\": \"probability density\", \"hovertemplate\": \"x=%{x}<br>probability density=%{y}<extra></extra>\", \"legendgroup\": \"\", \"marker\": {\"color\": \"#636efa\"}, \"name\": \"\", \"offsetgroup\": \"\", \"orientation\": \"v\", \"showlegend\": false, \"type\": \"histogram\", \"x\": [-0.5305049625260166, 0.03682765517553864, 0.5268617297897674, -1.5373481150626953, 2.0300882019952424, 1.2232009544783167, 0.6187090978712309, -0.18253029059868855, -0.20496179395894665, -0.0849343434186785, 1.5970788974993957, -0.08965823684981689, 1.4376839290127879, 0.052946592600477425, 2.984355589684764, -0.055286206936356046, 0.11496142174496359, -0.5482810358256226, -0.39827062045478456, 0.8994711640095442, -2.2539350076905276, 0.36855150176697526, -0.793114557921915, -1.6879547312565852, 0.4423945232496336, -0.19268103268749606, 0.45454604284534394, -0.5234565054583198, -0.6252133544123541, -1.3990079777509496, -0.6746219094422696, 0.6377163572932518, -1.1146875934800342, -1.0960059763310086, -1.815928642037205, 0.9820529445146137, 1.3910716320084, 1.0151155578812388, -1.2904595359683508, 0.23359425425447702, -1.8868848598192285, -0.17020068924794488, 1.7050091845711164, -0.03260258861398201, 0.25369530017766007, 1.5394432194904055, 1.3649583126410725, 1.0526301108663056, 0.04445066495170886, 0.042241771835132086, -0.9267802086019126, 1.0791882578490246, -0.8022751901999714, -0.3834295010655744, 0.0912755160663496, -0.7639912960364946, 0.8035378484043142, 1.764245939370608, 0.6966568136797492, -0.06599135209933714, 1.2213383974316134, -1.330377038078689, -0.6526023686091746, 0.4020276195198526, -0.6477782456952943, -0.3519539877226878, 0.8432727171904566, 0.0879674135391768, -0.16305760296286428, -0.3964854636742744, -0.8262609083346268, -1.8883698658556884, 0.31426679217465914, 0.6541305512685445, -1.019141166742679, -0.6684087504001927, 0.5611293671629785, -0.1504865685333817, -1.4154298065800401, -1.1581859442300895, -1.8943112376488394, -0.5493553730660167, -0.19460373073926684, -0.42828197361512926, 0.8988477876076644, 0.5836755589349495, 0.9996646456775403, 0.08602888075814785, 0.7504875236100951, -1.6784696852598133, 1.7278377605969217, 0.3124922517360362, 0.3549220757607118, 0.4112611702812046, 1.4051202906113585, 0.74960932899034, -1.7916132354055103, -0.5057376673798142, -0.48786829812774557, -0.41533107033331784, 1.6071499491209889, 1.0555588526174244, -1.3555247011985854, 0.7141397644371084, -0.5513334314423971, 0.7660457858638997, 1.0936065422135686, 1.246378800128005, 0.2146705457376472, 0.5774051096575455, -0.2950844236043644, 0.7632166957243176, -0.2519307719070834, 0.5036538644505035, 0.7119574501234011, -0.1457718265615241, 0.7706738626616871, 1.9268203975471128, 0.905774353463972, 0.2168317382211045, -0.08060840839048751, 0.9494197216690166, -0.08575209672226088, 0.9970662785979382, -0.6099878277322888, -1.2049592717280013, -0.4836879807863869, -0.02131133321698281, 1.0743748560345077, 0.3317224203244066, -1.9123873228450907, -0.791013125211486, -2.393704306398312, 0.8286210032032232, 0.9213329078243213, 1.2497616094668005, 1.74092236211362, 0.3047032592165796, 0.6278323519542583, -1.9807934360055348, -0.07969880898148685, -1.0544683929197074, -0.18664215543852422, -2.027386404180575, 0.1636554472788487, 1.6126263612661478, -0.2225104403408024, 1.295831059934621, -0.9735709557118182, 0.5037670214751289, 1.1789817122494852, 1.425793766901399, -2.7572897830216028, 0.2819083045645185, 0.04237802618778308, -2.333043372261456, 0.2894904287953104, 0.9559939305834035, 1.7203909313042363, 0.24550077753143693, 0.473607590998137, 0.44112555587358876, 0.6291918299173026, 0.4813585898748283, 0.7310244760570017, -0.1226703318804474, -0.32202235122424483, -0.6427391625474261, 0.8711020077423745, -0.8673547230702214, 1.079762783387017, 0.3465065526765366, -0.43151287221334594, -0.338824815286927, 0.8739092958084799, -1.0966182240007574, -0.5410474974008498, -0.8424213051689942, 0.38904728451587656, -1.6520815139209084, -0.3872214469371265, -0.5365548961272967, 2.074907560711953, 0.854614207981753, 0.6542958680984751, -0.6270090052978383, -1.9341157682132744, -0.10623165918033005, -0.33583150834986925, 1.1732308263243436, 0.5573183837344668, -1.090527882346017, 0.7065930348518672, 0.8975932587094458, -0.7940450468047763, 1.2987595903488136, 0.29656037367777804, 1.010706360322825, -0.38827116862840294, -1.110649891786863, 0.878488631095028, -0.690459772835103, -0.9095385828145568, 0.868458081027893, -0.4723472239623122, 0.14667268163329084, 1.0100884941904016, 0.42691588432402916, -0.6352380979728056, 0.5035609094612945, -1.7010298738433376, 0.8290824465243212, 0.07422408250874715, -0.8164170786933995, 1.3250977398895698, -0.40005935225565076, -1.800830905321427, 0.9491450115476237, -1.4066015919781527, -0.23737028487243542, -0.026316830877246865, 0.6250154720172025, 2.410737619745837, -0.38750830360019584, 0.1766275311472558, -0.20361495484399586, 0.6543292199407111, 0.002271547943480072, -0.5473973102196775, 0.8562085780568879, -0.7574904956162422, 0.15014316911674744, 0.4468565945181818, -0.661882964223566, 0.15146905163465194, -0.5808096003315517, -0.114223014958949, 0.5693298205088201, 0.06652771494466517, 0.26005647401503534, 1.5500482706022543, -0.7295222477617082, 1.0198878376411786, -0.9690085817668542, 1.1979730320795419, 1.0917203792390702, 1.1717342295304292, 0.3886570623993388, 1.1303849455127466, -1.1609029332413177, -0.8581337331993389, 0.277207808628931, 0.6075089791222608, -0.5227177515690373, 0.040060972723030344, -0.28952868447136526, -0.09043313749391868, 0.3736210029021025, -0.06410829868642924, -0.6243401545641066, -2.3101407985213913, -1.4903451872906752, -1.2105408652811, 0.6205464437210327, 0.41779945725414325, -1.189390014811986, 1.936988714738737, 0.26245967520510777, 0.1048662864715264, 1.1644398336899529, -0.3976497940486195, 1.2113088488363988, -0.9059498554634399, 0.18958389506999387, -1.4319894801254909, 1.4226193578220456, -2.21284390729786, -0.4718989779094261, 1.5860161911338582, -1.2129625728558853, -0.20766846455618546, 0.627015484155611, -0.5266858799089416, 2.012440114988283, 1.320893926086377, 0.7635267567092004, -0.29276659122823445, 0.561224701278509, 1.0626186673587104, 0.8372880641351476, 0.09176411766802103, -0.04053768646822535, 0.9291647742771189, 0.6526979149902828, 1.340097797174367, 0.9976071716054412, -2.5385051601821846, 0.02266024244760579, -0.7443865082697781, -0.41149495617931475, -1.3751366303221821, 0.9701034077494407, -1.1064957692216544, 1.1114197083107644, 1.6140566621045283, -0.18746487259928843, 1.4448517941765713, 1.003592020940048, 0.3564874891844406, -1.205323171554188, -1.8999569015817606, 0.3937152735568486, -0.8262438448962923, 1.9857304237730313, -1.3090791156083728, 0.02187762233364445, -1.686442063262721, -1.7849393487277128, -0.18334134807211597, 1.6054598760597931, 1.5786178388497456, -1.4931057201011173, -1.8368875159337104, 0.6076701912305973, -0.34159995378428504, -0.35433706502813284, -0.7935479687336559, 0.3472752417645066, 1.1333326092101015, -0.677109972252806, -0.32929717026128824, -1.5632285338756968, 0.6617269330371841, -0.5907304429800141, -0.7202643085937538, -0.7843884932625848, 0.3500639397445141, -1.2582392035883692, 0.7859747115280793, -1.2918429403192115, 1.5490772399104416, 0.9882508826407823, -0.044870276402905016, 1.9287144645340613, -1.2106774965697804, -1.7866947399329336, 0.07809229190626281, 0.1325935975578515, 0.4694473121933574, 1.3205059733228628, 0.5640610498045044, -0.49634572832813467, -0.4600498833003941, 0.04034701412066147, 1.0270828538761665, -0.6863060686501284, 0.5839921815647107, 0.5918669158700743, 0.8791768596462519, -0.49337032000853187, -0.1867747144863655, -0.5313518673960126, -0.08942511134566411, 0.28083774828740965, 0.3856863864331588, 0.2708764142506466, 0.3853069881735179, 0.42518880127096653, -0.6588534761916588, -0.7399061754501945, -0.631697436794863, 1.0929090252755778, -0.8007549330617654, -1.5181725771858463, -0.7330782047362746, 0.1326889342693101, -0.27866096287808984, 1.5559526986006886, -1.7505252665651398, 0.5418005925801889, -0.46745345952862305, -1.3888704013878965, -0.8340541124928088, 0.5095924331371926, 0.3111860364285458, 0.5624327624068414, 0.9380968321722709, 1.1000992737763542, -0.28298953573677665, -2.630919045271584, -0.33723907878412956, -1.1513505186017516, 0.2918079702035349, -0.05368831650530784, -0.9353582301457264, -0.23277179154014216, 0.7725064008898704, 0.302738305825358, 1.4543009643349252, -0.5780587981155838, -0.07613724445336317, 0.19372264699541902, -1.3905710024317597, 1.0014064926538717, 1.4101167087501028, 0.03836184723341846, 0.5628347613566009, -0.15589744428974114, 0.8774286844364549, -0.148606163889838, 1.935969059668375, 0.13975956957078495, -0.610726701690505, -0.5128542902600756, -2.070593354993987, 1.2421405590039196, -0.2867987480073697, 1.8855423445136992, 0.8713870370064705, -1.0949363872411026, -0.9169613746587331, 0.092157574426209, -0.4519590269255154, 0.009594317924257054, -0.045142341346376534, 1.88784722573215, 2.5067981335154634, 0.8937913669957007, 0.6027863213125679, 0.3049361577502221, 1.1796307626017772, 1.9766820243728525, 0.4277808292125539, 0.025400772733227328, 0.6317666177325978, -0.13633172192975465, -1.7280130409777372, 0.3538090509376278, -0.16410454047388934, 0.24038521894229276, -1.0638937803173163, -0.6441916302680625, -1.831448328699367, -0.7996416681720158, -2.0667819929185383, -0.420558273503616, -1.5036610051841832, 0.16957995109120289, 0.027138226686792753, 0.1615585341691504, -1.0160009395405087, 0.4069368065399354, -2.43263709439698, 2.186381904094452, -0.8186804127740295, -0.40706801624623645, 0.421928079163777, -1.4513821248202496, -0.43329653155260067, -1.7250114397626781, -0.7567332234417606, 0.7951924113019525, 0.1933162494429223, -0.09719493737803778, -0.0763662015625257, 0.0697053142703435, -0.0035654930644735184, -1.345449117230287, 1.2800838576049323, -0.8357193103740405, 1.0490557996578194, -0.6026575674859775, 0.9384635757800035, 1.3034283584438011, -0.8673561406990014, -0.023271184966059098, 0.28600055704483873, 0.9368719702897915, -0.616364671407378, 0.9338289682097365, 1.2666573557954883, 0.6543151009003041, -0.9173957490093017, -0.880136323894748, 0.2299106421801901, -0.650573133623565, -0.10989621811994849, 1.5523870893998661, -0.5917272550871077, 1.206059078982438, -1.1417069806778473, -1.6654258540210145, 0.02440481248418381, 0.9196871919626868, 1.0819936302624196, 0.8154109271376199, 0.29218097355685535, -0.5058747838458888, -0.27165322008060083, -0.038084337945297635, -0.21382993461154595, -0.45878257429887886, -0.5062778260353976, -0.1381710395798863, -1.2481413544826854, 0.3612903068995286, 0.06126117166449342, -1.820542784807895, -0.8933799261522251, 0.958928711811041, -1.6982126930902088, 0.27804702825341737, -2.407943643410092, 1.4620787738627692, 0.16048260236743556, 0.9029830063832442, 1.3716634962274565, 1.7508401039835415, 0.51275453361997, -0.5920283084866811, 0.29622530337305997, 0.6913468517391579, -1.4713165749518122, -0.8924385223251567, -1.4604955749970958, 0.14510716102416593, 1.3321449213997232, -0.5687341007524116, -1.7655248272619266, -0.07492705167215395, -0.3872348083142386, -1.3418703791218811, -0.7034535926493515, -0.04446532629223465, -0.9485118333196576, -0.20207394621397276, -0.03726506277971692, 1.5731930703357664, -0.025671760410633633, -0.7693725496792142, -1.148658916571503, -0.10800851315480685, -0.25998954873692925, 0.2064099433324682, -1.4382916110596529, -0.009335155123928896, 0.2510173580937386, 0.08404141758812335, -0.8994222963005659, 0.36650365730685713, -0.2993152737758204, 0.6199258717800764, -1.3515460978364304, -0.39583320549917156, -0.9500753721693092, 1.317948342001145, -1.7071983335319358, -0.7635892716404916, 0.025736025406837833, -0.6890867916473528, -1.533406885575707, 1.5611961440233837, 1.2668680195920043, -0.6063505230342863, -0.2762414652168523, -1.0701417285608446, -0.15290236190912482, -0.38568710612085, 0.13204607733051524, 0.3712253601104482, -0.9541806529017195, 1.0120610451511876, -1.4427330889740668, -0.13768431614166374, 0.6999895357883553, -1.268414679498342, -0.5574045768436884, -0.128139720142049, 0.5760974231160995, -1.169716617860267, -2.0637890187128454, 1.6746999045138986, -1.2882187777319383, -0.23678577340297377, -0.06193879653084026, -0.3424273495580077, 0.2948428657506059, -0.35170027775777046, 0.2205685651060384, 0.011727919648655202, -0.441783493897073, 1.4563125927378122, -0.45857482915468184, -1.8500244350161947, 0.3724857025012724, 1.070858608572578, -0.09580276527380993, -0.35876825267289675, 1.0795439663546802, -0.07414819040621948, 0.77919543046208, 0.5064275609636832, -0.3932849419329274, -0.11677845412381613, -2.2726590202873487, 0.28526009343634007, 1.20678414465868, -0.8945462861387621, -0.5863551074961251, 0.22772518209869988, -1.6733676195856177, -1.2906827911231564, 1.2412565211732363, -0.7469935675416527, -0.11996532615439146, -0.06221597405425223, -1.1689592198303629, -0.2417302389943091, -1.2235857098592577, 0.9716404784741417, 0.32979648774636183, -0.7877580563352956, -0.4355893880724434, -0.08135608271389369, -1.8462515015757872, 0.6527321640931684, 0.5938149123102833, 0.576824553689665, 0.9592004038029016, -0.11179521058796105, -1.1653258881359885, -0.3706558105803789, 0.2877412331212676, 1.5550356152873686, -0.728974019823692, -0.24781132589556673, -1.1308822077419864, 0.1565596778711918, 1.4110291214754498, 0.021401700268126704, -0.6736779610185982, 0.7444845587128546, -1.0047202098167807, 0.21853162068716356, 0.13451805217104462, 0.6009987166285716, 1.3809541671774828, 0.9017800863443765, 0.5754433743719757, 0.6080597724143721, -1.3301872017737981, -2.0343260226701383, 2.272157375968798, -0.7905194653878361, -0.8693407466016461, 0.6198467206811814, -0.22415356546674312, 0.7168021663577934, 0.2561426034983654, -0.35063921865092446, -0.9700409865241839, -0.40160488232342306, -0.33797025578200585, -1.277413571295494, 1.006280319645406, -0.24801245385425305, 1.5236987850781383, -0.253605293463864, -0.47959636809216954, 0.43126973790852724, -0.261592598143018, 0.7806975107446817, 0.8910471349941393, 1.4277110193222349, -0.02449089989180953, -0.8634848740901847, 1.4555806560559525, -1.046612881751367, -1.9190382590055546, -1.1974988705803038, 0.1599603668546044, -0.05219207367040406, -1.1515533721472149, -0.19285804554628577, 0.6199173566919651, -0.681077321452935, 0.7624680390664462, -3.024422676848291, 1.3860253274432432, 0.9843211443518143, -0.1622843672666621, -0.2673717613739001, 0.6814319302667275, 0.2580716595902914, -0.26154632511264886, 0.3078437400801039, -0.42057294999664324, 0.04277583713811376, 0.5285277063460785, -0.6142626220269352, -0.09563892467089499, 0.8424401667872632, -1.2531207371068556, 0.5974667423220933, -0.2592115256649121, 1.0434864843024105, 0.5928435770145565, -0.07950344644460144, 0.5984095048745262, -1.400082891374087, -1.7290936064529334, 1.221499817362305, -0.0927178717710938, -0.18245652348013797, 0.8722968910954766, -0.389206582297809, -0.3706510069379268, -0.7848787990074142, -2.4290684460401795, -1.1545495362920573, 0.056681738041839416, -0.8098708089977017, -1.7848599431771905, -0.7209997864685506, 2.3080496421919054, -1.0337889335894603, 0.3756518749200589, 0.5054802905041771, -1.1057685924265566, 0.40239470128832644, -0.21992221004451368, -0.04839347505126753, 0.9611313770618922, -1.1019322075670333, -0.27879042724374137, 0.7177233090033657, -0.31056760672750267, -0.2958336861416885, -0.37987445481589405, -0.008949805773481218, 0.8148534313680222, 1.0437351492790348, -0.20986971840796748, 1.0817937391972203, -1.6989900812958922, -0.33208236269584307, -0.18399373588103002, -0.526521850099448, -1.6939547161704858, 2.6773873168131397, -0.31615818266585, 0.733792250923921, 1.6933404314885183, -2.492544027292575, -0.21502406806398297, -0.9325242333377307, -1.4356090761781837, 1.882580987542455, 0.20130945427045494, -1.0290944688204704, -0.4420453577962772, -0.12351162706678596, -0.6553731584662682, -1.988090521025979, -2.7710861110297285, 0.1910607218065874, -0.4884814166396707, 0.1946709921758268, -0.6503741356216113, -0.6386687788905977, -0.6851100118260581, 1.1055952647510172, -0.7722201807477699, 1.633135023803531, -0.2742781384869692, 0.7085208140266992, 0.14240371306588526, 0.25759009505190344, 0.01085949664929828, 1.0929583849570448, 0.36684370670884814, 1.7371818902055551, -0.6704834898475261, 0.268685283587257, 1.2940819792483722, 0.7979431974666341, -0.19652386454826395, 0.2478559313449155, 0.4232273969182435, -1.977474307585125, 0.27025979257592375, 0.5564949750563284, 0.3528786668697089, 0.6065089261837863, 0.23599503089097995, 0.21777510476947579, 1.4884108407781036, 1.017916264383999, -0.6170645727673884, -2.2235861518644215, 0.8806110596529633, -0.9638407675906557, 0.2751589492040279, 0.37116021755632284, -1.1289090831972541, 0.25181485527271097, 1.4298234285530937, 0.83792789836063, 0.48935418679404746, -2.1907891510463755, 0.4716259320660156, 0.14729197117948953, 1.2427255754291426, -0.7520546558700024, 0.6568039063993517, 0.20158549601828185, -0.7359927978298804, 0.9811287845646184, 1.202908115172107, -0.20802165528392005, -0.33259624808423904, -0.003998607636134991, -1.593990061051303, -0.6584821977316845, 2.0614026883200594, 1.0637249701417077, -0.9150146660634526, 0.8215250722377544, 1.1250610768061051, -0.2298015120554633, 0.17008772952554638, 0.5246936400415876, 0.15233681194680676, 2.0031059224389267, 1.208314254418835, -0.006983601877966153, -0.3359230485146798, -0.5541268102803616, -0.1151211821173123, -0.1652749371318491, -1.1266610382318447, 1.4595667185479508, -1.215751278012014, 0.08824938308403832, -0.6239128998563471, 0.6312303388788727, -1.209901581230988, 0.9807857039097295, -0.1731701638606741, -2.4850532492941997, -1.4309507876276841, -0.5986616817739288, 1.358270422674479, 0.6429071296289238, -0.6618791043166042, 1.4573523196643239, 0.3099346185542316, -0.6727348900750816, 0.22519378163581433, 0.16499184718060111, 0.29852809074655906, 0.6195698193679444, 0.8692441729021245, 0.06369210860711536, -0.9241145160962878, 0.3191936860707867, -0.7962350531341178, 0.3416596610159187, -0.6129530840452634, 0.5098963048897098, 0.9938443275658476, 1.406977014254655, -0.05293215538841307, 1.403401221697883, -0.2507212747143044, 0.7736554978832385, -0.5024664967931687, -0.022252184611980395, -2.2111802150515993, -0.27750134509078017, 1.0778349077460592, -1.0791269375859893, 0.11635785130117367, 0.5948448420986335, -0.6810637296004277, 0.7094573734493927, 0.3961732022563382, 0.813243689313137, -0.43960444632456, 0.23858945640169896, -0.09863839696262959, 1.508037334911276, -1.34480149355209, 1.3661182141827626, 1.6235739132729428, -0.7627258225783631, -0.5437305474969619, 0.08442191501831761, -1.1242350581937206, 0.8545661524315328, -0.7736482724210276, -0.13057599574242482, 0.1316569371721082, -0.07048410089365893, -0.24992940092514296, -0.4186043594245944, -0.7256774458171324, -0.520950146441261, -0.46608982908209007, 1.1893608899162216, -0.6246000682443273, -0.3307877216687729, -1.2185562037969295, 0.23048478185845056, 1.6864372411714073, -0.9562946490854272, 0.018394068016398188, 0.8189783144304775, -0.18417587883538553, -0.8948071634351217, 0.3436780705779244, -0.1935284932010565, -0.5011931677056768, -0.8026559613901668, 0.12255050272474644, -0.0007907175924338036, -0.3072299786483824, -1.252598105753461, 0.4200834514664773, 0.278209841091265, 0.3150364051540114, -1.8230786511872206, 0.024844910716844863, -0.04551063709256404, -0.24285226823670122, 0.8038827461752164, 0.9636677183308034, -0.060716474481053495, -0.9564626374269315, 0.03442406977737516, -0.5452246453925356, -1.2168645687568849, 0.4310076077455225, 0.9901746681582625, 0.12468950894945263, -0.12735004499181726, -0.1195306865827505, 0.028124229534347834, 0.25894713853867124, 0.13756135009641152, -1.1487247456767382, 0.4028146003734309, -0.8727657002447894, -1.2699539733511445, -0.5539037340452522, -0.4256836498078149, 0.02266594311642818, 0.6818199353711812, -0.25951347472922753, -0.7913139781821132, 1.1928810050767467, 0.19090145109920326, 0.1184131739054405, 1.6726198503640788, 1.9448383911571991, -0.15692426522858438, -0.7255022110845623, 0.26598088458641284, 1.205791920699259, 0.06693412582913849, -1.5998483951365337, 0.7711269138124579, 2.0594484914710556, -0.7300530709676194, -0.7396099410303909, 1.7317372131671374, -0.5993112345470439, -0.09175530287417437, 0.30964162114911176, -0.6262742979093651, -0.5054775667688759, 1.4995580671944935, 0.11947643697006222, 0.9883991961036822, -0.9663477403426791, 0.48968736354034487, -0.6502211986968812, 0.03868947689432385, -0.2591791337963594, 1.0453230029847589, -0.5279084235626474, 0.3961396606532387, -1.0872244421902322, -1.4426237605056644, 0.2771205895045699, -0.8169275215889992, -3.0269551189073955, 0.509992323812445, 1.0121465461845558, 1.182311262363758], \"xaxis\": \"x\", \"yaxis\": \"y\"}],                        {\"barmode\": \"relative\", \"legend\": {\"tracegroupgap\": 0}, \"margin\": {\"t\": 60}, \"template\": {\"data\": {\"bar\": [{\"error_x\": {\"color\": \"#2a3f5f\"}, \"error_y\": {\"color\": \"#2a3f5f\"}, \"marker\": {\"line\": {\"color\": \"#E5ECF6\", \"width\": 0.5}}, \"type\": \"bar\"}], \"barpolar\": [{\"marker\": {\"line\": {\"color\": \"#E5ECF6\", \"width\": 0.5}}, \"type\": \"barpolar\"}], \"carpet\": [{\"aaxis\": {\"endlinecolor\": \"#2a3f5f\", \"gridcolor\": \"white\", \"linecolor\": \"white\", \"minorgridcolor\": \"white\", \"startlinecolor\": \"#2a3f5f\"}, \"baxis\": {\"endlinecolor\": \"#2a3f5f\", \"gridcolor\": \"white\", \"linecolor\": \"white\", \"minorgridcolor\": \"white\", \"startlinecolor\": \"#2a3f5f\"}, \"type\": \"carpet\"}], \"choropleth\": [{\"colorbar\": {\"outlinewidth\": 0, \"ticks\": \"\"}, \"type\": \"choropleth\"}], \"contour\": [{\"colorbar\": {\"outlinewidth\": 0, \"ticks\": \"\"}, \"colorscale\": [[0.0, \"#0d0887\"], [0.1111111111111111, \"#46039f\"], [0.2222222222222222, \"#7201a8\"], [0.3333333333333333, \"#9c179e\"], [0.4444444444444444, \"#bd3786\"], [0.5555555555555556, \"#d8576b\"], [0.6666666666666666, \"#ed7953\"], [0.7777777777777778, \"#fb9f3a\"], [0.8888888888888888, \"#fdca26\"], [1.0, \"#f0f921\"]], \"type\": \"contour\"}], \"contourcarpet\": [{\"colorbar\": {\"outlinewidth\": 0, \"ticks\": \"\"}, \"type\": \"contourcarpet\"}], \"heatmap\": [{\"colorbar\": {\"outlinewidth\": 0, \"ticks\": \"\"}, \"colorscale\": [[0.0, \"#0d0887\"], [0.1111111111111111, \"#46039f\"], [0.2222222222222222, \"#7201a8\"], [0.3333333333333333, \"#9c179e\"], [0.4444444444444444, \"#bd3786\"], [0.5555555555555556, \"#d8576b\"], [0.6666666666666666, \"#ed7953\"], [0.7777777777777778, \"#fb9f3a\"], [0.8888888888888888, \"#fdca26\"], [1.0, \"#f0f921\"]], \"type\": \"heatmap\"}], \"heatmapgl\": [{\"colorbar\": {\"outlinewidth\": 0, \"ticks\": \"\"}, \"colorscale\": [[0.0, \"#0d0887\"], [0.1111111111111111, \"#46039f\"], [0.2222222222222222, \"#7201a8\"], [0.3333333333333333, \"#9c179e\"], [0.4444444444444444, \"#bd3786\"], [0.5555555555555556, \"#d8576b\"], [0.6666666666666666, \"#ed7953\"], [0.7777777777777778, \"#fb9f3a\"], [0.8888888888888888, \"#fdca26\"], [1.0, \"#f0f921\"]], \"type\": \"heatmapgl\"}], \"histogram\": [{\"marker\": {\"colorbar\": {\"outlinewidth\": 0, \"ticks\": \"\"}}, \"type\": \"histogram\"}], \"histogram2d\": [{\"colorbar\": {\"outlinewidth\": 0, \"ticks\": \"\"}, \"colorscale\": [[0.0, \"#0d0887\"], [0.1111111111111111, \"#46039f\"], [0.2222222222222222, \"#7201a8\"], [0.3333333333333333, \"#9c179e\"], [0.4444444444444444, \"#bd3786\"], [0.5555555555555556, \"#d8576b\"], [0.6666666666666666, \"#ed7953\"], [0.7777777777777778, \"#fb9f3a\"], [0.8888888888888888, \"#fdca26\"], [1.0, \"#f0f921\"]], \"type\": \"histogram2d\"}], \"histogram2dcontour\": [{\"colorbar\": {\"outlinewidth\": 0, \"ticks\": \"\"}, \"colorscale\": [[0.0, \"#0d0887\"], [0.1111111111111111, \"#46039f\"], [0.2222222222222222, \"#7201a8\"], [0.3333333333333333, \"#9c179e\"], [0.4444444444444444, \"#bd3786\"], [0.5555555555555556, \"#d8576b\"], [0.6666666666666666, \"#ed7953\"], [0.7777777777777778, \"#fb9f3a\"], [0.8888888888888888, \"#fdca26\"], [1.0, \"#f0f921\"]], \"type\": \"histogram2dcontour\"}], \"mesh3d\": [{\"colorbar\": {\"outlinewidth\": 0, \"ticks\": \"\"}, \"type\": \"mesh3d\"}], \"parcoords\": [{\"line\": {\"colorbar\": {\"outlinewidth\": 0, \"ticks\": \"\"}}, \"type\": \"parcoords\"}], \"pie\": [{\"automargin\": true, \"type\": \"pie\"}], \"scatter\": [{\"marker\": {\"colorbar\": {\"outlinewidth\": 0, \"ticks\": \"\"}}, \"type\": \"scatter\"}], \"scatter3d\": [{\"line\": {\"colorbar\": {\"outlinewidth\": 0, \"ticks\": \"\"}}, \"marker\": {\"colorbar\": {\"outlinewidth\": 0, \"ticks\": \"\"}}, \"type\": \"scatter3d\"}], \"scattercarpet\": [{\"marker\": {\"colorbar\": {\"outlinewidth\": 0, \"ticks\": \"\"}}, \"type\": \"scattercarpet\"}], \"scattergeo\": [{\"marker\": {\"colorbar\": {\"outlinewidth\": 0, \"ticks\": \"\"}}, \"type\": \"scattergeo\"}], \"scattergl\": [{\"marker\": {\"colorbar\": {\"outlinewidth\": 0, \"ticks\": \"\"}}, \"type\": \"scattergl\"}], \"scattermapbox\": [{\"marker\": {\"colorbar\": {\"outlinewidth\": 0, \"ticks\": \"\"}}, \"type\": \"scattermapbox\"}], \"scatterpolar\": [{\"marker\": {\"colorbar\": {\"outlinewidth\": 0, \"ticks\": \"\"}}, \"type\": \"scatterpolar\"}], \"scatterpolargl\": [{\"marker\": {\"colorbar\": {\"outlinewidth\": 0, \"ticks\": \"\"}}, \"type\": \"scatterpolargl\"}], \"scatterternary\": [{\"marker\": {\"colorbar\": {\"outlinewidth\": 0, \"ticks\": \"\"}}, \"type\": \"scatterternary\"}], \"surface\": [{\"colorbar\": {\"outlinewidth\": 0, \"ticks\": \"\"}, \"colorscale\": [[0.0, \"#0d0887\"], [0.1111111111111111, \"#46039f\"], [0.2222222222222222, \"#7201a8\"], [0.3333333333333333, \"#9c179e\"], [0.4444444444444444, \"#bd3786\"], [0.5555555555555556, \"#d8576b\"], [0.6666666666666666, \"#ed7953\"], [0.7777777777777778, \"#fb9f3a\"], [0.8888888888888888, \"#fdca26\"], [1.0, \"#f0f921\"]], \"type\": \"surface\"}], \"table\": [{\"cells\": {\"fill\": {\"color\": \"#EBF0F8\"}, \"line\": {\"color\": \"white\"}}, \"header\": {\"fill\": {\"color\": \"#C8D4E3\"}, \"line\": {\"color\": \"white\"}}, \"type\": \"table\"}]}, \"layout\": {\"annotationdefaults\": {\"arrowcolor\": \"#2a3f5f\", \"arrowhead\": 0, \"arrowwidth\": 1}, \"autotypenumbers\": \"strict\", \"coloraxis\": {\"colorbar\": {\"outlinewidth\": 0, \"ticks\": \"\"}}, \"colorscale\": {\"diverging\": [[0, \"#8e0152\"], [0.1, \"#c51b7d\"], [0.2, \"#de77ae\"], [0.3, \"#f1b6da\"], [0.4, \"#fde0ef\"], [0.5, \"#f7f7f7\"], [0.6, \"#e6f5d0\"], [0.7, \"#b8e186\"], [0.8, \"#7fbc41\"], [0.9, \"#4d9221\"], [1, \"#276419\"]], \"sequential\": [[0.0, \"#0d0887\"], [0.1111111111111111, \"#46039f\"], [0.2222222222222222, \"#7201a8\"], [0.3333333333333333, \"#9c179e\"], [0.4444444444444444, \"#bd3786\"], [0.5555555555555556, \"#d8576b\"], [0.6666666666666666, \"#ed7953\"], [0.7777777777777778, \"#fb9f3a\"], [0.8888888888888888, \"#fdca26\"], [1.0, \"#f0f921\"]], \"sequentialminus\": [[0.0, \"#0d0887\"], [0.1111111111111111, \"#46039f\"], [0.2222222222222222, \"#7201a8\"], [0.3333333333333333, \"#9c179e\"], [0.4444444444444444, \"#bd3786\"], [0.5555555555555556, \"#d8576b\"], [0.6666666666666666, \"#ed7953\"], [0.7777777777777778, \"#fb9f3a\"], [0.8888888888888888, \"#fdca26\"], [1.0, \"#f0f921\"]]}, \"colorway\": [\"#636efa\", \"#EF553B\", \"#00cc96\", \"#ab63fa\", \"#FFA15A\", \"#19d3f3\", \"#FF6692\", \"#B6E880\", \"#FF97FF\", \"#FECB52\"], \"font\": {\"color\": \"#2a3f5f\"}, \"geo\": {\"bgcolor\": \"white\", \"lakecolor\": \"white\", \"landcolor\": \"#E5ECF6\", \"showlakes\": true, \"showland\": true, \"subunitcolor\": \"white\"}, \"hoverlabel\": {\"align\": \"left\"}, \"hovermode\": \"closest\", \"mapbox\": {\"style\": \"light\"}, \"paper_bgcolor\": \"white\", \"plot_bgcolor\": \"#E5ECF6\", \"polar\": {\"angularaxis\": {\"gridcolor\": \"white\", \"linecolor\": \"white\", \"ticks\": \"\"}, \"bgcolor\": \"#E5ECF6\", \"radialaxis\": {\"gridcolor\": \"white\", \"linecolor\": \"white\", \"ticks\": \"\"}}, \"scene\": {\"xaxis\": {\"backgroundcolor\": \"#E5ECF6\", \"gridcolor\": \"white\", \"gridwidth\": 2, \"linecolor\": \"white\", \"showbackground\": true, \"ticks\": \"\", \"zerolinecolor\": \"white\"}, \"yaxis\": {\"backgroundcolor\": \"#E5ECF6\", \"gridcolor\": \"white\", \"gridwidth\": 2, \"linecolor\": \"white\", \"showbackground\": true, \"ticks\": \"\", \"zerolinecolor\": \"white\"}, \"zaxis\": {\"backgroundcolor\": \"#E5ECF6\", \"gridcolor\": \"white\", \"gridwidth\": 2, \"linecolor\": \"white\", \"showbackground\": true, \"ticks\": \"\", \"zerolinecolor\": \"white\"}}, \"shapedefaults\": {\"line\": {\"color\": \"#2a3f5f\"}}, \"ternary\": {\"aaxis\": {\"gridcolor\": \"white\", \"linecolor\": \"white\", \"ticks\": \"\"}, \"baxis\": {\"gridcolor\": \"white\", \"linecolor\": \"white\", \"ticks\": \"\"}, \"bgcolor\": \"#E5ECF6\", \"caxis\": {\"gridcolor\": \"white\", \"linecolor\": \"white\", \"ticks\": \"\"}}, \"title\": {\"x\": 0.05}, \"xaxis\": {\"automargin\": true, \"gridcolor\": \"white\", \"linecolor\": \"white\", \"ticks\": \"\", \"title\": {\"standoff\": 15}, \"zerolinecolor\": \"white\", \"zerolinewidth\": 2}, \"yaxis\": {\"automargin\": true, \"gridcolor\": \"white\", \"linecolor\": \"white\", \"ticks\": \"\", \"title\": {\"standoff\": 15}, \"zerolinecolor\": \"white\", \"zerolinewidth\": 2}}}, \"xaxis\": {\"anchor\": \"y\", \"domain\": [0.0, 1.0], \"title\": {\"text\": \"x\"}}, \"yaxis\": {\"anchor\": \"x\", \"domain\": [0.0, 1.0], \"title\": {\"text\": \"probability density\"}}},                        {\"responsive\": true}                    ).then(function(){\n",
       "                            \n",
       "var gd = document.getElementById('f6a297fe-de22-4aa7-b323-89a64d834261');\n",
       "var x = new MutationObserver(function (mutations, observer) {{\n",
       "        var display = window.getComputedStyle(gd).display;\n",
       "        if (!display || display === 'none') {{\n",
       "            console.log([gd, 'removed!']);\n",
       "            Plotly.purge(gd);\n",
       "            observer.disconnect();\n",
       "        }}\n",
       "}});\n",
       "\n",
       "// Listen for the removal of the full notebook cells\n",
       "var notebookContainer = gd.closest('#notebook-container');\n",
       "if (notebookContainer) {{\n",
       "    x.observe(notebookContainer, {childList: true});\n",
       "}}\n",
       "\n",
       "// Listen for the clearing of the current output cell\n",
       "var outputEl = gd.closest('.output');\n",
       "if (outputEl) {{\n",
       "    x.observe(outputEl, {childList: true});\n",
       "}}\n",
       "\n",
       "                        })                };                });            </script>        </div>"
      ]
     },
     "metadata": {},
     "output_type": "display_data"
    }
   ],
   "source": [
    "# Graph with all data point. \n",
    "# H0 no correlation so Norm distibution around 0.\n",
    "# Sample \n",
    "# close to open analysis. Mention after close\n",
    "norm = stats.norm(0, 1).rvs(1000)\n",
    "import plotly.express as px\n",
    "df = px.data.tips()\n",
    "fig = px.histogram(x=norm, histnorm='probability density')\n",
    "fig.show()"
   ]
  },
  {
   "cell_type": "code",
   "execution_count": 41,
   "metadata": {
    "scrolled": true
   },
   "outputs": [
    {
     "data": {
      "text/plain": [
       "[0.004640371229698376,\n",
       " 0.004640371229698376,\n",
       " 0.01959267852539314,\n",
       " 0.004640371229698376,\n",
       " 0.007733952049497293,\n",
       " 0.007733952049497293,\n",
       " 0.004640371229698376,\n",
       " 0.018561484918793503,\n",
       " 0.001288992008249549,\n",
       " 0.442897654034545,\n",
       " 0.007733952049497293,\n",
       " 0.442897654034545,\n",
       " 0.0007733952049497294,\n",
       " 0.004640371229698376,\n",
       " 0.007733952049497293,\n",
       " 0.0015467904098994587,\n",
       " 0.026295436968290797,\n",
       " 0.01959267852539314,\n",
       " 0.010054137664346482,\n",
       " 0.0634184068058778,\n",
       " 0.0010311936065996391,\n",
       " 0.0,\n",
       " 1.0,\n",
       " 0.0634184068058778,\n",
       " 0.0015467904098994587,\n",
       " 0.01263212168084558,\n",
       " 0.009022944057746842,\n",
       " 0.16189739623614333,\n",
       " 0.001288992008249549,\n",
       " 0.010054137664346482,\n",
       " 0.442897654034545,\n",
       " 0.34957463263727767,\n",
       " 0.2552204176334107,\n",
       " 0.001288992008249549,\n",
       " 0.05955143078112916,\n",
       " 0.018561484918793503,\n",
       " 0.05955143078112916,\n",
       " 1.0,\n",
       " 0.0010311936065996391,\n",
       " 0.010054137664346482,\n",
       " 0.01263212168084558,\n",
       " 0.0015467904098994587,\n",
       " 0.16189739623614333,\n",
       " 0.010054137664346482,\n",
       " 0.01959267852539314,\n",
       " 0.01959267852539314,\n",
       " 0.16189739623614333,\n",
       " 0.018561484918793503,\n",
       " 0.026295436968290797,\n",
       " 0.026295436968290797,\n",
       " 0.026295436968290797,\n",
       " 0.016499097705594226,\n",
       " 0.05955143078112916,\n",
       " 0.018561484918793503,\n",
       " 0.0010311936065996391,\n",
       " 0.01959267852539314,\n",
       " 0.018561484918793503,\n",
       " 0.016499097705594226,\n",
       " 0.010054137664346482,\n",
       " 0.026295436968290797,\n",
       " 0.0010311936065996391,\n",
       " 0.0007733952049497294,\n",
       " 0.004640371229698376,\n",
       " 0.0,\n",
       " 0.01211652487754576,\n",
       " 0.016499097705594226,\n",
       " 0.05955143078112916,\n",
       " 0.004640371229698376,\n",
       " 0.0634184068058778,\n",
       " 0.34957463263727767,\n",
       " 0.0010311936065996391,\n",
       " 0.026295436968290797,\n",
       " 0.34957463263727767,\n",
       " 0.0,\n",
       " 0.0015467904098994587,\n",
       " 0.07888631090487239,\n",
       " 0.016499097705594226,\n",
       " 0.07888631090487239,\n",
       " 0.0010311936065996391,\n",
       " 0.025522041763341066,\n",
       " 0.2552204176334107,\n",
       " 0.01959267852539314,\n",
       " 0.018561484918793503,\n",
       " 0.009022944057746842,\n",
       " 0.018561484918793503,\n",
       " 0.0010311936065996391,\n",
       " 0.026295436968290797,\n",
       " 0.0,\n",
       " 0.0,\n",
       " 0.025522041763341066,\n",
       " 0.018561484918793503,\n",
       " 0.004640371229698376,\n",
       " 0.007733952049497293,\n",
       " 0.007733952049497293,\n",
       " 0.010054137664346482,\n",
       " 0.010054137664346482,\n",
       " 0.025522041763341066,\n",
       " 0.442897654034545,\n",
       " 0.0010311936065996391,\n",
       " 0.026295436968290797,\n",
       " 0.01959267852539314,\n",
       " 0.016499097705594226,\n",
       " 0.010054137664346482,\n",
       " 1.0,\n",
       " 0.0634184068058778,\n",
       " 0.2552204176334107,\n",
       " 0.16189739623614333,\n",
       " 0.001288992008249549,\n",
       " 0.004640371229698376,\n",
       " 0.2552204176334107,\n",
       " 0.004640371229698376,\n",
       " 0.001288992008249549,\n",
       " 0.01959267852539314,\n",
       " 0.16189739623614333,\n",
       " 0.05955143078112916,\n",
       " 0.001288992008249549,\n",
       " 0.2552204176334107,\n",
       " 0.016499097705594226,\n",
       " 0.16189739623614333,\n",
       " 0.16189739623614333,\n",
       " 0.01134312967259603,\n",
       " 0.018561484918793503,\n",
       " 0.0015467904098994587,\n",
       " 0.004640371229698376,\n",
       " 0.026295436968290797,\n",
       " 0.0015467904098994587,\n",
       " 0.01134312967259603,\n",
       " 0.004640371229698376,\n",
       " 0.16189739623614333,\n",
       " 0.0634184068058778,\n",
       " 0.007733952049497293,\n",
       " 0.2552204176334107,\n",
       " 0.01134312967259603,\n",
       " 0.001288992008249549,\n",
       " 0.0,\n",
       " 0.01959267852539314,\n",
       " 0.01263212168084558,\n",
       " 0.018561484918793503,\n",
       " 0.016499097705594226,\n",
       " 0.01959267852539314,\n",
       " 0.01959267852539314,\n",
       " 0.2552204176334107,\n",
       " 0.001288992008249549,\n",
       " 0.01211652487754576,\n",
       " 0.34957463263727767,\n",
       " 0.01263212168084558,\n",
       " 0.2552204176334107,\n",
       " 0.2552204176334107,\n",
       " 0.01959267852539314,\n",
       " 0.07888631090487239,\n",
       " 0.34957463263727767,\n",
       " 0.0015467904098994587,\n",
       " 0.018561484918793503,\n",
       " 0.01959267852539314,\n",
       " 0.007733952049497293,\n",
       " 0.0,\n",
       " 0.018561484918793503,\n",
       " 0.009022944057746842,\n",
       " 0.009022944057746842,\n",
       " 0.004640371229698376,\n",
       " 0.001288992008249549,\n",
       " 0.007733952049497293,\n",
       " 0.2552204176334107,\n",
       " 0.05955143078112916,\n",
       " 0.01211652487754576,\n",
       " 0.007733952049497293,\n",
       " 0.001288992008249549,\n",
       " 0.0,\n",
       " 0.01211652487754576,\n",
       " 0.004640371229698376,\n",
       " 0.0007733952049497294,\n",
       " 0.05955143078112916,\n",
       " 0.0,\n",
       " 0.442897654034545,\n",
       " 0.0010311936065996391,\n",
       " 0.07888631090487239,\n",
       " 0.01211652487754576,\n",
       " 0.016499097705594226,\n",
       " 0.0015467904098994587,\n",
       " 0.0010311936065996391,\n",
       " 0.010054137664346482,\n",
       " 0.004640371229698376,\n",
       " 0.01134312967259603,\n",
       " 0.01959267852539314,\n",
       " 0.001288992008249549,\n",
       " 0.01211652487754576,\n",
       " 0.01211652487754576,\n",
       " 0.01134312967259603,\n",
       " 0.16189739623614333,\n",
       " 0.34957463263727767,\n",
       " 0.01134312967259603,\n",
       " 0.01211652487754576,\n",
       " 0.0,\n",
       " 0.0,\n",
       " 0.05955143078112916,\n",
       " 0.01211652487754576,\n",
       " 0.010054137664346482,\n",
       " 0.34957463263727767,\n",
       " 0.001288992008249549,\n",
       " 0.010054137664346482,\n",
       " 0.07888631090487239,\n",
       " 0.0010311936065996391,\n",
       " 0.025522041763341066,\n",
       " 0.07888631090487239,\n",
       " 0.16189739623614333,\n",
       " 0.0010311936065996391,\n",
       " 0.442897654034545,\n",
       " 0.001288992008249549,\n",
       " 0.010054137664346482,\n",
       " 0.0010311936065996391,\n",
       " 0.01959267852539314,\n",
       " 0.026295436968290797,\n",
       " 0.16189739623614333,\n",
       " 0.001288992008249549,\n",
       " 0.001288992008249549,\n",
       " 1.0,\n",
       " 0.01211652487754576,\n",
       " 0.16189739623614333,\n",
       " 0.01134312967259603,\n",
       " 0.0,\n",
       " 0.05955143078112916,\n",
       " 0.0007733952049497294,\n",
       " 0.01211652487754576,\n",
       " 0.0634184068058778,\n",
       " 0.0,\n",
       " 0.001288992008249549,\n",
       " 0.01134312967259603,\n",
       " 0.018561484918793503,\n",
       " 0.34957463263727767,\n",
       " 0.010054137664346482,\n",
       " 0.0007733952049497294,\n",
       " 0.0010311936065996391,\n",
       " 0.0010311936065996391,\n",
       " 0.0634184068058778,\n",
       " 0.016499097705594226,\n",
       " 1.0,\n",
       " 0.001288992008249549,\n",
       " 0.0007733952049497294,\n",
       " 0.0007733952049497294,\n",
       " 0.01263212168084558,\n",
       " 0.025522041763341066,\n",
       " 0.01134312967259603,\n",
       " 0.0,\n",
       " 0.025522041763341066,\n",
       " 0.010054137664346482,\n",
       " 0.0634184068058778,\n",
       " 0.0007733952049497294,\n",
       " 0.0,\n",
       " 0.004640371229698376,\n",
       " 0.01263212168084558,\n",
       " 0.442897654034545,\n",
       " 0.442897654034545,\n",
       " 0.016499097705594226,\n",
       " 0.01263212168084558,\n",
       " 0.01211652487754576,\n",
       " 0.0010311936065996391,\n",
       " 0.07888631090487239,\n",
       " 0.442897654034545,\n",
       " 0.026295436968290797,\n",
       " 0.026295436968290797,\n",
       " 0.0,\n",
       " 0.0010311936065996391,\n",
       " 0.01263212168084558,\n",
       " 0.009022944057746842,\n",
       " 0.026295436968290797,\n",
       " 0.016499097705594226,\n",
       " 0.004640371229698376,\n",
       " 0.2552204176334107,\n",
       " 0.0010311936065996391,\n",
       " 0.34957463263727767,\n",
       " 0.0010311936065996391,\n",
       " 0.442897654034545,\n",
       " 0.001288992008249549,\n",
       " 0.007733952049497293,\n",
       " 0.442897654034545,\n",
       " 0.0634184068058778,\n",
       " 0.01959267852539314,\n",
       " 0.001288992008249549,\n",
       " 0.07888631090487239,\n",
       " 0.026295436968290797,\n",
       " 0.01211652487754576,\n",
       " 0.009022944057746842,\n",
       " 0.026295436968290797,\n",
       " 0.05955143078112916,\n",
       " 0.026295436968290797,\n",
       " 0.004640371229698376,\n",
       " 0.07888631090487239,\n",
       " 0.004640371229698376,\n",
       " 0.442897654034545,\n",
       " 0.004640371229698376,\n",
       " 0.01959267852539314,\n",
       " 0.0634184068058778,\n",
       " 0.16189739623614333,\n",
       " 0.0015467904098994587,\n",
       " 0.01211652487754576,\n",
       " 0.004640371229698376,\n",
       " 0.009022944057746842,\n",
       " 1.0,\n",
       " 0.01211652487754576,\n",
       " 0.004640371229698376,\n",
       " 0.025522041763341066,\n",
       " 0.0,\n",
       " 1.0,\n",
       " 0.007733952049497293,\n",
       " 0.001288992008249549,\n",
       " 0.01211652487754576,\n",
       " 0.018561484918793503,\n",
       " 0.01134312967259603,\n",
       " 0.018561484918793503,\n",
       " 0.016499097705594226,\n",
       " 0.01134312967259603,\n",
       " 0.01211652487754576,\n",
       " 0.016499097705594226,\n",
       " 0.0010311936065996391,\n",
       " 0.05955143078112916,\n",
       " 0.442897654034545,\n",
       " 0.016499097705594226,\n",
       " 0.004640371229698376,\n",
       " 0.004640371229698376,\n",
       " 0.05955143078112916,\n",
       " 0.01211652487754576,\n",
       " 0.01959267852539314,\n",
       " 0.001288992008249549,\n",
       " 0.0,\n",
       " 0.010054137664346482,\n",
       " 0.004640371229698376,\n",
       " 0.004640371229698376,\n",
       " 0.07888631090487239,\n",
       " 0.007733952049497293,\n",
       " 0.01134312967259603,\n",
       " 0.001288992008249549,\n",
       " 0.442897654034545,\n",
       " 0.004640371229698376,\n",
       " 0.016499097705594226,\n",
       " 0.026295436968290797,\n",
       " 0.009022944057746842,\n",
       " 0.01959267852539314,\n",
       " 0.0007733952049497294,\n",
       " 0.01211652487754576,\n",
       " 0.004640371229698376,\n",
       " 0.0,\n",
       " 0.0010311936065996391,\n",
       " 0.001288992008249549,\n",
       " 0.16189739623614333,\n",
       " 0.07888631090487239,\n",
       " 0.025522041763341066,\n",
       " 0.0,\n",
       " 0.004640371229698376,\n",
       " 0.018561484918793503,\n",
       " 0.442897654034545,\n",
       " 0.009022944057746842,\n",
       " 0.01211652487754576,\n",
       " 0.016499097705594226,\n",
       " 0.004640371229698376,\n",
       " 0.442897654034545,\n",
       " 0.07888631090487239,\n",
       " 0.016499097705594226,\n",
       " 0.16189739623614333,\n",
       " 0.2552204176334107,\n",
       " 0.001288992008249549,\n",
       " 0.0,\n",
       " 0.442897654034545,\n",
       " 0.0007733952049497294,\n",
       " 0.01959267852539314,\n",
       " 0.001288992008249549,\n",
       " 1.0,\n",
       " 0.004640371229698376,\n",
       " 0.018561484918793503,\n",
       " 0.001288992008249549,\n",
       " 0.004640371229698376,\n",
       " 0.0015467904098994587,\n",
       " 0.0015467904098994587,\n",
       " 0.018561484918793503,\n",
       " 0.0010311936065996391,\n",
       " 0.026295436968290797,\n",
       " 0.025522041763341066,\n",
       " 0.009022944057746842,\n",
       " 0.001288992008249549,\n",
       " 0.001288992008249549,\n",
       " 0.01211652487754576,\n",
       " 0.01959267852539314,\n",
       " 0.05955143078112916,\n",
       " 0.16189739623614333,\n",
       " 0.07888631090487239,\n",
       " 0.0010311936065996391,\n",
       " 0.442897654034545,\n",
       " 0.01263212168084558,\n",
       " 0.0,\n",
       " 1.0,\n",
       " 0.01959267852539314,\n",
       " 0.018561484918793503,\n",
       " 0.0,\n",
       " 0.0010311936065996391,\n",
       " 0.0,\n",
       " 0.01959267852539314,\n",
       " 0.0007733952049497294,\n",
       " 0.0010311936065996391,\n",
       " 0.009022944057746842,\n",
       " 0.05955143078112916,\n",
       " 0.0010311936065996391,\n",
       " 0.0634184068058778,\n",
       " 0.01959267852539314,\n",
       " 0.07888631090487239,\n",
       " 0.004640371229698376,\n",
       " 0.004640371229698376,\n",
       " 0.004640371229698376,\n",
       " 0.01134312967259603,\n",
       " 0.01134312967259603,\n",
       " 0.0010311936065996391,\n",
       " 0.026295436968290797,\n",
       " 0.004640371229698376,\n",
       " 0.010054137664346482,\n",
       " 0.34957463263727767,\n",
       " 0.0015467904098994587,\n",
       " 0.0007733952049497294,\n",
       " 0.01959267852539314,\n",
       " 0.05955143078112916,\n",
       " 0.01134312967259603,\n",
       " 0.05955143078112916,\n",
       " 0.01211652487754576,\n",
       " 0.009022944057746842,\n",
       " 0.34957463263727767,\n",
       " 0.0010311936065996391,\n",
       " 0.0010311936065996391,\n",
       " 0.05955143078112916,\n",
       " 0.34957463263727767,\n",
       " 0.07888631090487239,\n",
       " 0.0007733952049497294,\n",
       " 0.010054137664346482,\n",
       " 0.0634184068058778,\n",
       " 0.0,\n",
       " 0.0634184068058778,\n",
       " 0.004640371229698376,\n",
       " 0.004640371229698376,\n",
       " 0.01134312967259603,\n",
       " 0.01211652487754576,\n",
       " 0.0007733952049497294,\n",
       " 0.442897654034545,\n",
       " 0.442897654034545,\n",
       " 0.0,\n",
       " 0.0,\n",
       " 0.0,\n",
       " 0.01211652487754576,\n",
       " 0.001288992008249549,\n",
       " 0.004640371229698376,\n",
       " 0.004640371229698376,\n",
       " 0.2552204176334107,\n",
       " 0.01959267852539314,\n",
       " 0.01211652487754576,\n",
       " 0.05955143078112916,\n",
       " 0.010054137664346482,\n",
       " 0.34957463263727767,\n",
       " 0.0,\n",
       " 0.001288992008249549,\n",
       " 0.0634184068058778,\n",
       " 0.016499097705594226,\n",
       " 0.009022944057746842,\n",
       " 0.004640371229698376,\n",
       " 0.05955143078112916,\n",
       " 0.34957463263727767,\n",
       " 0.01263212168084558,\n",
       " 0.01134312967259603,\n",
       " 0.010054137664346482,\n",
       " 0.34957463263727767,\n",
       " 0.025522041763341066,\n",
       " 0.0007733952049497294,\n",
       " 0.0007733952049497294,\n",
       " 0.01959267852539314,\n",
       " 0.05955143078112916,\n",
       " 0.010054137664346482,\n",
       " 0.01211652487754576,\n",
       " 1.0,\n",
       " 0.01263212168084558,\n",
       " 0.2552204176334107,\n",
       " 0.05955143078112916,\n",
       " 0.34957463263727767,\n",
       " 0.001288992008249549,\n",
       " 0.05955143078112916,\n",
       " 0.010054137664346482,\n",
       " 0.007733952049497293,\n",
       " 0.016499097705594226,\n",
       " 0.34957463263727767,\n",
       " 0.0007733952049497294,\n",
       " 0.01211652487754576,\n",
       " 0.025522041763341066,\n",
       " 0.01959267852539314,\n",
       " 1.0,\n",
       " 0.004640371229698376,\n",
       " 0.01211652487754576,\n",
       " 0.05955143078112916,\n",
       " 0.16189739623614333,\n",
       " 0.05955143078112916,\n",
       " 0.01263212168084558,\n",
       " 0.16189739623614333,\n",
       " 0.0,\n",
       " 0.001288992008249549,\n",
       " 0.442897654034545,\n",
       " 0.01263212168084558,\n",
       " 0.0015467904098994587,\n",
       " 0.026295436968290797,\n",
       " 0.026295436968290797,\n",
       " 0.05955143078112916,\n",
       " 0.01263212168084558,\n",
       " 1.0,\n",
       " 0.025522041763341066,\n",
       " 0.16189739623614333,\n",
       " 0.2552204176334107,\n",
       " 0.2552204176334107,\n",
       " 0.01959267852539314,\n",
       " 0.0010311936065996391,\n",
       " 0.010054137664346482,\n",
       " 0.004640371229698376,\n",
       " 0.004640371229698376,\n",
       " 0.0,\n",
       " 0.009022944057746842,\n",
       " 0.010054137664346482,\n",
       " 0.01134312967259603,\n",
       " 0.025522041763341066,\n",
       " 0.026295436968290797,\n",
       " 0.001288992008249549,\n",
       " 0.34957463263727767,\n",
       " 0.026295436968290797,\n",
       " 0.2552204176334107,\n",
       " 0.016499097705594226,\n",
       " 0.442897654034545,\n",
       " 0.0010311936065996391,\n",
       " 0.010054137664346482,\n",
       " 0.442897654034545,\n",
       " 0.0,\n",
       " 0.007733952049497293,\n",
       " 0.01134312967259603,\n",
       " 0.01134312967259603,\n",
       " 0.0015467904098994587,\n",
       " 0.0634184068058778,\n",
       " 0.0,\n",
       " 0.442897654034545,\n",
       " 0.34957463263727767,\n",
       " 0.010054137664346482,\n",
       " 0.0010311936065996391,\n",
       " 0.34957463263727767,\n",
       " 0.05955143078112916,\n",
       " 0.018561484918793503,\n",
       " 0.0015467904098994587,\n",
       " 0.0,\n",
       " 0.01211652487754576,\n",
       " 0.34957463263727767,\n",
       " 0.009022944057746842,\n",
       " 0.007733952049497293,\n",
       " 0.018561484918793503,\n",
       " 0.026295436968290797,\n",
       " 0.001288992008249549,\n",
       " 0.05955143078112916,\n",
       " 0.0010311936065996391,\n",
       " 0.026295436968290797,\n",
       " 0.0,\n",
       " 0.0010311936065996391,\n",
       " 0.0634184068058778,\n",
       " 0.016499097705594226,\n",
       " 0.2552204176334107,\n",
       " 0.004640371229698376,\n",
       " 0.16189739623614333,\n",
       " 0.018561484918793503,\n",
       " 0.001288992008249549,\n",
       " 0.0634184068058778,\n",
       " 0.442897654034545,\n",
       " 0.018561484918793503,\n",
       " 0.0015467904098994587,\n",
       " 0.004640371229698376,\n",
       " 0.05955143078112916,\n",
       " 0.01211652487754576,\n",
       " 1.0,\n",
       " 0.0,\n",
       " 0.07888631090487239,\n",
       " 0.01211652487754576,\n",
       " 0.01263212168084558,\n",
       " 0.0634184068058778,\n",
       " 1.0,\n",
       " 0.01211652487754576,\n",
       " 0.442897654034545,\n",
       " 0.001288992008249549,\n",
       " 1.0,\n",
       " 0.001288992008249549,\n",
       " 0.018561484918793503,\n",
       " 0.01959267852539314,\n",
       " 0.0634184068058778,\n",
       " 0.001288992008249549,\n",
       " 0.0007733952049497294,\n",
       " 0.018561484918793503,\n",
       " 0.0010311936065996391,\n",
       " 0.010054137664346482,\n",
       " 0.0015467904098994587,\n",
       " 0.001288992008249549,\n",
       " 0.007733952049497293,\n",
       " 0.0015467904098994587,\n",
       " 0.0010311936065996391,\n",
       " 1.0,\n",
       " 0.0010311936065996391,\n",
       " 1.0,\n",
       " 0.018561484918793503,\n",
       " 0.01959267852539314,\n",
       " 0.0010311936065996391,\n",
       " 0.05955143078112916,\n",
       " 0.0010311936065996391,\n",
       " 0.0007733952049497294,\n",
       " 0.0010311936065996391,\n",
       " 0.16189739623614333,\n",
       " 0.010054137664346482,\n",
       " 0.007733952049497293,\n",
       " 0.01263212168084558,\n",
       " 0.0,\n",
       " 0.025522041763341066,\n",
       " 0.07888631090487239,\n",
       " 0.0007733952049497294,\n",
       " 0.01211652487754576,\n",
       " 0.05955143078112916,\n",
       " 0.01134312967259603,\n",
       " 0.0,\n",
       " 0.01959267852539314,\n",
       " 0.01263212168084558,\n",
       " 0.025522041763341066,\n",
       " 0.026295436968290797,\n",
       " 0.009022944057746842,\n",
       " 0.016499097705594226,\n",
       " 0.001288992008249549,\n",
       " 0.01211652487754576,\n",
       " 0.2552204176334107,\n",
       " 0.01263212168084558,\n",
       " 0.07888631090487239,\n",
       " 0.01959267852539314,\n",
       " 0.01211652487754576,\n",
       " 0.0010311936065996391,\n",
       " 0.009022944057746842,\n",
       " 0.007733952049497293,\n",
       " 0.009022944057746842,\n",
       " 0.026295436968290797,\n",
       " 0.004640371229698376,\n",
       " 0.004640371229698376,\n",
       " 0.01134312967259603,\n",
       " 0.018561484918793503,\n",
       " 0.01134312967259603,\n",
       " 0.001288992008249549,\n",
       " 0.05955143078112916,\n",
       " 1.0,\n",
       " 0.0010311936065996391,\n",
       " 0.0015467904098994587,\n",
       " 0.025522041763341066,\n",
       " 0.016499097705594226,\n",
       " 0.0,\n",
       " 0.05955143078112916,\n",
       " 0.016499097705594226,\n",
       " 0.442897654034545,\n",
       " 0.2552204176334107,\n",
       " 0.0007733952049497294,\n",
       " 0.442897654034545,\n",
       " 0.0,\n",
       " 0.01134312967259603,\n",
       " 0.026295436968290797,\n",
       " 0.34957463263727767,\n",
       " 0.0,\n",
       " 0.025522041763341066,\n",
       " 0.2552204176334107,\n",
       " 0.009022944057746842,\n",
       " 0.0,\n",
       " 0.442897654034545,\n",
       " 0.01263212168084558,\n",
       " 0.07888631090487239,\n",
       " 0.010054137664346482,\n",
       " 0.01211652487754576,\n",
       " 0.01211652487754576,\n",
       " 0.0010311936065996391,\n",
       " 0.16189739623614333,\n",
       " 0.0010311936065996391,\n",
       " 0.001288992008249549,\n",
       " 1.0,\n",
       " 0.0007733952049497294,\n",
       " 0.07888631090487239,\n",
       " 0.007733952049497293,\n",
       " 0.026295436968290797,\n",
       " 0.01134312967259603,\n",
       " 0.001288992008249549,\n",
       " 0.004640371229698376,\n",
       " 0.010054137664346482,\n",
       " 0.009022944057746842,\n",
       " 0.0634184068058778,\n",
       " 0.0007733952049497294,\n",
       " 0.442897654034545,\n",
       " 0.025522041763341066,\n",
       " 0.0634184068058778,\n",
       " 0.16189739623614333,\n",
       " 0.0,\n",
       " 1.0,\n",
       " 0.01959267852539314,\n",
       " 0.0634184068058778,\n",
       " 0.442897654034545,\n",
       " 0.009022944057746842,\n",
       " 0.01211652487754576,\n",
       " 0.026295436968290797,\n",
       " 0.34957463263727767,\n",
       " 0.01263212168084558,\n",
       " 0.0015467904098994587,\n",
       " 0.2552204176334107,\n",
       " 0.018561484918793503,\n",
       " 0.0015467904098994587,\n",
       " 0.026295436968290797,\n",
       " 0.0007733952049497294,\n",
       " 0.001288992008249549,\n",
       " 0.004640371229698376,\n",
       " 0.0634184068058778,\n",
       " 0.001288992008249549,\n",
       " 0.2552204176334107,\n",
       " 1.0,\n",
       " 0.0010311936065996391,\n",
       " 0.01959267852539314,\n",
       " 0.01263212168084558,\n",
       " 0.0015467904098994587,\n",
       " 0.01211652487754576,\n",
       " 0.16189739623614333,\n",
       " 0.0634184068058778,\n",
       " 0.07888631090487239,\n",
       " 0.016499097705594226,\n",
       " 0.05955143078112916,\n",
       " 0.018561484918793503,\n",
       " 0.0015467904098994587,\n",
       " 0.0010311936065996391,\n",
       " 0.34957463263727767,\n",
       " 0.009022944057746842,\n",
       " 0.0010311936065996391,\n",
       " 0.010054137664346482,\n",
       " 0.16189739623614333,\n",
       " 0.018561484918793503,\n",
       " 0.0,\n",
       " 0.2552204176334107,\n",
       " 0.0015467904098994587,\n",
       " 0.0015467904098994587,\n",
       " 0.0010311936065996391,\n",
       " 0.01263212168084558,\n",
       " 0.0015467904098994587,\n",
       " 0.004640371229698376,\n",
       " 0.0007733952049497294,\n",
       " 0.2552204176334107,\n",
       " 0.07888631090487239,\n",
       " 0.016499097705594226,\n",
       " 0.001288992008249549,\n",
       " 0.004640371229698376,\n",
       " 0.05955143078112916,\n",
       " 0.026295436968290797,\n",
       " 0.009022944057746842,\n",
       " 0.0010311936065996391,\n",
       " 0.0007733952049497294,\n",
       " 0.001288992008249549,\n",
       " 0.010054137664346482,\n",
       " 0.01959267852539314,\n",
       " 0.01263212168084558,\n",
       " 0.01134312967259603,\n",
       " 0.05955143078112916,\n",
       " 0.025522041763341066,\n",
       " 0.2552204176334107,\n",
       " 0.010054137664346482,\n",
       " 0.16189739623614333,\n",
       " 0.004640371229698376,\n",
       " 0.01211652487754576,\n",
       " 0.0010311936065996391,\n",
       " 0.0634184068058778,\n",
       " 0.018561484918793503,\n",
       " 0.026295436968290797,\n",
       " 0.34957463263727767,\n",
       " 0.0,\n",
       " 1.0,\n",
       " 0.007733952049497293,\n",
       " 1.0,\n",
       " 0.01959267852539314,\n",
       " 0.0010311936065996391,\n",
       " 0.001288992008249549,\n",
       " 0.0,\n",
       " 0.001288992008249549,\n",
       " 0.026295436968290797,\n",
       " 0.018561484918793503,\n",
       " 0.01211652487754576,\n",
       " 0.0015467904098994587,\n",
       " 0.442897654034545,\n",
       " 0.009022944057746842,\n",
       " 0.01211652487754576,\n",
       " 1.0,\n",
       " 0.016499097705594226,\n",
       " 0.01959267852539314,\n",
       " 0.0,\n",
       " 0.0634184068058778,\n",
       " 0.016499097705594226,\n",
       " 0.0010311936065996391,\n",
       " 0.016499097705594226,\n",
       " 0.01134312967259603,\n",
       " 0.025522041763341066,\n",
       " 0.0,\n",
       " 0.001288992008249549,\n",
       " 0.2552204176334107,\n",
       " 0.001288992008249549,\n",
       " 0.001288992008249549,\n",
       " 0.010054137664346482,\n",
       " 0.004640371229698376,\n",
       " 0.018561484918793503,\n",
       " 0.01134312967259603,\n",
       " 0.442897654034545,\n",
       " 0.0,\n",
       " 0.001288992008249549,\n",
       " 0.2552204176334107,\n",
       " 0.001288992008249549,\n",
       " 0.01211652487754576,\n",
       " 0.001288992008249549,\n",
       " 0.007733952049497293,\n",
       " 0.16189739623614333,\n",
       " 0.025522041763341066,\n",
       " 0.442897654034545,\n",
       " 0.01134312967259603,\n",
       " 0.004640371229698376,\n",
       " 0.01959267852539314,\n",
       " 1.0,\n",
       " 1.0,\n",
       " 0.001288992008249549,\n",
       " 0.009022944057746842,\n",
       " 0.0,\n",
       " 0.16189739623614333,\n",
       " 0.016499097705594226,\n",
       " 0.0015467904098994587,\n",
       " 0.0007733952049497294,\n",
       " 0.026295436968290797,\n",
       " 0.01959267852539314,\n",
       " 0.01959267852539314,\n",
       " 0.05955143078112916,\n",
       " 0.01134312967259603,\n",
       " 0.01959267852539314,\n",
       " 0.0010311936065996391,\n",
       " 0.001288992008249549,\n",
       " 0.007733952049497293,\n",
       " 0.01211652487754576,\n",
       " 0.0,\n",
       " 1.0,\n",
       " 0.025522041763341066,\n",
       " 0.01134312967259603,\n",
       " 0.0634184068058778,\n",
       " 0.001288992008249549,\n",
       " 0.0010311936065996391,\n",
       " 0.16189739623614333,\n",
       " 0.0,\n",
       " 0.001288992008249549,\n",
       " 0.01263212168084558,\n",
       " 0.05955143078112916,\n",
       " 0.16189739623614333,\n",
       " 0.0015467904098994587,\n",
       " 0.004640371229698376,\n",
       " 0.07888631090487239,\n",
       " 0.001288992008249549,\n",
       " 0.01134312967259603,\n",
       " 0.01959267852539314,\n",
       " 0.01211652487754576,\n",
       " 0.025522041763341066,\n",
       " 0.018561484918793503,\n",
       " 0.07888631090487239,\n",
       " 0.01211652487754576,\n",
       " 0.016499097705594226,\n",
       " 0.0,\n",
       " 0.01134312967259603,\n",
       " 0.01211652487754576,\n",
       " 0.025522041763341066,\n",
       " 0.01211652487754576,\n",
       " 0.0010311936065996391,\n",
       " 0.442897654034545,\n",
       " 0.026295436968290797,\n",
       " 0.001288992008249549,\n",
       " 0.025522041763341066,\n",
       " 0.34957463263727767,\n",
       " 1.0,\n",
       " 1.0,\n",
       " 0.0010311936065996391,\n",
       " 0.05955143078112916,\n",
       " 0.010054137664346482,\n",
       " 0.34957463263727767,\n",
       " 0.004640371229698376,\n",
       " 0.018561484918793503,\n",
       " 0.0634184068058778,\n",
       " 0.0,\n",
       " 0.026295436968290797,\n",
       " 0.01263212168084558,\n",
       " 0.01959267852539314,\n",
       " 0.0,\n",
       " 0.01211652487754576,\n",
       " 0.01134312967259603,\n",
       " 0.016499097705594226,\n",
       " 0.004640371229698376,\n",
       " 0.026295436968290797,\n",
       " 0.01134312967259603,\n",
       " 0.001288992008249549,\n",
       " 0.010054137664346482,\n",
       " 1.0,\n",
       " 0.026295436968290797,\n",
       " 0.026295436968290797,\n",
       " 0.004640371229698376,\n",
       " 0.07888631090487239,\n",
       " 0.026295436968290797,\n",
       " 0.01211652487754576,\n",
       " 0.0,\n",
       " 0.0015467904098994587,\n",
       " 0.016499097705594226,\n",
       " 0.001288992008249549,\n",
       " 0.0,\n",
       " 0.0634184068058778,\n",
       " 0.01134312967259603,\n",
       " 0.01134312967259603,\n",
       " 0.0010311936065996391,\n",
       " 0.004640371229698376,\n",
       " 0.01211652487754576,\n",
       " 0.0,\n",
       " 0.01263212168084558,\n",
       " 0.001288992008249549,\n",
       " 0.01263212168084558,\n",
       " 0.442897654034545,\n",
       " 0.001288992008249549,\n",
       " 0.0634184068058778,\n",
       " 0.025522041763341066,\n",
       " 0.442897654034545,\n",
       " 0.0634184068058778,\n",
       " 0.016499097705594226,\n",
       " 0.001288992008249549,\n",
       " 0.0007733952049497294,\n",
       " 0.07888631090487239,\n",
       " 1.0,\n",
       " 0.001288992008249549,\n",
       " 0.0,\n",
       " 0.025522041763341066,\n",
       " 0.0634184068058778,\n",
       " 0.2552204176334107,\n",
       " 0.01211652487754576,\n",
       " 0.0010311936065996391,\n",
       " 0.0634184068058778,\n",
       " 0.004640371229698376,\n",
       " 0.16189739623614333,\n",
       " 0.01211652487754576,\n",
       " 0.01263212168084558,\n",
       " 0.001288992008249549,\n",
       " 0.001288992008249549,\n",
       " 0.0015467904098994587,\n",
       " 0.0,\n",
       " 0.05955143078112916,\n",
       " 0.0007733952049497294,\n",
       " 0.05955143078112916,\n",
       " 0.01959267852539314,\n",
       " 0.018561484918793503,\n",
       " 0.001288992008249549,\n",
       " 0.0010311936065996391,\n",
       " 0.0634184068058778,\n",
       " 0.05955143078112916,\n",
       " 0.0010311936065996391,\n",
       " 0.004640371229698376,\n",
       " 0.01211652487754576,\n",
       " 0.2552204176334107,\n",
       " 0.01211652487754576,\n",
       " 0.0,\n",
       " 0.01134312967259603,\n",
       " 1.0,\n",
       " 0.05955143078112916,\n",
       " 0.016499097705594226,\n",
       " 0.004640371229698376,\n",
       " 0.2552204176334107,\n",
       " 0.16189739623614333,\n",
       " 0.01134312967259603,\n",
       " 0.0634184068058778,\n",
       " 0.001288992008249549,\n",
       " 0.018561484918793503,\n",
       " 0.05955143078112916,\n",
       " 0.018561484918793503,\n",
       " 0.001288992008249549,\n",
       " 0.34957463263727767,\n",
       " 0.0010311936065996391,\n",
       " 0.01263212168084558,\n",
       " 0.01134312967259603,\n",
       " 1.0,\n",
       " 0.026295436968290797,\n",
       " 0.442897654034545,\n",
       " 0.0010311936065996391,\n",
       " 0.01211652487754576,\n",
       " 0.009022944057746842,\n",
       " 0.01134312967259603,\n",
       " 0.016499097705594226,\n",
       " 0.010054137664346482,\n",
       " 0.442897654034545,\n",
       " 0.0010311936065996391,\n",
       " 0.0634184068058778,\n",
       " 0.0015467904098994587,\n",
       " 0.018561484918793503,\n",
       " 0.01211652487754576,\n",
       " 0.0,\n",
       " 0.0010311936065996391,\n",
       " 0.01134312967259603,\n",
       " 0.0,\n",
       " 0.01211652487754576,\n",
       " 0.0634184068058778,\n",
       " 0.004640371229698376,\n",
       " 0.001288992008249549,\n",
       " 0.016499097705594226,\n",
       " 0.2552204176334107,\n",
       " 0.001288992008249549]"
      ]
     },
     "execution_count": 41,
     "metadata": {},
     "output_type": "execute_result"
    }
   ],
   "source": [
    "growth_vs_hr['count percent'] = growth_vs_hr['count'] / growth_vs_hr['count'].max()\n",
    "n = 1000\n",
    "lst = []\n",
    "for num in range(n):\n",
    "    lst.append(np.random.choice(growth_vs_hr['count percent']))\n",
    "lst"
   ]
  },
  {
   "cell_type": "code",
   "execution_count": 44,
   "metadata": {},
   "outputs": [
    {
     "data": {
      "application/vnd.plotly.v1+json": {
       "config": {
        "plotlyServerURL": "https://plot.ly"
       },
       "data": [
        {
         "alignmentgroup": "True",
         "bingroup": "x",
         "histnorm": "probability density",
         "hovertemplate": "x=%{x}<br>probability density=%{y}<extra></extra>",
         "legendgroup": "",
         "marker": {
          "color": "#636efa"
         },
         "name": "",
         "nbinsx": 100,
         "offsetgroup": "",
         "orientation": "v",
         "showlegend": false,
         "type": "histogram",
         "x": [
          0.004640371229698376,
          0.004640371229698376,
          0.01959267852539314,
          0.004640371229698376,
          0.007733952049497293,
          0.007733952049497293,
          0.004640371229698376,
          0.018561484918793503,
          0.001288992008249549,
          0.442897654034545,
          0.007733952049497293,
          0.442897654034545,
          0.0007733952049497294,
          0.004640371229698376,
          0.007733952049497293,
          0.0015467904098994587,
          0.026295436968290797,
          0.01959267852539314,
          0.010054137664346482,
          0.0634184068058778,
          0.0010311936065996391,
          0,
          1,
          0.0634184068058778,
          0.0015467904098994587,
          0.01263212168084558,
          0.009022944057746842,
          0.16189739623614333,
          0.001288992008249549,
          0.010054137664346482,
          0.442897654034545,
          0.34957463263727767,
          0.2552204176334107,
          0.001288992008249549,
          0.05955143078112916,
          0.018561484918793503,
          0.05955143078112916,
          1,
          0.0010311936065996391,
          0.010054137664346482,
          0.01263212168084558,
          0.0015467904098994587,
          0.16189739623614333,
          0.010054137664346482,
          0.01959267852539314,
          0.01959267852539314,
          0.16189739623614333,
          0.018561484918793503,
          0.026295436968290797,
          0.026295436968290797,
          0.026295436968290797,
          0.016499097705594226,
          0.05955143078112916,
          0.018561484918793503,
          0.0010311936065996391,
          0.01959267852539314,
          0.018561484918793503,
          0.016499097705594226,
          0.010054137664346482,
          0.026295436968290797,
          0.0010311936065996391,
          0.0007733952049497294,
          0.004640371229698376,
          0,
          0.01211652487754576,
          0.016499097705594226,
          0.05955143078112916,
          0.004640371229698376,
          0.0634184068058778,
          0.34957463263727767,
          0.0010311936065996391,
          0.026295436968290797,
          0.34957463263727767,
          0,
          0.0015467904098994587,
          0.07888631090487239,
          0.016499097705594226,
          0.07888631090487239,
          0.0010311936065996391,
          0.025522041763341066,
          0.2552204176334107,
          0.01959267852539314,
          0.018561484918793503,
          0.009022944057746842,
          0.018561484918793503,
          0.0010311936065996391,
          0.026295436968290797,
          0,
          0,
          0.025522041763341066,
          0.018561484918793503,
          0.004640371229698376,
          0.007733952049497293,
          0.007733952049497293,
          0.010054137664346482,
          0.010054137664346482,
          0.025522041763341066,
          0.442897654034545,
          0.0010311936065996391,
          0.026295436968290797,
          0.01959267852539314,
          0.016499097705594226,
          0.010054137664346482,
          1,
          0.0634184068058778,
          0.2552204176334107,
          0.16189739623614333,
          0.001288992008249549,
          0.004640371229698376,
          0.2552204176334107,
          0.004640371229698376,
          0.001288992008249549,
          0.01959267852539314,
          0.16189739623614333,
          0.05955143078112916,
          0.001288992008249549,
          0.2552204176334107,
          0.016499097705594226,
          0.16189739623614333,
          0.16189739623614333,
          0.01134312967259603,
          0.018561484918793503,
          0.0015467904098994587,
          0.004640371229698376,
          0.026295436968290797,
          0.0015467904098994587,
          0.01134312967259603,
          0.004640371229698376,
          0.16189739623614333,
          0.0634184068058778,
          0.007733952049497293,
          0.2552204176334107,
          0.01134312967259603,
          0.001288992008249549,
          0,
          0.01959267852539314,
          0.01263212168084558,
          0.018561484918793503,
          0.016499097705594226,
          0.01959267852539314,
          0.01959267852539314,
          0.2552204176334107,
          0.001288992008249549,
          0.01211652487754576,
          0.34957463263727767,
          0.01263212168084558,
          0.2552204176334107,
          0.2552204176334107,
          0.01959267852539314,
          0.07888631090487239,
          0.34957463263727767,
          0.0015467904098994587,
          0.018561484918793503,
          0.01959267852539314,
          0.007733952049497293,
          0,
          0.018561484918793503,
          0.009022944057746842,
          0.009022944057746842,
          0.004640371229698376,
          0.001288992008249549,
          0.007733952049497293,
          0.2552204176334107,
          0.05955143078112916,
          0.01211652487754576,
          0.007733952049497293,
          0.001288992008249549,
          0,
          0.01211652487754576,
          0.004640371229698376,
          0.0007733952049497294,
          0.05955143078112916,
          0,
          0.442897654034545,
          0.0010311936065996391,
          0.07888631090487239,
          0.01211652487754576,
          0.016499097705594226,
          0.0015467904098994587,
          0.0010311936065996391,
          0.010054137664346482,
          0.004640371229698376,
          0.01134312967259603,
          0.01959267852539314,
          0.001288992008249549,
          0.01211652487754576,
          0.01211652487754576,
          0.01134312967259603,
          0.16189739623614333,
          0.34957463263727767,
          0.01134312967259603,
          0.01211652487754576,
          0,
          0,
          0.05955143078112916,
          0.01211652487754576,
          0.010054137664346482,
          0.34957463263727767,
          0.001288992008249549,
          0.010054137664346482,
          0.07888631090487239,
          0.0010311936065996391,
          0.025522041763341066,
          0.07888631090487239,
          0.16189739623614333,
          0.0010311936065996391,
          0.442897654034545,
          0.001288992008249549,
          0.010054137664346482,
          0.0010311936065996391,
          0.01959267852539314,
          0.026295436968290797,
          0.16189739623614333,
          0.001288992008249549,
          0.001288992008249549,
          1,
          0.01211652487754576,
          0.16189739623614333,
          0.01134312967259603,
          0,
          0.05955143078112916,
          0.0007733952049497294,
          0.01211652487754576,
          0.0634184068058778,
          0,
          0.001288992008249549,
          0.01134312967259603,
          0.018561484918793503,
          0.34957463263727767,
          0.010054137664346482,
          0.0007733952049497294,
          0.0010311936065996391,
          0.0010311936065996391,
          0.0634184068058778,
          0.016499097705594226,
          1,
          0.001288992008249549,
          0.0007733952049497294,
          0.0007733952049497294,
          0.01263212168084558,
          0.025522041763341066,
          0.01134312967259603,
          0,
          0.025522041763341066,
          0.010054137664346482,
          0.0634184068058778,
          0.0007733952049497294,
          0,
          0.004640371229698376,
          0.01263212168084558,
          0.442897654034545,
          0.442897654034545,
          0.016499097705594226,
          0.01263212168084558,
          0.01211652487754576,
          0.0010311936065996391,
          0.07888631090487239,
          0.442897654034545,
          0.026295436968290797,
          0.026295436968290797,
          0,
          0.0010311936065996391,
          0.01263212168084558,
          0.009022944057746842,
          0.026295436968290797,
          0.016499097705594226,
          0.004640371229698376,
          0.2552204176334107,
          0.0010311936065996391,
          0.34957463263727767,
          0.0010311936065996391,
          0.442897654034545,
          0.001288992008249549,
          0.007733952049497293,
          0.442897654034545,
          0.0634184068058778,
          0.01959267852539314,
          0.001288992008249549,
          0.07888631090487239,
          0.026295436968290797,
          0.01211652487754576,
          0.009022944057746842,
          0.026295436968290797,
          0.05955143078112916,
          0.026295436968290797,
          0.004640371229698376,
          0.07888631090487239,
          0.004640371229698376,
          0.442897654034545,
          0.004640371229698376,
          0.01959267852539314,
          0.0634184068058778,
          0.16189739623614333,
          0.0015467904098994587,
          0.01211652487754576,
          0.004640371229698376,
          0.009022944057746842,
          1,
          0.01211652487754576,
          0.004640371229698376,
          0.025522041763341066,
          0,
          1,
          0.007733952049497293,
          0.001288992008249549,
          0.01211652487754576,
          0.018561484918793503,
          0.01134312967259603,
          0.018561484918793503,
          0.016499097705594226,
          0.01134312967259603,
          0.01211652487754576,
          0.016499097705594226,
          0.0010311936065996391,
          0.05955143078112916,
          0.442897654034545,
          0.016499097705594226,
          0.004640371229698376,
          0.004640371229698376,
          0.05955143078112916,
          0.01211652487754576,
          0.01959267852539314,
          0.001288992008249549,
          0,
          0.010054137664346482,
          0.004640371229698376,
          0.004640371229698376,
          0.07888631090487239,
          0.007733952049497293,
          0.01134312967259603,
          0.001288992008249549,
          0.442897654034545,
          0.004640371229698376,
          0.016499097705594226,
          0.026295436968290797,
          0.009022944057746842,
          0.01959267852539314,
          0.0007733952049497294,
          0.01211652487754576,
          0.004640371229698376,
          0,
          0.0010311936065996391,
          0.001288992008249549,
          0.16189739623614333,
          0.07888631090487239,
          0.025522041763341066,
          0,
          0.004640371229698376,
          0.018561484918793503,
          0.442897654034545,
          0.009022944057746842,
          0.01211652487754576,
          0.016499097705594226,
          0.004640371229698376,
          0.442897654034545,
          0.07888631090487239,
          0.016499097705594226,
          0.16189739623614333,
          0.2552204176334107,
          0.001288992008249549,
          0,
          0.442897654034545,
          0.0007733952049497294,
          0.01959267852539314,
          0.001288992008249549,
          1,
          0.004640371229698376,
          0.018561484918793503,
          0.001288992008249549,
          0.004640371229698376,
          0.0015467904098994587,
          0.0015467904098994587,
          0.018561484918793503,
          0.0010311936065996391,
          0.026295436968290797,
          0.025522041763341066,
          0.009022944057746842,
          0.001288992008249549,
          0.001288992008249549,
          0.01211652487754576,
          0.01959267852539314,
          0.05955143078112916,
          0.16189739623614333,
          0.07888631090487239,
          0.0010311936065996391,
          0.442897654034545,
          0.01263212168084558,
          0,
          1,
          0.01959267852539314,
          0.018561484918793503,
          0,
          0.0010311936065996391,
          0,
          0.01959267852539314,
          0.0007733952049497294,
          0.0010311936065996391,
          0.009022944057746842,
          0.05955143078112916,
          0.0010311936065996391,
          0.0634184068058778,
          0.01959267852539314,
          0.07888631090487239,
          0.004640371229698376,
          0.004640371229698376,
          0.004640371229698376,
          0.01134312967259603,
          0.01134312967259603,
          0.0010311936065996391,
          0.026295436968290797,
          0.004640371229698376,
          0.010054137664346482,
          0.34957463263727767,
          0.0015467904098994587,
          0.0007733952049497294,
          0.01959267852539314,
          0.05955143078112916,
          0.01134312967259603,
          0.05955143078112916,
          0.01211652487754576,
          0.009022944057746842,
          0.34957463263727767,
          0.0010311936065996391,
          0.0010311936065996391,
          0.05955143078112916,
          0.34957463263727767,
          0.07888631090487239,
          0.0007733952049497294,
          0.010054137664346482,
          0.0634184068058778,
          0,
          0.0634184068058778,
          0.004640371229698376,
          0.004640371229698376,
          0.01134312967259603,
          0.01211652487754576,
          0.0007733952049497294,
          0.442897654034545,
          0.442897654034545,
          0,
          0,
          0,
          0.01211652487754576,
          0.001288992008249549,
          0.004640371229698376,
          0.004640371229698376,
          0.2552204176334107,
          0.01959267852539314,
          0.01211652487754576,
          0.05955143078112916,
          0.010054137664346482,
          0.34957463263727767,
          0,
          0.001288992008249549,
          0.0634184068058778,
          0.016499097705594226,
          0.009022944057746842,
          0.004640371229698376,
          0.05955143078112916,
          0.34957463263727767,
          0.01263212168084558,
          0.01134312967259603,
          0.010054137664346482,
          0.34957463263727767,
          0.025522041763341066,
          0.0007733952049497294,
          0.0007733952049497294,
          0.01959267852539314,
          0.05955143078112916,
          0.010054137664346482,
          0.01211652487754576,
          1,
          0.01263212168084558,
          0.2552204176334107,
          0.05955143078112916,
          0.34957463263727767,
          0.001288992008249549,
          0.05955143078112916,
          0.010054137664346482,
          0.007733952049497293,
          0.016499097705594226,
          0.34957463263727767,
          0.0007733952049497294,
          0.01211652487754576,
          0.025522041763341066,
          0.01959267852539314,
          1,
          0.004640371229698376,
          0.01211652487754576,
          0.05955143078112916,
          0.16189739623614333,
          0.05955143078112916,
          0.01263212168084558,
          0.16189739623614333,
          0,
          0.001288992008249549,
          0.442897654034545,
          0.01263212168084558,
          0.0015467904098994587,
          0.026295436968290797,
          0.026295436968290797,
          0.05955143078112916,
          0.01263212168084558,
          1,
          0.025522041763341066,
          0.16189739623614333,
          0.2552204176334107,
          0.2552204176334107,
          0.01959267852539314,
          0.0010311936065996391,
          0.010054137664346482,
          0.004640371229698376,
          0.004640371229698376,
          0,
          0.009022944057746842,
          0.010054137664346482,
          0.01134312967259603,
          0.025522041763341066,
          0.026295436968290797,
          0.001288992008249549,
          0.34957463263727767,
          0.026295436968290797,
          0.2552204176334107,
          0.016499097705594226,
          0.442897654034545,
          0.0010311936065996391,
          0.010054137664346482,
          0.442897654034545,
          0,
          0.007733952049497293,
          0.01134312967259603,
          0.01134312967259603,
          0.0015467904098994587,
          0.0634184068058778,
          0,
          0.442897654034545,
          0.34957463263727767,
          0.010054137664346482,
          0.0010311936065996391,
          0.34957463263727767,
          0.05955143078112916,
          0.018561484918793503,
          0.0015467904098994587,
          0,
          0.01211652487754576,
          0.34957463263727767,
          0.009022944057746842,
          0.007733952049497293,
          0.018561484918793503,
          0.026295436968290797,
          0.001288992008249549,
          0.05955143078112916,
          0.0010311936065996391,
          0.026295436968290797,
          0,
          0.0010311936065996391,
          0.0634184068058778,
          0.016499097705594226,
          0.2552204176334107,
          0.004640371229698376,
          0.16189739623614333,
          0.018561484918793503,
          0.001288992008249549,
          0.0634184068058778,
          0.442897654034545,
          0.018561484918793503,
          0.0015467904098994587,
          0.004640371229698376,
          0.05955143078112916,
          0.01211652487754576,
          1,
          0,
          0.07888631090487239,
          0.01211652487754576,
          0.01263212168084558,
          0.0634184068058778,
          1,
          0.01211652487754576,
          0.442897654034545,
          0.001288992008249549,
          1,
          0.001288992008249549,
          0.018561484918793503,
          0.01959267852539314,
          0.0634184068058778,
          0.001288992008249549,
          0.0007733952049497294,
          0.018561484918793503,
          0.0010311936065996391,
          0.010054137664346482,
          0.0015467904098994587,
          0.001288992008249549,
          0.007733952049497293,
          0.0015467904098994587,
          0.0010311936065996391,
          1,
          0.0010311936065996391,
          1,
          0.018561484918793503,
          0.01959267852539314,
          0.0010311936065996391,
          0.05955143078112916,
          0.0010311936065996391,
          0.0007733952049497294,
          0.0010311936065996391,
          0.16189739623614333,
          0.010054137664346482,
          0.007733952049497293,
          0.01263212168084558,
          0,
          0.025522041763341066,
          0.07888631090487239,
          0.0007733952049497294,
          0.01211652487754576,
          0.05955143078112916,
          0.01134312967259603,
          0,
          0.01959267852539314,
          0.01263212168084558,
          0.025522041763341066,
          0.026295436968290797,
          0.009022944057746842,
          0.016499097705594226,
          0.001288992008249549,
          0.01211652487754576,
          0.2552204176334107,
          0.01263212168084558,
          0.07888631090487239,
          0.01959267852539314,
          0.01211652487754576,
          0.0010311936065996391,
          0.009022944057746842,
          0.007733952049497293,
          0.009022944057746842,
          0.026295436968290797,
          0.004640371229698376,
          0.004640371229698376,
          0.01134312967259603,
          0.018561484918793503,
          0.01134312967259603,
          0.001288992008249549,
          0.05955143078112916,
          1,
          0.0010311936065996391,
          0.0015467904098994587,
          0.025522041763341066,
          0.016499097705594226,
          0,
          0.05955143078112916,
          0.016499097705594226,
          0.442897654034545,
          0.2552204176334107,
          0.0007733952049497294,
          0.442897654034545,
          0,
          0.01134312967259603,
          0.026295436968290797,
          0.34957463263727767,
          0,
          0.025522041763341066,
          0.2552204176334107,
          0.009022944057746842,
          0,
          0.442897654034545,
          0.01263212168084558,
          0.07888631090487239,
          0.010054137664346482,
          0.01211652487754576,
          0.01211652487754576,
          0.0010311936065996391,
          0.16189739623614333,
          0.0010311936065996391,
          0.001288992008249549,
          1,
          0.0007733952049497294,
          0.07888631090487239,
          0.007733952049497293,
          0.026295436968290797,
          0.01134312967259603,
          0.001288992008249549,
          0.004640371229698376,
          0.010054137664346482,
          0.009022944057746842,
          0.0634184068058778,
          0.0007733952049497294,
          0.442897654034545,
          0.025522041763341066,
          0.0634184068058778,
          0.16189739623614333,
          0,
          1,
          0.01959267852539314,
          0.0634184068058778,
          0.442897654034545,
          0.009022944057746842,
          0.01211652487754576,
          0.026295436968290797,
          0.34957463263727767,
          0.01263212168084558,
          0.0015467904098994587,
          0.2552204176334107,
          0.018561484918793503,
          0.0015467904098994587,
          0.026295436968290797,
          0.0007733952049497294,
          0.001288992008249549,
          0.004640371229698376,
          0.0634184068058778,
          0.001288992008249549,
          0.2552204176334107,
          1,
          0.0010311936065996391,
          0.01959267852539314,
          0.01263212168084558,
          0.0015467904098994587,
          0.01211652487754576,
          0.16189739623614333,
          0.0634184068058778,
          0.07888631090487239,
          0.016499097705594226,
          0.05955143078112916,
          0.018561484918793503,
          0.0015467904098994587,
          0.0010311936065996391,
          0.34957463263727767,
          0.009022944057746842,
          0.0010311936065996391,
          0.010054137664346482,
          0.16189739623614333,
          0.018561484918793503,
          0,
          0.2552204176334107,
          0.0015467904098994587,
          0.0015467904098994587,
          0.0010311936065996391,
          0.01263212168084558,
          0.0015467904098994587,
          0.004640371229698376,
          0.0007733952049497294,
          0.2552204176334107,
          0.07888631090487239,
          0.016499097705594226,
          0.001288992008249549,
          0.004640371229698376,
          0.05955143078112916,
          0.026295436968290797,
          0.009022944057746842,
          0.0010311936065996391,
          0.0007733952049497294,
          0.001288992008249549,
          0.010054137664346482,
          0.01959267852539314,
          0.01263212168084558,
          0.01134312967259603,
          0.05955143078112916,
          0.025522041763341066,
          0.2552204176334107,
          0.010054137664346482,
          0.16189739623614333,
          0.004640371229698376,
          0.01211652487754576,
          0.0010311936065996391,
          0.0634184068058778,
          0.018561484918793503,
          0.026295436968290797,
          0.34957463263727767,
          0,
          1,
          0.007733952049497293,
          1,
          0.01959267852539314,
          0.0010311936065996391,
          0.001288992008249549,
          0,
          0.001288992008249549,
          0.026295436968290797,
          0.018561484918793503,
          0.01211652487754576,
          0.0015467904098994587,
          0.442897654034545,
          0.009022944057746842,
          0.01211652487754576,
          1,
          0.016499097705594226,
          0.01959267852539314,
          0,
          0.0634184068058778,
          0.016499097705594226,
          0.0010311936065996391,
          0.016499097705594226,
          0.01134312967259603,
          0.025522041763341066,
          0,
          0.001288992008249549,
          0.2552204176334107,
          0.001288992008249549,
          0.001288992008249549,
          0.010054137664346482,
          0.004640371229698376,
          0.018561484918793503,
          0.01134312967259603,
          0.442897654034545,
          0,
          0.001288992008249549,
          0.2552204176334107,
          0.001288992008249549,
          0.01211652487754576,
          0.001288992008249549,
          0.007733952049497293,
          0.16189739623614333,
          0.025522041763341066,
          0.442897654034545,
          0.01134312967259603,
          0.004640371229698376,
          0.01959267852539314,
          1,
          1,
          0.001288992008249549,
          0.009022944057746842,
          0,
          0.16189739623614333,
          0.016499097705594226,
          0.0015467904098994587,
          0.0007733952049497294,
          0.026295436968290797,
          0.01959267852539314,
          0.01959267852539314,
          0.05955143078112916,
          0.01134312967259603,
          0.01959267852539314,
          0.0010311936065996391,
          0.001288992008249549,
          0.007733952049497293,
          0.01211652487754576,
          0,
          1,
          0.025522041763341066,
          0.01134312967259603,
          0.0634184068058778,
          0.001288992008249549,
          0.0010311936065996391,
          0.16189739623614333,
          0,
          0.001288992008249549,
          0.01263212168084558,
          0.05955143078112916,
          0.16189739623614333,
          0.0015467904098994587,
          0.004640371229698376,
          0.07888631090487239,
          0.001288992008249549,
          0.01134312967259603,
          0.01959267852539314,
          0.01211652487754576,
          0.025522041763341066,
          0.018561484918793503,
          0.07888631090487239,
          0.01211652487754576,
          0.016499097705594226,
          0,
          0.01134312967259603,
          0.01211652487754576,
          0.025522041763341066,
          0.01211652487754576,
          0.0010311936065996391,
          0.442897654034545,
          0.026295436968290797,
          0.001288992008249549,
          0.025522041763341066,
          0.34957463263727767,
          1,
          1,
          0.0010311936065996391,
          0.05955143078112916,
          0.010054137664346482,
          0.34957463263727767,
          0.004640371229698376,
          0.018561484918793503,
          0.0634184068058778,
          0,
          0.026295436968290797,
          0.01263212168084558,
          0.01959267852539314,
          0,
          0.01211652487754576,
          0.01134312967259603,
          0.016499097705594226,
          0.004640371229698376,
          0.026295436968290797,
          0.01134312967259603,
          0.001288992008249549,
          0.010054137664346482,
          1,
          0.026295436968290797,
          0.026295436968290797,
          0.004640371229698376,
          0.07888631090487239,
          0.026295436968290797,
          0.01211652487754576,
          0,
          0.0015467904098994587,
          0.016499097705594226,
          0.001288992008249549,
          0,
          0.0634184068058778,
          0.01134312967259603,
          0.01134312967259603,
          0.0010311936065996391,
          0.004640371229698376,
          0.01211652487754576,
          0,
          0.01263212168084558,
          0.001288992008249549,
          0.01263212168084558,
          0.442897654034545,
          0.001288992008249549,
          0.0634184068058778,
          0.025522041763341066,
          0.442897654034545,
          0.0634184068058778,
          0.016499097705594226,
          0.001288992008249549,
          0.0007733952049497294,
          0.07888631090487239,
          1,
          0.001288992008249549,
          0,
          0.025522041763341066,
          0.0634184068058778,
          0.2552204176334107,
          0.01211652487754576,
          0.0010311936065996391,
          0.0634184068058778,
          0.004640371229698376,
          0.16189739623614333,
          0.01211652487754576,
          0.01263212168084558,
          0.001288992008249549,
          0.001288992008249549,
          0.0015467904098994587,
          0,
          0.05955143078112916,
          0.0007733952049497294,
          0.05955143078112916,
          0.01959267852539314,
          0.018561484918793503,
          0.001288992008249549,
          0.0010311936065996391,
          0.0634184068058778,
          0.05955143078112916,
          0.0010311936065996391,
          0.004640371229698376,
          0.01211652487754576,
          0.2552204176334107,
          0.01211652487754576,
          0,
          0.01134312967259603,
          1,
          0.05955143078112916,
          0.016499097705594226,
          0.004640371229698376,
          0.2552204176334107,
          0.16189739623614333,
          0.01134312967259603,
          0.0634184068058778,
          0.001288992008249549,
          0.018561484918793503,
          0.05955143078112916,
          0.018561484918793503,
          0.001288992008249549,
          0.34957463263727767,
          0.0010311936065996391,
          0.01263212168084558,
          0.01134312967259603,
          1,
          0.026295436968290797,
          0.442897654034545,
          0.0010311936065996391,
          0.01211652487754576,
          0.009022944057746842,
          0.01134312967259603,
          0.016499097705594226,
          0.010054137664346482,
          0.442897654034545,
          0.0010311936065996391,
          0.0634184068058778,
          0.0015467904098994587,
          0.018561484918793503,
          0.01211652487754576,
          0,
          0.0010311936065996391,
          0.01134312967259603,
          0,
          0.01211652487754576,
          0.0634184068058778,
          0.004640371229698376,
          0.001288992008249549,
          0.016499097705594226,
          0.2552204176334107,
          0.001288992008249549
         ],
         "xaxis": "x",
         "yaxis": "y"
        }
       ],
       "layout": {
        "barmode": "relative",
        "legend": {
         "tracegroupgap": 0
        },
        "margin": {
         "t": 60
        },
        "template": {
         "data": {
          "bar": [
           {
            "error_x": {
             "color": "#2a3f5f"
            },
            "error_y": {
             "color": "#2a3f5f"
            },
            "marker": {
             "line": {
              "color": "#E5ECF6",
              "width": 0.5
             }
            },
            "type": "bar"
           }
          ],
          "barpolar": [
           {
            "marker": {
             "line": {
              "color": "#E5ECF6",
              "width": 0.5
             }
            },
            "type": "barpolar"
           }
          ],
          "carpet": [
           {
            "aaxis": {
             "endlinecolor": "#2a3f5f",
             "gridcolor": "white",
             "linecolor": "white",
             "minorgridcolor": "white",
             "startlinecolor": "#2a3f5f"
            },
            "baxis": {
             "endlinecolor": "#2a3f5f",
             "gridcolor": "white",
             "linecolor": "white",
             "minorgridcolor": "white",
             "startlinecolor": "#2a3f5f"
            },
            "type": "carpet"
           }
          ],
          "choropleth": [
           {
            "colorbar": {
             "outlinewidth": 0,
             "ticks": ""
            },
            "type": "choropleth"
           }
          ],
          "contour": [
           {
            "colorbar": {
             "outlinewidth": 0,
             "ticks": ""
            },
            "colorscale": [
             [
              0,
              "#0d0887"
             ],
             [
              0.1111111111111111,
              "#46039f"
             ],
             [
              0.2222222222222222,
              "#7201a8"
             ],
             [
              0.3333333333333333,
              "#9c179e"
             ],
             [
              0.4444444444444444,
              "#bd3786"
             ],
             [
              0.5555555555555556,
              "#d8576b"
             ],
             [
              0.6666666666666666,
              "#ed7953"
             ],
             [
              0.7777777777777778,
              "#fb9f3a"
             ],
             [
              0.8888888888888888,
              "#fdca26"
             ],
             [
              1,
              "#f0f921"
             ]
            ],
            "type": "contour"
           }
          ],
          "contourcarpet": [
           {
            "colorbar": {
             "outlinewidth": 0,
             "ticks": ""
            },
            "type": "contourcarpet"
           }
          ],
          "heatmap": [
           {
            "colorbar": {
             "outlinewidth": 0,
             "ticks": ""
            },
            "colorscale": [
             [
              0,
              "#0d0887"
             ],
             [
              0.1111111111111111,
              "#46039f"
             ],
             [
              0.2222222222222222,
              "#7201a8"
             ],
             [
              0.3333333333333333,
              "#9c179e"
             ],
             [
              0.4444444444444444,
              "#bd3786"
             ],
             [
              0.5555555555555556,
              "#d8576b"
             ],
             [
              0.6666666666666666,
              "#ed7953"
             ],
             [
              0.7777777777777778,
              "#fb9f3a"
             ],
             [
              0.8888888888888888,
              "#fdca26"
             ],
             [
              1,
              "#f0f921"
             ]
            ],
            "type": "heatmap"
           }
          ],
          "heatmapgl": [
           {
            "colorbar": {
             "outlinewidth": 0,
             "ticks": ""
            },
            "colorscale": [
             [
              0,
              "#0d0887"
             ],
             [
              0.1111111111111111,
              "#46039f"
             ],
             [
              0.2222222222222222,
              "#7201a8"
             ],
             [
              0.3333333333333333,
              "#9c179e"
             ],
             [
              0.4444444444444444,
              "#bd3786"
             ],
             [
              0.5555555555555556,
              "#d8576b"
             ],
             [
              0.6666666666666666,
              "#ed7953"
             ],
             [
              0.7777777777777778,
              "#fb9f3a"
             ],
             [
              0.8888888888888888,
              "#fdca26"
             ],
             [
              1,
              "#f0f921"
             ]
            ],
            "type": "heatmapgl"
           }
          ],
          "histogram": [
           {
            "marker": {
             "colorbar": {
              "outlinewidth": 0,
              "ticks": ""
             }
            },
            "type": "histogram"
           }
          ],
          "histogram2d": [
           {
            "colorbar": {
             "outlinewidth": 0,
             "ticks": ""
            },
            "colorscale": [
             [
              0,
              "#0d0887"
             ],
             [
              0.1111111111111111,
              "#46039f"
             ],
             [
              0.2222222222222222,
              "#7201a8"
             ],
             [
              0.3333333333333333,
              "#9c179e"
             ],
             [
              0.4444444444444444,
              "#bd3786"
             ],
             [
              0.5555555555555556,
              "#d8576b"
             ],
             [
              0.6666666666666666,
              "#ed7953"
             ],
             [
              0.7777777777777778,
              "#fb9f3a"
             ],
             [
              0.8888888888888888,
              "#fdca26"
             ],
             [
              1,
              "#f0f921"
             ]
            ],
            "type": "histogram2d"
           }
          ],
          "histogram2dcontour": [
           {
            "colorbar": {
             "outlinewidth": 0,
             "ticks": ""
            },
            "colorscale": [
             [
              0,
              "#0d0887"
             ],
             [
              0.1111111111111111,
              "#46039f"
             ],
             [
              0.2222222222222222,
              "#7201a8"
             ],
             [
              0.3333333333333333,
              "#9c179e"
             ],
             [
              0.4444444444444444,
              "#bd3786"
             ],
             [
              0.5555555555555556,
              "#d8576b"
             ],
             [
              0.6666666666666666,
              "#ed7953"
             ],
             [
              0.7777777777777778,
              "#fb9f3a"
             ],
             [
              0.8888888888888888,
              "#fdca26"
             ],
             [
              1,
              "#f0f921"
             ]
            ],
            "type": "histogram2dcontour"
           }
          ],
          "mesh3d": [
           {
            "colorbar": {
             "outlinewidth": 0,
             "ticks": ""
            },
            "type": "mesh3d"
           }
          ],
          "parcoords": [
           {
            "line": {
             "colorbar": {
              "outlinewidth": 0,
              "ticks": ""
             }
            },
            "type": "parcoords"
           }
          ],
          "pie": [
           {
            "automargin": true,
            "type": "pie"
           }
          ],
          "scatter": [
           {
            "marker": {
             "colorbar": {
              "outlinewidth": 0,
              "ticks": ""
             }
            },
            "type": "scatter"
           }
          ],
          "scatter3d": [
           {
            "line": {
             "colorbar": {
              "outlinewidth": 0,
              "ticks": ""
             }
            },
            "marker": {
             "colorbar": {
              "outlinewidth": 0,
              "ticks": ""
             }
            },
            "type": "scatter3d"
           }
          ],
          "scattercarpet": [
           {
            "marker": {
             "colorbar": {
              "outlinewidth": 0,
              "ticks": ""
             }
            },
            "type": "scattercarpet"
           }
          ],
          "scattergeo": [
           {
            "marker": {
             "colorbar": {
              "outlinewidth": 0,
              "ticks": ""
             }
            },
            "type": "scattergeo"
           }
          ],
          "scattergl": [
           {
            "marker": {
             "colorbar": {
              "outlinewidth": 0,
              "ticks": ""
             }
            },
            "type": "scattergl"
           }
          ],
          "scattermapbox": [
           {
            "marker": {
             "colorbar": {
              "outlinewidth": 0,
              "ticks": ""
             }
            },
            "type": "scattermapbox"
           }
          ],
          "scatterpolar": [
           {
            "marker": {
             "colorbar": {
              "outlinewidth": 0,
              "ticks": ""
             }
            },
            "type": "scatterpolar"
           }
          ],
          "scatterpolargl": [
           {
            "marker": {
             "colorbar": {
              "outlinewidth": 0,
              "ticks": ""
             }
            },
            "type": "scatterpolargl"
           }
          ],
          "scatterternary": [
           {
            "marker": {
             "colorbar": {
              "outlinewidth": 0,
              "ticks": ""
             }
            },
            "type": "scatterternary"
           }
          ],
          "surface": [
           {
            "colorbar": {
             "outlinewidth": 0,
             "ticks": ""
            },
            "colorscale": [
             [
              0,
              "#0d0887"
             ],
             [
              0.1111111111111111,
              "#46039f"
             ],
             [
              0.2222222222222222,
              "#7201a8"
             ],
             [
              0.3333333333333333,
              "#9c179e"
             ],
             [
              0.4444444444444444,
              "#bd3786"
             ],
             [
              0.5555555555555556,
              "#d8576b"
             ],
             [
              0.6666666666666666,
              "#ed7953"
             ],
             [
              0.7777777777777778,
              "#fb9f3a"
             ],
             [
              0.8888888888888888,
              "#fdca26"
             ],
             [
              1,
              "#f0f921"
             ]
            ],
            "type": "surface"
           }
          ],
          "table": [
           {
            "cells": {
             "fill": {
              "color": "#EBF0F8"
             },
             "line": {
              "color": "white"
             }
            },
            "header": {
             "fill": {
              "color": "#C8D4E3"
             },
             "line": {
              "color": "white"
             }
            },
            "type": "table"
           }
          ]
         },
         "layout": {
          "annotationdefaults": {
           "arrowcolor": "#2a3f5f",
           "arrowhead": 0,
           "arrowwidth": 1
          },
          "autotypenumbers": "strict",
          "coloraxis": {
           "colorbar": {
            "outlinewidth": 0,
            "ticks": ""
           }
          },
          "colorscale": {
           "diverging": [
            [
             0,
             "#8e0152"
            ],
            [
             0.1,
             "#c51b7d"
            ],
            [
             0.2,
             "#de77ae"
            ],
            [
             0.3,
             "#f1b6da"
            ],
            [
             0.4,
             "#fde0ef"
            ],
            [
             0.5,
             "#f7f7f7"
            ],
            [
             0.6,
             "#e6f5d0"
            ],
            [
             0.7,
             "#b8e186"
            ],
            [
             0.8,
             "#7fbc41"
            ],
            [
             0.9,
             "#4d9221"
            ],
            [
             1,
             "#276419"
            ]
           ],
           "sequential": [
            [
             0,
             "#0d0887"
            ],
            [
             0.1111111111111111,
             "#46039f"
            ],
            [
             0.2222222222222222,
             "#7201a8"
            ],
            [
             0.3333333333333333,
             "#9c179e"
            ],
            [
             0.4444444444444444,
             "#bd3786"
            ],
            [
             0.5555555555555556,
             "#d8576b"
            ],
            [
             0.6666666666666666,
             "#ed7953"
            ],
            [
             0.7777777777777778,
             "#fb9f3a"
            ],
            [
             0.8888888888888888,
             "#fdca26"
            ],
            [
             1,
             "#f0f921"
            ]
           ],
           "sequentialminus": [
            [
             0,
             "#0d0887"
            ],
            [
             0.1111111111111111,
             "#46039f"
            ],
            [
             0.2222222222222222,
             "#7201a8"
            ],
            [
             0.3333333333333333,
             "#9c179e"
            ],
            [
             0.4444444444444444,
             "#bd3786"
            ],
            [
             0.5555555555555556,
             "#d8576b"
            ],
            [
             0.6666666666666666,
             "#ed7953"
            ],
            [
             0.7777777777777778,
             "#fb9f3a"
            ],
            [
             0.8888888888888888,
             "#fdca26"
            ],
            [
             1,
             "#f0f921"
            ]
           ]
          },
          "colorway": [
           "#636efa",
           "#EF553B",
           "#00cc96",
           "#ab63fa",
           "#FFA15A",
           "#19d3f3",
           "#FF6692",
           "#B6E880",
           "#FF97FF",
           "#FECB52"
          ],
          "font": {
           "color": "#2a3f5f"
          },
          "geo": {
           "bgcolor": "white",
           "lakecolor": "white",
           "landcolor": "#E5ECF6",
           "showlakes": true,
           "showland": true,
           "subunitcolor": "white"
          },
          "hoverlabel": {
           "align": "left"
          },
          "hovermode": "closest",
          "mapbox": {
           "style": "light"
          },
          "paper_bgcolor": "white",
          "plot_bgcolor": "#E5ECF6",
          "polar": {
           "angularaxis": {
            "gridcolor": "white",
            "linecolor": "white",
            "ticks": ""
           },
           "bgcolor": "#E5ECF6",
           "radialaxis": {
            "gridcolor": "white",
            "linecolor": "white",
            "ticks": ""
           }
          },
          "scene": {
           "xaxis": {
            "backgroundcolor": "#E5ECF6",
            "gridcolor": "white",
            "gridwidth": 2,
            "linecolor": "white",
            "showbackground": true,
            "ticks": "",
            "zerolinecolor": "white"
           },
           "yaxis": {
            "backgroundcolor": "#E5ECF6",
            "gridcolor": "white",
            "gridwidth": 2,
            "linecolor": "white",
            "showbackground": true,
            "ticks": "",
            "zerolinecolor": "white"
           },
           "zaxis": {
            "backgroundcolor": "#E5ECF6",
            "gridcolor": "white",
            "gridwidth": 2,
            "linecolor": "white",
            "showbackground": true,
            "ticks": "",
            "zerolinecolor": "white"
           }
          },
          "shapedefaults": {
           "line": {
            "color": "#2a3f5f"
           }
          },
          "ternary": {
           "aaxis": {
            "gridcolor": "white",
            "linecolor": "white",
            "ticks": ""
           },
           "baxis": {
            "gridcolor": "white",
            "linecolor": "white",
            "ticks": ""
           },
           "bgcolor": "#E5ECF6",
           "caxis": {
            "gridcolor": "white",
            "linecolor": "white",
            "ticks": ""
           }
          },
          "title": {
           "x": 0.05
          },
          "xaxis": {
           "automargin": true,
           "gridcolor": "white",
           "linecolor": "white",
           "ticks": "",
           "title": {
            "standoff": 15
           },
           "zerolinecolor": "white",
           "zerolinewidth": 2
          },
          "yaxis": {
           "automargin": true,
           "gridcolor": "white",
           "linecolor": "white",
           "ticks": "",
           "title": {
            "standoff": 15
           },
           "zerolinecolor": "white",
           "zerolinewidth": 2
          }
         }
        },
        "xaxis": {
         "anchor": "y",
         "domain": [
          0,
          1
         ],
         "title": {
          "text": "x"
         }
        },
        "yaxis": {
         "anchor": "x",
         "domain": [
          0,
          1
         ],
         "title": {
          "text": "probability density"
         }
        }
       }
      },
      "text/html": [
       "<div>                            <div id=\"8a54d91b-ee6c-4129-ad9a-c0209bb3c6f4\" class=\"plotly-graph-div\" style=\"height:525px; width:100%;\"></div>            <script type=\"text/javascript\">                require([\"plotly\"], function(Plotly) {                    window.PLOTLYENV=window.PLOTLYENV || {};                                    if (document.getElementById(\"8a54d91b-ee6c-4129-ad9a-c0209bb3c6f4\")) {                    Plotly.newPlot(                        \"8a54d91b-ee6c-4129-ad9a-c0209bb3c6f4\",                        [{\"alignmentgroup\": \"True\", \"bingroup\": \"x\", \"histnorm\": \"probability density\", \"hovertemplate\": \"x=%{x}<br>probability density=%{y}<extra></extra>\", \"legendgroup\": \"\", \"marker\": {\"color\": \"#636efa\"}, \"name\": \"\", \"nbinsx\": 100, \"offsetgroup\": \"\", \"orientation\": \"v\", \"showlegend\": false, \"type\": \"histogram\", \"x\": [0.004640371229698376, 0.004640371229698376, 0.01959267852539314, 0.004640371229698376, 0.007733952049497293, 0.007733952049497293, 0.004640371229698376, 0.018561484918793503, 0.001288992008249549, 0.442897654034545, 0.007733952049497293, 0.442897654034545, 0.0007733952049497294, 0.004640371229698376, 0.007733952049497293, 0.0015467904098994587, 0.026295436968290797, 0.01959267852539314, 0.010054137664346482, 0.0634184068058778, 0.0010311936065996391, 0.0, 1.0, 0.0634184068058778, 0.0015467904098994587, 0.01263212168084558, 0.009022944057746842, 0.16189739623614333, 0.001288992008249549, 0.010054137664346482, 0.442897654034545, 0.34957463263727767, 0.2552204176334107, 0.001288992008249549, 0.05955143078112916, 0.018561484918793503, 0.05955143078112916, 1.0, 0.0010311936065996391, 0.010054137664346482, 0.01263212168084558, 0.0015467904098994587, 0.16189739623614333, 0.010054137664346482, 0.01959267852539314, 0.01959267852539314, 0.16189739623614333, 0.018561484918793503, 0.026295436968290797, 0.026295436968290797, 0.026295436968290797, 0.016499097705594226, 0.05955143078112916, 0.018561484918793503, 0.0010311936065996391, 0.01959267852539314, 0.018561484918793503, 0.016499097705594226, 0.010054137664346482, 0.026295436968290797, 0.0010311936065996391, 0.0007733952049497294, 0.004640371229698376, 0.0, 0.01211652487754576, 0.016499097705594226, 0.05955143078112916, 0.004640371229698376, 0.0634184068058778, 0.34957463263727767, 0.0010311936065996391, 0.026295436968290797, 0.34957463263727767, 0.0, 0.0015467904098994587, 0.07888631090487239, 0.016499097705594226, 0.07888631090487239, 0.0010311936065996391, 0.025522041763341066, 0.2552204176334107, 0.01959267852539314, 0.018561484918793503, 0.009022944057746842, 0.018561484918793503, 0.0010311936065996391, 0.026295436968290797, 0.0, 0.0, 0.025522041763341066, 0.018561484918793503, 0.004640371229698376, 0.007733952049497293, 0.007733952049497293, 0.010054137664346482, 0.010054137664346482, 0.025522041763341066, 0.442897654034545, 0.0010311936065996391, 0.026295436968290797, 0.01959267852539314, 0.016499097705594226, 0.010054137664346482, 1.0, 0.0634184068058778, 0.2552204176334107, 0.16189739623614333, 0.001288992008249549, 0.004640371229698376, 0.2552204176334107, 0.004640371229698376, 0.001288992008249549, 0.01959267852539314, 0.16189739623614333, 0.05955143078112916, 0.001288992008249549, 0.2552204176334107, 0.016499097705594226, 0.16189739623614333, 0.16189739623614333, 0.01134312967259603, 0.018561484918793503, 0.0015467904098994587, 0.004640371229698376, 0.026295436968290797, 0.0015467904098994587, 0.01134312967259603, 0.004640371229698376, 0.16189739623614333, 0.0634184068058778, 0.007733952049497293, 0.2552204176334107, 0.01134312967259603, 0.001288992008249549, 0.0, 0.01959267852539314, 0.01263212168084558, 0.018561484918793503, 0.016499097705594226, 0.01959267852539314, 0.01959267852539314, 0.2552204176334107, 0.001288992008249549, 0.01211652487754576, 0.34957463263727767, 0.01263212168084558, 0.2552204176334107, 0.2552204176334107, 0.01959267852539314, 0.07888631090487239, 0.34957463263727767, 0.0015467904098994587, 0.018561484918793503, 0.01959267852539314, 0.007733952049497293, 0.0, 0.018561484918793503, 0.009022944057746842, 0.009022944057746842, 0.004640371229698376, 0.001288992008249549, 0.007733952049497293, 0.2552204176334107, 0.05955143078112916, 0.01211652487754576, 0.007733952049497293, 0.001288992008249549, 0.0, 0.01211652487754576, 0.004640371229698376, 0.0007733952049497294, 0.05955143078112916, 0.0, 0.442897654034545, 0.0010311936065996391, 0.07888631090487239, 0.01211652487754576, 0.016499097705594226, 0.0015467904098994587, 0.0010311936065996391, 0.010054137664346482, 0.004640371229698376, 0.01134312967259603, 0.01959267852539314, 0.001288992008249549, 0.01211652487754576, 0.01211652487754576, 0.01134312967259603, 0.16189739623614333, 0.34957463263727767, 0.01134312967259603, 0.01211652487754576, 0.0, 0.0, 0.05955143078112916, 0.01211652487754576, 0.010054137664346482, 0.34957463263727767, 0.001288992008249549, 0.010054137664346482, 0.07888631090487239, 0.0010311936065996391, 0.025522041763341066, 0.07888631090487239, 0.16189739623614333, 0.0010311936065996391, 0.442897654034545, 0.001288992008249549, 0.010054137664346482, 0.0010311936065996391, 0.01959267852539314, 0.026295436968290797, 0.16189739623614333, 0.001288992008249549, 0.001288992008249549, 1.0, 0.01211652487754576, 0.16189739623614333, 0.01134312967259603, 0.0, 0.05955143078112916, 0.0007733952049497294, 0.01211652487754576, 0.0634184068058778, 0.0, 0.001288992008249549, 0.01134312967259603, 0.018561484918793503, 0.34957463263727767, 0.010054137664346482, 0.0007733952049497294, 0.0010311936065996391, 0.0010311936065996391, 0.0634184068058778, 0.016499097705594226, 1.0, 0.001288992008249549, 0.0007733952049497294, 0.0007733952049497294, 0.01263212168084558, 0.025522041763341066, 0.01134312967259603, 0.0, 0.025522041763341066, 0.010054137664346482, 0.0634184068058778, 0.0007733952049497294, 0.0, 0.004640371229698376, 0.01263212168084558, 0.442897654034545, 0.442897654034545, 0.016499097705594226, 0.01263212168084558, 0.01211652487754576, 0.0010311936065996391, 0.07888631090487239, 0.442897654034545, 0.026295436968290797, 0.026295436968290797, 0.0, 0.0010311936065996391, 0.01263212168084558, 0.009022944057746842, 0.026295436968290797, 0.016499097705594226, 0.004640371229698376, 0.2552204176334107, 0.0010311936065996391, 0.34957463263727767, 0.0010311936065996391, 0.442897654034545, 0.001288992008249549, 0.007733952049497293, 0.442897654034545, 0.0634184068058778, 0.01959267852539314, 0.001288992008249549, 0.07888631090487239, 0.026295436968290797, 0.01211652487754576, 0.009022944057746842, 0.026295436968290797, 0.05955143078112916, 0.026295436968290797, 0.004640371229698376, 0.07888631090487239, 0.004640371229698376, 0.442897654034545, 0.004640371229698376, 0.01959267852539314, 0.0634184068058778, 0.16189739623614333, 0.0015467904098994587, 0.01211652487754576, 0.004640371229698376, 0.009022944057746842, 1.0, 0.01211652487754576, 0.004640371229698376, 0.025522041763341066, 0.0, 1.0, 0.007733952049497293, 0.001288992008249549, 0.01211652487754576, 0.018561484918793503, 0.01134312967259603, 0.018561484918793503, 0.016499097705594226, 0.01134312967259603, 0.01211652487754576, 0.016499097705594226, 0.0010311936065996391, 0.05955143078112916, 0.442897654034545, 0.016499097705594226, 0.004640371229698376, 0.004640371229698376, 0.05955143078112916, 0.01211652487754576, 0.01959267852539314, 0.001288992008249549, 0.0, 0.010054137664346482, 0.004640371229698376, 0.004640371229698376, 0.07888631090487239, 0.007733952049497293, 0.01134312967259603, 0.001288992008249549, 0.442897654034545, 0.004640371229698376, 0.016499097705594226, 0.026295436968290797, 0.009022944057746842, 0.01959267852539314, 0.0007733952049497294, 0.01211652487754576, 0.004640371229698376, 0.0, 0.0010311936065996391, 0.001288992008249549, 0.16189739623614333, 0.07888631090487239, 0.025522041763341066, 0.0, 0.004640371229698376, 0.018561484918793503, 0.442897654034545, 0.009022944057746842, 0.01211652487754576, 0.016499097705594226, 0.004640371229698376, 0.442897654034545, 0.07888631090487239, 0.016499097705594226, 0.16189739623614333, 0.2552204176334107, 0.001288992008249549, 0.0, 0.442897654034545, 0.0007733952049497294, 0.01959267852539314, 0.001288992008249549, 1.0, 0.004640371229698376, 0.018561484918793503, 0.001288992008249549, 0.004640371229698376, 0.0015467904098994587, 0.0015467904098994587, 0.018561484918793503, 0.0010311936065996391, 0.026295436968290797, 0.025522041763341066, 0.009022944057746842, 0.001288992008249549, 0.001288992008249549, 0.01211652487754576, 0.01959267852539314, 0.05955143078112916, 0.16189739623614333, 0.07888631090487239, 0.0010311936065996391, 0.442897654034545, 0.01263212168084558, 0.0, 1.0, 0.01959267852539314, 0.018561484918793503, 0.0, 0.0010311936065996391, 0.0, 0.01959267852539314, 0.0007733952049497294, 0.0010311936065996391, 0.009022944057746842, 0.05955143078112916, 0.0010311936065996391, 0.0634184068058778, 0.01959267852539314, 0.07888631090487239, 0.004640371229698376, 0.004640371229698376, 0.004640371229698376, 0.01134312967259603, 0.01134312967259603, 0.0010311936065996391, 0.026295436968290797, 0.004640371229698376, 0.010054137664346482, 0.34957463263727767, 0.0015467904098994587, 0.0007733952049497294, 0.01959267852539314, 0.05955143078112916, 0.01134312967259603, 0.05955143078112916, 0.01211652487754576, 0.009022944057746842, 0.34957463263727767, 0.0010311936065996391, 0.0010311936065996391, 0.05955143078112916, 0.34957463263727767, 0.07888631090487239, 0.0007733952049497294, 0.010054137664346482, 0.0634184068058778, 0.0, 0.0634184068058778, 0.004640371229698376, 0.004640371229698376, 0.01134312967259603, 0.01211652487754576, 0.0007733952049497294, 0.442897654034545, 0.442897654034545, 0.0, 0.0, 0.0, 0.01211652487754576, 0.001288992008249549, 0.004640371229698376, 0.004640371229698376, 0.2552204176334107, 0.01959267852539314, 0.01211652487754576, 0.05955143078112916, 0.010054137664346482, 0.34957463263727767, 0.0, 0.001288992008249549, 0.0634184068058778, 0.016499097705594226, 0.009022944057746842, 0.004640371229698376, 0.05955143078112916, 0.34957463263727767, 0.01263212168084558, 0.01134312967259603, 0.010054137664346482, 0.34957463263727767, 0.025522041763341066, 0.0007733952049497294, 0.0007733952049497294, 0.01959267852539314, 0.05955143078112916, 0.010054137664346482, 0.01211652487754576, 1.0, 0.01263212168084558, 0.2552204176334107, 0.05955143078112916, 0.34957463263727767, 0.001288992008249549, 0.05955143078112916, 0.010054137664346482, 0.007733952049497293, 0.016499097705594226, 0.34957463263727767, 0.0007733952049497294, 0.01211652487754576, 0.025522041763341066, 0.01959267852539314, 1.0, 0.004640371229698376, 0.01211652487754576, 0.05955143078112916, 0.16189739623614333, 0.05955143078112916, 0.01263212168084558, 0.16189739623614333, 0.0, 0.001288992008249549, 0.442897654034545, 0.01263212168084558, 0.0015467904098994587, 0.026295436968290797, 0.026295436968290797, 0.05955143078112916, 0.01263212168084558, 1.0, 0.025522041763341066, 0.16189739623614333, 0.2552204176334107, 0.2552204176334107, 0.01959267852539314, 0.0010311936065996391, 0.010054137664346482, 0.004640371229698376, 0.004640371229698376, 0.0, 0.009022944057746842, 0.010054137664346482, 0.01134312967259603, 0.025522041763341066, 0.026295436968290797, 0.001288992008249549, 0.34957463263727767, 0.026295436968290797, 0.2552204176334107, 0.016499097705594226, 0.442897654034545, 0.0010311936065996391, 0.010054137664346482, 0.442897654034545, 0.0, 0.007733952049497293, 0.01134312967259603, 0.01134312967259603, 0.0015467904098994587, 0.0634184068058778, 0.0, 0.442897654034545, 0.34957463263727767, 0.010054137664346482, 0.0010311936065996391, 0.34957463263727767, 0.05955143078112916, 0.018561484918793503, 0.0015467904098994587, 0.0, 0.01211652487754576, 0.34957463263727767, 0.009022944057746842, 0.007733952049497293, 0.018561484918793503, 0.026295436968290797, 0.001288992008249549, 0.05955143078112916, 0.0010311936065996391, 0.026295436968290797, 0.0, 0.0010311936065996391, 0.0634184068058778, 0.016499097705594226, 0.2552204176334107, 0.004640371229698376, 0.16189739623614333, 0.018561484918793503, 0.001288992008249549, 0.0634184068058778, 0.442897654034545, 0.018561484918793503, 0.0015467904098994587, 0.004640371229698376, 0.05955143078112916, 0.01211652487754576, 1.0, 0.0, 0.07888631090487239, 0.01211652487754576, 0.01263212168084558, 0.0634184068058778, 1.0, 0.01211652487754576, 0.442897654034545, 0.001288992008249549, 1.0, 0.001288992008249549, 0.018561484918793503, 0.01959267852539314, 0.0634184068058778, 0.001288992008249549, 0.0007733952049497294, 0.018561484918793503, 0.0010311936065996391, 0.010054137664346482, 0.0015467904098994587, 0.001288992008249549, 0.007733952049497293, 0.0015467904098994587, 0.0010311936065996391, 1.0, 0.0010311936065996391, 1.0, 0.018561484918793503, 0.01959267852539314, 0.0010311936065996391, 0.05955143078112916, 0.0010311936065996391, 0.0007733952049497294, 0.0010311936065996391, 0.16189739623614333, 0.010054137664346482, 0.007733952049497293, 0.01263212168084558, 0.0, 0.025522041763341066, 0.07888631090487239, 0.0007733952049497294, 0.01211652487754576, 0.05955143078112916, 0.01134312967259603, 0.0, 0.01959267852539314, 0.01263212168084558, 0.025522041763341066, 0.026295436968290797, 0.009022944057746842, 0.016499097705594226, 0.001288992008249549, 0.01211652487754576, 0.2552204176334107, 0.01263212168084558, 0.07888631090487239, 0.01959267852539314, 0.01211652487754576, 0.0010311936065996391, 0.009022944057746842, 0.007733952049497293, 0.009022944057746842, 0.026295436968290797, 0.004640371229698376, 0.004640371229698376, 0.01134312967259603, 0.018561484918793503, 0.01134312967259603, 0.001288992008249549, 0.05955143078112916, 1.0, 0.0010311936065996391, 0.0015467904098994587, 0.025522041763341066, 0.016499097705594226, 0.0, 0.05955143078112916, 0.016499097705594226, 0.442897654034545, 0.2552204176334107, 0.0007733952049497294, 0.442897654034545, 0.0, 0.01134312967259603, 0.026295436968290797, 0.34957463263727767, 0.0, 0.025522041763341066, 0.2552204176334107, 0.009022944057746842, 0.0, 0.442897654034545, 0.01263212168084558, 0.07888631090487239, 0.010054137664346482, 0.01211652487754576, 0.01211652487754576, 0.0010311936065996391, 0.16189739623614333, 0.0010311936065996391, 0.001288992008249549, 1.0, 0.0007733952049497294, 0.07888631090487239, 0.007733952049497293, 0.026295436968290797, 0.01134312967259603, 0.001288992008249549, 0.004640371229698376, 0.010054137664346482, 0.009022944057746842, 0.0634184068058778, 0.0007733952049497294, 0.442897654034545, 0.025522041763341066, 0.0634184068058778, 0.16189739623614333, 0.0, 1.0, 0.01959267852539314, 0.0634184068058778, 0.442897654034545, 0.009022944057746842, 0.01211652487754576, 0.026295436968290797, 0.34957463263727767, 0.01263212168084558, 0.0015467904098994587, 0.2552204176334107, 0.018561484918793503, 0.0015467904098994587, 0.026295436968290797, 0.0007733952049497294, 0.001288992008249549, 0.004640371229698376, 0.0634184068058778, 0.001288992008249549, 0.2552204176334107, 1.0, 0.0010311936065996391, 0.01959267852539314, 0.01263212168084558, 0.0015467904098994587, 0.01211652487754576, 0.16189739623614333, 0.0634184068058778, 0.07888631090487239, 0.016499097705594226, 0.05955143078112916, 0.018561484918793503, 0.0015467904098994587, 0.0010311936065996391, 0.34957463263727767, 0.009022944057746842, 0.0010311936065996391, 0.010054137664346482, 0.16189739623614333, 0.018561484918793503, 0.0, 0.2552204176334107, 0.0015467904098994587, 0.0015467904098994587, 0.0010311936065996391, 0.01263212168084558, 0.0015467904098994587, 0.004640371229698376, 0.0007733952049497294, 0.2552204176334107, 0.07888631090487239, 0.016499097705594226, 0.001288992008249549, 0.004640371229698376, 0.05955143078112916, 0.026295436968290797, 0.009022944057746842, 0.0010311936065996391, 0.0007733952049497294, 0.001288992008249549, 0.010054137664346482, 0.01959267852539314, 0.01263212168084558, 0.01134312967259603, 0.05955143078112916, 0.025522041763341066, 0.2552204176334107, 0.010054137664346482, 0.16189739623614333, 0.004640371229698376, 0.01211652487754576, 0.0010311936065996391, 0.0634184068058778, 0.018561484918793503, 0.026295436968290797, 0.34957463263727767, 0.0, 1.0, 0.007733952049497293, 1.0, 0.01959267852539314, 0.0010311936065996391, 0.001288992008249549, 0.0, 0.001288992008249549, 0.026295436968290797, 0.018561484918793503, 0.01211652487754576, 0.0015467904098994587, 0.442897654034545, 0.009022944057746842, 0.01211652487754576, 1.0, 0.016499097705594226, 0.01959267852539314, 0.0, 0.0634184068058778, 0.016499097705594226, 0.0010311936065996391, 0.016499097705594226, 0.01134312967259603, 0.025522041763341066, 0.0, 0.001288992008249549, 0.2552204176334107, 0.001288992008249549, 0.001288992008249549, 0.010054137664346482, 0.004640371229698376, 0.018561484918793503, 0.01134312967259603, 0.442897654034545, 0.0, 0.001288992008249549, 0.2552204176334107, 0.001288992008249549, 0.01211652487754576, 0.001288992008249549, 0.007733952049497293, 0.16189739623614333, 0.025522041763341066, 0.442897654034545, 0.01134312967259603, 0.004640371229698376, 0.01959267852539314, 1.0, 1.0, 0.001288992008249549, 0.009022944057746842, 0.0, 0.16189739623614333, 0.016499097705594226, 0.0015467904098994587, 0.0007733952049497294, 0.026295436968290797, 0.01959267852539314, 0.01959267852539314, 0.05955143078112916, 0.01134312967259603, 0.01959267852539314, 0.0010311936065996391, 0.001288992008249549, 0.007733952049497293, 0.01211652487754576, 0.0, 1.0, 0.025522041763341066, 0.01134312967259603, 0.0634184068058778, 0.001288992008249549, 0.0010311936065996391, 0.16189739623614333, 0.0, 0.001288992008249549, 0.01263212168084558, 0.05955143078112916, 0.16189739623614333, 0.0015467904098994587, 0.004640371229698376, 0.07888631090487239, 0.001288992008249549, 0.01134312967259603, 0.01959267852539314, 0.01211652487754576, 0.025522041763341066, 0.018561484918793503, 0.07888631090487239, 0.01211652487754576, 0.016499097705594226, 0.0, 0.01134312967259603, 0.01211652487754576, 0.025522041763341066, 0.01211652487754576, 0.0010311936065996391, 0.442897654034545, 0.026295436968290797, 0.001288992008249549, 0.025522041763341066, 0.34957463263727767, 1.0, 1.0, 0.0010311936065996391, 0.05955143078112916, 0.010054137664346482, 0.34957463263727767, 0.004640371229698376, 0.018561484918793503, 0.0634184068058778, 0.0, 0.026295436968290797, 0.01263212168084558, 0.01959267852539314, 0.0, 0.01211652487754576, 0.01134312967259603, 0.016499097705594226, 0.004640371229698376, 0.026295436968290797, 0.01134312967259603, 0.001288992008249549, 0.010054137664346482, 1.0, 0.026295436968290797, 0.026295436968290797, 0.004640371229698376, 0.07888631090487239, 0.026295436968290797, 0.01211652487754576, 0.0, 0.0015467904098994587, 0.016499097705594226, 0.001288992008249549, 0.0, 0.0634184068058778, 0.01134312967259603, 0.01134312967259603, 0.0010311936065996391, 0.004640371229698376, 0.01211652487754576, 0.0, 0.01263212168084558, 0.001288992008249549, 0.01263212168084558, 0.442897654034545, 0.001288992008249549, 0.0634184068058778, 0.025522041763341066, 0.442897654034545, 0.0634184068058778, 0.016499097705594226, 0.001288992008249549, 0.0007733952049497294, 0.07888631090487239, 1.0, 0.001288992008249549, 0.0, 0.025522041763341066, 0.0634184068058778, 0.2552204176334107, 0.01211652487754576, 0.0010311936065996391, 0.0634184068058778, 0.004640371229698376, 0.16189739623614333, 0.01211652487754576, 0.01263212168084558, 0.001288992008249549, 0.001288992008249549, 0.0015467904098994587, 0.0, 0.05955143078112916, 0.0007733952049497294, 0.05955143078112916, 0.01959267852539314, 0.018561484918793503, 0.001288992008249549, 0.0010311936065996391, 0.0634184068058778, 0.05955143078112916, 0.0010311936065996391, 0.004640371229698376, 0.01211652487754576, 0.2552204176334107, 0.01211652487754576, 0.0, 0.01134312967259603, 1.0, 0.05955143078112916, 0.016499097705594226, 0.004640371229698376, 0.2552204176334107, 0.16189739623614333, 0.01134312967259603, 0.0634184068058778, 0.001288992008249549, 0.018561484918793503, 0.05955143078112916, 0.018561484918793503, 0.001288992008249549, 0.34957463263727767, 0.0010311936065996391, 0.01263212168084558, 0.01134312967259603, 1.0, 0.026295436968290797, 0.442897654034545, 0.0010311936065996391, 0.01211652487754576, 0.009022944057746842, 0.01134312967259603, 0.016499097705594226, 0.010054137664346482, 0.442897654034545, 0.0010311936065996391, 0.0634184068058778, 0.0015467904098994587, 0.018561484918793503, 0.01211652487754576, 0.0, 0.0010311936065996391, 0.01134312967259603, 0.0, 0.01211652487754576, 0.0634184068058778, 0.004640371229698376, 0.001288992008249549, 0.016499097705594226, 0.2552204176334107, 0.001288992008249549], \"xaxis\": \"x\", \"yaxis\": \"y\"}],                        {\"barmode\": \"relative\", \"legend\": {\"tracegroupgap\": 0}, \"margin\": {\"t\": 60}, \"template\": {\"data\": {\"bar\": [{\"error_x\": {\"color\": \"#2a3f5f\"}, \"error_y\": {\"color\": \"#2a3f5f\"}, \"marker\": {\"line\": {\"color\": \"#E5ECF6\", \"width\": 0.5}}, \"type\": \"bar\"}], \"barpolar\": [{\"marker\": {\"line\": {\"color\": \"#E5ECF6\", \"width\": 0.5}}, \"type\": \"barpolar\"}], \"carpet\": [{\"aaxis\": {\"endlinecolor\": \"#2a3f5f\", \"gridcolor\": \"white\", \"linecolor\": \"white\", \"minorgridcolor\": \"white\", \"startlinecolor\": \"#2a3f5f\"}, \"baxis\": {\"endlinecolor\": \"#2a3f5f\", \"gridcolor\": \"white\", \"linecolor\": \"white\", \"minorgridcolor\": \"white\", \"startlinecolor\": \"#2a3f5f\"}, \"type\": \"carpet\"}], \"choropleth\": [{\"colorbar\": {\"outlinewidth\": 0, \"ticks\": \"\"}, \"type\": \"choropleth\"}], \"contour\": [{\"colorbar\": {\"outlinewidth\": 0, \"ticks\": \"\"}, \"colorscale\": [[0.0, \"#0d0887\"], [0.1111111111111111, \"#46039f\"], [0.2222222222222222, \"#7201a8\"], [0.3333333333333333, \"#9c179e\"], [0.4444444444444444, \"#bd3786\"], [0.5555555555555556, \"#d8576b\"], [0.6666666666666666, \"#ed7953\"], [0.7777777777777778, \"#fb9f3a\"], [0.8888888888888888, \"#fdca26\"], [1.0, \"#f0f921\"]], \"type\": \"contour\"}], \"contourcarpet\": [{\"colorbar\": {\"outlinewidth\": 0, \"ticks\": \"\"}, \"type\": \"contourcarpet\"}], \"heatmap\": [{\"colorbar\": {\"outlinewidth\": 0, \"ticks\": \"\"}, \"colorscale\": [[0.0, \"#0d0887\"], [0.1111111111111111, \"#46039f\"], [0.2222222222222222, \"#7201a8\"], [0.3333333333333333, \"#9c179e\"], [0.4444444444444444, \"#bd3786\"], [0.5555555555555556, \"#d8576b\"], [0.6666666666666666, \"#ed7953\"], [0.7777777777777778, \"#fb9f3a\"], [0.8888888888888888, \"#fdca26\"], [1.0, \"#f0f921\"]], \"type\": \"heatmap\"}], \"heatmapgl\": [{\"colorbar\": {\"outlinewidth\": 0, \"ticks\": \"\"}, \"colorscale\": [[0.0, \"#0d0887\"], [0.1111111111111111, \"#46039f\"], [0.2222222222222222, \"#7201a8\"], [0.3333333333333333, \"#9c179e\"], [0.4444444444444444, \"#bd3786\"], [0.5555555555555556, \"#d8576b\"], [0.6666666666666666, \"#ed7953\"], [0.7777777777777778, \"#fb9f3a\"], [0.8888888888888888, \"#fdca26\"], [1.0, \"#f0f921\"]], \"type\": \"heatmapgl\"}], \"histogram\": [{\"marker\": {\"colorbar\": {\"outlinewidth\": 0, \"ticks\": \"\"}}, \"type\": \"histogram\"}], \"histogram2d\": [{\"colorbar\": {\"outlinewidth\": 0, \"ticks\": \"\"}, \"colorscale\": [[0.0, \"#0d0887\"], [0.1111111111111111, \"#46039f\"], [0.2222222222222222, \"#7201a8\"], [0.3333333333333333, \"#9c179e\"], [0.4444444444444444, \"#bd3786\"], [0.5555555555555556, \"#d8576b\"], [0.6666666666666666, \"#ed7953\"], [0.7777777777777778, \"#fb9f3a\"], [0.8888888888888888, \"#fdca26\"], [1.0, \"#f0f921\"]], \"type\": \"histogram2d\"}], \"histogram2dcontour\": [{\"colorbar\": {\"outlinewidth\": 0, \"ticks\": \"\"}, \"colorscale\": [[0.0, \"#0d0887\"], [0.1111111111111111, \"#46039f\"], [0.2222222222222222, \"#7201a8\"], [0.3333333333333333, \"#9c179e\"], [0.4444444444444444, \"#bd3786\"], [0.5555555555555556, \"#d8576b\"], [0.6666666666666666, \"#ed7953\"], [0.7777777777777778, \"#fb9f3a\"], [0.8888888888888888, \"#fdca26\"], [1.0, \"#f0f921\"]], \"type\": \"histogram2dcontour\"}], \"mesh3d\": [{\"colorbar\": {\"outlinewidth\": 0, \"ticks\": \"\"}, \"type\": \"mesh3d\"}], \"parcoords\": [{\"line\": {\"colorbar\": {\"outlinewidth\": 0, \"ticks\": \"\"}}, \"type\": \"parcoords\"}], \"pie\": [{\"automargin\": true, \"type\": \"pie\"}], \"scatter\": [{\"marker\": {\"colorbar\": {\"outlinewidth\": 0, \"ticks\": \"\"}}, \"type\": \"scatter\"}], \"scatter3d\": [{\"line\": {\"colorbar\": {\"outlinewidth\": 0, \"ticks\": \"\"}}, \"marker\": {\"colorbar\": {\"outlinewidth\": 0, \"ticks\": \"\"}}, \"type\": \"scatter3d\"}], \"scattercarpet\": [{\"marker\": {\"colorbar\": {\"outlinewidth\": 0, \"ticks\": \"\"}}, \"type\": \"scattercarpet\"}], \"scattergeo\": [{\"marker\": {\"colorbar\": {\"outlinewidth\": 0, \"ticks\": \"\"}}, \"type\": \"scattergeo\"}], \"scattergl\": [{\"marker\": {\"colorbar\": {\"outlinewidth\": 0, \"ticks\": \"\"}}, \"type\": \"scattergl\"}], \"scattermapbox\": [{\"marker\": {\"colorbar\": {\"outlinewidth\": 0, \"ticks\": \"\"}}, \"type\": \"scattermapbox\"}], \"scatterpolar\": [{\"marker\": {\"colorbar\": {\"outlinewidth\": 0, \"ticks\": \"\"}}, \"type\": \"scatterpolar\"}], \"scatterpolargl\": [{\"marker\": {\"colorbar\": {\"outlinewidth\": 0, \"ticks\": \"\"}}, \"type\": \"scatterpolargl\"}], \"scatterternary\": [{\"marker\": {\"colorbar\": {\"outlinewidth\": 0, \"ticks\": \"\"}}, \"type\": \"scatterternary\"}], \"surface\": [{\"colorbar\": {\"outlinewidth\": 0, \"ticks\": \"\"}, \"colorscale\": [[0.0, \"#0d0887\"], [0.1111111111111111, \"#46039f\"], [0.2222222222222222, \"#7201a8\"], [0.3333333333333333, \"#9c179e\"], [0.4444444444444444, \"#bd3786\"], [0.5555555555555556, \"#d8576b\"], [0.6666666666666666, \"#ed7953\"], [0.7777777777777778, \"#fb9f3a\"], [0.8888888888888888, \"#fdca26\"], [1.0, \"#f0f921\"]], \"type\": \"surface\"}], \"table\": [{\"cells\": {\"fill\": {\"color\": \"#EBF0F8\"}, \"line\": {\"color\": \"white\"}}, \"header\": {\"fill\": {\"color\": \"#C8D4E3\"}, \"line\": {\"color\": \"white\"}}, \"type\": \"table\"}]}, \"layout\": {\"annotationdefaults\": {\"arrowcolor\": \"#2a3f5f\", \"arrowhead\": 0, \"arrowwidth\": 1}, \"autotypenumbers\": \"strict\", \"coloraxis\": {\"colorbar\": {\"outlinewidth\": 0, \"ticks\": \"\"}}, \"colorscale\": {\"diverging\": [[0, \"#8e0152\"], [0.1, \"#c51b7d\"], [0.2, \"#de77ae\"], [0.3, \"#f1b6da\"], [0.4, \"#fde0ef\"], [0.5, \"#f7f7f7\"], [0.6, \"#e6f5d0\"], [0.7, \"#b8e186\"], [0.8, \"#7fbc41\"], [0.9, \"#4d9221\"], [1, \"#276419\"]], \"sequential\": [[0.0, \"#0d0887\"], [0.1111111111111111, \"#46039f\"], [0.2222222222222222, \"#7201a8\"], [0.3333333333333333, \"#9c179e\"], [0.4444444444444444, \"#bd3786\"], [0.5555555555555556, \"#d8576b\"], [0.6666666666666666, \"#ed7953\"], [0.7777777777777778, \"#fb9f3a\"], [0.8888888888888888, \"#fdca26\"], [1.0, \"#f0f921\"]], \"sequentialminus\": [[0.0, \"#0d0887\"], [0.1111111111111111, \"#46039f\"], [0.2222222222222222, \"#7201a8\"], [0.3333333333333333, \"#9c179e\"], [0.4444444444444444, \"#bd3786\"], [0.5555555555555556, \"#d8576b\"], [0.6666666666666666, \"#ed7953\"], [0.7777777777777778, \"#fb9f3a\"], [0.8888888888888888, \"#fdca26\"], [1.0, \"#f0f921\"]]}, \"colorway\": [\"#636efa\", \"#EF553B\", \"#00cc96\", \"#ab63fa\", \"#FFA15A\", \"#19d3f3\", \"#FF6692\", \"#B6E880\", \"#FF97FF\", \"#FECB52\"], \"font\": {\"color\": \"#2a3f5f\"}, \"geo\": {\"bgcolor\": \"white\", \"lakecolor\": \"white\", \"landcolor\": \"#E5ECF6\", \"showlakes\": true, \"showland\": true, \"subunitcolor\": \"white\"}, \"hoverlabel\": {\"align\": \"left\"}, \"hovermode\": \"closest\", \"mapbox\": {\"style\": \"light\"}, \"paper_bgcolor\": \"white\", \"plot_bgcolor\": \"#E5ECF6\", \"polar\": {\"angularaxis\": {\"gridcolor\": \"white\", \"linecolor\": \"white\", \"ticks\": \"\"}, \"bgcolor\": \"#E5ECF6\", \"radialaxis\": {\"gridcolor\": \"white\", \"linecolor\": \"white\", \"ticks\": \"\"}}, \"scene\": {\"xaxis\": {\"backgroundcolor\": \"#E5ECF6\", \"gridcolor\": \"white\", \"gridwidth\": 2, \"linecolor\": \"white\", \"showbackground\": true, \"ticks\": \"\", \"zerolinecolor\": \"white\"}, \"yaxis\": {\"backgroundcolor\": \"#E5ECF6\", \"gridcolor\": \"white\", \"gridwidth\": 2, \"linecolor\": \"white\", \"showbackground\": true, \"ticks\": \"\", \"zerolinecolor\": \"white\"}, \"zaxis\": {\"backgroundcolor\": \"#E5ECF6\", \"gridcolor\": \"white\", \"gridwidth\": 2, \"linecolor\": \"white\", \"showbackground\": true, \"ticks\": \"\", \"zerolinecolor\": \"white\"}}, \"shapedefaults\": {\"line\": {\"color\": \"#2a3f5f\"}}, \"ternary\": {\"aaxis\": {\"gridcolor\": \"white\", \"linecolor\": \"white\", \"ticks\": \"\"}, \"baxis\": {\"gridcolor\": \"white\", \"linecolor\": \"white\", \"ticks\": \"\"}, \"bgcolor\": \"#E5ECF6\", \"caxis\": {\"gridcolor\": \"white\", \"linecolor\": \"white\", \"ticks\": \"\"}}, \"title\": {\"x\": 0.05}, \"xaxis\": {\"automargin\": true, \"gridcolor\": \"white\", \"linecolor\": \"white\", \"ticks\": \"\", \"title\": {\"standoff\": 15}, \"zerolinecolor\": \"white\", \"zerolinewidth\": 2}, \"yaxis\": {\"automargin\": true, \"gridcolor\": \"white\", \"linecolor\": \"white\", \"ticks\": \"\", \"title\": {\"standoff\": 15}, \"zerolinecolor\": \"white\", \"zerolinewidth\": 2}}}, \"xaxis\": {\"anchor\": \"y\", \"domain\": [0.0, 1.0], \"title\": {\"text\": \"x\"}}, \"yaxis\": {\"anchor\": \"x\", \"domain\": [0.0, 1.0], \"title\": {\"text\": \"probability density\"}}},                        {\"responsive\": true}                    ).then(function(){\n",
       "                            \n",
       "var gd = document.getElementById('8a54d91b-ee6c-4129-ad9a-c0209bb3c6f4');\n",
       "var x = new MutationObserver(function (mutations, observer) {{\n",
       "        var display = window.getComputedStyle(gd).display;\n",
       "        if (!display || display === 'none') {{\n",
       "            console.log([gd, 'removed!']);\n",
       "            Plotly.purge(gd);\n",
       "            observer.disconnect();\n",
       "        }}\n",
       "}});\n",
       "\n",
       "// Listen for the removal of the full notebook cells\n",
       "var notebookContainer = gd.closest('#notebook-container');\n",
       "if (notebookContainer) {{\n",
       "    x.observe(notebookContainer, {childList: true});\n",
       "}}\n",
       "\n",
       "// Listen for the clearing of the current output cell\n",
       "var outputEl = gd.closest('.output');\n",
       "if (outputEl) {{\n",
       "    x.observe(outputEl, {childList: true});\n",
       "}}\n",
       "\n",
       "                        })                };                });            </script>        </div>"
      ]
     },
     "metadata": {},
     "output_type": "display_data"
    },
    {
     "data": {
      "application/vnd.plotly.v1+json": {
       "config": {
        "plotlyServerURL": "https://plot.ly"
       },
       "data": [
        {
         "alignmentgroup": "True",
         "bingroup": "x",
         "histnorm": "probability density",
         "hovertemplate": "x=%{x}<br>probability density=%{y}<extra></extra>",
         "legendgroup": "",
         "marker": {
          "color": "#636efa"
         },
         "name": "",
         "nbinsx": 100,
         "offsetgroup": "",
         "orientation": "v",
         "showlegend": false,
         "type": "histogram",
         "x": [
          0.004640371229698376,
          0.004640371229698376,
          0.01959267852539314,
          0.004640371229698376,
          0.007733952049497293,
          0.007733952049497293,
          0.004640371229698376,
          0.018561484918793503,
          0.001288992008249549,
          0.442897654034545,
          0.007733952049497293,
          0.442897654034545,
          0.0007733952049497294,
          0.004640371229698376,
          0.007733952049497293,
          0.0015467904098994587,
          0.026295436968290797,
          0.01959267852539314,
          0.010054137664346482,
          0.0634184068058778,
          0.0010311936065996391,
          0,
          1,
          0.0634184068058778,
          0.0015467904098994587,
          0.01263212168084558,
          0.009022944057746842,
          0.16189739623614333,
          0.001288992008249549,
          0.010054137664346482,
          0.442897654034545,
          0.34957463263727767,
          0.2552204176334107,
          0.001288992008249549,
          0.05955143078112916,
          0.018561484918793503,
          0.05955143078112916,
          1,
          0.0010311936065996391,
          0.010054137664346482,
          0.01263212168084558,
          0.0015467904098994587,
          0.16189739623614333,
          0.010054137664346482,
          0.01959267852539314,
          0.01959267852539314,
          0.16189739623614333,
          0.018561484918793503,
          0.026295436968290797,
          0.026295436968290797,
          0.026295436968290797,
          0.016499097705594226,
          0.05955143078112916,
          0.018561484918793503,
          0.0010311936065996391,
          0.01959267852539314,
          0.018561484918793503,
          0.016499097705594226,
          0.010054137664346482,
          0.026295436968290797,
          0.0010311936065996391,
          0.0007733952049497294,
          0.004640371229698376,
          0,
          0.01211652487754576,
          0.016499097705594226,
          0.05955143078112916,
          0.004640371229698376,
          0.0634184068058778,
          0.34957463263727767,
          0.0010311936065996391,
          0.026295436968290797,
          0.34957463263727767,
          0,
          0.0015467904098994587,
          0.07888631090487239,
          0.016499097705594226,
          0.07888631090487239,
          0.0010311936065996391,
          0.025522041763341066,
          0.2552204176334107,
          0.01959267852539314,
          0.018561484918793503,
          0.009022944057746842,
          0.018561484918793503,
          0.0010311936065996391,
          0.026295436968290797,
          0,
          0,
          0.025522041763341066,
          0.018561484918793503,
          0.004640371229698376,
          0.007733952049497293,
          0.007733952049497293,
          0.010054137664346482,
          0.010054137664346482,
          0.025522041763341066,
          0.442897654034545,
          0.0010311936065996391,
          0.026295436968290797,
          0.01959267852539314,
          0.016499097705594226,
          0.010054137664346482,
          1,
          0.0634184068058778,
          0.2552204176334107,
          0.16189739623614333,
          0.001288992008249549,
          0.004640371229698376,
          0.2552204176334107,
          0.004640371229698376,
          0.001288992008249549,
          0.01959267852539314,
          0.16189739623614333,
          0.05955143078112916,
          0.001288992008249549,
          0.2552204176334107,
          0.016499097705594226,
          0.16189739623614333,
          0.16189739623614333,
          0.01134312967259603,
          0.018561484918793503,
          0.0015467904098994587,
          0.004640371229698376,
          0.026295436968290797,
          0.0015467904098994587,
          0.01134312967259603,
          0.004640371229698376,
          0.16189739623614333,
          0.0634184068058778,
          0.007733952049497293,
          0.2552204176334107,
          0.01134312967259603,
          0.001288992008249549,
          0,
          0.01959267852539314,
          0.01263212168084558,
          0.018561484918793503,
          0.016499097705594226,
          0.01959267852539314,
          0.01959267852539314,
          0.2552204176334107,
          0.001288992008249549,
          0.01211652487754576,
          0.34957463263727767,
          0.01263212168084558,
          0.2552204176334107,
          0.2552204176334107,
          0.01959267852539314,
          0.07888631090487239,
          0.34957463263727767,
          0.0015467904098994587,
          0.018561484918793503,
          0.01959267852539314,
          0.007733952049497293,
          0,
          0.018561484918793503,
          0.009022944057746842,
          0.009022944057746842,
          0.004640371229698376,
          0.001288992008249549,
          0.007733952049497293,
          0.2552204176334107,
          0.05955143078112916,
          0.01211652487754576,
          0.007733952049497293,
          0.001288992008249549,
          0,
          0.01211652487754576,
          0.004640371229698376,
          0.0007733952049497294,
          0.05955143078112916,
          0,
          0.442897654034545,
          0.0010311936065996391,
          0.07888631090487239,
          0.01211652487754576,
          0.016499097705594226,
          0.0015467904098994587,
          0.0010311936065996391,
          0.010054137664346482,
          0.004640371229698376,
          0.01134312967259603,
          0.01959267852539314,
          0.001288992008249549,
          0.01211652487754576,
          0.01211652487754576,
          0.01134312967259603,
          0.16189739623614333,
          0.34957463263727767,
          0.01134312967259603,
          0.01211652487754576,
          0,
          0,
          0.05955143078112916,
          0.01211652487754576,
          0.010054137664346482,
          0.34957463263727767,
          0.001288992008249549,
          0.010054137664346482,
          0.07888631090487239,
          0.0010311936065996391,
          0.025522041763341066,
          0.07888631090487239,
          0.16189739623614333,
          0.0010311936065996391,
          0.442897654034545,
          0.001288992008249549,
          0.010054137664346482,
          0.0010311936065996391,
          0.01959267852539314,
          0.026295436968290797,
          0.16189739623614333,
          0.001288992008249549,
          0.001288992008249549,
          1,
          0.01211652487754576,
          0.16189739623614333,
          0.01134312967259603,
          0,
          0.05955143078112916,
          0.0007733952049497294,
          0.01211652487754576,
          0.0634184068058778,
          0,
          0.001288992008249549,
          0.01134312967259603,
          0.018561484918793503,
          0.34957463263727767,
          0.010054137664346482,
          0.0007733952049497294,
          0.0010311936065996391,
          0.0010311936065996391,
          0.0634184068058778,
          0.016499097705594226,
          1,
          0.001288992008249549,
          0.0007733952049497294,
          0.0007733952049497294,
          0.01263212168084558,
          0.025522041763341066,
          0.01134312967259603,
          0,
          0.025522041763341066,
          0.010054137664346482,
          0.0634184068058778,
          0.0007733952049497294,
          0,
          0.004640371229698376,
          0.01263212168084558,
          0.442897654034545,
          0.442897654034545,
          0.016499097705594226,
          0.01263212168084558,
          0.01211652487754576,
          0.0010311936065996391,
          0.07888631090487239,
          0.442897654034545,
          0.026295436968290797,
          0.026295436968290797,
          0,
          0.0010311936065996391,
          0.01263212168084558,
          0.009022944057746842,
          0.026295436968290797,
          0.016499097705594226,
          0.004640371229698376,
          0.2552204176334107,
          0.0010311936065996391,
          0.34957463263727767,
          0.0010311936065996391,
          0.442897654034545,
          0.001288992008249549,
          0.007733952049497293,
          0.442897654034545,
          0.0634184068058778,
          0.01959267852539314,
          0.001288992008249549,
          0.07888631090487239,
          0.026295436968290797,
          0.01211652487754576,
          0.009022944057746842,
          0.026295436968290797,
          0.05955143078112916,
          0.026295436968290797,
          0.004640371229698376,
          0.07888631090487239,
          0.004640371229698376,
          0.442897654034545,
          0.004640371229698376,
          0.01959267852539314,
          0.0634184068058778,
          0.16189739623614333,
          0.0015467904098994587,
          0.01211652487754576,
          0.004640371229698376,
          0.009022944057746842,
          1,
          0.01211652487754576,
          0.004640371229698376,
          0.025522041763341066,
          0,
          1,
          0.007733952049497293,
          0.001288992008249549,
          0.01211652487754576,
          0.018561484918793503,
          0.01134312967259603,
          0.018561484918793503,
          0.016499097705594226,
          0.01134312967259603,
          0.01211652487754576,
          0.016499097705594226,
          0.0010311936065996391,
          0.05955143078112916,
          0.442897654034545,
          0.016499097705594226,
          0.004640371229698376,
          0.004640371229698376,
          0.05955143078112916,
          0.01211652487754576,
          0.01959267852539314,
          0.001288992008249549,
          0,
          0.010054137664346482,
          0.004640371229698376,
          0.004640371229698376,
          0.07888631090487239,
          0.007733952049497293,
          0.01134312967259603,
          0.001288992008249549,
          0.442897654034545,
          0.004640371229698376,
          0.016499097705594226,
          0.026295436968290797,
          0.009022944057746842,
          0.01959267852539314,
          0.0007733952049497294,
          0.01211652487754576,
          0.004640371229698376,
          0,
          0.0010311936065996391,
          0.001288992008249549,
          0.16189739623614333,
          0.07888631090487239,
          0.025522041763341066,
          0,
          0.004640371229698376,
          0.018561484918793503,
          0.442897654034545,
          0.009022944057746842,
          0.01211652487754576,
          0.016499097705594226,
          0.004640371229698376,
          0.442897654034545,
          0.07888631090487239,
          0.016499097705594226,
          0.16189739623614333,
          0.2552204176334107,
          0.001288992008249549,
          0,
          0.442897654034545,
          0.0007733952049497294,
          0.01959267852539314,
          0.001288992008249549,
          1,
          0.004640371229698376,
          0.018561484918793503,
          0.001288992008249549,
          0.004640371229698376,
          0.0015467904098994587,
          0.0015467904098994587,
          0.018561484918793503,
          0.0010311936065996391,
          0.026295436968290797,
          0.025522041763341066,
          0.009022944057746842,
          0.001288992008249549,
          0.001288992008249549,
          0.01211652487754576,
          0.01959267852539314,
          0.05955143078112916,
          0.16189739623614333,
          0.07888631090487239,
          0.0010311936065996391,
          0.442897654034545,
          0.01263212168084558,
          0,
          1,
          0.01959267852539314,
          0.018561484918793503,
          0,
          0.0010311936065996391,
          0,
          0.01959267852539314,
          0.0007733952049497294,
          0.0010311936065996391,
          0.009022944057746842,
          0.05955143078112916,
          0.0010311936065996391,
          0.0634184068058778,
          0.01959267852539314,
          0.07888631090487239,
          0.004640371229698376,
          0.004640371229698376,
          0.004640371229698376,
          0.01134312967259603,
          0.01134312967259603,
          0.0010311936065996391,
          0.026295436968290797,
          0.004640371229698376,
          0.010054137664346482,
          0.34957463263727767,
          0.0015467904098994587,
          0.0007733952049497294,
          0.01959267852539314,
          0.05955143078112916,
          0.01134312967259603,
          0.05955143078112916,
          0.01211652487754576,
          0.009022944057746842,
          0.34957463263727767,
          0.0010311936065996391,
          0.0010311936065996391,
          0.05955143078112916,
          0.34957463263727767,
          0.07888631090487239,
          0.0007733952049497294,
          0.010054137664346482,
          0.0634184068058778,
          0,
          0.0634184068058778,
          0.004640371229698376,
          0.004640371229698376,
          0.01134312967259603,
          0.01211652487754576,
          0.0007733952049497294,
          0.442897654034545,
          0.442897654034545,
          0,
          0,
          0,
          0.01211652487754576,
          0.001288992008249549,
          0.004640371229698376,
          0.004640371229698376,
          0.2552204176334107,
          0.01959267852539314,
          0.01211652487754576,
          0.05955143078112916,
          0.010054137664346482,
          0.34957463263727767,
          0,
          0.001288992008249549,
          0.0634184068058778,
          0.016499097705594226,
          0.009022944057746842,
          0.004640371229698376,
          0.05955143078112916,
          0.34957463263727767,
          0.01263212168084558,
          0.01134312967259603,
          0.010054137664346482,
          0.34957463263727767,
          0.025522041763341066,
          0.0007733952049497294,
          0.0007733952049497294,
          0.01959267852539314,
          0.05955143078112916,
          0.010054137664346482,
          0.01211652487754576,
          1,
          0.01263212168084558,
          0.2552204176334107,
          0.05955143078112916,
          0.34957463263727767,
          0.001288992008249549,
          0.05955143078112916,
          0.010054137664346482,
          0.007733952049497293,
          0.016499097705594226,
          0.34957463263727767,
          0.0007733952049497294,
          0.01211652487754576,
          0.025522041763341066,
          0.01959267852539314,
          1,
          0.004640371229698376,
          0.01211652487754576,
          0.05955143078112916,
          0.16189739623614333,
          0.05955143078112916,
          0.01263212168084558,
          0.16189739623614333,
          0,
          0.001288992008249549,
          0.442897654034545,
          0.01263212168084558,
          0.0015467904098994587,
          0.026295436968290797,
          0.026295436968290797,
          0.05955143078112916,
          0.01263212168084558,
          1,
          0.025522041763341066,
          0.16189739623614333,
          0.2552204176334107,
          0.2552204176334107,
          0.01959267852539314,
          0.0010311936065996391,
          0.010054137664346482,
          0.004640371229698376,
          0.004640371229698376,
          0,
          0.009022944057746842,
          0.010054137664346482,
          0.01134312967259603,
          0.025522041763341066,
          0.026295436968290797,
          0.001288992008249549,
          0.34957463263727767,
          0.026295436968290797,
          0.2552204176334107,
          0.016499097705594226,
          0.442897654034545,
          0.0010311936065996391,
          0.010054137664346482,
          0.442897654034545,
          0,
          0.007733952049497293,
          0.01134312967259603,
          0.01134312967259603,
          0.0015467904098994587,
          0.0634184068058778,
          0,
          0.442897654034545,
          0.34957463263727767,
          0.010054137664346482,
          0.0010311936065996391,
          0.34957463263727767,
          0.05955143078112916,
          0.018561484918793503,
          0.0015467904098994587,
          0,
          0.01211652487754576,
          0.34957463263727767,
          0.009022944057746842,
          0.007733952049497293,
          0.018561484918793503,
          0.026295436968290797,
          0.001288992008249549,
          0.05955143078112916,
          0.0010311936065996391,
          0.026295436968290797,
          0,
          0.0010311936065996391,
          0.0634184068058778,
          0.016499097705594226,
          0.2552204176334107,
          0.004640371229698376,
          0.16189739623614333,
          0.018561484918793503,
          0.001288992008249549,
          0.0634184068058778,
          0.442897654034545,
          0.018561484918793503,
          0.0015467904098994587,
          0.004640371229698376,
          0.05955143078112916,
          0.01211652487754576,
          1,
          0,
          0.07888631090487239,
          0.01211652487754576,
          0.01263212168084558,
          0.0634184068058778,
          1,
          0.01211652487754576,
          0.442897654034545,
          0.001288992008249549,
          1,
          0.001288992008249549,
          0.018561484918793503,
          0.01959267852539314,
          0.0634184068058778,
          0.001288992008249549,
          0.0007733952049497294,
          0.018561484918793503,
          0.0010311936065996391,
          0.010054137664346482,
          0.0015467904098994587,
          0.001288992008249549,
          0.007733952049497293,
          0.0015467904098994587,
          0.0010311936065996391,
          1,
          0.0010311936065996391,
          1,
          0.018561484918793503,
          0.01959267852539314,
          0.0010311936065996391,
          0.05955143078112916,
          0.0010311936065996391,
          0.0007733952049497294,
          0.0010311936065996391,
          0.16189739623614333,
          0.010054137664346482,
          0.007733952049497293,
          0.01263212168084558,
          0,
          0.025522041763341066,
          0.07888631090487239,
          0.0007733952049497294,
          0.01211652487754576,
          0.05955143078112916,
          0.01134312967259603,
          0,
          0.01959267852539314,
          0.01263212168084558,
          0.025522041763341066,
          0.026295436968290797,
          0.009022944057746842,
          0.016499097705594226,
          0.001288992008249549,
          0.01211652487754576,
          0.2552204176334107,
          0.01263212168084558,
          0.07888631090487239,
          0.01959267852539314,
          0.01211652487754576,
          0.0010311936065996391,
          0.009022944057746842,
          0.007733952049497293,
          0.009022944057746842,
          0.026295436968290797,
          0.004640371229698376,
          0.004640371229698376,
          0.01134312967259603,
          0.018561484918793503,
          0.01134312967259603,
          0.001288992008249549,
          0.05955143078112916,
          1,
          0.0010311936065996391,
          0.0015467904098994587,
          0.025522041763341066,
          0.016499097705594226,
          0,
          0.05955143078112916,
          0.016499097705594226,
          0.442897654034545,
          0.2552204176334107,
          0.0007733952049497294,
          0.442897654034545,
          0,
          0.01134312967259603,
          0.026295436968290797,
          0.34957463263727767,
          0,
          0.025522041763341066,
          0.2552204176334107,
          0.009022944057746842,
          0,
          0.442897654034545,
          0.01263212168084558,
          0.07888631090487239,
          0.010054137664346482,
          0.01211652487754576,
          0.01211652487754576,
          0.0010311936065996391,
          0.16189739623614333,
          0.0010311936065996391,
          0.001288992008249549,
          1,
          0.0007733952049497294,
          0.07888631090487239,
          0.007733952049497293,
          0.026295436968290797,
          0.01134312967259603,
          0.001288992008249549,
          0.004640371229698376,
          0.010054137664346482,
          0.009022944057746842,
          0.0634184068058778,
          0.0007733952049497294,
          0.442897654034545,
          0.025522041763341066,
          0.0634184068058778,
          0.16189739623614333,
          0,
          1,
          0.01959267852539314,
          0.0634184068058778,
          0.442897654034545,
          0.009022944057746842,
          0.01211652487754576,
          0.026295436968290797,
          0.34957463263727767,
          0.01263212168084558,
          0.0015467904098994587,
          0.2552204176334107,
          0.018561484918793503,
          0.0015467904098994587,
          0.026295436968290797,
          0.0007733952049497294,
          0.001288992008249549,
          0.004640371229698376,
          0.0634184068058778,
          0.001288992008249549,
          0.2552204176334107,
          1,
          0.0010311936065996391,
          0.01959267852539314,
          0.01263212168084558,
          0.0015467904098994587,
          0.01211652487754576,
          0.16189739623614333,
          0.0634184068058778,
          0.07888631090487239,
          0.016499097705594226,
          0.05955143078112916,
          0.018561484918793503,
          0.0015467904098994587,
          0.0010311936065996391,
          0.34957463263727767,
          0.009022944057746842,
          0.0010311936065996391,
          0.010054137664346482,
          0.16189739623614333,
          0.018561484918793503,
          0,
          0.2552204176334107,
          0.0015467904098994587,
          0.0015467904098994587,
          0.0010311936065996391,
          0.01263212168084558,
          0.0015467904098994587,
          0.004640371229698376,
          0.0007733952049497294,
          0.2552204176334107,
          0.07888631090487239,
          0.016499097705594226,
          0.001288992008249549,
          0.004640371229698376,
          0.05955143078112916,
          0.026295436968290797,
          0.009022944057746842,
          0.0010311936065996391,
          0.0007733952049497294,
          0.001288992008249549,
          0.010054137664346482,
          0.01959267852539314,
          0.01263212168084558,
          0.01134312967259603,
          0.05955143078112916,
          0.025522041763341066,
          0.2552204176334107,
          0.010054137664346482,
          0.16189739623614333,
          0.004640371229698376,
          0.01211652487754576,
          0.0010311936065996391,
          0.0634184068058778,
          0.018561484918793503,
          0.026295436968290797,
          0.34957463263727767,
          0,
          1,
          0.007733952049497293,
          1,
          0.01959267852539314,
          0.0010311936065996391,
          0.001288992008249549,
          0,
          0.001288992008249549,
          0.026295436968290797,
          0.018561484918793503,
          0.01211652487754576,
          0.0015467904098994587,
          0.442897654034545,
          0.009022944057746842,
          0.01211652487754576,
          1,
          0.016499097705594226,
          0.01959267852539314,
          0,
          0.0634184068058778,
          0.016499097705594226,
          0.0010311936065996391,
          0.016499097705594226,
          0.01134312967259603,
          0.025522041763341066,
          0,
          0.001288992008249549,
          0.2552204176334107,
          0.001288992008249549,
          0.001288992008249549,
          0.010054137664346482,
          0.004640371229698376,
          0.018561484918793503,
          0.01134312967259603,
          0.442897654034545,
          0,
          0.001288992008249549,
          0.2552204176334107,
          0.001288992008249549,
          0.01211652487754576,
          0.001288992008249549,
          0.007733952049497293,
          0.16189739623614333,
          0.025522041763341066,
          0.442897654034545,
          0.01134312967259603,
          0.004640371229698376,
          0.01959267852539314,
          1,
          1,
          0.001288992008249549,
          0.009022944057746842,
          0,
          0.16189739623614333,
          0.016499097705594226,
          0.0015467904098994587,
          0.0007733952049497294,
          0.026295436968290797,
          0.01959267852539314,
          0.01959267852539314,
          0.05955143078112916,
          0.01134312967259603,
          0.01959267852539314,
          0.0010311936065996391,
          0.001288992008249549,
          0.007733952049497293,
          0.01211652487754576,
          0,
          1,
          0.025522041763341066,
          0.01134312967259603,
          0.0634184068058778,
          0.001288992008249549,
          0.0010311936065996391,
          0.16189739623614333,
          0,
          0.001288992008249549,
          0.01263212168084558,
          0.05955143078112916,
          0.16189739623614333,
          0.0015467904098994587,
          0.004640371229698376,
          0.07888631090487239,
          0.001288992008249549,
          0.01134312967259603,
          0.01959267852539314,
          0.01211652487754576,
          0.025522041763341066,
          0.018561484918793503,
          0.07888631090487239,
          0.01211652487754576,
          0.016499097705594226,
          0,
          0.01134312967259603,
          0.01211652487754576,
          0.025522041763341066,
          0.01211652487754576,
          0.0010311936065996391,
          0.442897654034545,
          0.026295436968290797,
          0.001288992008249549,
          0.025522041763341066,
          0.34957463263727767,
          1,
          1,
          0.0010311936065996391,
          0.05955143078112916,
          0.010054137664346482,
          0.34957463263727767,
          0.004640371229698376,
          0.018561484918793503,
          0.0634184068058778,
          0,
          0.026295436968290797,
          0.01263212168084558,
          0.01959267852539314,
          0,
          0.01211652487754576,
          0.01134312967259603,
          0.016499097705594226,
          0.004640371229698376,
          0.026295436968290797,
          0.01134312967259603,
          0.001288992008249549,
          0.010054137664346482,
          1,
          0.026295436968290797,
          0.026295436968290797,
          0.004640371229698376,
          0.07888631090487239,
          0.026295436968290797,
          0.01211652487754576,
          0,
          0.0015467904098994587,
          0.016499097705594226,
          0.001288992008249549,
          0,
          0.0634184068058778,
          0.01134312967259603,
          0.01134312967259603,
          0.0010311936065996391,
          0.004640371229698376,
          0.01211652487754576,
          0,
          0.01263212168084558,
          0.001288992008249549,
          0.01263212168084558,
          0.442897654034545,
          0.001288992008249549,
          0.0634184068058778,
          0.025522041763341066,
          0.442897654034545,
          0.0634184068058778,
          0.016499097705594226,
          0.001288992008249549,
          0.0007733952049497294,
          0.07888631090487239,
          1,
          0.001288992008249549,
          0,
          0.025522041763341066,
          0.0634184068058778,
          0.2552204176334107,
          0.01211652487754576,
          0.0010311936065996391,
          0.0634184068058778,
          0.004640371229698376,
          0.16189739623614333,
          0.01211652487754576,
          0.01263212168084558,
          0.001288992008249549,
          0.001288992008249549,
          0.0015467904098994587,
          0,
          0.05955143078112916,
          0.0007733952049497294,
          0.05955143078112916,
          0.01959267852539314,
          0.018561484918793503,
          0.001288992008249549,
          0.0010311936065996391,
          0.0634184068058778,
          0.05955143078112916,
          0.0010311936065996391,
          0.004640371229698376,
          0.01211652487754576,
          0.2552204176334107,
          0.01211652487754576,
          0,
          0.01134312967259603,
          1,
          0.05955143078112916,
          0.016499097705594226,
          0.004640371229698376,
          0.2552204176334107,
          0.16189739623614333,
          0.01134312967259603,
          0.0634184068058778,
          0.001288992008249549,
          0.018561484918793503,
          0.05955143078112916,
          0.018561484918793503,
          0.001288992008249549,
          0.34957463263727767,
          0.0010311936065996391,
          0.01263212168084558,
          0.01134312967259603,
          1,
          0.026295436968290797,
          0.442897654034545,
          0.0010311936065996391,
          0.01211652487754576,
          0.009022944057746842,
          0.01134312967259603,
          0.016499097705594226,
          0.010054137664346482,
          0.442897654034545,
          0.0010311936065996391,
          0.0634184068058778,
          0.0015467904098994587,
          0.018561484918793503,
          0.01211652487754576,
          0,
          0.0010311936065996391,
          0.01134312967259603,
          0,
          0.01211652487754576,
          0.0634184068058778,
          0.004640371229698376,
          0.001288992008249549,
          0.016499097705594226,
          0.2552204176334107,
          0.001288992008249549
         ],
         "xaxis": "x",
         "yaxis": "y"
        }
       ],
       "layout": {
        "barmode": "relative",
        "legend": {
         "tracegroupgap": 0
        },
        "margin": {
         "t": 60
        },
        "template": {
         "data": {
          "bar": [
           {
            "error_x": {
             "color": "#2a3f5f"
            },
            "error_y": {
             "color": "#2a3f5f"
            },
            "marker": {
             "line": {
              "color": "#E5ECF6",
              "width": 0.5
             }
            },
            "type": "bar"
           }
          ],
          "barpolar": [
           {
            "marker": {
             "line": {
              "color": "#E5ECF6",
              "width": 0.5
             }
            },
            "type": "barpolar"
           }
          ],
          "carpet": [
           {
            "aaxis": {
             "endlinecolor": "#2a3f5f",
             "gridcolor": "white",
             "linecolor": "white",
             "minorgridcolor": "white",
             "startlinecolor": "#2a3f5f"
            },
            "baxis": {
             "endlinecolor": "#2a3f5f",
             "gridcolor": "white",
             "linecolor": "white",
             "minorgridcolor": "white",
             "startlinecolor": "#2a3f5f"
            },
            "type": "carpet"
           }
          ],
          "choropleth": [
           {
            "colorbar": {
             "outlinewidth": 0,
             "ticks": ""
            },
            "type": "choropleth"
           }
          ],
          "contour": [
           {
            "colorbar": {
             "outlinewidth": 0,
             "ticks": ""
            },
            "colorscale": [
             [
              0,
              "#0d0887"
             ],
             [
              0.1111111111111111,
              "#46039f"
             ],
             [
              0.2222222222222222,
              "#7201a8"
             ],
             [
              0.3333333333333333,
              "#9c179e"
             ],
             [
              0.4444444444444444,
              "#bd3786"
             ],
             [
              0.5555555555555556,
              "#d8576b"
             ],
             [
              0.6666666666666666,
              "#ed7953"
             ],
             [
              0.7777777777777778,
              "#fb9f3a"
             ],
             [
              0.8888888888888888,
              "#fdca26"
             ],
             [
              1,
              "#f0f921"
             ]
            ],
            "type": "contour"
           }
          ],
          "contourcarpet": [
           {
            "colorbar": {
             "outlinewidth": 0,
             "ticks": ""
            },
            "type": "contourcarpet"
           }
          ],
          "heatmap": [
           {
            "colorbar": {
             "outlinewidth": 0,
             "ticks": ""
            },
            "colorscale": [
             [
              0,
              "#0d0887"
             ],
             [
              0.1111111111111111,
              "#46039f"
             ],
             [
              0.2222222222222222,
              "#7201a8"
             ],
             [
              0.3333333333333333,
              "#9c179e"
             ],
             [
              0.4444444444444444,
              "#bd3786"
             ],
             [
              0.5555555555555556,
              "#d8576b"
             ],
             [
              0.6666666666666666,
              "#ed7953"
             ],
             [
              0.7777777777777778,
              "#fb9f3a"
             ],
             [
              0.8888888888888888,
              "#fdca26"
             ],
             [
              1,
              "#f0f921"
             ]
            ],
            "type": "heatmap"
           }
          ],
          "heatmapgl": [
           {
            "colorbar": {
             "outlinewidth": 0,
             "ticks": ""
            },
            "colorscale": [
             [
              0,
              "#0d0887"
             ],
             [
              0.1111111111111111,
              "#46039f"
             ],
             [
              0.2222222222222222,
              "#7201a8"
             ],
             [
              0.3333333333333333,
              "#9c179e"
             ],
             [
              0.4444444444444444,
              "#bd3786"
             ],
             [
              0.5555555555555556,
              "#d8576b"
             ],
             [
              0.6666666666666666,
              "#ed7953"
             ],
             [
              0.7777777777777778,
              "#fb9f3a"
             ],
             [
              0.8888888888888888,
              "#fdca26"
             ],
             [
              1,
              "#f0f921"
             ]
            ],
            "type": "heatmapgl"
           }
          ],
          "histogram": [
           {
            "marker": {
             "colorbar": {
              "outlinewidth": 0,
              "ticks": ""
             }
            },
            "type": "histogram"
           }
          ],
          "histogram2d": [
           {
            "colorbar": {
             "outlinewidth": 0,
             "ticks": ""
            },
            "colorscale": [
             [
              0,
              "#0d0887"
             ],
             [
              0.1111111111111111,
              "#46039f"
             ],
             [
              0.2222222222222222,
              "#7201a8"
             ],
             [
              0.3333333333333333,
              "#9c179e"
             ],
             [
              0.4444444444444444,
              "#bd3786"
             ],
             [
              0.5555555555555556,
              "#d8576b"
             ],
             [
              0.6666666666666666,
              "#ed7953"
             ],
             [
              0.7777777777777778,
              "#fb9f3a"
             ],
             [
              0.8888888888888888,
              "#fdca26"
             ],
             [
              1,
              "#f0f921"
             ]
            ],
            "type": "histogram2d"
           }
          ],
          "histogram2dcontour": [
           {
            "colorbar": {
             "outlinewidth": 0,
             "ticks": ""
            },
            "colorscale": [
             [
              0,
              "#0d0887"
             ],
             [
              0.1111111111111111,
              "#46039f"
             ],
             [
              0.2222222222222222,
              "#7201a8"
             ],
             [
              0.3333333333333333,
              "#9c179e"
             ],
             [
              0.4444444444444444,
              "#bd3786"
             ],
             [
              0.5555555555555556,
              "#d8576b"
             ],
             [
              0.6666666666666666,
              "#ed7953"
             ],
             [
              0.7777777777777778,
              "#fb9f3a"
             ],
             [
              0.8888888888888888,
              "#fdca26"
             ],
             [
              1,
              "#f0f921"
             ]
            ],
            "type": "histogram2dcontour"
           }
          ],
          "mesh3d": [
           {
            "colorbar": {
             "outlinewidth": 0,
             "ticks": ""
            },
            "type": "mesh3d"
           }
          ],
          "parcoords": [
           {
            "line": {
             "colorbar": {
              "outlinewidth": 0,
              "ticks": ""
             }
            },
            "type": "parcoords"
           }
          ],
          "pie": [
           {
            "automargin": true,
            "type": "pie"
           }
          ],
          "scatter": [
           {
            "marker": {
             "colorbar": {
              "outlinewidth": 0,
              "ticks": ""
             }
            },
            "type": "scatter"
           }
          ],
          "scatter3d": [
           {
            "line": {
             "colorbar": {
              "outlinewidth": 0,
              "ticks": ""
             }
            },
            "marker": {
             "colorbar": {
              "outlinewidth": 0,
              "ticks": ""
             }
            },
            "type": "scatter3d"
           }
          ],
          "scattercarpet": [
           {
            "marker": {
             "colorbar": {
              "outlinewidth": 0,
              "ticks": ""
             }
            },
            "type": "scattercarpet"
           }
          ],
          "scattergeo": [
           {
            "marker": {
             "colorbar": {
              "outlinewidth": 0,
              "ticks": ""
             }
            },
            "type": "scattergeo"
           }
          ],
          "scattergl": [
           {
            "marker": {
             "colorbar": {
              "outlinewidth": 0,
              "ticks": ""
             }
            },
            "type": "scattergl"
           }
          ],
          "scattermapbox": [
           {
            "marker": {
             "colorbar": {
              "outlinewidth": 0,
              "ticks": ""
             }
            },
            "type": "scattermapbox"
           }
          ],
          "scatterpolar": [
           {
            "marker": {
             "colorbar": {
              "outlinewidth": 0,
              "ticks": ""
             }
            },
            "type": "scatterpolar"
           }
          ],
          "scatterpolargl": [
           {
            "marker": {
             "colorbar": {
              "outlinewidth": 0,
              "ticks": ""
             }
            },
            "type": "scatterpolargl"
           }
          ],
          "scatterternary": [
           {
            "marker": {
             "colorbar": {
              "outlinewidth": 0,
              "ticks": ""
             }
            },
            "type": "scatterternary"
           }
          ],
          "surface": [
           {
            "colorbar": {
             "outlinewidth": 0,
             "ticks": ""
            },
            "colorscale": [
             [
              0,
              "#0d0887"
             ],
             [
              0.1111111111111111,
              "#46039f"
             ],
             [
              0.2222222222222222,
              "#7201a8"
             ],
             [
              0.3333333333333333,
              "#9c179e"
             ],
             [
              0.4444444444444444,
              "#bd3786"
             ],
             [
              0.5555555555555556,
              "#d8576b"
             ],
             [
              0.6666666666666666,
              "#ed7953"
             ],
             [
              0.7777777777777778,
              "#fb9f3a"
             ],
             [
              0.8888888888888888,
              "#fdca26"
             ],
             [
              1,
              "#f0f921"
             ]
            ],
            "type": "surface"
           }
          ],
          "table": [
           {
            "cells": {
             "fill": {
              "color": "#EBF0F8"
             },
             "line": {
              "color": "white"
             }
            },
            "header": {
             "fill": {
              "color": "#C8D4E3"
             },
             "line": {
              "color": "white"
             }
            },
            "type": "table"
           }
          ]
         },
         "layout": {
          "annotationdefaults": {
           "arrowcolor": "#2a3f5f",
           "arrowhead": 0,
           "arrowwidth": 1
          },
          "autotypenumbers": "strict",
          "coloraxis": {
           "colorbar": {
            "outlinewidth": 0,
            "ticks": ""
           }
          },
          "colorscale": {
           "diverging": [
            [
             0,
             "#8e0152"
            ],
            [
             0.1,
             "#c51b7d"
            ],
            [
             0.2,
             "#de77ae"
            ],
            [
             0.3,
             "#f1b6da"
            ],
            [
             0.4,
             "#fde0ef"
            ],
            [
             0.5,
             "#f7f7f7"
            ],
            [
             0.6,
             "#e6f5d0"
            ],
            [
             0.7,
             "#b8e186"
            ],
            [
             0.8,
             "#7fbc41"
            ],
            [
             0.9,
             "#4d9221"
            ],
            [
             1,
             "#276419"
            ]
           ],
           "sequential": [
            [
             0,
             "#0d0887"
            ],
            [
             0.1111111111111111,
             "#46039f"
            ],
            [
             0.2222222222222222,
             "#7201a8"
            ],
            [
             0.3333333333333333,
             "#9c179e"
            ],
            [
             0.4444444444444444,
             "#bd3786"
            ],
            [
             0.5555555555555556,
             "#d8576b"
            ],
            [
             0.6666666666666666,
             "#ed7953"
            ],
            [
             0.7777777777777778,
             "#fb9f3a"
            ],
            [
             0.8888888888888888,
             "#fdca26"
            ],
            [
             1,
             "#f0f921"
            ]
           ],
           "sequentialminus": [
            [
             0,
             "#0d0887"
            ],
            [
             0.1111111111111111,
             "#46039f"
            ],
            [
             0.2222222222222222,
             "#7201a8"
            ],
            [
             0.3333333333333333,
             "#9c179e"
            ],
            [
             0.4444444444444444,
             "#bd3786"
            ],
            [
             0.5555555555555556,
             "#d8576b"
            ],
            [
             0.6666666666666666,
             "#ed7953"
            ],
            [
             0.7777777777777778,
             "#fb9f3a"
            ],
            [
             0.8888888888888888,
             "#fdca26"
            ],
            [
             1,
             "#f0f921"
            ]
           ]
          },
          "colorway": [
           "#636efa",
           "#EF553B",
           "#00cc96",
           "#ab63fa",
           "#FFA15A",
           "#19d3f3",
           "#FF6692",
           "#B6E880",
           "#FF97FF",
           "#FECB52"
          ],
          "font": {
           "color": "#2a3f5f"
          },
          "geo": {
           "bgcolor": "white",
           "lakecolor": "white",
           "landcolor": "#E5ECF6",
           "showlakes": true,
           "showland": true,
           "subunitcolor": "white"
          },
          "hoverlabel": {
           "align": "left"
          },
          "hovermode": "closest",
          "mapbox": {
           "style": "light"
          },
          "paper_bgcolor": "white",
          "plot_bgcolor": "#E5ECF6",
          "polar": {
           "angularaxis": {
            "gridcolor": "white",
            "linecolor": "white",
            "ticks": ""
           },
           "bgcolor": "#E5ECF6",
           "radialaxis": {
            "gridcolor": "white",
            "linecolor": "white",
            "ticks": ""
           }
          },
          "scene": {
           "xaxis": {
            "backgroundcolor": "#E5ECF6",
            "gridcolor": "white",
            "gridwidth": 2,
            "linecolor": "white",
            "showbackground": true,
            "ticks": "",
            "zerolinecolor": "white"
           },
           "yaxis": {
            "backgroundcolor": "#E5ECF6",
            "gridcolor": "white",
            "gridwidth": 2,
            "linecolor": "white",
            "showbackground": true,
            "ticks": "",
            "zerolinecolor": "white"
           },
           "zaxis": {
            "backgroundcolor": "#E5ECF6",
            "gridcolor": "white",
            "gridwidth": 2,
            "linecolor": "white",
            "showbackground": true,
            "ticks": "",
            "zerolinecolor": "white"
           }
          },
          "shapedefaults": {
           "line": {
            "color": "#2a3f5f"
           }
          },
          "ternary": {
           "aaxis": {
            "gridcolor": "white",
            "linecolor": "white",
            "ticks": ""
           },
           "baxis": {
            "gridcolor": "white",
            "linecolor": "white",
            "ticks": ""
           },
           "bgcolor": "#E5ECF6",
           "caxis": {
            "gridcolor": "white",
            "linecolor": "white",
            "ticks": ""
           }
          },
          "title": {
           "x": 0.05
          },
          "xaxis": {
           "automargin": true,
           "gridcolor": "white",
           "linecolor": "white",
           "ticks": "",
           "title": {
            "standoff": 15
           },
           "zerolinecolor": "white",
           "zerolinewidth": 2
          },
          "yaxis": {
           "automargin": true,
           "gridcolor": "white",
           "linecolor": "white",
           "ticks": "",
           "title": {
            "standoff": 15
           },
           "zerolinecolor": "white",
           "zerolinewidth": 2
          }
         }
        },
        "xaxis": {
         "anchor": "y",
         "domain": [
          0,
          1
         ],
         "title": {
          "text": "x"
         }
        },
        "yaxis": {
         "anchor": "x",
         "domain": [
          0,
          1
         ],
         "title": {
          "text": "probability density"
         }
        }
       }
      },
      "text/html": [
       "<div>                            <div id=\"2499fd88-4e8e-44bb-85fd-efc47e3106f2\" class=\"plotly-graph-div\" style=\"height:525px; width:100%;\"></div>            <script type=\"text/javascript\">                require([\"plotly\"], function(Plotly) {                    window.PLOTLYENV=window.PLOTLYENV || {};                                    if (document.getElementById(\"2499fd88-4e8e-44bb-85fd-efc47e3106f2\")) {                    Plotly.newPlot(                        \"2499fd88-4e8e-44bb-85fd-efc47e3106f2\",                        [{\"alignmentgroup\": \"True\", \"bingroup\": \"x\", \"histnorm\": \"probability density\", \"hovertemplate\": \"x=%{x}<br>probability density=%{y}<extra></extra>\", \"legendgroup\": \"\", \"marker\": {\"color\": \"#636efa\"}, \"name\": \"\", \"nbinsx\": 100, \"offsetgroup\": \"\", \"orientation\": \"v\", \"showlegend\": false, \"type\": \"histogram\", \"x\": [0.004640371229698376, 0.004640371229698376, 0.01959267852539314, 0.004640371229698376, 0.007733952049497293, 0.007733952049497293, 0.004640371229698376, 0.018561484918793503, 0.001288992008249549, 0.442897654034545, 0.007733952049497293, 0.442897654034545, 0.0007733952049497294, 0.004640371229698376, 0.007733952049497293, 0.0015467904098994587, 0.026295436968290797, 0.01959267852539314, 0.010054137664346482, 0.0634184068058778, 0.0010311936065996391, 0.0, 1.0, 0.0634184068058778, 0.0015467904098994587, 0.01263212168084558, 0.009022944057746842, 0.16189739623614333, 0.001288992008249549, 0.010054137664346482, 0.442897654034545, 0.34957463263727767, 0.2552204176334107, 0.001288992008249549, 0.05955143078112916, 0.018561484918793503, 0.05955143078112916, 1.0, 0.0010311936065996391, 0.010054137664346482, 0.01263212168084558, 0.0015467904098994587, 0.16189739623614333, 0.010054137664346482, 0.01959267852539314, 0.01959267852539314, 0.16189739623614333, 0.018561484918793503, 0.026295436968290797, 0.026295436968290797, 0.026295436968290797, 0.016499097705594226, 0.05955143078112916, 0.018561484918793503, 0.0010311936065996391, 0.01959267852539314, 0.018561484918793503, 0.016499097705594226, 0.010054137664346482, 0.026295436968290797, 0.0010311936065996391, 0.0007733952049497294, 0.004640371229698376, 0.0, 0.01211652487754576, 0.016499097705594226, 0.05955143078112916, 0.004640371229698376, 0.0634184068058778, 0.34957463263727767, 0.0010311936065996391, 0.026295436968290797, 0.34957463263727767, 0.0, 0.0015467904098994587, 0.07888631090487239, 0.016499097705594226, 0.07888631090487239, 0.0010311936065996391, 0.025522041763341066, 0.2552204176334107, 0.01959267852539314, 0.018561484918793503, 0.009022944057746842, 0.018561484918793503, 0.0010311936065996391, 0.026295436968290797, 0.0, 0.0, 0.025522041763341066, 0.018561484918793503, 0.004640371229698376, 0.007733952049497293, 0.007733952049497293, 0.010054137664346482, 0.010054137664346482, 0.025522041763341066, 0.442897654034545, 0.0010311936065996391, 0.026295436968290797, 0.01959267852539314, 0.016499097705594226, 0.010054137664346482, 1.0, 0.0634184068058778, 0.2552204176334107, 0.16189739623614333, 0.001288992008249549, 0.004640371229698376, 0.2552204176334107, 0.004640371229698376, 0.001288992008249549, 0.01959267852539314, 0.16189739623614333, 0.05955143078112916, 0.001288992008249549, 0.2552204176334107, 0.016499097705594226, 0.16189739623614333, 0.16189739623614333, 0.01134312967259603, 0.018561484918793503, 0.0015467904098994587, 0.004640371229698376, 0.026295436968290797, 0.0015467904098994587, 0.01134312967259603, 0.004640371229698376, 0.16189739623614333, 0.0634184068058778, 0.007733952049497293, 0.2552204176334107, 0.01134312967259603, 0.001288992008249549, 0.0, 0.01959267852539314, 0.01263212168084558, 0.018561484918793503, 0.016499097705594226, 0.01959267852539314, 0.01959267852539314, 0.2552204176334107, 0.001288992008249549, 0.01211652487754576, 0.34957463263727767, 0.01263212168084558, 0.2552204176334107, 0.2552204176334107, 0.01959267852539314, 0.07888631090487239, 0.34957463263727767, 0.0015467904098994587, 0.018561484918793503, 0.01959267852539314, 0.007733952049497293, 0.0, 0.018561484918793503, 0.009022944057746842, 0.009022944057746842, 0.004640371229698376, 0.001288992008249549, 0.007733952049497293, 0.2552204176334107, 0.05955143078112916, 0.01211652487754576, 0.007733952049497293, 0.001288992008249549, 0.0, 0.01211652487754576, 0.004640371229698376, 0.0007733952049497294, 0.05955143078112916, 0.0, 0.442897654034545, 0.0010311936065996391, 0.07888631090487239, 0.01211652487754576, 0.016499097705594226, 0.0015467904098994587, 0.0010311936065996391, 0.010054137664346482, 0.004640371229698376, 0.01134312967259603, 0.01959267852539314, 0.001288992008249549, 0.01211652487754576, 0.01211652487754576, 0.01134312967259603, 0.16189739623614333, 0.34957463263727767, 0.01134312967259603, 0.01211652487754576, 0.0, 0.0, 0.05955143078112916, 0.01211652487754576, 0.010054137664346482, 0.34957463263727767, 0.001288992008249549, 0.010054137664346482, 0.07888631090487239, 0.0010311936065996391, 0.025522041763341066, 0.07888631090487239, 0.16189739623614333, 0.0010311936065996391, 0.442897654034545, 0.001288992008249549, 0.010054137664346482, 0.0010311936065996391, 0.01959267852539314, 0.026295436968290797, 0.16189739623614333, 0.001288992008249549, 0.001288992008249549, 1.0, 0.01211652487754576, 0.16189739623614333, 0.01134312967259603, 0.0, 0.05955143078112916, 0.0007733952049497294, 0.01211652487754576, 0.0634184068058778, 0.0, 0.001288992008249549, 0.01134312967259603, 0.018561484918793503, 0.34957463263727767, 0.010054137664346482, 0.0007733952049497294, 0.0010311936065996391, 0.0010311936065996391, 0.0634184068058778, 0.016499097705594226, 1.0, 0.001288992008249549, 0.0007733952049497294, 0.0007733952049497294, 0.01263212168084558, 0.025522041763341066, 0.01134312967259603, 0.0, 0.025522041763341066, 0.010054137664346482, 0.0634184068058778, 0.0007733952049497294, 0.0, 0.004640371229698376, 0.01263212168084558, 0.442897654034545, 0.442897654034545, 0.016499097705594226, 0.01263212168084558, 0.01211652487754576, 0.0010311936065996391, 0.07888631090487239, 0.442897654034545, 0.026295436968290797, 0.026295436968290797, 0.0, 0.0010311936065996391, 0.01263212168084558, 0.009022944057746842, 0.026295436968290797, 0.016499097705594226, 0.004640371229698376, 0.2552204176334107, 0.0010311936065996391, 0.34957463263727767, 0.0010311936065996391, 0.442897654034545, 0.001288992008249549, 0.007733952049497293, 0.442897654034545, 0.0634184068058778, 0.01959267852539314, 0.001288992008249549, 0.07888631090487239, 0.026295436968290797, 0.01211652487754576, 0.009022944057746842, 0.026295436968290797, 0.05955143078112916, 0.026295436968290797, 0.004640371229698376, 0.07888631090487239, 0.004640371229698376, 0.442897654034545, 0.004640371229698376, 0.01959267852539314, 0.0634184068058778, 0.16189739623614333, 0.0015467904098994587, 0.01211652487754576, 0.004640371229698376, 0.009022944057746842, 1.0, 0.01211652487754576, 0.004640371229698376, 0.025522041763341066, 0.0, 1.0, 0.007733952049497293, 0.001288992008249549, 0.01211652487754576, 0.018561484918793503, 0.01134312967259603, 0.018561484918793503, 0.016499097705594226, 0.01134312967259603, 0.01211652487754576, 0.016499097705594226, 0.0010311936065996391, 0.05955143078112916, 0.442897654034545, 0.016499097705594226, 0.004640371229698376, 0.004640371229698376, 0.05955143078112916, 0.01211652487754576, 0.01959267852539314, 0.001288992008249549, 0.0, 0.010054137664346482, 0.004640371229698376, 0.004640371229698376, 0.07888631090487239, 0.007733952049497293, 0.01134312967259603, 0.001288992008249549, 0.442897654034545, 0.004640371229698376, 0.016499097705594226, 0.026295436968290797, 0.009022944057746842, 0.01959267852539314, 0.0007733952049497294, 0.01211652487754576, 0.004640371229698376, 0.0, 0.0010311936065996391, 0.001288992008249549, 0.16189739623614333, 0.07888631090487239, 0.025522041763341066, 0.0, 0.004640371229698376, 0.018561484918793503, 0.442897654034545, 0.009022944057746842, 0.01211652487754576, 0.016499097705594226, 0.004640371229698376, 0.442897654034545, 0.07888631090487239, 0.016499097705594226, 0.16189739623614333, 0.2552204176334107, 0.001288992008249549, 0.0, 0.442897654034545, 0.0007733952049497294, 0.01959267852539314, 0.001288992008249549, 1.0, 0.004640371229698376, 0.018561484918793503, 0.001288992008249549, 0.004640371229698376, 0.0015467904098994587, 0.0015467904098994587, 0.018561484918793503, 0.0010311936065996391, 0.026295436968290797, 0.025522041763341066, 0.009022944057746842, 0.001288992008249549, 0.001288992008249549, 0.01211652487754576, 0.01959267852539314, 0.05955143078112916, 0.16189739623614333, 0.07888631090487239, 0.0010311936065996391, 0.442897654034545, 0.01263212168084558, 0.0, 1.0, 0.01959267852539314, 0.018561484918793503, 0.0, 0.0010311936065996391, 0.0, 0.01959267852539314, 0.0007733952049497294, 0.0010311936065996391, 0.009022944057746842, 0.05955143078112916, 0.0010311936065996391, 0.0634184068058778, 0.01959267852539314, 0.07888631090487239, 0.004640371229698376, 0.004640371229698376, 0.004640371229698376, 0.01134312967259603, 0.01134312967259603, 0.0010311936065996391, 0.026295436968290797, 0.004640371229698376, 0.010054137664346482, 0.34957463263727767, 0.0015467904098994587, 0.0007733952049497294, 0.01959267852539314, 0.05955143078112916, 0.01134312967259603, 0.05955143078112916, 0.01211652487754576, 0.009022944057746842, 0.34957463263727767, 0.0010311936065996391, 0.0010311936065996391, 0.05955143078112916, 0.34957463263727767, 0.07888631090487239, 0.0007733952049497294, 0.010054137664346482, 0.0634184068058778, 0.0, 0.0634184068058778, 0.004640371229698376, 0.004640371229698376, 0.01134312967259603, 0.01211652487754576, 0.0007733952049497294, 0.442897654034545, 0.442897654034545, 0.0, 0.0, 0.0, 0.01211652487754576, 0.001288992008249549, 0.004640371229698376, 0.004640371229698376, 0.2552204176334107, 0.01959267852539314, 0.01211652487754576, 0.05955143078112916, 0.010054137664346482, 0.34957463263727767, 0.0, 0.001288992008249549, 0.0634184068058778, 0.016499097705594226, 0.009022944057746842, 0.004640371229698376, 0.05955143078112916, 0.34957463263727767, 0.01263212168084558, 0.01134312967259603, 0.010054137664346482, 0.34957463263727767, 0.025522041763341066, 0.0007733952049497294, 0.0007733952049497294, 0.01959267852539314, 0.05955143078112916, 0.010054137664346482, 0.01211652487754576, 1.0, 0.01263212168084558, 0.2552204176334107, 0.05955143078112916, 0.34957463263727767, 0.001288992008249549, 0.05955143078112916, 0.010054137664346482, 0.007733952049497293, 0.016499097705594226, 0.34957463263727767, 0.0007733952049497294, 0.01211652487754576, 0.025522041763341066, 0.01959267852539314, 1.0, 0.004640371229698376, 0.01211652487754576, 0.05955143078112916, 0.16189739623614333, 0.05955143078112916, 0.01263212168084558, 0.16189739623614333, 0.0, 0.001288992008249549, 0.442897654034545, 0.01263212168084558, 0.0015467904098994587, 0.026295436968290797, 0.026295436968290797, 0.05955143078112916, 0.01263212168084558, 1.0, 0.025522041763341066, 0.16189739623614333, 0.2552204176334107, 0.2552204176334107, 0.01959267852539314, 0.0010311936065996391, 0.010054137664346482, 0.004640371229698376, 0.004640371229698376, 0.0, 0.009022944057746842, 0.010054137664346482, 0.01134312967259603, 0.025522041763341066, 0.026295436968290797, 0.001288992008249549, 0.34957463263727767, 0.026295436968290797, 0.2552204176334107, 0.016499097705594226, 0.442897654034545, 0.0010311936065996391, 0.010054137664346482, 0.442897654034545, 0.0, 0.007733952049497293, 0.01134312967259603, 0.01134312967259603, 0.0015467904098994587, 0.0634184068058778, 0.0, 0.442897654034545, 0.34957463263727767, 0.010054137664346482, 0.0010311936065996391, 0.34957463263727767, 0.05955143078112916, 0.018561484918793503, 0.0015467904098994587, 0.0, 0.01211652487754576, 0.34957463263727767, 0.009022944057746842, 0.007733952049497293, 0.018561484918793503, 0.026295436968290797, 0.001288992008249549, 0.05955143078112916, 0.0010311936065996391, 0.026295436968290797, 0.0, 0.0010311936065996391, 0.0634184068058778, 0.016499097705594226, 0.2552204176334107, 0.004640371229698376, 0.16189739623614333, 0.018561484918793503, 0.001288992008249549, 0.0634184068058778, 0.442897654034545, 0.018561484918793503, 0.0015467904098994587, 0.004640371229698376, 0.05955143078112916, 0.01211652487754576, 1.0, 0.0, 0.07888631090487239, 0.01211652487754576, 0.01263212168084558, 0.0634184068058778, 1.0, 0.01211652487754576, 0.442897654034545, 0.001288992008249549, 1.0, 0.001288992008249549, 0.018561484918793503, 0.01959267852539314, 0.0634184068058778, 0.001288992008249549, 0.0007733952049497294, 0.018561484918793503, 0.0010311936065996391, 0.010054137664346482, 0.0015467904098994587, 0.001288992008249549, 0.007733952049497293, 0.0015467904098994587, 0.0010311936065996391, 1.0, 0.0010311936065996391, 1.0, 0.018561484918793503, 0.01959267852539314, 0.0010311936065996391, 0.05955143078112916, 0.0010311936065996391, 0.0007733952049497294, 0.0010311936065996391, 0.16189739623614333, 0.010054137664346482, 0.007733952049497293, 0.01263212168084558, 0.0, 0.025522041763341066, 0.07888631090487239, 0.0007733952049497294, 0.01211652487754576, 0.05955143078112916, 0.01134312967259603, 0.0, 0.01959267852539314, 0.01263212168084558, 0.025522041763341066, 0.026295436968290797, 0.009022944057746842, 0.016499097705594226, 0.001288992008249549, 0.01211652487754576, 0.2552204176334107, 0.01263212168084558, 0.07888631090487239, 0.01959267852539314, 0.01211652487754576, 0.0010311936065996391, 0.009022944057746842, 0.007733952049497293, 0.009022944057746842, 0.026295436968290797, 0.004640371229698376, 0.004640371229698376, 0.01134312967259603, 0.018561484918793503, 0.01134312967259603, 0.001288992008249549, 0.05955143078112916, 1.0, 0.0010311936065996391, 0.0015467904098994587, 0.025522041763341066, 0.016499097705594226, 0.0, 0.05955143078112916, 0.016499097705594226, 0.442897654034545, 0.2552204176334107, 0.0007733952049497294, 0.442897654034545, 0.0, 0.01134312967259603, 0.026295436968290797, 0.34957463263727767, 0.0, 0.025522041763341066, 0.2552204176334107, 0.009022944057746842, 0.0, 0.442897654034545, 0.01263212168084558, 0.07888631090487239, 0.010054137664346482, 0.01211652487754576, 0.01211652487754576, 0.0010311936065996391, 0.16189739623614333, 0.0010311936065996391, 0.001288992008249549, 1.0, 0.0007733952049497294, 0.07888631090487239, 0.007733952049497293, 0.026295436968290797, 0.01134312967259603, 0.001288992008249549, 0.004640371229698376, 0.010054137664346482, 0.009022944057746842, 0.0634184068058778, 0.0007733952049497294, 0.442897654034545, 0.025522041763341066, 0.0634184068058778, 0.16189739623614333, 0.0, 1.0, 0.01959267852539314, 0.0634184068058778, 0.442897654034545, 0.009022944057746842, 0.01211652487754576, 0.026295436968290797, 0.34957463263727767, 0.01263212168084558, 0.0015467904098994587, 0.2552204176334107, 0.018561484918793503, 0.0015467904098994587, 0.026295436968290797, 0.0007733952049497294, 0.001288992008249549, 0.004640371229698376, 0.0634184068058778, 0.001288992008249549, 0.2552204176334107, 1.0, 0.0010311936065996391, 0.01959267852539314, 0.01263212168084558, 0.0015467904098994587, 0.01211652487754576, 0.16189739623614333, 0.0634184068058778, 0.07888631090487239, 0.016499097705594226, 0.05955143078112916, 0.018561484918793503, 0.0015467904098994587, 0.0010311936065996391, 0.34957463263727767, 0.009022944057746842, 0.0010311936065996391, 0.010054137664346482, 0.16189739623614333, 0.018561484918793503, 0.0, 0.2552204176334107, 0.0015467904098994587, 0.0015467904098994587, 0.0010311936065996391, 0.01263212168084558, 0.0015467904098994587, 0.004640371229698376, 0.0007733952049497294, 0.2552204176334107, 0.07888631090487239, 0.016499097705594226, 0.001288992008249549, 0.004640371229698376, 0.05955143078112916, 0.026295436968290797, 0.009022944057746842, 0.0010311936065996391, 0.0007733952049497294, 0.001288992008249549, 0.010054137664346482, 0.01959267852539314, 0.01263212168084558, 0.01134312967259603, 0.05955143078112916, 0.025522041763341066, 0.2552204176334107, 0.010054137664346482, 0.16189739623614333, 0.004640371229698376, 0.01211652487754576, 0.0010311936065996391, 0.0634184068058778, 0.018561484918793503, 0.026295436968290797, 0.34957463263727767, 0.0, 1.0, 0.007733952049497293, 1.0, 0.01959267852539314, 0.0010311936065996391, 0.001288992008249549, 0.0, 0.001288992008249549, 0.026295436968290797, 0.018561484918793503, 0.01211652487754576, 0.0015467904098994587, 0.442897654034545, 0.009022944057746842, 0.01211652487754576, 1.0, 0.016499097705594226, 0.01959267852539314, 0.0, 0.0634184068058778, 0.016499097705594226, 0.0010311936065996391, 0.016499097705594226, 0.01134312967259603, 0.025522041763341066, 0.0, 0.001288992008249549, 0.2552204176334107, 0.001288992008249549, 0.001288992008249549, 0.010054137664346482, 0.004640371229698376, 0.018561484918793503, 0.01134312967259603, 0.442897654034545, 0.0, 0.001288992008249549, 0.2552204176334107, 0.001288992008249549, 0.01211652487754576, 0.001288992008249549, 0.007733952049497293, 0.16189739623614333, 0.025522041763341066, 0.442897654034545, 0.01134312967259603, 0.004640371229698376, 0.01959267852539314, 1.0, 1.0, 0.001288992008249549, 0.009022944057746842, 0.0, 0.16189739623614333, 0.016499097705594226, 0.0015467904098994587, 0.0007733952049497294, 0.026295436968290797, 0.01959267852539314, 0.01959267852539314, 0.05955143078112916, 0.01134312967259603, 0.01959267852539314, 0.0010311936065996391, 0.001288992008249549, 0.007733952049497293, 0.01211652487754576, 0.0, 1.0, 0.025522041763341066, 0.01134312967259603, 0.0634184068058778, 0.001288992008249549, 0.0010311936065996391, 0.16189739623614333, 0.0, 0.001288992008249549, 0.01263212168084558, 0.05955143078112916, 0.16189739623614333, 0.0015467904098994587, 0.004640371229698376, 0.07888631090487239, 0.001288992008249549, 0.01134312967259603, 0.01959267852539314, 0.01211652487754576, 0.025522041763341066, 0.018561484918793503, 0.07888631090487239, 0.01211652487754576, 0.016499097705594226, 0.0, 0.01134312967259603, 0.01211652487754576, 0.025522041763341066, 0.01211652487754576, 0.0010311936065996391, 0.442897654034545, 0.026295436968290797, 0.001288992008249549, 0.025522041763341066, 0.34957463263727767, 1.0, 1.0, 0.0010311936065996391, 0.05955143078112916, 0.010054137664346482, 0.34957463263727767, 0.004640371229698376, 0.018561484918793503, 0.0634184068058778, 0.0, 0.026295436968290797, 0.01263212168084558, 0.01959267852539314, 0.0, 0.01211652487754576, 0.01134312967259603, 0.016499097705594226, 0.004640371229698376, 0.026295436968290797, 0.01134312967259603, 0.001288992008249549, 0.010054137664346482, 1.0, 0.026295436968290797, 0.026295436968290797, 0.004640371229698376, 0.07888631090487239, 0.026295436968290797, 0.01211652487754576, 0.0, 0.0015467904098994587, 0.016499097705594226, 0.001288992008249549, 0.0, 0.0634184068058778, 0.01134312967259603, 0.01134312967259603, 0.0010311936065996391, 0.004640371229698376, 0.01211652487754576, 0.0, 0.01263212168084558, 0.001288992008249549, 0.01263212168084558, 0.442897654034545, 0.001288992008249549, 0.0634184068058778, 0.025522041763341066, 0.442897654034545, 0.0634184068058778, 0.016499097705594226, 0.001288992008249549, 0.0007733952049497294, 0.07888631090487239, 1.0, 0.001288992008249549, 0.0, 0.025522041763341066, 0.0634184068058778, 0.2552204176334107, 0.01211652487754576, 0.0010311936065996391, 0.0634184068058778, 0.004640371229698376, 0.16189739623614333, 0.01211652487754576, 0.01263212168084558, 0.001288992008249549, 0.001288992008249549, 0.0015467904098994587, 0.0, 0.05955143078112916, 0.0007733952049497294, 0.05955143078112916, 0.01959267852539314, 0.018561484918793503, 0.001288992008249549, 0.0010311936065996391, 0.0634184068058778, 0.05955143078112916, 0.0010311936065996391, 0.004640371229698376, 0.01211652487754576, 0.2552204176334107, 0.01211652487754576, 0.0, 0.01134312967259603, 1.0, 0.05955143078112916, 0.016499097705594226, 0.004640371229698376, 0.2552204176334107, 0.16189739623614333, 0.01134312967259603, 0.0634184068058778, 0.001288992008249549, 0.018561484918793503, 0.05955143078112916, 0.018561484918793503, 0.001288992008249549, 0.34957463263727767, 0.0010311936065996391, 0.01263212168084558, 0.01134312967259603, 1.0, 0.026295436968290797, 0.442897654034545, 0.0010311936065996391, 0.01211652487754576, 0.009022944057746842, 0.01134312967259603, 0.016499097705594226, 0.010054137664346482, 0.442897654034545, 0.0010311936065996391, 0.0634184068058778, 0.0015467904098994587, 0.018561484918793503, 0.01211652487754576, 0.0, 0.0010311936065996391, 0.01134312967259603, 0.0, 0.01211652487754576, 0.0634184068058778, 0.004640371229698376, 0.001288992008249549, 0.016499097705594226, 0.2552204176334107, 0.001288992008249549], \"xaxis\": \"x\", \"yaxis\": \"y\"}],                        {\"barmode\": \"relative\", \"legend\": {\"tracegroupgap\": 0}, \"margin\": {\"t\": 60}, \"template\": {\"data\": {\"bar\": [{\"error_x\": {\"color\": \"#2a3f5f\"}, \"error_y\": {\"color\": \"#2a3f5f\"}, \"marker\": {\"line\": {\"color\": \"#E5ECF6\", \"width\": 0.5}}, \"type\": \"bar\"}], \"barpolar\": [{\"marker\": {\"line\": {\"color\": \"#E5ECF6\", \"width\": 0.5}}, \"type\": \"barpolar\"}], \"carpet\": [{\"aaxis\": {\"endlinecolor\": \"#2a3f5f\", \"gridcolor\": \"white\", \"linecolor\": \"white\", \"minorgridcolor\": \"white\", \"startlinecolor\": \"#2a3f5f\"}, \"baxis\": {\"endlinecolor\": \"#2a3f5f\", \"gridcolor\": \"white\", \"linecolor\": \"white\", \"minorgridcolor\": \"white\", \"startlinecolor\": \"#2a3f5f\"}, \"type\": \"carpet\"}], \"choropleth\": [{\"colorbar\": {\"outlinewidth\": 0, \"ticks\": \"\"}, \"type\": \"choropleth\"}], \"contour\": [{\"colorbar\": {\"outlinewidth\": 0, \"ticks\": \"\"}, \"colorscale\": [[0.0, \"#0d0887\"], [0.1111111111111111, \"#46039f\"], [0.2222222222222222, \"#7201a8\"], [0.3333333333333333, \"#9c179e\"], [0.4444444444444444, \"#bd3786\"], [0.5555555555555556, \"#d8576b\"], [0.6666666666666666, \"#ed7953\"], [0.7777777777777778, \"#fb9f3a\"], [0.8888888888888888, \"#fdca26\"], [1.0, \"#f0f921\"]], \"type\": \"contour\"}], \"contourcarpet\": [{\"colorbar\": {\"outlinewidth\": 0, \"ticks\": \"\"}, \"type\": \"contourcarpet\"}], \"heatmap\": [{\"colorbar\": {\"outlinewidth\": 0, \"ticks\": \"\"}, \"colorscale\": [[0.0, \"#0d0887\"], [0.1111111111111111, \"#46039f\"], [0.2222222222222222, \"#7201a8\"], [0.3333333333333333, \"#9c179e\"], [0.4444444444444444, \"#bd3786\"], [0.5555555555555556, \"#d8576b\"], [0.6666666666666666, \"#ed7953\"], [0.7777777777777778, \"#fb9f3a\"], [0.8888888888888888, \"#fdca26\"], [1.0, \"#f0f921\"]], \"type\": \"heatmap\"}], \"heatmapgl\": [{\"colorbar\": {\"outlinewidth\": 0, \"ticks\": \"\"}, \"colorscale\": [[0.0, \"#0d0887\"], [0.1111111111111111, \"#46039f\"], [0.2222222222222222, \"#7201a8\"], [0.3333333333333333, \"#9c179e\"], [0.4444444444444444, \"#bd3786\"], [0.5555555555555556, \"#d8576b\"], [0.6666666666666666, \"#ed7953\"], [0.7777777777777778, \"#fb9f3a\"], [0.8888888888888888, \"#fdca26\"], [1.0, \"#f0f921\"]], \"type\": \"heatmapgl\"}], \"histogram\": [{\"marker\": {\"colorbar\": {\"outlinewidth\": 0, \"ticks\": \"\"}}, \"type\": \"histogram\"}], \"histogram2d\": [{\"colorbar\": {\"outlinewidth\": 0, \"ticks\": \"\"}, \"colorscale\": [[0.0, \"#0d0887\"], [0.1111111111111111, \"#46039f\"], [0.2222222222222222, \"#7201a8\"], [0.3333333333333333, \"#9c179e\"], [0.4444444444444444, \"#bd3786\"], [0.5555555555555556, \"#d8576b\"], [0.6666666666666666, \"#ed7953\"], [0.7777777777777778, \"#fb9f3a\"], [0.8888888888888888, \"#fdca26\"], [1.0, \"#f0f921\"]], \"type\": \"histogram2d\"}], \"histogram2dcontour\": [{\"colorbar\": {\"outlinewidth\": 0, \"ticks\": \"\"}, \"colorscale\": [[0.0, \"#0d0887\"], [0.1111111111111111, \"#46039f\"], [0.2222222222222222, \"#7201a8\"], [0.3333333333333333, \"#9c179e\"], [0.4444444444444444, \"#bd3786\"], [0.5555555555555556, \"#d8576b\"], [0.6666666666666666, \"#ed7953\"], [0.7777777777777778, \"#fb9f3a\"], [0.8888888888888888, \"#fdca26\"], [1.0, \"#f0f921\"]], \"type\": \"histogram2dcontour\"}], \"mesh3d\": [{\"colorbar\": {\"outlinewidth\": 0, \"ticks\": \"\"}, \"type\": \"mesh3d\"}], \"parcoords\": [{\"line\": {\"colorbar\": {\"outlinewidth\": 0, \"ticks\": \"\"}}, \"type\": \"parcoords\"}], \"pie\": [{\"automargin\": true, \"type\": \"pie\"}], \"scatter\": [{\"marker\": {\"colorbar\": {\"outlinewidth\": 0, \"ticks\": \"\"}}, \"type\": \"scatter\"}], \"scatter3d\": [{\"line\": {\"colorbar\": {\"outlinewidth\": 0, \"ticks\": \"\"}}, \"marker\": {\"colorbar\": {\"outlinewidth\": 0, \"ticks\": \"\"}}, \"type\": \"scatter3d\"}], \"scattercarpet\": [{\"marker\": {\"colorbar\": {\"outlinewidth\": 0, \"ticks\": \"\"}}, \"type\": \"scattercarpet\"}], \"scattergeo\": [{\"marker\": {\"colorbar\": {\"outlinewidth\": 0, \"ticks\": \"\"}}, \"type\": \"scattergeo\"}], \"scattergl\": [{\"marker\": {\"colorbar\": {\"outlinewidth\": 0, \"ticks\": \"\"}}, \"type\": \"scattergl\"}], \"scattermapbox\": [{\"marker\": {\"colorbar\": {\"outlinewidth\": 0, \"ticks\": \"\"}}, \"type\": \"scattermapbox\"}], \"scatterpolar\": [{\"marker\": {\"colorbar\": {\"outlinewidth\": 0, \"ticks\": \"\"}}, \"type\": \"scatterpolar\"}], \"scatterpolargl\": [{\"marker\": {\"colorbar\": {\"outlinewidth\": 0, \"ticks\": \"\"}}, \"type\": \"scatterpolargl\"}], \"scatterternary\": [{\"marker\": {\"colorbar\": {\"outlinewidth\": 0, \"ticks\": \"\"}}, \"type\": \"scatterternary\"}], \"surface\": [{\"colorbar\": {\"outlinewidth\": 0, \"ticks\": \"\"}, \"colorscale\": [[0.0, \"#0d0887\"], [0.1111111111111111, \"#46039f\"], [0.2222222222222222, \"#7201a8\"], [0.3333333333333333, \"#9c179e\"], [0.4444444444444444, \"#bd3786\"], [0.5555555555555556, \"#d8576b\"], [0.6666666666666666, \"#ed7953\"], [0.7777777777777778, \"#fb9f3a\"], [0.8888888888888888, \"#fdca26\"], [1.0, \"#f0f921\"]], \"type\": \"surface\"}], \"table\": [{\"cells\": {\"fill\": {\"color\": \"#EBF0F8\"}, \"line\": {\"color\": \"white\"}}, \"header\": {\"fill\": {\"color\": \"#C8D4E3\"}, \"line\": {\"color\": \"white\"}}, \"type\": \"table\"}]}, \"layout\": {\"annotationdefaults\": {\"arrowcolor\": \"#2a3f5f\", \"arrowhead\": 0, \"arrowwidth\": 1}, \"autotypenumbers\": \"strict\", \"coloraxis\": {\"colorbar\": {\"outlinewidth\": 0, \"ticks\": \"\"}}, \"colorscale\": {\"diverging\": [[0, \"#8e0152\"], [0.1, \"#c51b7d\"], [0.2, \"#de77ae\"], [0.3, \"#f1b6da\"], [0.4, \"#fde0ef\"], [0.5, \"#f7f7f7\"], [0.6, \"#e6f5d0\"], [0.7, \"#b8e186\"], [0.8, \"#7fbc41\"], [0.9, \"#4d9221\"], [1, \"#276419\"]], \"sequential\": [[0.0, \"#0d0887\"], [0.1111111111111111, \"#46039f\"], [0.2222222222222222, \"#7201a8\"], [0.3333333333333333, \"#9c179e\"], [0.4444444444444444, \"#bd3786\"], [0.5555555555555556, \"#d8576b\"], [0.6666666666666666, \"#ed7953\"], [0.7777777777777778, \"#fb9f3a\"], [0.8888888888888888, \"#fdca26\"], [1.0, \"#f0f921\"]], \"sequentialminus\": [[0.0, \"#0d0887\"], [0.1111111111111111, \"#46039f\"], [0.2222222222222222, \"#7201a8\"], [0.3333333333333333, \"#9c179e\"], [0.4444444444444444, \"#bd3786\"], [0.5555555555555556, \"#d8576b\"], [0.6666666666666666, \"#ed7953\"], [0.7777777777777778, \"#fb9f3a\"], [0.8888888888888888, \"#fdca26\"], [1.0, \"#f0f921\"]]}, \"colorway\": [\"#636efa\", \"#EF553B\", \"#00cc96\", \"#ab63fa\", \"#FFA15A\", \"#19d3f3\", \"#FF6692\", \"#B6E880\", \"#FF97FF\", \"#FECB52\"], \"font\": {\"color\": \"#2a3f5f\"}, \"geo\": {\"bgcolor\": \"white\", \"lakecolor\": \"white\", \"landcolor\": \"#E5ECF6\", \"showlakes\": true, \"showland\": true, \"subunitcolor\": \"white\"}, \"hoverlabel\": {\"align\": \"left\"}, \"hovermode\": \"closest\", \"mapbox\": {\"style\": \"light\"}, \"paper_bgcolor\": \"white\", \"plot_bgcolor\": \"#E5ECF6\", \"polar\": {\"angularaxis\": {\"gridcolor\": \"white\", \"linecolor\": \"white\", \"ticks\": \"\"}, \"bgcolor\": \"#E5ECF6\", \"radialaxis\": {\"gridcolor\": \"white\", \"linecolor\": \"white\", \"ticks\": \"\"}}, \"scene\": {\"xaxis\": {\"backgroundcolor\": \"#E5ECF6\", \"gridcolor\": \"white\", \"gridwidth\": 2, \"linecolor\": \"white\", \"showbackground\": true, \"ticks\": \"\", \"zerolinecolor\": \"white\"}, \"yaxis\": {\"backgroundcolor\": \"#E5ECF6\", \"gridcolor\": \"white\", \"gridwidth\": 2, \"linecolor\": \"white\", \"showbackground\": true, \"ticks\": \"\", \"zerolinecolor\": \"white\"}, \"zaxis\": {\"backgroundcolor\": \"#E5ECF6\", \"gridcolor\": \"white\", \"gridwidth\": 2, \"linecolor\": \"white\", \"showbackground\": true, \"ticks\": \"\", \"zerolinecolor\": \"white\"}}, \"shapedefaults\": {\"line\": {\"color\": \"#2a3f5f\"}}, \"ternary\": {\"aaxis\": {\"gridcolor\": \"white\", \"linecolor\": \"white\", \"ticks\": \"\"}, \"baxis\": {\"gridcolor\": \"white\", \"linecolor\": \"white\", \"ticks\": \"\"}, \"bgcolor\": \"#E5ECF6\", \"caxis\": {\"gridcolor\": \"white\", \"linecolor\": \"white\", \"ticks\": \"\"}}, \"title\": {\"x\": 0.05}, \"xaxis\": {\"automargin\": true, \"gridcolor\": \"white\", \"linecolor\": \"white\", \"ticks\": \"\", \"title\": {\"standoff\": 15}, \"zerolinecolor\": \"white\", \"zerolinewidth\": 2}, \"yaxis\": {\"automargin\": true, \"gridcolor\": \"white\", \"linecolor\": \"white\", \"ticks\": \"\", \"title\": {\"standoff\": 15}, \"zerolinecolor\": \"white\", \"zerolinewidth\": 2}}}, \"xaxis\": {\"anchor\": \"y\", \"domain\": [0.0, 1.0], \"title\": {\"text\": \"x\"}}, \"yaxis\": {\"anchor\": \"x\", \"domain\": [0.0, 1.0], \"title\": {\"text\": \"probability density\"}}},                        {\"responsive\": true}                    ).then(function(){\n",
       "                            \n",
       "var gd = document.getElementById('2499fd88-4e8e-44bb-85fd-efc47e3106f2');\n",
       "var x = new MutationObserver(function (mutations, observer) {{\n",
       "        var display = window.getComputedStyle(gd).display;\n",
       "        if (!display || display === 'none') {{\n",
       "            console.log([gd, 'removed!']);\n",
       "            Plotly.purge(gd);\n",
       "            observer.disconnect();\n",
       "        }}\n",
       "}});\n",
       "\n",
       "// Listen for the removal of the full notebook cells\n",
       "var notebookContainer = gd.closest('#notebook-container');\n",
       "if (notebookContainer) {{\n",
       "    x.observe(notebookContainer, {childList: true});\n",
       "}}\n",
       "\n",
       "// Listen for the clearing of the current output cell\n",
       "var outputEl = gd.closest('.output');\n",
       "if (outputEl) {{\n",
       "    x.observe(outputEl, {childList: true});\n",
       "}}\n",
       "\n",
       "                        })                };                });            </script>        </div>"
      ]
     },
     "metadata": {},
     "output_type": "display_data"
    }
   ],
   "source": []
  },
  {
   "cell_type": "code",
   "execution_count": 23,
   "metadata": {},
   "outputs": [
    {
     "data": {
      "application/vnd.plotly.v1+json": {
       "config": {
        "plotlyServerURL": "https://plot.ly"
       },
       "data": [
        {
         "marker": {
          "color": "rgb(73, 157, 222)"
         },
         "mode": "markers",
         "type": "scatter",
         "x": [
          0,
          5,
          5,
          6,
          4,
          4,
          30,
          3,
          18,
          64,
          102,
          47,
          49,
          39,
          35,
          246,
          231,
          44,
          3879,
          1356,
          990,
          1718,
          628,
          306,
          0,
          18,
          99,
          76,
          72,
          47
         ],
         "y": [
          -0.02318711460845185,
          -0.10482527379542433,
          -0.007464676298533086,
          0.07360588247436478,
          -0.022189279390729896,
          -0.0003535518679914154,
          0.16320284530454346,
          -0.029536083673011714,
          0.5333758815029529,
          0.2557243332910836,
          -0.1752407646528419,
          0.01066874626692175,
          0.02930185831690938,
          0.16322897506664075,
          0.3993728122315999,
          0.3950050583677437,
          0.9965087693252643,
          0.47986126111842015,
          0.3885129757468908,
          -0.059392773995687737,
          -0.5808845232590959,
          -0.5808652393636803,
          0.14639256787857413,
          -0.6154141008839012,
          0.32833177366990884,
          -0.11799509058284577,
          -0.16214050501672164,
          0.0366306777965246,
          0.03526111899331575,
          0.08481165392182707
         ]
        }
       ],
       "layout": {
        "plot_bgcolor": "rgb(84, 85, 87)",
        "template": {
         "data": {
          "bar": [
           {
            "error_x": {
             "color": "#2a3f5f"
            },
            "error_y": {
             "color": "#2a3f5f"
            },
            "marker": {
             "line": {
              "color": "#E5ECF6",
              "width": 0.5
             }
            },
            "type": "bar"
           }
          ],
          "barpolar": [
           {
            "marker": {
             "line": {
              "color": "#E5ECF6",
              "width": 0.5
             }
            },
            "type": "barpolar"
           }
          ],
          "carpet": [
           {
            "aaxis": {
             "endlinecolor": "#2a3f5f",
             "gridcolor": "white",
             "linecolor": "white",
             "minorgridcolor": "white",
             "startlinecolor": "#2a3f5f"
            },
            "baxis": {
             "endlinecolor": "#2a3f5f",
             "gridcolor": "white",
             "linecolor": "white",
             "minorgridcolor": "white",
             "startlinecolor": "#2a3f5f"
            },
            "type": "carpet"
           }
          ],
          "choropleth": [
           {
            "colorbar": {
             "outlinewidth": 0,
             "ticks": ""
            },
            "type": "choropleth"
           }
          ],
          "contour": [
           {
            "colorbar": {
             "outlinewidth": 0,
             "ticks": ""
            },
            "colorscale": [
             [
              0,
              "#0d0887"
             ],
             [
              0.1111111111111111,
              "#46039f"
             ],
             [
              0.2222222222222222,
              "#7201a8"
             ],
             [
              0.3333333333333333,
              "#9c179e"
             ],
             [
              0.4444444444444444,
              "#bd3786"
             ],
             [
              0.5555555555555556,
              "#d8576b"
             ],
             [
              0.6666666666666666,
              "#ed7953"
             ],
             [
              0.7777777777777778,
              "#fb9f3a"
             ],
             [
              0.8888888888888888,
              "#fdca26"
             ],
             [
              1,
              "#f0f921"
             ]
            ],
            "type": "contour"
           }
          ],
          "contourcarpet": [
           {
            "colorbar": {
             "outlinewidth": 0,
             "ticks": ""
            },
            "type": "contourcarpet"
           }
          ],
          "heatmap": [
           {
            "colorbar": {
             "outlinewidth": 0,
             "ticks": ""
            },
            "colorscale": [
             [
              0,
              "#0d0887"
             ],
             [
              0.1111111111111111,
              "#46039f"
             ],
             [
              0.2222222222222222,
              "#7201a8"
             ],
             [
              0.3333333333333333,
              "#9c179e"
             ],
             [
              0.4444444444444444,
              "#bd3786"
             ],
             [
              0.5555555555555556,
              "#d8576b"
             ],
             [
              0.6666666666666666,
              "#ed7953"
             ],
             [
              0.7777777777777778,
              "#fb9f3a"
             ],
             [
              0.8888888888888888,
              "#fdca26"
             ],
             [
              1,
              "#f0f921"
             ]
            ],
            "type": "heatmap"
           }
          ],
          "heatmapgl": [
           {
            "colorbar": {
             "outlinewidth": 0,
             "ticks": ""
            },
            "colorscale": [
             [
              0,
              "#0d0887"
             ],
             [
              0.1111111111111111,
              "#46039f"
             ],
             [
              0.2222222222222222,
              "#7201a8"
             ],
             [
              0.3333333333333333,
              "#9c179e"
             ],
             [
              0.4444444444444444,
              "#bd3786"
             ],
             [
              0.5555555555555556,
              "#d8576b"
             ],
             [
              0.6666666666666666,
              "#ed7953"
             ],
             [
              0.7777777777777778,
              "#fb9f3a"
             ],
             [
              0.8888888888888888,
              "#fdca26"
             ],
             [
              1,
              "#f0f921"
             ]
            ],
            "type": "heatmapgl"
           }
          ],
          "histogram": [
           {
            "marker": {
             "colorbar": {
              "outlinewidth": 0,
              "ticks": ""
             }
            },
            "type": "histogram"
           }
          ],
          "histogram2d": [
           {
            "colorbar": {
             "outlinewidth": 0,
             "ticks": ""
            },
            "colorscale": [
             [
              0,
              "#0d0887"
             ],
             [
              0.1111111111111111,
              "#46039f"
             ],
             [
              0.2222222222222222,
              "#7201a8"
             ],
             [
              0.3333333333333333,
              "#9c179e"
             ],
             [
              0.4444444444444444,
              "#bd3786"
             ],
             [
              0.5555555555555556,
              "#d8576b"
             ],
             [
              0.6666666666666666,
              "#ed7953"
             ],
             [
              0.7777777777777778,
              "#fb9f3a"
             ],
             [
              0.8888888888888888,
              "#fdca26"
             ],
             [
              1,
              "#f0f921"
             ]
            ],
            "type": "histogram2d"
           }
          ],
          "histogram2dcontour": [
           {
            "colorbar": {
             "outlinewidth": 0,
             "ticks": ""
            },
            "colorscale": [
             [
              0,
              "#0d0887"
             ],
             [
              0.1111111111111111,
              "#46039f"
             ],
             [
              0.2222222222222222,
              "#7201a8"
             ],
             [
              0.3333333333333333,
              "#9c179e"
             ],
             [
              0.4444444444444444,
              "#bd3786"
             ],
             [
              0.5555555555555556,
              "#d8576b"
             ],
             [
              0.6666666666666666,
              "#ed7953"
             ],
             [
              0.7777777777777778,
              "#fb9f3a"
             ],
             [
              0.8888888888888888,
              "#fdca26"
             ],
             [
              1,
              "#f0f921"
             ]
            ],
            "type": "histogram2dcontour"
           }
          ],
          "mesh3d": [
           {
            "colorbar": {
             "outlinewidth": 0,
             "ticks": ""
            },
            "type": "mesh3d"
           }
          ],
          "parcoords": [
           {
            "line": {
             "colorbar": {
              "outlinewidth": 0,
              "ticks": ""
             }
            },
            "type": "parcoords"
           }
          ],
          "pie": [
           {
            "automargin": true,
            "type": "pie"
           }
          ],
          "scatter": [
           {
            "marker": {
             "colorbar": {
              "outlinewidth": 0,
              "ticks": ""
             }
            },
            "type": "scatter"
           }
          ],
          "scatter3d": [
           {
            "line": {
             "colorbar": {
              "outlinewidth": 0,
              "ticks": ""
             }
            },
            "marker": {
             "colorbar": {
              "outlinewidth": 0,
              "ticks": ""
             }
            },
            "type": "scatter3d"
           }
          ],
          "scattercarpet": [
           {
            "marker": {
             "colorbar": {
              "outlinewidth": 0,
              "ticks": ""
             }
            },
            "type": "scattercarpet"
           }
          ],
          "scattergeo": [
           {
            "marker": {
             "colorbar": {
              "outlinewidth": 0,
              "ticks": ""
             }
            },
            "type": "scattergeo"
           }
          ],
          "scattergl": [
           {
            "marker": {
             "colorbar": {
              "outlinewidth": 0,
              "ticks": ""
             }
            },
            "type": "scattergl"
           }
          ],
          "scattermapbox": [
           {
            "marker": {
             "colorbar": {
              "outlinewidth": 0,
              "ticks": ""
             }
            },
            "type": "scattermapbox"
           }
          ],
          "scatterpolar": [
           {
            "marker": {
             "colorbar": {
              "outlinewidth": 0,
              "ticks": ""
             }
            },
            "type": "scatterpolar"
           }
          ],
          "scatterpolargl": [
           {
            "marker": {
             "colorbar": {
              "outlinewidth": 0,
              "ticks": ""
             }
            },
            "type": "scatterpolargl"
           }
          ],
          "scatterternary": [
           {
            "marker": {
             "colorbar": {
              "outlinewidth": 0,
              "ticks": ""
             }
            },
            "type": "scatterternary"
           }
          ],
          "surface": [
           {
            "colorbar": {
             "outlinewidth": 0,
             "ticks": ""
            },
            "colorscale": [
             [
              0,
              "#0d0887"
             ],
             [
              0.1111111111111111,
              "#46039f"
             ],
             [
              0.2222222222222222,
              "#7201a8"
             ],
             [
              0.3333333333333333,
              "#9c179e"
             ],
             [
              0.4444444444444444,
              "#bd3786"
             ],
             [
              0.5555555555555556,
              "#d8576b"
             ],
             [
              0.6666666666666666,
              "#ed7953"
             ],
             [
              0.7777777777777778,
              "#fb9f3a"
             ],
             [
              0.8888888888888888,
              "#fdca26"
             ],
             [
              1,
              "#f0f921"
             ]
            ],
            "type": "surface"
           }
          ],
          "table": [
           {
            "cells": {
             "fill": {
              "color": "#EBF0F8"
             },
             "line": {
              "color": "white"
             }
            },
            "header": {
             "fill": {
              "color": "#C8D4E3"
             },
             "line": {
              "color": "white"
             }
            },
            "type": "table"
           }
          ]
         },
         "layout": {
          "annotationdefaults": {
           "arrowcolor": "#2a3f5f",
           "arrowhead": 0,
           "arrowwidth": 1
          },
          "autotypenumbers": "strict",
          "coloraxis": {
           "colorbar": {
            "outlinewidth": 0,
            "ticks": ""
           }
          },
          "colorscale": {
           "diverging": [
            [
             0,
             "#8e0152"
            ],
            [
             0.1,
             "#c51b7d"
            ],
            [
             0.2,
             "#de77ae"
            ],
            [
             0.3,
             "#f1b6da"
            ],
            [
             0.4,
             "#fde0ef"
            ],
            [
             0.5,
             "#f7f7f7"
            ],
            [
             0.6,
             "#e6f5d0"
            ],
            [
             0.7,
             "#b8e186"
            ],
            [
             0.8,
             "#7fbc41"
            ],
            [
             0.9,
             "#4d9221"
            ],
            [
             1,
             "#276419"
            ]
           ],
           "sequential": [
            [
             0,
             "#0d0887"
            ],
            [
             0.1111111111111111,
             "#46039f"
            ],
            [
             0.2222222222222222,
             "#7201a8"
            ],
            [
             0.3333333333333333,
             "#9c179e"
            ],
            [
             0.4444444444444444,
             "#bd3786"
            ],
            [
             0.5555555555555556,
             "#d8576b"
            ],
            [
             0.6666666666666666,
             "#ed7953"
            ],
            [
             0.7777777777777778,
             "#fb9f3a"
            ],
            [
             0.8888888888888888,
             "#fdca26"
            ],
            [
             1,
             "#f0f921"
            ]
           ],
           "sequentialminus": [
            [
             0,
             "#0d0887"
            ],
            [
             0.1111111111111111,
             "#46039f"
            ],
            [
             0.2222222222222222,
             "#7201a8"
            ],
            [
             0.3333333333333333,
             "#9c179e"
            ],
            [
             0.4444444444444444,
             "#bd3786"
            ],
            [
             0.5555555555555556,
             "#d8576b"
            ],
            [
             0.6666666666666666,
             "#ed7953"
            ],
            [
             0.7777777777777778,
             "#fb9f3a"
            ],
            [
             0.8888888888888888,
             "#fdca26"
            ],
            [
             1,
             "#f0f921"
            ]
           ]
          },
          "colorway": [
           "#636efa",
           "#EF553B",
           "#00cc96",
           "#ab63fa",
           "#FFA15A",
           "#19d3f3",
           "#FF6692",
           "#B6E880",
           "#FF97FF",
           "#FECB52"
          ],
          "font": {
           "color": "#2a3f5f"
          },
          "geo": {
           "bgcolor": "white",
           "lakecolor": "white",
           "landcolor": "#E5ECF6",
           "showlakes": true,
           "showland": true,
           "subunitcolor": "white"
          },
          "hoverlabel": {
           "align": "left"
          },
          "hovermode": "closest",
          "mapbox": {
           "style": "light"
          },
          "paper_bgcolor": "white",
          "plot_bgcolor": "#E5ECF6",
          "polar": {
           "angularaxis": {
            "gridcolor": "white",
            "linecolor": "white",
            "ticks": ""
           },
           "bgcolor": "#E5ECF6",
           "radialaxis": {
            "gridcolor": "white",
            "linecolor": "white",
            "ticks": ""
           }
          },
          "scene": {
           "xaxis": {
            "backgroundcolor": "#E5ECF6",
            "gridcolor": "white",
            "gridwidth": 2,
            "linecolor": "white",
            "showbackground": true,
            "ticks": "",
            "zerolinecolor": "white"
           },
           "yaxis": {
            "backgroundcolor": "#E5ECF6",
            "gridcolor": "white",
            "gridwidth": 2,
            "linecolor": "white",
            "showbackground": true,
            "ticks": "",
            "zerolinecolor": "white"
           },
           "zaxis": {
            "backgroundcolor": "#E5ECF6",
            "gridcolor": "white",
            "gridwidth": 2,
            "linecolor": "white",
            "showbackground": true,
            "ticks": "",
            "zerolinecolor": "white"
           }
          },
          "shapedefaults": {
           "line": {
            "color": "#2a3f5f"
           }
          },
          "ternary": {
           "aaxis": {
            "gridcolor": "white",
            "linecolor": "white",
            "ticks": ""
           },
           "baxis": {
            "gridcolor": "white",
            "linecolor": "white",
            "ticks": ""
           },
           "bgcolor": "#E5ECF6",
           "caxis": {
            "gridcolor": "white",
            "linecolor": "white",
            "ticks": ""
           }
          },
          "title": {
           "x": 0.05
          },
          "xaxis": {
           "automargin": true,
           "gridcolor": "white",
           "linecolor": "white",
           "ticks": "",
           "title": {
            "standoff": 15
           },
           "zerolinecolor": "white",
           "zerolinewidth": 2
          },
          "yaxis": {
           "automargin": true,
           "gridcolor": "white",
           "linecolor": "white",
           "ticks": "",
           "title": {
            "standoff": 15
           },
           "zerolinecolor": "white",
           "zerolinewidth": 2
          }
         }
        },
        "title": {
         "text": "Early Mentions vs. Daily Stock Change"
        },
        "xaxis": {
         "gridcolor": "rgb(144, 145, 142)",
         "title": {
          "text": "Mentions"
         }
        },
        "yaxis": {
         "gridcolor": "rgb(144, 145, 142)",
         "title": {
          "text": "Growth"
         }
        }
       }
      },
      "text/html": [
       "<div>                            <div id=\"d12c43ef-ea90-4234-9c8b-d5fdc525a306\" class=\"plotly-graph-div\" style=\"height:525px; width:100%;\"></div>            <script type=\"text/javascript\">                require([\"plotly\"], function(Plotly) {                    window.PLOTLYENV=window.PLOTLYENV || {};                                    if (document.getElementById(\"d12c43ef-ea90-4234-9c8b-d5fdc525a306\")) {                    Plotly.newPlot(                        \"d12c43ef-ea90-4234-9c8b-d5fdc525a306\",                        [{\"marker\": {\"color\": \"rgb(73, 157, 222)\"}, \"mode\": \"markers\", \"type\": \"scatter\", \"x\": [0.0, 5.0, 5.0, 6.0, 4.0, 4.0, 30.0, 3.0, 18.0, 64.0, 102.0, 47.0, 49.0, 39.0, 35.0, 246.0, 231.0, 44.0, 3879.0, 1356.0, 990.0, 1718.0, 628.0, 306.0, 0.0, 18.0, 99.0, 76.0, 72.0, 47.0], \"y\": [-0.02318711460845185, -0.10482527379542433, -0.007464676298533086, 0.07360588247436478, -0.022189279390729896, -0.0003535518679914154, 0.16320284530454346, -0.029536083673011714, 0.5333758815029529, 0.2557243332910836, -0.1752407646528419, 0.01066874626692175, 0.02930185831690938, 0.16322897506664075, 0.3993728122315999, 0.3950050583677437, 0.9965087693252643, 0.47986126111842015, 0.3885129757468908, -0.059392773995687737, -0.5808845232590959, -0.5808652393636803, 0.14639256787857413, -0.6154141008839012, 0.32833177366990884, -0.11799509058284577, -0.16214050501672164, 0.0366306777965246, 0.03526111899331575, 0.08481165392182707]}],                        {\"plot_bgcolor\": \"rgb(84, 85, 87)\", \"template\": {\"data\": {\"bar\": [{\"error_x\": {\"color\": \"#2a3f5f\"}, \"error_y\": {\"color\": \"#2a3f5f\"}, \"marker\": {\"line\": {\"color\": \"#E5ECF6\", \"width\": 0.5}}, \"type\": \"bar\"}], \"barpolar\": [{\"marker\": {\"line\": {\"color\": \"#E5ECF6\", \"width\": 0.5}}, \"type\": \"barpolar\"}], \"carpet\": [{\"aaxis\": {\"endlinecolor\": \"#2a3f5f\", \"gridcolor\": \"white\", \"linecolor\": \"white\", \"minorgridcolor\": \"white\", \"startlinecolor\": \"#2a3f5f\"}, \"baxis\": {\"endlinecolor\": \"#2a3f5f\", \"gridcolor\": \"white\", \"linecolor\": \"white\", \"minorgridcolor\": \"white\", \"startlinecolor\": \"#2a3f5f\"}, \"type\": \"carpet\"}], \"choropleth\": [{\"colorbar\": {\"outlinewidth\": 0, \"ticks\": \"\"}, \"type\": \"choropleth\"}], \"contour\": [{\"colorbar\": {\"outlinewidth\": 0, \"ticks\": \"\"}, \"colorscale\": [[0.0, \"#0d0887\"], [0.1111111111111111, \"#46039f\"], [0.2222222222222222, \"#7201a8\"], [0.3333333333333333, \"#9c179e\"], [0.4444444444444444, \"#bd3786\"], [0.5555555555555556, \"#d8576b\"], [0.6666666666666666, \"#ed7953\"], [0.7777777777777778, \"#fb9f3a\"], [0.8888888888888888, \"#fdca26\"], [1.0, \"#f0f921\"]], \"type\": \"contour\"}], \"contourcarpet\": [{\"colorbar\": {\"outlinewidth\": 0, \"ticks\": \"\"}, \"type\": \"contourcarpet\"}], \"heatmap\": [{\"colorbar\": {\"outlinewidth\": 0, \"ticks\": \"\"}, \"colorscale\": [[0.0, \"#0d0887\"], [0.1111111111111111, \"#46039f\"], [0.2222222222222222, \"#7201a8\"], [0.3333333333333333, \"#9c179e\"], [0.4444444444444444, \"#bd3786\"], [0.5555555555555556, \"#d8576b\"], [0.6666666666666666, \"#ed7953\"], [0.7777777777777778, \"#fb9f3a\"], [0.8888888888888888, \"#fdca26\"], [1.0, \"#f0f921\"]], \"type\": \"heatmap\"}], \"heatmapgl\": [{\"colorbar\": {\"outlinewidth\": 0, \"ticks\": \"\"}, \"colorscale\": [[0.0, \"#0d0887\"], [0.1111111111111111, \"#46039f\"], [0.2222222222222222, \"#7201a8\"], [0.3333333333333333, \"#9c179e\"], [0.4444444444444444, \"#bd3786\"], [0.5555555555555556, \"#d8576b\"], [0.6666666666666666, \"#ed7953\"], [0.7777777777777778, \"#fb9f3a\"], [0.8888888888888888, \"#fdca26\"], [1.0, \"#f0f921\"]], \"type\": \"heatmapgl\"}], \"histogram\": [{\"marker\": {\"colorbar\": {\"outlinewidth\": 0, \"ticks\": \"\"}}, \"type\": \"histogram\"}], \"histogram2d\": [{\"colorbar\": {\"outlinewidth\": 0, \"ticks\": \"\"}, \"colorscale\": [[0.0, \"#0d0887\"], [0.1111111111111111, \"#46039f\"], [0.2222222222222222, \"#7201a8\"], [0.3333333333333333, \"#9c179e\"], [0.4444444444444444, \"#bd3786\"], [0.5555555555555556, \"#d8576b\"], [0.6666666666666666, \"#ed7953\"], [0.7777777777777778, \"#fb9f3a\"], [0.8888888888888888, \"#fdca26\"], [1.0, \"#f0f921\"]], \"type\": \"histogram2d\"}], \"histogram2dcontour\": [{\"colorbar\": {\"outlinewidth\": 0, \"ticks\": \"\"}, \"colorscale\": [[0.0, \"#0d0887\"], [0.1111111111111111, \"#46039f\"], [0.2222222222222222, \"#7201a8\"], [0.3333333333333333, \"#9c179e\"], [0.4444444444444444, \"#bd3786\"], [0.5555555555555556, \"#d8576b\"], [0.6666666666666666, \"#ed7953\"], [0.7777777777777778, \"#fb9f3a\"], [0.8888888888888888, \"#fdca26\"], [1.0, \"#f0f921\"]], \"type\": \"histogram2dcontour\"}], \"mesh3d\": [{\"colorbar\": {\"outlinewidth\": 0, \"ticks\": \"\"}, \"type\": \"mesh3d\"}], \"parcoords\": [{\"line\": {\"colorbar\": {\"outlinewidth\": 0, \"ticks\": \"\"}}, \"type\": \"parcoords\"}], \"pie\": [{\"automargin\": true, \"type\": \"pie\"}], \"scatter\": [{\"marker\": {\"colorbar\": {\"outlinewidth\": 0, \"ticks\": \"\"}}, \"type\": \"scatter\"}], \"scatter3d\": [{\"line\": {\"colorbar\": {\"outlinewidth\": 0, \"ticks\": \"\"}}, \"marker\": {\"colorbar\": {\"outlinewidth\": 0, \"ticks\": \"\"}}, \"type\": \"scatter3d\"}], \"scattercarpet\": [{\"marker\": {\"colorbar\": {\"outlinewidth\": 0, \"ticks\": \"\"}}, \"type\": \"scattercarpet\"}], \"scattergeo\": [{\"marker\": {\"colorbar\": {\"outlinewidth\": 0, \"ticks\": \"\"}}, \"type\": \"scattergeo\"}], \"scattergl\": [{\"marker\": {\"colorbar\": {\"outlinewidth\": 0, \"ticks\": \"\"}}, \"type\": \"scattergl\"}], \"scattermapbox\": [{\"marker\": {\"colorbar\": {\"outlinewidth\": 0, \"ticks\": \"\"}}, \"type\": \"scattermapbox\"}], \"scatterpolar\": [{\"marker\": {\"colorbar\": {\"outlinewidth\": 0, \"ticks\": \"\"}}, \"type\": \"scatterpolar\"}], \"scatterpolargl\": [{\"marker\": {\"colorbar\": {\"outlinewidth\": 0, \"ticks\": \"\"}}, \"type\": \"scatterpolargl\"}], \"scatterternary\": [{\"marker\": {\"colorbar\": {\"outlinewidth\": 0, \"ticks\": \"\"}}, \"type\": \"scatterternary\"}], \"surface\": [{\"colorbar\": {\"outlinewidth\": 0, \"ticks\": \"\"}, \"colorscale\": [[0.0, \"#0d0887\"], [0.1111111111111111, \"#46039f\"], [0.2222222222222222, \"#7201a8\"], [0.3333333333333333, \"#9c179e\"], [0.4444444444444444, \"#bd3786\"], [0.5555555555555556, \"#d8576b\"], [0.6666666666666666, \"#ed7953\"], [0.7777777777777778, \"#fb9f3a\"], [0.8888888888888888, \"#fdca26\"], [1.0, \"#f0f921\"]], \"type\": \"surface\"}], \"table\": [{\"cells\": {\"fill\": {\"color\": \"#EBF0F8\"}, \"line\": {\"color\": \"white\"}}, \"header\": {\"fill\": {\"color\": \"#C8D4E3\"}, \"line\": {\"color\": \"white\"}}, \"type\": \"table\"}]}, \"layout\": {\"annotationdefaults\": {\"arrowcolor\": \"#2a3f5f\", \"arrowhead\": 0, \"arrowwidth\": 1}, \"autotypenumbers\": \"strict\", \"coloraxis\": {\"colorbar\": {\"outlinewidth\": 0, \"ticks\": \"\"}}, \"colorscale\": {\"diverging\": [[0, \"#8e0152\"], [0.1, \"#c51b7d\"], [0.2, \"#de77ae\"], [0.3, \"#f1b6da\"], [0.4, \"#fde0ef\"], [0.5, \"#f7f7f7\"], [0.6, \"#e6f5d0\"], [0.7, \"#b8e186\"], [0.8, \"#7fbc41\"], [0.9, \"#4d9221\"], [1, \"#276419\"]], \"sequential\": [[0.0, \"#0d0887\"], [0.1111111111111111, \"#46039f\"], [0.2222222222222222, \"#7201a8\"], [0.3333333333333333, \"#9c179e\"], [0.4444444444444444, \"#bd3786\"], [0.5555555555555556, \"#d8576b\"], [0.6666666666666666, \"#ed7953\"], [0.7777777777777778, \"#fb9f3a\"], [0.8888888888888888, \"#fdca26\"], [1.0, \"#f0f921\"]], \"sequentialminus\": [[0.0, \"#0d0887\"], [0.1111111111111111, \"#46039f\"], [0.2222222222222222, \"#7201a8\"], [0.3333333333333333, \"#9c179e\"], [0.4444444444444444, \"#bd3786\"], [0.5555555555555556, \"#d8576b\"], [0.6666666666666666, \"#ed7953\"], [0.7777777777777778, \"#fb9f3a\"], [0.8888888888888888, \"#fdca26\"], [1.0, \"#f0f921\"]]}, \"colorway\": [\"#636efa\", \"#EF553B\", \"#00cc96\", \"#ab63fa\", \"#FFA15A\", \"#19d3f3\", \"#FF6692\", \"#B6E880\", \"#FF97FF\", \"#FECB52\"], \"font\": {\"color\": \"#2a3f5f\"}, \"geo\": {\"bgcolor\": \"white\", \"lakecolor\": \"white\", \"landcolor\": \"#E5ECF6\", \"showlakes\": true, \"showland\": true, \"subunitcolor\": \"white\"}, \"hoverlabel\": {\"align\": \"left\"}, \"hovermode\": \"closest\", \"mapbox\": {\"style\": \"light\"}, \"paper_bgcolor\": \"white\", \"plot_bgcolor\": \"#E5ECF6\", \"polar\": {\"angularaxis\": {\"gridcolor\": \"white\", \"linecolor\": \"white\", \"ticks\": \"\"}, \"bgcolor\": \"#E5ECF6\", \"radialaxis\": {\"gridcolor\": \"white\", \"linecolor\": \"white\", \"ticks\": \"\"}}, \"scene\": {\"xaxis\": {\"backgroundcolor\": \"#E5ECF6\", \"gridcolor\": \"white\", \"gridwidth\": 2, \"linecolor\": \"white\", \"showbackground\": true, \"ticks\": \"\", \"zerolinecolor\": \"white\"}, \"yaxis\": {\"backgroundcolor\": \"#E5ECF6\", \"gridcolor\": \"white\", \"gridwidth\": 2, \"linecolor\": \"white\", \"showbackground\": true, \"ticks\": \"\", \"zerolinecolor\": \"white\"}, \"zaxis\": {\"backgroundcolor\": \"#E5ECF6\", \"gridcolor\": \"white\", \"gridwidth\": 2, \"linecolor\": \"white\", \"showbackground\": true, \"ticks\": \"\", \"zerolinecolor\": \"white\"}}, \"shapedefaults\": {\"line\": {\"color\": \"#2a3f5f\"}}, \"ternary\": {\"aaxis\": {\"gridcolor\": \"white\", \"linecolor\": \"white\", \"ticks\": \"\"}, \"baxis\": {\"gridcolor\": \"white\", \"linecolor\": \"white\", \"ticks\": \"\"}, \"bgcolor\": \"#E5ECF6\", \"caxis\": {\"gridcolor\": \"white\", \"linecolor\": \"white\", \"ticks\": \"\"}}, \"title\": {\"x\": 0.05}, \"xaxis\": {\"automargin\": true, \"gridcolor\": \"white\", \"linecolor\": \"white\", \"ticks\": \"\", \"title\": {\"standoff\": 15}, \"zerolinecolor\": \"white\", \"zerolinewidth\": 2}, \"yaxis\": {\"automargin\": true, \"gridcolor\": \"white\", \"linecolor\": \"white\", \"ticks\": \"\", \"title\": {\"standoff\": 15}, \"zerolinecolor\": \"white\", \"zerolinewidth\": 2}}}, \"title\": {\"text\": \"Early Mentions vs. Daily Stock Change\"}, \"xaxis\": {\"gridcolor\": \"rgb(144, 145, 142)\", \"title\": {\"text\": \"Mentions\"}}, \"yaxis\": {\"gridcolor\": \"rgb(144, 145, 142)\", \"title\": {\"text\": \"Growth\"}}},                        {\"responsive\": true}                    ).then(function(){\n",
       "                            \n",
       "var gd = document.getElementById('d12c43ef-ea90-4234-9c8b-d5fdc525a306');\n",
       "var x = new MutationObserver(function (mutations, observer) {{\n",
       "        var display = window.getComputedStyle(gd).display;\n",
       "        if (!display || display === 'none') {{\n",
       "            console.log([gd, 'removed!']);\n",
       "            Plotly.purge(gd);\n",
       "            observer.disconnect();\n",
       "        }}\n",
       "}});\n",
       "\n",
       "// Listen for the removal of the full notebook cells\n",
       "var notebookContainer = gd.closest('#notebook-container');\n",
       "if (notebookContainer) {{\n",
       "    x.observe(notebookContainer, {childList: true});\n",
       "}}\n",
       "\n",
       "// Listen for the clearing of the current output cell\n",
       "var outputEl = gd.closest('.output');\n",
       "if (outputEl) {{\n",
       "    x.observe(outputEl, {childList: true});\n",
       "}}\n",
       "\n",
       "                        })                };                });            </script>        </div>"
      ]
     },
     "metadata": {},
     "output_type": "display_data"
    }
   ],
   "source": [
    "fig = go.Figure(data=go.Scatter(\n",
    "    x=growth_vs_hr['count'],\n",
    "    y=growth_vs_hr['percent change'],\n",
    "    mode='markers',\n",
    "    marker=dict(color='rgb(73, 157, 222)',\n",
    "               )\n",
    "))\n",
    "fig.update_layout(\n",
    "    title_text=\"Early Mentions vs. Daily Stock Change\")\n",
    "fig.update_xaxes(title_text=\"Mentions\")\n",
    "fig.update_yaxes(title_text=\"Growth\")\n",
    "fig.layout.plot_bgcolor='rgb(84, 85, 87)'\n",
    "fig.layout.yaxis.gridcolor='rgb(144, 145, 142)'\n",
    "fig.layout.xaxis.gridcolor='rgb(144, 145, 142)'\n",
    "fig.show()\n",
    "fig.write_html('Early Mentions vs Daily Stock Change.html')\n",
    "fig.write_image(\"Early Mentions vs Daily Stock Change.png\")"
   ]
  },
  {
   "cell_type": "code",
   "execution_count": 24,
   "metadata": {
    "scrolled": true
   },
   "outputs": [
    {
     "name": "stderr",
     "output_type": "stream",
     "text": [
      "/home/daniel/anaconda3/lib/python3.7/site-packages/ipykernel_launcher.py:13: SettingWithCopyWarning:\n",
      "\n",
      "\n",
      "A value is trying to be set on a copy of a slice from a DataFrame.\n",
      "Try using .loc[row_indexer,col_indexer] = value instead\n",
      "\n",
      "See the caveats in the documentation: https://pandas.pydata.org/pandas-docs/stable/user_guide/indexing.html#returning-a-view-versus-a-copy\n",
      "\n",
      "/home/daniel/anaconda3/lib/python3.7/site-packages/ipykernel_launcher.py:14: SettingWithCopyWarning:\n",
      "\n",
      "\n",
      "A value is trying to be set on a copy of a slice from a DataFrame.\n",
      "Try using .loc[row_indexer,col_indexer] = value instead\n",
      "\n",
      "See the caveats in the documentation: https://pandas.pydata.org/pandas-docs/stable/user_guide/indexing.html#returning-a-view-versus-a-copy\n",
      "\n"
     ]
    }
   ],
   "source": [
    "### I cannot reject the null hypothesis. ###\n",
    "### The amount of mentions in the morning does not gave a positive or negative impact on the closing price of a stock###\n",
    "### HO: The number of mentions in the last two hours of trading has no influence of opening prices. ###\n",
    "### H1: The number of mentions in the last two hours of trading influences the opening price next day ###\n",
    "\n",
    "\n",
    "last_hours = gmefull[(gmefull['time'] == '14:00:00') | ((gmefull['time'] == '16:00:00'))]\n",
    "last_hours = last_hours.groupby('day').sum()\n",
    "last_hours = last_hours[['count']]\n",
    "\n",
    "\n",
    "gme_daily_shifted = gme_daily[['date' , '1. open', '4. close' ]]\n",
    "gme_daily_shifted['4. close'] = gme_daily_shifted['4. close'].shift(periods = 1)\n",
    "gme_daily_shifted['percent change'] = (gme_daily_shifted['1. open'] - gme_daily_shifted['4. close']) / gme_daily_shifted['4. close']\n",
    "gme_daily_shifted = gme_daily_shifted.rename(columns = {'date':'day'}).astype(str).set_index('day')\n",
    "gme_daily_joined = last_hours.join(gme_daily_shifted, how='left')\n"
   ]
  },
  {
   "cell_type": "code",
   "execution_count": 25,
   "metadata": {
    "scrolled": true
   },
   "outputs": [
    {
     "data": {
      "text/plain": [
       "SpearmanrResult(correlation=-0.0035603027138667903, pvalue=0.9851027762191317)"
      ]
     },
     "execution_count": 25,
     "metadata": {},
     "output_type": "execute_result"
    }
   ],
   "source": [
    "s_corr2 = stats.spearmanr(gme_daily_joined['count'], gme_daily_joined['percent change'])\n",
    "s_corr2\n",
    "\n",
    "### THe p-value HEAVILY states that we cannot reject the null-hypothesis ### "
   ]
  }
 ],
 "metadata": {
  "kernelspec": {
   "display_name": "Python 3",
   "language": "python",
   "name": "python3"
  },
  "language_info": {
   "codemirror_mode": {
    "name": "ipython",
    "version": 3
   },
   "file_extension": ".py",
   "mimetype": "text/x-python",
   "name": "python",
   "nbconvert_exporter": "python",
   "pygments_lexer": "ipython3",
   "version": "3.7.7"
  }
 },
 "nbformat": 4,
 "nbformat_minor": 4
}
