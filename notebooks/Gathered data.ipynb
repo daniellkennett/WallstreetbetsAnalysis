{
 "cells": [
  {
   "cell_type": "code",
   "execution_count": 35,
   "metadata": {},
   "outputs": [],
   "source": [
    "import math\n",
    "import json\n",
    "import requests\n",
    "import itertools\n",
    "import numpy as np\n",
    "import time\n",
    "import pandas as pd\n",
    "from datetime import datetime, timedelta\n",
    "\n",
    "\n",
    "### Upload dataset ###\n",
    "wsb = pd.read_csv('r_wallstreetbets_posts.csv')"
   ]
  },
  {
   "cell_type": "code",
   "execution_count": null,
   "metadata": {},
   "outputs": [],
   "source": [
    "### PRAW login ###\n",
    "import praw\n",
    "reddit = praw.Reddit(client_id = <ID HERE,\n",
    "client_secret = <SPECIAL API KEY HERE>,\n",
    "user_agent = <NAME OF PROJECT HERE>,\n",
    "username =<USERNAME HERE>,\n",
    "password = <PASSWORD HERE>)\n",
    "\n",
    "\n",
    "### Draw new posts from WSB and import them into Pandas ###\n",
    "subreddit = reddit.subreddit('wallstreetbets')\n",
    "hot_subreddit = subreddit.new(limit = None)\n",
    "\n",
    "\n",
    "topics_dict = { \"title\":[], \n",
    "                \"score\":[], \n",
    "                \"id\":[], \"url\":[],  \n",
    "                \"comms_num\": [], \n",
    "                \"created\": []}\n",
    "\n",
    "for submission in hot_subreddit:\n",
    "    if submission.score > score and submission.upvote_ratio > upvote_ratio: \n",
    "        topics_dict[\"title\"].append(submission.title)\n",
    "        topics_dict[\"score\"].append(submission.score)\n",
    "        topics_dict[\"id\"].append(submission.id)\n",
    "        topics_dict[\"url\"].append(submission.url)\n",
    "        topics_dict[\"comms_num\"].append(submission.num_comments)\n",
    "        topics_dict[\"created\"].append(submission.created)\n",
    "        \n",
    "        \n",
    "wsb = pd.DataFrame(topics_dict)"
   ]
  },
  {
   "cell_type": "code",
   "execution_count": 36,
   "metadata": {
    "scrolled": true
   },
   "outputs": [
    {
     "name": "stderr",
     "output_type": "stream",
     "text": [
      "/home/daniel/anaconda3/lib/python3.7/site-packages/ipykernel_launcher.py:12: SettingWithCopyWarning: \n",
      "A value is trying to be set on a copy of a slice from a DataFrame.\n",
      "Try using .loc[row_indexer,col_indexer] = value instead\n",
      "\n",
      "See the caveats in the documentation: https://pandas.pydata.org/pandas-docs/stable/user_guide/indexing.html#returning-a-view-versus-a-copy\n",
      "  if sys.path[0] == '':\n"
     ]
    }
   ],
   "source": [
    "### Clean score column ###\n",
    "scores = list(wsb['score'])\n",
    "digits = []\n",
    "for score in scores:\n",
    "    if str(score).isdigit():\n",
    "        digits.append(int(score))\n",
    "    else:\n",
    "        digits.append('yeet')\n",
    "wsb['scores'] = digits\n",
    "wsb_fixed = wsb[wsb['scores'] != 'yeet']\n",
    "\n",
    "wsb_fixed['scores'] = wsb_fixed['scores'].astype(int)"
   ]
  },
  {
   "cell_type": "code",
   "execution_count": 45,
   "metadata": {},
   "outputs": [
    {
     "name": "stderr",
     "output_type": "stream",
     "text": [
      "/home/daniel/anaconda3/lib/python3.7/site-packages/ipykernel_launcher.py:9: SettingWithCopyWarning: \n",
      "A value is trying to be set on a copy of a slice from a DataFrame.\n",
      "Try using .loc[row_indexer,col_indexer] = value instead\n",
      "\n",
      "See the caveats in the documentation: https://pandas.pydata.org/pandas-docs/stable/user_guide/indexing.html#returning-a-view-versus-a-copy\n",
      "  if __name__ == '__main__':\n",
      "/home/daniel/anaconda3/lib/python3.7/site-packages/ipykernel_launcher.py:12: SettingWithCopyWarning: \n",
      "A value is trying to be set on a copy of a slice from a DataFrame.\n",
      "Try using .loc[row_indexer,col_indexer] = value instead\n",
      "\n",
      "See the caveats in the documentation: https://pandas.pydata.org/pandas-docs/stable/user_guide/indexing.html#returning-a-view-versus-a-copy\n",
      "  if sys.path[0] == '':\n"
     ]
    }
   ],
   "source": [
    "### Clean num_comments column ###\n",
    "comments = list(wsb_fixed['num_comments'])\n",
    "digits = []\n",
    "for com in comments:\n",
    "    if str(com).isdigit():\n",
    "        digits.append(int(com))\n",
    "    else:\n",
    "        digits.append('yeet')\n",
    "wsb_fixed['comments'] = digits\n",
    "wsb_fixed2 = wsb_fixed[wsb_fixed['comments'] != 'yeet']\n",
    "\n",
    "wsb_fixed2['comments'] = wsb_fixed2['comments'].astype(int)\n",
    "\n",
    "### Drop extra columns and assign types\n",
    "wsb_ = wsb_fixed2.drop(['num_comments','score'], axis = 1)\n",
    "wsb_['created_utc'] = wsb_['created_utc'].astype(int)\n"
   ]
  },
  {
   "cell_type": "code",
   "execution_count": 49,
   "metadata": {},
   "outputs": [],
   "source": [
    "def unix_to_time(x):\n",
    "    return datetime.fromtimestamp(x)\n",
    "time = wsb_[\"created_utc\"].apply(unix_to_time)\n",
    "wsb_ = wsb_.assign(timestamp = time)\n",
    "wsb = wsb_.drop('created_utc', axis = 1)\n"
   ]
  },
  {
   "cell_type": "code",
   "execution_count": null,
   "metadata": {},
   "outputs": [],
   "source": []
  },
  {
   "cell_type": "code",
   "execution_count": null,
   "metadata": {},
   "outputs": [],
   "source": []
  }
 ],
 "metadata": {
  "kernelspec": {
   "display_name": "Python 3",
   "language": "python",
   "name": "python3"
  },
  "language_info": {
   "codemirror_mode": {
    "name": "ipython",
    "version": 3
   },
   "file_extension": ".py",
   "mimetype": "text/x-python",
   "name": "python",
   "nbconvert_exporter": "python",
   "pygments_lexer": "ipython3",
   "version": "3.7.7"
  }
 },
 "nbformat": 4,
 "nbformat_minor": 4
}
