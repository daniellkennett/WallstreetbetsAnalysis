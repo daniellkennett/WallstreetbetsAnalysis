{
 "cells": [
  {
   "cell_type": "code",
   "execution_count": 98,
   "metadata": {},
   "outputs": [
    {
     "data": {
      "text/html": [
       "        <script type=\"text/javascript\">\n",
       "        window.PlotlyConfig = {MathJaxConfig: 'local'};\n",
       "        if (window.MathJax) {MathJax.Hub.Config({SVG: {font: \"STIX-Web\"}});}\n",
       "        if (typeof require !== 'undefined') {\n",
       "        require.undef(\"plotly\");\n",
       "        requirejs.config({\n",
       "            paths: {\n",
       "                'plotly': ['https://cdn.plot.ly/plotly-latest.min']\n",
       "            }\n",
       "        });\n",
       "        require(['plotly'], function(Plotly) {\n",
       "            window._Plotly = Plotly;\n",
       "        });\n",
       "        }\n",
       "        </script>\n",
       "        "
      ]
     },
     "metadata": {},
     "output_type": "display_data"
    }
   ],
   "source": [
    "import pandas as pd\n",
    "import numpy as np\n",
    "import matplotlib.pyplot as plt\n",
    "plt.style.use('ggplot')\n",
    "%matplotlib inline\n",
    "from datetime import datetime\n",
    "import re\n",
    "import nltk\n",
    "from nltk.corpus import stopwords\n",
    "from scipy import stats\n",
    "import plotly as py\n",
    "import plotly.graph_objs as go\n",
    "import ipywidgets as widgets\n",
    "import plotly.express as px\n",
    "from plotly.subplots import make_subplots\n",
    "py.offline.init_notebook_mode(connected=True)\n",
    "stopwords = set(stopwords.words('english'))\n",
    "\n"
   ]
  },
  {
   "cell_type": "code",
   "execution_count": 3,
   "metadata": {},
   "outputs": [
    {
     "data": {
      "text/html": [
       "<div>\n",
       "<style scoped>\n",
       "    .dataframe tbody tr th:only-of-type {\n",
       "        vertical-align: middle;\n",
       "    }\n",
       "\n",
       "    .dataframe tbody tr th {\n",
       "        vertical-align: top;\n",
       "    }\n",
       "\n",
       "    .dataframe thead th {\n",
       "        text-align: right;\n",
       "    }\n",
       "</style>\n",
       "<table border=\"1\" class=\"dataframe\">\n",
       "  <thead>\n",
       "    <tr style=\"text-align: right;\">\n",
       "      <th></th>\n",
       "      <th>Unnamed: 0</th>\n",
       "      <th>title</th>\n",
       "      <th>author</th>\n",
       "      <th>scores</th>\n",
       "      <th>comments</th>\n",
       "      <th>timestamp</th>\n",
       "      <th>date</th>\n",
       "      <th>date_hour</th>\n",
       "    </tr>\n",
       "  </thead>\n",
       "  <tbody>\n",
       "    <tr>\n",
       "      <th>0</th>\n",
       "      <td>0</td>\n",
       "      <td>whats</td>\n",
       "      <td>Zaccko98</td>\n",
       "      <td>1</td>\n",
       "      <td>2</td>\n",
       "      <td>2021-02-16 04:53:12</td>\n",
       "      <td>2021-02-16</td>\n",
       "      <td>2021-02-16 04:00:00</td>\n",
       "    </tr>\n",
       "    <tr>\n",
       "      <th>0</th>\n",
       "      <td>0</td>\n",
       "      <td>going</td>\n",
       "      <td>Zaccko98</td>\n",
       "      <td>1</td>\n",
       "      <td>2</td>\n",
       "      <td>2021-02-16 04:53:12</td>\n",
       "      <td>2021-02-16</td>\n",
       "      <td>2021-02-16 04:00:00</td>\n",
       "    </tr>\n",
       "    <tr>\n",
       "      <th>0</th>\n",
       "      <td>0</td>\n",
       "      <td>pltr</td>\n",
       "      <td>Zaccko98</td>\n",
       "      <td>1</td>\n",
       "      <td>2</td>\n",
       "      <td>2021-02-16 04:53:12</td>\n",
       "      <td>2021-02-16</td>\n",
       "      <td>2021-02-16 04:00:00</td>\n",
       "    </tr>\n",
       "    <tr>\n",
       "      <th>1</th>\n",
       "      <td>1</td>\n",
       "      <td>need</td>\n",
       "      <td>toutoucnc</td>\n",
       "      <td>1</td>\n",
       "      <td>2</td>\n",
       "      <td>2021-02-16 04:53:09</td>\n",
       "      <td>2021-02-16</td>\n",
       "      <td>2021-02-16 04:00:00</td>\n",
       "    </tr>\n",
       "    <tr>\n",
       "      <th>1</th>\n",
       "      <td>1</td>\n",
       "      <td>explanations</td>\n",
       "      <td>toutoucnc</td>\n",
       "      <td>1</td>\n",
       "      <td>2</td>\n",
       "      <td>2021-02-16 04:53:09</td>\n",
       "      <td>2021-02-16</td>\n",
       "      <td>2021-02-16 04:00:00</td>\n",
       "    </tr>\n",
       "    <tr>\n",
       "      <th>...</th>\n",
       "      <td>...</td>\n",
       "      <td>...</td>\n",
       "      <td>...</td>\n",
       "      <td>...</td>\n",
       "      <td>...</td>\n",
       "      <td>...</td>\n",
       "      <td>...</td>\n",
       "      <td>...</td>\n",
       "    </tr>\n",
       "    <tr>\n",
       "      <th>572905</th>\n",
       "      <td>579472</td>\n",
       "      <td>hear</td>\n",
       "      <td>cheaptissueburlap</td>\n",
       "      <td>1</td>\n",
       "      <td>0</td>\n",
       "      <td>2020-12-31 16:21:52</td>\n",
       "      <td>2020-12-31</td>\n",
       "      <td>2020-12-31 16:00:00</td>\n",
       "    </tr>\n",
       "    <tr>\n",
       "      <th>572905</th>\n",
       "      <td>579472</td>\n",
       "      <td>f</td>\n",
       "      <td>cheaptissueburlap</td>\n",
       "      <td>1</td>\n",
       "      <td>0</td>\n",
       "      <td>2020-12-31 16:21:52</td>\n",
       "      <td>2020-12-31</td>\n",
       "      <td>2020-12-31 16:00:00</td>\n",
       "    </tr>\n",
       "    <tr>\n",
       "      <th>572906</th>\n",
       "      <td>579473</td>\n",
       "      <td>ive</td>\n",
       "      <td>1A9D6</td>\n",
       "      <td>1</td>\n",
       "      <td>6</td>\n",
       "      <td>2020-12-31 16:21:36</td>\n",
       "      <td>2020-12-31</td>\n",
       "      <td>2020-12-31 16:00:00</td>\n",
       "    </tr>\n",
       "    <tr>\n",
       "      <th>572906</th>\n",
       "      <td>579473</td>\n",
       "      <td>waiting</td>\n",
       "      <td>1A9D6</td>\n",
       "      <td>1</td>\n",
       "      <td>6</td>\n",
       "      <td>2020-12-31 16:21:36</td>\n",
       "      <td>2020-12-31</td>\n",
       "      <td>2020-12-31 16:00:00</td>\n",
       "    </tr>\n",
       "    <tr>\n",
       "      <th>572906</th>\n",
       "      <td>579473</td>\n",
       "      <td>year</td>\n",
       "      <td>1A9D6</td>\n",
       "      <td>1</td>\n",
       "      <td>6</td>\n",
       "      <td>2020-12-31 16:21:36</td>\n",
       "      <td>2020-12-31</td>\n",
       "      <td>2020-12-31 16:00:00</td>\n",
       "    </tr>\n",
       "  </tbody>\n",
       "</table>\n",
       "<p>3291927 rows × 8 columns</p>\n",
       "</div>"
      ],
      "text/plain": [
       "        Unnamed: 0         title             author  scores  comments  \\\n",
       "0                0         whats           Zaccko98       1         2   \n",
       "0                0         going           Zaccko98       1         2   \n",
       "0                0          pltr           Zaccko98       1         2   \n",
       "1                1          need          toutoucnc       1         2   \n",
       "1                1  explanations          toutoucnc       1         2   \n",
       "...            ...           ...                ...     ...       ...   \n",
       "572905      579472          hear  cheaptissueburlap       1         0   \n",
       "572905      579472             f  cheaptissueburlap       1         0   \n",
       "572906      579473           ive              1A9D6       1         6   \n",
       "572906      579473       waiting              1A9D6       1         6   \n",
       "572906      579473          year              1A9D6       1         6   \n",
       "\n",
       "                 timestamp        date           date_hour  \n",
       "0      2021-02-16 04:53:12  2021-02-16 2021-02-16 04:00:00  \n",
       "0      2021-02-16 04:53:12  2021-02-16 2021-02-16 04:00:00  \n",
       "0      2021-02-16 04:53:12  2021-02-16 2021-02-16 04:00:00  \n",
       "1      2021-02-16 04:53:09  2021-02-16 2021-02-16 04:00:00  \n",
       "1      2021-02-16 04:53:09  2021-02-16 2021-02-16 04:00:00  \n",
       "...                    ...         ...                 ...  \n",
       "572905 2020-12-31 16:21:52  2020-12-31 2020-12-31 16:00:00  \n",
       "572905 2020-12-31 16:21:52  2020-12-31 2020-12-31 16:00:00  \n",
       "572906 2020-12-31 16:21:36  2020-12-31 2020-12-31 16:00:00  \n",
       "572906 2020-12-31 16:21:36  2020-12-31 2020-12-31 16:00:00  \n",
       "572906 2020-12-31 16:21:36  2020-12-31 2020-12-31 16:00:00  \n",
       "\n",
       "[3291927 rows x 8 columns]"
      ]
     },
     "execution_count": 3,
     "metadata": {},
     "output_type": "execute_result"
    }
   ],
   "source": [
    "wsb_df = pd.read_csv('Clean_WSB.csv')\n",
    "\n",
    "\n",
    "\n",
    "\n",
    "### Convert timestamp to datetime ### \n",
    "wsb_df['timestamp'] = wsb_df['timestamp'].map(lambda x: datetime.strptime(x, \"%Y-%m-%d %H:%M:%S\"))\n",
    "wsb_df['title'] = wsb_df['title'].astype(str)\n",
    "wsb_df['date'] = wsb_df['timestamp'].apply(lambda x: x.date())\n",
    "wsb_df['date_hour'] = wsb_df['timestamp'].apply(lambda x: f\"{x.date()} {x.hour}:00:00\")\n",
    "wsb_df['date_hour'] = wsb_df['date_hour'].apply(lambda x: datetime.strptime(x, \"%Y-%m-%d %H:%M:%S\"))\n",
    "\n",
    "\n",
    "\n",
    "\n",
    "### apply RE to remove emojis, punc., stopwords; explode title for easy groupby counting ###\n",
    "wsb_df['title'] = wsb_df['title'].map(lambda x: re.sub(r\"[^A-Za-z ]\", '', x))\n",
    "wsb_df['title'] = wsb_df['title'].map(lambda x: x.lower().split(' '))\n",
    "\n",
    "wsb_df_explode = wsb_df.explode('title')\n",
    "\n",
    "wsb_df_explode =  wsb_df_explode[ ~wsb_df_explode['title'].isin(stopwords)]\n",
    "\n",
    "\n",
    "### narrow specific securities ###\n",
    "wsb_full = wsb_df_explode.replace({'gamestop': 'gme', 'nokia': 'nok', 'dogecoin': 'doge', \n",
    "                                         'bitcoin': 'btc', 'amazon': 'amzn', 'microsft': 'msft',\n",
    "                                         'tesla': 'tsla', 'indexsp': 'sp500', '500': 'sp500', 'sp': 'sp500'})\n",
    "\n",
    "wsb_full"
   ]
  },
  {
   "cell_type": "code",
   "execution_count": 4,
   "metadata": {
    "scrolled": false
   },
   "outputs": [
    {
     "data": {
      "text/html": [
       "<div>\n",
       "<style scoped>\n",
       "    .dataframe tbody tr th:only-of-type {\n",
       "        vertical-align: middle;\n",
       "    }\n",
       "\n",
       "    .dataframe tbody tr th {\n",
       "        vertical-align: top;\n",
       "    }\n",
       "\n",
       "    .dataframe thead th {\n",
       "        text-align: right;\n",
       "    }\n",
       "</style>\n",
       "<table border=\"1\" class=\"dataframe\">\n",
       "  <thead>\n",
       "    <tr style=\"text-align: right;\">\n",
       "      <th></th>\n",
       "      <th>title</th>\n",
       "      <th>count</th>\n",
       "    </tr>\n",
       "  </thead>\n",
       "  <tbody>\n",
       "    <tr>\n",
       "      <th>27920</th>\n",
       "      <td>gme</td>\n",
       "      <td>102785</td>\n",
       "    </tr>\n",
       "    <tr>\n",
       "      <th>2081</th>\n",
       "      <td>amc</td>\n",
       "      <td>45965</td>\n",
       "    </tr>\n",
       "    <tr>\n",
       "      <th>9990</th>\n",
       "      <td>buy</td>\n",
       "      <td>45884</td>\n",
       "    </tr>\n",
       "    <tr>\n",
       "      <th>31969</th>\n",
       "      <td>hold</td>\n",
       "      <td>38734</td>\n",
       "    </tr>\n",
       "    <tr>\n",
       "      <th>58782</th>\n",
       "      <td>robinhood</td>\n",
       "      <td>29909</td>\n",
       "    </tr>\n",
       "    <tr>\n",
       "      <th>44758</th>\n",
       "      <td>moon</td>\n",
       "      <td>26679</td>\n",
       "    </tr>\n",
       "    <tr>\n",
       "      <th>35011</th>\n",
       "      <td>im</td>\n",
       "      <td>24674</td>\n",
       "    </tr>\n",
       "    <tr>\n",
       "      <th>66239</th>\n",
       "      <td>stock</td>\n",
       "      <td>23792</td>\n",
       "    </tr>\n",
       "    <tr>\n",
       "      <th>47379</th>\n",
       "      <td>nok</td>\n",
       "      <td>20994</td>\n",
       "    </tr>\n",
       "    <tr>\n",
       "      <th>40163</th>\n",
       "      <td>like</td>\n",
       "      <td>17808</td>\n",
       "    </tr>\n",
       "    <tr>\n",
       "      <th>19423</th>\n",
       "      <td>dont</td>\n",
       "      <td>17515</td>\n",
       "    </tr>\n",
       "    <tr>\n",
       "      <th>27446</th>\n",
       "      <td>get</td>\n",
       "      <td>17255</td>\n",
       "    </tr>\n",
       "    <tr>\n",
       "      <th>39802</th>\n",
       "      <td>lets</td>\n",
       "      <td>16473</td>\n",
       "    </tr>\n",
       "    <tr>\n",
       "      <th>5895</th>\n",
       "      <td>bb</td>\n",
       "      <td>15856</td>\n",
       "    </tr>\n",
       "    <tr>\n",
       "      <th>18968</th>\n",
       "      <td>doge</td>\n",
       "      <td>15703</td>\n",
       "    </tr>\n",
       "    <tr>\n",
       "      <th>28443</th>\n",
       "      <td>go</td>\n",
       "      <td>15673</td>\n",
       "    </tr>\n",
       "    <tr>\n",
       "      <th>74158</th>\n",
       "      <td>us</td>\n",
       "      <td>15285</td>\n",
       "    </tr>\n",
       "    <tr>\n",
       "      <th>32092</th>\n",
       "      <td>holding</td>\n",
       "      <td>15082</td>\n",
       "    </tr>\n",
       "    <tr>\n",
       "      <th>62428</th>\n",
       "      <td>short</td>\n",
       "      <td>14974</td>\n",
       "    </tr>\n",
       "    <tr>\n",
       "      <th>61899</th>\n",
       "      <td>shares</td>\n",
       "      <td>14513</td>\n",
       "    </tr>\n",
       "    <tr>\n",
       "      <th>28577</th>\n",
       "      <td>going</td>\n",
       "      <td>14291</td>\n",
       "    </tr>\n",
       "    <tr>\n",
       "      <th>46807</th>\n",
       "      <td>new</td>\n",
       "      <td>14030</td>\n",
       "    </tr>\n",
       "    <tr>\n",
       "      <th>46980</th>\n",
       "      <td>next</td>\n",
       "      <td>13775</td>\n",
       "    </tr>\n",
       "    <tr>\n",
       "      <th>61270</th>\n",
       "      <td>sell</td>\n",
       "      <td>13506</td>\n",
       "    </tr>\n",
       "    <tr>\n",
       "      <th>66137</th>\n",
       "      <td>still</td>\n",
       "      <td>13009</td>\n",
       "    </tr>\n",
       "    <tr>\n",
       "      <th>66378</th>\n",
       "      <td>stocks</td>\n",
       "      <td>12658</td>\n",
       "    </tr>\n",
       "    <tr>\n",
       "      <th>70729</th>\n",
       "      <td>today</td>\n",
       "      <td>12123</td>\n",
       "    </tr>\n",
       "    <tr>\n",
       "      <th>78180</th>\n",
       "      <td>wsb</td>\n",
       "      <td>11675</td>\n",
       "    </tr>\n",
       "    <tr>\n",
       "      <th>10076</th>\n",
       "      <td>buying</td>\n",
       "      <td>11629</td>\n",
       "    </tr>\n",
       "    <tr>\n",
       "      <th>29838</th>\n",
       "      <td>guys</td>\n",
       "      <td>11167</td>\n",
       "    </tr>\n",
       "  </tbody>\n",
       "</table>\n",
       "</div>"
      ],
      "text/plain": [
       "           title   count\n",
       "27920        gme  102785\n",
       "2081         amc   45965\n",
       "9990         buy   45884\n",
       "31969       hold   38734\n",
       "58782  robinhood   29909\n",
       "44758       moon   26679\n",
       "35011         im   24674\n",
       "66239      stock   23792\n",
       "47379        nok   20994\n",
       "40163       like   17808\n",
       "19423       dont   17515\n",
       "27446        get   17255\n",
       "39802       lets   16473\n",
       "5895          bb   15856\n",
       "18968       doge   15703\n",
       "28443         go   15673\n",
       "74158         us   15285\n",
       "32092    holding   15082\n",
       "62428      short   14974\n",
       "61899     shares   14513\n",
       "28577      going   14291\n",
       "46807        new   14030\n",
       "46980       next   13775\n",
       "61270       sell   13506\n",
       "66137      still   13009\n",
       "66378     stocks   12658\n",
       "70729      today   12123\n",
       "78180        wsb   11675\n",
       "10076     buying   11629\n",
       "29838       guys   11167"
      ]
     },
     "execution_count": 4,
     "metadata": {},
     "output_type": "execute_result"
    }
   ],
   "source": [
    "wsb_df_groupby = wsb_full.groupby(['title']).count().reset_index()\n",
    "wallstreetbets = wsb_df_groupby.sort_values('author', ascending = False)\n",
    "\n",
    "wallstreetbets = wallstreetbets.drop(0)\n",
    "wallstreetbets = wallstreetbets.drop(['Unnamed: 0','author', 'scores',\n",
    "                                     'comments', 'timestamp', 'date'], axis =1)\n",
    "wallstreetbets = wallstreetbets.rename(columns = {'title':'title','date_hour': 'count'})\n",
    "wallstreetbets.head(30)"
   ]
  },
  {
   "cell_type": "code",
   "execution_count": 5,
   "metadata": {},
   "outputs": [
    {
     "data": {
      "text/html": [
       "<div>\n",
       "<style scoped>\n",
       "    .dataframe tbody tr th:only-of-type {\n",
       "        vertical-align: middle;\n",
       "    }\n",
       "\n",
       "    .dataframe tbody tr th {\n",
       "        vertical-align: top;\n",
       "    }\n",
       "\n",
       "    .dataframe thead th {\n",
       "        text-align: right;\n",
       "    }\n",
       "</style>\n",
       "<table border=\"1\" class=\"dataframe\">\n",
       "  <thead>\n",
       "    <tr style=\"text-align: right;\">\n",
       "      <th></th>\n",
       "      <th>title</th>\n",
       "      <th>count</th>\n",
       "    </tr>\n",
       "  </thead>\n",
       "  <tbody>\n",
       "    <tr>\n",
       "      <th>64721</th>\n",
       "      <td>sp500</td>\n",
       "      <td>30</td>\n",
       "    </tr>\n",
       "    <tr>\n",
       "      <th>45554</th>\n",
       "      <td>msft</td>\n",
       "      <td>44</td>\n",
       "    </tr>\n",
       "    <tr>\n",
       "      <th>2552</th>\n",
       "      <td>amzn</td>\n",
       "      <td>619</td>\n",
       "    </tr>\n",
       "    <tr>\n",
       "      <th>9386</th>\n",
       "      <td>btc</td>\n",
       "      <td>1578</td>\n",
       "    </tr>\n",
       "    <tr>\n",
       "      <th>72136</th>\n",
       "      <td>tsla</td>\n",
       "      <td>2717</td>\n",
       "    </tr>\n",
       "    <tr>\n",
       "      <th>18968</th>\n",
       "      <td>doge</td>\n",
       "      <td>15703</td>\n",
       "    </tr>\n",
       "    <tr>\n",
       "      <th>47379</th>\n",
       "      <td>nok</td>\n",
       "      <td>20994</td>\n",
       "    </tr>\n",
       "    <tr>\n",
       "      <th>2081</th>\n",
       "      <td>amc</td>\n",
       "      <td>45965</td>\n",
       "    </tr>\n",
       "    <tr>\n",
       "      <th>27920</th>\n",
       "      <td>gme</td>\n",
       "      <td>102785</td>\n",
       "    </tr>\n",
       "  </tbody>\n",
       "</table>\n",
       "</div>"
      ],
      "text/plain": [
       "       title   count\n",
       "64721  sp500      30\n",
       "45554   msft      44\n",
       "2552    amzn     619\n",
       "9386     btc    1578\n",
       "72136   tsla    2717\n",
       "18968   doge   15703\n",
       "47379    nok   20994\n",
       "2081     amc   45965\n",
       "27920    gme  102785"
      ]
     },
     "execution_count": 5,
     "metadata": {},
     "output_type": "execute_result"
    }
   ],
   "source": [
    "### Big movers: GME, NOK, AMC, Dogecoin ### \n",
    "### Other popular stocks: bitcoin, AMZN, MSFT, TSLA ###\n",
    "### Also SMP 500 and stock indexes. ###\n",
    "\n",
    "\n",
    "gme = wallstreetbets[wallstreetbets['title'] == 'gme']\n",
    "nok = wallstreetbets[wallstreetbets['title'] == 'nok']\n",
    "amc = wallstreetbets[wallstreetbets['title'] == 'amc']\n",
    "doge = wallstreetbets[wallstreetbets['title'] == 'doge']\n",
    "btc = wallstreetbets[wallstreetbets['title'] == 'btc']\n",
    "amzn = wallstreetbets[wallstreetbets['title'] == 'amzn']\n",
    "msft = wallstreetbets[wallstreetbets['title'] == 'msft']\n",
    "tsla = wallstreetbets[wallstreetbets['title'] == 'tsla']\n",
    "sp500= (wallstreetbets['title'] == 'sp500')\n",
    "\n",
    "\n",
    "stonks = wallstreetbets[(wallstreetbets['title'] == 'gme') | (wallstreetbets['title'] == 'nok') | \n",
    "                       (wallstreetbets['title'] == 'amc') | (wallstreetbets['title'] == 'doge') | \n",
    "                       (wallstreetbets['title'] == 'btc') | (wallstreetbets['title'] == 'amzn') |\n",
    "                       (wallstreetbets['title'] == 'msft')| (wallstreetbets['title'] == 'tsla') |\n",
    "                       (wallstreetbets['title'] == 'sp500')].sort_values('count', ascending = True)\n",
    "stonks"
   ]
  },
  {
   "cell_type": "code",
   "execution_count": null,
   "metadata": {},
   "outputs": [],
   "source": []
  },
  {
   "cell_type": "code",
   "execution_count": 6,
   "metadata": {},
   "outputs": [
    {
     "data": {
      "text/plain": [
       "Text(0, 0.5, 'Securities')"
      ]
     },
     "execution_count": 6,
     "metadata": {},
     "output_type": "execute_result"
    },
    {
     "data": {
      "image/png": "[encoded data removed]",
      "text/plain": [
       "<Figure size 1080x720 with 1 Axes>"
      ]
     },
     "metadata": {
      "needs_background": "light"
     },
     "output_type": "display_data"
    }
   ],
   "source": [
    "fig, ax = plt.subplots(figsize = (15,10))\n",
    "x = stonks['title']\n",
    "y = stonks['count']\n",
    "ax.barh(x,y, color='purple')\n",
    "ax.set_title('Security Mentions in WallStreetBets')\n",
    "ax.set_xlabel('Number of Mentions')\n",
    "ax.set_ylabel('Securities')"
   ]
  },
  {
   "cell_type": "code",
   "execution_count": 91,
   "metadata": {},
   "outputs": [
    {
     "data": {
      "application/vnd.plotly.v1+json": {
       "config": {
        "plotlyServerURL": "https://plot.ly"
       },
       "data": [
        {
         "alignmentgroup": "True",
         "hovertemplate": "Number of Mentions=%{x}<br>Securities=%{y}<extra></extra>",
         "legendgroup": "",
         "marker": {
          "color": "#636efa"
         },
         "name": "",
         "offsetgroup": "",
         "orientation": "h",
         "showlegend": false,
         "textposition": "auto",
         "type": "bar",
         "x": [
          30,
          44,
          619,
          1578,
          2717,
          15703,
          20994,
          45965,
          102785
         ],
         "xaxis": "x",
         "y": [
          "sp500",
          "msft",
          "amzn",
          "btc",
          "tsla",
          "doge",
          "nok",
          "amc",
          "gme"
         ],
         "yaxis": "y"
        }
       ],
       "layout": {
        "barmode": "relative",
        "legend": {
         "tracegroupgap": 0
        },
        "template": {
         "data": {
          "bar": [
           {
            "error_x": {
             "color": "#2a3f5f"
            },
            "error_y": {
             "color": "#2a3f5f"
            },
            "marker": {
             "line": {
              "color": "#E5ECF6",
              "width": 0.5
             }
            },
            "type": "bar"
           }
          ],
          "barpolar": [
           {
            "marker": {
             "line": {
              "color": "#E5ECF6",
              "width": 0.5
             }
            },
            "type": "barpolar"
           }
          ],
          "carpet": [
           {
            "aaxis": {
             "endlinecolor": "#2a3f5f",
             "gridcolor": "white",
             "linecolor": "white",
             "minorgridcolor": "white",
             "startlinecolor": "#2a3f5f"
            },
            "baxis": {
             "endlinecolor": "#2a3f5f",
             "gridcolor": "white",
             "linecolor": "white",
             "minorgridcolor": "white",
             "startlinecolor": "#2a3f5f"
            },
            "type": "carpet"
           }
          ],
          "choropleth": [
           {
            "colorbar": {
             "outlinewidth": 0,
             "ticks": ""
            },
            "type": "choropleth"
           }
          ],
          "contour": [
           {
            "colorbar": {
             "outlinewidth": 0,
             "ticks": ""
            },
            "colorscale": [
             [
              0,
              "#0d0887"
             ],
             [
              0.1111111111111111,
              "#46039f"
             ],
             [
              0.2222222222222222,
              "#7201a8"
             ],
             [
              0.3333333333333333,
              "#9c179e"
             ],
             [
              0.4444444444444444,
              "#bd3786"
             ],
             [
              0.5555555555555556,
              "#d8576b"
             ],
             [
              0.6666666666666666,
              "#ed7953"
             ],
             [
              0.7777777777777778,
              "#fb9f3a"
             ],
             [
              0.8888888888888888,
              "#fdca26"
             ],
             [
              1,
              "#f0f921"
             ]
            ],
            "type": "contour"
           }
          ],
          "contourcarpet": [
           {
            "colorbar": {
             "outlinewidth": 0,
             "ticks": ""
            },
            "type": "contourcarpet"
           }
          ],
          "heatmap": [
           {
            "colorbar": {
             "outlinewidth": 0,
             "ticks": ""
            },
            "colorscale": [
             [
              0,
              "#0d0887"
             ],
             [
              0.1111111111111111,
              "#46039f"
             ],
             [
              0.2222222222222222,
              "#7201a8"
             ],
             [
              0.3333333333333333,
              "#9c179e"
             ],
             [
              0.4444444444444444,
              "#bd3786"
             ],
             [
              0.5555555555555556,
              "#d8576b"
             ],
             [
              0.6666666666666666,
              "#ed7953"
             ],
             [
              0.7777777777777778,
              "#fb9f3a"
             ],
             [
              0.8888888888888888,
              "#fdca26"
             ],
             [
              1,
              "#f0f921"
             ]
            ],
            "type": "heatmap"
           }
          ],
          "heatmapgl": [
           {
            "colorbar": {
             "outlinewidth": 0,
             "ticks": ""
            },
            "colorscale": [
             [
              0,
              "#0d0887"
             ],
             [
              0.1111111111111111,
              "#46039f"
             ],
             [
              0.2222222222222222,
              "#7201a8"
             ],
             [
              0.3333333333333333,
              "#9c179e"
             ],
             [
              0.4444444444444444,
              "#bd3786"
             ],
             [
              0.5555555555555556,
              "#d8576b"
             ],
             [
              0.6666666666666666,
              "#ed7953"
             ],
             [
              0.7777777777777778,
              "#fb9f3a"
             ],
             [
              0.8888888888888888,
              "#fdca26"
             ],
             [
              1,
              "#f0f921"
             ]
            ],
            "type": "heatmapgl"
           }
          ],
          "histogram": [
           {
            "marker": {
             "colorbar": {
              "outlinewidth": 0,
              "ticks": ""
             }
            },
            "type": "histogram"
           }
          ],
          "histogram2d": [
           {
            "colorbar": {
             "outlinewidth": 0,
             "ticks": ""
            },
            "colorscale": [
             [
              0,
              "#0d0887"
             ],
             [
              0.1111111111111111,
              "#46039f"
             ],
             [
              0.2222222222222222,
              "#7201a8"
             ],
             [
              0.3333333333333333,
              "#9c179e"
             ],
             [
              0.4444444444444444,
              "#bd3786"
             ],
             [
              0.5555555555555556,
              "#d8576b"
             ],
             [
              0.6666666666666666,
              "#ed7953"
             ],
             [
              0.7777777777777778,
              "#fb9f3a"
             ],
             [
              0.8888888888888888,
              "#fdca26"
             ],
             [
              1,
              "#f0f921"
             ]
            ],
            "type": "histogram2d"
           }
          ],
          "histogram2dcontour": [
           {
            "colorbar": {
             "outlinewidth": 0,
             "ticks": ""
            },
            "colorscale": [
             [
              0,
              "#0d0887"
             ],
             [
              0.1111111111111111,
              "#46039f"
             ],
             [
              0.2222222222222222,
              "#7201a8"
             ],
             [
              0.3333333333333333,
              "#9c179e"
             ],
             [
              0.4444444444444444,
              "#bd3786"
             ],
             [
              0.5555555555555556,
              "#d8576b"
             ],
             [
              0.6666666666666666,
              "#ed7953"
             ],
             [
              0.7777777777777778,
              "#fb9f3a"
             ],
             [
              0.8888888888888888,
              "#fdca26"
             ],
             [
              1,
              "#f0f921"
             ]
            ],
            "type": "histogram2dcontour"
           }
          ],
          "mesh3d": [
           {
            "colorbar": {
             "outlinewidth": 0,
             "ticks": ""
            },
            "type": "mesh3d"
           }
          ],
          "parcoords": [
           {
            "line": {
             "colorbar": {
              "outlinewidth": 0,
              "ticks": ""
             }
            },
            "type": "parcoords"
           }
          ],
          "pie": [
           {
            "automargin": true,
            "type": "pie"
           }
          ],
          "scatter": [
           {
            "marker": {
             "colorbar": {
              "outlinewidth": 0,
              "ticks": ""
             }
            },
            "type": "scatter"
           }
          ],
          "scatter3d": [
           {
            "line": {
             "colorbar": {
              "outlinewidth": 0,
              "ticks": ""
             }
            },
            "marker": {
             "colorbar": {
              "outlinewidth": 0,
              "ticks": ""
             }
            },
            "type": "scatter3d"
           }
          ],
          "scattercarpet": [
           {
            "marker": {
             "colorbar": {
              "outlinewidth": 0,
              "ticks": ""
             }
            },
            "type": "scattercarpet"
           }
          ],
          "scattergeo": [
           {
            "marker": {
             "colorbar": {
              "outlinewidth": 0,
              "ticks": ""
             }
            },
            "type": "scattergeo"
           }
          ],
          "scattergl": [
           {
            "marker": {
             "colorbar": {
              "outlinewidth": 0,
              "ticks": ""
             }
            },
            "type": "scattergl"
           }
          ],
          "scattermapbox": [
           {
            "marker": {
             "colorbar": {
              "outlinewidth": 0,
              "ticks": ""
             }
            },
            "type": "scattermapbox"
           }
          ],
          "scatterpolar": [
           {
            "marker": {
             "colorbar": {
              "outlinewidth": 0,
              "ticks": ""
             }
            },
            "type": "scatterpolar"
           }
          ],
          "scatterpolargl": [
           {
            "marker": {
             "colorbar": {
              "outlinewidth": 0,
              "ticks": ""
             }
            },
            "type": "scatterpolargl"
           }
          ],
          "scatterternary": [
           {
            "marker": {
             "colorbar": {
              "outlinewidth": 0,
              "ticks": ""
             }
            },
            "type": "scatterternary"
           }
          ],
          "surface": [
           {
            "colorbar": {
             "outlinewidth": 0,
             "ticks": ""
            },
            "colorscale": [
             [
              0,
              "#0d0887"
             ],
             [
              0.1111111111111111,
              "#46039f"
             ],
             [
              0.2222222222222222,
              "#7201a8"
             ],
             [
              0.3333333333333333,
              "#9c179e"
             ],
             [
              0.4444444444444444,
              "#bd3786"
             ],
             [
              0.5555555555555556,
              "#d8576b"
             ],
             [
              0.6666666666666666,
              "#ed7953"
             ],
             [
              0.7777777777777778,
              "#fb9f3a"
             ],
             [
              0.8888888888888888,
              "#fdca26"
             ],
             [
              1,
              "#f0f921"
             ]
            ],
            "type": "surface"
           }
          ],
          "table": [
           {
            "cells": {
             "fill": {
              "color": "#EBF0F8"
             },
             "line": {
              "color": "white"
             }
            },
            "header": {
             "fill": {
              "color": "#C8D4E3"
             },
             "line": {
              "color": "white"
             }
            },
            "type": "table"
           }
          ]
         },
         "layout": {
          "annotationdefaults": {
           "arrowcolor": "#2a3f5f",
           "arrowhead": 0,
           "arrowwidth": 1
          },
          "autotypenumbers": "strict",
          "coloraxis": {
           "colorbar": {
            "outlinewidth": 0,
            "ticks": ""
           }
          },
          "colorscale": {
           "diverging": [
            [
             0,
             "#8e0152"
            ],
            [
             0.1,
             "#c51b7d"
            ],
            [
             0.2,
             "#de77ae"
            ],
            [
             0.3,
             "#f1b6da"
            ],
            [
             0.4,
             "#fde0ef"
            ],
            [
             0.5,
             "#f7f7f7"
            ],
            [
             0.6,
             "#e6f5d0"
            ],
            [
             0.7,
             "#b8e186"
            ],
            [
             0.8,
             "#7fbc41"
            ],
            [
             0.9,
             "#4d9221"
            ],
            [
             1,
             "#276419"
            ]
           ],
           "sequential": [
            [
             0,
             "#0d0887"
            ],
            [
             0.1111111111111111,
             "#46039f"
            ],
            [
             0.2222222222222222,
             "#7201a8"
            ],
            [
             0.3333333333333333,
             "#9c179e"
            ],
            [
             0.4444444444444444,
             "#bd3786"
            ],
            [
             0.5555555555555556,
             "#d8576b"
            ],
            [
             0.6666666666666666,
             "#ed7953"
            ],
            [
             0.7777777777777778,
             "#fb9f3a"
            ],
            [
             0.8888888888888888,
             "#fdca26"
            ],
            [
             1,
             "#f0f921"
            ]
           ],
           "sequentialminus": [
            [
             0,
             "#0d0887"
            ],
            [
             0.1111111111111111,
             "#46039f"
            ],
            [
             0.2222222222222222,
             "#7201a8"
            ],
            [
             0.3333333333333333,
             "#9c179e"
            ],
            [
             0.4444444444444444,
             "#bd3786"
            ],
            [
             0.5555555555555556,
             "#d8576b"
            ],
            [
             0.6666666666666666,
             "#ed7953"
            ],
            [
             0.7777777777777778,
             "#fb9f3a"
            ],
            [
             0.8888888888888888,
             "#fdca26"
            ],
            [
             1,
             "#f0f921"
            ]
           ]
          },
          "colorway": [
           "#636efa",
           "#EF553B",
           "#00cc96",
           "#ab63fa",
           "#FFA15A",
           "#19d3f3",
           "#FF6692",
           "#B6E880",
           "#FF97FF",
           "#FECB52"
          ],
          "font": {
           "color": "#2a3f5f"
          },
          "geo": {
           "bgcolor": "white",
           "lakecolor": "white",
           "landcolor": "#E5ECF6",
           "showlakes": true,
           "showland": true,
           "subunitcolor": "white"
          },
          "hoverlabel": {
           "align": "left"
          },
          "hovermode": "closest",
          "mapbox": {
           "style": "light"
          },
          "paper_bgcolor": "white",
          "plot_bgcolor": "#E5ECF6",
          "polar": {
           "angularaxis": {
            "gridcolor": "white",
            "linecolor": "white",
            "ticks": ""
           },
           "bgcolor": "#E5ECF6",
           "radialaxis": {
            "gridcolor": "white",
            "linecolor": "white",
            "ticks": ""
           }
          },
          "scene": {
           "xaxis": {
            "backgroundcolor": "#E5ECF6",
            "gridcolor": "white",
            "gridwidth": 2,
            "linecolor": "white",
            "showbackground": true,
            "ticks": "",
            "zerolinecolor": "white"
           },
           "yaxis": {
            "backgroundcolor": "#E5ECF6",
            "gridcolor": "white",
            "gridwidth": 2,
            "linecolor": "white",
            "showbackground": true,
            "ticks": "",
            "zerolinecolor": "white"
           },
           "zaxis": {
            "backgroundcolor": "#E5ECF6",
            "gridcolor": "white",
            "gridwidth": 2,
            "linecolor": "white",
            "showbackground": true,
            "ticks": "",
            "zerolinecolor": "white"
           }
          },
          "shapedefaults": {
           "line": {
            "color": "#2a3f5f"
           }
          },
          "ternary": {
           "aaxis": {
            "gridcolor": "white",
            "linecolor": "white",
            "ticks": ""
           },
           "baxis": {
            "gridcolor": "white",
            "linecolor": "white",
            "ticks": ""
           },
           "bgcolor": "#E5ECF6",
           "caxis": {
            "gridcolor": "white",
            "linecolor": "white",
            "ticks": ""
           }
          },
          "title": {
           "x": 0.05
          },
          "xaxis": {
           "automargin": true,
           "gridcolor": "white",
           "linecolor": "white",
           "ticks": "",
           "title": {
            "standoff": 15
           },
           "zerolinecolor": "white",
           "zerolinewidth": 2
          },
          "yaxis": {
           "automargin": true,
           "gridcolor": "white",
           "linecolor": "white",
           "ticks": "",
           "title": {
            "standoff": 15
           },
           "zerolinecolor": "white",
           "zerolinewidth": 2
          }
         }
        },
        "title": {
         "text": "Mentions in WSB"
        },
        "xaxis": {
         "anchor": "y",
         "domain": [
          0,
          1
         ],
         "title": {
          "text": "Number of Mentions"
         }
        },
        "yaxis": {
         "anchor": "x",
         "domain": [
          0,
          1
         ],
         "title": {
          "text": "Securities"
         }
        }
       }
      },
      "text/html": [
       "<div>                            <div id=\"1a2996dd-c542-48f2-bb3b-ae7f743e6dad\" class=\"plotly-graph-div\" style=\"height:525px; width:100%;\"></div>            <script type=\"text/javascript\">                require([\"plotly\"], function(Plotly) {                    window.PLOTLYENV=window.PLOTLYENV || {};                                    if (document.getElementById(\"1a2996dd-c542-48f2-bb3b-ae7f743e6dad\")) {                    Plotly.newPlot(                        \"1a2996dd-c542-48f2-bb3b-ae7f743e6dad\",                        [{\"alignmentgroup\": \"True\", \"hovertemplate\": \"Number of Mentions=%{x}<br>Securities=%{y}<extra></extra>\", \"legendgroup\": \"\", \"marker\": {\"color\": \"#636efa\"}, \"name\": \"\", \"offsetgroup\": \"\", \"orientation\": \"h\", \"showlegend\": false, \"textposition\": \"auto\", \"type\": \"bar\", \"x\": [30, 44, 619, 1578, 2717, 15703, 20994, 45965, 102785], \"xaxis\": \"x\", \"y\": [\"sp500\", \"msft\", \"amzn\", \"btc\", \"tsla\", \"doge\", \"nok\", \"amc\", \"gme\"], \"yaxis\": \"y\"}],                        {\"barmode\": \"relative\", \"legend\": {\"tracegroupgap\": 0}, \"template\": {\"data\": {\"bar\": [{\"error_x\": {\"color\": \"#2a3f5f\"}, \"error_y\": {\"color\": \"#2a3f5f\"}, \"marker\": {\"line\": {\"color\": \"#E5ECF6\", \"width\": 0.5}}, \"type\": \"bar\"}], \"barpolar\": [{\"marker\": {\"line\": {\"color\": \"#E5ECF6\", \"width\": 0.5}}, \"type\": \"barpolar\"}], \"carpet\": [{\"aaxis\": {\"endlinecolor\": \"#2a3f5f\", \"gridcolor\": \"white\", \"linecolor\": \"white\", \"minorgridcolor\": \"white\", \"startlinecolor\": \"#2a3f5f\"}, \"baxis\": {\"endlinecolor\": \"#2a3f5f\", \"gridcolor\": \"white\", \"linecolor\": \"white\", \"minorgridcolor\": \"white\", \"startlinecolor\": \"#2a3f5f\"}, \"type\": \"carpet\"}], \"choropleth\": [{\"colorbar\": {\"outlinewidth\": 0, \"ticks\": \"\"}, \"type\": \"choropleth\"}], \"contour\": [{\"colorbar\": {\"outlinewidth\": 0, \"ticks\": \"\"}, \"colorscale\": [[0.0, \"#0d0887\"], [0.1111111111111111, \"#46039f\"], [0.2222222222222222, \"#7201a8\"], [0.3333333333333333, \"#9c179e\"], [0.4444444444444444, \"#bd3786\"], [0.5555555555555556, \"#d8576b\"], [0.6666666666666666, \"#ed7953\"], [0.7777777777777778, \"#fb9f3a\"], [0.8888888888888888, \"#fdca26\"], [1.0, \"#f0f921\"]], \"type\": \"contour\"}], \"contourcarpet\": [{\"colorbar\": {\"outlinewidth\": 0, \"ticks\": \"\"}, \"type\": \"contourcarpet\"}], \"heatmap\": [{\"colorbar\": {\"outlinewidth\": 0, \"ticks\": \"\"}, \"colorscale\": [[0.0, \"#0d0887\"], [0.1111111111111111, \"#46039f\"], [0.2222222222222222, \"#7201a8\"], [0.3333333333333333, \"#9c179e\"], [0.4444444444444444, \"#bd3786\"], [0.5555555555555556, \"#d8576b\"], [0.6666666666666666, \"#ed7953\"], [0.7777777777777778, \"#fb9f3a\"], [0.8888888888888888, \"#fdca26\"], [1.0, \"#f0f921\"]], \"type\": \"heatmap\"}], \"heatmapgl\": [{\"colorbar\": {\"outlinewidth\": 0, \"ticks\": \"\"}, \"colorscale\": [[0.0, \"#0d0887\"], [0.1111111111111111, \"#46039f\"], [0.2222222222222222, \"#7201a8\"], [0.3333333333333333, \"#9c179e\"], [0.4444444444444444, \"#bd3786\"], [0.5555555555555556, \"#d8576b\"], [0.6666666666666666, \"#ed7953\"], [0.7777777777777778, \"#fb9f3a\"], [0.8888888888888888, \"#fdca26\"], [1.0, \"#f0f921\"]], \"type\": \"heatmapgl\"}], \"histogram\": [{\"marker\": {\"colorbar\": {\"outlinewidth\": 0, \"ticks\": \"\"}}, \"type\": \"histogram\"}], \"histogram2d\": [{\"colorbar\": {\"outlinewidth\": 0, \"ticks\": \"\"}, \"colorscale\": [[0.0, \"#0d0887\"], [0.1111111111111111, \"#46039f\"], [0.2222222222222222, \"#7201a8\"], [0.3333333333333333, \"#9c179e\"], [0.4444444444444444, \"#bd3786\"], [0.5555555555555556, \"#d8576b\"], [0.6666666666666666, \"#ed7953\"], [0.7777777777777778, \"#fb9f3a\"], [0.8888888888888888, \"#fdca26\"], [1.0, \"#f0f921\"]], \"type\": \"histogram2d\"}], \"histogram2dcontour\": [{\"colorbar\": {\"outlinewidth\": 0, \"ticks\": \"\"}, \"colorscale\": [[0.0, \"#0d0887\"], [0.1111111111111111, \"#46039f\"], [0.2222222222222222, \"#7201a8\"], [0.3333333333333333, \"#9c179e\"], [0.4444444444444444, \"#bd3786\"], [0.5555555555555556, \"#d8576b\"], [0.6666666666666666, \"#ed7953\"], [0.7777777777777778, \"#fb9f3a\"], [0.8888888888888888, \"#fdca26\"], [1.0, \"#f0f921\"]], \"type\": \"histogram2dcontour\"}], \"mesh3d\": [{\"colorbar\": {\"outlinewidth\": 0, \"ticks\": \"\"}, \"type\": \"mesh3d\"}], \"parcoords\": [{\"line\": {\"colorbar\": {\"outlinewidth\": 0, \"ticks\": \"\"}}, \"type\": \"parcoords\"}], \"pie\": [{\"automargin\": true, \"type\": \"pie\"}], \"scatter\": [{\"marker\": {\"colorbar\": {\"outlinewidth\": 0, \"ticks\": \"\"}}, \"type\": \"scatter\"}], \"scatter3d\": [{\"line\": {\"colorbar\": {\"outlinewidth\": 0, \"ticks\": \"\"}}, \"marker\": {\"colorbar\": {\"outlinewidth\": 0, \"ticks\": \"\"}}, \"type\": \"scatter3d\"}], \"scattercarpet\": [{\"marker\": {\"colorbar\": {\"outlinewidth\": 0, \"ticks\": \"\"}}, \"type\": \"scattercarpet\"}], \"scattergeo\": [{\"marker\": {\"colorbar\": {\"outlinewidth\": 0, \"ticks\": \"\"}}, \"type\": \"scattergeo\"}], \"scattergl\": [{\"marker\": {\"colorbar\": {\"outlinewidth\": 0, \"ticks\": \"\"}}, \"type\": \"scattergl\"}], \"scattermapbox\": [{\"marker\": {\"colorbar\": {\"outlinewidth\": 0, \"ticks\": \"\"}}, \"type\": \"scattermapbox\"}], \"scatterpolar\": [{\"marker\": {\"colorbar\": {\"outlinewidth\": 0, \"ticks\": \"\"}}, \"type\": \"scatterpolar\"}], \"scatterpolargl\": [{\"marker\": {\"colorbar\": {\"outlinewidth\": 0, \"ticks\": \"\"}}, \"type\": \"scatterpolargl\"}], \"scatterternary\": [{\"marker\": {\"colorbar\": {\"outlinewidth\": 0, \"ticks\": \"\"}}, \"type\": \"scatterternary\"}], \"surface\": [{\"colorbar\": {\"outlinewidth\": 0, \"ticks\": \"\"}, \"colorscale\": [[0.0, \"#0d0887\"], [0.1111111111111111, \"#46039f\"], [0.2222222222222222, \"#7201a8\"], [0.3333333333333333, \"#9c179e\"], [0.4444444444444444, \"#bd3786\"], [0.5555555555555556, \"#d8576b\"], [0.6666666666666666, \"#ed7953\"], [0.7777777777777778, \"#fb9f3a\"], [0.8888888888888888, \"#fdca26\"], [1.0, \"#f0f921\"]], \"type\": \"surface\"}], \"table\": [{\"cells\": {\"fill\": {\"color\": \"#EBF0F8\"}, \"line\": {\"color\": \"white\"}}, \"header\": {\"fill\": {\"color\": \"#C8D4E3\"}, \"line\": {\"color\": \"white\"}}, \"type\": \"table\"}]}, \"layout\": {\"annotationdefaults\": {\"arrowcolor\": \"#2a3f5f\", \"arrowhead\": 0, \"arrowwidth\": 1}, \"autotypenumbers\": \"strict\", \"coloraxis\": {\"colorbar\": {\"outlinewidth\": 0, \"ticks\": \"\"}}, \"colorscale\": {\"diverging\": [[0, \"#8e0152\"], [0.1, \"#c51b7d\"], [0.2, \"#de77ae\"], [0.3, \"#f1b6da\"], [0.4, \"#fde0ef\"], [0.5, \"#f7f7f7\"], [0.6, \"#e6f5d0\"], [0.7, \"#b8e186\"], [0.8, \"#7fbc41\"], [0.9, \"#4d9221\"], [1, \"#276419\"]], \"sequential\": [[0.0, \"#0d0887\"], [0.1111111111111111, \"#46039f\"], [0.2222222222222222, \"#7201a8\"], [0.3333333333333333, \"#9c179e\"], [0.4444444444444444, \"#bd3786\"], [0.5555555555555556, \"#d8576b\"], [0.6666666666666666, \"#ed7953\"], [0.7777777777777778, \"#fb9f3a\"], [0.8888888888888888, \"#fdca26\"], [1.0, \"#f0f921\"]], \"sequentialminus\": [[0.0, \"#0d0887\"], [0.1111111111111111, \"#46039f\"], [0.2222222222222222, \"#7201a8\"], [0.3333333333333333, \"#9c179e\"], [0.4444444444444444, \"#bd3786\"], [0.5555555555555556, \"#d8576b\"], [0.6666666666666666, \"#ed7953\"], [0.7777777777777778, \"#fb9f3a\"], [0.8888888888888888, \"#fdca26\"], [1.0, \"#f0f921\"]]}, \"colorway\": [\"#636efa\", \"#EF553B\", \"#00cc96\", \"#ab63fa\", \"#FFA15A\", \"#19d3f3\", \"#FF6692\", \"#B6E880\", \"#FF97FF\", \"#FECB52\"], \"font\": {\"color\": \"#2a3f5f\"}, \"geo\": {\"bgcolor\": \"white\", \"lakecolor\": \"white\", \"landcolor\": \"#E5ECF6\", \"showlakes\": true, \"showland\": true, \"subunitcolor\": \"white\"}, \"hoverlabel\": {\"align\": \"left\"}, \"hovermode\": \"closest\", \"mapbox\": {\"style\": \"light\"}, \"paper_bgcolor\": \"white\", \"plot_bgcolor\": \"#E5ECF6\", \"polar\": {\"angularaxis\": {\"gridcolor\": \"white\", \"linecolor\": \"white\", \"ticks\": \"\"}, \"bgcolor\": \"#E5ECF6\", \"radialaxis\": {\"gridcolor\": \"white\", \"linecolor\": \"white\", \"ticks\": \"\"}}, \"scene\": {\"xaxis\": {\"backgroundcolor\": \"#E5ECF6\", \"gridcolor\": \"white\", \"gridwidth\": 2, \"linecolor\": \"white\", \"showbackground\": true, \"ticks\": \"\", \"zerolinecolor\": \"white\"}, \"yaxis\": {\"backgroundcolor\": \"#E5ECF6\", \"gridcolor\": \"white\", \"gridwidth\": 2, \"linecolor\": \"white\", \"showbackground\": true, \"ticks\": \"\", \"zerolinecolor\": \"white\"}, \"zaxis\": {\"backgroundcolor\": \"#E5ECF6\", \"gridcolor\": \"white\", \"gridwidth\": 2, \"linecolor\": \"white\", \"showbackground\": true, \"ticks\": \"\", \"zerolinecolor\": \"white\"}}, \"shapedefaults\": {\"line\": {\"color\": \"#2a3f5f\"}}, \"ternary\": {\"aaxis\": {\"gridcolor\": \"white\", \"linecolor\": \"white\", \"ticks\": \"\"}, \"baxis\": {\"gridcolor\": \"white\", \"linecolor\": \"white\", \"ticks\": \"\"}, \"bgcolor\": \"#E5ECF6\", \"caxis\": {\"gridcolor\": \"white\", \"linecolor\": \"white\", \"ticks\": \"\"}}, \"title\": {\"x\": 0.05}, \"xaxis\": {\"automargin\": true, \"gridcolor\": \"white\", \"linecolor\": \"white\", \"ticks\": \"\", \"title\": {\"standoff\": 15}, \"zerolinecolor\": \"white\", \"zerolinewidth\": 2}, \"yaxis\": {\"automargin\": true, \"gridcolor\": \"white\", \"linecolor\": \"white\", \"ticks\": \"\", \"title\": {\"standoff\": 15}, \"zerolinecolor\": \"white\", \"zerolinewidth\": 2}}}, \"title\": {\"text\": \"Mentions in WSB\"}, \"xaxis\": {\"anchor\": \"y\", \"domain\": [0.0, 1.0], \"title\": {\"text\": \"Number of Mentions\"}}, \"yaxis\": {\"anchor\": \"x\", \"domain\": [0.0, 1.0], \"title\": {\"text\": \"Securities\"}}},                        {\"responsive\": true}                    ).then(function(){\n",
       "                            \n",
       "var gd = document.getElementById('1a2996dd-c542-48f2-bb3b-ae7f743e6dad');\n",
       "var x = new MutationObserver(function (mutations, observer) {{\n",
       "        var display = window.getComputedStyle(gd).display;\n",
       "        if (!display || display === 'none') {{\n",
       "            console.log([gd, 'removed!']);\n",
       "            Plotly.purge(gd);\n",
       "            observer.disconnect();\n",
       "        }}\n",
       "}});\n",
       "\n",
       "// Listen for the removal of the full notebook cells\n",
       "var notebookContainer = gd.closest('#notebook-container');\n",
       "if (notebookContainer) {{\n",
       "    x.observe(notebookContainer, {childList: true});\n",
       "}}\n",
       "\n",
       "// Listen for the clearing of the current output cell\n",
       "var outputEl = gd.closest('.output');\n",
       "if (outputEl) {{\n",
       "    x.observe(outputEl, {childList: true});\n",
       "}}\n",
       "\n",
       "                        })                };                });            </script>        </div>"
      ]
     },
     "metadata": {},
     "output_type": "display_data"
    }
   ],
   "source": [
    "fig = px.bar(stonks, x='count', y='title', title='Mentions in WSB', \n",
    "             orientation = 'h', labels = {\n",
    "                 'title': 'Securities',\n",
    "                 'count': 'Number of Mentions'})\n",
    "\n",
    "\n",
    "fig.show()\n",
    "fig.write_html(\"html/Mentions in WSB.html\")"
   ]
  },
  {
   "cell_type": "code",
   "execution_count": 77,
   "metadata": {
    "scrolled": false
   },
   "outputs": [
    {
     "data": {
      "image/png": "[encoded data removed]",
      "text/plain": [
       "<Figure size 648x648 with 1 Axes>"
      ]
     },
     "metadata": {
      "needs_background": "light"
     },
     "output_type": "display_data"
    }
   ],
   "source": [
    "gme_date = wsb_full.groupby(['title','date']).count().reset_index()\n",
    "gme_date = gme_date[gme_date['title'] == 'gme']\n",
    "\n",
    "gme_date = gme_date.drop(['Unnamed: 0','author', 'scores',\n",
    "                                     'comments', 'timestamp'], axis =1)\n",
    "gme_date = gme_date.rename(columns = {'title':'title','date' : 'date', 'date_hour': 'count'})\n",
    "\n",
    "\n",
    "x = gme_date['date']\n",
    "y = gme_date['count']\n",
    "\n",
    "fig, ax = plt.subplots(figsize = (9,9))\n",
    "ax.plot(x,y, color = 'purple')\n",
    "ax.set_title('Daily GME Mentions from Dec 31st to Feb 16th')\n",
    "ax.set_xlabel('Days')\n",
    "ax.set_ylabel('Number of Mentions')\n",
    "fig.autofmt_xdate()\n"
   ]
  },
  {
   "cell_type": "code",
   "execution_count": 81,
   "metadata": {},
   "outputs": [
    {
     "data": {
      "application/vnd.plotly.v1+json": {
       "config": {
        "plotlyServerURL": "https://plot.ly"
       },
       "data": [
        {
         "hovertemplate": "date=%{x}<br>count=%{y}<extra></extra>",
         "legendgroup": "",
         "line": {
          "color": "#636efa",
          "dash": "solid"
         },
         "mode": "lines",
         "name": "",
         "orientation": "v",
         "showlegend": false,
         "type": "scatter",
         "x": [
          "2020-12-31",
          "2021-01-01",
          "2021-01-02",
          "2021-01-03",
          "2021-01-04",
          "2021-01-05",
          "2021-01-06",
          "2021-01-07",
          "2021-01-08",
          "2021-01-09",
          "2021-01-10",
          "2021-01-11",
          "2021-01-12",
          "2021-01-13",
          "2021-01-14",
          "2021-01-15",
          "2021-01-16",
          "2021-01-17",
          "2021-01-18",
          "2021-01-19",
          "2021-01-20",
          "2021-01-21",
          "2021-01-22",
          "2021-01-23",
          "2021-01-24",
          "2021-01-25",
          "2021-01-26",
          "2021-01-27",
          "2021-01-28",
          "2021-01-29",
          "2021-01-30",
          "2021-01-31",
          "2021-02-01",
          "2021-02-02",
          "2021-02-03",
          "2021-02-04",
          "2021-02-07",
          "2021-02-08",
          "2021-02-09",
          "2021-02-10",
          "2021-02-11",
          "2021-02-12",
          "2021-02-13",
          "2021-02-14",
          "2021-02-15",
          "2021-02-16"
         ],
         "xaxis": "x",
         "y": [
          30,
          33,
          44,
          35,
          67,
          63,
          51,
          23,
          53,
          44,
          30,
          114,
          52,
          629,
          633,
          680,
          222,
          204,
          387,
          594,
          453,
          610,
          1447,
          688,
          702,
          3107,
          1022,
          11122,
          21796,
          11674,
          6852,
          6324,
          10706,
          10726,
          4320,
          3117,
          137,
          683,
          589,
          804,
          661,
          524,
          273,
          202,
          229,
          29
         ],
         "yaxis": "y"
        }
       ],
       "layout": {
        "legend": {
         "tracegroupgap": 0
        },
        "template": {
         "data": {
          "bar": [
           {
            "error_x": {
             "color": "#2a3f5f"
            },
            "error_y": {
             "color": "#2a3f5f"
            },
            "marker": {
             "line": {
              "color": "#E5ECF6",
              "width": 0.5
             }
            },
            "type": "bar"
           }
          ],
          "barpolar": [
           {
            "marker": {
             "line": {
              "color": "#E5ECF6",
              "width": 0.5
             }
            },
            "type": "barpolar"
           }
          ],
          "carpet": [
           {
            "aaxis": {
             "endlinecolor": "#2a3f5f",
             "gridcolor": "white",
             "linecolor": "white",
             "minorgridcolor": "white",
             "startlinecolor": "#2a3f5f"
            },
            "baxis": {
             "endlinecolor": "#2a3f5f",
             "gridcolor": "white",
             "linecolor": "white",
             "minorgridcolor": "white",
             "startlinecolor": "#2a3f5f"
            },
            "type": "carpet"
           }
          ],
          "choropleth": [
           {
            "colorbar": {
             "outlinewidth": 0,
             "ticks": ""
            },
            "type": "choropleth"
           }
          ],
          "contour": [
           {
            "colorbar": {
             "outlinewidth": 0,
             "ticks": ""
            },
            "colorscale": [
             [
              0,
              "#0d0887"
             ],
             [
              0.1111111111111111,
              "#46039f"
             ],
             [
              0.2222222222222222,
              "#7201a8"
             ],
             [
              0.3333333333333333,
              "#9c179e"
             ],
             [
              0.4444444444444444,
              "#bd3786"
             ],
             [
              0.5555555555555556,
              "#d8576b"
             ],
             [
              0.6666666666666666,
              "#ed7953"
             ],
             [
              0.7777777777777778,
              "#fb9f3a"
             ],
             [
              0.8888888888888888,
              "#fdca26"
             ],
             [
              1,
              "#f0f921"
             ]
            ],
            "type": "contour"
           }
          ],
          "contourcarpet": [
           {
            "colorbar": {
             "outlinewidth": 0,
             "ticks": ""
            },
            "type": "contourcarpet"
           }
          ],
          "heatmap": [
           {
            "colorbar": {
             "outlinewidth": 0,
             "ticks": ""
            },
            "colorscale": [
             [
              0,
              "#0d0887"
             ],
             [
              0.1111111111111111,
              "#46039f"
             ],
             [
              0.2222222222222222,
              "#7201a8"
             ],
             [
              0.3333333333333333,
              "#9c179e"
             ],
             [
              0.4444444444444444,
              "#bd3786"
             ],
             [
              0.5555555555555556,
              "#d8576b"
             ],
             [
              0.6666666666666666,
              "#ed7953"
             ],
             [
              0.7777777777777778,
              "#fb9f3a"
             ],
             [
              0.8888888888888888,
              "#fdca26"
             ],
             [
              1,
              "#f0f921"
             ]
            ],
            "type": "heatmap"
           }
          ],
          "heatmapgl": [
           {
            "colorbar": {
             "outlinewidth": 0,
             "ticks": ""
            },
            "colorscale": [
             [
              0,
              "#0d0887"
             ],
             [
              0.1111111111111111,
              "#46039f"
             ],
             [
              0.2222222222222222,
              "#7201a8"
             ],
             [
              0.3333333333333333,
              "#9c179e"
             ],
             [
              0.4444444444444444,
              "#bd3786"
             ],
             [
              0.5555555555555556,
              "#d8576b"
             ],
             [
              0.6666666666666666,
              "#ed7953"
             ],
             [
              0.7777777777777778,
              "#fb9f3a"
             ],
             [
              0.8888888888888888,
              "#fdca26"
             ],
             [
              1,
              "#f0f921"
             ]
            ],
            "type": "heatmapgl"
           }
          ],
          "histogram": [
           {
            "marker": {
             "colorbar": {
              "outlinewidth": 0,
              "ticks": ""
             }
            },
            "type": "histogram"
           }
          ],
          "histogram2d": [
           {
            "colorbar": {
             "outlinewidth": 0,
             "ticks": ""
            },
            "colorscale": [
             [
              0,
              "#0d0887"
             ],
             [
              0.1111111111111111,
              "#46039f"
             ],
             [
              0.2222222222222222,
              "#7201a8"
             ],
             [
              0.3333333333333333,
              "#9c179e"
             ],
             [
              0.4444444444444444,
              "#bd3786"
             ],
             [
              0.5555555555555556,
              "#d8576b"
             ],
             [
              0.6666666666666666,
              "#ed7953"
             ],
             [
              0.7777777777777778,
              "#fb9f3a"
             ],
             [
              0.8888888888888888,
              "#fdca26"
             ],
             [
              1,
              "#f0f921"
             ]
            ],
            "type": "histogram2d"
           }
          ],
          "histogram2dcontour": [
           {
            "colorbar": {
             "outlinewidth": 0,
             "ticks": ""
            },
            "colorscale": [
             [
              0,
              "#0d0887"
             ],
             [
              0.1111111111111111,
              "#46039f"
             ],
             [
              0.2222222222222222,
              "#7201a8"
             ],
             [
              0.3333333333333333,
              "#9c179e"
             ],
             [
              0.4444444444444444,
              "#bd3786"
             ],
             [
              0.5555555555555556,
              "#d8576b"
             ],
             [
              0.6666666666666666,
              "#ed7953"
             ],
             [
              0.7777777777777778,
              "#fb9f3a"
             ],
             [
              0.8888888888888888,
              "#fdca26"
             ],
             [
              1,
              "#f0f921"
             ]
            ],
            "type": "histogram2dcontour"
           }
          ],
          "mesh3d": [
           {
            "colorbar": {
             "outlinewidth": 0,
             "ticks": ""
            },
            "type": "mesh3d"
           }
          ],
          "parcoords": [
           {
            "line": {
             "colorbar": {
              "outlinewidth": 0,
              "ticks": ""
             }
            },
            "type": "parcoords"
           }
          ],
          "pie": [
           {
            "automargin": true,
            "type": "pie"
           }
          ],
          "scatter": [
           {
            "marker": {
             "colorbar": {
              "outlinewidth": 0,
              "ticks": ""
             }
            },
            "type": "scatter"
           }
          ],
          "scatter3d": [
           {
            "line": {
             "colorbar": {
              "outlinewidth": 0,
              "ticks": ""
             }
            },
            "marker": {
             "colorbar": {
              "outlinewidth": 0,
              "ticks": ""
             }
            },
            "type": "scatter3d"
           }
          ],
          "scattercarpet": [
           {
            "marker": {
             "colorbar": {
              "outlinewidth": 0,
              "ticks": ""
             }
            },
            "type": "scattercarpet"
           }
          ],
          "scattergeo": [
           {
            "marker": {
             "colorbar": {
              "outlinewidth": 0,
              "ticks": ""
             }
            },
            "type": "scattergeo"
           }
          ],
          "scattergl": [
           {
            "marker": {
             "colorbar": {
              "outlinewidth": 0,
              "ticks": ""
             }
            },
            "type": "scattergl"
           }
          ],
          "scattermapbox": [
           {
            "marker": {
             "colorbar": {
              "outlinewidth": 0,
              "ticks": ""
             }
            },
            "type": "scattermapbox"
           }
          ],
          "scatterpolar": [
           {
            "marker": {
             "colorbar": {
              "outlinewidth": 0,
              "ticks": ""
             }
            },
            "type": "scatterpolar"
           }
          ],
          "scatterpolargl": [
           {
            "marker": {
             "colorbar": {
              "outlinewidth": 0,
              "ticks": ""
             }
            },
            "type": "scatterpolargl"
           }
          ],
          "scatterternary": [
           {
            "marker": {
             "colorbar": {
              "outlinewidth": 0,
              "ticks": ""
             }
            },
            "type": "scatterternary"
           }
          ],
          "surface": [
           {
            "colorbar": {
             "outlinewidth": 0,
             "ticks": ""
            },
            "colorscale": [
             [
              0,
              "#0d0887"
             ],
             [
              0.1111111111111111,
              "#46039f"
             ],
             [
              0.2222222222222222,
              "#7201a8"
             ],
             [
              0.3333333333333333,
              "#9c179e"
             ],
             [
              0.4444444444444444,
              "#bd3786"
             ],
             [
              0.5555555555555556,
              "#d8576b"
             ],
             [
              0.6666666666666666,
              "#ed7953"
             ],
             [
              0.7777777777777778,
              "#fb9f3a"
             ],
             [
              0.8888888888888888,
              "#fdca26"
             ],
             [
              1,
              "#f0f921"
             ]
            ],
            "type": "surface"
           }
          ],
          "table": [
           {
            "cells": {
             "fill": {
              "color": "#EBF0F8"
             },
             "line": {
              "color": "white"
             }
            },
            "header": {
             "fill": {
              "color": "#C8D4E3"
             },
             "line": {
              "color": "white"
             }
            },
            "type": "table"
           }
          ]
         },
         "layout": {
          "annotationdefaults": {
           "arrowcolor": "#2a3f5f",
           "arrowhead": 0,
           "arrowwidth": 1
          },
          "autotypenumbers": "strict",
          "coloraxis": {
           "colorbar": {
            "outlinewidth": 0,
            "ticks": ""
           }
          },
          "colorscale": {
           "diverging": [
            [
             0,
             "#8e0152"
            ],
            [
             0.1,
             "#c51b7d"
            ],
            [
             0.2,
             "#de77ae"
            ],
            [
             0.3,
             "#f1b6da"
            ],
            [
             0.4,
             "#fde0ef"
            ],
            [
             0.5,
             "#f7f7f7"
            ],
            [
             0.6,
             "#e6f5d0"
            ],
            [
             0.7,
             "#b8e186"
            ],
            [
             0.8,
             "#7fbc41"
            ],
            [
             0.9,
             "#4d9221"
            ],
            [
             1,
             "#276419"
            ]
           ],
           "sequential": [
            [
             0,
             "#0d0887"
            ],
            [
             0.1111111111111111,
             "#46039f"
            ],
            [
             0.2222222222222222,
             "#7201a8"
            ],
            [
             0.3333333333333333,
             "#9c179e"
            ],
            [
             0.4444444444444444,
             "#bd3786"
            ],
            [
             0.5555555555555556,
             "#d8576b"
            ],
            [
             0.6666666666666666,
             "#ed7953"
            ],
            [
             0.7777777777777778,
             "#fb9f3a"
            ],
            [
             0.8888888888888888,
             "#fdca26"
            ],
            [
             1,
             "#f0f921"
            ]
           ],
           "sequentialminus": [
            [
             0,
             "#0d0887"
            ],
            [
             0.1111111111111111,
             "#46039f"
            ],
            [
             0.2222222222222222,
             "#7201a8"
            ],
            [
             0.3333333333333333,
             "#9c179e"
            ],
            [
             0.4444444444444444,
             "#bd3786"
            ],
            [
             0.5555555555555556,
             "#d8576b"
            ],
            [
             0.6666666666666666,
             "#ed7953"
            ],
            [
             0.7777777777777778,
             "#fb9f3a"
            ],
            [
             0.8888888888888888,
             "#fdca26"
            ],
            [
             1,
             "#f0f921"
            ]
           ]
          },
          "colorway": [
           "#636efa",
           "#EF553B",
           "#00cc96",
           "#ab63fa",
           "#FFA15A",
           "#19d3f3",
           "#FF6692",
           "#B6E880",
           "#FF97FF",
           "#FECB52"
          ],
          "font": {
           "color": "#2a3f5f"
          },
          "geo": {
           "bgcolor": "white",
           "lakecolor": "white",
           "landcolor": "#E5ECF6",
           "showlakes": true,
           "showland": true,
           "subunitcolor": "white"
          },
          "hoverlabel": {
           "align": "left"
          },
          "hovermode": "closest",
          "mapbox": {
           "style": "light"
          },
          "paper_bgcolor": "white",
          "plot_bgcolor": "#E5ECF6",
          "polar": {
           "angularaxis": {
            "gridcolor": "white",
            "linecolor": "white",
            "ticks": ""
           },
           "bgcolor": "#E5ECF6",
           "radialaxis": {
            "gridcolor": "white",
            "linecolor": "white",
            "ticks": ""
           }
          },
          "scene": {
           "xaxis": {
            "backgroundcolor": "#E5ECF6",
            "gridcolor": "white",
            "gridwidth": 2,
            "linecolor": "white",
            "showbackground": true,
            "ticks": "",
            "zerolinecolor": "white"
           },
           "yaxis": {
            "backgroundcolor": "#E5ECF6",
            "gridcolor": "white",
            "gridwidth": 2,
            "linecolor": "white",
            "showbackground": true,
            "ticks": "",
            "zerolinecolor": "white"
           },
           "zaxis": {
            "backgroundcolor": "#E5ECF6",
            "gridcolor": "white",
            "gridwidth": 2,
            "linecolor": "white",
            "showbackground": true,
            "ticks": "",
            "zerolinecolor": "white"
           }
          },
          "shapedefaults": {
           "line": {
            "color": "#2a3f5f"
           }
          },
          "ternary": {
           "aaxis": {
            "gridcolor": "white",
            "linecolor": "white",
            "ticks": ""
           },
           "baxis": {
            "gridcolor": "white",
            "linecolor": "white",
            "ticks": ""
           },
           "bgcolor": "#E5ECF6",
           "caxis": {
            "gridcolor": "white",
            "linecolor": "white",
            "ticks": ""
           }
          },
          "title": {
           "x": 0.05
          },
          "xaxis": {
           "automargin": true,
           "gridcolor": "white",
           "linecolor": "white",
           "ticks": "",
           "title": {
            "standoff": 15
           },
           "zerolinecolor": "white",
           "zerolinewidth": 2
          },
          "yaxis": {
           "automargin": true,
           "gridcolor": "white",
           "linecolor": "white",
           "ticks": "",
           "title": {
            "standoff": 15
           },
           "zerolinecolor": "white",
           "zerolinewidth": 2
          }
         }
        },
        "title": {
         "text": "Daily GME mentions"
        },
        "xaxis": {
         "anchor": "y",
         "domain": [
          0,
          1
         ],
         "rangeslider": {
          "visible": true
         },
         "title": {
          "text": "date"
         }
        },
        "yaxis": {
         "anchor": "x",
         "domain": [
          0,
          1
         ],
         "title": {
          "text": "count"
         }
        }
       }
      },
      "text/html": [
       "<div>                            <div id=\"83f6c9ef-e625-404f-a0fc-9c9d024594a2\" class=\"plotly-graph-div\" style=\"height:525px; width:100%;\"></div>            <script type=\"text/javascript\">                require([\"plotly\"], function(Plotly) {                    window.PLOTLYENV=window.PLOTLYENV || {};                                    if (document.getElementById(\"83f6c9ef-e625-404f-a0fc-9c9d024594a2\")) {                    Plotly.newPlot(                        \"83f6c9ef-e625-404f-a0fc-9c9d024594a2\",                        [{\"hovertemplate\": \"date=%{x}<br>count=%{y}<extra></extra>\", \"legendgroup\": \"\", \"line\": {\"color\": \"#636efa\", \"dash\": \"solid\"}, \"mode\": \"lines\", \"name\": \"\", \"orientation\": \"v\", \"showlegend\": false, \"type\": \"scatter\", \"x\": [\"2020-12-31\", \"2021-01-01\", \"2021-01-02\", \"2021-01-03\", \"2021-01-04\", \"2021-01-05\", \"2021-01-06\", \"2021-01-07\", \"2021-01-08\", \"2021-01-09\", \"2021-01-10\", \"2021-01-11\", \"2021-01-12\", \"2021-01-13\", \"2021-01-14\", \"2021-01-15\", \"2021-01-16\", \"2021-01-17\", \"2021-01-18\", \"2021-01-19\", \"2021-01-20\", \"2021-01-21\", \"2021-01-22\", \"2021-01-23\", \"2021-01-24\", \"2021-01-25\", \"2021-01-26\", \"2021-01-27\", \"2021-01-28\", \"2021-01-29\", \"2021-01-30\", \"2021-01-31\", \"2021-02-01\", \"2021-02-02\", \"2021-02-03\", \"2021-02-04\", \"2021-02-07\", \"2021-02-08\", \"2021-02-09\", \"2021-02-10\", \"2021-02-11\", \"2021-02-12\", \"2021-02-13\", \"2021-02-14\", \"2021-02-15\", \"2021-02-16\"], \"xaxis\": \"x\", \"y\": [30, 33, 44, 35, 67, 63, 51, 23, 53, 44, 30, 114, 52, 629, 633, 680, 222, 204, 387, 594, 453, 610, 1447, 688, 702, 3107, 1022, 11122, 21796, 11674, 6852, 6324, 10706, 10726, 4320, 3117, 137, 683, 589, 804, 661, 524, 273, 202, 229, 29], \"yaxis\": \"y\"}],                        {\"legend\": {\"tracegroupgap\": 0}, \"template\": {\"data\": {\"bar\": [{\"error_x\": {\"color\": \"#2a3f5f\"}, \"error_y\": {\"color\": \"#2a3f5f\"}, \"marker\": {\"line\": {\"color\": \"#E5ECF6\", \"width\": 0.5}}, \"type\": \"bar\"}], \"barpolar\": [{\"marker\": {\"line\": {\"color\": \"#E5ECF6\", \"width\": 0.5}}, \"type\": \"barpolar\"}], \"carpet\": [{\"aaxis\": {\"endlinecolor\": \"#2a3f5f\", \"gridcolor\": \"white\", \"linecolor\": \"white\", \"minorgridcolor\": \"white\", \"startlinecolor\": \"#2a3f5f\"}, \"baxis\": {\"endlinecolor\": \"#2a3f5f\", \"gridcolor\": \"white\", \"linecolor\": \"white\", \"minorgridcolor\": \"white\", \"startlinecolor\": \"#2a3f5f\"}, \"type\": \"carpet\"}], \"choropleth\": [{\"colorbar\": {\"outlinewidth\": 0, \"ticks\": \"\"}, \"type\": \"choropleth\"}], \"contour\": [{\"colorbar\": {\"outlinewidth\": 0, \"ticks\": \"\"}, \"colorscale\": [[0.0, \"#0d0887\"], [0.1111111111111111, \"#46039f\"], [0.2222222222222222, \"#7201a8\"], [0.3333333333333333, \"#9c179e\"], [0.4444444444444444, \"#bd3786\"], [0.5555555555555556, \"#d8576b\"], [0.6666666666666666, \"#ed7953\"], [0.7777777777777778, \"#fb9f3a\"], [0.8888888888888888, \"#fdca26\"], [1.0, \"#f0f921\"]], \"type\": \"contour\"}], \"contourcarpet\": [{\"colorbar\": {\"outlinewidth\": 0, \"ticks\": \"\"}, \"type\": \"contourcarpet\"}], \"heatmap\": [{\"colorbar\": {\"outlinewidth\": 0, \"ticks\": \"\"}, \"colorscale\": [[0.0, \"#0d0887\"], [0.1111111111111111, \"#46039f\"], [0.2222222222222222, \"#7201a8\"], [0.3333333333333333, \"#9c179e\"], [0.4444444444444444, \"#bd3786\"], [0.5555555555555556, \"#d8576b\"], [0.6666666666666666, \"#ed7953\"], [0.7777777777777778, \"#fb9f3a\"], [0.8888888888888888, \"#fdca26\"], [1.0, \"#f0f921\"]], \"type\": \"heatmap\"}], \"heatmapgl\": [{\"colorbar\": {\"outlinewidth\": 0, \"ticks\": \"\"}, \"colorscale\": [[0.0, \"#0d0887\"], [0.1111111111111111, \"#46039f\"], [0.2222222222222222, \"#7201a8\"], [0.3333333333333333, \"#9c179e\"], [0.4444444444444444, \"#bd3786\"], [0.5555555555555556, \"#d8576b\"], [0.6666666666666666, \"#ed7953\"], [0.7777777777777778, \"#fb9f3a\"], [0.8888888888888888, \"#fdca26\"], [1.0, \"#f0f921\"]], \"type\": \"heatmapgl\"}], \"histogram\": [{\"marker\": {\"colorbar\": {\"outlinewidth\": 0, \"ticks\": \"\"}}, \"type\": \"histogram\"}], \"histogram2d\": [{\"colorbar\": {\"outlinewidth\": 0, \"ticks\": \"\"}, \"colorscale\": [[0.0, \"#0d0887\"], [0.1111111111111111, \"#46039f\"], [0.2222222222222222, \"#7201a8\"], [0.3333333333333333, \"#9c179e\"], [0.4444444444444444, \"#bd3786\"], [0.5555555555555556, \"#d8576b\"], [0.6666666666666666, \"#ed7953\"], [0.7777777777777778, \"#fb9f3a\"], [0.8888888888888888, \"#fdca26\"], [1.0, \"#f0f921\"]], \"type\": \"histogram2d\"}], \"histogram2dcontour\": [{\"colorbar\": {\"outlinewidth\": 0, \"ticks\": \"\"}, \"colorscale\": [[0.0, \"#0d0887\"], [0.1111111111111111, \"#46039f\"], [0.2222222222222222, \"#7201a8\"], [0.3333333333333333, \"#9c179e\"], [0.4444444444444444, \"#bd3786\"], [0.5555555555555556, \"#d8576b\"], [0.6666666666666666, \"#ed7953\"], [0.7777777777777778, \"#fb9f3a\"], [0.8888888888888888, \"#fdca26\"], [1.0, \"#f0f921\"]], \"type\": \"histogram2dcontour\"}], \"mesh3d\": [{\"colorbar\": {\"outlinewidth\": 0, \"ticks\": \"\"}, \"type\": \"mesh3d\"}], \"parcoords\": [{\"line\": {\"colorbar\": {\"outlinewidth\": 0, \"ticks\": \"\"}}, \"type\": \"parcoords\"}], \"pie\": [{\"automargin\": true, \"type\": \"pie\"}], \"scatter\": [{\"marker\": {\"colorbar\": {\"outlinewidth\": 0, \"ticks\": \"\"}}, \"type\": \"scatter\"}], \"scatter3d\": [{\"line\": {\"colorbar\": {\"outlinewidth\": 0, \"ticks\": \"\"}}, \"marker\": {\"colorbar\": {\"outlinewidth\": 0, \"ticks\": \"\"}}, \"type\": \"scatter3d\"}], \"scattercarpet\": [{\"marker\": {\"colorbar\": {\"outlinewidth\": 0, \"ticks\": \"\"}}, \"type\": \"scattercarpet\"}], \"scattergeo\": [{\"marker\": {\"colorbar\": {\"outlinewidth\": 0, \"ticks\": \"\"}}, \"type\": \"scattergeo\"}], \"scattergl\": [{\"marker\": {\"colorbar\": {\"outlinewidth\": 0, \"ticks\": \"\"}}, \"type\": \"scattergl\"}], \"scattermapbox\": [{\"marker\": {\"colorbar\": {\"outlinewidth\": 0, \"ticks\": \"\"}}, \"type\": \"scattermapbox\"}], \"scatterpolar\": [{\"marker\": {\"colorbar\": {\"outlinewidth\": 0, \"ticks\": \"\"}}, \"type\": \"scatterpolar\"}], \"scatterpolargl\": [{\"marker\": {\"colorbar\": {\"outlinewidth\": 0, \"ticks\": \"\"}}, \"type\": \"scatterpolargl\"}], \"scatterternary\": [{\"marker\": {\"colorbar\": {\"outlinewidth\": 0, \"ticks\": \"\"}}, \"type\": \"scatterternary\"}], \"surface\": [{\"colorbar\": {\"outlinewidth\": 0, \"ticks\": \"\"}, \"colorscale\": [[0.0, \"#0d0887\"], [0.1111111111111111, \"#46039f\"], [0.2222222222222222, \"#7201a8\"], [0.3333333333333333, \"#9c179e\"], [0.4444444444444444, \"#bd3786\"], [0.5555555555555556, \"#d8576b\"], [0.6666666666666666, \"#ed7953\"], [0.7777777777777778, \"#fb9f3a\"], [0.8888888888888888, \"#fdca26\"], [1.0, \"#f0f921\"]], \"type\": \"surface\"}], \"table\": [{\"cells\": {\"fill\": {\"color\": \"#EBF0F8\"}, \"line\": {\"color\": \"white\"}}, \"header\": {\"fill\": {\"color\": \"#C8D4E3\"}, \"line\": {\"color\": \"white\"}}, \"type\": \"table\"}]}, \"layout\": {\"annotationdefaults\": {\"arrowcolor\": \"#2a3f5f\", \"arrowhead\": 0, \"arrowwidth\": 1}, \"autotypenumbers\": \"strict\", \"coloraxis\": {\"colorbar\": {\"outlinewidth\": 0, \"ticks\": \"\"}}, \"colorscale\": {\"diverging\": [[0, \"#8e0152\"], [0.1, \"#c51b7d\"], [0.2, \"#de77ae\"], [0.3, \"#f1b6da\"], [0.4, \"#fde0ef\"], [0.5, \"#f7f7f7\"], [0.6, \"#e6f5d0\"], [0.7, \"#b8e186\"], [0.8, \"#7fbc41\"], [0.9, \"#4d9221\"], [1, \"#276419\"]], \"sequential\": [[0.0, \"#0d0887\"], [0.1111111111111111, \"#46039f\"], [0.2222222222222222, \"#7201a8\"], [0.3333333333333333, \"#9c179e\"], [0.4444444444444444, \"#bd3786\"], [0.5555555555555556, \"#d8576b\"], [0.6666666666666666, \"#ed7953\"], [0.7777777777777778, \"#fb9f3a\"], [0.8888888888888888, \"#fdca26\"], [1.0, \"#f0f921\"]], \"sequentialminus\": [[0.0, \"#0d0887\"], [0.1111111111111111, \"#46039f\"], [0.2222222222222222, \"#7201a8\"], [0.3333333333333333, \"#9c179e\"], [0.4444444444444444, \"#bd3786\"], [0.5555555555555556, \"#d8576b\"], [0.6666666666666666, \"#ed7953\"], [0.7777777777777778, \"#fb9f3a\"], [0.8888888888888888, \"#fdca26\"], [1.0, \"#f0f921\"]]}, \"colorway\": [\"#636efa\", \"#EF553B\", \"#00cc96\", \"#ab63fa\", \"#FFA15A\", \"#19d3f3\", \"#FF6692\", \"#B6E880\", \"#FF97FF\", \"#FECB52\"], \"font\": {\"color\": \"#2a3f5f\"}, \"geo\": {\"bgcolor\": \"white\", \"lakecolor\": \"white\", \"landcolor\": \"#E5ECF6\", \"showlakes\": true, \"showland\": true, \"subunitcolor\": \"white\"}, \"hoverlabel\": {\"align\": \"left\"}, \"hovermode\": \"closest\", \"mapbox\": {\"style\": \"light\"}, \"paper_bgcolor\": \"white\", \"plot_bgcolor\": \"#E5ECF6\", \"polar\": {\"angularaxis\": {\"gridcolor\": \"white\", \"linecolor\": \"white\", \"ticks\": \"\"}, \"bgcolor\": \"#E5ECF6\", \"radialaxis\": {\"gridcolor\": \"white\", \"linecolor\": \"white\", \"ticks\": \"\"}}, \"scene\": {\"xaxis\": {\"backgroundcolor\": \"#E5ECF6\", \"gridcolor\": \"white\", \"gridwidth\": 2, \"linecolor\": \"white\", \"showbackground\": true, \"ticks\": \"\", \"zerolinecolor\": \"white\"}, \"yaxis\": {\"backgroundcolor\": \"#E5ECF6\", \"gridcolor\": \"white\", \"gridwidth\": 2, \"linecolor\": \"white\", \"showbackground\": true, \"ticks\": \"\", \"zerolinecolor\": \"white\"}, \"zaxis\": {\"backgroundcolor\": \"#E5ECF6\", \"gridcolor\": \"white\", \"gridwidth\": 2, \"linecolor\": \"white\", \"showbackground\": true, \"ticks\": \"\", \"zerolinecolor\": \"white\"}}, \"shapedefaults\": {\"line\": {\"color\": \"#2a3f5f\"}}, \"ternary\": {\"aaxis\": {\"gridcolor\": \"white\", \"linecolor\": \"white\", \"ticks\": \"\"}, \"baxis\": {\"gridcolor\": \"white\", \"linecolor\": \"white\", \"ticks\": \"\"}, \"bgcolor\": \"#E5ECF6\", \"caxis\": {\"gridcolor\": \"white\", \"linecolor\": \"white\", \"ticks\": \"\"}}, \"title\": {\"x\": 0.05}, \"xaxis\": {\"automargin\": true, \"gridcolor\": \"white\", \"linecolor\": \"white\", \"ticks\": \"\", \"title\": {\"standoff\": 15}, \"zerolinecolor\": \"white\", \"zerolinewidth\": 2}, \"yaxis\": {\"automargin\": true, \"gridcolor\": \"white\", \"linecolor\": \"white\", \"ticks\": \"\", \"title\": {\"standoff\": 15}, \"zerolinecolor\": \"white\", \"zerolinewidth\": 2}}}, \"title\": {\"text\": \"Daily GME mentions\"}, \"xaxis\": {\"anchor\": \"y\", \"domain\": [0.0, 1.0], \"rangeslider\": {\"visible\": true}, \"title\": {\"text\": \"date\"}}, \"yaxis\": {\"anchor\": \"x\", \"domain\": [0.0, 1.0], \"title\": {\"text\": \"count\"}}},                        {\"responsive\": true}                    ).then(function(){\n",
       "                            \n",
       "var gd = document.getElementById('83f6c9ef-e625-404f-a0fc-9c9d024594a2');\n",
       "var x = new MutationObserver(function (mutations, observer) {{\n",
       "        var display = window.getComputedStyle(gd).display;\n",
       "        if (!display || display === 'none') {{\n",
       "            console.log([gd, 'removed!']);\n",
       "            Plotly.purge(gd);\n",
       "            observer.disconnect();\n",
       "        }}\n",
       "}});\n",
       "\n",
       "// Listen for the removal of the full notebook cells\n",
       "var notebookContainer = gd.closest('#notebook-container');\n",
       "if (notebookContainer) {{\n",
       "    x.observe(notebookContainer, {childList: true});\n",
       "}}\n",
       "\n",
       "// Listen for the clearing of the current output cell\n",
       "var outputEl = gd.closest('.output');\n",
       "if (outputEl) {{\n",
       "    x.observe(outputEl, {childList: true});\n",
       "}}\n",
       "\n",
       "                        })                };                });            </script>        </div>"
      ]
     },
     "metadata": {},
     "output_type": "display_data"
    }
   ],
   "source": [
    "fig = px.line(gme_date, x='date', y='count', title='Daily GME mentions')\n",
    "\n",
    "fig.update_xaxes(rangeslider_visible=True)\n",
    "fig.show()\n",
    "fig.write_html(\"html/Daily GME Mentions.html\")"
   ]
  },
  {
   "cell_type": "code",
   "execution_count": 92,
   "metadata": {
    "scrolled": false
   },
   "outputs": [
    {
     "data": {
      "image/png": "[encoded data removed]",
      "text/plain": [
       "<Figure size 864x432 with 1 Axes>"
      ]
     },
     "metadata": {
      "needs_background": "light"
     },
     "output_type": "display_data"
    }
   ],
   "source": [
    "jan_25 = datetime.strptime('2021-01-25 00:00:00', \"%Y-%m-%d %H:%M:%S\")\n",
    "jan_29 = datetime.strptime('2021-01-29 23:00:00', \"%Y-%m-%d %H:%M:%S\")\n",
    "\n",
    "gme_hour = wsb_full.groupby(['title','date_hour']).count().reset_index()\n",
    "gme_hour = gme_hour[(gme_hour['title'] == 'gme') & (gme_hour['date_hour'] > jan_25)&\n",
    "                    (gme_hour['date_hour'] <= jan_29)]\n",
    "\n",
    "\n",
    "gme_hour = gme_hour.drop(['Unnamed: 0','author', 'scores',\n",
    "                                     'comments', 'timestamp'], axis =1)\n",
    "gme_hour = gme_hour.rename(columns = {'title':'title','date_hour' : 'date', 'date': 'count'})\n",
    "\n",
    "\n",
    "x = gme_hour['date']\n",
    "y = gme_hour['count']\n",
    "\n",
    "fig, ax = plt.subplots(figsize = (12,6))\n",
    "ax.plot(x,y, color = 'purple')\n",
    "ax.set_title('Hourly GME Mentions from Jan 25th to Jan 29th')\n",
    "ax.set_xlabel('Hours')\n",
    "ax.set_ylabel('Number of Mentions')\n",
    "fig.autofmt_xdate()\n",
    "fig.tight_layout()\n"
   ]
  },
  {
   "cell_type": "code",
   "execution_count": 95,
   "metadata": {},
   "outputs": [
    {
     "data": {
      "application/vnd.plotly.v1+json": {
       "config": {
        "plotlyServerURL": "https://plot.ly"
       },
       "data": [
        {
         "hovertemplate": "Hours=%{x}<br>Mentions=%{y}<extra></extra>",
         "legendgroup": "",
         "line": {
          "color": "#636efa",
          "dash": "solid"
         },
         "mode": "lines",
         "name": "",
         "orientation": "v",
         "showlegend": false,
         "type": "scatter",
         "x": [
          "2021-01-25T01:00:00",
          "2021-01-25T02:00:00",
          "2021-01-25T03:00:00",
          "2021-01-25T04:00:00",
          "2021-01-25T05:00:00",
          "2021-01-25T06:00:00",
          "2021-01-25T07:00:00",
          "2021-01-25T08:00:00",
          "2021-01-25T09:00:00",
          "2021-01-25T10:00:00",
          "2021-01-25T11:00:00",
          "2021-01-25T12:00:00",
          "2021-01-25T13:00:00",
          "2021-01-25T14:00:00",
          "2021-01-25T15:00:00",
          "2021-01-25T16:00:00",
          "2021-01-25T17:00:00",
          "2021-01-25T18:00:00",
          "2021-01-25T19:00:00",
          "2021-01-25T20:00:00",
          "2021-01-25T21:00:00",
          "2021-01-25T22:00:00",
          "2021-01-25T23:00:00",
          "2021-01-26T00:00:00",
          "2021-01-26T01:00:00",
          "2021-01-26T02:00:00",
          "2021-01-26T03:00:00",
          "2021-01-26T04:00:00",
          "2021-01-26T05:00:00",
          "2021-01-26T06:00:00",
          "2021-01-26T07:00:00",
          "2021-01-26T08:00:00",
          "2021-01-26T09:00:00",
          "2021-01-26T10:00:00",
          "2021-01-26T11:00:00",
          "2021-01-27T09:00:00",
          "2021-01-27T10:00:00",
          "2021-01-27T11:00:00",
          "2021-01-27T12:00:00",
          "2021-01-27T13:00:00",
          "2021-01-27T14:00:00",
          "2021-01-27T15:00:00",
          "2021-01-27T16:00:00",
          "2021-01-27T17:00:00",
          "2021-01-27T18:00:00",
          "2021-01-27T19:00:00",
          "2021-01-27T20:00:00",
          "2021-01-27T21:00:00",
          "2021-01-27T22:00:00",
          "2021-01-27T23:00:00",
          "2021-01-28T00:00:00",
          "2021-01-28T01:00:00",
          "2021-01-28T02:00:00",
          "2021-01-28T03:00:00",
          "2021-01-28T04:00:00",
          "2021-01-28T05:00:00",
          "2021-01-28T06:00:00",
          "2021-01-28T07:00:00",
          "2021-01-28T08:00:00",
          "2021-01-28T09:00:00",
          "2021-01-28T10:00:00",
          "2021-01-28T11:00:00",
          "2021-01-28T12:00:00",
          "2021-01-28T13:00:00",
          "2021-01-28T14:00:00",
          "2021-01-28T15:00:00",
          "2021-01-28T16:00:00",
          "2021-01-28T17:00:00",
          "2021-01-28T18:00:00",
          "2021-01-28T19:00:00",
          "2021-01-28T20:00:00",
          "2021-01-28T21:00:00",
          "2021-01-28T22:00:00",
          "2021-01-28T23:00:00",
          "2021-01-29T00:00:00",
          "2021-01-29T01:00:00",
          "2021-01-29T02:00:00",
          "2021-01-29T03:00:00",
          "2021-01-29T04:00:00",
          "2021-01-29T05:00:00",
          "2021-01-29T06:00:00",
          "2021-01-29T07:00:00",
          "2021-01-29T08:00:00",
          "2021-01-29T09:00:00",
          "2021-01-29T10:00:00",
          "2021-01-29T11:00:00",
          "2021-01-29T12:00:00",
          "2021-01-29T13:00:00",
          "2021-01-29T14:00:00",
          "2021-01-29T15:00:00",
          "2021-01-29T16:00:00",
          "2021-01-29T17:00:00",
          "2021-01-29T18:00:00",
          "2021-01-29T19:00:00",
          "2021-01-29T20:00:00",
          "2021-01-29T21:00:00",
          "2021-01-29T22:00:00",
          "2021-01-29T23:00:00"
         ],
         "xaxis": "x",
         "y": [
          19,
          26,
          20,
          116,
          97,
          48,
          59,
          98,
          148,
          294,
          392,
          373,
          220,
          159,
          160,
          143,
          130,
          90,
          100,
          113,
          103,
          103,
          63,
          83,
          65,
          49,
          51,
          46,
          48,
          61,
          80,
          76,
          155,
          229,
          79,
          44,
          1050,
          1176,
          1299,
          898,
          1112,
          1259,
          504,
          308,
          382,
          403,
          906,
          705,
          614,
          462,
          365,
          318,
          291,
          317,
          276,
          426,
          623,
          638,
          1821,
          2058,
          2054,
          2080,
          1572,
          967,
          1386,
          1267,
          997,
          770,
          737,
          680,
          606,
          531,
          560,
          456,
          426,
          330,
          322,
          273,
          333,
          316,
          315,
          400,
          475,
          881,
          1006,
          726,
          677,
          705,
          795,
          635,
          525,
          425,
          374,
          335,
          370,
          410,
          309,
          311
         ],
         "yaxis": "y"
        }
       ],
       "layout": {
        "legend": {
         "tracegroupgap": 0
        },
        "template": {
         "data": {
          "bar": [
           {
            "error_x": {
             "color": "#2a3f5f"
            },
            "error_y": {
             "color": "#2a3f5f"
            },
            "marker": {
             "line": {
              "color": "#E5ECF6",
              "width": 0.5
             }
            },
            "type": "bar"
           }
          ],
          "barpolar": [
           {
            "marker": {
             "line": {
              "color": "#E5ECF6",
              "width": 0.5
             }
            },
            "type": "barpolar"
           }
          ],
          "carpet": [
           {
            "aaxis": {
             "endlinecolor": "#2a3f5f",
             "gridcolor": "white",
             "linecolor": "white",
             "minorgridcolor": "white",
             "startlinecolor": "#2a3f5f"
            },
            "baxis": {
             "endlinecolor": "#2a3f5f",
             "gridcolor": "white",
             "linecolor": "white",
             "minorgridcolor": "white",
             "startlinecolor": "#2a3f5f"
            },
            "type": "carpet"
           }
          ],
          "choropleth": [
           {
            "colorbar": {
             "outlinewidth": 0,
             "ticks": ""
            },
            "type": "choropleth"
           }
          ],
          "contour": [
           {
            "colorbar": {
             "outlinewidth": 0,
             "ticks": ""
            },
            "colorscale": [
             [
              0,
              "#0d0887"
             ],
             [
              0.1111111111111111,
              "#46039f"
             ],
             [
              0.2222222222222222,
              "#7201a8"
             ],
             [
              0.3333333333333333,
              "#9c179e"
             ],
             [
              0.4444444444444444,
              "#bd3786"
             ],
             [
              0.5555555555555556,
              "#d8576b"
             ],
             [
              0.6666666666666666,
              "#ed7953"
             ],
             [
              0.7777777777777778,
              "#fb9f3a"
             ],
             [
              0.8888888888888888,
              "#fdca26"
             ],
             [
              1,
              "#f0f921"
             ]
            ],
            "type": "contour"
           }
          ],
          "contourcarpet": [
           {
            "colorbar": {
             "outlinewidth": 0,
             "ticks": ""
            },
            "type": "contourcarpet"
           }
          ],
          "heatmap": [
           {
            "colorbar": {
             "outlinewidth": 0,
             "ticks": ""
            },
            "colorscale": [
             [
              0,
              "#0d0887"
             ],
             [
              0.1111111111111111,
              "#46039f"
             ],
             [
              0.2222222222222222,
              "#7201a8"
             ],
             [
              0.3333333333333333,
              "#9c179e"
             ],
             [
              0.4444444444444444,
              "#bd3786"
             ],
             [
              0.5555555555555556,
              "#d8576b"
             ],
             [
              0.6666666666666666,
              "#ed7953"
             ],
             [
              0.7777777777777778,
              "#fb9f3a"
             ],
             [
              0.8888888888888888,
              "#fdca26"
             ],
             [
              1,
              "#f0f921"
             ]
            ],
            "type": "heatmap"
           }
          ],
          "heatmapgl": [
           {
            "colorbar": {
             "outlinewidth": 0,
             "ticks": ""
            },
            "colorscale": [
             [
              0,
              "#0d0887"
             ],
             [
              0.1111111111111111,
              "#46039f"
             ],
             [
              0.2222222222222222,
              "#7201a8"
             ],
             [
              0.3333333333333333,
              "#9c179e"
             ],
             [
              0.4444444444444444,
              "#bd3786"
             ],
             [
              0.5555555555555556,
              "#d8576b"
             ],
             [
              0.6666666666666666,
              "#ed7953"
             ],
             [
              0.7777777777777778,
              "#fb9f3a"
             ],
             [
              0.8888888888888888,
              "#fdca26"
             ],
             [
              1,
              "#f0f921"
             ]
            ],
            "type": "heatmapgl"
           }
          ],
          "histogram": [
           {
            "marker": {
             "colorbar": {
              "outlinewidth": 0,
              "ticks": ""
             }
            },
            "type": "histogram"
           }
          ],
          "histogram2d": [
           {
            "colorbar": {
             "outlinewidth": 0,
             "ticks": ""
            },
            "colorscale": [
             [
              0,
              "#0d0887"
             ],
             [
              0.1111111111111111,
              "#46039f"
             ],
             [
              0.2222222222222222,
              "#7201a8"
             ],
             [
              0.3333333333333333,
              "#9c179e"
             ],
             [
              0.4444444444444444,
              "#bd3786"
             ],
             [
              0.5555555555555556,
              "#d8576b"
             ],
             [
              0.6666666666666666,
              "#ed7953"
             ],
             [
              0.7777777777777778,
              "#fb9f3a"
             ],
             [
              0.8888888888888888,
              "#fdca26"
             ],
             [
              1,
              "#f0f921"
             ]
            ],
            "type": "histogram2d"
           }
          ],
          "histogram2dcontour": [
           {
            "colorbar": {
             "outlinewidth": 0,
             "ticks": ""
            },
            "colorscale": [
             [
              0,
              "#0d0887"
             ],
             [
              0.1111111111111111,
              "#46039f"
             ],
             [
              0.2222222222222222,
              "#7201a8"
             ],
             [
              0.3333333333333333,
              "#9c179e"
             ],
             [
              0.4444444444444444,
              "#bd3786"
             ],
             [
              0.5555555555555556,
              "#d8576b"
             ],
             [
              0.6666666666666666,
              "#ed7953"
             ],
             [
              0.7777777777777778,
              "#fb9f3a"
             ],
             [
              0.8888888888888888,
              "#fdca26"
             ],
             [
              1,
              "#f0f921"
             ]
            ],
            "type": "histogram2dcontour"
           }
          ],
          "mesh3d": [
           {
            "colorbar": {
             "outlinewidth": 0,
             "ticks": ""
            },
            "type": "mesh3d"
           }
          ],
          "parcoords": [
           {
            "line": {
             "colorbar": {
              "outlinewidth": 0,
              "ticks": ""
             }
            },
            "type": "parcoords"
           }
          ],
          "pie": [
           {
            "automargin": true,
            "type": "pie"
           }
          ],
          "scatter": [
           {
            "marker": {
             "colorbar": {
              "outlinewidth": 0,
              "ticks": ""
             }
            },
            "type": "scatter"
           }
          ],
          "scatter3d": [
           {
            "line": {
             "colorbar": {
              "outlinewidth": 0,
              "ticks": ""
             }
            },
            "marker": {
             "colorbar": {
              "outlinewidth": 0,
              "ticks": ""
             }
            },
            "type": "scatter3d"
           }
          ],
          "scattercarpet": [
           {
            "marker": {
             "colorbar": {
              "outlinewidth": 0,
              "ticks": ""
             }
            },
            "type": "scattercarpet"
           }
          ],
          "scattergeo": [
           {
            "marker": {
             "colorbar": {
              "outlinewidth": 0,
              "ticks": ""
             }
            },
            "type": "scattergeo"
           }
          ],
          "scattergl": [
           {
            "marker": {
             "colorbar": {
              "outlinewidth": 0,
              "ticks": ""
             }
            },
            "type": "scattergl"
           }
          ],
          "scattermapbox": [
           {
            "marker": {
             "colorbar": {
              "outlinewidth": 0,
              "ticks": ""
             }
            },
            "type": "scattermapbox"
           }
          ],
          "scatterpolar": [
           {
            "marker": {
             "colorbar": {
              "outlinewidth": 0,
              "ticks": ""
             }
            },
            "type": "scatterpolar"
           }
          ],
          "scatterpolargl": [
           {
            "marker": {
             "colorbar": {
              "outlinewidth": 0,
              "ticks": ""
             }
            },
            "type": "scatterpolargl"
           }
          ],
          "scatterternary": [
           {
            "marker": {
             "colorbar": {
              "outlinewidth": 0,
              "ticks": ""
             }
            },
            "type": "scatterternary"
           }
          ],
          "surface": [
           {
            "colorbar": {
             "outlinewidth": 0,
             "ticks": ""
            },
            "colorscale": [
             [
              0,
              "#0d0887"
             ],
             [
              0.1111111111111111,
              "#46039f"
             ],
             [
              0.2222222222222222,
              "#7201a8"
             ],
             [
              0.3333333333333333,
              "#9c179e"
             ],
             [
              0.4444444444444444,
              "#bd3786"
             ],
             [
              0.5555555555555556,
              "#d8576b"
             ],
             [
              0.6666666666666666,
              "#ed7953"
             ],
             [
              0.7777777777777778,
              "#fb9f3a"
             ],
             [
              0.8888888888888888,
              "#fdca26"
             ],
             [
              1,
              "#f0f921"
             ]
            ],
            "type": "surface"
           }
          ],
          "table": [
           {
            "cells": {
             "fill": {
              "color": "#EBF0F8"
             },
             "line": {
              "color": "white"
             }
            },
            "header": {
             "fill": {
              "color": "#C8D4E3"
             },
             "line": {
              "color": "white"
             }
            },
            "type": "table"
           }
          ]
         },
         "layout": {
          "annotationdefaults": {
           "arrowcolor": "#2a3f5f",
           "arrowhead": 0,
           "arrowwidth": 1
          },
          "autotypenumbers": "strict",
          "coloraxis": {
           "colorbar": {
            "outlinewidth": 0,
            "ticks": ""
           }
          },
          "colorscale": {
           "diverging": [
            [
             0,
             "#8e0152"
            ],
            [
             0.1,
             "#c51b7d"
            ],
            [
             0.2,
             "#de77ae"
            ],
            [
             0.3,
             "#f1b6da"
            ],
            [
             0.4,
             "#fde0ef"
            ],
            [
             0.5,
             "#f7f7f7"
            ],
            [
             0.6,
             "#e6f5d0"
            ],
            [
             0.7,
             "#b8e186"
            ],
            [
             0.8,
             "#7fbc41"
            ],
            [
             0.9,
             "#4d9221"
            ],
            [
             1,
             "#276419"
            ]
           ],
           "sequential": [
            [
             0,
             "#0d0887"
            ],
            [
             0.1111111111111111,
             "#46039f"
            ],
            [
             0.2222222222222222,
             "#7201a8"
            ],
            [
             0.3333333333333333,
             "#9c179e"
            ],
            [
             0.4444444444444444,
             "#bd3786"
            ],
            [
             0.5555555555555556,
             "#d8576b"
            ],
            [
             0.6666666666666666,
             "#ed7953"
            ],
            [
             0.7777777777777778,
             "#fb9f3a"
            ],
            [
             0.8888888888888888,
             "#fdca26"
            ],
            [
             1,
             "#f0f921"
            ]
           ],
           "sequentialminus": [
            [
             0,
             "#0d0887"
            ],
            [
             0.1111111111111111,
             "#46039f"
            ],
            [
             0.2222222222222222,
             "#7201a8"
            ],
            [
             0.3333333333333333,
             "#9c179e"
            ],
            [
             0.4444444444444444,
             "#bd3786"
            ],
            [
             0.5555555555555556,
             "#d8576b"
            ],
            [
             0.6666666666666666,
             "#ed7953"
            ],
            [
             0.7777777777777778,
             "#fb9f3a"
            ],
            [
             0.8888888888888888,
             "#fdca26"
            ],
            [
             1,
             "#f0f921"
            ]
           ]
          },
          "colorway": [
           "#636efa",
           "#EF553B",
           "#00cc96",
           "#ab63fa",
           "#FFA15A",
           "#19d3f3",
           "#FF6692",
           "#B6E880",
           "#FF97FF",
           "#FECB52"
          ],
          "font": {
           "color": "#2a3f5f"
          },
          "geo": {
           "bgcolor": "white",
           "lakecolor": "white",
           "landcolor": "#E5ECF6",
           "showlakes": true,
           "showland": true,
           "subunitcolor": "white"
          },
          "hoverlabel": {
           "align": "left"
          },
          "hovermode": "closest",
          "mapbox": {
           "style": "light"
          },
          "paper_bgcolor": "white",
          "plot_bgcolor": "#E5ECF6",
          "polar": {
           "angularaxis": {
            "gridcolor": "white",
            "linecolor": "white",
            "ticks": ""
           },
           "bgcolor": "#E5ECF6",
           "radialaxis": {
            "gridcolor": "white",
            "linecolor": "white",
            "ticks": ""
           }
          },
          "scene": {
           "xaxis": {
            "backgroundcolor": "#E5ECF6",
            "gridcolor": "white",
            "gridwidth": 2,
            "linecolor": "white",
            "showbackground": true,
            "ticks": "",
            "zerolinecolor": "white"
           },
           "yaxis": {
            "backgroundcolor": "#E5ECF6",
            "gridcolor": "white",
            "gridwidth": 2,
            "linecolor": "white",
            "showbackground": true,
            "ticks": "",
            "zerolinecolor": "white"
           },
           "zaxis": {
            "backgroundcolor": "#E5ECF6",
            "gridcolor": "white",
            "gridwidth": 2,
            "linecolor": "white",
            "showbackground": true,
            "ticks": "",
            "zerolinecolor": "white"
           }
          },
          "shapedefaults": {
           "line": {
            "color": "#2a3f5f"
           }
          },
          "ternary": {
           "aaxis": {
            "gridcolor": "white",
            "linecolor": "white",
            "ticks": ""
           },
           "baxis": {
            "gridcolor": "white",
            "linecolor": "white",
            "ticks": ""
           },
           "bgcolor": "#E5ECF6",
           "caxis": {
            "gridcolor": "white",
            "linecolor": "white",
            "ticks": ""
           }
          },
          "title": {
           "x": 0.05
          },
          "xaxis": {
           "automargin": true,
           "gridcolor": "white",
           "linecolor": "white",
           "ticks": "",
           "title": {
            "standoff": 15
           },
           "zerolinecolor": "white",
           "zerolinewidth": 2
          },
          "yaxis": {
           "automargin": true,
           "gridcolor": "white",
           "linecolor": "white",
           "ticks": "",
           "title": {
            "standoff": 15
           },
           "zerolinecolor": "white",
           "zerolinewidth": 2
          }
         }
        },
        "title": {
         "text": "Hourly GME Mentions - Jan 25th to Jan 29th"
        },
        "xaxis": {
         "anchor": "y",
         "domain": [
          0,
          1
         ],
         "rangeslider": {
          "visible": true
         },
         "title": {
          "text": "Hours"
         }
        },
        "yaxis": {
         "anchor": "x",
         "domain": [
          0,
          1
         ],
         "title": {
          "text": "Mentions"
         }
        }
       }
      },
      "text/html": [
       "<div>                            <div id=\"2bc3c642-f5d8-4ab4-9877-700d78177c10\" class=\"plotly-graph-div\" style=\"height:525px; width:100%;\"></div>            <script type=\"text/javascript\">                require([\"plotly\"], function(Plotly) {                    window.PLOTLYENV=window.PLOTLYENV || {};                                    if (document.getElementById(\"2bc3c642-f5d8-4ab4-9877-700d78177c10\")) {                    Plotly.newPlot(                        \"2bc3c642-f5d8-4ab4-9877-700d78177c10\",                        [{\"hovertemplate\": \"Hours=%{x}<br>Mentions=%{y}<extra></extra>\", \"legendgroup\": \"\", \"line\": {\"color\": \"#636efa\", \"dash\": \"solid\"}, \"mode\": \"lines\", \"name\": \"\", \"orientation\": \"v\", \"showlegend\": false, \"type\": \"scatter\", \"x\": [\"2021-01-25T01:00:00\", \"2021-01-25T02:00:00\", \"2021-01-25T03:00:00\", \"2021-01-25T04:00:00\", \"2021-01-25T05:00:00\", \"2021-01-25T06:00:00\", \"2021-01-25T07:00:00\", \"2021-01-25T08:00:00\", \"2021-01-25T09:00:00\", \"2021-01-25T10:00:00\", \"2021-01-25T11:00:00\", \"2021-01-25T12:00:00\", \"2021-01-25T13:00:00\", \"2021-01-25T14:00:00\", \"2021-01-25T15:00:00\", \"2021-01-25T16:00:00\", \"2021-01-25T17:00:00\", \"2021-01-25T18:00:00\", \"2021-01-25T19:00:00\", \"2021-01-25T20:00:00\", \"2021-01-25T21:00:00\", \"2021-01-25T22:00:00\", \"2021-01-25T23:00:00\", \"2021-01-26T00:00:00\", \"2021-01-26T01:00:00\", \"2021-01-26T02:00:00\", \"2021-01-26T03:00:00\", \"2021-01-26T04:00:00\", \"2021-01-26T05:00:00\", \"2021-01-26T06:00:00\", \"2021-01-26T07:00:00\", \"2021-01-26T08:00:00\", \"2021-01-26T09:00:00\", \"2021-01-26T10:00:00\", \"2021-01-26T11:00:00\", \"2021-01-27T09:00:00\", \"2021-01-27T10:00:00\", \"2021-01-27T11:00:00\", \"2021-01-27T12:00:00\", \"2021-01-27T13:00:00\", \"2021-01-27T14:00:00\", \"2021-01-27T15:00:00\", \"2021-01-27T16:00:00\", \"2021-01-27T17:00:00\", \"2021-01-27T18:00:00\", \"2021-01-27T19:00:00\", \"2021-01-27T20:00:00\", \"2021-01-27T21:00:00\", \"2021-01-27T22:00:00\", \"2021-01-27T23:00:00\", \"2021-01-28T00:00:00\", \"2021-01-28T01:00:00\", \"2021-01-28T02:00:00\", \"2021-01-28T03:00:00\", \"2021-01-28T04:00:00\", \"2021-01-28T05:00:00\", \"2021-01-28T06:00:00\", \"2021-01-28T07:00:00\", \"2021-01-28T08:00:00\", \"2021-01-28T09:00:00\", \"2021-01-28T10:00:00\", \"2021-01-28T11:00:00\", \"2021-01-28T12:00:00\", \"2021-01-28T13:00:00\", \"2021-01-28T14:00:00\", \"2021-01-28T15:00:00\", \"2021-01-28T16:00:00\", \"2021-01-28T17:00:00\", \"2021-01-28T18:00:00\", \"2021-01-28T19:00:00\", \"2021-01-28T20:00:00\", \"2021-01-28T21:00:00\", \"2021-01-28T22:00:00\", \"2021-01-28T23:00:00\", \"2021-01-29T00:00:00\", \"2021-01-29T01:00:00\", \"2021-01-29T02:00:00\", \"2021-01-29T03:00:00\", \"2021-01-29T04:00:00\", \"2021-01-29T05:00:00\", \"2021-01-29T06:00:00\", \"2021-01-29T07:00:00\", \"2021-01-29T08:00:00\", \"2021-01-29T09:00:00\", \"2021-01-29T10:00:00\", \"2021-01-29T11:00:00\", \"2021-01-29T12:00:00\", \"2021-01-29T13:00:00\", \"2021-01-29T14:00:00\", \"2021-01-29T15:00:00\", \"2021-01-29T16:00:00\", \"2021-01-29T17:00:00\", \"2021-01-29T18:00:00\", \"2021-01-29T19:00:00\", \"2021-01-29T20:00:00\", \"2021-01-29T21:00:00\", \"2021-01-29T22:00:00\", \"2021-01-29T23:00:00\"], \"xaxis\": \"x\", \"y\": [19, 26, 20, 116, 97, 48, 59, 98, 148, 294, 392, 373, 220, 159, 160, 143, 130, 90, 100, 113, 103, 103, 63, 83, 65, 49, 51, 46, 48, 61, 80, 76, 155, 229, 79, 44, 1050, 1176, 1299, 898, 1112, 1259, 504, 308, 382, 403, 906, 705, 614, 462, 365, 318, 291, 317, 276, 426, 623, 638, 1821, 2058, 2054, 2080, 1572, 967, 1386, 1267, 997, 770, 737, 680, 606, 531, 560, 456, 426, 330, 322, 273, 333, 316, 315, 400, 475, 881, 1006, 726, 677, 705, 795, 635, 525, 425, 374, 335, 370, 410, 309, 311], \"yaxis\": \"y\"}],                        {\"legend\": {\"tracegroupgap\": 0}, \"template\": {\"data\": {\"bar\": [{\"error_x\": {\"color\": \"#2a3f5f\"}, \"error_y\": {\"color\": \"#2a3f5f\"}, \"marker\": {\"line\": {\"color\": \"#E5ECF6\", \"width\": 0.5}}, \"type\": \"bar\"}], \"barpolar\": [{\"marker\": {\"line\": {\"color\": \"#E5ECF6\", \"width\": 0.5}}, \"type\": \"barpolar\"}], \"carpet\": [{\"aaxis\": {\"endlinecolor\": \"#2a3f5f\", \"gridcolor\": \"white\", \"linecolor\": \"white\", \"minorgridcolor\": \"white\", \"startlinecolor\": \"#2a3f5f\"}, \"baxis\": {\"endlinecolor\": \"#2a3f5f\", \"gridcolor\": \"white\", \"linecolor\": \"white\", \"minorgridcolor\": \"white\", \"startlinecolor\": \"#2a3f5f\"}, \"type\": \"carpet\"}], \"choropleth\": [{\"colorbar\": {\"outlinewidth\": 0, \"ticks\": \"\"}, \"type\": \"choropleth\"}], \"contour\": [{\"colorbar\": {\"outlinewidth\": 0, \"ticks\": \"\"}, \"colorscale\": [[0.0, \"#0d0887\"], [0.1111111111111111, \"#46039f\"], [0.2222222222222222, \"#7201a8\"], [0.3333333333333333, \"#9c179e\"], [0.4444444444444444, \"#bd3786\"], [0.5555555555555556, \"#d8576b\"], [0.6666666666666666, \"#ed7953\"], [0.7777777777777778, \"#fb9f3a\"], [0.8888888888888888, \"#fdca26\"], [1.0, \"#f0f921\"]], \"type\": \"contour\"}], \"contourcarpet\": [{\"colorbar\": {\"outlinewidth\": 0, \"ticks\": \"\"}, \"type\": \"contourcarpet\"}], \"heatmap\": [{\"colorbar\": {\"outlinewidth\": 0, \"ticks\": \"\"}, \"colorscale\": [[0.0, \"#0d0887\"], [0.1111111111111111, \"#46039f\"], [0.2222222222222222, \"#7201a8\"], [0.3333333333333333, \"#9c179e\"], [0.4444444444444444, \"#bd3786\"], [0.5555555555555556, \"#d8576b\"], [0.6666666666666666, \"#ed7953\"], [0.7777777777777778, \"#fb9f3a\"], [0.8888888888888888, \"#fdca26\"], [1.0, \"#f0f921\"]], \"type\": \"heatmap\"}], \"heatmapgl\": [{\"colorbar\": {\"outlinewidth\": 0, \"ticks\": \"\"}, \"colorscale\": [[0.0, \"#0d0887\"], [0.1111111111111111, \"#46039f\"], [0.2222222222222222, \"#7201a8\"], [0.3333333333333333, \"#9c179e\"], [0.4444444444444444, \"#bd3786\"], [0.5555555555555556, \"#d8576b\"], [0.6666666666666666, \"#ed7953\"], [0.7777777777777778, \"#fb9f3a\"], [0.8888888888888888, \"#fdca26\"], [1.0, \"#f0f921\"]], \"type\": \"heatmapgl\"}], \"histogram\": [{\"marker\": {\"colorbar\": {\"outlinewidth\": 0, \"ticks\": \"\"}}, \"type\": \"histogram\"}], \"histogram2d\": [{\"colorbar\": {\"outlinewidth\": 0, \"ticks\": \"\"}, \"colorscale\": [[0.0, \"#0d0887\"], [0.1111111111111111, \"#46039f\"], [0.2222222222222222, \"#7201a8\"], [0.3333333333333333, \"#9c179e\"], [0.4444444444444444, \"#bd3786\"], [0.5555555555555556, \"#d8576b\"], [0.6666666666666666, \"#ed7953\"], [0.7777777777777778, \"#fb9f3a\"], [0.8888888888888888, \"#fdca26\"], [1.0, \"#f0f921\"]], \"type\": \"histogram2d\"}], \"histogram2dcontour\": [{\"colorbar\": {\"outlinewidth\": 0, \"ticks\": \"\"}, \"colorscale\": [[0.0, \"#0d0887\"], [0.1111111111111111, \"#46039f\"], [0.2222222222222222, \"#7201a8\"], [0.3333333333333333, \"#9c179e\"], [0.4444444444444444, \"#bd3786\"], [0.5555555555555556, \"#d8576b\"], [0.6666666666666666, \"#ed7953\"], [0.7777777777777778, \"#fb9f3a\"], [0.8888888888888888, \"#fdca26\"], [1.0, \"#f0f921\"]], \"type\": \"histogram2dcontour\"}], \"mesh3d\": [{\"colorbar\": {\"outlinewidth\": 0, \"ticks\": \"\"}, \"type\": \"mesh3d\"}], \"parcoords\": [{\"line\": {\"colorbar\": {\"outlinewidth\": 0, \"ticks\": \"\"}}, \"type\": \"parcoords\"}], \"pie\": [{\"automargin\": true, \"type\": \"pie\"}], \"scatter\": [{\"marker\": {\"colorbar\": {\"outlinewidth\": 0, \"ticks\": \"\"}}, \"type\": \"scatter\"}], \"scatter3d\": [{\"line\": {\"colorbar\": {\"outlinewidth\": 0, \"ticks\": \"\"}}, \"marker\": {\"colorbar\": {\"outlinewidth\": 0, \"ticks\": \"\"}}, \"type\": \"scatter3d\"}], \"scattercarpet\": [{\"marker\": {\"colorbar\": {\"outlinewidth\": 0, \"ticks\": \"\"}}, \"type\": \"scattercarpet\"}], \"scattergeo\": [{\"marker\": {\"colorbar\": {\"outlinewidth\": 0, \"ticks\": \"\"}}, \"type\": \"scattergeo\"}], \"scattergl\": [{\"marker\": {\"colorbar\": {\"outlinewidth\": 0, \"ticks\": \"\"}}, \"type\": \"scattergl\"}], \"scattermapbox\": [{\"marker\": {\"colorbar\": {\"outlinewidth\": 0, \"ticks\": \"\"}}, \"type\": \"scattermapbox\"}], \"scatterpolar\": [{\"marker\": {\"colorbar\": {\"outlinewidth\": 0, \"ticks\": \"\"}}, \"type\": \"scatterpolar\"}], \"scatterpolargl\": [{\"marker\": {\"colorbar\": {\"outlinewidth\": 0, \"ticks\": \"\"}}, \"type\": \"scatterpolargl\"}], \"scatterternary\": [{\"marker\": {\"colorbar\": {\"outlinewidth\": 0, \"ticks\": \"\"}}, \"type\": \"scatterternary\"}], \"surface\": [{\"colorbar\": {\"outlinewidth\": 0, \"ticks\": \"\"}, \"colorscale\": [[0.0, \"#0d0887\"], [0.1111111111111111, \"#46039f\"], [0.2222222222222222, \"#7201a8\"], [0.3333333333333333, \"#9c179e\"], [0.4444444444444444, \"#bd3786\"], [0.5555555555555556, \"#d8576b\"], [0.6666666666666666, \"#ed7953\"], [0.7777777777777778, \"#fb9f3a\"], [0.8888888888888888, \"#fdca26\"], [1.0, \"#f0f921\"]], \"type\": \"surface\"}], \"table\": [{\"cells\": {\"fill\": {\"color\": \"#EBF0F8\"}, \"line\": {\"color\": \"white\"}}, \"header\": {\"fill\": {\"color\": \"#C8D4E3\"}, \"line\": {\"color\": \"white\"}}, \"type\": \"table\"}]}, \"layout\": {\"annotationdefaults\": {\"arrowcolor\": \"#2a3f5f\", \"arrowhead\": 0, \"arrowwidth\": 1}, \"autotypenumbers\": \"strict\", \"coloraxis\": {\"colorbar\": {\"outlinewidth\": 0, \"ticks\": \"\"}}, \"colorscale\": {\"diverging\": [[0, \"#8e0152\"], [0.1, \"#c51b7d\"], [0.2, \"#de77ae\"], [0.3, \"#f1b6da\"], [0.4, \"#fde0ef\"], [0.5, \"#f7f7f7\"], [0.6, \"#e6f5d0\"], [0.7, \"#b8e186\"], [0.8, \"#7fbc41\"], [0.9, \"#4d9221\"], [1, \"#276419\"]], \"sequential\": [[0.0, \"#0d0887\"], [0.1111111111111111, \"#46039f\"], [0.2222222222222222, \"#7201a8\"], [0.3333333333333333, \"#9c179e\"], [0.4444444444444444, \"#bd3786\"], [0.5555555555555556, \"#d8576b\"], [0.6666666666666666, \"#ed7953\"], [0.7777777777777778, \"#fb9f3a\"], [0.8888888888888888, \"#fdca26\"], [1.0, \"#f0f921\"]], \"sequentialminus\": [[0.0, \"#0d0887\"], [0.1111111111111111, \"#46039f\"], [0.2222222222222222, \"#7201a8\"], [0.3333333333333333, \"#9c179e\"], [0.4444444444444444, \"#bd3786\"], [0.5555555555555556, \"#d8576b\"], [0.6666666666666666, \"#ed7953\"], [0.7777777777777778, \"#fb9f3a\"], [0.8888888888888888, \"#fdca26\"], [1.0, \"#f0f921\"]]}, \"colorway\": [\"#636efa\", \"#EF553B\", \"#00cc96\", \"#ab63fa\", \"#FFA15A\", \"#19d3f3\", \"#FF6692\", \"#B6E880\", \"#FF97FF\", \"#FECB52\"], \"font\": {\"color\": \"#2a3f5f\"}, \"geo\": {\"bgcolor\": \"white\", \"lakecolor\": \"white\", \"landcolor\": \"#E5ECF6\", \"showlakes\": true, \"showland\": true, \"subunitcolor\": \"white\"}, \"hoverlabel\": {\"align\": \"left\"}, \"hovermode\": \"closest\", \"mapbox\": {\"style\": \"light\"}, \"paper_bgcolor\": \"white\", \"plot_bgcolor\": \"#E5ECF6\", \"polar\": {\"angularaxis\": {\"gridcolor\": \"white\", \"linecolor\": \"white\", \"ticks\": \"\"}, \"bgcolor\": \"#E5ECF6\", \"radialaxis\": {\"gridcolor\": \"white\", \"linecolor\": \"white\", \"ticks\": \"\"}}, \"scene\": {\"xaxis\": {\"backgroundcolor\": \"#E5ECF6\", \"gridcolor\": \"white\", \"gridwidth\": 2, \"linecolor\": \"white\", \"showbackground\": true, \"ticks\": \"\", \"zerolinecolor\": \"white\"}, \"yaxis\": {\"backgroundcolor\": \"#E5ECF6\", \"gridcolor\": \"white\", \"gridwidth\": 2, \"linecolor\": \"white\", \"showbackground\": true, \"ticks\": \"\", \"zerolinecolor\": \"white\"}, \"zaxis\": {\"backgroundcolor\": \"#E5ECF6\", \"gridcolor\": \"white\", \"gridwidth\": 2, \"linecolor\": \"white\", \"showbackground\": true, \"ticks\": \"\", \"zerolinecolor\": \"white\"}}, \"shapedefaults\": {\"line\": {\"color\": \"#2a3f5f\"}}, \"ternary\": {\"aaxis\": {\"gridcolor\": \"white\", \"linecolor\": \"white\", \"ticks\": \"\"}, \"baxis\": {\"gridcolor\": \"white\", \"linecolor\": \"white\", \"ticks\": \"\"}, \"bgcolor\": \"#E5ECF6\", \"caxis\": {\"gridcolor\": \"white\", \"linecolor\": \"white\", \"ticks\": \"\"}}, \"title\": {\"x\": 0.05}, \"xaxis\": {\"automargin\": true, \"gridcolor\": \"white\", \"linecolor\": \"white\", \"ticks\": \"\", \"title\": {\"standoff\": 15}, \"zerolinecolor\": \"white\", \"zerolinewidth\": 2}, \"yaxis\": {\"automargin\": true, \"gridcolor\": \"white\", \"linecolor\": \"white\", \"ticks\": \"\", \"title\": {\"standoff\": 15}, \"zerolinecolor\": \"white\", \"zerolinewidth\": 2}}}, \"title\": {\"text\": \"Hourly GME Mentions - Jan 25th to Jan 29th\"}, \"xaxis\": {\"anchor\": \"y\", \"domain\": [0.0, 1.0], \"rangeslider\": {\"visible\": true}, \"title\": {\"text\": \"Hours\"}}, \"yaxis\": {\"anchor\": \"x\", \"domain\": [0.0, 1.0], \"title\": {\"text\": \"Mentions\"}}},                        {\"responsive\": true}                    ).then(function(){\n",
       "                            \n",
       "var gd = document.getElementById('2bc3c642-f5d8-4ab4-9877-700d78177c10');\n",
       "var x = new MutationObserver(function (mutations, observer) {{\n",
       "        var display = window.getComputedStyle(gd).display;\n",
       "        if (!display || display === 'none') {{\n",
       "            console.log([gd, 'removed!']);\n",
       "            Plotly.purge(gd);\n",
       "            observer.disconnect();\n",
       "        }}\n",
       "}});\n",
       "\n",
       "// Listen for the removal of the full notebook cells\n",
       "var notebookContainer = gd.closest('#notebook-container');\n",
       "if (notebookContainer) {{\n",
       "    x.observe(notebookContainer, {childList: true});\n",
       "}}\n",
       "\n",
       "// Listen for the clearing of the current output cell\n",
       "var outputEl = gd.closest('.output');\n",
       "if (outputEl) {{\n",
       "    x.observe(outputEl, {childList: true});\n",
       "}}\n",
       "\n",
       "                        })                };                });            </script>        </div>"
      ]
     },
     "metadata": {},
     "output_type": "display_data"
    }
   ],
   "source": [
    "fig = px.line(gme_hour, x='date', y='count', title='Hourly GME Mentions - Jan 25th to Jan 29th',\n",
    "             labels = {\n",
    "                 'date':'Hours',\n",
    "                 'count':'Mentions'\n",
    "             })\n",
    "\n",
    "fig.update_xaxes(rangeslider_visible=True)\n",
    "fig.show()\n",
    "fig.write_html(\"html/Hourly GME Mentions.html\")"
   ]
  },
  {
   "cell_type": "code",
   "execution_count": 9,
   "metadata": {},
   "outputs": [],
   "source": [
    "### Use alpha vantage to gather daily and hourly stock data ###\n",
    "\n",
    "\n",
    "from alpha_vantage.timeseries import TimeSeries\n",
    "\n",
    "API_key = 'OZHBQ2Q48QC0NFRZ'\n",
    "\n",
    "ts = TimeSeries(key = API_key,output_format='pandas')\n",
    "data = ts.get_daily_adjusted('GME')\n",
    "gme = data[0].reset_index()\n",
    "gme_daily = gme[(gme['date'] >= '2020-12-31') & (gme['date'] <= '2021-02-16')]\n",
    "gme_daily.to_csv('gme_daily_prices')\n",
    "gme_daily=gme_daily.sort_values('date', ascending=True)\n",
    "gme_daily['percent change'] = gme_daily['4. close'].pct_change()\n",
    "\n",
    "\n",
    "\n",
    "data = ts.get_intraday('GME', interval = '60min', outputsize='full')\n",
    "gme = data[0].reset_index()\n",
    "gme_hourly_full = gme[(gme['date'] >= '2020-12-31') & (gme['date'] <= '2021-02-16')]\n",
    "gme_hourly_full = gme_hourly_full.sort_values('date', ascending=True)\n",
    "\n",
    "gme_hourly = gme[(gme['date'] >= '2021-01-25') & (gme['date'] <= '2021-01-29')]\n",
    "gme_hourly = gme_hourly.sort_values('date', ascending=True)\n",
    "gme_hourly['percent change'] = gme_hourly['4. close'].pct_change()"
   ]
  },
  {
   "cell_type": "code",
   "execution_count": 112,
   "metadata": {
    "scrolled": true
   },
   "outputs": [
    {
     "data": {
      "text/html": [
       "<div>\n",
       "<style scoped>\n",
       "    .dataframe tbody tr th:only-of-type {\n",
       "        vertical-align: middle;\n",
       "    }\n",
       "\n",
       "    .dataframe tbody tr th {\n",
       "        vertical-align: top;\n",
       "    }\n",
       "\n",
       "    .dataframe thead th {\n",
       "        text-align: right;\n",
       "    }\n",
       "</style>\n",
       "<table border=\"1\" class=\"dataframe\">\n",
       "  <thead>\n",
       "    <tr style=\"text-align: right;\">\n",
       "      <th></th>\n",
       "      <th>date</th>\n",
       "      <th>1. open</th>\n",
       "      <th>2. high</th>\n",
       "      <th>3. low</th>\n",
       "      <th>4. close</th>\n",
       "      <th>5. adjusted close</th>\n",
       "      <th>6. volume</th>\n",
       "      <th>7. dividend amount</th>\n",
       "      <th>8. split coefficient</th>\n",
       "      <th>percent change</th>\n",
       "    </tr>\n",
       "  </thead>\n",
       "  <tbody>\n",
       "    <tr>\n",
       "      <th>35</th>\n",
       "      <td>2020-12-31</td>\n",
       "      <td>19.25</td>\n",
       "      <td>19.8000</td>\n",
       "      <td>18.8000</td>\n",
       "      <td>18.84</td>\n",
       "      <td>18.84</td>\n",
       "      <td>6922652.0</td>\n",
       "      <td>0.0</td>\n",
       "      <td>1.0</td>\n",
       "      <td>NaN</td>\n",
       "    </tr>\n",
       "    <tr>\n",
       "      <th>34</th>\n",
       "      <td>2021-01-04</td>\n",
       "      <td>19.00</td>\n",
       "      <td>19.1000</td>\n",
       "      <td>17.1500</td>\n",
       "      <td>17.25</td>\n",
       "      <td>17.25</td>\n",
       "      <td>10022474.0</td>\n",
       "      <td>0.0</td>\n",
       "      <td>1.0</td>\n",
       "      <td>-0.084395</td>\n",
       "    </tr>\n",
       "    <tr>\n",
       "      <th>33</th>\n",
       "      <td>2021-01-05</td>\n",
       "      <td>17.35</td>\n",
       "      <td>18.0765</td>\n",
       "      <td>17.2300</td>\n",
       "      <td>17.37</td>\n",
       "      <td>17.37</td>\n",
       "      <td>4961457.0</td>\n",
       "      <td>0.0</td>\n",
       "      <td>1.0</td>\n",
       "      <td>0.006957</td>\n",
       "    </tr>\n",
       "    <tr>\n",
       "      <th>32</th>\n",
       "      <td>2021-01-06</td>\n",
       "      <td>17.34</td>\n",
       "      <td>18.9800</td>\n",
       "      <td>17.3300</td>\n",
       "      <td>18.36</td>\n",
       "      <td>18.36</td>\n",
       "      <td>6056248.0</td>\n",
       "      <td>0.0</td>\n",
       "      <td>1.0</td>\n",
       "      <td>0.056995</td>\n",
       "    </tr>\n",
       "    <tr>\n",
       "      <th>31</th>\n",
       "      <td>2021-01-07</td>\n",
       "      <td>18.47</td>\n",
       "      <td>19.4500</td>\n",
       "      <td>18.0200</td>\n",
       "      <td>18.08</td>\n",
       "      <td>18.08</td>\n",
       "      <td>6129276.0</td>\n",
       "      <td>0.0</td>\n",
       "      <td>1.0</td>\n",
       "      <td>-0.015251</td>\n",
       "    </tr>\n",
       "    <tr>\n",
       "      <th>30</th>\n",
       "      <td>2021-01-08</td>\n",
       "      <td>18.18</td>\n",
       "      <td>18.3000</td>\n",
       "      <td>17.0800</td>\n",
       "      <td>17.69</td>\n",
       "      <td>17.69</td>\n",
       "      <td>6481960.0</td>\n",
       "      <td>0.0</td>\n",
       "      <td>1.0</td>\n",
       "      <td>-0.021571</td>\n",
       "    </tr>\n",
       "    <tr>\n",
       "      <th>29</th>\n",
       "      <td>2021-01-11</td>\n",
       "      <td>19.41</td>\n",
       "      <td>20.6500</td>\n",
       "      <td>19.0100</td>\n",
       "      <td>19.94</td>\n",
       "      <td>19.94</td>\n",
       "      <td>14927612.0</td>\n",
       "      <td>0.0</td>\n",
       "      <td>1.0</td>\n",
       "      <td>0.127191</td>\n",
       "    </tr>\n",
       "    <tr>\n",
       "      <th>28</th>\n",
       "      <td>2021-01-12</td>\n",
       "      <td>19.96</td>\n",
       "      <td>20.4000</td>\n",
       "      <td>19.3168</td>\n",
       "      <td>19.95</td>\n",
       "      <td>19.95</td>\n",
       "      <td>6999775.0</td>\n",
       "      <td>0.0</td>\n",
       "      <td>1.0</td>\n",
       "      <td>0.000502</td>\n",
       "    </tr>\n",
       "    <tr>\n",
       "      <th>27</th>\n",
       "      <td>2021-01-13</td>\n",
       "      <td>20.42</td>\n",
       "      <td>38.6500</td>\n",
       "      <td>20.0300</td>\n",
       "      <td>31.40</td>\n",
       "      <td>31.40</td>\n",
       "      <td>143530129.0</td>\n",
       "      <td>0.0</td>\n",
       "      <td>1.0</td>\n",
       "      <td>0.573935</td>\n",
       "    </tr>\n",
       "    <tr>\n",
       "      <th>26</th>\n",
       "      <td>2021-01-14</td>\n",
       "      <td>38.09</td>\n",
       "      <td>43.0600</td>\n",
       "      <td>33.0500</td>\n",
       "      <td>39.91</td>\n",
       "      <td>39.91</td>\n",
       "      <td>93717410.0</td>\n",
       "      <td>0.0</td>\n",
       "      <td>1.0</td>\n",
       "      <td>0.271019</td>\n",
       "    </tr>\n",
       "    <tr>\n",
       "      <th>25</th>\n",
       "      <td>2021-01-15</td>\n",
       "      <td>38.49</td>\n",
       "      <td>40.7500</td>\n",
       "      <td>34.0100</td>\n",
       "      <td>35.50</td>\n",
       "      <td>35.50</td>\n",
       "      <td>46866358.0</td>\n",
       "      <td>0.0</td>\n",
       "      <td>1.0</td>\n",
       "      <td>-0.110499</td>\n",
       "    </tr>\n",
       "    <tr>\n",
       "      <th>24</th>\n",
       "      <td>2021-01-19</td>\n",
       "      <td>41.55</td>\n",
       "      <td>45.5200</td>\n",
       "      <td>36.6400</td>\n",
       "      <td>39.36</td>\n",
       "      <td>39.36</td>\n",
       "      <td>74721924.0</td>\n",
       "      <td>0.0</td>\n",
       "      <td>1.0</td>\n",
       "      <td>0.108732</td>\n",
       "    </tr>\n",
       "    <tr>\n",
       "      <th>23</th>\n",
       "      <td>2021-01-20</td>\n",
       "      <td>37.37</td>\n",
       "      <td>41.1899</td>\n",
       "      <td>36.0600</td>\n",
       "      <td>39.12</td>\n",
       "      <td>39.12</td>\n",
       "      <td>33471789.0</td>\n",
       "      <td>0.0</td>\n",
       "      <td>1.0</td>\n",
       "      <td>-0.006098</td>\n",
       "    </tr>\n",
       "    <tr>\n",
       "      <th>22</th>\n",
       "      <td>2021-01-21</td>\n",
       "      <td>39.23</td>\n",
       "      <td>44.7500</td>\n",
       "      <td>37.0000</td>\n",
       "      <td>43.03</td>\n",
       "      <td>43.03</td>\n",
       "      <td>57079754.0</td>\n",
       "      <td>0.0</td>\n",
       "      <td>1.0</td>\n",
       "      <td>0.099949</td>\n",
       "    </tr>\n",
       "    <tr>\n",
       "      <th>21</th>\n",
       "      <td>2021-01-22</td>\n",
       "      <td>42.59</td>\n",
       "      <td>76.7573</td>\n",
       "      <td>42.3200</td>\n",
       "      <td>65.01</td>\n",
       "      <td>65.01</td>\n",
       "      <td>194084194.0</td>\n",
       "      <td>0.0</td>\n",
       "      <td>1.0</td>\n",
       "      <td>0.510806</td>\n",
       "    </tr>\n",
       "    <tr>\n",
       "      <th>20</th>\n",
       "      <td>2021-01-25</td>\n",
       "      <td>96.73</td>\n",
       "      <td>159.1800</td>\n",
       "      <td>61.1300</td>\n",
       "      <td>76.79</td>\n",
       "      <td>76.79</td>\n",
       "      <td>177874000.0</td>\n",
       "      <td>0.0</td>\n",
       "      <td>1.0</td>\n",
       "      <td>0.181203</td>\n",
       "    </tr>\n",
       "    <tr>\n",
       "      <th>19</th>\n",
       "      <td>2021-01-26</td>\n",
       "      <td>88.56</td>\n",
       "      <td>150.0000</td>\n",
       "      <td>80.2000</td>\n",
       "      <td>147.98</td>\n",
       "      <td>147.98</td>\n",
       "      <td>161894423.0</td>\n",
       "      <td>0.0</td>\n",
       "      <td>1.0</td>\n",
       "      <td>0.927074</td>\n",
       "    </tr>\n",
       "    <tr>\n",
       "      <th>18</th>\n",
       "      <td>2021-01-27</td>\n",
       "      <td>354.83</td>\n",
       "      <td>380.0000</td>\n",
       "      <td>249.0000</td>\n",
       "      <td>347.51</td>\n",
       "      <td>347.51</td>\n",
       "      <td>90516825.0</td>\n",
       "      <td>0.0</td>\n",
       "      <td>1.0</td>\n",
       "      <td>1.348358</td>\n",
       "    </tr>\n",
       "    <tr>\n",
       "      <th>17</th>\n",
       "      <td>2021-01-28</td>\n",
       "      <td>265.00</td>\n",
       "      <td>483.0000</td>\n",
       "      <td>112.2500</td>\n",
       "      <td>193.60</td>\n",
       "      <td>193.60</td>\n",
       "      <td>58815805.0</td>\n",
       "      <td>0.0</td>\n",
       "      <td>1.0</td>\n",
       "      <td>-0.442894</td>\n",
       "    </tr>\n",
       "    <tr>\n",
       "      <th>16</th>\n",
       "      <td>2021-01-29</td>\n",
       "      <td>379.71</td>\n",
       "      <td>413.9800</td>\n",
       "      <td>250.0000</td>\n",
       "      <td>325.00</td>\n",
       "      <td>325.00</td>\n",
       "      <td>49414294.0</td>\n",
       "      <td>0.0</td>\n",
       "      <td>1.0</td>\n",
       "      <td>0.678719</td>\n",
       "    </tr>\n",
       "    <tr>\n",
       "      <th>15</th>\n",
       "      <td>2021-02-01</td>\n",
       "      <td>316.56</td>\n",
       "      <td>322.0000</td>\n",
       "      <td>212.0000</td>\n",
       "      <td>225.00</td>\n",
       "      <td>225.00</td>\n",
       "      <td>37382152.0</td>\n",
       "      <td>0.0</td>\n",
       "      <td>1.0</td>\n",
       "      <td>-0.307692</td>\n",
       "    </tr>\n",
       "    <tr>\n",
       "      <th>14</th>\n",
       "      <td>2021-02-02</td>\n",
       "      <td>140.76</td>\n",
       "      <td>158.0000</td>\n",
       "      <td>74.2201</td>\n",
       "      <td>90.00</td>\n",
       "      <td>90.00</td>\n",
       "      <td>76663691.0</td>\n",
       "      <td>0.0</td>\n",
       "      <td>1.0</td>\n",
       "      <td>-0.600000</td>\n",
       "    </tr>\n",
       "    <tr>\n",
       "      <th>13</th>\n",
       "      <td>2021-02-03</td>\n",
       "      <td>112.01</td>\n",
       "      <td>113.3999</td>\n",
       "      <td>85.2500</td>\n",
       "      <td>92.41</td>\n",
       "      <td>92.41</td>\n",
       "      <td>42698511.0</td>\n",
       "      <td>0.0</td>\n",
       "      <td>1.0</td>\n",
       "      <td>0.026778</td>\n",
       "    </tr>\n",
       "    <tr>\n",
       "      <th>12</th>\n",
       "      <td>2021-02-04</td>\n",
       "      <td>91.19</td>\n",
       "      <td>91.5000</td>\n",
       "      <td>53.3300</td>\n",
       "      <td>53.50</td>\n",
       "      <td>53.50</td>\n",
       "      <td>62427275.0</td>\n",
       "      <td>0.0</td>\n",
       "      <td>1.0</td>\n",
       "      <td>-0.421058</td>\n",
       "    </tr>\n",
       "    <tr>\n",
       "      <th>11</th>\n",
       "      <td>2021-02-05</td>\n",
       "      <td>54.04</td>\n",
       "      <td>95.0000</td>\n",
       "      <td>51.0900</td>\n",
       "      <td>63.77</td>\n",
       "      <td>63.77</td>\n",
       "      <td>81345013.0</td>\n",
       "      <td>0.0</td>\n",
       "      <td>1.0</td>\n",
       "      <td>0.191963</td>\n",
       "    </tr>\n",
       "    <tr>\n",
       "      <th>10</th>\n",
       "      <td>2021-02-08</td>\n",
       "      <td>72.41</td>\n",
       "      <td>72.6600</td>\n",
       "      <td>58.0200</td>\n",
       "      <td>60.00</td>\n",
       "      <td>60.00</td>\n",
       "      <td>25687282.0</td>\n",
       "      <td>0.0</td>\n",
       "      <td>1.0</td>\n",
       "      <td>-0.059119</td>\n",
       "    </tr>\n",
       "    <tr>\n",
       "      <th>9</th>\n",
       "      <td>2021-02-09</td>\n",
       "      <td>56.61</td>\n",
       "      <td>57.0000</td>\n",
       "      <td>46.5200</td>\n",
       "      <td>50.31</td>\n",
       "      <td>50.31</td>\n",
       "      <td>25598598.0</td>\n",
       "      <td>0.0</td>\n",
       "      <td>1.0</td>\n",
       "      <td>-0.161500</td>\n",
       "    </tr>\n",
       "    <tr>\n",
       "      <th>8</th>\n",
       "      <td>2021-02-10</td>\n",
       "      <td>50.77</td>\n",
       "      <td>62.8300</td>\n",
       "      <td>46.5500</td>\n",
       "      <td>51.20</td>\n",
       "      <td>51.20</td>\n",
       "      <td>35943280.0</td>\n",
       "      <td>0.0</td>\n",
       "      <td>1.0</td>\n",
       "      <td>0.017690</td>\n",
       "    </tr>\n",
       "    <tr>\n",
       "      <th>7</th>\n",
       "      <td>2021-02-11</td>\n",
       "      <td>50.01</td>\n",
       "      <td>55.3200</td>\n",
       "      <td>48.2201</td>\n",
       "      <td>51.10</td>\n",
       "      <td>51.10</td>\n",
       "      <td>13056725.0</td>\n",
       "      <td>0.0</td>\n",
       "      <td>1.0</td>\n",
       "      <td>-0.001953</td>\n",
       "    </tr>\n",
       "    <tr>\n",
       "      <th>6</th>\n",
       "      <td>2021-02-12</td>\n",
       "      <td>50.75</td>\n",
       "      <td>55.2400</td>\n",
       "      <td>48.0500</td>\n",
       "      <td>52.40</td>\n",
       "      <td>52.40</td>\n",
       "      <td>14573264.0</td>\n",
       "      <td>0.0</td>\n",
       "      <td>1.0</td>\n",
       "      <td>0.025440</td>\n",
       "    </tr>\n",
       "    <tr>\n",
       "      <th>5</th>\n",
       "      <td>2021-02-16</td>\n",
       "      <td>52.66</td>\n",
       "      <td>53.5000</td>\n",
       "      <td>49.0400</td>\n",
       "      <td>49.51</td>\n",
       "      <td>49.51</td>\n",
       "      <td>8175030.0</td>\n",
       "      <td>0.0</td>\n",
       "      <td>1.0</td>\n",
       "      <td>-0.055153</td>\n",
       "    </tr>\n",
       "  </tbody>\n",
       "</table>\n",
       "</div>"
      ],
      "text/plain": [
       "         date  1. open   2. high    3. low  4. close  5. adjusted close  \\\n",
       "35 2020-12-31    19.25   19.8000   18.8000     18.84              18.84   \n",
       "34 2021-01-04    19.00   19.1000   17.1500     17.25              17.25   \n",
       "33 2021-01-05    17.35   18.0765   17.2300     17.37              17.37   \n",
       "32 2021-01-06    17.34   18.9800   17.3300     18.36              18.36   \n",
       "31 2021-01-07    18.47   19.4500   18.0200     18.08              18.08   \n",
       "30 2021-01-08    18.18   18.3000   17.0800     17.69              17.69   \n",
       "29 2021-01-11    19.41   20.6500   19.0100     19.94              19.94   \n",
       "28 2021-01-12    19.96   20.4000   19.3168     19.95              19.95   \n",
       "27 2021-01-13    20.42   38.6500   20.0300     31.40              31.40   \n",
       "26 2021-01-14    38.09   43.0600   33.0500     39.91              39.91   \n",
       "25 2021-01-15    38.49   40.7500   34.0100     35.50              35.50   \n",
       "24 2021-01-19    41.55   45.5200   36.6400     39.36              39.36   \n",
       "23 2021-01-20    37.37   41.1899   36.0600     39.12              39.12   \n",
       "22 2021-01-21    39.23   44.7500   37.0000     43.03              43.03   \n",
       "21 2021-01-22    42.59   76.7573   42.3200     65.01              65.01   \n",
       "20 2021-01-25    96.73  159.1800   61.1300     76.79              76.79   \n",
       "19 2021-01-26    88.56  150.0000   80.2000    147.98             147.98   \n",
       "18 2021-01-27   354.83  380.0000  249.0000    347.51             347.51   \n",
       "17 2021-01-28   265.00  483.0000  112.2500    193.60             193.60   \n",
       "16 2021-01-29   379.71  413.9800  250.0000    325.00             325.00   \n",
       "15 2021-02-01   316.56  322.0000  212.0000    225.00             225.00   \n",
       "14 2021-02-02   140.76  158.0000   74.2201     90.00              90.00   \n",
       "13 2021-02-03   112.01  113.3999   85.2500     92.41              92.41   \n",
       "12 2021-02-04    91.19   91.5000   53.3300     53.50              53.50   \n",
       "11 2021-02-05    54.04   95.0000   51.0900     63.77              63.77   \n",
       "10 2021-02-08    72.41   72.6600   58.0200     60.00              60.00   \n",
       "9  2021-02-09    56.61   57.0000   46.5200     50.31              50.31   \n",
       "8  2021-02-10    50.77   62.8300   46.5500     51.20              51.20   \n",
       "7  2021-02-11    50.01   55.3200   48.2201     51.10              51.10   \n",
       "6  2021-02-12    50.75   55.2400   48.0500     52.40              52.40   \n",
       "5  2021-02-16    52.66   53.5000   49.0400     49.51              49.51   \n",
       "\n",
       "      6. volume  7. dividend amount  8. split coefficient  percent change  \n",
       "35    6922652.0                 0.0                   1.0             NaN  \n",
       "34   10022474.0                 0.0                   1.0       -0.084395  \n",
       "33    4961457.0                 0.0                   1.0        0.006957  \n",
       "32    6056248.0                 0.0                   1.0        0.056995  \n",
       "31    6129276.0                 0.0                   1.0       -0.015251  \n",
       "30    6481960.0                 0.0                   1.0       -0.021571  \n",
       "29   14927612.0                 0.0                   1.0        0.127191  \n",
       "28    6999775.0                 0.0                   1.0        0.000502  \n",
       "27  143530129.0                 0.0                   1.0        0.573935  \n",
       "26   93717410.0                 0.0                   1.0        0.271019  \n",
       "25   46866358.0                 0.0                   1.0       -0.110499  \n",
       "24   74721924.0                 0.0                   1.0        0.108732  \n",
       "23   33471789.0                 0.0                   1.0       -0.006098  \n",
       "22   57079754.0                 0.0                   1.0        0.099949  \n",
       "21  194084194.0                 0.0                   1.0        0.510806  \n",
       "20  177874000.0                 0.0                   1.0        0.181203  \n",
       "19  161894423.0                 0.0                   1.0        0.927074  \n",
       "18   90516825.0                 0.0                   1.0        1.348358  \n",
       "17   58815805.0                 0.0                   1.0       -0.442894  \n",
       "16   49414294.0                 0.0                   1.0        0.678719  \n",
       "15   37382152.0                 0.0                   1.0       -0.307692  \n",
       "14   76663691.0                 0.0                   1.0       -0.600000  \n",
       "13   42698511.0                 0.0                   1.0        0.026778  \n",
       "12   62427275.0                 0.0                   1.0       -0.421058  \n",
       "11   81345013.0                 0.0                   1.0        0.191963  \n",
       "10   25687282.0                 0.0                   1.0       -0.059119  \n",
       "9    25598598.0                 0.0                   1.0       -0.161500  \n",
       "8    35943280.0                 0.0                   1.0        0.017690  \n",
       "7    13056725.0                 0.0                   1.0       -0.001953  \n",
       "6    14573264.0                 0.0                   1.0        0.025440  \n",
       "5     8175030.0                 0.0                   1.0       -0.055153  "
      ]
     },
     "execution_count": 112,
     "metadata": {},
     "output_type": "execute_result"
    },
    {
     "data": {
      "image/png": "[encoded data removed]",
      "text/plain": [
       "<Figure size 648x648 with 2 Axes>"
      ]
     },
     "metadata": {
      "needs_background": "light"
     },
     "output_type": "display_data"
    }
   ],
   "source": [
    "### Plot stock prices over mentions ###\n",
    "\n",
    "\n",
    "fig, ax1 = plt.subplots(figsize = (9,9))\n",
    "ax2 = ax1.twinx()\n",
    "\n",
    "\n",
    "ax1.plot(gme_daily['date'], gme_daily['5. adjusted close'], label = 'Stock Price')\n",
    "ax1.set_xlabel('Date')\n",
    "ax1.set_ylabel('Price')\n",
    "ax1.set_title('Stock Price vs. Mentions')\n",
    "\n",
    "\n",
    "x = gme_date['date']\n",
    "y = gme_date['count']\n",
    "\n",
    "ax2.plot(x,y, color = 'purple', label = 'Number of Mentions', alpha = .3)\n",
    "ax2.grid(b=False)\n",
    "ax2.set_ylabel('Number of Mentions')\n",
    "\n",
    "\n",
    "fig.autofmt_xdate()\n",
    "fig.legend()\n",
    "\n",
    "gme_daily"
   ]
  },
  {
   "cell_type": "code",
   "execution_count": 122,
   "metadata": {},
   "outputs": [
    {
     "data": {
      "application/vnd.plotly.v1+json": {
       "config": {
        "plotlyServerURL": "https://plot.ly"
       },
       "data": [
        {
         "close": [
          18.84,
          17.25,
          17.37,
          18.36,
          18.08,
          17.69,
          19.94,
          19.95,
          31.4,
          39.91,
          35.5,
          39.36,
          39.12,
          43.03,
          65.01,
          76.79,
          147.98,
          347.51,
          193.6,
          325,
          225,
          90,
          92.41,
          53.5,
          63.77,
          60,
          50.31,
          51.2,
          51.1,
          52.4,
          49.51
         ],
         "high": [
          19.8,
          19.1,
          18.0765,
          18.98,
          19.45,
          18.3,
          20.65,
          20.4,
          38.65,
          43.06,
          40.75,
          45.52,
          41.1899,
          44.75,
          76.7573,
          159.18,
          150,
          380,
          483,
          413.98,
          322,
          158,
          113.3999,
          91.5,
          95,
          72.66,
          57,
          62.83,
          55.32,
          55.24,
          53.5
         ],
         "low": [
          18.8,
          17.15,
          17.23,
          17.33,
          18.02,
          17.08,
          19.01,
          19.3168,
          20.03,
          33.05,
          34.01,
          36.64,
          36.06,
          37,
          42.32,
          61.13,
          80.2,
          249,
          112.25,
          250,
          212,
          74.2201,
          85.25,
          53.33,
          51.09,
          58.02,
          46.52,
          46.55,
          48.2201,
          48.05,
          49.04
         ],
         "open": [
          19.25,
          19,
          17.35,
          17.34,
          18.47,
          18.18,
          19.41,
          19.96,
          20.42,
          38.09,
          38.49,
          41.55,
          37.37,
          39.23,
          42.59,
          96.73,
          88.56,
          354.83,
          265,
          379.71,
          316.56,
          140.76,
          112.01,
          91.19,
          54.04,
          72.41,
          56.61,
          50.77,
          50.01,
          50.75,
          52.66
         ],
         "type": "candlestick",
         "x": [
          "2020-12-31T00:00:00",
          "2021-01-04T00:00:00",
          "2021-01-05T00:00:00",
          "2021-01-06T00:00:00",
          "2021-01-07T00:00:00",
          "2021-01-08T00:00:00",
          "2021-01-11T00:00:00",
          "2021-01-12T00:00:00",
          "2021-01-13T00:00:00",
          "2021-01-14T00:00:00",
          "2021-01-15T00:00:00",
          "2021-01-19T00:00:00",
          "2021-01-20T00:00:00",
          "2021-01-21T00:00:00",
          "2021-01-22T00:00:00",
          "2021-01-25T00:00:00",
          "2021-01-26T00:00:00",
          "2021-01-27T00:00:00",
          "2021-01-28T00:00:00",
          "2021-01-29T00:00:00",
          "2021-02-01T00:00:00",
          "2021-02-02T00:00:00",
          "2021-02-03T00:00:00",
          "2021-02-04T00:00:00",
          "2021-02-05T00:00:00",
          "2021-02-08T00:00:00",
          "2021-02-09T00:00:00",
          "2021-02-10T00:00:00",
          "2021-02-11T00:00:00",
          "2021-02-12T00:00:00",
          "2021-02-16T00:00:00"
         ]
        }
       ],
       "layout": {
        "template": {
         "data": {
          "bar": [
           {
            "error_x": {
             "color": "#2a3f5f"
            },
            "error_y": {
             "color": "#2a3f5f"
            },
            "marker": {
             "line": {
              "color": "#E5ECF6",
              "width": 0.5
             }
            },
            "type": "bar"
           }
          ],
          "barpolar": [
           {
            "marker": {
             "line": {
              "color": "#E5ECF6",
              "width": 0.5
             }
            },
            "type": "barpolar"
           }
          ],
          "carpet": [
           {
            "aaxis": {
             "endlinecolor": "#2a3f5f",
             "gridcolor": "white",
             "linecolor": "white",
             "minorgridcolor": "white",
             "startlinecolor": "#2a3f5f"
            },
            "baxis": {
             "endlinecolor": "#2a3f5f",
             "gridcolor": "white",
             "linecolor": "white",
             "minorgridcolor": "white",
             "startlinecolor": "#2a3f5f"
            },
            "type": "carpet"
           }
          ],
          "choropleth": [
           {
            "colorbar": {
             "outlinewidth": 0,
             "ticks": ""
            },
            "type": "choropleth"
           }
          ],
          "contour": [
           {
            "colorbar": {
             "outlinewidth": 0,
             "ticks": ""
            },
            "colorscale": [
             [
              0,
              "#0d0887"
             ],
             [
              0.1111111111111111,
              "#46039f"
             ],
             [
              0.2222222222222222,
              "#7201a8"
             ],
             [
              0.3333333333333333,
              "#9c179e"
             ],
             [
              0.4444444444444444,
              "#bd3786"
             ],
             [
              0.5555555555555556,
              "#d8576b"
             ],
             [
              0.6666666666666666,
              "#ed7953"
             ],
             [
              0.7777777777777778,
              "#fb9f3a"
             ],
             [
              0.8888888888888888,
              "#fdca26"
             ],
             [
              1,
              "#f0f921"
             ]
            ],
            "type": "contour"
           }
          ],
          "contourcarpet": [
           {
            "colorbar": {
             "outlinewidth": 0,
             "ticks": ""
            },
            "type": "contourcarpet"
           }
          ],
          "heatmap": [
           {
            "colorbar": {
             "outlinewidth": 0,
             "ticks": ""
            },
            "colorscale": [
             [
              0,
              "#0d0887"
             ],
             [
              0.1111111111111111,
              "#46039f"
             ],
             [
              0.2222222222222222,
              "#7201a8"
             ],
             [
              0.3333333333333333,
              "#9c179e"
             ],
             [
              0.4444444444444444,
              "#bd3786"
             ],
             [
              0.5555555555555556,
              "#d8576b"
             ],
             [
              0.6666666666666666,
              "#ed7953"
             ],
             [
              0.7777777777777778,
              "#fb9f3a"
             ],
             [
              0.8888888888888888,
              "#fdca26"
             ],
             [
              1,
              "#f0f921"
             ]
            ],
            "type": "heatmap"
           }
          ],
          "heatmapgl": [
           {
            "colorbar": {
             "outlinewidth": 0,
             "ticks": ""
            },
            "colorscale": [
             [
              0,
              "#0d0887"
             ],
             [
              0.1111111111111111,
              "#46039f"
             ],
             [
              0.2222222222222222,
              "#7201a8"
             ],
             [
              0.3333333333333333,
              "#9c179e"
             ],
             [
              0.4444444444444444,
              "#bd3786"
             ],
             [
              0.5555555555555556,
              "#d8576b"
             ],
             [
              0.6666666666666666,
              "#ed7953"
             ],
             [
              0.7777777777777778,
              "#fb9f3a"
             ],
             [
              0.8888888888888888,
              "#fdca26"
             ],
             [
              1,
              "#f0f921"
             ]
            ],
            "type": "heatmapgl"
           }
          ],
          "histogram": [
           {
            "marker": {
             "colorbar": {
              "outlinewidth": 0,
              "ticks": ""
             }
            },
            "type": "histogram"
           }
          ],
          "histogram2d": [
           {
            "colorbar": {
             "outlinewidth": 0,
             "ticks": ""
            },
            "colorscale": [
             [
              0,
              "#0d0887"
             ],
             [
              0.1111111111111111,
              "#46039f"
             ],
             [
              0.2222222222222222,
              "#7201a8"
             ],
             [
              0.3333333333333333,
              "#9c179e"
             ],
             [
              0.4444444444444444,
              "#bd3786"
             ],
             [
              0.5555555555555556,
              "#d8576b"
             ],
             [
              0.6666666666666666,
              "#ed7953"
             ],
             [
              0.7777777777777778,
              "#fb9f3a"
             ],
             [
              0.8888888888888888,
              "#fdca26"
             ],
             [
              1,
              "#f0f921"
             ]
            ],
            "type": "histogram2d"
           }
          ],
          "histogram2dcontour": [
           {
            "colorbar": {
             "outlinewidth": 0,
             "ticks": ""
            },
            "colorscale": [
             [
              0,
              "#0d0887"
             ],
             [
              0.1111111111111111,
              "#46039f"
             ],
             [
              0.2222222222222222,
              "#7201a8"
             ],
             [
              0.3333333333333333,
              "#9c179e"
             ],
             [
              0.4444444444444444,
              "#bd3786"
             ],
             [
              0.5555555555555556,
              "#d8576b"
             ],
             [
              0.6666666666666666,
              "#ed7953"
             ],
             [
              0.7777777777777778,
              "#fb9f3a"
             ],
             [
              0.8888888888888888,
              "#fdca26"
             ],
             [
              1,
              "#f0f921"
             ]
            ],
            "type": "histogram2dcontour"
           }
          ],
          "mesh3d": [
           {
            "colorbar": {
             "outlinewidth": 0,
             "ticks": ""
            },
            "type": "mesh3d"
           }
          ],
          "parcoords": [
           {
            "line": {
             "colorbar": {
              "outlinewidth": 0,
              "ticks": ""
             }
            },
            "type": "parcoords"
           }
          ],
          "pie": [
           {
            "automargin": true,
            "type": "pie"
           }
          ],
          "scatter": [
           {
            "marker": {
             "colorbar": {
              "outlinewidth": 0,
              "ticks": ""
             }
            },
            "type": "scatter"
           }
          ],
          "scatter3d": [
           {
            "line": {
             "colorbar": {
              "outlinewidth": 0,
              "ticks": ""
             }
            },
            "marker": {
             "colorbar": {
              "outlinewidth": 0,
              "ticks": ""
             }
            },
            "type": "scatter3d"
           }
          ],
          "scattercarpet": [
           {
            "marker": {
             "colorbar": {
              "outlinewidth": 0,
              "ticks": ""
             }
            },
            "type": "scattercarpet"
           }
          ],
          "scattergeo": [
           {
            "marker": {
             "colorbar": {
              "outlinewidth": 0,
              "ticks": ""
             }
            },
            "type": "scattergeo"
           }
          ],
          "scattergl": [
           {
            "marker": {
             "colorbar": {
              "outlinewidth": 0,
              "ticks": ""
             }
            },
            "type": "scattergl"
           }
          ],
          "scattermapbox": [
           {
            "marker": {
             "colorbar": {
              "outlinewidth": 0,
              "ticks": ""
             }
            },
            "type": "scattermapbox"
           }
          ],
          "scatterpolar": [
           {
            "marker": {
             "colorbar": {
              "outlinewidth": 0,
              "ticks": ""
             }
            },
            "type": "scatterpolar"
           }
          ],
          "scatterpolargl": [
           {
            "marker": {
             "colorbar": {
              "outlinewidth": 0,
              "ticks": ""
             }
            },
            "type": "scatterpolargl"
           }
          ],
          "scatterternary": [
           {
            "marker": {
             "colorbar": {
              "outlinewidth": 0,
              "ticks": ""
             }
            },
            "type": "scatterternary"
           }
          ],
          "surface": [
           {
            "colorbar": {
             "outlinewidth": 0,
             "ticks": ""
            },
            "colorscale": [
             [
              0,
              "#0d0887"
             ],
             [
              0.1111111111111111,
              "#46039f"
             ],
             [
              0.2222222222222222,
              "#7201a8"
             ],
             [
              0.3333333333333333,
              "#9c179e"
             ],
             [
              0.4444444444444444,
              "#bd3786"
             ],
             [
              0.5555555555555556,
              "#d8576b"
             ],
             [
              0.6666666666666666,
              "#ed7953"
             ],
             [
              0.7777777777777778,
              "#fb9f3a"
             ],
             [
              0.8888888888888888,
              "#fdca26"
             ],
             [
              1,
              "#f0f921"
             ]
            ],
            "type": "surface"
           }
          ],
          "table": [
           {
            "cells": {
             "fill": {
              "color": "#EBF0F8"
             },
             "line": {
              "color": "white"
             }
            },
            "header": {
             "fill": {
              "color": "#C8D4E3"
             },
             "line": {
              "color": "white"
             }
            },
            "type": "table"
           }
          ]
         },
         "layout": {
          "annotationdefaults": {
           "arrowcolor": "#2a3f5f",
           "arrowhead": 0,
           "arrowwidth": 1
          },
          "autotypenumbers": "strict",
          "coloraxis": {
           "colorbar": {
            "outlinewidth": 0,
            "ticks": ""
           }
          },
          "colorscale": {
           "diverging": [
            [
             0,
             "#8e0152"
            ],
            [
             0.1,
             "#c51b7d"
            ],
            [
             0.2,
             "#de77ae"
            ],
            [
             0.3,
             "#f1b6da"
            ],
            [
             0.4,
             "#fde0ef"
            ],
            [
             0.5,
             "#f7f7f7"
            ],
            [
             0.6,
             "#e6f5d0"
            ],
            [
             0.7,
             "#b8e186"
            ],
            [
             0.8,
             "#7fbc41"
            ],
            [
             0.9,
             "#4d9221"
            ],
            [
             1,
             "#276419"
            ]
           ],
           "sequential": [
            [
             0,
             "#0d0887"
            ],
            [
             0.1111111111111111,
             "#46039f"
            ],
            [
             0.2222222222222222,
             "#7201a8"
            ],
            [
             0.3333333333333333,
             "#9c179e"
            ],
            [
             0.4444444444444444,
             "#bd3786"
            ],
            [
             0.5555555555555556,
             "#d8576b"
            ],
            [
             0.6666666666666666,
             "#ed7953"
            ],
            [
             0.7777777777777778,
             "#fb9f3a"
            ],
            [
             0.8888888888888888,
             "#fdca26"
            ],
            [
             1,
             "#f0f921"
            ]
           ],
           "sequentialminus": [
            [
             0,
             "#0d0887"
            ],
            [
             0.1111111111111111,
             "#46039f"
            ],
            [
             0.2222222222222222,
             "#7201a8"
            ],
            [
             0.3333333333333333,
             "#9c179e"
            ],
            [
             0.4444444444444444,
             "#bd3786"
            ],
            [
             0.5555555555555556,
             "#d8576b"
            ],
            [
             0.6666666666666666,
             "#ed7953"
            ],
            [
             0.7777777777777778,
             "#fb9f3a"
            ],
            [
             0.8888888888888888,
             "#fdca26"
            ],
            [
             1,
             "#f0f921"
            ]
           ]
          },
          "colorway": [
           "#636efa",
           "#EF553B",
           "#00cc96",
           "#ab63fa",
           "#FFA15A",
           "#19d3f3",
           "#FF6692",
           "#B6E880",
           "#FF97FF",
           "#FECB52"
          ],
          "font": {
           "color": "#2a3f5f"
          },
          "geo": {
           "bgcolor": "white",
           "lakecolor": "white",
           "landcolor": "#E5ECF6",
           "showlakes": true,
           "showland": true,
           "subunitcolor": "white"
          },
          "hoverlabel": {
           "align": "left"
          },
          "hovermode": "closest",
          "mapbox": {
           "style": "light"
          },
          "paper_bgcolor": "white",
          "plot_bgcolor": "#E5ECF6",
          "polar": {
           "angularaxis": {
            "gridcolor": "white",
            "linecolor": "white",
            "ticks": ""
           },
           "bgcolor": "#E5ECF6",
           "radialaxis": {
            "gridcolor": "white",
            "linecolor": "white",
            "ticks": ""
           }
          },
          "scene": {
           "xaxis": {
            "backgroundcolor": "#E5ECF6",
            "gridcolor": "white",
            "gridwidth": 2,
            "linecolor": "white",
            "showbackground": true,
            "ticks": "",
            "zerolinecolor": "white"
           },
           "yaxis": {
            "backgroundcolor": "#E5ECF6",
            "gridcolor": "white",
            "gridwidth": 2,
            "linecolor": "white",
            "showbackground": true,
            "ticks": "",
            "zerolinecolor": "white"
           },
           "zaxis": {
            "backgroundcolor": "#E5ECF6",
            "gridcolor": "white",
            "gridwidth": 2,
            "linecolor": "white",
            "showbackground": true,
            "ticks": "",
            "zerolinecolor": "white"
           }
          },
          "shapedefaults": {
           "line": {
            "color": "#2a3f5f"
           }
          },
          "ternary": {
           "aaxis": {
            "gridcolor": "white",
            "linecolor": "white",
            "ticks": ""
           },
           "baxis": {
            "gridcolor": "white",
            "linecolor": "white",
            "ticks": ""
           },
           "bgcolor": "#E5ECF6",
           "caxis": {
            "gridcolor": "white",
            "linecolor": "white",
            "ticks": ""
           }
          },
          "title": {
           "x": 0.05
          },
          "xaxis": {
           "automargin": true,
           "gridcolor": "white",
           "linecolor": "white",
           "ticks": "",
           "title": {
            "standoff": 15
           },
           "zerolinecolor": "white",
           "zerolinewidth": 2
          },
          "yaxis": {
           "automargin": true,
           "gridcolor": "white",
           "linecolor": "white",
           "ticks": "",
           "title": {
            "standoff": 15
           },
           "zerolinecolor": "white",
           "zerolinewidth": 2
          }
         }
        },
        "xaxis": {
         "rangeslider": {
          "visible": false
         }
        }
       }
      },
      "text/html": [
       "<div>                            <div id=\"fdf47ecb-949c-4187-bd42-695d32c2b42b\" class=\"plotly-graph-div\" style=\"height:525px; width:100%;\"></div>            <script type=\"text/javascript\">                require([\"plotly\"], function(Plotly) {                    window.PLOTLYENV=window.PLOTLYENV || {};                                    if (document.getElementById(\"fdf47ecb-949c-4187-bd42-695d32c2b42b\")) {                    Plotly.newPlot(                        \"fdf47ecb-949c-4187-bd42-695d32c2b42b\",                        [{\"close\": [18.84, 17.25, 17.37, 18.36, 18.08, 17.69, 19.94, 19.95, 31.4, 39.91, 35.5, 39.36, 39.12, 43.03, 65.01, 76.79, 147.98, 347.51, 193.6, 325.0, 225.0, 90.0, 92.41, 53.5, 63.77, 60.0, 50.31, 51.2, 51.1, 52.4, 49.51], \"high\": [19.8, 19.1, 18.0765, 18.98, 19.45, 18.3, 20.65, 20.4, 38.65, 43.06, 40.75, 45.52, 41.1899, 44.75, 76.7573, 159.18, 150.0, 380.0, 483.0, 413.98, 322.0, 158.0, 113.3999, 91.5, 95.0, 72.66, 57.0, 62.83, 55.32, 55.24, 53.5], \"low\": [18.8, 17.15, 17.23, 17.33, 18.02, 17.08, 19.01, 19.3168, 20.03, 33.05, 34.01, 36.64, 36.06, 37.0, 42.32, 61.13, 80.2, 249.0, 112.25, 250.0, 212.0, 74.2201, 85.25, 53.33, 51.09, 58.02, 46.52, 46.55, 48.2201, 48.05, 49.04], \"open\": [19.25, 19.0, 17.35, 17.34, 18.47, 18.18, 19.41, 19.96, 20.42, 38.09, 38.49, 41.55, 37.37, 39.23, 42.59, 96.73, 88.56, 354.83, 265.0, 379.71, 316.56, 140.76, 112.01, 91.19, 54.04, 72.41, 56.61, 50.77, 50.01, 50.75, 52.66], \"type\": \"candlestick\", \"x\": [\"2020-12-31T00:00:00\", \"2021-01-04T00:00:00\", \"2021-01-05T00:00:00\", \"2021-01-06T00:00:00\", \"2021-01-07T00:00:00\", \"2021-01-08T00:00:00\", \"2021-01-11T00:00:00\", \"2021-01-12T00:00:00\", \"2021-01-13T00:00:00\", \"2021-01-14T00:00:00\", \"2021-01-15T00:00:00\", \"2021-01-19T00:00:00\", \"2021-01-20T00:00:00\", \"2021-01-21T00:00:00\", \"2021-01-22T00:00:00\", \"2021-01-25T00:00:00\", \"2021-01-26T00:00:00\", \"2021-01-27T00:00:00\", \"2021-01-28T00:00:00\", \"2021-01-29T00:00:00\", \"2021-02-01T00:00:00\", \"2021-02-02T00:00:00\", \"2021-02-03T00:00:00\", \"2021-02-04T00:00:00\", \"2021-02-05T00:00:00\", \"2021-02-08T00:00:00\", \"2021-02-09T00:00:00\", \"2021-02-10T00:00:00\", \"2021-02-11T00:00:00\", \"2021-02-12T00:00:00\", \"2021-02-16T00:00:00\"]}],                        {\"template\": {\"data\": {\"bar\": [{\"error_x\": {\"color\": \"#2a3f5f\"}, \"error_y\": {\"color\": \"#2a3f5f\"}, \"marker\": {\"line\": {\"color\": \"#E5ECF6\", \"width\": 0.5}}, \"type\": \"bar\"}], \"barpolar\": [{\"marker\": {\"line\": {\"color\": \"#E5ECF6\", \"width\": 0.5}}, \"type\": \"barpolar\"}], \"carpet\": [{\"aaxis\": {\"endlinecolor\": \"#2a3f5f\", \"gridcolor\": \"white\", \"linecolor\": \"white\", \"minorgridcolor\": \"white\", \"startlinecolor\": \"#2a3f5f\"}, \"baxis\": {\"endlinecolor\": \"#2a3f5f\", \"gridcolor\": \"white\", \"linecolor\": \"white\", \"minorgridcolor\": \"white\", \"startlinecolor\": \"#2a3f5f\"}, \"type\": \"carpet\"}], \"choropleth\": [{\"colorbar\": {\"outlinewidth\": 0, \"ticks\": \"\"}, \"type\": \"choropleth\"}], \"contour\": [{\"colorbar\": {\"outlinewidth\": 0, \"ticks\": \"\"}, \"colorscale\": [[0.0, \"#0d0887\"], [0.1111111111111111, \"#46039f\"], [0.2222222222222222, \"#7201a8\"], [0.3333333333333333, \"#9c179e\"], [0.4444444444444444, \"#bd3786\"], [0.5555555555555556, \"#d8576b\"], [0.6666666666666666, \"#ed7953\"], [0.7777777777777778, \"#fb9f3a\"], [0.8888888888888888, \"#fdca26\"], [1.0, \"#f0f921\"]], \"type\": \"contour\"}], \"contourcarpet\": [{\"colorbar\": {\"outlinewidth\": 0, \"ticks\": \"\"}, \"type\": \"contourcarpet\"}], \"heatmap\": [{\"colorbar\": {\"outlinewidth\": 0, \"ticks\": \"\"}, \"colorscale\": [[0.0, \"#0d0887\"], [0.1111111111111111, \"#46039f\"], [0.2222222222222222, \"#7201a8\"], [0.3333333333333333, \"#9c179e\"], [0.4444444444444444, \"#bd3786\"], [0.5555555555555556, \"#d8576b\"], [0.6666666666666666, \"#ed7953\"], [0.7777777777777778, \"#fb9f3a\"], [0.8888888888888888, \"#fdca26\"], [1.0, \"#f0f921\"]], \"type\": \"heatmap\"}], \"heatmapgl\": [{\"colorbar\": {\"outlinewidth\": 0, \"ticks\": \"\"}, \"colorscale\": [[0.0, \"#0d0887\"], [0.1111111111111111, \"#46039f\"], [0.2222222222222222, \"#7201a8\"], [0.3333333333333333, \"#9c179e\"], [0.4444444444444444, \"#bd3786\"], [0.5555555555555556, \"#d8576b\"], [0.6666666666666666, \"#ed7953\"], [0.7777777777777778, \"#fb9f3a\"], [0.8888888888888888, \"#fdca26\"], [1.0, \"#f0f921\"]], \"type\": \"heatmapgl\"}], \"histogram\": [{\"marker\": {\"colorbar\": {\"outlinewidth\": 0, \"ticks\": \"\"}}, \"type\": \"histogram\"}], \"histogram2d\": [{\"colorbar\": {\"outlinewidth\": 0, \"ticks\": \"\"}, \"colorscale\": [[0.0, \"#0d0887\"], [0.1111111111111111, \"#46039f\"], [0.2222222222222222, \"#7201a8\"], [0.3333333333333333, \"#9c179e\"], [0.4444444444444444, \"#bd3786\"], [0.5555555555555556, \"#d8576b\"], [0.6666666666666666, \"#ed7953\"], [0.7777777777777778, \"#fb9f3a\"], [0.8888888888888888, \"#fdca26\"], [1.0, \"#f0f921\"]], \"type\": \"histogram2d\"}], \"histogram2dcontour\": [{\"colorbar\": {\"outlinewidth\": 0, \"ticks\": \"\"}, \"colorscale\": [[0.0, \"#0d0887\"], [0.1111111111111111, \"#46039f\"], [0.2222222222222222, \"#7201a8\"], [0.3333333333333333, \"#9c179e\"], [0.4444444444444444, \"#bd3786\"], [0.5555555555555556, \"#d8576b\"], [0.6666666666666666, \"#ed7953\"], [0.7777777777777778, \"#fb9f3a\"], [0.8888888888888888, \"#fdca26\"], [1.0, \"#f0f921\"]], \"type\": \"histogram2dcontour\"}], \"mesh3d\": [{\"colorbar\": {\"outlinewidth\": 0, \"ticks\": \"\"}, \"type\": \"mesh3d\"}], \"parcoords\": [{\"line\": {\"colorbar\": {\"outlinewidth\": 0, \"ticks\": \"\"}}, \"type\": \"parcoords\"}], \"pie\": [{\"automargin\": true, \"type\": \"pie\"}], \"scatter\": [{\"marker\": {\"colorbar\": {\"outlinewidth\": 0, \"ticks\": \"\"}}, \"type\": \"scatter\"}], \"scatter3d\": [{\"line\": {\"colorbar\": {\"outlinewidth\": 0, \"ticks\": \"\"}}, \"marker\": {\"colorbar\": {\"outlinewidth\": 0, \"ticks\": \"\"}}, \"type\": \"scatter3d\"}], \"scattercarpet\": [{\"marker\": {\"colorbar\": {\"outlinewidth\": 0, \"ticks\": \"\"}}, \"type\": \"scattercarpet\"}], \"scattergeo\": [{\"marker\": {\"colorbar\": {\"outlinewidth\": 0, \"ticks\": \"\"}}, \"type\": \"scattergeo\"}], \"scattergl\": [{\"marker\": {\"colorbar\": {\"outlinewidth\": 0, \"ticks\": \"\"}}, \"type\": \"scattergl\"}], \"scattermapbox\": [{\"marker\": {\"colorbar\": {\"outlinewidth\": 0, \"ticks\": \"\"}}, \"type\": \"scattermapbox\"}], \"scatterpolar\": [{\"marker\": {\"colorbar\": {\"outlinewidth\": 0, \"ticks\": \"\"}}, \"type\": \"scatterpolar\"}], \"scatterpolargl\": [{\"marker\": {\"colorbar\": {\"outlinewidth\": 0, \"ticks\": \"\"}}, \"type\": \"scatterpolargl\"}], \"scatterternary\": [{\"marker\": {\"colorbar\": {\"outlinewidth\": 0, \"ticks\": \"\"}}, \"type\": \"scatterternary\"}], \"surface\": [{\"colorbar\": {\"outlinewidth\": 0, \"ticks\": \"\"}, \"colorscale\": [[0.0, \"#0d0887\"], [0.1111111111111111, \"#46039f\"], [0.2222222222222222, \"#7201a8\"], [0.3333333333333333, \"#9c179e\"], [0.4444444444444444, \"#bd3786\"], [0.5555555555555556, \"#d8576b\"], [0.6666666666666666, \"#ed7953\"], [0.7777777777777778, \"#fb9f3a\"], [0.8888888888888888, \"#fdca26\"], [1.0, \"#f0f921\"]], \"type\": \"surface\"}], \"table\": [{\"cells\": {\"fill\": {\"color\": \"#EBF0F8\"}, \"line\": {\"color\": \"white\"}}, \"header\": {\"fill\": {\"color\": \"#C8D4E3\"}, \"line\": {\"color\": \"white\"}}, \"type\": \"table\"}]}, \"layout\": {\"annotationdefaults\": {\"arrowcolor\": \"#2a3f5f\", \"arrowhead\": 0, \"arrowwidth\": 1}, \"autotypenumbers\": \"strict\", \"coloraxis\": {\"colorbar\": {\"outlinewidth\": 0, \"ticks\": \"\"}}, \"colorscale\": {\"diverging\": [[0, \"#8e0152\"], [0.1, \"#c51b7d\"], [0.2, \"#de77ae\"], [0.3, \"#f1b6da\"], [0.4, \"#fde0ef\"], [0.5, \"#f7f7f7\"], [0.6, \"#e6f5d0\"], [0.7, \"#b8e186\"], [0.8, \"#7fbc41\"], [0.9, \"#4d9221\"], [1, \"#276419\"]], \"sequential\": [[0.0, \"#0d0887\"], [0.1111111111111111, \"#46039f\"], [0.2222222222222222, \"#7201a8\"], [0.3333333333333333, \"#9c179e\"], [0.4444444444444444, \"#bd3786\"], [0.5555555555555556, \"#d8576b\"], [0.6666666666666666, \"#ed7953\"], [0.7777777777777778, \"#fb9f3a\"], [0.8888888888888888, \"#fdca26\"], [1.0, \"#f0f921\"]], \"sequentialminus\": [[0.0, \"#0d0887\"], [0.1111111111111111, \"#46039f\"], [0.2222222222222222, \"#7201a8\"], [0.3333333333333333, \"#9c179e\"], [0.4444444444444444, \"#bd3786\"], [0.5555555555555556, \"#d8576b\"], [0.6666666666666666, \"#ed7953\"], [0.7777777777777778, \"#fb9f3a\"], [0.8888888888888888, \"#fdca26\"], [1.0, \"#f0f921\"]]}, \"colorway\": [\"#636efa\", \"#EF553B\", \"#00cc96\", \"#ab63fa\", \"#FFA15A\", \"#19d3f3\", \"#FF6692\", \"#B6E880\", \"#FF97FF\", \"#FECB52\"], \"font\": {\"color\": \"#2a3f5f\"}, \"geo\": {\"bgcolor\": \"white\", \"lakecolor\": \"white\", \"landcolor\": \"#E5ECF6\", \"showlakes\": true, \"showland\": true, \"subunitcolor\": \"white\"}, \"hoverlabel\": {\"align\": \"left\"}, \"hovermode\": \"closest\", \"mapbox\": {\"style\": \"light\"}, \"paper_bgcolor\": \"white\", \"plot_bgcolor\": \"#E5ECF6\", \"polar\": {\"angularaxis\": {\"gridcolor\": \"white\", \"linecolor\": \"white\", \"ticks\": \"\"}, \"bgcolor\": \"#E5ECF6\", \"radialaxis\": {\"gridcolor\": \"white\", \"linecolor\": \"white\", \"ticks\": \"\"}}, \"scene\": {\"xaxis\": {\"backgroundcolor\": \"#E5ECF6\", \"gridcolor\": \"white\", \"gridwidth\": 2, \"linecolor\": \"white\", \"showbackground\": true, \"ticks\": \"\", \"zerolinecolor\": \"white\"}, \"yaxis\": {\"backgroundcolor\": \"#E5ECF6\", \"gridcolor\": \"white\", \"gridwidth\": 2, \"linecolor\": \"white\", \"showbackground\": true, \"ticks\": \"\", \"zerolinecolor\": \"white\"}, \"zaxis\": {\"backgroundcolor\": \"#E5ECF6\", \"gridcolor\": \"white\", \"gridwidth\": 2, \"linecolor\": \"white\", \"showbackground\": true, \"ticks\": \"\", \"zerolinecolor\": \"white\"}}, \"shapedefaults\": {\"line\": {\"color\": \"#2a3f5f\"}}, \"ternary\": {\"aaxis\": {\"gridcolor\": \"white\", \"linecolor\": \"white\", \"ticks\": \"\"}, \"baxis\": {\"gridcolor\": \"white\", \"linecolor\": \"white\", \"ticks\": \"\"}, \"bgcolor\": \"#E5ECF6\", \"caxis\": {\"gridcolor\": \"white\", \"linecolor\": \"white\", \"ticks\": \"\"}}, \"title\": {\"x\": 0.05}, \"xaxis\": {\"automargin\": true, \"gridcolor\": \"white\", \"linecolor\": \"white\", \"ticks\": \"\", \"title\": {\"standoff\": 15}, \"zerolinecolor\": \"white\", \"zerolinewidth\": 2}, \"yaxis\": {\"automargin\": true, \"gridcolor\": \"white\", \"linecolor\": \"white\", \"ticks\": \"\", \"title\": {\"standoff\": 15}, \"zerolinecolor\": \"white\", \"zerolinewidth\": 2}}}, \"xaxis\": {\"rangeslider\": {\"visible\": false}}},                        {\"responsive\": true}                    ).then(function(){\n",
       "                            \n",
       "var gd = document.getElementById('fdf47ecb-949c-4187-bd42-695d32c2b42b');\n",
       "var x = new MutationObserver(function (mutations, observer) {{\n",
       "        var display = window.getComputedStyle(gd).display;\n",
       "        if (!display || display === 'none') {{\n",
       "            console.log([gd, 'removed!']);\n",
       "            Plotly.purge(gd);\n",
       "            observer.disconnect();\n",
       "        }}\n",
       "}});\n",
       "\n",
       "// Listen for the removal of the full notebook cells\n",
       "var notebookContainer = gd.closest('#notebook-container');\n",
       "if (notebookContainer) {{\n",
       "    x.observe(notebookContainer, {childList: true});\n",
       "}}\n",
       "\n",
       "// Listen for the clearing of the current output cell\n",
       "var outputEl = gd.closest('.output');\n",
       "if (outputEl) {{\n",
       "    x.observe(outputEl, {childList: true});\n",
       "}}\n",
       "\n",
       "                        })                };                });            </script>        </div>"
      ]
     },
     "metadata": {},
     "output_type": "display_data"
    }
   ],
   "source": [
    "\n",
    "fig = go.Figure(data=[go.Candlestick(x=gme_daily['date'],\n",
    "                open=gme_daily['1. open'],\n",
    "                high=gme_daily['2. high'],\n",
    "                low=gme_daily['3. low'],\n",
    "                close=gme_daily['4. close'])])\n",
    "\n",
    "\n",
    "fig.update_layout(xaxis_rangeslider_visible=False)\n",
    "fig.show()\n",
    "fig.write_html('candlestick daily.html')"
   ]
  },
  {
   "cell_type": "code",
   "execution_count": 104,
   "metadata": {},
   "outputs": [
    {
     "data": {
      "application/vnd.plotly.v1+json": {
       "config": {
        "plotlyServerURL": "https://plot.ly"
       },
       "data": [
        {
         "name": "Price",
         "type": "scatter",
         "x": [
          "2020-12-31T00:00:00",
          "2021-01-04T00:00:00",
          "2021-01-05T00:00:00",
          "2021-01-06T00:00:00",
          "2021-01-07T00:00:00",
          "2021-01-08T00:00:00",
          "2021-01-11T00:00:00",
          "2021-01-12T00:00:00",
          "2021-01-13T00:00:00",
          "2021-01-14T00:00:00",
          "2021-01-15T00:00:00",
          "2021-01-19T00:00:00",
          "2021-01-20T00:00:00",
          "2021-01-21T00:00:00",
          "2021-01-22T00:00:00",
          "2021-01-25T00:00:00",
          "2021-01-26T00:00:00",
          "2021-01-27T00:00:00",
          "2021-01-28T00:00:00",
          "2021-01-29T00:00:00",
          "2021-02-01T00:00:00",
          "2021-02-02T00:00:00",
          "2021-02-03T00:00:00",
          "2021-02-04T00:00:00",
          "2021-02-05T00:00:00",
          "2021-02-08T00:00:00",
          "2021-02-09T00:00:00",
          "2021-02-10T00:00:00",
          "2021-02-11T00:00:00",
          "2021-02-12T00:00:00",
          "2021-02-16T00:00:00"
         ],
         "xaxis": "x",
         "y": [
          18.84,
          17.25,
          17.37,
          18.36,
          18.08,
          17.69,
          19.94,
          19.95,
          31.4,
          39.91,
          35.5,
          39.36,
          39.12,
          43.03,
          65.01,
          76.79,
          147.98,
          347.51,
          193.6,
          325,
          225,
          90,
          92.41,
          53.5,
          63.77,
          60,
          50.31,
          51.2,
          51.1,
          52.4,
          49.51
         ],
         "yaxis": "y"
        },
        {
         "name": "Mentions",
         "type": "scatter",
         "x": [
          "2020-12-31",
          "2021-01-01",
          "2021-01-02",
          "2021-01-03",
          "2021-01-04",
          "2021-01-05",
          "2021-01-06",
          "2021-01-07",
          "2021-01-08",
          "2021-01-09",
          "2021-01-10",
          "2021-01-11",
          "2021-01-12",
          "2021-01-13",
          "2021-01-14",
          "2021-01-15",
          "2021-01-16",
          "2021-01-17",
          "2021-01-18",
          "2021-01-19",
          "2021-01-20",
          "2021-01-21",
          "2021-01-22",
          "2021-01-23",
          "2021-01-24",
          "2021-01-25",
          "2021-01-26",
          "2021-01-27",
          "2021-01-28",
          "2021-01-29",
          "2021-01-30",
          "2021-01-31",
          "2021-02-01",
          "2021-02-02",
          "2021-02-03",
          "2021-02-04",
          "2021-02-07",
          "2021-02-08",
          "2021-02-09",
          "2021-02-10",
          "2021-02-11",
          "2021-02-12",
          "2021-02-13",
          "2021-02-14",
          "2021-02-15",
          "2021-02-16"
         ],
         "xaxis": "x",
         "y": [
          30,
          33,
          44,
          35,
          67,
          63,
          51,
          23,
          53,
          44,
          30,
          114,
          52,
          629,
          633,
          680,
          222,
          204,
          387,
          594,
          453,
          610,
          1447,
          688,
          702,
          3107,
          1022,
          11122,
          21796,
          11674,
          6852,
          6324,
          10706,
          10726,
          4320,
          3117,
          137,
          683,
          589,
          804,
          661,
          524,
          273,
          202,
          229,
          29
         ],
         "yaxis": "y2"
        }
       ],
       "layout": {
        "template": {
         "data": {
          "bar": [
           {
            "error_x": {
             "color": "#2a3f5f"
            },
            "error_y": {
             "color": "#2a3f5f"
            },
            "marker": {
             "line": {
              "color": "#E5ECF6",
              "width": 0.5
             }
            },
            "type": "bar"
           }
          ],
          "barpolar": [
           {
            "marker": {
             "line": {
              "color": "#E5ECF6",
              "width": 0.5
             }
            },
            "type": "barpolar"
           }
          ],
          "carpet": [
           {
            "aaxis": {
             "endlinecolor": "#2a3f5f",
             "gridcolor": "white",
             "linecolor": "white",
             "minorgridcolor": "white",
             "startlinecolor": "#2a3f5f"
            },
            "baxis": {
             "endlinecolor": "#2a3f5f",
             "gridcolor": "white",
             "linecolor": "white",
             "minorgridcolor": "white",
             "startlinecolor": "#2a3f5f"
            },
            "type": "carpet"
           }
          ],
          "choropleth": [
           {
            "colorbar": {
             "outlinewidth": 0,
             "ticks": ""
            },
            "type": "choropleth"
           }
          ],
          "contour": [
           {
            "colorbar": {
             "outlinewidth": 0,
             "ticks": ""
            },
            "colorscale": [
             [
              0,
              "#0d0887"
             ],
             [
              0.1111111111111111,
              "#46039f"
             ],
             [
              0.2222222222222222,
              "#7201a8"
             ],
             [
              0.3333333333333333,
              "#9c179e"
             ],
             [
              0.4444444444444444,
              "#bd3786"
             ],
             [
              0.5555555555555556,
              "#d8576b"
             ],
             [
              0.6666666666666666,
              "#ed7953"
             ],
             [
              0.7777777777777778,
              "#fb9f3a"
             ],
             [
              0.8888888888888888,
              "#fdca26"
             ],
             [
              1,
              "#f0f921"
             ]
            ],
            "type": "contour"
           }
          ],
          "contourcarpet": [
           {
            "colorbar": {
             "outlinewidth": 0,
             "ticks": ""
            },
            "type": "contourcarpet"
           }
          ],
          "heatmap": [
           {
            "colorbar": {
             "outlinewidth": 0,
             "ticks": ""
            },
            "colorscale": [
             [
              0,
              "#0d0887"
             ],
             [
              0.1111111111111111,
              "#46039f"
             ],
             [
              0.2222222222222222,
              "#7201a8"
             ],
             [
              0.3333333333333333,
              "#9c179e"
             ],
             [
              0.4444444444444444,
              "#bd3786"
             ],
             [
              0.5555555555555556,
              "#d8576b"
             ],
             [
              0.6666666666666666,
              "#ed7953"
             ],
             [
              0.7777777777777778,
              "#fb9f3a"
             ],
             [
              0.8888888888888888,
              "#fdca26"
             ],
             [
              1,
              "#f0f921"
             ]
            ],
            "type": "heatmap"
           }
          ],
          "heatmapgl": [
           {
            "colorbar": {
             "outlinewidth": 0,
             "ticks": ""
            },
            "colorscale": [
             [
              0,
              "#0d0887"
             ],
             [
              0.1111111111111111,
              "#46039f"
             ],
             [
              0.2222222222222222,
              "#7201a8"
             ],
             [
              0.3333333333333333,
              "#9c179e"
             ],
             [
              0.4444444444444444,
              "#bd3786"
             ],
             [
              0.5555555555555556,
              "#d8576b"
             ],
             [
              0.6666666666666666,
              "#ed7953"
             ],
             [
              0.7777777777777778,
              "#fb9f3a"
             ],
             [
              0.8888888888888888,
              "#fdca26"
             ],
             [
              1,
              "#f0f921"
             ]
            ],
            "type": "heatmapgl"
           }
          ],
          "histogram": [
           {
            "marker": {
             "colorbar": {
              "outlinewidth": 0,
              "ticks": ""
             }
            },
            "type": "histogram"
           }
          ],
          "histogram2d": [
           {
            "colorbar": {
             "outlinewidth": 0,
             "ticks": ""
            },
            "colorscale": [
             [
              0,
              "#0d0887"
             ],
             [
              0.1111111111111111,
              "#46039f"
             ],
             [
              0.2222222222222222,
              "#7201a8"
             ],
             [
              0.3333333333333333,
              "#9c179e"
             ],
             [
              0.4444444444444444,
              "#bd3786"
             ],
             [
              0.5555555555555556,
              "#d8576b"
             ],
             [
              0.6666666666666666,
              "#ed7953"
             ],
             [
              0.7777777777777778,
              "#fb9f3a"
             ],
             [
              0.8888888888888888,
              "#fdca26"
             ],
             [
              1,
              "#f0f921"
             ]
            ],
            "type": "histogram2d"
           }
          ],
          "histogram2dcontour": [
           {
            "colorbar": {
             "outlinewidth": 0,
             "ticks": ""
            },
            "colorscale": [
             [
              0,
              "#0d0887"
             ],
             [
              0.1111111111111111,
              "#46039f"
             ],
             [
              0.2222222222222222,
              "#7201a8"
             ],
             [
              0.3333333333333333,
              "#9c179e"
             ],
             [
              0.4444444444444444,
              "#bd3786"
             ],
             [
              0.5555555555555556,
              "#d8576b"
             ],
             [
              0.6666666666666666,
              "#ed7953"
             ],
             [
              0.7777777777777778,
              "#fb9f3a"
             ],
             [
              0.8888888888888888,
              "#fdca26"
             ],
             [
              1,
              "#f0f921"
             ]
            ],
            "type": "histogram2dcontour"
           }
          ],
          "mesh3d": [
           {
            "colorbar": {
             "outlinewidth": 0,
             "ticks": ""
            },
            "type": "mesh3d"
           }
          ],
          "parcoords": [
           {
            "line": {
             "colorbar": {
              "outlinewidth": 0,
              "ticks": ""
             }
            },
            "type": "parcoords"
           }
          ],
          "pie": [
           {
            "automargin": true,
            "type": "pie"
           }
          ],
          "scatter": [
           {
            "marker": {
             "colorbar": {
              "outlinewidth": 0,
              "ticks": ""
             }
            },
            "type": "scatter"
           }
          ],
          "scatter3d": [
           {
            "line": {
             "colorbar": {
              "outlinewidth": 0,
              "ticks": ""
             }
            },
            "marker": {
             "colorbar": {
              "outlinewidth": 0,
              "ticks": ""
             }
            },
            "type": "scatter3d"
           }
          ],
          "scattercarpet": [
           {
            "marker": {
             "colorbar": {
              "outlinewidth": 0,
              "ticks": ""
             }
            },
            "type": "scattercarpet"
           }
          ],
          "scattergeo": [
           {
            "marker": {
             "colorbar": {
              "outlinewidth": 0,
              "ticks": ""
             }
            },
            "type": "scattergeo"
           }
          ],
          "scattergl": [
           {
            "marker": {
             "colorbar": {
              "outlinewidth": 0,
              "ticks": ""
             }
            },
            "type": "scattergl"
           }
          ],
          "scattermapbox": [
           {
            "marker": {
             "colorbar": {
              "outlinewidth": 0,
              "ticks": ""
             }
            },
            "type": "scattermapbox"
           }
          ],
          "scatterpolar": [
           {
            "marker": {
             "colorbar": {
              "outlinewidth": 0,
              "ticks": ""
             }
            },
            "type": "scatterpolar"
           }
          ],
          "scatterpolargl": [
           {
            "marker": {
             "colorbar": {
              "outlinewidth": 0,
              "ticks": ""
             }
            },
            "type": "scatterpolargl"
           }
          ],
          "scatterternary": [
           {
            "marker": {
             "colorbar": {
              "outlinewidth": 0,
              "ticks": ""
             }
            },
            "type": "scatterternary"
           }
          ],
          "surface": [
           {
            "colorbar": {
             "outlinewidth": 0,
             "ticks": ""
            },
            "colorscale": [
             [
              0,
              "#0d0887"
             ],
             [
              0.1111111111111111,
              "#46039f"
             ],
             [
              0.2222222222222222,
              "#7201a8"
             ],
             [
              0.3333333333333333,
              "#9c179e"
             ],
             [
              0.4444444444444444,
              "#bd3786"
             ],
             [
              0.5555555555555556,
              "#d8576b"
             ],
             [
              0.6666666666666666,
              "#ed7953"
             ],
             [
              0.7777777777777778,
              "#fb9f3a"
             ],
             [
              0.8888888888888888,
              "#fdca26"
             ],
             [
              1,
              "#f0f921"
             ]
            ],
            "type": "surface"
           }
          ],
          "table": [
           {
            "cells": {
             "fill": {
              "color": "#EBF0F8"
             },
             "line": {
              "color": "white"
             }
            },
            "header": {
             "fill": {
              "color": "#C8D4E3"
             },
             "line": {
              "color": "white"
             }
            },
            "type": "table"
           }
          ]
         },
         "layout": {
          "annotationdefaults": {
           "arrowcolor": "#2a3f5f",
           "arrowhead": 0,
           "arrowwidth": 1
          },
          "autotypenumbers": "strict",
          "coloraxis": {
           "colorbar": {
            "outlinewidth": 0,
            "ticks": ""
           }
          },
          "colorscale": {
           "diverging": [
            [
             0,
             "#8e0152"
            ],
            [
             0.1,
             "#c51b7d"
            ],
            [
             0.2,
             "#de77ae"
            ],
            [
             0.3,
             "#f1b6da"
            ],
            [
             0.4,
             "#fde0ef"
            ],
            [
             0.5,
             "#f7f7f7"
            ],
            [
             0.6,
             "#e6f5d0"
            ],
            [
             0.7,
             "#b8e186"
            ],
            [
             0.8,
             "#7fbc41"
            ],
            [
             0.9,
             "#4d9221"
            ],
            [
             1,
             "#276419"
            ]
           ],
           "sequential": [
            [
             0,
             "#0d0887"
            ],
            [
             0.1111111111111111,
             "#46039f"
            ],
            [
             0.2222222222222222,
             "#7201a8"
            ],
            [
             0.3333333333333333,
             "#9c179e"
            ],
            [
             0.4444444444444444,
             "#bd3786"
            ],
            [
             0.5555555555555556,
             "#d8576b"
            ],
            [
             0.6666666666666666,
             "#ed7953"
            ],
            [
             0.7777777777777778,
             "#fb9f3a"
            ],
            [
             0.8888888888888888,
             "#fdca26"
            ],
            [
             1,
             "#f0f921"
            ]
           ],
           "sequentialminus": [
            [
             0,
             "#0d0887"
            ],
            [
             0.1111111111111111,
             "#46039f"
            ],
            [
             0.2222222222222222,
             "#7201a8"
            ],
            [
             0.3333333333333333,
             "#9c179e"
            ],
            [
             0.4444444444444444,
             "#bd3786"
            ],
            [
             0.5555555555555556,
             "#d8576b"
            ],
            [
             0.6666666666666666,
             "#ed7953"
            ],
            [
             0.7777777777777778,
             "#fb9f3a"
            ],
            [
             0.8888888888888888,
             "#fdca26"
            ],
            [
             1,
             "#f0f921"
            ]
           ]
          },
          "colorway": [
           "#636efa",
           "#EF553B",
           "#00cc96",
           "#ab63fa",
           "#FFA15A",
           "#19d3f3",
           "#FF6692",
           "#B6E880",
           "#FF97FF",
           "#FECB52"
          ],
          "font": {
           "color": "#2a3f5f"
          },
          "geo": {
           "bgcolor": "white",
           "lakecolor": "white",
           "landcolor": "#E5ECF6",
           "showlakes": true,
           "showland": true,
           "subunitcolor": "white"
          },
          "hoverlabel": {
           "align": "left"
          },
          "hovermode": "closest",
          "mapbox": {
           "style": "light"
          },
          "paper_bgcolor": "white",
          "plot_bgcolor": "#E5ECF6",
          "polar": {
           "angularaxis": {
            "gridcolor": "white",
            "linecolor": "white",
            "ticks": ""
           },
           "bgcolor": "#E5ECF6",
           "radialaxis": {
            "gridcolor": "white",
            "linecolor": "white",
            "ticks": ""
           }
          },
          "scene": {
           "xaxis": {
            "backgroundcolor": "#E5ECF6",
            "gridcolor": "white",
            "gridwidth": 2,
            "linecolor": "white",
            "showbackground": true,
            "ticks": "",
            "zerolinecolor": "white"
           },
           "yaxis": {
            "backgroundcolor": "#E5ECF6",
            "gridcolor": "white",
            "gridwidth": 2,
            "linecolor": "white",
            "showbackground": true,
            "ticks": "",
            "zerolinecolor": "white"
           },
           "zaxis": {
            "backgroundcolor": "#E5ECF6",
            "gridcolor": "white",
            "gridwidth": 2,
            "linecolor": "white",
            "showbackground": true,
            "ticks": "",
            "zerolinecolor": "white"
           }
          },
          "shapedefaults": {
           "line": {
            "color": "#2a3f5f"
           }
          },
          "ternary": {
           "aaxis": {
            "gridcolor": "white",
            "linecolor": "white",
            "ticks": ""
           },
           "baxis": {
            "gridcolor": "white",
            "linecolor": "white",
            "ticks": ""
           },
           "bgcolor": "#E5ECF6",
           "caxis": {
            "gridcolor": "white",
            "linecolor": "white",
            "ticks": ""
           }
          },
          "title": {
           "x": 0.05
          },
          "xaxis": {
           "automargin": true,
           "gridcolor": "white",
           "linecolor": "white",
           "ticks": "",
           "title": {
            "standoff": 15
           },
           "zerolinecolor": "white",
           "zerolinewidth": 2
          },
          "yaxis": {
           "automargin": true,
           "gridcolor": "white",
           "linecolor": "white",
           "ticks": "",
           "title": {
            "standoff": 15
           },
           "zerolinecolor": "white",
           "zerolinewidth": 2
          }
         }
        },
        "title": {
         "text": "GME Price vs. Mentions"
        },
        "xaxis": {
         "anchor": "y",
         "domain": [
          0,
          0.94
         ],
         "title": {
          "text": "Date"
         }
        },
        "yaxis": {
         "anchor": "x",
         "domain": [
          0,
          1
         ],
         "title": {
          "text": "Price"
         }
        },
        "yaxis2": {
         "anchor": "x",
         "overlaying": "y",
         "side": "right",
         "title": {
          "text": "Mentions"
         }
        }
       }
      },
      "text/html": [
       "<div>                            <div id=\"2175bb9c-e0bd-40e7-87a1-9a887decaf7d\" class=\"plotly-graph-div\" style=\"height:525px; width:100%;\"></div>            <script type=\"text/javascript\">                require([\"plotly\"], function(Plotly) {                    window.PLOTLYENV=window.PLOTLYENV || {};                                    if (document.getElementById(\"2175bb9c-e0bd-40e7-87a1-9a887decaf7d\")) {                    Plotly.newPlot(                        \"2175bb9c-e0bd-40e7-87a1-9a887decaf7d\",                        [{\"name\": \"Price\", \"type\": \"scatter\", \"x\": [\"2020-12-31T00:00:00\", \"2021-01-04T00:00:00\", \"2021-01-05T00:00:00\", \"2021-01-06T00:00:00\", \"2021-01-07T00:00:00\", \"2021-01-08T00:00:00\", \"2021-01-11T00:00:00\", \"2021-01-12T00:00:00\", \"2021-01-13T00:00:00\", \"2021-01-14T00:00:00\", \"2021-01-15T00:00:00\", \"2021-01-19T00:00:00\", \"2021-01-20T00:00:00\", \"2021-01-21T00:00:00\", \"2021-01-22T00:00:00\", \"2021-01-25T00:00:00\", \"2021-01-26T00:00:00\", \"2021-01-27T00:00:00\", \"2021-01-28T00:00:00\", \"2021-01-29T00:00:00\", \"2021-02-01T00:00:00\", \"2021-02-02T00:00:00\", \"2021-02-03T00:00:00\", \"2021-02-04T00:00:00\", \"2021-02-05T00:00:00\", \"2021-02-08T00:00:00\", \"2021-02-09T00:00:00\", \"2021-02-10T00:00:00\", \"2021-02-11T00:00:00\", \"2021-02-12T00:00:00\", \"2021-02-16T00:00:00\"], \"xaxis\": \"x\", \"y\": [18.84, 17.25, 17.37, 18.36, 18.08, 17.69, 19.94, 19.95, 31.4, 39.91, 35.5, 39.36, 39.12, 43.03, 65.01, 76.79, 147.98, 347.51, 193.6, 325.0, 225.0, 90.0, 92.41, 53.5, 63.77, 60.0, 50.31, 51.2, 51.1, 52.4, 49.51], \"yaxis\": \"y\"}, {\"name\": \"Mentions\", \"type\": \"scatter\", \"x\": [\"2020-12-31\", \"2021-01-01\", \"2021-01-02\", \"2021-01-03\", \"2021-01-04\", \"2021-01-05\", \"2021-01-06\", \"2021-01-07\", \"2021-01-08\", \"2021-01-09\", \"2021-01-10\", \"2021-01-11\", \"2021-01-12\", \"2021-01-13\", \"2021-01-14\", \"2021-01-15\", \"2021-01-16\", \"2021-01-17\", \"2021-01-18\", \"2021-01-19\", \"2021-01-20\", \"2021-01-21\", \"2021-01-22\", \"2021-01-23\", \"2021-01-24\", \"2021-01-25\", \"2021-01-26\", \"2021-01-27\", \"2021-01-28\", \"2021-01-29\", \"2021-01-30\", \"2021-01-31\", \"2021-02-01\", \"2021-02-02\", \"2021-02-03\", \"2021-02-04\", \"2021-02-07\", \"2021-02-08\", \"2021-02-09\", \"2021-02-10\", \"2021-02-11\", \"2021-02-12\", \"2021-02-13\", \"2021-02-14\", \"2021-02-15\", \"2021-02-16\"], \"xaxis\": \"x\", \"y\": [30, 33, 44, 35, 67, 63, 51, 23, 53, 44, 30, 114, 52, 629, 633, 680, 222, 204, 387, 594, 453, 610, 1447, 688, 702, 3107, 1022, 11122, 21796, 11674, 6852, 6324, 10706, 10726, 4320, 3117, 137, 683, 589, 804, 661, 524, 273, 202, 229, 29], \"yaxis\": \"y2\"}],                        {\"template\": {\"data\": {\"bar\": [{\"error_x\": {\"color\": \"#2a3f5f\"}, \"error_y\": {\"color\": \"#2a3f5f\"}, \"marker\": {\"line\": {\"color\": \"#E5ECF6\", \"width\": 0.5}}, \"type\": \"bar\"}], \"barpolar\": [{\"marker\": {\"line\": {\"color\": \"#E5ECF6\", \"width\": 0.5}}, \"type\": \"barpolar\"}], \"carpet\": [{\"aaxis\": {\"endlinecolor\": \"#2a3f5f\", \"gridcolor\": \"white\", \"linecolor\": \"white\", \"minorgridcolor\": \"white\", \"startlinecolor\": \"#2a3f5f\"}, \"baxis\": {\"endlinecolor\": \"#2a3f5f\", \"gridcolor\": \"white\", \"linecolor\": \"white\", \"minorgridcolor\": \"white\", \"startlinecolor\": \"#2a3f5f\"}, \"type\": \"carpet\"}], \"choropleth\": [{\"colorbar\": {\"outlinewidth\": 0, \"ticks\": \"\"}, \"type\": \"choropleth\"}], \"contour\": [{\"colorbar\": {\"outlinewidth\": 0, \"ticks\": \"\"}, \"colorscale\": [[0.0, \"#0d0887\"], [0.1111111111111111, \"#46039f\"], [0.2222222222222222, \"#7201a8\"], [0.3333333333333333, \"#9c179e\"], [0.4444444444444444, \"#bd3786\"], [0.5555555555555556, \"#d8576b\"], [0.6666666666666666, \"#ed7953\"], [0.7777777777777778, \"#fb9f3a\"], [0.8888888888888888, \"#fdca26\"], [1.0, \"#f0f921\"]], \"type\": \"contour\"}], \"contourcarpet\": [{\"colorbar\": {\"outlinewidth\": 0, \"ticks\": \"\"}, \"type\": \"contourcarpet\"}], \"heatmap\": [{\"colorbar\": {\"outlinewidth\": 0, \"ticks\": \"\"}, \"colorscale\": [[0.0, \"#0d0887\"], [0.1111111111111111, \"#46039f\"], [0.2222222222222222, \"#7201a8\"], [0.3333333333333333, \"#9c179e\"], [0.4444444444444444, \"#bd3786\"], [0.5555555555555556, \"#d8576b\"], [0.6666666666666666, \"#ed7953\"], [0.7777777777777778, \"#fb9f3a\"], [0.8888888888888888, \"#fdca26\"], [1.0, \"#f0f921\"]], \"type\": \"heatmap\"}], \"heatmapgl\": [{\"colorbar\": {\"outlinewidth\": 0, \"ticks\": \"\"}, \"colorscale\": [[0.0, \"#0d0887\"], [0.1111111111111111, \"#46039f\"], [0.2222222222222222, \"#7201a8\"], [0.3333333333333333, \"#9c179e\"], [0.4444444444444444, \"#bd3786\"], [0.5555555555555556, \"#d8576b\"], [0.6666666666666666, \"#ed7953\"], [0.7777777777777778, \"#fb9f3a\"], [0.8888888888888888, \"#fdca26\"], [1.0, \"#f0f921\"]], \"type\": \"heatmapgl\"}], \"histogram\": [{\"marker\": {\"colorbar\": {\"outlinewidth\": 0, \"ticks\": \"\"}}, \"type\": \"histogram\"}], \"histogram2d\": [{\"colorbar\": {\"outlinewidth\": 0, \"ticks\": \"\"}, \"colorscale\": [[0.0, \"#0d0887\"], [0.1111111111111111, \"#46039f\"], [0.2222222222222222, \"#7201a8\"], [0.3333333333333333, \"#9c179e\"], [0.4444444444444444, \"#bd3786\"], [0.5555555555555556, \"#d8576b\"], [0.6666666666666666, \"#ed7953\"], [0.7777777777777778, \"#fb9f3a\"], [0.8888888888888888, \"#fdca26\"], [1.0, \"#f0f921\"]], \"type\": \"histogram2d\"}], \"histogram2dcontour\": [{\"colorbar\": {\"outlinewidth\": 0, \"ticks\": \"\"}, \"colorscale\": [[0.0, \"#0d0887\"], [0.1111111111111111, \"#46039f\"], [0.2222222222222222, \"#7201a8\"], [0.3333333333333333, \"#9c179e\"], [0.4444444444444444, \"#bd3786\"], [0.5555555555555556, \"#d8576b\"], [0.6666666666666666, \"#ed7953\"], [0.7777777777777778, \"#fb9f3a\"], [0.8888888888888888, \"#fdca26\"], [1.0, \"#f0f921\"]], \"type\": \"histogram2dcontour\"}], \"mesh3d\": [{\"colorbar\": {\"outlinewidth\": 0, \"ticks\": \"\"}, \"type\": \"mesh3d\"}], \"parcoords\": [{\"line\": {\"colorbar\": {\"outlinewidth\": 0, \"ticks\": \"\"}}, \"type\": \"parcoords\"}], \"pie\": [{\"automargin\": true, \"type\": \"pie\"}], \"scatter\": [{\"marker\": {\"colorbar\": {\"outlinewidth\": 0, \"ticks\": \"\"}}, \"type\": \"scatter\"}], \"scatter3d\": [{\"line\": {\"colorbar\": {\"outlinewidth\": 0, \"ticks\": \"\"}}, \"marker\": {\"colorbar\": {\"outlinewidth\": 0, \"ticks\": \"\"}}, \"type\": \"scatter3d\"}], \"scattercarpet\": [{\"marker\": {\"colorbar\": {\"outlinewidth\": 0, \"ticks\": \"\"}}, \"type\": \"scattercarpet\"}], \"scattergeo\": [{\"marker\": {\"colorbar\": {\"outlinewidth\": 0, \"ticks\": \"\"}}, \"type\": \"scattergeo\"}], \"scattergl\": [{\"marker\": {\"colorbar\": {\"outlinewidth\": 0, \"ticks\": \"\"}}, \"type\": \"scattergl\"}], \"scattermapbox\": [{\"marker\": {\"colorbar\": {\"outlinewidth\": 0, \"ticks\": \"\"}}, \"type\": \"scattermapbox\"}], \"scatterpolar\": [{\"marker\": {\"colorbar\": {\"outlinewidth\": 0, \"ticks\": \"\"}}, \"type\": \"scatterpolar\"}], \"scatterpolargl\": [{\"marker\": {\"colorbar\": {\"outlinewidth\": 0, \"ticks\": \"\"}}, \"type\": \"scatterpolargl\"}], \"scatterternary\": [{\"marker\": {\"colorbar\": {\"outlinewidth\": 0, \"ticks\": \"\"}}, \"type\": \"scatterternary\"}], \"surface\": [{\"colorbar\": {\"outlinewidth\": 0, \"ticks\": \"\"}, \"colorscale\": [[0.0, \"#0d0887\"], [0.1111111111111111, \"#46039f\"], [0.2222222222222222, \"#7201a8\"], [0.3333333333333333, \"#9c179e\"], [0.4444444444444444, \"#bd3786\"], [0.5555555555555556, \"#d8576b\"], [0.6666666666666666, \"#ed7953\"], [0.7777777777777778, \"#fb9f3a\"], [0.8888888888888888, \"#fdca26\"], [1.0, \"#f0f921\"]], \"type\": \"surface\"}], \"table\": [{\"cells\": {\"fill\": {\"color\": \"#EBF0F8\"}, \"line\": {\"color\": \"white\"}}, \"header\": {\"fill\": {\"color\": \"#C8D4E3\"}, \"line\": {\"color\": \"white\"}}, \"type\": \"table\"}]}, \"layout\": {\"annotationdefaults\": {\"arrowcolor\": \"#2a3f5f\", \"arrowhead\": 0, \"arrowwidth\": 1}, \"autotypenumbers\": \"strict\", \"coloraxis\": {\"colorbar\": {\"outlinewidth\": 0, \"ticks\": \"\"}}, \"colorscale\": {\"diverging\": [[0, \"#8e0152\"], [0.1, \"#c51b7d\"], [0.2, \"#de77ae\"], [0.3, \"#f1b6da\"], [0.4, \"#fde0ef\"], [0.5, \"#f7f7f7\"], [0.6, \"#e6f5d0\"], [0.7, \"#b8e186\"], [0.8, \"#7fbc41\"], [0.9, \"#4d9221\"], [1, \"#276419\"]], \"sequential\": [[0.0, \"#0d0887\"], [0.1111111111111111, \"#46039f\"], [0.2222222222222222, \"#7201a8\"], [0.3333333333333333, \"#9c179e\"], [0.4444444444444444, \"#bd3786\"], [0.5555555555555556, \"#d8576b\"], [0.6666666666666666, \"#ed7953\"], [0.7777777777777778, \"#fb9f3a\"], [0.8888888888888888, \"#fdca26\"], [1.0, \"#f0f921\"]], \"sequentialminus\": [[0.0, \"#0d0887\"], [0.1111111111111111, \"#46039f\"], [0.2222222222222222, \"#7201a8\"], [0.3333333333333333, \"#9c179e\"], [0.4444444444444444, \"#bd3786\"], [0.5555555555555556, \"#d8576b\"], [0.6666666666666666, \"#ed7953\"], [0.7777777777777778, \"#fb9f3a\"], [0.8888888888888888, \"#fdca26\"], [1.0, \"#f0f921\"]]}, \"colorway\": [\"#636efa\", \"#EF553B\", \"#00cc96\", \"#ab63fa\", \"#FFA15A\", \"#19d3f3\", \"#FF6692\", \"#B6E880\", \"#FF97FF\", \"#FECB52\"], \"font\": {\"color\": \"#2a3f5f\"}, \"geo\": {\"bgcolor\": \"white\", \"lakecolor\": \"white\", \"landcolor\": \"#E5ECF6\", \"showlakes\": true, \"showland\": true, \"subunitcolor\": \"white\"}, \"hoverlabel\": {\"align\": \"left\"}, \"hovermode\": \"closest\", \"mapbox\": {\"style\": \"light\"}, \"paper_bgcolor\": \"white\", \"plot_bgcolor\": \"#E5ECF6\", \"polar\": {\"angularaxis\": {\"gridcolor\": \"white\", \"linecolor\": \"white\", \"ticks\": \"\"}, \"bgcolor\": \"#E5ECF6\", \"radialaxis\": {\"gridcolor\": \"white\", \"linecolor\": \"white\", \"ticks\": \"\"}}, \"scene\": {\"xaxis\": {\"backgroundcolor\": \"#E5ECF6\", \"gridcolor\": \"white\", \"gridwidth\": 2, \"linecolor\": \"white\", \"showbackground\": true, \"ticks\": \"\", \"zerolinecolor\": \"white\"}, \"yaxis\": {\"backgroundcolor\": \"#E5ECF6\", \"gridcolor\": \"white\", \"gridwidth\": 2, \"linecolor\": \"white\", \"showbackground\": true, \"ticks\": \"\", \"zerolinecolor\": \"white\"}, \"zaxis\": {\"backgroundcolor\": \"#E5ECF6\", \"gridcolor\": \"white\", \"gridwidth\": 2, \"linecolor\": \"white\", \"showbackground\": true, \"ticks\": \"\", \"zerolinecolor\": \"white\"}}, \"shapedefaults\": {\"line\": {\"color\": \"#2a3f5f\"}}, \"ternary\": {\"aaxis\": {\"gridcolor\": \"white\", \"linecolor\": \"white\", \"ticks\": \"\"}, \"baxis\": {\"gridcolor\": \"white\", \"linecolor\": \"white\", \"ticks\": \"\"}, \"bgcolor\": \"#E5ECF6\", \"caxis\": {\"gridcolor\": \"white\", \"linecolor\": \"white\", \"ticks\": \"\"}}, \"title\": {\"x\": 0.05}, \"xaxis\": {\"automargin\": true, \"gridcolor\": \"white\", \"linecolor\": \"white\", \"ticks\": \"\", \"title\": {\"standoff\": 15}, \"zerolinecolor\": \"white\", \"zerolinewidth\": 2}, \"yaxis\": {\"automargin\": true, \"gridcolor\": \"white\", \"linecolor\": \"white\", \"ticks\": \"\", \"title\": {\"standoff\": 15}, \"zerolinecolor\": \"white\", \"zerolinewidth\": 2}}}, \"title\": {\"text\": \"GME Price vs. Mentions\"}, \"xaxis\": {\"anchor\": \"y\", \"domain\": [0.0, 0.94], \"title\": {\"text\": \"Date\"}}, \"yaxis\": {\"anchor\": \"x\", \"domain\": [0.0, 1.0], \"title\": {\"text\": \"Price\"}}, \"yaxis2\": {\"anchor\": \"x\", \"overlaying\": \"y\", \"side\": \"right\", \"title\": {\"text\": \"Mentions\"}}},                        {\"responsive\": true}                    ).then(function(){\n",
       "                            \n",
       "var gd = document.getElementById('2175bb9c-e0bd-40e7-87a1-9a887decaf7d');\n",
       "var x = new MutationObserver(function (mutations, observer) {{\n",
       "        var display = window.getComputedStyle(gd).display;\n",
       "        if (!display || display === 'none') {{\n",
       "            console.log([gd, 'removed!']);\n",
       "            Plotly.purge(gd);\n",
       "            observer.disconnect();\n",
       "        }}\n",
       "}});\n",
       "\n",
       "// Listen for the removal of the full notebook cells\n",
       "var notebookContainer = gd.closest('#notebook-container');\n",
       "if (notebookContainer) {{\n",
       "    x.observe(notebookContainer, {childList: true});\n",
       "}}\n",
       "\n",
       "// Listen for the clearing of the current output cell\n",
       "var outputEl = gd.closest('.output');\n",
       "if (outputEl) {{\n",
       "    x.observe(outputEl, {childList: true});\n",
       "}}\n",
       "\n",
       "                        })                };                });            </script>        </div>"
      ]
     },
     "metadata": {},
     "output_type": "display_data"
    }
   ],
   "source": [
    "fig = make_subplots(specs=[[{\"secondary_y\": True}]])\n",
    "\n",
    "fig.add_trace(\n",
    "    go.Scatter(x=gme_daily['date'], y=gme_daily['5. adjusted close'],\n",
    "               name=\"Price\"),\n",
    "    secondary_y=False,\n",
    ")\n",
    "\n",
    "fig.add_trace(\n",
    "    go.Scatter( x=gme_date['date'], y=gme_date['count'], name= 'Mentions'),\n",
    "    secondary_y=True,\n",
    ")\n",
    "fig.update_layout(\n",
    "    title_text=\"GME Price vs. Mentions\"\n",
    ")\n",
    "\n",
    "fig.update_xaxes(title_text=\"Date\")\n",
    "\n",
    "fig.update_yaxes(title_text=\"Price\", secondary_y=False)\n",
    "fig.update_yaxes(title_text=\"Mentions\", secondary_y=True)\n",
    "\n",
    "fig.show()\n",
    "fig.write_html('html/GME Price vs. Mentions.html')"
   ]
  },
  {
   "cell_type": "code",
   "execution_count": 11,
   "metadata": {
    "scrolled": false
   },
   "outputs": [
    {
     "data": {
      "text/html": [
       "<div>\n",
       "<style scoped>\n",
       "    .dataframe tbody tr th:only-of-type {\n",
       "        vertical-align: middle;\n",
       "    }\n",
       "\n",
       "    .dataframe tbody tr th {\n",
       "        vertical-align: top;\n",
       "    }\n",
       "\n",
       "    .dataframe thead th {\n",
       "        text-align: right;\n",
       "    }\n",
       "</style>\n",
       "<table border=\"1\" class=\"dataframe\">\n",
       "  <thead>\n",
       "    <tr style=\"text-align: right;\">\n",
       "      <th></th>\n",
       "      <th>title</th>\n",
       "      <th>date</th>\n",
       "      <th>count</th>\n",
       "    </tr>\n",
       "  </thead>\n",
       "  <tbody>\n",
       "    <tr>\n",
       "      <th>328310</th>\n",
       "      <td>gme</td>\n",
       "      <td>2021-01-25 01:00:00</td>\n",
       "      <td>19</td>\n",
       "    </tr>\n",
       "    <tr>\n",
       "      <th>328311</th>\n",
       "      <td>gme</td>\n",
       "      <td>2021-01-25 02:00:00</td>\n",
       "      <td>26</td>\n",
       "    </tr>\n",
       "    <tr>\n",
       "      <th>328312</th>\n",
       "      <td>gme</td>\n",
       "      <td>2021-01-25 03:00:00</td>\n",
       "      <td>20</td>\n",
       "    </tr>\n",
       "    <tr>\n",
       "      <th>328313</th>\n",
       "      <td>gme</td>\n",
       "      <td>2021-01-25 04:00:00</td>\n",
       "      <td>116</td>\n",
       "    </tr>\n",
       "    <tr>\n",
       "      <th>328314</th>\n",
       "      <td>gme</td>\n",
       "      <td>2021-01-25 05:00:00</td>\n",
       "      <td>97</td>\n",
       "    </tr>\n",
       "    <tr>\n",
       "      <th>...</th>\n",
       "      <td>...</td>\n",
       "      <td>...</td>\n",
       "      <td>...</td>\n",
       "    </tr>\n",
       "    <tr>\n",
       "      <th>328403</th>\n",
       "      <td>gme</td>\n",
       "      <td>2021-01-29 19:00:00</td>\n",
       "      <td>335</td>\n",
       "    </tr>\n",
       "    <tr>\n",
       "      <th>328404</th>\n",
       "      <td>gme</td>\n",
       "      <td>2021-01-29 20:00:00</td>\n",
       "      <td>370</td>\n",
       "    </tr>\n",
       "    <tr>\n",
       "      <th>328405</th>\n",
       "      <td>gme</td>\n",
       "      <td>2021-01-29 21:00:00</td>\n",
       "      <td>410</td>\n",
       "    </tr>\n",
       "    <tr>\n",
       "      <th>328406</th>\n",
       "      <td>gme</td>\n",
       "      <td>2021-01-29 22:00:00</td>\n",
       "      <td>309</td>\n",
       "    </tr>\n",
       "    <tr>\n",
       "      <th>328407</th>\n",
       "      <td>gme</td>\n",
       "      <td>2021-01-29 23:00:00</td>\n",
       "      <td>311</td>\n",
       "    </tr>\n",
       "  </tbody>\n",
       "</table>\n",
       "<p>98 rows × 3 columns</p>\n",
       "</div>"
      ],
      "text/plain": [
       "       title                date  count\n",
       "328310   gme 2021-01-25 01:00:00     19\n",
       "328311   gme 2021-01-25 02:00:00     26\n",
       "328312   gme 2021-01-25 03:00:00     20\n",
       "328313   gme 2021-01-25 04:00:00    116\n",
       "328314   gme 2021-01-25 05:00:00     97\n",
       "...      ...                 ...    ...\n",
       "328403   gme 2021-01-29 19:00:00    335\n",
       "328404   gme 2021-01-29 20:00:00    370\n",
       "328405   gme 2021-01-29 21:00:00    410\n",
       "328406   gme 2021-01-29 22:00:00    309\n",
       "328407   gme 2021-01-29 23:00:00    311\n",
       "\n",
       "[98 rows x 3 columns]"
      ]
     },
     "execution_count": 11,
     "metadata": {},
     "output_type": "execute_result"
    },
    {
     "data": {
      "image/png": "[encoded data removed]",
      "text/plain": [
       "<Figure size 648x648 with 2 Axes>"
      ]
     },
     "metadata": {
      "needs_background": "light"
     },
     "output_type": "display_data"
    }
   ],
   "source": [
    "fig, ax1 = plt.subplots(figsize = (9,9))\n",
    "ax2 = ax1.twinx()\n",
    "\n",
    "ax1.plot(gme_hourly['date'], gme_hourly['4. close'], label = 'Price per Hour')\n",
    "ax1.set_xlabel('Hour')\n",
    "ax1.set_ylabel('Price')\n",
    "ax1.set_title('Hourly Stock Price vs. Mentions')\n",
    "ax1.axvspan('2021-01-25 01:00:00', '2021-01-25 09:00:00', color='red', alpha=0.1, label='Market Off-hours')\n",
    "ax1.axvspan('2021-01-25 16:00:00', '2021-01-26 09:00:00', color='red', alpha=0.1)\n",
    "ax1.axvspan('2021-01-26 16:00:00', '2021-01-27 09:00:00', color='red', alpha=0.1)\n",
    "ax1.axvspan('2021-01-27 16:00:00', '2021-01-28 09:00:00', color='red', alpha=0.1)\n",
    "ax1.axvspan('2021-01-28 16:00:00', '2021-01-29 09:00:00', color='red', alpha=0.1)\n",
    "\n",
    "x = gme_hour['date']\n",
    "y = gme_hour['count']\n",
    "\n",
    "ax2.plot(x,y, color = 'purple', label = 'Number of Mentions', alpha=.3)\n",
    "ax2.grid(b=False)\n",
    "ax2.set_ylabel('Number of Mentions')\n",
    "\n",
    "\n",
    "fig.autofmt_xdate()\n",
    "fig.legend()\n",
    "gme_hour"
   ]
  },
  {
   "cell_type": "code",
   "execution_count": 105,
   "metadata": {},
   "outputs": [
    {
     "data": {
      "application/vnd.plotly.v1+json": {
       "config": {
        "plotlyServerURL": "https://plot.ly"
       },
       "data": [
        {
         "name": "Price",
         "type": "scatter",
         "x": [
          "2021-01-25T05:00:00",
          "2021-01-25T06:00:00",
          "2021-01-25T07:00:00",
          "2021-01-25T08:00:00",
          "2021-01-25T09:00:00",
          "2021-01-25T10:00:00",
          "2021-01-25T11:00:00",
          "2021-01-25T12:00:00",
          "2021-01-25T13:00:00",
          "2021-01-25T14:00:00",
          "2021-01-25T15:00:00",
          "2021-01-25T16:00:00",
          "2021-01-25T17:00:00",
          "2021-01-25T18:00:00",
          "2021-01-25T19:00:00",
          "2021-01-25T20:00:00",
          "2021-01-26T05:00:00",
          "2021-01-26T06:00:00",
          "2021-01-26T07:00:00",
          "2021-01-26T08:00:00",
          "2021-01-26T09:00:00",
          "2021-01-26T10:00:00",
          "2021-01-26T11:00:00",
          "2021-01-26T12:00:00",
          "2021-01-26T13:00:00",
          "2021-01-26T14:00:00",
          "2021-01-26T15:00:00",
          "2021-01-26T16:00:00",
          "2021-01-26T17:00:00",
          "2021-01-26T18:00:00",
          "2021-01-26T19:00:00",
          "2021-01-26T20:00:00",
          "2021-01-27T05:00:00",
          "2021-01-27T06:00:00",
          "2021-01-27T07:00:00",
          "2021-01-27T08:00:00",
          "2021-01-27T09:00:00",
          "2021-01-27T10:00:00",
          "2021-01-27T11:00:00",
          "2021-01-27T12:00:00",
          "2021-01-27T13:00:00",
          "2021-01-27T14:00:00",
          "2021-01-27T15:00:00",
          "2021-01-27T16:00:00",
          "2021-01-27T17:00:00",
          "2021-01-27T18:00:00",
          "2021-01-27T19:00:00",
          "2021-01-27T20:00:00",
          "2021-01-28T05:00:00",
          "2021-01-28T06:00:00",
          "2021-01-28T07:00:00",
          "2021-01-28T08:00:00",
          "2021-01-28T09:00:00",
          "2021-01-28T10:00:00",
          "2021-01-28T11:00:00",
          "2021-01-28T12:00:00",
          "2021-01-28T13:00:00",
          "2021-01-28T14:00:00",
          "2021-01-28T15:00:00",
          "2021-01-28T16:00:00",
          "2021-01-28T17:00:00",
          "2021-01-28T18:00:00",
          "2021-01-28T19:00:00",
          "2021-01-28T20:00:00"
         ],
         "xaxis": "x",
         "y": [
          105.39,
          96.77,
          94.43,
          91.65,
          98.05,
          89.76,
          117.07,
          99.56,
          69.42,
          76.7499,
          77.0001,
          76.765,
          78.5,
          81.71,
          82.8801,
          88.87,
          94,
          88.55,
          88.5,
          91.51,
          89.25,
          87.57,
          87.6101,
          87.7999,
          105.5556,
          114.5499,
          131.845,
          145.965,
          224.45,
          208.14,
          225,
          209.51,
          299.19,
          351,
          197.89,
          230,
          231.5,
          310.69,
          371.82,
          312.61,
          342.172,
          326.59,
          319.6006,
          345,
          327.26,
          319.85,
          248.8,
          292,
          335,
          456,
          445,
          459,
          341,
          468.49,
          264.01,
          255.7614,
          239.6656,
          241.5301,
          247.17,
          197.44,
          257,
          281.85,
          347.01,
          311.99
         ],
         "yaxis": "y"
        },
        {
         "name": "Mentions",
         "type": "scatter",
         "x": [
          "2021-01-25T01:00:00",
          "2021-01-25T02:00:00",
          "2021-01-25T03:00:00",
          "2021-01-25T04:00:00",
          "2021-01-25T05:00:00",
          "2021-01-25T06:00:00",
          "2021-01-25T07:00:00",
          "2021-01-25T08:00:00",
          "2021-01-25T09:00:00",
          "2021-01-25T10:00:00",
          "2021-01-25T11:00:00",
          "2021-01-25T12:00:00",
          "2021-01-25T13:00:00",
          "2021-01-25T14:00:00",
          "2021-01-25T15:00:00",
          "2021-01-25T16:00:00",
          "2021-01-25T17:00:00",
          "2021-01-25T18:00:00",
          "2021-01-25T19:00:00",
          "2021-01-25T20:00:00",
          "2021-01-25T21:00:00",
          "2021-01-25T22:00:00",
          "2021-01-25T23:00:00",
          "2021-01-26T00:00:00",
          "2021-01-26T01:00:00",
          "2021-01-26T02:00:00",
          "2021-01-26T03:00:00",
          "2021-01-26T04:00:00",
          "2021-01-26T05:00:00",
          "2021-01-26T06:00:00",
          "2021-01-26T07:00:00",
          "2021-01-26T08:00:00",
          "2021-01-26T09:00:00",
          "2021-01-26T10:00:00",
          "2021-01-26T11:00:00",
          "2021-01-27T09:00:00",
          "2021-01-27T10:00:00",
          "2021-01-27T11:00:00",
          "2021-01-27T12:00:00",
          "2021-01-27T13:00:00",
          "2021-01-27T14:00:00",
          "2021-01-27T15:00:00",
          "2021-01-27T16:00:00",
          "2021-01-27T17:00:00",
          "2021-01-27T18:00:00",
          "2021-01-27T19:00:00",
          "2021-01-27T20:00:00",
          "2021-01-27T21:00:00",
          "2021-01-27T22:00:00",
          "2021-01-27T23:00:00",
          "2021-01-28T00:00:00",
          "2021-01-28T01:00:00",
          "2021-01-28T02:00:00",
          "2021-01-28T03:00:00",
          "2021-01-28T04:00:00",
          "2021-01-28T05:00:00",
          "2021-01-28T06:00:00",
          "2021-01-28T07:00:00",
          "2021-01-28T08:00:00",
          "2021-01-28T09:00:00",
          "2021-01-28T10:00:00",
          "2021-01-28T11:00:00",
          "2021-01-28T12:00:00",
          "2021-01-28T13:00:00",
          "2021-01-28T14:00:00",
          "2021-01-28T15:00:00",
          "2021-01-28T16:00:00",
          "2021-01-28T17:00:00",
          "2021-01-28T18:00:00",
          "2021-01-28T19:00:00",
          "2021-01-28T20:00:00",
          "2021-01-28T21:00:00",
          "2021-01-28T22:00:00",
          "2021-01-28T23:00:00",
          "2021-01-29T00:00:00",
          "2021-01-29T01:00:00",
          "2021-01-29T02:00:00",
          "2021-01-29T03:00:00",
          "2021-01-29T04:00:00",
          "2021-01-29T05:00:00",
          "2021-01-29T06:00:00",
          "2021-01-29T07:00:00",
          "2021-01-29T08:00:00",
          "2021-01-29T09:00:00",
          "2021-01-29T10:00:00",
          "2021-01-29T11:00:00",
          "2021-01-29T12:00:00",
          "2021-01-29T13:00:00",
          "2021-01-29T14:00:00",
          "2021-01-29T15:00:00",
          "2021-01-29T16:00:00",
          "2021-01-29T17:00:00",
          "2021-01-29T18:00:00",
          "2021-01-29T19:00:00",
          "2021-01-29T20:00:00",
          "2021-01-29T21:00:00",
          "2021-01-29T22:00:00",
          "2021-01-29T23:00:00"
         ],
         "xaxis": "x",
         "y": [
          19,
          26,
          20,
          116,
          97,
          48,
          59,
          98,
          148,
          294,
          392,
          373,
          220,
          159,
          160,
          143,
          130,
          90,
          100,
          113,
          103,
          103,
          63,
          83,
          65,
          49,
          51,
          46,
          48,
          61,
          80,
          76,
          155,
          229,
          79,
          44,
          1050,
          1176,
          1299,
          898,
          1112,
          1259,
          504,
          308,
          382,
          403,
          906,
          705,
          614,
          462,
          365,
          318,
          291,
          317,
          276,
          426,
          623,
          638,
          1821,
          2058,
          2054,
          2080,
          1572,
          967,
          1386,
          1267,
          997,
          770,
          737,
          680,
          606,
          531,
          560,
          456,
          426,
          330,
          322,
          273,
          333,
          316,
          315,
          400,
          475,
          881,
          1006,
          726,
          677,
          705,
          795,
          635,
          525,
          425,
          374,
          335,
          370,
          410,
          309,
          311
         ],
         "yaxis": "y2"
        }
       ],
       "layout": {
        "template": {
         "data": {
          "bar": [
           {
            "error_x": {
             "color": "#2a3f5f"
            },
            "error_y": {
             "color": "#2a3f5f"
            },
            "marker": {
             "line": {
              "color": "#E5ECF6",
              "width": 0.5
             }
            },
            "type": "bar"
           }
          ],
          "barpolar": [
           {
            "marker": {
             "line": {
              "color": "#E5ECF6",
              "width": 0.5
             }
            },
            "type": "barpolar"
           }
          ],
          "carpet": [
           {
            "aaxis": {
             "endlinecolor": "#2a3f5f",
             "gridcolor": "white",
             "linecolor": "white",
             "minorgridcolor": "white",
             "startlinecolor": "#2a3f5f"
            },
            "baxis": {
             "endlinecolor": "#2a3f5f",
             "gridcolor": "white",
             "linecolor": "white",
             "minorgridcolor": "white",
             "startlinecolor": "#2a3f5f"
            },
            "type": "carpet"
           }
          ],
          "choropleth": [
           {
            "colorbar": {
             "outlinewidth": 0,
             "ticks": ""
            },
            "type": "choropleth"
           }
          ],
          "contour": [
           {
            "colorbar": {
             "outlinewidth": 0,
             "ticks": ""
            },
            "colorscale": [
             [
              0,
              "#0d0887"
             ],
             [
              0.1111111111111111,
              "#46039f"
             ],
             [
              0.2222222222222222,
              "#7201a8"
             ],
             [
              0.3333333333333333,
              "#9c179e"
             ],
             [
              0.4444444444444444,
              "#bd3786"
             ],
             [
              0.5555555555555556,
              "#d8576b"
             ],
             [
              0.6666666666666666,
              "#ed7953"
             ],
             [
              0.7777777777777778,
              "#fb9f3a"
             ],
             [
              0.8888888888888888,
              "#fdca26"
             ],
             [
              1,
              "#f0f921"
             ]
            ],
            "type": "contour"
           }
          ],
          "contourcarpet": [
           {
            "colorbar": {
             "outlinewidth": 0,
             "ticks": ""
            },
            "type": "contourcarpet"
           }
          ],
          "heatmap": [
           {
            "colorbar": {
             "outlinewidth": 0,
             "ticks": ""
            },
            "colorscale": [
             [
              0,
              "#0d0887"
             ],
             [
              0.1111111111111111,
              "#46039f"
             ],
             [
              0.2222222222222222,
              "#7201a8"
             ],
             [
              0.3333333333333333,
              "#9c179e"
             ],
             [
              0.4444444444444444,
              "#bd3786"
             ],
             [
              0.5555555555555556,
              "#d8576b"
             ],
             [
              0.6666666666666666,
              "#ed7953"
             ],
             [
              0.7777777777777778,
              "#fb9f3a"
             ],
             [
              0.8888888888888888,
              "#fdca26"
             ],
             [
              1,
              "#f0f921"
             ]
            ],
            "type": "heatmap"
           }
          ],
          "heatmapgl": [
           {
            "colorbar": {
             "outlinewidth": 0,
             "ticks": ""
            },
            "colorscale": [
             [
              0,
              "#0d0887"
             ],
             [
              0.1111111111111111,
              "#46039f"
             ],
             [
              0.2222222222222222,
              "#7201a8"
             ],
             [
              0.3333333333333333,
              "#9c179e"
             ],
             [
              0.4444444444444444,
              "#bd3786"
             ],
             [
              0.5555555555555556,
              "#d8576b"
             ],
             [
              0.6666666666666666,
              "#ed7953"
             ],
             [
              0.7777777777777778,
              "#fb9f3a"
             ],
             [
              0.8888888888888888,
              "#fdca26"
             ],
             [
              1,
              "#f0f921"
             ]
            ],
            "type": "heatmapgl"
           }
          ],
          "histogram": [
           {
            "marker": {
             "colorbar": {
              "outlinewidth": 0,
              "ticks": ""
             }
            },
            "type": "histogram"
           }
          ],
          "histogram2d": [
           {
            "colorbar": {
             "outlinewidth": 0,
             "ticks": ""
            },
            "colorscale": [
             [
              0,
              "#0d0887"
             ],
             [
              0.1111111111111111,
              "#46039f"
             ],
             [
              0.2222222222222222,
              "#7201a8"
             ],
             [
              0.3333333333333333,
              "#9c179e"
             ],
             [
              0.4444444444444444,
              "#bd3786"
             ],
             [
              0.5555555555555556,
              "#d8576b"
             ],
             [
              0.6666666666666666,
              "#ed7953"
             ],
             [
              0.7777777777777778,
              "#fb9f3a"
             ],
             [
              0.8888888888888888,
              "#fdca26"
             ],
             [
              1,
              "#f0f921"
             ]
            ],
            "type": "histogram2d"
           }
          ],
          "histogram2dcontour": [
           {
            "colorbar": {
             "outlinewidth": 0,
             "ticks": ""
            },
            "colorscale": [
             [
              0,
              "#0d0887"
             ],
             [
              0.1111111111111111,
              "#46039f"
             ],
             [
              0.2222222222222222,
              "#7201a8"
             ],
             [
              0.3333333333333333,
              "#9c179e"
             ],
             [
              0.4444444444444444,
              "#bd3786"
             ],
             [
              0.5555555555555556,
              "#d8576b"
             ],
             [
              0.6666666666666666,
              "#ed7953"
             ],
             [
              0.7777777777777778,
              "#fb9f3a"
             ],
             [
              0.8888888888888888,
              "#fdca26"
             ],
             [
              1,
              "#f0f921"
             ]
            ],
            "type": "histogram2dcontour"
           }
          ],
          "mesh3d": [
           {
            "colorbar": {
             "outlinewidth": 0,
             "ticks": ""
            },
            "type": "mesh3d"
           }
          ],
          "parcoords": [
           {
            "line": {
             "colorbar": {
              "outlinewidth": 0,
              "ticks": ""
             }
            },
            "type": "parcoords"
           }
          ],
          "pie": [
           {
            "automargin": true,
            "type": "pie"
           }
          ],
          "scatter": [
           {
            "marker": {
             "colorbar": {
              "outlinewidth": 0,
              "ticks": ""
             }
            },
            "type": "scatter"
           }
          ],
          "scatter3d": [
           {
            "line": {
             "colorbar": {
              "outlinewidth": 0,
              "ticks": ""
             }
            },
            "marker": {
             "colorbar": {
              "outlinewidth": 0,
              "ticks": ""
             }
            },
            "type": "scatter3d"
           }
          ],
          "scattercarpet": [
           {
            "marker": {
             "colorbar": {
              "outlinewidth": 0,
              "ticks": ""
             }
            },
            "type": "scattercarpet"
           }
          ],
          "scattergeo": [
           {
            "marker": {
             "colorbar": {
              "outlinewidth": 0,
              "ticks": ""
             }
            },
            "type": "scattergeo"
           }
          ],
          "scattergl": [
           {
            "marker": {
             "colorbar": {
              "outlinewidth": 0,
              "ticks": ""
             }
            },
            "type": "scattergl"
           }
          ],
          "scattermapbox": [
           {
            "marker": {
             "colorbar": {
              "outlinewidth": 0,
              "ticks": ""
             }
            },
            "type": "scattermapbox"
           }
          ],
          "scatterpolar": [
           {
            "marker": {
             "colorbar": {
              "outlinewidth": 0,
              "ticks": ""
             }
            },
            "type": "scatterpolar"
           }
          ],
          "scatterpolargl": [
           {
            "marker": {
             "colorbar": {
              "outlinewidth": 0,
              "ticks": ""
             }
            },
            "type": "scatterpolargl"
           }
          ],
          "scatterternary": [
           {
            "marker": {
             "colorbar": {
              "outlinewidth": 0,
              "ticks": ""
             }
            },
            "type": "scatterternary"
           }
          ],
          "surface": [
           {
            "colorbar": {
             "outlinewidth": 0,
             "ticks": ""
            },
            "colorscale": [
             [
              0,
              "#0d0887"
             ],
             [
              0.1111111111111111,
              "#46039f"
             ],
             [
              0.2222222222222222,
              "#7201a8"
             ],
             [
              0.3333333333333333,
              "#9c179e"
             ],
             [
              0.4444444444444444,
              "#bd3786"
             ],
             [
              0.5555555555555556,
              "#d8576b"
             ],
             [
              0.6666666666666666,
              "#ed7953"
             ],
             [
              0.7777777777777778,
              "#fb9f3a"
             ],
             [
              0.8888888888888888,
              "#fdca26"
             ],
             [
              1,
              "#f0f921"
             ]
            ],
            "type": "surface"
           }
          ],
          "table": [
           {
            "cells": {
             "fill": {
              "color": "#EBF0F8"
             },
             "line": {
              "color": "white"
             }
            },
            "header": {
             "fill": {
              "color": "#C8D4E3"
             },
             "line": {
              "color": "white"
             }
            },
            "type": "table"
           }
          ]
         },
         "layout": {
          "annotationdefaults": {
           "arrowcolor": "#2a3f5f",
           "arrowhead": 0,
           "arrowwidth": 1
          },
          "autotypenumbers": "strict",
          "coloraxis": {
           "colorbar": {
            "outlinewidth": 0,
            "ticks": ""
           }
          },
          "colorscale": {
           "diverging": [
            [
             0,
             "#8e0152"
            ],
            [
             0.1,
             "#c51b7d"
            ],
            [
             0.2,
             "#de77ae"
            ],
            [
             0.3,
             "#f1b6da"
            ],
            [
             0.4,
             "#fde0ef"
            ],
            [
             0.5,
             "#f7f7f7"
            ],
            [
             0.6,
             "#e6f5d0"
            ],
            [
             0.7,
             "#b8e186"
            ],
            [
             0.8,
             "#7fbc41"
            ],
            [
             0.9,
             "#4d9221"
            ],
            [
             1,
             "#276419"
            ]
           ],
           "sequential": [
            [
             0,
             "#0d0887"
            ],
            [
             0.1111111111111111,
             "#46039f"
            ],
            [
             0.2222222222222222,
             "#7201a8"
            ],
            [
             0.3333333333333333,
             "#9c179e"
            ],
            [
             0.4444444444444444,
             "#bd3786"
            ],
            [
             0.5555555555555556,
             "#d8576b"
            ],
            [
             0.6666666666666666,
             "#ed7953"
            ],
            [
             0.7777777777777778,
             "#fb9f3a"
            ],
            [
             0.8888888888888888,
             "#fdca26"
            ],
            [
             1,
             "#f0f921"
            ]
           ],
           "sequentialminus": [
            [
             0,
             "#0d0887"
            ],
            [
             0.1111111111111111,
             "#46039f"
            ],
            [
             0.2222222222222222,
             "#7201a8"
            ],
            [
             0.3333333333333333,
             "#9c179e"
            ],
            [
             0.4444444444444444,
             "#bd3786"
            ],
            [
             0.5555555555555556,
             "#d8576b"
            ],
            [
             0.6666666666666666,
             "#ed7953"
            ],
            [
             0.7777777777777778,
             "#fb9f3a"
            ],
            [
             0.8888888888888888,
             "#fdca26"
            ],
            [
             1,
             "#f0f921"
            ]
           ]
          },
          "colorway": [
           "#636efa",
           "#EF553B",
           "#00cc96",
           "#ab63fa",
           "#FFA15A",
           "#19d3f3",
           "#FF6692",
           "#B6E880",
           "#FF97FF",
           "#FECB52"
          ],
          "font": {
           "color": "#2a3f5f"
          },
          "geo": {
           "bgcolor": "white",
           "lakecolor": "white",
           "landcolor": "#E5ECF6",
           "showlakes": true,
           "showland": true,
           "subunitcolor": "white"
          },
          "hoverlabel": {
           "align": "left"
          },
          "hovermode": "closest",
          "mapbox": {
           "style": "light"
          },
          "paper_bgcolor": "white",
          "plot_bgcolor": "#E5ECF6",
          "polar": {
           "angularaxis": {
            "gridcolor": "white",
            "linecolor": "white",
            "ticks": ""
           },
           "bgcolor": "#E5ECF6",
           "radialaxis": {
            "gridcolor": "white",
            "linecolor": "white",
            "ticks": ""
           }
          },
          "scene": {
           "xaxis": {
            "backgroundcolor": "#E5ECF6",
            "gridcolor": "white",
            "gridwidth": 2,
            "linecolor": "white",
            "showbackground": true,
            "ticks": "",
            "zerolinecolor": "white"
           },
           "yaxis": {
            "backgroundcolor": "#E5ECF6",
            "gridcolor": "white",
            "gridwidth": 2,
            "linecolor": "white",
            "showbackground": true,
            "ticks": "",
            "zerolinecolor": "white"
           },
           "zaxis": {
            "backgroundcolor": "#E5ECF6",
            "gridcolor": "white",
            "gridwidth": 2,
            "linecolor": "white",
            "showbackground": true,
            "ticks": "",
            "zerolinecolor": "white"
           }
          },
          "shapedefaults": {
           "line": {
            "color": "#2a3f5f"
           }
          },
          "ternary": {
           "aaxis": {
            "gridcolor": "white",
            "linecolor": "white",
            "ticks": ""
           },
           "baxis": {
            "gridcolor": "white",
            "linecolor": "white",
            "ticks": ""
           },
           "bgcolor": "#E5ECF6",
           "caxis": {
            "gridcolor": "white",
            "linecolor": "white",
            "ticks": ""
           }
          },
          "title": {
           "x": 0.05
          },
          "xaxis": {
           "automargin": true,
           "gridcolor": "white",
           "linecolor": "white",
           "ticks": "",
           "title": {
            "standoff": 15
           },
           "zerolinecolor": "white",
           "zerolinewidth": 2
          },
          "yaxis": {
           "automargin": true,
           "gridcolor": "white",
           "linecolor": "white",
           "ticks": "",
           "title": {
            "standoff": 15
           },
           "zerolinecolor": "white",
           "zerolinewidth": 2
          }
         }
        },
        "title": {
         "text": "GME Hourly Price vs. Mentions"
        },
        "xaxis": {
         "anchor": "y",
         "domain": [
          0,
          0.94
         ],
         "title": {
          "text": "Hour"
         }
        },
        "yaxis": {
         "anchor": "x",
         "domain": [
          0,
          1
         ],
         "title": {
          "text": "Price"
         }
        },
        "yaxis2": {
         "anchor": "x",
         "overlaying": "y",
         "side": "right",
         "title": {
          "text": "Mentions"
         }
        }
       }
      },
      "text/html": [
       "<div>                            <div id=\"f565d61d-91ad-42f1-93d5-f896e24c9b56\" class=\"plotly-graph-div\" style=\"height:525px; width:100%;\"></div>            <script type=\"text/javascript\">                require([\"plotly\"], function(Plotly) {                    window.PLOTLYENV=window.PLOTLYENV || {};                                    if (document.getElementById(\"f565d61d-91ad-42f1-93d5-f896e24c9b56\")) {                    Plotly.newPlot(                        \"f565d61d-91ad-42f1-93d5-f896e24c9b56\",                        [{\"name\": \"Price\", \"type\": \"scatter\", \"x\": [\"2021-01-25T05:00:00\", \"2021-01-25T06:00:00\", \"2021-01-25T07:00:00\", \"2021-01-25T08:00:00\", \"2021-01-25T09:00:00\", \"2021-01-25T10:00:00\", \"2021-01-25T11:00:00\", \"2021-01-25T12:00:00\", \"2021-01-25T13:00:00\", \"2021-01-25T14:00:00\", \"2021-01-25T15:00:00\", \"2021-01-25T16:00:00\", \"2021-01-25T17:00:00\", \"2021-01-25T18:00:00\", \"2021-01-25T19:00:00\", \"2021-01-25T20:00:00\", \"2021-01-26T05:00:00\", \"2021-01-26T06:00:00\", \"2021-01-26T07:00:00\", \"2021-01-26T08:00:00\", \"2021-01-26T09:00:00\", \"2021-01-26T10:00:00\", \"2021-01-26T11:00:00\", \"2021-01-26T12:00:00\", \"2021-01-26T13:00:00\", \"2021-01-26T14:00:00\", \"2021-01-26T15:00:00\", \"2021-01-26T16:00:00\", \"2021-01-26T17:00:00\", \"2021-01-26T18:00:00\", \"2021-01-26T19:00:00\", \"2021-01-26T20:00:00\", \"2021-01-27T05:00:00\", \"2021-01-27T06:00:00\", \"2021-01-27T07:00:00\", \"2021-01-27T08:00:00\", \"2021-01-27T09:00:00\", \"2021-01-27T10:00:00\", \"2021-01-27T11:00:00\", \"2021-01-27T12:00:00\", \"2021-01-27T13:00:00\", \"2021-01-27T14:00:00\", \"2021-01-27T15:00:00\", \"2021-01-27T16:00:00\", \"2021-01-27T17:00:00\", \"2021-01-27T18:00:00\", \"2021-01-27T19:00:00\", \"2021-01-27T20:00:00\", \"2021-01-28T05:00:00\", \"2021-01-28T06:00:00\", \"2021-01-28T07:00:00\", \"2021-01-28T08:00:00\", \"2021-01-28T09:00:00\", \"2021-01-28T10:00:00\", \"2021-01-28T11:00:00\", \"2021-01-28T12:00:00\", \"2021-01-28T13:00:00\", \"2021-01-28T14:00:00\", \"2021-01-28T15:00:00\", \"2021-01-28T16:00:00\", \"2021-01-28T17:00:00\", \"2021-01-28T18:00:00\", \"2021-01-28T19:00:00\", \"2021-01-28T20:00:00\"], \"xaxis\": \"x\", \"y\": [105.39, 96.77, 94.43, 91.65, 98.05, 89.76, 117.07, 99.56, 69.42, 76.7499, 77.0001, 76.765, 78.5, 81.71, 82.8801, 88.87, 94.0, 88.55, 88.5, 91.51, 89.25, 87.57, 87.6101, 87.7999, 105.5556, 114.5499, 131.845, 145.965, 224.45, 208.14, 225.0, 209.51, 299.19, 351.0, 197.89, 230.0, 231.5, 310.69, 371.82, 312.61, 342.172, 326.59, 319.6006, 345.0, 327.26, 319.85, 248.8, 292.0, 335.0, 456.0, 445.0, 459.0, 341.0, 468.49, 264.01, 255.7614, 239.6656, 241.5301, 247.17, 197.44, 257.0, 281.85, 347.01, 311.99], \"yaxis\": \"y\"}, {\"name\": \"Mentions\", \"type\": \"scatter\", \"x\": [\"2021-01-25T01:00:00\", \"2021-01-25T02:00:00\", \"2021-01-25T03:00:00\", \"2021-01-25T04:00:00\", \"2021-01-25T05:00:00\", \"2021-01-25T06:00:00\", \"2021-01-25T07:00:00\", \"2021-01-25T08:00:00\", \"2021-01-25T09:00:00\", \"2021-01-25T10:00:00\", \"2021-01-25T11:00:00\", \"2021-01-25T12:00:00\", \"2021-01-25T13:00:00\", \"2021-01-25T14:00:00\", \"2021-01-25T15:00:00\", \"2021-01-25T16:00:00\", \"2021-01-25T17:00:00\", \"2021-01-25T18:00:00\", \"2021-01-25T19:00:00\", \"2021-01-25T20:00:00\", \"2021-01-25T21:00:00\", \"2021-01-25T22:00:00\", \"2021-01-25T23:00:00\", \"2021-01-26T00:00:00\", \"2021-01-26T01:00:00\", \"2021-01-26T02:00:00\", \"2021-01-26T03:00:00\", \"2021-01-26T04:00:00\", \"2021-01-26T05:00:00\", \"2021-01-26T06:00:00\", \"2021-01-26T07:00:00\", \"2021-01-26T08:00:00\", \"2021-01-26T09:00:00\", \"2021-01-26T10:00:00\", \"2021-01-26T11:00:00\", \"2021-01-27T09:00:00\", \"2021-01-27T10:00:00\", \"2021-01-27T11:00:00\", \"2021-01-27T12:00:00\", \"2021-01-27T13:00:00\", \"2021-01-27T14:00:00\", \"2021-01-27T15:00:00\", \"2021-01-27T16:00:00\", \"2021-01-27T17:00:00\", \"2021-01-27T18:00:00\", \"2021-01-27T19:00:00\", \"2021-01-27T20:00:00\", \"2021-01-27T21:00:00\", \"2021-01-27T22:00:00\", \"2021-01-27T23:00:00\", \"2021-01-28T00:00:00\", \"2021-01-28T01:00:00\", \"2021-01-28T02:00:00\", \"2021-01-28T03:00:00\", \"2021-01-28T04:00:00\", \"2021-01-28T05:00:00\", \"2021-01-28T06:00:00\", \"2021-01-28T07:00:00\", \"2021-01-28T08:00:00\", \"2021-01-28T09:00:00\", \"2021-01-28T10:00:00\", \"2021-01-28T11:00:00\", \"2021-01-28T12:00:00\", \"2021-01-28T13:00:00\", \"2021-01-28T14:00:00\", \"2021-01-28T15:00:00\", \"2021-01-28T16:00:00\", \"2021-01-28T17:00:00\", \"2021-01-28T18:00:00\", \"2021-01-28T19:00:00\", \"2021-01-28T20:00:00\", \"2021-01-28T21:00:00\", \"2021-01-28T22:00:00\", \"2021-01-28T23:00:00\", \"2021-01-29T00:00:00\", \"2021-01-29T01:00:00\", \"2021-01-29T02:00:00\", \"2021-01-29T03:00:00\", \"2021-01-29T04:00:00\", \"2021-01-29T05:00:00\", \"2021-01-29T06:00:00\", \"2021-01-29T07:00:00\", \"2021-01-29T08:00:00\", \"2021-01-29T09:00:00\", \"2021-01-29T10:00:00\", \"2021-01-29T11:00:00\", \"2021-01-29T12:00:00\", \"2021-01-29T13:00:00\", \"2021-01-29T14:00:00\", \"2021-01-29T15:00:00\", \"2021-01-29T16:00:00\", \"2021-01-29T17:00:00\", \"2021-01-29T18:00:00\", \"2021-01-29T19:00:00\", \"2021-01-29T20:00:00\", \"2021-01-29T21:00:00\", \"2021-01-29T22:00:00\", \"2021-01-29T23:00:00\"], \"xaxis\": \"x\", \"y\": [19, 26, 20, 116, 97, 48, 59, 98, 148, 294, 392, 373, 220, 159, 160, 143, 130, 90, 100, 113, 103, 103, 63, 83, 65, 49, 51, 46, 48, 61, 80, 76, 155, 229, 79, 44, 1050, 1176, 1299, 898, 1112, 1259, 504, 308, 382, 403, 906, 705, 614, 462, 365, 318, 291, 317, 276, 426, 623, 638, 1821, 2058, 2054, 2080, 1572, 967, 1386, 1267, 997, 770, 737, 680, 606, 531, 560, 456, 426, 330, 322, 273, 333, 316, 315, 400, 475, 881, 1006, 726, 677, 705, 795, 635, 525, 425, 374, 335, 370, 410, 309, 311], \"yaxis\": \"y2\"}],                        {\"template\": {\"data\": {\"bar\": [{\"error_x\": {\"color\": \"#2a3f5f\"}, \"error_y\": {\"color\": \"#2a3f5f\"}, \"marker\": {\"line\": {\"color\": \"#E5ECF6\", \"width\": 0.5}}, \"type\": \"bar\"}], \"barpolar\": [{\"marker\": {\"line\": {\"color\": \"#E5ECF6\", \"width\": 0.5}}, \"type\": \"barpolar\"}], \"carpet\": [{\"aaxis\": {\"endlinecolor\": \"#2a3f5f\", \"gridcolor\": \"white\", \"linecolor\": \"white\", \"minorgridcolor\": \"white\", \"startlinecolor\": \"#2a3f5f\"}, \"baxis\": {\"endlinecolor\": \"#2a3f5f\", \"gridcolor\": \"white\", \"linecolor\": \"white\", \"minorgridcolor\": \"white\", \"startlinecolor\": \"#2a3f5f\"}, \"type\": \"carpet\"}], \"choropleth\": [{\"colorbar\": {\"outlinewidth\": 0, \"ticks\": \"\"}, \"type\": \"choropleth\"}], \"contour\": [{\"colorbar\": {\"outlinewidth\": 0, \"ticks\": \"\"}, \"colorscale\": [[0.0, \"#0d0887\"], [0.1111111111111111, \"#46039f\"], [0.2222222222222222, \"#7201a8\"], [0.3333333333333333, \"#9c179e\"], [0.4444444444444444, \"#bd3786\"], [0.5555555555555556, \"#d8576b\"], [0.6666666666666666, \"#ed7953\"], [0.7777777777777778, \"#fb9f3a\"], [0.8888888888888888, \"#fdca26\"], [1.0, \"#f0f921\"]], \"type\": \"contour\"}], \"contourcarpet\": [{\"colorbar\": {\"outlinewidth\": 0, \"ticks\": \"\"}, \"type\": \"contourcarpet\"}], \"heatmap\": [{\"colorbar\": {\"outlinewidth\": 0, \"ticks\": \"\"}, \"colorscale\": [[0.0, \"#0d0887\"], [0.1111111111111111, \"#46039f\"], [0.2222222222222222, \"#7201a8\"], [0.3333333333333333, \"#9c179e\"], [0.4444444444444444, \"#bd3786\"], [0.5555555555555556, \"#d8576b\"], [0.6666666666666666, \"#ed7953\"], [0.7777777777777778, \"#fb9f3a\"], [0.8888888888888888, \"#fdca26\"], [1.0, \"#f0f921\"]], \"type\": \"heatmap\"}], \"heatmapgl\": [{\"colorbar\": {\"outlinewidth\": 0, \"ticks\": \"\"}, \"colorscale\": [[0.0, \"#0d0887\"], [0.1111111111111111, \"#46039f\"], [0.2222222222222222, \"#7201a8\"], [0.3333333333333333, \"#9c179e\"], [0.4444444444444444, \"#bd3786\"], [0.5555555555555556, \"#d8576b\"], [0.6666666666666666, \"#ed7953\"], [0.7777777777777778, \"#fb9f3a\"], [0.8888888888888888, \"#fdca26\"], [1.0, \"#f0f921\"]], \"type\": \"heatmapgl\"}], \"histogram\": [{\"marker\": {\"colorbar\": {\"outlinewidth\": 0, \"ticks\": \"\"}}, \"type\": \"histogram\"}], \"histogram2d\": [{\"colorbar\": {\"outlinewidth\": 0, \"ticks\": \"\"}, \"colorscale\": [[0.0, \"#0d0887\"], [0.1111111111111111, \"#46039f\"], [0.2222222222222222, \"#7201a8\"], [0.3333333333333333, \"#9c179e\"], [0.4444444444444444, \"#bd3786\"], [0.5555555555555556, \"#d8576b\"], [0.6666666666666666, \"#ed7953\"], [0.7777777777777778, \"#fb9f3a\"], [0.8888888888888888, \"#fdca26\"], [1.0, \"#f0f921\"]], \"type\": \"histogram2d\"}], \"histogram2dcontour\": [{\"colorbar\": {\"outlinewidth\": 0, \"ticks\": \"\"}, \"colorscale\": [[0.0, \"#0d0887\"], [0.1111111111111111, \"#46039f\"], [0.2222222222222222, \"#7201a8\"], [0.3333333333333333, \"#9c179e\"], [0.4444444444444444, \"#bd3786\"], [0.5555555555555556, \"#d8576b\"], [0.6666666666666666, \"#ed7953\"], [0.7777777777777778, \"#fb9f3a\"], [0.8888888888888888, \"#fdca26\"], [1.0, \"#f0f921\"]], \"type\": \"histogram2dcontour\"}], \"mesh3d\": [{\"colorbar\": {\"outlinewidth\": 0, \"ticks\": \"\"}, \"type\": \"mesh3d\"}], \"parcoords\": [{\"line\": {\"colorbar\": {\"outlinewidth\": 0, \"ticks\": \"\"}}, \"type\": \"parcoords\"}], \"pie\": [{\"automargin\": true, \"type\": \"pie\"}], \"scatter\": [{\"marker\": {\"colorbar\": {\"outlinewidth\": 0, \"ticks\": \"\"}}, \"type\": \"scatter\"}], \"scatter3d\": [{\"line\": {\"colorbar\": {\"outlinewidth\": 0, \"ticks\": \"\"}}, \"marker\": {\"colorbar\": {\"outlinewidth\": 0, \"ticks\": \"\"}}, \"type\": \"scatter3d\"}], \"scattercarpet\": [{\"marker\": {\"colorbar\": {\"outlinewidth\": 0, \"ticks\": \"\"}}, \"type\": \"scattercarpet\"}], \"scattergeo\": [{\"marker\": {\"colorbar\": {\"outlinewidth\": 0, \"ticks\": \"\"}}, \"type\": \"scattergeo\"}], \"scattergl\": [{\"marker\": {\"colorbar\": {\"outlinewidth\": 0, \"ticks\": \"\"}}, \"type\": \"scattergl\"}], \"scattermapbox\": [{\"marker\": {\"colorbar\": {\"outlinewidth\": 0, \"ticks\": \"\"}}, \"type\": \"scattermapbox\"}], \"scatterpolar\": [{\"marker\": {\"colorbar\": {\"outlinewidth\": 0, \"ticks\": \"\"}}, \"type\": \"scatterpolar\"}], \"scatterpolargl\": [{\"marker\": {\"colorbar\": {\"outlinewidth\": 0, \"ticks\": \"\"}}, \"type\": \"scatterpolargl\"}], \"scatterternary\": [{\"marker\": {\"colorbar\": {\"outlinewidth\": 0, \"ticks\": \"\"}}, \"type\": \"scatterternary\"}], \"surface\": [{\"colorbar\": {\"outlinewidth\": 0, \"ticks\": \"\"}, \"colorscale\": [[0.0, \"#0d0887\"], [0.1111111111111111, \"#46039f\"], [0.2222222222222222, \"#7201a8\"], [0.3333333333333333, \"#9c179e\"], [0.4444444444444444, \"#bd3786\"], [0.5555555555555556, \"#d8576b\"], [0.6666666666666666, \"#ed7953\"], [0.7777777777777778, \"#fb9f3a\"], [0.8888888888888888, \"#fdca26\"], [1.0, \"#f0f921\"]], \"type\": \"surface\"}], \"table\": [{\"cells\": {\"fill\": {\"color\": \"#EBF0F8\"}, \"line\": {\"color\": \"white\"}}, \"header\": {\"fill\": {\"color\": \"#C8D4E3\"}, \"line\": {\"color\": \"white\"}}, \"type\": \"table\"}]}, \"layout\": {\"annotationdefaults\": {\"arrowcolor\": \"#2a3f5f\", \"arrowhead\": 0, \"arrowwidth\": 1}, \"autotypenumbers\": \"strict\", \"coloraxis\": {\"colorbar\": {\"outlinewidth\": 0, \"ticks\": \"\"}}, \"colorscale\": {\"diverging\": [[0, \"#8e0152\"], [0.1, \"#c51b7d\"], [0.2, \"#de77ae\"], [0.3, \"#f1b6da\"], [0.4, \"#fde0ef\"], [0.5, \"#f7f7f7\"], [0.6, \"#e6f5d0\"], [0.7, \"#b8e186\"], [0.8, \"#7fbc41\"], [0.9, \"#4d9221\"], [1, \"#276419\"]], \"sequential\": [[0.0, \"#0d0887\"], [0.1111111111111111, \"#46039f\"], [0.2222222222222222, \"#7201a8\"], [0.3333333333333333, \"#9c179e\"], [0.4444444444444444, \"#bd3786\"], [0.5555555555555556, \"#d8576b\"], [0.6666666666666666, \"#ed7953\"], [0.7777777777777778, \"#fb9f3a\"], [0.8888888888888888, \"#fdca26\"], [1.0, \"#f0f921\"]], \"sequentialminus\": [[0.0, \"#0d0887\"], [0.1111111111111111, \"#46039f\"], [0.2222222222222222, \"#7201a8\"], [0.3333333333333333, \"#9c179e\"], [0.4444444444444444, \"#bd3786\"], [0.5555555555555556, \"#d8576b\"], [0.6666666666666666, \"#ed7953\"], [0.7777777777777778, \"#fb9f3a\"], [0.8888888888888888, \"#fdca26\"], [1.0, \"#f0f921\"]]}, \"colorway\": [\"#636efa\", \"#EF553B\", \"#00cc96\", \"#ab63fa\", \"#FFA15A\", \"#19d3f3\", \"#FF6692\", \"#B6E880\", \"#FF97FF\", \"#FECB52\"], \"font\": {\"color\": \"#2a3f5f\"}, \"geo\": {\"bgcolor\": \"white\", \"lakecolor\": \"white\", \"landcolor\": \"#E5ECF6\", \"showlakes\": true, \"showland\": true, \"subunitcolor\": \"white\"}, \"hoverlabel\": {\"align\": \"left\"}, \"hovermode\": \"closest\", \"mapbox\": {\"style\": \"light\"}, \"paper_bgcolor\": \"white\", \"plot_bgcolor\": \"#E5ECF6\", \"polar\": {\"angularaxis\": {\"gridcolor\": \"white\", \"linecolor\": \"white\", \"ticks\": \"\"}, \"bgcolor\": \"#E5ECF6\", \"radialaxis\": {\"gridcolor\": \"white\", \"linecolor\": \"white\", \"ticks\": \"\"}}, \"scene\": {\"xaxis\": {\"backgroundcolor\": \"#E5ECF6\", \"gridcolor\": \"white\", \"gridwidth\": 2, \"linecolor\": \"white\", \"showbackground\": true, \"ticks\": \"\", \"zerolinecolor\": \"white\"}, \"yaxis\": {\"backgroundcolor\": \"#E5ECF6\", \"gridcolor\": \"white\", \"gridwidth\": 2, \"linecolor\": \"white\", \"showbackground\": true, \"ticks\": \"\", \"zerolinecolor\": \"white\"}, \"zaxis\": {\"backgroundcolor\": \"#E5ECF6\", \"gridcolor\": \"white\", \"gridwidth\": 2, \"linecolor\": \"white\", \"showbackground\": true, \"ticks\": \"\", \"zerolinecolor\": \"white\"}}, \"shapedefaults\": {\"line\": {\"color\": \"#2a3f5f\"}}, \"ternary\": {\"aaxis\": {\"gridcolor\": \"white\", \"linecolor\": \"white\", \"ticks\": \"\"}, \"baxis\": {\"gridcolor\": \"white\", \"linecolor\": \"white\", \"ticks\": \"\"}, \"bgcolor\": \"#E5ECF6\", \"caxis\": {\"gridcolor\": \"white\", \"linecolor\": \"white\", \"ticks\": \"\"}}, \"title\": {\"x\": 0.05}, \"xaxis\": {\"automargin\": true, \"gridcolor\": \"white\", \"linecolor\": \"white\", \"ticks\": \"\", \"title\": {\"standoff\": 15}, \"zerolinecolor\": \"white\", \"zerolinewidth\": 2}, \"yaxis\": {\"automargin\": true, \"gridcolor\": \"white\", \"linecolor\": \"white\", \"ticks\": \"\", \"title\": {\"standoff\": 15}, \"zerolinecolor\": \"white\", \"zerolinewidth\": 2}}}, \"title\": {\"text\": \"GME Hourly Price vs. Mentions\"}, \"xaxis\": {\"anchor\": \"y\", \"domain\": [0.0, 0.94], \"title\": {\"text\": \"Hour\"}}, \"yaxis\": {\"anchor\": \"x\", \"domain\": [0.0, 1.0], \"title\": {\"text\": \"Price\"}}, \"yaxis2\": {\"anchor\": \"x\", \"overlaying\": \"y\", \"side\": \"right\", \"title\": {\"text\": \"Mentions\"}}},                        {\"responsive\": true}                    ).then(function(){\n",
       "                            \n",
       "var gd = document.getElementById('f565d61d-91ad-42f1-93d5-f896e24c9b56');\n",
       "var x = new MutationObserver(function (mutations, observer) {{\n",
       "        var display = window.getComputedStyle(gd).display;\n",
       "        if (!display || display === 'none') {{\n",
       "            console.log([gd, 'removed!']);\n",
       "            Plotly.purge(gd);\n",
       "            observer.disconnect();\n",
       "        }}\n",
       "}});\n",
       "\n",
       "// Listen for the removal of the full notebook cells\n",
       "var notebookContainer = gd.closest('#notebook-container');\n",
       "if (notebookContainer) {{\n",
       "    x.observe(notebookContainer, {childList: true});\n",
       "}}\n",
       "\n",
       "// Listen for the clearing of the current output cell\n",
       "var outputEl = gd.closest('.output');\n",
       "if (outputEl) {{\n",
       "    x.observe(outputEl, {childList: true});\n",
       "}}\n",
       "\n",
       "                        })                };                });            </script>        </div>"
      ]
     },
     "metadata": {},
     "output_type": "display_data"
    }
   ],
   "source": [
    "\n",
    "# ax1.plot(gme_hourly['date'], gme_hourly['4. close'], label = 'Price per Hour')\n",
    "# ax1.set_xlabel('Hour')\n",
    "# ax1.set_ylabel('Price')\n",
    "# ax1.set_title('Hourly Stock Price vs. Mentions')\n",
    "# ax1.axvspan('2021-01-25 01:00:00', '2021-01-25 09:00:00', color='red', alpha=0.1, label='Market Off-hours')\n",
    "# ax1.axvspan('2021-01-25 16:00:00', '2021-01-26 09:00:00', color='red', alpha=0.1)\n",
    "# ax1.axvspan('2021-01-26 16:00:00', '2021-01-27 09:00:00', color='red', alpha=0.1)\n",
    "# ax1.axvspan('2021-01-27 16:00:00', '2021-01-28 09:00:00', color='red', alpha=0.1)\n",
    "# ax1.axvspan('2021-01-28 16:00:00', '2021-01-29 09:00:00', color='red', alpha=0.1)\n",
    "\n",
    "# x = gme_hour['date']\n",
    "# y = gme_hour['count']\n",
    "\n",
    "# ax2.plot(x,y, color = 'purple', label = 'Number of Mentions', alpha=.3)\n",
    "# ax2.grid(b=False)\n",
    "# ax2.set_ylabel('Number of Mentions')\n",
    "\n",
    "\n",
    "fig = make_subplots(specs=[[{\"secondary_y\": True}]])\n",
    "\n",
    "fig.add_trace(\n",
    "    go.Scatter(x=gme_hourly['date'], y=gme_hourly['4. close'],\n",
    "               name=\"Price\"),\n",
    "    secondary_y=False,\n",
    ")\n",
    "\n",
    "fig.add_trace(\n",
    "    go.Scatter( x=gme_hour['date'], y=gme_hour['count'], name= 'Mentions'),\n",
    "    secondary_y=True,\n",
    ")\n",
    "fig.update_layout(\n",
    "    title_text=\"GME Hourly Price vs. Mentions\"\n",
    ")\n",
    "\n",
    "fig.update_xaxes(title_text=\"Hour\")\n",
    "\n",
    "fig.update_yaxes(title_text=\"Price\", secondary_y=False)\n",
    "fig.update_yaxes(title_text=\"Mentions\", secondary_y=True)\n",
    "\n",
    "fig.show()\n",
    "fig.write_html('html/GME Hourly Price vs. Mentions.html')"
   ]
  },
  {
   "cell_type": "code",
   "execution_count": 123,
   "metadata": {
    "scrolled": true
   },
   "outputs": [
    {
     "data": {
      "text/html": [
       "<div>\n",
       "<style scoped>\n",
       "    .dataframe tbody tr th:only-of-type {\n",
       "        vertical-align: middle;\n",
       "    }\n",
       "\n",
       "    .dataframe tbody tr th {\n",
       "        vertical-align: top;\n",
       "    }\n",
       "\n",
       "    .dataframe thead th {\n",
       "        text-align: right;\n",
       "    }\n",
       "</style>\n",
       "<table border=\"1\" class=\"dataframe\">\n",
       "  <thead>\n",
       "    <tr style=\"text-align: right;\">\n",
       "      <th></th>\n",
       "      <th>date</th>\n",
       "      <th>1. open</th>\n",
       "      <th>2. high</th>\n",
       "      <th>3. low</th>\n",
       "      <th>4. close</th>\n",
       "      <th>5. volume</th>\n",
       "      <th>percent change</th>\n",
       "    </tr>\n",
       "  </thead>\n",
       "  <tbody>\n",
       "    <tr>\n",
       "      <th>335</th>\n",
       "      <td>2021-01-25 05:00:00</td>\n",
       "      <td>72.5000</td>\n",
       "      <td>136.6300</td>\n",
       "      <td>72.2000</td>\n",
       "      <td>105.39</td>\n",
       "      <td>1194735.0</td>\n",
       "      <td>NaN</td>\n",
       "    </tr>\n",
       "    <tr>\n",
       "      <th>334</th>\n",
       "      <td>2021-01-25 06:00:00</td>\n",
       "      <td>106.7700</td>\n",
       "      <td>109.0000</td>\n",
       "      <td>86.2500</td>\n",
       "      <td>96.77</td>\n",
       "      <td>885972.0</td>\n",
       "      <td>-0.081791</td>\n",
       "    </tr>\n",
       "    <tr>\n",
       "      <th>333</th>\n",
       "      <td>2021-01-25 07:00:00</td>\n",
       "      <td>96.9300</td>\n",
       "      <td>101.7000</td>\n",
       "      <td>90.3500</td>\n",
       "      <td>94.43</td>\n",
       "      <td>784325.0</td>\n",
       "      <td>-0.024181</td>\n",
       "    </tr>\n",
       "    <tr>\n",
       "      <th>332</th>\n",
       "      <td>2021-01-25 08:00:00</td>\n",
       "      <td>94.4800</td>\n",
       "      <td>97.0000</td>\n",
       "      <td>86.7200</td>\n",
       "      <td>91.65</td>\n",
       "      <td>2187519.0</td>\n",
       "      <td>-0.029440</td>\n",
       "    </tr>\n",
       "    <tr>\n",
       "      <th>331</th>\n",
       "      <td>2021-01-25 09:00:00</td>\n",
       "      <td>91.7100</td>\n",
       "      <td>104.5300</td>\n",
       "      <td>86.9999</td>\n",
       "      <td>98.05</td>\n",
       "      <td>4674120.0</td>\n",
       "      <td>0.069831</td>\n",
       "    </tr>\n",
       "    <tr>\n",
       "      <th>...</th>\n",
       "      <td>...</td>\n",
       "      <td>...</td>\n",
       "      <td>...</td>\n",
       "      <td>...</td>\n",
       "      <td>...</td>\n",
       "      <td>...</td>\n",
       "      <td>...</td>\n",
       "    </tr>\n",
       "    <tr>\n",
       "      <th>276</th>\n",
       "      <td>2021-01-28 16:00:00</td>\n",
       "      <td>246.1359</td>\n",
       "      <td>261.9899</td>\n",
       "      <td>197.4400</td>\n",
       "      <td>197.44</td>\n",
       "      <td>5687714.0</td>\n",
       "      <td>-0.201198</td>\n",
       "    </tr>\n",
       "    <tr>\n",
       "      <th>275</th>\n",
       "      <td>2021-01-28 17:00:00</td>\n",
       "      <td>197.4400</td>\n",
       "      <td>282.9200</td>\n",
       "      <td>193.6000</td>\n",
       "      <td>257.00</td>\n",
       "      <td>1543357.0</td>\n",
       "      <td>0.301661</td>\n",
       "    </tr>\n",
       "    <tr>\n",
       "      <th>274</th>\n",
       "      <td>2021-01-28 18:00:00</td>\n",
       "      <td>257.0000</td>\n",
       "      <td>509.0000</td>\n",
       "      <td>255.0000</td>\n",
       "      <td>281.85</td>\n",
       "      <td>418746.0</td>\n",
       "      <td>0.096693</td>\n",
       "    </tr>\n",
       "    <tr>\n",
       "      <th>273</th>\n",
       "      <td>2021-01-28 19:00:00</td>\n",
       "      <td>280.3300</td>\n",
       "      <td>348.8600</td>\n",
       "      <td>280.3300</td>\n",
       "      <td>347.01</td>\n",
       "      <td>1106541.0</td>\n",
       "      <td>0.231187</td>\n",
       "    </tr>\n",
       "    <tr>\n",
       "      <th>272</th>\n",
       "      <td>2021-01-28 20:00:00</td>\n",
       "      <td>347.0000</td>\n",
       "      <td>355.9000</td>\n",
       "      <td>305.9900</td>\n",
       "      <td>311.99</td>\n",
       "      <td>894387.0</td>\n",
       "      <td>-0.100919</td>\n",
       "    </tr>\n",
       "  </tbody>\n",
       "</table>\n",
       "<p>64 rows × 7 columns</p>\n",
       "</div>"
      ],
      "text/plain": [
       "                   date   1. open   2. high    3. low  4. close  5. volume  \\\n",
       "335 2021-01-25 05:00:00   72.5000  136.6300   72.2000    105.39  1194735.0   \n",
       "334 2021-01-25 06:00:00  106.7700  109.0000   86.2500     96.77   885972.0   \n",
       "333 2021-01-25 07:00:00   96.9300  101.7000   90.3500     94.43   784325.0   \n",
       "332 2021-01-25 08:00:00   94.4800   97.0000   86.7200     91.65  2187519.0   \n",
       "331 2021-01-25 09:00:00   91.7100  104.5300   86.9999     98.05  4674120.0   \n",
       "..                  ...       ...       ...       ...       ...        ...   \n",
       "276 2021-01-28 16:00:00  246.1359  261.9899  197.4400    197.44  5687714.0   \n",
       "275 2021-01-28 17:00:00  197.4400  282.9200  193.6000    257.00  1543357.0   \n",
       "274 2021-01-28 18:00:00  257.0000  509.0000  255.0000    281.85   418746.0   \n",
       "273 2021-01-28 19:00:00  280.3300  348.8600  280.3300    347.01  1106541.0   \n",
       "272 2021-01-28 20:00:00  347.0000  355.9000  305.9900    311.99   894387.0   \n",
       "\n",
       "     percent change  \n",
       "335             NaN  \n",
       "334       -0.081791  \n",
       "333       -0.024181  \n",
       "332       -0.029440  \n",
       "331        0.069831  \n",
       "..              ...  \n",
       "276       -0.201198  \n",
       "275        0.301661  \n",
       "274        0.096693  \n",
       "273        0.231187  \n",
       "272       -0.100919  \n",
       "\n",
       "[64 rows x 7 columns]"
      ]
     },
     "execution_count": 123,
     "metadata": {},
     "output_type": "execute_result"
    },
    {
     "data": {
      "image/png": "[encoded data removed]",
      "text/plain": [
       "<Figure size 648x648 with 2 Axes>"
      ]
     },
     "metadata": {
      "needs_background": "light"
     },
     "output_type": "display_data"
    }
   ],
   "source": [
    "fig, ax1 = plt.subplots(figsize = (9,9))\n",
    "ax2 = ax1.twinx()\n",
    "\n",
    "ax1.plot(gme_hourly['date'], gme_hourly['percent change'], color = 'black',\n",
    "         label = 'Price per Hour', linewidth=2, alpha = .3)\n",
    "ax1.set_xlabel('Hour')\n",
    "ax1.set_ylabel('Growth')\n",
    "ax1.set_title('Hourly Stock Growth vs. Mentions')\n",
    "ax1.axvspan('2021-01-25 01:00:00', '2021-01-25 09:00:00', color='red', alpha=0.1, label='Market Off-hours')\n",
    "ax1.axvspan('2021-01-25 16:00:00', '2021-01-26 09:00:00', color='red', alpha=0.1)\n",
    "ax1.axvspan('2021-01-26 16:00:00', '2021-01-27 09:00:00', color='red', alpha=0.1)\n",
    "ax1.axvspan('2021-01-27 16:00:00', '2021-01-28 09:00:00', color='red', alpha=0.1)\n",
    "ax1.axvspan('2021-01-28 16:00:00', '2021-01-29 09:00:00', color='red', alpha=0.1)\n",
    "\n",
    "x = gme_hour['date']\n",
    "y = gme_hour['count']\n",
    "\n",
    "ax2.plot(x,y, color = 'purple', label = 'Number of Mentions')\n",
    "ax2.grid(b=False)\n",
    "ax2.set_ylabel('Number of Mentions')\n",
    "\n",
    "\n",
    "fig.autofmt_xdate()\n",
    "fig.legend()\n",
    "gme_hourly"
   ]
  },
  {
   "cell_type": "code",
   "execution_count": 125,
   "metadata": {
    "scrolled": false
   },
   "outputs": [
    {
     "data": {
      "text/html": [
       "<div>\n",
       "<style scoped>\n",
       "    .dataframe tbody tr th:only-of-type {\n",
       "        vertical-align: middle;\n",
       "    }\n",
       "\n",
       "    .dataframe tbody tr th {\n",
       "        vertical-align: top;\n",
       "    }\n",
       "\n",
       "    .dataframe thead th {\n",
       "        text-align: right;\n",
       "    }\n",
       "</style>\n",
       "<table border=\"1\" class=\"dataframe\">\n",
       "  <thead>\n",
       "    <tr style=\"text-align: right;\">\n",
       "      <th></th>\n",
       "      <th>date</th>\n",
       "      <th>1. open</th>\n",
       "      <th>2. high</th>\n",
       "      <th>3. low</th>\n",
       "      <th>4. close</th>\n",
       "      <th>5. volume</th>\n",
       "      <th>title</th>\n",
       "      <th>count</th>\n",
       "      <th>percent change</th>\n",
       "      <th>time</th>\n",
       "      <th>day</th>\n",
       "    </tr>\n",
       "  </thead>\n",
       "  <tbody>\n",
       "    <tr>\n",
       "      <th>0</th>\n",
       "      <td>2020-12-31 05:00:00</td>\n",
       "      <td>19.80</td>\n",
       "      <td>19.8000</td>\n",
       "      <td>19.8000</td>\n",
       "      <td>19.80</td>\n",
       "      <td>421.0</td>\n",
       "      <td>NaN</td>\n",
       "      <td>0.0</td>\n",
       "      <td>0.000000</td>\n",
       "      <td>05:00:00</td>\n",
       "      <td>2020-12-31</td>\n",
       "    </tr>\n",
       "    <tr>\n",
       "      <th>1</th>\n",
       "      <td>2020-12-31 06:00:00</td>\n",
       "      <td>19.80</td>\n",
       "      <td>19.8000</td>\n",
       "      <td>19.8000</td>\n",
       "      <td>19.80</td>\n",
       "      <td>527.0</td>\n",
       "      <td>NaN</td>\n",
       "      <td>0.0</td>\n",
       "      <td>0.000000</td>\n",
       "      <td>06:00:00</td>\n",
       "      <td>2020-12-31</td>\n",
       "    </tr>\n",
       "    <tr>\n",
       "      <th>2</th>\n",
       "      <td>2020-12-31 07:00:00</td>\n",
       "      <td>19.52</td>\n",
       "      <td>19.5600</td>\n",
       "      <td>19.5200</td>\n",
       "      <td>19.55</td>\n",
       "      <td>385.0</td>\n",
       "      <td>NaN</td>\n",
       "      <td>0.0</td>\n",
       "      <td>0.001537</td>\n",
       "      <td>07:00:00</td>\n",
       "      <td>2020-12-31</td>\n",
       "    </tr>\n",
       "    <tr>\n",
       "      <th>3</th>\n",
       "      <td>2020-12-31 08:00:00</td>\n",
       "      <td>19.52</td>\n",
       "      <td>19.5500</td>\n",
       "      <td>19.2700</td>\n",
       "      <td>19.30</td>\n",
       "      <td>3682.0</td>\n",
       "      <td>NaN</td>\n",
       "      <td>0.0</td>\n",
       "      <td>-0.011270</td>\n",
       "      <td>08:00:00</td>\n",
       "      <td>2020-12-31</td>\n",
       "    </tr>\n",
       "    <tr>\n",
       "      <th>4</th>\n",
       "      <td>2020-12-31 09:00:00</td>\n",
       "      <td>19.40</td>\n",
       "      <td>19.4993</td>\n",
       "      <td>19.3000</td>\n",
       "      <td>19.36</td>\n",
       "      <td>10620.0</td>\n",
       "      <td>NaN</td>\n",
       "      <td>0.0</td>\n",
       "      <td>-0.002062</td>\n",
       "      <td>09:00:00</td>\n",
       "      <td>2020-12-31</td>\n",
       "    </tr>\n",
       "    <tr>\n",
       "      <th>...</th>\n",
       "      <td>...</td>\n",
       "      <td>...</td>\n",
       "      <td>...</td>\n",
       "      <td>...</td>\n",
       "      <td>...</td>\n",
       "      <td>...</td>\n",
       "      <td>...</td>\n",
       "      <td>...</td>\n",
       "      <td>...</td>\n",
       "      <td>...</td>\n",
       "      <td>...</td>\n",
       "    </tr>\n",
       "    <tr>\n",
       "      <th>467</th>\n",
       "      <td>2021-02-12 16:00:00</td>\n",
       "      <td>51.34</td>\n",
       "      <td>52.4500</td>\n",
       "      <td>51.1700</td>\n",
       "      <td>52.33</td>\n",
       "      <td>1575850.0</td>\n",
       "      <td>gme</td>\n",
       "      <td>28.0</td>\n",
       "      <td>0.019283</td>\n",
       "      <td>16:00:00</td>\n",
       "      <td>2021-02-12</td>\n",
       "    </tr>\n",
       "    <tr>\n",
       "      <th>468</th>\n",
       "      <td>2021-02-12 17:00:00</td>\n",
       "      <td>52.40</td>\n",
       "      <td>52.4000</td>\n",
       "      <td>51.2500</td>\n",
       "      <td>51.90</td>\n",
       "      <td>64781.0</td>\n",
       "      <td>gme</td>\n",
       "      <td>17.0</td>\n",
       "      <td>-0.009542</td>\n",
       "      <td>17:00:00</td>\n",
       "      <td>2021-02-12</td>\n",
       "    </tr>\n",
       "    <tr>\n",
       "      <th>469</th>\n",
       "      <td>2021-02-12 18:00:00</td>\n",
       "      <td>51.94</td>\n",
       "      <td>52.2000</td>\n",
       "      <td>51.7500</td>\n",
       "      <td>51.75</td>\n",
       "      <td>35990.0</td>\n",
       "      <td>gme</td>\n",
       "      <td>19.0</td>\n",
       "      <td>-0.003658</td>\n",
       "      <td>18:00:00</td>\n",
       "      <td>2021-02-12</td>\n",
       "    </tr>\n",
       "    <tr>\n",
       "      <th>470</th>\n",
       "      <td>2021-02-12 19:00:00</td>\n",
       "      <td>51.71</td>\n",
       "      <td>52.6000</td>\n",
       "      <td>51.6201</td>\n",
       "      <td>52.60</td>\n",
       "      <td>19107.0</td>\n",
       "      <td>gme</td>\n",
       "      <td>12.0</td>\n",
       "      <td>0.017211</td>\n",
       "      <td>19:00:00</td>\n",
       "      <td>2021-02-12</td>\n",
       "    </tr>\n",
       "    <tr>\n",
       "      <th>471</th>\n",
       "      <td>2021-02-12 20:00:00</td>\n",
       "      <td>52.07</td>\n",
       "      <td>52.9000</td>\n",
       "      <td>52.0000</td>\n",
       "      <td>52.90</td>\n",
       "      <td>56832.0</td>\n",
       "      <td>gme</td>\n",
       "      <td>13.0</td>\n",
       "      <td>0.015940</td>\n",
       "      <td>20:00:00</td>\n",
       "      <td>2021-02-12</td>\n",
       "    </tr>\n",
       "  </tbody>\n",
       "</table>\n",
       "<p>472 rows × 11 columns</p>\n",
       "</div>"
      ],
      "text/plain": [
       "                   date  1. open  2. high   3. low  4. close  5. volume title  \\\n",
       "0   2020-12-31 05:00:00    19.80  19.8000  19.8000     19.80      421.0   NaN   \n",
       "1   2020-12-31 06:00:00    19.80  19.8000  19.8000     19.80      527.0   NaN   \n",
       "2   2020-12-31 07:00:00    19.52  19.5600  19.5200     19.55      385.0   NaN   \n",
       "3   2020-12-31 08:00:00    19.52  19.5500  19.2700     19.30     3682.0   NaN   \n",
       "4   2020-12-31 09:00:00    19.40  19.4993  19.3000     19.36    10620.0   NaN   \n",
       "..                  ...      ...      ...      ...       ...        ...   ...   \n",
       "467 2021-02-12 16:00:00    51.34  52.4500  51.1700     52.33  1575850.0   gme   \n",
       "468 2021-02-12 17:00:00    52.40  52.4000  51.2500     51.90    64781.0   gme   \n",
       "469 2021-02-12 18:00:00    51.94  52.2000  51.7500     51.75    35990.0   gme   \n",
       "470 2021-02-12 19:00:00    51.71  52.6000  51.6201     52.60    19107.0   gme   \n",
       "471 2021-02-12 20:00:00    52.07  52.9000  52.0000     52.90    56832.0   gme   \n",
       "\n",
       "     count  percent change      time         day  \n",
       "0      0.0        0.000000  05:00:00  2020-12-31  \n",
       "1      0.0        0.000000  06:00:00  2020-12-31  \n",
       "2      0.0        0.001537  07:00:00  2020-12-31  \n",
       "3      0.0       -0.011270  08:00:00  2020-12-31  \n",
       "4      0.0       -0.002062  09:00:00  2020-12-31  \n",
       "..     ...             ...       ...         ...  \n",
       "467   28.0        0.019283  16:00:00  2021-02-12  \n",
       "468   17.0       -0.009542  17:00:00  2021-02-12  \n",
       "469   19.0       -0.003658  18:00:00  2021-02-12  \n",
       "470   12.0        0.017211  19:00:00  2021-02-12  \n",
       "471   13.0        0.015940  20:00:00  2021-02-12  \n",
       "\n",
       "[472 rows x 11 columns]"
      ]
     },
     "execution_count": 125,
     "metadata": {},
     "output_type": "execute_result"
    }
   ],
   "source": [
    "### Run hypothesis test. ###\n",
    "### H0: The number of mentions of a stock on WSB in the first 1-1/2 hours of trading DOES NOT influence the stock growth ###\n",
    "### H1: The number of mentions of a stock on WSB in the first 1-1/2 hours of trading DOES influence the stock growth ###\n",
    "### Stock growth == open-close/open   of a trading day. ###\n",
    "gme_hour_full = wsb_full.groupby(['title','date_hour']).count().reset_index()\n",
    "gme_hour_full = gme_hour_full[(gme_hour_full['title'] == 'gme') & (gme_hour_full['date_hour'] > '2020-12-31 01:00:00')&\n",
    "                    (gme_hour_full['date_hour'] <= '2021-02-16 23:00:00')]\n",
    "gme_hour_full = gme_hour_full.drop(['Unnamed: 0','author', 'scores',\n",
    "                                     'comments', 'timestamp'], axis =1)\n",
    "gme_hour_full = gme_hour_full.rename(columns = {'title':'title','date_hour' : 'date', 'date': 'count'})\n",
    "\n",
    "\n",
    "left = gme_hourly_full.set_index('date')\n",
    "right = gme_hour_full.set_index('date')\n",
    "gmefull=left.join(right).reset_index()\n",
    "gmefull['count'] = gmefull['count'].fillna(0)\n",
    "gmefull['percent change'] = (gmefull['4. close'] - gmefull['1. open'])/gmefull['1. open']\n",
    "gmefull['time'] = gmefull['date'].apply(lambda x: datetime.time(x)).astype(str)\n",
    "gmefull['day'] = gmefull['date'].apply(lambda x: datetime.date(x)).astype(str)\n",
    "\n",
    "first_hours = gmefull[(gmefull['time'] == '08:00:00') | ((gmefull['time'] == '09:00:00'))]\n",
    "\n",
    "first_hours = first_hours.groupby('day').sum()\n",
    "first_hours = first_hours[['count']]\n",
    "\n",
    "\n",
    "growth = gmefull.groupby('day').sum()[['percent change']]\n",
    "\n",
    "growth_vs_hr = first_hours.join(growth)\n",
    "sorted_corr = growth_vs_hr.sort_values('count')\n",
    "gmefull\n"
   ]
  },
  {
   "cell_type": "code",
   "execution_count": 126,
   "metadata": {},
   "outputs": [
    {
     "data": {
      "application/vnd.plotly.v1+json": {
       "config": {
        "plotlyServerURL": "https://plot.ly"
       },
       "data": [
        {
         "alignmentgroup": "True",
         "hovertemplate": "Date=%{x}<br>percent change=%{y}<extra></extra>",
         "legendgroup": "",
         "marker": {
          "color": "#636efa"
         },
         "name": "",
         "offsetgroup": "",
         "orientation": "v",
         "showlegend": false,
         "textposition": "auto",
         "type": "bar",
         "x": [
          "2020-12-31T05:00:00",
          "2020-12-31T06:00:00",
          "2020-12-31T07:00:00",
          "2020-12-31T08:00:00",
          "2020-12-31T09:00:00",
          "2020-12-31T10:00:00",
          "2020-12-31T11:00:00",
          "2020-12-31T12:00:00",
          "2020-12-31T13:00:00",
          "2020-12-31T14:00:00",
          "2020-12-31T15:00:00",
          "2020-12-31T16:00:00",
          "2020-12-31T17:00:00",
          "2020-12-31T18:00:00",
          "2020-12-31T19:00:00",
          "2020-12-31T20:00:00",
          "2021-01-04T05:00:00",
          "2021-01-04T07:00:00",
          "2021-01-04T08:00:00",
          "2021-01-04T09:00:00",
          "2021-01-04T10:00:00",
          "2021-01-04T11:00:00",
          "2021-01-04T12:00:00",
          "2021-01-04T13:00:00",
          "2021-01-04T14:00:00",
          "2021-01-04T15:00:00",
          "2021-01-04T16:00:00",
          "2021-01-04T17:00:00",
          "2021-01-04T18:00:00",
          "2021-01-04T19:00:00",
          "2021-01-04T20:00:00",
          "2021-01-05T05:00:00",
          "2021-01-05T07:00:00",
          "2021-01-05T08:00:00",
          "2021-01-05T09:00:00",
          "2021-01-05T10:00:00",
          "2021-01-05T11:00:00",
          "2021-01-05T12:00:00",
          "2021-01-05T13:00:00",
          "2021-01-05T14:00:00",
          "2021-01-05T15:00:00",
          "2021-01-05T16:00:00",
          "2021-01-05T17:00:00",
          "2021-01-05T18:00:00",
          "2021-01-05T19:00:00",
          "2021-01-05T20:00:00",
          "2021-01-06T05:00:00",
          "2021-01-06T06:00:00",
          "2021-01-06T08:00:00",
          "2021-01-06T09:00:00",
          "2021-01-06T10:00:00",
          "2021-01-06T11:00:00",
          "2021-01-06T12:00:00",
          "2021-01-06T13:00:00",
          "2021-01-06T14:00:00",
          "2021-01-06T15:00:00",
          "2021-01-06T16:00:00",
          "2021-01-06T17:00:00",
          "2021-01-06T18:00:00",
          "2021-01-06T19:00:00",
          "2021-01-06T20:00:00",
          "2021-01-07T06:00:00",
          "2021-01-07T07:00:00",
          "2021-01-07T08:00:00",
          "2021-01-07T09:00:00",
          "2021-01-07T10:00:00",
          "2021-01-07T11:00:00",
          "2021-01-07T12:00:00",
          "2021-01-07T13:00:00",
          "2021-01-07T14:00:00",
          "2021-01-07T15:00:00",
          "2021-01-07T16:00:00",
          "2021-01-07T17:00:00",
          "2021-01-07T18:00:00",
          "2021-01-07T19:00:00",
          "2021-01-07T20:00:00",
          "2021-01-08T06:00:00",
          "2021-01-08T08:00:00",
          "2021-01-08T09:00:00",
          "2021-01-08T10:00:00",
          "2021-01-08T11:00:00",
          "2021-01-08T12:00:00",
          "2021-01-08T13:00:00",
          "2021-01-08T14:00:00",
          "2021-01-08T15:00:00",
          "2021-01-08T16:00:00",
          "2021-01-08T17:00:00",
          "2021-01-08T18:00:00",
          "2021-01-08T19:00:00",
          "2021-01-08T20:00:00",
          "2021-01-11T05:00:00",
          "2021-01-11T06:00:00",
          "2021-01-11T07:00:00",
          "2021-01-11T08:00:00",
          "2021-01-11T09:00:00",
          "2021-01-11T10:00:00",
          "2021-01-11T11:00:00",
          "2021-01-11T12:00:00",
          "2021-01-11T13:00:00",
          "2021-01-11T14:00:00",
          "2021-01-11T15:00:00",
          "2021-01-11T16:00:00",
          "2021-01-11T17:00:00",
          "2021-01-11T18:00:00",
          "2021-01-11T19:00:00",
          "2021-01-11T20:00:00",
          "2021-01-12T05:00:00",
          "2021-01-12T06:00:00",
          "2021-01-12T07:00:00",
          "2021-01-12T08:00:00",
          "2021-01-12T09:00:00",
          "2021-01-12T10:00:00",
          "2021-01-12T11:00:00",
          "2021-01-12T12:00:00",
          "2021-01-12T13:00:00",
          "2021-01-12T14:00:00",
          "2021-01-12T15:00:00",
          "2021-01-12T16:00:00",
          "2021-01-12T17:00:00",
          "2021-01-12T18:00:00",
          "2021-01-12T19:00:00",
          "2021-01-12T20:00:00",
          "2021-01-13T05:00:00",
          "2021-01-13T07:00:00",
          "2021-01-13T08:00:00",
          "2021-01-13T09:00:00",
          "2021-01-13T10:00:00",
          "2021-01-13T11:00:00",
          "2021-01-13T12:00:00",
          "2021-01-13T13:00:00",
          "2021-01-13T14:00:00",
          "2021-01-13T15:00:00",
          "2021-01-13T16:00:00",
          "2021-01-13T17:00:00",
          "2021-01-13T18:00:00",
          "2021-01-13T19:00:00",
          "2021-01-13T20:00:00",
          "2021-01-14T05:00:00",
          "2021-01-14T06:00:00",
          "2021-01-14T07:00:00",
          "2021-01-14T08:00:00",
          "2021-01-14T09:00:00",
          "2021-01-14T10:00:00",
          "2021-01-14T11:00:00",
          "2021-01-14T12:00:00",
          "2021-01-14T13:00:00",
          "2021-01-14T14:00:00",
          "2021-01-14T15:00:00",
          "2021-01-14T16:00:00",
          "2021-01-14T17:00:00",
          "2021-01-14T18:00:00",
          "2021-01-14T19:00:00",
          "2021-01-14T20:00:00",
          "2021-01-15T05:00:00",
          "2021-01-15T06:00:00",
          "2021-01-15T07:00:00",
          "2021-01-15T08:00:00",
          "2021-01-15T09:00:00",
          "2021-01-15T10:00:00",
          "2021-01-15T11:00:00",
          "2021-01-15T12:00:00",
          "2021-01-15T13:00:00",
          "2021-01-15T14:00:00",
          "2021-01-15T15:00:00",
          "2021-01-15T16:00:00",
          "2021-01-15T17:00:00",
          "2021-01-15T18:00:00",
          "2021-01-15T19:00:00",
          "2021-01-15T20:00:00",
          "2021-01-19T05:00:00",
          "2021-01-19T06:00:00",
          "2021-01-19T07:00:00",
          "2021-01-19T08:00:00",
          "2021-01-19T09:00:00",
          "2021-01-19T10:00:00",
          "2021-01-19T11:00:00",
          "2021-01-19T12:00:00",
          "2021-01-19T13:00:00",
          "2021-01-19T14:00:00",
          "2021-01-19T15:00:00",
          "2021-01-19T16:00:00",
          "2021-01-19T17:00:00",
          "2021-01-19T18:00:00",
          "2021-01-19T19:00:00",
          "2021-01-19T20:00:00",
          "2021-01-20T05:00:00",
          "2021-01-20T06:00:00",
          "2021-01-20T07:00:00",
          "2021-01-20T08:00:00",
          "2021-01-20T09:00:00",
          "2021-01-20T10:00:00",
          "2021-01-20T11:00:00",
          "2021-01-20T12:00:00",
          "2021-01-20T13:00:00",
          "2021-01-20T14:00:00",
          "2021-01-20T15:00:00",
          "2021-01-20T16:00:00",
          "2021-01-20T17:00:00",
          "2021-01-20T18:00:00",
          "2021-01-20T19:00:00",
          "2021-01-20T20:00:00",
          "2021-01-21T05:00:00",
          "2021-01-21T07:00:00",
          "2021-01-21T08:00:00",
          "2021-01-21T09:00:00",
          "2021-01-21T10:00:00",
          "2021-01-21T11:00:00",
          "2021-01-21T12:00:00",
          "2021-01-21T13:00:00",
          "2021-01-21T14:00:00",
          "2021-01-21T15:00:00",
          "2021-01-21T16:00:00",
          "2021-01-21T17:00:00",
          "2021-01-21T18:00:00",
          "2021-01-21T19:00:00",
          "2021-01-21T20:00:00",
          "2021-01-22T05:00:00",
          "2021-01-22T06:00:00",
          "2021-01-22T07:00:00",
          "2021-01-22T08:00:00",
          "2021-01-22T09:00:00",
          "2021-01-22T10:00:00",
          "2021-01-22T11:00:00",
          "2021-01-22T12:00:00",
          "2021-01-22T13:00:00",
          "2021-01-22T14:00:00",
          "2021-01-22T15:00:00",
          "2021-01-22T16:00:00",
          "2021-01-22T17:00:00",
          "2021-01-22T18:00:00",
          "2021-01-22T19:00:00",
          "2021-01-22T20:00:00",
          "2021-01-25T05:00:00",
          "2021-01-25T06:00:00",
          "2021-01-25T07:00:00",
          "2021-01-25T08:00:00",
          "2021-01-25T09:00:00",
          "2021-01-25T10:00:00",
          "2021-01-25T11:00:00",
          "2021-01-25T12:00:00",
          "2021-01-25T13:00:00",
          "2021-01-25T14:00:00",
          "2021-01-25T15:00:00",
          "2021-01-25T16:00:00",
          "2021-01-25T17:00:00",
          "2021-01-25T18:00:00",
          "2021-01-25T19:00:00",
          "2021-01-25T20:00:00",
          "2021-01-26T05:00:00",
          "2021-01-26T06:00:00",
          "2021-01-26T07:00:00",
          "2021-01-26T08:00:00",
          "2021-01-26T09:00:00",
          "2021-01-26T10:00:00",
          "2021-01-26T11:00:00",
          "2021-01-26T12:00:00",
          "2021-01-26T13:00:00",
          "2021-01-26T14:00:00",
          "2021-01-26T15:00:00",
          "2021-01-26T16:00:00",
          "2021-01-26T17:00:00",
          "2021-01-26T18:00:00",
          "2021-01-26T19:00:00",
          "2021-01-26T20:00:00",
          "2021-01-27T05:00:00",
          "2021-01-27T06:00:00",
          "2021-01-27T07:00:00",
          "2021-01-27T08:00:00",
          "2021-01-27T09:00:00",
          "2021-01-27T10:00:00",
          "2021-01-27T11:00:00",
          "2021-01-27T12:00:00",
          "2021-01-27T13:00:00",
          "2021-01-27T14:00:00",
          "2021-01-27T15:00:00",
          "2021-01-27T16:00:00",
          "2021-01-27T17:00:00",
          "2021-01-27T18:00:00",
          "2021-01-27T19:00:00",
          "2021-01-27T20:00:00",
          "2021-01-28T05:00:00",
          "2021-01-28T06:00:00",
          "2021-01-28T07:00:00",
          "2021-01-28T08:00:00",
          "2021-01-28T09:00:00",
          "2021-01-28T10:00:00",
          "2021-01-28T11:00:00",
          "2021-01-28T12:00:00",
          "2021-01-28T13:00:00",
          "2021-01-28T14:00:00",
          "2021-01-28T15:00:00",
          "2021-01-28T16:00:00",
          "2021-01-28T17:00:00",
          "2021-01-28T18:00:00",
          "2021-01-28T19:00:00",
          "2021-01-28T20:00:00",
          "2021-01-29T05:00:00",
          "2021-01-29T06:00:00",
          "2021-01-29T07:00:00",
          "2021-01-29T08:00:00",
          "2021-01-29T09:00:00",
          "2021-01-29T10:00:00",
          "2021-01-29T11:00:00",
          "2021-01-29T12:00:00",
          "2021-01-29T13:00:00",
          "2021-01-29T14:00:00",
          "2021-01-29T15:00:00",
          "2021-01-29T16:00:00",
          "2021-01-29T17:00:00",
          "2021-01-29T18:00:00",
          "2021-01-29T19:00:00",
          "2021-01-29T20:00:00",
          "2021-02-01T05:00:00",
          "2021-02-01T06:00:00",
          "2021-02-01T07:00:00",
          "2021-02-01T08:00:00",
          "2021-02-01T09:00:00",
          "2021-02-01T10:00:00",
          "2021-02-01T11:00:00",
          "2021-02-01T12:00:00",
          "2021-02-01T13:00:00",
          "2021-02-01T14:00:00",
          "2021-02-01T15:00:00",
          "2021-02-01T16:00:00",
          "2021-02-01T17:00:00",
          "2021-02-01T18:00:00",
          "2021-02-01T19:00:00",
          "2021-02-01T20:00:00",
          "2021-02-02T05:00:00",
          "2021-02-02T06:00:00",
          "2021-02-02T07:00:00",
          "2021-02-02T08:00:00",
          "2021-02-02T09:00:00",
          "2021-02-02T10:00:00",
          "2021-02-02T11:00:00",
          "2021-02-02T12:00:00",
          "2021-02-02T13:00:00",
          "2021-02-02T14:00:00",
          "2021-02-02T15:00:00",
          "2021-02-02T16:00:00",
          "2021-02-02T17:00:00",
          "2021-02-02T18:00:00",
          "2021-02-02T19:00:00",
          "2021-02-02T20:00:00",
          "2021-02-03T05:00:00",
          "2021-02-03T06:00:00",
          "2021-02-03T07:00:00",
          "2021-02-03T08:00:00",
          "2021-02-03T09:00:00",
          "2021-02-03T10:00:00",
          "2021-02-03T11:00:00",
          "2021-02-03T12:00:00",
          "2021-02-03T13:00:00",
          "2021-02-03T14:00:00",
          "2021-02-03T15:00:00",
          "2021-02-03T16:00:00",
          "2021-02-03T17:00:00",
          "2021-02-03T18:00:00",
          "2021-02-03T19:00:00",
          "2021-02-03T20:00:00",
          "2021-02-04T05:00:00",
          "2021-02-04T06:00:00",
          "2021-02-04T07:00:00",
          "2021-02-04T08:00:00",
          "2021-02-04T09:00:00",
          "2021-02-04T10:00:00",
          "2021-02-04T11:00:00",
          "2021-02-04T12:00:00",
          "2021-02-04T13:00:00",
          "2021-02-04T14:00:00",
          "2021-02-04T15:00:00",
          "2021-02-04T16:00:00",
          "2021-02-04T17:00:00",
          "2021-02-04T18:00:00",
          "2021-02-04T19:00:00",
          "2021-02-04T20:00:00",
          "2021-02-05T05:00:00",
          "2021-02-05T06:00:00",
          "2021-02-05T07:00:00",
          "2021-02-05T08:00:00",
          "2021-02-05T09:00:00",
          "2021-02-05T10:00:00",
          "2021-02-05T11:00:00",
          "2021-02-05T12:00:00",
          "2021-02-05T13:00:00",
          "2021-02-05T14:00:00",
          "2021-02-05T15:00:00",
          "2021-02-05T16:00:00",
          "2021-02-05T17:00:00",
          "2021-02-05T18:00:00",
          "2021-02-05T19:00:00",
          "2021-02-05T20:00:00",
          "2021-02-08T05:00:00",
          "2021-02-08T06:00:00",
          "2021-02-08T07:00:00",
          "2021-02-08T08:00:00",
          "2021-02-08T09:00:00",
          "2021-02-08T10:00:00",
          "2021-02-08T11:00:00",
          "2021-02-08T12:00:00",
          "2021-02-08T13:00:00",
          "2021-02-08T14:00:00",
          "2021-02-08T15:00:00",
          "2021-02-08T16:00:00",
          "2021-02-08T17:00:00",
          "2021-02-08T18:00:00",
          "2021-02-08T19:00:00",
          "2021-02-08T20:00:00",
          "2021-02-09T05:00:00",
          "2021-02-09T06:00:00",
          "2021-02-09T07:00:00",
          "2021-02-09T08:00:00",
          "2021-02-09T09:00:00",
          "2021-02-09T10:00:00",
          "2021-02-09T11:00:00",
          "2021-02-09T12:00:00",
          "2021-02-09T13:00:00",
          "2021-02-09T14:00:00",
          "2021-02-09T15:00:00",
          "2021-02-09T16:00:00",
          "2021-02-09T17:00:00",
          "2021-02-09T18:00:00",
          "2021-02-09T19:00:00",
          "2021-02-09T20:00:00",
          "2021-02-10T05:00:00",
          "2021-02-10T06:00:00",
          "2021-02-10T07:00:00",
          "2021-02-10T08:00:00",
          "2021-02-10T09:00:00",
          "2021-02-10T10:00:00",
          "2021-02-10T11:00:00",
          "2021-02-10T12:00:00",
          "2021-02-10T13:00:00",
          "2021-02-10T14:00:00",
          "2021-02-10T15:00:00",
          "2021-02-10T16:00:00",
          "2021-02-10T17:00:00",
          "2021-02-10T18:00:00",
          "2021-02-10T19:00:00",
          "2021-02-10T20:00:00",
          "2021-02-11T05:00:00",
          "2021-02-11T06:00:00",
          "2021-02-11T07:00:00",
          "2021-02-11T08:00:00",
          "2021-02-11T09:00:00",
          "2021-02-11T10:00:00",
          "2021-02-11T11:00:00",
          "2021-02-11T12:00:00",
          "2021-02-11T13:00:00",
          "2021-02-11T14:00:00",
          "2021-02-11T15:00:00",
          "2021-02-11T16:00:00",
          "2021-02-11T17:00:00",
          "2021-02-11T18:00:00",
          "2021-02-11T19:00:00",
          "2021-02-11T20:00:00",
          "2021-02-12T05:00:00",
          "2021-02-12T06:00:00",
          "2021-02-12T07:00:00",
          "2021-02-12T08:00:00",
          "2021-02-12T09:00:00",
          "2021-02-12T10:00:00",
          "2021-02-12T11:00:00",
          "2021-02-12T12:00:00",
          "2021-02-12T13:00:00",
          "2021-02-12T14:00:00",
          "2021-02-12T15:00:00",
          "2021-02-12T16:00:00",
          "2021-02-12T17:00:00",
          "2021-02-12T18:00:00",
          "2021-02-12T19:00:00",
          "2021-02-12T20:00:00"
         ],
         "xaxis": "x",
         "y": [
          0,
          0,
          0.0015368852459016976,
          -0.01127049180327863,
          -0.002061855670103049,
          0.005684754521963794,
          -0.020061728395061755,
          0.01733193277310934,
          0.018063923263173555,
          -0.013684744044602107,
          -0.02415210688591996,
          -0.008956796628029595,
          -0.001603806651018081,
          0.015957446808510675,
          0.003723404255319164,
          -0.0036939313984169016,
          0.015706806282722363,
          -0.0036045314109165952,
          -0.012987012987012988,
          -0.005976722239698058,
          -0.08144438587243007,
          0.005451936872309834,
          0.0027084818246614073,
          0.00483366505544503,
          -0.005315595810925439,
          -0.009954493742889486,
          -0.00976450315910406,
          0.006956521739130492,
          -0.004006868918145409,
          0,
          -0.007428571428571372,
          0,
          0,
          -0.022598870056497095,
          -0.010416606385379697,
          0.03448275862068965,
          -0.011824324324324372,
          -0.0002847380410022213,
          0.004555808656036552,
          -0.009643261608154078,
          -0.012750142938822127,
          0.006085192697768788,
          0.0063327576280943826,
          0.0005720823798625864,
          0.00517241379310344,
          0.00285225328009111,
          -0.011993146773272463,
          0,
          0.005148741418764294,
          0.007931357290129247,
          0.0037058152793615325,
          0.04515762567452418,
          0.01521739130434789,
          0.00558886509635984,
          0.0021304926764315686,
          -0.0318640467339351,
          0.009330406147091203,
          -0.0010917030567685357,
          0.0273224043715847,
          -0.015425531914893572,
          0.012447211694639993,
          0.00263435194942048,
          -0.00419287211740033,
          0.008492569002123149,
          0.007957559681697536,
          0.022133825079030448,
          -0.02835051546391738,
          -0.0169491525423729,
          0.0002692514808830913,
          -0.010561542641623173,
          -0.005366395262768381,
          -0.008752735229759306,
          0.009413716814159362,
          -5.479422030551446e-06,
          0,
          0.0010881392818280508,
          0,
          0.01046831955922872,
          0.012707182320441815,
          -0.03957423580786034,
          -6.829357129853146e-05,
          0,
          0.017938496583143584,
          -0.015109121432568526,
          0.014842353208275282,
          -0.011185019564002183,
          0.011871113623515957,
          0,
          0.006159014557670741,
          -0.008403361344537934,
          -0.0211428571428572,
          0,
          0,
          0.22914285714285723,
          -0.10739191073919117,
          0.07781282860147216,
          -0.05664062500000001,
          0.002329192546583755,
          0.012654958677686002,
          0.039285714285714264,
          -0.025895925380461454,
          0.004536290322580638,
          -0.0005015045135407003,
          0.0015060240963854208,
          0.005513784461152854,
          0.00199401794616165,
          -0.004975124378109523,
          -0.013806706114398477,
          -0.0009876543209876333,
          -0.004975124378109523,
          -0.013330105385896178,
          -0.019990004997501355,
          0.030357142857142798,
          -0.007925742574257422,
          0.004551806747853716,
          -0.012673956262425574,
          -0.0033937562940583705,
          0.0075795856493179456,
          0.002506265664160437,
          -0.004967709885742567,
          0.004995000000000083,
          0.007499999999999929,
          0,
          0,
          0.010945273631840738,
          0.006918552684210802,
          0.12524557956777999,
          0.24928041866550377,
          0.10897272451021832,
          0.08062651771175532,
          -0.02245552639253415,
          -0.013148065142686531,
          -0.04813805631244323,
          -0.0047707310237644525,
          0.020395156150414408,
          0.009962640099626411,
          0.009541397353031552,
          0.12037037037037042,
          -0.041788661165823804,
          0.0002778549597109755,
          0.019444444444444525,
          0.015351108691183203,
          -0.03857992180595949,
          0.001808873720136547,
          0.04742970746946895,
          0.030226379286972988,
          0.025026343519494093,
          0.007438758496857744,
          0.01588788138677303,
          -0.009249999999999935,
          0.07054361567635921,
          -0.010849056603773605,
          0.002386634844868769,
          -0.009478672985782125,
          -0.039426523297491,
          0.005925925925925975,
          -0.057079862812346845,
          -0.0051948051948052685,
          -0.023050395799043832,
          -0.020436550395891366,
          -0.0656834630615868,
          0.04490248420929806,
          0.004611461338859881,
          0.052792442345095815,
          -0.06309398099260825,
          -0.007028089887640436,
          0.0014204545454544646,
          0.002793296089385515,
          0.0027855153203343017,
          0.048717948717948684,
          0.011773362766740172,
          -0.018491484184914794,
          -0.05234567901234562,
          0.06513809275664408,
          -0.002746634026927819,
          -0.0733742331288344,
          0.04842815559671875,
          0.06283118849356535,
          -0.0259222688825706,
          -0.016324576743095474,
          -0.018645974858857446,
          -0.013216463414634214,
          0.0012873326467558485,
          -0.003856041131105362,
          -0.002583979328165411,
          -0.017402597402597447,
          -0.009198423127463714,
          0.005305039787798295,
          0.013185654008438817,
          0.005843293492695853,
          -0.0008563899868249266,
          -0.02923360547800894,
          0.06755290287574613,
          -0.01552953156822809,
          0.01654976057978522,
          0.008020369191597833,
          -0.012121212121212222,
          -0.005383235067931322,
          -0.003347064881565462,
          0.0018027298480556345,
          0.004114168166623723,
          0,
          -0.0012836970474969002,
          -0.004903225806451555,
          0.011670527443508565,
          -0.014084507042253449,
          0.03525058426382762,
          0.06079002935054712,
          -0.06146572104018899,
          0.06584195910123716,
          -0.03980227881244185,
          0.06143597335307185,
          -0.0011619800139438593,
          0.016117729502452643,
          0.03394077448747157,
          0.0008828073273007978,
          0.009852216748768582,
          -0.0168514412416851,
          -0.008042895442359237,
          0.00981923677750497,
          -0.00842581175503498,
          0.04050690201403031,
          0.03673624701021951,
          0.09463795164300555,
          0.34674329501915696,
          -0.21702493428997666,
          0.07608804356720095,
          0.09571682014023809,
          0.03999999999999991,
          -0.05481481481481486,
          -0.004687499999999956,
          -0.04088050314465411,
          0.4536551724137931,
          -0.09365926758452749,
          -0.025791808521613533,
          -0.02995342929720574,
          0.0691309562752154,
          -0.08655167150053422,
          0.30534649049450846,
          -0.14956863415050817,
          -0.30573057305730567,
          0.1075021645021645,
          0.004907072317978349,
          -0.0055058945459256015,
          0.022537508238916818,
          0.04235234085980346,
          0.014320156651572697,
          0.07201447527141132,
          0.044444444444444446,
          -0.06047745358090189,
          -0.0056179775280898875,
          0.02947463156710546,
          -0.025867714472822576,
          -0.016067415730337157,
          0.00040079931487296496,
          0.0020531842045193936,
          0.20380452757027992,
          0.08770178998553842,
          0.1539659950041049,
          0.10838757002170979,
          0.5352257181942545,
          -0.07328584149599292,
          0.08121095627102358,
          -0.06884444444444449,
          0.21296521527608855,
          0.17195325542570952,
          -0.437636761487965,
          0.15288220551378445,
          0.006521739130434782,
          0.3441055591607181,
          0.19818252126836813,
          -0.15779860014763647,
          0.0945651130801958,
          -0.042372362008405565,
          -0.01984052504063547,
          0.0848715449199711,
          -0.058271704411383844,
          -0.022941104594330373,
          -0.22006269592476485,
          0.17273786095827137,
          0.07613234821715383,
          0.3689171745069196,
          -0.024978089395267262,
          0.026822666159593767,
          -0.2570806100217865,
          0.3749596454670853,
          -0.43707889125799576,
          -0.034862641509433925,
          -0.06376967850306652,
          0.0024196182481548787,
          0.01954993286735783,
          -0.19784151763314492,
          0.3016612641815235,
          0.09669260700389114,
          0.2378625191738309,
          -0.10089337175792505,
          0.18316666666666667,
          -0.07369047619047617,
          0.025999999999999978,
          -0.12281012658227845,
          0.04529345665139605,
          -0.12572656400650117,
          0.05322695936190732,
          0.013604592849997847,
          -0.03105152933298269,
          -0.15850507530517963,
          0.027580358760644984,
          0.15256855928930083,
          -0.017242957853938517,
          -0.050573999379460166,
          0.03139394335369643,
          -0.012626582278481041,
          -0.022746419545071672,
          -0.02881844380403458,
          -0.029053254437869803,
          -0.012430517378290859,
          -0.028134556574923513,
          -0.1501419578218444,
          -0.12077777777777783,
          0.09471016788089952,
          -0.04247104247104247,
          0.006198585767763713,
          -0.039268800000000055,
          -0.054598400063970785,
          -0.07943759425175195,
          -0.14406616657049437,
          0.054775280898876406,
          0.01537637289043667,
          -0.024529378208785004,
          0.01630751310425167,
          -0.08919027642089525,
          -0.12348331648129436,
          -0.08273381294964029,
          -0.09803921568627451,
          -0.20357356107937977,
          0.2611164366789978,
          0.07178555202180832,
          -0.11772820871752736,
          -0.03571521649110369,
          -0.09399626061903078,
          -0.021815777875716216,
          0.03580274712902507,
          -0.021739130434782608,
          -0.0533333333333333,
          0.11323886122813742,
          0.0990269032627362,
          -0.05046728971962616,
          -0.013719679508286687,
          0.03930082386996216,
          -0.005460385438972217,
          0.06593167445505418,
          -0.05552846488797087,
          0.06351063829787233,
          0.07823370110330986,
          -0.08475843379123453,
          -0.06088052239567401,
          -0.01809905711498864,
          0.005794249480704068,
          -0.025027203482045825,
          -0.004703247480403155,
          0.013759479956663013,
          0.033653846153846215,
          -0.018570102135561862,
          -0.010781953313095375,
          -0.000736842105263086,
          -0.12221052631578946,
          -0.14265129682997113,
          -0.038013693345920314,
          -0.06490553088530795,
          -0.06976444924720804,
          -0.03224198105368132,
          -0.08332632092337125,
          -0.005984664297737054,
          -0.05491818694752683,
          0.0017960486928757415,
          -0.020517928286852612,
          0.13775700934579435,
          -0.02529981928700508,
          -0.0129368279569893,
          0.018793103448275922,
          -0.032662040954476335,
          0.4470279720279719,
          -0.1443941041440135,
          -0.09082693942329136,
          -0.01155646804473285,
          -0.042961610209246284,
          -0.00294918032786891,
          0.04816866677626176,
          0.010436137071651117,
          0.07467532467532464,
          -0.033927544565842425,
          -0.011011904761904896,
          0.01321585903083709,
          0.026011560693641578,
          0.007189173949816819,
          -0.014468085106382922,
          0.002305807753278521,
          -0.07192075796726947,
          -0.05974307382758086,
          -0.018026174993826635,
          0.008766118875079039,
          -0.008108063175394791,
          -0.014743632707774786,
          0.01834069293478252,
          -0.006833333333333276,
          0.001680672268907587,
          0.003188454438664167,
          -0.004850309416290335,
          -0.04682274247491634,
          0.007957559681697663,
          0.0005284481240090546,
          -0.022887323943661924,
          0.0005293806246691572,
          -0.05414462081128748,
          -0.08488805970149262,
          -0.013256759503964165,
          0.004118252987227019,
          0.005344568309877957,
          0.041039470157483715,
          -0.012363125344701348,
          0.053484602917341986,
          -0.010576923076923022,
          -0.02502910360884748,
          -0.005174129353233792,
          0.007000000000000029,
          -0.03578528827037768,
          0,
          0.04794099569760287,
          0.030101010101010142,
          -0.00999999999999996,
          -0.01445349396731466,
          0.05912809945682638,
          0.06012156899990493,
          0.00796064400715564,
          -0.054450754214729384,
          -0.036151383920165724,
          -0.03435487019324611,
          0.014756418031130059,
          -0.004183266932270933,
          -0.0009990009990010179,
          0.003637098403717917,
          0.02,
          -0.005329648637978603,
          -0.002384737678855275,
          0.005197989604020685,
          0.040761411201913525,
          -0.037310569729522354,
          -0.02133472562379061,
          -0.00427785699735182,
          -0.0085156289837337,
          0.0003346335454732312,
          0.04538919696036149,
          -0.009288537549407092,
          -0.013157894736842039,
          0.02134146341463409,
          0.00019892580067630813,
          0.00790513833992092,
          -0.003976933784052411,
          -0.0005982053838484773,
          0.013842198932173281,
          0.003944773175542322,
          0.003283292786645383,
          0.05946253197334762,
          -0.025046676624346592,
          0.0037523056046585316,
          -0.016562948779320286,
          -0.0004284323271664745,
          0.019283209972730714,
          -0.009541984732824428,
          -0.003658067000385016,
          0.01721137110810289,
          0.015940080660649093
         ],
         "yaxis": "y"
        }
       ],
       "layout": {
        "barmode": "relative",
        "legend": {
         "tracegroupgap": 0
        },
        "template": {
         "data": {
          "bar": [
           {
            "error_x": {
             "color": "#2a3f5f"
            },
            "error_y": {
             "color": "#2a3f5f"
            },
            "marker": {
             "line": {
              "color": "#E5ECF6",
              "width": 0.5
             }
            },
            "type": "bar"
           }
          ],
          "barpolar": [
           {
            "marker": {
             "line": {
              "color": "#E5ECF6",
              "width": 0.5
             }
            },
            "type": "barpolar"
           }
          ],
          "carpet": [
           {
            "aaxis": {
             "endlinecolor": "#2a3f5f",
             "gridcolor": "white",
             "linecolor": "white",
             "minorgridcolor": "white",
             "startlinecolor": "#2a3f5f"
            },
            "baxis": {
             "endlinecolor": "#2a3f5f",
             "gridcolor": "white",
             "linecolor": "white",
             "minorgridcolor": "white",
             "startlinecolor": "#2a3f5f"
            },
            "type": "carpet"
           }
          ],
          "choropleth": [
           {
            "colorbar": {
             "outlinewidth": 0,
             "ticks": ""
            },
            "type": "choropleth"
           }
          ],
          "contour": [
           {
            "colorbar": {
             "outlinewidth": 0,
             "ticks": ""
            },
            "colorscale": [
             [
              0,
              "#0d0887"
             ],
             [
              0.1111111111111111,
              "#46039f"
             ],
             [
              0.2222222222222222,
              "#7201a8"
             ],
             [
              0.3333333333333333,
              "#9c179e"
             ],
             [
              0.4444444444444444,
              "#bd3786"
             ],
             [
              0.5555555555555556,
              "#d8576b"
             ],
             [
              0.6666666666666666,
              "#ed7953"
             ],
             [
              0.7777777777777778,
              "#fb9f3a"
             ],
             [
              0.8888888888888888,
              "#fdca26"
             ],
             [
              1,
              "#f0f921"
             ]
            ],
            "type": "contour"
           }
          ],
          "contourcarpet": [
           {
            "colorbar": {
             "outlinewidth": 0,
             "ticks": ""
            },
            "type": "contourcarpet"
           }
          ],
          "heatmap": [
           {
            "colorbar": {
             "outlinewidth": 0,
             "ticks": ""
            },
            "colorscale": [
             [
              0,
              "#0d0887"
             ],
             [
              0.1111111111111111,
              "#46039f"
             ],
             [
              0.2222222222222222,
              "#7201a8"
             ],
             [
              0.3333333333333333,
              "#9c179e"
             ],
             [
              0.4444444444444444,
              "#bd3786"
             ],
             [
              0.5555555555555556,
              "#d8576b"
             ],
             [
              0.6666666666666666,
              "#ed7953"
             ],
             [
              0.7777777777777778,
              "#fb9f3a"
             ],
             [
              0.8888888888888888,
              "#fdca26"
             ],
             [
              1,
              "#f0f921"
             ]
            ],
            "type": "heatmap"
           }
          ],
          "heatmapgl": [
           {
            "colorbar": {
             "outlinewidth": 0,
             "ticks": ""
            },
            "colorscale": [
             [
              0,
              "#0d0887"
             ],
             [
              0.1111111111111111,
              "#46039f"
             ],
             [
              0.2222222222222222,
              "#7201a8"
             ],
             [
              0.3333333333333333,
              "#9c179e"
             ],
             [
              0.4444444444444444,
              "#bd3786"
             ],
             [
              0.5555555555555556,
              "#d8576b"
             ],
             [
              0.6666666666666666,
              "#ed7953"
             ],
             [
              0.7777777777777778,
              "#fb9f3a"
             ],
             [
              0.8888888888888888,
              "#fdca26"
             ],
             [
              1,
              "#f0f921"
             ]
            ],
            "type": "heatmapgl"
           }
          ],
          "histogram": [
           {
            "marker": {
             "colorbar": {
              "outlinewidth": 0,
              "ticks": ""
             }
            },
            "type": "histogram"
           }
          ],
          "histogram2d": [
           {
            "colorbar": {
             "outlinewidth": 0,
             "ticks": ""
            },
            "colorscale": [
             [
              0,
              "#0d0887"
             ],
             [
              0.1111111111111111,
              "#46039f"
             ],
             [
              0.2222222222222222,
              "#7201a8"
             ],
             [
              0.3333333333333333,
              "#9c179e"
             ],
             [
              0.4444444444444444,
              "#bd3786"
             ],
             [
              0.5555555555555556,
              "#d8576b"
             ],
             [
              0.6666666666666666,
              "#ed7953"
             ],
             [
              0.7777777777777778,
              "#fb9f3a"
             ],
             [
              0.8888888888888888,
              "#fdca26"
             ],
             [
              1,
              "#f0f921"
             ]
            ],
            "type": "histogram2d"
           }
          ],
          "histogram2dcontour": [
           {
            "colorbar": {
             "outlinewidth": 0,
             "ticks": ""
            },
            "colorscale": [
             [
              0,
              "#0d0887"
             ],
             [
              0.1111111111111111,
              "#46039f"
             ],
             [
              0.2222222222222222,
              "#7201a8"
             ],
             [
              0.3333333333333333,
              "#9c179e"
             ],
             [
              0.4444444444444444,
              "#bd3786"
             ],
             [
              0.5555555555555556,
              "#d8576b"
             ],
             [
              0.6666666666666666,
              "#ed7953"
             ],
             [
              0.7777777777777778,
              "#fb9f3a"
             ],
             [
              0.8888888888888888,
              "#fdca26"
             ],
             [
              1,
              "#f0f921"
             ]
            ],
            "type": "histogram2dcontour"
           }
          ],
          "mesh3d": [
           {
            "colorbar": {
             "outlinewidth": 0,
             "ticks": ""
            },
            "type": "mesh3d"
           }
          ],
          "parcoords": [
           {
            "line": {
             "colorbar": {
              "outlinewidth": 0,
              "ticks": ""
             }
            },
            "type": "parcoords"
           }
          ],
          "pie": [
           {
            "automargin": true,
            "type": "pie"
           }
          ],
          "scatter": [
           {
            "marker": {
             "colorbar": {
              "outlinewidth": 0,
              "ticks": ""
             }
            },
            "type": "scatter"
           }
          ],
          "scatter3d": [
           {
            "line": {
             "colorbar": {
              "outlinewidth": 0,
              "ticks": ""
             }
            },
            "marker": {
             "colorbar": {
              "outlinewidth": 0,
              "ticks": ""
             }
            },
            "type": "scatter3d"
           }
          ],
          "scattercarpet": [
           {
            "marker": {
             "colorbar": {
              "outlinewidth": 0,
              "ticks": ""
             }
            },
            "type": "scattercarpet"
           }
          ],
          "scattergeo": [
           {
            "marker": {
             "colorbar": {
              "outlinewidth": 0,
              "ticks": ""
             }
            },
            "type": "scattergeo"
           }
          ],
          "scattergl": [
           {
            "marker": {
             "colorbar": {
              "outlinewidth": 0,
              "ticks": ""
             }
            },
            "type": "scattergl"
           }
          ],
          "scattermapbox": [
           {
            "marker": {
             "colorbar": {
              "outlinewidth": 0,
              "ticks": ""
             }
            },
            "type": "scattermapbox"
           }
          ],
          "scatterpolar": [
           {
            "marker": {
             "colorbar": {
              "outlinewidth": 0,
              "ticks": ""
             }
            },
            "type": "scatterpolar"
           }
          ],
          "scatterpolargl": [
           {
            "marker": {
             "colorbar": {
              "outlinewidth": 0,
              "ticks": ""
             }
            },
            "type": "scatterpolargl"
           }
          ],
          "scatterternary": [
           {
            "marker": {
             "colorbar": {
              "outlinewidth": 0,
              "ticks": ""
             }
            },
            "type": "scatterternary"
           }
          ],
          "surface": [
           {
            "colorbar": {
             "outlinewidth": 0,
             "ticks": ""
            },
            "colorscale": [
             [
              0,
              "#0d0887"
             ],
             [
              0.1111111111111111,
              "#46039f"
             ],
             [
              0.2222222222222222,
              "#7201a8"
             ],
             [
              0.3333333333333333,
              "#9c179e"
             ],
             [
              0.4444444444444444,
              "#bd3786"
             ],
             [
              0.5555555555555556,
              "#d8576b"
             ],
             [
              0.6666666666666666,
              "#ed7953"
             ],
             [
              0.7777777777777778,
              "#fb9f3a"
             ],
             [
              0.8888888888888888,
              "#fdca26"
             ],
             [
              1,
              "#f0f921"
             ]
            ],
            "type": "surface"
           }
          ],
          "table": [
           {
            "cells": {
             "fill": {
              "color": "#EBF0F8"
             },
             "line": {
              "color": "white"
             }
            },
            "header": {
             "fill": {
              "color": "#C8D4E3"
             },
             "line": {
              "color": "white"
             }
            },
            "type": "table"
           }
          ]
         },
         "layout": {
          "annotationdefaults": {
           "arrowcolor": "#2a3f5f",
           "arrowhead": 0,
           "arrowwidth": 1
          },
          "autotypenumbers": "strict",
          "coloraxis": {
           "colorbar": {
            "outlinewidth": 0,
            "ticks": ""
           }
          },
          "colorscale": {
           "diverging": [
            [
             0,
             "#8e0152"
            ],
            [
             0.1,
             "#c51b7d"
            ],
            [
             0.2,
             "#de77ae"
            ],
            [
             0.3,
             "#f1b6da"
            ],
            [
             0.4,
             "#fde0ef"
            ],
            [
             0.5,
             "#f7f7f7"
            ],
            [
             0.6,
             "#e6f5d0"
            ],
            [
             0.7,
             "#b8e186"
            ],
            [
             0.8,
             "#7fbc41"
            ],
            [
             0.9,
             "#4d9221"
            ],
            [
             1,
             "#276419"
            ]
           ],
           "sequential": [
            [
             0,
             "#0d0887"
            ],
            [
             0.1111111111111111,
             "#46039f"
            ],
            [
             0.2222222222222222,
             "#7201a8"
            ],
            [
             0.3333333333333333,
             "#9c179e"
            ],
            [
             0.4444444444444444,
             "#bd3786"
            ],
            [
             0.5555555555555556,
             "#d8576b"
            ],
            [
             0.6666666666666666,
             "#ed7953"
            ],
            [
             0.7777777777777778,
             "#fb9f3a"
            ],
            [
             0.8888888888888888,
             "#fdca26"
            ],
            [
             1,
             "#f0f921"
            ]
           ],
           "sequentialminus": [
            [
             0,
             "#0d0887"
            ],
            [
             0.1111111111111111,
             "#46039f"
            ],
            [
             0.2222222222222222,
             "#7201a8"
            ],
            [
             0.3333333333333333,
             "#9c179e"
            ],
            [
             0.4444444444444444,
             "#bd3786"
            ],
            [
             0.5555555555555556,
             "#d8576b"
            ],
            [
             0.6666666666666666,
             "#ed7953"
            ],
            [
             0.7777777777777778,
             "#fb9f3a"
            ],
            [
             0.8888888888888888,
             "#fdca26"
            ],
            [
             1,
             "#f0f921"
            ]
           ]
          },
          "colorway": [
           "#636efa",
           "#EF553B",
           "#00cc96",
           "#ab63fa",
           "#FFA15A",
           "#19d3f3",
           "#FF6692",
           "#B6E880",
           "#FF97FF",
           "#FECB52"
          ],
          "font": {
           "color": "#2a3f5f"
          },
          "geo": {
           "bgcolor": "white",
           "lakecolor": "white",
           "landcolor": "#E5ECF6",
           "showlakes": true,
           "showland": true,
           "subunitcolor": "white"
          },
          "hoverlabel": {
           "align": "left"
          },
          "hovermode": "closest",
          "mapbox": {
           "style": "light"
          },
          "paper_bgcolor": "white",
          "plot_bgcolor": "#E5ECF6",
          "polar": {
           "angularaxis": {
            "gridcolor": "white",
            "linecolor": "white",
            "ticks": ""
           },
           "bgcolor": "#E5ECF6",
           "radialaxis": {
            "gridcolor": "white",
            "linecolor": "white",
            "ticks": ""
           }
          },
          "scene": {
           "xaxis": {
            "backgroundcolor": "#E5ECF6",
            "gridcolor": "white",
            "gridwidth": 2,
            "linecolor": "white",
            "showbackground": true,
            "ticks": "",
            "zerolinecolor": "white"
           },
           "yaxis": {
            "backgroundcolor": "#E5ECF6",
            "gridcolor": "white",
            "gridwidth": 2,
            "linecolor": "white",
            "showbackground": true,
            "ticks": "",
            "zerolinecolor": "white"
           },
           "zaxis": {
            "backgroundcolor": "#E5ECF6",
            "gridcolor": "white",
            "gridwidth": 2,
            "linecolor": "white",
            "showbackground": true,
            "ticks": "",
            "zerolinecolor": "white"
           }
          },
          "shapedefaults": {
           "line": {
            "color": "#2a3f5f"
           }
          },
          "ternary": {
           "aaxis": {
            "gridcolor": "white",
            "linecolor": "white",
            "ticks": ""
           },
           "baxis": {
            "gridcolor": "white",
            "linecolor": "white",
            "ticks": ""
           },
           "bgcolor": "#E5ECF6",
           "caxis": {
            "gridcolor": "white",
            "linecolor": "white",
            "ticks": ""
           }
          },
          "title": {
           "x": 0.05
          },
          "xaxis": {
           "automargin": true,
           "gridcolor": "white",
           "linecolor": "white",
           "ticks": "",
           "title": {
            "standoff": 15
           },
           "zerolinecolor": "white",
           "zerolinewidth": 2
          },
          "yaxis": {
           "automargin": true,
           "gridcolor": "white",
           "linecolor": "white",
           "ticks": "",
           "title": {
            "standoff": 15
           },
           "zerolinecolor": "white",
           "zerolinewidth": 2
          }
         }
        },
        "title": {
         "text": "Percent GME Change"
        },
        "xaxis": {
         "anchor": "y",
         "domain": [
          0,
          1
         ],
         "title": {
          "text": "Date"
         }
        },
        "yaxis": {
         "anchor": "x",
         "domain": [
          0,
          1
         ],
         "title": {
          "text": "percent change"
         }
        }
       }
      },
      "text/html": [
       "<div>                            <div id=\"03781248-fce7-423f-97aa-3b3bf7c354e6\" class=\"plotly-graph-div\" style=\"height:525px; width:100%;\"></div>            <script type=\"text/javascript\">                require([\"plotly\"], function(Plotly) {                    window.PLOTLYENV=window.PLOTLYENV || {};                                    if (document.getElementById(\"03781248-fce7-423f-97aa-3b3bf7c354e6\")) {                    Plotly.newPlot(                        \"03781248-fce7-423f-97aa-3b3bf7c354e6\",                        [{\"alignmentgroup\": \"True\", \"hovertemplate\": \"Date=%{x}<br>percent change=%{y}<extra></extra>\", \"legendgroup\": \"\", \"marker\": {\"color\": \"#636efa\"}, \"name\": \"\", \"offsetgroup\": \"\", \"orientation\": \"v\", \"showlegend\": false, \"textposition\": \"auto\", \"type\": \"bar\", \"x\": [\"2020-12-31T05:00:00\", \"2020-12-31T06:00:00\", \"2020-12-31T07:00:00\", \"2020-12-31T08:00:00\", \"2020-12-31T09:00:00\", \"2020-12-31T10:00:00\", \"2020-12-31T11:00:00\", \"2020-12-31T12:00:00\", \"2020-12-31T13:00:00\", \"2020-12-31T14:00:00\", \"2020-12-31T15:00:00\", \"2020-12-31T16:00:00\", \"2020-12-31T17:00:00\", \"2020-12-31T18:00:00\", \"2020-12-31T19:00:00\", \"2020-12-31T20:00:00\", \"2021-01-04T05:00:00\", \"2021-01-04T07:00:00\", \"2021-01-04T08:00:00\", \"2021-01-04T09:00:00\", \"2021-01-04T10:00:00\", \"2021-01-04T11:00:00\", \"2021-01-04T12:00:00\", \"2021-01-04T13:00:00\", \"2021-01-04T14:00:00\", \"2021-01-04T15:00:00\", \"2021-01-04T16:00:00\", \"2021-01-04T17:00:00\", \"2021-01-04T18:00:00\", \"2021-01-04T19:00:00\", \"2021-01-04T20:00:00\", \"2021-01-05T05:00:00\", \"2021-01-05T07:00:00\", \"2021-01-05T08:00:00\", \"2021-01-05T09:00:00\", \"2021-01-05T10:00:00\", \"2021-01-05T11:00:00\", \"2021-01-05T12:00:00\", \"2021-01-05T13:00:00\", \"2021-01-05T14:00:00\", \"2021-01-05T15:00:00\", \"2021-01-05T16:00:00\", \"2021-01-05T17:00:00\", \"2021-01-05T18:00:00\", \"2021-01-05T19:00:00\", \"2021-01-05T20:00:00\", \"2021-01-06T05:00:00\", \"2021-01-06T06:00:00\", \"2021-01-06T08:00:00\", \"2021-01-06T09:00:00\", \"2021-01-06T10:00:00\", \"2021-01-06T11:00:00\", \"2021-01-06T12:00:00\", \"2021-01-06T13:00:00\", \"2021-01-06T14:00:00\", \"2021-01-06T15:00:00\", \"2021-01-06T16:00:00\", \"2021-01-06T17:00:00\", \"2021-01-06T18:00:00\", \"2021-01-06T19:00:00\", \"2021-01-06T20:00:00\", \"2021-01-07T06:00:00\", \"2021-01-07T07:00:00\", \"2021-01-07T08:00:00\", \"2021-01-07T09:00:00\", \"2021-01-07T10:00:00\", \"2021-01-07T11:00:00\", \"2021-01-07T12:00:00\", \"2021-01-07T13:00:00\", \"2021-01-07T14:00:00\", \"2021-01-07T15:00:00\", \"2021-01-07T16:00:00\", \"2021-01-07T17:00:00\", \"2021-01-07T18:00:00\", \"2021-01-07T19:00:00\", \"2021-01-07T20:00:00\", \"2021-01-08T06:00:00\", \"2021-01-08T08:00:00\", \"2021-01-08T09:00:00\", \"2021-01-08T10:00:00\", \"2021-01-08T11:00:00\", \"2021-01-08T12:00:00\", \"2021-01-08T13:00:00\", \"2021-01-08T14:00:00\", \"2021-01-08T15:00:00\", \"2021-01-08T16:00:00\", \"2021-01-08T17:00:00\", \"2021-01-08T18:00:00\", \"2021-01-08T19:00:00\", \"2021-01-08T20:00:00\", \"2021-01-11T05:00:00\", \"2021-01-11T06:00:00\", \"2021-01-11T07:00:00\", \"2021-01-11T08:00:00\", \"2021-01-11T09:00:00\", \"2021-01-11T10:00:00\", \"2021-01-11T11:00:00\", \"2021-01-11T12:00:00\", \"2021-01-11T13:00:00\", \"2021-01-11T14:00:00\", \"2021-01-11T15:00:00\", \"2021-01-11T16:00:00\", \"2021-01-11T17:00:00\", \"2021-01-11T18:00:00\", \"2021-01-11T19:00:00\", \"2021-01-11T20:00:00\", \"2021-01-12T05:00:00\", \"2021-01-12T06:00:00\", \"2021-01-12T07:00:00\", \"2021-01-12T08:00:00\", \"2021-01-12T09:00:00\", \"2021-01-12T10:00:00\", \"2021-01-12T11:00:00\", \"2021-01-12T12:00:00\", \"2021-01-12T13:00:00\", \"2021-01-12T14:00:00\", \"2021-01-12T15:00:00\", \"2021-01-12T16:00:00\", \"2021-01-12T17:00:00\", \"2021-01-12T18:00:00\", \"2021-01-12T19:00:00\", \"2021-01-12T20:00:00\", \"2021-01-13T05:00:00\", \"2021-01-13T07:00:00\", \"2021-01-13T08:00:00\", \"2021-01-13T09:00:00\", \"2021-01-13T10:00:00\", \"2021-01-13T11:00:00\", \"2021-01-13T12:00:00\", \"2021-01-13T13:00:00\", \"2021-01-13T14:00:00\", \"2021-01-13T15:00:00\", \"2021-01-13T16:00:00\", \"2021-01-13T17:00:00\", \"2021-01-13T18:00:00\", \"2021-01-13T19:00:00\", \"2021-01-13T20:00:00\", \"2021-01-14T05:00:00\", \"2021-01-14T06:00:00\", \"2021-01-14T07:00:00\", \"2021-01-14T08:00:00\", \"2021-01-14T09:00:00\", \"2021-01-14T10:00:00\", \"2021-01-14T11:00:00\", \"2021-01-14T12:00:00\", \"2021-01-14T13:00:00\", \"2021-01-14T14:00:00\", \"2021-01-14T15:00:00\", \"2021-01-14T16:00:00\", \"2021-01-14T17:00:00\", \"2021-01-14T18:00:00\", \"2021-01-14T19:00:00\", \"2021-01-14T20:00:00\", \"2021-01-15T05:00:00\", \"2021-01-15T06:00:00\", \"2021-01-15T07:00:00\", \"2021-01-15T08:00:00\", \"2021-01-15T09:00:00\", \"2021-01-15T10:00:00\", \"2021-01-15T11:00:00\", \"2021-01-15T12:00:00\", \"2021-01-15T13:00:00\", \"2021-01-15T14:00:00\", \"2021-01-15T15:00:00\", \"2021-01-15T16:00:00\", \"2021-01-15T17:00:00\", \"2021-01-15T18:00:00\", \"2021-01-15T19:00:00\", \"2021-01-15T20:00:00\", \"2021-01-19T05:00:00\", \"2021-01-19T06:00:00\", \"2021-01-19T07:00:00\", \"2021-01-19T08:00:00\", \"2021-01-19T09:00:00\", \"2021-01-19T10:00:00\", \"2021-01-19T11:00:00\", \"2021-01-19T12:00:00\", \"2021-01-19T13:00:00\", \"2021-01-19T14:00:00\", \"2021-01-19T15:00:00\", \"2021-01-19T16:00:00\", \"2021-01-19T17:00:00\", \"2021-01-19T18:00:00\", \"2021-01-19T19:00:00\", \"2021-01-19T20:00:00\", \"2021-01-20T05:00:00\", \"2021-01-20T06:00:00\", \"2021-01-20T07:00:00\", \"2021-01-20T08:00:00\", \"2021-01-20T09:00:00\", \"2021-01-20T10:00:00\", \"2021-01-20T11:00:00\", \"2021-01-20T12:00:00\", \"2021-01-20T13:00:00\", \"2021-01-20T14:00:00\", \"2021-01-20T15:00:00\", \"2021-01-20T16:00:00\", \"2021-01-20T17:00:00\", \"2021-01-20T18:00:00\", \"2021-01-20T19:00:00\", \"2021-01-20T20:00:00\", \"2021-01-21T05:00:00\", \"2021-01-21T07:00:00\", \"2021-01-21T08:00:00\", \"2021-01-21T09:00:00\", \"2021-01-21T10:00:00\", \"2021-01-21T11:00:00\", \"2021-01-21T12:00:00\", \"2021-01-21T13:00:00\", \"2021-01-21T14:00:00\", \"2021-01-21T15:00:00\", \"2021-01-21T16:00:00\", \"2021-01-21T17:00:00\", \"2021-01-21T18:00:00\", \"2021-01-21T19:00:00\", \"2021-01-21T20:00:00\", \"2021-01-22T05:00:00\", \"2021-01-22T06:00:00\", \"2021-01-22T07:00:00\", \"2021-01-22T08:00:00\", \"2021-01-22T09:00:00\", \"2021-01-22T10:00:00\", \"2021-01-22T11:00:00\", \"2021-01-22T12:00:00\", \"2021-01-22T13:00:00\", \"2021-01-22T14:00:00\", \"2021-01-22T15:00:00\", \"2021-01-22T16:00:00\", \"2021-01-22T17:00:00\", \"2021-01-22T18:00:00\", \"2021-01-22T19:00:00\", \"2021-01-22T20:00:00\", \"2021-01-25T05:00:00\", \"2021-01-25T06:00:00\", \"2021-01-25T07:00:00\", \"2021-01-25T08:00:00\", \"2021-01-25T09:00:00\", \"2021-01-25T10:00:00\", \"2021-01-25T11:00:00\", \"2021-01-25T12:00:00\", \"2021-01-25T13:00:00\", \"2021-01-25T14:00:00\", \"2021-01-25T15:00:00\", \"2021-01-25T16:00:00\", \"2021-01-25T17:00:00\", \"2021-01-25T18:00:00\", \"2021-01-25T19:00:00\", \"2021-01-25T20:00:00\", \"2021-01-26T05:00:00\", \"2021-01-26T06:00:00\", \"2021-01-26T07:00:00\", \"2021-01-26T08:00:00\", \"2021-01-26T09:00:00\", \"2021-01-26T10:00:00\", \"2021-01-26T11:00:00\", \"2021-01-26T12:00:00\", \"2021-01-26T13:00:00\", \"2021-01-26T14:00:00\", \"2021-01-26T15:00:00\", \"2021-01-26T16:00:00\", \"2021-01-26T17:00:00\", \"2021-01-26T18:00:00\", \"2021-01-26T19:00:00\", \"2021-01-26T20:00:00\", \"2021-01-27T05:00:00\", \"2021-01-27T06:00:00\", \"2021-01-27T07:00:00\", \"2021-01-27T08:00:00\", \"2021-01-27T09:00:00\", \"2021-01-27T10:00:00\", \"2021-01-27T11:00:00\", \"2021-01-27T12:00:00\", \"2021-01-27T13:00:00\", \"2021-01-27T14:00:00\", \"2021-01-27T15:00:00\", \"2021-01-27T16:00:00\", \"2021-01-27T17:00:00\", \"2021-01-27T18:00:00\", \"2021-01-27T19:00:00\", \"2021-01-27T20:00:00\", \"2021-01-28T05:00:00\", \"2021-01-28T06:00:00\", \"2021-01-28T07:00:00\", \"2021-01-28T08:00:00\", \"2021-01-28T09:00:00\", \"2021-01-28T10:00:00\", \"2021-01-28T11:00:00\", \"2021-01-28T12:00:00\", \"2021-01-28T13:00:00\", \"2021-01-28T14:00:00\", \"2021-01-28T15:00:00\", \"2021-01-28T16:00:00\", \"2021-01-28T17:00:00\", \"2021-01-28T18:00:00\", \"2021-01-28T19:00:00\", \"2021-01-28T20:00:00\", \"2021-01-29T05:00:00\", \"2021-01-29T06:00:00\", \"2021-01-29T07:00:00\", \"2021-01-29T08:00:00\", \"2021-01-29T09:00:00\", \"2021-01-29T10:00:00\", \"2021-01-29T11:00:00\", \"2021-01-29T12:00:00\", \"2021-01-29T13:00:00\", \"2021-01-29T14:00:00\", \"2021-01-29T15:00:00\", \"2021-01-29T16:00:00\", \"2021-01-29T17:00:00\", \"2021-01-29T18:00:00\", \"2021-01-29T19:00:00\", \"2021-01-29T20:00:00\", \"2021-02-01T05:00:00\", \"2021-02-01T06:00:00\", \"2021-02-01T07:00:00\", \"2021-02-01T08:00:00\", \"2021-02-01T09:00:00\", \"2021-02-01T10:00:00\", \"2021-02-01T11:00:00\", \"2021-02-01T12:00:00\", \"2021-02-01T13:00:00\", \"2021-02-01T14:00:00\", \"2021-02-01T15:00:00\", \"2021-02-01T16:00:00\", \"2021-02-01T17:00:00\", \"2021-02-01T18:00:00\", \"2021-02-01T19:00:00\", \"2021-02-01T20:00:00\", \"2021-02-02T05:00:00\", \"2021-02-02T06:00:00\", \"2021-02-02T07:00:00\", \"2021-02-02T08:00:00\", \"2021-02-02T09:00:00\", \"2021-02-02T10:00:00\", \"2021-02-02T11:00:00\", \"2021-02-02T12:00:00\", \"2021-02-02T13:00:00\", \"2021-02-02T14:00:00\", \"2021-02-02T15:00:00\", \"2021-02-02T16:00:00\", \"2021-02-02T17:00:00\", \"2021-02-02T18:00:00\", \"2021-02-02T19:00:00\", \"2021-02-02T20:00:00\", \"2021-02-03T05:00:00\", \"2021-02-03T06:00:00\", \"2021-02-03T07:00:00\", \"2021-02-03T08:00:00\", \"2021-02-03T09:00:00\", \"2021-02-03T10:00:00\", \"2021-02-03T11:00:00\", \"2021-02-03T12:00:00\", \"2021-02-03T13:00:00\", \"2021-02-03T14:00:00\", \"2021-02-03T15:00:00\", \"2021-02-03T16:00:00\", \"2021-02-03T17:00:00\", \"2021-02-03T18:00:00\", \"2021-02-03T19:00:00\", \"2021-02-03T20:00:00\", \"2021-02-04T05:00:00\", \"2021-02-04T06:00:00\", \"2021-02-04T07:00:00\", \"2021-02-04T08:00:00\", \"2021-02-04T09:00:00\", \"2021-02-04T10:00:00\", \"2021-02-04T11:00:00\", \"2021-02-04T12:00:00\", \"2021-02-04T13:00:00\", \"2021-02-04T14:00:00\", \"2021-02-04T15:00:00\", \"2021-02-04T16:00:00\", \"2021-02-04T17:00:00\", \"2021-02-04T18:00:00\", \"2021-02-04T19:00:00\", \"2021-02-04T20:00:00\", \"2021-02-05T05:00:00\", \"2021-02-05T06:00:00\", \"2021-02-05T07:00:00\", \"2021-02-05T08:00:00\", \"2021-02-05T09:00:00\", \"2021-02-05T10:00:00\", \"2021-02-05T11:00:00\", \"2021-02-05T12:00:00\", \"2021-02-05T13:00:00\", \"2021-02-05T14:00:00\", \"2021-02-05T15:00:00\", \"2021-02-05T16:00:00\", \"2021-02-05T17:00:00\", \"2021-02-05T18:00:00\", \"2021-02-05T19:00:00\", \"2021-02-05T20:00:00\", \"2021-02-08T05:00:00\", \"2021-02-08T06:00:00\", \"2021-02-08T07:00:00\", \"2021-02-08T08:00:00\", \"2021-02-08T09:00:00\", \"2021-02-08T10:00:00\", \"2021-02-08T11:00:00\", \"2021-02-08T12:00:00\", \"2021-02-08T13:00:00\", \"2021-02-08T14:00:00\", \"2021-02-08T15:00:00\", \"2021-02-08T16:00:00\", \"2021-02-08T17:00:00\", \"2021-02-08T18:00:00\", \"2021-02-08T19:00:00\", \"2021-02-08T20:00:00\", \"2021-02-09T05:00:00\", \"2021-02-09T06:00:00\", \"2021-02-09T07:00:00\", \"2021-02-09T08:00:00\", \"2021-02-09T09:00:00\", \"2021-02-09T10:00:00\", \"2021-02-09T11:00:00\", \"2021-02-09T12:00:00\", \"2021-02-09T13:00:00\", \"2021-02-09T14:00:00\", \"2021-02-09T15:00:00\", \"2021-02-09T16:00:00\", \"2021-02-09T17:00:00\", \"2021-02-09T18:00:00\", \"2021-02-09T19:00:00\", \"2021-02-09T20:00:00\", \"2021-02-10T05:00:00\", \"2021-02-10T06:00:00\", \"2021-02-10T07:00:00\", \"2021-02-10T08:00:00\", \"2021-02-10T09:00:00\", \"2021-02-10T10:00:00\", \"2021-02-10T11:00:00\", \"2021-02-10T12:00:00\", \"2021-02-10T13:00:00\", \"2021-02-10T14:00:00\", \"2021-02-10T15:00:00\", \"2021-02-10T16:00:00\", \"2021-02-10T17:00:00\", \"2021-02-10T18:00:00\", \"2021-02-10T19:00:00\", \"2021-02-10T20:00:00\", \"2021-02-11T05:00:00\", \"2021-02-11T06:00:00\", \"2021-02-11T07:00:00\", \"2021-02-11T08:00:00\", \"2021-02-11T09:00:00\", \"2021-02-11T10:00:00\", \"2021-02-11T11:00:00\", \"2021-02-11T12:00:00\", \"2021-02-11T13:00:00\", \"2021-02-11T14:00:00\", \"2021-02-11T15:00:00\", \"2021-02-11T16:00:00\", \"2021-02-11T17:00:00\", \"2021-02-11T18:00:00\", \"2021-02-11T19:00:00\", \"2021-02-11T20:00:00\", \"2021-02-12T05:00:00\", \"2021-02-12T06:00:00\", \"2021-02-12T07:00:00\", \"2021-02-12T08:00:00\", \"2021-02-12T09:00:00\", \"2021-02-12T10:00:00\", \"2021-02-12T11:00:00\", \"2021-02-12T12:00:00\", \"2021-02-12T13:00:00\", \"2021-02-12T14:00:00\", \"2021-02-12T15:00:00\", \"2021-02-12T16:00:00\", \"2021-02-12T17:00:00\", \"2021-02-12T18:00:00\", \"2021-02-12T19:00:00\", \"2021-02-12T20:00:00\"], \"xaxis\": \"x\", \"y\": [0.0, 0.0, 0.0015368852459016976, -0.01127049180327863, -0.002061855670103049, 0.005684754521963794, -0.020061728395061755, 0.01733193277310934, 0.018063923263173555, -0.013684744044602107, -0.02415210688591996, -0.008956796628029595, -0.001603806651018081, 0.015957446808510675, 0.003723404255319164, -0.0036939313984169016, 0.015706806282722363, -0.0036045314109165952, -0.012987012987012988, -0.005976722239698058, -0.08144438587243007, 0.005451936872309834, 0.0027084818246614073, 0.00483366505544503, -0.005315595810925439, -0.009954493742889486, -0.00976450315910406, 0.006956521739130492, -0.004006868918145409, 0.0, -0.007428571428571372, 0.0, 0.0, -0.022598870056497095, -0.010416606385379697, 0.03448275862068965, -0.011824324324324372, -0.0002847380410022213, 0.004555808656036552, -0.009643261608154078, -0.012750142938822127, 0.006085192697768788, 0.0063327576280943826, 0.0005720823798625864, 0.00517241379310344, 0.00285225328009111, -0.011993146773272463, 0.0, 0.005148741418764294, 0.007931357290129247, 0.0037058152793615325, 0.04515762567452418, 0.01521739130434789, 0.00558886509635984, 0.0021304926764315686, -0.0318640467339351, 0.009330406147091203, -0.0010917030567685357, 0.0273224043715847, -0.015425531914893572, 0.012447211694639993, 0.00263435194942048, -0.00419287211740033, 0.008492569002123149, 0.007957559681697536, 0.022133825079030448, -0.02835051546391738, -0.0169491525423729, 0.0002692514808830913, -0.010561542641623173, -0.005366395262768381, -0.008752735229759306, 0.009413716814159362, -5.479422030551446e-06, 0.0, 0.0010881392818280508, 0.0, 0.01046831955922872, 0.012707182320441815, -0.03957423580786034, -6.829357129853146e-05, 0.0, 0.017938496583143584, -0.015109121432568526, 0.014842353208275282, -0.011185019564002183, 0.011871113623515957, 0.0, 0.006159014557670741, -0.008403361344537934, -0.0211428571428572, 0.0, 0.0, 0.22914285714285723, -0.10739191073919117, 0.07781282860147216, -0.05664062500000001, 0.002329192546583755, 0.012654958677686002, 0.039285714285714264, -0.025895925380461454, 0.004536290322580638, -0.0005015045135407003, 0.0015060240963854208, 0.005513784461152854, 0.00199401794616165, -0.004975124378109523, -0.013806706114398477, -0.0009876543209876333, -0.004975124378109523, -0.013330105385896178, -0.019990004997501355, 0.030357142857142798, -0.007925742574257422, 0.004551806747853716, -0.012673956262425574, -0.0033937562940583705, 0.0075795856493179456, 0.002506265664160437, -0.004967709885742567, 0.004995000000000083, 0.007499999999999929, 0.0, 0.0, 0.010945273631840738, 0.006918552684210802, 0.12524557956777999, 0.24928041866550377, 0.10897272451021832, 0.08062651771175532, -0.02245552639253415, -0.013148065142686531, -0.04813805631244323, -0.0047707310237644525, 0.020395156150414408, 0.009962640099626411, 0.009541397353031552, 0.12037037037037042, -0.041788661165823804, 0.0002778549597109755, 0.019444444444444525, 0.015351108691183203, -0.03857992180595949, 0.001808873720136547, 0.04742970746946895, 0.030226379286972988, 0.025026343519494093, 0.007438758496857744, 0.01588788138677303, -0.009249999999999935, 0.07054361567635921, -0.010849056603773605, 0.002386634844868769, -0.009478672985782125, -0.039426523297491, 0.005925925925925975, -0.057079862812346845, -0.0051948051948052685, -0.023050395799043832, -0.020436550395891366, -0.0656834630615868, 0.04490248420929806, 0.004611461338859881, 0.052792442345095815, -0.06309398099260825, -0.007028089887640436, 0.0014204545454544646, 0.002793296089385515, 0.0027855153203343017, 0.048717948717948684, 0.011773362766740172, -0.018491484184914794, -0.05234567901234562, 0.06513809275664408, -0.002746634026927819, -0.0733742331288344, 0.04842815559671875, 0.06283118849356535, -0.0259222688825706, -0.016324576743095474, -0.018645974858857446, -0.013216463414634214, 0.0012873326467558485, -0.003856041131105362, -0.002583979328165411, -0.017402597402597447, -0.009198423127463714, 0.005305039787798295, 0.013185654008438817, 0.005843293492695853, -0.0008563899868249266, -0.02923360547800894, 0.06755290287574613, -0.01552953156822809, 0.01654976057978522, 0.008020369191597833, -0.012121212121212222, -0.005383235067931322, -0.003347064881565462, 0.0018027298480556345, 0.004114168166623723, 0.0, -0.0012836970474969002, -0.004903225806451555, 0.011670527443508565, -0.014084507042253449, 0.03525058426382762, 0.06079002935054712, -0.06146572104018899, 0.06584195910123716, -0.03980227881244185, 0.06143597335307185, -0.0011619800139438593, 0.016117729502452643, 0.03394077448747157, 0.0008828073273007978, 0.009852216748768582, -0.0168514412416851, -0.008042895442359237, 0.00981923677750497, -0.00842581175503498, 0.04050690201403031, 0.03673624701021951, 0.09463795164300555, 0.34674329501915696, -0.21702493428997666, 0.07608804356720095, 0.09571682014023809, 0.03999999999999991, -0.05481481481481486, -0.004687499999999956, -0.04088050314465411, 0.4536551724137931, -0.09365926758452749, -0.025791808521613533, -0.02995342929720574, 0.0691309562752154, -0.08655167150053422, 0.30534649049450846, -0.14956863415050817, -0.30573057305730567, 0.1075021645021645, 0.004907072317978349, -0.0055058945459256015, 0.022537508238916818, 0.04235234085980346, 0.014320156651572697, 0.07201447527141132, 0.044444444444444446, -0.06047745358090189, -0.0056179775280898875, 0.02947463156710546, -0.025867714472822576, -0.016067415730337157, 0.00040079931487296496, 0.0020531842045193936, 0.20380452757027992, 0.08770178998553842, 0.1539659950041049, 0.10838757002170979, 0.5352257181942545, -0.07328584149599292, 0.08121095627102358, -0.06884444444444449, 0.21296521527608855, 0.17195325542570952, -0.437636761487965, 0.15288220551378445, 0.006521739130434782, 0.3441055591607181, 0.19818252126836813, -0.15779860014763647, 0.0945651130801958, -0.042372362008405565, -0.01984052504063547, 0.0848715449199711, -0.058271704411383844, -0.022941104594330373, -0.22006269592476485, 0.17273786095827137, 0.07613234821715383, 0.3689171745069196, -0.024978089395267262, 0.026822666159593767, -0.2570806100217865, 0.3749596454670853, -0.43707889125799576, -0.034862641509433925, -0.06376967850306652, 0.0024196182481548787, 0.01954993286735783, -0.19784151763314492, 0.3016612641815235, 0.09669260700389114, 0.2378625191738309, -0.10089337175792505, 0.18316666666666667, -0.07369047619047617, 0.025999999999999978, -0.12281012658227845, 0.04529345665139605, -0.12572656400650117, 0.05322695936190732, 0.013604592849997847, -0.03105152933298269, -0.15850507530517963, 0.027580358760644984, 0.15256855928930083, -0.017242957853938517, -0.050573999379460166, 0.03139394335369643, -0.012626582278481041, -0.022746419545071672, -0.02881844380403458, -0.029053254437869803, -0.012430517378290859, -0.028134556574923513, -0.1501419578218444, -0.12077777777777783, 0.09471016788089952, -0.04247104247104247, 0.006198585767763713, -0.039268800000000055, -0.054598400063970785, -0.07943759425175195, -0.14406616657049437, 0.054775280898876406, 0.01537637289043667, -0.024529378208785004, 0.01630751310425167, -0.08919027642089525, -0.12348331648129436, -0.08273381294964029, -0.09803921568627451, -0.20357356107937977, 0.2611164366789978, 0.07178555202180832, -0.11772820871752736, -0.03571521649110369, -0.09399626061903078, -0.021815777875716216, 0.03580274712902507, -0.021739130434782608, -0.0533333333333333, 0.11323886122813742, 0.0990269032627362, -0.05046728971962616, -0.013719679508286687, 0.03930082386996216, -0.005460385438972217, 0.06593167445505418, -0.05552846488797087, 0.06351063829787233, 0.07823370110330986, -0.08475843379123453, -0.06088052239567401, -0.01809905711498864, 0.005794249480704068, -0.025027203482045825, -0.004703247480403155, 0.013759479956663013, 0.033653846153846215, -0.018570102135561862, -0.010781953313095375, -0.000736842105263086, -0.12221052631578946, -0.14265129682997113, -0.038013693345920314, -0.06490553088530795, -0.06976444924720804, -0.03224198105368132, -0.08332632092337125, -0.005984664297737054, -0.05491818694752683, 0.0017960486928757415, -0.020517928286852612, 0.13775700934579435, -0.02529981928700508, -0.0129368279569893, 0.018793103448275922, -0.032662040954476335, 0.4470279720279719, -0.1443941041440135, -0.09082693942329136, -0.01155646804473285, -0.042961610209246284, -0.00294918032786891, 0.04816866677626176, 0.010436137071651117, 0.07467532467532464, -0.033927544565842425, -0.011011904761904896, 0.01321585903083709, 0.026011560693641578, 0.007189173949816819, -0.014468085106382922, 0.002305807753278521, -0.07192075796726947, -0.05974307382758086, -0.018026174993826635, 0.008766118875079039, -0.008108063175394791, -0.014743632707774786, 0.01834069293478252, -0.006833333333333276, 0.001680672268907587, 0.003188454438664167, -0.004850309416290335, -0.04682274247491634, 0.007957559681697663, 0.0005284481240090546, -0.022887323943661924, 0.0005293806246691572, -0.05414462081128748, -0.08488805970149262, -0.013256759503964165, 0.004118252987227019, 0.005344568309877957, 0.041039470157483715, -0.012363125344701348, 0.053484602917341986, -0.010576923076923022, -0.02502910360884748, -0.005174129353233792, 0.007000000000000029, -0.03578528827037768, 0.0, 0.04794099569760287, 0.030101010101010142, -0.00999999999999996, -0.01445349396731466, 0.05912809945682638, 0.06012156899990493, 0.00796064400715564, -0.054450754214729384, -0.036151383920165724, -0.03435487019324611, 0.014756418031130059, -0.004183266932270933, -0.0009990009990010179, 0.003637098403717917, 0.02, -0.005329648637978603, -0.002384737678855275, 0.005197989604020685, 0.040761411201913525, -0.037310569729522354, -0.02133472562379061, -0.00427785699735182, -0.0085156289837337, 0.0003346335454732312, 0.04538919696036149, -0.009288537549407092, -0.013157894736842039, 0.02134146341463409, 0.00019892580067630813, 0.00790513833992092, -0.003976933784052411, -0.0005982053838484773, 0.013842198932173281, 0.003944773175542322, 0.003283292786645383, 0.05946253197334762, -0.025046676624346592, 0.0037523056046585316, -0.016562948779320286, -0.0004284323271664745, 0.019283209972730714, -0.009541984732824428, -0.003658067000385016, 0.01721137110810289, 0.015940080660649093], \"yaxis\": \"y\"}],                        {\"barmode\": \"relative\", \"legend\": {\"tracegroupgap\": 0}, \"template\": {\"data\": {\"bar\": [{\"error_x\": {\"color\": \"#2a3f5f\"}, \"error_y\": {\"color\": \"#2a3f5f\"}, \"marker\": {\"line\": {\"color\": \"#E5ECF6\", \"width\": 0.5}}, \"type\": \"bar\"}], \"barpolar\": [{\"marker\": {\"line\": {\"color\": \"#E5ECF6\", \"width\": 0.5}}, \"type\": \"barpolar\"}], \"carpet\": [{\"aaxis\": {\"endlinecolor\": \"#2a3f5f\", \"gridcolor\": \"white\", \"linecolor\": \"white\", \"minorgridcolor\": \"white\", \"startlinecolor\": \"#2a3f5f\"}, \"baxis\": {\"endlinecolor\": \"#2a3f5f\", \"gridcolor\": \"white\", \"linecolor\": \"white\", \"minorgridcolor\": \"white\", \"startlinecolor\": \"#2a3f5f\"}, \"type\": \"carpet\"}], \"choropleth\": [{\"colorbar\": {\"outlinewidth\": 0, \"ticks\": \"\"}, \"type\": \"choropleth\"}], \"contour\": [{\"colorbar\": {\"outlinewidth\": 0, \"ticks\": \"\"}, \"colorscale\": [[0.0, \"#0d0887\"], [0.1111111111111111, \"#46039f\"], [0.2222222222222222, \"#7201a8\"], [0.3333333333333333, \"#9c179e\"], [0.4444444444444444, \"#bd3786\"], [0.5555555555555556, \"#d8576b\"], [0.6666666666666666, \"#ed7953\"], [0.7777777777777778, \"#fb9f3a\"], [0.8888888888888888, \"#fdca26\"], [1.0, \"#f0f921\"]], \"type\": \"contour\"}], \"contourcarpet\": [{\"colorbar\": {\"outlinewidth\": 0, \"ticks\": \"\"}, \"type\": \"contourcarpet\"}], \"heatmap\": [{\"colorbar\": {\"outlinewidth\": 0, \"ticks\": \"\"}, \"colorscale\": [[0.0, \"#0d0887\"], [0.1111111111111111, \"#46039f\"], [0.2222222222222222, \"#7201a8\"], [0.3333333333333333, \"#9c179e\"], [0.4444444444444444, \"#bd3786\"], [0.5555555555555556, \"#d8576b\"], [0.6666666666666666, \"#ed7953\"], [0.7777777777777778, \"#fb9f3a\"], [0.8888888888888888, \"#fdca26\"], [1.0, \"#f0f921\"]], \"type\": \"heatmap\"}], \"heatmapgl\": [{\"colorbar\": {\"outlinewidth\": 0, \"ticks\": \"\"}, \"colorscale\": [[0.0, \"#0d0887\"], [0.1111111111111111, \"#46039f\"], [0.2222222222222222, \"#7201a8\"], [0.3333333333333333, \"#9c179e\"], [0.4444444444444444, \"#bd3786\"], [0.5555555555555556, \"#d8576b\"], [0.6666666666666666, \"#ed7953\"], [0.7777777777777778, \"#fb9f3a\"], [0.8888888888888888, \"#fdca26\"], [1.0, \"#f0f921\"]], \"type\": \"heatmapgl\"}], \"histogram\": [{\"marker\": {\"colorbar\": {\"outlinewidth\": 0, \"ticks\": \"\"}}, \"type\": \"histogram\"}], \"histogram2d\": [{\"colorbar\": {\"outlinewidth\": 0, \"ticks\": \"\"}, \"colorscale\": [[0.0, \"#0d0887\"], [0.1111111111111111, \"#46039f\"], [0.2222222222222222, \"#7201a8\"], [0.3333333333333333, \"#9c179e\"], [0.4444444444444444, \"#bd3786\"], [0.5555555555555556, \"#d8576b\"], [0.6666666666666666, \"#ed7953\"], [0.7777777777777778, \"#fb9f3a\"], [0.8888888888888888, \"#fdca26\"], [1.0, \"#f0f921\"]], \"type\": \"histogram2d\"}], \"histogram2dcontour\": [{\"colorbar\": {\"outlinewidth\": 0, \"ticks\": \"\"}, \"colorscale\": [[0.0, \"#0d0887\"], [0.1111111111111111, \"#46039f\"], [0.2222222222222222, \"#7201a8\"], [0.3333333333333333, \"#9c179e\"], [0.4444444444444444, \"#bd3786\"], [0.5555555555555556, \"#d8576b\"], [0.6666666666666666, \"#ed7953\"], [0.7777777777777778, \"#fb9f3a\"], [0.8888888888888888, \"#fdca26\"], [1.0, \"#f0f921\"]], \"type\": \"histogram2dcontour\"}], \"mesh3d\": [{\"colorbar\": {\"outlinewidth\": 0, \"ticks\": \"\"}, \"type\": \"mesh3d\"}], \"parcoords\": [{\"line\": {\"colorbar\": {\"outlinewidth\": 0, \"ticks\": \"\"}}, \"type\": \"parcoords\"}], \"pie\": [{\"automargin\": true, \"type\": \"pie\"}], \"scatter\": [{\"marker\": {\"colorbar\": {\"outlinewidth\": 0, \"ticks\": \"\"}}, \"type\": \"scatter\"}], \"scatter3d\": [{\"line\": {\"colorbar\": {\"outlinewidth\": 0, \"ticks\": \"\"}}, \"marker\": {\"colorbar\": {\"outlinewidth\": 0, \"ticks\": \"\"}}, \"type\": \"scatter3d\"}], \"scattercarpet\": [{\"marker\": {\"colorbar\": {\"outlinewidth\": 0, \"ticks\": \"\"}}, \"type\": \"scattercarpet\"}], \"scattergeo\": [{\"marker\": {\"colorbar\": {\"outlinewidth\": 0, \"ticks\": \"\"}}, \"type\": \"scattergeo\"}], \"scattergl\": [{\"marker\": {\"colorbar\": {\"outlinewidth\": 0, \"ticks\": \"\"}}, \"type\": \"scattergl\"}], \"scattermapbox\": [{\"marker\": {\"colorbar\": {\"outlinewidth\": 0, \"ticks\": \"\"}}, \"type\": \"scattermapbox\"}], \"scatterpolar\": [{\"marker\": {\"colorbar\": {\"outlinewidth\": 0, \"ticks\": \"\"}}, \"type\": \"scatterpolar\"}], \"scatterpolargl\": [{\"marker\": {\"colorbar\": {\"outlinewidth\": 0, \"ticks\": \"\"}}, \"type\": \"scatterpolargl\"}], \"scatterternary\": [{\"marker\": {\"colorbar\": {\"outlinewidth\": 0, \"ticks\": \"\"}}, \"type\": \"scatterternary\"}], \"surface\": [{\"colorbar\": {\"outlinewidth\": 0, \"ticks\": \"\"}, \"colorscale\": [[0.0, \"#0d0887\"], [0.1111111111111111, \"#46039f\"], [0.2222222222222222, \"#7201a8\"], [0.3333333333333333, \"#9c179e\"], [0.4444444444444444, \"#bd3786\"], [0.5555555555555556, \"#d8576b\"], [0.6666666666666666, \"#ed7953\"], [0.7777777777777778, \"#fb9f3a\"], [0.8888888888888888, \"#fdca26\"], [1.0, \"#f0f921\"]], \"type\": \"surface\"}], \"table\": [{\"cells\": {\"fill\": {\"color\": \"#EBF0F8\"}, \"line\": {\"color\": \"white\"}}, \"header\": {\"fill\": {\"color\": \"#C8D4E3\"}, \"line\": {\"color\": \"white\"}}, \"type\": \"table\"}]}, \"layout\": {\"annotationdefaults\": {\"arrowcolor\": \"#2a3f5f\", \"arrowhead\": 0, \"arrowwidth\": 1}, \"autotypenumbers\": \"strict\", \"coloraxis\": {\"colorbar\": {\"outlinewidth\": 0, \"ticks\": \"\"}}, \"colorscale\": {\"diverging\": [[0, \"#8e0152\"], [0.1, \"#c51b7d\"], [0.2, \"#de77ae\"], [0.3, \"#f1b6da\"], [0.4, \"#fde0ef\"], [0.5, \"#f7f7f7\"], [0.6, \"#e6f5d0\"], [0.7, \"#b8e186\"], [0.8, \"#7fbc41\"], [0.9, \"#4d9221\"], [1, \"#276419\"]], \"sequential\": [[0.0, \"#0d0887\"], [0.1111111111111111, \"#46039f\"], [0.2222222222222222, \"#7201a8\"], [0.3333333333333333, \"#9c179e\"], [0.4444444444444444, \"#bd3786\"], [0.5555555555555556, \"#d8576b\"], [0.6666666666666666, \"#ed7953\"], [0.7777777777777778, \"#fb9f3a\"], [0.8888888888888888, \"#fdca26\"], [1.0, \"#f0f921\"]], \"sequentialminus\": [[0.0, \"#0d0887\"], [0.1111111111111111, \"#46039f\"], [0.2222222222222222, \"#7201a8\"], [0.3333333333333333, \"#9c179e\"], [0.4444444444444444, \"#bd3786\"], [0.5555555555555556, \"#d8576b\"], [0.6666666666666666, \"#ed7953\"], [0.7777777777777778, \"#fb9f3a\"], [0.8888888888888888, \"#fdca26\"], [1.0, \"#f0f921\"]]}, \"colorway\": [\"#636efa\", \"#EF553B\", \"#00cc96\", \"#ab63fa\", \"#FFA15A\", \"#19d3f3\", \"#FF6692\", \"#B6E880\", \"#FF97FF\", \"#FECB52\"], \"font\": {\"color\": \"#2a3f5f\"}, \"geo\": {\"bgcolor\": \"white\", \"lakecolor\": \"white\", \"landcolor\": \"#E5ECF6\", \"showlakes\": true, \"showland\": true, \"subunitcolor\": \"white\"}, \"hoverlabel\": {\"align\": \"left\"}, \"hovermode\": \"closest\", \"mapbox\": {\"style\": \"light\"}, \"paper_bgcolor\": \"white\", \"plot_bgcolor\": \"#E5ECF6\", \"polar\": {\"angularaxis\": {\"gridcolor\": \"white\", \"linecolor\": \"white\", \"ticks\": \"\"}, \"bgcolor\": \"#E5ECF6\", \"radialaxis\": {\"gridcolor\": \"white\", \"linecolor\": \"white\", \"ticks\": \"\"}}, \"scene\": {\"xaxis\": {\"backgroundcolor\": \"#E5ECF6\", \"gridcolor\": \"white\", \"gridwidth\": 2, \"linecolor\": \"white\", \"showbackground\": true, \"ticks\": \"\", \"zerolinecolor\": \"white\"}, \"yaxis\": {\"backgroundcolor\": \"#E5ECF6\", \"gridcolor\": \"white\", \"gridwidth\": 2, \"linecolor\": \"white\", \"showbackground\": true, \"ticks\": \"\", \"zerolinecolor\": \"white\"}, \"zaxis\": {\"backgroundcolor\": \"#E5ECF6\", \"gridcolor\": \"white\", \"gridwidth\": 2, \"linecolor\": \"white\", \"showbackground\": true, \"ticks\": \"\", \"zerolinecolor\": \"white\"}}, \"shapedefaults\": {\"line\": {\"color\": \"#2a3f5f\"}}, \"ternary\": {\"aaxis\": {\"gridcolor\": \"white\", \"linecolor\": \"white\", \"ticks\": \"\"}, \"baxis\": {\"gridcolor\": \"white\", \"linecolor\": \"white\", \"ticks\": \"\"}, \"bgcolor\": \"#E5ECF6\", \"caxis\": {\"gridcolor\": \"white\", \"linecolor\": \"white\", \"ticks\": \"\"}}, \"title\": {\"x\": 0.05}, \"xaxis\": {\"automargin\": true, \"gridcolor\": \"white\", \"linecolor\": \"white\", \"ticks\": \"\", \"title\": {\"standoff\": 15}, \"zerolinecolor\": \"white\", \"zerolinewidth\": 2}, \"yaxis\": {\"automargin\": true, \"gridcolor\": \"white\", \"linecolor\": \"white\", \"ticks\": \"\", \"title\": {\"standoff\": 15}, \"zerolinecolor\": \"white\", \"zerolinewidth\": 2}}}, \"title\": {\"text\": \"Percent GME Change\"}, \"xaxis\": {\"anchor\": \"y\", \"domain\": [0.0, 1.0], \"title\": {\"text\": \"Date\"}}, \"yaxis\": {\"anchor\": \"x\", \"domain\": [0.0, 1.0], \"title\": {\"text\": \"percent change\"}}},                        {\"responsive\": true}                    ).then(function(){\n",
       "                            \n",
       "var gd = document.getElementById('03781248-fce7-423f-97aa-3b3bf7c354e6');\n",
       "var x = new MutationObserver(function (mutations, observer) {{\n",
       "        var display = window.getComputedStyle(gd).display;\n",
       "        if (!display || display === 'none') {{\n",
       "            console.log([gd, 'removed!']);\n",
       "            Plotly.purge(gd);\n",
       "            observer.disconnect();\n",
       "        }}\n",
       "}});\n",
       "\n",
       "// Listen for the removal of the full notebook cells\n",
       "var notebookContainer = gd.closest('#notebook-container');\n",
       "if (notebookContainer) {{\n",
       "    x.observe(notebookContainer, {childList: true});\n",
       "}}\n",
       "\n",
       "// Listen for the clearing of the current output cell\n",
       "var outputEl = gd.closest('.output');\n",
       "if (outputEl) {{\n",
       "    x.observe(outputEl, {childList: true});\n",
       "}}\n",
       "\n",
       "                        })                };                });            </script>        </div>"
      ]
     },
     "metadata": {},
     "output_type": "display_data"
    }
   ],
   "source": [
    "fig = px.bar(gmefull, x='date', y=\"percent change\", \n",
    "             title='Percent GME Change',\n",
    "             labels = {\n",
    "                 'date':'Date',\n",
    "                 'count':'Percent Change'})\n",
    "fig.show()\n",
    "fig.write_html('html/Percent GME Change.html')"
   ]
  },
  {
   "cell_type": "code",
   "execution_count": 23,
   "metadata": {},
   "outputs": [
    {
     "data": {
      "text/plain": [
       "SpearmanrResult(correlation=-0.0877017386768316, pvalue=0.6449129625582433)"
      ]
     },
     "execution_count": 23,
     "metadata": {},
     "output_type": "execute_result"
    }
   ],
   "source": [
    "s_corr = stats.spearmanr(growth_vs_hr['count'], growth_vs_hr['percent change'])\n",
    "s_corr\n"
   ]
  },
  {
   "cell_type": "code",
   "execution_count": 24,
   "metadata": {},
   "outputs": [
    {
     "data": {
      "text/plain": [
       "<matplotlib.collections.PathCollection at 0x7f11421f2590>"
      ]
     },
     "execution_count": 24,
     "metadata": {},
     "output_type": "execute_result"
    },
    {
     "data": {
      "image/png": "[encoded data removed]",
      "text/plain": [
       "<Figure size 576x576 with 1 Axes>"
      ]
     },
     "metadata": {
      "needs_background": "light"
     },
     "output_type": "display_data"
    }
   ],
   "source": [
    "fig, ax = plt.subplots(figsize=(8,8))\n",
    "ax.scatter(growth_vs_hr['count'], growth_vs_hr['percent change'])"
   ]
  },
  {
   "cell_type": "code",
   "execution_count": 65,
   "metadata": {
    "scrolled": true
   },
   "outputs": [
    {
     "name": "stderr",
     "output_type": "stream",
     "text": [
      "/home/daniel/anaconda3/lib/python3.7/site-packages/ipykernel_launcher.py:13: SettingWithCopyWarning: \n",
      "A value is trying to be set on a copy of a slice from a DataFrame.\n",
      "Try using .loc[row_indexer,col_indexer] = value instead\n",
      "\n",
      "See the caveats in the documentation: https://pandas.pydata.org/pandas-docs/stable/user_guide/indexing.html#returning-a-view-versus-a-copy\n",
      "  del sys.path[0]\n",
      "/home/daniel/anaconda3/lib/python3.7/site-packages/ipykernel_launcher.py:14: SettingWithCopyWarning: \n",
      "A value is trying to be set on a copy of a slice from a DataFrame.\n",
      "Try using .loc[row_indexer,col_indexer] = value instead\n",
      "\n",
      "See the caveats in the documentation: https://pandas.pydata.org/pandas-docs/stable/user_guide/indexing.html#returning-a-view-versus-a-copy\n",
      "  \n"
     ]
    },
    {
     "data": {
      "text/html": [
       "<div>\n",
       "<style scoped>\n",
       "    .dataframe tbody tr th:only-of-type {\n",
       "        vertical-align: middle;\n",
       "    }\n",
       "\n",
       "    .dataframe tbody tr th {\n",
       "        vertical-align: top;\n",
       "    }\n",
       "\n",
       "    .dataframe thead th {\n",
       "        text-align: right;\n",
       "    }\n",
       "</style>\n",
       "<table border=\"1\" class=\"dataframe\">\n",
       "  <thead>\n",
       "    <tr style=\"text-align: right;\">\n",
       "      <th></th>\n",
       "      <th>1. open</th>\n",
       "      <th>4. close</th>\n",
       "      <th>percent change</th>\n",
       "    </tr>\n",
       "    <tr>\n",
       "      <th>day</th>\n",
       "      <th></th>\n",
       "      <th></th>\n",
       "      <th></th>\n",
       "    </tr>\n",
       "  </thead>\n",
       "  <tbody>\n",
       "    <tr>\n",
       "      <th>2020-12-31</th>\n",
       "      <td>19.25</td>\n",
       "      <td>nan</td>\n",
       "      <td>nan</td>\n",
       "    </tr>\n",
       "    <tr>\n",
       "      <th>2021-01-04</th>\n",
       "      <td>19.0</td>\n",
       "      <td>18.84</td>\n",
       "      <td>0.008492569002123149</td>\n",
       "    </tr>\n",
       "    <tr>\n",
       "      <th>2021-01-05</th>\n",
       "      <td>17.35</td>\n",
       "      <td>17.25</td>\n",
       "      <td>0.005797101449275445</td>\n",
       "    </tr>\n",
       "    <tr>\n",
       "      <th>2021-01-06</th>\n",
       "      <td>17.34</td>\n",
       "      <td>17.37</td>\n",
       "      <td>-0.0017271157167530879</td>\n",
       "    </tr>\n",
       "    <tr>\n",
       "      <th>2021-01-07</th>\n",
       "      <td>18.47</td>\n",
       "      <td>18.36</td>\n",
       "      <td>0.005991285403050078</td>\n",
       "    </tr>\n",
       "    <tr>\n",
       "      <th>2021-01-08</th>\n",
       "      <td>18.18</td>\n",
       "      <td>18.08</td>\n",
       "      <td>0.0055309734513275125</td>\n",
       "    </tr>\n",
       "    <tr>\n",
       "      <th>2021-01-11</th>\n",
       "      <td>19.41</td>\n",
       "      <td>17.69</td>\n",
       "      <td>0.09723007348784617</td>\n",
       "    </tr>\n",
       "    <tr>\n",
       "      <th>2021-01-12</th>\n",
       "      <td>19.96</td>\n",
       "      <td>19.94</td>\n",
       "      <td>0.0010030090270812223</td>\n",
       "    </tr>\n",
       "    <tr>\n",
       "      <th>2021-01-13</th>\n",
       "      <td>20.42</td>\n",
       "      <td>19.95</td>\n",
       "      <td>0.02355889724310789</td>\n",
       "    </tr>\n",
       "    <tr>\n",
       "      <th>2021-01-14</th>\n",
       "      <td>38.09</td>\n",
       "      <td>31.4</td>\n",
       "      <td>0.2130573248407645</td>\n",
       "    </tr>\n",
       "    <tr>\n",
       "      <th>2021-01-15</th>\n",
       "      <td>38.49</td>\n",
       "      <td>39.91</td>\n",
       "      <td>-0.03558005512402893</td>\n",
       "    </tr>\n",
       "    <tr>\n",
       "      <th>2021-01-19</th>\n",
       "      <td>41.55</td>\n",
       "      <td>35.5</td>\n",
       "      <td>0.17042253521126752</td>\n",
       "    </tr>\n",
       "    <tr>\n",
       "      <th>2021-01-20</th>\n",
       "      <td>37.37</td>\n",
       "      <td>39.36</td>\n",
       "      <td>-0.050558943089430944</td>\n",
       "    </tr>\n",
       "    <tr>\n",
       "      <th>2021-01-21</th>\n",
       "      <td>39.23</td>\n",
       "      <td>39.12</td>\n",
       "      <td>0.0028118609406952823</td>\n",
       "    </tr>\n",
       "    <tr>\n",
       "      <th>2021-01-22</th>\n",
       "      <td>42.59</td>\n",
       "      <td>43.03</td>\n",
       "      <td>-0.010225424122705036</td>\n",
       "    </tr>\n",
       "    <tr>\n",
       "      <th>2021-01-25</th>\n",
       "      <td>96.73</td>\n",
       "      <td>65.01</td>\n",
       "      <td>0.4879249346254422</td>\n",
       "    </tr>\n",
       "    <tr>\n",
       "      <th>2021-01-26</th>\n",
       "      <td>88.56</td>\n",
       "      <td>76.79</td>\n",
       "      <td>0.15327516603724436</td>\n",
       "    </tr>\n",
       "    <tr>\n",
       "      <th>2021-01-27</th>\n",
       "      <td>354.83</td>\n",
       "      <td>147.98</td>\n",
       "      <td>1.3978240302743614</td>\n",
       "    </tr>\n",
       "    <tr>\n",
       "      <th>2021-01-28</th>\n",
       "      <td>265.0</td>\n",
       "      <td>347.51</td>\n",
       "      <td>-0.23743201634485336</td>\n",
       "    </tr>\n",
       "    <tr>\n",
       "      <th>2021-01-29</th>\n",
       "      <td>379.71</td>\n",
       "      <td>193.6</td>\n",
       "      <td>0.9613119834710744</td>\n",
       "    </tr>\n",
       "    <tr>\n",
       "      <th>2021-02-01</th>\n",
       "      <td>316.56</td>\n",
       "      <td>325.0</td>\n",
       "      <td>-0.025969230769230762</td>\n",
       "    </tr>\n",
       "    <tr>\n",
       "      <th>2021-02-02</th>\n",
       "      <td>140.76</td>\n",
       "      <td>225.0</td>\n",
       "      <td>-0.37440000000000007</td>\n",
       "    </tr>\n",
       "    <tr>\n",
       "      <th>2021-02-03</th>\n",
       "      <td>112.01</td>\n",
       "      <td>90.0</td>\n",
       "      <td>0.2445555555555556</td>\n",
       "    </tr>\n",
       "    <tr>\n",
       "      <th>2021-02-04</th>\n",
       "      <td>91.19</td>\n",
       "      <td>92.41</td>\n",
       "      <td>-0.013202034411860176</td>\n",
       "    </tr>\n",
       "    <tr>\n",
       "      <th>2021-02-05</th>\n",
       "      <td>54.04</td>\n",
       "      <td>53.5</td>\n",
       "      <td>0.010093457943925218</td>\n",
       "    </tr>\n",
       "    <tr>\n",
       "      <th>2021-02-08</th>\n",
       "      <td>72.41</td>\n",
       "      <td>63.77</td>\n",
       "      <td>0.13548690606868422</td>\n",
       "    </tr>\n",
       "    <tr>\n",
       "      <th>2021-02-09</th>\n",
       "      <td>56.61</td>\n",
       "      <td>60.0</td>\n",
       "      <td>-0.05650000000000001</td>\n",
       "    </tr>\n",
       "    <tr>\n",
       "      <th>2021-02-10</th>\n",
       "      <td>50.77</td>\n",
       "      <td>50.31</td>\n",
       "      <td>0.00914331146889288</td>\n",
       "    </tr>\n",
       "    <tr>\n",
       "      <th>2021-02-11</th>\n",
       "      <td>50.01</td>\n",
       "      <td>51.2</td>\n",
       "      <td>-0.023242187500000094</td>\n",
       "    </tr>\n",
       "    <tr>\n",
       "      <th>2021-02-12</th>\n",
       "      <td>50.75</td>\n",
       "      <td>51.1</td>\n",
       "      <td>-0.006849315068493178</td>\n",
       "    </tr>\n",
       "    <tr>\n",
       "      <th>2021-02-16</th>\n",
       "      <td>52.66</td>\n",
       "      <td>52.4</td>\n",
       "      <td>0.004961832061068664</td>\n",
       "    </tr>\n",
       "  </tbody>\n",
       "</table>\n",
       "</div>"
      ],
      "text/plain": [
       "           1. open 4. close          percent change\n",
       "day                                                \n",
       "2020-12-31   19.25      nan                     nan\n",
       "2021-01-04    19.0    18.84    0.008492569002123149\n",
       "2021-01-05   17.35    17.25    0.005797101449275445\n",
       "2021-01-06   17.34    17.37  -0.0017271157167530879\n",
       "2021-01-07   18.47    18.36    0.005991285403050078\n",
       "2021-01-08   18.18    18.08   0.0055309734513275125\n",
       "2021-01-11   19.41    17.69     0.09723007348784617\n",
       "2021-01-12   19.96    19.94   0.0010030090270812223\n",
       "2021-01-13   20.42    19.95     0.02355889724310789\n",
       "2021-01-14   38.09     31.4      0.2130573248407645\n",
       "2021-01-15   38.49    39.91    -0.03558005512402893\n",
       "2021-01-19   41.55     35.5     0.17042253521126752\n",
       "2021-01-20   37.37    39.36   -0.050558943089430944\n",
       "2021-01-21   39.23    39.12   0.0028118609406952823\n",
       "2021-01-22   42.59    43.03   -0.010225424122705036\n",
       "2021-01-25   96.73    65.01      0.4879249346254422\n",
       "2021-01-26   88.56    76.79     0.15327516603724436\n",
       "2021-01-27  354.83   147.98      1.3978240302743614\n",
       "2021-01-28   265.0   347.51    -0.23743201634485336\n",
       "2021-01-29  379.71    193.6      0.9613119834710744\n",
       "2021-02-01  316.56    325.0   -0.025969230769230762\n",
       "2021-02-02  140.76    225.0    -0.37440000000000007\n",
       "2021-02-03  112.01     90.0      0.2445555555555556\n",
       "2021-02-04   91.19    92.41   -0.013202034411860176\n",
       "2021-02-05   54.04     53.5    0.010093457943925218\n",
       "2021-02-08   72.41    63.77     0.13548690606868422\n",
       "2021-02-09   56.61     60.0    -0.05650000000000001\n",
       "2021-02-10   50.77    50.31     0.00914331146889288\n",
       "2021-02-11   50.01     51.2   -0.023242187500000094\n",
       "2021-02-12   50.75     51.1   -0.006849315068493178\n",
       "2021-02-16   52.66     52.4    0.004961832061068664"
      ]
     },
     "execution_count": 65,
     "metadata": {},
     "output_type": "execute_result"
    }
   ],
   "source": [
    "### I cannot reject the null hypothesis. ###\n",
    "### The amount of mentions in the morning does not gave a positive or negative impact on the closing price of a stock###\n",
    "### HO: The number of mentions in the last two hours of trading has no influence of opening prices. ###\n",
    "### H1: The number of mentions in the last two hours of trading influences the opening price next day ###\n",
    "\n",
    "last_hours = gmefull[(gmefull['time'] == '14:00:00') | ((gmefull['time'] == '16:00:00'))]\n",
    "\n",
    "last_hours = last_hours.groupby('day').sum()\n",
    "last_hours = last_hours[['count']]\n",
    "\n",
    "\n",
    "gme_daily_shifted = gme_daily[['date' , '1. open', '4. close' ]]\n",
    "gme_daily_shifted['4. close'] = gme_daily_shifted['4. close'].shift(periods = 1)\n",
    "gme_daily_shifted['percent change'] = (gme_daily_shifted['1. open'] - gme_daily_shifted['4. close']) / gme_daily_shifted['4. close']\n",
    "gme_daily_shifted = gme_daily_shifted.rename(columns = {'date':'day'}).astype(str).set_index('day')\n",
    "gme_daily_shifted\n"
   ]
  },
  {
   "cell_type": "code",
   "execution_count": 66,
   "metadata": {
    "scrolled": true
   },
   "outputs": [
    {
     "data": {
      "text/plain": [
       "SpearmanrResult(correlation=-0.0035603027138667903, pvalue=0.9851027762191317)"
      ]
     },
     "execution_count": 66,
     "metadata": {},
     "output_type": "execute_result"
    }
   ],
   "source": [
    "gme_daily_joined = last_hours.join(gme_daily_shifted, how='left')\n",
    "s_corr2 = stats.spearmanr(gme_daily_joined['count'], gme_daily_joined['percent change'])\n",
    "s_corr2\n",
    "\n",
    "### THe p-value HEAVILY states that we cannot reject the null-hypothesis ### "
   ]
  },
  {
   "cell_type": "code",
   "execution_count": null,
   "metadata": {},
   "outputs": [],
   "source": []
  }
 ],
 "metadata": {
  "kernelspec": {
   "display_name": "Python 3",
   "language": "python",
   "name": "python3"
  },
  "language_info": {
   "codemirror_mode": {
    "name": "ipython",
    "version": 3
   },
   "file_extension": ".py",
   "mimetype": "text/x-python",
   "name": "python",
   "nbconvert_exporter": "python",
   "pygments_lexer": "ipython3",
   "version": "3.7.7"
  }
 },
 "nbformat": 4,
 "nbformat_minor": 4
}
